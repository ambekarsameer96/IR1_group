{
 "cells": [
  {
   "cell_type": "markdown",
   "metadata": {
    "deletable": false,
    "editable": false,
    "nbgrader": {
     "cell_type": "markdown",
     "checksum": "1bba455de8bc2825ca70469169bbadaa",
     "grade": false,
     "grade_id": "cell-c9cd9e550239e812",
     "locked": true,
     "schema_version": 3,
     "solution": false,
     "task": false
    }
   },
   "source": [
    "# Homework 1 (Total Points: 250) <a class=\"anchor\" id=\"top\"></a>\n",
    "\n",
    "\n",
    "**Submission instructions**:\n",
    "- The cells with the `# YOUR CODE HERE` denote that these sections are graded and you need to add your implementation.\n",
    "- For Part 1: You can use the `nltk`, `NumPy`, and `matplotlib` libraries here. Other libraries, e.g., `gensim` or `scikit-learn`, may not be used. For Part 2: `gensim` is allowed in addition to the imported libraries in the next code cell\n",
    "- Please use Python 3.6.5 and `pip install -r requirements.txt` to avoid version issues.\n",
    "- The notebook you submit has to have the student ids, separated by underscores (E.g., `12341234_12341234_12341234_hw1.ipynb`).\n",
    "- This will be parsed by a regexp, **so please double check your filename**.\n",
    "- Only one member of each group has to submit the file (**please do not compress the .ipynb file when you will submit it**) to canvas.\n",
    "- **Make sure to check that your notebook runs before submission**. A quick way to do this is to restart the kernel and run all the cells.  \n",
    "- Do not change the number of arugments in the given functions.\n",
    "- **Please do not delete/add new cells**. Removing cells **will** lead to grade deduction. \n",
    "- Note, that you are not allowed to use Google Colab.\n",
    "\n",
    "\n",
    "**Learning Goals**:\n",
    "- [Part 1, Term-based matching](#part1) (165 points):\n",
    "    - Learn how to load a dataset and process it.\n",
    "    - Learn how to implement several standard IR methods (TF-IDF, BM25, QL) and understand their weaknesses & strengths.\n",
    "    - Learn how to evaluate IR methods.\n",
    "- [Part 2, Semantic-based matching](#part2) (85 points):\n",
    "    - Learn how to implement vector-space retrieval methods (LSI, LDA).\n",
    "    - Learn how to use LSI and LDA for re-ranking.\n",
    "\n",
    "    \n",
    "**Resources**: \n",
    "- **Part 1**: Sections 2.3, 4.1, 4.2, 4.3, 5.3, 5.6, 5.7, 6.2, 7, 8 of [Search Engines: Information Retrieval in Practice](https://ciir.cs.umass.edu/downloads/SEIRiP.pdf)\n",
    "- **Part 2**: [LSI - Chapter 18](https://nlp.stanford.edu/IR-book/pdf/18lsi.pdf) from [Introduction to Information Retrieval](https://nlp.stanford.edu/IR-book/) book and the [original LDA paper](https://jmlr.org/papers/volume3/blei03a/blei03a.pdf)"
   ]
  },
  {
   "cell_type": "code",
   "execution_count": 1,
   "metadata": {
    "deletable": false,
    "editable": false,
    "nbgrader": {
     "cell_type": "code",
     "checksum": "c55bfe94ff1f564dd595547e516c4c6e",
     "grade": false,
     "grade_id": "cell-f5357fabdb9660e3",
     "locked": true,
     "schema_version": 3,
     "solution": false,
     "task": false
    }
   },
   "outputs": [],
   "source": [
    "# imports \n",
    "# TODO: Ensure that no additional library is imported in the notebook. \n",
    "# TODO: Only the standard library and the following libraries are allowed:\n",
    "# TODO: You can also use unlisted classes from these libraries or standard libraries (such as defaultdict, Counter, ...).\n",
    "\n",
    "import os\n",
    "import zipfile\n",
    "from functools import partial\n",
    "\n",
    "import nltk\n",
    "import requests\n",
    "import numpy as np\n",
    "from tqdm import tqdm\n",
    "\n",
    "import matplotlib.pyplot as plt\n",
    "from matplotlib.pyplot import cm\n",
    "\n",
    "from ipywidgets import widgets\n",
    "from IPython.display import display, HTML\n",
    "#from IPython.html import widgets\n",
    "from collections import namedtuple\n",
    "\n",
    "%matplotlib inline"
   ]
  },
  {
   "cell_type": "markdown",
   "metadata": {
    "deletable": false,
    "editable": false,
    "nbgrader": {
     "cell_type": "markdown",
     "checksum": "c8328f758ca5b69f76eee03dbbdd4715",
     "grade": false,
     "grade_id": "cell-7428e12ed184408b",
     "locked": true,
     "schema_version": 3,
     "solution": false,
     "task": false
    }
   },
   "source": [
    "\n",
    "# Part 1: Term-based Matching (165 points) <a class=\"anchor\" id=\"part1\"></a>\n",
    "\n",
    "[Back to top](#top)\n",
    "\n",
    "In the first part, we will learn the basics of IR from loading and preprocessing the material, to implementing some well known search algorithms, to evaluating the ranking performance of the implemented algorithms. We will be using the CACM dataset throughout the assignment. The CACM dataset is a collection of titles and abstracts from the journal CACM (Communication of the ACM).\n",
    "\n",
    "Table of contents:\n",
    "- [Section 1: Text Processing](#text_processing) (5 points)\n",
    "- [Section 2: Indexing](#indexing) (10 points)\n",
    "- [Section 3: Ranking](#ranking) (80 points)\n",
    "- [Section 4: Evaluation](#evaluation) (40 points)\n",
    "- [Section 5: Analysis](#analysis) (30 points)\n"
   ]
  },
  {
   "cell_type": "markdown",
   "metadata": {
    "deletable": false,
    "editable": false,
    "nbgrader": {
     "cell_type": "markdown",
     "checksum": "4e3f938065183dc743aa8254b96b4f5e",
     "grade": false,
     "grade_id": "cell-4b24825cf4ae55ec",
     "locked": true,
     "schema_version": 3,
     "solution": false,
     "task": false
    }
   },
   "source": [
    "---\n",
    "## Section 1: Text Processing (5 points)<a class=\"anchor\" id=\"text_processing\"></a>\n",
    "\n",
    "[Back to Part 1](#part1)\n",
    "\n",
    "In this section, we will load the dataset and learn how to clean up the data to make it usable for an IR system. \n",
    "First, go through the implementation of the following functions:\n",
    "- `read_cacm_docs`: Reads in the CACM documents.\n",
    "- `read_queries`: Reads in the CACM queries.\n",
    "- `load_stopwords`: Loads the stopwords.\n",
    "\n",
    "The points of this section are earned for the following implementations:\n",
    "- `tokenize` (3 points): Tokenizes the input text.\n",
    "- `stem_token` (2 points): Stems the given token. \n",
    "\n",
    "We are using the [CACM dataset](http://ir.dcs.gla.ac.uk/resources/test_collections/cacm/), which is a small, classic IR dataset, composed of a collection of titles and abstracts from the journal CACM. It comes with relevance judgements for queries, so we can evaluate our IR system. \n"
   ]
  },
  {
   "cell_type": "markdown",
   "metadata": {
    "deletable": false,
    "editable": false,
    "nbgrader": {
     "cell_type": "markdown",
     "checksum": "0155d897c7016389d73d160921947a6f",
     "grade": false,
     "grade_id": "cell-45651364e7af6d5a",
     "locked": true,
     "schema_version": 3,
     "solution": false,
     "task": false
    }
   },
   "source": [
    "---\n",
    "### 1.1 Read the CACM documents\n",
    "\n",
    "\n",
    "The following cell downloads the dataset and unzips it to a local directory."
   ]
  },
  {
   "cell_type": "code",
   "execution_count": 2,
   "metadata": {
    "deletable": false,
    "editable": false,
    "nbgrader": {
     "cell_type": "code",
     "checksum": "4d43c9ad6e77cc01ce4cef0c34824930",
     "grade": false,
     "grade_id": "cell-bbc3030bb3fe7e02",
     "locked": true,
     "schema_version": 3,
     "solution": false,
     "task": false
    }
   },
   "outputs": [],
   "source": [
    "def download_dataset():\n",
    "    folder_path = os.environ.get(\"IR1_DATA_PATH\")\n",
    "    if not folder_path:\n",
    "        folder_path = \"./datasets/\"\n",
    "    os.makedirs(folder_path, exist_ok=True)\n",
    "    \n",
    "    file_location = os.path.join(folder_path, \"cacm.zip\")\n",
    "    \n",
    "    # download file if it doesn't exist\n",
    "    if not os.path.exists(file_location):\n",
    "        \n",
    "        url = \"https://surfdrive.surf.nl/files/index.php/s/M0FGJpX2p8wDwxR/download\"\n",
    "\n",
    "        with open(file_location, \"wb\") as handle:\n",
    "            print(f\"Downloading file from {url} to {file_location}\")\n",
    "            response = requests.get(url, stream=True)\n",
    "            for data in tqdm(response.iter_content()):\n",
    "                handle.write(data)\n",
    "            print(\"Finished downloading file\")\n",
    "    \n",
    "    if not os.path.exists(os.path.join(folder_path, \"train.txt\")):\n",
    "        \n",
    "        # unzip file\n",
    "        with zipfile.ZipFile(file_location, 'r') as zip_ref:\n",
    "            zip_ref.extractall(folder_path)\n",
    "        \n",
    "download_dataset()"
   ]
  },
  {
   "cell_type": "markdown",
   "metadata": {
    "deletable": false,
    "editable": false,
    "nbgrader": {
     "cell_type": "markdown",
     "checksum": "31609b0d61d0c74cbd69bc43e47c23be",
     "grade": false,
     "grade_id": "cell-a7dd9a9bf98ede05",
     "locked": true,
     "schema_version": 3,
     "solution": false,
     "task": false
    }
   },
   "source": [
    "---\n",
    "\n",
    "You can see a brief description of each file in the dataset by looking at the README file:"
   ]
  },
  {
   "cell_type": "code",
   "execution_count": 3,
   "metadata": {
    "deletable": false,
    "editable": false,
    "nbgrader": {
     "cell_type": "code",
     "checksum": "cb3c9a2b8b2bf4fd5b7446b0c4c00f43",
     "grade": false,
     "grade_id": "cell-9b6ff1a17124711f",
     "locked": true,
     "schema_version": 3,
     "solution": false,
     "task": false
    }
   },
   "outputs": [
    {
     "name": "stdout",
     "output_type": "stream",
     "text": [
      "Files in this directory with sizes:\n",
      "          0 Jun 19 21:01 README\n",
      "\n",
      "    2187734 Jun 19 20:55 cacm.all              text of documents\n",
      "        626 Jun 19 20:58 cite.info             key to citation info\n",
      "                                                (the X sections in cacm.all)\n",
      "       2668 Jun 19 20:55 common_words           stop words used by smart\n",
      "       2194 Jun 19 20:55 make_coll*             shell script to make collection\n",
      "       1557 Jun 19 20:55 make_coll_term*        ditto (both useless without\n",
      "                                                smart system)\n",
      "       9948 Jun 19 20:55 qrels.text             relation giving\n",
      "                                                    qid did 0 0\n",
      "                                                to indicate dument did is\n",
      "                                                relevant to query qid\n",
      "      13689 Jun 19 20:55 query.text             Original text of the query\n",
      "\n"
     ]
    }
   ],
   "source": [
    "##### Read the README file \n",
    "with open (\"./datasets/README\",\"r\") as file:\n",
    "    readme = file.read()\n",
    "    print(readme)\n",
    "#####"
   ]
  },
  {
   "cell_type": "markdown",
   "metadata": {
    "deletable": false,
    "editable": false,
    "nbgrader": {
     "cell_type": "markdown",
     "checksum": "6e2712c4c4632bf7486a532f7f18074d",
     "grade": false,
     "grade_id": "cell-73351431869fda76",
     "locked": true,
     "schema_version": 3,
     "solution": false,
     "task": false
    }
   },
   "source": [
    "---\n",
    "We are interested in 4 files:\n",
    "- `cacm.all` : Contains the text for all documents. Note that some documents do not have abstracts available\n",
    "- `query.text` : The text of all queries\n",
    "- `qrels.text` : The relevance judgements\n",
    "- `common_words` : A list of common words. This may be used as a collection of stopwords"
   ]
  },
  {
   "cell_type": "code",
   "execution_count": 4,
   "metadata": {
    "deletable": false,
    "editable": false,
    "nbgrader": {
     "cell_type": "code",
     "checksum": "f1162c15177eb4ffe466531d03cff4a2",
     "grade": false,
     "grade_id": "cell-b44dd14079f278ca",
     "locked": true,
     "schema_version": 3,
     "solution": false,
     "task": false
    }
   },
   "outputs": [
    {
     "name": "stdout",
     "output_type": "stream",
     "text": [
      ".I 1\n",
      ".T\n",
      "Preliminary Report-International Algebraic Language\n",
      ".B\n",
      "CACM December, 1958\n",
      ".A\n",
      "Perlis, A. J.\n",
      "Samelson,K.\n",
      ".N\n",
      "CA581203 JB March 22, 1978  8:28 PM\n",
      ".X\n",
      "100\t5\t1\n",
      "123\t5\t1\n",
      "164\t5\t1\n",
      "1\t5\t1\n",
      "1\t5\t1\n",
      "1\t5\t1\n",
      "205\t5\t1\n",
      "210\t5\t1\n",
      "214\t5\t1\n",
      "1982\t5\t1\n",
      "398\t5\t1\n",
      "642\t5\t1\n",
      "669\t5\t1\n",
      "1\t6\t1\n",
      "1\t6\t1\n",
      "1\t6\t1\n",
      "1\t6\t1\n",
      "1\t6\t1\n",
      "1\t6\t1\n",
      "1\t6\t1\n",
      "1\t6\t1\n",
      "1\t6\t1\n",
      "1\t6\t1\n",
      "165\t6\t1\n",
      "196\t6\t1\n",
      "196\t6\t1\n",
      "1273\t6\t1\n",
      "1883\t6\t1\n",
      "324\t6\t1\n",
      "43\t6\t1\n",
      "53\t6\t1\n",
      "91\t6\t1\n",
      "410\t6\t1\n",
      "3184\t6\t1\n",
      "\n"
     ]
    }
   ],
   "source": [
    "##### The first 45 lines of the CACM dataset forms the first record\n",
    "# We are interested only in 3 fields. \n",
    "# 1. the '.I' field, which is the document id\n",
    "# 2. the '.T' field (the title) and\n",
    "# 3. the '.W' field (the abstract, which may be absent)\n",
    "with open (\"./datasets/cacm.all\",\"r\") as file:\n",
    "    cacm_all = \"\".join(file.readlines()[:45])\n",
    "    print(cacm_all)\n",
    "#####"
   ]
  },
  {
   "cell_type": "markdown",
   "metadata": {
    "deletable": false,
    "editable": false,
    "nbgrader": {
     "cell_type": "markdown",
     "checksum": "250b413baccd8efb186bb46a34ae0060",
     "grade": false,
     "grade_id": "cell-c4bf2e263ec553d8",
     "locked": true,
     "schema_version": 3,
     "solution": false,
     "task": false
    }
   },
   "source": [
    "---\n",
    "\n",
    "The following function reads the `cacm.all` file. Note that each document has a variable number of lines. The `.I` field denotes a new document:"
   ]
  },
  {
   "cell_type": "code",
   "execution_count": 5,
   "metadata": {
    "deletable": false,
    "editable": false,
    "nbgrader": {
     "cell_type": "code",
     "checksum": "57d757e6a7a6938740dc899022b4f291",
     "grade": false,
     "grade_id": "cell-b736116eb419c624",
     "locked": true,
     "schema_version": 3,
     "solution": false,
     "task": false
    }
   },
   "outputs": [],
   "source": [
    "def read_cacm_docs(root_folder = \"./datasets/\"):\n",
    "    \"\"\"\n",
    "        Reads in the CACM documents. The dataset is assumed to be in the folder \"./datasets/\" by default\n",
    "        Returns: A list of 2-tuples: (doc_id, document), where 'document' is a single string created by \n",
    "            appending the title and abstract (separated by a \"\\n\"). \n",
    "            In case the record doesn't have an abstract, the document is composed only by the title\n",
    "    \"\"\"\n",
    "    with open(os.path.join(root_folder, \"cacm.all\")) as reader:\n",
    "        lines = reader.readlines()\n",
    "    \n",
    "    doc_id, title, abstract = None, None, None\n",
    "    \n",
    "    docs = []\n",
    "    line_idx = 0\n",
    "    while line_idx < len(lines):\n",
    "        line = lines[line_idx]\n",
    "        if line.startswith(\".I\"):\n",
    "            if doc_id is not None:\n",
    "                docs.append((doc_id, title, abstract))\n",
    "                doc_id, title, abstract = None, None, None\n",
    "            \n",
    "            doc_id = line.split()[-1]\n",
    "            line_idx += 1\n",
    "        elif line.startswith(\".T\"):\n",
    "            # start at next line\n",
    "            line_idx += 1\n",
    "            temp_lines = []\n",
    "            # read till next '.'\n",
    "            while not lines[line_idx].startswith(\".\"):\n",
    "                temp_lines.append(lines[line_idx].strip(\"\\n\"))\n",
    "                line_idx += 1\n",
    "            title = \"\\n\".join(temp_lines).strip(\"\\n\")\n",
    "        elif line.startswith(\".W\"):\n",
    "            # start at next line\n",
    "            line_idx += 1\n",
    "            temp_lines = []\n",
    "            # read till next '.'\n",
    "            while not lines[line_idx].startswith(\".\"):\n",
    "                temp_lines.append(lines[line_idx].strip(\"\\n\"))\n",
    "                line_idx += 1\n",
    "            abstract = \"\\n\".join(temp_lines).strip(\"\\n\")\n",
    "        else:\n",
    "            line_idx += 1\n",
    "    \n",
    "    docs.append((doc_id, title, abstract))\n",
    "    \n",
    "    p_docs = []\n",
    "    for (did, t, a) in docs:\n",
    "        if a is None:\n",
    "            a = \"\"\n",
    "        p_docs.append((did, t + \"\\n\" + a))\n",
    "    return p_docs\n"
   ]
  },
  {
   "cell_type": "code",
   "execution_count": 6,
   "metadata": {
    "deletable": false,
    "editable": false,
    "nbgrader": {
     "cell_type": "code",
     "checksum": "2f81930fcd89670b6e20e2255e1f2369",
     "grade": false,
     "grade_id": "cell-a1c43818e0d3fd79",
     "locked": true,
     "schema_version": 3,
     "solution": false,
     "task": false
    }
   },
   "outputs": [],
   "source": [
    "##### Function check\n",
    "docs = read_cacm_docs()\n",
    "\n",
    "assert isinstance(docs, list)\n",
    "assert len(docs) == 3204, \"There should be exactly 3204 documents\"\n",
    "\n",
    "unzipped_docs = list(zip(*docs))\n",
    "assert np.sum(np.array(list(map(int,unzipped_docs[0])))) == 5134410\n",
    "\n",
    "##### "
   ]
  },
  {
   "cell_type": "markdown",
   "metadata": {
    "deletable": false,
    "editable": false,
    "nbgrader": {
     "cell_type": "markdown",
     "checksum": "25fd3cfaf2137c56002b850699b3c9d3",
     "grade": false,
     "grade_id": "cell-5ed2ddc91f73c60e",
     "locked": true,
     "schema_version": 3,
     "solution": false,
     "task": false
    }
   },
   "source": [
    "---\n",
    "### 1.2 Read the CACM queries\n",
    "\n",
    "Next, let us read the queries. They are formatted similarly:"
   ]
  },
  {
   "cell_type": "code",
   "execution_count": 7,
   "metadata": {
    "deletable": false,
    "editable": false,
    "nbgrader": {
     "cell_type": "code",
     "checksum": "5d26c0908e758acb9968b84056b1060a",
     "grade": false,
     "grade_id": "cell-5c7e8e7c4fc2757f",
     "locked": true,
     "schema_version": 3,
     "solution": false,
     "task": false
    }
   },
   "outputs": [
    {
     "name": "stdout",
     "output_type": "stream",
     "text": [
      ".I 1\n",
      ".W\n",
      " What articles exist which deal with TSS (Time Sharing System), an\n",
      "operating system for IBM computers?\n",
      ".N\n",
      " 1. Richard Alexander, Comp Serv, Langmuir Lab (TSS)\n",
      " \n",
      ".I 2\n",
      ".W\n",
      " I am interested in articles written either by Prieve or Udo Pooch\n",
      ".A\n",
      "Prieve, B.\n",
      "Pooch, U.\n",
      ".N\n",
      " 2. Richard Alexander, Comp Serv, Langmuir Lab (author = Pooch or Prieve)\n"
     ]
    }
   ],
   "source": [
    "##### The first 15 lines of 'query.text' has 2 queries\n",
    "# We are interested only in 2 fields. \n",
    "# 1. the '.I' - the query id\n",
    "# 2. the '.W' - the query\n",
    "!head -15 ./datasets/query.text\n",
    "#####"
   ]
  },
  {
   "cell_type": "markdown",
   "metadata": {
    "deletable": false,
    "editable": false,
    "nbgrader": {
     "cell_type": "markdown",
     "checksum": "8f19f311a660f30e3f86cb0f7037d54a",
     "grade": false,
     "grade_id": "cell-88e293507d2dcef6",
     "locked": true,
     "schema_version": 3,
     "solution": false,
     "task": false
    }
   },
   "source": [
    "---\n",
    "\n",
    "The following function reads the `query.text` file:"
   ]
  },
  {
   "cell_type": "code",
   "execution_count": 8,
   "metadata": {
    "deletable": false,
    "editable": false,
    "nbgrader": {
     "cell_type": "code",
     "checksum": "e3fbb193211007672849487f5cff1664",
     "grade": false,
     "grade_id": "cell-433e3ad5d0e2572a",
     "locked": true,
     "schema_version": 3,
     "solution": false,
     "task": false
    }
   },
   "outputs": [],
   "source": [
    "def read_queries(root_folder = \"./datasets/\"):\n",
    "    \"\"\"\n",
    "        Reads in the CACM queries. The dataset is assumed to be in the folder \"./datasets/\" by default\n",
    "        Returns: A list of 2-tuples: (query_id, query)\n",
    "    \"\"\"\n",
    "    with open(os.path.join(root_folder, \"query.text\")) as reader:\n",
    "        lines = reader.readlines()\n",
    "    \n",
    "    query_id, query = None, None\n",
    "    \n",
    "    queries = []\n",
    "    line_idx = 0\n",
    "    while line_idx < len(lines):\n",
    "        line = lines[line_idx]\n",
    "        if line.startswith(\".I\"):\n",
    "            if query_id is not None:\n",
    "                queries.append((query_id, query))\n",
    "                query_id, query = None, None\n",
    "    \n",
    "            query_id = line.split()[-1]\n",
    "            line_idx += 1\n",
    "        elif line.startswith(\".W\"):\n",
    "            # start at next line\n",
    "            line_idx += 1\n",
    "            temp_lines = []\n",
    "            # read till next '.'\n",
    "            while not lines[line_idx].startswith(\".\"):\n",
    "                temp_lines.append(lines[line_idx].strip(\"\\n\"))\n",
    "                line_idx += 1\n",
    "            query = \"\\n\".join(temp_lines).strip(\"\\n\")\n",
    "        else:\n",
    "            line_idx += 1\n",
    "    \n",
    "    queries.append((query_id, query))\n",
    "    return queries\n"
   ]
  },
  {
   "cell_type": "code",
   "execution_count": 9,
   "metadata": {
    "deletable": false,
    "editable": false,
    "nbgrader": {
     "cell_type": "code",
     "checksum": "a897b9771b54f447be3418d7246fc4a0",
     "grade": false,
     "grade_id": "cell-6ec540abce66c598",
     "locked": true,
     "schema_version": 3,
     "solution": false,
     "task": false
    }
   },
   "outputs": [],
   "source": [
    "##### Function check\n",
    "queries = read_queries()\n",
    "\n",
    "assert isinstance(queries, list)\n",
    "assert len(queries) == 64 and all([q[1] is not None for q in queries]), \"There should be exactly 64 queries\"\n",
    "\n",
    "unzipped_queries = list(zip(*queries))\n",
    "assert np.sum(np.array(list(map(int,unzipped_queries[0])))) == 2080\n",
    "\n",
    "##### "
   ]
  },
  {
   "cell_type": "markdown",
   "metadata": {
    "deletable": false,
    "editable": false,
    "nbgrader": {
     "cell_type": "markdown",
     "checksum": "a300c41912ac63b239070b4c15c9f5c5",
     "grade": false,
     "grade_id": "cell-1c31569491d7b782",
     "locked": true,
     "schema_version": 3,
     "solution": false,
     "task": false
    }
   },
   "source": [
    "---\n",
    "### 1.3 Read the stop words\n",
    "\n",
    "We use the common words stored in `common_words`:"
   ]
  },
  {
   "cell_type": "code",
   "execution_count": 10,
   "metadata": {
    "deletable": false,
    "editable": false,
    "nbgrader": {
     "cell_type": "code",
     "checksum": "1ad6f5bae6a792504c1c8513ae5751ad",
     "grade": false,
     "grade_id": "cell-34bdb63461418a96",
     "locked": true,
     "schema_version": 3,
     "solution": false,
     "task": false
    }
   },
   "outputs": [
    {
     "name": "stdout",
     "output_type": "stream",
     "text": [
      "a\n",
      "about\n",
      "above\n",
      "accordingly\n",
      "across\n",
      "after\n",
      "afterwards\n",
      "again\n",
      "against\n",
      "all\n"
     ]
    }
   ],
   "source": [
    "##### Read the stop words file \n",
    "!head ./datasets/common_words\n",
    "##### Read the README file "
   ]
  },
  {
   "cell_type": "markdown",
   "metadata": {
    "deletable": false,
    "editable": false,
    "nbgrader": {
     "cell_type": "markdown",
     "checksum": "6d0fe612e770213b6397c2179b07a966",
     "grade": false,
     "grade_id": "cell-4744bde0338895d8",
     "locked": true,
     "schema_version": 3,
     "solution": false,
     "task": false
    }
   },
   "source": [
    "---\n",
    "\n",
    "The following function reads the `common_words` file (For better coverage, we try to keep them in lowercase):"
   ]
  },
  {
   "cell_type": "code",
   "execution_count": 11,
   "metadata": {
    "deletable": false,
    "editable": false,
    "nbgrader": {
     "cell_type": "code",
     "checksum": "9409713fd26eb0c33587e190638997c4",
     "grade": false,
     "grade_id": "cell-7357aa40f64e5bcb",
     "locked": true,
     "schema_version": 3,
     "solution": false,
     "task": false
    }
   },
   "outputs": [],
   "source": [
    "def load_stopwords(root_folder = \"./datasets/\"):\n",
    "    \"\"\"\n",
    "        Loads the stopwords. The dataset is assumed to be in the folder \"./datasets/\" by default\n",
    "        Output: A set of stopwords\n",
    "    \"\"\"\n",
    "    with open(os.path.join(root_folder, \"common_words\")) as reader:\n",
    "        lines = reader.readlines()\n",
    "    stopwords = set([l.strip().lower() for l in lines])\n",
    "    return stopwords\n"
   ]
  },
  {
   "cell_type": "code",
   "execution_count": 12,
   "metadata": {
    "deletable": false,
    "editable": false,
    "nbgrader": {
     "cell_type": "code",
     "checksum": "f1c8153c3c38133bc2db6e7b076ad470",
     "grade": false,
     "grade_id": "cell-2ca3ac162004de97",
     "locked": true,
     "schema_version": 3,
     "solution": false,
     "task": false
    }
   },
   "outputs": [],
   "source": [
    "##### Function check\n",
    "stopwords = load_stopwords()\n",
    "\n",
    "assert isinstance(stopwords, set)\n",
    "assert len(stopwords) == 428, \"There should be exactly 428 stop words\"\n",
    "\n",
    "assert np.sum(np.array(list(map(len,stopwords)))) == 2234\n",
    "\n",
    "##### \n"
   ]
  },
  {
   "cell_type": "markdown",
   "metadata": {
    "deletable": false,
    "editable": false,
    "nbgrader": {
     "cell_type": "markdown",
     "checksum": "92c1191e9e7291dcf0d70dc67b907a65",
     "grade": false,
     "grade_id": "cell-134b72872f4300cb",
     "locked": true,
     "schema_version": 3,
     "solution": false,
     "task": false
    }
   },
   "source": [
    "---\n",
    "### 1.4 Tokenization (3 points)\n",
    "\n",
    "We can now write some basic text processing functions. \n",
    "A first step is to tokenize the text. \n",
    "\n",
    "**Note**: Use the  `WordPunctTokenizer` available in the `nltk` library:"
   ]
  },
  {
   "cell_type": "code",
   "execution_count": 13,
   "metadata": {
    "deletable": false,
    "nbgrader": {
     "cell_type": "code",
     "checksum": "3f5564d3c75bf22fbf832b3a9b938f37",
     "grade": false,
     "grade_id": "cell-322be4c9499bdc4b",
     "locked": false,
     "schema_version": 3,
     "solution": true,
     "task": false
    }
   },
   "outputs": [],
   "source": [
    "# TODO: Implement this! (4 points)\n",
    "def tokenize(text):\n",
    "    \"\"\"\n",
    "        Tokenizes the input text. Use the WordPunctTokenizer\n",
    "        Input: text - a string\n",
    "        Output: a list of tokens\n",
    "    \"\"\"\n",
    "    # YOUR CODE HERE\n",
    "    tokens = nltk.WordPunctTokenizer().tokenize(text)\n",
    "    return tokens"
   ]
  },
  {
   "cell_type": "code",
   "execution_count": 14,
   "metadata": {
    "deletable": false,
    "editable": false,
    "nbgrader": {
     "cell_type": "code",
     "checksum": "e15af22c4d8ae0a3f9dac43bef7097ec",
     "grade": true,
     "grade_id": "cell-7fbf48bf7541a622",
     "locked": true,
     "points": 3,
     "schema_version": 3,
     "solution": false,
     "task": false
    }
   },
   "outputs": [
    {
     "name": "stdout",
     "output_type": "stream",
     "text": [
      "['the', 'quick', 'brown', 'fox', 'jumps', 'over', 'the', 'lazy', 'dog']\n"
     ]
    }
   ],
   "source": [
    "##### Function check\n",
    "text = \"the quick brown fox jumps over the lazy dog\"\n",
    "tokens = tokenize(text)\n",
    "\n",
    "assert isinstance(tokens, list)\n",
    "assert len(tokens) == 9\n",
    "\n",
    "print(tokens)\n",
    "# output: ['the', 'quick', 'brown', 'fox', 'jumps', 'over', 'the', 'lazy', 'dog']\n",
    "#####"
   ]
  },
  {
   "cell_type": "markdown",
   "metadata": {
    "deletable": false,
    "editable": false,
    "nbgrader": {
     "cell_type": "markdown",
     "checksum": "34210618bff4cb47aad2f03cb4b9854c",
     "grade": false,
     "grade_id": "cell-fd1b98ae61b697ca",
     "locked": true,
     "schema_version": 3,
     "solution": false,
     "task": false
    }
   },
   "source": [
    "---\n",
    "### 1.5 Stemming (2 points)\n",
    "\n",
    "Write a function to stem tokens. \n",
    "Again, you can use the nltk library for this:"
   ]
  },
  {
   "cell_type": "code",
   "execution_count": 15,
   "metadata": {
    "deletable": false,
    "nbgrader": {
     "cell_type": "code",
     "checksum": "1c4a6aa979d66158c7b6b992af43293a",
     "grade": false,
     "grade_id": "cell-e3f6c8e3f874b28d",
     "locked": false,
     "schema_version": 3,
     "solution": true,
     "task": false
    }
   },
   "outputs": [],
   "source": [
    "# TODO: Implement this! (3 points)\n",
    "def stem_token(token):\n",
    "    \"\"\"\n",
    "        Stems the given token using the PorterStemmer from the nltk library\n",
    "        Input: a single token\n",
    "        Output: the stem of the token\n",
    "    \"\"\"\n",
    "    # YOUR CODE HERE\n",
    "    stem_token = nltk.stem.PorterStemmer().stem(token)\n",
    "    return stem_token"
   ]
  },
  {
   "cell_type": "code",
   "execution_count": 16,
   "metadata": {
    "deletable": false,
    "editable": false,
    "nbgrader": {
     "cell_type": "code",
     "checksum": "9363b4f09b556d424d9c895d4ab57b1c",
     "grade": true,
     "grade_id": "cell-cd6863e6ee6ed205",
     "locked": true,
     "points": 2,
     "schema_version": 3,
     "solution": false,
     "task": false
    }
   },
   "outputs": [],
   "source": [
    "##### Function check\n",
    "\n",
    "assert stem_token('owned') == 'own'\n",
    "assert stem_token('itemization') == 'item'\n",
    "#####"
   ]
  },
  {
   "cell_type": "markdown",
   "metadata": {
    "deletable": false,
    "editable": false,
    "nbgrader": {
     "cell_type": "markdown",
     "checksum": "0b311d014146da6afa1d39542fab9869",
     "grade": false,
     "grade_id": "cell-47c9f90498699110",
     "locked": true,
     "schema_version": 3,
     "solution": false,
     "task": false
    }
   },
   "source": [
    "---\n",
    "### 1.6 Summary\n",
    "\n",
    "The following function puts it all together. Given an input string, this functions tokenizes and processes it according to the flags that you set."
   ]
  },
  {
   "cell_type": "code",
   "execution_count": 17,
   "metadata": {
    "deletable": false,
    "editable": false,
    "nbgrader": {
     "cell_type": "code",
     "checksum": "2ff2d215ee8e0039c5a91fd3de12e6bd",
     "grade": false,
     "grade_id": "cell-dd0d3f46b30801da",
     "locked": true,
     "schema_version": 3,
     "solution": false,
     "task": false
    }
   },
   "outputs": [],
   "source": [
    "#### Putting it all together\n",
    "def process_text(text, stem=False, remove_stopwords=False, lowercase_text=False):\n",
    "    \n",
    "    tokens = []\n",
    "    for token in tokenize(text):\n",
    "        if remove_stopwords and token.lower() in stopwords:\n",
    "            continue\n",
    "        if stem:\n",
    "            token = stem_token(token)\n",
    "        if lowercase_text:\n",
    "            token = token.lower()\n",
    "        tokens.append(token)\n",
    "\n",
    "    return tokens\n",
    "#### "
   ]
  },
  {
   "cell_type": "markdown",
   "metadata": {
    "deletable": false,
    "editable": false,
    "nbgrader": {
     "cell_type": "markdown",
     "checksum": "02d433b18eb43654fa4306a7bf55b190",
     "grade": false,
     "grade_id": "cell-8d885bfd2edd43ae",
     "locked": true,
     "schema_version": 3,
     "solution": false,
     "task": false
    }
   },
   "source": [
    "---\n",
    "\n",
    "Let's create two sets of preprocessed documents.\n",
    "We can process the documents and queries according to these two configurations:"
   ]
  },
  {
   "cell_type": "code",
   "execution_count": 18,
   "metadata": {
    "deletable": false,
    "editable": false,
    "nbgrader": {
     "cell_type": "code",
     "checksum": "dbe4ca667be6842fdcf512fbcad50c7f",
     "grade": false,
     "grade_id": "cell-d427365ee0fb21d8",
     "locked": true,
     "schema_version": 3,
     "solution": false,
     "task": false
    }
   },
   "outputs": [],
   "source": [
    "# In this configuration:\n",
    "# Don't preprocess the text, except to tokenize \n",
    "config_1 = {\n",
    "  \"stem\": False,\n",
    "  \"remove_stopwords\" : False,\n",
    "  \"lowercase_text\": True\n",
    "} \n",
    "\n",
    "\n",
    "# In this configuration:\n",
    "# Preprocess the text, stem and remove stopwords\n",
    "config_2 = {\n",
    "  \"stem\": True,\n",
    "  \"remove_stopwords\" : True,\n",
    "  \"lowercase_text\": True, \n",
    "} \n",
    "\n",
    "####\n",
    "doc_repr_1 = []\n",
    "doc_repr_2 = []\n",
    "for (doc_id, document) in docs:\n",
    "    doc_repr_1.append((doc_id, process_text(document, **config_1)))\n",
    "    doc_repr_2.append((doc_id, process_text(document, **config_2)))\n",
    "\n",
    "####"
   ]
  },
  {
   "cell_type": "markdown",
   "metadata": {
    "deletable": false,
    "editable": false,
    "nbgrader": {
     "cell_type": "markdown",
     "checksum": "b60589aac19e80941d860d9b3f1e9a16",
     "grade": false,
     "grade_id": "cell-b1c102db61ae7495",
     "locked": true,
     "schema_version": 3,
     "solution": false,
     "task": false
    }
   },
   "source": [
    "--- \n",
    "\n",
    "## Section 2: Indexing (10 points)<a class=\"anchor\" id=\"indexing\"></a>\n",
    "\n",
    "[Back to Part 1](#part1)\n",
    "\n",
    "\n",
    "\n",
    "A retrieval function usually takes in a query document pair, and scores a query against a document.  Our document set is quite small - just a few thousand documents. However, consider a web-scale dataset with a few million documents. In such a scenario, it would become infeasible to score every query and document pair. In such a case, we can build an inverted index. From Wikipedia:\n",
    "\n",
    "> ... , an inverted index (also referred to as a postings file or inverted file) is a database index storing a mapping from content, such as words or numbers, to its locations in a table, .... The purpose of an inverted index is to allow fast full-text searches, at a cost of increased processing when a document is added to the database. ...\n",
    "\n",
    "\n",
    "Consider a simple inverted index, which maps from word to document. This can improve the performance of a retrieval system significantly. In this assignment, we consider a *simple* inverted index, which maps a word to a set of documents. In practice, however, more complex indices might be used.  \n"
   ]
  },
  {
   "cell_type": "markdown",
   "metadata": {
    "deletable": false,
    "editable": false,
    "nbgrader": {
     "cell_type": "markdown",
     "checksum": "710fd943f45523ac36fcb887cc0d4d39",
     "grade": false,
     "grade_id": "cell-fa373192c1b7bb95",
     "locked": true,
     "schema_version": 3,
     "solution": false,
     "task": false
    }
   },
   "source": [
    "### 2.1 Term Frequency-index (10 points)\n",
    "In this assignment, we will be using an index created in memory since our dataset is tiny. To get started, build a simple index that maps each `token` to a list of `(doc_id, count)` where `count` is the count of the `token` in `doc_id`.\n",
    "For consistency, build this index using a python dictionary.\n",
    "    \n",
    "Now, implement a function to build an index:"
   ]
  },
  {
   "cell_type": "code",
   "execution_count": 19,
   "metadata": {
    "deletable": false,
    "nbgrader": {
     "cell_type": "code",
     "checksum": "d4e8c6b658c469379d5fe511de05b536",
     "grade": false,
     "grade_id": "cell-077599b87e953209",
     "locked": false,
     "schema_version": 3,
     "solution": true,
     "task": false
    }
   },
   "outputs": [],
   "source": [
    "# TODO: Implement this! (10 points)\n",
    "\n",
    "from collections import defaultdict\n",
    "from collections import Counter\n",
    "\n",
    "def build_tf_index(documents):\n",
    "    \"\"\"\n",
    "        Build an inverted index (with counts). The output is a dictionary which takes in a token\n",
    "        and returns a list of (doc_id, count) where 'count' is the count of the 'token' in 'doc_id'\n",
    "        Input: a list of documents - (doc_id, tokens) \n",
    "        Output: An inverted index implemented within a pyhton dictionary: [token] -> [(doc_id, token_count)]\n",
    "    \"\"\"\n",
    "    # YOUR CODE HERE\n",
    "\n",
    "    tok_dict = defaultdict(lambda:[])\n",
    "    for i, toks in documents:\n",
    "        counter = Counter(toks)\n",
    "        for key in counter.keys():\n",
    "            # Add key if not present\n",
    "            if not (key in tok_dict.keys()):\n",
    "                tok_dict[key] = []\n",
    "            tok_dict[key].append((i,counter[key]))\n",
    "    return tok_dict"
   ]
  },
  {
   "cell_type": "markdown",
   "metadata": {
    "deletable": false,
    "editable": false,
    "nbgrader": {
     "cell_type": "markdown",
     "checksum": "15e7041b4323d2a290322de538ff7670",
     "grade": false,
     "grade_id": "cell-093aebfa504f96f2",
     "locked": true,
     "schema_version": 3,
     "solution": false,
     "task": false
    }
   },
   "source": [
    "---\n",
    "Now we can build indexed documents and preprocess the queries based on the two configurations:"
   ]
  },
  {
   "cell_type": "code",
   "execution_count": 20,
   "metadata": {
    "deletable": false,
    "editable": false,
    "nbgrader": {
     "cell_type": "code",
     "checksum": "e27540c1d8d77a3779a05f557f3f40c6",
     "grade": false,
     "grade_id": "cell-b2ff1676348b90a8",
     "locked": true,
     "schema_version": 3,
     "solution": false,
     "task": false
    }
   },
   "outputs": [],
   "source": [
    "#### Indexed documents based on the two configs\n",
    "\n",
    "# Create the 2 indices\n",
    "tf_index_1 = build_tf_index(doc_repr_1)\n",
    "tf_index_2 = build_tf_index(doc_repr_2)\n",
    "\n",
    "# This function returns the tf_index of the corresponding config\n",
    "def get_index(index_set):\n",
    "    assert index_set in {1, 2}\n",
    "    return {\n",
    "        1: tf_index_1,\n",
    "        2: tf_index_2\n",
    "    }[index_set]\n",
    "\n",
    "####\n",
    "#### Preprocessed query based on the two configs\n",
    "\n",
    "# This function preprocesses the text given the index set, according to the specified config\n",
    "def preprocess_query(text, index_set):\n",
    "    assert index_set in {1, 2}\n",
    "    if index_set == 1:\n",
    "        return process_text(text, **config_1)\n",
    "    elif index_set == 2:\n",
    "        return process_text(text, **config_2)\n",
    "\n",
    "#### "
   ]
  },
  {
   "cell_type": "code",
   "execution_count": 21,
   "metadata": {
    "deletable": false,
    "editable": false,
    "nbgrader": {
     "cell_type": "code",
     "checksum": "f0cbc8703e1248cd6edf03f9019b69db",
     "grade": true,
     "grade_id": "cell-fc7c7232d5d2ee46",
     "locked": true,
     "points": 5,
     "schema_version": 3,
     "solution": false,
     "task": false
    }
   },
   "outputs": [
    {
     "name": "stdout",
     "output_type": "stream",
     "text": [
      "sample tf index for computer: [('4', 1), ('7', 1), ('10', 1), ('13', 1), ('19', 1), ('22', 1), ('23', 1), ('37', 1), ('40', 3), ('41', 1)]\n",
      "sample tf index for examples: [('111', 1), ('320', 1), ('644', 1), ('691', 1), ('727', 1), ('848', 1), ('892', 1), ('893', 1), ('1049', 1), ('1051', 1)]\n"
     ]
    }
   ],
   "source": [
    "##### Function check\n",
    "\n",
    "assert isinstance(tf_index_1, dict)\n",
    "\n",
    "assert isinstance(tf_index_1['computer'], list)\n",
    "print('sample tf index for computer:', tf_index_1['computer'][:10])\n",
    "\n",
    "assert isinstance(tf_index_1['examples'], list)\n",
    "print('sample tf index for examples:', tf_index_1['examples'][:10])\n",
    "#### "
   ]
  },
  {
   "cell_type": "code",
   "execution_count": 22,
   "metadata": {
    "deletable": false,
    "editable": false,
    "nbgrader": {
     "cell_type": "code",
     "checksum": "d49b8ac36815d9a5cb4bed838ab53a50",
     "grade": true,
     "grade_id": "cell-ff06bd11204db250",
     "locked": true,
     "points": 5,
     "schema_version": 3,
     "solution": false,
     "task": false
    }
   },
   "outputs": [
    {
     "name": "stdout",
     "output_type": "stream",
     "text": [
      "sample tf index for computer: [('4', 1), ('7', 1), ('10', 1), ('13', 1), ('19', 1), ('22', 1), ('23', 1), ('37', 1), ('40', 3), ('41', 1)]\n",
      "sample tf index for examples: []\n"
     ]
    }
   ],
   "source": [
    "##### Function check\n",
    "\n",
    "assert isinstance(tf_index_2, dict)\n",
    "\n",
    "assert isinstance(tf_index_2['computer'], list)\n",
    "print('sample tf index for computer:', tf_index_1['computer'][:10])\n",
    "\n",
    "assert isinstance(tf_index_2['examples'], list)\n",
    "print('sample tf index for examples:', tf_index_2['examples'][:10])\n",
    "#### "
   ]
  },
  {
   "cell_type": "markdown",
   "metadata": {
    "deletable": false,
    "editable": false,
    "nbgrader": {
     "cell_type": "markdown",
     "checksum": "880b2ef3ca405f2af6e0667d2dc7a600",
     "grade": false,
     "grade_id": "cell-89eba71f04310291",
     "locked": true,
     "schema_version": 3,
     "solution": false,
     "task": false
    }
   },
   "source": [
    "\n",
    "---\n",
    "## Section 3: Ranking  (80 points) <a class=\"anchor\" id=\"ranking\"></a>\n",
    "\n",
    "[Back to Part 1](#part1)\n",
    "\n",
    "Now that we have cleaned and processed our dataset, we can start building simple IR systems. \n",
    "\n",
    "For now, we consider *simple* IR systems, which involve computing scores from the tokens present in the document/query. More advanced methods are covered in later assignments.\n",
    "\n",
    "We will implement the following methods in this section:\n",
    "- [Section 3.1: Bag of Words](#bow) (10 points)\n",
    "- [Section 3.2: TF-IDF](#tfidf) (15 points)\n",
    "- [Section 3.3: Query Likelihood Model](#qlm) (35 points)\n",
    "- [Section 3.4: BM25](#bm25) (20 points)\n",
    "\n",
    "*All search functions should be able to handle multiple words queries.*\n",
    "\n",
    "**Scoring policy:**\n",
    "Your implementations in this section are scored based on the expected performance of your ranking functions.\n",
    "You will get a full mark if your implementation meets the expected performance (measured by some evaluation metric).\n",
    "Otherwise, you may get partial credit.\n",
    "For example, if your *Bag of words* ranking function has 60% of expected performance, you will get 6 out of 10."
   ]
  },
  {
   "cell_type": "markdown",
   "metadata": {
    "deletable": false,
    "editable": false,
    "nbgrader": {
     "cell_type": "markdown",
     "checksum": "6c74e5061917358300c6e8085ec07864",
     "grade": false,
     "grade_id": "cell-3daf70a60e393adf",
     "locked": true,
     "schema_version": 3,
     "solution": false,
     "task": false
    }
   },
   "source": [
    "--- \n",
    "\n",
    "### Section 3.1: Bag of Words (10 points)<a class=\"anchor\" id=\"bow\"></a>\n",
    "\n",
    "Probably the simplest IR model is the Bag of Words (BOW) model.\n",
    "Implement a function that scores and ranks all the documents against a query using this model.   \n",
    "\n",
    "- For consistency, you should use the count of the token and **not** the binary indicator.\n",
    "- Use `float` type for the scores (even though the scores are integers in this case).\n",
    "- No normalization of the scores is necessary, as the ordering is what we are interested in.\n",
    "- If two documents have the same score, they can have any ordering: you are not required to disambiguate.\n"
   ]
  },
  {
   "cell_type": "code",
   "execution_count": 23,
   "metadata": {
    "deletable": false,
    "nbgrader": {
     "cell_type": "code",
     "checksum": "fee4640e22bfc4f05eb958a675ef40e7",
     "grade": false,
     "grade_id": "cell-de9cf0459c4b9324",
     "locked": false,
     "schema_version": 3,
     "solution": true,
     "task": false
    }
   },
   "outputs": [],
   "source": [
    "# TODO: Implement this! (10 points)\n",
    "def bow_search(query, index_set):\n",
    "    \"\"\"\n",
    "        Perform a search over all documents with the given query. \n",
    "        Note: You have to use the `get_index` function created in the previous cells\n",
    "        Input: \n",
    "            query - a (unprocessed) query\n",
    "            index_set - the index to use\n",
    "        Output: a list of (document_id, score), sorted in descending relevance to the given query. \n",
    "    \"\"\"\n",
    "    index = get_index(index_set)\n",
    "    processed_query = preprocess_query(query, index_set)\n",
    "    # YOUR CODE HERE\n",
    "    \n",
    "    counter = Counter()\n",
    "    for word in processed_query:\n",
    "        for ind, count in index[word]:\n",
    "            counter[ind] += float(count)\n",
    "    return counter.most_common()"
   ]
  },
  {
   "cell_type": "code",
   "execution_count": 24,
   "metadata": {
    "deletable": false,
    "editable": false,
    "nbgrader": {
     "cell_type": "code",
     "checksum": "613524fbbf02b1d122c6611a71fbf11b",
     "grade": true,
     "grade_id": "cell-9f6aceae6dd9125f",
     "locked": true,
     "points": 2,
     "schema_version": 3,
     "solution": false,
     "task": false
    }
   },
   "outputs": [],
   "source": [
    "#### Function check\n",
    "\n",
    "test_bow = bow_search(\"how to implement bag of words search\", index_set=1)[:5]\n",
    "assert isinstance(test_bow, list)\n",
    "assert len(test_bow[0]) == 2\n",
    "assert isinstance(test_bow[0][0], str)\n",
    "assert isinstance(test_bow[0][1], float)\n",
    "\n",
    "#### "
   ]
  },
  {
   "cell_type": "code",
   "execution_count": 25,
   "metadata": {
    "deletable": false,
    "editable": false,
    "nbgrader": {
     "cell_type": "code",
     "checksum": "9af20897659edb62fe77598483590500",
     "grade": true,
     "grade_id": "cell-4eed3abf233d9b58",
     "locked": true,
     "points": 2,
     "schema_version": 3,
     "solution": false,
     "task": false
    }
   },
   "outputs": [
    {
     "name": "stdout",
     "output_type": "stream",
     "text": [
      "BOW Results:\n",
      "Rank 0(1.3e+01): On Computing The Fast Fourier Transform\\nCooley an...\n",
      "Rank 1(1.2e+01): Variable Length Tree Structures Having Minimum Ave...\n",
      "Rank 2(1.1e+01): A Modular Computer Sharing System\\nAn alternative ...\n",
      "Rank 3(1e+01): PEEKABIT, Computer Offspring of Punched\\nCard PEEK...\n",
      "Rank 4(9.0): Computer Simulation-Discussion of the\\nTechnique a...\n"
     ]
    }
   ],
   "source": [
    "\n",
    "docs_by_id = dict(docs)\n",
    "def print_results(docs, len_limit=50):    \n",
    "    for i, (doc_id, score) in enumerate(docs):\n",
    "        doc_content = docs_by_id[doc_id].strip().replace(\"\\n\", \"\\\\n\")[:len_limit] + \"...\"\n",
    "        print(f\"Rank {i}({score:.2}): {doc_content}\")\n",
    "\n",
    "test_bow_2 = bow_search(\"computer search word\", index_set=2)[:5]\n",
    "print(f\"BOW Results:\")\n",
    "print_results(test_bow_2)\n"
   ]
  },
  {
   "cell_type": "code",
   "execution_count": 26,
   "metadata": {
    "deletable": false,
    "editable": false,
    "nbgrader": {
     "cell_type": "code",
     "checksum": "3c9c8b16c8e7d1032f101e9da8a6e845",
     "grade": true,
     "grade_id": "cell-4d65a2d7090c466c",
     "locked": true,
     "points": 3,
     "schema_version": 3,
     "solution": false,
     "task": false
    }
   },
   "outputs": [
    {
     "name": "stdout",
     "output_type": "stream",
     "text": [
      "BOW Results:\n",
      "Rank 0(9.0): CURRICULUM 68 -- Recommendations for Academic\\nPro...\n",
      "Rank 1(9.0): Variable Length Tree Structures Having Minimum Ave...\n",
      "Rank 2(7.0): Computer Formulation of the Equations of Motion Us...\n",
      "Rank 3(7.0): The Effects of Multiplexing on a Computer-Communic...\n",
      "Rank 4(6.0): Optimizing Bit-time Computer Simulation\\nA major c...\n"
     ]
    }
   ],
   "source": [
    "\n",
    "test_bow_1 = bow_search(\"computer search word\", index_set=1)[:5]\n",
    "print(f\"BOW Results:\")\n",
    "print_results(test_bow_1)\n"
   ]
  },
  {
   "cell_type": "code",
   "execution_count": 27,
   "metadata": {
    "deletable": false,
    "editable": false,
    "nbgrader": {
     "cell_type": "code",
     "checksum": "b7e593847aa4202ae45ec061fb18ad73",
     "grade": true,
     "grade_id": "cell-dedf36ab5853ce20",
     "locked": true,
     "points": 3,
     "schema_version": 3,
     "solution": false,
     "task": false
    }
   },
   "outputs": [
    {
     "name": "stdout",
     "output_type": "stream",
     "text": [
      "top-5 docs for index1: ('1771', '1936', '1543', '2535', '678')\n",
      "top-5 docs for index2: ('1525', '1936', '1844', '1700', '1366')\n"
     ]
    }
   ],
   "source": [
    "print('top-5 docs for index1:', list(zip(*test_bow_1[:5]))[0])\n",
    "print('top-5 docs for index2:', list(zip(*test_bow_2[:5]))[0])\n"
   ]
  },
  {
   "cell_type": "markdown",
   "metadata": {
    "deletable": false,
    "editable": false,
    "nbgrader": {
     "cell_type": "markdown",
     "checksum": "b04352ee0716dfdf094b8cdb6f32e984",
     "grade": false,
     "grade_id": "cell-a5c09c79ac1f2871",
     "locked": true,
     "schema_version": 3,
     "solution": false,
     "task": false
    }
   },
   "source": [
    "\n",
    "---\n",
    "\n",
    "### Section 3.2: TF-IDF (15 points) <a class=\"anchor\" id=\"tfidf\"></a>\n",
    "\n",
    "Before we implement the tf-idf scoring functions, let's first write a function to compute the document frequencies of all words.  \n",
    "\n",
    "#### 3.2.1 Document frequency (5 points)\n",
    "Compute the document frequencies of all tokens in the collection. \n",
    "Your code should return a dictionary with tokens as its keys and the number of documents containing the token as values.\n",
    "For consistency, the values should have `int` type."
   ]
  },
  {
   "cell_type": "code",
   "execution_count": 28,
   "metadata": {
    "deletable": false,
    "nbgrader": {
     "cell_type": "code",
     "checksum": "5c53263cf4c0b0ffcaae08b91fc364cc",
     "grade": false,
     "grade_id": "cell-9a2369f32e864b8a",
     "locked": false,
     "schema_version": 3,
     "solution": true,
     "task": false
    }
   },
   "outputs": [],
   "source": [
    "# TODO: Implement this! (5 points)\n",
    "def compute_df(documents):\n",
    "    \"\"\"\n",
    "        Compute the document frequency of all terms in the vocabulary\n",
    "        Input: A list of documents\n",
    "        Output: A dictionary with {token: document frequency (int)}\n",
    "    \"\"\"\n",
    "    \n",
    "    # YOUR CODE HERE\n",
    "    doc_repr = []\n",
    "    for (doc_id, document) in enumerate(documents):\n",
    "        doc_repr.append((doc_id, document))\n",
    "    index = build_tf_index(doc_repr)\n",
    "    df = defaultdict(lambda:1)\n",
    "    for tok in index.keys():\n",
    "        items = index[tok]\n",
    "        df[tok] = len(items)\n",
    "    return df"
   ]
  },
  {
   "cell_type": "code",
   "execution_count": 29,
   "metadata": {
    "deletable": false,
    "editable": false,
    "nbgrader": {
     "cell_type": "code",
     "checksum": "154985511d7925c5793a1f97dea81880",
     "grade": false,
     "grade_id": "cell-4c3bddd0b73ac90e",
     "locked": true,
     "schema_version": 3,
     "solution": false,
     "task": false
    }
   },
   "outputs": [],
   "source": [
    "#### Compute df based on the two configs\n",
    "\n",
    "# get the document frequencies of each document\n",
    "df_1 = compute_df([d[1] for d in doc_repr_1])\n",
    "df_2 = compute_df([d[1] for d in doc_repr_2])\n",
    "\n",
    "def get_df(index_set):\n",
    "    assert index_set in {1, 2}\n",
    "    return {\n",
    "        1: df_1,\n",
    "        2: df_2\n",
    "    }[index_set]\n",
    "####"
   ]
  },
  {
   "cell_type": "code",
   "execution_count": 30,
   "metadata": {
    "deletable": false,
    "editable": false,
    "nbgrader": {
     "cell_type": "code",
     "checksum": "110cc180068cf3f77c682ee3de2a117c",
     "grade": true,
     "grade_id": "cell-79e8a6db1e5fc46f",
     "locked": true,
     "points": 5,
     "schema_version": 3,
     "solution": false,
     "task": false
    }
   },
   "outputs": [
    {
     "name": "stdout",
     "output_type": "stream",
     "text": [
      "597\n",
      "11\n"
     ]
    }
   ],
   "source": [
    "#### Function check\n",
    "\n",
    "print(df_1['computer'])\n",
    "print(df_2['computer'])\n",
    "####"
   ]
  },
  {
   "cell_type": "markdown",
   "metadata": {
    "deletable": false,
    "editable": false,
    "nbgrader": {
     "cell_type": "markdown",
     "checksum": "d0d577668fa51b80aeab6e67209ae73b",
     "grade": false,
     "grade_id": "cell-52f6acc487e1b96d",
     "locked": true,
     "schema_version": 3,
     "solution": false,
     "task": false
    }
   },
   "source": [
    "---\n",
    "#### 3.2.2 TF-IDF search (10 points)\n",
    "Next, implement a function that computes a tf-idf score, given a query.\n",
    "Use the following formulas for TF and IDF:\n",
    "\n",
    "$$ TF=\\log (1 + f_{d,t}) $$\n",
    "\n",
    "$$ IDF=\\log (\\frac{N}{n_t})$$\n",
    "\n",
    "where $f_{d,t}$ is the frequency of token $t$ in document $d$, $N$ is the number of total documents and $n_t$ is the number of documents containing token $t$.\n",
    "\n",
    "**Note:** your implementation will be auto-graded assuming you have used the above formulas.\n"
   ]
  },
  {
   "cell_type": "code",
   "execution_count": 31,
   "metadata": {
    "deletable": false,
    "nbgrader": {
     "cell_type": "code",
     "checksum": "3534c44b4a3419ca1db98eebe7115dc1",
     "grade": false,
     "grade_id": "cell-2fb5ba34b2994cd9",
     "locked": false,
     "schema_version": 3,
     "solution": true,
     "task": false
    }
   },
   "outputs": [],
   "source": [
    "# TODO: Implement this! (10 points)\n",
    "def tfidf_search(query, index_set):\n",
    "    \"\"\"\n",
    "        Perform a search over all documents with the given query using tf-idf. \n",
    "        Note #1: You have to use the `get_index` (and the `get_df`) function created in the previous cells\n",
    "        Input: \n",
    "            query - a (unprocessed) query\n",
    "            index_set - the index to use\n",
    "        Output: a list of (document_id, score), sorted in descending relevance to the given query \n",
    "    \"\"\"\n",
    "    index = get_index(index_set)\n",
    "    df = get_df(index_set)\n",
    "    processed_query = preprocess_query(query, index_set)\n",
    "    N = len(docs)\n",
    "    # YOUR CODE HERE\n",
    "    score = Counter()\n",
    "    for word in processed_query:\n",
    "        if df[word]:\n",
    "            idf = np.log(N/df[word])\n",
    "        for ind, count in index[word]:\n",
    "            tf = np.log(1 + float(count))\n",
    "            score[ind] += tf*idf\n",
    "    return score.most_common()"
   ]
  },
  {
   "cell_type": "code",
   "execution_count": 32,
   "metadata": {
    "deletable": false,
    "editable": false,
    "nbgrader": {
     "cell_type": "code",
     "checksum": "7b66a514663d898694b09a23a597312b",
     "grade": true,
     "grade_id": "cell-bc68aeeacf42beb3",
     "locked": true,
     "points": 2,
     "schema_version": 3,
     "solution": false,
     "task": false
    }
   },
   "outputs": [],
   "source": [
    "\n",
    "#### Function check\n",
    "test_tfidf = tfidf_search(\"how to implement tf idf search\", index_set=1)[:5]\n",
    "assert isinstance(test_tfidf, list)\n",
    "assert len(test_tfidf[0]) == 2\n",
    "assert isinstance(test_tfidf[0][0], str)\n",
    "assert isinstance(test_tfidf[0][1], float)\n",
    "\n",
    "####"
   ]
  },
  {
   "cell_type": "code",
   "execution_count": 33,
   "metadata": {
    "deletable": false,
    "editable": false,
    "nbgrader": {
     "cell_type": "code",
     "checksum": "98fb1326cf4bf7983ae237ca8a9105f9",
     "grade": true,
     "grade_id": "cell-c7702fa8179fadb9",
     "locked": true,
     "points": 2,
     "schema_version": 3,
     "solution": false,
     "task": false
    }
   },
   "outputs": [
    {
     "name": "stdout",
     "output_type": "stream",
     "text": [
      "TFIDF Results:\n",
      "Rank 0(1.3e+01): PEEKABIT, Computer Offspring of Punched\\nCard PEEK...\n",
      "Rank 1(9.8): Variable Length Tree Structures Having Minimum Ave...\n",
      "Rank 2(8.2): A Stochastic Approach to the Grammatical Coding of...\n",
      "Rank 3(8.1): Full Table Quadratic Searching for Scatter Storage...\n",
      "Rank 4(7.6): Use of Tree Structures for Processing Files\\nIn da...\n"
     ]
    }
   ],
   "source": [
    "\n",
    "test_tfidf_2 = tfidf_search(\"computer word search\", index_set=2)[:5]\n",
    "print(f\"TFIDF Results:\")\n",
    "print_results(test_tfidf_2)\n"
   ]
  },
  {
   "cell_type": "code",
   "execution_count": 34,
   "metadata": {
    "deletable": false,
    "editable": false,
    "nbgrader": {
     "cell_type": "code",
     "checksum": "733b5b67be5e53989f5b763ce5e52ee9",
     "grade": true,
     "grade_id": "cell-3284f50ac29abbaa",
     "locked": true,
     "points": 3,
     "schema_version": 3,
     "solution": false,
     "task": false
    }
   },
   "outputs": [
    {
     "name": "stdout",
     "output_type": "stream",
     "text": [
      "TFIDF Results:\n",
      "Rank 0(9.4): Variable Length Tree Structures Having Minimum Ave...\n",
      "Rank 1(7.4): On the Feasibility of Voice Input to\\nan On-line C...\n",
      "Rank 2(7.3): Median Split Trees: A Fast Lookup Technique for Fr...\n",
      "Rank 3(7.0): Execution Time Requirements for Encipherment Progr...\n",
      "Rank 4(7.0): Storage and Search Properties of a Tree-Organized ...\n"
     ]
    }
   ],
   "source": [
    "\n",
    "test_tfidf_1 = tfidf_search(\"computer word search\", index_set=1)[:5]\n",
    "print(f\"TFIDF Results:\")\n",
    "print_results(test_tfidf_1)\n"
   ]
  },
  {
   "cell_type": "code",
   "execution_count": 35,
   "metadata": {
    "deletable": false,
    "editable": false,
    "nbgrader": {
     "cell_type": "code",
     "checksum": "e0edb37a5ae807a2de85d578c87ccb78",
     "grade": true,
     "grade_id": "cell-d908c80a3155354b",
     "locked": true,
     "points": 3,
     "schema_version": 3,
     "solution": false,
     "task": false
    }
   },
   "outputs": [
    {
     "name": "stdout",
     "output_type": "stream",
     "text": [
      "top-5 docs for index1 with BOW search: ('1771', '1936', '1543', '2535', '678')\n",
      "top-5 docs for index2 with BOW search: ('1525', '1936', '1844', '1700', '1366')\n",
      "top-5 docs for index1 with TF-IDF search: ('1936', '2054', '3041', '2620', '944')\n",
      "top-5 docs for index2 with TF-IDF search: ('1700', '1936', '1235', '2018', '849')\n"
     ]
    }
   ],
   "source": [
    "\n",
    "print('top-5 docs for index1 with BOW search:', list(zip(*test_bow_1[:5]))[0])\n",
    "print('top-5 docs for index2 with BOW search:', list(zip(*test_bow_2[:5]))[0])\n",
    "print('top-5 docs for index1 with TF-IDF search:', list(zip(*test_tfidf_1[:5]))[0])\n",
    "print('top-5 docs for index2 with TF-IDF search:', list(zip(*test_tfidf_2[:5]))[0])\n",
    "\n"
   ]
  },
  {
   "cell_type": "markdown",
   "metadata": {
    "deletable": false,
    "editable": false,
    "nbgrader": {
     "cell_type": "markdown",
     "checksum": "cdffc83f0eaea937cf64a212e7e9af8d",
     "grade": false,
     "grade_id": "cell-f5d923459ba21733",
     "locked": true,
     "schema_version": 3,
     "solution": false,
     "task": false
    }
   },
   "source": [
    "--- \n",
    "\n",
    "### Section 3.3: Query Likelihood Model (35 points) <a class=\"anchor\" id=\"qlm\"></a>\n",
    "\n",
    "In this section, you will implement a simple query likelihood model. \n",
    "\n",
    "\n",
    "#### 3.3.1 Naive QL (15 points)\n",
    "\n",
    "First, let us implement a naive version of a QL model, assuming a multinomial unigram language model (with a uniform prior over the documents). \n",
    "\n"
   ]
  },
  {
   "cell_type": "code",
   "execution_count": 36,
   "metadata": {
    "deletable": false,
    "editable": false,
    "nbgrader": {
     "cell_type": "code",
     "checksum": "b7ae2b7d818b428b4638c1c9206d2aca",
     "grade": false,
     "grade_id": "cell-98505778f7b68e7f",
     "locked": true,
     "schema_version": 3,
     "solution": false,
     "task": false
    }
   },
   "outputs": [],
   "source": [
    "#### Document length for normalization\n",
    "\n",
    "def doc_lengths(documents):\n",
    "    doc_lengths = {doc_id:len(doc) for (doc_id, doc) in documents}\n",
    "    return doc_lengths\n",
    "\n",
    "doc_lengths_1 = doc_lengths(doc_repr_1)\n",
    "doc_lengths_2 = doc_lengths(doc_repr_2)\n",
    "\n",
    "def get_doc_lengths(index_set):\n",
    "    assert index_set in {1, 2}\n",
    "    return {\n",
    "        1: doc_lengths_1,\n",
    "        2: doc_lengths_2\n",
    "    }[index_set]\n",
    "####"
   ]
  },
  {
   "cell_type": "code",
   "execution_count": 37,
   "metadata": {
    "deletable": false,
    "nbgrader": {
     "cell_type": "code",
     "checksum": "cedd08303a914243fefdb6b876977ca1",
     "grade": false,
     "grade_id": "cell-8bcf2b804d636c2e",
     "locked": false,
     "schema_version": 3,
     "solution": true,
     "task": false
    }
   },
   "outputs": [],
   "source": [
    "# TODO: Implement this! (15 points)\n",
    "def naive_ql_search(query, index_set):\n",
    "    \"\"\"\n",
    "        Perform a search over all documents with the given query using a naive QL model. \n",
    "        Note #1: You have to use the `get_index` (and get_doc_lengths) function created in the previous cells\n",
    "        Input: \n",
    "            query - a (unprocessed) query\n",
    "            index_set - the index to use\n",
    "        Output: a list of (document_id, score), sorted in descending relevance to the given query \n",
    "    \"\"\"\n",
    "    index = get_index(index_set)\n",
    "    doc_lengths = get_doc_lengths(index_set)\n",
    "    processed_query = preprocess_query(query, index_set)\n",
    "    # YOUR CODE HERE\n",
    "\n",
    "    counters = []\n",
    "    possible_docs = []\n",
    "    for word in processed_query:\n",
    "        value = index[word]\n",
    "        counter = Counter()\n",
    "        for doc_id, token_count in value:\n",
    "            \n",
    "            counter[doc_id] = token_count / doc_lengths[doc_id]\n",
    "            # reduce future search space\n",
    "            if doc_id not in possible_docs:\n",
    "                possible_docs.append(doc_id)\n",
    "        counters.append(counter)\n",
    "        \n",
    "    final_counter = Counter()\n",
    "    for doc_id in possible_docs:\n",
    "        score = 1\n",
    "        #\n",
    "        for counter in counters:\n",
    "            # Defaults to zero score if a doc is missing one word\n",
    "            score *= counter[doc_id]\n",
    "        # only add documents that contain all words\n",
    "        final_counter[doc_id] = score\n",
    "    scores = final_counter.most_common()\n",
    "    return scores"
   ]
  },
  {
   "cell_type": "code",
   "execution_count": 38,
   "metadata": {
    "deletable": false,
    "editable": false,
    "nbgrader": {
     "cell_type": "code",
     "checksum": "b550d15bdad28354c336020a00c33d56",
     "grade": true,
     "grade_id": "cell-5a83ac12ecde8578",
     "locked": true,
     "points": 3,
     "schema_version": 3,
     "solution": false,
     "task": false
    }
   },
   "outputs": [
    {
     "name": "stdout",
     "output_type": "stream",
     "text": [
      "Naive QL Results:\n",
      "Rank 0(0.2): A Report Writer For COBOL...\n",
      "Rank 1(0.2): A CRT Report Generating System...\n",
      "Rank 2(0.17): Preliminary Report-International Algebraic Languag...\n",
      "Rank 3(0.17): Supplement to the ALGOL 60 Report...\n",
      "Rank 4(0.14): ALGOL Sub-Committee Report - Extensions...\n"
     ]
    }
   ],
   "source": [
    "#### Function check\n",
    "test_naiveql = naive_ql_search(\"report\", index_set=1)[:5]\n",
    "print(f\"Naive QL Results:\")\n",
    "print_results(test_naiveql)\n",
    "####"
   ]
  },
  {
   "cell_type": "code",
   "execution_count": 39,
   "metadata": {
    "deletable": false,
    "editable": false,
    "nbgrader": {
     "cell_type": "code",
     "checksum": "799df1d81c63fe90edbb6c218fc707fb",
     "grade": true,
     "grade_id": "cell-80f4bf2137f997bb",
     "locked": true,
     "points": 2,
     "schema_version": 3,
     "solution": false,
     "task": false
    }
   },
   "outputs": [],
   "source": [
    "#### Please do not change this. This cell is used for grading."
   ]
  },
  {
   "cell_type": "code",
   "execution_count": 40,
   "metadata": {
    "deletable": false,
    "editable": false,
    "nbgrader": {
     "cell_type": "code",
     "checksum": "875a4a517d27e20625d41783cebec118",
     "grade": true,
     "grade_id": "cell-5ce2993458a8ce51",
     "locked": true,
     "points": 3,
     "schema_version": 3,
     "solution": false,
     "task": false
    }
   },
   "outputs": [],
   "source": [
    "#### Please do not change this. This cell is used for grading."
   ]
  },
  {
   "cell_type": "code",
   "execution_count": 41,
   "metadata": {
    "deletable": false,
    "editable": false,
    "nbgrader": {
     "cell_type": "code",
     "checksum": "d5c4e1c3852e71a46f32825b122f1b71",
     "grade": true,
     "grade_id": "cell-7753bdb54e292f3d",
     "locked": true,
     "points": 3,
     "schema_version": 3,
     "solution": false,
     "task": false
    }
   },
   "outputs": [],
   "source": [
    "#### Please do not change this. This cell is used for grading."
   ]
  },
  {
   "cell_type": "code",
   "execution_count": 42,
   "metadata": {
    "deletable": false,
    "editable": false,
    "nbgrader": {
     "cell_type": "code",
     "checksum": "c4d4332d4356e89ce0240f6b80e1899a",
     "grade": true,
     "grade_id": "cell-54e476e2f96e64bb",
     "locked": true,
     "points": 4,
     "schema_version": 3,
     "solution": false,
     "task": false
    }
   },
   "outputs": [],
   "source": [
    "#### Please do not change this. This cell is used for grading."
   ]
  },
  {
   "cell_type": "markdown",
   "metadata": {
    "deletable": false,
    "editable": false,
    "nbgrader": {
     "cell_type": "markdown",
     "checksum": "8d739dc91a22bd48897f603885f95a74",
     "grade": false,
     "grade_id": "cell-5414dfd69dab8b94",
     "locked": true,
     "schema_version": 3,
     "solution": false,
     "task": false
    }
   },
   "source": [
    "---\n",
    "#### 3.3.2 QL (20 points)\n",
    "Now, let's implement a QL model that handles the issues with the naive version. In particular, you will implement a QL model with Jelinek-Mercer Smoothing. That means an interpolated score is computed per word - one term is the same as the previous naive version, and the second term comes from a unigram language model. In addition, you should accumulate the scores by summing the **log** (smoothed) probability which leads to better numerical stability."
   ]
  },
  {
   "cell_type": "code",
   "execution_count": 43,
   "metadata": {
    "deletable": false,
    "nbgrader": {
     "cell_type": "code",
     "checksum": "b8c6abf937ad333e628f1db891f2e29e",
     "grade": false,
     "grade_id": "cell-bb1f506409771257",
     "locked": false,
     "schema_version": 3,
     "solution": true,
     "task": false
    }
   },
   "outputs": [],
   "source": [
    "# TODO: Implement this! (20 points)\n",
    "\n",
    "# #YOUR CODE HERE\n",
    "def ql_search(query, index_set):\n",
    "    \"\"\"\n",
    "        Perform a search over all documents with the given query using a naive QL model. \n",
    "        Note #1: You have to use the `get_index` (and get_doc_lengths) function created in the previous cells\n",
    "        Input: \n",
    "            query - a (unprocessed) query\n",
    "            index_set - the index to use\n",
    "        Output: a list of (document_id, score), sorted in descending relevance to the given query \n",
    "    \"\"\"\n",
    "    index = get_index(index_set)\n",
    "    doc_lengths = get_doc_lengths(index_set)\n",
    "    processed_query = preprocess_query(query, index_set)\n",
    "    # YOUR CODE HERE\n",
    "    \n",
    "    cl = sum(doc_lengths.values())\n",
    "    smoothing = 0.1\n",
    "    \n",
    "    counters = []\n",
    "    \n",
    "    counter = Counter()\n",
    "    \n",
    "    for word in processed_query:\n",
    "        cf = 0\n",
    "        for (doc_id, count) in index[word]:\n",
    "            cf += count\n",
    "            \n",
    "        # Skip fake words\n",
    "        if cf == 0:\n",
    "                continue\n",
    "        \n",
    "        # Avoid recalculating\n",
    "        base_line = smoothing * (cf / cl)\n",
    "        alpha = 1 - smoothing\n",
    "        \n",
    "        # turn index[word] into a doc->tf lookup table with default 0\n",
    "        ind = defaultdict(lambda: 0, index[word])\n",
    "        \n",
    "        for doc in doc_lengths.keys():\n",
    "            tf = ind[doc]\n",
    "            dl = doc_lengths[doc]\n",
    "            \n",
    "            # Calculate  score\n",
    "            score = np.log(alpha * (tf / dl) + base_line)\n",
    "            \n",
    "            # Sum log probabilities\n",
    "            counter[doc] += score\n",
    "    scores = counter.most_common()\n",
    "    return scores"
   ]
  },
  {
   "cell_type": "code",
   "execution_count": 44,
   "metadata": {
    "deletable": false,
    "editable": false,
    "nbgrader": {
     "cell_type": "code",
     "checksum": "0b12a7f3355193a257fd9f5f69a66562",
     "grade": true,
     "grade_id": "cell-850e9d6369bcec32",
     "locked": true,
     "points": 4,
     "schema_version": 3,
     "solution": false,
     "task": false
    }
   },
   "outputs": [
    {
     "name": "stdout",
     "output_type": "stream",
     "text": [
      "Rank 0(-1.7): A Report Writer For COBOL...\n",
      "Rank 1(-1.7): A CRT Report Generating System...\n",
      "Rank 2(-1.9): Preliminary Report-International Algebraic Languag...\n",
      "Rank 3(-1.9): Supplement to the ALGOL 60 Report...\n",
      "Rank 4(-2.1): ALGOL Sub-Committee Report - Extensions...\n",
      "\n",
      "Rank 0(-1.7e+01): A Report Writer For COBOL...\n",
      "Rank 1(-1.7e+01): A CRT Report Generating System...\n",
      "Rank 2(-1.9e+01): Preliminary Report-International Algebraic Languag...\n",
      "Rank 3(-1.9e+01): Supplement to the ALGOL 60 Report...\n",
      "Rank 4(-2.1e+01): ALGOL Sub-Committee Report - Extensions...\n"
     ]
    }
   ],
   "source": [
    "#### Function check\n",
    "test_ql_results = ql_search(\"report\", index_set=1)[:5]\n",
    "print_results(test_ql_results)\n",
    "print()\n",
    "test_ql_results_long = ql_search(\"report \" * 10, index_set=1)[:5]\n",
    "print_results(test_ql_results_long)\n",
    "####"
   ]
  },
  {
   "cell_type": "code",
   "execution_count": 45,
   "metadata": {
    "deletable": false,
    "editable": false,
    "nbgrader": {
     "cell_type": "code",
     "checksum": "e40be645140389c115849856145f5b59",
     "grade": true,
     "grade_id": "cell-958cdcf6fd6899b7",
     "locked": true,
     "points": 3,
     "schema_version": 3,
     "solution": false,
     "task": false
    }
   },
   "outputs": [],
   "source": [
    "#### Please do not change this. This cell is used for grading."
   ]
  },
  {
   "cell_type": "code",
   "execution_count": 46,
   "metadata": {
    "deletable": false,
    "editable": false,
    "nbgrader": {
     "cell_type": "code",
     "checksum": "41d4aff001df17e7963ba79b45810b30",
     "grade": true,
     "grade_id": "cell-384dc23a0c251f6e",
     "locked": true,
     "points": 4,
     "schema_version": 3,
     "solution": false,
     "task": false
    }
   },
   "outputs": [],
   "source": [
    "#### Please do not change this. This cell is used for grading."
   ]
  },
  {
   "cell_type": "code",
   "execution_count": 47,
   "metadata": {
    "deletable": false,
    "editable": false,
    "nbgrader": {
     "cell_type": "code",
     "checksum": "893e8c5a073abc8ebb763d267b91bc02",
     "grade": true,
     "grade_id": "cell-7218966cba5097cc",
     "locked": true,
     "points": 4,
     "schema_version": 3,
     "solution": false,
     "task": false
    }
   },
   "outputs": [],
   "source": [
    "#### Please do not change this. This cell is used for grading."
   ]
  },
  {
   "cell_type": "code",
   "execution_count": 48,
   "metadata": {
    "deletable": false,
    "editable": false,
    "nbgrader": {
     "cell_type": "code",
     "checksum": "f99cb6f8b1f5830aaed8f06712ff846e",
     "grade": true,
     "grade_id": "cell-481ab073259ae53f",
     "locked": true,
     "points": 5,
     "schema_version": 3,
     "solution": false,
     "task": false
    }
   },
   "outputs": [],
   "source": [
    "#### Please do not change this. This cell is used for grading."
   ]
  },
  {
   "cell_type": "markdown",
   "metadata": {
    "deletable": false,
    "editable": false,
    "nbgrader": {
     "cell_type": "markdown",
     "checksum": "c02f14705d679579b1aa9f78f54779d5",
     "grade": false,
     "grade_id": "cell-f44088bfdac1dc90",
     "locked": true,
     "schema_version": 3,
     "solution": false,
     "task": false
    }
   },
   "source": [
    "--- \n",
    "\n",
    "### Section 3.4: BM25 (20 points) <a class=\"anchor\" id=\"bm25\"></a>\n",
    "\n",
    "In this section, we will implement the BM25 scoring function. \n"
   ]
  },
  {
   "cell_type": "code",
   "execution_count": 49,
   "metadata": {
    "deletable": false,
    "nbgrader": {
     "cell_type": "code",
     "checksum": "e57efe06ea92af1c83784a42eb3d86e0",
     "grade": false,
     "grade_id": "cell-15640fc9b5d00a3c",
     "locked": false,
     "schema_version": 3,
     "solution": true,
     "task": false
    }
   },
   "outputs": [],
   "source": [
    "# TODO: Implement this! (20 points)\n",
    "def bm25_search(query, index_set):\n",
    "    \"\"\"\n",
    "        Perform a search over all documents with the given query using BM25. Use k_1 = 1.5 and b = 0.75\n",
    "        Note #1: You have to use the `get_index` (and `get_doc_lengths`) function created in the previous cells\n",
    "        Note #2: You might have to create some variables beforehand and use them in this function\n",
    "        \n",
    "        Input: \n",
    "            query - a (unprocessed) query\n",
    "            index_set - the index to use\n",
    "        Output: a list of (document_id, score), sorted in descending relevance to the given query \n",
    "    \"\"\"\n",
    "    \n",
    "    index = get_index(index_set)\n",
    "    df = get_df(index_set)\n",
    "    doc_lengths = get_doc_lengths(index_set)\n",
    "    processed_query = preprocess_query(query, index_set)\n",
    "    \n",
    "    # YOUR CODE HERE\n",
    "    b = 0.75\n",
    "    k1 = 1.5\n",
    "    \n",
    "    avg_doc_length = np.mean(list(doc_lengths.values()))\n",
    "    documents = len(docs)\n",
    "    idf = {key: np.log(documents / value) for (key, value) in df.items()}\n",
    "\n",
    "    scores  = []\n",
    "    for word in processed_query:\n",
    "        for key, value in index.items():\n",
    "            if word == key:\n",
    "                scores  += [(doc_id, idf[key] * (((k1 + 1)*token_count)/(k1*((1-b)+(b*doc_lengths[doc_id]/avg_doc_length))+token_count))) for doc_id, token_count in value]\n",
    "\n",
    "    d_query = defaultdict(lambda:[])\n",
    "\n",
    "    for key, value in scores:\n",
    "        if key in d_query:\n",
    "            d_query[key] += value\n",
    "        else:\n",
    "            d_query[key] = value\n",
    "\n",
    "    scores  = [(key, float(value)) for key, value in d_query.items()]\n",
    "    scores.sort(key=lambda x:x[1], reverse=True)\n",
    "\n",
    "    return scores       \n",
    "    "
   ]
  },
  {
   "cell_type": "code",
   "execution_count": 50,
   "metadata": {
    "deletable": false,
    "editable": false,
    "nbgrader": {
     "cell_type": "code",
     "checksum": "4be9de5d4e94637960d83725422bea6c",
     "grade": true,
     "grade_id": "cell-d10536bca72c74b1",
     "locked": true,
     "points": 3,
     "schema_version": 3,
     "solution": false,
     "task": false
    }
   },
   "outputs": [
    {
     "name": "stdout",
     "output_type": "stream",
     "text": [
      "Rank 0(6.7): A Report Writer For COBOL...\n",
      "Rank 1(6.7): A CRT Report Generating System...\n",
      "Rank 2(6.6): Preliminary Report-International Algebraic Languag...\n",
      "Rank 3(6.6): Supplement to the ALGOL 60 Report...\n",
      "Rank 4(6.5): ALGOL Sub-Committee Report - Extensions...\n"
     ]
    }
   ],
   "source": [
    "#### Function check\n",
    "test_bm25_results = bm25_search(\"report\", index_set=1)[:5]\n",
    "print_results(test_bm25_results)\n",
    "####"
   ]
  },
  {
   "cell_type": "code",
   "execution_count": 51,
   "metadata": {
    "deletable": false,
    "editable": false,
    "nbgrader": {
     "cell_type": "code",
     "checksum": "31b550d6a46ae4f8ede88788799ac2b9",
     "grade": true,
     "grade_id": "cell-60f6ec5052712d79",
     "locked": true,
     "points": 5,
     "schema_version": 3,
     "solution": false,
     "task": false
    }
   },
   "outputs": [],
   "source": [
    "#### Please do not change this. This cell is used for grading."
   ]
  },
  {
   "cell_type": "code",
   "execution_count": 52,
   "metadata": {
    "deletable": false,
    "editable": false,
    "nbgrader": {
     "cell_type": "code",
     "checksum": "3da2ec16bfe781916e71755d65aa2983",
     "grade": true,
     "grade_id": "cell-5d17524043a5abcc",
     "locked": true,
     "points": 5,
     "schema_version": 3,
     "solution": false,
     "task": false
    }
   },
   "outputs": [],
   "source": [
    "#### Please do not change this. This cell is used for grading."
   ]
  },
  {
   "cell_type": "code",
   "execution_count": 53,
   "metadata": {
    "deletable": false,
    "editable": false,
    "nbgrader": {
     "cell_type": "code",
     "checksum": "e7b563d54fa84c20909c0ae107010541",
     "grade": true,
     "grade_id": "cell-ff8e704eda1184e3",
     "locked": true,
     "points": 3,
     "schema_version": 3,
     "solution": false,
     "task": false
    }
   },
   "outputs": [],
   "source": [
    "#### Please do not change this. This cell is used for grading."
   ]
  },
  {
   "cell_type": "code",
   "execution_count": 54,
   "metadata": {
    "deletable": false,
    "editable": false,
    "nbgrader": {
     "cell_type": "code",
     "checksum": "b013f90974b396630a8831d6f1d7e5f7",
     "grade": true,
     "grade_id": "cell-a52310500a2543cb",
     "locked": true,
     "points": 4,
     "schema_version": 3,
     "solution": false,
     "task": false
    }
   },
   "outputs": [],
   "source": [
    "#### Please do not change this. This cell is used for grading."
   ]
  },
  {
   "cell_type": "markdown",
   "metadata": {
    "deletable": false,
    "editable": false,
    "nbgrader": {
     "cell_type": "markdown",
     "checksum": "8fcf67cb7d5e8b26cb9bf1f0aa42c847",
     "grade": false,
     "grade_id": "cell-8b2b412c81d62f2d",
     "locked": true,
     "schema_version": 3,
     "solution": false,
     "task": false
    }
   },
   "source": [
    "\n",
    "---\n",
    "\n",
    "### 3.5. Test Your Functions\n",
    "\n",
    "The widget below allows you to play with the search functions you've written so far. Use this to test your search functions and ensure that they work as expected."
   ]
  },
  {
   "cell_type": "code",
   "execution_count": 55,
   "metadata": {
    "deletable": false,
    "editable": false,
    "nbgrader": {
     "cell_type": "code",
     "checksum": "dfeb204b390acc0794dbdcac92b0cf2c",
     "grade": false,
     "grade_id": "cell-c9c2bb76354e8d97",
     "locked": true,
     "schema_version": 3,
     "solution": false,
     "task": false
    }
   },
   "outputs": [],
   "source": [
    "#### Highlighter function\n",
    "# class for results\n",
    "ResultRow = namedtuple(\"ResultRow\", [\"doc_id\", \"snippet\", \"score\"])\n",
    "# doc_id -> doc\n",
    "docs_by_id = dict((d[0], d[1]) for d in docs)\n",
    "\n",
    "def highlight_text(document, query, tol=17):\n",
    "    import re\n",
    "    tokens = tokenize(query)\n",
    "    regex = \"|\".join(f\"(\\\\b{t}\\\\b)\" for t in tokens)\n",
    "    regex = re.compile(regex, flags=re.IGNORECASE)\n",
    "    output = \"\"\n",
    "    i = 0\n",
    "    for m in regex.finditer(document):\n",
    "        start_idx = max(0, m.start() - tol)\n",
    "        end_idx = min(len(document), m.end() + tol)\n",
    "        output += \"\".join([\"...\",\n",
    "                        document[start_idx:m.start()],\n",
    "                        \"<strong>\",\n",
    "                        document[m.start():m.end()],\n",
    "                        \"</strong>\",\n",
    "                        document[m.end():end_idx],\n",
    "                        \"...\"])\n",
    "    return output.replace(\"\\n\", \" \")\n",
    "\n",
    "\n",
    "def make_results(query, search_fn, index_set):\n",
    "    results = []\n",
    "    for doc_id, score in search_fn(query, index_set):\n",
    "        highlight = highlight_text(docs_by_id[doc_id], query)\n",
    "        if len(highlight.strip()) == 0:\n",
    "            highlight = docs_by_id[doc_id]\n",
    "        results.append(ResultRow(doc_id, highlight, score))\n",
    "    return results\n",
    "####"
   ]
  },
  {
   "cell_type": "code",
   "execution_count": 56,
   "metadata": {},
   "outputs": [
    {
     "data": {
      "application/vnd.jupyter.widget-view+json": {
       "model_id": "b5bbb20254b447e1b3ea7a051b5edbdf",
       "version_major": 2,
       "version_minor": 0
      },
      "text/plain": [
       "Text(value='', description='Search Bar')"
      ]
     },
     "metadata": {},
     "output_type": "display_data"
    }
   ],
   "source": [
    "# TODO: Set this to the function you want to test!\n",
    "# this function should take in a query (string)\n",
    "# and return a sorted list of (doc_id, score) \n",
    "# with the most relevant document in the first position\n",
    "search_fn = bm25_search\n",
    "index_set = 1\n",
    "\n",
    "text = widgets.Text(description=\"Search Bar\", width=200)\n",
    "display(text)\n",
    "\n",
    "def handle_submit(sender):\n",
    "    print(f\"Searching for: '{sender.value}'\")\n",
    "    \n",
    "    results = make_results(sender.value, search_fn, index_set)\n",
    "    \n",
    "    # display only the top 5\n",
    "    results = results[:5]\n",
    "    \n",
    "    body = \"\"\n",
    "    for idx, r in enumerate(results):\n",
    "        body += f\"<li>Document #{r.doc_id}({r.score}): {r.snippet}</li>\"\n",
    "    display(HTML(f\"<ul>{body}</ul>\"))\n",
    "    \n",
    "\n",
    "text.on_submit(handle_submit)"
   ]
  },
  {
   "cell_type": "markdown",
   "metadata": {
    "deletable": false,
    "editable": false,
    "nbgrader": {
     "cell_type": "markdown",
     "checksum": "019b1ff878dc6339dd068e2d48d19904",
     "grade": false,
     "grade_id": "cell-8d46fe8e4f3d8cdb",
     "locked": true,
     "schema_version": 3,
     "solution": false,
     "task": false
    }
   },
   "source": [
    "---\n",
    "\n",
    "## Section 4: Evaluation (40 points) <a class=\"anchor\" id=\"evaluation\"></a>\n",
    "\n",
    "[Back to Part 1](#part1)\n",
    "\n",
    "In order to analyze the effectiveness of retrieval algorithms, we first have to learn how to evaluate such a system. In particular, we will work with offline evaluation metrics. These metrics are computed on a dataset with known relevance judgements.\n",
    "\n",
    "Implement the following evaluation metrics. \n",
    "\n",
    "1. Precision (7 points)\n",
    "2. Recall (7 points)\n",
    "3. Mean Average Precision (13 points)\n",
    "4. Expected Reciprocal Rank (13 points)"
   ]
  },
  {
   "cell_type": "markdown",
   "metadata": {
    "deletable": false,
    "editable": false,
    "nbgrader": {
     "cell_type": "markdown",
     "checksum": "e46f54c7f81d88bbc950b0fae14c4ca5",
     "grade": false,
     "grade_id": "cell-3419fd3bc663d7cc",
     "locked": true,
     "schema_version": 3,
     "solution": false,
     "task": false
    }
   },
   "source": [
    "---\n",
    "### 4.1 Read relevance labels\n",
    "\n",
    "Let's take a look at the `qrels.text` file, which contains the ground truth relevance scores. The relevance labels for CACM are binary - either 0 or 1. \n"
   ]
  },
  {
   "cell_type": "code",
   "execution_count": 57,
   "metadata": {
    "deletable": false,
    "editable": false,
    "nbgrader": {
     "cell_type": "code",
     "checksum": "6c11025f5a222796f2882c73c1634799",
     "grade": false,
     "grade_id": "cell-6b738366059dde9e",
     "locked": true,
     "schema_version": 3,
     "solution": false,
     "task": false
    }
   },
   "outputs": [
    {
     "name": "stdout",
     "output_type": "stream",
     "text": [
      "01 1410  0 0\n",
      "01 1572  0 0\n",
      "01 1605  0 0\n",
      "01 2020  0 0\n",
      "01 2358  0 0\n",
      "02 2434  0 0\n",
      "02 2863  0 0\n",
      "02 3078  0 0\n",
      "03 1134  0 0\n",
      "03 1613  0 0\n"
     ]
    }
   ],
   "source": [
    "!head ./datasets/qrels.text"
   ]
  },
  {
   "cell_type": "markdown",
   "metadata": {
    "deletable": false,
    "editable": false,
    "nbgrader": {
     "cell_type": "markdown",
     "checksum": "7ce95245c1597183320d7254afde5c8e",
     "grade": false,
     "grade_id": "cell-10e16bff2753ffbb",
     "locked": true,
     "schema_version": 3,
     "solution": false,
     "task": false
    }
   },
   "source": [
    "---\n",
    "\n",
    "The first column is the query_id and the second column is the document_id. We can safely ignore the 3rd and 4th columns."
   ]
  },
  {
   "cell_type": "code",
   "execution_count": 58,
   "metadata": {
    "deletable": false,
    "nbgrader": {
     "cell_type": "code",
     "checksum": "000c6d59dce08dba0ba1e8d691dbbc2e",
     "grade": false,
     "grade_id": "cell-ee5253a4ef602fce",
     "locked": false,
     "schema_version": 3,
     "solution": true,
     "task": false
    }
   },
   "outputs": [],
   "source": [
    "def read_qrels(root_folder = \"./datasets/\"):\n",
    "    \"\"\"\n",
    "        Reads the qrels.text file. \n",
    "        Output: A dictionary: query_id -> [list of relevant documents]\n",
    "    \"\"\"\n",
    "    with open(os.path.join(root_folder, \"qrels.text\")) as reader:\n",
    "        lines = reader.readlines()\n",
    "        \n",
    "    from collections import defaultdict\n",
    "    \n",
    "    relevant_docs = defaultdict(set)\n",
    "    \n",
    "    for line in lines:\n",
    "        query_id, doc_id, _, _ = line.split()\n",
    "        relevant_docs[str(int(query_id))].add(doc_id)\n",
    "    \n",
    "    return relevant_docs"
   ]
  },
  {
   "cell_type": "code",
   "execution_count": 59,
   "metadata": {
    "deletable": false,
    "editable": false,
    "nbgrader": {
     "cell_type": "code",
     "checksum": "d60caeba85c2a97d2211184a5ae91fd1",
     "grade": false,
     "grade_id": "cell-72215605fbe24f65",
     "locked": true,
     "schema_version": 3,
     "solution": false,
     "task": false
    }
   },
   "outputs": [],
   "source": [
    "#### Function check\n",
    "qrels = read_qrels()\n",
    "\n",
    "assert len(qrels) == 52, \"There should be 52 queries with relevance judgements\"\n",
    "assert sum(len(j) for j in qrels.values()) == 796, \"There should be a total of 796 Relevance Judgements\"\n",
    "\n",
    "assert np.min(np.array([len(j) for j in qrels.values()])) == 1\n",
    "assert np.max(np.array([len(j) for j in qrels.values()])) == 51\n",
    "\n",
    "####"
   ]
  },
  {
   "cell_type": "markdown",
   "metadata": {
    "deletable": false,
    "editable": false,
    "nbgrader": {
     "cell_type": "markdown",
     "checksum": "6c9e7428a52e291a2cdf92a379730d4c",
     "grade": false,
     "grade_id": "cell-176a6fb2939d0420",
     "locked": true,
     "schema_version": 3,
     "solution": false,
     "task": false
    }
   },
   "source": [
    "---\n",
    "**Note:** For a given query `query_id`, you can assume that documents *not* in `qrels[query_id]` are not relevant to `query_id`. \n"
   ]
  },
  {
   "cell_type": "markdown",
   "metadata": {
    "deletable": false,
    "editable": false,
    "nbgrader": {
     "cell_type": "markdown",
     "checksum": "b26a818c7b4f7ad490e00b35ea0edd69",
     "grade": false,
     "grade_id": "cell-bd8341b72cdd89bb",
     "locked": true,
     "schema_version": 3,
     "solution": false,
     "task": false
    }
   },
   "source": [
    "---\n",
    "### 4.2 Precision (7 points)\n",
    "Implement the `precision@k` metric:"
   ]
  },
  {
   "cell_type": "code",
   "execution_count": 60,
   "metadata": {
    "deletable": false,
    "nbgrader": {
     "cell_type": "code",
     "checksum": "43dea1979ebdec24ffcfeff71c670433",
     "grade": false,
     "grade_id": "cell-494bd0cce108ed67",
     "locked": false,
     "schema_version": 3,
     "solution": true,
     "task": false
    }
   },
   "outputs": [],
   "source": [
    "# TODO: Implement this! (7 points)\n",
    "def precision_k(results, relevant_docs, k):\n",
    "    \"\"\"\n",
    "        Compute Precision@K\n",
    "        Input: \n",
    "            results: A sorted list of 2-tuples (document_id, score), \n",
    "                    with the most relevant document in the first position\n",
    "            relevant_docs: A set of relevant documents. \n",
    "            k: the cut-off\n",
    "        Output: Precision@K\n",
    "    \"\"\"\n",
    "    if k > len(results):\n",
    "        k = len(results)\n",
    "    # YOUR CODE HERE\n",
    "    count = 0\n",
    "    for i in range(k):\n",
    "        doc_id = results[i][0]\n",
    "        if doc_id in relevant_docs:\n",
    "            count+=1\n",
    "    if k ==0:\n",
    "        return 0\n",
    "    else:\n",
    "        return count/k"
   ]
  },
  {
   "cell_type": "code",
   "execution_count": 61,
   "metadata": {
    "deletable": false,
    "editable": false,
    "nbgrader": {
     "cell_type": "code",
     "checksum": "9222e35582b1840ffb60fd02fb0b60c3",
     "grade": true,
     "grade_id": "cell-e7ff0d91c319ca64",
     "locked": true,
     "points": 7,
     "schema_version": 3,
     "solution": false,
     "task": false
    }
   },
   "outputs": [
    {
     "name": "stdout",
     "output_type": "stream",
     "text": [
      "query: What articles exist which deal with TSS (Time Sharing System), an\n",
      "operating system for IBM computers?\n",
      "precision@10 = 0.2\n"
     ]
    }
   ],
   "source": [
    "\n",
    "#### Function check\n",
    "qid = queries[0][0]\n",
    "qtext = queries[0][1]\n",
    "print(f'query:{qtext}')\n",
    "results = bm25_search(qtext, 2)\n",
    "precision = precision_k(results, qrels[qid], 10)\n",
    "print(f'precision@10 = {precision}')\n",
    "####"
   ]
  },
  {
   "cell_type": "markdown",
   "metadata": {
    "deletable": false,
    "editable": false,
    "nbgrader": {
     "cell_type": "markdown",
     "checksum": "8fd3b3998197c7097a40348500affb68",
     "grade": false,
     "grade_id": "cell-afd95f865bc7191e",
     "locked": true,
     "schema_version": 3,
     "solution": false,
     "task": false
    }
   },
   "source": [
    "---\n",
    "### 4.3 Recall (7 points)\n",
    "Implement the `recall@k` metric:"
   ]
  },
  {
   "cell_type": "code",
   "execution_count": 62,
   "metadata": {
    "deletable": false,
    "nbgrader": {
     "cell_type": "code",
     "checksum": "b2020e5741ae03b3fe35817ed8f4ccaa",
     "grade": false,
     "grade_id": "cell-c323fc8c3f8a7cf8",
     "locked": false,
     "schema_version": 3,
     "solution": true,
     "task": false
    }
   },
   "outputs": [],
   "source": [
    "# TODO: Implement this! (7 points)\n",
    "def recall_k(results, relevant_docs, k):\n",
    "    \"\"\"\n",
    "        Compute Recall@K\n",
    "        Input: \n",
    "            results: A sorted list of 2-tuples (document_id, score), with the most relevant document in the first position\n",
    "            relevant_docs: A set of relevant documents. \n",
    "            k: the cut-off\n",
    "        Output: Recall@K\n",
    "    \"\"\"\n",
    "    # YOUR CODE HERE\n",
    "    if k > len(results):\n",
    "        k = len(results)\n",
    "    count = 0\n",
    "    for i in range(k):\n",
    "        doc_id = results[i][0]\n",
    "        if doc_id in relevant_docs:\n",
    "            count+=1\n",
    "    if k == 0:\n",
    "        return 0\n",
    "    else:\n",
    "        return count/len(relevant_docs)"
   ]
  },
  {
   "cell_type": "code",
   "execution_count": 63,
   "metadata": {
    "deletable": false,
    "editable": false,
    "nbgrader": {
     "cell_type": "code",
     "checksum": "56b6e0b8522f8b2dffbfb3206b2efa84",
     "grade": true,
     "grade_id": "cell-b25172161aef165c",
     "locked": true,
     "points": 7,
     "schema_version": 3,
     "solution": false,
     "task": false
    }
   },
   "outputs": [
    {
     "name": "stdout",
     "output_type": "stream",
     "text": [
      "query: SETL, Very High Level Languages\n",
      "recall@10 = 0.3157894736842105\n"
     ]
    }
   ],
   "source": [
    "#### Function check\n",
    "qid = queries[10][0]\n",
    "qtext = queries[10][1]\n",
    "print(f'query:{qtext}')\n",
    "results = bm25_search(qtext, 2)\n",
    "recall = recall_k(results, qrels[qid], 10)\n",
    "print(f'recall@10 = {recall}')\n",
    "####"
   ]
  },
  {
   "cell_type": "markdown",
   "metadata": {
    "deletable": false,
    "editable": false,
    "nbgrader": {
     "cell_type": "markdown",
     "checksum": "b3d3c7bd1cd977cd07ef5df7d3fbf159",
     "grade": false,
     "grade_id": "cell-77fd2e7a39a74739",
     "locked": true,
     "schema_version": 3,
     "solution": false,
     "task": false
    }
   },
   "source": [
    "---\n",
    "### 4.4 Mean Average Precision (13 points)\n",
    "Implement the `map` metric:"
   ]
  },
  {
   "cell_type": "code",
   "execution_count": 64,
   "metadata": {
    "deletable": false,
    "nbgrader": {
     "cell_type": "code",
     "checksum": "aae2c62f2ffd76f5b6c004e9519b9f14",
     "grade": false,
     "grade_id": "cell-e50925fa9093a30d",
     "locked": false,
     "schema_version": 3,
     "solution": true,
     "task": false
    }
   },
   "outputs": [],
   "source": [
    "# TODO: Implement this! (12 points)\n",
    "def average_precision(results, relevant_docs):\n",
    "    \"\"\"\n",
    "        Compute Average Precision (for a single query - the results are \n",
    "        averaged across queries to get MAP in the next few cells)\n",
    "        Hint: You can use the recall_k and precision_k functions here!\n",
    "        Input: \n",
    "            results: A sorted list of 2-tuples (document_id, score), with the most \n",
    "                    relevant document in the first position\n",
    "        Output: Average Precision\n",
    "    \"\"\"\n",
    "    # YOUR CODE HERE\n",
    "    precisions = []\n",
    "    for k in range(len(results)):\n",
    "        if results[k][0] in relevant_docs:\n",
    "            precisions.append(precision_k(results, relevant_docs, k+1))\n",
    "    if len(precisions) > 0:\n",
    "        return np.mean(precisions)\n",
    "    else:\n",
    "        return 0"
   ]
  },
  {
   "cell_type": "code",
   "execution_count": 65,
   "metadata": {
    "deletable": false,
    "editable": false,
    "nbgrader": {
     "cell_type": "code",
     "checksum": "3b00e147c2fa146fa59f179b7c9cab75",
     "grade": true,
     "grade_id": "cell-8a1f7ec98571e58b",
     "locked": true,
     "points": 13,
     "schema_version": 3,
     "solution": false,
     "task": false
    }
   },
   "outputs": [
    {
     "name": "stdout",
     "output_type": "stream",
     "text": [
      "query: computational complexity, intractability, class-complete reductions,\n",
      "algorithms and efficiency\n",
      "MAP = 0.1724040411055945\n"
     ]
    }
   ],
   "source": [
    "#### Function check\n",
    "qid = queries[20][0]\n",
    "qtext = queries[20][1]\n",
    "print(f'query:{qtext}')\n",
    "results = bm25_search(qtext, 2)\n",
    "mean_ap = average_precision(results, qrels[qid])\n",
    "print(f'MAP = {mean_ap}')\n",
    "####"
   ]
  },
  {
   "cell_type": "markdown",
   "metadata": {
    "deletable": false,
    "editable": false,
    "nbgrader": {
     "cell_type": "markdown",
     "checksum": "36f85f45ef52d9467ba9a717d6d99ff2",
     "grade": false,
     "grade_id": "cell-1da18f0fe6f6d7be",
     "locked": true,
     "schema_version": 3,
     "solution": false,
     "task": false
    }
   },
   "source": [
    "---\n",
    "### 4.5 Expected Reciprocal Rank (13 points)\n",
    "Implement the `err` metric:"
   ]
  },
  {
   "cell_type": "code",
   "execution_count": 66,
   "metadata": {
    "deletable": false,
    "nbgrader": {
     "cell_type": "code",
     "checksum": "9ac94db728e23ea1f5dc0d509473c6fb",
     "grade": false,
     "grade_id": "cell-64262889f9b267ea",
     "locked": false,
     "schema_version": 3,
     "solution": true,
     "task": false
    }
   },
   "outputs": [],
   "source": [
    "# TODO: Implement this! (12 points)\n",
    "def err(results, relevant_docs):\n",
    "    \"\"\"\n",
    "        Compute the expected reciprocal rank.\n",
    "        Hint: https://dl.acm.org/doi/pdf/10.1145/1645953.1646033?download=true\n",
    "        Input: \n",
    "            results: A sorted list of 2-tuples (document_id, score), with the most \n",
    "                    relevant document in the first position\n",
    "            relevant_docs: A set of relevant documents. \n",
    "        Output: ERR\n",
    "        \n",
    "    \"\"\"\n",
    "    # YOUR CODE HERE\n",
    "    p = 1\n",
    "    err = 0\n",
    "    for i, (doc_id, score) in enumerate(results):\n",
    "        if doc_id in relevant_docs:\n",
    "            R = 1/2\n",
    "            err += p * (R/(i+1))\n",
    "            p*=(1-R)\n",
    "    return err"
   ]
  },
  {
   "cell_type": "code",
   "execution_count": 67,
   "metadata": {
    "deletable": false,
    "editable": false,
    "nbgrader": {
     "cell_type": "code",
     "checksum": "b7d201de0990b69d5f38704668665d87",
     "grade": true,
     "grade_id": "cell-071e3970ff1afae4",
     "locked": true,
     "points": 13,
     "schema_version": 3,
     "solution": false,
     "task": false
    }
   },
   "outputs": [
    {
     "name": "stdout",
     "output_type": "stream",
     "text": [
      "query: I'd like to find articles describing the use of singular value decomposition\n",
      "in digital image processing.  Applications include finding approximations\n",
      "to the original image and restoring images that are subject to noise. An\n",
      "article on the subject is H.C. Andrews and C.L. Patterson \"Outer product\n",
      "expansions and their uses in digital image processing\", American Mathematical\n",
      "Monthly, vol. 82.\n",
      "ERR = 0.625\n"
     ]
    }
   ],
   "source": [
    "#### Function check\n",
    "qid = queries[30][0]\n",
    "qtext = queries[30][1]\n",
    "print(f'query:{qtext}')\n",
    "results = bm25_search(qtext, 2)\n",
    "ERR = err(results, qrels[qid])\n",
    "print(f'ERR = {ERR}')\n",
    "####"
   ]
  },
  {
   "cell_type": "markdown",
   "metadata": {
    "deletable": false,
    "editable": false,
    "nbgrader": {
     "cell_type": "markdown",
     "checksum": "5bd94caf77cfa5f34675df758d91002d",
     "grade": false,
     "grade_id": "cell-43709a765f353946",
     "locked": true,
     "schema_version": 3,
     "solution": false,
     "task": false
    }
   },
   "source": [
    "---\n",
    "### 4.6 Evaluate Search Functions\n",
    "\n",
    "Let's define some metrics@k using [partial functions](https://docs.python.org/3/library/functools.html#functools.partial)"
   ]
  },
  {
   "cell_type": "code",
   "execution_count": 68,
   "metadata": {
    "deletable": false,
    "editable": false,
    "nbgrader": {
     "cell_type": "code",
     "checksum": "49ccc158e5fb7340ace55e90eeb9d62a",
     "grade": false,
     "grade_id": "cell-dab560e18e340da8",
     "locked": true,
     "schema_version": 3,
     "solution": false,
     "task": false
    }
   },
   "outputs": [],
   "source": [
    "#### metrics@k functions\n",
    "\n",
    "recall_at_1 = partial(recall_k, k=1)\n",
    "recall_at_5 = partial(recall_k, k=5)\n",
    "recall_at_10 = partial(recall_k, k=10)\n",
    "precision_at_1 = partial(precision_k, k=1)\n",
    "precision_at_5 = partial(precision_k, k=5)\n",
    "precision_at_10 = partial(precision_k, k=10)\n",
    "\n",
    "\n",
    "list_of_metrics = [\n",
    "    (\"ERR\", err),\n",
    "    (\"MAP\", average_precision),\n",
    "    (\"Recall@1\",recall_at_1),\n",
    "    (\"Recall@5\", recall_at_5),\n",
    "    (\"Recall@10\", recall_at_10),\n",
    "    (\"Precision@1\", precision_at_1),\n",
    "    (\"Precision@5\", precision_at_5),\n",
    "    (\"Precision@10\", precision_at_10)]\n",
    "####"
   ]
  },
  {
   "cell_type": "markdown",
   "metadata": {
    "deletable": false,
    "editable": false,
    "nbgrader": {
     "cell_type": "markdown",
     "checksum": "fb541002c03221b453b8936290020ea5",
     "grade": false,
     "grade_id": "cell-580a2bdc66d03b47",
     "locked": true,
     "schema_version": 3,
     "solution": false,
     "task": false
    }
   },
   "source": [
    "---\n",
    "\n",
    "The following function evaluates a `search_fn` using the `metric_fn`. Note that the final number is averaged over all the queries"
   ]
  },
  {
   "cell_type": "code",
   "execution_count": 69,
   "metadata": {},
   "outputs": [],
   "source": [
    "#### Evaluate a search function\n",
    "\n",
    "list_of_search_fns = [\n",
    "    (\"BOW\", bow_search),\n",
    "    (\"TF-IDF\", tfidf_search),\n",
    "    (\"NaiveQL\", naive_ql_search),\n",
    "    (\"QL\", ql_search),\n",
    "    (\"BM25\", bm25_search)\n",
    "]\n",
    "\n",
    "def evaluate_search_fn(search_fn, metric_fns, index_set=None):\n",
    "    # build a dict query_id -> query \n",
    "    queries_by_id = dict((q[0], q[1]) for q in queries)\n",
    "    \n",
    "    metrics = {}\n",
    "    for metric, metric_fn in metric_fns:\n",
    "        metrics[metric] = np.zeros(len(qrels), dtype=np.float32)\n",
    "    \n",
    "    for i, (query_id, relevant_docs) in enumerate(qrels.items()):\n",
    "        query = queries_by_id[query_id]\n",
    "        if index_set:\n",
    "            results = search_fn(query, index_set)\n",
    "        else:\n",
    "            results = search_fn(query)\n",
    "        \n",
    "        for metric, metric_fn in metric_fns:\n",
    "            metrics[metric][i] = metric_fn(results, relevant_docs)\n",
    "\n",
    "    \n",
    "    \n",
    "    final_dict = {}\n",
    "    for metric, metric_vals in metrics.items():\n",
    "        final_dict[metric] = metric_vals.mean()\n",
    "    \n",
    "    return final_dict\n",
    "####"
   ]
  },
  {
   "cell_type": "markdown",
   "metadata": {
    "deletable": false,
    "editable": false,
    "nbgrader": {
     "cell_type": "markdown",
     "checksum": "6ea67534f74a8f81e1f504794f641709",
     "grade": false,
     "grade_id": "cell-b156d83a0649cbb4",
     "locked": true,
     "schema_version": 3,
     "solution": false,
     "task": false
    }
   },
   "source": [
    "## Section 5: Analysis (30 points) <a class=\"anchor\" id=\"analysis\"></a>\n",
    "\n",
    "[Back to Part 1](#part1)\n",
    "\n",
    "In the final section of Part1, we will compare the different term-based IR algorithms and different preprocessing configurations and analyze their advantages and disadvantages.\n",
    "\n",
    "### Section 5.1: Plot (20 points)\n",
    "\n",
    "First, gather the results. The results should consider the index set, the different search functions and different metrics. Plot the results in bar charts, per metric, with clear labels.\n",
    "\n",
    "**Rubric:**\n",
    "- Each Metric is plotted: 7 points\n",
    "- Each Method is plotted: 7 points\n",
    "- Clear titles, x label, y labels and legends (if applicable): 6 points"
   ]
  },
  {
   "cell_type": "code",
   "execution_count": 70,
   "metadata": {
    "deletable": false,
    "nbgrader": {
     "cell_type": "code",
     "checksum": "7e2588a925d13ddf588abe8311dc9cfc",
     "grade": true,
     "grade_id": "cell-46fda42a25863a04",
     "locked": false,
     "points": 20,
     "schema_version": 3,
     "solution": true,
     "task": false
    }
   },
   "outputs": [
    {
     "data": {
      "text/plain": [
       "Text(0.5, 1.3, 'Comparison of different Term-based Information Retrieval algorithms across various Metrics')"
      ]
     },
     "execution_count": 70,
     "metadata": {},
     "output_type": "execute_result"
    },
    {
     "data": {
      "image/png": "[encoded data removed]",
      "text/plain": [
       "<Figure size 1440x504 with 8 Axes>"
      ]
     },
     "metadata": {
      "needs_background": "light"
     },
     "output_type": "display_data"
    }
   ],
   "source": [
    "# YOUR CODE HERE\n",
    "\n",
    "results_for_search_fns = {}\n",
    "\n",
    "for method, search_fn in list_of_search_fns:\n",
    "    for i in range(1,3):\n",
    "        results_for_search_fns[f'{method}_{i}'] = evaluate_search_fn(search_fn, list_of_metrics, i)\n",
    "\n",
    "from matplotlib.pyplot import figure\n",
    "import matplotlib.pyplot as plt\n",
    "import pandas as pd\n",
    "\n",
    "fig = plt.figure(figsize=(20, 7)) \n",
    "fig.tight_layout() \n",
    "# # left  = 0.125  # the left side of the subplots of the figure\n",
    "# right = 0.9    # the right side of the subplots of the figure\n",
    "# bottom = 0.1   # the bottom of the subplots of the figure\n",
    "# top = 0.9      # the top of the subplots of the figure\n",
    "# wspace = 0.2   # the amount of width reserved for blank space between subplots\n",
    "# hspace = 0.2   # the amount of height reserved for white space between subplots\n",
    "\n",
    "plt.subplots_adjust(left=0.125, bottom=0.1, right=0.9, top=1.2, wspace=0.4, hspace=0.8)  \n",
    "\n",
    "# Divide the figure into a 1x2 grid, and give me the first section\n",
    "ax1 = fig.add_subplot(2,4,1)\n",
    "\n",
    "# Divide the figure into a 1x2 grid, and give me the second section\n",
    "#ERR, MAP, Recall@1, Recall@5, Recall@10, Precision@1, Precision@5, Precision@10\n",
    "\n",
    "d1 = results_for_search_fns\n",
    "\n",
    "list_of_search_fns = [\n",
    "    (\"BOW\", bow_search),\n",
    "    (\"TF-IDF\", tfidf_search),\n",
    "    (\"NaiveQL\", naive_ql_search),\n",
    "    (\"QL\", ql_search),\n",
    "    (\"BM25\", bm25_search)\n",
    "]\n",
    "model_names = ['BOW_1', 'TF-IDF_1', 'NaiveQL_1', 'QL_1', 'BM25_1', 'BOW_2', 'TF-IDF_2', 'NaiveQL_2', 'QL_2', 'BM25_2']\n",
    "\n",
    "plotdata1 = pd.DataFrame({\n",
    "    \"ERR\": [d1['BOW_1']['ERR'], d1['TF-IDF_1']['ERR'], d1['NaiveQL_1']['ERR'], d1['QL_1']['ERR'], d1['BM25_1']['ERR'], d1['BOW_2']['ERR'], d1['TF-IDF_2']['ERR'], d1['NaiveQL_2']['ERR'], d1['QL_2']['ERR'],d1['BM25_2']['ERR'], ],\n",
    "\n",
    "    }, \n",
    "    index=model_names\n",
    ")\n",
    "\n",
    "#2\n",
    "ax2 = fig.add_subplot(2,4,2)\n",
    "plotdata2 = pd.DataFrame({\n",
    "    \"MAP\": [d1['BOW_1']['MAP'], d1['TF-IDF_1']['MAP'], d1['NaiveQL_1']['MAP'], d1['QL_1']['MAP'], d1['BM25_1']['MAP'], d1['BOW_2']['MAP'], d1['TF-IDF_2']['MAP'], d1['NaiveQL_2']['MAP'], d1['QL_2']['MAP'],d1['BM25_2']['MAP'], ],\n",
    "\n",
    "    }, \n",
    "    index=model_names\n",
    ")\n",
    "\n",
    "\n",
    "# plotdata.plot(kind=\"bar\", ax=ax1, )\n",
    "\n",
    "# plotdata2.plot(kind=\"bar\", ax=ax2, )\n",
    "\n",
    "\n",
    "\n",
    "#3\n",
    "ax3 = fig.add_subplot(2,4,3)\n",
    "plotdata3 = pd.DataFrame({\n",
    "    \"Recall@1\": [d1['BOW_1']['Recall@1'], d1['TF-IDF_1']['Recall@1'], d1['NaiveQL_1']['Recall@1'], d1['QL_1']['Recall@1'], d1['BM25_1']['Recall@1'], d1['BOW_2']['Recall@1'], d1['TF-IDF_2']['Recall@1'], d1['NaiveQL_2']['Recall@1'], d1['QL_2']['Recall@1'],d1['BM25_2']['Recall@1'], ],\n",
    "\n",
    "    }, \n",
    "    index=model_names\n",
    ")\n",
    "# ax3.legend(loc='upper left')\n",
    "\n",
    "\n",
    "\n",
    "\n",
    "\n",
    "#4 \n",
    "ax4 = fig.add_subplot(2,4,4)\n",
    "plotdata4 = pd.DataFrame({\n",
    "    \"Recall@5\": [d1['BOW_1']['Recall@5'], d1['TF-IDF_1']['Recall@5'], d1['NaiveQL_1']['Recall@5'], d1['QL_1']['Recall@5'], d1['BM25_1']['Recall@5'], d1['BOW_2']['Recall@5'], d1['TF-IDF_2']['Recall@5'], d1['NaiveQL_2']['Recall@5'], d1['QL_2']['Recall@5'],d1['BM25_2']['Recall@5'], ],\n",
    "\n",
    "    }, \n",
    "    index=model_names\n",
    ")\n",
    "\n",
    "\n",
    "\n",
    "#5 \n",
    "ax5 = fig.add_subplot(2,4,5)\n",
    "plotdata5 = pd.DataFrame({\n",
    "    \"Recall@10\": [d1['BOW_1']['Recall@10'], d1['TF-IDF_1']['Recall@10'], d1['NaiveQL_1']['Recall@10'], d1['QL_1']['Recall@10'], d1['BM25_1']['Recall@10'], d1['BOW_2']['Recall@10'], d1['TF-IDF_2']['Recall@10'], d1['NaiveQL_2']['Recall@10'], d1['QL_2']['Recall@10'],d1['BM25_2']['Recall@10'], ],\n",
    "\n",
    "    }, \n",
    "    index=model_names\n",
    ")\n",
    "\n",
    "\n",
    "\n",
    "#6 \n",
    "ax6 = fig.add_subplot(2,4,6)\n",
    "plotdata6 = pd.DataFrame({\n",
    "    \"Precision@1\": [d1['BOW_1']['Precision@1'], d1['TF-IDF_1']['Precision@1'], d1['NaiveQL_1']['Precision@1'], d1['QL_1']['Precision@1'], d1['BM25_1']['Precision@1'], d1['BOW_2']['Precision@1'], d1['TF-IDF_2']['Precision@1'], d1['NaiveQL_2']['Precision@1'], d1['QL_2']['Precision@1'],d1['BM25_2']['Precision@1'], ],\n",
    "\n",
    "    }, \n",
    "    index=model_names\n",
    ")\n",
    "\n",
    "\n",
    "\n",
    "\n",
    "#7\n",
    "ax7 = fig.add_subplot(2,4,7)\n",
    "\n",
    "plotdata7 = pd.DataFrame({\n",
    "    \"Precision@5\": [d1['BOW_1']['Precision@5'], d1['TF-IDF_1']['Precision@5'], d1['NaiveQL_1']['Precision@5'], d1['QL_1']['Precision@5'], d1['BM25_1']['Precision@5'], d1['BOW_2']['Precision@5'], d1['TF-IDF_2']['Precision@5'], d1['NaiveQL_2']['Precision@5'], d1['QL_2']['Precision@5'],d1['BM25_2']['Precision@5'], ],\n",
    "\n",
    "    }, \n",
    "    index=model_names\n",
    ")\n",
    "\n",
    "#8\n",
    "ax8 = fig.add_subplot(2,4,8)\n",
    "\n",
    "\n",
    "plotdata8 = pd.DataFrame({\n",
    "    \"Precision@10\": [d1['BOW_1']['Precision@10'], d1['TF-IDF_1']['Precision@10'], d1['NaiveQL_1']['Precision@10'], d1['QL_1']['Precision@10'], d1['BM25_1']['Precision@10'], d1['BOW_2']['Precision@10'], d1['TF-IDF_2']['Precision@10'], d1['NaiveQL_2']['Precision@10'], d1['QL_2']['Precision@10'],d1['BM25_2']['Precision@10'], ],\n",
    "\n",
    "    }, \n",
    "    index=model_names\n",
    ")\n",
    "\n",
    "plotdata1.plot(kind=\"bar\", ax=ax1, )\n",
    "\n",
    "plotdata2.plot(kind=\"bar\", ax=ax2, )\n",
    "plotdata3.plot(kind=\"bar\", ax=ax3, )\n",
    "\n",
    "plotdata4.plot(kind=\"bar\", ax=ax4, )\n",
    "\n",
    "plotdata5.plot(kind=\"bar\", ax=ax5, )\n",
    "\n",
    "plotdata6.plot(kind=\"bar\", ax=ax6, )\n",
    "\n",
    "\n",
    "plotdata7.plot(kind=\"bar\", ax=ax7, )\n",
    "\n",
    "plotdata8.plot(kind=\"bar\", ax=ax8, )\n",
    "\n",
    "\n",
    "ax1.set_ylabel(\"Average Metric Value\")\n",
    "ax2.set_ylabel(\"Average Metric Value\")\n",
    "ax3.set_ylabel(\"Average Metric Value\")\n",
    "ax4.set_ylabel(\"Average Metric Value\")\n",
    "\n",
    "ax5.set_ylabel(\"Average Metric Value\")\n",
    "ax6.set_ylabel(\"Average Metric Value\")\n",
    "ax7.set_ylabel(\"Average Metric Value\")\n",
    "ax8.set_ylabel(\"Average Metric Value\")\n",
    "\n",
    "\n",
    "fig.suptitle(\"Comparison of different Term-based Information Retrieval algorithms across various Metrics\", y = 1.3, fontsize = 20)"
   ]
  },
  {
   "cell_type": "markdown",
   "metadata": {
    "deletable": false,
    "editable": false,
    "nbgrader": {
     "cell_type": "markdown",
     "checksum": "e88c444a0acf4e398c65e289169b75f7",
     "grade": false,
     "grade_id": "cell-8aabe3bcf265deb0",
     "locked": true,
     "points": 10,
     "schema_version": 3,
     "solution": false,
     "task": true
    }
   },
   "source": [
    "---\n",
    "### Section 5.2: Summary (10 points)\n",
    "Write a summary of what you observe in the results.\n",
    "Your summary should compare results across the 2 indices and the methods being used. State what you expected to see in the results, followed by either supporting evidence *or* justify why the results did not support your expectations.      "
   ]
  },
  {
   "cell_type": "markdown",
   "metadata": {},
   "source": [
    "We would expect BoWs to do better with stemming as it would treat two forms of a word (for example “compute” and “computes”) as completely different. BoW performed much worse than expected. We would expect that documents with high term frequency would be relevant, but the precision at 1 was very low. This may be due to the queries that were being searched having common words.\n",
    "\n",
    "We would expect Naive QL to perform poorly as it often returns a score of 0 for all documents. We would also expect it to perform especially poorly on documents that are not stemmed. We would expect smoothed QL to perform much better than Naive QL. We expect it to not be as affected by stemming as Naive QL. \n",
    "\n",
    "We expect TF-IDF to perform better than naive QL and bag of words since it weights common query words less than specific words. Hence, we observe better values for Precision-1 and Recall-1 than BoW and QL. However, our data showed that it fell behind QL for larger k.  \n",
    "\n",
    "We would expect BM25 to perform better than TF-IDF when it comes to precision and recall at moderate and low values for k because it takes document length and frequency of one query word into account. We would expect them to perform about the same on precision/recall at 1 since they both rely on term frequency, and because our metrics are binary (relevant or not). This is mostly what we observe, however, TF-IDF had a higher precision at 1 and lower recall at 1 which seems unintuitive."
   ]
  },
  {
   "cell_type": "markdown",
   "metadata": {
    "deletable": false,
    "editable": false,
    "nbgrader": {
     "cell_type": "markdown",
     "checksum": "b3eb77be74eecca205fc7b47316d1627",
     "grade": false,
     "grade_id": "cell-bb60dd5c092d0f2e",
     "locked": true,
     "schema_version": 3,
     "solution": false,
     "task": false
    }
   },
   "source": [
    "---\n",
    "---\n",
    "# Part 2: Semantic-based Matching (85 points) <a class=\"anchor\" id=\"part2\"></a>\n",
    "\n",
    "[Back to top](#top)\n",
    "\n",
    "We will now experiment with methods that go beyond lexical methods like TF-IDF, which operate at the word level and are high dimensional and sparse, and look at methods which constructs low dimensional dense representations of queries and documents. \n",
    "\n",
    "Since these low-dimensional methods have a higher time complexity, they are typically used in conjunction with methods like BM-25. That is, instead of searching through potentially million documents to find matches using low dimensional vectors, a list of K documents are retrieved using BM25, and then **re-ranked** using the other method. This is the method that is going to be applied in the following exercises. \n",
    "\n",
    "LSI/LDA takes documents that are similar on a semantic level - for instance, if they are describing the same topic - and projects them into nearby vectors, despite having low lexical overlap.\n",
    "\n",
    "In this assignment, you will use `gensim` to create LSI/LDA models and use them in re-ranking. \n",
    "\n",
    "**Note**: The following exercises only uses `doc_repr_2` and `config_2`\n",
    "\n",
    "Table of contents:\n",
    "- [Section 6: LSI](#lsi) (15 points)\n",
    "- [Section 7: LDA](#lda) (10 points)\n",
    "- [Section 8: Word2Vec/Doc2Vec](#2vec) (20 points)\n",
    "- [Section 8: Re-ranking](#reranking) (10 points)\n",
    "- [Section 9: Re-ranking Evaluation](#reranking_eval) (30 points)"
   ]
  },
  {
   "cell_type": "markdown",
   "metadata": {
    "deletable": false,
    "editable": false,
    "nbgrader": {
     "cell_type": "markdown",
     "checksum": "f7c7b2cab82f576ed0acf836ca57171c",
     "grade": false,
     "grade_id": "cell-6b2c81e7a8abd180",
     "locked": true,
     "schema_version": 3,
     "solution": false,
     "task": false
    }
   },
   "source": [
    "---\n",
    "## Section 6: Latent Semantic Indexing (LSI) (15 points) <a class=\"anchor\" id=\"lsi\"></a>\n",
    "\n",
    "[Back to Part 2](#part2)\n",
    "\n",
    "LSI is one of the methods to embed the queries and documents into vectors. It is based on a method similar to Principal Component Analysis (PCA) for obtaining a dense concept matrix out of the sparse term-document matrix.\n",
    "\n",
    "See [wikipedia](https://en.wikipedia.org/wiki/Latent_semantic_analysis), particularly [#Mathematics_of_LSI](https://en.wikipedia.org/wiki/Latent_semantic_analysis#Mathematics_of_LSI)."
   ]
  },
  {
   "cell_type": "code",
   "execution_count": 71,
   "metadata": {
    "deletable": false,
    "editable": false,
    "nbgrader": {
     "cell_type": "code",
     "checksum": "c17ee75319cb517e2bf48ec3d9efc329",
     "grade": false,
     "grade_id": "cell-59913daee47f680d",
     "locked": true,
     "schema_version": 3,
     "solution": false,
     "task": false
    }
   },
   "outputs": [],
   "source": [
    "from gensim.corpora import Dictionary\n",
    "from gensim.models import LdaModel, LsiModel, Word2Vec\n",
    "from gensim.models.doc2vec import Doc2Vec, TaggedDocument\n",
    "from gensim import downloader as g_downloader\n",
    "# gensim uses logging, so set it up \n",
    "import logging\n",
    "logging.basicConfig(format='%(asctime)s : %(levelname)s : %(message)s', level=logging.INFO)"
   ]
  },
  {
   "cell_type": "markdown",
   "metadata": {
    "deletable": false,
    "editable": false,
    "nbgrader": {
     "cell_type": "markdown",
     "checksum": "5fce140c546759b54a9fc060901ae77c",
     "grade": false,
     "grade_id": "cell-3644faff4976598a",
     "locked": true,
     "schema_version": 3,
     "solution": false,
     "task": false
    }
   },
   "source": [
    "---\n",
    "### Section 6.1: Cosine Similarity (5 points)<a class=\"anchor\" id=\"cosing_sim\"></a>\n",
    "Before we begin, let us first define our method of similarity for the LSI model, the cosine similarity:\n",
    "\n",
    "$$\\text{similarity} = \\cos(\\theta) = {\\mathbf{A} \\cdot \\mathbf{B} \\over \\|\\mathbf{A}\\| \\|\\mathbf{B}\\|} = \\frac{ \\sum\\limits_{i=1}^{n}{A_i  B_i} }{ \\sqrt{\\sum\\limits_{i=1}^{n}{A_i^2}}  \\sqrt{\\sum\\limits_{i=1}^{n}{B_i^2}} }$$\n",
    "\n",
    "Since we are using gensim, the types of vectors returned by their classes are of the form defined below (they are not just simple vectors):"
   ]
  },
  {
   "cell_type": "code",
   "execution_count": 72,
   "metadata": {
    "deletable": false,
    "editable": false,
    "nbgrader": {
     "cell_type": "code",
     "checksum": "4e340e1a1d546f430c018fd0760e707a",
     "grade": false,
     "grade_id": "cell-3995a50f951314d5",
     "locked": true,
     "schema_version": 3,
     "solution": false,
     "task": false
    }
   },
   "outputs": [],
   "source": [
    "# 1, 2, 3 are either latent dimensions (LSI), or topics (LDA)\n",
    "# The second value in each tuple is a number (LSI) or a probability (LDA)  \n",
    "example_vec_1 = [(1, 0.2), (2, 0.3), (3, 0.4)]\n",
    "example_vec_2 = [(1, 0.2), (2, 0.7), (3, 0.4)]"
   ]
  },
  {
   "cell_type": "markdown",
   "metadata": {
    "deletable": false,
    "editable": false,
    "nbgrader": {
     "cell_type": "markdown",
     "checksum": "20832fd4f579f49ae204b0efee02edd1",
     "grade": false,
     "grade_id": "cell-5e54d581858dc8f7",
     "locked": true,
     "schema_version": 3,
     "solution": false,
     "task": false
    }
   },
   "source": [
    "---\n",
    "**Implementation (2+3 points):**\n",
    "Now, implement the `dot product` operation on these types of vectors and using this operator, implement the `cosine similarity` (don't forget: two functions to implement!):"
   ]
  },
  {
   "cell_type": "code",
   "execution_count": 73,
   "metadata": {
    "deletable": false,
    "nbgrader": {
     "cell_type": "code",
     "checksum": "06a712ee75fc213a21c5f0067fd8fe28",
     "grade": false,
     "grade_id": "cell-0e8189f5f93de33f",
     "locked": false,
     "schema_version": 3,
     "solution": true,
     "task": false
    }
   },
   "outputs": [],
   "source": [
    "# TODO: Implement this! (2 points)\n",
    "def dot(vec_1,vec_2): \n",
    "    \"\"\"\n",
    "        vec_1 and vec_2 are of the form: [(int, float), (int, float), ...]\n",
    "        Return the dot product of two such vectors, computed only on the floats\n",
    "        You can assume that the lengths of the vectors are the same, and the dimensions are aligned \n",
    "            i.e you won't get: vec_1 = [(1, 0.2)] ; vec_2 = [(2, 0.3)] \n",
    "                                (dimensions are unaligned and lengths are different)\n",
    "    \"\"\"\n",
    "    # YOUR CODE HERE\n",
    "    return sum([x[1]*y[1] for x,y in zip(vec_1,vec_2)])\n",
    "\n",
    "\n",
    "# TODO: Implement this! (3 points)\n",
    "def cosine_sim(vec_1, vec_2):\n",
    "    # YOUR CODE HERE\n",
    "    if vec_1 == [] or vec_2 == []:\n",
    "        cosine = 0\n",
    "    else: \n",
    "        denum = np.sqrt(dot(vec_1, vec_1)) * np.sqrt(dot(vec_2, vec_2)) \n",
    "        if denum==0: \n",
    "            cosine = 0\n",
    "        else:\n",
    "            num = dot(vec_1, vec_2)\n",
    "            cosine = num / denum\n",
    "    return cosine"
   ]
  },
  {
   "cell_type": "code",
   "execution_count": 74,
   "metadata": {
    "deletable": false,
    "editable": false,
    "nbgrader": {
     "cell_type": "code",
     "checksum": "d22a4a7325ba7815a808390388f534a1",
     "grade": true,
     "grade_id": "cell-b25d04ed6b79fd35",
     "locked": true,
     "points": 2,
     "schema_version": 3,
     "solution": false,
     "task": false
    }
   },
   "outputs": [
    {
     "name": "stdout",
     "output_type": "stream",
     "text": [
      "vectors: ([(1, 0.2), (2, 0.3), (3, 0.4)], [(1, 0.2), (2, 0.7), (3, 0.4)])\n",
      "dot product = 0.41000000000000003\n",
      "cosine similarity = 0.9165587597202866\n"
     ]
    }
   ],
   "source": [
    "##### Function check\n",
    "print(f'vectors: {(example_vec_1,example_vec_2)}')\n",
    "print(f'dot product = {dot(example_vec_1,example_vec_2)}')\n",
    "print(f'cosine similarity = {cosine_sim(example_vec_1,example_vec_2)}')\n",
    "##### "
   ]
  },
  {
   "cell_type": "code",
   "execution_count": 75,
   "metadata": {
    "deletable": false,
    "editable": false,
    "nbgrader": {
     "cell_type": "code",
     "checksum": "0744131724ce76b1b3f163b4bae5f700",
     "grade": true,
     "grade_id": "cell-ae3c4466866ace77",
     "locked": true,
     "points": 3,
     "schema_version": 3,
     "solution": false,
     "task": false
    }
   },
   "outputs": [],
   "source": [
    "#### Please do not change this. This cell is used for grading."
   ]
  },
  {
   "cell_type": "markdown",
   "metadata": {
    "deletable": false,
    "editable": false,
    "nbgrader": {
     "cell_type": "markdown",
     "checksum": "9b123f599f9ea372d14676e23f1c6a52",
     "grade": false,
     "grade_id": "cell-4b2534067c44fcdf",
     "locked": true,
     "schema_version": 3,
     "solution": false,
     "task": false
    }
   },
   "source": [
    "---\n",
    "### Section 6.2: LSI Retrieval (10 points)<a class=\"anchor\" id=\"lsi_retrieval\"></a>\n",
    "LSI retrieval is simply ranking the documents based on their cosine similarity to the query vector.\n",
    "First, let's write a parent class for vector-based retrieval models:"
   ]
  },
  {
   "cell_type": "code",
   "execution_count": 76,
   "metadata": {
    "deletable": false,
    "editable": false,
    "nbgrader": {
     "cell_type": "code",
     "checksum": "ecc111d58182570e2252b8ef5d6b02af",
     "grade": false,
     "grade_id": "cell-937936cea18711ee",
     "locked": true,
     "schema_version": 3,
     "solution": false,
     "task": false
    }
   },
   "outputs": [],
   "source": [
    "class VectorSpaceRetrievalModel:\n",
    "    \"\"\"\n",
    "        Parent class for Dense Vector Retrieval models\n",
    "    \"\"\"\n",
    "    def __init__(self, doc_repr):\n",
    "        \"\"\"\n",
    "            document_collection: \n",
    "                [\n",
    "                    (doc_id_1, [token 1, token 2, ...]), \n",
    "                    (doc_id_2, [token 1, token 2, ....]) \n",
    "                    ...\n",
    "                ]\n",
    "\n",
    "        \"\"\"\n",
    "        self.doc_repr = doc_repr\n",
    "        self.documents = [_[1] for _ in self.doc_repr]\n",
    "        \n",
    "        # construct a dictionary\n",
    "        self.dictionary = Dictionary(self.documents)\n",
    "        # Filter out words that occur less than 20 documents, or more than 50% of the documents.\n",
    "        self.dictionary.filter_extremes(no_below=10)\n",
    "        self.corpus = [self.dictionary.doc2bow(doc) for doc in self.documents]\n",
    "    \n",
    "        # Make a index to word dictionary.\n",
    "        temp = self.dictionary[0]  # This is only to \"load\" the dictionary.\n",
    "        self.id2word = self.dictionary.id2token\n",
    "        \n",
    "        # this is set by the train_model function\n",
    "        self.model = None\n",
    "        \n",
    "        \n",
    "    def vectorize_documents(self):\n",
    "        \"\"\"\n",
    "            Returns a doc_id -> vector dictionary\n",
    "        \"\"\"\n",
    "        vectors = {}\n",
    "        for (doc_id, _), cc in zip(self.doc_repr, self.corpus):\n",
    "            vectors[doc_id] = self.model[cc]\n",
    "        return vectors\n",
    "\n",
    "    def vectorize_query(self, query):\n",
    "        # Note the use of config_2 here!\n",
    "        query = process_text(query, **config_2)\n",
    "        query_vector = self.dictionary.doc2bow(query)\n",
    "        return self.model[query_vector]\n",
    "    \n",
    "    def train_model(self):\n",
    "        \"\"\"\n",
    "            Trains a model and sets the 'self.model' variable. \n",
    "            Make sure to use the variables created in the __init__ method.\n",
    "            e.g the variables which may be useful: {corpus, dictionary, id2word}\n",
    "        \"\"\"\n",
    "        raise NotImplementedError()"
   ]
  },
  {
   "cell_type": "markdown",
   "metadata": {
    "deletable": false,
    "editable": false,
    "nbgrader": {
     "cell_type": "markdown",
     "checksum": "ff161eefd9b81b768cd6361bc1a502b0",
     "grade": false,
     "grade_id": "cell-704a18c2f80cd60c",
     "locked": true,
     "schema_version": 3,
     "solution": false,
     "task": false
    }
   },
   "source": [
    "---\n",
    "**Implementation (5 points):**\n",
    "Implement the `train_model` method in the following class (note that this is only one line of code in `gensim`!). Ensure that the parameters defined in the `__init__` method are not changed, and are *used in the `train_method` function*. Normally, the hyperaparameter space will be searched using grid search / other methods - in this assignment we have provided the hyperparameters for you.\n",
    "\n",
    "The last two lines of code train an LSI model on the list of documents which have been stemmed, lower-cased and have stopwords removed. "
   ]
  },
  {
   "cell_type": "code",
   "execution_count": 77,
   "metadata": {
    "deletable": false,
    "nbgrader": {
     "cell_type": "code",
     "checksum": "0e90eedc27c248bc1ae050518a46a46c",
     "grade": false,
     "grade_id": "cell-307682c9089f15d6",
     "locked": false,
     "schema_version": 3,
     "solution": true,
     "task": false
    }
   },
   "outputs": [],
   "source": [
    "# TODO: Implement this! (5 points)\n",
    "class LsiRetrievalModel(VectorSpaceRetrievalModel):\n",
    "    def __init__(self, doc_repr):\n",
    "        super().__init__(doc_repr)\n",
    "        \n",
    "        self.num_topics = 100\n",
    "        self.chunksize = 2000\n",
    "    \n",
    "    def train_model(self):\n",
    "        # YOUR CODE HERE\n",
    "        self.model = LsiModel(corpus = self.corpus, id2word = self.id2word, num_topics = self.num_topics, chunksize = self.chunksize)"
   ]
  },
  {
   "cell_type": "code",
   "execution_count": 78,
   "metadata": {
    "deletable": false,
    "editable": false,
    "nbgrader": {
     "cell_type": "code",
     "checksum": "00399cfe13d60cb4beed1271e36004b0",
     "grade": true,
     "grade_id": "cell-5ce512650c1b2dfb",
     "locked": true,
     "points": 0,
     "schema_version": 3,
     "solution": false,
     "task": false
    }
   },
   "outputs": [
    {
     "name": "stderr",
     "output_type": "stream",
     "text": [
      "2022-02-28 18:57:37,810 : INFO : adding document #0 to Dictionary(0 unique tokens: [])\n",
      "2022-02-28 18:57:37,915 : INFO : built Dictionary(5937 unique tokens: ['-', 'algebra', 'intern', 'languag', 'preliminari']...) from 3204 documents (total 115969 corpus positions)\n",
      "2022-02-28 18:57:37,920 : INFO : discarding 4740 tokens: [('repeat', 8), ('glossari', 7), ('inspect', 8), ('uncol', 2), ('rung', 9), ('secant', 2), ('.', 1603), ('acceler', 6), ('diverg', 3), ('induc', 9)]...\n",
      "2022-02-28 18:57:37,921 : INFO : keeping 1197 tokens which were in no less than 10 and no more than 1602 (=50.0%) documents\n",
      "2022-02-28 18:57:37,922 : INFO : resulting dictionary: Dictionary(1197 unique tokens: ['-', 'algebra', 'intern', 'languag', 'preliminari']...)\n",
      "2022-02-28 18:57:37,981 : INFO : using serial LSI version on this node\n",
      "2022-02-28 18:57:37,981 : INFO : updating model with new documents\n",
      "2022-02-28 18:57:37,982 : INFO : preparing a new chunk of documents\n",
      "2022-02-28 18:57:37,991 : INFO : using 100 extra samples and 2 power iterations\n",
      "2022-02-28 18:57:37,992 : INFO : 1st phase: constructing (1197, 200) action matrix\n",
      "2022-02-28 18:57:38,005 : INFO : orthonormalizing (1197, 200) action matrix\n",
      "2022-02-28 18:57:38,104 : INFO : 2nd phase: running dense svd on (200, 2000) matrix\n",
      "2022-02-28 18:57:38,190 : INFO : computing the final decomposition\n",
      "2022-02-28 18:57:38,191 : INFO : keeping 100 factors (discarding 13.466% of energy spectrum)\n",
      "2022-02-28 18:57:38,192 : INFO : processed documents up to #2000\n",
      "2022-02-28 18:57:38,193 : INFO : topic #0(152.127): 0.741*\",\" + 0.342*\"-\" + 0.211*\"system\" + 0.204*\"program\" + 0.192*\"comput\" + 0.146*\"(\" + 0.127*\"languag\" + 0.108*\")\" + 0.084*\"gener\" + 0.083*\"data\"\n",
      "2022-02-28 18:57:38,193 : INFO : topic #1(60.600): -0.607*\"(\" + -0.434*\")\" + -0.366*\"algorithm\" + -0.300*\"-\" + 0.237*\",\" + 0.213*\"system\" + 0.132*\"comput\" + -0.096*\"[\" + 0.093*\"program\" + -0.084*\"])\"\n",
      "2022-02-28 18:57:38,194 : INFO : topic #2(57.438): -0.744*\"-\" + 0.452*\",\" + -0.263*\"system\" + 0.214*\"(\" + 0.166*\")\" + -0.107*\"time\" + -0.105*\"program\" + 0.094*\"algorithm\" + -0.068*\"comput\" + -0.067*\"share\"\n",
      "2022-02-28 18:57:38,194 : INFO : topic #3(48.370): -0.483*\"system\" + -0.375*\"program\" + -0.367*\"comput\" + 0.363*\"-\" + 0.308*\",\" + -0.212*\"(\" + -0.168*\")\" + -0.147*\"algorithm\" + 0.144*\"languag\" + -0.119*\"time\"\n",
      "2022-02-28 18:57:38,194 : INFO : topic #4(45.710): 0.489*\"comput\" + -0.475*\"languag\" + -0.428*\"program\" + 0.238*\"method\" + 0.141*\"problem\" + -0.121*\"system\" + -0.109*\")\" + 0.107*\"equat\" + 0.100*\"algorithm\" + -0.099*\"(\"\n",
      "2022-02-28 18:57:38,195 : INFO : preparing a new chunk of documents\n",
      "2022-02-28 18:57:38,202 : INFO : using 100 extra samples and 2 power iterations\n",
      "2022-02-28 18:57:38,202 : INFO : 1st phase: constructing (1197, 200) action matrix\n",
      "2022-02-28 18:57:38,213 : INFO : orthonormalizing (1197, 200) action matrix\n",
      "2022-02-28 18:57:38,314 : INFO : 2nd phase: running dense svd on (200, 1204) matrix\n",
      "2022-02-28 18:57:38,390 : INFO : computing the final decomposition\n",
      "2022-02-28 18:57:38,390 : INFO : keeping 100 factors (discarding 14.040% of energy spectrum)\n",
      "2022-02-28 18:57:38,391 : INFO : merging projections: (1197, 100) + (1197, 100)\n",
      "2022-02-28 18:57:38,431 : INFO : keeping 100 factors (discarding 8.161% of energy spectrum)\n",
      "2022-02-28 18:57:38,433 : INFO : processed documents up to #3204\n",
      "2022-02-28 18:57:38,433 : INFO : topic #0(225.136): 0.759*\",\" + 0.337*\"-\" + 0.196*\"system\" + 0.186*\"program\" + 0.166*\"comput\" + 0.139*\"(\" + 0.103*\")\" + 0.103*\"algorithm\" + 0.099*\"languag\" + 0.087*\"time\"\n",
      "2022-02-28 18:57:38,434 : INFO : topic #1(87.805): 0.613*\"-\" + -0.399*\",\" + 0.399*\"(\" + 0.326*\"algorithm\" + 0.293*\")\" + -0.129*\"system\" + -0.107*\"program\" + 0.085*\"method\" + 0.077*\"time\" + 0.062*\"1\"\n",
      "2022-02-28 18:57:38,434 : INFO : topic #2(81.909): 0.550*\"-\" + -0.434*\"(\" + 0.355*\"system\" + -0.321*\")\" + -0.291*\",\" + -0.266*\"algorithm\" + 0.146*\"program\" + 0.123*\"comput\" + 0.078*\"time\" + -0.064*\"[\"\n",
      "2022-02-28 18:57:38,435 : INFO : topic #3(72.433): -0.693*\"program\" + 0.339*\",\" + 0.279*\"-\" + -0.251*\"(\" + -0.221*\"system\" + -0.214*\"languag\" + -0.204*\")\" + -0.160*\"comput\" + -0.099*\"data\" + -0.056*\"execut\"\n",
      "2022-02-28 18:57:38,435 : INFO : topic #4(68.523): -0.673*\"system\" + 0.453*\"program\" + 0.254*\"languag\" + 0.212*\"-\" + -0.179*\"comput\" + -0.165*\"(\" + -0.121*\")\" + -0.115*\"model\" + 0.101*\",\" + -0.098*\"algorithm\"\n"
     ]
    },
    {
     "data": {
      "text/plain": [
       "[(0, 0.01521427302209641),\n",
       " (1, -0.01627129065831412),\n",
       " (2, -0.00019318706605937503),\n",
       " (3, -0.0018592117233333682),\n",
       " (4, -0.009408487357983737),\n",
       " (5, -0.004623464134403048),\n",
       " (6, 0.027121599633628944),\n",
       " (7, 0.01671113423749612),\n",
       " (8, -0.03189410715514571),\n",
       " (9, -0.000987251681796003),\n",
       " (10, 0.0020717750662200417),\n",
       " (11, -0.01745003151413992),\n",
       " (12, 0.00010492001617779315),\n",
       " (13, 0.001246332228069585),\n",
       " (14, 0.003982806234568186),\n",
       " (15, 0.005456003090440982),\n",
       " (16, 0.005798238273785733),\n",
       " (17, 0.0025583088601010655),\n",
       " (18, -0.01653712397528704),\n",
       " (19, 0.020743718233055757),\n",
       " (20, -0.01036173768485003),\n",
       " (21, -0.013087324708036412),\n",
       " (22, 0.04860824839694837),\n",
       " (23, 0.02491550712261045),\n",
       " (24, -0.010049641500600788),\n",
       " (25, -0.011240186618261316),\n",
       " (26, 0.006115215185229308),\n",
       " (27, 0.07643630245044267),\n",
       " (28, -0.0656108068225824),\n",
       " (29, 0.027209155106009117),\n",
       " (30, 0.043558311889918766),\n",
       " (31, 0.04675522970545266),\n",
       " (32, -0.06987245647902644),\n",
       " (33, 0.043169710982842086),\n",
       " (34, -0.03501216833757549),\n",
       " (35, 0.06351239240121903),\n",
       " (36, 0.03928282641062499),\n",
       " (37, -0.013281552364970285),\n",
       " (38, -0.05938122831633039),\n",
       " (39, 0.02549478893283281),\n",
       " (40, -0.03880990655937302),\n",
       " (41, -0.038176101473689064),\n",
       " (42, 0.02544778882425966),\n",
       " (43, 0.017062994400593993),\n",
       " (44, 0.012757690272493726),\n",
       " (45, -0.05512434259088528),\n",
       " (46, -0.015822252131509115),\n",
       " (47, 0.011547714332486018),\n",
       " (48, 0.01941416429914937),\n",
       " (49, 0.03388887774535499),\n",
       " (50, 0.015116114955849951),\n",
       " (51, 0.04903014448807988),\n",
       " (52, -0.010728186848003128),\n",
       " (53, -0.00323056767177599),\n",
       " (54, 0.04481837698183225),\n",
       " (55, 0.02767526808475232),\n",
       " (56, 0.005214195897327906),\n",
       " (57, -0.015476077475672423),\n",
       " (58, -0.00510660182696644),\n",
       " (59, 0.04340081034343105),\n",
       " (60, -0.012079613437701121),\n",
       " (61, -0.04120837932198704),\n",
       " (62, 0.0039160975731208835),\n",
       " (63, 0.06411072235362944),\n",
       " (64, 0.012401835064842007),\n",
       " (65, 0.03726233774698997),\n",
       " (66, 0.024054096913077572),\n",
       " (67, 0.051049047953644934),\n",
       " (68, -0.03787004582884028),\n",
       " (69, -0.0019309078234361343),\n",
       " (70, -0.05809241349745431),\n",
       " (71, -0.016860288003165674),\n",
       " (72, 0.010340169528810974),\n",
       " (73, 0.09030674628732085),\n",
       " (74, 0.07001441420591717),\n",
       " (75, 0.018481351981227516),\n",
       " (76, -0.03601449253896932),\n",
       " (77, -0.003340424819197104),\n",
       " (78, 0.016968692528128517),\n",
       " (79, 0.03826447210815322),\n",
       " (80, -0.01965816092618878),\n",
       " (81, -0.021318254939013202),\n",
       " (82, 0.04922227843928823),\n",
       " (83, -0.003273555031526189),\n",
       " (84, 0.03097831192851644),\n",
       " (85, -0.02797302378663772),\n",
       " (86, -0.04340666788504723),\n",
       " (87, 0.018741135289290244),\n",
       " (88, -0.06673102032777382),\n",
       " (89, -3.1392091293533375e-05),\n",
       " (90, -0.0902090190713985),\n",
       " (91, 0.013425423687516971),\n",
       " (92, 0.006912808304022096),\n",
       " (93, -0.057529976383716847),\n",
       " (94, 0.059094680354065704),\n",
       " (95, -0.0011123111317956624),\n",
       " (96, -0.02274856169166639),\n",
       " (97, 0.012092157688956606),\n",
       " (98, 0.0229690412669117),\n",
       " (99, -0.00731918654830053)]"
      ]
     },
     "execution_count": 78,
     "metadata": {},
     "output_type": "execute_result"
    }
   ],
   "source": [
    "##### Function check\n",
    "lsi = LsiRetrievalModel(doc_repr_2)\n",
    "lsi.train_model()\n",
    "\n",
    "# you can now get an LSI vector for a given query in the following way:\n",
    "lsi.vectorize_query(\"report\")\n",
    "##### "
   ]
  },
  {
   "cell_type": "markdown",
   "metadata": {
    "deletable": false,
    "editable": false,
    "nbgrader": {
     "cell_type": "markdown",
     "checksum": "7116bb9f576c5bb04934e1d59c51d729",
     "grade": false,
     "grade_id": "cell-4c5eeb557b4fca2f",
     "locked": true,
     "points": 5,
     "schema_version": 3,
     "solution": false,
     "task": true
    }
   },
   "source": [
    "\\#### Please do not change this. This cell is used for grading."
   ]
  },
  {
   "cell_type": "markdown",
   "metadata": {
    "deletable": false,
    "editable": false,
    "nbgrader": {
     "cell_type": "markdown",
     "checksum": "26e2ff3c413745e633d99f66c041d6b1",
     "grade": false,
     "grade_id": "cell-c4e50296cd17a555",
     "locked": true,
     "schema_version": 3,
     "solution": false,
     "task": false
    }
   },
   "source": [
    "---\n",
    "**Implementation (5 points):**\n",
    " Next, implement a basic ranking class for vector space retrieval (used for all semantic methods): "
   ]
  },
  {
   "cell_type": "code",
   "execution_count": 79,
   "metadata": {
    "deletable": false,
    "nbgrader": {
     "cell_type": "code",
     "checksum": "1a8389d2f0635c3405e2b0b27ed9f327",
     "grade": false,
     "grade_id": "cell-250515d288e80cdc",
     "locked": false,
     "schema_version": 3,
     "solution": true,
     "task": false
    }
   },
   "outputs": [],
   "source": [
    "# TODO: Implement this! (5 points)\n",
    "class DenseRetrievalRanker:\n",
    "    def __init__(self, vsrm, similarity_fn):\n",
    "        \"\"\"\n",
    "            vsrm: instance of `VectorSpaceRetrievalModel`\n",
    "            similarity_fn: function instance that takes in two vectors \n",
    "                            and returns a similarity score e.g cosine_sim defined earlier\n",
    "        \"\"\"\n",
    "        self.vsrm = vsrm \n",
    "        self.vectorized_documents = self.vsrm.vectorize_documents()\n",
    "        self.similarity_fn = similarity_fn\n",
    "    \n",
    "    def _compute_sim(self, query_vector):\n",
    "        \"\"\"\n",
    "            Compute the similarity of `query_vector` to documents in \n",
    "            `self.vectorized_documents` using `self.similarity_fn`\n",
    "            Returns a list of (doc_id, score) tuples\n",
    "        \"\"\"\n",
    "        # YOUR CODE HERE\n",
    "        scores = list()\n",
    "        if not query_vector:\n",
    "            return []\n",
    "        for document_id, vec in self.vectorized_documents.items():\n",
    "            if not vec:\n",
    "                score = 0\n",
    "            else:\n",
    "                score = self.similarity_fn(query_vector, vec)\n",
    "            scores.append((document_id, score))\n",
    "        return scores\n",
    "    \n",
    "    def search(self, query):\n",
    "        scores = self._compute_sim(self.vsrm.vectorize_query(query))\n",
    "        scores.sort(key=lambda _:-_[1])\n",
    "        return scores "
   ]
  },
  {
   "cell_type": "code",
   "execution_count": 80,
   "metadata": {
    "deletable": false,
    "editable": false,
    "nbgrader": {
     "cell_type": "code",
     "checksum": "f237dd1ef6c1783c06797f4b514421f5",
     "grade": true,
     "grade_id": "cell-b73068b3e77a8e31",
     "locked": true,
     "points": 0,
     "schema_version": 3,
     "solution": false,
     "task": false
    }
   },
   "outputs": [
    {
     "data": {
      "text/plain": [
       "[('599', 0.801016815017779),\n",
       " ('947', 0.57745058247581),\n",
       " ('53', 0.49450639066880786),\n",
       " ('1339', 0.4614642394234407),\n",
       " ('3160', 0.440402142721588)]"
      ]
     },
     "execution_count": 80,
     "metadata": {},
     "output_type": "execute_result"
    }
   ],
   "source": [
    "##### Function check\n",
    "drm_lsi = DenseRetrievalRanker(lsi, cosine_sim)\n",
    "drm_lsi.search(\"report\")[:5]\n",
    "##### "
   ]
  },
  {
   "cell_type": "markdown",
   "metadata": {
    "deletable": false,
    "editable": false,
    "nbgrader": {
     "cell_type": "markdown",
     "checksum": "5b3f19fdcaa585d263706d5a26038799",
     "grade": false,
     "grade_id": "cell-034c755a6502b868",
     "locked": true,
     "points": 5,
     "schema_version": 3,
     "solution": false,
     "task": true
    }
   },
   "source": [
    "\\#### Please do not change this. This cell is used for grading."
   ]
  },
  {
   "cell_type": "markdown",
   "metadata": {
    "deletable": false,
    "editable": false,
    "nbgrader": {
     "cell_type": "markdown",
     "checksum": "dcafef6e037033c46304b914f7c78bdf",
     "grade": false,
     "grade_id": "cell-d1df23f497d5ed6b",
     "locked": true,
     "schema_version": 3,
     "solution": false,
     "task": false
    }
   },
   "source": [
    "---\n",
    "Now, you can test your LSI model in the following cell: try finding queries which are lexically different to documents, but semantically similar - does LSI work well for these queries?!"
   ]
  },
  {
   "cell_type": "code",
   "execution_count": 81,
   "metadata": {
    "deletable": false,
    "editable": false,
    "nbgrader": {
     "cell_type": "code",
     "checksum": "11734bc7674377b340ad51297a8e8bb5",
     "grade": false,
     "grade_id": "cell-efd1d08dfc04ec3e",
     "locked": true,
     "schema_version": 3,
     "solution": false,
     "task": false
    }
   },
   "outputs": [
    {
     "data": {
      "application/vnd.jupyter.widget-view+json": {
       "model_id": "232199539fe54973b0379257a4abe93e",
       "version_major": 2,
       "version_minor": 0
      },
      "text/plain": [
       "Text(value='', description='Search Bar')"
      ]
     },
     "metadata": {},
     "output_type": "display_data"
    }
   ],
   "source": [
    "# test your LSI model\n",
    "search_fn = drm_lsi.search\n",
    "\n",
    "text = widgets.Text(description=\"Search Bar\", width=200)\n",
    "display(text)\n",
    "\n",
    "def make_results_2(query, search_fn):\n",
    "    results = []\n",
    "    for doc_id, score in search_fn(query):\n",
    "        highlight = highlight_text(docs_by_id[doc_id], query)\n",
    "        if len(highlight.strip()) == 0:\n",
    "            highlight = docs_by_id[doc_id]\n",
    "        results.append(ResultRow(doc_id, highlight, score))\n",
    "    return results\n",
    "\n",
    "def handle_submit_2(sender):\n",
    "    print(f\"Searching for: '{sender.value}' (SEARCH FN: {search_fn})\")\n",
    "    \n",
    "    results = make_results_2(sender.value, search_fn)\n",
    "    \n",
    "    # display only the top 5\n",
    "    results = results[:5]\n",
    "    \n",
    "    body = \"\"\n",
    "    for idx, r in enumerate(results):\n",
    "        body += f\"<li>Document #{r.doc_id}({r.score}): {r.snippet}</li>\"\n",
    "    display(HTML(f\"<ul>{body}</ul>\"))\n",
    "    \n",
    "\n",
    "text.on_submit(handle_submit_2)"
   ]
  },
  {
   "cell_type": "markdown",
   "metadata": {
    "deletable": false,
    "editable": false,
    "nbgrader": {
     "cell_type": "markdown",
     "checksum": "d074ce1ca48384cdda78742741c938be",
     "grade": false,
     "grade_id": "cell-3a86cef264d8f6cf",
     "locked": true,
     "schema_version": 3,
     "solution": false,
     "task": false
    }
   },
   "source": [
    "---\n",
    "## Section 7: Latent Dirichlet Allocation (LDA) (10 points) <a class=\"anchor\" id=\"lda\"></a>\n",
    "\n",
    "[Back to Part 2](#part2)\n",
    "\n",
    "The specifics of LDA is out of the scope of this assignment, but we will use the `gensim` implementation to perform search using LDA over our small document collection. The key thing to remember is that LDA, unlike LSI, outputs a topic **distribution**, not a vector. With that in mind, let's first define a similarity measure.\n"
   ]
  },
  {
   "cell_type": "markdown",
   "metadata": {
    "deletable": false,
    "editable": false,
    "nbgrader": {
     "cell_type": "markdown",
     "checksum": "db01092373b18f0c9dfed1bb17db4ad9",
     "grade": false,
     "grade_id": "cell-6b78ad22c2d60ba7",
     "locked": true,
     "schema_version": 3,
     "solution": false,
     "task": false
    }
   },
   "source": [
    "---\n",
    "### Section 7.1: Jenson-Shannon divergence (5 points) <a class=\"anchor\" id=\"js_sim\"></a>\n",
    "\n",
    "The Jenson-Shannon divergence is a symmetric and finite measure on two probability distributions (unlike the KL, which is neither). For identical distributions, the JSD is equal to 0, and since our code uses 0 as irrelevant and higher scores as relevant, we use `(1 - JSD)` as the score or 'similarity' in our setup\n",
    "\n",
    "**Note**: the JSD is bounded to \\[0,1\\] only if we use log base 2. So please ensure that you're using `np.log2` instead of `np.log`"
   ]
  },
  {
   "cell_type": "code",
   "execution_count": 82,
   "metadata": {
    "deletable": false,
    "nbgrader": {
     "cell_type": "code",
     "checksum": "a579e6cd7a24a3516bc9a84528b392d3",
     "grade": false,
     "grade_id": "cell-d2376a85a4841e98",
     "locked": false,
     "schema_version": 3,
     "solution": true,
     "task": false
    }
   },
   "outputs": [],
   "source": [
    "## TODO: Implement this! (5 points)\n",
    "def jenson_shannon_divergence(vec_1, vec_2, assert_prob=False):\n",
    "    \"\"\"\n",
    "        Computes the Jensen-Shannon divergence between two probability distributions. \n",
    "        NOTE: DO NOT RETURN 1 - JSD here, that is handled by the next function which is already implemented! \n",
    "        The inputs are *gensim* vectors - same as the vectors for the cosine_sim function\n",
    "        assert_prob is a flag that checks if the inputs are proper probability distributions \n",
    "            i.e they sum to 1 and are positive - use this to check your inputs if needed. \n",
    "                (This is optional to implement, but recommended - \n",
    "                you can the default to False to save a few ms off the runtime)\n",
    "    \"\"\"\n",
    "    # YOUR CODE HERE\n",
    "    kl1 =0\n",
    "    kl2 = 0\n",
    "    \n",
    "    if assert_prob:\n",
    "        assert min([value for key, value in vec_1]) > 0\n",
    "        assert sum([value for key, value in vec_1]) == 1\n",
    "        assert min([value for key, value in vec_2]) > 0\n",
    "        assert sum([value for key, value in vec_2]) == 1\n",
    "\n",
    "    vec_1 = list(list(zip(*vec_1))[1])\n",
    "    vec_2 = list(list(zip(*vec_2))[1])\n",
    "    \n",
    "    mean = list(0.5*(np.array(vec_1) + np.array(vec_2)))\n",
    "\n",
    "    for i in range(len(vec_1)):\n",
    "        kl1+= vec_1[i] * np.log2(vec_1[i] / mean[i])\n",
    "\n",
    "        \n",
    "    for i in range(len(vec_2)):\n",
    "        kl2+= vec_2[i] * np.log2(vec_2[i] / mean[i])\n",
    "    \n",
    "    kl_total = (0.5*kl1) + (0.5*kl2)\n",
    "\n",
    "    return kl_total\n",
    "\n",
    "\n",
    "def jenson_shannon_sim(vec_1, vec_2, assert_prob=False):\n",
    "    return 1 - jenson_shannon_divergence(vec_1, vec_2)\n",
    "\n"
   ]
  },
  {
   "cell_type": "code",
   "execution_count": 83,
   "metadata": {
    "deletable": false,
    "editable": false,
    "nbgrader": {
     "cell_type": "code",
     "checksum": "ab340aa941c9fb5c89b3fd0a9139e246",
     "grade": true,
     "grade_id": "cell-487c6d2933f38053",
     "locked": true,
     "points": 5,
     "schema_version": 3,
     "solution": false,
     "task": false
    }
   },
   "outputs": [
    {
     "data": {
      "text/plain": [
       "0.9251064410358459"
      ]
     },
     "execution_count": 83,
     "metadata": {},
     "output_type": "execute_result"
    }
   ],
   "source": [
    "##### Function check\n",
    "vec_1 = [(1, 0.3), (2, 0.4), (3, 0.3)]\n",
    "vec_2 = [(1, 0.1), (2, 0.7), (3, 0.2)]\n",
    "jenson_shannon_sim(vec_1, vec_2, assert_prob=True)\n",
    "##### "
   ]
  },
  {
   "cell_type": "markdown",
   "metadata": {
    "deletable": false,
    "editable": false,
    "nbgrader": {
     "cell_type": "markdown",
     "checksum": "0a1583a5f23e3390038331cce67f5d8e",
     "grade": false,
     "grade_id": "cell-4535cc67a50b80fa",
     "locked": true,
     "schema_version": 3,
     "solution": false,
     "task": false
    }
   },
   "source": [
    "---\n",
    "### Section 7.2: LDA retrieval (5 points) <a class=\"anchor\" id=\"lda_ret\"></a>\n",
    "\n",
    "Implement the `train_model` method in the following class (note that this is only one line of code in `gensim`!). Ensure that the parameters defined in the `__init__` method are not changed, and are *used in the `train_method` function*. You do not need to set this. Normally, the hyperaparameter space will be searched using grid search / other methods. Note that training the LDA model might take some time\n",
    "\n",
    "The last two lines of code train an LDA model on the list of documents which have been stemmed, lower-cased and have stopwords removed. "
   ]
  },
  {
   "cell_type": "code",
   "execution_count": 84,
   "metadata": {
    "deletable": false,
    "nbgrader": {
     "cell_type": "code",
     "checksum": "27de8e4fa85536bb396b73bfc51b3f50",
     "grade": false,
     "grade_id": "cell-021a48dff4a8bb91",
     "locked": false,
     "schema_version": 3,
     "solution": true,
     "task": false
    }
   },
   "outputs": [],
   "source": [
    "# TODO: Implement this! (5 points)\n",
    "class LdaRetrievalModel(VectorSpaceRetrievalModel):\n",
    "    def __init__(self, doc_repr):\n",
    "        super().__init__(doc_repr)\n",
    "        \n",
    "        # use these parameters in the train_model method\n",
    "        self.num_topics = 100\n",
    "        self.chunksize = 2000\n",
    "        self.passes = 20\n",
    "        self.iterations = 400\n",
    "        self.eval_every = 10\n",
    "        # this is need to get full vectors\n",
    "        self.minimum_probability=0.0\n",
    "        self.alpha='auto'\n",
    "        self.eta='auto'\n",
    "    \n",
    "    \n",
    "    def train_model(self):\n",
    "        # YOUR CODE HERE\n",
    "        self.model = LdaModel(corpus=self.corpus, id2word=self.id2word, num_topics=self.num_topics, chunksize=self.chunksize,\\\n",
    "                        passes=self.passes, alpha=self.alpha,eval_every=self.eval_every, minimum_probability=self.minimum_probability,\\\n",
    "                        eta=self.eta, iterations=self.iterations)\n"
   ]
  },
  {
   "cell_type": "code",
   "execution_count": 85,
   "metadata": {
    "deletable": false,
    "editable": false,
    "nbgrader": {
     "cell_type": "code",
     "checksum": "be70fcb8098d0b6ce64cd2a10e6a05b7",
     "grade": true,
     "grade_id": "cell-86750b715f0345fd",
     "locked": true,
     "points": 0,
     "schema_version": 3,
     "solution": false,
     "task": false
    }
   },
   "outputs": [
    {
     "name": "stderr",
     "output_type": "stream",
     "text": [
      "2022-02-28 18:57:39,180 : INFO : adding document #0 to Dictionary(0 unique tokens: [])\n",
      "2022-02-28 18:57:39,286 : INFO : built Dictionary(5937 unique tokens: ['-', 'algebra', 'intern', 'languag', 'preliminari']...) from 3204 documents (total 115969 corpus positions)\n",
      "2022-02-28 18:57:39,291 : INFO : discarding 4740 tokens: [('repeat', 8), ('glossari', 7), ('inspect', 8), ('uncol', 2), ('rung', 9), ('secant', 2), ('.', 1603), ('acceler', 6), ('diverg', 3), ('induc', 9)]...\n",
      "2022-02-28 18:57:39,291 : INFO : keeping 1197 tokens which were in no less than 10 and no more than 1602 (=50.0%) documents\n",
      "2022-02-28 18:57:39,293 : INFO : resulting dictionary: Dictionary(1197 unique tokens: ['-', 'algebra', 'intern', 'languag', 'preliminari']...)\n",
      "2022-02-28 18:57:39,350 : INFO : using autotuned alpha, starting with [0.01, 0.01, 0.01, 0.01, 0.01, 0.01, 0.01, 0.01, 0.01, 0.01, 0.01, 0.01, 0.01, 0.01, 0.01, 0.01, 0.01, 0.01, 0.01, 0.01, 0.01, 0.01, 0.01, 0.01, 0.01, 0.01, 0.01, 0.01, 0.01, 0.01, 0.01, 0.01, 0.01, 0.01, 0.01, 0.01, 0.01, 0.01, 0.01, 0.01, 0.01, 0.01, 0.01, 0.01, 0.01, 0.01, 0.01, 0.01, 0.01, 0.01, 0.01, 0.01, 0.01, 0.01, 0.01, 0.01, 0.01, 0.01, 0.01, 0.01, 0.01, 0.01, 0.01, 0.01, 0.01, 0.01, 0.01, 0.01, 0.01, 0.01, 0.01, 0.01, 0.01, 0.01, 0.01, 0.01, 0.01, 0.01, 0.01, 0.01, 0.01, 0.01, 0.01, 0.01, 0.01, 0.01, 0.01, 0.01, 0.01, 0.01, 0.01, 0.01, 0.01, 0.01, 0.01, 0.01, 0.01, 0.01, 0.01, 0.01]\n",
      "2022-02-28 18:57:39,350 : INFO : using serial LDA version on this node\n",
      "2022-02-28 18:57:39,360 : INFO : running online (multi-pass) LDA training, 100 topics, 20 passes over the supplied corpus of 3204 documents, updating model once every 2000 documents, evaluating perplexity every 3204 documents, iterating 400x with a convergence threshold of 0.001000\n",
      "2022-02-28 18:57:39,361 : INFO : PROGRESS: pass 0, at document #2000/3204\n",
      "2022-02-28 18:57:40,982 : INFO : optimized alpha [0.009803842, 0.009819119, 0.009803742, 0.009918416, 0.009849093, 0.009824458, 0.009916639, 0.009897343, 0.0098089175, 0.009798464, 0.009793462, 0.009824088, 0.009803602, 0.009892076, 0.009793213, 0.009823998, 0.009824487, 0.009762335, 0.009772531, 0.009839759, 0.009808627, 0.00986537, 0.009823876, 0.0098654125, 0.009772622, 0.009798174, 0.00982983, 0.009855589, 0.009824756, 0.009854992, 0.009829068, 0.009870593, 0.009819351, 0.009929011, 0.009762284, 0.009839919, 0.00978796, 0.009834432, 0.009850577, 0.00987159, 0.009814159, 0.009875202, 0.009850401, 0.009814035, 0.00985852, 0.009788043, 0.009798492, 0.009827781, 0.009787965, 0.009803442, 0.009959578, 0.009880369, 0.009943801, 0.009839875, 0.009809121, 0.009788068, 0.009783015, 0.009788021, 0.009944282, 0.009798403, 0.009793337, 0.009813721, 0.00979837, 0.009787888, 0.009813779, 0.009798152, 0.00978277, 0.009772508, 0.009820243, 0.009807825, 0.009808467, 0.009865438, 0.009829998, 0.009829714, 0.009803673, 0.009819439, 0.009787854, 0.009788235, 0.009865837, 0.009857901, 0.009949187, 0.009772646, 0.009829698, 0.009834836, 0.00978276, 0.009803487, 0.009819168, 0.0098247, 0.009788053, 0.009855766, 0.009793248, 0.009948726, 0.009788048, 0.010131001, 0.009793551, 0.009798315, 0.009798249, 0.009845084, 0.009824059, 0.009762206]\n",
      "2022-02-28 18:57:40,986 : INFO : merging changes from 2000 documents into a model of 3204 documents\n",
      "2022-02-28 18:57:40,996 : INFO : topic #34 (0.010): 0.150*\"posit\" + 0.120*\"matrix\" + 0.060*\"similar\" + 0.060*\",\" + 0.030*\"matric\" + 0.030*\"known\" + 0.030*\"transform\" + 0.030*\"construct\" + 0.030*\"test\" + 0.030*\"yield\"\n",
      "2022-02-28 18:57:40,997 : INFO : topic #17 (0.010): 0.057*\",\" + 0.041*\"work\" + 0.039*\"3\" + 0.039*\"control\" + 0.034*\"group\" + 0.033*\"commun\" + 0.031*\"data\" + 0.028*\"paper\" + 0.026*\"task\" + 0.026*\"4\"\n",
      "2022-02-28 18:57:40,998 : INFO : topic #33 (0.010): 0.077*\",\" + 0.037*\"-\" + 0.029*\"system\" + 0.022*\"comput\" + 0.018*\"program\" + 0.016*\"languag\" + 0.014*\"data\" + 0.012*\"method\" + 0.012*\"process\" + 0.010*\"time\"\n",
      "2022-02-28 18:57:40,999 : INFO : topic #50 (0.010): 0.069*\",\" + 0.035*\"-\" + 0.025*\"languag\" + 0.018*\"(\" + 0.015*\"method\" + 0.014*\"\"\" + 0.013*\"algorithm\" + 0.012*\"system\" + 0.011*\"inform\" + 0.011*\"'\"\n",
      "2022-02-28 18:57:40,999 : INFO : topic #93 (0.010): 0.059*\",\" + 0.046*\"-\" + 0.024*\"system\" + 0.023*\"(\" + 0.018*\"comput\" + 0.017*\"program\" + 0.015*\"code\" + 0.015*\")\" + 0.014*\"data\" + 0.008*\"problem\"\n",
      "2022-02-28 18:57:41,000 : INFO : topic diff=82.688080, rho=1.000000\n",
      "2022-02-28 18:57:41,982 : INFO : -7.294 per-word bound, 157.0 perplexity estimate based on a held-out corpus of 1204 documents with 49783 words\n",
      "2022-02-28 18:57:41,983 : INFO : PROGRESS: pass 0, at document #3204/3204\n",
      "2022-02-28 18:57:42,802 : INFO : optimized alpha [0.010028067, 0.009956741, 0.009886313, 0.010049731, 0.010162082, 0.0099602295, 0.009891299, 0.010188915, 0.009967836, 0.009909264, 0.009881928, 0.009947531, 0.009867132, 0.010100913, 0.010115114, 0.0098641245, 0.010002025, 0.009815002, 0.009614942, 0.009945547, 0.0098144375, 0.009763525, 0.009811142, 0.00992942, 0.010088373, 0.009813844, 0.009948725, 0.010104558, 0.0103282025, 0.009813022, 0.009787686, 0.009805255, 0.010007807, 0.010241338, 0.009917535, 0.010165283, 0.009811185, 0.009911386, 0.010104366, 0.010146618, 0.009966948, 0.009808467, 0.01011153, 0.009848978, 0.009874945, 0.009845433, 0.009826858, 0.009715849, 0.009635504, 0.009744087, 0.01006045, 0.010025948, 0.010092707, 0.009816122, 0.010267642, 0.00991732, 0.010169925, 0.009886695, 0.010237988, 0.010009095, 0.009846212, 0.009853724, 0.009774987, 0.009861631, 0.009743047, 0.009674341, 0.010348164, 0.009632192, 0.009826396, 0.009950047, 0.0097665945, 0.010024524, 0.009978519, 0.010155312, 0.010115337, 0.010156709, 0.00978766, 0.010076286, 0.010126602, 0.010071376, 0.010265623, 0.009895204, 0.009853622, 0.009947122, 0.009944653, 0.010024705, 0.010024157, 0.009991212, 0.009910742, 0.010118009, 0.009839768, 0.01025466, 0.009822203, 0.010636718, 0.010276582, 0.009762952, 0.010090355, 0.010057246, 0.009823012, 0.009575786]\n",
      "2022-02-28 18:57:42,808 : INFO : merging changes from 1204 documents into a model of 3204 documents\n",
      "2022-02-28 18:57:42,817 : INFO : topic #99 (0.010): 0.288*\"'\" + 0.209*\"method\" + 0.180*\"gauss\" + 0.068*\"(\" + 0.060*\"algorithm\" + 0.037*\")\" + 0.000*\"stage\" + 0.000*\"situat\" + 0.000*\"industri\" + 0.000*\"adapt\"\n",
      "2022-02-28 18:57:42,818 : INFO : topic #48 (0.010): 0.072*\"'\" + 0.068*\"arbitrari\" + 0.049*\"symbol\" + 0.048*\"case\" + 0.046*\"suit\" + 0.038*\"algorithm\" + 0.037*\"factor\" + 0.037*\"(\" + 0.031*\"method\" + 0.030*\"class\"\n",
      "2022-02-28 18:57:42,818 : INFO : topic #28 (0.010): 0.085*\"memori\" + 0.059*\",\" + 0.035*\"\"\" + 0.028*\"program\" + 0.024*\"time\" + 0.021*\"(\" + 0.020*\"text\" + 0.018*\")\" + 0.015*\"present\" + 0.014*\"method\"\n",
      "2022-02-28 18:57:42,819 : INFO : topic #66 (0.010): 0.270*\"]\" + 0.111*\"[\" + 0.056*\"comment\" + 0.055*\"previou\" + 0.052*\"transform\" + 0.037*\"procedur\" + 0.035*\"algorithm\" + 0.034*\"usag\" + 0.029*\"rang\" + 0.027*\"(\"\n",
      "2022-02-28 18:57:42,820 : INFO : topic #93 (0.011): 0.066*\",\" + 0.042*\"-\" + 0.019*\"system\" + 0.018*\"code\" + 0.016*\"(\" + 0.015*\"program\" + 0.014*\"data\" + 0.012*\"comput\" + 0.011*\")\" + 0.011*\"time\"\n",
      "2022-02-28 18:57:42,821 : INFO : topic diff=0.750985, rho=0.707107\n",
      "2022-02-28 18:57:42,828 : INFO : PROGRESS: pass 1, at document #2000/3204\n",
      "2022-02-28 18:57:43,644 : INFO : optimized alpha [0.009989916, 0.010112645, 0.009824327, 0.009966581, 0.010123802, 0.00990503, 0.009797592, 0.010110092, 0.009882995, 0.009891965, 0.00986708, 0.009855039, 0.009875792, 0.0099917315, 0.010087719, 0.0098755965, 0.009946068, 0.009842647, 0.009746944, 0.009895699, 0.009968715, 0.009691241, 0.009837458, 0.009824177, 0.0102538895, 0.009860664, 0.009869807, 0.0100627225, 0.010278687, 0.00971364, 0.009872312, 0.00974239, 0.009973006, 0.010211575, 0.010055818, 0.010110573, 0.009907008, 0.009846057, 0.010078713, 0.010144693, 0.009924119, 0.00978495, 0.0100852735, 0.009800861, 0.010024771, 0.009877826, 0.009857786, 0.009795883, 0.00964502, 0.009767984, 0.009973977, 0.010265088, 0.0099973725, 0.009797254, 0.010202809, 0.009933877, 0.010212165, 0.009926765, 0.010169461, 0.009978601, 0.009985089, 0.009915226, 0.009749139, 0.009856863, 0.009652755, 0.009710911, 0.010365691, 0.009587814, 0.009770637, 0.009985385, 0.009910915, 0.009945964, 0.009896245, 0.010071424, 0.010113402, 0.010154201, 0.010245145, 0.010012587, 0.010011002, 0.009975747, 0.010182572, 0.009814038, 0.009829731, 0.0098466, 0.00985682, 0.009964397, 0.010034339, 0.009905974, 0.009887526, 0.010125484, 0.009791502, 0.010157888, 0.009811011, 0.010556236, 0.010194888, 0.00969522, 0.010053164, 0.009989216, 0.009814294, 0.009575415]\n"
     ]
    },
    {
     "name": "stderr",
     "output_type": "stream",
     "text": [
      "2022-02-28 18:57:43,650 : INFO : merging changes from 2000 documents into a model of 3204 documents\n",
      "2022-02-28 18:57:43,659 : INFO : topic #99 (0.010): 0.352*\"'\" + 0.249*\"method\" + 0.112*\"gauss\" + 0.078*\"(\" + 0.073*\"algorithm\" + 0.052*\")\" + 0.000*\"stage\" + 0.000*\"situat\" + 0.000*\"industri\" + 0.000*\"adapt\"\n",
      "2022-02-28 18:57:43,660 : INFO : topic #67 (0.010): 0.114*\"syntact\" + 0.110*\"analysi\" + 0.090*\"english\" + 0.070*\"transform\" + 0.049*\"sentenc\" + 0.047*\"histori\" + 0.040*\"probabl\" + 0.039*\"left\" + 0.034*\"dictionari\" + 0.033*\"analyz\"\n",
      "2022-02-28 18:57:43,660 : INFO : topic #51 (0.010): 0.125*\"algorithm\" + 0.107*\"[\" + 0.104*\"(\" + 0.094*\"])\" + 0.028*\"alloc\" + 0.027*\"number\" + 0.026*\"-\" + 0.022*\"deadlock\" + 0.021*\"gener\" + 0.020*\"random\"\n",
      "2022-02-28 18:57:43,661 : INFO : topic #66 (0.010): 0.169*\"]\" + 0.112*\"[\" + 0.059*\"transform\" + 0.055*\"procedur\" + 0.051*\"comment\" + 0.041*\"algorithm\" + 0.035*\"previou\" + 0.035*\"(\" + 0.033*\"logarithm\" + 0.027*\"rang\"\n",
      "2022-02-28 18:57:43,661 : INFO : topic #93 (0.011): 0.067*\",\" + 0.045*\"-\" + 0.024*\"code\" + 0.018*\"system\" + 0.015*\"(\" + 0.015*\"program\" + 0.013*\"comput\" + 0.013*\"data\" + 0.011*\")\" + 0.011*\"time\"\n",
      "2022-02-28 18:57:43,662 : INFO : topic diff=0.317341, rho=0.526900\n",
      "2022-02-28 18:57:44,562 : INFO : -6.910 per-word bound, 120.2 perplexity estimate based on a held-out corpus of 1204 documents with 49783 words\n",
      "2022-02-28 18:57:44,562 : INFO : PROGRESS: pass 1, at document #3204/3204\n",
      "2022-02-28 18:57:45,304 : INFO : optimized alpha [0.010225276, 0.010436545, 0.009908943, 0.0100563755, 0.010445329, 0.010130554, 0.009804105, 0.010261096, 0.010007153, 0.010049099, 0.010003546, 0.0099612465, 0.010080851, 0.01003602, 0.010433486, 0.009927274, 0.010163444, 0.010073746, 0.0097266445, 0.0100194765, 0.010139127, 0.009655483, 0.009907417, 0.009851769, 0.010712719, 0.00992949, 0.009950469, 0.010231599, 0.010616826, 0.009747302, 0.010017604, 0.009724206, 0.010136078, 0.010455468, 0.01029943, 0.010350975, 0.0100471685, 0.009913502, 0.010287033, 0.010310866, 0.010042088, 0.009821145, 0.0103304535, 0.009871735, 0.010049046, 0.010020963, 0.00991906, 0.009710404, 0.009728593, 0.009816835, 0.010032229, 0.0102887545, 0.01006824, 0.0097689405, 0.010543073, 0.010144673, 0.010597474, 0.010087491, 0.010298539, 0.010171824, 0.010115656, 0.010058953, 0.009842608, 0.010064707, 0.009712353, 0.0097125955, 0.010902997, 0.009621845, 0.009842557, 0.010126709, 0.0099628, 0.0100647, 0.010082629, 0.010316468, 0.01039821, 0.010476378, 0.010637869, 0.010389393, 0.010179823, 0.01009091, 0.010310228, 0.009967336, 0.009875773, 0.009891575, 0.010117676, 0.01019175, 0.010223123, 0.010008691, 0.010031845, 0.010327075, 0.009879904, 0.010218578, 0.009941925, 0.010764532, 0.010580977, 0.009737327, 0.010312941, 0.010151729, 0.009863132, 0.00973585]\n",
      "2022-02-28 18:57:45,310 : INFO : merging changes from 1204 documents into a model of 3204 documents\n",
      "2022-02-28 18:57:45,319 : INFO : topic #67 (0.010): 0.138*\"analysi\" + 0.101*\"syntact\" + 0.087*\"transform\" + 0.076*\"english\" + 0.063*\"histori\" + 0.057*\"analyz\" + 0.057*\"probabl\" + 0.048*\"left\" + 0.038*\"sentenc\" + 0.035*\"grammar\"\n",
      "2022-02-28 18:57:45,320 : INFO : topic #21 (0.010): 0.043*\"choic\" + 0.035*\"recogn\" + 0.033*\"transit\" + 0.032*\"-\" + 0.029*\"face\" + 0.028*\"telephon\" + 0.027*\"mutual\" + 0.023*\",\" + 0.022*\"comput\" + 0.018*\"recurs\"\n",
      "2022-02-28 18:57:45,321 : INFO : topic #24 (0.011): 0.181*\"(\" + 0.148*\")\" + 0.109*\"set\" + 0.073*\"1\" + 0.044*\"2\" + 0.043*\"algorithm\" + 0.043*\"bound\" + 0.038*\"partit\" + 0.026*\"3\" + 0.024*\"order\"\n",
      "2022-02-28 18:57:45,321 : INFO : topic #93 (0.011): 0.070*\",\" + 0.043*\"-\" + 0.025*\"code\" + 0.016*\"system\" + 0.014*\"time\" + 0.013*\"program\" + 0.013*\"(\" + 0.012*\"data\" + 0.011*\"comput\" + 0.011*\"requir\"\n",
      "2022-02-28 18:57:45,322 : INFO : topic #66 (0.011): 0.240*\"]\" + 0.174*\"[\" + 0.059*\"comment\" + 0.052*\"transform\" + 0.046*\"previou\" + 0.041*\"procedur\" + 0.041*\"algorithm\" + 0.033*\"usag\" + 0.030*\"(\" + 0.024*\"function\"\n",
      "2022-02-28 18:57:45,322 : INFO : topic diff=0.427802, rho=0.526900\n",
      "2022-02-28 18:57:45,329 : INFO : PROGRESS: pass 2, at document #2000/3204\n",
      "2022-02-28 18:57:46,140 : INFO : optimized alpha [0.010211211, 0.010662544, 0.009875974, 0.009993367, 0.01042266, 0.010125518, 0.009740592, 0.010203104, 0.009968206, 0.010092398, 0.010029929, 0.009901581, 0.010124882, 0.009939825, 0.010439612, 0.009991341, 0.010153211, 0.010144047, 0.009876235, 0.009996607, 0.010388671, 0.009615107, 0.009937427, 0.00979409, 0.010935706, 0.009989467, 0.009886606, 0.0102008805, 0.010571554, 0.009680202, 0.01017038, 0.009703563, 0.01012845, 0.010461671, 0.010439373, 0.010303056, 0.010182118, 0.009870641, 0.010289383, 0.010335748, 0.010006387, 0.00981274, 0.010326718, 0.009866947, 0.010132466, 0.010086431, 0.010016632, 0.009772977, 0.009844088, 0.009951463, 0.009962317, 0.010632552, 0.009992777, 0.009751983, 0.01049917, 0.010193499, 0.010676481, 0.010157895, 0.010252361, 0.010172292, 0.0102730505, 0.0101976, 0.009887447, 0.010108284, 0.009657104, 0.009836808, 0.010929993, 0.009685636, 0.009824229, 0.010174332, 0.0101806065, 0.010002661, 0.0100424, 0.01025468, 0.0104159005, 0.010483294, 0.0114316065, 0.010340348, 0.01009189, 0.010007164, 0.0102442205, 0.009904664, 0.009930239, 0.009812134, 0.010042361, 0.010165108, 0.010245251, 0.009924736, 0.010013037, 0.010361866, 0.009884314, 0.010127684, 0.00993412, 0.010673804, 0.010520883, 0.009692805, 0.010262618, 0.010093066, 0.009879249, 0.0098802075]\n",
      "2022-02-28 18:57:46,146 : INFO : merging changes from 2000 documents into a model of 3204 documents\n",
      "2022-02-28 18:57:46,154 : INFO : topic #64 (0.010): 0.106*\"sequenc\" + 0.103*\"surfac\" + 0.080*\"+\" + 0.048*\",\" + 0.031*\"test\" + 0.027*\"averag\" + 0.027*\"sort\" + 0.026*\"gener\" + 0.024*\"techniqu\" + 0.022*\"(\"\n",
      "2022-02-28 18:57:46,155 : INFO : topic #21 (0.010): 0.038*\"telephon\" + 0.034*\"choic\" + 0.033*\"-\" + 0.031*\"recogn\" + 0.024*\"transit\" + 0.024*\"comput\" + 0.024*\"sign\" + 0.022*\"mutual\" + 0.021*\",\" + 0.021*\"routin\"\n",
      "2022-02-28 18:57:46,156 : INFO : topic #24 (0.011): 0.189*\"(\" + 0.155*\")\" + 0.102*\"set\" + 0.078*\"1\" + 0.052*\"2\" + 0.040*\"algorithm\" + 0.035*\"partit\" + 0.035*\"bound\" + 0.026*\"3\" + 0.025*\"interpol\"\n",
      "2022-02-28 18:57:46,156 : INFO : topic #66 (0.011): 0.176*\"]\" + 0.155*\"[\" + 0.058*\"transform\" + 0.058*\"comment\" + 0.054*\"procedur\" + 0.042*\"algorithm\" + 0.035*\"previou\" + 0.033*\"(\" + 0.032*\"logarithm\" + 0.029*\"usag\"\n",
      "2022-02-28 18:57:46,157 : INFO : topic #76 (0.011): 0.288*\"(\" + 0.286*\")\" + 0.242*\"algorithm\" + 0.025*\"squar\" + 0.024*\"root\" + 0.015*\"chain\" + 0.015*\"polynomi\" + 0.013*\"normal\" + 0.011*\"-\" + 0.009*\"probabl\"\n",
      "2022-02-28 18:57:46,158 : INFO : topic diff=0.400424, rho=0.466151\n",
      "2022-02-28 18:57:47,012 : INFO : -6.788 per-word bound, 110.5 perplexity estimate based on a held-out corpus of 1204 documents with 49783 words\n",
      "2022-02-28 18:57:47,012 : INFO : PROGRESS: pass 2, at document #3204/3204\n",
      "2022-02-28 18:57:47,736 : INFO : optimized alpha [0.010466135, 0.011028672, 0.0099866465, 0.0101017365, 0.010748714, 0.010363346, 0.009771641, 0.010345622, 0.010090884, 0.010232232, 0.010198478, 0.009992789, 0.010363572, 0.009988887, 0.010796004, 0.010080046, 0.010367468, 0.010410557, 0.009903376, 0.010126721, 0.010604888, 0.0096353, 0.010046033, 0.009839573, 0.011414098, 0.010093186, 0.009978708, 0.010355477, 0.01084213, 0.009753332, 0.010350875, 0.009731203, 0.01028577, 0.0106756305, 0.010670115, 0.010530047, 0.010326127, 0.009946772, 0.010487376, 0.010516612, 0.010107548, 0.009891719, 0.010545847, 0.009976558, 0.010165686, 0.010225254, 0.010125497, 0.009699384, 0.009979185, 0.010024779, 0.010047225, 0.010648858, 0.010068636, 0.009771244, 0.010751641, 0.010385953, 0.011072195, 0.010348479, 0.010334757, 0.010344471, 0.01042058, 0.010372881, 0.010036782, 0.010321602, 0.0097413985, 0.009902766, 0.0114396615, 0.009810517, 0.009919642, 0.010336033, 0.010244402, 0.010128204, 0.010240241, 0.010481941, 0.010663436, 0.010785233, 0.012095248, 0.010716822, 0.010270054, 0.010102494, 0.010317743, 0.010049265, 0.010014268, 0.009872912, 0.010275902, 0.010431441, 0.010413165, 0.01005979, 0.010180803, 0.010537697, 0.009959423, 0.01013496, 0.010058588, 0.010803983, 0.010893866, 0.009769386, 0.0105028795, 0.010214129, 0.009934876, 0.01021198]\n",
      "2022-02-28 18:57:47,742 : INFO : merging changes from 1204 documents into a model of 3204 documents\n"
     ]
    },
    {
     "name": "stderr",
     "output_type": "stream",
     "text": [
      "2022-02-28 18:57:47,751 : INFO : topic #21 (0.010): 0.068*\"choic\" + 0.058*\"transit\" + 0.041*\"recogn\" + 0.033*\"telephon\" + 0.032*\"face\" + 0.030*\"mutual\" + 0.026*\"-\" + 0.023*\"routin\" + 0.022*\"comput\" + 0.021*\",\"\n",
      "2022-02-28 18:57:47,751 : INFO : topic #47 (0.010): 0.107*\"matrix\" + 0.104*\"algorithm\" + 0.080*\"symmetr\" + 0.079*\"(\" + 0.068*\"eigenvalu\" + 0.060*\"[\" + 0.044*\"])\" + 0.035*\"invers\" + 0.030*\"element\" + 0.028*\")\"\n",
      "2022-02-28 18:57:47,752 : INFO : topic #24 (0.011): 0.197*\"(\" + 0.157*\")\" + 0.100*\"set\" + 0.084*\"1\" + 0.056*\"2\" + 0.039*\"bound\" + 0.034*\"partit\" + 0.033*\"3\" + 0.032*\"algorithm\" + 0.021*\"order\"\n",
      "2022-02-28 18:57:47,753 : INFO : topic #66 (0.011): 0.233*\"]\" + 0.203*\"[\" + 0.060*\"comment\" + 0.046*\"procedur\" + 0.042*\"previou\" + 0.041*\"algorithm\" + 0.041*\"transform\" + 0.038*\"usag\" + 0.028*\"10\" + 0.027*\"(\"\n",
      "2022-02-28 18:57:47,753 : INFO : topic #76 (0.012): 0.299*\")\" + 0.297*\"(\" + 0.255*\"algorithm\" + 0.019*\"squar\" + 0.018*\"root\" + 0.013*\"chain\" + 0.013*\"polynomi\" + 0.013*\"-\" + 0.012*\"normal\" + 0.008*\"probabl\"\n",
      "2022-02-28 18:57:47,754 : INFO : topic diff=0.531693, rho=0.466151\n",
      "2022-02-28 18:57:47,761 : INFO : PROGRESS: pass 3, at document #2000/3204\n",
      "2022-02-28 18:57:48,493 : INFO : optimized alpha [0.010469715, 0.01127924, 0.009965561, 0.010066914, 0.010738954, 0.010406198, 0.009743206, 0.010306321, 0.010057824, 0.010304171, 0.010239307, 0.009952387, 0.010415763, 0.009899826, 0.010814529, 0.010179412, 0.010381423, 0.010493432, 0.010042654, 0.010118972, 0.0108799115, 0.0096105235, 0.010094334, 0.009803578, 0.011660287, 0.0101927705, 0.009938793, 0.010333851, 0.0108174225, 0.009699996, 0.010539524, 0.009738657, 0.010298304, 0.010680036, 0.010798232, 0.010489507, 0.01045425, 0.009925728, 0.010513087, 0.010590405, 0.010086388, 0.009920227, 0.010554518, 0.0099999355, 0.010237527, 0.010278251, 0.010266495, 0.0097983135, 0.010103818, 0.0101994015, 0.009987201, 0.011055242, 0.010014753, 0.009767621, 0.010723737, 0.0104429275, 0.011116487, 0.010414251, 0.010318254, 0.010359592, 0.010594126, 0.010519637, 0.010098966, 0.010408372, 0.009712765, 0.010067139, 0.011471556, 0.0099164955, 0.009924548, 0.0103920745, 0.010496981, 0.010082933, 0.0102201905, 0.010442231, 0.010684851, 0.010800603, 0.013057969, 0.010677222, 0.0102009205, 0.010029928, 0.010252482, 0.009998819, 0.010128375, 0.009815322, 0.0102192005, 0.010425137, 0.010434981, 0.009996981, 0.010193495, 0.010595813, 0.009981011, 0.010049306, 0.010064213, 0.010720085, 0.01085358, 0.00974654, 0.01045971, 0.010169972, 0.009971233, 0.010446307]\n",
      "2022-02-28 18:57:48,499 : INFO : merging changes from 2000 documents into a model of 3204 documents\n",
      "2022-02-28 18:57:48,508 : INFO : topic #21 (0.010): 0.056*\"choic\" + 0.046*\"transit\" + 0.043*\"telephon\" + 0.038*\"recogn\" + 0.029*\"routin\" + 0.028*\"sign\" + 0.027*\"-\" + 0.025*\"mutual\" + 0.024*\"comput\" + 0.022*\"face\"\n",
      "2022-02-28 18:57:48,509 : INFO : topic #29 (0.010): 0.116*\"refer\" + 0.091*\",\" + 0.043*\"start\" + 0.032*\"materi\" + 0.027*\"-\" + 0.026*\"(\" + 0.025*\")\" + 0.025*\"composit\" + 0.020*\"automat\" + 0.019*\"extend\"\n",
      "2022-02-28 18:57:48,509 : INFO : topic #66 (0.011): 0.180*\"]\" + 0.179*\"[\" + 0.059*\"comment\" + 0.057*\"procedur\" + 0.048*\"transform\" + 0.042*\"algorithm\" + 0.033*\"usag\" + 0.033*\"fourier\" + 0.032*\"previou\" + 0.032*\"logarithm\"\n",
      "2022-02-28 18:57:48,510 : INFO : topic #24 (0.012): 0.201*\"(\" + 0.161*\")\" + 0.095*\"set\" + 0.087*\"1\" + 0.063*\"2\" + 0.035*\"3\" + 0.033*\"bound\" + 0.033*\"partit\" + 0.028*\"algorithm\" + 0.022*\"interpol\"\n",
      "2022-02-28 18:57:48,511 : INFO : topic #76 (0.013): 0.310*\")\" + 0.310*\"(\" + 0.250*\"algorithm\" + 0.019*\"root\" + 0.018*\"squar\" + 0.015*\"polynomi\" + 0.012*\"-\" + 0.011*\"chain\" + 0.008*\"normal\" + 0.006*\"coeffici\"\n",
      "2022-02-28 18:57:48,512 : INFO : topic diff=0.548767, rho=0.422502\n",
      "2022-02-28 18:57:49,312 : INFO : -6.707 per-word bound, 104.5 perplexity estimate based on a held-out corpus of 1204 documents with 49783 words\n",
      "2022-02-28 18:57:49,312 : INFO : PROGRESS: pass 3, at document #3204/3204\n",
      "2022-02-28 18:57:49,982 : INFO : optimized alpha [0.010741277, 0.011654199, 0.010066996, 0.01018785, 0.011036232, 0.0106473155, 0.009796838, 0.010432906, 0.010184332, 0.010439067, 0.010404338, 0.010074877, 0.010668458, 0.009977871, 0.0111711845, 0.010281642, 0.010585539, 0.010750329, 0.010080646, 0.010234313, 0.011105618, 0.0096405465, 0.010232579, 0.009863408, 0.012112159, 0.010362263, 0.010026711, 0.010497384, 0.011054094, 0.00979136, 0.010719407, 0.009768132, 0.010434722, 0.010879697, 0.011010458, 0.010712495, 0.010563471, 0.010016621, 0.010713305, 0.010767282, 0.010196927, 0.010020545, 0.010743975, 0.010107081, 0.010278668, 0.01041927, 0.010401649, 0.00976353, 0.01026952, 0.0102650225, 0.010079885, 0.011065102, 0.010091969, 0.009803516, 0.010962834, 0.010644949, 0.011496418, 0.0106070265, 0.01040118, 0.010542526, 0.010747084, 0.010683618, 0.0102463, 0.010611484, 0.009817615, 0.01014384, 0.011952639, 0.010096772, 0.010026074, 0.010569374, 0.010593961, 0.010244084, 0.010419466, 0.01065793, 0.010908582, 0.011063471, 0.01387892, 0.011025513, 0.010371171, 0.010103514, 0.010327615, 0.010138197, 0.0102441935, 0.00988221, 0.010440673, 0.010681289, 0.01059565, 0.010124048, 0.010383111, 0.010787244, 0.010063654, 0.0100692725, 0.010185117, 0.010823626, 0.011186757, 0.009830658, 0.01067625, 0.010273546, 0.01004666, 0.01085994]\n",
      "2022-02-28 18:57:49,988 : INFO : merging changes from 1204 documents into a model of 3204 documents\n",
      "2022-02-28 18:57:49,997 : INFO : topic #21 (0.010): 0.085*\"choic\" + 0.072*\"transit\" + 0.048*\"recogn\" + 0.036*\"telephon\" + 0.033*\"face\" + 0.031*\"mutual\" + 0.025*\"routin\" + 0.022*\"comput\" + 0.022*\"-\" + 0.021*\"restrict\"\n",
      "2022-02-28 18:57:49,998 : INFO : topic #6 (0.010): 0.084*\",\" + 0.056*\"plan\" + 0.031*\"algorithm\" + 0.030*\"find\" + 0.026*\"subsystem\" + 0.024*\"item\" + 0.021*\"system\" + 0.019*\"select\" + 0.018*\"variabl\" + 0.017*\"-\"\n",
      "2022-02-28 18:57:49,999 : INFO : topic #66 (0.012): 0.232*\"]\" + 0.219*\"[\" + 0.062*\"comment\" + 0.047*\"procedur\" + 0.043*\"algorithm\" + 0.041*\"previou\" + 0.041*\"usag\" + 0.031*\"10\" + 0.028*\"transform\" + 0.025*\"(\"\n",
      "2022-02-28 18:57:49,999 : INFO : topic #24 (0.012): 0.206*\"(\" + 0.161*\")\" + 0.096*\"set\" + 0.090*\"1\" + 0.063*\"2\" + 0.039*\"3\" + 0.037*\"bound\" + 0.032*\"partit\" + 0.023*\"algorithm\" + 0.021*\"-\"\n",
      "2022-02-28 18:57:50,000 : INFO : topic #76 (0.014): 0.319*\"(\" + 0.318*\")\" + 0.256*\"algorithm\" + 0.014*\"root\" + 0.013*\"-\" + 0.012*\"squar\" + 0.012*\"polynomi\" + 0.009*\"chain\" + 0.007*\"normal\" + 0.005*\"probabl\"\n",
      "2022-02-28 18:57:50,000 : INFO : topic diff=0.663097, rho=0.422502\n",
      "2022-02-28 18:57:50,007 : INFO : PROGRESS: pass 4, at document #2000/3204\n",
      "2022-02-28 18:57:50,735 : INFO : optimized alpha [0.01075752, 0.011914815, 0.010053771, 0.010163919, 0.011029342, 0.010711358, 0.009783148, 0.010405046, 0.010164032, 0.010540597, 0.010453904, 0.010047729, 0.01073457, 0.009897345, 0.01119871, 0.010408411, 0.010603853, 0.010836972, 0.010210525, 0.010229256, 0.011383745, 0.0096283415, 0.010289044, 0.009833092, 0.012347486, 0.010497062, 0.009994462, 0.010485261, 0.011034226, 0.009748584, 0.010919435, 0.009781653, 0.010442074, 0.01089365, 0.011118792, 0.010686346, 0.010691016, 0.010009309, 0.010753032, 0.0108482605, 0.010183576, 0.010060641, 0.010747066, 0.010140637, 0.010349554, 0.010470035, 0.010561859, 0.009869049, 0.010397708, 0.010446407, 0.010033313, 0.011498912, 0.010047269, 0.009818295, 0.010952944, 0.010707487, 0.011530361, 0.010686011, 0.010415129, 0.010559795, 0.01093075, 0.010835339, 0.010324086, 0.010708187, 0.009808787, 0.010337066, 0.011991774, 0.010224996, 0.01003477, 0.010625003, 0.01083999, 0.010201963, 0.010424459, 0.0106202215, 0.01093172, 0.011078306, 0.01496634, 0.011004875, 0.010309056, 0.010043995, 0.0102768205, 0.010093657, 0.01038474, 0.00984579, 0.0103972815, 0.010686124, 0.010625656, 0.010082299, 0.010402285, 0.010857874, 0.010101603, 0.009996982, 0.010200138, 0.01074964, 0.011146575, 0.0097966865, 0.010624716, 0.010249323, 0.010084503, 0.011138062]\n",
      "2022-02-28 18:57:50,741 : INFO : merging changes from 2000 documents into a model of 3204 documents\n",
      "2022-02-28 18:57:50,751 : INFO : topic #21 (0.010): 0.071*\"choic\" + 0.062*\"transit\" + 0.044*\"telephon\" + 0.044*\"recogn\" + 0.031*\"routin\" + 0.029*\"sign\" + 0.025*\"mutual\" + 0.024*\"comput\" + 0.023*\"face\" + 0.023*\"-\"\n"
     ]
    },
    {
     "name": "stderr",
     "output_type": "stream",
     "text": [
      "2022-02-28 18:57:50,751 : INFO : topic #29 (0.010): 0.140*\"refer\" + 0.093*\",\" + 0.048*\"start\" + 0.037*\"materi\" + 0.031*\"composit\" + 0.026*\"-\" + 0.024*\"(\" + 0.023*\"extend\" + 0.021*\")\" + 0.017*\"68\"\n",
      "2022-02-28 18:57:50,752 : INFO : topic #66 (0.012): 0.197*\"[\" + 0.189*\"]\" + 0.063*\"comment\" + 0.058*\"procedur\" + 0.041*\"algorithm\" + 0.038*\"usag\" + 0.034*\"previou\" + 0.033*\"10\" + 0.033*\"fourier\" + 0.032*\"logarithm\"\n",
      "2022-02-28 18:57:50,752 : INFO : topic #24 (0.012): 0.209*\"(\" + 0.165*\")\" + 0.093*\"1\" + 0.093*\"set\" + 0.068*\"2\" + 0.040*\"3\" + 0.032*\"bound\" + 0.032*\"partit\" + 0.021*\"algorithm\" + 0.021*\"-\"\n",
      "2022-02-28 18:57:50,753 : INFO : topic #76 (0.015): 0.327*\"(\" + 0.326*\")\" + 0.250*\"algorithm\" + 0.013*\"root\" + 0.013*\"polynomi\" + 0.012*\"squar\" + 0.012*\"-\" + 0.008*\"chain\" + 0.005*\"coeffici\" + 0.005*\"normal\"\n",
      "2022-02-28 18:57:50,754 : INFO : topic diff=0.646266, rho=0.389191\n",
      "2022-02-28 18:57:51,536 : INFO : -6.647 per-word bound, 100.2 perplexity estimate based on a held-out corpus of 1204 documents with 49783 words\n",
      "2022-02-28 18:57:51,537 : INFO : PROGRESS: pass 4, at document #3204/3204\n",
      "2022-02-28 18:57:52,177 : INFO : optimized alpha [0.011008262, 0.012287165, 0.010171043, 0.010296521, 0.011307651, 0.010951094, 0.009846391, 0.010532786, 0.0102952635, 0.010655379, 0.010620873, 0.010178079, 0.010971342, 0.009989949, 0.011530659, 0.010529924, 0.0108012855, 0.011074244, 0.010245111, 0.010339889, 0.011609705, 0.009666524, 0.01042747, 0.009898816, 0.012766526, 0.010675148, 0.010083057, 0.010668498, 0.011258312, 0.00986222, 0.011111768, 0.0098223435, 0.010575512, 0.011065186, 0.011302416, 0.0109287435, 0.010805882, 0.010093979, 0.010960898, 0.011034201, 0.010306237, 0.010189833, 0.010923338, 0.010256553, 0.010390715, 0.010600778, 0.010704242, 0.0098724, 0.010558732, 0.010516265, 0.01015959, 0.011499184, 0.010116107, 0.009858567, 0.011168801, 0.010906291, 0.011896031, 0.010896817, 0.010546794, 0.010733456, 0.011065296, 0.010998206, 0.01047465, 0.010921932, 0.009928651, 0.010427296, 0.012448288, 0.010416441, 0.010145621, 0.010786452, 0.010960354, 0.01036186, 0.010627086, 0.010834901, 0.011143899, 0.011320385, 0.015975159, 0.011339154, 0.010481026, 0.010109627, 0.010340438, 0.010216768, 0.010529303, 0.00992458, 0.01060721, 0.01093607, 0.010782004, 0.010207139, 0.01059596, 0.011064916, 0.010184952, 0.010043574, 0.010325713, 0.0108463075, 0.011447655, 0.009881678, 0.010812336, 0.010349082, 0.010141384, 0.01161115]\n",
      "2022-02-28 18:57:52,183 : INFO : merging changes from 1204 documents into a model of 3204 documents\n",
      "2022-02-28 18:57:52,192 : INFO : topic #21 (0.010): 0.093*\"choic\" + 0.081*\"transit\" + 0.051*\"recogn\" + 0.037*\"telephon\" + 0.033*\"face\" + 0.029*\"mutual\" + 0.028*\"routin\" + 0.027*\"restrict\" + 0.023*\"process\" + 0.023*\"comput\"\n",
      "2022-02-28 18:57:52,192 : INFO : topic #95 (0.010): 0.251*\"key\" + 0.068*\"primari\" + 0.054*\"address\" + 0.036*\"forward\" + 0.033*\"compil\" + 0.032*\"requir\" + 0.029*\"request\" + 0.029*\"indic\" + 0.027*\"secondari\" + 0.025*\"permit\"\n",
      "2022-02-28 18:57:52,193 : INFO : topic #66 (0.012): 0.233*\"]\" + 0.230*\"[\" + 0.064*\"comment\" + 0.044*\"procedur\" + 0.043*\"usag\" + 0.043*\"previou\" + 0.043*\"algorithm\" + 0.032*\"10\" + 0.024*\"short\" + 0.024*\"argument\"\n",
      "2022-02-28 18:57:52,194 : INFO : topic #24 (0.013): 0.213*\"(\" + 0.164*\")\" + 0.095*\"1\" + 0.092*\"set\" + 0.067*\"2\" + 0.043*\"3\" + 0.036*\"bound\" + 0.032*\"partit\" + 0.022*\"-\" + 0.019*\"spline\"\n",
      "2022-02-28 18:57:52,194 : INFO : topic #76 (0.016): 0.335*\"(\" + 0.333*\")\" + 0.248*\"algorithm\" + 0.012*\"-\" + 0.012*\"polynomi\" + 0.011*\"root\" + 0.008*\"squar\" + 0.006*\"chain\" + 0.005*\"normal\" + 0.004*\"probabl\"\n",
      "2022-02-28 18:57:52,195 : INFO : topic diff=0.708201, rho=0.389191\n",
      "2022-02-28 18:57:52,202 : INFO : PROGRESS: pass 5, at document #2000/3204\n",
      "2022-02-28 18:57:52,917 : INFO : optimized alpha [0.01102424, 0.012555199, 0.010167967, 0.010285443, 0.011305558, 0.0110325245, 0.009843233, 0.010528105, 0.010293265, 0.010758733, 0.010669022, 0.010160113, 0.0110407015, 0.009915924, 0.01156274, 0.010657386, 0.01083354, 0.01117327, 0.010373195, 0.010348545, 0.01187003, 0.00966483, 0.010483992, 0.0098767085, 0.012988662, 0.010831451, 0.0100626815, 0.01066832, 0.011257084, 0.009835131, 0.01132017, 0.009841014, 0.01059786, 0.011081784, 0.011389735, 0.010902934, 0.01094188, 0.010091271, 0.010995409, 0.01111608, 0.010301299, 0.010247805, 0.010925534, 0.010304895, 0.010468555, 0.010644323, 0.0108655775, 0.009995125, 0.010695005, 0.010703226, 0.010123749, 0.011935215, 0.010079109, 0.009876736, 0.011174951, 0.010960454, 0.011936406, 0.010958709, 0.010578985, 0.010747158, 0.011259644, 0.011155609, 0.010553405, 0.011028491, 0.009927608, 0.010624005, 0.012467985, 0.0105469925, 0.010157595, 0.010844295, 0.011202443, 0.010327872, 0.010646501, 0.010804551, 0.011172791, 0.011335129, 0.01720926, 0.01131922, 0.010418829, 0.0100516295, 0.01029801, 0.010173513, 0.0107026175, 0.0099022705, 0.01057541, 0.010955166, 0.010811707, 0.010179433, 0.010617022, 0.011159239, 0.0102245435, 0.00998523, 0.010349129, 0.010778401, 0.01141189, 0.009850625, 0.010761557, 0.010326869, 0.010188315, 0.01191873]\n",
      "2022-02-28 18:57:52,923 : INFO : merging changes from 2000 documents into a model of 3204 documents\n",
      "2022-02-28 18:57:52,931 : INFO : topic #21 (0.010): 0.079*\"choic\" + 0.071*\"transit\" + 0.046*\"recogn\" + 0.044*\"telephon\" + 0.035*\"routin\" + 0.029*\"sign\" + 0.025*\"comput\" + 0.024*\"mutual\" + 0.024*\"face\" + 0.023*\"process\"\n",
      "2022-02-28 18:57:52,932 : INFO : topic #31 (0.010): 0.191*\"processor\" + 0.092*\"-\" + 0.039*\"\"\" + 0.038*\"system\" + 0.032*\",\" + 0.031*\"read\" + 0.023*\"author\" + 0.019*\"process\" + 0.018*\"electron\" + 0.016*\"parallel\"\n",
      "2022-02-28 18:57:52,932 : INFO : topic #1 (0.013): 0.220*\"languag\" + 0.061*\"structur\" + 0.049*\",\" + 0.048*\"program\" + 0.044*\"data\" + 0.034*\"-\" + 0.024*\"syntax\" + 0.020*\"design\" + 0.020*\"type\" + 0.018*\"base\"\n",
      "2022-02-28 18:57:52,933 : INFO : topic #24 (0.013): 0.216*\"(\" + 0.167*\")\" + 0.098*\"1\" + 0.089*\"set\" + 0.071*\"2\" + 0.043*\"3\" + 0.032*\"partit\" + 0.032*\"bound\" + 0.022*\"-\" + 0.019*\"interpol\"\n",
      "2022-02-28 18:57:52,934 : INFO : topic #76 (0.017): 0.341*\"(\" + 0.340*\")\" + 0.243*\"algorithm\" + 0.012*\"polynomi\" + 0.011*\"-\" + 0.009*\"root\" + 0.008*\"squar\" + 0.005*\"chain\" + 0.004*\"coeffici\" + 0.004*\"normal\"\n",
      "2022-02-28 18:57:52,934 : INFO : topic diff=0.648964, rho=0.362690\n",
      "2022-02-28 18:57:53,702 : INFO : -6.605 per-word bound, 97.3 perplexity estimate based on a held-out corpus of 1204 documents with 49783 words\n",
      "2022-02-28 18:57:53,704 : INFO : PROGRESS: pass 5, at document #3204/3204\n",
      "2022-02-28 18:57:54,339 : INFO : optimized alpha [0.011261539, 0.01295512, 0.010290647, 0.010435447, 0.011562055, 0.011263038, 0.009926903, 0.010667305, 0.010429426, 0.010866085, 0.010838998, 0.010295149, 0.011278206, 0.010012391, 0.011871091, 0.010793948, 0.011020002, 0.011401418, 0.010408268, 0.010462011, 0.012094672, 0.00971301, 0.010642403, 0.00995086, 0.013391168, 0.011015746, 0.010167444, 0.010854073, 0.0114581995, 0.009945117, 0.011508554, 0.009876606, 0.010726643, 0.011239842, 0.011562592, 0.011145114, 0.011055995, 0.010164935, 0.011181475, 0.0112912785, 0.010432165, 0.01040967, 0.01110147, 0.010420112, 0.010516375, 0.010770459, 0.011012495, 0.010031101, 0.010862701, 0.0107806185, 0.010267363, 0.011934027, 0.010144293, 0.00993004, 0.011348202, 0.011151294, 0.012291897, 0.011171022, 0.01071564, 0.010904284, 0.011382095, 0.011312114, 0.010692056, 0.0112505, 0.010049302, 0.010710995, 0.012900756, 0.010747064, 0.01027115, 0.010989349, 0.01132808, 0.01047518, 0.010844166, 0.011010222, 0.011362749, 0.011553397, 0.018405098, 0.011650341, 0.010593491, 0.01012007, 0.010374202, 0.010295481, 0.010854922, 0.009988732, 0.010773546, 0.011191637, 0.010962051, 0.010327976, 0.010799699, 0.0113652935, 0.010315255, 0.010042142, 0.010482973, 0.0108764665, 0.011679338, 0.009933741, 0.010937998, 0.010430114, 0.010253961, 0.01244488]\n",
      "2022-02-28 18:57:54,345 : INFO : merging changes from 1204 documents into a model of 3204 documents\n",
      "2022-02-28 18:57:54,354 : INFO : topic #21 (0.010): 0.098*\"choic\" + 0.087*\"transit\" + 0.052*\"recogn\" + 0.037*\"telephon\" + 0.033*\"routin\" + 0.032*\"face\" + 0.030*\"restrict\" + 0.027*\"mutual\" + 0.026*\"process\" + 0.024*\"comput\"\n",
      "2022-02-28 18:57:54,355 : INFO : topic #31 (0.010): 0.205*\"processor\" + 0.098*\"-\" + 0.045*\"\"\" + 0.034*\"system\" + 0.031*\"read\" + 0.030*\",\" + 0.024*\"parallel\" + 0.022*\"author\" + 0.020*\"process\" + 0.019*\"electron\"\n"
     ]
    },
    {
     "name": "stderr",
     "output_type": "stream",
     "text": [
      "2022-02-28 18:57:54,356 : INFO : topic #1 (0.013): 0.213*\"languag\" + 0.072*\"structur\" + 0.052*\"data\" + 0.051*\"program\" + 0.050*\",\" + 0.031*\"-\" + 0.023*\"syntax\" + 0.022*\"design\" + 0.021*\"type\" + 0.020*\"semant\"\n",
      "2022-02-28 18:57:54,356 : INFO : topic #24 (0.013): 0.220*\"(\" + 0.167*\")\" + 0.098*\"1\" + 0.087*\"set\" + 0.069*\"2\" + 0.045*\"3\" + 0.035*\"bound\" + 0.033*\"partit\" + 0.022*\"-\" + 0.019*\"spline\"\n",
      "2022-02-28 18:57:54,357 : INFO : topic #76 (0.018): 0.346*\"(\" + 0.343*\")\" + 0.242*\"algorithm\" + 0.012*\"-\" + 0.011*\"polynomi\" + 0.008*\"root\" + 0.006*\"squar\" + 0.004*\"normal\" + 0.004*\"chain\" + 0.004*\"probabl\"\n",
      "2022-02-28 18:57:54,358 : INFO : topic diff=0.671680, rho=0.362690\n",
      "2022-02-28 18:57:54,365 : INFO : PROGRESS: pass 6, at document #2000/3204\n",
      "2022-02-28 18:57:55,095 : INFO : optimized alpha [0.011279548, 0.013230173, 0.010289512, 0.0104283905, 0.011566601, 0.011351536, 0.009936163, 0.010668317, 0.010436439, 0.010986695, 0.010886085, 0.010288807, 0.011353027, 0.00995043, 0.011905885, 0.01093379, 0.011063287, 0.011500899, 0.010531901, 0.010473841, 0.012345665, 0.009723625, 0.010704775, 0.00993739, 0.013587957, 0.011191295, 0.01014675, 0.0108643975, 0.011462192, 0.0099214725, 0.011706647, 0.009898244, 0.010745868, 0.011263033, 0.011641178, 0.011138555, 0.011195026, 0.01016804, 0.011229002, 0.011378455, 0.010425625, 0.010478498, 0.011104902, 0.01048546, 0.010590221, 0.01081334, 0.011174325, 0.010163201, 0.011001868, 0.010975882, 0.010245924, 0.012360603, 0.0101084635, 0.009959584, 0.011365472, 0.01120974, 0.012330149, 0.011238725, 0.0107496055, 0.010916869, 0.01157194, 0.011472014, 0.010768538, 0.0113706505, 0.010048287, 0.01089924, 0.012918234, 0.010884393, 0.010289566, 0.011042039, 0.011579729, 0.010448389, 0.010863764, 0.010988316, 0.0113953175, 0.011570446, 0.01978903, 0.011641022, 0.0105399825, 0.010064779, 0.0103332335, 0.010263596, 0.011047171, 0.009973187, 0.0107501, 0.011204878, 0.010995453, 0.010315832, 0.010820841, 0.011470515, 0.010363503, 0.009995298, 0.010503211, 0.010815369, 0.011649835, 0.009904993, 0.010893477, 0.010416631, 0.010298706, 0.012752899]\n",
      "2022-02-28 18:57:55,100 : INFO : merging changes from 2000 documents into a model of 3204 documents\n",
      "2022-02-28 18:57:55,109 : INFO : topic #21 (0.010): 0.084*\"choic\" + 0.077*\"transit\" + 0.047*\"recogn\" + 0.044*\"telephon\" + 0.042*\"routin\" + 0.029*\"sign\" + 0.027*\"process\" + 0.025*\"restrict\" + 0.025*\"comput\" + 0.024*\"face\"\n",
      "2022-02-28 18:57:55,110 : INFO : topic #31 (0.010): 0.202*\"processor\" + 0.093*\"-\" + 0.043*\"\"\" + 0.036*\"system\" + 0.032*\"read\" + 0.031*\",\" + 0.024*\"author\" + 0.022*\"parallel\" + 0.022*\"process\" + 0.019*\"electron\"\n",
      "2022-02-28 18:57:55,111 : INFO : topic #1 (0.013): 0.226*\"languag\" + 0.067*\"structur\" + 0.052*\"program\" + 0.050*\",\" + 0.047*\"data\" + 0.034*\"-\" + 0.024*\"syntax\" + 0.020*\"design\" + 0.019*\"type\" + 0.018*\"base\"\n",
      "2022-02-28 18:57:55,111 : INFO : topic #24 (0.014): 0.222*\"(\" + 0.170*\")\" + 0.102*\"1\" + 0.083*\"set\" + 0.073*\"2\" + 0.045*\"3\" + 0.033*\"partit\" + 0.031*\"bound\" + 0.022*\"-\" + 0.017*\"spline\"\n",
      "2022-02-28 18:57:55,111 : INFO : topic #76 (0.020): 0.350*\"(\" + 0.348*\")\" + 0.239*\"algorithm\" + 0.012*\"polynomi\" + 0.011*\"-\" + 0.007*\"root\" + 0.005*\"squar\" + 0.004*\"coeffici\" + 0.003*\"normal\" + 0.003*\"chain\"\n",
      "2022-02-28 18:57:55,112 : INFO : topic diff=0.595194, rho=0.340958\n",
      "2022-02-28 18:57:55,906 : INFO : -6.573 per-word bound, 95.2 perplexity estimate based on a held-out corpus of 1204 documents with 49783 words\n",
      "2022-02-28 18:57:55,906 : INFO : PROGRESS: pass 6, at document #3204/3204\n",
      "2022-02-28 18:57:56,574 : INFO : optimized alpha [0.011528523, 0.013618171, 0.010414721, 0.01056798, 0.011794609, 0.011578192, 0.010035431, 0.010806483, 0.0105867665, 0.01109434, 0.011056998, 0.010425851, 0.011599186, 0.010050778, 0.0122076385, 0.011078799, 0.011253302, 0.011728524, 0.010564643, 0.010593507, 0.0125531, 0.009775172, 0.0108614415, 0.01000513, 0.0139801, 0.011369996, 0.010260741, 0.011059758, 0.011659814, 0.010034345, 0.011885961, 0.009938032, 0.010864946, 0.01141621, 0.011821824, 0.011398134, 0.011299537, 0.010246739, 0.011425301, 0.011558107, 0.010552833, 0.010683366, 0.0112815425, 0.010612581, 0.010644313, 0.010938842, 0.011313729, 0.01020834, 0.011167506, 0.011041952, 0.010385339, 0.012347783, 0.01017926, 0.01002743, 0.011520069, 0.011410484, 0.012685412, 0.0114410985, 0.010891486, 0.011066022, 0.011700483, 0.011626907, 0.0109093, 0.011601846, 0.010172212, 0.010987022, 0.01333098, 0.0110908495, 0.010406182, 0.01117967, 0.011727751, 0.010588135, 0.011063876, 0.011190278, 0.011575893, 0.011768245, 0.021091819, 0.011958106, 0.010721184, 0.010138784, 0.010408873, 0.010388081, 0.011217016, 0.010055406, 0.010944577, 0.0114366915, 0.0111507075, 0.010480566, 0.010994578, 0.011687039, 0.010437607, 0.01004422, 0.010633239, 0.010933689, 0.011911155, 0.009981264, 0.011070174, 0.010523631, 0.010349257, 0.013307723]\n",
      "2022-02-28 18:57:56,579 : INFO : merging changes from 1204 documents into a model of 3204 documents\n",
      "2022-02-28 18:57:56,588 : INFO : topic #21 (0.010): 0.101*\"choic\" + 0.089*\"transit\" + 0.051*\"recogn\" + 0.039*\"routin\" + 0.037*\"telephon\" + 0.034*\"restrict\" + 0.031*\"face\" + 0.031*\"process\" + 0.024*\"mutual\" + 0.024*\"comput\"\n",
      "2022-02-28 18:57:56,589 : INFO : topic #31 (0.010): 0.211*\"processor\" + 0.097*\"-\" + 0.049*\"\"\" + 0.032*\"read\" + 0.032*\"system\" + 0.030*\",\" + 0.030*\"parallel\" + 0.023*\"author\" + 0.023*\"process\" + 0.019*\"electron\"\n",
      "2022-02-28 18:57:56,590 : INFO : topic #1 (0.014): 0.220*\"languag\" + 0.076*\"structur\" + 0.054*\"program\" + 0.053*\"data\" + 0.052*\",\" + 0.031*\"-\" + 0.023*\"syntax\" + 0.022*\"design\" + 0.020*\"semant\" + 0.020*\"type\"\n",
      "2022-02-28 18:57:56,590 : INFO : topic #24 (0.014): 0.227*\"(\" + 0.171*\")\" + 0.102*\"1\" + 0.080*\"set\" + 0.072*\"2\" + 0.047*\"3\" + 0.033*\"bound\" + 0.033*\"partit\" + 0.023*\"-\" + 0.019*\"spline\"\n",
      "2022-02-28 18:57:56,590 : INFO : topic #76 (0.021): 0.354*\"(\" + 0.349*\")\" + 0.238*\"algorithm\" + 0.011*\"-\" + 0.011*\"polynomi\" + 0.006*\"root\" + 0.004*\"normal\" + 0.003*\"squar\" + 0.003*\"probabl\" + 0.003*\"coeffici\"\n",
      "2022-02-28 18:57:56,590 : INFO : topic diff=0.600064, rho=0.340958\n",
      "2022-02-28 18:57:56,598 : INFO : PROGRESS: pass 7, at document #2000/3204\n",
      "2022-02-28 18:57:57,363 : INFO : optimized alpha [0.011540828, 0.013901423, 0.010418694, 0.010568042, 0.011795948, 0.01167561, 0.010052572, 0.010810824, 0.010600125, 0.011204431, 0.011105163, 0.010418007, 0.0116757825, 0.009995927, 0.012241191, 0.011234594, 0.011308837, 0.011821489, 0.0106830485, 0.010620356, 0.012804315, 0.009788994, 0.010932993, 0.009992908, 0.014175772, 0.011546511, 0.010256229, 0.011076199, 0.011670509, 0.010013659, 0.012065504, 0.009960763, 0.010885071, 0.011443611, 0.011900396, 0.011396046, 0.01144197, 0.010255066, 0.011473958, 0.01164125, 0.010550034, 0.01076614, 0.011291674, 0.010687007, 0.010723378, 0.010986717, 0.011489575, 0.0103349835, 0.011320881, 0.011235187, 0.010376756, 0.012764845, 0.010147683, 0.010054263, 0.011539968, 0.011469397, 0.012726016, 0.01150897, 0.010928973, 0.011083137, 0.011902389, 0.01177872, 0.010998339, 0.0117224585, 0.010176127, 0.011171829, 0.013353153, 0.011224582, 0.010420381, 0.011233438, 0.011984601, 0.010564327, 0.011092612, 0.011174199, 0.01161221, 0.011779989, 0.022627521, 0.0119491, 0.010678616, 0.010092241, 0.010382639, 0.010359598, 0.011410164, 0.010039506, 0.010930477, 0.011450161, 0.011184062, 0.01048228, 0.011017883, 0.011799239, 0.010492314, 0.010002583, 0.010661041, 0.01087985, 0.011889399, 0.00995455, 0.011027489, 0.010516238, 0.010393904, 0.013638727]\n",
      "2022-02-28 18:57:57,370 : INFO : merging changes from 2000 documents into a model of 3204 documents\n",
      "2022-02-28 18:57:57,379 : INFO : topic #21 (0.010): 0.088*\"choic\" + 0.079*\"transit\" + 0.049*\"routin\" + 0.047*\"recogn\" + 0.043*\"telephon\" + 0.030*\"process\" + 0.029*\"sign\" + 0.028*\"restrict\" + 0.024*\"comput\" + 0.024*\"face\"\n",
      "2022-02-28 18:57:57,379 : INFO : topic #31 (0.010): 0.207*\"processor\" + 0.093*\"-\" + 0.046*\"\"\" + 0.035*\"system\" + 0.033*\"read\" + 0.031*\",\" + 0.028*\"parallel\" + 0.025*\"author\" + 0.023*\"process\" + 0.020*\"electron\"\n",
      "2022-02-28 18:57:57,380 : INFO : topic #1 (0.014): 0.232*\"languag\" + 0.071*\"structur\" + 0.055*\"program\" + 0.052*\",\" + 0.048*\"data\" + 0.033*\"-\" + 0.024*\"syntax\" + 0.020*\"design\" + 0.018*\"base\" + 0.018*\"type\"\n"
     ]
    },
    {
     "name": "stderr",
     "output_type": "stream",
     "text": [
      "2022-02-28 18:57:57,381 : INFO : topic #24 (0.014): 0.229*\"(\" + 0.173*\")\" + 0.106*\"1\" + 0.077*\"set\" + 0.075*\"2\" + 0.047*\"3\" + 0.033*\"partit\" + 0.030*\"bound\" + 0.023*\"-\" + 0.018*\"),\"\n",
      "2022-02-28 18:57:57,381 : INFO : topic #76 (0.023): 0.357*\"(\" + 0.354*\")\" + 0.235*\"algorithm\" + 0.011*\"polynomi\" + 0.011*\"-\" + 0.005*\"root\" + 0.004*\"coeffici\" + 0.003*\"normal\" + 0.003*\"squar\" + 0.003*\"probabl\"\n",
      "2022-02-28 18:57:57,382 : INFO : topic diff=0.523253, rho=0.322715\n",
      "2022-02-28 18:57:58,192 : INFO : -6.547 per-word bound, 93.5 perplexity estimate based on a held-out corpus of 1204 documents with 49783 words\n",
      "2022-02-28 18:57:58,193 : INFO : PROGRESS: pass 7, at document #3204/3204\n",
      "2022-02-28 18:57:58,863 : INFO : optimized alpha [0.011783056, 0.014294182, 0.010538339, 0.010721687, 0.0120175965, 0.011899844, 0.010150221, 0.0109340325, 0.010766886, 0.01130381, 0.011277773, 0.010554739, 0.011912733, 0.010099983, 0.012531761, 0.011373263, 0.011506361, 0.012049759, 0.0107138455, 0.010746097, 0.013003044, 0.009848959, 0.011094567, 0.010068581, 0.014551962, 0.011727077, 0.010370782, 0.011248298, 0.011869142, 0.010142964, 0.012246922, 0.010001719, 0.01101353, 0.0115867425, 0.01207961, 0.011663941, 0.0115596885, 0.010330356, 0.011665254, 0.0118226735, 0.010677115, 0.010963294, 0.011466658, 0.010811323, 0.010780453, 0.011109578, 0.011635116, 0.010394234, 0.011497701, 0.011297208, 0.010515696, 0.012741132, 0.010218333, 0.010129972, 0.0116813425, 0.011664979, 0.01307264, 0.011696765, 0.011094303, 0.011222568, 0.0120246215, 0.011920231, 0.011141827, 0.011944753, 0.010297273, 0.011257831, 0.013752272, 0.011438082, 0.010529058, 0.011358751, 0.012135147, 0.010697848, 0.011287527, 0.011364521, 0.01178498, 0.0119819725, 0.024055714, 0.012251293, 0.010849155, 0.010171432, 0.010455147, 0.010478428, 0.011588314, 0.010131794, 0.011122626, 0.011675699, 0.01133546, 0.010651278, 0.011178129, 0.012010587, 0.010560117, 0.010047291, 0.010788227, 0.010998953, 0.01213349, 0.0100382855, 0.011202295, 0.010618448, 0.010445056, 0.014207083]\n",
      "2022-02-28 18:57:58,868 : INFO : merging changes from 1204 documents into a model of 3204 documents\n",
      "2022-02-28 18:57:58,878 : INFO : topic #21 (0.010): 0.102*\"choic\" + 0.089*\"transit\" + 0.051*\"recogn\" + 0.049*\"routin\" + 0.039*\"restrict\" + 0.037*\"telephon\" + 0.033*\"process\" + 0.031*\"face\" + 0.025*\"critic\" + 0.023*\"comput\"\n",
      "2022-02-28 18:57:58,878 : INFO : topic #31 (0.010): 0.215*\"processor\" + 0.097*\"-\" + 0.053*\"\"\" + 0.035*\"parallel\" + 0.033*\"read\" + 0.032*\"system\" + 0.030*\",\" + 0.024*\"author\" + 0.024*\"process\" + 0.021*\"electron\"\n",
      "2022-02-28 18:57:58,879 : INFO : topic #1 (0.014): 0.225*\"languag\" + 0.080*\"structur\" + 0.057*\"program\" + 0.053*\",\" + 0.052*\"data\" + 0.030*\"-\" + 0.023*\"syntax\" + 0.022*\"design\" + 0.020*\"semant\" + 0.019*\"type\"\n",
      "2022-02-28 18:57:58,880 : INFO : topic #24 (0.015): 0.232*\"(\" + 0.173*\")\" + 0.106*\"1\" + 0.074*\"set\" + 0.073*\"2\" + 0.049*\"3\" + 0.034*\"partit\" + 0.033*\"bound\" + 0.023*\"-\" + 0.019*\"),\"\n",
      "2022-02-28 18:57:58,880 : INFO : topic #76 (0.024): 0.361*\"(\" + 0.354*\")\" + 0.233*\"algorithm\" + 0.011*\"-\" + 0.010*\"polynomi\" + 0.005*\"root\" + 0.003*\"normal\" + 0.003*\"probabl\" + 0.003*\"integ\" + 0.003*\"coeffici\"\n",
      "2022-02-28 18:57:58,881 : INFO : topic diff=0.523145, rho=0.322715\n",
      "2022-02-28 18:57:58,888 : INFO : PROGRESS: pass 8, at document #2000/3204\n",
      "2022-02-28 18:57:59,622 : INFO : optimized alpha [0.01180474, 0.014575421, 0.010545379, 0.010721472, 0.012016181, 0.011998919, 0.010176183, 0.01093475, 0.010786037, 0.011421931, 0.011334041, 0.010548743, 0.011995027, 0.010048081, 0.012562509, 0.011527431, 0.0115734665, 0.012144374, 0.010827867, 0.01077339, 0.013247439, 0.009873145, 0.011168199, 0.010065059, 0.014738546, 0.011898066, 0.010371283, 0.011263653, 0.011873207, 0.010132484, 0.012418808, 0.010027032, 0.011046481, 0.011609215, 0.012156636, 0.011676748, 0.011697215, 0.010340304, 0.011716912, 0.011907876, 0.010677663, 0.011056043, 0.011475852, 0.010887808, 0.01086141, 0.011157123, 0.011816142, 0.010519513, 0.011647839, 0.01148764, 0.010509023, 0.013144231, 0.0101872, 0.010154308, 0.011711185, 0.011728294, 0.013113815, 0.011766975, 0.011140195, 0.011237069, 0.012229608, 0.012068503, 0.011227414, 0.012075419, 0.010302572, 0.011440076, 0.013764475, 0.011572421, 0.010534575, 0.011415606, 0.012400101, 0.010673446, 0.011317996, 0.011352039, 0.011823137, 0.011994368, 0.025697025, 0.012242723, 0.010808108, 0.010127701, 0.010432308, 0.010457772, 0.011793767, 0.010120024, 0.011117002, 0.011700343, 0.011372341, 0.0106640365, 0.011203612, 0.012128002, 0.010617764, 0.010016428, 0.0108181555, 0.010946246, 0.012115317, 0.010014747, 0.011162822, 0.01061653, 0.010488186, 0.014558221]\n",
      "2022-02-28 18:57:59,627 : INFO : merging changes from 2000 documents into a model of 3204 documents\n",
      "2022-02-28 18:57:59,636 : INFO : topic #21 (0.010): 0.089*\"choic\" + 0.080*\"transit\" + 0.064*\"routin\" + 0.047*\"recogn\" + 0.043*\"telephon\" + 0.033*\"process\" + 0.031*\"restrict\" + 0.028*\"sign\" + 0.026*\"critic\" + 0.024*\"number\"\n",
      "2022-02-28 18:57:59,637 : INFO : topic #91 (0.010): 0.085*\",\" + 0.057*\"-\" + 0.028*\";\" + 0.026*\"structur\" + 0.026*\"comput\" + 0.026*\"set\" + 0.021*\"theoret\" + 0.017*\"problem\" + 0.017*\"result\" + 0.016*\"increment\"\n",
      "2022-02-28 18:57:59,637 : INFO : topic #99 (0.015): 0.765*\"method\" + 0.194*\"'\" + 0.020*\"gauss\" + 0.006*\"algorithm\" + 0.002*\"(\" + 0.000*\")\" + 0.000*\"stage\" + 0.000*\"situat\" + 0.000*\"industri\" + 0.000*\"adapt\"\n",
      "2022-02-28 18:57:59,638 : INFO : topic #24 (0.015): 0.234*\"(\" + 0.175*\")\" + 0.109*\"1\" + 0.077*\"2\" + 0.072*\"set\" + 0.049*\"3\" + 0.035*\"partit\" + 0.030*\"bound\" + 0.023*\"-\" + 0.019*\"),\"\n",
      "2022-02-28 18:57:59,638 : INFO : topic #76 (0.026): 0.362*\"(\" + 0.357*\")\" + 0.231*\"algorithm\" + 0.011*\"-\" + 0.011*\"polynomi\" + 0.004*\"root\" + 0.003*\"coeffici\" + 0.003*\"integ\" + 0.003*\"normal\" + 0.003*\"probabl\"\n",
      "2022-02-28 18:57:59,639 : INFO : topic diff=0.452012, rho=0.307119\n",
      "2022-02-28 18:58:00,437 : INFO : -6.527 per-word bound, 92.2 perplexity estimate based on a held-out corpus of 1204 documents with 49783 words\n",
      "2022-02-28 18:58:00,438 : INFO : PROGRESS: pass 8, at document #3204/3204\n",
      "2022-02-28 18:58:01,103 : INFO : optimized alpha [0.01204181, 0.014974407, 0.010660284, 0.010888709, 0.012220372, 0.012231069, 0.010280482, 0.0110502085, 0.010938444, 0.011528475, 0.011494332, 0.010680259, 0.012230399, 0.0101533085, 0.012853178, 0.011669277, 0.011779075, 0.01238052, 0.010857048, 0.010902504, 0.013441972, 0.009933363, 0.011326476, 0.010145594, 0.015084964, 0.012068952, 0.010483951, 0.011429198, 0.0120641645, 0.0102516115, 0.012602826, 0.01006651, 0.011189944, 0.011755727, 0.012347592, 0.011932845, 0.011812943, 0.01042064, 0.011907168, 0.012079543, 0.010794278, 0.01127784, 0.0116589125, 0.011012849, 0.010915842, 0.011280757, 0.01197405, 0.01058131, 0.011821227, 0.011543146, 0.010658875, 0.013117107, 0.01025277, 0.010229693, 0.011853016, 0.011925783, 0.013439814, 0.011956865, 0.0113166245, 0.011368099, 0.012355835, 0.012204162, 0.011362384, 0.012293332, 0.010421557, 0.011530604, 0.014148286, 0.011781924, 0.010630857, 0.011535879, 0.012556812, 0.010799036, 0.011508569, 0.0115498705, 0.011983295, 0.012185727, 0.027256468, 0.012535029, 0.010986252, 0.010209133, 0.010507376, 0.010563762, 0.011968692, 0.010211354, 0.011304843, 0.011911855, 0.011523693, 0.010821274, 0.0113633955, 0.012338528, 0.010690987, 0.010072927, 0.010943109, 0.011077826, 0.012341033, 0.0100927185, 0.011325011, 0.010714625, 0.010537335, 0.015145584]\n",
      "2022-02-28 18:58:01,110 : INFO : merging changes from 1204 documents into a model of 3204 documents\n",
      "2022-02-28 18:58:01,118 : INFO : topic #21 (0.010): 0.102*\"choic\" + 0.089*\"transit\" + 0.062*\"routin\" + 0.050*\"recogn\" + 0.041*\"restrict\" + 0.037*\"telephon\" + 0.035*\"process\" + 0.030*\"face\" + 0.027*\"critic\" + 0.025*\"number\"\n",
      "2022-02-28 18:58:01,119 : INFO : topic #31 (0.010): 0.219*\"processor\" + 0.095*\"-\" + 0.057*\"\"\" + 0.041*\"parallel\" + 0.034*\"read\" + 0.031*\"system\" + 0.030*\",\" + 0.025*\"author\" + 0.025*\"process\" + 0.022*\"electron\"\n",
      "2022-02-28 18:58:01,120 : INFO : topic #24 (0.015): 0.238*\"(\" + 0.176*\")\" + 0.109*\"1\" + 0.076*\"2\" + 0.066*\"set\" + 0.051*\"3\" + 0.035*\"partit\" + 0.033*\"bound\" + 0.024*\"-\" + 0.020*\"),\"\n",
      "2022-02-28 18:58:01,120 : INFO : topic #99 (0.015): 0.773*\"method\" + 0.191*\"'\" + 0.018*\"gauss\" + 0.006*\"algorithm\" + 0.001*\"(\" + 0.000*\")\" + 0.000*\"stage\" + 0.000*\"situat\" + 0.000*\"industri\" + 0.000*\"adapt\"\n"
     ]
    },
    {
     "name": "stderr",
     "output_type": "stream",
     "text": [
      "2022-02-28 18:58:01,121 : INFO : topic #76 (0.027): 0.365*\"(\" + 0.357*\")\" + 0.230*\"algorithm\" + 0.011*\"-\" + 0.010*\"polynomi\" + 0.004*\"root\" + 0.003*\"integ\" + 0.003*\"program\" + 0.003*\"normal\" + 0.003*\"probabl\"\n",
      "2022-02-28 18:58:01,122 : INFO : topic diff=0.451436, rho=0.307119\n",
      "2022-02-28 18:58:01,129 : INFO : PROGRESS: pass 9, at document #2000/3204\n",
      "2022-02-28 18:58:01,849 : INFO : optimized alpha [0.012056323, 0.015263451, 0.010671849, 0.010902705, 0.012223795, 0.01233022, 0.010311583, 0.011052601, 0.010974577, 0.011641109, 0.0115500605, 0.010676028, 0.012322198, 0.010103962, 0.01288339, 0.01182406, 0.011843462, 0.012489719, 0.010967259, 0.010941578, 0.013686315, 0.009970004, 0.011400712, 0.010141041, 0.015252107, 0.012236869, 0.010484502, 0.011443666, 0.012067442, 0.010241545, 0.012773517, 0.010097201, 0.011234783, 0.011782451, 0.012425148, 0.011958138, 0.011954785, 0.010433529, 0.011963525, 0.012159786, 0.010798044, 0.011372403, 0.011672384, 0.011091529, 0.010995598, 0.011323197, 0.012155594, 0.010708843, 0.011973885, 0.011731448, 0.010658595, 0.0135058435, 0.010225098, 0.010257828, 0.011879781, 0.011986423, 0.013479778, 0.01202421, 0.011362143, 0.011383679, 0.012557144, 0.0123495655, 0.011443327, 0.012432268, 0.010426624, 0.0117093995, 0.014165704, 0.011917455, 0.010637889, 0.011590653, 0.012832525, 0.010780422, 0.011544189, 0.0115440795, 0.012028542, 0.012195314, 0.029022964, 0.012523238, 0.010952876, 0.010172293, 0.010489072, 0.010544188, 0.012187018, 0.01020635, 0.011297274, 0.01193669, 0.011560719, 0.010849237, 0.011385941, 0.01246142, 0.010754598, 0.010047089, 0.010968651, 0.011029167, 0.012322636, 0.010069116, 0.011281912, 0.010713015, 0.010585337, 0.015520452]\n",
      "2022-02-28 18:58:01,854 : INFO : merging changes from 2000 documents into a model of 3204 documents\n",
      "2022-02-28 18:58:01,863 : INFO : topic #91 (0.010): 0.085*\",\" + 0.059*\"-\" + 0.031*\"structur\" + 0.028*\";\" + 0.027*\"set\" + 0.026*\"comput\" + 0.022*\"theoret\" + 0.017*\"defin\" + 0.016*\"result\" + 0.016*\"increment\"\n",
      "2022-02-28 18:58:01,864 : INFO : topic #21 (0.010): 0.091*\"choic\" + 0.079*\"transit\" + 0.076*\"routin\" + 0.046*\"recogn\" + 0.042*\"telephon\" + 0.034*\"process\" + 0.034*\"restrict\" + 0.030*\"critic\" + 0.027*\"sign\" + 0.026*\"number\"\n",
      "2022-02-28 18:58:01,865 : INFO : topic #24 (0.015): 0.239*\"(\" + 0.177*\")\" + 0.112*\"1\" + 0.079*\"2\" + 0.063*\"set\" + 0.051*\"3\" + 0.036*\"partit\" + 0.031*\"bound\" + 0.024*\"-\" + 0.020*\"),\"\n",
      "2022-02-28 18:58:01,865 : INFO : topic #99 (0.016): 0.780*\"method\" + 0.182*\"'\" + 0.019*\"gauss\" + 0.005*\"algorithm\" + 0.001*\"(\" + 0.000*\")\" + 0.000*\"stage\" + 0.000*\"situat\" + 0.000*\"industri\" + 0.000*\"adapt\"\n",
      "2022-02-28 18:58:01,866 : INFO : topic #76 (0.029): 0.365*\"(\" + 0.359*\")\" + 0.230*\"algorithm\" + 0.011*\"-\" + 0.010*\"polynomi\" + 0.004*\"root\" + 0.003*\"coeffici\" + 0.003*\"integ\" + 0.003*\"normal\" + 0.002*\"program\"\n",
      "2022-02-28 18:58:01,867 : INFO : topic diff=0.388599, rho=0.293585\n",
      "2022-02-28 18:58:02,646 : INFO : -6.512 per-word bound, 91.2 perplexity estimate based on a held-out corpus of 1204 documents with 49783 words\n",
      "2022-02-28 18:58:02,647 : INFO : PROGRESS: pass 9, at document #3204/3204\n",
      "2022-02-28 18:58:03,292 : INFO : optimized alpha [0.012309821, 0.015662383, 0.010782761, 0.011075216, 0.012409039, 0.012567818, 0.010417282, 0.011150273, 0.011143405, 0.01174925, 0.01171062, 0.010803005, 0.012553879, 0.010220412, 0.013171942, 0.01196376, 0.012057343, 0.012731247, 0.010997715, 0.011066221, 0.013867271, 0.010032956, 0.011564877, 0.010223701, 0.01557054, 0.012414028, 0.010600901, 0.011617753, 0.012251892, 0.010356477, 0.012951448, 0.010137969, 0.011384533, 0.011926733, 0.0126097705, 0.012212653, 0.012071981, 0.010508533, 0.012150654, 0.012334584, 0.0109131485, 0.011593899, 0.011852064, 0.0112228915, 0.011050499, 0.011453462, 0.012308196, 0.0107653765, 0.012153297, 0.011783949, 0.010811322, 0.013469173, 0.010293631, 0.010340578, 0.012004894, 0.012180543, 0.013803361, 0.012213801, 0.011535644, 0.011510145, 0.012684456, 0.012483049, 0.011565154, 0.012646569, 0.0105414605, 0.011796015, 0.014539394, 0.012135243, 0.010722868, 0.011703696, 0.0130238375, 0.010904212, 0.011742721, 0.011738226, 0.012191992, 0.012386194, 0.030653503, 0.012810106, 0.011138521, 0.010253459, 0.010566827, 0.010648932, 0.012362411, 0.010302015, 0.011481722, 0.012147285, 0.011712511, 0.011019982, 0.011531794, 0.012678194, 0.010835761, 0.010096918, 0.011094568, 0.011161653, 0.012537817, 0.0101518035, 0.011435646, 0.01081556, 0.010635318, 0.01609875]\n",
      "2022-02-28 18:58:03,298 : INFO : merging changes from 1204 documents into a model of 3204 documents\n",
      "2022-02-28 18:58:03,307 : INFO : topic #21 (0.010): 0.103*\"choic\" + 0.088*\"transit\" + 0.073*\"routin\" + 0.050*\"recogn\" + 0.043*\"restrict\" + 0.037*\"process\" + 0.037*\"telephon\" + 0.032*\"critic\" + 0.030*\"face\" + 0.027*\"number\"\n",
      "2022-02-28 18:58:03,308 : INFO : topic #91 (0.010): 0.084*\",\" + 0.061*\"-\" + 0.038*\"structur\" + 0.028*\";\" + 0.028*\"set\" + 0.025*\"theoret\" + 0.024*\"comput\" + 0.018*\"increment\" + 0.016*\"relationship\" + 0.016*\"result\"\n",
      "2022-02-28 18:58:03,309 : INFO : topic #1 (0.016): 0.236*\"languag\" + 0.082*\"structur\" + 0.060*\"program\" + 0.055*\",\" + 0.051*\"data\" + 0.029*\"-\" + 0.024*\"syntax\" + 0.023*\"design\" + 0.021*\"semant\" + 0.018*\"base\"\n",
      "2022-02-28 18:58:03,309 : INFO : topic #99 (0.016): 0.786*\"method\" + 0.179*\"'\" + 0.017*\"gauss\" + 0.005*\"algorithm\" + 0.001*\"(\" + 0.000*\")\" + 0.000*\"stage\" + 0.000*\"situat\" + 0.000*\"industri\" + 0.000*\"adapt\"\n",
      "2022-02-28 18:58:03,309 : INFO : topic #76 (0.031): 0.368*\"(\" + 0.358*\")\" + 0.228*\"algorithm\" + 0.011*\"-\" + 0.009*\"polynomi\" + 0.004*\"root\" + 0.003*\"program\" + 0.003*\"integ\" + 0.003*\"coeffici\" + 0.003*\"normal\"\n",
      "2022-02-28 18:58:03,311 : INFO : topic diff=0.390327, rho=0.293585\n",
      "2022-02-28 18:58:03,317 : INFO : PROGRESS: pass 10, at document #2000/3204\n",
      "2022-02-28 18:58:04,014 : INFO : optimized alpha [0.01233336, 0.015957728, 0.01079858, 0.011086778, 0.012418937, 0.012669061, 0.010447288, 0.011149602, 0.01119543, 0.011865212, 0.011762724, 0.010801929, 0.012646119, 0.010175997, 0.01320166, 0.012119614, 0.01212427, 0.012847849, 0.011104629, 0.011103957, 0.0141023565, 0.010071395, 0.011634973, 0.010221027, 0.01572795, 0.012579432, 0.01060444, 0.011634609, 0.012259762, 0.010352693, 0.0131159155, 0.010169439, 0.011434256, 0.011948913, 0.012693413, 0.012241288, 0.012211648, 0.010521221, 0.0122065665, 0.012413844, 0.0109168235, 0.011690385, 0.011866264, 0.011299022, 0.011132403, 0.011497572, 0.012487213, 0.010892338, 0.012310537, 0.01196569, 0.0108138975, 0.013854107, 0.010268993, 0.010376686, 0.012030808, 0.012238799, 0.013834596, 0.012285654, 0.011580915, 0.011528417, 0.012893499, 0.012624445, 0.011641936, 0.012788728, 0.010544826, 0.01197026, 0.014547673, 0.012272274, 0.010729869, 0.011753265, 0.013309509, 0.010884791, 0.011771633, 0.011742097, 0.012235482, 0.012401999, 0.032505687, 0.012799005, 0.011110632, 0.010215564, 0.010552608, 0.010631769, 0.012574646, 0.010301766, 0.0114787705, 0.012168919, 0.0117547335, 0.011060748, 0.0115533, 0.0128175, 0.010898955, 0.010072798, 0.011125412, 0.011118128, 0.01252278, 0.010133731, 0.01139721, 0.010817219, 0.010683509, 0.016487386]\n",
      "2022-02-28 18:58:04,020 : INFO : merging changes from 2000 documents into a model of 3204 documents\n",
      "2022-02-28 18:58:04,029 : INFO : topic #21 (0.010): 0.092*\"choic\" + 0.087*\"routin\" + 0.079*\"transit\" + 0.046*\"recogn\" + 0.041*\"telephon\" + 0.036*\"restrict\" + 0.035*\"process\" + 0.035*\"critic\" + 0.028*\"number\" + 0.027*\"sign\"\n",
      "2022-02-28 18:58:04,030 : INFO : topic #91 (0.010): 0.084*\",\" + 0.059*\"-\" + 0.035*\"structur\" + 0.029*\";\" + 0.028*\"set\" + 0.026*\"comput\" + 0.024*\"theoret\" + 0.018*\"defin\" + 0.016*\"increment\" + 0.016*\"result\"\n",
      "2022-02-28 18:58:04,030 : INFO : topic #1 (0.016): 0.247*\"languag\" + 0.077*\"structur\" + 0.061*\"program\" + 0.056*\",\" + 0.047*\"data\" + 0.032*\"-\" + 0.025*\"syntax\" + 0.021*\"design\" + 0.018*\"semant\" + 0.018*\"base\"\n",
      "2022-02-28 18:58:04,031 : INFO : topic #99 (0.016): 0.792*\"method\" + 0.172*\"'\" + 0.019*\"gauss\" + 0.004*\"algorithm\" + 0.001*\"(\" + 0.000*\")\" + 0.000*\"stage\" + 0.000*\"situat\" + 0.000*\"industri\" + 0.000*\"adapt\"\n",
      "2022-02-28 18:58:04,031 : INFO : topic #76 (0.033): 0.368*\"(\" + 0.360*\")\" + 0.228*\"algorithm\" + 0.011*\"-\" + 0.010*\"polynomi\" + 0.004*\"root\" + 0.003*\"coeffici\" + 0.003*\"integ\" + 0.003*\"program\" + 0.002*\"normal\"\n"
     ]
    },
    {
     "name": "stderr",
     "output_type": "stream",
     "text": [
      "2022-02-28 18:58:04,032 : INFO : topic diff=0.335515, rho=0.281696\n",
      "2022-02-28 18:58:04,813 : INFO : -6.497 per-word bound, 90.3 perplexity estimate based on a held-out corpus of 1204 documents with 49783 words\n",
      "2022-02-28 18:58:04,813 : INFO : PROGRESS: pass 10, at document #3204/3204\n",
      "2022-02-28 18:58:05,454 : INFO : optimized alpha [0.012589103, 0.016361332, 0.01092633, 0.011259606, 0.012595498, 0.012894635, 0.010557081, 0.011257294, 0.0113728205, 0.011977967, 0.0119129885, 0.010925, 0.012877834, 0.010288757, 0.013485985, 0.012254775, 0.012341034, 0.013089253, 0.0111338245, 0.011240393, 0.014290681, 0.010139388, 0.011802474, 0.01030593, 0.016049225, 0.012754324, 0.010729733, 0.011798164, 0.012438428, 0.010466443, 0.013285299, 0.010211435, 0.011584897, 0.012088732, 0.012878414, 0.012497857, 0.012333319, 0.0105938865, 0.012391069, 0.012577614, 0.011030855, 0.011912088, 0.012051814, 0.011423612, 0.0111904675, 0.011634614, 0.012646695, 0.010956861, 0.012484967, 0.012012703, 0.010959523, 0.013811662, 0.010342824, 0.010454356, 0.012157583, 0.012430189, 0.014153414, 0.012469788, 0.0117547335, 0.011642588, 0.013010019, 0.012759254, 0.011770879, 0.013003134, 0.0106609315, 0.012050629, 0.014912379, 0.012495969, 0.010809617, 0.011857037, 0.013513865, 0.011004683, 0.01196443, 0.011936118, 0.012396712, 0.012581269, 0.034220725, 0.013072261, 0.011301349, 0.010291853, 0.010627978, 0.010733102, 0.01274205, 0.010408983, 0.011657795, 0.012376347, 0.011910139, 0.011239733, 0.01170548, 0.013034737, 0.010982579, 0.010135684, 0.011252755, 0.011256951, 0.01274339, 0.010213913, 0.011554145, 0.010919029, 0.010734362, 0.017094456]\n",
      "2022-02-28 18:58:05,460 : INFO : merging changes from 1204 documents into a model of 3204 documents\n",
      "2022-02-28 18:58:05,469 : INFO : topic #21 (0.010): 0.103*\"choic\" + 0.087*\"transit\" + 0.082*\"routin\" + 0.049*\"recogn\" + 0.045*\"restrict\" + 0.037*\"process\" + 0.036*\"telephon\" + 0.036*\"critic\" + 0.029*\"face\" + 0.029*\"number\"\n",
      "2022-02-28 18:58:05,470 : INFO : topic #91 (0.010): 0.083*\",\" + 0.061*\"-\" + 0.042*\"structur\" + 0.030*\"set\" + 0.029*\";\" + 0.027*\"theoret\" + 0.025*\"comput\" + 0.018*\"increment\" + 0.017*\"relationship\" + 0.017*\"defin\"\n",
      "2022-02-28 18:58:05,470 : INFO : topic #1 (0.016): 0.242*\"languag\" + 0.083*\"structur\" + 0.062*\"program\" + 0.056*\",\" + 0.050*\"data\" + 0.029*\"-\" + 0.024*\"syntax\" + 0.023*\"design\" + 0.021*\"semant\" + 0.018*\"base\"\n",
      "2022-02-28 18:58:05,471 : INFO : topic #99 (0.017): 0.797*\"method\" + 0.171*\"'\" + 0.017*\"gauss\" + 0.004*\"algorithm\" + 0.000*\"(\" + 0.000*\")\" + 0.000*\"stage\" + 0.000*\"situat\" + 0.000*\"industri\" + 0.000*\"adapt\"\n",
      "2022-02-28 18:58:05,471 : INFO : topic #76 (0.034): 0.371*\"(\" + 0.360*\")\" + 0.226*\"algorithm\" + 0.011*\"-\" + 0.009*\"polynomi\" + 0.004*\"root\" + 0.003*\"program\" + 0.003*\"integ\" + 0.003*\"coeffici\" + 0.002*\"normal\"\n",
      "2022-02-28 18:58:05,472 : INFO : topic diff=0.340165, rho=0.281696\n",
      "2022-02-28 18:58:05,479 : INFO : PROGRESS: pass 11, at document #2000/3204\n",
      "2022-02-28 18:58:06,162 : INFO : optimized alpha [0.012616175, 0.016652301, 0.010943084, 0.011281288, 0.012606497, 0.012987629, 0.010594774, 0.011255128, 0.01143558, 0.012095796, 0.011966569, 0.010931454, 0.012981212, 0.01024606, 0.013511726, 0.012413679, 0.012417457, 0.013209709, 0.011239362, 0.011284557, 0.014525066, 0.0101795485, 0.011875147, 0.01030771, 0.01619978, 0.012917733, 0.010733105, 0.011810945, 0.012450697, 0.010465637, 0.0134513145, 0.010242241, 0.011634557, 0.012111817, 0.012961137, 0.012528095, 0.0124712335, 0.010607876, 0.012450225, 0.01265444, 0.011038938, 0.012010688, 0.01207162, 0.011505328, 0.011265537, 0.0116804065, 0.0128322095, 0.011085107, 0.012635301, 0.012191788, 0.010967795, 0.014188006, 0.010320882, 0.010485255, 0.012184263, 0.012487974, 0.014184057, 0.012542659, 0.011798348, 0.011666664, 0.0132111395, 0.012898771, 0.011848688, 0.013140038, 0.010667077, 0.012220844, 0.014918131, 0.012636452, 0.0108137475, 0.011905234, 0.013801192, 0.010987464, 0.011988646, 0.011937679, 0.01243357, 0.012594504, 0.03615935, 0.013060191, 0.011276836, 0.010254394, 0.010613126, 0.010716704, 0.0129574295, 0.0104116285, 0.01166085, 0.012401754, 0.011947607, 0.011294266, 0.011726146, 0.013169017, 0.011044073, 0.010115699, 0.011287176, 0.011218059, 0.012729878, 0.010202354, 0.011518397, 0.010920774, 0.010784216, 0.017497595]\n",
      "2022-02-28 18:58:06,168 : INFO : merging changes from 2000 documents into a model of 3204 documents\n",
      "2022-02-28 18:58:06,177 : INFO : topic #91 (0.010): 0.084*\",\" + 0.060*\"-\" + 0.038*\"structur\" + 0.030*\"set\" + 0.030*\";\" + 0.026*\"comput\" + 0.026*\"theoret\" + 0.019*\"defin\" + 0.017*\"increment\" + 0.016*\"relationship\"\n",
      "2022-02-28 18:58:06,178 : INFO : topic #21 (0.010): 0.096*\"routin\" + 0.093*\"choic\" + 0.079*\"transit\" + 0.046*\"recogn\" + 0.041*\"telephon\" + 0.040*\"critic\" + 0.038*\"restrict\" + 0.035*\"process\" + 0.029*\"number\" + 0.027*\"sign\"\n",
      "2022-02-28 18:58:06,179 : INFO : topic #1 (0.017): 0.252*\"languag\" + 0.078*\"structur\" + 0.062*\"program\" + 0.056*\",\" + 0.046*\"data\" + 0.031*\"-\" + 0.025*\"syntax\" + 0.022*\"design\" + 0.019*\"semant\" + 0.018*\"base\"\n",
      "2022-02-28 18:58:06,179 : INFO : topic #99 (0.017): 0.801*\"method\" + 0.164*\"'\" + 0.018*\"gauss\" + 0.004*\"algorithm\" + 0.000*\"(\" + 0.000*\")\" + 0.000*\"stage\" + 0.000*\"situat\" + 0.000*\"industri\" + 0.000*\"adapt\"\n",
      "2022-02-28 18:58:06,180 : INFO : topic #76 (0.036): 0.371*\"(\" + 0.361*\")\" + 0.227*\"algorithm\" + 0.011*\"-\" + 0.010*\"polynomi\" + 0.003*\"root\" + 0.003*\"coeffici\" + 0.003*\"integ\" + 0.003*\"program\" + 0.002*\"normal\"\n",
      "2022-02-28 18:58:06,180 : INFO : topic diff=0.292733, rho=0.271143\n",
      "2022-02-28 18:58:06,938 : INFO : -6.486 per-word bound, 89.6 perplexity estimate based on a held-out corpus of 1204 documents with 49783 words\n",
      "2022-02-28 18:58:06,938 : INFO : PROGRESS: pass 11, at document #3204/3204\n",
      "2022-02-28 18:58:07,559 : INFO : optimized alpha [0.012866164, 0.017053667, 0.011069733, 0.011457398, 0.012769511, 0.013210786, 0.010720674, 0.011357153, 0.011608589, 0.012210509, 0.012120733, 0.011058479, 0.01321934, 0.0103556095, 0.013789419, 0.012553161, 0.012637528, 0.013466935, 0.011267436, 0.011422348, 0.014707856, 0.010259379, 0.012035627, 0.010399535, 0.016509913, 0.01309075, 0.010869421, 0.011975464, 0.012618697, 0.010578485, 0.013622035, 0.010283172, 0.011778451, 0.012253177, 0.013144106, 0.012784539, 0.012589173, 0.010678491, 0.012635488, 0.012828053, 0.011152169, 0.012238582, 0.012260479, 0.011626328, 0.01132679, 0.011818831, 0.012990221, 0.01115486, 0.012813689, 0.012233704, 0.011114455, 0.014143289, 0.010395056, 0.01056537, 0.012312709, 0.012680018, 0.0144990245, 0.012730412, 0.011980906, 0.011780109, 0.01332362, 0.013032346, 0.011973892, 0.013361035, 0.010779827, 0.0122926645, 0.015284915, 0.012866565, 0.010883874, 0.012003079, 0.014018976, 0.011103886, 0.012181812, 0.012126611, 0.012604487, 0.012768788, 0.037912853, 0.013335783, 0.011475456, 0.010328617, 0.010681563, 0.010812689, 0.013132061, 0.010511119, 0.011835032, 0.012606591, 0.012098593, 0.011479108, 0.011871398, 0.013381426, 0.011125124, 0.010183885, 0.01141349, 0.011358104, 0.012941678, 0.0102871815, 0.01166297, 0.011024582, 0.010833522, 0.01812771]\n",
      "2022-02-28 18:58:07,565 : INFO : merging changes from 1204 documents into a model of 3204 documents\n",
      "2022-02-28 18:58:07,574 : INFO : topic #91 (0.010): 0.084*\",\" + 0.062*\"-\" + 0.046*\"structur\" + 0.031*\"set\" + 0.029*\";\" + 0.029*\"theoret\" + 0.024*\"comput\" + 0.019*\"increment\" + 0.017*\"relationship\" + 0.017*\"defin\"\n",
      "2022-02-28 18:58:07,575 : INFO : topic #21 (0.010): 0.102*\"choic\" + 0.094*\"routin\" + 0.086*\"transit\" + 0.048*\"recogn\" + 0.048*\"restrict\" + 0.041*\"critic\" + 0.038*\"process\" + 0.036*\"telephon\" + 0.030*\"number\" + 0.029*\"face\"\n",
      "2022-02-28 18:58:07,576 : INFO : topic #1 (0.017): 0.247*\"languag\" + 0.084*\"structur\" + 0.063*\"program\" + 0.057*\",\" + 0.049*\"data\" + 0.029*\"-\" + 0.025*\"syntax\" + 0.024*\"design\" + 0.022*\"semant\" + 0.018*\"base\"\n",
      "2022-02-28 18:58:07,576 : INFO : topic #99 (0.018): 0.805*\"method\" + 0.164*\"'\" + 0.017*\"gauss\" + 0.003*\"algorithm\" + 0.000*\"(\" + 0.000*\")\" + 0.000*\"stage\" + 0.000*\"situat\" + 0.000*\"industri\" + 0.000*\"adapt\"\n",
      "2022-02-28 18:58:07,576 : INFO : topic #76 (0.038): 0.373*\"(\" + 0.360*\")\" + 0.226*\"algorithm\" + 0.011*\"-\" + 0.009*\"polynomi\" + 0.003*\"program\" + 0.003*\"root\" + 0.003*\"integ\" + 0.002*\"coeffici\" + 0.002*\"normal\"\n"
     ]
    },
    {
     "name": "stderr",
     "output_type": "stream",
     "text": [
      "2022-02-28 18:58:07,577 : INFO : topic diff=0.299210, rho=0.271143\n",
      "2022-02-28 18:58:07,584 : INFO : PROGRESS: pass 12, at document #2000/3204\n",
      "2022-02-28 18:58:08,252 : INFO : optimized alpha [0.012891581, 0.017347524, 0.011088832, 0.011478144, 0.012778256, 0.013295889, 0.0107657425, 0.011358213, 0.011669664, 0.012328758, 0.012175916, 0.011060268, 0.0133234, 0.010315822, 0.0138186505, 0.012712138, 0.0127250925, 0.013591465, 0.011370422, 0.011463651, 0.014942049, 0.010301245, 0.012109459, 0.010402788, 0.016662749, 0.013250781, 0.010883959, 0.011989141, 0.012633619, 0.010580454, 0.013791761, 0.010318785, 0.011821991, 0.01227214, 0.013227846, 0.012819857, 0.012725644, 0.010689527, 0.012691069, 0.012904358, 0.011158574, 0.0123379445, 0.012277658, 0.011710571, 0.011399958, 0.011869451, 0.013184271, 0.011281741, 0.012965918, 0.0124121215, 0.011122238, 0.014511754, 0.01037695, 0.010596867, 0.0123403035, 0.012740821, 0.014531213, 0.012797728, 0.012026096, 0.011798909, 0.01352607, 0.013167003, 0.012052856, 0.013501708, 0.0107857855, 0.012459287, 0.015286265, 0.013007425, 0.010885354, 0.012050017, 0.014312189, 0.011090189, 0.01220963, 0.012129233, 0.012643314, 0.012777871, 0.03992959, 0.013324467, 0.011453908, 0.010292872, 0.010666203, 0.010799834, 0.01335272, 0.010516526, 0.011837593, 0.012634032, 0.012141191, 0.011536505, 0.011892819, 0.013534179, 0.0111880135, 0.010167687, 0.011449878, 0.011320393, 0.012933019, 0.010278905, 0.011626743, 0.011027852, 0.010885063, 0.018548574]\n",
      "2022-02-28 18:58:08,257 : INFO : merging changes from 2000 documents into a model of 3204 documents\n",
      "2022-02-28 18:58:08,266 : INFO : topic #91 (0.010): 0.085*\",\" + 0.060*\"-\" + 0.042*\"structur\" + 0.031*\"set\" + 0.030*\";\" + 0.027*\"theoret\" + 0.026*\"comput\" + 0.019*\"defin\" + 0.017*\"idea\" + 0.017*\"increment\"\n",
      "2022-02-28 18:58:08,267 : INFO : topic #95 (0.010): 0.263*\"key\" + 0.095*\"address\" + 0.067*\"primari\" + 0.041*\"forward\" + 0.036*\"separ\" + 0.032*\"indic\" + 0.032*\"secondari\" + 0.029*\"permit\" + 0.028*\"-\" + 0.025*\"requir\"\n",
      "2022-02-28 18:58:08,268 : INFO : topic #1 (0.017): 0.257*\"languag\" + 0.079*\"structur\" + 0.063*\"program\" + 0.057*\",\" + 0.046*\"data\" + 0.031*\"-\" + 0.026*\"syntax\" + 0.022*\"design\" + 0.019*\"semant\" + 0.019*\"base\"\n",
      "2022-02-28 18:58:08,268 : INFO : topic #99 (0.019): 0.809*\"method\" + 0.158*\"'\" + 0.018*\"gauss\" + 0.003*\"algorithm\" + 0.000*\"(\" + 0.000*\")\" + 0.000*\"stage\" + 0.000*\"situat\" + 0.000*\"industri\" + 0.000*\"adapt\"\n",
      "2022-02-28 18:58:08,269 : INFO : topic #76 (0.040): 0.372*\"(\" + 0.361*\")\" + 0.227*\"algorithm\" + 0.011*\"-\" + 0.009*\"polynomi\" + 0.003*\"root\" + 0.003*\"program\" + 0.003*\"coeffici\" + 0.003*\"integ\" + 0.002*\"normal\"\n",
      "2022-02-28 18:58:08,269 : INFO : topic diff=0.259025, rho=0.261694\n",
      "2022-02-28 18:58:09,010 : INFO : -6.475 per-word bound, 89.0 perplexity estimate based on a held-out corpus of 1204 documents with 49783 words\n",
      "2022-02-28 18:58:09,011 : INFO : PROGRESS: pass 12, at document #3204/3204\n",
      "2022-02-28 18:58:09,614 : INFO : optimized alpha [0.013136411, 0.017743181, 0.011212235, 0.011655292, 0.01293138, 0.01352001, 0.010888506, 0.011460052, 0.0118593285, 0.012448258, 0.012328854, 0.011186453, 0.013550734, 0.010422535, 0.0140964445, 0.012850603, 0.012960259, 0.013840983, 0.011397499, 0.01159797, 0.015129596, 0.010376677, 0.012268615, 0.010494463, 0.01696243, 0.013416545, 0.011019281, 0.01215215, 0.012788919, 0.010690334, 0.013958061, 0.010365488, 0.011964759, 0.012409883, 0.013412078, 0.013073789, 0.0128483595, 0.010758301, 0.012871938, 0.013073738, 0.0112688355, 0.012558821, 0.012467401, 0.011820583, 0.011459388, 0.0120121, 0.0133325495, 0.011351714, 0.013142848, 0.012452001, 0.011270104, 0.014464962, 0.010449194, 0.010679432, 0.012479129, 0.012931004, 0.014852535, 0.012981039, 0.012212432, 0.011906671, 0.013626018, 0.013296813, 0.012182777, 0.013732478, 0.010895566, 0.012531223, 0.015645852, 0.01323026, 0.010953754, 0.0121400645, 0.014549924, 0.01119869, 0.012403598, 0.01232973, 0.012804252, 0.012953225, 0.041733358, 0.013588335, 0.011668067, 0.010374264, 0.010746944, 0.010895648, 0.013523121, 0.010624864, 0.012012802, 0.012836864, 0.012282991, 0.011722302, 0.012036844, 0.01373612, 0.011264318, 0.010231968, 0.011572913, 0.011469332, 0.013133981, 0.010366045, 0.0117700435, 0.011128904, 0.010930644, 0.019187134]\n",
      "2022-02-28 18:58:09,620 : INFO : merging changes from 1204 documents into a model of 3204 documents\n",
      "2022-02-28 18:58:09,629 : INFO : topic #91 (0.010): 0.084*\",\" + 0.063*\"-\" + 0.049*\"structur\" + 0.031*\"set\" + 0.030*\"theoret\" + 0.029*\";\" + 0.024*\"comput\" + 0.019*\"increment\" + 0.018*\"idea\" + 0.018*\"relationship\"\n",
      "2022-02-28 18:58:09,629 : INFO : topic #95 (0.010): 0.275*\"key\" + 0.112*\"address\" + 0.071*\"primari\" + 0.041*\"forward\" + 0.035*\"separ\" + 0.032*\"indic\" + 0.029*\"secondari\" + 0.028*\"-\" + 0.027*\"permit\" + 0.025*\"requir\"\n",
      "2022-02-28 18:58:09,630 : INFO : topic #1 (0.018): 0.251*\"languag\" + 0.084*\"structur\" + 0.064*\"program\" + 0.057*\",\" + 0.048*\"data\" + 0.029*\"-\" + 0.025*\"syntax\" + 0.024*\"design\" + 0.022*\"semant\" + 0.019*\"base\"\n",
      "2022-02-28 18:58:09,631 : INFO : topic #99 (0.019): 0.811*\"method\" + 0.159*\"'\" + 0.016*\"gauss\" + 0.003*\"algorithm\" + 0.000*\"(\" + 0.000*\")\" + 0.000*\"stage\" + 0.000*\"situat\" + 0.000*\"industri\" + 0.000*\"adapt\"\n",
      "2022-02-28 18:58:09,631 : INFO : topic #76 (0.042): 0.374*\"(\" + 0.360*\")\" + 0.226*\"algorithm\" + 0.011*\"-\" + 0.009*\"polynomi\" + 0.003*\"program\" + 0.003*\"root\" + 0.003*\"integ\" + 0.002*\"coeffici\" + 0.001*\"normal\"\n",
      "2022-02-28 18:58:09,632 : INFO : topic diff=0.266211, rho=0.261694\n",
      "2022-02-28 18:58:09,639 : INFO : PROGRESS: pass 13, at document #2000/3204\n",
      "2022-02-28 18:58:10,295 : INFO : optimized alpha [0.013165371, 0.01803092, 0.011236526, 0.0116810845, 0.0129364, 0.013607911, 0.0109351715, 0.0114612505, 0.01193239, 0.012567105, 0.012384045, 0.0111939255, 0.013667593, 0.010384095, 0.014120191, 0.013008305, 0.013047246, 0.0139715765, 0.0114981895, 0.011639586, 0.015357999, 0.0104228435, 0.012340517, 0.010499088, 0.017107025, 0.013575181, 0.011031895, 0.012166771, 0.012801601, 0.010690903, 0.014121008, 0.010397738, 0.012014791, 0.012434593, 0.01349529, 0.013107374, 0.012983638, 0.010772016, 0.012932395, 0.013154802, 0.011276507, 0.0126574505, 0.012486844, 0.01190288, 0.011527945, 0.012068901, 0.013521818, 0.011477454, 0.013292243, 0.012628462, 0.011284699, 0.014822551, 0.01043062, 0.010710226, 0.012496207, 0.012994886, 0.014882379, 0.0130480975, 0.01226078, 0.011926501, 0.013824883, 0.0134286, 0.012266063, 0.013868478, 0.010902749, 0.01269618, 0.015648942, 0.013373414, 0.010951326, 0.012185929, 0.01484783, 0.011181194, 0.012433302, 0.012331662, 0.012843436, 0.012965061, 0.043793518, 0.013576122, 0.011659746, 0.010339966, 0.010735073, 0.010881948, 0.0137442015, 0.010630147, 0.012014842, 0.012859766, 0.012325939, 0.01179, 0.012062099, 0.013886055, 0.0113272425, 0.010217931, 0.011615603, 0.011439885, 0.013128283, 0.010356873, 0.011733235, 0.011133573, 0.010978301, 0.019611944]\n",
      "2022-02-28 18:58:10,301 : INFO : merging changes from 2000 documents into a model of 3204 documents\n",
      "2022-02-28 18:58:10,310 : INFO : topic #91 (0.010): 0.085*\",\" + 0.062*\"-\" + 0.044*\"structur\" + 0.031*\"set\" + 0.029*\";\" + 0.028*\"theoret\" + 0.025*\"comput\" + 0.019*\"defin\" + 0.019*\"idea\" + 0.017*\"increment\"\n",
      "2022-02-28 18:58:10,310 : INFO : topic #31 (0.010): 0.216*\"processor\" + 0.087*\"-\" + 0.065*\"parallel\" + 0.057*\"\"\" + 0.037*\"read\" + 0.033*\"system\" + 0.030*\"process\" + 0.029*\",\" + 0.026*\"author\" + 0.024*\"electron\"\n",
      "2022-02-28 18:58:10,311 : INFO : topic #1 (0.018): 0.261*\"languag\" + 0.079*\"structur\" + 0.064*\"program\" + 0.058*\",\" + 0.045*\"data\" + 0.031*\"-\" + 0.026*\"syntax\" + 0.022*\"design\" + 0.019*\"semant\" + 0.019*\"base\"\n",
      "2022-02-28 18:58:10,312 : INFO : topic #99 (0.020): 0.815*\"method\" + 0.153*\"'\" + 0.018*\"gauss\" + 0.002*\"algorithm\" + 0.000*\"(\" + 0.000*\")\" + 0.000*\"stage\" + 0.000*\"situat\" + 0.000*\"industri\" + 0.000*\"adapt\"\n",
      "2022-02-28 18:58:10,312 : INFO : topic #76 (0.044): 0.373*\"(\" + 0.361*\")\" + 0.228*\"algorithm\" + 0.011*\"-\" + 0.009*\"polynomi\" + 0.003*\"root\" + 0.003*\"program\" + 0.003*\"coeffici\" + 0.002*\"integ\" + 0.001*\"normal\"\n",
      "2022-02-28 18:58:10,313 : INFO : topic diff=0.232609, rho=0.253169\n",
      "2022-02-28 18:58:11,033 : INFO : -6.466 per-word bound, 88.4 perplexity estimate based on a held-out corpus of 1204 documents with 49783 words\n"
     ]
    },
    {
     "name": "stderr",
     "output_type": "stream",
     "text": [
      "2022-02-28 18:58:11,033 : INFO : PROGRESS: pass 13, at document #3204/3204\n",
      "2022-02-28 18:58:11,621 : INFO : optimized alpha [0.013397168, 0.018432397, 0.011359439, 0.011857034, 0.0130830575, 0.013824729, 0.011064327, 0.011563054, 0.012128613, 0.012688812, 0.012530803, 0.0113171665, 0.013896511, 0.010485945, 0.014392678, 0.013146159, 0.013284008, 0.014237598, 0.011526793, 0.011770802, 0.015550647, 0.010507326, 0.012498733, 0.010599674, 0.017403975, 0.013737016, 0.01115944, 0.012323499, 0.012953062, 0.010793651, 0.014283266, 0.010445544, 0.012156819, 0.012571644, 0.013686607, 0.013356618, 0.0131113725, 0.010834573, 0.01310932, 0.013323279, 0.011384088, 0.01288525, 0.012683174, 0.01201266, 0.011590544, 0.012210838, 0.013686421, 0.011555041, 0.013465358, 0.012674481, 0.011436563, 0.014770686, 0.010514402, 0.01079304, 0.012634198, 0.013186503, 0.015204356, 0.013230099, 0.012440635, 0.012026476, 0.013939056, 0.013554998, 0.012392822, 0.014094706, 0.011009869, 0.01276297, 0.015998753, 0.013603408, 0.0110134855, 0.012268434, 0.015096934, 0.011289385, 0.012623013, 0.0125331255, 0.013006112, 0.013133548, 0.045610756, 0.013834691, 0.011872278, 0.010417209, 0.010809363, 0.010977636, 0.013916566, 0.010735895, 0.012186093, 0.013058243, 0.012461693, 0.011974644, 0.01220526, 0.0141049065, 0.011401624, 0.0102807265, 0.011735715, 0.011590218, 0.013335873, 0.010444047, 0.011868046, 0.011236949, 0.011027392, 0.020254692]\n",
      "2022-02-28 18:58:11,627 : INFO : merging changes from 1204 documents into a model of 3204 documents\n",
      "2022-02-28 18:58:11,636 : INFO : topic #91 (0.010): 0.085*\",\" + 0.064*\"-\" + 0.051*\"structur\" + 0.031*\"theoret\" + 0.030*\"set\" + 0.026*\";\" + 0.023*\"comput\" + 0.020*\"idea\" + 0.019*\"increment\" + 0.018*\"relationship\"\n",
      "2022-02-28 18:58:11,637 : INFO : topic #79 (0.010): 0.104*\"search\" + 0.070*\"tree\" + 0.057*\"heurist\" + 0.050*\",\" + 0.046*\"game\" + 0.039*\"move\" + 0.038*\"algorithm\" + 0.038*\"-\" + 0.038*\"node\" + 0.025*\"binari\"\n",
      "2022-02-28 18:58:11,637 : INFO : topic #1 (0.018): 0.256*\"languag\" + 0.085*\"structur\" + 0.065*\"program\" + 0.058*\",\" + 0.046*\"data\" + 0.029*\"-\" + 0.025*\"syntax\" + 0.024*\"design\" + 0.022*\"semant\" + 0.019*\"base\"\n",
      "2022-02-28 18:58:11,638 : INFO : topic #99 (0.020): 0.817*\"method\" + 0.154*\"'\" + 0.016*\"gauss\" + 0.002*\"algorithm\" + 0.000*\"(\" + 0.000*\")\" + 0.000*\"stage\" + 0.000*\"situat\" + 0.000*\"industri\" + 0.000*\"adapt\"\n",
      "2022-02-28 18:58:11,638 : INFO : topic #76 (0.046): 0.375*\"(\" + 0.360*\")\" + 0.228*\"algorithm\" + 0.011*\"-\" + 0.009*\"polynomi\" + 0.003*\"root\" + 0.003*\"program\" + 0.002*\"coeffici\" + 0.002*\"integ\" + 0.001*\"normal\"\n",
      "2022-02-28 18:58:11,639 : INFO : topic diff=0.239784, rho=0.253169\n",
      "2022-02-28 18:58:11,646 : INFO : PROGRESS: pass 14, at document #2000/3204\n",
      "2022-02-28 18:58:12,279 : INFO : optimized alpha [0.0134264175, 0.018721037, 0.011383058, 0.011884799, 0.01308455, 0.013913895, 0.011113921, 0.011570002, 0.012209033, 0.012808477, 0.012587753, 0.011324419, 0.014012615, 0.01044745, 0.014416579, 0.013301281, 0.013368898, 0.014376178, 0.011626811, 0.011814298, 0.01578353, 0.010553777, 0.012570432, 0.010606828, 0.017542725, 0.0139111895, 0.0111730145, 0.012334454, 0.012965191, 0.01079691, 0.014446883, 0.010482387, 0.01220705, 0.012595606, 0.013767723, 0.013393569, 0.013242485, 0.010848202, 0.013168107, 0.013399007, 0.011393018, 0.012988114, 0.01270163, 0.012094675, 0.011654776, 0.012272197, 0.013877994, 0.011681309, 0.013615451, 0.012846224, 0.011453444, 0.015123404, 0.010497873, 0.010832508, 0.012660209, 0.013248635, 0.015232015, 0.013293765, 0.012490728, 0.012044392, 0.014150032, 0.013690917, 0.01247277, 0.014227958, 0.011019561, 0.012924998, 0.015995862, 0.013744069, 0.011012872, 0.012314792, 0.015396257, 0.011275244, 0.01265, 0.0125437435, 0.013039232, 0.013143093, 0.047711737, 0.013821708, 0.011867821, 0.010385531, 0.010800776, 0.010964481, 0.014136621, 0.010744981, 0.012192261, 0.013084866, 0.012508109, 0.012046563, 0.012225275, 0.0142577775, 0.011467435, 0.010268716, 0.011775892, 0.011565655, 0.013336285, 0.010440447, 0.011832263, 0.011241582, 0.011075454, 0.020678353]\n",
      "2022-02-28 18:58:12,285 : INFO : merging changes from 2000 documents into a model of 3204 documents\n",
      "2022-02-28 18:58:12,294 : INFO : topic #91 (0.010): 0.086*\",\" + 0.063*\"-\" + 0.047*\"structur\" + 0.030*\"set\" + 0.029*\"theoret\" + 0.027*\";\" + 0.025*\"comput\" + 0.022*\"idea\" + 0.019*\"defin\" + 0.018*\"increment\"\n",
      "2022-02-28 18:58:12,294 : INFO : topic #13 (0.010): 0.062*\",\" + 0.059*\"-\" + 0.050*\"log\" + 0.039*\"insert\" + 0.038*\"time\" + 0.032*\"/\" + 0.031*\"delet\" + 0.027*\"pl\" + 0.026*\"vari\" + 0.025*\"reconstruct\"\n",
      "2022-02-28 18:58:12,295 : INFO : topic #1 (0.019): 0.265*\"languag\" + 0.080*\"structur\" + 0.065*\"program\" + 0.058*\",\" + 0.043*\"data\" + 0.031*\"-\" + 0.026*\"syntax\" + 0.023*\"design\" + 0.020*\"semant\" + 0.019*\"base\"\n",
      "2022-02-28 18:58:12,296 : INFO : topic #99 (0.021): 0.820*\"method\" + 0.148*\"'\" + 0.018*\"gauss\" + 0.002*\"algorithm\" + 0.000*\"(\" + 0.000*\")\" + 0.000*\"stage\" + 0.000*\"situat\" + 0.000*\"industri\" + 0.000*\"adapt\"\n",
      "2022-02-28 18:58:12,296 : INFO : topic #76 (0.048): 0.374*\"(\" + 0.361*\")\" + 0.229*\"algorithm\" + 0.011*\"-\" + 0.009*\"polynomi\" + 0.003*\"root\" + 0.003*\"program\" + 0.002*\"coeffici\" + 0.002*\"integ\" + 0.001*\"normal\"\n",
      "2022-02-28 18:58:12,297 : INFO : topic diff=0.211404, rho=0.245426\n",
      "2022-02-28 18:58:13,008 : INFO : -6.458 per-word bound, 87.9 perplexity estimate based on a held-out corpus of 1204 documents with 49783 words\n",
      "2022-02-28 18:58:13,008 : INFO : PROGRESS: pass 14, at document #3204/3204\n",
      "2022-02-28 18:58:13,578 : INFO : optimized alpha [0.013642944, 0.019109838, 0.0115056485, 0.012059859, 0.0132306265, 0.0141296135, 0.011238173, 0.011664813, 0.012412178, 0.012929816, 0.012726111, 0.011449628, 0.014231844, 0.010549155, 0.014687122, 0.0134386, 0.013623969, 0.014632577, 0.011654512, 0.011940171, 0.01597505, 0.010640564, 0.012727908, 0.010707383, 0.017822845, 0.014075059, 0.011300083, 0.012498066, 0.013121229, 0.010903906, 0.014605405, 0.010531249, 0.0123485625, 0.012732332, 0.013949531, 0.01363569, 0.013369858, 0.010913838, 0.013341464, 0.013561149, 0.011493499, 0.013220376, 0.012899316, 0.012204358, 0.01171815, 0.012418595, 0.014041943, 0.011756815, 0.0137932915, 0.012890378, 0.011607025, 0.015066752, 0.010579826, 0.010917876, 0.012805594, 0.013431084, 0.015545779, 0.013469345, 0.012669665, 0.0121419635, 0.014260896, 0.013816909, 0.012596748, 0.0144558605, 0.011128755, 0.012989587, 0.016349485, 0.013967427, 0.01107595, 0.012392865, 0.015656762, 0.011378741, 0.012828188, 0.012749099, 0.013195656, 0.013297, 0.04953756, 0.014078315, 0.012100911, 0.010463185, 0.010875654, 0.011060228, 0.014322769, 0.0108484095, 0.012359991, 0.013282031, 0.012640855, 0.012230551, 0.012372953, 0.014467028, 0.011537705, 0.01033869, 0.011898175, 0.011712728, 0.01353972, 0.010536302, 0.011966488, 0.011342589, 0.011127959, 0.021312041]\n",
      "2022-02-28 18:58:13,583 : INFO : merging changes from 1204 documents into a model of 3204 documents\n",
      "2022-02-28 18:58:13,592 : INFO : topic #91 (0.010): 0.086*\",\" + 0.065*\"-\" + 0.054*\"structur\" + 0.031*\"theoret\" + 0.030*\"set\" + 0.025*\";\" + 0.023*\"comput\" + 0.022*\"idea\" + 0.019*\"increment\" + 0.018*\"relationship\"\n",
      "2022-02-28 18:58:13,593 : INFO : topic #79 (0.010): 0.107*\"search\" + 0.067*\"tree\" + 0.058*\"heurist\" + 0.050*\",\" + 0.046*\"game\" + 0.039*\"move\" + 0.039*\"algorithm\" + 0.038*\"node\" + 0.038*\"-\" + 0.025*\"binari\"\n",
      "2022-02-28 18:58:13,594 : INFO : topic #1 (0.019): 0.260*\"languag\" + 0.085*\"structur\" + 0.065*\"program\" + 0.058*\",\" + 0.044*\"data\" + 0.029*\"-\" + 0.026*\"syntax\" + 0.025*\"design\" + 0.022*\"semant\" + 0.019*\"base\"\n",
      "2022-02-28 18:58:13,594 : INFO : topic #99 (0.021): 0.823*\"method\" + 0.148*\"'\" + 0.016*\"gauss\" + 0.002*\"algorithm\" + 0.000*\"(\" + 0.000*\")\" + 0.000*\"stage\" + 0.000*\"situat\" + 0.000*\"industri\" + 0.000*\"adapt\"\n",
      "2022-02-28 18:58:13,595 : INFO : topic #76 (0.050): 0.376*\"(\" + 0.360*\")\" + 0.228*\"algorithm\" + 0.011*\"-\" + 0.009*\"polynomi\" + 0.003*\"root\" + 0.003*\"program\" + 0.002*\"coeffici\" + 0.002*\"integ\" + 0.001*\"100\"\n",
      "2022-02-28 18:58:13,595 : INFO : topic diff=0.218915, rho=0.245426\n",
      "2022-02-28 18:58:13,602 : INFO : PROGRESS: pass 15, at document #2000/3204\n",
      "2022-02-28 18:58:14,217 : INFO : optimized alpha [0.013672662, 0.019397408, 0.011528706, 0.01208669, 0.013236678, 0.0142149655, 0.011290653, 0.0116745345, 0.012505827, 0.013047338, 0.012781748, 0.011455239, 0.014350772, 0.010511825, 0.014711138, 0.013594482, 0.013715051, 0.014770386, 0.01175265, 0.011982654, 0.016206816, 0.010689855, 0.012799507, 0.010718222, 0.01794751, 0.014251664, 0.011314644, 0.012509913, 0.013137633, 0.010908421, 0.0147646, 0.010566172, 0.012406581, 0.012760347, 0.014030355, 0.013671123, 0.013493888, 0.010927408, 0.013402049, 0.01363366, 0.011504977, 0.01332593, 0.012923084, 0.012286231, 0.011781093, 0.012481498, 0.014239425, 0.011883731, 0.013944225, 0.0130592985, 0.01162469, 0.015415002, 0.010567787, 0.010961765, 0.012832445, 0.013491579, 0.015571494, 0.013531398, 0.012718381, 0.01215817, 0.014475936, 0.013948705, 0.012681171, 0.014586603, 0.01113958, 0.013148934, 0.0163505, 0.014110752, 0.011077011, 0.012439831, 0.015961576, 0.0113623785, 0.012851101, 0.012758916, 0.013230979, 0.013307773, 0.05167927, 0.014069601, 0.012113115, 0.010432673, 0.010872738, 0.011047543, 0.014543918, 0.010862518, 0.012374594, 0.013313846, 0.012690776, 0.012303769, 0.012395283, 0.0146087315, 0.011605028, 0.01033346, 0.011938835, 0.011682991, 0.013537953, 0.010532877, 0.011934456, 0.011347187, 0.011177814, 0.021736331]\n"
     ]
    },
    {
     "name": "stderr",
     "output_type": "stream",
     "text": [
      "2022-02-28 18:58:14,223 : INFO : merging changes from 2000 documents into a model of 3204 documents\n",
      "2022-02-28 18:58:14,232 : INFO : topic #91 (0.010): 0.087*\",\" + 0.063*\"-\" + 0.051*\"structur\" + 0.029*\"theoret\" + 0.029*\"set\" + 0.026*\";\" + 0.024*\"comput\" + 0.023*\"idea\" + 0.020*\"defin\" + 0.018*\"increment\"\n",
      "2022-02-28 18:58:14,233 : INFO : topic #79 (0.010): 0.105*\"search\" + 0.065*\"tree\" + 0.055*\"heurist\" + 0.049*\",\" + 0.043*\"game\" + 0.039*\"-\" + 0.038*\"algorithm\" + 0.037*\"move\" + 0.036*\"node\" + 0.030*\"chain\"\n",
      "2022-02-28 18:58:14,234 : INFO : topic #1 (0.019): 0.268*\"languag\" + 0.080*\"structur\" + 0.066*\"program\" + 0.059*\",\" + 0.041*\"data\" + 0.031*\"-\" + 0.026*\"syntax\" + 0.023*\"design\" + 0.020*\"semant\" + 0.020*\"base\"\n",
      "2022-02-28 18:58:14,234 : INFO : topic #99 (0.022): 0.826*\"method\" + 0.143*\"'\" + 0.017*\"gauss\" + 0.002*\"algorithm\" + 0.000*\"(\" + 0.000*\")\" + 0.000*\"stage\" + 0.000*\"situat\" + 0.000*\"industri\" + 0.000*\"adapt\"\n",
      "2022-02-28 18:58:14,234 : INFO : topic #76 (0.052): 0.375*\"(\" + 0.361*\")\" + 0.229*\"algorithm\" + 0.011*\"-\" + 0.009*\"polynomi\" + 0.003*\"root\" + 0.003*\"program\" + 0.002*\"coeffici\" + 0.001*\"integ\" + 0.001*\"100\"\n",
      "2022-02-28 18:58:14,235 : INFO : topic diff=0.194204, rho=0.238352\n",
      "2022-02-28 18:58:14,925 : INFO : -6.451 per-word bound, 87.5 perplexity estimate based on a held-out corpus of 1204 documents with 49783 words\n",
      "2022-02-28 18:58:14,926 : INFO : PROGRESS: pass 15, at document #3204/3204\n",
      "2022-02-28 18:58:15,480 : INFO : optimized alpha [0.013899157, 0.019769525, 0.011655774, 0.012263569, 0.013379767, 0.0144270435, 0.011423727, 0.011774356, 0.012713571, 0.013165912, 0.012914709, 0.0115802325, 0.0145663, 0.010615612, 0.014980145, 0.01372346, 0.013983396, 0.015040826, 0.01177955, 0.012103626, 0.016394142, 0.010779125, 0.012958977, 0.010814518, 0.01821521, 0.014409326, 0.011443682, 0.012680535, 0.013285227, 0.011013256, 0.014922469, 0.010618213, 0.012552798, 0.012894232, 0.014214232, 0.013906569, 0.013623702, 0.010991697, 0.013572051, 0.013789922, 0.011603344, 0.013571092, 0.013125084, 0.012396019, 0.011843013, 0.012632489, 0.014402795, 0.011954995, 0.014121494, 0.013104319, 0.01177297, 0.015359928, 0.010654359, 0.011051849, 0.012975005, 0.013670561, 0.015886761, 0.013703582, 0.012901748, 0.012246437, 0.014583711, 0.014069042, 0.012805131, 0.014816432, 0.011242059, 0.013211498, 0.016695455, 0.014333421, 0.0111366585, 0.012518609, 0.01622784, 0.011459221, 0.013030938, 0.012963196, 0.013392165, 0.013453062, 0.05351204, 0.014313345, 0.012350217, 0.010512904, 0.010946099, 0.011143451, 0.014723832, 0.010963859, 0.012551465, 0.013507418, 0.012820833, 0.012489665, 0.012539939, 0.014823471, 0.011675994, 0.010404123, 0.012065855, 0.011834161, 0.013743008, 0.010628845, 0.012063498, 0.011446117, 0.011229153, 0.022368573]\n",
      "2022-02-28 18:58:15,486 : INFO : merging changes from 1204 documents into a model of 3204 documents\n",
      "2022-02-28 18:58:15,495 : INFO : topic #91 (0.010): 0.087*\",\" + 0.066*\"-\" + 0.058*\"structur\" + 0.031*\"theoret\" + 0.029*\"set\" + 0.024*\";\" + 0.023*\"idea\" + 0.022*\"comput\" + 0.019*\"increment\" + 0.019*\"defin\"\n",
      "2022-02-28 18:58:15,496 : INFO : topic #79 (0.011): 0.109*\"search\" + 0.063*\"tree\" + 0.059*\"heurist\" + 0.051*\",\" + 0.047*\"game\" + 0.040*\"algorithm\" + 0.040*\"node\" + 0.039*\"move\" + 0.037*\"-\" + 0.026*\"binari\"\n",
      "2022-02-28 18:58:15,497 : INFO : topic #1 (0.020): 0.263*\"languag\" + 0.084*\"structur\" + 0.066*\"program\" + 0.059*\",\" + 0.042*\"data\" + 0.029*\"-\" + 0.026*\"syntax\" + 0.025*\"design\" + 0.022*\"semant\" + 0.020*\"base\"\n",
      "2022-02-28 18:58:15,497 : INFO : topic #99 (0.022): 0.829*\"method\" + 0.143*\"'\" + 0.016*\"gauss\" + 0.002*\"algorithm\" + 0.000*\"(\" + 0.000*\")\" + 0.000*\"stage\" + 0.000*\"situat\" + 0.000*\"industri\" + 0.000*\"adapt\"\n",
      "2022-02-28 18:58:15,497 : INFO : topic #76 (0.054): 0.377*\"(\" + 0.361*\")\" + 0.228*\"algorithm\" + 0.011*\"-\" + 0.009*\"polynomi\" + 0.003*\"root\" + 0.003*\"program\" + 0.001*\"coeffici\" + 0.001*\"integ\" + 0.001*\"100\"\n",
      "2022-02-28 18:58:15,498 : INFO : topic diff=0.201340, rho=0.238352\n",
      "2022-02-28 18:58:15,505 : INFO : PROGRESS: pass 16, at document #2000/3204\n",
      "2022-02-28 18:58:16,113 : INFO : optimized alpha [0.013927558, 0.02006306, 0.0116864275, 0.0122909555, 0.013385576, 0.014508857, 0.011477792, 0.011785306, 0.012811557, 0.013284557, 0.012967686, 0.011589718, 0.014684792, 0.010579304, 0.015002668, 0.013880279, 0.01407092, 0.015176328, 0.0118759675, 0.012150794, 0.016622959, 0.010828743, 0.013030587, 0.01083019, 0.01834113, 0.014583588, 0.011457748, 0.012696317, 0.013304201, 0.011020258, 0.015087858, 0.010652542, 0.012608088, 0.012923029, 0.014293268, 0.013940592, 0.013745667, 0.011005167, 0.013635905, 0.013869002, 0.0116160195, 0.013676358, 0.013152444, 0.0124778105, 0.01190754, 0.012699851, 0.014589659, 0.0120841125, 0.014271858, 0.013273738, 0.011792841, 0.015700538, 0.010640252, 0.011100029, 0.012996563, 0.01373595, 0.015912415, 0.0137657765, 0.012946252, 0.012262458, 0.014802773, 0.014201959, 0.0128895, 0.014951635, 0.011252689, 0.013366869, 0.01669071, 0.014471284, 0.0111393295, 0.012570597, 0.016538482, 0.011443405, 0.013055988, 0.012976754, 0.013424954, 0.013461898, 0.055681307, 0.01430554, 0.01237012, 0.010482199, 0.010942284, 0.011129891, 0.014941083, 0.010975127, 0.01256673, 0.013538205, 0.012869651, 0.01257305, 0.012568915, 0.014970066, 0.011744871, 0.010395606, 0.0121013895, 0.011810407, 0.013742275, 0.010628002, 0.012032205, 0.011450677, 0.01127947, 0.022795735]\n",
      "2022-02-28 18:58:16,119 : INFO : merging changes from 2000 documents into a model of 3204 documents\n",
      "2022-02-28 18:58:16,128 : INFO : topic #91 (0.010): 0.088*\",\" + 0.064*\"-\" + 0.054*\"structur\" + 0.030*\"theoret\" + 0.028*\"set\" + 0.025*\";\" + 0.025*\"idea\" + 0.024*\"comput\" + 0.020*\"defin\" + 0.018*\"relationship\"\n",
      "2022-02-28 18:58:16,129 : INFO : topic #79 (0.010): 0.108*\"search\" + 0.061*\"tree\" + 0.056*\"heurist\" + 0.050*\",\" + 0.043*\"game\" + 0.039*\"algorithm\" + 0.038*\"-\" + 0.038*\"node\" + 0.038*\"move\" + 0.030*\"chain\"\n",
      "2022-02-28 18:58:16,129 : INFO : topic #1 (0.020): 0.271*\"languag\" + 0.080*\"structur\" + 0.066*\"program\" + 0.059*\",\" + 0.039*\"data\" + 0.031*\"-\" + 0.027*\"syntax\" + 0.024*\"design\" + 0.020*\"semant\" + 0.020*\"base\"\n",
      "2022-02-28 18:58:16,130 : INFO : topic #99 (0.023): 0.831*\"method\" + 0.139*\"'\" + 0.017*\"gauss\" + 0.001*\"algorithm\" + 0.000*\"(\" + 0.000*\")\" + 0.000*\"stage\" + 0.000*\"situat\" + 0.000*\"industri\" + 0.000*\"adapt\"\n",
      "2022-02-28 18:58:16,130 : INFO : topic #76 (0.056): 0.376*\"(\" + 0.361*\")\" + 0.230*\"algorithm\" + 0.011*\"-\" + 0.009*\"polynomi\" + 0.003*\"root\" + 0.003*\"program\" + 0.001*\"coeffici\" + 0.001*\"integ\" + 0.001*\"100\"\n",
      "2022-02-28 18:58:16,131 : INFO : topic diff=0.179851, rho=0.231857\n",
      "2022-02-28 18:58:16,816 : INFO : -6.442 per-word bound, 87.0 perplexity estimate based on a held-out corpus of 1204 documents with 49783 words\n",
      "2022-02-28 18:58:16,816 : INFO : PROGRESS: pass 16, at document #3204/3204\n",
      "2022-02-28 18:58:17,352 : INFO : optimized alpha [0.014147874, 0.02043812, 0.011813538, 0.012467459, 0.013525789, 0.014708879, 0.011608615, 0.011885545, 0.013024034, 0.0134107, 0.013098075, 0.011712403, 0.014911269, 0.010676905, 0.015267511, 0.0140092615, 0.014339139, 0.015455123, 0.011902119, 0.012271812, 0.016802989, 0.010920426, 0.013192311, 0.010928825, 0.018600477, 0.014740885, 0.011588839, 0.012866444, 0.013451523, 0.011127351, 0.015245461, 0.0107035665, 0.012744146, 0.013064512, 0.014479287, 0.01416974, 0.013880892, 0.011068234, 0.013802944, 0.014022388, 0.011714691, 0.013926784, 0.013348717, 0.012587814, 0.011968086, 0.012855485, 0.014761189, 0.012153623, 0.014443262, 0.013319665, 0.011940845, 0.015637904, 0.010735475, 0.011199133, 0.01314911, 0.013917098, 0.016226491, 0.01393483, 0.013121665, 0.012348915, 0.014907531, 0.01431688, 0.013016034, 0.015175074, 0.01135755, 0.013427552, 0.017037062, 0.014693482, 0.011200065, 0.012642814, 0.01680438, 0.011538336, 0.013235262, 0.013187886, 0.013583137, 0.013601758, 0.057455346, 0.014550981, 0.012606555, 0.010560877, 0.011014238, 0.011226086, 0.0151148, 0.011072426, 0.012733366, 0.013728485, 0.012997186, 0.012758724, 0.012718375, 0.01518454, 0.011821162, 0.010471042, 0.01223305, 0.011958822, 0.013943658, 0.010720084, 0.012161056, 0.011554342, 0.011327597, 0.023434456]\n",
      "2022-02-28 18:58:17,359 : INFO : merging changes from 1204 documents into a model of 3204 documents\n"
     ]
    },
    {
     "name": "stderr",
     "output_type": "stream",
     "text": [
      "2022-02-28 18:58:17,368 : INFO : topic #91 (0.010): 0.089*\",\" + 0.067*\"-\" + 0.062*\"structur\" + 0.031*\"theoret\" + 0.028*\"set\" + 0.024*\"idea\" + 0.023*\";\" + 0.022*\"comput\" + 0.020*\"defin\" + 0.019*\"increment\"\n",
      "2022-02-28 18:58:17,368 : INFO : topic #79 (0.011): 0.112*\"search\" + 0.061*\"tree\" + 0.060*\"heurist\" + 0.052*\",\" + 0.047*\"game\" + 0.041*\"node\" + 0.041*\"algorithm\" + 0.040*\"move\" + 0.037*\"-\" + 0.027*\"binari\"\n",
      "2022-02-28 18:58:17,369 : INFO : topic #1 (0.020): 0.266*\"languag\" + 0.084*\"structur\" + 0.067*\"program\" + 0.059*\",\" + 0.040*\"data\" + 0.029*\"-\" + 0.026*\"syntax\" + 0.025*\"design\" + 0.022*\"semant\" + 0.020*\"base\"\n",
      "2022-02-28 18:58:17,370 : INFO : topic #99 (0.023): 0.833*\"method\" + 0.139*\"'\" + 0.016*\"gauss\" + 0.001*\"algorithm\" + 0.000*\"(\" + 0.000*\")\" + 0.000*\"stage\" + 0.000*\"situat\" + 0.000*\"industri\" + 0.000*\"adapt\"\n",
      "2022-02-28 18:58:17,370 : INFO : topic #76 (0.057): 0.378*\"(\" + 0.361*\")\" + 0.228*\"algorithm\" + 0.012*\"-\" + 0.009*\"polynomi\" + 0.003*\"root\" + 0.003*\"program\" + 0.001*\"coeffici\" + 0.001*\"100\" + 0.001*\"integ\"\n",
      "2022-02-28 18:58:17,371 : INFO : topic diff=0.186533, rho=0.231857\n",
      "2022-02-28 18:58:17,378 : INFO : PROGRESS: pass 17, at document #2000/3204\n",
      "2022-02-28 18:58:17,964 : INFO : optimized alpha [0.014180024, 0.02072839, 0.011840858, 0.012495397, 0.013535994, 0.01479061, 0.011660297, 0.01190307, 0.013127947, 0.01353509, 0.013152951, 0.011724312, 0.015034456, 0.010644012, 0.015288604, 0.014164002, 0.014426475, 0.015581443, 0.011995606, 0.012316716, 0.017034965, 0.010971623, 0.013266929, 0.0109491395, 0.018717164, 0.014912939, 0.011607752, 0.012886003, 0.013473014, 0.0111341905, 0.015406803, 0.010738568, 0.01280996, 0.013100057, 0.014558247, 0.0142041035, 0.014004145, 0.011079125, 0.013863877, 0.014103177, 0.011729846, 0.01403182, 0.013376638, 0.012669563, 0.01203154, 0.012924463, 0.014945946, 0.012283636, 0.01459321, 0.013485247, 0.011958672, 0.015972963, 0.010725426, 0.011252772, 0.013173056, 0.013981024, 0.016250229, 0.013995635, 0.013165046, 0.012364784, 0.015130967, 0.014442787, 0.013094545, 0.015308099, 0.0113692265, 0.013580688, 0.017032467, 0.014829323, 0.011201691, 0.012689559, 0.017128682, 0.011521643, 0.013262451, 0.013202067, 0.013621269, 0.01361501, 0.059647325, 0.014544088, 0.012629698, 0.010534766, 0.011013204, 0.011212946, 0.01533516, 0.011089789, 0.012749594, 0.013758242, 0.013047938, 0.012840685, 0.012752406, 0.015336145, 0.011891537, 0.010466481, 0.01226918, 0.011939443, 0.013943942, 0.0107205305, 0.012130466, 0.011560185, 0.011379672, 0.023861827]\n",
      "2022-02-28 18:58:17,970 : INFO : merging changes from 2000 documents into a model of 3204 documents\n",
      "2022-02-28 18:58:17,979 : INFO : topic #91 (0.010): 0.089*\",\" + 0.065*\"-\" + 0.058*\"structur\" + 0.030*\"theoret\" + 0.027*\"set\" + 0.025*\"idea\" + 0.024*\";\" + 0.023*\"comput\" + 0.022*\"defin\" + 0.018*\"relationship\"\n",
      "2022-02-28 18:58:17,979 : INFO : topic #79 (0.011): 0.112*\"search\" + 0.059*\"tree\" + 0.056*\"heurist\" + 0.051*\",\" + 0.043*\"game\" + 0.039*\"node\" + 0.039*\"algorithm\" + 0.038*\"-\" + 0.038*\"move\" + 0.031*\"chain\"\n",
      "2022-02-28 18:58:17,980 : INFO : topic #1 (0.021): 0.274*\"languag\" + 0.079*\"structur\" + 0.067*\"program\" + 0.059*\",\" + 0.037*\"data\" + 0.031*\"-\" + 0.027*\"syntax\" + 0.024*\"design\" + 0.020*\"semant\" + 0.020*\"base\"\n",
      "2022-02-28 18:58:17,980 : INFO : topic #99 (0.024): 0.835*\"method\" + 0.135*\"'\" + 0.017*\"gauss\" + 0.001*\"algorithm\" + 0.000*\"(\" + 0.000*\")\" + 0.000*\"stage\" + 0.000*\"situat\" + 0.000*\"industri\" + 0.000*\"adapt\"\n",
      "2022-02-28 18:58:17,982 : INFO : topic #76 (0.060): 0.377*\"(\" + 0.361*\")\" + 0.229*\"algorithm\" + 0.011*\"-\" + 0.009*\"polynomi\" + 0.003*\"root\" + 0.002*\"program\" + 0.001*\"100\" + 0.001*\"coeffici\" + 0.001*\"integ\"\n",
      "2022-02-28 18:58:17,982 : INFO : topic diff=0.167520, rho=0.225865\n",
      "2022-02-28 18:58:18,652 : INFO : -6.436 per-word bound, 86.6 perplexity estimate based on a held-out corpus of 1204 documents with 49783 words\n",
      "2022-02-28 18:58:18,653 : INFO : PROGRESS: pass 17, at document #3204/3204\n",
      "2022-02-28 18:58:19,189 : INFO : optimized alpha [0.014405283, 0.021074917, 0.011970381, 0.012681247, 0.013681372, 0.014987612, 0.011784562, 0.012015009, 0.01334531, 0.01366136, 0.013283462, 0.011849338, 0.015257851, 0.010739844, 0.015546753, 0.014293043, 0.01470011, 0.015854089, 0.012023344, 0.012442561, 0.017220875, 0.011065707, 0.013443359, 0.011046042, 0.0189576, 0.01505594, 0.011738782, 0.013060751, 0.013627969, 0.011237284, 0.015570117, 0.010790705, 0.01294375, 0.013249185, 0.014741164, 0.014430006, 0.01413947, 0.011141076, 0.014030674, 0.014256537, 0.01182671, 0.014279557, 0.013575072, 0.012775045, 0.012090839, 0.013084874, 0.01510898, 0.012353802, 0.014759018, 0.01352965, 0.012115715, 0.015912073, 0.0108148875, 0.011354403, 0.013317926, 0.014161899, 0.016560264, 0.014159195, 0.013342811, 0.012440234, 0.015235772, 0.014560629, 0.013213878, 0.015530981, 0.011474343, 0.0136396475, 0.017367825, 0.015051318, 0.011259253, 0.012755544, 0.017406898, 0.011610465, 0.013441398, 0.01341517, 0.013779218, 0.013749639, 0.061407626, 0.014785778, 0.012873133, 0.010618017, 0.011090114, 0.011307384, 0.015499898, 0.011187398, 0.01291593, 0.013945476, 0.013178074, 0.013033434, 0.012901774, 0.015556548, 0.011961819, 0.010536558, 0.012398536, 0.012087559, 0.014144811, 0.010819023, 0.012254675, 0.011659814, 0.011435458, 0.024515739]\n",
      "2022-02-28 18:58:19,195 : INFO : merging changes from 1204 documents into a model of 3204 documents\n",
      "2022-02-28 18:58:19,203 : INFO : topic #79 (0.011): 0.117*\"search\" + 0.060*\"heurist\" + 0.058*\"tree\" + 0.052*\",\" + 0.047*\"game\" + 0.042*\"node\" + 0.041*\"algorithm\" + 0.040*\"move\" + 0.037*\"-\" + 0.028*\"binari\"\n",
      "2022-02-28 18:58:19,204 : INFO : topic #91 (0.011): 0.090*\",\" + 0.068*\"-\" + 0.066*\"structur\" + 0.031*\"theoret\" + 0.026*\"set\" + 0.024*\"idea\" + 0.022*\";\" + 0.022*\"defin\" + 0.021*\"comput\" + 0.019*\"increment\"\n",
      "2022-02-28 18:58:19,205 : INFO : topic #1 (0.021): 0.269*\"languag\" + 0.083*\"structur\" + 0.067*\"program\" + 0.059*\",\" + 0.039*\"data\" + 0.029*\"-\" + 0.026*\"syntax\" + 0.026*\"design\" + 0.022*\"semant\" + 0.020*\"base\"\n",
      "2022-02-28 18:58:19,205 : INFO : topic #99 (0.025): 0.836*\"method\" + 0.137*\"'\" + 0.016*\"gauss\" + 0.001*\"algorithm\" + 0.000*\"(\" + 0.000*\")\" + 0.000*\"stage\" + 0.000*\"situat\" + 0.000*\"industri\" + 0.000*\"adapt\"\n",
      "2022-02-28 18:58:19,205 : INFO : topic #76 (0.061): 0.379*\"(\" + 0.361*\")\" + 0.227*\"algorithm\" + 0.012*\"-\" + 0.009*\"polynomi\" + 0.003*\"root\" + 0.003*\"program\" + 0.001*\"100\" + 0.001*\"coeffici\" + 0.001*\"integ\"\n",
      "2022-02-28 18:58:19,207 : INFO : topic diff=0.173093, rho=0.225865\n",
      "2022-02-28 18:58:19,213 : INFO : PROGRESS: pass 18, at document #2000/3204\n",
      "2022-02-28 18:58:19,788 : INFO : optimized alpha [0.014432885, 0.021355025, 0.011999733, 0.012709793, 0.013688155, 0.015069387, 0.011835342, 0.012034922, 0.013458116, 0.013784053, 0.013331373, 0.011862271, 0.015380857, 0.010705389, 0.015573447, 0.014445923, 0.014787292, 0.015979977, 0.012116731, 0.012489322, 0.01744667, 0.011114841, 0.013519558, 0.011068459, 0.019067591, 0.0152340885, 0.011761139, 0.01307228, 0.013651873, 0.011242766, 0.015729291, 0.010827609, 0.013012779, 0.013291313, 0.014820139, 0.014469494, 0.014259349, 0.011153206, 0.01409349, 0.014332696, 0.011845536, 0.014386021, 0.013602024, 0.012855469, 0.012155944, 0.013152598, 0.015300113, 0.012484898, 0.014910296, 0.013693003, 0.01214106, 0.016241938, 0.010805158, 0.011408425, 0.013339724, 0.0142260445, 0.016589591, 0.01421874, 0.013389592, 0.01245595, 0.01545875, 0.014687942, 0.013293972, 0.015661849, 0.011485816, 0.0137922065, 0.017367302, 0.015185202, 0.011262394, 0.0128072435, 0.017728355, 0.01160077, 0.013464758, 0.013431529, 0.013814854, 0.013757921, 0.06361287, 0.014778145, 0.012905214, 0.010593825, 0.011086841, 0.011294618, 0.015716493, 0.011204454, 0.012932905, 0.0139727965, 0.013221955, 0.013119677, 0.012933537, 0.015716821, 0.012027134, 0.010535807, 0.012432498, 0.012065689, 0.0141444905, 0.010823079, 0.012224753, 0.011665574, 0.011489207, 0.02494028]\n",
      "2022-02-28 18:58:19,794 : INFO : merging changes from 2000 documents into a model of 3204 documents\n",
      "2022-02-28 18:58:19,804 : INFO : topic #91 (0.011): 0.091*\",\" + 0.066*\"-\" + 0.062*\"structur\" + 0.030*\"theoret\" + 0.026*\"set\" + 0.026*\"idea\" + 0.023*\"defin\" + 0.023*\";\" + 0.023*\"comput\" + 0.018*\"relationship\"\n"
     ]
    },
    {
     "name": "stderr",
     "output_type": "stream",
     "text": [
      "2022-02-28 18:58:19,804 : INFO : topic #79 (0.011): 0.116*\"search\" + 0.056*\"tree\" + 0.056*\"heurist\" + 0.052*\",\" + 0.043*\"game\" + 0.040*\"node\" + 0.039*\"algorithm\" + 0.038*\"move\" + 0.038*\"-\" + 0.032*\"chain\"\n",
      "2022-02-28 18:58:19,805 : INFO : topic #1 (0.021): 0.276*\"languag\" + 0.078*\"structur\" + 0.067*\"program\" + 0.059*\",\" + 0.036*\"data\" + 0.031*\"-\" + 0.027*\"syntax\" + 0.025*\"design\" + 0.020*\"semant\" + 0.020*\"base\"\n",
      "2022-02-28 18:58:19,805 : INFO : topic #99 (0.025): 0.838*\"method\" + 0.133*\"'\" + 0.017*\"gauss\" + 0.001*\"algorithm\" + 0.000*\"(\" + 0.000*\")\" + 0.000*\"stage\" + 0.000*\"situat\" + 0.000*\"industri\" + 0.000*\"adapt\"\n",
      "2022-02-28 18:58:19,806 : INFO : topic #76 (0.064): 0.378*\"(\" + 0.360*\")\" + 0.230*\"algorithm\" + 0.012*\"-\" + 0.009*\"polynomi\" + 0.003*\"root\" + 0.002*\"program\" + 0.001*\"100\" + 0.001*\"coeffici\" + 0.001*\"integ\"\n",
      "2022-02-28 18:58:19,807 : INFO : topic diff=0.156657, rho=0.220316\n",
      "2022-02-28 18:58:20,466 : INFO : -6.431 per-word bound, 86.3 perplexity estimate based on a held-out corpus of 1204 documents with 49783 words\n",
      "2022-02-28 18:58:20,467 : INFO : PROGRESS: pass 18, at document #3204/3204\n",
      "2022-02-28 18:58:20,982 : INFO : optimized alpha [0.014655162, 0.021704754, 0.0121295005, 0.012883759, 0.013831129, 0.015260624, 0.011962063, 0.012151712, 0.013685778, 0.013915622, 0.01345721, 0.011987476, 0.015606999, 0.01079956, 0.015833791, 0.014575125, 0.01506939, 0.016261576, 0.012143781, 0.012615355, 0.017635515, 0.01120936, 0.013691049, 0.011167779, 0.019303888, 0.015374281, 0.01189444, 0.013256509, 0.013806847, 0.0113420505, 0.01588938, 0.010878806, 0.01315411, 0.013430633, 0.015008255, 0.014697664, 0.0143922465, 0.011216167, 0.014260381, 0.014480909, 0.0119429445, 0.014634153, 0.01380271, 0.012959096, 0.012216271, 0.01331542, 0.015465971, 0.012555784, 0.015073384, 0.013738342, 0.01230492, 0.01618284, 0.0108911125, 0.011512553, 0.013484733, 0.014406745, 0.016898878, 0.014382198, 0.013562327, 0.012525457, 0.01556081, 0.014806127, 0.01341616, 0.015881607, 0.011587041, 0.0138495155, 0.017701471, 0.0154043585, 0.011321094, 0.01287673, 0.01801626, 0.011685967, 0.013641016, 0.013639386, 0.013970243, 0.013890222, 0.06529205, 0.015010997, 0.013148742, 0.010681533, 0.011166502, 0.011385378, 0.015887087, 0.011294276, 0.013096757, 0.014157191, 0.0133522935, 0.01330537, 0.013080539, 0.015937569, 0.012089439, 0.010610592, 0.012555077, 0.012209196, 0.014342302, 0.010915944, 0.012349074, 0.01176564, 0.011539751, 0.025591442]\n",
      "2022-02-28 18:58:20,988 : INFO : merging changes from 1204 documents into a model of 3204 documents\n",
      "2022-02-28 18:58:20,996 : INFO : topic #91 (0.011): 0.091*\",\" + 0.070*\"structur\" + 0.069*\"-\" + 0.031*\"theoret\" + 0.025*\"set\" + 0.024*\"idea\" + 0.023*\"defin\" + 0.021*\";\" + 0.021*\"comput\" + 0.019*\"increment\"\n",
      "2022-02-28 18:58:20,997 : INFO : topic #79 (0.011): 0.120*\"search\" + 0.060*\"heurist\" + 0.056*\"tree\" + 0.053*\",\" + 0.047*\"game\" + 0.043*\"node\" + 0.041*\"algorithm\" + 0.040*\"move\" + 0.037*\"-\" + 0.028*\"binari\"\n",
      "2022-02-28 18:58:20,997 : INFO : topic #1 (0.022): 0.271*\"languag\" + 0.082*\"structur\" + 0.068*\"program\" + 0.059*\",\" + 0.037*\"data\" + 0.030*\"-\" + 0.027*\"design\" + 0.027*\"syntax\" + 0.023*\"semant\" + 0.020*\"base\"\n",
      "2022-02-28 18:58:20,998 : INFO : topic #99 (0.026): 0.839*\"method\" + 0.134*\"'\" + 0.016*\"gauss\" + 0.001*\"algorithm\" + 0.000*\"(\" + 0.000*\")\" + 0.000*\"stage\" + 0.000*\"situat\" + 0.000*\"industri\" + 0.000*\"adapt\"\n",
      "2022-02-28 18:58:20,998 : INFO : topic #76 (0.065): 0.380*\"(\" + 0.360*\")\" + 0.228*\"algorithm\" + 0.012*\"-\" + 0.009*\"polynomi\" + 0.003*\"root\" + 0.003*\"program\" + 0.001*\"100\" + 0.000*\"coeffici\" + 0.000*\"integ\"\n",
      "2022-02-28 18:58:20,999 : INFO : topic diff=0.161450, rho=0.220316\n",
      "2022-02-28 18:58:21,006 : INFO : PROGRESS: pass 19, at document #2000/3204\n",
      "2022-02-28 18:58:21,578 : INFO : optimized alpha [0.014691306, 0.021993494, 0.012160951, 0.012911412, 0.013842113, 0.015344137, 0.01201448, 0.01217519, 0.013801692, 0.014036733, 0.013505724, 0.011998773, 0.015734898, 0.010764772, 0.015853876, 0.014730868, 0.015158135, 0.016387185, 0.012235813, 0.012658464, 0.017860925, 0.011257706, 0.013765919, 0.011191017, 0.019417843, 0.015550489, 0.011913663, 0.013273121, 0.013833021, 0.011348686, 0.016046606, 0.0109163895, 0.013216292, 0.01347338, 0.01509052, 0.014737494, 0.014512059, 0.0112282345, 0.014322031, 0.014557442, 0.011958898, 0.014743725, 0.013828735, 0.013042474, 0.012281717, 0.013384786, 0.015655331, 0.012683948, 0.015224383, 0.0139026195, 0.012329569, 0.016509505, 0.010885181, 0.011566951, 0.013511931, 0.014469549, 0.016922807, 0.014440521, 0.013608005, 0.012537059, 0.0157733, 0.014934869, 0.013495044, 0.016010512, 0.011598299, 0.014000164, 0.01769734, 0.015538022, 0.011324421, 0.012924918, 0.018340582, 0.011675352, 0.01366508, 0.013657834, 0.014009576, 0.013898297, 0.06746098, 0.015001012, 0.013179639, 0.010655675, 0.011163448, 0.011374191, 0.016108794, 0.011312262, 0.013117401, 0.01418512, 0.013398216, 0.013396093, 0.013110102, 0.016103223, 0.012156429, 0.010612304, 0.012592403, 0.012190188, 0.014343037, 0.010919948, 0.012319743, 0.011772611, 0.011592744, 0.026012575]\n",
      "2022-02-28 18:58:21,584 : INFO : merging changes from 2000 documents into a model of 3204 documents\n",
      "2022-02-28 18:58:21,593 : INFO : topic #91 (0.011): 0.092*\",\" + 0.067*\"-\" + 0.066*\"structur\" + 0.030*\"theoret\" + 0.026*\"idea\" + 0.025*\"set\" + 0.025*\"defin\" + 0.022*\";\" + 0.022*\"comput\" + 0.018*\"relationship\"\n",
      "2022-02-28 18:58:21,594 : INFO : topic #79 (0.011): 0.120*\"search\" + 0.056*\"heurist\" + 0.055*\"tree\" + 0.052*\",\" + 0.043*\"game\" + 0.042*\"node\" + 0.039*\"algorithm\" + 0.038*\"move\" + 0.038*\"-\" + 0.032*\"chain\"\n",
      "2022-02-28 18:58:21,595 : INFO : topic #1 (0.022): 0.278*\"languag\" + 0.078*\"structur\" + 0.067*\"program\" + 0.060*\",\" + 0.035*\"data\" + 0.032*\"-\" + 0.027*\"syntax\" + 0.026*\"design\" + 0.020*\"semant\" + 0.020*\"base\"\n",
      "2022-02-28 18:58:21,595 : INFO : topic #99 (0.026): 0.841*\"method\" + 0.131*\"'\" + 0.017*\"gauss\" + 0.001*\"algorithm\" + 0.000*\"(\" + 0.000*\")\" + 0.000*\"stage\" + 0.000*\"situat\" + 0.000*\"industri\" + 0.000*\"adapt\"\n",
      "2022-02-28 18:58:21,596 : INFO : topic #76 (0.067): 0.378*\"(\" + 0.360*\")\" + 0.230*\"algorithm\" + 0.012*\"-\" + 0.009*\"polynomi\" + 0.003*\"root\" + 0.002*\"program\" + 0.001*\"100\" + 0.000*\"coeffici\" + 0.000*\"integ\"\n",
      "2022-02-28 18:58:21,596 : INFO : topic diff=0.146838, rho=0.215156\n",
      "2022-02-28 18:58:22,249 : INFO : -6.426 per-word bound, 86.0 perplexity estimate based on a held-out corpus of 1204 documents with 49783 words\n",
      "2022-02-28 18:58:22,250 : INFO : PROGRESS: pass 19, at document #3204/3204\n",
      "2022-02-28 18:58:22,759 : INFO : optimized alpha [0.014913504, 0.0223381, 0.012295362, 0.013087783, 0.013985286, 0.015532646, 0.012139402, 0.012298921, 0.014042472, 0.014171166, 0.013629543, 0.012124283, 0.015952656, 0.010857407, 0.016105227, 0.014855129, 0.015446254, 0.016666004, 0.012262223, 0.012784857, 0.018036703, 0.011350736, 0.013942442, 0.011292813, 0.01967468, 0.015687967, 0.012045023, 0.013450048, 0.013983064, 0.011446386, 0.016209785, 0.010964742, 0.0133626275, 0.013610584, 0.0152759645, 0.01496812, 0.014642622, 0.011290175, 0.014483841, 0.014705984, 0.012054726, 0.014989674, 0.014026874, 0.013144317, 0.012343086, 0.013554888, 0.015818466, 0.012755605, 0.015387574, 0.013941534, 0.012491384, 0.016446104, 0.010973674, 0.011669474, 0.013664568, 0.014658067, 0.017228544, 0.014598872, 0.013778291, 0.012603254, 0.01587556, 0.015056117, 0.013615302, 0.016238611, 0.011695815, 0.014055908, 0.018024351, 0.015757238, 0.011380179, 0.012993182, 0.018628681, 0.011759123, 0.013836359, 0.013863142, 0.014162586, 0.0140259005, 0.069049105, 0.015236147, 0.01342099, 0.010740068, 0.011239813, 0.011465503, 0.01627652, 0.011404725, 0.013278939, 0.014366881, 0.013528873, 0.013589209, 0.013250217, 0.016324313, 0.01222197, 0.010691736, 0.012724389, 0.012333742, 0.014537936, 0.011013267, 0.012439847, 0.011875342, 0.011646547, 0.02667903]\n",
      "2022-02-28 18:58:22,764 : INFO : merging changes from 1204 documents into a model of 3204 documents\n",
      "2022-02-28 18:58:22,774 : INFO : topic #91 (0.011): 0.092*\",\" + 0.075*\"structur\" + 0.069*\"-\" + 0.031*\"theoret\" + 0.026*\"defin\" + 0.024*\"idea\" + 0.024*\"set\" + 0.021*\";\" + 0.020*\"comput\" + 0.018*\"increment\"\n",
      "2022-02-28 18:58:22,775 : INFO : topic #79 (0.011): 0.123*\"search\" + 0.059*\"heurist\" + 0.055*\"tree\" + 0.054*\",\" + 0.046*\"game\" + 0.045*\"node\" + 0.041*\"algorithm\" + 0.040*\"move\" + 0.037*\"-\" + 0.029*\"binari\"\n"
     ]
    },
    {
     "name": "stderr",
     "output_type": "stream",
     "text": [
      "2022-02-28 18:58:22,776 : INFO : topic #1 (0.022): 0.273*\"languag\" + 0.081*\"structur\" + 0.068*\"program\" + 0.060*\",\" + 0.036*\"data\" + 0.030*\"-\" + 0.028*\"design\" + 0.027*\"syntax\" + 0.023*\"semant\" + 0.021*\"base\"\n",
      "2022-02-28 18:58:22,776 : INFO : topic #99 (0.027): 0.840*\"method\" + 0.133*\"'\" + 0.016*\"gauss\" + 0.001*\"algorithm\" + 0.000*\"(\" + 0.000*\")\" + 0.000*\"stage\" + 0.000*\"situat\" + 0.000*\"industri\" + 0.000*\"adapt\"\n",
      "2022-02-28 18:58:22,776 : INFO : topic #76 (0.069): 0.380*\"(\" + 0.360*\")\" + 0.228*\"algorithm\" + 0.012*\"-\" + 0.009*\"polynomi\" + 0.003*\"root\" + 0.002*\"program\" + 0.001*\"100\" + 0.000*\"integ\" + 0.000*\"coeffici\"\n",
      "2022-02-28 18:58:22,777 : INFO : topic diff=0.151431, rho=0.215156\n"
     ]
    },
    {
     "data": {
      "text/plain": [
       "[(0, 0.0060813488),\n",
       " (1, 0.009108911),\n",
       " (2, 0.005013737),\n",
       " (3, 0.0053368662),\n",
       " (4, 0.005702845),\n",
       " (5, 0.0063338196),\n",
       " (6, 0.0049501406),\n",
       " (7, 0.0050151884),\n",
       " (8, 0.0057261637),\n",
       " (9, 0.0057786424),\n",
       " (10, 0.005557782),\n",
       " (11, 0.0049439752),\n",
       " (12, 0.006505089),\n",
       " (13, 0.0044273753),\n",
       " (14, 0.0065673036),\n",
       " (15, 0.006057545),\n",
       " (16, 0.006298591),\n",
       " (17, 0.006795974),\n",
       " (18, 0.005000224),\n",
       " (19, 0.0052133407),\n",
       " (20, 0.00735491),\n",
       " (21, 0.0046285423),\n",
       " (22, 0.0056853746),\n",
       " (23, 0.004604923),\n",
       " (24, 0.0080228355),\n",
       " (25, 0.006397155),\n",
       " (26, 0.004911655),\n",
       " (27, 0.0054845884),\n",
       " (28, 0.005701939),\n",
       " (29, 0.004667546),\n",
       " (30, 0.0066099395),\n",
       " (31, 0.0044711437),\n",
       " (32, 0.0054489407),\n",
       " (33, 0.005550051),\n",
       " (34, 0.006229151),\n",
       " (35, 0.00610362),\n",
       " (36, 0.00597089),\n",
       " (37, 0.004603847),\n",
       " (38, 0.005906143),\n",
       " (39, 0.0059967274),\n",
       " (40, 0.0049156114),\n",
       " (41, 0.0061124093),\n",
       " (42, 0.0057198037),\n",
       " (43, 0.0053599193),\n",
       " (44, 0.005033198),\n",
       " (45, 0.41329798),\n",
       " (46, 0.006450369),\n",
       " (47, 0.0052014124),\n",
       " (48, 0.006274663),\n",
       " (49, 0.005685004),\n",
       " (50, 0.0050936695),\n",
       " (51, 0.0067063044),\n",
       " (52, 0.004474786),\n",
       " (53, 0.0047585154),\n",
       " (54, 0.0055720643),\n",
       " (55, 0.0059771882),\n",
       " (56, 0.0070253634),\n",
       " (57, 0.0059530498),\n",
       " (58, 0.0056184377),\n",
       " (59, 0.0051392876),\n",
       " (60, 0.0064736507),\n",
       " (61, 0.006139503),\n",
       " (62, 0.0055519748),\n",
       " (63, 0.006621694),\n",
       " (64, 0.004769257),\n",
       " (65, 0.0057316427),\n",
       " (66, 0.0073498734),\n",
       " (67, 0.0064254026),\n",
       " (68, 0.0046405485),\n",
       " (69, 0.0052982904),\n",
       " (70, 0.0075963037),\n",
       " (71, 0.004795072),\n",
       " (72, 0.0056421165),\n",
       " (73, 0.0056530377),\n",
       " (74, 0.0057751434),\n",
       " (75, 0.0057194065),\n",
       " (76, 0.028156474),\n",
       " (77, 0.0062129144),\n",
       " (78, 0.005472739),\n",
       " (79, 0.004379527),\n",
       " (80, 0.004583311),\n",
       " (81, 0.0046753413),\n",
       " (82, 0.0066371523),\n",
       " (83, 0.004650558),\n",
       " (84, 0.0054148147),\n",
       " (85, 0.0058584497),\n",
       " (86, 0.0055167316),\n",
       " (87, 0.005541335),\n",
       " (88, 0.0054031024),\n",
       " (89, 0.006656641),\n",
       " (90, 0.0049838093),\n",
       " (91, 0.004359819),\n",
       " (92, 0.0051886835),\n",
       " (93, 0.0050293873),\n",
       " (94, 0.0059282016),\n",
       " (95, 0.004490931),\n",
       " (96, 0.005072654),\n",
       " (97, 0.0048424634),\n",
       " (98, 0.004749167),\n",
       " (99, 0.010879032)]"
      ]
     },
     "execution_count": 85,
     "metadata": {},
     "output_type": "execute_result"
    }
   ],
   "source": [
    "##### Function check\n",
    "lda = LdaRetrievalModel(doc_repr_2)\n",
    "lda.train_model()\n",
    "\n",
    "# you can now get an LDA vector for a given query in the following way:\n",
    "lda.vectorize_query(\"report\")\n",
    "##### "
   ]
  },
  {
   "cell_type": "markdown",
   "metadata": {
    "deletable": false,
    "editable": false,
    "nbgrader": {
     "cell_type": "markdown",
     "checksum": "32d83b6ea79ca3ddb789a7f8805a1b25",
     "grade": false,
     "grade_id": "cell-0e24b727d5908c0e",
     "locked": true,
     "points": 5,
     "schema_version": 3,
     "solution": false,
     "task": true
    }
   },
   "source": [
    "\\#### Please do not change this. This cell is used for grading."
   ]
  },
  {
   "cell_type": "markdown",
   "metadata": {
    "deletable": false,
    "editable": false,
    "nbgrader": {
     "cell_type": "markdown",
     "checksum": "114a934f0b9ce696e6cf09d3b8da6a3d",
     "grade": false,
     "grade_id": "cell-b1bffcb970b18aeb",
     "locked": true,
     "schema_version": 3,
     "solution": false,
     "task": false
    }
   },
   "source": [
    "---\n",
    "Now we can use the `DenseRetrievalModel` class to obtain an LDA search function.\n",
    "You can test your LDA model in the following cell: Try finding queries which are lexically different to documents, but semantically similar - does LDA work well for these queries?!"
   ]
  },
  {
   "cell_type": "code",
   "execution_count": 86,
   "metadata": {},
   "outputs": [
    {
     "data": {
      "application/vnd.jupyter.widget-view+json": {
       "model_id": "52ac01143cf543049e1aba652f2316d1",
       "version_major": 2,
       "version_minor": 0
      },
      "text/plain": [
       "Text(value='', description='Search Bar')"
      ]
     },
     "metadata": {},
     "output_type": "display_data"
    }
   ],
   "source": [
    "drm_lda = DenseRetrievalRanker(lda, jenson_shannon_sim)\n",
    "\n",
    "# test your LDA model\n",
    "search_fn = drm_lda.search\n",
    "\n",
    "text = widgets.Text(description=\"Search Bar\", width=200)\n",
    "display(text)\n",
    "\n",
    "\n",
    "text.on_submit(handle_submit_2)"
   ]
  },
  {
   "cell_type": "markdown",
   "metadata": {
    "deletable": false,
    "editable": false,
    "nbgrader": {
     "cell_type": "markdown",
     "checksum": "9d7f15863b655119b45f4d89354e5661",
     "grade": false,
     "grade_id": "cell-190cd0854b2791cc",
     "locked": true,
     "schema_version": 3,
     "solution": false,
     "task": false
    }
   },
   "source": [
    "## Section 8: Word2Vec/Doc2Vec (20 points) <a class=\"anchor\" id=\"2vec\"></a>\n",
    "\n",
    "[Back to Part 2](#part2)\n",
    "\n",
    "We will implement two other methods here, the Word2Vec model and the Doc2Vec model, also using `gensim`. Word2Vec creates representations of words, not documents, so the word level vectors need to be aggregated to obtain a representation for the document. Here, we will simply take the mean of the vectors. \n",
    "\n",
    "\n",
    "A drawback of these models is that they need a lot of training data. Our dataset is tiny, so in addition to using a model trained on the data, we will also use a pre-trained model for Word2Vec (this will be automatically downloaded).     \n",
    "\n",
    "*Note*:\n",
    "1. The code in vectorize_documents / vectorize_query should return gensim-like vectors i.e `[(dim, val), .. (dim, val)]`. \n",
    "2. For Word2Vec: You should also handle the following two cases: (a) A word in the query is not present in the vocabulary of the model and (b) none of the words in the query are present in the model - you can return 0 scores for all documents in this case. For either of these, you can check if a `word` is present in the vocab by using `word in self.model`\n"
   ]
  },
  {
   "cell_type": "code",
   "execution_count": 87,
   "metadata": {
    "deletable": false,
    "nbgrader": {
     "cell_type": "code",
     "checksum": "83ab733608ed14c29c09b36b4e1b6daa",
     "grade": false,
     "grade_id": "cell-2b73759f9baf688f",
     "locked": false,
     "schema_version": 3,
     "solution": true,
     "task": false
    }
   },
   "outputs": [
    {
     "name": "stderr",
     "output_type": "stream",
     "text": [
      "2022-02-28 18:58:24,333 : INFO : adding document #0 to Dictionary(0 unique tokens: [])\n",
      "2022-02-28 18:58:24,438 : INFO : built Dictionary(5937 unique tokens: ['-', 'algebra', 'intern', 'languag', 'preliminari']...) from 3204 documents (total 115969 corpus positions)\n",
      "2022-02-28 18:58:24,443 : INFO : discarding 4740 tokens: [('repeat', 8), ('glossari', 7), ('inspect', 8), ('uncol', 2), ('rung', 9), ('secant', 2), ('.', 1603), ('acceler', 6), ('diverg', 3), ('induc', 9)]...\n",
      "2022-02-28 18:58:24,444 : INFO : keeping 1197 tokens which were in no less than 10 and no more than 1602 (=50.0%) documents\n",
      "2022-02-28 18:58:24,445 : INFO : resulting dictionary: Dictionary(1197 unique tokens: ['-', 'algebra', 'intern', 'languag', 'preliminari']...)\n",
      "2022-02-28 18:58:24,502 : INFO : collecting all words and their counts\n",
      "2022-02-28 18:58:24,503 : INFO : PROGRESS: at sentence #0, processed 0 words, keeping 0 word types\n",
      "2022-02-28 18:58:24,516 : INFO : collected 5937 word types from a corpus of 115969 raw words and 3204 sentences\n",
      "2022-02-28 18:58:24,517 : INFO : Loading a fresh vocabulary\n",
      "2022-02-28 18:58:24,525 : INFO : effective_min_count=1 retains 5937 unique words (100% of original 5937, drops 0)\n",
      "2022-02-28 18:58:24,526 : INFO : effective_min_count=1 leaves 115969 word corpus (100% of original 115969, drops 0)\n",
      "2022-02-28 18:58:24,540 : INFO : deleting the raw counts dictionary of 5937 items\n",
      "2022-02-28 18:58:24,541 : INFO : sample=0.001 downsamples 40 most-common words\n",
      "2022-02-28 18:58:24,541 : INFO : downsampling leaves estimated 92346 word corpus (79.6% of prior 115969)\n",
      "2022-02-28 18:58:24,553 : INFO : estimated required memory for 5937 words and 100 dimensions: 7718100 bytes\n",
      "2022-02-28 18:58:24,553 : INFO : resetting layer weights\n",
      "2022-02-28 18:58:25,402 : INFO : training model with 3 workers on 5937 vocabulary and 100 features, using sg=0 hs=0 sample=0.001 negative=5 window=5\n",
      "2022-02-28 18:58:25,446 : INFO : worker thread finished; awaiting finish of 2 more threads\n",
      "2022-02-28 18:58:25,449 : INFO : worker thread finished; awaiting finish of 1 more threads\n",
      "2022-02-28 18:58:25,450 : INFO : worker thread finished; awaiting finish of 0 more threads\n",
      "2022-02-28 18:58:25,450 : INFO : EPOCH - 1 : training on 115969 raw words (92241 effective words) took 0.0s, 2053373 effective words/s\n",
      "2022-02-28 18:58:25,498 : INFO : worker thread finished; awaiting finish of 2 more threads\n",
      "2022-02-28 18:58:25,499 : INFO : worker thread finished; awaiting finish of 1 more threads\n",
      "2022-02-28 18:58:25,500 : INFO : worker thread finished; awaiting finish of 0 more threads\n",
      "2022-02-28 18:58:25,501 : INFO : EPOCH - 2 : training on 115969 raw words (92259 effective words) took 0.0s, 2002874 effective words/s\n",
      "2022-02-28 18:58:25,546 : INFO : worker thread finished; awaiting finish of 2 more threads\n",
      "2022-02-28 18:58:25,549 : INFO : worker thread finished; awaiting finish of 1 more threads\n",
      "2022-02-28 18:58:25,551 : INFO : worker thread finished; awaiting finish of 0 more threads\n",
      "2022-02-28 18:58:25,551 : INFO : EPOCH - 3 : training on 115969 raw words (92331 effective words) took 0.0s, 1995155 effective words/s\n",
      "2022-02-28 18:58:25,596 : INFO : worker thread finished; awaiting finish of 2 more threads\n",
      "2022-02-28 18:58:25,599 : INFO : worker thread finished; awaiting finish of 1 more threads\n",
      "2022-02-28 18:58:25,600 : INFO : worker thread finished; awaiting finish of 0 more threads\n",
      "2022-02-28 18:58:25,600 : INFO : EPOCH - 4 : training on 115969 raw words (92419 effective words) took 0.0s, 2023342 effective words/s\n",
      "2022-02-28 18:58:25,648 : INFO : worker thread finished; awaiting finish of 2 more threads\n",
      "2022-02-28 18:58:25,649 : INFO : worker thread finished; awaiting finish of 1 more threads\n",
      "2022-02-28 18:58:25,650 : INFO : worker thread finished; awaiting finish of 0 more threads\n",
      "2022-02-28 18:58:25,650 : INFO : EPOCH - 5 : training on 115969 raw words (92376 effective words) took 0.0s, 1936669 effective words/s\n",
      "2022-02-28 18:58:25,651 : INFO : training on a 579845 raw words (461626 effective words) took 0.2s, 1853689 effective words/s\n"
     ]
    },
    {
     "data": {
      "text/plain": [
       "[(0, 0.01479952),\n",
       " (1, 0.40297824),\n",
       " (2, 0.394712),\n",
       " (3, 0.57084435),\n",
       " (4, -0.4843699),\n",
       " (5, 0.43493044),\n",
       " (6, 0.24219823),\n",
       " (7, -0.133998),\n",
       " (8, 0.23011169),\n",
       " (9, 0.028455539),\n",
       " (10, -0.38608652),\n",
       " (11, -0.04738128),\n",
       " (12, 0.30433217),\n",
       " (13, -0.98105556),\n",
       " (14, -0.657063),\n",
       " (15, -0.22850879),\n",
       " (16, 0.2511174),\n",
       " (17, -0.20571934),\n",
       " (18, -0.28264192),\n",
       " (19, -0.65582687),\n",
       " (20, -0.83804846),\n",
       " (21, -0.91337186),\n",
       " (22, -0.28997734),\n",
       " (23, -0.013643904),\n",
       " (24, -0.55125594),\n",
       " (25, -0.3361212),\n",
       " (26, -0.5373629),\n",
       " (27, -0.30257246),\n",
       " (28, 0.106650665),\n",
       " (29, 0.2337511),\n",
       " (30, -0.005321316),\n",
       " (31, -0.057479348),\n",
       " (32, 0.54217285),\n",
       " (33, 0.3167307),\n",
       " (34, -0.47675312),\n",
       " (35, -0.5103091),\n",
       " (36, 0.36506045),\n",
       " (37, 0.4962632),\n",
       " (38, 0.70765907),\n",
       " (39, 0.032150492),\n",
       " (40, 0.1889588),\n",
       " (41, 0.09400092),\n",
       " (42, -0.11475697),\n",
       " (43, -0.3050041),\n",
       " (44, -0.492599),\n",
       " (45, 0.40736392),\n",
       " (46, 0.2698361),\n",
       " (47, 0.069488905),\n",
       " (48, 0.44245225),\n",
       " (49, 0.18712403),\n",
       " (50, -0.88615197),\n",
       " (51, -0.6060885),\n",
       " (52, -0.08174198),\n",
       " (53, 0.2496007),\n",
       " (54, -0.27718437),\n",
       " (55, 0.18474253),\n",
       " (56, -0.039974187),\n",
       " (57, -0.5090845),\n",
       " (58, 0.09905442),\n",
       " (59, -0.22505641),\n",
       " (60, -0.55126566),\n",
       " (61, 0.0066701127),\n",
       " (62, -0.42508307),\n",
       " (63, 0.7857765),\n",
       " (64, -0.7545961),\n",
       " (65, 0.049027245),\n",
       " (66, 0.13917558),\n",
       " (67, 0.34153178),\n",
       " (68, -0.029715694),\n",
       " (69, 0.23195654),\n",
       " (70, -0.60679936),\n",
       " (71, -0.51792073),\n",
       " (72, -0.04927286),\n",
       " (73, 0.50655085),\n",
       " (74, -0.8518441),\n",
       " (75, -0.4065891),\n",
       " (76, 0.22919187),\n",
       " (77, 0.109874666),\n",
       " (78, -0.472728),\n",
       " (79, 0.51918477),\n",
       " (80, 0.5807007),\n",
       " (81, 0.5231591),\n",
       " (82, 0.009490923),\n",
       " (83, 0.018404659),\n",
       " (84, -0.09629082),\n",
       " (85, -0.11378883),\n",
       " (86, -0.51555896),\n",
       " (87, 0.5219429),\n",
       " (88, -0.7369243),\n",
       " (89, -0.2634485),\n",
       " (90, -0.29753882),\n",
       " (91, -0.6935491),\n",
       " (92, -0.03801318),\n",
       " (93, -0.23096912),\n",
       " (94, 0.47735766),\n",
       " (95, 1.374701),\n",
       " (96, 0.30012092),\n",
       " (97, -0.29690427),\n",
       " (98, -0.36907202),\n",
       " (99, -0.11778632)]"
      ]
     },
     "execution_count": 87,
     "metadata": {},
     "output_type": "execute_result"
    }
   ],
   "source": [
    "# TODO: Implement this! (10 points)\n",
    "class W2VRetrievalModel(VectorSpaceRetrievalModel):\n",
    "    def __init__(self, doc_repr):\n",
    "        super().__init__(doc_repr)\n",
    "        \n",
    "        # the dimensionality of the vectors\n",
    "        self.size = 100 \n",
    "        self.min_count = 1\n",
    "    \n",
    "    def train_model(self):\n",
    "        \"\"\"\n",
    "        Trains the W2V model\n",
    "        \"\"\"\n",
    "        # YOUR CODE HERE\n",
    "        self.model = Word2Vec(sentences = self.documents,\n",
    "                              size = self.size, \n",
    "                              window = 5, \n",
    "                              min_count = self.min_count)\n",
    "        return self.model\n",
    "    \n",
    "        \n",
    "    def vectorize_documents(self):\n",
    "        \"\"\"\n",
    "            Returns a doc_id -> vector dictionary\n",
    "        \"\"\"\n",
    "        # YOUR CODE HERE\n",
    "        v = {}\n",
    "        \n",
    "        for document_id, token in self.doc_repr:\n",
    "            l1 = []\n",
    "            for word in token:\n",
    "                if word in self.model.wv.vocab:\n",
    "                    vec = self.model.wv[word]\n",
    "                    l1.append(vec)\n",
    "                else:\n",
    "                    l1.append(np.zeros((self.size)))\n",
    "            mean_vector = np.mean(np.array(l1), axis=0)\n",
    "            v[document_id] = list(enumerate(mean_vector))\n",
    "        return v\n",
    "\n",
    "    def vectorize_query(self, query):\n",
    "        \"\"\"\n",
    "        Vectorizes the query using the W2V model\n",
    "        \"\"\"\n",
    "        query = process_text(query, **config_2)\n",
    "        \n",
    "        # YOUR CODE HERE\n",
    "        l1 = []\n",
    "        for word in query:\n",
    "            if word in self.model.wv.vocab:\n",
    "                v = self.model.wv[word]\n",
    "                l1.append(v)\n",
    "#             else:\n",
    "#                 l1.append(np.zeros((self.size)))\n",
    "        if l1:\n",
    "            vec_query = list(enumerate(np.mean(np.array(l1), axis=0)))\n",
    "        else:\n",
    "            vec_query = list(enumerate(np.zeros((self.size))))\n",
    "        \n",
    "        return vec_query\n",
    "    \n",
    "    \n",
    "class W2VPretrainedRetrievalModel(W2VRetrievalModel):\n",
    "    def __init__(self, doc_repr):\n",
    "        super().__init__(doc_repr)\n",
    "        self.model_name = \"word2vec-google-news-300\"\n",
    "        self.size = 300\n",
    "    \n",
    "    def train_model(self):\n",
    "        \"\"\"\n",
    "        Loads the pretrained model\n",
    "        \"\"\"\n",
    "        self.model = g_downloader.load(self.model_name)\n",
    "\n",
    "w2v = W2VRetrievalModel(doc_repr_2)\n",
    "w2v.train_model()\n",
    "\n",
    "# you can now get a W2V vector for a given query in the following way:\n",
    "w2v.vectorize_query(\"report\")"
   ]
  },
  {
   "cell_type": "code",
   "execution_count": 88,
   "metadata": {
    "deletable": false,
    "editable": false,
    "nbgrader": {
     "cell_type": "code",
     "checksum": "f92b5c5a8c6c4b80652b94223209ab0b",
     "grade": true,
     "grade_id": "cell-b31c0f8d214b8bdf",
     "locked": true,
     "points": 0,
     "schema_version": 3,
     "solution": false,
     "task": false
    }
   },
   "outputs": [],
   "source": [
    "assert len(w2v.vectorize_query(\"report\")) == 100\n",
    "assert len(w2v.vectorize_query(\"this is a sentence that is not mellifluous\")) == 100\n"
   ]
  },
  {
   "cell_type": "markdown",
   "metadata": {
    "deletable": false,
    "editable": false,
    "nbgrader": {
     "cell_type": "markdown",
     "checksum": "8dfaabebcb06f308a7ca61fdc5d369e7",
     "grade": false,
     "grade_id": "cell-c2614fa067386384",
     "locked": true,
     "points": 8,
     "schema_version": 3,
     "solution": false,
     "task": true
    }
   },
   "source": [
    "\\#### Please do not change this. This cell is used for grading."
   ]
  },
  {
   "cell_type": "code",
   "execution_count": 89,
   "metadata": {},
   "outputs": [
    {
     "name": "stderr",
     "output_type": "stream",
     "text": [
      "2022-02-28 18:58:25,686 : INFO : adding document #0 to Dictionary(0 unique tokens: [])\n",
      "2022-02-28 18:58:25,792 : INFO : built Dictionary(5937 unique tokens: ['-', 'algebra', 'intern', 'languag', 'preliminari']...) from 3204 documents (total 115969 corpus positions)\n",
      "2022-02-28 18:58:25,797 : INFO : discarding 4740 tokens: [('repeat', 8), ('glossari', 7), ('inspect', 8), ('uncol', 2), ('rung', 9), ('secant', 2), ('.', 1603), ('acceler', 6), ('diverg', 3), ('induc', 9)]...\n",
      "2022-02-28 18:58:25,797 : INFO : keeping 1197 tokens which were in no less than 10 and no more than 1602 (=50.0%) documents\n",
      "2022-02-28 18:58:25,799 : INFO : resulting dictionary: Dictionary(1197 unique tokens: ['-', 'algebra', 'intern', 'languag', 'preliminari']...)\n",
      "2022-02-28 18:58:26,842 : INFO : loading projection weights from C:\\Users\\Ankit/gensim-data\\word2vec-google-news-300\\word2vec-google-news-300.gz\n",
      "2022-02-28 18:58:58,147 : INFO : loaded (3000000, 300) matrix from C:\\Users\\Ankit/gensim-data\\word2vec-google-news-300\\word2vec-google-news-300.gz\n",
      "C:\\Users\\Ankit\\anaconda3\\envs\\ir_env\\lib\\site-packages\\ipykernel_launcher.py:50: DeprecationWarning: Call to deprecated `wv` (Attribute will be removed in 4.0.0, use self instead).\n",
      "C:\\Users\\Ankit\\anaconda3\\envs\\ir_env\\lib\\site-packages\\ipykernel_launcher.py:51: DeprecationWarning: Call to deprecated `wv` (Attribute will be removed in 4.0.0, use self instead).\n"
     ]
    },
    {
     "data": {
      "text/plain": [
       "[(0, -0.14257812),\n",
       " (1, -0.1640625),\n",
       " (2, -0.09033203),\n",
       " (3, -0.11230469),\n",
       " (4, 0.100097656),\n",
       " (5, -0.041259766),\n",
       " (6, 0.048828125),\n",
       " (7, -0.13671875),\n",
       " (8, 0.19628906),\n",
       " (9, -0.13476562),\n",
       " (10, -0.017578125),\n",
       " (11, 0.032226562),\n",
       " (12, 0.095214844),\n",
       " (13, -0.10595703),\n",
       " (14, -0.16992188),\n",
       " (15, 0.041015625),\n",
       " (16, -0.26367188),\n",
       " (17, -0.0063171387),\n",
       " (18, -0.17773438),\n",
       " (19, -0.24023438),\n",
       " (20, 0.3515625),\n",
       " (21, -0.012207031),\n",
       " (22, -0.16210938),\n",
       " (23, -0.12060547),\n",
       " (24, 0.04321289),\n",
       " (25, 0.10986328),\n",
       " (26, 0.052490234),\n",
       " (27, 0.17871094),\n",
       " (28, -0.14550781),\n",
       " (29, 0.13769531),\n",
       " (30, -0.08203125),\n",
       " (31, -0.28320312),\n",
       " (32, -0.10888672),\n",
       " (33, -0.2890625),\n",
       " (34, 0.072265625),\n",
       " (35, -0.04736328),\n",
       " (36, 0.040283203),\n",
       " (37, 0.067871094),\n",
       " (38, 0.11669922),\n",
       " (39, 0.000831604),\n",
       " (40, 0.068359375),\n",
       " (41, 0.12011719),\n",
       " (42, -0.088378906),\n",
       " (43, 0.33789062),\n",
       " (44, -0.044677734),\n",
       " (45, -0.030151367),\n",
       " (46, 0.0076904297),\n",
       " (47, -0.021118164),\n",
       " (48, -0.25390625),\n",
       " (49, 0.14941406),\n",
       " (50, 0.3984375),\n",
       " (51, 0.021606445),\n",
       " (52, -0.02319336),\n",
       " (53, 0.0063476562),\n",
       " (54, 0.008239746),\n",
       " (55, -0.16894531),\n",
       " (56, 0.037353516),\n",
       " (57, -0.06347656),\n",
       " (58, 0.1171875),\n",
       " (59, -0.1484375),\n",
       " (60, -0.07861328),\n",
       " (61, 0.36914062),\n",
       " (62, -0.22460938),\n",
       " (63, 0.17382812),\n",
       " (64, 0.0138549805),\n",
       " (65, 0.1875),\n",
       " (66, -0.10107422),\n",
       " (67, 0.037841797),\n",
       " (68, 0.0021209717),\n",
       " (69, -0.05126953),\n",
       " (70, 0.096191406),\n",
       " (71, -0.057128906),\n",
       " (72, 0.10595703),\n",
       " (73, -0.020996094),\n",
       " (74, 0.16113281),\n",
       " (75, 0.09765625),\n",
       " (76, 0.038330078),\n",
       " (77, 0.21972656),\n",
       " (78, 0.10644531),\n",
       " (79, 0.0859375),\n",
       " (80, 0.1796875),\n",
       " (81, -0.08300781),\n",
       " (82, -0.033203125),\n",
       " (83, 0.041015625),\n",
       " (84, -0.064941406),\n",
       " (85, 0.019897461),\n",
       " (86, 0.13378906),\n",
       " (87, -0.09765625),\n",
       " (88, -0.19335938),\n",
       " (89, -0.23535156),\n",
       " (90, 0.19042969),\n",
       " (91, 0.0024871826),\n",
       " (92, -0.01574707),\n",
       " (93, 0.032226562),\n",
       " (94, -0.21972656),\n",
       " (95, -0.091308594),\n",
       " (96, 0.021240234),\n",
       " (97, 0.15820312),\n",
       " (98, 0.29882812),\n",
       " (99, -0.328125),\n",
       " (100, 0.057373047),\n",
       " (101, -0.04638672),\n",
       " (102, 0.11328125),\n",
       " (103, -0.1015625),\n",
       " (104, 0.18066406),\n",
       " (105, -0.025146484),\n",
       " (106, -0.16601562),\n",
       " (107, -0.096191406),\n",
       " (108, 0.018798828),\n",
       " (109, -0.19433594),\n",
       " (110, 0.14941406),\n",
       " (111, -0.056640625),\n",
       " (112, -0.106933594),\n",
       " (113, -0.15039062),\n",
       " (114, -0.17578125),\n",
       " (115, 0.11279297),\n",
       " (116, 0.049316406),\n",
       " (117, 0.21972656),\n",
       " (118, 0.31835938),\n",
       " (119, 0.15722656),\n",
       " (120, -0.29296875),\n",
       " (121, 0.10498047),\n",
       " (122, -0.296875),\n",
       " (123, -0.013427734),\n",
       " (124, 0.09082031),\n",
       " (125, 0.012573242),\n",
       " (126, -0.051513672),\n",
       " (127, -0.12890625),\n",
       " (128, 0.014465332),\n",
       " (129, 0.12060547),\n",
       " (130, -0.10107422),\n",
       " (131, -0.111328125),\n",
       " (132, 0.063964844),\n",
       " (133, -0.052978516),\n",
       " (134, -0.04321289),\n",
       " (135, -0.012939453),\n",
       " (136, -0.02758789),\n",
       " (137, -0.09716797),\n",
       " (138, -0.20214844),\n",
       " (139, 0.123046875),\n",
       " (140, -0.04248047),\n",
       " (141, 0.17382812),\n",
       " (142, -0.013671875),\n",
       " (143, 0.1015625),\n",
       " (144, -0.0009384155),\n",
       " (145, -0.03564453),\n",
       " (146, 0.30078125),\n",
       " (147, -0.068359375),\n",
       " (148, -0.056152344),\n",
       " (149, 0.037597656),\n",
       " (150, 0.06591797),\n",
       " (151, 0.040283203),\n",
       " (152, 0.0119018555),\n",
       " (153, 0.096191406),\n",
       " (154, 0.3671875),\n",
       " (155, -0.27929688),\n",
       " (156, -0.052001953),\n",
       " (157, -0.106933594),\n",
       " (158, -0.13476562),\n",
       " (159, -0.046142578),\n",
       " (160, 0.25),\n",
       " (161, 0.0056762695),\n",
       " (162, -0.014404297),\n",
       " (163, -0.03100586),\n",
       " (164, -0.060302734),\n",
       " (165, 0.10595703),\n",
       " (166, 0.37890625),\n",
       " (167, 0.05883789),\n",
       " (168, 0.123046875),\n",
       " (169, -0.115234375),\n",
       " (170, 0.14941406),\n",
       " (171, -0.1640625),\n",
       " (172, -0.23339844),\n",
       " (173, -0.07763672),\n",
       " (174, 0.026733398),\n",
       " (175, -0.021118164),\n",
       " (176, 0.19433594),\n",
       " (177, -0.056152344),\n",
       " (178, -0.006439209),\n",
       " (179, -0.16992188),\n",
       " (180, -0.118652344),\n",
       " (181, -0.06738281),\n",
       " (182, -0.068847656),\n",
       " (183, -0.08691406),\n",
       " (184, -0.1015625),\n",
       " (185, 0.014160156),\n",
       " (186, -0.20117188),\n",
       " (187, 0.09814453),\n",
       " (188, -0.010253906),\n",
       " (189, 0.1875),\n",
       " (190, 0.19628906),\n",
       " (191, -0.22070312),\n",
       " (192, -0.19628906),\n",
       " (193, -0.07373047),\n",
       " (194, 0.06640625),\n",
       " (195, -0.13378906),\n",
       " (196, 0.18359375),\n",
       " (197, -0.20019531),\n",
       " (198, 0.19824219),\n",
       " (199, 0.05029297),\n",
       " (200, 0.029907227),\n",
       " (201, 0.017700195),\n",
       " (202, -0.19335938),\n",
       " (203, -0.096191406),\n",
       " (204, -0.10253906),\n",
       " (205, 0.21289062),\n",
       " (206, -0.029907227),\n",
       " (207, 0.14355469),\n",
       " (208, 0.041015625),\n",
       " (209, -0.21191406),\n",
       " (210, 0.20800781),\n",
       " (211, 0.13769531),\n",
       " (212, -0.01965332),\n",
       " (213, 0.014953613),\n",
       " (214, -0.09765625),\n",
       " (215, 0.24316406),\n",
       " (216, 0.080078125),\n",
       " (217, 0.08251953),\n",
       " (218, 0.09863281),\n",
       " (219, 0.056884766),\n",
       " (220, 0.04248047),\n",
       " (221, 0.068847656),\n",
       " (222, -0.03540039),\n",
       " (223, -0.076171875),\n",
       " (224, -0.00016117096),\n",
       " (225, -0.07519531),\n",
       " (226, 0.22460938),\n",
       " (227, 0.15136719),\n",
       " (228, 0.10058594),\n",
       " (229, 0.10986328),\n",
       " (230, 0.023803711),\n",
       " (231, 0.088378906),\n",
       " (232, 0.061767578),\n",
       " (233, -0.107910156),\n",
       " (234, 0.06225586),\n",
       " (235, 0.0034332275),\n",
       " (236, 0.080566406),\n",
       " (237, 0.106933594),\n",
       " (238, 0.08886719),\n",
       " (239, -0.23730469),\n",
       " (240, 0.064941406),\n",
       " (241, 0.010192871),\n",
       " (242, -0.088378906),\n",
       " (243, -0.33203125),\n",
       " (244, 0.0046691895),\n",
       " (245, 0.21289062),\n",
       " (246, 0.0859375),\n",
       " (247, 0.020385742),\n",
       " (248, 0.045654297),\n",
       " (249, 0.1484375),\n",
       " (250, 0.11816406),\n",
       " (251, 0.055664062),\n",
       " (252, -0.17285156),\n",
       " (253, -0.125),\n",
       " (254, -0.025390625),\n",
       " (255, -0.31835938),\n",
       " (256, 0.03112793),\n",
       " (257, 0.0859375),\n",
       " (258, -0.041992188),\n",
       " (259, 0.15625),\n",
       " (260, 0.16113281),\n",
       " (261, 0.19824219),\n",
       " (262, -0.100097656),\n",
       " (263, 0.203125),\n",
       " (264, 0.12890625),\n",
       " (265, 0.23339844),\n",
       " (266, -0.26757812),\n",
       " (267, 0.05517578),\n",
       " (268, 0.048828125),\n",
       " (269, 0.072265625),\n",
       " (270, 0.24414062),\n",
       " (271, 0.24414062),\n",
       " (272, 0.056884766),\n",
       " (273, -0.0546875),\n",
       " (274, -0.033691406),\n",
       " (275, -0.12060547),\n",
       " (276, 0.03491211),\n",
       " (277, -0.14550781),\n",
       " (278, 0.087402344),\n",
       " (279, -0.08300781),\n",
       " (280, 0.017211914),\n",
       " (281, 0.14355469),\n",
       " (282, -0.122558594),\n",
       " (283, 0.1796875),\n",
       " (284, 0.13085938),\n",
       " (285, -0.16503906),\n",
       " (286, 0.012756348),\n",
       " (287, 0.16015625),\n",
       " (288, -0.03112793),\n",
       " (289, 0.08203125),\n",
       " (290, 0.17382812),\n",
       " (291, -0.16796875),\n",
       " (292, 0.13085938),\n",
       " (293, 0.08544922),\n",
       " (294, -0.2109375),\n",
       " (295, -0.13085938),\n",
       " (296, -0.028930664),\n",
       " (297, -0.10546875),\n",
       " (298, 0.084472656),\n",
       " (299, -0.14160156)]"
      ]
     },
     "execution_count": 89,
     "metadata": {},
     "output_type": "execute_result"
    }
   ],
   "source": [
    "w2v_pretrained = W2VPretrainedRetrievalModel(doc_repr_2)\n",
    "w2v_pretrained.train_model()\n",
    "\n",
    "# you can now get an W2V vector for a given query in the following way:\n",
    "w2v_pretrained.vectorize_query(\"report\")"
   ]
  },
  {
   "cell_type": "code",
   "execution_count": 90,
   "metadata": {
    "deletable": false,
    "editable": false,
    "nbgrader": {
     "cell_type": "code",
     "checksum": "0822845afb5eafe5ddb1ffeaa4f4942a",
     "grade": true,
     "grade_id": "cell-1b1466f8ce516f42",
     "locked": true,
     "points": 2,
     "schema_version": 3,
     "solution": false,
     "task": false
    }
   },
   "outputs": [
    {
     "name": "stdout",
     "output_type": "stream",
     "text": [
      "300\n"
     ]
    },
    {
     "name": "stderr",
     "output_type": "stream",
     "text": [
      "C:\\Users\\Ankit\\anaconda3\\envs\\ir_env\\lib\\site-packages\\ipykernel_launcher.py:50: DeprecationWarning: Call to deprecated `wv` (Attribute will be removed in 4.0.0, use self instead).\n",
      "C:\\Users\\Ankit\\anaconda3\\envs\\ir_env\\lib\\site-packages\\ipykernel_launcher.py:51: DeprecationWarning: Call to deprecated `wv` (Attribute will be removed in 4.0.0, use self instead).\n"
     ]
    }
   ],
   "source": [
    "##### Function check\n",
    "\n",
    "print(len(w2v_pretrained.vectorize_query(\"report\")))\n",
    "#####"
   ]
  },
  {
   "cell_type": "code",
   "execution_count": 91,
   "metadata": {},
   "outputs": [
    {
     "data": {
      "application/vnd.jupyter.widget-view+json": {
       "model_id": "99eccc2a5507418c928c964d06a141d9",
       "version_major": 2,
       "version_minor": 0
      },
      "text/plain": [
       "Text(value='', description='Search Bar')"
      ]
     },
     "metadata": {},
     "output_type": "display_data"
    }
   ],
   "source": [
    "drm_w2v = DenseRetrievalRanker(w2v, cosine_sim)\n",
    "\n",
    "# test your LDA model\n",
    "search_fn = drm_w2v.search\n",
    "\n",
    "text = widgets.Text(description=\"Search Bar\", width=200)\n",
    "display(text)\n",
    "\n",
    "\n",
    "text.on_submit(handle_submit_2)"
   ]
  },
  {
   "cell_type": "code",
   "execution_count": 92,
   "metadata": {},
   "outputs": [
    {
     "name": "stderr",
     "output_type": "stream",
     "text": [
      "C:\\Users\\Ankit\\anaconda3\\envs\\ir_env\\lib\\site-packages\\ipykernel_launcher.py:32: DeprecationWarning: Call to deprecated `wv` (Attribute will be removed in 4.0.0, use self instead).\n",
      "C:\\Users\\Ankit\\anaconda3\\envs\\ir_env\\lib\\site-packages\\ipykernel_launcher.py:33: DeprecationWarning: Call to deprecated `wv` (Attribute will be removed in 4.0.0, use self instead).\n"
     ]
    },
    {
     "data": {
      "application/vnd.jupyter.widget-view+json": {
       "model_id": "b6be442c3aac441a991eaeaa9cdbdb1c",
       "version_major": 2,
       "version_minor": 0
      },
      "text/plain": [
       "Text(value='', description='Search Bar')"
      ]
     },
     "metadata": {},
     "output_type": "display_data"
    }
   ],
   "source": [
    "drm_w2v_pretrained = DenseRetrievalRanker(w2v_pretrained, cosine_sim)\n",
    "\n",
    "# test your LDA model\n",
    "search_fn = drm_w2v_pretrained.search\n",
    "\n",
    "text = widgets.Text(description=\"Search Bar\", width=200)\n",
    "display(text)\n",
    "\n",
    "\n",
    "text.on_submit(handle_submit_2)"
   ]
  },
  {
   "cell_type": "markdown",
   "metadata": {
    "deletable": false,
    "editable": false,
    "nbgrader": {
     "cell_type": "markdown",
     "checksum": "51b778984fd60757974f51047c61eb15",
     "grade": false,
     "grade_id": "cell-b92f701cbc706108",
     "locked": true,
     "schema_version": 3,
     "solution": false,
     "task": false
    }
   },
   "source": [
    "**Implementation (10 points):**\n",
    "For Doc2Vec, you will need to create a list of `TaggedDocument` instead of using the `self.corpus` or `self.documents` variable. Use the document id as the 'tag'.\n",
    "  "
   ]
  },
  {
   "cell_type": "code",
   "execution_count": 93,
   "metadata": {
    "deletable": false,
    "nbgrader": {
     "cell_type": "code",
     "checksum": "1f60fdeb97febb7f4a6fd5bf109aac20",
     "grade": false,
     "grade_id": "cell-680facdcc98a19ab",
     "locked": false,
     "schema_version": 3,
     "solution": true,
     "task": false
    }
   },
   "outputs": [
    {
     "name": "stderr",
     "output_type": "stream",
     "text": [
      "2022-02-28 18:58:59,254 : INFO : adding document #0 to Dictionary(0 unique tokens: [])\n",
      "2022-02-28 18:58:59,360 : INFO : built Dictionary(5937 unique tokens: ['-', 'algebra', 'intern', 'languag', 'preliminari']...) from 3204 documents (total 115969 corpus positions)\n",
      "2022-02-28 18:58:59,365 : INFO : discarding 4740 tokens: [('repeat', 8), ('glossari', 7), ('inspect', 8), ('uncol', 2), ('rung', 9), ('secant', 2), ('.', 1603), ('acceler', 6), ('diverg', 3), ('induc', 9)]...\n",
      "2022-02-28 18:58:59,366 : INFO : keeping 1197 tokens which were in no less than 10 and no more than 1602 (=50.0%) documents\n",
      "2022-02-28 18:58:59,368 : INFO : resulting dictionary: Dictionary(1197 unique tokens: ['-', 'algebra', 'intern', 'languag', 'preliminari']...)\n",
      "2022-02-28 18:58:59,427 : INFO : collecting all words and their counts\n",
      "2022-02-28 18:58:59,428 : INFO : PROGRESS: at example #0, processed 0 words (0/s), 0 word types, 0 tags\n",
      "2022-02-28 18:58:59,447 : INFO : collected 5937 word types and 3204 unique tags from a corpus of 3204 examples and 115969 words\n",
      "2022-02-28 18:58:59,448 : INFO : Loading a fresh vocabulary\n",
      "2022-02-28 18:58:59,456 : INFO : effective_min_count=1 retains 5937 unique words (100% of original 5937, drops 0)\n",
      "2022-02-28 18:58:59,456 : INFO : effective_min_count=1 leaves 115969 word corpus (100% of original 115969, drops 0)\n",
      "2022-02-28 18:58:59,470 : INFO : deleting the raw counts dictionary of 5937 items\n",
      "2022-02-28 18:58:59,471 : INFO : sample=0.001 downsamples 40 most-common words\n",
      "2022-02-28 18:58:59,471 : INFO : downsampling leaves estimated 92346 word corpus (79.6% of prior 115969)\n",
      "2022-02-28 18:58:59,481 : INFO : estimated required memory for 5937 words and 100 dimensions: 9640500 bytes\n",
      "2022-02-28 18:58:59,482 : INFO : resetting layer weights\n",
      "2022-02-28 18:59:00,837 : INFO : training model with 3 workers on 5937 vocabulary and 100 features, using sg=0 hs=0 sample=0.001 negative=5 window=5\n",
      "2022-02-28 18:59:01,061 : INFO : worker thread finished; awaiting finish of 2 more threads\n",
      "2022-02-28 18:59:01,062 : INFO : worker thread finished; awaiting finish of 1 more threads\n",
      "2022-02-28 18:59:01,066 : INFO : worker thread finished; awaiting finish of 0 more threads\n",
      "2022-02-28 18:59:01,066 : INFO : EPOCH - 1 : training on 115969 raw words (95412 effective words) took 0.2s, 426423 effective words/s\n",
      "2022-02-28 18:59:01,302 : INFO : worker thread finished; awaiting finish of 2 more threads\n",
      "2022-02-28 18:59:01,307 : INFO : worker thread finished; awaiting finish of 1 more threads\n",
      "2022-02-28 18:59:01,310 : INFO : worker thread finished; awaiting finish of 0 more threads\n",
      "2022-02-28 18:59:01,310 : INFO : EPOCH - 2 : training on 115969 raw words (95455 effective words) took 0.2s, 396661 effective words/s\n",
      "2022-02-28 18:59:01,524 : INFO : worker thread finished; awaiting finish of 2 more threads\n",
      "2022-02-28 18:59:01,530 : INFO : worker thread finished; awaiting finish of 1 more threads\n",
      "2022-02-28 18:59:01,538 : INFO : worker thread finished; awaiting finish of 0 more threads\n",
      "2022-02-28 18:59:01,539 : INFO : EPOCH - 3 : training on 115969 raw words (95691 effective words) took 0.2s, 424845 effective words/s\n",
      "2022-02-28 18:59:01,763 : INFO : worker thread finished; awaiting finish of 2 more threads\n",
      "2022-02-28 18:59:01,764 : INFO : worker thread finished; awaiting finish of 1 more threads\n",
      "2022-02-28 18:59:01,768 : INFO : worker thread finished; awaiting finish of 0 more threads\n",
      "2022-02-28 18:59:01,768 : INFO : EPOCH - 4 : training on 115969 raw words (95516 effective words) took 0.2s, 424140 effective words/s\n",
      "2022-02-28 18:59:01,980 : INFO : worker thread finished; awaiting finish of 2 more threads\n",
      "2022-02-28 18:59:01,987 : INFO : worker thread finished; awaiting finish of 1 more threads\n",
      "2022-02-28 18:59:01,988 : INFO : worker thread finished; awaiting finish of 0 more threads\n",
      "2022-02-28 18:59:01,988 : INFO : EPOCH - 5 : training on 115969 raw words (95568 effective words) took 0.2s, 440452 effective words/s\n",
      "2022-02-28 18:59:02,206 : INFO : worker thread finished; awaiting finish of 2 more threads\n",
      "2022-02-28 18:59:02,215 : INFO : worker thread finished; awaiting finish of 1 more threads\n",
      "2022-02-28 18:59:02,216 : INFO : worker thread finished; awaiting finish of 0 more threads\n",
      "2022-02-28 18:59:02,216 : INFO : EPOCH - 6 : training on 115969 raw words (95426 effective words) took 0.2s, 425715 effective words/s\n",
      "2022-02-28 18:59:02,428 : INFO : worker thread finished; awaiting finish of 2 more threads\n",
      "2022-02-28 18:59:02,431 : INFO : worker thread finished; awaiting finish of 1 more threads\n",
      "2022-02-28 18:59:02,439 : INFO : worker thread finished; awaiting finish of 0 more threads\n",
      "2022-02-28 18:59:02,440 : INFO : EPOCH - 7 : training on 115969 raw words (95565 effective words) took 0.2s, 434526 effective words/s\n",
      "2022-02-28 18:59:02,685 : INFO : worker thread finished; awaiting finish of 2 more threads\n",
      "2022-02-28 18:59:02,686 : INFO : worker thread finished; awaiting finish of 1 more threads\n",
      "2022-02-28 18:59:02,693 : INFO : worker thread finished; awaiting finish of 0 more threads\n",
      "2022-02-28 18:59:02,694 : INFO : EPOCH - 8 : training on 115969 raw words (95474 effective words) took 0.3s, 381129 effective words/s\n",
      "2022-02-28 18:59:02,921 : INFO : worker thread finished; awaiting finish of 2 more threads\n",
      "2022-02-28 18:59:02,922 : INFO : worker thread finished; awaiting finish of 1 more threads\n",
      "2022-02-28 18:59:02,924 : INFO : worker thread finished; awaiting finish of 0 more threads\n",
      "2022-02-28 18:59:02,924 : INFO : EPOCH - 9 : training on 115969 raw words (95445 effective words) took 0.2s, 420371 effective words/s\n",
      "2022-02-28 18:59:03,144 : INFO : worker thread finished; awaiting finish of 2 more threads\n",
      "2022-02-28 18:59:03,145 : INFO : worker thread finished; awaiting finish of 1 more threads\n",
      "2022-02-28 18:59:03,151 : INFO : worker thread finished; awaiting finish of 0 more threads\n",
      "2022-02-28 18:59:03,151 : INFO : EPOCH - 10 : training on 115969 raw words (95486 effective words) took 0.2s, 427473 effective words/s\n",
      "2022-02-28 18:59:03,376 : INFO : worker thread finished; awaiting finish of 2 more threads\n",
      "2022-02-28 18:59:03,380 : INFO : worker thread finished; awaiting finish of 1 more threads\n",
      "2022-02-28 18:59:03,386 : INFO : worker thread finished; awaiting finish of 0 more threads\n",
      "2022-02-28 18:59:03,387 : INFO : EPOCH - 11 : training on 115969 raw words (95543 effective words) took 0.2s, 411920 effective words/s\n",
      "2022-02-28 18:59:03,623 : INFO : worker thread finished; awaiting finish of 2 more threads\n",
      "2022-02-28 18:59:03,626 : INFO : worker thread finished; awaiting finish of 1 more threads\n",
      "2022-02-28 18:59:03,629 : INFO : worker thread finished; awaiting finish of 0 more threads\n",
      "2022-02-28 18:59:03,629 : INFO : EPOCH - 12 : training on 115969 raw words (95568 effective words) took 0.2s, 399828 effective words/s\n",
      "2022-02-28 18:59:03,842 : INFO : worker thread finished; awaiting finish of 2 more threads\n",
      "2022-02-28 18:59:03,846 : INFO : worker thread finished; awaiting finish of 1 more threads\n",
      "2022-02-28 18:59:03,855 : INFO : worker thread finished; awaiting finish of 0 more threads\n",
      "2022-02-28 18:59:03,856 : INFO : EPOCH - 13 : training on 115969 raw words (95506 effective words) took 0.2s, 428123 effective words/s\n",
      "2022-02-28 18:59:04,083 : INFO : worker thread finished; awaiting finish of 2 more threads\n",
      "2022-02-28 18:59:04,091 : INFO : worker thread finished; awaiting finish of 1 more threads\n",
      "2022-02-28 18:59:04,094 : INFO : worker thread finished; awaiting finish of 0 more threads\n",
      "2022-02-28 18:59:04,094 : INFO : EPOCH - 14 : training on 115969 raw words (95397 effective words) took 0.2s, 406894 effective words/s\n",
      "2022-02-28 18:59:04,310 : INFO : worker thread finished; awaiting finish of 2 more threads\n",
      "2022-02-28 18:59:04,319 : INFO : worker thread finished; awaiting finish of 1 more threads\n",
      "2022-02-28 18:59:04,319 : INFO : worker thread finished; awaiting finish of 0 more threads\n",
      "2022-02-28 18:59:04,320 : INFO : EPOCH - 15 : training on 115969 raw words (95452 effective words) took 0.2s, 430388 effective words/s\n",
      "2022-02-28 18:59:04,541 : INFO : worker thread finished; awaiting finish of 2 more threads\n",
      "2022-02-28 18:59:04,543 : INFO : worker thread finished; awaiting finish of 1 more threads\n"
     ]
    },
    {
     "name": "stderr",
     "output_type": "stream",
     "text": [
      "2022-02-28 18:59:04,548 : INFO : worker thread finished; awaiting finish of 0 more threads\n",
      "2022-02-28 18:59:04,548 : INFO : EPOCH - 16 : training on 115969 raw words (95779 effective words) took 0.2s, 426572 effective words/s\n",
      "2022-02-28 18:59:04,755 : INFO : worker thread finished; awaiting finish of 2 more threads\n",
      "2022-02-28 18:59:04,770 : INFO : worker thread finished; awaiting finish of 1 more threads\n",
      "2022-02-28 18:59:04,772 : INFO : worker thread finished; awaiting finish of 0 more threads\n",
      "2022-02-28 18:59:04,773 : INFO : EPOCH - 17 : training on 115969 raw words (95683 effective words) took 0.2s, 432641 effective words/s\n",
      "2022-02-28 18:59:04,995 : INFO : worker thread finished; awaiting finish of 2 more threads\n",
      "2022-02-28 18:59:05,003 : INFO : worker thread finished; awaiting finish of 1 more threads\n",
      "2022-02-28 18:59:05,006 : INFO : worker thread finished; awaiting finish of 0 more threads\n",
      "2022-02-28 18:59:05,006 : INFO : EPOCH - 18 : training on 115969 raw words (95584 effective words) took 0.2s, 417307 effective words/s\n",
      "2022-02-28 18:59:05,224 : INFO : worker thread finished; awaiting finish of 2 more threads\n",
      "2022-02-28 18:59:05,226 : INFO : worker thread finished; awaiting finish of 1 more threads\n",
      "2022-02-28 18:59:05,229 : INFO : worker thread finished; awaiting finish of 0 more threads\n",
      "2022-02-28 18:59:05,230 : INFO : EPOCH - 19 : training on 115969 raw words (95411 effective words) took 0.2s, 433735 effective words/s\n",
      "2022-02-28 18:59:05,434 : INFO : worker thread finished; awaiting finish of 2 more threads\n",
      "2022-02-28 18:59:05,442 : INFO : worker thread finished; awaiting finish of 1 more threads\n",
      "2022-02-28 18:59:05,445 : INFO : worker thread finished; awaiting finish of 0 more threads\n",
      "2022-02-28 18:59:05,445 : INFO : EPOCH - 20 : training on 115969 raw words (95586 effective words) took 0.2s, 452089 effective words/s\n",
      "2022-02-28 18:59:05,446 : INFO : training on a 2319380 raw words (1910547 effective words) took 4.6s, 414634 effective words/s\n"
     ]
    },
    {
     "data": {
      "text/plain": [
       "[(0, -0.058792524),\n",
       " (1, 0.055710636),\n",
       " (2, 0.016503418),\n",
       " (3, 0.09181923),\n",
       " (4, -0.07177921),\n",
       " (5, 0.03539077),\n",
       " (6, 0.07469219),\n",
       " (7, -0.054008447),\n",
       " (8, 0.04042363),\n",
       " (9, -0.006256273),\n",
       " (10, -0.047472112),\n",
       " (11, -0.06434257),\n",
       " (12, 0.013362336),\n",
       " (13, -0.043163978),\n",
       " (14, -0.052529015),\n",
       " (15, 0.007885586),\n",
       " (16, -0.0048895534),\n",
       " (17, 0.002305711),\n",
       " (18, 0.0352979),\n",
       " (19, -0.109762445),\n",
       " (20, -0.062281292),\n",
       " (21, -0.10200917),\n",
       " (22, 0.03802006),\n",
       " (23, 0.04122619),\n",
       " (24, -0.05054479),\n",
       " (25, -0.039105337),\n",
       " (26, -0.07529369),\n",
       " (27, -0.03742881),\n",
       " (28, 0.07293356),\n",
       " (29, 0.056661274),\n",
       " (30, -0.015854169),\n",
       " (31, 0.05489187),\n",
       " (32, -0.0069293906),\n",
       " (33, 0.063213594),\n",
       " (34, -0.0022428809),\n",
       " (35, -0.093827516),\n",
       " (36, -0.0034662478),\n",
       " (37, 0.013333001),\n",
       " (38, 0.031516597),\n",
       " (39, 0.024226598),\n",
       " (40, -0.0027770533),\n",
       " (41, 0.0027405606),\n",
       " (42, 0.025816748),\n",
       " (43, 0.067974865),\n",
       " (44, -0.071644045),\n",
       " (45, 0.06377508),\n",
       " (46, 0.029834034),\n",
       " (47, 0.03431447),\n",
       " (48, 0.060556766),\n",
       " (49, -0.0035603314),\n",
       " (50, -0.06958007),\n",
       " (51, -0.05932068),\n",
       " (52, 0.006017687),\n",
       " (53, 0.0009624243),\n",
       " (54, -0.013147221),\n",
       " (55, -0.017901212),\n",
       " (56, 0.025887871),\n",
       " (57, -0.07791884),\n",
       " (58, 0.0227097),\n",
       " (59, -0.044116665),\n",
       " (60, 0.028139897),\n",
       " (61, -0.020727845),\n",
       " (62, -0.0076555302),\n",
       " (63, -0.04444511),\n",
       " (64, -0.029363506),\n",
       " (65, -0.0392582),\n",
       " (66, -0.0014783755),\n",
       " (67, 0.011363834),\n",
       " (68, -0.014369516),\n",
       " (69, 0.029342111),\n",
       " (70, -0.050628155),\n",
       " (71, -0.09118743),\n",
       " (72, -0.019481126),\n",
       " (73, 0.04580736),\n",
       " (74, -0.14233205),\n",
       " (75, -0.020538948),\n",
       " (76, -0.02713696),\n",
       " (77, 0.022854542),\n",
       " (78, -0.03486826),\n",
       " (79, 0.062134184),\n",
       " (80, 0.042747878),\n",
       " (81, 0.024697773),\n",
       " (82, 0.025084687),\n",
       " (83, 0.069477975),\n",
       " (84, -0.081925675),\n",
       " (85, 0.04065151),\n",
       " (86, -0.08482572),\n",
       " (87, 0.098405994),\n",
       " (88, 0.025868226),\n",
       " (89, -0.06975862),\n",
       " (90, -0.06509237),\n",
       " (91, -0.05967505),\n",
       " (92, 7.156817e-05),\n",
       " (93, -0.07646736),\n",
       " (94, 0.048152383),\n",
       " (95, 0.12115072),\n",
       " (96, 0.048692502),\n",
       " (97, -0.027081328),\n",
       " (98, -0.024724862),\n",
       " (99, -0.009188259)]"
      ]
     },
     "execution_count": 93,
     "metadata": {},
     "output_type": "execute_result"
    }
   ],
   "source": [
    "# TODO: Implement this! (10 points)\n",
    "class D2VRetrievalModel(VectorSpaceRetrievalModel):\n",
    "    def __init__(self, doc_repr):\n",
    "        super().__init__(doc_repr)\n",
    "        \n",
    "        self.vector_size= 100\n",
    "        self.min_count = 1\n",
    "        self.epochs = 20\n",
    "        \n",
    "        # YOUR CODE HERE\n",
    "        self.tags = [TaggedDocument(doc, [i]) for i, doc in self.doc_repr]\n",
    "        \n",
    "    def train_model(self):\n",
    "        # YOUR CODE HERE\n",
    "        self.model = Doc2Vec(self.tags, vector_size=self.vector_size, min_count=self.min_count, epochs=self.epochs)\n",
    "        return self.model\n",
    "    \n",
    "    def vectorize_documents(self):\n",
    "        \"\"\"\n",
    "            Returns a doc_id -> vector dictionary\n",
    "        \"\"\"\n",
    "        # YOUR CODE HERE\n",
    "        v = {}\n",
    "        for document_id, token in self.doc_repr:\n",
    "            v[document_id] = list(enumerate(self.model.infer_vector(token)))\n",
    "            \n",
    "        return v\n",
    "\n",
    "    def vectorize_query(self, query):\n",
    "        # YOUR CODE HERE\n",
    "        query = process_text(query, **config_2)\n",
    "        query = self.model.infer_vector(query)\n",
    "        query = list(enumerate(query))\n",
    "\n",
    "        return query\n",
    "        \n",
    "d2v = D2VRetrievalModel(doc_repr_2)\n",
    "d2v.train_model()\n",
    "\n",
    "\n",
    "# # you can now get an LSI vector for a given query in the following way:\n",
    "d2v.vectorize_query(\"report\")"
   ]
  },
  {
   "cell_type": "code",
   "execution_count": 94,
   "metadata": {
    "deletable": false,
    "editable": false,
    "nbgrader": {
     "cell_type": "code",
     "checksum": "e83a363a9d4f136efbdde1426a83925e",
     "grade": true,
     "grade_id": "cell-5e2c5e0c9a2e8cb5",
     "locked": true,
     "points": 0,
     "schema_version": 3,
     "solution": false,
     "task": false
    }
   },
   "outputs": [],
   "source": [
    "#### Please do not change this. This cell is used for grading."
   ]
  },
  {
   "cell_type": "markdown",
   "metadata": {
    "deletable": false,
    "editable": false,
    "nbgrader": {
     "cell_type": "markdown",
     "checksum": "5bb46bf6b9be1e0ca66f0b0bc6260ecb",
     "grade": false,
     "grade_id": "cell-8a49d414f798a595",
     "locked": true,
     "points": 10,
     "schema_version": 3,
     "solution": false,
     "task": true
    }
   },
   "source": [
    "\\#### Please do not change this. This cell is used for grading."
   ]
  },
  {
   "cell_type": "code",
   "execution_count": 95,
   "metadata": {},
   "outputs": [
    {
     "data": {
      "application/vnd.jupyter.widget-view+json": {
       "model_id": "12c9945f8a494589b22bd7e3864cbc76",
       "version_major": 2,
       "version_minor": 0
      },
      "text/plain": [
       "Text(value='', description='Search Bar')"
      ]
     },
     "metadata": {},
     "output_type": "display_data"
    }
   ],
   "source": [
    "drm_d2v = DenseRetrievalRanker(d2v, cosine_sim)\n",
    "\n",
    "# test your LDA model\n",
    "search_fn = drm_d2v.search\n",
    "\n",
    "text = widgets.Text(description=\"Search Bar\", width=200)\n",
    "display(text)\n",
    "\n",
    "\n",
    "text.on_submit(handle_submit_2)"
   ]
  },
  {
   "cell_type": "markdown",
   "metadata": {
    "deletable": false,
    "editable": false,
    "nbgrader": {
     "cell_type": "markdown",
     "checksum": "363ec36c1d03d9f9e1c2045a6e193c14",
     "grade": false,
     "grade_id": "cell-3529ae29eece7b97",
     "locked": true,
     "schema_version": 3,
     "solution": false,
     "task": false
    }
   },
   "source": [
    "---\n",
    "## Section 9: Re-ranking (10 points) <a class=\"anchor\" id=\"reranking\"></a>\n",
    "\n",
    "[Back to Part 2](#part2)\n",
    "\n",
    "To motivate the re-ranking perspective (i.e retrieve with lexical method + rerank with a semantic method), let's search using semantic methods and compare it to BM25's performance, along with their runtime:\n"
   ]
  },
  {
   "cell_type": "code",
   "execution_count": 96,
   "metadata": {
    "deletable": false,
    "editable": false,
    "nbgrader": {
     "cell_type": "code",
     "checksum": "5755f70e3eb28abc65d14d80125338af",
     "grade": false,
     "grade_id": "cell-f8f43bf5ae383128",
     "locked": true,
     "schema_version": 3,
     "solution": false,
     "task": false
    }
   },
   "outputs": [
    {
     "name": "stdout",
     "output_type": "stream",
     "text": [
      "BM25: \n",
      "6.01 ms ± 178 µs per loop (mean ± std. dev. of 7 runs, 100 loops each)\n",
      "LSI: \n",
      "244 ms ± 1.89 ms per loop (mean ± std. dev. of 7 runs, 1 loop each)\n",
      "LDA: \n",
      "1.03 s ± 5.81 ms per loop (mean ± std. dev. of 7 runs, 1 loop each)\n",
      "W2V: \n",
      "270 ms ± 2.22 ms per loop (mean ± std. dev. of 7 runs, 1 loop each)\n",
      "W2V(Pretrained): \n"
     ]
    },
    {
     "name": "stderr",
     "output_type": "stream",
     "text": [
      "C:\\Users\\Ankit\\anaconda3\\envs\\ir_env\\lib\\site-packages\\ipykernel_launcher.py:50: DeprecationWarning: Call to deprecated `wv` (Attribute will be removed in 4.0.0, use self instead).\n",
      "C:\\Users\\Ankit\\anaconda3\\envs\\ir_env\\lib\\site-packages\\ipykernel_launcher.py:51: DeprecationWarning: Call to deprecated `wv` (Attribute will be removed in 4.0.0, use self instead).\n"
     ]
    },
    {
     "name": "stdout",
     "output_type": "stream",
     "text": [
      "2.32 s ± 14.9 ms per loop (mean ± std. dev. of 7 runs, 1 loop each)\n",
      "D2V:\n",
      "273 ms ± 3.66 ms per loop (mean ± std. dev. of 7 runs, 1 loop each)\n"
     ]
    }
   ],
   "source": [
    "query = \"algebraic functions\"\n",
    "print(\"BM25: \")\n",
    "%timeit bm25_search(query, 2)\n",
    "print(\"LSI: \")\n",
    "%timeit drm_lsi.search(query)\n",
    "print(\"LDA: \")\n",
    "%timeit drm_lda.search(query)\n",
    "print(\"W2V: \")\n",
    "%timeit drm_w2v.search(query)\n",
    "print(\"W2V(Pretrained): \")\n",
    "%timeit drm_w2v_pretrained.search(query)\n",
    "print(\"D2V:\")\n",
    "%timeit drm_d2v.search(query)"
   ]
  },
  {
   "cell_type": "markdown",
   "metadata": {
    "deletable": false,
    "editable": false,
    "nbgrader": {
     "cell_type": "markdown",
     "checksum": "ae398da0a8c23c95bcbb0023b7ec6f34",
     "grade": false,
     "grade_id": "cell-db5ff09f97841af7",
     "locked": true,
     "schema_version": 3,
     "solution": false,
     "task": false
    }
   },
   "source": [
    "---\n",
    "\n",
    "**Implementation (10 points):**\n",
    "Re-ranking involves retrieving a small set of documents using simple but fast methods like BM25 and then re-ranking them with the aid of semantic methods such as LDA or LSI. Implement the following class, which takes in an `initial_retrieval_fn` - the initial retrieval function and `vsrm` - an instance of the `VectorSpaceRetrievalModel` class (i.e LSI/LDA) as input. The search function should first retrieve an initial list of K documents, and then these documents are re-ranked using a semantic method. This not only makes retrieval faster, but semantic methods perform poorly when used in isolation, as you will find out."
   ]
  },
  {
   "cell_type": "code",
   "execution_count": 97,
   "metadata": {
    "deletable": false,
    "nbgrader": {
     "cell_type": "code",
     "checksum": "63b6b05a676a2ae3f08d8bed1bc59428",
     "grade": false,
     "grade_id": "cell-5bf47600d1a0c507",
     "locked": false,
     "schema_version": 3,
     "solution": true,
     "task": false
    }
   },
   "outputs": [],
   "source": [
    "# TODO: Implement this! (10 points)\n",
    "class DenseRerankingModel:\n",
    "    def __init__(self, initial_retrieval_fn, vsrm, similarity_fn):\n",
    "        \"\"\"\n",
    "            initial_retrieval_fn: takes in a query and returns a list of [(doc_id, score)] (sorted)\n",
    "            vsrm: instance of `VectorSpaceRetrievalModel`\n",
    "            similarity_fn: function instance that takes in two vectors \n",
    "                            and returns a similarity score e.g cosine_sim defined earlier\n",
    "        \"\"\"\n",
    "        self.ret = initial_retrieval_fn\n",
    "        self.vsrm = vsrm\n",
    "        self.similarity_fn = similarity_fn\n",
    "        self.vectorized_documents = vsrm.vectorize_documents()\n",
    "        \n",
    "        assert len(self.vectorized_documents) == len(doc_repr_2)\n",
    "    \n",
    "    def search(self, query, K=50):\n",
    "        \"\"\"\n",
    "            First, retrieve the top K results using the retrieval function\n",
    "            Then, re-rank the results using the VSRM instance\n",
    "        \"\"\"\n",
    "        # YOUR CODE HERE\n",
    "        scores = [] \n",
    "        l1 = self.ret(query)[:K]\n",
    "        query_vec = self.vsrm.vectorize_query(query)\n",
    "        \n",
    "\n",
    "        for document_id, token in l1:\n",
    "            doc_vec = self.vectorized_documents[document_id]\n",
    "            scores.append((document_id, self.similarity_fn(query_vec, doc_vec)))\n",
    "\n",
    "        scores.sort(key = lambda _:-_[1])\n",
    "        \n",
    "        return scores"
   ]
  },
  {
   "cell_type": "code",
   "execution_count": 98,
   "metadata": {
    "deletable": false,
    "editable": false,
    "nbgrader": {
     "cell_type": "code",
     "checksum": "334ab5af96976265cace682ab82a7387",
     "grade": true,
     "grade_id": "cell-52c6d18a4c0b4882",
     "locked": true,
     "points": 0,
     "schema_version": 3,
     "solution": false,
     "task": false
    }
   },
   "outputs": [
    {
     "name": "stderr",
     "output_type": "stream",
     "text": [
      "C:\\Users\\Ankit\\anaconda3\\envs\\ir_env\\lib\\site-packages\\ipykernel_launcher.py:32: DeprecationWarning: Call to deprecated `wv` (Attribute will be removed in 4.0.0, use self instead).\n",
      "C:\\Users\\Ankit\\anaconda3\\envs\\ir_env\\lib\\site-packages\\ipykernel_launcher.py:33: DeprecationWarning: Call to deprecated `wv` (Attribute will be removed in 4.0.0, use self instead).\n"
     ]
    }
   ],
   "source": [
    "##### Function check\n",
    "bm25_search_2 = partial(bm25_search, index_set=2)\n",
    "lsi_rerank = DenseRerankingModel(bm25_search_2, lsi, cosine_sim)\n",
    "lda_rerank = DenseRerankingModel(bm25_search_2, lda, jenson_shannon_sim)\n",
    "w2v_rerank = DenseRerankingModel(bm25_search_2, w2v, cosine_sim)\n",
    "w2v_pretrained_rerank = DenseRerankingModel(bm25_search_2, w2v_pretrained, cosine_sim)\n",
    "d2v_rerank = DenseRerankingModel(bm25_search_2, d2v, cosine_sim)\n",
    "\n",
    "##### "
   ]
  },
  {
   "cell_type": "markdown",
   "metadata": {
    "deletable": false,
    "editable": false,
    "nbgrader": {
     "cell_type": "markdown",
     "checksum": "bd904253f45f84e63bab3a69729058fc",
     "grade": false,
     "grade_id": "cell-93215dfe6bcf7cff",
     "locked": true,
     "points": 10,
     "schema_version": 3,
     "solution": false,
     "task": true
    }
   },
   "source": [
    "\\#### Please do not change this. This cell is used for grading."
   ]
  },
  {
   "cell_type": "markdown",
   "metadata": {
    "deletable": false,
    "editable": false,
    "nbgrader": {
     "cell_type": "markdown",
     "checksum": "b592e60292bfe3d9ef2930a354c4077a",
     "grade": false,
     "grade_id": "cell-aa694ff55fa91e7d",
     "locked": true,
     "schema_version": 3,
     "solution": false,
     "task": false
    }
   },
   "source": [
    "---\n",
    "Now, let us time the new search functions:"
   ]
  },
  {
   "cell_type": "code",
   "execution_count": 99,
   "metadata": {
    "deletable": false,
    "editable": false,
    "nbgrader": {
     "cell_type": "code",
     "checksum": "338c7e3528cba266a865a061287c0e38",
     "grade": false,
     "grade_id": "cell-5edbd481562ad91f",
     "locked": true,
     "schema_version": 3,
     "solution": false,
     "task": false
    }
   },
   "outputs": [
    {
     "name": "stdout",
     "output_type": "stream",
     "text": [
      "BM25: \n",
      "5.69 ms ± 16.8 µs per loop (mean ± std. dev. of 7 runs, 100 loops each)\n",
      "LSI: \n",
      "9.46 ms ± 133 µs per loop (mean ± std. dev. of 7 runs, 100 loops each)\n",
      "LDA: \n",
      "22 ms ± 178 µs per loop (mean ± std. dev. of 7 runs, 10 loops each)\n",
      "W2V: \n",
      "10.6 ms ± 279 µs per loop (mean ± std. dev. of 7 runs, 100 loops each)\n",
      "W2V(Pretrained): \n"
     ]
    },
    {
     "name": "stderr",
     "output_type": "stream",
     "text": [
      "C:\\Users\\Ankit\\anaconda3\\envs\\ir_env\\lib\\site-packages\\ipykernel_launcher.py:50: DeprecationWarning: Call to deprecated `wv` (Attribute will be removed in 4.0.0, use self instead).\n",
      "C:\\Users\\Ankit\\anaconda3\\envs\\ir_env\\lib\\site-packages\\ipykernel_launcher.py:51: DeprecationWarning: Call to deprecated `wv` (Attribute will be removed in 4.0.0, use self instead).\n"
     ]
    },
    {
     "name": "stdout",
     "output_type": "stream",
     "text": [
      "44.6 ms ± 774 µs per loop (mean ± std. dev. of 7 runs, 10 loops each)\n",
      "D2V:\n",
      "10.9 ms ± 41.3 µs per loop (mean ± std. dev. of 7 runs, 100 loops each)\n"
     ]
    }
   ],
   "source": [
    "query = \"algebraic functions\"\n",
    "print(\"BM25: \")\n",
    "%timeit bm25_search(query, 2)\n",
    "print(\"LSI: \")\n",
    "%timeit lsi_rerank.search(query)\n",
    "print(\"LDA: \")\n",
    "%timeit lda_rerank.search(query)\n",
    "print(\"W2V: \")\n",
    "%timeit w2v_rerank.search(query)\n",
    "print(\"W2V(Pretrained): \")\n",
    "%timeit w2v_pretrained_rerank.search(query)\n",
    "print(\"D2V:\")\n",
    "%timeit d2v_rerank.search(query)"
   ]
  },
  {
   "cell_type": "markdown",
   "metadata": {
    "deletable": false,
    "editable": false,
    "nbgrader": {
     "cell_type": "markdown",
     "checksum": "c45c5e3f015b2de89d9d39ae3766368b",
     "grade": false,
     "grade_id": "cell-85c50f2ab9eec301",
     "locked": true,
     "schema_version": 3,
     "solution": false,
     "task": false
    }
   },
   "source": [
    "---\n",
    "As you can see, it is much faster (but BM25 is still orders of magnitude faster)."
   ]
  },
  {
   "cell_type": "markdown",
   "metadata": {
    "deletable": false,
    "editable": false,
    "nbgrader": {
     "cell_type": "markdown",
     "checksum": "1e2f3388e3807659f303fe31a75a010e",
     "grade": false,
     "grade_id": "cell-5071bb99b2af61cb",
     "locked": true,
     "schema_version": 3,
     "solution": false,
     "task": false
    }
   },
   "source": [
    "---\n",
    "## Section 10: Evaluation & Analysis (30 points) <a class=\"anchor\" id=\"reranking_eval\"></a>\n",
    "\n",
    "[Back to Part 2](#part2)\n",
    "\n",
    "[Previously](#evaluation) we have implemented some evaluation metrics and used them for measuring the ranking performance of term-based IR algorithms. In this section, we will do the same for semantic methods, both with and without re-ranking.\n",
    "\n",
    "### Section 10.1: Plot (10 points)\n",
    "\n",
    "First, gather the results. The results should consider the index set, the different search functions and different metrics. Plot the results in bar charts, per metric, with clear labels.\n",
    "\n",
    "Then, gather only the re-ranking models, and plot and compare them with the results obtained in part 1 (only index set 2)."
   ]
  },
  {
   "cell_type": "code",
   "execution_count": 100,
   "metadata": {
    "deletable": false,
    "editable": false,
    "nbgrader": {
     "cell_type": "code",
     "checksum": "4fe81520ac6413a803838913fd64de03",
     "grade": false,
     "grade_id": "cell-b672fe6dfae0b1ce",
     "locked": true,
     "schema_version": 3,
     "solution": false,
     "task": false
    }
   },
   "outputs": [],
   "source": [
    "list_of_sem_search_fns = [\n",
    "    (\"lda\", drm_lda.search),\n",
    "    (\"lsi\", drm_lsi.search),\n",
    "    (\"w2v\", drm_w2v.search),\n",
    "    (\"w2v_pretrained\", drm_w2v_pretrained.search),\n",
    "    (\"d2v\", drm_d2v.search),\n",
    "    (\"lsi_rr\", lsi_rerank.search),\n",
    "    (\"lda_rr\", lda_rerank.search),\n",
    "    (\"w2v_rr\", w2v_rerank.search),\n",
    "    (\"w2v_pretrained_rr\", w2v_pretrained_rerank.search),\n",
    "    (\"d2v_rr\", d2v_rerank.search),\n",
    "    \n",
    "]"
   ]
  },
  {
   "cell_type": "code",
   "execution_count": 101,
   "metadata": {
    "deletable": false,
    "nbgrader": {
     "cell_type": "code",
     "checksum": "54707c4afac084299aeefa047259b4a9",
     "grade": true,
     "grade_id": "cell-7dd8273b0f5a3c22",
     "locked": false,
     "points": 10,
     "schema_version": 3,
     "solution": true,
     "task": false
    }
   },
   "outputs": [
    {
     "name": "stderr",
     "output_type": "stream",
     "text": [
      "C:\\Users\\Ankit\\anaconda3\\envs\\ir_env\\lib\\site-packages\\ipykernel_launcher.py:50: DeprecationWarning: Call to deprecated `wv` (Attribute will be removed in 4.0.0, use self instead).\n",
      "C:\\Users\\Ankit\\anaconda3\\envs\\ir_env\\lib\\site-packages\\ipykernel_launcher.py:51: DeprecationWarning: Call to deprecated `wv` (Attribute will be removed in 4.0.0, use self instead).\n"
     ]
    },
    {
     "data": {
      "text/plain": [
       "Text(0.5, 1.3, 'Comparison of different Semantic-based Information Retrieval algorithms across various Metrics')"
      ]
     },
     "execution_count": 101,
     "metadata": {},
     "output_type": "execute_result"
    },
    {
     "data": {
      "image/png": "[encoded data removed]",
      "text/plain": [
       "<Figure size 1440x504 with 8 Axes>"
      ]
     },
     "metadata": {
      "needs_background": "light"
     },
     "output_type": "display_data"
    }
   ],
   "source": [
    "# YOUR CODE HERE\n",
    "\n",
    "results_for_search_sem_fns = {}\n",
    "\n",
    "for method, search_fn in list_of_sem_search_fns:\n",
    "    results_for_search_sem_fns[f'{method}'] = evaluate_search_fn(search_fn, list_of_metrics)\n",
    "    \n",
    "from matplotlib.pyplot import figure\n",
    "import matplotlib.pyplot as plt\n",
    "import pandas as pd\n",
    "#plt.figure(figsize=(25, 15), dpi= 300) \n",
    "fig = plt.figure(figsize=(20, 7)) \n",
    "fig.tight_layout() \n",
    "fig.suptitle('Comparison Between All Semantic Methods', fontsize=16)\n",
    "# # left  = 0.125  # the left side of the subplots of the figure\n",
    "# right = 0.9    # the right side of the subplots of the figure\n",
    "# bottom = 0.1   # the bottom of the subplots of the figure\n",
    "# top = 0.9      # the top of the subplots of the figure\n",
    "# wspace = 0.2   # the amount of width reserved for blank space between subplots\n",
    "# hspace = 0.2   # the amount of height reserved for white space between subplots\n",
    "\n",
    "plt.subplots_adjust(left=0.125, bottom=0.1, right=0.9, top=1.2, wspace=0.4, hspace=0.8)  \n",
    "\n",
    "# Divide the figure into a 1x2 grid, and give me the first section\n",
    "ax1 = fig.add_subplot(2,4,1)\n",
    "\n",
    "# Divide the figure into a 1x2 grid, and give me the second section\n",
    "#ERR, MAP, Recall@1, Recall@5, Recall@10, Precision@1, Precision@5, Precision@10\n",
    "\n",
    "d2 = results_for_search_sem_fns\n",
    "\n",
    "model_names = ['lda', 'lsi', 'w2v', 'w2v_pretrained', 'd2v', 'lsi_rr', 'lda_rr', 'w2v_rr', 'w2v_pretrained_rr', 'd2v_rr']\n",
    "\n",
    "plotdata1 = pd.DataFrame({\n",
    "    \"ERR\": [d2['lda']['ERR'], d2['lsi']['ERR'], d2['w2v']['ERR'], d2['w2v_pretrained']['ERR'], d2['d2v']['ERR'], d2['lsi_rr']['ERR'], d2['lda_rr']['ERR'], d2['w2v_rr']['ERR'], d2['w2v_pretrained_rr']['ERR'],d2['d2v_rr']['ERR'], ],\n",
    "\n",
    "    }, \n",
    "    index=model_names\n",
    ")\n",
    "\n",
    "#2\n",
    "ax2 = fig.add_subplot(2,4,2)\n",
    "plotdata2 = pd.DataFrame({\n",
    "    \"MAP\": [d2['lda']['MAP'], d2['lsi']['MAP'], d2['w2v']['MAP'], d2['w2v_pretrained']['MAP'], d2['d2v']['MAP'], d2['lsi_rr']['MAP'], d2['lda_rr']['MAP'], d2['w2v_rr']['MAP'], d2['w2v_pretrained_rr']['MAP'],d2['d2v_rr']['MAP'], ],\n",
    "\n",
    "    }, \n",
    "    index=model_names\n",
    ")\n",
    "\n",
    "\n",
    "# plotdata.plot(kind=\"bar\", ax=ax1, )\n",
    "\n",
    "# plotdata2.plot(kind=\"bar\", ax=ax2, )\n",
    "\n",
    "\n",
    "\n",
    "#3\n",
    "ax3 = fig.add_subplot(2,4,3)\n",
    "plotdata3 = pd.DataFrame({\n",
    "    \"Recall@1\": [d2['lda']['Recall@1'], d2['lsi']['Recall@1'], d2['w2v']['Recall@1'], d2['w2v_pretrained']['Recall@1'], d2['d2v']['Recall@1'], d2['lsi_rr']['Recall@1'], d2['lda_rr']['Recall@1'], d2['w2v_rr']['Recall@1'], d2['w2v_pretrained_rr']['Recall@1'],d2['d2v_rr']['Recall@1'], ],\n",
    "\n",
    "    }, \n",
    "    index=model_names\n",
    ")\n",
    "# ax3.legend(loc='upper left')\n",
    "\n",
    "\n",
    "\n",
    "\n",
    "\n",
    "#4 \n",
    "ax4 = fig.add_subplot(2,4,4)\n",
    "plotdata4 = pd.DataFrame({\n",
    "    \"Recall@5\": [d2['lda']['Recall@5'], d2['lsi']['Recall@5'], d2['w2v']['Recall@5'], d2['w2v_pretrained']['Recall@5'], d2['d2v']['Recall@5'], d2['lsi_rr']['Recall@5'], d2['lda_rr']['Recall@5'], d2['w2v_rr']['Recall@5'], d2['w2v_pretrained_rr']['Recall@5'],d2['d2v_rr']['Recall@5'], ],\n",
    "\n",
    "    }, \n",
    "    index=model_names\n",
    ")\n",
    "\n",
    "\n",
    "\n",
    "#5 \n",
    "ax5 = fig.add_subplot(2,4,5)\n",
    "plotdata5 = pd.DataFrame({\n",
    "    \"Recall@10\": [d2['lda']['Recall@10'], d2['lsi']['Recall@10'], d2['w2v']['Recall@10'], d2['w2v_pretrained']['Recall@10'], d2['d2v']['Recall@10'], d2['lsi_rr']['Recall@10'], d2['lda_rr']['Recall@10'], d2['w2v_rr']['Recall@10'], d2['w2v_pretrained_rr']['Recall@10'],d2['d2v_rr']['Recall@10'], ],\n",
    "\n",
    "    }, \n",
    "    index=model_names\n",
    ")\n",
    "\n",
    "\n",
    "\n",
    "#6 \n",
    "ax6 = fig.add_subplot(2,4,6)\n",
    "plotdata6 = pd.DataFrame({\n",
    "    \"Precision@1\": [d2['lda']['Precision@1'], d2['lsi']['Precision@1'], d2['w2v']['Precision@1'], d2['w2v_pretrained']['Precision@1'], d2['d2v']['Precision@1'], d2['lsi_rr']['Precision@1'], d2['lda_rr']['Precision@1'], d2['w2v_rr']['Precision@1'], d2['w2v_pretrained_rr']['Precision@1'],d2['d2v_rr']['Precision@1'], ],\n",
    "\n",
    "    }, \n",
    "    index=model_names\n",
    ")\n",
    "\n",
    "\n",
    "\n",
    "\n",
    "#7\n",
    "ax7 = fig.add_subplot(2,4,7)\n",
    "\n",
    "plotdata7 = pd.DataFrame({\n",
    "    \"Precision@5\": [d2['lda']['Precision@5'], d2['lsi']['Precision@5'], d2['w2v']['Precision@5'], d2['w2v_pretrained']['Precision@5'], d2['d2v']['Precision@5'], d2['lsi_rr']['Precision@5'], d2['lda_rr']['Precision@5'], d2['w2v_rr']['Precision@5'], d2['w2v_pretrained_rr']['Precision@5'],d2['d2v_rr']['Precision@5'], ],\n",
    "\n",
    "    }, \n",
    "    index=model_names\n",
    ")\n",
    "\n",
    "#8\n",
    "ax8 = fig.add_subplot(2,4,8)\n",
    "\n",
    "\n",
    "plotdata8 = pd.DataFrame({\n",
    "    \"Precision@10\": [d2['lda']['Precision@10'], d2['lsi']['Precision@10'], d2['w2v']['Precision@10'], d2['w2v_pretrained']['Precision@10'], d2['d2v']['Precision@10'], d2['lsi_rr']['Precision@10'], d2['lda_rr']['Precision@10'], d2['w2v_rr']['Precision@10'], d2['w2v_pretrained_rr']['Precision@10'],d2['d2v_rr']['Precision@10'], ],\n",
    "\n",
    "    }, \n",
    "    index=model_names\n",
    ")\n",
    "\n",
    "plotdata1.plot(kind=\"bar\", ax=ax1, )\n",
    "\n",
    "plotdata2.plot(kind=\"bar\", ax=ax2, )\n",
    "plotdata3.plot(kind=\"bar\", ax=ax3, )\n",
    "\n",
    "plotdata4.plot(kind=\"bar\", ax=ax4, )\n",
    "\n",
    "plotdata5.plot(kind=\"bar\", ax=ax5, )\n",
    "\n",
    "plotdata6.plot(kind=\"bar\", ax=ax6, )\n",
    "\n",
    "\n",
    "plotdata7.plot(kind=\"bar\", ax=ax7, )\n",
    "\n",
    "plotdata8.plot(kind=\"bar\", ax=ax8, )\n",
    "\n",
    "\n",
    "ax1.set_ylabel(\"Average Metric Value\")\n",
    "ax2.set_ylabel(\"Average Metric Value\")\n",
    "ax3.set_ylabel(\"Average Metric Value\")\n",
    "ax4.set_ylabel(\"Average Metric Value\")\n",
    "\n",
    "ax5.set_ylabel(\"Average Metric Value\")\n",
    "ax6.set_ylabel(\"Average Metric Value\")\n",
    "ax7.set_ylabel(\"Average Metric Value\")\n",
    "ax8.set_ylabel(\"Average Metric Value\")\n",
    "\n",
    "\n",
    "fig.suptitle(\"Comparison of different Semantic-based Information Retrieval algorithms across various Metrics\", y = 1.3, fontsize = 16)"
   ]
  },
  {
   "cell_type": "code",
   "execution_count": 103,
   "metadata": {},
   "outputs": [
    {
     "data": {
      "text/plain": [
       "Text(0.5, 1.3, 'Comparison of Term-based and Semantic Ranking algorithms across various Metrics')"
      ]
     },
     "execution_count": 103,
     "metadata": {},
     "output_type": "execute_result"
    },
    {
     "data": {
      "image/png": "[encoded data removed]",
      "text/plain": [
       "<Figure size 1440x504 with 8 Axes>"
      ]
     },
     "metadata": {
      "needs_background": "light"
     },
     "output_type": "display_data"
    }
   ],
   "source": [
    "\n",
    "fig = plt.figure(figsize=(20, 7)) \n",
    "fig.tight_layout() \n",
    "# # left  = 0.125  # the left side of the subplots of the figure\n",
    "# right = 0.9    # the right side of the subplots of the figure\n",
    "# bottom = 0.1   # the bottom of the subplots of the figure\n",
    "# top = 0.9      # the top of the subplots of the figure\n",
    "# wspace = 0.2   # the amount of width reserved for blank space between subplots\n",
    "# hspace = 0.2   # the amount of height reserved for white space between subplots\n",
    "\n",
    "plt.subplots_adjust(left=0.125, bottom=0.1, right=0.9, top=1.2, wspace=0.4, hspace=0.8)  \n",
    "\n",
    "# Divide the figure into a 1x2 grid, and give me the first section\n",
    "ax1 = fig.add_subplot(2,4,1)\n",
    "\n",
    "# Divide the figure into a 1x2 grid, and give me the second section\n",
    "#ERR, MAP, Recall@1, Recall@5, Recall@10, Precision@1, Precision@5, Precision@10\n",
    "\n",
    "d2 = results_for_search_sem_fns\n",
    "\n",
    "model_names = ['BOW_2', 'TF-IDF_2', 'NaiveQL_2', 'QL_2', 'BM25_2', 'lsi_rr', 'lda_rr', 'w2v_rr', 'w2v_pretrained_rr', 'd2v_rr']\n",
    "\n",
    "plotdata1 = pd.DataFrame({\n",
    "    \"ERR\": [d1['BOW_2']['ERR'], d1['TF-IDF_2']['ERR'], d1['NaiveQL_2']['ERR'], d1['QL_2']['ERR'],d1['BM25_2']['ERR'], d2['lsi_rr']['ERR'], d2['lda_rr']['ERR'], d2['w2v_rr']['ERR'], d2['w2v_pretrained_rr']['ERR'],d2['d2v_rr']['ERR'], ],\n",
    "\n",
    "    }, \n",
    "    index=model_names\n",
    ")\n",
    "\n",
    "#2\n",
    "ax2 = fig.add_subplot(2,4,2)\n",
    "plotdata2 = pd.DataFrame({\n",
    "    \"MAP\": [d1['BOW_2']['MAP'], d1['TF-IDF_2']['MAP'], d1['NaiveQL_2']['MAP'], d1['QL_2']['MAP'],d1['BM25_2']['MAP'], d2['lsi_rr']['MAP'], d2['lda_rr']['MAP'], d2['w2v_rr']['MAP'], d2['w2v_pretrained_rr']['MAP'],d2['d2v_rr']['MAP'], ],\n",
    "\n",
    "    }, \n",
    "    index=model_names\n",
    ")\n",
    "\n",
    "\n",
    "# plotdata.plot(kind=\"bar\", ax=ax1, )\n",
    "\n",
    "# plotdata2.plot(kind=\"bar\", ax=ax2, )\n",
    "\n",
    "\n",
    "\n",
    "#3\n",
    "ax3 = fig.add_subplot(2,4,3)\n",
    "plotdata3 = pd.DataFrame({\n",
    "    \"Recall@1\": [d1['BOW_2']['Recall@1'], d1['TF-IDF_2']['Recall@1'], d1['NaiveQL_2']['Recall@1'], d1['QL_2']['Recall@1'],d1['BM25_2']['Recall@1'],  d2['lsi_rr']['Recall@1'], d2['lda_rr']['Recall@1'], d2['w2v_rr']['Recall@1'], d2['w2v_pretrained_rr']['Recall@1'],d2['d2v_rr']['Recall@1'], ],\n",
    "\n",
    "    }, \n",
    "    index=model_names\n",
    ")\n",
    "# ax3.legend(loc='upper left')\n",
    "\n",
    "\n",
    "\n",
    "\n",
    "\n",
    "#4 \n",
    "ax4 = fig.add_subplot(2,4,4)\n",
    "plotdata4 = pd.DataFrame({\n",
    "    \"Recall@5\": [d1['BOW_2']['Recall@5'], d1['TF-IDF_2']['Recall@5'], d1['NaiveQL_2']['Recall@5'], d1['QL_2']['Recall@5'],d1['BM25_2']['Recall@5'], d2['lsi_rr']['Recall@5'], d2['lda_rr']['Recall@5'], d2['w2v_rr']['Recall@5'], d2['w2v_pretrained_rr']['Recall@5'],d2['d2v_rr']['Recall@5'], ],\n",
    "\n",
    "    }, \n",
    "    index=model_names\n",
    ")\n",
    "\n",
    "\n",
    "\n",
    "#5 \n",
    "ax5 = fig.add_subplot(2,4,5)\n",
    "plotdata5 = pd.DataFrame({\n",
    "    \"Recall@10\": [d1['BOW_2']['Recall@10'], d1['TF-IDF_2']['Recall@10'], d1['NaiveQL_2']['Recall@10'], d1['QL_2']['Recall@10'],d1['BM25_2']['Recall@10'], d2['lsi_rr']['Recall@10'], d2['lda_rr']['Recall@10'], d2['w2v_rr']['Recall@10'], d2['w2v_pretrained_rr']['Recall@10'],d2['d2v_rr']['Recall@10'], ],\n",
    "\n",
    "    }, \n",
    "    index=model_names\n",
    ")\n",
    "\n",
    "\n",
    "\n",
    "#6 \n",
    "ax6 = fig.add_subplot(2,4,6)\n",
    "plotdata6 = pd.DataFrame({\n",
    "    \"Precision@1\": [d1['BOW_2']['Precision@1'], d1['TF-IDF_2']['Precision@1'], d1['NaiveQL_2']['Precision@1'], d1['QL_2']['Precision@1'],d1['BM25_2']['Precision@1'], d2['lsi_rr']['Precision@1'], d2['lda_rr']['Precision@1'], d2['w2v_rr']['Precision@1'], d2['w2v_pretrained_rr']['Precision@1'],d2['d2v_rr']['Precision@1'], ],\n",
    "\n",
    "    }, \n",
    "    index=model_names\n",
    ")\n",
    "\n",
    "\n",
    "\n",
    "\n",
    "#7\n",
    "ax7 = fig.add_subplot(2,4,7)\n",
    "\n",
    "plotdata7 = pd.DataFrame({\n",
    "    \"Precision@5\": [d1['BOW_2']['Precision@5'], d1['TF-IDF_2']['Precision@5'], d1['NaiveQL_2']['Precision@5'], d1['QL_2']['Precision@5'],d1['BM25_2']['Precision@5'], d2['lsi_rr']['Precision@5'], d2['lda_rr']['Precision@5'], d2['w2v_rr']['Precision@5'], d2['w2v_pretrained_rr']['Precision@5'],d2['d2v_rr']['Precision@5'], ],\n",
    "\n",
    "    }, \n",
    "    index=model_names\n",
    ")\n",
    "\n",
    "#8\n",
    "ax8 = fig.add_subplot(2,4,8)\n",
    "\n",
    "\n",
    "plotdata8 = pd.DataFrame({\n",
    "    \"Precision@10\": [d1['BOW_2']['Precision@10'], d1['TF-IDF_2']['Precision@10'], d1['NaiveQL_2']['Precision@10'], d1['QL_2']['Precision@10'],d1['BM25_2']['Precision@10'], d2['lsi_rr']['Precision@10'], d2['lda_rr']['Precision@10'], d2['w2v_rr']['Precision@10'], d2['w2v_pretrained_rr']['Precision@10'],d2['d2v_rr']['Precision@10'], ],\n",
    "\n",
    "    }, \n",
    "    index=model_names\n",
    ")\n",
    "\n",
    "plotdata1.plot(kind=\"bar\", ax=ax1, )\n",
    "\n",
    "plotdata2.plot(kind=\"bar\", ax=ax2, )\n",
    "plotdata3.plot(kind=\"bar\", ax=ax3, )\n",
    "\n",
    "plotdata4.plot(kind=\"bar\", ax=ax4, )\n",
    "\n",
    "plotdata5.plot(kind=\"bar\", ax=ax5, )\n",
    "\n",
    "plotdata6.plot(kind=\"bar\", ax=ax6, )\n",
    "\n",
    "\n",
    "plotdata7.plot(kind=\"bar\", ax=ax7, )\n",
    "\n",
    "plotdata8.plot(kind=\"bar\", ax=ax8, )\n",
    "\n",
    "\n",
    "ax1.set_ylabel(\"Average Metric Value\")\n",
    "ax2.set_ylabel(\"Average Metric Value\")\n",
    "ax3.set_ylabel(\"Average Metric Value\")\n",
    "ax4.set_ylabel(\"Average Metric Value\")\n",
    "\n",
    "ax5.set_ylabel(\"Average Metric Value\")\n",
    "ax6.set_ylabel(\"Average Metric Value\")\n",
    "ax7.set_ylabel(\"Average Metric Value\")\n",
    "ax8.set_ylabel(\"Average Metric Value\")\n",
    "\n",
    "\n",
    "fig.suptitle(\"Comparison of Term-based and Semantic Ranking algorithms across various Metrics\", y = 1.3, fontsize = 20)"
   ]
  },
  {
   "cell_type": "markdown",
   "metadata": {
    "deletable": false,
    "editable": false,
    "nbgrader": {
     "cell_type": "markdown",
     "checksum": "a8a3b6189bdde66704c694d85e38d049",
     "grade": false,
     "grade_id": "cell-deb2ef3daa306e82",
     "locked": true,
     "schema_version": 3,
     "solution": false,
     "task": false
    }
   },
   "source": [
    "### Section 10.2: Summary (20 points)\n",
    "\n",
    "Your summary should compare methods from Part 1 and Part 2 (only for index set 2). State what you expected to see in the results, followed by either supporting evidence *or* justify why the results did not support your expectations. Consider the availability of data, scalability, domain/type of data, etc."
   ]
  },
  {
   "cell_type": "markdown",
   "metadata": {
    "deletable": false,
    "nbgrader": {
     "cell_type": "markdown",
     "checksum": "ff97c43837d10bff6aaffa75e1492887",
     "grade": true,
     "grade_id": "cell-ec5dd7d9cf59dd86",
     "locked": false,
     "points": 20,
     "schema_version": 3,
     "solution": true,
     "task": false
    }
   },
   "source": [
    "Above, we present the results for semantic-based approaches such as LSI, LDA, W2V, etc. Furthermore, we compare the results from Part 1 and Part 2. \n",
    "\n",
    "LSI: Latent Semantic Indexing is a retrieval method that uses singular value decomposition(SVD) to identify the patterns in the relationships between the words contained in the documents and the documents themselves. Initially, term-document matrices are constructed, one column for each document and one row for each word; the value of the cell (i,j) is the frequency of word i in document j. Next, each element of the term matrix is replaced with a product of weights and the word frequency. Further, SVD is used to reduce the dimensionality of the matrix while maintaining the similarity scores which reduces the number of computations. We would expect it to perform worse than BM25 as it may compress out information which is what we observe.\n",
    "\n",
    "LDA: Latent Dirichlet Allocation posits that words can be grouped into topics. This has advantages over W2V since it can give the same word two meanings by placing it in two topics. We would expect this to require more (training) data than BM25 but have higher MAP and recall. We would also expect it to be much slower than LSI and require more data but have higher MAP. The speed was qualified by our results as we see that it is significantly slower than LSI. However, we do not see better performance over LSI or BM25. This may be caused by the training domain.\n",
    "\n",
    "W2V:\n",
    "W2V uses a neural network to learn word embeddings. An embedding consists of float values in the form of a vector. Once trained, a W2V model can be used to identify similar/synonyms for a particular sentence using metrics such as cosine similarity. For every word in the given document, we obtain vectors that are aggregated since we are using W2V on a bunch of documents. However, we observe that we obtain lower values for metrics such as ERR, MAP, and Recall than in LSI and LDA, since W2V requires a lot of training data that isn't available in our setting. Also because the vector representations per word are averaged which might not capture all the details since the order of sentences is lost. \n",
    "\n",
    "Evidently through the metrics such as MAP, precision, recall, etc we see that W2V pre-trained gives us better results than without pre-trained models and models such as LSI and LDA meaning given enough data it performs better. \n",
    "\n",
    "\n",
    "D2V:\n",
    "As the name indicates we make use of Documents here instead of Words to obtain embeddings similar to W2V models. Hence, we obtain better values for Precision@1 than LSI and LDA for the documents although overall it doesn't do a better job than others. \n",
    "We observe when comparing the re-ranking-based approaches that BM25 outperforms all the methods listed. The nature of the dataset would have contributed to the success of BM25.\n",
    "\n",
    "Reranking: We observe that reranking increases all metrics when used and also goes faster. However, doing BM25 and then reranking with semantic methods are still worse than just BM25, which makes it unclear how useful semantic methods are. This may be caused by bad preprocessing of the data since stop word removal may affect the results heavily.\n",
    "\n",
    "Time complexity: We observe that with re-ranking based methods the time for execution decreases for all semantic methods. For both with and without reranking, we observe that W2V pre-trained model consumes the highest execution time in comparison to others and similarly we BM25 consumes the least execution time with/without re-ranking based methods. "
   ]
  },
  {
   "cell_type": "code",
   "execution_count": null,
   "metadata": {},
   "outputs": [],
   "source": []
  }
 ],
 "metadata": {
  "kernelspec": {
   "display_name": "Python 3",
   "language": "python",
   "name": "python3"
  },
  "language_info": {
   "codemirror_mode": {
    "name": "ipython",
    "version": 3
   },
   "file_extension": ".py",
   "mimetype": "text/x-python",
   "name": "python",
   "nbconvert_exporter": "python",
   "pygments_lexer": "ipython3",
   "version": "3.6.5"
  },
  "toc": {
   "base_numbering": 1,
   "nav_menu": {},
   "number_sections": true,
   "sideBar": true,
   "skip_h1_title": false,
   "title_cell": "Table of Contents",
   "title_sidebar": "Contents",
   "toc_cell": false,
   "toc_position": {},
   "toc_section_display": true,
   "toc_window_display": false
  }
 },
 "nbformat": 4,
 "nbformat_minor": 4
}
