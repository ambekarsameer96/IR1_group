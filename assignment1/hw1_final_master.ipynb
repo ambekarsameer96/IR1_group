{
 "cells": [
  {
   "cell_type": "markdown",
   "metadata": {
    "deletable": false,
    "editable": false,
    "nbgrader": {
     "cell_type": "markdown",
     "checksum": "1bba455de8bc2825ca70469169bbadaa",
     "grade": false,
     "grade_id": "cell-c9cd9e550239e812",
     "locked": true,
     "schema_version": 3,
     "solution": false,
     "task": false
    }
   },
   "source": [
    "# Homework 1 (Total Points: 250) <a class=\"anchor\" id=\"top\"></a>\n",
    "\n",
    "\n",
    "**Submission instructions**:\n",
    "- The cells with the `# YOUR CODE HERE` denote that these sections are graded and you need to add your implementation.\n",
    "- For Part 1: You can use the `nltk`, `NumPy`, and `matplotlib` libraries here. Other libraries, e.g., `gensim` or `scikit-learn`, may not be used. For Part 2: `gensim` is allowed in addition to the imported libraries in the next code cell\n",
    "- Please use Python 3.6.5 and `pip install -r requirements.txt` to avoid version issues.\n",
    "- The notebook you submit has to have the student ids, separated by underscores (E.g., `12341234_12341234_12341234_hw1.ipynb`).\n",
    "- This will be parsed by a regexp, **so please double check your filename**.\n",
    "- Only one member of each group has to submit the file (**please do not compress the .ipynb file when you will submit it**) to canvas.\n",
    "- **Make sure to check that your notebook runs before submission**. A quick way to do this is to restart the kernel and run all the cells.  \n",
    "- Do not change the number of arugments in the given functions.\n",
    "- **Please do not delete/add new cells**. Removing cells **will** lead to grade deduction. \n",
    "- Note, that you are not allowed to use Google Colab.\n",
    "\n",
    "\n",
    "**Learning Goals**:\n",
    "- [Part 1, Term-based matching](#part1) (165 points):\n",
    "    - Learn how to load a dataset and process it.\n",
    "    - Learn how to implement several standard IR methods (TF-IDF, BM25, QL) and understand their weaknesses & strengths.\n",
    "    - Learn how to evaluate IR methods.\n",
    "- [Part 2, Semantic-based matching](#part2) (85 points):\n",
    "    - Learn how to implement vector-space retrieval methods (LSI, LDA).\n",
    "    - Learn how to use LSI and LDA for re-ranking.\n",
    "\n",
    "    \n",
    "**Resources**: \n",
    "- **Part 1**: Sections 2.3, 4.1, 4.2, 4.3, 5.3, 5.6, 5.7, 6.2, 7, 8 of [Search Engines: Information Retrieval in Practice](https://ciir.cs.umass.edu/downloads/SEIRiP.pdf)\n",
    "- **Part 2**: [LSI - Chapter 18](https://nlp.stanford.edu/IR-book/pdf/18lsi.pdf) from [Introduction to Information Retrieval](https://nlp.stanford.edu/IR-book/) book and the [original LDA paper](https://jmlr.org/papers/volume3/blei03a/blei03a.pdf)"
   ]
  },
  {
   "cell_type": "code",
   "execution_count": 1,
   "metadata": {
    "deletable": false,
    "editable": false,
    "nbgrader": {
     "cell_type": "code",
     "checksum": "c55bfe94ff1f564dd595547e516c4c6e",
     "grade": false,
     "grade_id": "cell-f5357fabdb9660e3",
     "locked": true,
     "schema_version": 3,
     "solution": false,
     "task": false
    }
   },
   "outputs": [],
   "source": [
    "# imports \n",
    "# TODO: Ensure that no additional library is imported in the notebook. \n",
    "# TODO: Only the standard library and the following libraries are allowed:\n",
    "# TODO: You can also use unlisted classes from these libraries or standard libraries (such as defaultdict, Counter, ...).\n",
    "\n",
    "import os\n",
    "import zipfile\n",
    "from functools import partial\n",
    "\n",
    "import nltk\n",
    "import requests\n",
    "import numpy as np\n",
    "from tqdm import tqdm\n",
    "\n",
    "import matplotlib.pyplot as plt\n",
    "from matplotlib.pyplot import cm\n",
    "\n",
    "from ipywidgets import widgets\n",
    "from IPython.display import display, HTML\n",
    "#from IPython.html import widgets\n",
    "from collections import namedtuple\n",
    "\n",
    "%matplotlib inline"
   ]
  },
  {
   "cell_type": "markdown",
   "metadata": {
    "deletable": false,
    "editable": false,
    "nbgrader": {
     "cell_type": "markdown",
     "checksum": "c8328f758ca5b69f76eee03dbbdd4715",
     "grade": false,
     "grade_id": "cell-7428e12ed184408b",
     "locked": true,
     "schema_version": 3,
     "solution": false,
     "task": false
    }
   },
   "source": [
    "\n",
    "# Part 1: Term-based Matching (165 points) <a class=\"anchor\" id=\"part1\"></a>\n",
    "\n",
    "[Back to top](#top)\n",
    "\n",
    "In the first part, we will learn the basics of IR from loading and preprocessing the material, to implementing some well known search algorithms, to evaluating the ranking performance of the implemented algorithms. We will be using the CACM dataset throughout the assignment. The CACM dataset is a collection of titles and abstracts from the journal CACM (Communication of the ACM).\n",
    "\n",
    "Table of contents:\n",
    "- [Section 1: Text Processing](#text_processing) (5 points)\n",
    "- [Section 2: Indexing](#indexing) (10 points)\n",
    "- [Section 3: Ranking](#ranking) (80 points)\n",
    "- [Section 4: Evaluation](#evaluation) (40 points)\n",
    "- [Section 5: Analysis](#analysis) (30 points)\n"
   ]
  },
  {
   "cell_type": "markdown",
   "metadata": {
    "deletable": false,
    "editable": false,
    "nbgrader": {
     "cell_type": "markdown",
     "checksum": "4e3f938065183dc743aa8254b96b4f5e",
     "grade": false,
     "grade_id": "cell-4b24825cf4ae55ec",
     "locked": true,
     "schema_version": 3,
     "solution": false,
     "task": false
    }
   },
   "source": [
    "---\n",
    "## Section 1: Text Processing (5 points)<a class=\"anchor\" id=\"text_processing\"></a>\n",
    "\n",
    "[Back to Part 1](#part1)\n",
    "\n",
    "In this section, we will load the dataset and learn how to clean up the data to make it usable for an IR system. \n",
    "First, go through the implementation of the following functions:\n",
    "- `read_cacm_docs`: Reads in the CACM documents.\n",
    "- `read_queries`: Reads in the CACM queries.\n",
    "- `load_stopwords`: Loads the stopwords.\n",
    "\n",
    "The points of this section are earned for the following implementations:\n",
    "- `tokenize` (3 points): Tokenizes the input text.\n",
    "- `stem_token` (2 points): Stems the given token. \n",
    "\n",
    "We are using the [CACM dataset](http://ir.dcs.gla.ac.uk/resources/test_collections/cacm/), which is a small, classic IR dataset, composed of a collection of titles and abstracts from the journal CACM. It comes with relevance judgements for queries, so we can evaluate our IR system. \n"
   ]
  },
  {
   "cell_type": "markdown",
   "metadata": {
    "deletable": false,
    "editable": false,
    "nbgrader": {
     "cell_type": "markdown",
     "checksum": "0155d897c7016389d73d160921947a6f",
     "grade": false,
     "grade_id": "cell-45651364e7af6d5a",
     "locked": true,
     "schema_version": 3,
     "solution": false,
     "task": false
    }
   },
   "source": [
    "---\n",
    "### 1.1 Read the CACM documents\n",
    "\n",
    "\n",
    "The following cell downloads the dataset and unzips it to a local directory."
   ]
  },
  {
   "cell_type": "code",
   "execution_count": 2,
   "metadata": {
    "deletable": false,
    "editable": false,
    "nbgrader": {
     "cell_type": "code",
     "checksum": "4d43c9ad6e77cc01ce4cef0c34824930",
     "grade": false,
     "grade_id": "cell-bbc3030bb3fe7e02",
     "locked": true,
     "schema_version": 3,
     "solution": false,
     "task": false
    }
   },
   "outputs": [],
   "source": [
    "def download_dataset():\n",
    "    folder_path = os.environ.get(\"IR1_DATA_PATH\")\n",
    "    if not folder_path:\n",
    "        folder_path = \"./datasets/\"\n",
    "    os.makedirs(folder_path, exist_ok=True)\n",
    "    \n",
    "    file_location = os.path.join(folder_path, \"cacm.zip\")\n",
    "    \n",
    "    # download file if it doesn't exist\n",
    "    if not os.path.exists(file_location):\n",
    "        \n",
    "        url = \"https://surfdrive.surf.nl/files/index.php/s/M0FGJpX2p8wDwxR/download\"\n",
    "\n",
    "        with open(file_location, \"wb\") as handle:\n",
    "            print(f\"Downloading file from {url} to {file_location}\")\n",
    "            response = requests.get(url, stream=True)\n",
    "            for data in tqdm(response.iter_content()):\n",
    "                handle.write(data)\n",
    "            print(\"Finished downloading file\")\n",
    "    \n",
    "    if not os.path.exists(os.path.join(folder_path, \"train.txt\")):\n",
    "        \n",
    "        # unzip file\n",
    "        with zipfile.ZipFile(file_location, 'r') as zip_ref:\n",
    "            zip_ref.extractall(folder_path)\n",
    "        \n",
    "download_dataset()"
   ]
  },
  {
   "cell_type": "markdown",
   "metadata": {
    "deletable": false,
    "editable": false,
    "nbgrader": {
     "cell_type": "markdown",
     "checksum": "31609b0d61d0c74cbd69bc43e47c23be",
     "grade": false,
     "grade_id": "cell-a7dd9a9bf98ede05",
     "locked": true,
     "schema_version": 3,
     "solution": false,
     "task": false
    }
   },
   "source": [
    "---\n",
    "\n",
    "You can see a brief description of each file in the dataset by looking at the README file:"
   ]
  },
  {
   "cell_type": "code",
   "execution_count": 3,
   "metadata": {
    "deletable": false,
    "editable": false,
    "nbgrader": {
     "cell_type": "code",
     "checksum": "cb3c9a2b8b2bf4fd5b7446b0c4c00f43",
     "grade": false,
     "grade_id": "cell-9b6ff1a17124711f",
     "locked": true,
     "schema_version": 3,
     "solution": false,
     "task": false
    }
   },
   "outputs": [
    {
     "name": "stdout",
     "output_type": "stream",
     "text": [
      "Files in this directory with sizes:\n",
      "          0 Jun 19 21:01 README\n",
      "\n",
      "    2187734 Jun 19 20:55 cacm.all              text of documents\n",
      "        626 Jun 19 20:58 cite.info             key to citation info\n",
      "                                                (the X sections in cacm.all)\n",
      "       2668 Jun 19 20:55 common_words           stop words used by smart\n",
      "       2194 Jun 19 20:55 make_coll*             shell script to make collection\n",
      "       1557 Jun 19 20:55 make_coll_term*        ditto (both useless without\n",
      "                                                smart system)\n",
      "       9948 Jun 19 20:55 qrels.text             relation giving\n",
      "                                                    qid did 0 0\n",
      "                                                to indicate dument did is\n",
      "                                                relevant to query qid\n",
      "      13689 Jun 19 20:55 query.text             Original text of the query\n",
      "\n"
     ]
    }
   ],
   "source": [
    "##### Read the README file \n",
    "with open (\"./datasets/README\",\"r\") as file:\n",
    "    readme = file.read()\n",
    "    print(readme)\n",
    "#####"
   ]
  },
  {
   "cell_type": "markdown",
   "metadata": {
    "deletable": false,
    "editable": false,
    "nbgrader": {
     "cell_type": "markdown",
     "checksum": "6e2712c4c4632bf7486a532f7f18074d",
     "grade": false,
     "grade_id": "cell-73351431869fda76",
     "locked": true,
     "schema_version": 3,
     "solution": false,
     "task": false
    }
   },
   "source": [
    "---\n",
    "We are interested in 4 files:\n",
    "- `cacm.all` : Contains the text for all documents. Note that some documents do not have abstracts available\n",
    "- `query.text` : The text of all queries\n",
    "- `qrels.text` : The relevance judgements\n",
    "- `common_words` : A list of common words. This may be used as a collection of stopwords"
   ]
  },
  {
   "cell_type": "code",
   "execution_count": 4,
   "metadata": {
    "deletable": false,
    "editable": false,
    "nbgrader": {
     "cell_type": "code",
     "checksum": "f1162c15177eb4ffe466531d03cff4a2",
     "grade": false,
     "grade_id": "cell-b44dd14079f278ca",
     "locked": true,
     "schema_version": 3,
     "solution": false,
     "task": false
    }
   },
   "outputs": [
    {
     "name": "stdout",
     "output_type": "stream",
     "text": [
      ".I 1\n",
      ".T\n",
      "Preliminary Report-International Algebraic Language\n",
      ".B\n",
      "CACM December, 1958\n",
      ".A\n",
      "Perlis, A. J.\n",
      "Samelson,K.\n",
      ".N\n",
      "CA581203 JB March 22, 1978  8:28 PM\n",
      ".X\n",
      "100\t5\t1\n",
      "123\t5\t1\n",
      "164\t5\t1\n",
      "1\t5\t1\n",
      "1\t5\t1\n",
      "1\t5\t1\n",
      "205\t5\t1\n",
      "210\t5\t1\n",
      "214\t5\t1\n",
      "1982\t5\t1\n",
      "398\t5\t1\n",
      "642\t5\t1\n",
      "669\t5\t1\n",
      "1\t6\t1\n",
      "1\t6\t1\n",
      "1\t6\t1\n",
      "1\t6\t1\n",
      "1\t6\t1\n",
      "1\t6\t1\n",
      "1\t6\t1\n",
      "1\t6\t1\n",
      "1\t6\t1\n",
      "1\t6\t1\n",
      "165\t6\t1\n",
      "196\t6\t1\n",
      "196\t6\t1\n",
      "1273\t6\t1\n",
      "1883\t6\t1\n",
      "324\t6\t1\n",
      "43\t6\t1\n",
      "53\t6\t1\n",
      "91\t6\t1\n",
      "410\t6\t1\n",
      "3184\t6\t1\n",
      "\n"
     ]
    }
   ],
   "source": [
    "##### The first 45 lines of the CACM dataset forms the first record\n",
    "# We are interested only in 3 fields. \n",
    "# 1. the '.I' field, which is the document id\n",
    "# 2. the '.T' field (the title) and\n",
    "# 3. the '.W' field (the abstract, which may be absent)\n",
    "with open (\"./datasets/cacm.all\",\"r\") as file:\n",
    "    cacm_all = \"\".join(file.readlines()[:45])\n",
    "    print(cacm_all)\n",
    "#####"
   ]
  },
  {
   "cell_type": "markdown",
   "metadata": {
    "deletable": false,
    "editable": false,
    "nbgrader": {
     "cell_type": "markdown",
     "checksum": "250b413baccd8efb186bb46a34ae0060",
     "grade": false,
     "grade_id": "cell-c4bf2e263ec553d8",
     "locked": true,
     "schema_version": 3,
     "solution": false,
     "task": false
    }
   },
   "source": [
    "---\n",
    "\n",
    "The following function reads the `cacm.all` file. Note that each document has a variable number of lines. The `.I` field denotes a new document:"
   ]
  },
  {
   "cell_type": "code",
   "execution_count": 5,
   "metadata": {
    "deletable": false,
    "editable": false,
    "nbgrader": {
     "cell_type": "code",
     "checksum": "57d757e6a7a6938740dc899022b4f291",
     "grade": false,
     "grade_id": "cell-b736116eb419c624",
     "locked": true,
     "schema_version": 3,
     "solution": false,
     "task": false
    }
   },
   "outputs": [],
   "source": [
    "def read_cacm_docs(root_folder = \"./datasets/\"):\n",
    "    \"\"\"\n",
    "        Reads in the CACM documents. The dataset is assumed to be in the folder \"./datasets/\" by default\n",
    "        Returns: A list of 2-tuples: (doc_id, document), where 'document' is a single string created by \n",
    "            appending the title and abstract (separated by a \"\\n\"). \n",
    "            In case the record doesn't have an abstract, the document is composed only by the title\n",
    "    \"\"\"\n",
    "    with open(os.path.join(root_folder, \"cacm.all\")) as reader:\n",
    "        lines = reader.readlines()\n",
    "    \n",
    "    doc_id, title, abstract = None, None, None\n",
    "    \n",
    "    docs = []\n",
    "    line_idx = 0\n",
    "    while line_idx < len(lines):\n",
    "        line = lines[line_idx]\n",
    "        if line.startswith(\".I\"):\n",
    "            if doc_id is not None:\n",
    "                docs.append((doc_id, title, abstract))\n",
    "                doc_id, title, abstract = None, None, None\n",
    "            \n",
    "            doc_id = line.split()[-1]\n",
    "            line_idx += 1\n",
    "        elif line.startswith(\".T\"):\n",
    "            # start at next line\n",
    "            line_idx += 1\n",
    "            temp_lines = []\n",
    "            # read till next '.'\n",
    "            while not lines[line_idx].startswith(\".\"):\n",
    "                temp_lines.append(lines[line_idx].strip(\"\\n\"))\n",
    "                line_idx += 1\n",
    "            title = \"\\n\".join(temp_lines).strip(\"\\n\")\n",
    "        elif line.startswith(\".W\"):\n",
    "            # start at next line\n",
    "            line_idx += 1\n",
    "            temp_lines = []\n",
    "            # read till next '.'\n",
    "            while not lines[line_idx].startswith(\".\"):\n",
    "                temp_lines.append(lines[line_idx].strip(\"\\n\"))\n",
    "                line_idx += 1\n",
    "            abstract = \"\\n\".join(temp_lines).strip(\"\\n\")\n",
    "        else:\n",
    "            line_idx += 1\n",
    "    \n",
    "    docs.append((doc_id, title, abstract))\n",
    "    \n",
    "    p_docs = []\n",
    "    for (did, t, a) in docs:\n",
    "        if a is None:\n",
    "            a = \"\"\n",
    "        p_docs.append((did, t + \"\\n\" + a))\n",
    "    return p_docs\n"
   ]
  },
  {
   "cell_type": "code",
   "execution_count": 6,
   "metadata": {
    "deletable": false,
    "editable": false,
    "nbgrader": {
     "cell_type": "code",
     "checksum": "2f81930fcd89670b6e20e2255e1f2369",
     "grade": false,
     "grade_id": "cell-a1c43818e0d3fd79",
     "locked": true,
     "schema_version": 3,
     "solution": false,
     "task": false
    }
   },
   "outputs": [],
   "source": [
    "##### Function check\n",
    "docs = read_cacm_docs()\n",
    "\n",
    "assert isinstance(docs, list)\n",
    "assert len(docs) == 3204, \"There should be exactly 3204 documents\"\n",
    "\n",
    "unzipped_docs = list(zip(*docs))\n",
    "assert np.sum(np.array(list(map(int,unzipped_docs[0])))) == 5134410\n",
    "\n",
    "##### "
   ]
  },
  {
   "cell_type": "markdown",
   "metadata": {
    "deletable": false,
    "editable": false,
    "nbgrader": {
     "cell_type": "markdown",
     "checksum": "25fd3cfaf2137c56002b850699b3c9d3",
     "grade": false,
     "grade_id": "cell-5ed2ddc91f73c60e",
     "locked": true,
     "schema_version": 3,
     "solution": false,
     "task": false
    }
   },
   "source": [
    "---\n",
    "### 1.2 Read the CACM queries\n",
    "\n",
    "Next, let us read the queries. They are formatted similarly:"
   ]
  },
  {
   "cell_type": "code",
   "execution_count": 7,
   "metadata": {
    "deletable": false,
    "editable": false,
    "nbgrader": {
     "cell_type": "code",
     "checksum": "5d26c0908e758acb9968b84056b1060a",
     "grade": false,
     "grade_id": "cell-5c7e8e7c4fc2757f",
     "locked": true,
     "schema_version": 3,
     "solution": false,
     "task": false
    }
   },
   "outputs": [
    {
     "name": "stdout",
     "output_type": "stream",
     "text": [
      ".I 1\n",
      ".W\n",
      " What articles exist which deal with TSS (Time Sharing System), an\n",
      "operating system for IBM computers?\n",
      ".N\n",
      " 1. Richard Alexander, Comp Serv, Langmuir Lab (TSS)\n",
      " \n",
      ".I 2\n",
      ".W\n",
      " I am interested in articles written either by Prieve or Udo Pooch\n",
      ".A\n",
      "Prieve, B.\n",
      "Pooch, U.\n",
      ".N\n",
      " 2. Richard Alexander, Comp Serv, Langmuir Lab (author = Pooch or Prieve)\n"
     ]
    }
   ],
   "source": [
    "##### The first 15 lines of 'query.text' has 2 queries\n",
    "# We are interested only in 2 fields. \n",
    "# 1. the '.I' - the query id\n",
    "# 2. the '.W' - the query\n",
    "!head -15 ./datasets/query.text\n",
    "#####"
   ]
  },
  {
   "cell_type": "markdown",
   "metadata": {
    "deletable": false,
    "editable": false,
    "nbgrader": {
     "cell_type": "markdown",
     "checksum": "8f19f311a660f30e3f86cb0f7037d54a",
     "grade": false,
     "grade_id": "cell-88e293507d2dcef6",
     "locked": true,
     "schema_version": 3,
     "solution": false,
     "task": false
    }
   },
   "source": [
    "---\n",
    "\n",
    "The following function reads the `query.text` file:"
   ]
  },
  {
   "cell_type": "code",
   "execution_count": 8,
   "metadata": {
    "deletable": false,
    "editable": false,
    "nbgrader": {
     "cell_type": "code",
     "checksum": "e3fbb193211007672849487f5cff1664",
     "grade": false,
     "grade_id": "cell-433e3ad5d0e2572a",
     "locked": true,
     "schema_version": 3,
     "solution": false,
     "task": false
    }
   },
   "outputs": [],
   "source": [
    "def read_queries(root_folder = \"./datasets/\"):\n",
    "    \"\"\"\n",
    "        Reads in the CACM queries. The dataset is assumed to be in the folder \"./datasets/\" by default\n",
    "        Returns: A list of 2-tuples: (query_id, query)\n",
    "    \"\"\"\n",
    "    with open(os.path.join(root_folder, \"query.text\")) as reader:\n",
    "        lines = reader.readlines()\n",
    "    \n",
    "    query_id, query = None, None\n",
    "    \n",
    "    queries = []\n",
    "    line_idx = 0\n",
    "    while line_idx < len(lines):\n",
    "        line = lines[line_idx]\n",
    "        if line.startswith(\".I\"):\n",
    "            if query_id is not None:\n",
    "                queries.append((query_id, query))\n",
    "                query_id, query = None, None\n",
    "    \n",
    "            query_id = line.split()[-1]\n",
    "            line_idx += 1\n",
    "        elif line.startswith(\".W\"):\n",
    "            # start at next line\n",
    "            line_idx += 1\n",
    "            temp_lines = []\n",
    "            # read till next '.'\n",
    "            while not lines[line_idx].startswith(\".\"):\n",
    "                temp_lines.append(lines[line_idx].strip(\"\\n\"))\n",
    "                line_idx += 1\n",
    "            query = \"\\n\".join(temp_lines).strip(\"\\n\")\n",
    "        else:\n",
    "            line_idx += 1\n",
    "    \n",
    "    queries.append((query_id, query))\n",
    "    return queries\n"
   ]
  },
  {
   "cell_type": "code",
   "execution_count": 9,
   "metadata": {
    "deletable": false,
    "editable": false,
    "nbgrader": {
     "cell_type": "code",
     "checksum": "a897b9771b54f447be3418d7246fc4a0",
     "grade": false,
     "grade_id": "cell-6ec540abce66c598",
     "locked": true,
     "schema_version": 3,
     "solution": false,
     "task": false
    }
   },
   "outputs": [],
   "source": [
    "##### Function check\n",
    "queries = read_queries()\n",
    "\n",
    "assert isinstance(queries, list)\n",
    "assert len(queries) == 64 and all([q[1] is not None for q in queries]), \"There should be exactly 64 queries\"\n",
    "\n",
    "unzipped_queries = list(zip(*queries))\n",
    "assert np.sum(np.array(list(map(int,unzipped_queries[0])))) == 2080\n",
    "\n",
    "##### "
   ]
  },
  {
   "cell_type": "markdown",
   "metadata": {
    "deletable": false,
    "editable": false,
    "nbgrader": {
     "cell_type": "markdown",
     "checksum": "a300c41912ac63b239070b4c15c9f5c5",
     "grade": false,
     "grade_id": "cell-1c31569491d7b782",
     "locked": true,
     "schema_version": 3,
     "solution": false,
     "task": false
    }
   },
   "source": [
    "---\n",
    "### 1.3 Read the stop words\n",
    "\n",
    "We use the common words stored in `common_words`:"
   ]
  },
  {
   "cell_type": "code",
   "execution_count": 10,
   "metadata": {
    "deletable": false,
    "editable": false,
    "nbgrader": {
     "cell_type": "code",
     "checksum": "1ad6f5bae6a792504c1c8513ae5751ad",
     "grade": false,
     "grade_id": "cell-34bdb63461418a96",
     "locked": true,
     "schema_version": 3,
     "solution": false,
     "task": false
    }
   },
   "outputs": [
    {
     "name": "stdout",
     "output_type": "stream",
     "text": [
      "a\n",
      "about\n",
      "above\n",
      "accordingly\n",
      "across\n",
      "after\n",
      "afterwards\n",
      "again\n",
      "against\n",
      "all\n"
     ]
    }
   ],
   "source": [
    "##### Read the stop words file \n",
    "!head ./datasets/common_words\n",
    "##### Read the README file "
   ]
  },
  {
   "cell_type": "markdown",
   "metadata": {
    "deletable": false,
    "editable": false,
    "nbgrader": {
     "cell_type": "markdown",
     "checksum": "6d0fe612e770213b6397c2179b07a966",
     "grade": false,
     "grade_id": "cell-4744bde0338895d8",
     "locked": true,
     "schema_version": 3,
     "solution": false,
     "task": false
    }
   },
   "source": [
    "---\n",
    "\n",
    "The following function reads the `common_words` file (For better coverage, we try to keep them in lowercase):"
   ]
  },
  {
   "cell_type": "code",
   "execution_count": 11,
   "metadata": {
    "deletable": false,
    "editable": false,
    "nbgrader": {
     "cell_type": "code",
     "checksum": "9409713fd26eb0c33587e190638997c4",
     "grade": false,
     "grade_id": "cell-7357aa40f64e5bcb",
     "locked": true,
     "schema_version": 3,
     "solution": false,
     "task": false
    }
   },
   "outputs": [],
   "source": [
    "def load_stopwords(root_folder = \"./datasets/\"):\n",
    "    \"\"\"\n",
    "        Loads the stopwords. The dataset is assumed to be in the folder \"./datasets/\" by default\n",
    "        Output: A set of stopwords\n",
    "    \"\"\"\n",
    "    with open(os.path.join(root_folder, \"common_words\")) as reader:\n",
    "        lines = reader.readlines()\n",
    "    stopwords = set([l.strip().lower() for l in lines])\n",
    "    return stopwords\n"
   ]
  },
  {
   "cell_type": "code",
   "execution_count": 12,
   "metadata": {
    "deletable": false,
    "editable": false,
    "nbgrader": {
     "cell_type": "code",
     "checksum": "f1c8153c3c38133bc2db6e7b076ad470",
     "grade": false,
     "grade_id": "cell-2ca3ac162004de97",
     "locked": true,
     "schema_version": 3,
     "solution": false,
     "task": false
    }
   },
   "outputs": [],
   "source": [
    "##### Function check\n",
    "stopwords = load_stopwords()\n",
    "\n",
    "assert isinstance(stopwords, set)\n",
    "assert len(stopwords) == 428, \"There should be exactly 428 stop words\"\n",
    "\n",
    "assert np.sum(np.array(list(map(len,stopwords)))) == 2234\n",
    "\n",
    "##### \n"
   ]
  },
  {
   "cell_type": "markdown",
   "metadata": {
    "deletable": false,
    "editable": false,
    "nbgrader": {
     "cell_type": "markdown",
     "checksum": "92c1191e9e7291dcf0d70dc67b907a65",
     "grade": false,
     "grade_id": "cell-134b72872f4300cb",
     "locked": true,
     "schema_version": 3,
     "solution": false,
     "task": false
    }
   },
   "source": [
    "---\n",
    "### 1.4 Tokenization (3 points)\n",
    "\n",
    "We can now write some basic text processing functions. \n",
    "A first step is to tokenize the text. \n",
    "\n",
    "**Note**: Use the  `WordPunctTokenizer` available in the `nltk` library:"
   ]
  },
  {
   "cell_type": "code",
   "execution_count": 13,
   "metadata": {
    "deletable": false,
    "nbgrader": {
     "cell_type": "code",
     "checksum": "3f5564d3c75bf22fbf832b3a9b938f37",
     "grade": false,
     "grade_id": "cell-322be4c9499bdc4b",
     "locked": false,
     "schema_version": 3,
     "solution": true,
     "task": false
    }
   },
   "outputs": [],
   "source": [
    "# TODO: Implement this! (4 points)\n",
    "def tokenize(text):\n",
    "    \"\"\"\n",
    "        Tokenizes the input text. Use the WordPunctTokenizer\n",
    "        Input: text - a string\n",
    "        Output: a list of tokens\n",
    "    \"\"\"\n",
    "    # YOUR CODE HERE\n",
    "    tokens = nltk.WordPunctTokenizer().tokenize(text)\n",
    "    return tokens"
   ]
  },
  {
   "cell_type": "code",
   "execution_count": 14,
   "metadata": {
    "deletable": false,
    "editable": false,
    "nbgrader": {
     "cell_type": "code",
     "checksum": "e15af22c4d8ae0a3f9dac43bef7097ec",
     "grade": true,
     "grade_id": "cell-7fbf48bf7541a622",
     "locked": true,
     "points": 3,
     "schema_version": 3,
     "solution": false,
     "task": false
    }
   },
   "outputs": [
    {
     "name": "stdout",
     "output_type": "stream",
     "text": [
      "['the', 'quick', 'brown', 'fox', 'jumps', 'over', 'the', 'lazy', 'dog']\n"
     ]
    }
   ],
   "source": [
    "##### Function check\n",
    "text = \"the quick brown fox jumps over the lazy dog\"\n",
    "tokens = tokenize(text)\n",
    "\n",
    "assert isinstance(tokens, list)\n",
    "assert len(tokens) == 9\n",
    "\n",
    "print(tokens)\n",
    "# output: ['the', 'quick', 'brown', 'fox', 'jumps', 'over', 'the', 'lazy', 'dog']\n",
    "#####"
   ]
  },
  {
   "cell_type": "markdown",
   "metadata": {
    "deletable": false,
    "editable": false,
    "nbgrader": {
     "cell_type": "markdown",
     "checksum": "34210618bff4cb47aad2f03cb4b9854c",
     "grade": false,
     "grade_id": "cell-fd1b98ae61b697ca",
     "locked": true,
     "schema_version": 3,
     "solution": false,
     "task": false
    }
   },
   "source": [
    "---\n",
    "### 1.5 Stemming (2 points)\n",
    "\n",
    "Write a function to stem tokens. \n",
    "Again, you can use the nltk library for this:"
   ]
  },
  {
   "cell_type": "code",
   "execution_count": 15,
   "metadata": {
    "deletable": false,
    "nbgrader": {
     "cell_type": "code",
     "checksum": "1c4a6aa979d66158c7b6b992af43293a",
     "grade": false,
     "grade_id": "cell-e3f6c8e3f874b28d",
     "locked": false,
     "schema_version": 3,
     "solution": true,
     "task": false
    }
   },
   "outputs": [],
   "source": [
    "# TODO: Implement this! (3 points)\n",
    "def stem_token(token):\n",
    "    \"\"\"\n",
    "        Stems the given token using the PorterStemmer from the nltk library\n",
    "        Input: a single token\n",
    "        Output: the stem of the token\n",
    "    \"\"\"\n",
    "    # YOUR CODE HERE\n",
    "    stem_token = nltk.stem.PorterStemmer().stem(token)\n",
    "    return stem_token"
   ]
  },
  {
   "cell_type": "code",
   "execution_count": 16,
   "metadata": {
    "deletable": false,
    "editable": false,
    "nbgrader": {
     "cell_type": "code",
     "checksum": "9363b4f09b556d424d9c895d4ab57b1c",
     "grade": true,
     "grade_id": "cell-cd6863e6ee6ed205",
     "locked": true,
     "points": 2,
     "schema_version": 3,
     "solution": false,
     "task": false
    }
   },
   "outputs": [],
   "source": [
    "##### Function check\n",
    "\n",
    "assert stem_token('owned') == 'own'\n",
    "assert stem_token('itemization') == 'item'\n",
    "#####"
   ]
  },
  {
   "cell_type": "markdown",
   "metadata": {
    "deletable": false,
    "editable": false,
    "nbgrader": {
     "cell_type": "markdown",
     "checksum": "0b311d014146da6afa1d39542fab9869",
     "grade": false,
     "grade_id": "cell-47c9f90498699110",
     "locked": true,
     "schema_version": 3,
     "solution": false,
     "task": false
    }
   },
   "source": [
    "---\n",
    "### 1.6 Summary\n",
    "\n",
    "The following function puts it all together. Given an input string, this functions tokenizes and processes it according to the flags that you set."
   ]
  },
  {
   "cell_type": "code",
   "execution_count": 17,
   "metadata": {
    "deletable": false,
    "editable": false,
    "nbgrader": {
     "cell_type": "code",
     "checksum": "2ff2d215ee8e0039c5a91fd3de12e6bd",
     "grade": false,
     "grade_id": "cell-dd0d3f46b30801da",
     "locked": true,
     "schema_version": 3,
     "solution": false,
     "task": false
    }
   },
   "outputs": [],
   "source": [
    "#### Putting it all together\n",
    "def process_text(text, stem=False, remove_stopwords=False, lowercase_text=False):\n",
    "    \n",
    "    tokens = []\n",
    "    for token in tokenize(text):\n",
    "        if remove_stopwords and token.lower() in stopwords:\n",
    "            continue\n",
    "        if stem:\n",
    "            token = stem_token(token)\n",
    "        if lowercase_text:\n",
    "            token = token.lower()\n",
    "        tokens.append(token)\n",
    "\n",
    "    return tokens\n",
    "#### "
   ]
  },
  {
   "cell_type": "markdown",
   "metadata": {
    "deletable": false,
    "editable": false,
    "nbgrader": {
     "cell_type": "markdown",
     "checksum": "02d433b18eb43654fa4306a7bf55b190",
     "grade": false,
     "grade_id": "cell-8d885bfd2edd43ae",
     "locked": true,
     "schema_version": 3,
     "solution": false,
     "task": false
    }
   },
   "source": [
    "---\n",
    "\n",
    "Let's create two sets of preprocessed documents.\n",
    "We can process the documents and queries according to these two configurations:"
   ]
  },
  {
   "cell_type": "code",
   "execution_count": 18,
   "metadata": {
    "deletable": false,
    "editable": false,
    "nbgrader": {
     "cell_type": "code",
     "checksum": "dbe4ca667be6842fdcf512fbcad50c7f",
     "grade": false,
     "grade_id": "cell-d427365ee0fb21d8",
     "locked": true,
     "schema_version": 3,
     "solution": false,
     "task": false
    }
   },
   "outputs": [],
   "source": [
    "# In this configuration:\n",
    "# Don't preprocess the text, except to tokenize \n",
    "config_1 = {\n",
    "  \"stem\": False,\n",
    "  \"remove_stopwords\" : False,\n",
    "  \"lowercase_text\": True\n",
    "} \n",
    "\n",
    "\n",
    "# In this configuration:\n",
    "# Preprocess the text, stem and remove stopwords\n",
    "config_2 = {\n",
    "  \"stem\": True,\n",
    "  \"remove_stopwords\" : True,\n",
    "  \"lowercase_text\": True, \n",
    "} \n",
    "\n",
    "####\n",
    "doc_repr_1 = []\n",
    "doc_repr_2 = []\n",
    "for (doc_id, document) in docs:\n",
    "    doc_repr_1.append((doc_id, process_text(document, **config_1)))\n",
    "    doc_repr_2.append((doc_id, process_text(document, **config_2)))\n",
    "\n",
    "####"
   ]
  },
  {
   "cell_type": "markdown",
   "metadata": {
    "deletable": false,
    "editable": false,
    "nbgrader": {
     "cell_type": "markdown",
     "checksum": "b60589aac19e80941d860d9b3f1e9a16",
     "grade": false,
     "grade_id": "cell-b1c102db61ae7495",
     "locked": true,
     "schema_version": 3,
     "solution": false,
     "task": false
    }
   },
   "source": [
    "--- \n",
    "\n",
    "## Section 2: Indexing (10 points)<a class=\"anchor\" id=\"indexing\"></a>\n",
    "\n",
    "[Back to Part 1](#part1)\n",
    "\n",
    "\n",
    "\n",
    "A retrieval function usually takes in a query document pair, and scores a query against a document.  Our document set is quite small - just a few thousand documents. However, consider a web-scale dataset with a few million documents. In such a scenario, it would become infeasible to score every query and document pair. In such a case, we can build an inverted index. From Wikipedia:\n",
    "\n",
    "> ... , an inverted index (also referred to as a postings file or inverted file) is a database index storing a mapping from content, such as words or numbers, to its locations in a table, .... The purpose of an inverted index is to allow fast full-text searches, at a cost of increased processing when a document is added to the database. ...\n",
    "\n",
    "\n",
    "Consider a simple inverted index, which maps from word to document. This can improve the performance of a retrieval system significantly. In this assignment, we consider a *simple* inverted index, which maps a word to a set of documents. In practice, however, more complex indices might be used.  \n"
   ]
  },
  {
   "cell_type": "markdown",
   "metadata": {
    "deletable": false,
    "editable": false,
    "nbgrader": {
     "cell_type": "markdown",
     "checksum": "710fd943f45523ac36fcb887cc0d4d39",
     "grade": false,
     "grade_id": "cell-fa373192c1b7bb95",
     "locked": true,
     "schema_version": 3,
     "solution": false,
     "task": false
    }
   },
   "source": [
    "### 2.1 Term Frequency-index (10 points)\n",
    "In this assignment, we will be using an index created in memory since our dataset is tiny. To get started, build a simple index that maps each `token` to a list of `(doc_id, count)` where `count` is the count of the `token` in `doc_id`.\n",
    "For consistency, build this index using a python dictionary.\n",
    "    \n",
    "Now, implement a function to build an index:"
   ]
  },
  {
   "cell_type": "code",
   "execution_count": 19,
   "metadata": {
    "deletable": false,
    "nbgrader": {
     "cell_type": "code",
     "checksum": "d4e8c6b658c469379d5fe511de05b536",
     "grade": false,
     "grade_id": "cell-077599b87e953209",
     "locked": false,
     "schema_version": 3,
     "solution": true,
     "task": false
    }
   },
   "outputs": [],
   "source": [
    "# TODO: Implement this! (10 points)\n",
    "\n",
    "from collections import defaultdict\n",
    "from collections import Counter\n",
    "\n",
    "def build_tf_index(documents):\n",
    "    \"\"\"\n",
    "        Build an inverted index (with counts). The output is a dictionary which takes in a token\n",
    "        and returns a list of (doc_id, count) where 'count' is the count of the 'token' in 'doc_id'\n",
    "        Input: a list of documents - (doc_id, tokens) \n",
    "        Output: An inverted index implemented within a pyhton dictionary: [token] -> [(doc_id, token_count)]\n",
    "    \"\"\"\n",
    "    # YOUR CODE HERE\n",
    "\n",
    "    tok_dict = defaultdict(lambda: [])\n",
    "    for i, toks in documents:\n",
    "        counter = Counter(toks)\n",
    "        for key in counter.keys():\n",
    "            # Add key if not present\n",
    "            if not (key in tok_dict.keys()):\n",
    "                tok_dict[key] = []\n",
    "            tok_dict[key].append((i,counter[key]))\n",
    "    return tok_dict"
   ]
  },
  {
   "cell_type": "markdown",
   "metadata": {
    "deletable": false,
    "editable": false,
    "nbgrader": {
     "cell_type": "markdown",
     "checksum": "15e7041b4323d2a290322de538ff7670",
     "grade": false,
     "grade_id": "cell-093aebfa504f96f2",
     "locked": true,
     "schema_version": 3,
     "solution": false,
     "task": false
    }
   },
   "source": [
    "---\n",
    "Now we can build indexed documents and preprocess the queries based on the two configurations:"
   ]
  },
  {
   "cell_type": "code",
   "execution_count": 20,
   "metadata": {
    "deletable": false,
    "editable": false,
    "nbgrader": {
     "cell_type": "code",
     "checksum": "e27540c1d8d77a3779a05f557f3f40c6",
     "grade": false,
     "grade_id": "cell-b2ff1676348b90a8",
     "locked": true,
     "schema_version": 3,
     "solution": false,
     "task": false
    }
   },
   "outputs": [],
   "source": [
    "#### Indexed documents based on the two configs\n",
    "\n",
    "# Create the 2 indices\n",
    "tf_index_1 = build_tf_index(doc_repr_1)\n",
    "tf_index_2 = build_tf_index(doc_repr_2)\n",
    "\n",
    "# This function returns the tf_index of the corresponding config\n",
    "def get_index(index_set):\n",
    "    assert index_set in {1, 2}\n",
    "    return {\n",
    "        1: tf_index_1,\n",
    "        2: tf_index_2\n",
    "    }[index_set]\n",
    "\n",
    "####\n",
    "#### Preprocessed query based on the two configs\n",
    "\n",
    "# This function preprocesses the text given the index set, according to the specified config\n",
    "def preprocess_query(text, index_set):\n",
    "    assert index_set in {1, 2}\n",
    "    if index_set == 1:\n",
    "        return process_text(text, **config_1)\n",
    "    elif index_set == 2:\n",
    "        return process_text(text, **config_2)\n",
    "\n",
    "#### "
   ]
  },
  {
   "cell_type": "code",
   "execution_count": 21,
   "metadata": {
    "deletable": false,
    "editable": false,
    "nbgrader": {
     "cell_type": "code",
     "checksum": "f0cbc8703e1248cd6edf03f9019b69db",
     "grade": true,
     "grade_id": "cell-fc7c7232d5d2ee46",
     "locked": true,
     "points": 5,
     "schema_version": 3,
     "solution": false,
     "task": false
    }
   },
   "outputs": [
    {
     "name": "stdout",
     "output_type": "stream",
     "text": [
      "sample tf index for computer: [('4', 1), ('7', 1), ('10', 1), ('13', 1), ('19', 1), ('22', 1), ('23', 1), ('37', 1), ('40', 3), ('41', 1)]\n",
      "sample tf index for examples: [('111', 1), ('320', 1), ('644', 1), ('691', 1), ('727', 1), ('848', 1), ('892', 1), ('893', 1), ('1049', 1), ('1051', 1)]\n"
     ]
    }
   ],
   "source": [
    "##### Function check\n",
    "\n",
    "assert isinstance(tf_index_1, dict)\n",
    "\n",
    "assert isinstance(tf_index_1['computer'], list)\n",
    "print('sample tf index for computer:', tf_index_1['computer'][:10])\n",
    "\n",
    "assert isinstance(tf_index_1['examples'], list)\n",
    "print('sample tf index for examples:', tf_index_1['examples'][:10])\n",
    "#### "
   ]
  },
  {
   "cell_type": "code",
   "execution_count": 22,
   "metadata": {
    "deletable": false,
    "editable": false,
    "nbgrader": {
     "cell_type": "code",
     "checksum": "d49b8ac36815d9a5cb4bed838ab53a50",
     "grade": true,
     "grade_id": "cell-ff06bd11204db250",
     "locked": true,
     "points": 5,
     "schema_version": 3,
     "solution": false,
     "task": false
    }
   },
   "outputs": [
    {
     "name": "stdout",
     "output_type": "stream",
     "text": [
      "sample tf index for computer: [('4', 1), ('7', 1), ('10', 1), ('13', 1), ('19', 1), ('22', 1), ('23', 1), ('37', 1), ('40', 3), ('41', 1)]\n",
      "sample tf index for examples: []\n"
     ]
    }
   ],
   "source": [
    "##### Function check\n",
    "\n",
    "assert isinstance(tf_index_2, dict)\n",
    "\n",
    "assert isinstance(tf_index_2['computer'], list)\n",
    "print('sample tf index for computer:', tf_index_1['computer'][:10])\n",
    "\n",
    "assert isinstance(tf_index_2['examples'], list)\n",
    "print('sample tf index for examples:', tf_index_2['examples'][:10])\n",
    "#### "
   ]
  },
  {
   "cell_type": "markdown",
   "metadata": {
    "deletable": false,
    "editable": false,
    "nbgrader": {
     "cell_type": "markdown",
     "checksum": "880b2ef3ca405f2af6e0667d2dc7a600",
     "grade": false,
     "grade_id": "cell-89eba71f04310291",
     "locked": true,
     "schema_version": 3,
     "solution": false,
     "task": false
    }
   },
   "source": [
    "\n",
    "---\n",
    "## Section 3: Ranking  (80 points) <a class=\"anchor\" id=\"ranking\"></a>\n",
    "\n",
    "[Back to Part 1](#part1)\n",
    "\n",
    "Now that we have cleaned and processed our dataset, we can start building simple IR systems. \n",
    "\n",
    "For now, we consider *simple* IR systems, which involve computing scores from the tokens present in the document/query. More advanced methods are covered in later assignments.\n",
    "\n",
    "We will implement the following methods in this section:\n",
    "- [Section 3.1: Bag of Words](#bow) (10 points)\n",
    "- [Section 3.2: TF-IDF](#tfidf) (15 points)\n",
    "- [Section 3.3: Query Likelihood Model](#qlm) (35 points)\n",
    "- [Section 3.4: BM25](#bm25) (20 points)\n",
    "\n",
    "*All search functions should be able to handle multiple words queries.*\n",
    "\n",
    "**Scoring policy:**\n",
    "Your implementations in this section are scored based on the expected performance of your ranking functions.\n",
    "You will get a full mark if your implementation meets the expected performance (measured by some evaluation metric).\n",
    "Otherwise, you may get partial credit.\n",
    "For example, if your *Bag of words* ranking function has 60% of expected performance, you will get 6 out of 10."
   ]
  },
  {
   "cell_type": "markdown",
   "metadata": {
    "deletable": false,
    "editable": false,
    "nbgrader": {
     "cell_type": "markdown",
     "checksum": "6c74e5061917358300c6e8085ec07864",
     "grade": false,
     "grade_id": "cell-3daf70a60e393adf",
     "locked": true,
     "schema_version": 3,
     "solution": false,
     "task": false
    }
   },
   "source": [
    "--- \n",
    "\n",
    "### Section 3.1: Bag of Words (10 points)<a class=\"anchor\" id=\"bow\"></a>\n",
    "\n",
    "Probably the simplest IR model is the Bag of Words (BOW) model.\n",
    "Implement a function that scores and ranks all the documents against a query using this model.   \n",
    "\n",
    "- For consistency, you should use the count of the token and **not** the binary indicator.\n",
    "- Use `float` type for the scores (even though the scores are integers in this case).\n",
    "- No normalization of the scores is necessary, as the ordering is what we are interested in.\n",
    "- If two documents have the same score, they can have any ordering: you are not required to disambiguate.\n"
   ]
  },
  {
   "cell_type": "code",
   "execution_count": 23,
   "metadata": {
    "deletable": false,
    "nbgrader": {
     "cell_type": "code",
     "checksum": "fee4640e22bfc4f05eb958a675ef40e7",
     "grade": false,
     "grade_id": "cell-de9cf0459c4b9324",
     "locked": false,
     "schema_version": 3,
     "solution": true,
     "task": false
    }
   },
   "outputs": [],
   "source": [
    "# TODO: Implement this! (10 points)\n",
    "def bow_search(query, index_set):\n",
    "    \"\"\"\n",
    "        Perform a search over all documents with the given query. \n",
    "        Note: You have to use the `get_index` function created in the previous cells\n",
    "        Input: \n",
    "            query - a (unprocessed) query\n",
    "            index_set - the index to use\n",
    "        Output: a list of (document_id, score), sorted in descending relevance to the given query. \n",
    "    \"\"\"\n",
    "    index = get_index(index_set)\n",
    "    processed_query = preprocess_query(query, index_set)\n",
    "    # YOUR CODE HERE\n",
    "    \n",
    "    counter = Counter()\n",
    "    for word in processed_query:\n",
    "        for ind, count in index[word]:\n",
    "            counter[ind] += float(count)\n",
    "    return counter.most_common(5)"
   ]
  },
  {
   "cell_type": "code",
   "execution_count": 24,
   "metadata": {
    "deletable": false,
    "editable": false,
    "nbgrader": {
     "cell_type": "code",
     "checksum": "613524fbbf02b1d122c6611a71fbf11b",
     "grade": true,
     "grade_id": "cell-9f6aceae6dd9125f",
     "locked": true,
     "points": 2,
     "schema_version": 3,
     "solution": false,
     "task": false
    }
   },
   "outputs": [],
   "source": [
    "#### Function check\n",
    "\n",
    "test_bow = bow_search(\"how to implement bag of words search\", index_set=1)[:5]\n",
    "assert isinstance(test_bow, list)\n",
    "assert len(test_bow[0]) == 2\n",
    "assert isinstance(test_bow[0][0], str)\n",
    "assert isinstance(test_bow[0][1], float)\n",
    "\n",
    "#### "
   ]
  },
  {
   "cell_type": "code",
   "execution_count": 25,
   "metadata": {
    "deletable": false,
    "editable": false,
    "nbgrader": {
     "cell_type": "code",
     "checksum": "9af20897659edb62fe77598483590500",
     "grade": true,
     "grade_id": "cell-4eed3abf233d9b58",
     "locked": true,
     "points": 2,
     "schema_version": 3,
     "solution": false,
     "task": false
    }
   },
   "outputs": [
    {
     "name": "stdout",
     "output_type": "stream",
     "text": [
      "BOW Results:\n",
      "Rank 0(1.3e+01): On Computing The Fast Fourier Transform\\nCooley an...\n",
      "Rank 1(1.2e+01): Variable Length Tree Structures Having Minimum Ave...\n",
      "Rank 2(1.1e+01): A Modular Computer Sharing System\\nAn alternative ...\n",
      "Rank 3(1e+01): PEEKABIT, Computer Offspring of Punched\\nCard PEEK...\n",
      "Rank 4(9.0): Computer Simulation-Discussion of the\\nTechnique a...\n"
     ]
    }
   ],
   "source": [
    "\n",
    "docs_by_id = dict(docs)\n",
    "def print_results(docs, len_limit=50):    \n",
    "    for i, (doc_id, score) in enumerate(docs):\n",
    "        doc_content = docs_by_id[doc_id].strip().replace(\"\\n\", \"\\\\n\")[:len_limit] + \"...\"\n",
    "        print(f\"Rank {i}({score:.2}): {doc_content}\")\n",
    "\n",
    "test_bow_2 = bow_search(\"computer search word\", index_set=2)[:5]\n",
    "print(f\"BOW Results:\")\n",
    "print_results(test_bow_2)\n"
   ]
  },
  {
   "cell_type": "code",
   "execution_count": 26,
   "metadata": {
    "deletable": false,
    "editable": false,
    "nbgrader": {
     "cell_type": "code",
     "checksum": "3c9c8b16c8e7d1032f101e9da8a6e845",
     "grade": true,
     "grade_id": "cell-4d65a2d7090c466c",
     "locked": true,
     "points": 3,
     "schema_version": 3,
     "solution": false,
     "task": false
    }
   },
   "outputs": [
    {
     "name": "stdout",
     "output_type": "stream",
     "text": [
      "BOW Results:\n",
      "Rank 0(9.0): CURRICULUM 68 -- Recommendations for Academic\\nPro...\n",
      "Rank 1(9.0): Variable Length Tree Structures Having Minimum Ave...\n",
      "Rank 2(7.0): Computer Formulation of the Equations of Motion Us...\n",
      "Rank 3(7.0): The Effects of Multiplexing on a Computer-Communic...\n",
      "Rank 4(6.0): Optimizing Bit-time Computer Simulation\\nA major c...\n"
     ]
    }
   ],
   "source": [
    "\n",
    "test_bow_1 = bow_search(\"computer search word\", index_set=1)[:5]\n",
    "print(f\"BOW Results:\")\n",
    "print_results(test_bow_1)\n"
   ]
  },
  {
   "cell_type": "code",
   "execution_count": 27,
   "metadata": {
    "deletable": false,
    "editable": false,
    "nbgrader": {
     "cell_type": "code",
     "checksum": "b7e593847aa4202ae45ec061fb18ad73",
     "grade": true,
     "grade_id": "cell-dedf36ab5853ce20",
     "locked": true,
     "points": 3,
     "schema_version": 3,
     "solution": false,
     "task": false
    }
   },
   "outputs": [
    {
     "name": "stdout",
     "output_type": "stream",
     "text": [
      "top-5 docs for index1: ('1771', '1936', '1543', '2535', '678')\n",
      "top-5 docs for index2: ('1525', '1936', '1844', '1700', '1366')\n"
     ]
    }
   ],
   "source": [
    "print('top-5 docs for index1:', list(zip(*test_bow_1[:5]))[0])\n",
    "print('top-5 docs for index2:', list(zip(*test_bow_2[:5]))[0])\n"
   ]
  },
  {
   "cell_type": "markdown",
   "metadata": {
    "deletable": false,
    "editable": false,
    "nbgrader": {
     "cell_type": "markdown",
     "checksum": "b04352ee0716dfdf094b8cdb6f32e984",
     "grade": false,
     "grade_id": "cell-a5c09c79ac1f2871",
     "locked": true,
     "schema_version": 3,
     "solution": false,
     "task": false
    }
   },
   "source": [
    "\n",
    "---\n",
    "\n",
    "### Section 3.2: TF-IDF (15 points) <a class=\"anchor\" id=\"tfidf\"></a>\n",
    "\n",
    "Before we implement the tf-idf scoring functions, let's first write a function to compute the document frequencies of all words.  \n",
    "\n",
    "#### 3.2.1 Document frequency (5 points)\n",
    "Compute the document frequencies of all tokens in the collection. \n",
    "Your code should return a dictionary with tokens as its keys and the number of documents containing the token as values.\n",
    "For consistency, the values should have `int` type."
   ]
  },
  {
   "cell_type": "code",
   "execution_count": 28,
   "metadata": {
    "deletable": false,
    "nbgrader": {
     "cell_type": "code",
     "checksum": "5c53263cf4c0b0ffcaae08b91fc364cc",
     "grade": false,
     "grade_id": "cell-9a2369f32e864b8a",
     "locked": false,
     "schema_version": 3,
     "solution": true,
     "task": false
    }
   },
   "outputs": [],
   "source": [
    "# TODO: Implement this! (5 points)\n",
    "def compute_df(documents):\n",
    "    \"\"\"\n",
    "        Compute the document frequency of all terms in the vocabulary\n",
    "        Input: A list of documents\n",
    "        Output: A dictionary with {token: document frequency (int)}\n",
    "    \"\"\"\n",
    "    \n",
    "    # YOUR CODE HERE\n",
    "    doc_repr = []\n",
    "    for (doc_id, document) in enumerate(documents):\n",
    "        doc_repr.append((doc_id, document))\n",
    "    index = build_tf_index(doc_repr)\n",
    "    df = defaultdict(lambda:1)\n",
    "    for tok in index.keys():\n",
    "        items = index[tok]\n",
    "        df[tok] = len(items)\n",
    "    return df"
   ]
  },
  {
   "cell_type": "code",
   "execution_count": 29,
   "metadata": {
    "deletable": false,
    "editable": false,
    "nbgrader": {
     "cell_type": "code",
     "checksum": "154985511d7925c5793a1f97dea81880",
     "grade": false,
     "grade_id": "cell-4c3bddd0b73ac90e",
     "locked": true,
     "schema_version": 3,
     "solution": false,
     "task": false
    }
   },
   "outputs": [],
   "source": [
    "#### Compute df based on the two configs\n",
    "\n",
    "# get the document frequencies of each document\n",
    "df_1 = compute_df([d[1] for d in doc_repr_1])\n",
    "df_2 = compute_df([d[1] for d in doc_repr_2])\n",
    "\n",
    "def get_df(index_set):\n",
    "    assert index_set in {1, 2}\n",
    "    return {\n",
    "        1: df_1,\n",
    "        2: df_2\n",
    "    }[index_set]\n",
    "####"
   ]
  },
  {
   "cell_type": "code",
   "execution_count": 30,
   "metadata": {
    "deletable": false,
    "editable": false,
    "nbgrader": {
     "cell_type": "code",
     "checksum": "110cc180068cf3f77c682ee3de2a117c",
     "grade": true,
     "grade_id": "cell-79e8a6db1e5fc46f",
     "locked": true,
     "points": 5,
     "schema_version": 3,
     "solution": false,
     "task": false
    }
   },
   "outputs": [
    {
     "name": "stdout",
     "output_type": "stream",
     "text": [
      "597\n",
      "11\n"
     ]
    }
   ],
   "source": [
    "#### Function check\n",
    "\n",
    "print(df_1['computer'])\n",
    "print(df_2['computer'])\n",
    "####"
   ]
  },
  {
   "cell_type": "markdown",
   "metadata": {
    "deletable": false,
    "editable": false,
    "nbgrader": {
     "cell_type": "markdown",
     "checksum": "d0d577668fa51b80aeab6e67209ae73b",
     "grade": false,
     "grade_id": "cell-52f6acc487e1b96d",
     "locked": true,
     "schema_version": 3,
     "solution": false,
     "task": false
    }
   },
   "source": [
    "---\n",
    "#### 3.2.2 TF-IDF search (10 points)\n",
    "Next, implement a function that computes a tf-idf score, given a query.\n",
    "Use the following formulas for TF and IDF:\n",
    "\n",
    "$$ TF=\\log (1 + f_{d,t}) $$\n",
    "\n",
    "$$ IDF=\\log (\\frac{N}{n_t})$$\n",
    "\n",
    "where $f_{d,t}$ is the frequency of token $t$ in document $d$, $N$ is the number of total documents and $n_t$ is the number of documents containing token $t$.\n",
    "\n",
    "**Note:** your implementation will be auto-graded assuming you have used the above formulas.\n"
   ]
  },
  {
   "cell_type": "code",
   "execution_count": 31,
   "metadata": {
    "deletable": false,
    "nbgrader": {
     "cell_type": "code",
     "checksum": "3534c44b4a3419ca1db98eebe7115dc1",
     "grade": false,
     "grade_id": "cell-2fb5ba34b2994cd9",
     "locked": false,
     "schema_version": 3,
     "solution": true,
     "task": false
    }
   },
   "outputs": [],
   "source": [
    "# TODO: Implement this! (10 points)\n",
    "def tfidf_search(query, index_set):\n",
    "    \"\"\"\n",
    "        Perform a search over all documents with the given query using tf-idf. \n",
    "        Note #1: You have to use the `get_index` (and the `get_df`) function created in the previous cells\n",
    "        Input: \n",
    "            query - a (unprocessed) query\n",
    "            index_set - the index to use\n",
    "        Output: a list of (document_id, score), sorted in descending relevance to the given query \n",
    "    \"\"\"\n",
    "    index = get_index(index_set)\n",
    "    df = get_df(index_set)\n",
    "    processed_query = preprocess_query(query, index_set)\n",
    "    N = len(docs)\n",
    "    # YOUR CODE HERE\n",
    "    \n",
    "    score = Counter()\n",
    "    for word in processed_query:\n",
    "        if df[word]:\n",
    "            idf = np.log(N/df[word])\n",
    "        for ind, count in index[word]:\n",
    "            tf = np.log(1 + float(count))\n",
    "            score[ind] += tf*idf\n",
    "    return score.most_common()"
   ]
  },
  {
   "cell_type": "code",
   "execution_count": 32,
   "metadata": {
    "deletable": false,
    "editable": false,
    "nbgrader": {
     "cell_type": "code",
     "checksum": "7b66a514663d898694b09a23a597312b",
     "grade": true,
     "grade_id": "cell-bc68aeeacf42beb3",
     "locked": true,
     "points": 2,
     "schema_version": 3,
     "solution": false,
     "task": false
    }
   },
   "outputs": [],
   "source": [
    "\n",
    "#### Function check\n",
    "test_tfidf = tfidf_search(\"how to implement tf idf search\", index_set=1)[:5]\n",
    "assert isinstance(test_tfidf, list)\n",
    "assert len(test_tfidf[0]) == 2\n",
    "assert isinstance(test_tfidf[0][0], str)\n",
    "assert isinstance(test_tfidf[0][1], float)\n",
    "\n",
    "####"
   ]
  },
  {
   "cell_type": "code",
   "execution_count": 33,
   "metadata": {
    "deletable": false,
    "editable": false,
    "nbgrader": {
     "cell_type": "code",
     "checksum": "98fb1326cf4bf7983ae237ca8a9105f9",
     "grade": true,
     "grade_id": "cell-c7702fa8179fadb9",
     "locked": true,
     "points": 2,
     "schema_version": 3,
     "solution": false,
     "task": false
    }
   },
   "outputs": [
    {
     "name": "stdout",
     "output_type": "stream",
     "text": [
      "TFIDF Results:\n",
      "Rank 0(1.3e+01): PEEKABIT, Computer Offspring of Punched\\nCard PEEK...\n",
      "Rank 1(9.8): Variable Length Tree Structures Having Minimum Ave...\n",
      "Rank 2(8.2): A Stochastic Approach to the Grammatical Coding of...\n",
      "Rank 3(8.1): Full Table Quadratic Searching for Scatter Storage...\n",
      "Rank 4(7.6): Use of Tree Structures for Processing Files\\nIn da...\n"
     ]
    }
   ],
   "source": [
    "\n",
    "test_tfidf_2 = tfidf_search(\"computer word search\", index_set=2)[:5]\n",
    "print(f\"TFIDF Results:\")\n",
    "print_results(test_tfidf_2)\n"
   ]
  },
  {
   "cell_type": "code",
   "execution_count": 34,
   "metadata": {
    "deletable": false,
    "editable": false,
    "nbgrader": {
     "cell_type": "code",
     "checksum": "733b5b67be5e53989f5b763ce5e52ee9",
     "grade": true,
     "grade_id": "cell-3284f50ac29abbaa",
     "locked": true,
     "points": 3,
     "schema_version": 3,
     "solution": false,
     "task": false
    }
   },
   "outputs": [
    {
     "name": "stdout",
     "output_type": "stream",
     "text": [
      "TFIDF Results:\n",
      "Rank 0(9.4): Variable Length Tree Structures Having Minimum Ave...\n",
      "Rank 1(7.4): On the Feasibility of Voice Input to\\nan On-line C...\n",
      "Rank 2(7.3): Median Split Trees: A Fast Lookup Technique for Fr...\n",
      "Rank 3(7.0): Execution Time Requirements for Encipherment Progr...\n",
      "Rank 4(7.0): Storage and Search Properties of a Tree-Organized ...\n"
     ]
    }
   ],
   "source": [
    "\n",
    "test_tfidf_1 = tfidf_search(\"computer word search\", index_set=1)[:5]\n",
    "print(f\"TFIDF Results:\")\n",
    "print_results(test_tfidf_1)\n"
   ]
  },
  {
   "cell_type": "code",
   "execution_count": 35,
   "metadata": {
    "deletable": false,
    "editable": false,
    "nbgrader": {
     "cell_type": "code",
     "checksum": "e0edb37a5ae807a2de85d578c87ccb78",
     "grade": true,
     "grade_id": "cell-d908c80a3155354b",
     "locked": true,
     "points": 3,
     "schema_version": 3,
     "solution": false,
     "task": false
    }
   },
   "outputs": [
    {
     "name": "stdout",
     "output_type": "stream",
     "text": [
      "top-5 docs for index1 with BOW search: ('1771', '1936', '1543', '2535', '678')\n",
      "top-5 docs for index2 with BOW search: ('1525', '1936', '1844', '1700', '1366')\n",
      "top-5 docs for index1 with TF-IDF search: ('1936', '2054', '3041', '2620', '944')\n",
      "top-5 docs for index2 with TF-IDF search: ('1700', '1936', '1235', '2018', '849')\n"
     ]
    }
   ],
   "source": [
    "\n",
    "print('top-5 docs for index1 with BOW search:', list(zip(*test_bow_1[:5]))[0])\n",
    "print('top-5 docs for index2 with BOW search:', list(zip(*test_bow_2[:5]))[0])\n",
    "print('top-5 docs for index1 with TF-IDF search:', list(zip(*test_tfidf_1[:5]))[0])\n",
    "print('top-5 docs for index2 with TF-IDF search:', list(zip(*test_tfidf_2[:5]))[0])\n",
    "\n"
   ]
  },
  {
   "cell_type": "markdown",
   "metadata": {
    "deletable": false,
    "editable": false,
    "nbgrader": {
     "cell_type": "markdown",
     "checksum": "cdffc83f0eaea937cf64a212e7e9af8d",
     "grade": false,
     "grade_id": "cell-f5d923459ba21733",
     "locked": true,
     "schema_version": 3,
     "solution": false,
     "task": false
    }
   },
   "source": [
    "--- \n",
    "\n",
    "### Section 3.3: Query Likelihood Model (35 points) <a class=\"anchor\" id=\"qlm\"></a>\n",
    "\n",
    "In this section, you will implement a simple query likelihood model. \n",
    "\n",
    "\n",
    "#### 3.3.1 Naive QL (15 points)\n",
    "\n",
    "First, let us implement a naive version of a QL model, assuming a multinomial unigram language model (with a uniform prior over the documents). \n",
    "\n"
   ]
  },
  {
   "cell_type": "code",
   "execution_count": 36,
   "metadata": {
    "deletable": false,
    "editable": false,
    "nbgrader": {
     "cell_type": "code",
     "checksum": "b7ae2b7d818b428b4638c1c9206d2aca",
     "grade": false,
     "grade_id": "cell-98505778f7b68e7f",
     "locked": true,
     "schema_version": 3,
     "solution": false,
     "task": false
    }
   },
   "outputs": [],
   "source": [
    "#### Document length for normalization\n",
    "\n",
    "def doc_lengths(documents):\n",
    "    doc_lengths = {doc_id:len(doc) for (doc_id, doc) in documents}\n",
    "    return doc_lengths\n",
    "\n",
    "doc_lengths_1 = doc_lengths(doc_repr_1)\n",
    "doc_lengths_2 = doc_lengths(doc_repr_2)\n",
    "\n",
    "def get_doc_lengths(index_set):\n",
    "    assert index_set in {1, 2}\n",
    "    return {\n",
    "        1: doc_lengths_1,\n",
    "        2: doc_lengths_2\n",
    "    }[index_set]\n",
    "####"
   ]
  },
  {
   "cell_type": "code",
   "execution_count": 37,
   "metadata": {
    "deletable": false,
    "nbgrader": {
     "cell_type": "code",
     "checksum": "cedd08303a914243fefdb6b876977ca1",
     "grade": false,
     "grade_id": "cell-8bcf2b804d636c2e",
     "locked": false,
     "schema_version": 3,
     "solution": true,
     "task": false
    }
   },
   "outputs": [],
   "source": [
    "# TODO: Implement this! (15 points)\n",
    "def naive_ql_search(query, index_set):\n",
    "    \"\"\"\n",
    "        Perform a search over all documents with the given query using a naive QL model. \n",
    "        Note #1: You have to use the `get_index` (and get_doc_lengths) function created in the previous cells\n",
    "        Input: \n",
    "            query - a (unprocessed) query\n",
    "            index_set - the index to use\n",
    "        Output: a list of (document_id, score), sorted in descending relevance to the given query \n",
    "    \"\"\"\n",
    "    index = get_index(index_set)\n",
    "    doc_lengths = get_doc_lengths(index_set)\n",
    "    processed_query = preprocess_query(query, index_set)\n",
    "    # YOUR CODE HERE\n",
    "\n",
    "    scores = []\n",
    "\n",
    "    for word in processed_query:\n",
    "        for key, value in index.items():\n",
    "            if word == key:\n",
    "                tot = [(doc_id, token_count / doc_lengths[doc_id]) for doc_id, token_count in value]\n",
    "                scores.extend(tot)\n",
    "\n",
    "                doc = [doc_id for doc_id, token_count in value]\n",
    "\n",
    "                for i in range(len(docs)):\n",
    "                    i += 1 \n",
    "                    if i not in doc:\n",
    "                        scores.append((i, 0))\n",
    "                        \n",
    "    d_query = defaultdict(lambda:[])\n",
    "\n",
    "    for (key, value) in scores:\n",
    "        if key in d_query:\n",
    "            d_query[key] += value\n",
    "        else:\n",
    "            d_query[key] = value\n",
    "\n",
    "    scores = [(key, float(value)) for key, value in d_query.items()]\n",
    "    scores.sort(key = lambda x:x[1], reverse = True)\n",
    "\n",
    "    return scores\n",
    "    "
   ]
  },
  {
   "cell_type": "code",
   "execution_count": 38,
   "metadata": {
    "deletable": false,
    "editable": false,
    "nbgrader": {
     "cell_type": "code",
     "checksum": "b550d15bdad28354c336020a00c33d56",
     "grade": true,
     "grade_id": "cell-5a83ac12ecde8578",
     "locked": true,
     "points": 3,
     "schema_version": 3,
     "solution": false,
     "task": false
    }
   },
   "outputs": [
    {
     "name": "stdout",
     "output_type": "stream",
     "text": [
      "Naive QL Results:\n",
      "Rank 0(0.2): A Report Writer For COBOL...\n",
      "Rank 1(0.2): A CRT Report Generating System...\n",
      "Rank 2(0.17): Preliminary Report-International Algebraic Languag...\n",
      "Rank 3(0.17): Supplement to the ALGOL 60 Report...\n",
      "Rank 4(0.14): ALGOL Sub-Committee Report - Extensions...\n"
     ]
    }
   ],
   "source": [
    "#### Function check\n",
    "test_naiveql = naive_ql_search(\"report\", index_set=1)[:5]\n",
    "print(f\"Naive QL Results:\")\n",
    "print_results(test_naiveql)\n",
    "####"
   ]
  },
  {
   "cell_type": "code",
   "execution_count": 39,
   "metadata": {
    "deletable": false,
    "editable": false,
    "nbgrader": {
     "cell_type": "code",
     "checksum": "799df1d81c63fe90edbb6c218fc707fb",
     "grade": true,
     "grade_id": "cell-80f4bf2137f997bb",
     "locked": true,
     "points": 2,
     "schema_version": 3,
     "solution": false,
     "task": false
    }
   },
   "outputs": [],
   "source": [
    "#### Please do not change this. This cell is used for grading."
   ]
  },
  {
   "cell_type": "code",
   "execution_count": 40,
   "metadata": {
    "deletable": false,
    "editable": false,
    "nbgrader": {
     "cell_type": "code",
     "checksum": "875a4a517d27e20625d41783cebec118",
     "grade": true,
     "grade_id": "cell-5ce2993458a8ce51",
     "locked": true,
     "points": 3,
     "schema_version": 3,
     "solution": false,
     "task": false
    }
   },
   "outputs": [],
   "source": [
    "#### Please do not change this. This cell is used for grading."
   ]
  },
  {
   "cell_type": "code",
   "execution_count": 41,
   "metadata": {
    "deletable": false,
    "editable": false,
    "nbgrader": {
     "cell_type": "code",
     "checksum": "d5c4e1c3852e71a46f32825b122f1b71",
     "grade": true,
     "grade_id": "cell-7753bdb54e292f3d",
     "locked": true,
     "points": 3,
     "schema_version": 3,
     "solution": false,
     "task": false
    }
   },
   "outputs": [],
   "source": [
    "#### Please do not change this. This cell is used for grading."
   ]
  },
  {
   "cell_type": "code",
   "execution_count": 42,
   "metadata": {
    "deletable": false,
    "editable": false,
    "nbgrader": {
     "cell_type": "code",
     "checksum": "c4d4332d4356e89ce0240f6b80e1899a",
     "grade": true,
     "grade_id": "cell-54e476e2f96e64bb",
     "locked": true,
     "points": 4,
     "schema_version": 3,
     "solution": false,
     "task": false
    }
   },
   "outputs": [],
   "source": [
    "#### Please do not change this. This cell is used for grading."
   ]
  },
  {
   "cell_type": "markdown",
   "metadata": {
    "deletable": false,
    "editable": false,
    "nbgrader": {
     "cell_type": "markdown",
     "checksum": "8d739dc91a22bd48897f603885f95a74",
     "grade": false,
     "grade_id": "cell-5414dfd69dab8b94",
     "locked": true,
     "schema_version": 3,
     "solution": false,
     "task": false
    }
   },
   "source": [
    "---\n",
    "#### 3.3.2 QL (20 points)\n",
    "Now, let's implement a QL model that handles the issues with the naive version. In particular, you will implement a QL model with Jelinek-Mercer Smoothing. That means an interpolated score is computed per word - one term is the same as the previous naive version, and the second term comes from a unigram language model. In addition, you should accumulate the scores by summing the **log** (smoothed) probability which leads to better numerical stability."
   ]
  },
  {
   "cell_type": "code",
   "execution_count": 43,
   "metadata": {
    "deletable": false,
    "nbgrader": {
     "cell_type": "code",
     "checksum": "b8c6abf937ad333e628f1db891f2e29e",
     "grade": false,
     "grade_id": "cell-bb1f506409771257",
     "locked": false,
     "schema_version": 3,
     "solution": true,
     "task": false
    }
   },
   "outputs": [],
   "source": [
    "# TODO: Implement this! (20 points)\n",
    "\n",
    "# YOUR CODE HERE\n",
    "#raise NotImplementedError()\n",
    "\n",
    "def ql_search(query, index_set):\n",
    "    \"\"\"\n",
    "        Perform a search over all documents with the given query using a QL model \n",
    "        with Jelinek-Mercer Smoothing (set smoothing=0.1). \n",
    "        \n",
    "        \n",
    "        Note #1: You have to use the `get_index` (and get_doc_lengths) function created in the previous cells\n",
    "        Note #2: You might have to create some variables beforehand and use them in this function\n",
    "        \n",
    "        \n",
    "        Input: \n",
    "            query - a (unprocessed) query\n",
    "            index_set - the index to use\n",
    "        Output: a list of (document_id, score), sorted in descending relevance to the given query \n",
    "    \"\"\"\n",
    "    index = get_index(index_set)\n",
    "    doc_lengths = get_doc_lengths(index_set)\n",
    "    processed_query = preprocess_query(query, index_set)\n",
    "    \n",
    "    # YOUR CODE HERE\n",
    "    smoothing = 0.1\n",
    "    lengths = sum(doc_lengths.values())\n",
    "    freqs = {i: sum(count for doc_id, count in value) for i, value in index.items()}\n",
    "    scores = []\n",
    "    \n",
    "    for word in processed_query:\n",
    "        for key, value in index.items():\n",
    "            if word == key:\n",
    "                tot = [(doc_id, np.log((1 - smoothing) * (token_count / doc_lengths[doc_id]) + smoothing * (freqs[key] / lengths))) for doc_id, token_count in value]\n",
    "                scores.extend(tot)\n",
    "                \n",
    "                doc = [doc_id for doc_id, token_count in value]\n",
    "                for i in range(len(docs)):\n",
    "                    i += 1\n",
    "                    if i not in doc:\n",
    "                        scores.append((i, np.log(0 + smoothing * (freqs[key] / lengths))))\n",
    "    \n",
    "    d_query = defaultdict(lambda:[])\n",
    "    for (key, value) in scores:\n",
    "        if key in d_query:\n",
    "            d_query[key] += value\n",
    "        else:\n",
    "            d_query[key] = value\n",
    "\n",
    "    scores = [(key, float(value)) for key, value in d_query.items()]\n",
    "    scores.sort(key = lambda x:x[1], reverse = True)\n",
    "    \n",
    "    return scores\n",
    "    "
   ]
  },
  {
   "cell_type": "code",
   "execution_count": 44,
   "metadata": {
    "deletable": false,
    "editable": false,
    "nbgrader": {
     "cell_type": "code",
     "checksum": "0b12a7f3355193a257fd9f5f69a66562",
     "grade": true,
     "grade_id": "cell-850e9d6369bcec32",
     "locked": true,
     "points": 4,
     "schema_version": 3,
     "solution": false,
     "task": false
    }
   },
   "outputs": [
    {
     "name": "stdout",
     "output_type": "stream",
     "text": [
      "Rank 0(-1.7): A Report Writer For COBOL...\n",
      "Rank 1(-1.7): A CRT Report Generating System...\n",
      "Rank 2(-1.9): Preliminary Report-International Algebraic Languag...\n",
      "Rank 3(-1.9): Supplement to the ALGOL 60 Report...\n",
      "Rank 4(-2.1): ALGOL Sub-Committee Report - Extensions...\n",
      "\n",
      "Rank 0(-1.7e+01): A Report Writer For COBOL...\n",
      "Rank 1(-1.7e+01): A CRT Report Generating System...\n",
      "Rank 2(-1.9e+01): Preliminary Report-International Algebraic Languag...\n",
      "Rank 3(-1.9e+01): Supplement to the ALGOL 60 Report...\n",
      "Rank 4(-2.1e+01): ALGOL Sub-Committee Report - Extensions...\n"
     ]
    }
   ],
   "source": [
    "#### Function check\n",
    "test_ql_results = ql_search(\"report\", index_set=1)[:5]\n",
    "print_results(test_ql_results)\n",
    "print()\n",
    "test_ql_results_long = ql_search(\"report \" * 10, index_set=1)[:5]\n",
    "print_results(test_ql_results_long)\n",
    "####"
   ]
  },
  {
   "cell_type": "code",
   "execution_count": 45,
   "metadata": {
    "deletable": false,
    "editable": false,
    "nbgrader": {
     "cell_type": "code",
     "checksum": "e40be645140389c115849856145f5b59",
     "grade": true,
     "grade_id": "cell-958cdcf6fd6899b7",
     "locked": true,
     "points": 3,
     "schema_version": 3,
     "solution": false,
     "task": false
    }
   },
   "outputs": [],
   "source": [
    "#### Please do not change this. This cell is used for grading."
   ]
  },
  {
   "cell_type": "code",
   "execution_count": 46,
   "metadata": {
    "deletable": false,
    "editable": false,
    "nbgrader": {
     "cell_type": "code",
     "checksum": "41d4aff001df17e7963ba79b45810b30",
     "grade": true,
     "grade_id": "cell-384dc23a0c251f6e",
     "locked": true,
     "points": 4,
     "schema_version": 3,
     "solution": false,
     "task": false
    }
   },
   "outputs": [],
   "source": [
    "#### Please do not change this. This cell is used for grading."
   ]
  },
  {
   "cell_type": "code",
   "execution_count": 47,
   "metadata": {
    "deletable": false,
    "editable": false,
    "nbgrader": {
     "cell_type": "code",
     "checksum": "893e8c5a073abc8ebb763d267b91bc02",
     "grade": true,
     "grade_id": "cell-7218966cba5097cc",
     "locked": true,
     "points": 4,
     "schema_version": 3,
     "solution": false,
     "task": false
    }
   },
   "outputs": [],
   "source": [
    "#### Please do not change this. This cell is used for grading."
   ]
  },
  {
   "cell_type": "code",
   "execution_count": 48,
   "metadata": {
    "deletable": false,
    "editable": false,
    "nbgrader": {
     "cell_type": "code",
     "checksum": "f99cb6f8b1f5830aaed8f06712ff846e",
     "grade": true,
     "grade_id": "cell-481ab073259ae53f",
     "locked": true,
     "points": 5,
     "schema_version": 3,
     "solution": false,
     "task": false
    }
   },
   "outputs": [],
   "source": [
    "#### Please do not change this. This cell is used for grading."
   ]
  },
  {
   "cell_type": "markdown",
   "metadata": {
    "deletable": false,
    "editable": false,
    "nbgrader": {
     "cell_type": "markdown",
     "checksum": "c02f14705d679579b1aa9f78f54779d5",
     "grade": false,
     "grade_id": "cell-f44088bfdac1dc90",
     "locked": true,
     "schema_version": 3,
     "solution": false,
     "task": false
    }
   },
   "source": [
    "--- \n",
    "\n",
    "### Section 3.4: BM25 (20 points) <a class=\"anchor\" id=\"bm25\"></a>\n",
    "\n",
    "In this section, we will implement the BM25 scoring function. \n"
   ]
  },
  {
   "cell_type": "code",
   "execution_count": 49,
   "metadata": {
    "deletable": false,
    "nbgrader": {
     "cell_type": "code",
     "checksum": "e57efe06ea92af1c83784a42eb3d86e0",
     "grade": false,
     "grade_id": "cell-15640fc9b5d00a3c",
     "locked": false,
     "schema_version": 3,
     "solution": true,
     "task": false
    }
   },
   "outputs": [],
   "source": [
    "# TODO: Implement this! (20 points)\n",
    "def bm25_search(query, index_set):\n",
    "    \"\"\"\n",
    "        Perform a search over all documents with the given query using BM25. Use k_1 = 1.5 and b = 0.75\n",
    "        Note #1: You have to use the `get_index` (and `get_doc_lengths`) function created in the previous cells\n",
    "        Note #2: You might have to create some variables beforehand and use them in this function\n",
    "        \n",
    "        Input: \n",
    "            query - a (unprocessed) query\n",
    "            index_set - the index to use\n",
    "        Output: a list of (document_id, score), sorted in descending relevance to the given query \n",
    "    \"\"\"\n",
    "    \n",
    "    index = get_index(index_set)\n",
    "    df = get_df(index_set)\n",
    "    doc_lengths = get_doc_lengths(index_set)\n",
    "    processed_query = preprocess_query(query, index_set)\n",
    "    \n",
    "    # YOUR CODE HERE\n",
    "    b = 0.75\n",
    "    k1 = 1.5\n",
    "    \n",
    "    avg_doc_length = np.mean(list(doc_lengths.values()))\n",
    "    documents = len(docs)\n",
    "    idf = {key: np.log(documents / value) for (key, value) in df.items()}\n",
    "\n",
    "    scores  = []\n",
    "    for word in processed_query:\n",
    "        for key, value in index.items():\n",
    "            if word == key:\n",
    "                scores  += [(doc_id, idf[key] * (((k1 + 1)*token_count)/(k1*((1-b)+(b*doc_lengths[doc_id]/avg_doc_length))+token_count))) for doc_id, token_count in value]\n",
    "\n",
    "    d_query = defaultdict(lambda:[])\n",
    "\n",
    "    for key, value in scores:\n",
    "        if key in d_query:\n",
    "            d_query[key] += value\n",
    "        else:\n",
    "            d_query[key] = value\n",
    "\n",
    "    scores  = [(key, float(value)) for key, value in d_query.items()]\n",
    "    scores.sort(key=lambda x:x[1], reverse=True)\n",
    "\n",
    "    return scores       \n",
    "    "
   ]
  },
  {
   "cell_type": "code",
   "execution_count": 50,
   "metadata": {
    "deletable": false,
    "editable": false,
    "nbgrader": {
     "cell_type": "code",
     "checksum": "4be9de5d4e94637960d83725422bea6c",
     "grade": true,
     "grade_id": "cell-d10536bca72c74b1",
     "locked": true,
     "points": 3,
     "schema_version": 3,
     "solution": false,
     "task": false
    }
   },
   "outputs": [
    {
     "name": "stdout",
     "output_type": "stream",
     "text": [
      "Rank 0(6.7): A Report Writer For COBOL...\n",
      "Rank 1(6.7): A CRT Report Generating System...\n",
      "Rank 2(6.6): Preliminary Report-International Algebraic Languag...\n",
      "Rank 3(6.6): Supplement to the ALGOL 60 Report...\n",
      "Rank 4(6.5): ALGOL Sub-Committee Report - Extensions...\n"
     ]
    }
   ],
   "source": [
    "#### Function check\n",
    "test_bm25_results = bm25_search(\"report\", index_set=1)[:5]\n",
    "print_results(test_bm25_results)\n",
    "####"
   ]
  },
  {
   "cell_type": "code",
   "execution_count": 51,
   "metadata": {
    "deletable": false,
    "editable": false,
    "nbgrader": {
     "cell_type": "code",
     "checksum": "31b550d6a46ae4f8ede88788799ac2b9",
     "grade": true,
     "grade_id": "cell-60f6ec5052712d79",
     "locked": true,
     "points": 5,
     "schema_version": 3,
     "solution": false,
     "task": false
    }
   },
   "outputs": [],
   "source": [
    "#### Please do not change this. This cell is used for grading."
   ]
  },
  {
   "cell_type": "code",
   "execution_count": 52,
   "metadata": {
    "deletable": false,
    "editable": false,
    "nbgrader": {
     "cell_type": "code",
     "checksum": "3da2ec16bfe781916e71755d65aa2983",
     "grade": true,
     "grade_id": "cell-5d17524043a5abcc",
     "locked": true,
     "points": 5,
     "schema_version": 3,
     "solution": false,
     "task": false
    }
   },
   "outputs": [],
   "source": [
    "#### Please do not change this. This cell is used for grading."
   ]
  },
  {
   "cell_type": "code",
   "execution_count": 53,
   "metadata": {
    "deletable": false,
    "editable": false,
    "nbgrader": {
     "cell_type": "code",
     "checksum": "e7b563d54fa84c20909c0ae107010541",
     "grade": true,
     "grade_id": "cell-ff8e704eda1184e3",
     "locked": true,
     "points": 3,
     "schema_version": 3,
     "solution": false,
     "task": false
    }
   },
   "outputs": [],
   "source": [
    "#### Please do not change this. This cell is used for grading."
   ]
  },
  {
   "cell_type": "code",
   "execution_count": 54,
   "metadata": {
    "deletable": false,
    "editable": false,
    "nbgrader": {
     "cell_type": "code",
     "checksum": "b013f90974b396630a8831d6f1d7e5f7",
     "grade": true,
     "grade_id": "cell-a52310500a2543cb",
     "locked": true,
     "points": 4,
     "schema_version": 3,
     "solution": false,
     "task": false
    }
   },
   "outputs": [],
   "source": [
    "#### Please do not change this. This cell is used for grading."
   ]
  },
  {
   "cell_type": "markdown",
   "metadata": {
    "deletable": false,
    "editable": false,
    "nbgrader": {
     "cell_type": "markdown",
     "checksum": "8fcf67cb7d5e8b26cb9bf1f0aa42c847",
     "grade": false,
     "grade_id": "cell-8b2b412c81d62f2d",
     "locked": true,
     "schema_version": 3,
     "solution": false,
     "task": false
    }
   },
   "source": [
    "\n",
    "---\n",
    "\n",
    "### 3.5. Test Your Functions\n",
    "\n",
    "The widget below allows you to play with the search functions you've written so far. Use this to test your search functions and ensure that they work as expected."
   ]
  },
  {
   "cell_type": "code",
   "execution_count": 55,
   "metadata": {
    "deletable": false,
    "editable": false,
    "nbgrader": {
     "cell_type": "code",
     "checksum": "dfeb204b390acc0794dbdcac92b0cf2c",
     "grade": false,
     "grade_id": "cell-c9c2bb76354e8d97",
     "locked": true,
     "schema_version": 3,
     "solution": false,
     "task": false
    }
   },
   "outputs": [],
   "source": [
    "#### Highlighter function\n",
    "# class for results\n",
    "ResultRow = namedtuple(\"ResultRow\", [\"doc_id\", \"snippet\", \"score\"])\n",
    "# doc_id -> doc\n",
    "docs_by_id = dict((d[0], d[1]) for d in docs)\n",
    "\n",
    "def highlight_text(document, query, tol=17):\n",
    "    import re\n",
    "    tokens = tokenize(query)\n",
    "    regex = \"|\".join(f\"(\\\\b{t}\\\\b)\" for t in tokens)\n",
    "    regex = re.compile(regex, flags=re.IGNORECASE)\n",
    "    output = \"\"\n",
    "    i = 0\n",
    "    for m in regex.finditer(document):\n",
    "        start_idx = max(0, m.start() - tol)\n",
    "        end_idx = min(len(document), m.end() + tol)\n",
    "        output += \"\".join([\"...\",\n",
    "                        document[start_idx:m.start()],\n",
    "                        \"<strong>\",\n",
    "                        document[m.start():m.end()],\n",
    "                        \"</strong>\",\n",
    "                        document[m.end():end_idx],\n",
    "                        \"...\"])\n",
    "    return output.replace(\"\\n\", \" \")\n",
    "\n",
    "\n",
    "def make_results(query, search_fn, index_set):\n",
    "    results = []\n",
    "    for doc_id, score in search_fn(query, index_set):\n",
    "        highlight = highlight_text(docs_by_id[doc_id], query)\n",
    "        if len(highlight.strip()) == 0:\n",
    "            highlight = docs_by_id[doc_id]\n",
    "        results.append(ResultRow(doc_id, highlight, score))\n",
    "    return results\n",
    "####"
   ]
  },
  {
   "cell_type": "code",
   "execution_count": 56,
   "metadata": {},
   "outputs": [
    {
     "data": {
      "application/vnd.jupyter.widget-view+json": {
<<<<<<< HEAD:assignment1/hw1_master.ipynb
       "model_id": "24c75d405662444fa64d178f274774f3",
=======
       "model_id": "29e63fddaa9a45ce899c253b70e26148",
>>>>>>> f112c0d61b750a228b88f0802915dd23311d3005:assignment1/hw1_final_master.ipynb
       "version_major": 2,
       "version_minor": 0
      },
      "text/plain": [
       "Text(value='', description='Search Bar')"
      ]
     },
     "metadata": {},
     "output_type": "display_data"
    }
   ],
   "source": [
    "# TODO: Set this to the function you want to test!\n",
    "# this function should take in a query (string)\n",
    "# and return a sorted list of (doc_id, score) \n",
    "# with the most relevant document in the first position\n",
    "search_fn = bm25_search\n",
    "index_set = 1\n",
    "\n",
    "text = widgets.Text(description=\"Search Bar\", width=200)\n",
    "display(text)\n",
    "\n",
    "def handle_submit(sender):\n",
    "    print(f\"Searching for: '{sender.value}'\")\n",
    "    \n",
    "    results = make_results(sender.value, search_fn, index_set)\n",
    "    \n",
    "    # display only the top 5\n",
    "    results = results[:5]\n",
    "    \n",
    "    body = \"\"\n",
    "    for idx, r in enumerate(results):\n",
    "        body += f\"<li>Document #{r.doc_id}({r.score}): {r.snippet}</li>\"\n",
    "    display(HTML(f\"<ul>{body}</ul>\"))\n",
    "    \n",
    "\n",
    "text.on_submit(handle_submit)"
   ]
  },
  {
   "cell_type": "markdown",
   "metadata": {
    "deletable": false,
    "editable": false,
    "nbgrader": {
     "cell_type": "markdown",
     "checksum": "019b1ff878dc6339dd068e2d48d19904",
     "grade": false,
     "grade_id": "cell-8d46fe8e4f3d8cdb",
     "locked": true,
     "schema_version": 3,
     "solution": false,
     "task": false
    }
   },
   "source": [
    "---\n",
    "\n",
    "## Section 4: Evaluation (40 points) <a class=\"anchor\" id=\"evaluation\"></a>\n",
    "\n",
    "[Back to Part 1](#part1)\n",
    "\n",
    "In order to analyze the effectiveness of retrieval algorithms, we first have to learn how to evaluate such a system. In particular, we will work with offline evaluation metrics. These metrics are computed on a dataset with known relevance judgements.\n",
    "\n",
    "Implement the following evaluation metrics. \n",
    "\n",
    "1. Precision (7 points)\n",
    "2. Recall (7 points)\n",
    "3. Mean Average Precision (13 points)\n",
    "4. Expected Reciprocal Rank (13 points)"
   ]
  },
  {
   "cell_type": "markdown",
   "metadata": {
    "deletable": false,
    "editable": false,
    "nbgrader": {
     "cell_type": "markdown",
     "checksum": "e46f54c7f81d88bbc950b0fae14c4ca5",
     "grade": false,
     "grade_id": "cell-3419fd3bc663d7cc",
     "locked": true,
     "schema_version": 3,
     "solution": false,
     "task": false
    }
   },
   "source": [
    "---\n",
    "### 4.1 Read relevance labels\n",
    "\n",
    "Let's take a look at the `qrels.text` file, which contains the ground truth relevance scores. The relevance labels for CACM are binary - either 0 or 1. \n"
   ]
  },
  {
   "cell_type": "code",
   "execution_count": 57,
   "metadata": {
    "deletable": false,
    "editable": false,
    "nbgrader": {
     "cell_type": "code",
     "checksum": "6c11025f5a222796f2882c73c1634799",
     "grade": false,
     "grade_id": "cell-6b738366059dde9e",
     "locked": true,
     "schema_version": 3,
     "solution": false,
     "task": false
    }
   },
   "outputs": [
    {
     "name": "stdout",
     "output_type": "stream",
     "text": [
      "01 1410  0 0\n",
      "01 1572  0 0\n",
      "01 1605  0 0\n",
      "01 2020  0 0\n",
      "01 2358  0 0\n",
      "02 2434  0 0\n",
      "02 2863  0 0\n",
      "02 3078  0 0\n",
      "03 1134  0 0\n",
      "03 1613  0 0\n"
     ]
    }
   ],
   "source": [
    "!head ./datasets/qrels.text"
   ]
  },
  {
   "cell_type": "markdown",
   "metadata": {
    "deletable": false,
    "editable": false,
    "nbgrader": {
     "cell_type": "markdown",
     "checksum": "7ce95245c1597183320d7254afde5c8e",
     "grade": false,
     "grade_id": "cell-10e16bff2753ffbb",
     "locked": true,
     "schema_version": 3,
     "solution": false,
     "task": false
    }
   },
   "source": [
    "---\n",
    "\n",
    "The first column is the query_id and the second column is the document_id. We can safely ignore the 3rd and 4th columns."
   ]
  },
  {
   "cell_type": "code",
   "execution_count": 58,
   "metadata": {
    "deletable": false,
    "nbgrader": {
     "cell_type": "code",
     "checksum": "000c6d59dce08dba0ba1e8d691dbbc2e",
     "grade": false,
     "grade_id": "cell-ee5253a4ef602fce",
     "locked": false,
     "schema_version": 3,
     "solution": true,
     "task": false
    }
   },
   "outputs": [],
   "source": [
    "# YOUR CODE HERE\n",
    "def read_qrels(root_folder = \"./datasets/\"):\n",
    "    \"\"\"\n",
    "        Reads the qrels.text file. \n",
    "        Output: A dictionary: query_id -> [list of relevant documents]\n",
    "    \"\"\"\n",
    "    # YOUR CODE HERE\n",
    "\n",
    "    docs = {}\n",
    "    f1 = os.path.join(root_folder, \"qrels.text\")\n",
    "\n",
    "    with open(f1, \"r\") as f:\n",
    "        lines = f.readlines()\n",
    "\n",
    "    for i in range(0, len(lines)):\n",
    "        l1 = lines[i]\n",
    "        if l1[0]== '0':\n",
    "            query_id = l1[1:2]\n",
    "        else:\n",
    "            query_id = l1[0:2]\n",
    "\n",
    "        if query_id not in docs:\n",
    "            docs[query_id] = [l1[3:7]]\n",
    "        else:\n",
    "            docs[query_id].append(l1[3:7])\n",
    "    return docs"
   ]
  },
  {
   "cell_type": "code",
   "execution_count": 59,
   "metadata": {
    "deletable": false,
    "editable": false,
    "nbgrader": {
     "cell_type": "code",
     "checksum": "d60caeba85c2a97d2211184a5ae91fd1",
     "grade": false,
     "grade_id": "cell-72215605fbe24f65",
     "locked": true,
     "schema_version": 3,
     "solution": false,
     "task": false
    }
   },
   "outputs": [],
   "source": [
    "#### Function check\n",
    "qrels = read_qrels()\n",
    "\n",
    "assert len(qrels) == 52, \"There should be 52 queries with relevance judgements\"\n",
    "assert sum(len(j) for j in qrels.values()) == 796, \"There should be a total of 796 Relevance Judgements\"\n",
    "\n",
    "assert np.min(np.array([len(j) for j in qrels.values()])) == 1\n",
    "assert np.max(np.array([len(j) for j in qrels.values()])) == 51\n",
    "\n",
    "####"
   ]
  },
  {
   "cell_type": "markdown",
   "metadata": {
    "deletable": false,
    "editable": false,
    "nbgrader": {
     "cell_type": "markdown",
     "checksum": "6c9e7428a52e291a2cdf92a379730d4c",
     "grade": false,
     "grade_id": "cell-176a6fb2939d0420",
     "locked": true,
     "schema_version": 3,
     "solution": false,
     "task": false
    }
   },
   "source": [
    "---\n",
    "**Note:** For a given query `query_id`, you can assume that documents *not* in `qrels[query_id]` are not relevant to `query_id`. \n"
   ]
  },
  {
   "cell_type": "markdown",
   "metadata": {
    "deletable": false,
    "editable": false,
    "nbgrader": {
     "cell_type": "markdown",
     "checksum": "b26a818c7b4f7ad490e00b35ea0edd69",
     "grade": false,
     "grade_id": "cell-bd8341b72cdd89bb",
     "locked": true,
     "schema_version": 3,
     "solution": false,
     "task": false
    }
   },
   "source": [
    "---\n",
    "### 4.2 Precision (7 points)\n",
    "Implement the `precision@k` metric:"
   ]
  },
  {
   "cell_type": "code",
   "execution_count": 60,
   "metadata": {
    "deletable": false,
    "nbgrader": {
     "cell_type": "code",
     "checksum": "43dea1979ebdec24ffcfeff71c670433",
     "grade": false,
     "grade_id": "cell-494bd0cce108ed67",
     "locked": false,
     "schema_version": 3,
     "solution": true,
     "task": false
    }
   },
   "outputs": [],
   "source": [
    "# TODO: Implement this! (7 points)\n",
    "def precision_k(results, relevant_docs, k):\n",
    "    \"\"\"\n",
    "        Compute Precision@K\n",
    "        Input: \n",
    "            results: A sorted list of 2-tuples (document_id, score), \n",
    "                    with the most relevant document in the first position\n",
    "            relevant_docs: A set of relevant documents. \n",
    "            k: the cut-off\n",
    "        Output: Precision@K\n",
    "    \"\"\"\n",
    "    if k > len(results):\n",
    "        k = len(results)\n",
    "    # YOUR CODE HERE\n",
    "    count = 0\n",
    "    for i in range(k):\n",
    "        doc_id = results[i][0]\n",
    "        if doc_id in relevant_docs:\n",
    "            count+=1\n",
    "    return count/k"
   ]
  },
  {
   "cell_type": "code",
   "execution_count": 61,
   "metadata": {
    "deletable": false,
    "editable": false,
    "nbgrader": {
     "cell_type": "code",
     "checksum": "9222e35582b1840ffb60fd02fb0b60c3",
     "grade": true,
     "grade_id": "cell-e7ff0d91c319ca64",
     "locked": true,
     "points": 7,
     "schema_version": 3,
     "solution": false,
     "task": false
    }
   },
   "outputs": [
    {
     "name": "stdout",
     "output_type": "stream",
     "text": [
      "query: What articles exist which deal with TSS (Time Sharing System), an\n",
      "operating system for IBM computers?\n",
      "precision@10 = 0.2\n"
     ]
    }
   ],
   "source": [
    "\n",
    "#### Function check\n",
    "qid = queries[0][0]\n",
    "qtext = queries[0][1]\n",
    "print(f'query:{qtext}')\n",
    "results = bm25_search(qtext, 2)\n",
    "precision = precision_k(results, qrels[qid], 10)\n",
    "print(f'precision@10 = {precision}')\n",
    "####"
   ]
  },
  {
   "cell_type": "markdown",
   "metadata": {
    "deletable": false,
    "editable": false,
    "nbgrader": {
     "cell_type": "markdown",
     "checksum": "8fd3b3998197c7097a40348500affb68",
     "grade": false,
     "grade_id": "cell-afd95f865bc7191e",
     "locked": true,
     "schema_version": 3,
     "solution": false,
     "task": false
    }
   },
   "source": [
    "---\n",
    "### 4.3 Recall (7 points)\n",
    "Implement the `recall@k` metric:"
   ]
  },
  {
   "cell_type": "code",
   "execution_count": 62,
   "metadata": {
    "deletable": false,
    "nbgrader": {
     "cell_type": "code",
     "checksum": "b2020e5741ae03b3fe35817ed8f4ccaa",
     "grade": false,
     "grade_id": "cell-c323fc8c3f8a7cf8",
     "locked": false,
     "schema_version": 3,
     "solution": true,
     "task": false
    }
   },
   "outputs": [],
   "source": [
    "# TODO: Implement this! (7 points)\n",
    "def recall_k(results, relevant_docs, k):\n",
    "    \"\"\"\n",
    "        Compute Recall@K\n",
    "        Input: \n",
    "            results: A sorted list of 2-tuples (document_id, score), with the most relevant document in the first position\n",
    "            relevant_docs: A set of relevant documents. \n",
    "            k: the cut-off\n",
    "        Output: Recall@K\n",
    "    \"\"\"\n",
    "    # YOUR CODE HERE\n",
    "    count = 0\n",
    "    for i in range(k):\n",
    "        doc_id = results[i][0]\n",
    "        if doc_id in relevant_docs:\n",
    "            count+=1\n",
    "    return count/len(relevant_docs)"
   ]
  },
  {
   "cell_type": "code",
   "execution_count": 63,
   "metadata": {
    "deletable": false,
    "editable": false,
    "nbgrader": {
     "cell_type": "code",
     "checksum": "56b6e0b8522f8b2dffbfb3206b2efa84",
     "grade": true,
     "grade_id": "cell-b25172161aef165c",
     "locked": true,
     "points": 7,
     "schema_version": 3,
     "solution": false,
     "task": false
    }
   },
   "outputs": [
    {
     "name": "stdout",
     "output_type": "stream",
     "text": [
      "query: SETL, Very High Level Languages\n",
      "recall@10 = 0.3157894736842105\n"
     ]
    }
   ],
   "source": [
    "#### Function check\n",
    "qid = queries[10][0]\n",
    "qtext = queries[10][1]\n",
    "print(f'query:{qtext}')\n",
    "results = bm25_search(qtext, 2)\n",
    "recall = recall_k(results, qrels[qid], 10)\n",
    "print(f'recall@10 = {recall}')\n",
    "####"
   ]
  },
  {
   "cell_type": "markdown",
   "metadata": {
    "deletable": false,
    "editable": false,
    "nbgrader": {
     "cell_type": "markdown",
     "checksum": "b3d3c7bd1cd977cd07ef5df7d3fbf159",
     "grade": false,
     "grade_id": "cell-77fd2e7a39a74739",
     "locked": true,
     "schema_version": 3,
     "solution": false,
     "task": false
    }
   },
   "source": [
    "---\n",
    "### 4.4 Mean Average Precision (13 points)\n",
    "Implement the `map` metric:"
   ]
  },
  {
   "cell_type": "code",
   "execution_count": 64,
   "metadata": {
    "deletable": false,
    "nbgrader": {
     "cell_type": "code",
     "checksum": "aae2c62f2ffd76f5b6c004e9519b9f14",
     "grade": false,
     "grade_id": "cell-e50925fa9093a30d",
     "locked": false,
     "schema_version": 3,
     "solution": true,
     "task": false
    }
   },
   "outputs": [],
   "source": [
    "# TODO: Implement this! (12 points)\n",
    "def average_precision(results, relevant_docs):\n",
    "    \"\"\"\n",
    "        Compute Average Precision (for a single query - the results are \n",
    "        averaged across queries to get MAP in the next few cells)\n",
    "        Hint: You can use the recall_k and precision_k functions here!\n",
    "        Input: \n",
    "            results: A sorted list of 2-tuples (document_id, score), with the most \n",
    "                    relevant document in the first position\n",
    "            relevant_docs: A set of relevant documents. \n",
    "        Output: Average Precision\n",
    "    \"\"\"\n",
    "    # YOUR CODE HERE\n",
    "    precisions = []\n",
    "    for k in range(len(results)):\n",
    "        if results[k][0] in relevant_docs:\n",
    "            precisions.append(precision_k(results, relevant_docs, k+1))\n",
    "    return np.mean(precisions)\n"
   ]
  },
  {
   "cell_type": "code",
   "execution_count": 65,
   "metadata": {
    "deletable": false,
    "editable": false,
    "nbgrader": {
     "cell_type": "code",
     "checksum": "3b00e147c2fa146fa59f179b7c9cab75",
     "grade": true,
     "grade_id": "cell-8a1f7ec98571e58b",
     "locked": true,
     "points": 13,
     "schema_version": 3,
     "solution": false,
     "task": false
    }
   },
   "outputs": [
    {
     "name": "stdout",
     "output_type": "stream",
     "text": [
      "query: computational complexity, intractability, class-complete reductions,\n",
      "algorithms and efficiency\n",
      "MAP = 0.1724040411055945\n"
     ]
    }
   ],
   "source": [
    "#### Function check\n",
    "qid = queries[20][0]\n",
    "qtext = queries[20][1]\n",
    "print(f'query:{qtext}')\n",
    "results = bm25_search(qtext, 2)\n",
    "mean_ap = average_precision(results, qrels[qid])\n",
    "print(f'MAP = {mean_ap}')\n",
    "####"
   ]
  },
  {
   "cell_type": "markdown",
   "metadata": {
    "deletable": false,
    "editable": false,
    "nbgrader": {
     "cell_type": "markdown",
     "checksum": "36f85f45ef52d9467ba9a717d6d99ff2",
     "grade": false,
     "grade_id": "cell-1da18f0fe6f6d7be",
     "locked": true,
     "schema_version": 3,
     "solution": false,
     "task": false
    }
   },
   "source": [
    "---\n",
    "### 4.5 Expected Reciprocal Rank (13 points)\n",
    "Implement the `err` metric:"
   ]
  },
  {
   "cell_type": "code",
   "execution_count": 66,
   "metadata": {
    "deletable": false,
    "nbgrader": {
     "cell_type": "code",
     "checksum": "9ac94db728e23ea1f5dc0d509473c6fb",
     "grade": false,
     "grade_id": "cell-64262889f9b267ea",
     "locked": false,
     "schema_version": 3,
     "solution": true,
     "task": false
    }
   },
   "outputs": [],
   "source": [
    "# TODO: Implement this! (12 points)\n",
    "def err(results, relevant_docs):\n",
    "    \"\"\"\n",
    "        Compute the expected reciprocal rank.\n",
    "        Hint: https://dl.acm.org/doi/pdf/10.1145/1645953.1646033?download=true\n",
    "        Input: \n",
    "            results: A sorted list of 2-tuples (document_id, score), with the most \n",
    "                    relevant document in the first position\n",
    "            relevant_docs: A set of relevant documents. \n",
    "        Output: ERR\n",
    "        \n",
    "    \"\"\"\n",
    "    # YOUR CODE HERE\n",
    "    p = 1\n",
    "    err = 0\n",
    "    for i, (doc_id, score) in enumerate(results):\n",
    "        if doc_id in relevant_docs:\n",
    "            R = 1/2\n",
    "            err += p * (R/(i+1))\n",
    "            p*=(1-R)\n",
    "    return err"
   ]
  },
  {
   "cell_type": "code",
   "execution_count": 67,
   "metadata": {
    "deletable": false,
    "editable": false,
    "nbgrader": {
     "cell_type": "code",
     "checksum": "b7d201de0990b69d5f38704668665d87",
     "grade": true,
     "grade_id": "cell-071e3970ff1afae4",
     "locked": true,
     "points": 13,
     "schema_version": 3,
     "solution": false,
     "task": false
    }
   },
   "outputs": [
    {
     "name": "stdout",
     "output_type": "stream",
     "text": [
      "query: I'd like to find articles describing the use of singular value decomposition\n",
      "in digital image processing.  Applications include finding approximations\n",
      "to the original image and restoring images that are subject to noise. An\n",
      "article on the subject is H.C. Andrews and C.L. Patterson \"Outer product\n",
      "expansions and their uses in digital image processing\", American Mathematical\n",
      "Monthly, vol. 82.\n",
      "ERR = 0.625\n"
     ]
    }
   ],
   "source": [
    "#### Function check\n",
    "qid = queries[30][0]\n",
    "qtext = queries[30][1]\n",
    "print(f'query:{qtext}')\n",
    "results = bm25_search(qtext, 2)\n",
    "ERR = err(results, qrels[qid])\n",
    "print(f'ERR = {ERR}')\n",
    "####"
   ]
  },
  {
   "cell_type": "markdown",
   "metadata": {
    "deletable": false,
    "editable": false,
    "nbgrader": {
     "cell_type": "markdown",
     "checksum": "5bd94caf77cfa5f34675df758d91002d",
     "grade": false,
     "grade_id": "cell-43709a765f353946",
     "locked": true,
     "schema_version": 3,
     "solution": false,
     "task": false
    }
   },
   "source": [
    "---\n",
    "### 4.6 Evaluate Search Functions\n",
    "\n",
    "Let's define some metrics@k using [partial functions](https://docs.python.org/3/library/functools.html#functools.partial)"
   ]
  },
  {
   "cell_type": "code",
   "execution_count": 68,
   "metadata": {
    "deletable": false,
    "editable": false,
    "nbgrader": {
     "cell_type": "code",
     "checksum": "49ccc158e5fb7340ace55e90eeb9d62a",
     "grade": false,
     "grade_id": "cell-dab560e18e340da8",
     "locked": true,
     "schema_version": 3,
     "solution": false,
     "task": false
    }
   },
   "outputs": [],
   "source": [
    "#### metrics@k functions\n",
    "\n",
    "recall_at_1 = partial(recall_k, k=1)\n",
    "recall_at_5 = partial(recall_k, k=5)\n",
    "recall_at_10 = partial(recall_k, k=10)\n",
    "precision_at_1 = partial(precision_k, k=1)\n",
    "precision_at_5 = partial(precision_k, k=5)\n",
    "precision_at_10 = partial(precision_k, k=10)\n",
    "\n",
    "\n",
    "list_of_metrics = [\n",
    "    (\"ERR\", err),\n",
    "    (\"MAP\", average_precision),\n",
    "    (\"Recall@1\",recall_at_1),\n",
    "    (\"Recall@5\", recall_at_5),\n",
    "    (\"Recall@10\", recall_at_10),\n",
    "    (\"Precision@1\", precision_at_1),\n",
    "    (\"Precision@5\", precision_at_5),\n",
    "    (\"Precision@10\", precision_at_10)]\n",
    "####"
   ]
  },
  {
   "cell_type": "markdown",
   "metadata": {
    "deletable": false,
    "editable": false,
    "nbgrader": {
     "cell_type": "markdown",
     "checksum": "fb541002c03221b453b8936290020ea5",
     "grade": false,
     "grade_id": "cell-580a2bdc66d03b47",
     "locked": true,
     "schema_version": 3,
     "solution": false,
     "task": false
    }
   },
   "source": [
    "---\n",
    "\n",
    "The following function evaluates a `search_fn` using the `metric_fn`. Note that the final number is averaged over all the queries"
   ]
  },
  {
   "cell_type": "code",
   "execution_count": 69,
   "metadata": {},
   "outputs": [],
   "source": [
    "#### Evaluate a search function\n",
    "\n",
    "list_of_search_fns = [\n",
    "    (\"BOW\", bow_search),\n",
    "    (\"TF-IDF\", tfidf_search),\n",
    "    (\"NaiveQL\", naive_ql_search),\n",
    "    (\"QL\", ql_search),\n",
    "    (\"BM25\", bm25_search)\n",
    "]\n",
    "\n",
    "def evaluate_search_fn(search_fn, metric_fns, index_set=None):\n",
    "    # build a dict query_id -> query \n",
    "    queries_by_id = dict((q[0], q[1]) for q in queries)\n",
    "    \n",
    "    metrics = {}\n",
    "    for metric, metric_fn in metric_fns:\n",
    "        metrics[metric] = np.zeros(len(qrels), dtype=np.float32)\n",
    "    \n",
    "    for i, (query_id, relevant_docs) in enumerate(qrels.items()):\n",
    "        query = queries_by_id[query_id]\n",
    "        if index_set:\n",
    "            results = search_fn(query, index_set)\n",
    "        else:\n",
    "            results = search_fn(query)\n",
    "        \n",
    "        for metric, metric_fn in metric_fns:\n",
    "            metrics[metric][i] = metric_fn(results, relevant_docs)\n",
    "\n",
    "    \n",
    "    \n",
    "    final_dict = {}\n",
    "    for metric, metric_vals in metrics.items():\n",
    "        final_dict[metric] = metric_vals.mean()\n",
    "    \n",
    "    return final_dict\n",
    "####"
   ]
  },
  {
   "cell_type": "markdown",
   "metadata": {
    "deletable": false,
    "editable": false,
    "nbgrader": {
     "cell_type": "markdown",
     "checksum": "6ea67534f74a8f81e1f504794f641709",
     "grade": false,
     "grade_id": "cell-b156d83a0649cbb4",
     "locked": true,
     "schema_version": 3,
     "solution": false,
     "task": false
    }
   },
   "source": [
    "## Section 5: Analysis (30 points) <a class=\"anchor\" id=\"analysis\"></a>\n",
    "\n",
    "[Back to Part 1](#part1)\n",
    "\n",
    "In the final section of Part1, we will compare the different term-based IR algorithms and different preprocessing configurations and analyze their advantages and disadvantages.\n",
    "\n",
    "### Section 5.1: Plot (20 points)\n",
    "\n",
    "First, gather the results. The results should consider the index set, the different search functions and different metrics. Plot the results in bar charts, per metric, with clear labels.\n",
    "\n",
    "**Rubric:**\n",
    "- Each Metric is plotted: 7 points\n",
    "- Each Method is plotted: 7 points\n",
    "- Clear titles, x label, y labels and legends (if applicable): 6 points"
   ]
  },
  {
   "cell_type": "code",
   "execution_count": 70,
   "metadata": {
    "deletable": false,
    "nbgrader": {
     "cell_type": "code",
     "checksum": "7e2588a925d13ddf588abe8311dc9cfc",
     "grade": true,
     "grade_id": "cell-46fda42a25863a04",
     "locked": false,
     "points": 20,
     "schema_version": 3,
     "solution": true,
     "task": false
    }
   },
   "outputs": [],
   "source": [
<<<<<<< HEAD:assignment1/hw1_master.ipynb
    "# YOUR CODE HERE\n",
    "#raise NotImplementedError()"
=======
    "# YOUR CODE HERE"
>>>>>>> f112c0d61b750a228b88f0802915dd23311d3005:assignment1/hw1_final_master.ipynb
   ]
  },
  {
   "cell_type": "markdown",
   "metadata": {
    "deletable": false,
    "editable": false,
    "nbgrader": {
     "cell_type": "markdown",
     "checksum": "e88c444a0acf4e398c65e289169b75f7",
     "grade": false,
     "grade_id": "cell-8aabe3bcf265deb0",
     "locked": true,
     "points": 10,
     "schema_version": 3,
     "solution": false,
     "task": true
    }
   },
   "source": [
    "---\n",
    "### Section 5.2: Summary (10 points)\n",
    "Write a summary of what you observe in the results.\n",
    "Your summary should compare results across the 2 indices and the methods being used. State what you expected to see in the results, followed by either supporting evidence *or* justify why the results did not support your expectations.      "
   ]
  },
  {
   "cell_type": "markdown",
   "metadata": {},
   "source": [
    "Write your answer here!"
   ]
  },
  {
   "cell_type": "markdown",
   "metadata": {
    "deletable": false,
    "editable": false,
    "nbgrader": {
     "cell_type": "markdown",
     "checksum": "b3eb77be74eecca205fc7b47316d1627",
     "grade": false,
     "grade_id": "cell-bb60dd5c092d0f2e",
     "locked": true,
     "schema_version": 3,
     "solution": false,
     "task": false
    }
   },
   "source": [
    "---\n",
    "---\n",
    "# Part 2: Semantic-based Matching (85 points) <a class=\"anchor\" id=\"part2\"></a>\n",
    "\n",
    "[Back to top](#top)\n",
    "\n",
    "We will now experiment with methods that go beyond lexical methods like TF-IDF, which operate at the word level and are high dimensional and sparse, and look at methods which constructs low dimensional dense representations of queries and documents. \n",
    "\n",
    "Since these low-dimensional methods have a higher time complexity, they are typically used in conjunction with methods like BM-25. That is, instead of searching through potentially million documents to find matches using low dimensional vectors, a list of K documents are retrieved using BM25, and then **re-ranked** using the other method. This is the method that is going to be applied in the following exercises. \n",
    "\n",
    "LSI/LDA takes documents that are similar on a semantic level - for instance, if they are describing the same topic - and projects them into nearby vectors, despite having low lexical overlap.\n",
    "\n",
    "In this assignment, you will use `gensim` to create LSI/LDA models and use them in re-ranking. \n",
    "\n",
    "**Note**: The following exercises only uses `doc_repr_2` and `config_2`\n",
    "\n",
    "Table of contents:\n",
    "- [Section 6: LSI](#lsi) (15 points)\n",
    "- [Section 7: LDA](#lda) (10 points)\n",
    "- [Section 8: Word2Vec/Doc2Vec](#2vec) (20 points)\n",
    "- [Section 8: Re-ranking](#reranking) (10 points)\n",
    "- [Section 9: Re-ranking Evaluation](#reranking_eval) (30 points)"
   ]
  },
  {
   "cell_type": "markdown",
   "metadata": {
    "deletable": false,
    "editable": false,
    "nbgrader": {
     "cell_type": "markdown",
     "checksum": "f7c7b2cab82f576ed0acf836ca57171c",
     "grade": false,
     "grade_id": "cell-6b2c81e7a8abd180",
     "locked": true,
     "schema_version": 3,
     "solution": false,
     "task": false
    }
   },
   "source": [
    "---\n",
    "## Section 6: Latent Semantic Indexing (LSI) (15 points) <a class=\"anchor\" id=\"lsi\"></a>\n",
    "\n",
    "[Back to Part 2](#part2)\n",
    "\n",
    "LSI is one of the methods to embed the queries and documents into vectors. It is based on a method similar to Principal Component Analysis (PCA) for obtaining a dense concept matrix out of the sparse term-document matrix.\n",
    "\n",
    "See [wikipedia](https://en.wikipedia.org/wiki/Latent_semantic_analysis), particularly [#Mathematics_of_LSI](https://en.wikipedia.org/wiki/Latent_semantic_analysis#Mathematics_of_LSI)."
   ]
  },
  {
   "cell_type": "code",
   "execution_count": 71,
   "metadata": {
    "deletable": false,
    "editable": false,
    "nbgrader": {
     "cell_type": "code",
     "checksum": "c17ee75319cb517e2bf48ec3d9efc329",
     "grade": false,
     "grade_id": "cell-59913daee47f680d",
     "locked": true,
     "schema_version": 3,
     "solution": false,
     "task": false
    }
   },
   "outputs": [],
   "source": [
    "from gensim.corpora import Dictionary\n",
    "from gensim.models import LdaModel, LsiModel, Word2Vec\n",
    "from gensim.models.doc2vec import Doc2Vec, TaggedDocument\n",
    "from gensim import downloader as g_downloader\n",
    "# gensim uses logging, so set it up \n",
    "import logging\n",
    "logging.basicConfig(format='%(asctime)s : %(levelname)s : %(message)s', level=logging.INFO)"
   ]
  },
  {
   "cell_type": "markdown",
   "metadata": {
    "deletable": false,
    "editable": false,
    "nbgrader": {
     "cell_type": "markdown",
     "checksum": "5fce140c546759b54a9fc060901ae77c",
     "grade": false,
     "grade_id": "cell-3644faff4976598a",
     "locked": true,
     "schema_version": 3,
     "solution": false,
     "task": false
    }
   },
   "source": [
    "---\n",
    "### Section 6.1: Cosine Similarity (5 points)<a class=\"anchor\" id=\"cosing_sim\"></a>\n",
    "Before we begin, let us first define our method of similarity for the LSI model, the cosine similarity:\n",
    "\n",
    "$$\\text{similarity} = \\cos(\\theta) = {\\mathbf{A} \\cdot \\mathbf{B} \\over \\|\\mathbf{A}\\| \\|\\mathbf{B}\\|} = \\frac{ \\sum\\limits_{i=1}^{n}{A_i  B_i} }{ \\sqrt{\\sum\\limits_{i=1}^{n}{A_i^2}}  \\sqrt{\\sum\\limits_{i=1}^{n}{B_i^2}} }$$\n",
    "\n",
    "Since we are using gensim, the types of vectors returned by their classes are of the form defined below (they are not just simple vectors):"
   ]
  },
  {
   "cell_type": "code",
   "execution_count": 72,
   "metadata": {
    "deletable": false,
    "editable": false,
    "nbgrader": {
     "cell_type": "code",
     "checksum": "4e340e1a1d546f430c018fd0760e707a",
     "grade": false,
     "grade_id": "cell-3995a50f951314d5",
     "locked": true,
     "schema_version": 3,
     "solution": false,
     "task": false
    }
   },
   "outputs": [],
   "source": [
    "# 1, 2, 3 are either latent dimensions (LSI), or topics (LDA)\n",
    "# The second value in each tuple is a number (LSI) or a probability (LDA)  \n",
    "example_vec_1 = [(1, 0.2), (2, 0.3), (3, 0.4)]\n",
    "example_vec_2 = [(1, 0.2), (2, 0.7), (3, 0.4)]"
   ]
  },
  {
   "cell_type": "markdown",
   "metadata": {
    "deletable": false,
    "editable": false,
    "nbgrader": {
     "cell_type": "markdown",
     "checksum": "20832fd4f579f49ae204b0efee02edd1",
     "grade": false,
     "grade_id": "cell-5e54d581858dc8f7",
     "locked": true,
     "schema_version": 3,
     "solution": false,
     "task": false
    }
   },
   "source": [
    "---\n",
    "**Implementation (2+3 points):**\n",
    "Now, implement the `dot product` operation on these types of vectors and using this operator, implement the `cosine similarity` (don't forget: two functions to implement!):"
   ]
  },
  {
   "cell_type": "code",
   "execution_count": 73,
   "metadata": {
    "deletable": false,
    "nbgrader": {
     "cell_type": "code",
     "checksum": "06a712ee75fc213a21c5f0067fd8fe28",
     "grade": false,
     "grade_id": "cell-0e8189f5f93de33f",
     "locked": false,
     "schema_version": 3,
     "solution": true,
     "task": false
    }
   },
   "outputs": [],
   "source": [
    "# TODO: Implement this! (2 points)\n",
    "def dot(vec_1,vec_2): \n",
    "    \"\"\"\n",
    "        vec_1 and vec_2 are of the form: [(int, float), (int, float), ...]\n",
    "        Return the dot product of two such vectors, computed only on the floats\n",
    "        You can assume that the lengths of the vectors are the same, and the dimensions are aligned \n",
    "            i.e you won't get: vec_1 = [(1, 0.2)] ; vec_2 = [(2, 0.3)] \n",
    "                                (dimensions are unaligned and lengths are different)\n",
    "    \"\"\"\n",
    "    # YOUR CODE HERE\n",
    "    return sum([x[1]*y[1] for x,y in zip(vec_1,vec_2)])\n",
    "\n",
    "\n",
    "# TODO: Implement this! (3 points)\n",
    "def cosine_sim(vec_1, vec_2):\n",
    "    # YOUR CODE HERE\n",
    "    if vec_1 == [] or vec_2 == []:\n",
    "        cosine = 0\n",
    "    else: \n",
    "        denum = np.sqrt(dot(vec_1, vec_1)) * np.sqrt(dot(vec_2, vec_2)) \n",
    "        if denum==0: \n",
    "            cosine = 0\n",
    "        else:\n",
    "            num = dot(vec_1, vec_2)\n",
    "            cosine = num / denum\n",
    "    return cosine"
   ]
  },
  {
   "cell_type": "code",
   "execution_count": 74,
   "metadata": {
    "deletable": false,
    "editable": false,
    "nbgrader": {
     "cell_type": "code",
     "checksum": "d22a4a7325ba7815a808390388f534a1",
     "grade": true,
     "grade_id": "cell-b25d04ed6b79fd35",
     "locked": true,
     "points": 2,
     "schema_version": 3,
     "solution": false,
     "task": false
    }
   },
   "outputs": [
    {
     "name": "stdout",
     "output_type": "stream",
     "text": [
      "vectors: ([(1, 0.2), (2, 0.3), (3, 0.4)], [(1, 0.2), (2, 0.7), (3, 0.4)])\n",
      "dot product = 0.41000000000000003\n",
      "cosine similarity = 0.9165587597202866\n"
     ]
    }
   ],
   "source": [
    "##### Function check\n",
    "print(f'vectors: {(example_vec_1,example_vec_2)}')\n",
    "print(f'dot product = {dot(example_vec_1,example_vec_2)}')\n",
    "print(f'cosine similarity = {cosine_sim(example_vec_1,example_vec_2)}')\n",
    "##### "
   ]
  },
  {
   "cell_type": "code",
   "execution_count": 75,
   "metadata": {
    "deletable": false,
    "editable": false,
    "nbgrader": {
     "cell_type": "code",
     "checksum": "0744131724ce76b1b3f163b4bae5f700",
     "grade": true,
     "grade_id": "cell-ae3c4466866ace77",
     "locked": true,
     "points": 3,
     "schema_version": 3,
     "solution": false,
     "task": false
    }
   },
   "outputs": [],
   "source": [
    "#### Please do not change this. This cell is used for grading."
   ]
  },
  {
   "cell_type": "markdown",
   "metadata": {
    "deletable": false,
    "editable": false,
    "nbgrader": {
     "cell_type": "markdown",
     "checksum": "9b123f599f9ea372d14676e23f1c6a52",
     "grade": false,
     "grade_id": "cell-4b2534067c44fcdf",
     "locked": true,
     "schema_version": 3,
     "solution": false,
     "task": false
    }
   },
   "source": [
    "---\n",
    "### Section 6.2: LSI Retrieval (10 points)<a class=\"anchor\" id=\"lsi_retrieval\"></a>\n",
    "LSI retrieval is simply ranking the documents based on their cosine similarity to the query vector.\n",
    "First, let's write a parent class for vector-based retrieval models:"
   ]
  },
  {
   "cell_type": "code",
   "execution_count": 76,
   "metadata": {
    "deletable": false,
    "editable": false,
    "nbgrader": {
     "cell_type": "code",
     "checksum": "ecc111d58182570e2252b8ef5d6b02af",
     "grade": false,
     "grade_id": "cell-937936cea18711ee",
     "locked": true,
     "schema_version": 3,
     "solution": false,
     "task": false
    }
   },
   "outputs": [],
   "source": [
    "class VectorSpaceRetrievalModel:\n",
    "    \"\"\"\n",
    "        Parent class for Dense Vector Retrieval models\n",
    "    \"\"\"\n",
    "    def __init__(self, doc_repr):\n",
    "        \"\"\"\n",
    "            document_collection: \n",
    "                [\n",
    "                    (doc_id_1, [token 1, token 2, ...]), \n",
    "                    (doc_id_2, [token 1, token 2, ....]) \n",
    "                    ...\n",
    "                ]\n",
    "\n",
    "        \"\"\"\n",
    "        self.doc_repr = doc_repr\n",
    "        self.documents = [_[1] for _ in self.doc_repr]\n",
    "        \n",
    "        # construct a dictionary\n",
    "        self.dictionary = Dictionary(self.documents)\n",
    "        # Filter out words that occur less than 20 documents, or more than 50% of the documents.\n",
    "        self.dictionary.filter_extremes(no_below=10)\n",
    "        self.corpus = [self.dictionary.doc2bow(doc) for doc in self.documents]\n",
    "    \n",
    "        # Make a index to word dictionary.\n",
    "        temp = self.dictionary[0]  # This is only to \"load\" the dictionary.\n",
    "        self.id2word = self.dictionary.id2token\n",
    "        \n",
    "        # this is set by the train_model function\n",
    "        self.model = None\n",
    "        \n",
    "        \n",
    "    def vectorize_documents(self):\n",
    "        \"\"\"\n",
    "            Returns a doc_id -> vector dictionary\n",
    "        \"\"\"\n",
    "        vectors = {}\n",
    "        for (doc_id, _), cc in zip(self.doc_repr, self.corpus):\n",
    "            vectors[doc_id] = self.model[cc]\n",
    "        return vectors\n",
    "\n",
    "    def vectorize_query(self, query):\n",
    "        # Note the use of config_2 here!\n",
    "        query = process_text(query, **config_2)\n",
    "        query_vector = self.dictionary.doc2bow(query)\n",
    "        return self.model[query_vector]\n",
    "    \n",
    "    def train_model(self):\n",
    "        \"\"\"\n",
    "            Trains a model and sets the 'self.model' variable. \n",
    "            Make sure to use the variables created in the __init__ method.\n",
    "            e.g the variables which may be useful: {corpus, dictionary, id2word}\n",
    "        \"\"\"\n",
    "        raise NotImplementedError()"
   ]
  },
  {
   "cell_type": "markdown",
   "metadata": {
    "deletable": false,
    "editable": false,
    "nbgrader": {
     "cell_type": "markdown",
     "checksum": "ff161eefd9b81b768cd6361bc1a502b0",
     "grade": false,
     "grade_id": "cell-704a18c2f80cd60c",
     "locked": true,
     "schema_version": 3,
     "solution": false,
     "task": false
    }
   },
   "source": [
    "---\n",
    "**Implementation (5 points):**\n",
    "Implement the `train_model` method in the following class (note that this is only one line of code in `gensim`!). Ensure that the parameters defined in the `__init__` method are not changed, and are *used in the `train_method` function*. Normally, the hyperaparameter space will be searched using grid search / other methods - in this assignment we have provided the hyperparameters for you.\n",
    "\n",
    "The last two lines of code train an LSI model on the list of documents which have been stemmed, lower-cased and have stopwords removed. "
   ]
  },
  {
   "cell_type": "code",
   "execution_count": 77,
   "metadata": {
    "deletable": false,
    "nbgrader": {
     "cell_type": "code",
     "checksum": "0e90eedc27c248bc1ae050518a46a46c",
     "grade": false,
     "grade_id": "cell-307682c9089f15d6",
     "locked": false,
     "schema_version": 3,
     "solution": true,
     "task": false
    }
   },
   "outputs": [],
   "source": [
    "# TODO: Implement this! (5 points)\n",
    "class LsiRetrievalModel(VectorSpaceRetrievalModel):\n",
    "    def __init__(self, doc_repr):\n",
    "        super().__init__(doc_repr)\n",
    "        \n",
    "        self.num_topics = 100\n",
    "        self.chunksize = 2000\n",
    "    \n",
    "    def train_model(self):\n",
    "        # YOUR CODE HERE\n",
    "        self.model = LsiModel(corpus = self.corpus, id2word = self.id2word, num_topics = self.num_topics, chunksize = self.chunksize)"
   ]
  },
  {
   "cell_type": "code",
   "execution_count": 78,
   "metadata": {
    "deletable": false,
    "editable": false,
    "nbgrader": {
     "cell_type": "code",
     "checksum": "00399cfe13d60cb4beed1271e36004b0",
     "grade": true,
     "grade_id": "cell-5ce512650c1b2dfb",
     "locked": true,
     "points": 0,
     "schema_version": 3,
     "solution": false,
     "task": false
    }
   },
   "outputs": [
    {
     "name": "stderr",
     "output_type": "stream",
     "text": [
<<<<<<< HEAD:assignment1/hw1_master.ipynb
      "2022-02-23 14:32:17,430 : INFO : adding document #0 to Dictionary(0 unique tokens: [])\n",
      "2022-02-23 14:32:17,562 : INFO : built Dictionary(5937 unique tokens: ['-', 'algebra', 'intern', 'languag', 'preliminari']...) from 3204 documents (total 115969 corpus positions)\n",
      "2022-02-23 14:32:17,573 : INFO : discarding 4740 tokens: [('repeat', 8), ('glossari', 7), ('inspect', 8), ('uncol', 2), ('rung', 9), ('secant', 2), ('.', 1603), ('acceler', 6), ('diverg', 3), ('induc', 9)]...\n",
      "2022-02-23 14:32:17,574 : INFO : keeping 1197 tokens which were in no less than 10 and no more than 1602 (=50.0%) documents\n",
      "2022-02-23 14:32:17,578 : INFO : resulting dictionary: Dictionary(1197 unique tokens: ['-', 'algebra', 'intern', 'languag', 'preliminari']...)\n",
      "2022-02-23 14:32:17,649 : INFO : using serial LSI version on this node\n",
      "2022-02-23 14:32:17,650 : INFO : updating model with new documents\n",
      "2022-02-23 14:32:17,651 : INFO : preparing a new chunk of documents\n",
      "2022-02-23 14:32:17,664 : INFO : using 100 extra samples and 2 power iterations\n",
      "2022-02-23 14:32:17,664 : INFO : 1st phase: constructing (1197, 200) action matrix\n",
      "2022-02-23 14:32:17,685 : INFO : orthonormalizing (1197, 200) action matrix\n",
      "2022-02-23 14:32:17,854 : INFO : 2nd phase: running dense svd on (200, 2000) matrix\n",
      "2022-02-23 14:32:17,974 : INFO : computing the final decomposition\n",
      "2022-02-23 14:32:17,976 : INFO : keeping 100 factors (discarding 13.459% of energy spectrum)\n",
      "2022-02-23 14:32:17,981 : INFO : processed documents up to #2000\n",
      "2022-02-23 14:32:17,984 : INFO : topic #0(152.127): 0.741*\",\" + 0.342*\"-\" + 0.211*\"system\" + 0.204*\"program\" + 0.192*\"comput\" + 0.146*\"(\" + 0.127*\"languag\" + 0.108*\")\" + 0.084*\"gener\" + 0.083*\"data\"\n",
      "2022-02-23 14:32:17,985 : INFO : topic #1(60.600): -0.607*\"(\" + -0.434*\")\" + -0.366*\"algorithm\" + -0.300*\"-\" + 0.237*\",\" + 0.213*\"system\" + 0.132*\"comput\" + -0.096*\"[\" + 0.093*\"program\" + -0.084*\"])\"\n",
      "2022-02-23 14:32:17,985 : INFO : topic #2(57.438): -0.744*\"-\" + 0.452*\",\" + -0.263*\"system\" + 0.214*\"(\" + 0.166*\")\" + -0.107*\"time\" + -0.105*\"program\" + 0.094*\"algorithm\" + -0.068*\"comput\" + -0.067*\"share\"\n",
      "2022-02-23 14:32:17,986 : INFO : topic #3(48.370): -0.483*\"system\" + -0.375*\"program\" + -0.367*\"comput\" + 0.363*\"-\" + 0.308*\",\" + -0.212*\"(\" + -0.168*\")\" + -0.147*\"algorithm\" + 0.144*\"languag\" + -0.119*\"time\"\n",
      "2022-02-23 14:32:17,987 : INFO : topic #4(45.710): 0.489*\"comput\" + -0.475*\"languag\" + -0.428*\"program\" + 0.238*\"method\" + 0.141*\"problem\" + -0.121*\"system\" + -0.109*\")\" + 0.107*\"equat\" + 0.100*\"algorithm\" + -0.099*\"(\"\n",
      "2022-02-23 14:32:17,988 : INFO : preparing a new chunk of documents\n",
      "2022-02-23 14:32:17,996 : INFO : using 100 extra samples and 2 power iterations\n",
      "2022-02-23 14:32:17,997 : INFO : 1st phase: constructing (1197, 200) action matrix\n",
      "2022-02-23 14:32:18,009 : INFO : orthonormalizing (1197, 200) action matrix\n",
      "2022-02-23 14:32:18,167 : INFO : 2nd phase: running dense svd on (200, 1204) matrix\n",
      "2022-02-23 14:32:18,262 : INFO : computing the final decomposition\n",
      "2022-02-23 14:32:18,263 : INFO : keeping 100 factors (discarding 14.021% of energy spectrum)\n",
      "2022-02-23 14:32:18,265 : INFO : merging projections: (1197, 100) + (1197, 100)\n",
      "2022-02-23 14:32:18,317 : INFO : keeping 100 factors (discarding 8.167% of energy spectrum)\n",
      "2022-02-23 14:32:18,321 : INFO : processed documents up to #3204\n",
      "2022-02-23 14:32:18,322 : INFO : topic #0(225.136): 0.759*\",\" + 0.337*\"-\" + 0.196*\"system\" + 0.186*\"program\" + 0.166*\"comput\" + 0.139*\"(\" + 0.103*\")\" + 0.103*\"algorithm\" + 0.099*\"languag\" + 0.087*\"time\"\n",
      "2022-02-23 14:32:18,323 : INFO : topic #1(87.805): 0.613*\"-\" + -0.399*\",\" + 0.399*\"(\" + 0.326*\"algorithm\" + 0.293*\")\" + -0.129*\"system\" + -0.107*\"program\" + 0.085*\"method\" + 0.077*\"time\" + 0.062*\"1\"\n",
      "2022-02-23 14:32:18,323 : INFO : topic #2(81.909): 0.550*\"-\" + -0.434*\"(\" + 0.355*\"system\" + -0.321*\")\" + -0.291*\",\" + -0.266*\"algorithm\" + 0.146*\"program\" + 0.123*\"comput\" + 0.078*\"time\" + -0.064*\"[\"\n",
      "2022-02-23 14:32:18,324 : INFO : topic #3(72.433): -0.693*\"program\" + 0.339*\",\" + 0.279*\"-\" + -0.251*\"(\" + -0.221*\"system\" + -0.214*\"languag\" + -0.204*\")\" + -0.160*\"comput\" + -0.099*\"data\" + -0.056*\"execut\"\n",
      "2022-02-23 14:32:18,325 : INFO : topic #4(68.523): -0.673*\"system\" + 0.453*\"program\" + 0.254*\"languag\" + 0.212*\"-\" + -0.179*\"comput\" + -0.165*\"(\" + -0.121*\")\" + -0.115*\"model\" + 0.101*\",\" + -0.098*\"algorithm\"\n"
=======
      "2022-02-25 20:09:50,293 : INFO : adding document #0 to Dictionary(0 unique tokens: [])\n",
      "2022-02-25 20:09:50,397 : INFO : built Dictionary(5937 unique tokens: ['-', 'algebra', 'intern', 'languag', 'preliminari']...) from 3204 documents (total 115969 corpus positions)\n",
      "2022-02-25 20:09:50,403 : INFO : discarding 4740 tokens: [('repeat', 8), ('glossari', 7), ('inspect', 8), ('uncol', 2), ('rung', 9), ('secant', 2), ('.', 1603), ('acceler', 6), ('diverg', 3), ('induc', 9)]...\n",
      "2022-02-25 20:09:50,403 : INFO : keeping 1197 tokens which were in no less than 10 and no more than 1602 (=50.0%) documents\n",
      "2022-02-25 20:09:50,405 : INFO : resulting dictionary: Dictionary(1197 unique tokens: ['-', 'algebra', 'intern', 'languag', 'preliminari']...)\n",
      "2022-02-25 20:09:50,463 : INFO : using serial LSI version on this node\n",
      "2022-02-25 20:09:50,463 : INFO : updating model with new documents\n",
      "2022-02-25 20:09:50,464 : INFO : preparing a new chunk of documents\n",
      "2022-02-25 20:09:50,472 : INFO : using 100 extra samples and 2 power iterations\n",
      "2022-02-25 20:09:50,473 : INFO : 1st phase: constructing (1197, 200) action matrix\n",
      "2022-02-25 20:09:50,486 : INFO : orthonormalizing (1197, 200) action matrix\n",
      "2022-02-25 20:09:50,586 : INFO : 2nd phase: running dense svd on (200, 2000) matrix\n",
      "2022-02-25 20:09:50,673 : INFO : computing the final decomposition\n",
      "2022-02-25 20:09:50,674 : INFO : keeping 100 factors (discarding 13.442% of energy spectrum)\n",
      "2022-02-25 20:09:50,675 : INFO : processed documents up to #2000\n",
      "2022-02-25 20:09:50,676 : INFO : topic #0(152.127): 0.741*\",\" + 0.342*\"-\" + 0.211*\"system\" + 0.204*\"program\" + 0.192*\"comput\" + 0.146*\"(\" + 0.127*\"languag\" + 0.108*\")\" + 0.084*\"gener\" + 0.083*\"data\"\n",
      "2022-02-25 20:09:50,676 : INFO : topic #1(60.600): -0.607*\"(\" + -0.434*\")\" + -0.366*\"algorithm\" + -0.300*\"-\" + 0.237*\",\" + 0.213*\"system\" + 0.132*\"comput\" + -0.096*\"[\" + 0.093*\"program\" + -0.084*\"])\"\n",
      "2022-02-25 20:09:50,677 : INFO : topic #2(57.438): 0.744*\"-\" + -0.452*\",\" + 0.263*\"system\" + -0.214*\"(\" + -0.166*\")\" + 0.107*\"time\" + 0.105*\"program\" + -0.094*\"algorithm\" + 0.068*\"comput\" + 0.067*\"share\"\n",
      "2022-02-25 20:09:50,677 : INFO : topic #3(48.370): -0.483*\"system\" + -0.375*\"program\" + -0.367*\"comput\" + 0.363*\"-\" + 0.308*\",\" + -0.212*\"(\" + -0.168*\")\" + -0.147*\"algorithm\" + 0.144*\"languag\" + -0.119*\"time\"\n",
      "2022-02-25 20:09:50,678 : INFO : topic #4(45.710): 0.489*\"comput\" + -0.475*\"languag\" + -0.428*\"program\" + 0.238*\"method\" + 0.141*\"problem\" + -0.121*\"system\" + -0.109*\")\" + 0.107*\"equat\" + 0.100*\"algorithm\" + -0.099*\"(\"\n",
      "2022-02-25 20:09:50,678 : INFO : preparing a new chunk of documents\n",
      "2022-02-25 20:09:50,685 : INFO : using 100 extra samples and 2 power iterations\n",
      "2022-02-25 20:09:50,686 : INFO : 1st phase: constructing (1197, 200) action matrix\n",
      "2022-02-25 20:09:50,695 : INFO : orthonormalizing (1197, 200) action matrix\n",
      "2022-02-25 20:09:50,797 : INFO : 2nd phase: running dense svd on (200, 1204) matrix\n",
      "2022-02-25 20:09:50,874 : INFO : computing the final decomposition\n",
      "2022-02-25 20:09:50,874 : INFO : keeping 100 factors (discarding 14.007% of energy spectrum)\n",
      "2022-02-25 20:09:50,876 : INFO : merging projections: (1197, 100) + (1197, 100)\n",
      "2022-02-25 20:09:50,916 : INFO : keeping 100 factors (discarding 8.164% of energy spectrum)\n",
      "2022-02-25 20:09:50,918 : INFO : processed documents up to #3204\n",
      "2022-02-25 20:09:50,919 : INFO : topic #0(225.136): 0.759*\",\" + 0.337*\"-\" + 0.196*\"system\" + 0.186*\"program\" + 0.166*\"comput\" + 0.139*\"(\" + 0.103*\")\" + 0.103*\"algorithm\" + 0.099*\"languag\" + 0.087*\"time\"\n",
      "2022-02-25 20:09:50,919 : INFO : topic #1(87.805): 0.613*\"-\" + -0.399*\",\" + 0.399*\"(\" + 0.326*\"algorithm\" + 0.293*\")\" + -0.129*\"system\" + -0.107*\"program\" + 0.085*\"method\" + 0.077*\"time\" + 0.062*\"1\"\n",
      "2022-02-25 20:09:50,920 : INFO : topic #2(81.909): 0.550*\"-\" + -0.434*\"(\" + 0.355*\"system\" + -0.321*\")\" + -0.291*\",\" + -0.266*\"algorithm\" + 0.146*\"program\" + 0.123*\"comput\" + 0.078*\"time\" + -0.064*\"[\"\n",
      "2022-02-25 20:09:50,920 : INFO : topic #3(72.432): -0.693*\"program\" + 0.339*\",\" + 0.279*\"-\" + -0.251*\"(\" + -0.221*\"system\" + -0.214*\"languag\" + -0.204*\")\" + -0.160*\"comput\" + -0.099*\"data\" + -0.056*\"execut\"\n",
      "2022-02-25 20:09:50,920 : INFO : topic #4(68.523): -0.673*\"system\" + 0.453*\"program\" + 0.254*\"languag\" + 0.212*\"-\" + -0.179*\"comput\" + -0.165*\"(\" + -0.121*\")\" + -0.115*\"model\" + 0.101*\",\" + -0.098*\"algorithm\"\n"
>>>>>>> f112c0d61b750a228b88f0802915dd23311d3005:assignment1/hw1_final_master.ipynb
     ]
    },
    {
     "data": {
      "text/plain": [
<<<<<<< HEAD:assignment1/hw1_master.ipynb
       "[(0, 0.01521542736475832),\n",
       " (1, -0.016265099510585867),\n",
       " (2, -0.00017936766179646327),\n",
       " (3, -0.0018240488155040193),\n",
       " (4, -0.009462100317599526),\n",
       " (5, -0.004742111731314542),\n",
       " (6, 0.027099110674096163),\n",
       " (7, 0.016794770154880276),\n",
       " (8, -0.03188945733817087),\n",
       " (9, -0.0005888301713510742),\n",
       " (10, 0.0021987612113577816),\n",
       " (11, -0.01717060976926706),\n",
       " (12, -3.367483843112577e-05),\n",
       " (13, 0.0014407376287788659),\n",
       " (14, 0.00440702170696906),\n",
       " (15, 0.0052789894634404306),\n",
       " (16, 0.005814702454701674),\n",
       " (17, 0.0025368201476520594),\n",
       " (18, -0.016897933595480943),\n",
       " (19, 0.01932650178906358),\n",
       " (20, -0.011873946872374776),\n",
       " (21, -0.013285417028028611),\n",
       " (22, 0.04828242945349906),\n",
       " (23, 0.02619917756642768),\n",
       " (24, -0.012184084649096585),\n",
       " (25, -0.00979895001397621),\n",
       " (26, 0.004063480765970698),\n",
       " (27, 0.0765762625813539),\n",
       " (28, -0.06507942482775086),\n",
       " (29, 0.029186374690681482),\n",
       " (30, 0.04318907588329485),\n",
       " (31, 0.04689549140404469),\n",
       " (32, -0.06952301365429225),\n",
       " (33, 0.05089986817422101),\n",
       " (34, -0.027146634403030903),\n",
       " (35, 0.06004989858637706),\n",
       " (36, 0.04311726237192436),\n",
       " (37, -0.01074975691663163),\n",
       " (38, -0.062193258461915576),\n",
       " (39, 0.02848628880619182),\n",
       " (40, -0.04220695918001534),\n",
       " (41, -0.03172756840413861),\n",
       " (42, 0.026524705017399924),\n",
       " (43, 0.017009387637270085),\n",
       " (44, 0.012336345862004466),\n",
       " (45, 0.06034232966966081),\n",
       " (46, -0.004068562282565094),\n",
       " (47, 0.004182791996073533),\n",
       " (48, 0.012923708424674161),\n",
       " (49, 0.02456744485303983),\n",
       " (50, 0.014353553067803636),\n",
       " (51, 0.048660528109542356),\n",
       " (52, -0.0017944413754385144),\n",
       " (53, 0.0030801882728632634),\n",
       " (54, 0.03906157486865246),\n",
       " (55, -0.013843633341524919),\n",
       " (56, 0.018812935790829717),\n",
       " (57, -0.0167952957051768),\n",
       " (58, -0.013941188839497205),\n",
       " (59, 0.042172480642831627),\n",
       " (60, 0.007608969791480711),\n",
       " (61, 0.055617982056003115),\n",
       " (62, 0.015436869460449991),\n",
       " (63, -0.024974561897552358),\n",
       " (64, 0.05632449983060016),\n",
       " (65, 0.03298455536197885),\n",
       " (66, 0.011780237939155162),\n",
       " (67, 0.06734435554059033),\n",
       " (68, -0.02222055786686565),\n",
       " (69, -0.05279370959969431),\n",
       " (70, -0.03436221621084858),\n",
       " (71, -0.019774545834780152),\n",
       " (72, 0.019636464256749017),\n",
       " (73, 0.07585952007203224),\n",
       " (74, -0.06766863168943608),\n",
       " (75, 0.037110164576342385),\n",
       " (76, 0.011179575163391617),\n",
       " (77, -0.024016307969283286),\n",
       " (78, 0.041800428371726),\n",
       " (79, 0.03277007839314844),\n",
       " (80, -0.0226954059722401),\n",
       " (81, -0.000930416439687165),\n",
       " (82, 0.0332676862160926),\n",
       " (83, 0.013038967996864718),\n",
       " (84, -0.05579172944871886),\n",
       " (85, -0.016270406517275113),\n",
       " (86, -0.020506586071208678),\n",
       " (87, -0.0277617466509466),\n",
       " (88, -0.050303775371426385),\n",
       " (89, 0.07303207157622726),\n",
       " (90, -0.08351532781796528),\n",
       " (91, 0.0244354998936973),\n",
       " (92, 0.02633735508912623),\n",
       " (93, -0.06462165699635654),\n",
       " (94, 0.015662963068943478),\n",
       " (95, 0.018803637558372298),\n",
       " (96, 0.002764569846617798),\n",
       " (97, 0.030544623500115935),\n",
       " (98, -0.0172136089230025),\n",
       " (99, 0.031020527384723974)]"
=======
       "[(0, 0.015213697459717018),\n",
       " (1, -0.016256668927571775),\n",
       " (2, -0.00021185141260664925),\n",
       " (3, -0.0018152124146534785),\n",
       " (4, -0.009452113982104871),\n",
       " (5, -0.004763667157367622),\n",
       " (6, 0.027037833630913933),\n",
       " (7, 0.016691830133617382),\n",
       " (8, -0.03168612677079427),\n",
       " (9, -0.0006725708645211308),\n",
       " (10, 0.002434904071551465),\n",
       " (11, -0.01784002328301531),\n",
       " (12, -0.00010567680535912387),\n",
       " (13, 0.0016739350926287342),\n",
       " (14, 0.004613574131040605),\n",
       " (15, 0.00507829472090044),\n",
       " (16, 0.005478525263754546),\n",
       " (17, 0.00290399159936797),\n",
       " (18, -0.0182951262818056),\n",
       " (19, 0.019954195554228515),\n",
       " (20, -0.009498320987161213),\n",
       " (21, -0.013416652251139957),\n",
       " (22, 0.04857129122984039),\n",
       " (23, 0.025390172647105955),\n",
       " (24, -0.009933976259879487),\n",
       " (25, -0.013006286816622529),\n",
       " (26, 0.00596796970860403),\n",
       " (27, 0.07412848399236494),\n",
       " (28, -0.06555969096964727),\n",
       " (29, 0.03257836449598446),\n",
       " (30, 0.043459258942512256),\n",
       " (31, 0.04436917007777811),\n",
       " (32, -0.07405692247388695),\n",
       " (33, 0.04673907576447485),\n",
       " (34, -0.025942633108387257),\n",
       " (35, 0.06404785405464883),\n",
       " (36, 0.04020070197551536),\n",
       " (37, -0.009556381237480923),\n",
       " (38, -0.06080562363725073),\n",
       " (39, 0.019764458264913395),\n",
       " (40, -0.04443828008332745),\n",
       " (41, -0.030376954853770868),\n",
       " (42, 0.02699943809676375),\n",
       " (43, 0.01619136467974182),\n",
       " (44, 0.020617068089949588),\n",
       " (45, -0.056889431342445264),\n",
       " (46, -0.0025806518211412364),\n",
       " (47, 0.013604942205143751),\n",
       " (48, 0.0198777122388141),\n",
       " (49, 0.028326781394504143),\n",
       " (50, 0.01318208748781888),\n",
       " (51, 0.04939013248095396),\n",
       " (52, -0.009398593256216994),\n",
       " (53, 0.002198041836592119),\n",
       " (54, 0.040057476356691546),\n",
       " (55, 0.03054786500589521),\n",
       " (56, 0.00485897022035464),\n",
       " (57, -0.02527957919707901),\n",
       " (58, -0.01250379899142908),\n",
       " (59, 0.04197321865578658),\n",
       " (60, -0.006807615313676032),\n",
       " (61, -0.034878352670735614),\n",
       " (62, -0.03944047261150661),\n",
       " (63, 0.0580711840493081),\n",
       " (64, -0.020684565580320016),\n",
       " (65, 0.04534048891808305),\n",
       " (66, 0.0065822295528740644),\n",
       " (67, -0.042555646825946064),\n",
       " (68, 0.048784590957064625),\n",
       " (69, -0.03131787295804098),\n",
       " (70, -0.05875536814219216),\n",
       " (71, -0.01367335971085409),\n",
       " (72, -0.015834980763872127),\n",
       " (73, 0.05016412140119079),\n",
       " (74, -0.07806859931848706),\n",
       " (75, 0.01981125546514866),\n",
       " (76, 0.0513233000297551),\n",
       " (77, -0.02364887328426456),\n",
       " (78, 0.03559640783363456),\n",
       " (79, 0.0341251735717777),\n",
       " (80, -0.015357357423803696),\n",
       " (81, 0.007873011611958683),\n",
       " (82, 0.06189436100368539),\n",
       " (83, 0.021029090905439463),\n",
       " (84, -0.039437955876185066),\n",
       " (85, -0.05357761383367143),\n",
       " (86, -0.01760127742017651),\n",
       " (87, -0.05751351446422809),\n",
       " (88, -0.048131623226755654),\n",
       " (89, -0.06675876604895656),\n",
       " (90, -0.03363064512597037),\n",
       " (91, 0.03242244781797974),\n",
       " (92, -0.011349529766463437),\n",
       " (93, 0.00686262501255535),\n",
       " (94, -0.069526432517316),\n",
       " (95, -0.026288040914809976),\n",
       " (96, 0.010070856602035735),\n",
       " (97, -0.014913739465230003),\n",
       " (98, 0.01304384090673218),\n",
       " (99, 0.009140944436616758)]"
>>>>>>> f112c0d61b750a228b88f0802915dd23311d3005:assignment1/hw1_final_master.ipynb
      ]
     },
     "execution_count": 78,
     "metadata": {},
     "output_type": "execute_result"
    }
   ],
   "source": [
    "##### Function check\n",
    "lsi = LsiRetrievalModel(doc_repr_2)\n",
    "lsi.train_model()\n",
    "\n",
    "# you can now get an LSI vector for a given query in the following way:\n",
    "lsi.vectorize_query(\"report\")\n",
    "##### "
   ]
  },
  {
   "cell_type": "markdown",
   "metadata": {
    "deletable": false,
    "editable": false,
    "nbgrader": {
     "cell_type": "markdown",
     "checksum": "7116bb9f576c5bb04934e1d59c51d729",
     "grade": false,
     "grade_id": "cell-4c5eeb557b4fca2f",
     "locked": true,
     "points": 5,
     "schema_version": 3,
     "solution": false,
     "task": true
    }
   },
   "source": [
    "\\#### Please do not change this. This cell is used for grading."
   ]
  },
  {
   "cell_type": "markdown",
   "metadata": {
    "deletable": false,
    "editable": false,
    "nbgrader": {
     "cell_type": "markdown",
     "checksum": "26e2ff3c413745e633d99f66c041d6b1",
     "grade": false,
     "grade_id": "cell-c4e50296cd17a555",
     "locked": true,
     "schema_version": 3,
     "solution": false,
     "task": false
    }
   },
   "source": [
    "---\n",
    "**Implementation (5 points):**\n",
    " Next, implement a basic ranking class for vector space retrieval (used for all semantic methods): "
   ]
  },
  {
   "cell_type": "code",
   "execution_count": 79,
   "metadata": {
    "deletable": false,
    "nbgrader": {
     "cell_type": "code",
     "checksum": "1a8389d2f0635c3405e2b0b27ed9f327",
     "grade": false,
     "grade_id": "cell-250515d288e80cdc",
     "locked": false,
     "schema_version": 3,
     "solution": true,
     "task": false
    }
   },
   "outputs": [],
   "source": [
    "# TODO: Implement this! (5 points)\n",
    "class DenseRetrievalRanker:\n",
    "    def __init__(self, vsrm, similarity_fn):\n",
    "        \"\"\"\n",
    "            vsrm: instance of `VectorSpaceRetrievalModel`\n",
    "            similarity_fn: function instance that takes in two vectors \n",
    "                            and returns a similarity score e.g cosine_sim defined earlier\n",
    "        \"\"\"\n",
    "        self.vsrm = vsrm \n",
    "        self.vectorized_documents = self.vsrm.vectorize_documents()\n",
    "        self.similarity_fn = similarity_fn\n",
    "    \n",
    "    def _compute_sim(self, query_vector):\n",
    "        \"\"\"\n",
    "            Compute the similarity of `query_vector` to documents in \n",
    "            `self.vectorized_documents` using `self.similarity_fn`\n",
    "            Returns a list of (doc_id, score) tuples\n",
    "        \"\"\"\n",
    "        # YOUR CODE HERE\n",
    "        scores = list()\n",
    "        if not query_vector:\n",
    "            return []\n",
    "        for doc_id, vec in self.vectorized_documents.items():\n",
    "            if not vec:\n",
    "                score = 0\n",
    "            else:\n",
    "                score = self.similarity_fn(query_vector, vec)\n",
    "            scores.append((doc_id, score))\n",
    "            \n",
    "        return scores\n",
    "    \n",
    "    def search(self, query):\n",
    "        scores = self._compute_sim(self.vsrm.vectorize_query(query))\n",
    "        scores.sort(key=lambda _:-_[1])\n",
    "        return scores "
   ]
  },
  {
   "cell_type": "code",
   "execution_count": 80,
   "metadata": {
    "deletable": false,
    "editable": false,
    "nbgrader": {
     "cell_type": "code",
     "checksum": "f237dd1ef6c1783c06797f4b514421f5",
     "grade": true,
     "grade_id": "cell-b73068b3e77a8e31",
     "locked": true,
     "points": 0,
     "schema_version": 3,
     "solution": false,
     "task": false
    }
   },
   "outputs": [
    {
     "data": {
      "text/plain": [
<<<<<<< HEAD:assignment1/hw1_master.ipynb
       "[('599', 0.8124950666609826),\n",
       " ('947', 0.5832454861644824),\n",
       " ('53', 0.4902172594538895),\n",
       " ('1339', 0.45144188921094375),\n",
       " ('3160', 0.44182090727386536)]"
=======
       "[('599', 0.7966362809859819),\n",
       " ('947', 0.5807226987036906),\n",
       " ('53', 0.4853525852970574),\n",
       " ('1339', 0.45432058751537646),\n",
       " ('3160', 0.441773423574131)]"
>>>>>>> f112c0d61b750a228b88f0802915dd23311d3005:assignment1/hw1_final_master.ipynb
      ]
     },
     "execution_count": 80,
     "metadata": {},
     "output_type": "execute_result"
    }
   ],
   "source": [
    "##### Function check\n",
    "drm_lsi = DenseRetrievalRanker(lsi, cosine_sim)\n",
    "drm_lsi.search(\"report\")[:5]\n",
    "##### "
   ]
  },
  {
   "cell_type": "markdown",
   "metadata": {
    "deletable": false,
    "editable": false,
    "nbgrader": {
     "cell_type": "markdown",
     "checksum": "5b3f19fdcaa585d263706d5a26038799",
     "grade": false,
     "grade_id": "cell-034c755a6502b868",
     "locked": true,
     "points": 5,
     "schema_version": 3,
     "solution": false,
     "task": true
    }
   },
   "source": [
    "\\#### Please do not change this. This cell is used for grading."
   ]
  },
  {
   "cell_type": "markdown",
   "metadata": {
    "deletable": false,
    "editable": false,
    "nbgrader": {
     "cell_type": "markdown",
     "checksum": "dcafef6e037033c46304b914f7c78bdf",
     "grade": false,
     "grade_id": "cell-d1df23f497d5ed6b",
     "locked": true,
     "schema_version": 3,
     "solution": false,
     "task": false
    }
   },
   "source": [
    "---\n",
    "Now, you can test your LSI model in the following cell: try finding queries which are lexically different to documents, but semantically similar - does LSI work well for these queries?!"
   ]
  },
  {
   "cell_type": "code",
   "execution_count": 81,
   "metadata": {
    "deletable": false,
    "editable": false,
    "nbgrader": {
     "cell_type": "code",
     "checksum": "11734bc7674377b340ad51297a8e8bb5",
     "grade": false,
     "grade_id": "cell-efd1d08dfc04ec3e",
     "locked": true,
     "schema_version": 3,
     "solution": false,
     "task": false
    }
   },
   "outputs": [
    {
     "data": {
      "application/vnd.jupyter.widget-view+json": {
<<<<<<< HEAD:assignment1/hw1_master.ipynb
       "model_id": "dbe82e88d4074073a2b332b68f6d6878",
=======
       "model_id": "62d4b85888d141798cb03c387daf1f75",
>>>>>>> f112c0d61b750a228b88f0802915dd23311d3005:assignment1/hw1_final_master.ipynb
       "version_major": 2,
       "version_minor": 0
      },
      "text/plain": [
       "Text(value='', description='Search Bar')"
      ]
     },
     "metadata": {},
     "output_type": "display_data"
    }
   ],
   "source": [
    "# test your LSI model\n",
    "search_fn = drm_lsi.search\n",
    "\n",
    "text = widgets.Text(description=\"Search Bar\", width=200)\n",
    "display(text)\n",
    "\n",
    "def make_results_2(query, search_fn):\n",
    "    results = []\n",
    "    for doc_id, score in search_fn(query):\n",
    "        highlight = highlight_text(docs_by_id[doc_id], query)\n",
    "        if len(highlight.strip()) == 0:\n",
    "            highlight = docs_by_id[doc_id]\n",
    "        results.append(ResultRow(doc_id, highlight, score))\n",
    "    return results\n",
    "\n",
    "def handle_submit_2(sender):\n",
    "    print(f\"Searching for: '{sender.value}' (SEARCH FN: {search_fn})\")\n",
    "    \n",
    "    results = make_results_2(sender.value, search_fn)\n",
    "    \n",
    "    # display only the top 5\n",
    "    results = results[:5]\n",
    "    \n",
    "    body = \"\"\n",
    "    for idx, r in enumerate(results):\n",
    "        body += f\"<li>Document #{r.doc_id}({r.score}): {r.snippet}</li>\"\n",
    "    display(HTML(f\"<ul>{body}</ul>\"))\n",
    "    \n",
    "\n",
    "text.on_submit(handle_submit_2)"
   ]
  },
  {
   "cell_type": "markdown",
   "metadata": {
    "deletable": false,
    "editable": false,
    "nbgrader": {
     "cell_type": "markdown",
     "checksum": "d074ce1ca48384cdda78742741c938be",
     "grade": false,
     "grade_id": "cell-3a86cef264d8f6cf",
     "locked": true,
     "schema_version": 3,
     "solution": false,
     "task": false
    }
   },
   "source": [
    "---\n",
    "## Section 7: Latent Dirichlet Allocation (LDA) (10 points) <a class=\"anchor\" id=\"lda\"></a>\n",
    "\n",
    "[Back to Part 2](#part2)\n",
    "\n",
    "The specifics of LDA is out of the scope of this assignment, but we will use the `gensim` implementation to perform search using LDA over our small document collection. The key thing to remember is that LDA, unlike LSI, outputs a topic **distribution**, not a vector. With that in mind, let's first define a similarity measure.\n"
   ]
  },
  {
   "cell_type": "markdown",
   "metadata": {
    "deletable": false,
    "editable": false,
    "nbgrader": {
     "cell_type": "markdown",
     "checksum": "db01092373b18f0c9dfed1bb17db4ad9",
     "grade": false,
     "grade_id": "cell-6b78ad22c2d60ba7",
     "locked": true,
     "schema_version": 3,
     "solution": false,
     "task": false
    }
   },
   "source": [
    "---\n",
    "### Section 7.1: Jenson-Shannon divergence (5 points) <a class=\"anchor\" id=\"js_sim\"></a>\n",
    "\n",
    "The Jenson-Shannon divergence is a symmetric and finite measure on two probability distributions (unlike the KL, which is neither). For identical distributions, the JSD is equal to 0, and since our code uses 0 as irrelevant and higher scores as relevant, we use `(1 - JSD)` as the score or 'similarity' in our setup\n",
    "\n",
    "**Note**: the JSD is bounded to \\[0,1\\] only if we use log base 2. So please ensure that you're using `np.log2` instead of `np.log`"
   ]
  },
  {
   "cell_type": "code",
   "execution_count": 82,
   "metadata": {
    "deletable": false,
    "nbgrader": {
     "cell_type": "code",
     "checksum": "a579e6cd7a24a3516bc9a84528b392d3",
     "grade": false,
     "grade_id": "cell-d2376a85a4841e98",
     "locked": false,
     "schema_version": 3,
     "solution": true,
     "task": false
    }
   },
   "outputs": [],
   "source": [
    "## TODO: Implement this! (5 points)\n",
    "def jenson_shannon_divergence(vec_1, vec_2, assert_prob=False):\n",
    "    \"\"\"\n",
    "        Computes the Jensen-Shannon divergence between two probability distributions. \n",
    "        NOTE: DO NOT RETURN 1 - JSD here, that is handled by the next function which is already implemented! \n",
    "        The inputs are *gensim* vectors - same as the vectors for the cosine_sim function\n",
    "        assert_prob is a flag that checks if the inputs are proper probability distributions \n",
    "            i.e they sum to 1 and are positive - use this to check your inputs if needed. \n",
    "                (This is optional to implement, but recommended - \n",
    "                you can the default to False to save a few ms off the runtime)\n",
    "    \"\"\"\n",
    "    # YOUR CODE HERE\n",
    "    kl1 =0\n",
    "    kl2 = 0\n",
    "\n",
    "    vec_1 = list(list(zip(*vec_1))[1])\n",
    "    vec_2 = list(list(zip(*vec_2))[1])\n",
    "    \n",
    "    mean = list(0.5*(np.array(vec_1) + np.array(vec_2)))\n",
    "\n",
    "    for i in range(len(vec_1)):\n",
    "        kl1+= vec_1[i] * np.log2(vec_1[i] / mean[i])\n",
    "\n",
    "        \n",
    "    for i in range(len(vec_2)):\n",
    "        kl2+= vec_2[i] * np.log2(vec_2[i] / mean[i])\n",
    "    \n",
    "    kl_total = (0.5*kl1) + (0.5*kl2)\n",
    "\n",
    "    return kl_total\n",
    "\n",
    "\n",
    "def jenson_shannon_sim(vec_1, vec_2, assert_prob=False):\n",
    "    return 1 - jenson_shannon_divergence(vec_1, vec_2)\n",
    "\n"
   ]
  },
  {
   "cell_type": "code",
   "execution_count": 83,
   "metadata": {
    "deletable": false,
    "editable": false,
    "nbgrader": {
     "cell_type": "code",
     "checksum": "ab340aa941c9fb5c89b3fd0a9139e246",
     "grade": true,
     "grade_id": "cell-487c6d2933f38053",
     "locked": true,
     "points": 5,
     "schema_version": 3,
     "solution": false,
     "task": false
    }
   },
   "outputs": [
    {
     "data": {
      "text/plain": [
       "0.9251064410358459"
      ]
     },
     "execution_count": 83,
     "metadata": {},
     "output_type": "execute_result"
    }
   ],
   "source": [
    "##### Function check\n",
    "vec_1 = [(1, 0.3), (2, 0.4), (3, 0.3)]\n",
    "vec_2 = [(1, 0.1), (2, 0.7), (3, 0.2)]\n",
    "jenson_shannon_sim(vec_1, vec_2, assert_prob=True)\n",
    "##### "
   ]
  },
  {
   "cell_type": "markdown",
   "metadata": {
    "deletable": false,
    "editable": false,
    "nbgrader": {
     "cell_type": "markdown",
     "checksum": "0a1583a5f23e3390038331cce67f5d8e",
     "grade": false,
     "grade_id": "cell-4535cc67a50b80fa",
     "locked": true,
     "schema_version": 3,
     "solution": false,
     "task": false
    }
   },
   "source": [
    "---\n",
    "### Section 7.2: LDA retrieval (5 points) <a class=\"anchor\" id=\"lda_ret\"></a>\n",
    "\n",
    "Implement the `train_model` method in the following class (note that this is only one line of code in `gensim`!). Ensure that the parameters defined in the `__init__` method are not changed, and are *used in the `train_method` function*. You do not need to set this. Normally, the hyperaparameter space will be searched using grid search / other methods. Note that training the LDA model might take some time\n",
    "\n",
    "The last two lines of code train an LDA model on the list of documents which have been stemmed, lower-cased and have stopwords removed. "
   ]
  },
  {
   "cell_type": "code",
   "execution_count": 84,
   "metadata": {
    "deletable": false,
    "nbgrader": {
     "cell_type": "code",
     "checksum": "27de8e4fa85536bb396b73bfc51b3f50",
     "grade": false,
     "grade_id": "cell-021a48dff4a8bb91",
     "locked": false,
     "schema_version": 3,
     "solution": true,
     "task": false
    }
   },
   "outputs": [],
   "source": [
    "# TODO: Implement this! (5 points)\n",
    "class LdaRetrievalModel(VectorSpaceRetrievalModel):\n",
    "    def __init__(self, doc_repr):\n",
    "        super().__init__(doc_repr)\n",
    "        \n",
    "        # use these parameters in the train_model method\n",
    "        self.num_topics = 100\n",
    "        self.chunksize = 2000\n",
    "        self.passes = 20\n",
    "        self.iterations = 400\n",
    "        self.eval_every = 10\n",
    "        # this is need to get full vectors\n",
    "        self.minimum_probability=0.0\n",
    "        self.alpha='auto'\n",
    "        self.eta='auto'\n",
    "    \n",
    "    \n",
    "    def train_model(self):\n",
    "        # YOUR CODE HERE\n",
    "        self.model = LdaModel(corpus=self.corpus, id2word=self.id2word, num_topics=self.num_topics, chunksize=self.chunksize,\\\n",
    "                        passes=self.passes, alpha=self.alpha,eval_every=self.eval_every, minimum_probability=self.minimum_probability,\\\n",
    "                        eta=self.eta, iterations=self.iterations)\n"
   ]
  },
  {
   "cell_type": "code",
   "execution_count": 85,
   "metadata": {
    "deletable": false,
    "editable": false,
    "nbgrader": {
     "cell_type": "code",
     "checksum": "be70fcb8098d0b6ce64cd2a10e6a05b7",
     "grade": true,
     "grade_id": "cell-86750b715f0345fd",
     "locked": true,
     "points": 0,
     "schema_version": 3,
     "solution": false,
     "task": false
    }
   },
   "outputs": [
    {
     "name": "stderr",
     "output_type": "stream",
     "text": [
<<<<<<< HEAD:assignment1/hw1_master.ipynb
      "2022-02-23 14:32:20,453 : INFO : adding document #0 to Dictionary(0 unique tokens: [])\n",
      "2022-02-23 14:32:20,580 : INFO : built Dictionary(5937 unique tokens: ['-', 'algebra', 'intern', 'languag', 'preliminari']...) from 3204 documents (total 115969 corpus positions)\n",
      "2022-02-23 14:32:20,587 : INFO : discarding 4740 tokens: [('repeat', 8), ('glossari', 7), ('inspect', 8), ('uncol', 2), ('rung', 9), ('secant', 2), ('.', 1603), ('acceler', 6), ('diverg', 3), ('induc', 9)]...\n",
      "2022-02-23 14:32:20,588 : INFO : keeping 1197 tokens which were in no less than 10 and no more than 1602 (=50.0%) documents\n",
      "2022-02-23 14:32:20,591 : INFO : resulting dictionary: Dictionary(1197 unique tokens: ['-', 'algebra', 'intern', 'languag', 'preliminari']...)\n",
      "2022-02-23 14:32:20,666 : INFO : using autotuned alpha, starting with [0.01, 0.01, 0.01, 0.01, 0.01, 0.01, 0.01, 0.01, 0.01, 0.01, 0.01, 0.01, 0.01, 0.01, 0.01, 0.01, 0.01, 0.01, 0.01, 0.01, 0.01, 0.01, 0.01, 0.01, 0.01, 0.01, 0.01, 0.01, 0.01, 0.01, 0.01, 0.01, 0.01, 0.01, 0.01, 0.01, 0.01, 0.01, 0.01, 0.01, 0.01, 0.01, 0.01, 0.01, 0.01, 0.01, 0.01, 0.01, 0.01, 0.01, 0.01, 0.01, 0.01, 0.01, 0.01, 0.01, 0.01, 0.01, 0.01, 0.01, 0.01, 0.01, 0.01, 0.01, 0.01, 0.01, 0.01, 0.01, 0.01, 0.01, 0.01, 0.01, 0.01, 0.01, 0.01, 0.01, 0.01, 0.01, 0.01, 0.01, 0.01, 0.01, 0.01, 0.01, 0.01, 0.01, 0.01, 0.01, 0.01, 0.01, 0.01, 0.01, 0.01, 0.01, 0.01, 0.01, 0.01, 0.01, 0.01, 0.01]\n",
      "2022-02-23 14:32:20,666 : INFO : using serial LDA version on this node\n",
      "2022-02-23 14:32:20,678 : INFO : running online (multi-pass) LDA training, 100 topics, 20 passes over the supplied corpus of 3204 documents, updating model once every 2000 documents, evaluating perplexity every 3204 documents, iterating 400x with a convergence threshold of 0.001000\n",
      "2022-02-23 14:32:20,679 : INFO : PROGRESS: pass 0, at document #2000/3204\n",
      "2022-02-23 14:32:23,127 : INFO : optimized alpha [0.009917405, 0.009826968, 0.009808053, 0.009797657, 0.009853622, 0.009854733, 0.009823453, 0.009881115, 0.00980185, 0.009797832, 0.009818558, 0.009875316, 0.0098394165, 0.009803514, 0.009939212, 0.009818288, 0.009803111, 0.009947637, 0.009834261, 0.009776959, 0.0098344, 0.0098654125, 0.009875669, 0.009839128, 0.009808302, 0.009797536, 0.00980286, 0.009854781, 0.00983417, 0.009927942, 0.009934454, 0.0097876545, 0.00980291, 0.009802958, 0.009782347, 0.009803133, 0.009766766, 0.009777222, 0.009829008, 0.009828795, 0.00979752, 0.009813697, 0.0098755425, 0.0098391995, 0.009808232, 0.0098085785, 0.009849143, 0.009787351, 0.009838963, 0.009890661, 0.009824099, 0.009797672, 0.00990213, 0.009964473, 0.009855011, 0.00983946, 0.009850017, 0.009772017, 0.009875221, 0.009818572, 0.009844005, 0.009885096, 0.009813477, 0.009792701, 0.009864939, 0.009896929, 0.009833857, 0.009787652, 0.009829288, 0.009797552, 0.009792438, 0.009817675, 0.009787614, 0.009849204, 0.0097926585, 0.009880746, 0.009792574, 0.009839046, 0.009834538, 0.009787439, 0.009855085, 0.009849487, 0.009803178, 0.009833992, 0.009792861, 0.009787513, 0.009875802, 0.009813284, 0.009864895, 0.009777059, 0.009777104, 0.009808088, 0.009787335, 0.009823549, 0.0098596765, 0.00977709, 0.00976683, 0.009802685, 0.009782088, 0.009839434]\n",
      "2022-02-23 14:32:23,135 : INFO : merging changes from 2000 documents into a model of 3204 documents\n",
      "2022-02-23 14:32:23,148 : INFO : topic #37 (0.010): 0.048*\"-\" + 0.041*\"processor\" + 0.037*\",\" + 0.033*\"compil\" + 0.032*\"parallel\" + 0.029*\"present\" + 0.025*\"process\" + 0.025*\"express\" + 0.025*\"techniqu\" + 0.025*\"arithmet\"\n",
      "2022-02-23 14:32:23,149 : INFO : topic #95 (0.010): 0.060*\",\" + 0.050*\"tabl\" + 0.040*\"cobol\" + 0.040*\"decis\" + 0.040*\"program\" + 0.030*\"condit\" + 0.030*\"fortran\" + 0.030*\"shown\" + 0.030*\"algorithm\" + 0.020*\"method\"\n",
      "2022-02-23 14:32:23,150 : INFO : topic #0 (0.010): 0.086*\",\" + 0.039*\"(\" + 0.038*\"-\" + 0.024*\"system\" + 0.024*\")\" + 0.021*\"program\" + 0.014*\"problem\" + 0.013*\"comput\" + 0.012*\"algorithm\" + 0.010*\"pass\"\n",
      "2022-02-23 14:32:23,151 : INFO : topic #17 (0.010): 0.061*\",\" + 0.053*\"-\" + 0.041*\"(\" + 0.027*\")\" + 0.023*\"algorithm\" + 0.018*\"comput\" + 0.013*\"point\" + 0.013*\"gener\" + 0.012*\"[\" + 0.010*\"\"\"\n",
      "2022-02-23 14:32:23,152 : INFO : topic #14 (0.010): 0.109*\",\" + 0.022*\"-\" + 0.016*\"program\" + 0.015*\"(\" + 0.014*\"languag\" + 0.013*\"comput\" + 0.013*\"data\" + 0.011*\"\"\" + 0.011*\")\" + 0.010*\"process\"\n",
      "2022-02-23 14:32:23,153 : INFO : topic diff=82.118439, rho=1.000000\n",
      "2022-02-23 14:32:24,248 : INFO : -7.314 per-word bound, 159.1 perplexity estimate based on a held-out corpus of 1204 documents with 49783 words\n",
      "2022-02-23 14:32:24,249 : INFO : PROGRESS: pass 0, at document #3204/3204\n",
      "2022-02-23 14:32:25,187 : INFO : optimized alpha [0.010053598, 0.009920284, 0.009885181, 0.009891243, 0.010172954, 0.009990181, 0.009757964, 0.010207272, 0.0099300025, 0.009845817, 0.009825002, 0.009916192, 0.0101991, 0.009976272, 0.010389374, 0.0098946355, 0.010108019, 0.010203766, 0.009876234, 0.009677023, 0.010041799, 0.010257531, 0.01051244, 0.010098363, 0.010021746, 0.010036613, 0.00987286, 0.009907757, 0.009793279, 0.0102268495, 0.009872516, 0.00999931, 0.00976164, 0.010014641, 0.0097531695, 0.0099443, 0.009881984, 0.009836466, 0.010047842, 0.009959252, 0.009697479, 0.009867462, 0.0100768125, 0.01006238, 0.009844162, 0.01024553, 0.009783724, 0.0097692115, 0.009950433, 0.009949686, 0.009961838, 0.009873288, 0.010123691, 0.01004818, 0.010074809, 0.009899107, 0.010135063, 0.009876295, 0.009844659, 0.009812946, 0.009880225, 0.009871821, 0.010216543, 0.00978175, 0.009887581, 0.010190074, 0.009786172, 0.010400188, 0.009937274, 0.009796494, 0.009820473, 0.00985229, 0.009805536, 0.0100210775, 0.00988092, 0.009892267, 0.009663781, 0.009844642, 0.010207782, 0.0098817395, 0.010057241, 0.010008392, 0.009968453, 0.00993997, 0.009815923, 0.009927868, 0.010125241, 0.00987334, 0.01004242, 0.009754491, 0.009957198, 0.00997906, 0.0098561775, 0.009829917, 0.010301867, 0.009894707, 0.010060148, 0.009866959, 0.009874952, 0.010229308]\n",
      "2022-02-23 14:32:25,195 : INFO : merging changes from 1204 documents into a model of 3204 documents\n",
      "2022-02-23 14:32:25,206 : INFO : topic #76 (0.010): 0.108*\"hierarch\" + 0.061*\"flow\" + 0.054*\"program\" + 0.048*\"method\" + 0.033*\"analysi\" + 0.032*\"squar\" + 0.030*\"facil\" + 0.029*\"level\" + 0.027*\"sum\" + 0.023*\"command\"\n",
      "2022-02-23 14:32:25,207 : INFO : topic #19 (0.010): 0.323*\"array\" + 0.077*\"logic\" + 0.070*\"summat\" + 0.050*\"seri\" + 0.038*\"fourier\" + 0.032*\"algorithm\" + 0.031*\"arithmet\" + 0.027*\"address\" + 0.027*\"-\" + 0.027*\"structur\"\n",
      "2022-02-23 14:32:25,207 : INFO : topic #67 (0.010): 0.064*\"]\" + 0.062*\"-\" + 0.060*\"tree\" + 0.047*\"properti\" + 0.038*\",\" + 0.037*\"distribut\" + 0.030*\"time\" + 0.029*\"method\" + 0.021*\"search\" + 0.021*\"end\"\n",
      "2022-02-23 14:32:25,209 : INFO : topic #14 (0.010): 0.133*\",\" + 0.020*\"-\" + 0.015*\"structur\" + 0.015*\"data\" + 0.013*\"program\" + 0.012*\"languag\" + 0.012*\"(\" + 0.012*\";\" + 0.011*\"comput\" + 0.011*\"tree\"\n",
      "2022-02-23 14:32:25,209 : INFO : topic #22 (0.011): 0.078*\",\" + 0.078*\"program\" + 0.032*\"comput\" + 0.019*\"languag\" + 0.019*\"scienc\" + 0.015*\"cours\" + 0.014*\"structur\" + 0.013*\"inform\" + 0.013*\"-\" + 0.013*\"present\"\n",
      "2022-02-23 14:32:25,210 : INFO : topic diff=0.741560, rho=0.707107\n",
      "2022-02-23 14:32:25,218 : INFO : PROGRESS: pass 1, at document #2000/3204\n",
      "2022-02-23 14:32:26,335 : INFO : optimized alpha [0.009942755, 0.009883568, 0.009883903, 0.0099019855, 0.0100804, 0.009979224, 0.009708797, 0.010166124, 0.01015898, 0.009860313, 0.009743364, 0.009917485, 0.010179266, 0.009913229, 0.010334469, 0.009816173, 0.010145071, 0.010157161, 0.009854226, 0.00968023, 0.009965735, 0.010168339, 0.010490477, 0.010071456, 0.009980789, 0.010018766, 0.009931675, 0.009811165, 0.009730513, 0.010142081, 0.009818724, 0.009964013, 0.009805677, 0.009904203, 0.009758097, 0.0098599065, 0.009923937, 0.00986449, 0.0099823335, 0.009919863, 0.009819109, 0.009843147, 0.00997878, 0.009953316, 0.009767078, 0.01013728, 0.009763291, 0.009821575, 0.009977343, 0.009872789, 0.0100489715, 0.009944713, 0.010060684, 0.009978484, 0.010074468, 0.009799893, 0.01006532, 0.009960821, 0.009796803, 0.009728972, 0.009805885, 0.009971753, 0.010155867, 0.009708571, 0.009841362, 0.010168792, 0.009806759, 0.010334503, 0.009861348, 0.00980326, 0.009845038, 0.009816885, 0.009818289, 0.009958717, 0.0098552555, 0.00981221, 0.009644439, 0.009762394, 0.010103443, 0.009827119, 0.0099544395, 0.009922503, 0.009973604, 0.0098637305, 0.009849096, 0.00988292, 0.010042148, 0.009814228, 0.010056146, 0.00975446, 0.010038676, 0.01010693, 0.009943696, 0.009855346, 0.010222384, 0.009879292, 0.01011408, 0.010019645, 0.010956375, 0.010140768]\n",
      "2022-02-23 14:32:26,344 : INFO : merging changes from 2000 documents into a model of 3204 documents\n",
      "2022-02-23 14:32:26,355 : INFO : topic #19 (0.010): 0.198*\"array\" + 0.124*\"seri\" + 0.113*\"logic\" + 0.071*\"fourier\" + 0.061*\"arithmet\" + 0.049*\"summat\" + 0.036*\"c6\" + 0.030*\"engin\" + 0.027*\"-\" + 0.026*\"algorithm\"\n",
      "2022-02-23 14:32:26,356 : INFO : topic #76 (0.010): 0.079*\"squar\" + 0.063*\"program\" + 0.062*\"flow\" + 0.053*\"method\" + 0.046*\"hierarch\" + 0.035*\"analysi\" + 0.027*\"facil\" + 0.026*\"ibm\" + 0.024*\"command\" + 0.024*\"sum\"\n",
      "2022-02-23 14:32:26,357 : INFO : topic #67 (0.010): 0.066*\"-\" + 0.050*\"tree\" + 0.047*\"properti\" + 0.047*\"]\" + 0.037*\",\" + 0.030*\"distribut\" + 0.030*\"time\" + 0.030*\"method\" + 0.026*\"charact\" + 0.022*\"search\"\n",
      "2022-02-23 14:32:26,358 : INFO : topic #22 (0.010): 0.082*\"program\" + 0.077*\",\" + 0.036*\"comput\" + 0.020*\"languag\" + 0.019*\"scienc\" + 0.015*\"cours\" + 0.013*\"present\" + 0.013*\"-\" + 0.012*\"inform\" + 0.012*\"structur\"\n",
      "2022-02-23 14:32:26,358 : INFO : topic #98 (0.011): 0.253*\"(\" + 0.249*\"algorithm\" + 0.156*\")\" + 0.121*\"[\" + 0.086*\"])\" + 0.035*\"function\" + 0.018*\"matrix\" + 0.010*\"minim\" + 0.010*\"integ\" + 0.009*\"s22\"\n",
      "2022-02-23 14:32:26,360 : INFO : topic diff=0.307305, rho=0.526900\n",
      "2022-02-23 14:32:27,692 : INFO : -6.921 per-word bound, 121.2 perplexity estimate based on a held-out corpus of 1204 documents with 49783 words\n",
      "2022-02-23 14:32:27,692 : INFO : PROGRESS: pass 1, at document #3204/3204\n",
      "2022-02-23 14:32:28,743 : INFO : optimized alpha [0.009999995, 0.0100458395, 0.00999877, 0.010054719, 0.010302595, 0.01002206, 0.009715654, 0.010366283, 0.010288345, 0.009957651, 0.009798195, 0.009997105, 0.010377865, 0.010069394, 0.010564182, 0.009948017, 0.0104644345, 0.010262757, 0.009930594, 0.009690957, 0.010125199, 0.01045081, 0.010899324, 0.01029218, 0.010229057, 0.010246624, 0.010089457, 0.009891693, 0.00974242, 0.010261265, 0.009750311, 0.010202161, 0.009854472, 0.010084967, 0.009815753, 0.009979589, 0.010140673, 0.010079207, 0.0101276655, 0.010088342, 0.009884574, 0.009849168, 0.010070888, 0.010115062, 0.009821743, 0.0104228845, 0.0097612925, 0.009914023, 0.010095134, 0.00998799, 0.010282217, 0.01011943, 0.010181227, 0.010014536, 0.010197966, 0.009906907, 0.010261871, 0.010112492, 0.009833516, 0.009792875, 0.009865018, 0.009987683, 0.01051216, 0.009737577, 0.0098464, 0.010352182, 0.00985496, 0.010997242, 0.009959788, 0.009890163, 0.009992703, 0.009856905, 0.009976755, 0.010127209, 0.009947626, 0.009836761, 0.0096564125, 0.009834317, 0.010326187, 0.010072572, 0.010083087, 0.010023783, 0.010171637, 0.010018364, 0.010014905, 0.01003136, 0.010241865, 0.0098777, 0.010233345, 0.009830511, 0.010310308, 0.0103550255, 0.010089825, 0.009922231, 0.010444111, 0.010032766, 0.010522551, 0.010181194, 0.011636079, 0.010444167]\n",
      "2022-02-23 14:32:28,749 : INFO : merging changes from 1204 documents into a model of 3204 documents\n",
      "2022-02-23 14:32:28,760 : INFO : topic #76 (0.010): 0.084*\"hierarch\" + 0.084*\"squar\" + 0.079*\"flow\" + 0.063*\"program\" + 0.058*\"method\" + 0.050*\"analysi\" + 0.046*\"facil\" + 0.042*\"command\" + 0.030*\"level\" + 0.022*\"interfac\"\n",
      "2022-02-23 14:32:28,760 : INFO : topic #30 (0.010): 0.064*\"(\" + 0.063*\")\" + 0.049*\"-\" + 0.045*\",\" + 0.041*\"loop\" + 0.038*\"document\" + 0.026*\"1\" + 0.026*\"algorithm\" + 0.024*\"10\" + 0.022*\"access\"\n",
      "2022-02-23 14:32:28,761 : INFO : topic #22 (0.011): 0.099*\"program\" + 0.082*\",\" + 0.039*\"comput\" + 0.024*\"scienc\" + 0.019*\"cours\" + 0.016*\"languag\" + 0.016*\"inform\" + 0.013*\"game\" + 0.013*\"present\" + 0.013*\"structur\"\n",
      "2022-02-23 14:32:28,762 : INFO : topic #67 (0.011): 0.097*\"]\" + 0.067*\"-\" + 0.067*\"tree\" + 0.059*\"properti\" + 0.040*\",\" + 0.030*\"time\" + 0.029*\"search\" + 0.027*\"distribut\" + 0.023*\"method\" + 0.019*\"charact\"\n",
      "2022-02-23 14:32:28,762 : INFO : topic #98 (0.012): 0.279*\"algorithm\" + 0.265*\"(\" + 0.203*\")\" + 0.113*\"[\" + 0.035*\"])\" + 0.024*\"function\" + 0.015*\"matrix\" + 0.012*\"minim\" + 0.009*\"integ\" + 0.007*\"arithmet\"\n",
      "2022-02-23 14:32:28,763 : INFO : topic diff=0.426854, rho=0.526900\n",
      "2022-02-23 14:32:28,773 : INFO : PROGRESS: pass 2, at document #2000/3204\n",
      "2022-02-23 14:32:29,914 : INFO : optimized alpha [0.0099162115, 0.010041078, 0.010030588, 0.010070648, 0.010238614, 0.010017944, 0.009687931, 0.010338279, 0.010484557, 0.009996118, 0.0097439075, 0.010024418, 0.010346521, 0.01003252, 0.010513469, 0.009890608, 0.010516753, 0.010231584, 0.010002824, 0.009737993, 0.010083678, 0.010388817, 0.010903523, 0.010283535, 0.010207353, 0.0102359345, 0.01023111, 0.009842846, 0.009703031, 0.010182045, 0.0097085275, 0.010185685, 0.009933436, 0.0100202905, 0.009857741, 0.009936037, 0.010202712, 0.010157317, 0.010088478, 0.010112272, 0.010065021, 0.009861877, 0.0099975085, 0.010032972, 0.0097854715, 0.0103391735, 0.009765416, 0.010002685, 0.010149578, 0.009948521, 0.010430035, 0.010234581, 0.010149831, 0.009971403, 0.010209435, 0.009825056, 0.010203684, 0.01020405, 0.009825244, 0.009754872, 0.009812613, 0.010064616, 0.010501401, 0.009688848, 0.009828365, 0.010344396, 0.009912824, 0.010961652, 0.009903011, 0.009949626, 0.010145068, 0.009856995, 0.010029868, 0.010083543, 0.009965129, 0.009803263, 0.009724445, 0.009809424, 0.010227641, 0.010043471, 0.010004774, 0.009972567, 0.010208301, 0.009967337, 0.010092762, 0.010007466, 0.01017949, 0.009868495, 0.010271292, 0.009865206, 0.010444197, 0.010493129, 0.010230895, 0.009987011, 0.010371985, 0.010027787, 0.01064163, 0.010362955, 0.013023716, 0.010377282]\n",
      "2022-02-23 14:32:29,920 : INFO : merging changes from 2000 documents into a model of 3204 documents\n",
      "2022-02-23 14:32:29,930 : INFO : topic #28 (0.010): 0.069*\"-\" + 0.054*\"permut\" + 0.045*\",\" + 0.042*\"gener\" + 0.029*\"digit\" + 0.023*\"system\" + 0.023*\"circular\" + 0.022*\"applic\" + 0.020*\"order\" + 0.018*\"element\"\n",
      "2022-02-23 14:32:29,930 : INFO : topic #63 (0.010): 0.068*\"sourc\" + 0.062*\"area\" + 0.052*\"optimum\" + 0.037*\"write\" + 0.037*\"program\" + 0.030*\"-\" + 0.030*\"procedur\" + 0.028*\",\" + 0.026*\"logic\" + 0.021*\"pl\"\n",
      "2022-02-23 14:32:29,931 : INFO : topic #22 (0.011): 0.102*\"program\" + 0.081*\",\" + 0.044*\"comput\" + 0.024*\"scienc\" + 0.019*\"cours\" + 0.016*\"languag\" + 0.015*\"inform\" + 0.014*\"present\" + 0.012*\"recommend\" + 0.012*\"organ\"\n",
      "2022-02-23 14:32:29,932 : INFO : topic #67 (0.011): 0.075*\"]\" + 0.069*\"-\" + 0.059*\"properti\" + 0.057*\"tree\" + 0.039*\",\" + 0.032*\"charact\" + 0.031*\"time\" + 0.030*\"search\" + 0.025*\"method\" + 0.023*\"sequenc\"\n",
      "2022-02-23 14:32:29,932 : INFO : topic #98 (0.013): 0.274*\"(\" + 0.267*\"algorithm\" + 0.188*\")\" + 0.110*\"[\" + 0.075*\"])\" + 0.022*\"function\" + 0.015*\"matrix\" + 0.006*\"minim\" + 0.006*\"s22\" + 0.006*\"e4\"\n",
      "2022-02-23 14:32:29,933 : INFO : topic diff=0.399176, rho=0.466151\n",
      "2022-02-23 14:32:31,104 : INFO : -6.798 per-word bound, 111.3 perplexity estimate based on a held-out corpus of 1204 documents with 49783 words\n",
      "2022-02-23 14:32:31,105 : INFO : PROGRESS: pass 2, at document #3204/3204\n",
      "2022-02-23 14:32:32,213 : INFO : optimized alpha [0.009980229, 0.010221246, 0.010159875, 0.010206703, 0.010476879, 0.010029217, 0.009741282, 0.01051265, 0.0105941165, 0.010093974, 0.009805171, 0.010142316, 0.010490783, 0.010187894, 0.010680747, 0.010031807, 0.010821111, 0.010301529, 0.010077988, 0.009785739, 0.010221573, 0.010682725, 0.011226062, 0.010472697, 0.01044553, 0.01044772, 0.010383255, 0.009942285, 0.009741984, 0.010264469, 0.009667115, 0.010418576, 0.010019109, 0.010177555, 0.009982172, 0.010097703, 0.01044407, 0.010337507, 0.010229459, 0.010322329, 0.010184392, 0.009860693, 0.010088092, 0.010188959, 0.009846331, 0.010598785, 0.009795624, 0.010155705, 0.01028179, 0.010101876, 0.01068502, 0.010430346, 0.010265368, 0.010020562, 0.010311086, 0.009955512, 0.010411293, 0.010402213, 0.009885745, 0.00987384, 0.009850879, 0.01009455, 0.010860385, 0.009723869, 0.009849838, 0.0105238585, 0.009990333, 0.01155531, 0.009979404, 0.010111672, 0.010271678, 0.009908594, 0.010214097, 0.010273692, 0.010062791, 0.0098809255, 0.009754337, 0.009916422, 0.010389651, 0.0103456, 0.010143268, 0.010090446, 0.010396804, 0.010144398, 0.010287712, 0.010147583, 0.010369598, 0.009937142, 0.010437448, 0.009982968, 0.010790758, 0.010785686, 0.010411961, 0.010081106, 0.010585724, 0.010211483, 0.011080268, 0.010550556, 0.013886365, 0.010690043]\n",
      "2022-02-23 14:32:32,220 : INFO : merging changes from 1204 documents into a model of 3204 documents\n",
      "2022-02-23 14:32:32,231 : INFO : topic #6 (0.010): 0.063*\"special\" + 0.056*\"tridiagon\" + 0.046*\"algorithm\" + 0.046*\"linear\" + 0.043*\"transform\" + 0.041*\"updat\" + 0.034*\"arbitrari\" + 0.033*\"form\" + 0.030*\"solv\" + 0.028*\"fast\"\n",
      "2022-02-23 14:32:32,232 : INFO : topic #30 (0.010): 0.061*\"-\" + 0.060*\")\" + 0.060*\"(\" + 0.055*\"loop\" + 0.050*\"document\" + 0.049*\",\" + 0.030*\"10\" + 0.028*\"1\" + 0.026*\"access\" + 0.023*\"precis\"\n",
      "2022-02-23 14:32:32,233 : INFO : topic #22 (0.011): 0.113*\"program\" + 0.084*\",\" + 0.048*\"comput\" + 0.029*\"scienc\" + 0.022*\"cours\" + 0.017*\"inform\" + 0.015*\"game\" + 0.014*\"present\" + 0.013*\"curriculum\" + 0.012*\"discuss\"\n",
      "2022-02-23 14:32:32,234 : INFO : topic #67 (0.012): 0.116*\"]\" + 0.073*\"tree\" + 0.070*\"properti\" + 0.067*\"-\" + 0.039*\",\" + 0.033*\"search\" + 0.028*\"time\" + 0.025*\"charact\" + 0.023*\"sequenc\" + 0.021*\"distribut\"\n",
      "2022-02-23 14:32:32,234 : INFO : topic #98 (0.014): 0.292*\"algorithm\" + 0.273*\"(\" + 0.210*\")\" + 0.106*\"[\" + 0.041*\"])\" + 0.018*\"function\" + 0.013*\"matrix\" + 0.007*\"minim\" + 0.006*\"s22\" + 0.006*\"integ\"\n",
      "2022-02-23 14:32:32,236 : INFO : topic diff=0.540975, rho=0.466151\n",
      "2022-02-23 14:32:32,243 : INFO : PROGRESS: pass 3, at document #2000/3204\n",
      "2022-02-23 14:32:33,435 : INFO : optimized alpha [0.0099103125, 0.010246618, 0.010188574, 0.010236005, 0.010437298, 0.010043887, 0.0097316, 0.010486454, 0.01079486, 0.010111893, 0.009765552, 0.010195086, 0.010461892, 0.010182473, 0.010645479, 0.009986124, 0.010857672, 0.010280686, 0.010174083, 0.009853756, 0.010183698, 0.010625947, 0.011231906, 0.010481637, 0.010439698, 0.01044111, 0.010539608, 0.00991972, 0.009717816, 0.010204945, 0.009637998, 0.010424242, 0.010106258, 0.010127323, 0.010068834, 0.010077128, 0.010508221, 0.010430316, 0.010209001, 0.010367256, 0.010406401, 0.009890272, 0.010018302, 0.010120983, 0.009818634, 0.010532119, 0.0098168235, 0.010301503, 0.010353115, 0.010076411, 0.010893874, 0.010575298, 0.010263485, 0.0099784285, 0.010345814, 0.00989641, 0.010377539, 0.010518362, 0.009908499, 0.0098649375, 0.009826118, 0.0101716, 0.010886868, 0.009685354, 0.009840952, 0.010522584, 0.010062281, 0.011539401, 0.009946074, 0.010201878, 0.010464076, 0.009930566, 0.010288062, 0.010261676, 0.010098118, 0.009878782, 0.0098394295, 0.009936143, 0.010302508, 0.010340664, 0.010083269, 0.010052839, 0.010451575, 0.010112594, 0.010373503, 0.010134189, 0.010341097, 0.009948505, 0.010520318, 0.010037582, 0.010970157, 0.010964816, 0.01056748, 0.0101572685, 0.010528131, 0.010216939, 0.011230275, 0.010737883, 0.015456482, 0.010646711]\n",
      "2022-02-23 14:32:33,442 : INFO : merging changes from 2000 documents into a model of 3204 documents\n",
      "2022-02-23 14:32:33,452 : INFO : topic #30 (0.010): 0.063*\"-\" + 0.056*\")\" + 0.055*\"(\" + 0.053*\"document\" + 0.052*\",\" + 0.040*\"loop\" + 0.029*\"10\" + 0.024*\"access\" + 0.024*\"1\" + 0.022*\"legendr\"\n",
      "2022-02-23 14:32:33,453 : INFO : topic #63 (0.010): 0.073*\"sourc\" + 0.069*\"area\" + 0.061*\"optimum\" + 0.046*\"write\" + 0.032*\"program\" + 0.028*\",\" + 0.028*\"-\" + 0.028*\"logic\" + 0.027*\"procedur\" + 0.023*\"pl\"\n",
      "2022-02-23 14:32:33,454 : INFO : topic #22 (0.011): 0.114*\"program\" + 0.084*\",\" + 0.053*\"comput\" + 0.029*\"scienc\" + 0.022*\"cours\" + 0.016*\"inform\" + 0.015*\"present\" + 0.013*\"recommend\" + 0.013*\"discuss\" + 0.012*\"organ\"\n",
      "2022-02-23 14:32:33,455 : INFO : topic #67 (0.012): 0.095*\"]\" + 0.071*\"properti\" + 0.068*\"-\" + 0.066*\"tree\" + 0.038*\",\" + 0.037*\"charact\" + 0.035*\"search\" + 0.029*\"time\" + 0.028*\"sequenc\" + 0.025*\"length\"\n",
      "2022-02-23 14:32:33,456 : INFO : topic #98 (0.015): 0.279*\"algorithm\" + 0.278*\"(\" + 0.196*\")\" + 0.107*\"[\" + 0.070*\"])\" + 0.017*\"function\" + 0.014*\"matrix\" + 0.006*\"s22\" + 0.005*\"minim\" + 0.005*\"e4\"\n",
      "2022-02-23 14:32:33,457 : INFO : topic diff=0.552837, rho=0.422502\n",
      "2022-02-23 14:32:34,697 : INFO : -6.715 per-word bound, 105.1 perplexity estimate based on a held-out corpus of 1204 documents with 49783 words\n",
      "2022-02-23 14:32:34,697 : INFO : PROGRESS: pass 3, at document #3204/3204\n",
      "2022-02-23 14:32:35,799 : INFO : optimized alpha [0.010004916, 0.010454938, 0.010310177, 0.010378353, 0.010663001, 0.010072967, 0.009798173, 0.010642058, 0.01088948, 0.010186777, 0.009829099, 0.010324502, 0.010582027, 0.010339282, 0.010779086, 0.0101402, 0.0111379735, 0.010366851, 0.010256434, 0.0099318605, 0.010305892, 0.010911485, 0.011517059, 0.010665818, 0.010691547, 0.010638825, 0.0106705995, 0.010056492, 0.009757755, 0.010277169, 0.009613403, 0.010634236, 0.010194972, 0.010278255, 0.010214524, 0.010285806, 0.010752205, 0.010595029, 0.010330549, 0.01059684, 0.01055832, 0.009900748, 0.010108799, 0.010285145, 0.0098990975, 0.010781378, 0.009869221, 0.010507579, 0.010476951, 0.010245314, 0.01116076, 0.010799442, 0.01036527, 0.01003508, 0.010438389, 0.010019372, 0.010571318, 0.010737205, 0.009991961, 0.010019429, 0.009869166, 0.010231175, 0.011238883, 0.009742401, 0.009872107, 0.010701609, 0.010125357, 0.012104828, 0.010026774, 0.010396621, 0.010575124, 0.0099850325, 0.010478699, 0.010483494, 0.010201431, 0.010006167, 0.009880518, 0.010072638, 0.010439448, 0.010645041, 0.010227972, 0.010192802, 0.010642227, 0.01028165, 0.010585268, 0.010269359, 0.0105150305, 0.010032508, 0.010694772, 0.010187592, 0.011351036, 0.011317615, 0.010751628, 0.010257391, 0.010727392, 0.010410285, 0.011697143, 0.010909402, 0.016394226, 0.010923155]\n",
      "2022-02-23 14:32:35,807 : INFO : merging changes from 1204 documents into a model of 3204 documents\n",
      "2022-02-23 14:32:35,819 : INFO : topic #30 (0.010): 0.066*\"-\" + 0.065*\"loop\" + 0.057*\"document\" + 0.057*\")\" + 0.057*\"(\" + 0.052*\",\" + 0.033*\"10\" + 0.029*\"access\" + 0.028*\"invari\" + 0.026*\"1\"\n",
      "2022-02-23 14:32:35,820 : INFO : topic #63 (0.010): 0.081*\"area\" + 0.080*\"optimum\" + 0.071*\"sourc\" + 0.049*\"write\" + 0.029*\"read\" + 0.029*\"pl\" + 0.028*\",\" + 0.027*\"program\" + 0.027*\"-\" + 0.024*\"time\"\n",
      "2022-02-23 14:32:35,821 : INFO : topic #96 (0.012): 0.370*\"\"\" + 0.126*\"set\" + 0.078*\"work\" + 0.042*\"behavior\" + 0.041*\"page\" + 0.036*\",\" + 0.035*\"model\" + 0.029*\",\"\" + 0.027*\"balanc\" + 0.023*\"memori\"\n",
      "2022-02-23 14:32:35,822 : INFO : topic #67 (0.012): 0.133*\"]\" + 0.080*\"properti\" + 0.079*\"tree\" + 0.064*\"-\" + 0.038*\",\" + 0.036*\"search\" + 0.029*\"charact\" + 0.027*\"sequenc\" + 0.026*\"time\" + 0.024*\"length\"\n",
      "2022-02-23 14:32:35,823 : INFO : topic #98 (0.016): 0.304*\"algorithm\" + 0.272*\"(\" + 0.212*\")\" + 0.104*\"[\" + 0.042*\"])\" + 0.015*\"function\" + 0.013*\"matrix\" + 0.006*\"minim\" + 0.005*\"s22\" + 0.004*\"integ\"\n",
      "2022-02-23 14:32:35,825 : INFO : topic diff=0.674594, rho=0.422502\n",
      "2022-02-23 14:32:35,834 : INFO : PROGRESS: pass 4, at document #2000/3204\n",
      "2022-02-23 14:32:37,054 : INFO : optimized alpha [0.009955192, 0.010495947, 0.0103324475, 0.010421445, 0.0106271515, 0.010093215, 0.009793694, 0.010630066, 0.011119802, 0.010207734, 0.009778149, 0.010397821, 0.0105638495, 0.010340119, 0.010750804, 0.010107719, 0.011130937, 0.010352243, 0.010353905, 0.010002845, 0.010283246, 0.010867426, 0.01152732, 0.0106857885, 0.010701344, 0.010629652, 0.010825013, 0.010047277, 0.0097461445, 0.010221336, 0.009592287, 0.010646826, 0.010287967, 0.010249813, 0.01029903, 0.01027782, 0.010814888, 0.010676832, 0.010317617, 0.010652087, 0.0107981535, 0.009954367, 0.010051383, 0.010234205, 0.009881873, 0.010724607, 0.009902866, 0.010687375, 0.010553348, 0.010235198, 0.011399256, 0.010949379, 0.010377996, 0.0099993795, 0.01049544, 0.009971065, 0.010551842, 0.010853536, 0.010032879, 0.01002077, 0.009855134, 0.010325058, 0.01127433, 0.009719308, 0.0098745655, 0.010729164, 0.0101961065, 0.012102434, 0.010010454, 0.010498369, 0.010786198, 0.010015714, 0.010559238, 0.010483532, 0.010256118, 0.010041594, 0.009969529, 0.010112351, 0.010361705, 0.0106653, 0.010188669, 0.010163934, 0.010694477, 0.010249741, 0.010666462, 0.010262818, 0.010492298, 0.010055153, 0.010782037, 0.010259765, 0.011541275, 0.011514514, 0.010947224, 0.010321974, 0.010679697, 0.010410298, 0.011852632, 0.011084849, 0.01812148, 0.0108937295]\n",
      "2022-02-23 14:32:37,061 : INFO : merging changes from 2000 documents into a model of 3204 documents\n",
      "2022-02-23 14:32:37,072 : INFO : topic #30 (0.010): 0.066*\"-\" + 0.062*\"document\" + 0.055*\",\" + 0.053*\")\" + 0.053*\"(\" + 0.050*\"loop\" + 0.032*\"10\" + 0.027*\"access\" + 0.024*\"legendr\" + 0.024*\"index\"\n",
      "2022-02-23 14:32:37,072 : INFO : topic #63 (0.010): 0.075*\"area\" + 0.071*\"sourc\" + 0.068*\"optimum\" + 0.051*\"write\" + 0.029*\"read\" + 0.028*\",\" + 0.027*\"program\" + 0.027*\"logic\" + 0.026*\"-\" + 0.025*\"pl\"\n",
      "2022-02-23 14:32:37,073 : INFO : topic #96 (0.012): 0.395*\"\"\" + 0.122*\"set\" + 0.072*\"work\" + 0.039*\"behavior\" + 0.035*\",\" + 0.034*\"page\" + 0.033*\"model\" + 0.028*\",\"\" + 0.023*\"balanc\" + 0.021*\"demand\"\n",
      "2022-02-23 14:32:37,075 : INFO : topic #67 (0.012): 0.113*\"]\" + 0.081*\"properti\" + 0.073*\"tree\" + 0.064*\"-\" + 0.041*\"charact\" + 0.038*\"search\" + 0.038*\",\" + 0.032*\"sequenc\" + 0.028*\"length\" + 0.027*\"time\"\n",
      "2022-02-23 14:32:37,076 : INFO : topic #98 (0.018): 0.291*\"algorithm\" + 0.276*\"(\" + 0.198*\")\" + 0.106*\"[\" + 0.068*\"])\" + 0.015*\"function\" + 0.013*\"matrix\" + 0.005*\"s22\" + 0.005*\"e4\" + 0.004*\"minim\"\n",
      "2022-02-23 14:32:37,077 : INFO : topic diff=0.653585, rho=0.389191\n",
      "2022-02-23 14:32:38,285 : INFO : -6.657 per-word bound, 100.9 perplexity estimate based on a held-out corpus of 1204 documents with 49783 words\n",
      "2022-02-23 14:32:38,286 : INFO : PROGRESS: pass 4, at document #3204/3204\n",
      "2022-02-23 14:32:39,311 : INFO : optimized alpha [0.01005663, 0.010714258, 0.010438523, 0.0105671175, 0.010840954, 0.010133972, 0.00986543, 0.010771086, 0.011198649, 0.0102972975, 0.009850653, 0.010511319, 0.010658082, 0.0104961805, 0.010889178, 0.010270833, 0.011400178, 0.010442664, 0.010433177, 0.010088113, 0.010403358, 0.011134348, 0.011771142, 0.010860767, 0.01093681, 0.01082419, 0.010953164, 0.010200764, 0.009796717, 0.0102992235, 0.009587218, 0.010863246, 0.010373306, 0.010400013, 0.010454533, 0.01049592, 0.011057094, 0.010826425, 0.010427189, 0.010887713, 0.010974132, 0.009980836, 0.010152171, 0.010396801, 0.009963203, 0.010960618, 0.009961303, 0.010929478, 0.010647465, 0.010405783, 0.011672807, 0.011187524, 0.010475936, 0.0100559, 0.0106085725, 0.010095198, 0.010728871, 0.011054535, 0.010123533, 0.010181053, 0.009908853, 0.010406841, 0.0115984855, 0.0097791795, 0.009907435, 0.010899408, 0.010254424, 0.012624482, 0.010108657, 0.010707341, 0.01090565, 0.010079661, 0.010774899, 0.010714728, 0.010371764, 0.0101996325, 0.01001711, 0.010269067, 0.010495656, 0.010975401, 0.010343333, 0.010300736, 0.01087186, 0.010437026, 0.010878014, 0.010398474, 0.010671326, 0.01016266, 0.010986424, 0.0104523515, 0.01193677, 0.011890719, 0.011125634, 0.010421467, 0.010861558, 0.010580194, 0.012336808, 0.0112475585, 0.01910351, 0.011169853]\n",
      "2022-02-23 14:32:39,319 : INFO : merging changes from 1204 documents into a model of 3204 documents\n",
      "2022-02-23 14:32:39,330 : INFO : topic #30 (0.010): 0.076*\"loop\" + 0.068*\"-\" + 0.064*\"document\" + 0.055*\"(\" + 0.054*\")\" + 0.054*\",\" + 0.034*\"10\" + 0.032*\"invari\" + 0.031*\"access\" + 0.024*\"1\"\n",
      "2022-02-23 14:32:39,331 : INFO : topic #28 (0.010): 0.104*\"permut\" + 0.075*\"-\" + 0.056*\"gener\" + 0.050*\",\" + 0.031*\"order\" + 0.030*\"circular\" + 0.029*\"growth\" + 0.027*\"applic\" + 0.026*\"frequent\" + 0.025*\"digit\"\n",
      "2022-02-23 14:32:39,331 : INFO : topic #96 (0.012): 0.410*\"\"\" + 0.126*\"set\" + 0.077*\"work\" + 0.041*\"behavior\" + 0.036*\"page\" + 0.035*\",\" + 0.029*\",\"\" + 0.029*\"model\" + 0.026*\"balanc\" + 0.020*\"demand\"\n",
      "2022-02-23 14:32:39,332 : INFO : topic #67 (0.013): 0.150*\"]\" + 0.089*\"properti\" + 0.085*\"tree\" + 0.059*\"-\" + 0.038*\"search\" + 0.037*\",\" + 0.034*\"charact\" + 0.032*\"sequenc\" + 0.028*\"length\" + 0.023*\"time\"\n",
      "2022-02-23 14:32:39,334 : INFO : topic #98 (0.019): 0.314*\"algorithm\" + 0.269*\"(\" + 0.209*\")\" + 0.104*\"[\" + 0.044*\"])\" + 0.014*\"function\" + 0.012*\"matrix\" + 0.005*\"s22\" + 0.005*\"minim\" + 0.004*\"e4\"\n",
      "2022-02-23 14:32:39,335 : INFO : topic diff=0.717822, rho=0.389191\n",
      "2022-02-23 14:32:39,342 : INFO : PROGRESS: pass 5, at document #2000/3204\n",
      "2022-02-23 14:32:40,576 : INFO : optimized alpha [0.010021749, 0.010759802, 0.010461281, 0.010626575, 0.010810331, 0.010160832, 0.009870678, 0.010761752, 0.011429396, 0.010322695, 0.0098094195, 0.010587867, 0.010641509, 0.010513952, 0.010866747, 0.010245711, 0.011389734, 0.010440922, 0.010534397, 0.010160345, 0.010393686, 0.011099536, 0.011790292, 0.010892861, 0.010962721, 0.010816779, 0.011105068, 0.010204784, 0.009800851, 0.010257514, 0.009570775, 0.010881977, 0.010466668, 0.0103770215, 0.010539676, 0.010489312, 0.011125004, 0.010916862, 0.01041535, 0.010948675, 0.011219177, 0.010031764, 0.01010849, 0.0103659555, 0.009954833, 0.010910184, 0.010004022, 0.011160631, 0.010732861, 0.0103958035, 0.011932921, 0.011337479, 0.010495618, 0.010040167, 0.010667868, 0.010050353, 0.010729792, 0.011169906, 0.010176884, 0.010202382, 0.009903796, 0.010508416, 0.011638511, 0.00976555, 0.009916031, 0.010928771, 0.010319163, 0.012628571, 0.010099271, 0.010810611, 0.011120134, 0.010130788, 0.010858146, 0.010735163, 0.010432536, 0.010245812, 0.010119247, 0.010315353, 0.010433071, 0.010996553, 0.010310154, 0.01027745, 0.010918504, 0.010406377, 0.010971481, 0.0104016885, 0.010657411, 0.010189611, 0.011088093, 0.0105445, 0.012154387, 0.012091291, 0.011345872, 0.010491667, 0.010816426, 0.010579664, 0.012496746, 0.011421868, 0.020987257, 0.011136348]\n",
      "2022-02-23 14:32:40,582 : INFO : merging changes from 2000 documents into a model of 3204 documents\n",
      "2022-02-23 14:32:40,594 : INFO : topic #30 (0.010): 0.068*\"document\" + 0.067*\"-\" + 0.059*\"loop\" + 0.056*\",\" + 0.051*\"(\" + 0.051*\")\" + 0.034*\"10\" + 0.029*\"access\" + 0.025*\"index\" + 0.025*\"legendr\"\n",
      "2022-02-23 14:32:40,594 : INFO : topic #28 (0.010): 0.107*\"permut\" + 0.074*\"-\" + 0.061*\"gener\" + 0.046*\",\" + 0.036*\"order\" + 0.029*\"circular\" + 0.028*\"digit\" + 0.025*\"applic\" + 0.023*\"growth\" + 0.022*\"signific\"\n",
      "2022-02-23 14:32:40,595 : INFO : topic #96 (0.012): 0.430*\"\"\" + 0.120*\"set\" + 0.071*\"work\" + 0.038*\"behavior\" + 0.034*\",\" + 0.031*\"page\" + 0.029*\",\"\" + 0.028*\"model\" + 0.023*\"balanc\" + 0.019*\"demand\"\n",
      "2022-02-23 14:32:40,596 : INFO : topic #67 (0.013): 0.127*\"]\" + 0.091*\"properti\" + 0.078*\"tree\" + 0.060*\"-\" + 0.047*\"charact\" + 0.039*\"search\" + 0.037*\"sequenc\" + 0.036*\",\" + 0.031*\"length\" + 0.025*\"time\"\n",
      "2022-02-23 14:32:40,596 : INFO : topic #98 (0.021): 0.301*\"algorithm\" + 0.272*\"(\" + 0.197*\")\" + 0.107*\"[\" + 0.067*\"])\" + 0.014*\"function\" + 0.013*\"matrix\" + 0.005*\"s22\" + 0.005*\"e4\" + 0.004*\"minim\"\n",
      "2022-02-23 14:32:40,597 : INFO : topic diff=0.654777, rho=0.362690\n",
      "2022-02-23 14:32:41,821 : INFO : -6.613 per-word bound, 97.9 perplexity estimate based on a held-out corpus of 1204 documents with 49783 words\n",
      "2022-02-23 14:32:41,822 : INFO : PROGRESS: pass 5, at document #3204/3204\n",
      "2022-02-23 14:32:42,875 : INFO : optimized alpha [0.01013569, 0.010985753, 0.01056726, 0.010785825, 0.011011725, 0.010202486, 0.009953267, 0.010900839, 0.011505191, 0.010425576, 0.009889816, 0.010700778, 0.010733348, 0.010670623, 0.010993396, 0.010420924, 0.011640578, 0.0105354795, 0.010605118, 0.010243399, 0.010519197, 0.011348426, 0.0120167015, 0.011077361, 0.011205266, 0.0110033285, 0.011231542, 0.010364813, 0.009857578, 0.010340614, 0.009576112, 0.011086084, 0.01055613, 0.010524613, 0.01071166, 0.01070797, 0.011354221, 0.011057489, 0.010515234, 0.01119177, 0.011411993, 0.010053821, 0.010225087, 0.010528387, 0.010043536, 0.01114281, 0.010080143, 0.011442355, 0.01083391, 0.010559521, 0.012200885, 0.011573542, 0.010597258, 0.010087754, 0.010780584, 0.010191557, 0.01090297, 0.011369613, 0.010283619, 0.010372097, 0.009954716, 0.010591033, 0.011960783, 0.009816273, 0.009956465, 0.011095799, 0.010367451, 0.013129004, 0.010197746, 0.011034019, 0.011238292, 0.010190955, 0.0110753365, 0.01097026, 0.010544221, 0.010413613, 0.010166658, 0.010481791, 0.010555954, 0.011291305, 0.010468351, 0.010412232, 0.011085415, 0.010589074, 0.011184695, 0.010526184, 0.010835782, 0.010303151, 0.011298071, 0.01074881, 0.012586101, 0.012474945, 0.011524145, 0.0105881505, 0.011000692, 0.010736314, 0.012960572, 0.011578119, 0.022010198, 0.011410937]\n",
      "2022-02-23 14:32:42,885 : INFO : merging changes from 1204 documents into a model of 3204 documents\n",
      "2022-02-23 14:32:42,901 : INFO : topic #30 (0.010): 0.087*\"loop\" + 0.070*\"-\" + 0.070*\"document\" + 0.055*\",\" + 0.052*\"(\" + 0.051*\")\" + 0.035*\"10\" + 0.034*\"invari\" + 0.031*\"access\" + 0.022*\"1\"\n",
      "2022-02-23 14:32:42,904 : INFO : topic #63 (0.010): 0.093*\"optimum\" + 0.092*\"area\" + 0.070*\"sourc\" + 0.056*\"read\" + 0.053*\"write\" + 0.030*\"time\" + 0.027*\"number\" + 0.026*\"pl\" + 0.026*\",\" + 0.024*\"-\"\n",
      "2022-02-23 14:32:42,905 : INFO : topic #96 (0.013): 0.438*\"\"\" + 0.124*\"set\" + 0.077*\"work\" + 0.040*\"behavior\" + 0.034*\",\" + 0.034*\"page\" + 0.030*\",\"\" + 0.026*\"balanc\" + 0.025*\"model\" + 0.018*\"demand\"\n",
      "2022-02-23 14:32:42,906 : INFO : topic #67 (0.013): 0.162*\"]\" + 0.099*\"properti\" + 0.086*\"tree\" + 0.055*\"-\" + 0.039*\"charact\" + 0.039*\"search\" + 0.036*\"sequenc\" + 0.035*\",\" + 0.031*\"length\" + 0.023*\"applic\"\n",
      "2022-02-23 14:32:42,907 : INFO : topic #98 (0.022): 0.325*\"algorithm\" + 0.263*\"(\" + 0.205*\")\" + 0.105*\"[\" + 0.045*\"])\" + 0.013*\"function\" + 0.012*\"matrix\" + 0.005*\"s22\" + 0.005*\"minim\" + 0.004*\"e4\"\n",
      "2022-02-23 14:32:42,910 : INFO : topic diff=0.676901, rho=0.362690\n",
      "2022-02-23 14:32:42,925 : INFO : PROGRESS: pass 6, at document #2000/3204\n",
      "2022-02-23 14:32:44,116 : INFO : optimized alpha [0.010110088, 0.0110375425, 0.010590604, 0.0108511485, 0.010991344, 0.01022658, 0.009967059, 0.010899377, 0.011735956, 0.010451414, 0.00985674, 0.01077709, 0.01072185, 0.010705694, 0.010974235, 0.010405627, 0.0116331605, 0.010543174, 0.010717738, 0.010308537, 0.01052264, 0.011308285, 0.012044268, 0.011107173, 0.011234561, 0.011001338, 0.011387738, 0.010377005, 0.00986202, 0.01030555, 0.009556863, 0.011101086, 0.010648459, 0.0105099315, 0.010808807, 0.010713587, 0.011421866, 0.011143216, 0.01051156, 0.0112798, 0.011669647, 0.010112936, 0.010192979, 0.010497134, 0.0100411475, 0.011095948, 0.010144948, 0.011713196, 0.010922329, 0.010547889, 0.012464714, 0.011714595, 0.010617701, 0.010075448, 0.010859135, 0.010154359, 0.01091277, 0.0114811845, 0.010343044, 0.010397267, 0.00996094, 0.010691156, 0.012005262, 0.009804216, 0.009972007, 0.011140402, 0.0104379235, 0.013123795, 0.010194384, 0.0111356955, 0.011470711, 0.010248449, 0.01115958, 0.010992432, 0.01060537, 0.01047858, 0.01026556, 0.010543296, 0.010499217, 0.011319315, 0.0104457885, 0.010388427, 0.011132944, 0.010557615, 0.011278814, 0.0105310185, 0.010829561, 0.010339227, 0.011398237, 0.010848958, 0.012827883, 0.012671725, 0.011755601, 0.010652932, 0.01095946, 0.010735519, 0.013114796, 0.01174461, 0.023993215, 0.0113834]\n",
      "2022-02-23 14:32:44,122 : INFO : merging changes from 2000 documents into a model of 3204 documents\n",
      "2022-02-23 14:32:44,134 : INFO : topic #30 (0.010): 0.073*\"document\" + 0.069*\"loop\" + 0.066*\"-\" + 0.057*\",\" + 0.050*\"(\" + 0.049*\")\" + 0.035*\"10\" + 0.030*\"access\" + 0.027*\"invari\" + 0.026*\"index\"\n",
      "2022-02-23 14:32:44,136 : INFO : topic #63 (0.010): 0.085*\"area\" + 0.081*\"optimum\" + 0.067*\"sourc\" + 0.058*\"read\" + 0.053*\"write\" + 0.029*\"time\" + 0.026*\",\" + 0.026*\"number\" + 0.025*\"logic\" + 0.024*\"pl\"\n",
      "2022-02-23 14:32:44,137 : INFO : topic #67 (0.013): 0.139*\"]\" + 0.101*\"properti\" + 0.080*\"tree\" + 0.055*\"-\" + 0.054*\"charact\" + 0.041*\"search\" + 0.040*\"sequenc\" + 0.034*\"length\" + 0.034*\",\" + 0.023*\"applic\"\n",
      "2022-02-23 14:32:44,137 : INFO : topic #96 (0.013): 0.457*\"\"\" + 0.117*\"set\" + 0.071*\"work\" + 0.038*\"behavior\" + 0.033*\",\" + 0.029*\",\"\" + 0.029*\"page\" + 0.026*\"model\" + 0.023*\"balanc\" + 0.017*\"demand\"\n",
      "2022-02-23 14:32:44,138 : INFO : topic #98 (0.024): 0.314*\"algorithm\" + 0.265*\"(\" + 0.192*\")\" + 0.108*\"[\" + 0.066*\"])\" + 0.013*\"function\" + 0.013*\"matrix\" + 0.005*\"s22\" + 0.005*\"e4\" + 0.004*\"f1\"\n",
      "2022-02-23 14:32:44,139 : INFO : topic diff=0.598717, rho=0.340958\n",
      "2022-02-23 14:32:45,314 : INFO : -6.578 per-word bound, 95.6 perplexity estimate based on a held-out corpus of 1204 documents with 49783 words\n",
      "2022-02-23 14:32:45,314 : INFO : PROGRESS: pass 6, at document #3204/3204\n",
      "2022-02-23 14:32:46,335 : INFO : optimized alpha [0.010221117, 0.011268867, 0.010694089, 0.011014801, 0.011173245, 0.010263374, 0.010048217, 0.011031417, 0.0118093975, 0.010537011, 0.009933272, 0.010896419, 0.010815197, 0.01086082, 0.0111103365, 0.010578099, 0.011875355, 0.01066006, 0.010790319, 0.010390078, 0.010653692, 0.011548649, 0.012270075, 0.011298535, 0.011475662, 0.01118184, 0.011516908, 0.01053497, 0.009916099, 0.0103935115, 0.0095658675, 0.011288901, 0.010748065, 0.0106560495, 0.010987998, 0.010943363, 0.011643705, 0.011273232, 0.010609387, 0.011522057, 0.011846832, 0.01013116, 0.010312391, 0.01065733, 0.010131136, 0.011330067, 0.010228651, 0.01203898, 0.011027295, 0.010709434, 0.012729095, 0.011950035, 0.010729189, 0.010123985, 0.010959632, 0.010311552, 0.011083708, 0.011664799, 0.0104559595, 0.0105707785, 0.010023901, 0.0107689975, 0.012324612, 0.009847171, 0.0100163445, 0.011311784, 0.010489465, 0.013595017, 0.010290685, 0.011355471, 0.01157838, 0.010329013, 0.011376304, 0.011254749, 0.0107201645, 0.010650317, 0.010310139, 0.0107197445, 0.010612888, 0.011598405, 0.010613914, 0.010522256, 0.011284894, 0.010731036, 0.011485316, 0.010655088, 0.010999018, 0.010458752, 0.011595298, 0.011071664, 0.013273646, 0.013053707, 0.01194514, 0.010750289, 0.011134345, 0.010881212, 0.013557288, 0.011892696, 0.025016543, 0.011648701]\n",
      "2022-02-23 14:32:46,343 : INFO : merging changes from 1204 documents into a model of 3204 documents\n",
      "2022-02-23 14:32:46,355 : INFO : topic #30 (0.010): 0.096*\"loop\" + 0.072*\"document\" + 0.068*\"-\" + 0.056*\",\" + 0.051*\"(\" + 0.049*\")\" + 0.036*\"invari\" + 0.035*\"10\" + 0.031*\"access\" + 0.022*\"legendr\"\n",
      "2022-02-23 14:32:46,356 : INFO : topic #63 (0.010): 0.096*\"optimum\" + 0.096*\"area\" + 0.069*\"sourc\" + 0.068*\"read\" + 0.054*\"write\" + 0.034*\"time\" + 0.029*\"number\" + 0.025*\",\" + 0.024*\"pl\" + 0.023*\"-\"\n",
      "2022-02-23 14:32:46,357 : INFO : topic #96 (0.014): 0.460*\"\"\" + 0.121*\"set\" + 0.078*\"work\" + 0.040*\"behavior\" + 0.033*\",\" + 0.031*\"page\" + 0.030*\",\"\" + 0.026*\"balanc\" + 0.024*\"model\" + 0.016*\"demand\"\n",
      "2022-02-23 14:32:46,357 : INFO : topic #67 (0.014): 0.174*\"]\" + 0.109*\"properti\" + 0.085*\"tree\" + 0.050*\"-\" + 0.045*\"charact\" + 0.039*\"sequenc\" + 0.038*\"search\" + 0.034*\"length\" + 0.033*\",\" + 0.023*\"applic\"\n",
      "2022-02-23 14:32:46,359 : INFO : topic #98 (0.025): 0.336*\"algorithm\" + 0.257*\"(\" + 0.200*\")\" + 0.107*\"[\" + 0.046*\"])\" + 0.013*\"function\" + 0.012*\"matrix\" + 0.005*\"s22\" + 0.004*\"minim\" + 0.004*\"e4\"\n",
      "2022-02-23 14:32:46,360 : INFO : topic diff=0.603286, rho=0.340958\n",
      "2022-02-23 14:32:46,369 : INFO : PROGRESS: pass 7, at document #2000/3204\n",
      "2022-02-23 14:32:47,550 : INFO : optimized alpha [0.010196947, 0.011324849, 0.0107181175, 0.011080432, 0.011158814, 0.01028509, 0.010066445, 0.011033618, 0.012039117, 0.010558352, 0.009904037, 0.010965675, 0.010811598, 0.010910014, 0.0110938875, 0.010566484, 0.011880459, 0.010679591, 0.010898143, 0.010452297, 0.010660341, 0.011509219, 0.012295546, 0.011320892, 0.011508095, 0.011183017, 0.01167234, 0.010549534, 0.009922372, 0.010367599, 0.009553356, 0.011308004, 0.010843336, 0.010653961, 0.011091515, 0.010952992, 0.011707658, 0.011353099, 0.0105991755, 0.01160968, 0.012098618, 0.010191193, 0.010281992, 0.010634167, 0.0101307845, 0.01128618, 0.01030715, 0.0123176975, 0.011113631, 0.010699673, 0.01300203, 0.01208131, 0.010752234, 0.010121347, 0.011040004, 0.010280966, 0.011098042, 0.011777033, 0.010515925, 0.010599557, 0.0100318985, 0.0108700385, 0.012367362, 0.009842777, 0.010036554, 0.011355651, 0.010556902, 0.013590231, 0.010292721, 0.0114560705, 0.011814062, 0.010394076, 0.011463779, 0.011276541, 0.010778402, 0.010710529, 0.010406528, 0.010771214, 0.010561262, 0.0116274785, 0.010597129, 0.010504659, 0.01133354, 0.010705839, 0.01157678, 0.0106631, 0.010998129, 0.010489681, 0.011702141, 0.0111834, 0.01353624, 0.01324337, 0.012180657, 0.010817368, 0.011096529, 0.010883739, 0.013708855, 0.012060311, 0.027108746, 0.01162471]\n",
      "2022-02-23 14:32:47,556 : INFO : merging changes from 2000 documents into a model of 3204 documents\n",
      "2022-02-23 14:32:47,566 : INFO : topic #30 (0.010): 0.077*\"loop\" + 0.075*\"document\" + 0.065*\"-\" + 0.058*\",\" + 0.049*\"(\" + 0.047*\")\" + 0.035*\"10\" + 0.030*\"access\" + 0.029*\"invari\" + 0.027*\"index\"\n",
      "2022-02-23 14:32:47,567 : INFO : topic #63 (0.010): 0.089*\"area\" + 0.084*\"optimum\" + 0.072*\"read\" + 0.065*\"sourc\" + 0.055*\"write\" + 0.032*\"time\" + 0.028*\"number\" + 0.025*\",\" + 0.023*\"/\" + 0.023*\"logic\"\n",
      "2022-02-23 14:32:47,567 : INFO : topic #67 (0.014): 0.150*\"]\" + 0.110*\"properti\" + 0.079*\"tree\" + 0.060*\"charact\" + 0.050*\"-\" + 0.043*\"sequenc\" + 0.040*\"search\" + 0.038*\"length\" + 0.032*\",\" + 0.023*\"applic\"\n",
      "2022-02-23 14:32:47,569 : INFO : topic #96 (0.014): 0.476*\"\"\" + 0.114*\"set\" + 0.072*\"work\" + 0.038*\"behavior\" + 0.032*\",\" + 0.030*\",\"\" + 0.027*\"page\" + 0.024*\"model\" + 0.023*\"balanc\" + 0.015*\"demand\"\n",
      "2022-02-23 14:32:47,569 : INFO : topic #98 (0.027): 0.323*\"algorithm\" + 0.260*\"(\" + 0.189*\")\" + 0.109*\"[\" + 0.066*\"])\" + 0.013*\"function\" + 0.012*\"matrix\" + 0.005*\"s22\" + 0.005*\"e4\" + 0.004*\"f1\"\n",
      "2022-02-23 14:32:47,570 : INFO : topic diff=0.528223, rho=0.322715\n",
      "2022-02-23 14:32:48,725 : INFO : -6.554 per-word bound, 94.0 perplexity estimate based on a held-out corpus of 1204 documents with 49783 words\n",
      "2022-02-23 14:32:48,726 : INFO : PROGRESS: pass 7, at document #3204/3204\n",
      "2022-02-23 14:32:49,755 : INFO : optimized alpha [0.010314109, 0.011556311, 0.010813959, 0.011239867, 0.011335651, 0.010326034, 0.010141065, 0.011171667, 0.012114208, 0.010645867, 0.009972007, 0.011079629, 0.010903671, 0.011073358, 0.011232931, 0.0107400725, 0.012122197, 0.010788418, 0.01097286, 0.01053279, 0.010805696, 0.011745897, 0.012521768, 0.011510318, 0.011742814, 0.011355715, 0.011788833, 0.010706271, 0.0099821985, 0.010468641, 0.009570654, 0.011490714, 0.010935355, 0.010793641, 0.011263346, 0.011179652, 0.011920556, 0.011483277, 0.010698373, 0.011858537, 0.012290625, 0.010214437, 0.010401581, 0.010787289, 0.010233129, 0.011513595, 0.010395076, 0.012671995, 0.011219512, 0.010877302, 0.013257205, 0.0123171965, 0.0108412225, 0.010173617, 0.011132752, 0.010445156, 0.011264603, 0.011952744, 0.010623696, 0.010788969, 0.010105815, 0.010935143, 0.012668567, 0.009884183, 0.010089934, 0.0115382215, 0.010617227, 0.014038933, 0.010404324, 0.0116764065, 0.011928302, 0.010476449, 0.011678141, 0.011535266, 0.010899552, 0.0108868, 0.0104571935, 0.010943195, 0.010672871, 0.01188345, 0.010772288, 0.010638181, 0.011475658, 0.010868742, 0.011784131, 0.01077878, 0.011166217, 0.010618007, 0.011916472, 0.01141279, 0.014016268, 0.013632418, 0.0123785315, 0.010904232, 0.01126673, 0.011017066, 0.0141431615, 0.012198182, 0.02813478, 0.011891825]\n",
      "2022-02-23 14:32:49,763 : INFO : merging changes from 1204 documents into a model of 3204 documents\n",
      "2022-02-23 14:32:49,774 : INFO : topic #30 (0.010): 0.101*\"loop\" + 0.075*\"document\" + 0.066*\"-\" + 0.056*\",\" + 0.049*\"(\" + 0.047*\")\" + 0.040*\"invari\" + 0.034*\"10\" + 0.030*\"access\" + 0.024*\"index\"\n",
      "2022-02-23 14:32:49,774 : INFO : topic #63 (0.010): 0.099*\"area\" + 0.099*\"optimum\" + 0.079*\"read\" + 0.068*\"sourc\" + 0.060*\"write\" + 0.036*\"time\" + 0.031*\"number\" + 0.025*\"/\" + 0.025*\",\" + 0.022*\"-\"\n",
      "2022-02-23 14:32:49,775 : INFO : topic #67 (0.014): 0.187*\"]\" + 0.118*\"properti\" + 0.082*\"tree\" + 0.052*\"charact\" + 0.045*\"-\" + 0.042*\"sequenc\" + 0.038*\"length\" + 0.037*\"search\" + 0.031*\",\" + 0.023*\"applic\"\n",
      "2022-02-23 14:32:49,776 : INFO : topic #96 (0.014): 0.476*\"\"\" + 0.117*\"set\" + 0.078*\"work\" + 0.040*\"behavior\" + 0.032*\",\" + 0.031*\",\"\" + 0.028*\"page\" + 0.026*\"balanc\" + 0.022*\"model\" + 0.016*\"demand\"\n",
      "2022-02-23 14:32:49,777 : INFO : topic #98 (0.028): 0.344*\"algorithm\" + 0.253*\"(\" + 0.197*\")\" + 0.108*\"[\" + 0.047*\"])\" + 0.012*\"function\" + 0.012*\"matrix\" + 0.005*\"s22\" + 0.004*\"minim\" + 0.004*\"e4\"\n",
      "2022-02-23 14:32:49,779 : INFO : topic diff=0.527846, rho=0.322715\n",
      "2022-02-23 14:32:49,786 : INFO : PROGRESS: pass 8, at document #2000/3204\n",
      "2022-02-23 14:32:50,856 : INFO : optimized alpha [0.010295871, 0.011605854, 0.010838751, 0.011306077, 0.011323084, 0.01035372, 0.010164987, 0.011180485, 0.0123459175, 0.010673013, 0.009947792, 0.011139272, 0.010902244, 0.011129073, 0.011231088, 0.010731798, 0.012129663, 0.010810527, 0.011080028, 0.010600637, 0.010825114, 0.011719722, 0.012553184, 0.011534678, 0.01177488, 0.01135815, 0.011940674, 0.010721518, 0.009990139, 0.010450668, 0.009562568, 0.0115102185, 0.01103034, 0.0107981935, 0.011368112, 0.011203522, 0.011981325, 0.011563377, 0.010692141, 0.011964306, 0.01254912, 0.0102676535, 0.010379081, 0.010766555, 0.01023602, 0.01147599, 0.010486615, 0.012971863, 0.011302471, 0.01087411, 0.013538117, 0.012447274, 0.0108635165, 0.010176399, 0.011211711, 0.010425169, 0.011281418, 0.012060614, 0.0106795775, 0.010822662, 0.010120063, 0.0110357525, 0.012710177, 0.009882145, 0.010115821, 0.011576281, 0.010691832, 0.0140263, 0.010414353, 0.011774741, 0.01216084, 0.010555262, 0.011763686, 0.011558515, 0.010960406, 0.010947744, 0.010558032, 0.0109922495, 0.010628915, 0.011913925, 0.010754087, 0.010624536, 0.011530895, 0.010847674, 0.011866163, 0.010784816, 0.011177141, 0.010649124, 0.012030208, 0.011525522, 0.014296553, 0.013830561, 0.012619168, 0.010960266, 0.011228548, 0.011019401, 0.014299269, 0.012361888, 0.03031198, 0.011872877]\n",
      "2022-02-23 14:32:50,863 : INFO : merging changes from 2000 documents into a model of 3204 documents\n",
      "2022-02-23 14:32:50,874 : INFO : topic #30 (0.010): 0.082*\"loop\" + 0.078*\"document\" + 0.063*\"-\" + 0.058*\",\" + 0.046*\"(\" + 0.044*\")\" + 0.035*\"10\" + 0.033*\"invari\" + 0.030*\"access\" + 0.029*\"index\"\n",
      "2022-02-23 14:32:50,876 : INFO : topic #63 (0.010): 0.094*\"area\" + 0.087*\"optimum\" + 0.083*\"read\" + 0.064*\"sourc\" + 0.059*\"write\" + 0.034*\"time\" + 0.029*\"number\" + 0.025*\"/\" + 0.025*\",\" + 0.021*\"-\"\n",
      "2022-02-23 14:32:50,876 : INFO : topic #96 (0.014): 0.489*\"\"\" + 0.112*\"set\" + 0.073*\"work\" + 0.038*\"behavior\" + 0.031*\",\" + 0.030*\",\"\" + 0.025*\"page\" + 0.023*\"balanc\" + 0.023*\"model\" + 0.015*\"demand\"\n",
      "2022-02-23 14:32:50,877 : INFO : topic #90 (0.014): 0.527*\"method\" + 0.144*\"'\" + 0.046*\"reduct\" + 0.040*\"paramet\" + 0.030*\"effici\" + 0.023*\"integr\" + 0.022*\"gener\" + 0.018*\",\" + 0.014*\"shown\" + 0.012*\"improv\"\n",
      "2022-02-23 14:32:50,878 : INFO : topic #98 (0.030): 0.330*\"algorithm\" + 0.257*\"(\" + 0.187*\")\" + 0.109*\"[\" + 0.065*\"])\" + 0.013*\"function\" + 0.012*\"matrix\" + 0.005*\"s22\" + 0.004*\"e4\" + 0.004*\"f1\"\n",
      "2022-02-23 14:32:50,880 : INFO : topic diff=0.460998, rho=0.307119\n",
      "2022-02-23 14:32:51,984 : INFO : -6.533 per-word bound, 92.6 perplexity estimate based on a held-out corpus of 1204 documents with 49783 words\n",
      "2022-02-23 14:32:51,984 : INFO : PROGRESS: pass 8, at document #3204/3204\n",
      "2022-02-23 14:32:53,004 : INFO : optimized alpha [0.010408438, 0.011838389, 0.010930668, 0.011462279, 0.011490125, 0.010393248, 0.010236615, 0.011313124, 0.01242279, 0.010759774, 0.0100209005, 0.011245674, 0.010990575, 0.011289368, 0.011370378, 0.010909796, 0.012368845, 0.010920594, 0.011154172, 0.010680419, 0.01096204, 0.0119811725, 0.0127482535, 0.011711046, 0.012010439, 0.0115270885, 0.012045881, 0.01088328, 0.010057934, 0.010550351, 0.009584739, 0.01168592, 0.0111211995, 0.010935145, 0.011536526, 0.011433986, 0.012186461, 0.011691179, 0.01079016, 0.012224086, 0.012743722, 0.010303357, 0.010496709, 0.010921913, 0.01034494, 0.011706817, 0.010589651, 0.013353521, 0.011409688, 0.011067545, 0.013785232, 0.012675137, 0.010951649, 0.010232135, 0.011309175, 0.010585763, 0.011438812, 0.012238916, 0.010788405, 0.011011007, 0.010196319, 0.0111062685, 0.0129983565, 0.009924755, 0.010182757, 0.011763948, 0.010752326, 0.014432706, 0.010518777, 0.0119845765, 0.012275722, 0.010653172, 0.011973667, 0.011814707, 0.0110822525, 0.011120589, 0.010606226, 0.011166385, 0.010736076, 0.012164228, 0.010919828, 0.01075552, 0.011673203, 0.011006971, 0.0120598655, 0.010906887, 0.011341752, 0.01078335, 0.012258949, 0.01177402, 0.014773261, 0.014228397, 0.012832251, 0.011051776, 0.011386305, 0.011150286, 0.0147234835, 0.012490545, 0.03134563, 0.012143029]\n",
      "2022-02-23 14:32:53,012 : INFO : merging changes from 1204 documents into a model of 3204 documents\n",
      "2022-02-23 14:32:53,024 : INFO : topic #30 (0.010): 0.106*\"loop\" + 0.077*\"document\" + 0.064*\"-\" + 0.056*\",\" + 0.046*\"(\" + 0.043*\"invari\" + 0.043*\")\" + 0.034*\"10\" + 0.030*\"access\" + 0.027*\"index\"\n",
      "2022-02-23 14:32:53,025 : INFO : topic #63 (0.010): 0.102*\"area\" + 0.102*\"optimum\" + 0.086*\"read\" + 0.067*\"sourc\" + 0.064*\"write\" + 0.039*\"time\" + 0.031*\"number\" + 0.026*\"/\" + 0.024*\",\" + 0.022*\"-\"\n",
      "2022-02-23 14:32:53,025 : INFO : topic #96 (0.015): 0.487*\"\"\" + 0.115*\"set\" + 0.079*\"work\" + 0.040*\"behavior\" + 0.031*\",\"\" + 0.031*\",\" + 0.026*\"page\" + 0.026*\"balanc\" + 0.022*\"model\" + 0.015*\"demand\"\n",
      "2022-02-23 14:32:53,026 : INFO : topic #90 (0.015): 0.537*\"method\" + 0.147*\"'\" + 0.048*\"reduct\" + 0.040*\"paramet\" + 0.028*\"effici\" + 0.021*\"gener\" + 0.020*\"integr\" + 0.018*\",\" + 0.014*\"shown\" + 0.012*\"show\"\n",
      "2022-02-23 14:32:53,027 : INFO : topic #98 (0.031): 0.349*\"algorithm\" + 0.251*\"(\" + 0.194*\")\" + 0.108*\"[\" + 0.048*\"])\" + 0.012*\"function\" + 0.012*\"matrix\" + 0.005*\"s22\" + 0.004*\"minim\" + 0.004*\"e4\"\n",
      "2022-02-23 14:32:53,029 : INFO : topic diff=0.461225, rho=0.307119\n",
      "2022-02-23 14:32:53,038 : INFO : PROGRESS: pass 9, at document #2000/3204\n",
      "2022-02-23 14:32:54,171 : INFO : optimized alpha [0.010394124, 0.011885468, 0.01095468, 0.011536002, 0.011477665, 0.010418717, 0.010267381, 0.01132499, 0.012655321, 0.01078451, 0.00999665, 0.011308112, 0.01098951, 0.011353104, 0.011363456, 0.010906179, 0.012374921, 0.010950001, 0.01126106, 0.010745941, 0.010988679, 0.011963472, 0.012783669, 0.011735793, 0.01204754, 0.011532462, 0.012192985, 0.010907205, 0.010070328, 0.01053178, 0.009577715, 0.011704176, 0.011217921, 0.010945824, 0.0116309505, 0.011462961, 0.012246317, 0.011773486, 0.01078281, 0.012349686, 0.013011617, 0.010359518, 0.010479851, 0.010908157, 0.010353853, 0.011669651, 0.010682838, 0.013664066, 0.011486294, 0.011067018, 0.014068692, 0.012804545, 0.01098145, 0.010233814, 0.011392129, 0.010566186, 0.01146151, 0.012342984, 0.010847032, 0.011051197, 0.010210282, 0.011206777, 0.013046946, 0.009924825, 0.010207945, 0.011807116, 0.010824399, 0.014425862, 0.010528465, 0.012079266, 0.012520408, 0.010740361, 0.012061252, 0.011835995, 0.011144162, 0.011180857, 0.010703739, 0.011218235, 0.010695913, 0.012190727, 0.010903524, 0.0107486695, 0.011733201, 0.010986388, 0.012138613, 0.01091743, 0.011353574, 0.010822723, 0.012374143, 0.011889876, 0.015063737, 0.014416692, 0.013088171, 0.011109097, 0.011352815, 0.011152456, 0.014875968, 0.012649254, 0.03360638, 0.012130578]\n",
      "2022-02-23 14:32:54,178 : INFO : merging changes from 2000 documents into a model of 3204 documents\n",
      "2022-02-23 14:32:54,188 : INFO : topic #30 (0.010): 0.088*\"loop\" + 0.080*\"document\" + 0.061*\"-\" + 0.059*\",\" + 0.043*\"(\" + 0.040*\")\" + 0.037*\"invari\" + 0.035*\"10\" + 0.032*\"index\" + 0.030*\"access\"\n",
      "2022-02-23 14:32:54,188 : INFO : topic #63 (0.010): 0.099*\"area\" + 0.091*\"optimum\" + 0.089*\"read\" + 0.064*\"sourc\" + 0.064*\"write\" + 0.037*\"time\" + 0.030*\"number\" + 0.026*\"/\" + 0.024*\",\" + 0.020*\"develop\"\n",
      "2022-02-23 14:32:54,189 : INFO : topic #96 (0.015): 0.500*\"\"\" + 0.111*\"set\" + 0.074*\"work\" + 0.038*\"behavior\" + 0.030*\",\"\" + 0.030*\",\" + 0.023*\"page\" + 0.023*\"balanc\" + 0.022*\"model\" + 0.014*\"demand\"\n",
      "2022-02-23 14:32:54,190 : INFO : topic #90 (0.015): 0.548*\"method\" + 0.140*\"'\" + 0.045*\"reduct\" + 0.038*\"paramet\" + 0.029*\"effici\" + 0.021*\"gener\" + 0.018*\"integr\" + 0.018*\",\" + 0.014*\"shown\" + 0.013*\"improv\"\n",
      "2022-02-23 14:32:54,190 : INFO : topic #98 (0.034): 0.336*\"algorithm\" + 0.254*\"(\" + 0.186*\")\" + 0.109*\"[\" + 0.065*\"])\" + 0.013*\"function\" + 0.012*\"matrix\" + 0.005*\"s22\" + 0.004*\"e4\" + 0.004*\"f1\"\n",
      "2022-02-23 14:32:54,191 : INFO : topic diff=0.402305, rho=0.293585\n",
      "2022-02-23 14:32:55,441 : INFO : -6.515 per-word bound, 91.4 perplexity estimate based on a held-out corpus of 1204 documents with 49783 words\n",
      "2022-02-23 14:32:55,442 : INFO : PROGRESS: pass 9, at document #3204/3204\n",
      "2022-02-23 14:32:56,594 : INFO : optimized alpha [0.010512885, 0.012119775, 0.011051279, 0.011692472, 0.011644518, 0.010457024, 0.010333917, 0.0114501575, 0.012731109, 0.010873435, 0.010064844, 0.011405063, 0.011082787, 0.011525056, 0.011503508, 0.011083667, 0.012615529, 0.011058856, 0.011334942, 0.01082527, 0.011131619, 0.012231666, 0.012972201, 0.011906228, 0.012284847, 0.0116984425, 0.012281598, 0.01107144, 0.010145624, 0.010635777, 0.009599567, 0.011879441, 0.01130796, 0.011094133, 0.0117995655, 0.011689343, 0.012447713, 0.011887936, 0.010861475, 0.012636248, 0.013225303, 0.010399102, 0.010601081, 0.011060753, 0.010464057, 0.011887271, 0.010784656, 0.01407121, 0.011581049, 0.011275916, 0.014319136, 0.013038076, 0.011069093, 0.010292808, 0.011497053, 0.010729036, 0.011616259, 0.012506188, 0.010949162, 0.011236476, 0.010291452, 0.011277168, 0.01331392, 0.009963772, 0.010275055, 0.012006131, 0.010882572, 0.014814029, 0.010642113, 0.012279636, 0.012633311, 0.010832067, 0.012267662, 0.012078925, 0.011272395, 0.0113593275, 0.010760337, 0.011397763, 0.010807247, 0.012430445, 0.011063631, 0.010874998, 0.011878965, 0.011137441, 0.0123228915, 0.011037911, 0.011526711, 0.010960209, 0.01259325, 0.012146419, 0.015549044, 0.014806681, 0.0133171175, 0.011199843, 0.01149935, 0.0112760095, 0.015287682, 0.012763499, 0.0346132, 0.012398668]\n",
      "2022-02-23 14:32:56,605 : INFO : merging changes from 1204 documents into a model of 3204 documents\n",
      "2022-02-23 14:32:56,618 : INFO : topic #30 (0.010): 0.112*\"loop\" + 0.081*\"document\" + 0.060*\"-\" + 0.056*\",\" + 0.047*\"invari\" + 0.042*\"(\" + 0.038*\")\" + 0.035*\"10\" + 0.030*\"access\" + 0.030*\"index\"\n",
      "2022-02-23 14:32:56,620 : INFO : topic #63 (0.010): 0.107*\"area\" + 0.105*\"optimum\" + 0.091*\"read\" + 0.067*\"write\" + 0.066*\"sourc\" + 0.043*\"time\" + 0.032*\"number\" + 0.026*\"/\" + 0.023*\",\" + 0.022*\"expect\"\n",
      "2022-02-23 14:32:56,622 : INFO : topic #96 (0.015): 0.497*\"\"\" + 0.114*\"set\" + 0.079*\"work\" + 0.040*\"behavior\" + 0.031*\",\"\" + 0.030*\",\" + 0.026*\"balanc\" + 0.024*\"page\" + 0.021*\"model\" + 0.015*\"demand\"\n",
      "2022-02-23 14:32:56,625 : INFO : topic #90 (0.016): 0.555*\"method\" + 0.144*\"'\" + 0.047*\"reduct\" + 0.037*\"paramet\" + 0.027*\"effici\" + 0.020*\"gener\" + 0.017*\",\" + 0.017*\"integr\" + 0.014*\"shown\" + 0.013*\"improv\"\n",
      "2022-02-23 14:32:56,626 : INFO : topic #98 (0.035): 0.353*\"algorithm\" + 0.248*\"(\" + 0.193*\")\" + 0.109*\"[\" + 0.048*\"])\" + 0.012*\"function\" + 0.011*\"matrix\" + 0.005*\"s22\" + 0.004*\"e4\" + 0.004*\"minim\"\n",
      "2022-02-23 14:32:56,629 : INFO : topic diff=0.403509, rho=0.293585\n",
      "2022-02-23 14:32:56,639 : INFO : PROGRESS: pass 10, at document #2000/3204\n",
      "2022-02-23 14:32:57,916 : INFO : optimized alpha [0.010503555, 0.012169747, 0.011074522, 0.011762021, 0.01163051, 0.010483446, 0.010372604, 0.011467983, 0.012963386, 0.010894385, 0.010046298, 0.01146548, 0.011083529, 0.011586583, 0.011501571, 0.0110843275, 0.012625733, 0.011087269, 0.011438665, 0.010888733, 0.011160275, 0.012211517, 0.013007756, 0.011933155, 0.012323388, 0.01170488, 0.012429786, 0.011106794, 0.01016211, 0.010621081, 0.009594833, 0.011894951, 0.011401744, 0.011108974, 0.0118926745, 0.011719931, 0.01250509, 0.011965861, 0.01085318, 0.012761836, 0.013488654, 0.010462517, 0.010586346, 0.011048757, 0.010481656, 0.011852294, 0.010885748, 0.014397382, 0.011656883, 0.011288983, 0.0145895695, 0.01316716, 0.01109796, 0.010296396, 0.011580701, 0.010708221, 0.011637932, 0.012610485, 0.011005863, 0.011271754, 0.010309516, 0.011377865, 0.013361844, 0.009968614, 0.010300961, 0.012050763, 0.010954031, 0.014802538, 0.010654501, 0.012364229, 0.012874552, 0.010925781, 0.0123574445, 0.012090129, 0.011338584, 0.01142222, 0.010862579, 0.011444357, 0.010770389, 0.012462125, 0.011049127, 0.010869813, 0.011935228, 0.011118923, 0.012402273, 0.011051212, 0.011536097, 0.011009005, 0.012717506, 0.012263964, 0.015854755, 0.014994066, 0.013579736, 0.011255292, 0.011468591, 0.011281241, 0.015432827, 0.012912324, 0.036982015, 0.012392348]\n",
      "2022-02-23 14:32:57,928 : INFO : merging changes from 2000 documents into a model of 3204 documents\n",
      "2022-02-23 14:32:57,940 : INFO : topic #30 (0.010): 0.094*\"loop\" + 0.084*\"document\" + 0.059*\",\" + 0.057*\"-\" + 0.040*\"invari\" + 0.039*\"(\" + 0.036*\")\" + 0.035*\"10\" + 0.035*\"index\" + 0.030*\"access\"\n",
      "2022-02-23 14:32:57,944 : INFO : topic #63 (0.010): 0.103*\"area\" + 0.094*\"read\" + 0.093*\"optimum\" + 0.067*\"write\" + 0.064*\"sourc\" + 0.041*\"time\" + 0.031*\"number\" + 0.026*\"/\" + 0.023*\",\" + 0.021*\"expect\"\n",
      "2022-02-23 14:32:57,946 : INFO : topic #96 (0.015): 0.508*\"\"\" + 0.110*\"set\" + 0.074*\"work\" + 0.038*\"behavior\" + 0.031*\",\"\" + 0.030*\",\" + 0.023*\"balanc\" + 0.021*\"model\" + 0.021*\"page\" + 0.014*\"process\"\n",
      "2022-02-23 14:32:57,947 : INFO : topic #90 (0.016): 0.564*\"method\" + 0.138*\"'\" + 0.045*\"reduct\" + 0.035*\"paramet\" + 0.029*\"effici\" + 0.020*\"gener\" + 0.017*\",\" + 0.015*\"integr\" + 0.014*\"improv\" + 0.014*\"shown\"\n",
      "2022-02-23 14:32:57,947 : INFO : topic #98 (0.037): 0.340*\"algorithm\" + 0.252*\"(\" + 0.184*\")\" + 0.110*\"[\" + 0.064*\"])\" + 0.013*\"function\" + 0.012*\"matrix\" + 0.005*\"s22\" + 0.004*\"e4\" + 0.004*\"f1\"\n",
      "2022-02-23 14:32:57,948 : INFO : topic diff=0.351725, rho=0.281696\n",
      "2022-02-23 14:32:59,501 : INFO : -6.499 per-word bound, 90.4 perplexity estimate based on a held-out corpus of 1204 documents with 49783 words\n",
      "2022-02-23 14:32:59,501 : INFO : PROGRESS: pass 10, at document #3204/3204\n",
      "2022-02-23 14:33:00,597 : INFO : optimized alpha [0.010623448, 0.012397789, 0.011170574, 0.011910841, 0.011786617, 0.010520692, 0.010444258, 0.0115918275, 0.013041186, 0.01098038, 0.010121865, 0.011559096, 0.011179056, 0.0117536355, 0.011637162, 0.011261664, 0.012874312, 0.011195273, 0.011509712, 0.010965332, 0.01129616, 0.0124755, 0.013190295, 0.012106852, 0.012562931, 0.011865724, 0.012514756, 0.011274037, 0.010244521, 0.010719224, 0.0096164225, 0.012059134, 0.011488647, 0.01125271, 0.012070103, 0.011940274, 0.012703468, 0.012073597, 0.0109396055, 0.013039544, 0.01370291, 0.010493414, 0.010708659, 0.011196547, 0.010593282, 0.0120718675, 0.010984183, 0.014848672, 0.011756658, 0.011513475, 0.014833356, 0.013391104, 0.011185327, 0.010348836, 0.011684703, 0.010868628, 0.011785138, 0.0127744805, 0.011107178, 0.011457197, 0.010392943, 0.011453595, 0.013628054, 0.01000654, 0.010370736, 0.01225005, 0.011012709, 0.015180783, 0.010769523, 0.012561678, 0.01296775, 0.011032207, 0.012563848, 0.012315254, 0.011462703, 0.011593023, 0.010916996, 0.011621431, 0.0108806575, 0.012698147, 0.011212136, 0.0109997075, 0.012070772, 0.0112651335, 0.01257805, 0.01116782, 0.011698569, 0.0111396825, 0.012951786, 0.012520403, 0.016350027, 0.015398434, 0.01379636, 0.0113403, 0.011607664, 0.0114008095, 0.015829235, 0.01300714, 0.037906263, 0.01266216]\n",
      "2022-02-23 14:33:00,605 : INFO : merging changes from 1204 documents into a model of 3204 documents\n",
      "2022-02-23 14:33:00,617 : INFO : topic #30 (0.010): 0.117*\"loop\" + 0.085*\"document\" + 0.056*\",\" + 0.055*\"-\" + 0.050*\"invari\" + 0.037*\"(\" + 0.036*\"10\" + 0.034*\")\" + 0.033*\"index\" + 0.031*\"access\"\n",
      "2022-02-23 14:33:00,618 : INFO : topic #63 (0.010): 0.110*\"area\" + 0.107*\"optimum\" + 0.094*\"read\" + 0.069*\"write\" + 0.066*\"sourc\" + 0.047*\"time\" + 0.032*\"number\" + 0.025*\"/\" + 0.023*\"expect\" + 0.023*\",\"\n",
      "2022-02-23 14:33:00,618 : INFO : topic #96 (0.016): 0.505*\"\"\" + 0.113*\"set\" + 0.080*\"work\" + 0.040*\"behavior\" + 0.032*\",\"\" + 0.029*\",\" + 0.026*\"balanc\" + 0.022*\"page\" + 0.021*\"model\" + 0.014*\"demand\"\n",
      "2022-02-23 14:33:00,620 : INFO : topic #90 (0.016): 0.569*\"method\" + 0.141*\"'\" + 0.047*\"reduct\" + 0.035*\"paramet\" + 0.027*\"effici\" + 0.019*\"gener\" + 0.017*\",\" + 0.014*\"shown\" + 0.014*\"improv\" + 0.013*\"integr\"\n",
      "2022-02-23 14:33:00,621 : INFO : topic #98 (0.038): 0.356*\"algorithm\" + 0.247*\"(\" + 0.191*\")\" + 0.109*\"[\" + 0.049*\"])\" + 0.012*\"function\" + 0.012*\"matrix\" + 0.005*\"s22\" + 0.004*\"e4\" + 0.004*\"minim\"\n",
      "2022-02-23 14:33:00,621 : INFO : topic diff=0.355199, rho=0.281696\n",
      "2022-02-23 14:33:00,629 : INFO : PROGRESS: pass 11, at document #2000/3204\n",
      "2022-02-23 14:33:02,008 : INFO : optimized alpha [0.010615852, 0.012447316, 0.011196156, 0.01197818, 0.011776003, 0.010548073, 0.010491774, 0.011615393, 0.0132736955, 0.011006802, 0.010109826, 0.011613002, 0.0111799305, 0.011824454, 0.011638357, 0.011261849, 0.012886629, 0.0112289805, 0.011612195, 0.011029921, 0.011322209, 0.012459779, 0.013222633, 0.012130892, 0.012601246, 0.011871697, 0.012657388, 0.011311055, 0.010261968, 0.010703725, 0.009611142, 0.012080316, 0.011578324, 0.011271425, 0.012165398, 0.011972511, 0.012760396, 0.012147653, 0.010931823, 0.013170733, 0.013960319, 0.0105495285, 0.010692931, 0.011190796, 0.010610335, 0.012040402, 0.011081196, 0.015197937, 0.0118335085, 0.011528464, 0.015101318, 0.01352385, 0.011211953, 0.010355602, 0.011773981, 0.010854042, 0.011805898, 0.012880951, 0.011162184, 0.011497281, 0.010414818, 0.011559296, 0.013675482, 0.010013068, 0.010401629, 0.01229453, 0.011091184, 0.015173238, 0.010779985, 0.012641842, 0.013204226, 0.011132506, 0.012655996, 0.012320235, 0.01152693, 0.011668263, 0.011019472, 0.011669432, 0.010848228, 0.012729779, 0.0111992955, 0.010996049, 0.012128485, 0.01124703, 0.012653145, 0.011179147, 0.011713721, 0.01118083, 0.013071006, 0.012646568, 0.016651921, 0.015587531, 0.014058549, 0.011392607, 0.011582637, 0.011405866, 0.015975997, 0.013155663, 0.0403229, 0.012658115]\n",
      "2022-02-23 14:33:02,019 : INFO : merging changes from 2000 documents into a model of 3204 documents\n",
      "2022-02-23 14:33:02,035 : INFO : topic #30 (0.010): 0.099*\"loop\" + 0.088*\"document\" + 0.058*\",\" + 0.053*\"-\" + 0.043*\"invari\" + 0.037*\"index\" + 0.036*\"10\" + 0.035*\"(\" + 0.032*\")\" + 0.031*\"access\"\n",
      "2022-02-23 14:33:02,037 : INFO : topic #63 (0.010): 0.106*\"area\" + 0.097*\"read\" + 0.097*\"optimum\" + 0.068*\"write\" + 0.064*\"sourc\" + 0.044*\"time\" + 0.031*\"number\" + 0.025*\"/\" + 0.023*\"expect\" + 0.023*\",\"\n",
      "2022-02-23 14:33:02,039 : INFO : topic #96 (0.016): 0.515*\"\"\" + 0.110*\"set\" + 0.075*\"work\" + 0.038*\"behavior\" + 0.031*\",\"\" + 0.029*\",\" + 0.023*\"balanc\" + 0.021*\"model\" + 0.019*\"page\" + 0.015*\"process\"\n",
      "2022-02-23 14:33:02,040 : INFO : topic #90 (0.017): 0.579*\"method\" + 0.136*\"'\" + 0.044*\"reduct\" + 0.033*\"paramet\" + 0.028*\"effici\" + 0.018*\"gener\" + 0.017*\",\" + 0.015*\"improv\" + 0.014*\"shown\" + 0.011*\"show\"\n",
      "2022-02-23 14:33:02,040 : INFO : topic #98 (0.040): 0.343*\"algorithm\" + 0.251*\"(\" + 0.183*\")\" + 0.110*\"[\" + 0.064*\"])\" + 0.012*\"function\" + 0.012*\"matrix\" + 0.005*\"s22\" + 0.004*\"e4\" + 0.004*\"f1\"\n",
      "2022-02-23 14:33:02,041 : INFO : topic diff=0.309311, rho=0.271143\n",
      "2022-02-23 14:33:03,414 : INFO : -6.486 per-word bound, 89.7 perplexity estimate based on a held-out corpus of 1204 documents with 49783 words\n",
      "2022-02-23 14:33:03,415 : INFO : PROGRESS: pass 11, at document #3204/3204\n",
      "2022-02-23 14:33:04,446 : INFO : optimized alpha [0.010727439, 0.012667154, 0.011289313, 0.012128153, 0.0119329365, 0.010589177, 0.010565986, 0.011738322, 0.013347837, 0.01109278, 0.010192449, 0.011709006, 0.011272586, 0.0119979875, 0.011778014, 0.011426767, 0.013129063, 0.011333849, 0.011683459, 0.01110905, 0.011459313, 0.012714743, 0.013400179, 0.012305275, 0.012840783, 0.012030732, 0.012744999, 0.011486616, 0.010348962, 0.0108039575, 0.009636924, 0.012242587, 0.011662378, 0.011426328, 0.012338099, 0.012190353, 0.012950618, 0.012254841, 0.01102573, 0.013461072, 0.0141755035, 0.010591559, 0.010806884, 0.011334359, 0.010726081, 0.012248722, 0.011174131, 0.015664723, 0.011927513, 0.011755518, 0.015346167, 0.013739192, 0.011289009, 0.010413784, 0.011880112, 0.011012455, 0.011970365, 0.013046137, 0.011257912, 0.011685991, 0.010493416, 0.011635095, 0.013935441, 0.010047832, 0.010469305, 0.012486039, 0.011152927, 0.015556389, 0.010894174, 0.0128313, 0.013302442, 0.011243348, 0.012857277, 0.012542464, 0.0116500035, 0.0118454145, 0.011074441, 0.011844522, 0.010952803, 0.012959973, 0.011355292, 0.011122188, 0.012265563, 0.011388865, 0.01282972, 0.011292391, 0.01188253, 0.011312863, 0.013320801, 0.012903611, 0.017168876, 0.015999762, 0.014282238, 0.011474911, 0.011714973, 0.011521957, 0.016365105, 0.013250003, 0.041235752, 0.012930229]\n",
      "2022-02-23 14:33:04,453 : INFO : merging changes from 1204 documents into a model of 3204 documents\n",
      "2022-02-23 14:33:04,465 : INFO : topic #30 (0.010): 0.120*\"loop\" + 0.090*\"document\" + 0.055*\",\" + 0.052*\"invari\" + 0.051*\"-\" + 0.035*\"10\" + 0.034*\"index\" + 0.033*\"(\" + 0.033*\"access\" + 0.029*\")\"\n",
      "2022-02-23 14:33:04,466 : INFO : topic #63 (0.010): 0.112*\"area\" + 0.110*\"optimum\" + 0.097*\"read\" + 0.071*\"write\" + 0.065*\"sourc\" + 0.050*\"time\" + 0.033*\"number\" + 0.026*\"expect\" + 0.023*\"/\" + 0.022*\",\"\n",
      "2022-02-23 14:33:04,467 : INFO : topic #96 (0.016): 0.512*\"\"\" + 0.113*\"set\" + 0.080*\"work\" + 0.040*\"behavior\" + 0.032*\",\"\" + 0.029*\",\" + 0.026*\"balanc\" + 0.020*\"model\" + 0.019*\"page\" + 0.014*\"demand\"\n",
      "2022-02-23 14:33:04,468 : INFO : topic #90 (0.017): 0.583*\"method\" + 0.139*\"'\" + 0.046*\"reduct\" + 0.033*\"paramet\" + 0.027*\"effici\" + 0.018*\"gener\" + 0.017*\",\" + 0.015*\"improv\" + 0.014*\"shown\" + 0.013*\"show\"\n",
      "2022-02-23 14:33:04,469 : INFO : topic #98 (0.041): 0.358*\"algorithm\" + 0.246*\"(\" + 0.190*\")\" + 0.110*\"[\" + 0.049*\"])\" + 0.012*\"function\" + 0.012*\"matrix\" + 0.005*\"s22\" + 0.004*\"e4\" + 0.004*\"minim\"\n",
      "2022-02-23 14:33:04,470 : INFO : topic diff=0.313566, rho=0.271143\n",
      "2022-02-23 14:33:04,479 : INFO : PROGRESS: pass 12, at document #2000/3204\n",
      "2022-02-23 14:33:05,684 : INFO : optimized alpha [0.010721482, 0.01271643, 0.01131873, 0.012196696, 0.011923985, 0.010616076, 0.010613664, 0.0117596015, 0.013574077, 0.011114164, 0.0101850135, 0.011762986, 0.011275067, 0.012070043, 0.011783751, 0.011428074, 0.013140081, 0.0113696465, 0.011783444, 0.011173421, 0.011488947, 0.012701629, 0.013429501, 0.012331444, 0.012878958, 0.012039392, 0.012882665, 0.011525291, 0.0103714885, 0.010790505, 0.009636142, 0.012261245, 0.011755895, 0.011447257, 0.0124341715, 0.012222699, 0.013005599, 0.012325307, 0.011018384, 0.013594553, 0.014436588, 0.010654756, 0.010793093, 0.011333048, 0.01074684, 0.012217501, 0.01127903, 0.016036259, 0.012005523, 0.011770819, 0.015624292, 0.013866835, 0.01131955, 0.0104234405, 0.011967104, 0.011008065, 0.011995022, 0.013148106, 0.011312904, 0.01172153, 0.0105244955, 0.011742779, 0.013982479, 0.010057291, 0.0104981335, 0.012538807, 0.011227999, 0.01554856, 0.010912931, 0.012910712, 0.013541626, 0.011356049, 0.012950249, 0.012546533, 0.011709387, 0.011921759, 0.011178818, 0.011893983, 0.010920192, 0.012991608, 0.011348511, 0.01111707, 0.012326366, 0.011375585, 0.012897446, 0.011309305, 0.011904719, 0.01136019, 0.013437108, 0.013025128, 0.01747166, 0.01619085, 0.014540742, 0.011524373, 0.011690761, 0.011528382, 0.0164987, 0.013393296, 0.04373472, 0.012925127]\n",
      "2022-02-23 14:33:05,691 : INFO : merging changes from 2000 documents into a model of 3204 documents\n",
      "2022-02-23 14:33:05,706 : INFO : topic #30 (0.010): 0.102*\"loop\" + 0.092*\"document\" + 0.058*\",\" + 0.048*\"-\" + 0.045*\"invari\" + 0.038*\"index\" + 0.035*\"10\" + 0.033*\"access\" + 0.031*\"(\" + 0.029*\"legendr\"\n",
      "2022-02-23 14:33:05,708 : INFO : topic #63 (0.010): 0.108*\"area\" + 0.100*\"read\" + 0.099*\"optimum\" + 0.072*\"write\" + 0.062*\"sourc\" + 0.047*\"time\" + 0.032*\"number\" + 0.026*\"expect\" + 0.024*\"/\" + 0.022*\",\"\n",
      "2022-02-23 14:33:05,710 : INFO : topic #96 (0.016): 0.522*\"\"\" + 0.108*\"set\" + 0.076*\"work\" + 0.038*\"behavior\" + 0.031*\",\"\" + 0.028*\",\" + 0.023*\"balanc\" + 0.020*\"model\" + 0.017*\"page\" + 0.015*\"process\"\n",
      "2022-02-23 14:33:05,711 : INFO : topic #90 (0.017): 0.592*\"method\" + 0.134*\"'\" + 0.044*\"reduct\" + 0.031*\"paramet\" + 0.028*\"effici\" + 0.017*\"gener\" + 0.017*\",\" + 0.016*\"improv\" + 0.014*\"shown\" + 0.012*\"show\"\n",
      "2022-02-23 14:33:05,711 : INFO : topic #98 (0.044): 0.344*\"algorithm\" + 0.250*\"(\" + 0.183*\")\" + 0.110*\"[\" + 0.064*\"])\" + 0.012*\"function\" + 0.012*\"matrix\" + 0.005*\"s22\" + 0.004*\"e4\" + 0.004*\"f1\"\n",
      "2022-02-23 14:33:05,712 : INFO : topic diff=0.274024, rho=0.261694\n",
      "2022-02-23 14:33:06,942 : INFO : -6.475 per-word bound, 88.9 perplexity estimate based on a held-out corpus of 1204 documents with 49783 words\n",
      "2022-02-23 14:33:06,942 : INFO : PROGRESS: pass 12, at document #3204/3204\n",
      "2022-02-23 14:33:07,829 : INFO : optimized alpha [0.01083714, 0.0129369255, 0.0114118, 0.012342781, 0.012074168, 0.010656107, 0.010685825, 0.011874046, 0.013641958, 0.011200234, 0.01026988, 0.011845873, 0.011367704, 0.012247645, 0.011925017, 0.0115888575, 0.0133769065, 0.011479275, 0.011852424, 0.011250259, 0.011614907, 0.012948136, 0.013602324, 0.012506846, 0.013113382, 0.012197011, 0.012956113, 0.011704289, 0.010460628, 0.010890442, 0.009663611, 0.0124166105, 0.011837406, 0.011608265, 0.01260272, 0.012443869, 0.013193931, 0.012429462, 0.011114608, 0.013892264, 0.014656201, 0.010695686, 0.010915832, 0.011472869, 0.010866677, 0.0124207605, 0.011374133, 0.016547874, 0.012096855, 0.011995708, 0.015860058, 0.014086189, 0.011392012, 0.010487051, 0.01207019, 0.011169695, 0.012155535, 0.013311885, 0.011408361, 0.011911222, 0.010612455, 0.011818787, 0.014233501, 0.010093518, 0.010563953, 0.01273687, 0.01129036, 0.015934104, 0.011043167, 0.013095533, 0.013633141, 0.011471413, 0.013155333, 0.012758167, 0.011836807, 0.0121027315, 0.011239301, 0.012075312, 0.01102195, 0.013222221, 0.0115006305, 0.011242256, 0.012457033, 0.011511228, 0.01307236, 0.011417058, 0.012074673, 0.011493765, 0.013685061, 0.013288757, 0.017988794, 0.016597671, 0.01475614, 0.011606795, 0.011822171, 0.011641359, 0.016877392, 0.0134902755, 0.044540003, 0.013191577]\n",
      "2022-02-23 14:33:07,836 : INFO : merging changes from 1204 documents into a model of 3204 documents\n",
      "2022-02-23 14:33:07,848 : INFO : topic #30 (0.010): 0.124*\"loop\" + 0.094*\"document\" + 0.055*\",\" + 0.054*\"invari\" + 0.046*\"-\" + 0.036*\"access\" + 0.036*\"index\" + 0.032*\"10\" + 0.029*\"(\" + 0.029*\"object\"\n",
      "2022-02-23 14:33:07,848 : INFO : topic #63 (0.010): 0.113*\"area\" + 0.111*\"optimum\" + 0.100*\"read\" + 0.073*\"write\" + 0.065*\"sourc\" + 0.052*\"time\" + 0.033*\"number\" + 0.027*\"expect\" + 0.022*\"/\" + 0.021*\",\"\n",
      "2022-02-23 14:33:07,849 : INFO : topic #96 (0.017): 0.518*\"\"\" + 0.111*\"set\" + 0.081*\"work\" + 0.040*\"behavior\" + 0.032*\",\"\" + 0.028*\",\" + 0.026*\"balanc\" + 0.020*\"model\" + 0.017*\"page\" + 0.013*\"process\"\n",
      "2022-02-23 14:33:07,850 : INFO : topic #90 (0.018): 0.596*\"method\" + 0.136*\"'\" + 0.046*\"reduct\" + 0.031*\"paramet\" + 0.027*\"effici\" + 0.017*\"gener\" + 0.016*\",\" + 0.016*\"improv\" + 0.014*\"shown\" + 0.013*\"show\"\n",
      "2022-02-23 14:33:07,850 : INFO : topic #98 (0.045): 0.358*\"algorithm\" + 0.246*\"(\" + 0.189*\")\" + 0.110*\"[\" + 0.050*\"])\" + 0.012*\"function\" + 0.012*\"matrix\" + 0.005*\"s22\" + 0.004*\"e4\" + 0.004*\"minim\"\n",
      "2022-02-23 14:33:07,851 : INFO : topic diff=0.279033, rho=0.261694\n",
      "2022-02-23 14:33:07,859 : INFO : PROGRESS: pass 13, at document #2000/3204\n",
      "2022-02-23 14:33:09,068 : INFO : optimized alpha [0.0108299265, 0.012987661, 0.0114361625, 0.012415765, 0.012065208, 0.010686612, 0.010736521, 0.011891721, 0.0138658155, 0.011222564, 0.010264127, 0.011903072, 0.0113716945, 0.012333636, 0.011931998, 0.01159424, 0.01339185, 0.0115170805, 0.011947104, 0.011314522, 0.011646625, 0.012932704, 0.013639339, 0.012531983, 0.01315827, 0.012203621, 0.013090775, 0.011743075, 0.010489235, 0.010880308, 0.009664531, 0.012434534, 0.011934872, 0.011625405, 0.012694873, 0.012476325, 0.013248801, 0.0124997385, 0.011113285, 0.014019376, 0.014914131, 0.0107547175, 0.0109038055, 0.01146997, 0.010890959, 0.01239142, 0.011476826, 0.016939213, 0.012173041, 0.012012933, 0.01613678, 0.014216234, 0.011420467, 0.010499398, 0.012159814, 0.011167897, 0.012176135, 0.013414754, 0.011467788, 0.011950004, 0.010648256, 0.011928461, 0.014283931, 0.0101031, 0.010600241, 0.012789571, 0.011368042, 0.01592797, 0.0110654775, 0.013172737, 0.013866808, 0.0115876235, 0.013250933, 0.0127631, 0.0118976105, 0.012181842, 0.011341442, 0.01211859, 0.010990524, 0.01325738, 0.01149521, 0.011238614, 0.012516247, 0.011501205, 0.013138092, 0.011437954, 0.012102133, 0.011541226, 0.013800335, 0.013414204, 0.018294772, 0.016778337, 0.015016883, 0.011658013, 0.011801648, 0.011646186, 0.017002562, 0.013628785, 0.047165915, 0.0131870685]\n",
      "2022-02-23 14:33:09,077 : INFO : merging changes from 2000 documents into a model of 3204 documents\n",
      "2022-02-23 14:33:09,090 : INFO : topic #30 (0.010): 0.107*\"loop\" + 0.096*\"document\" + 0.057*\",\" + 0.047*\"invari\" + 0.044*\"-\" + 0.039*\"index\" + 0.035*\"access\" + 0.031*\"10\" + 0.030*\"legendr\" + 0.029*\"object\"\n",
      "2022-02-23 14:33:09,092 : INFO : topic #63 (0.010): 0.109*\"area\" + 0.102*\"read\" + 0.100*\"optimum\" + 0.074*\"write\" + 0.062*\"sourc\" + 0.050*\"time\" + 0.032*\"number\" + 0.027*\"expect\" + 0.023*\"/\" + 0.022*\",\"\n",
      "2022-02-23 14:33:09,093 : INFO : topic #96 (0.017): 0.527*\"\"\" + 0.107*\"set\" + 0.076*\"work\" + 0.038*\"behavior\" + 0.031*\",\"\" + 0.028*\",\" + 0.023*\"balanc\" + 0.020*\"model\" + 0.016*\"page\" + 0.015*\"process\"\n",
      "2022-02-23 14:33:09,094 : INFO : topic #90 (0.018): 0.604*\"method\" + 0.132*\"'\" + 0.044*\"reduct\" + 0.030*\"paramet\" + 0.028*\"effici\" + 0.017*\"improv\" + 0.016*\"gener\" + 0.016*\",\" + 0.014*\"shown\" + 0.012*\"show\"\n",
      "2022-02-23 14:33:09,094 : INFO : topic #98 (0.047): 0.345*\"algorithm\" + 0.250*\"(\" + 0.182*\")\" + 0.111*\"[\" + 0.065*\"])\" + 0.012*\"matrix\" + 0.012*\"function\" + 0.005*\"s22\" + 0.004*\"e4\" + 0.004*\"f1\"\n",
      "2022-02-23 14:33:09,095 : INFO : topic diff=0.244568, rho=0.253169\n",
      "2022-02-23 14:33:10,440 : INFO : -6.465 per-word bound, 88.3 perplexity estimate based on a held-out corpus of 1204 documents with 49783 words\n",
      "2022-02-23 14:33:10,441 : INFO : PROGRESS: pass 13, at document #3204/3204\n",
      "2022-02-23 14:33:11,532 : INFO : optimized alpha [0.01094045, 0.013209094, 0.0115292845, 0.012555771, 0.012209135, 0.010727977, 0.010802265, 0.012005886, 0.013933527, 0.011304117, 0.010349173, 0.011988799, 0.011464434, 0.012512915, 0.012072418, 0.0117513165, 0.013629307, 0.0116313705, 0.012016611, 0.011391633, 0.011774403, 0.013168545, 0.01381087, 0.012703412, 0.01338521, 0.012362681, 0.013159031, 0.0119257895, 0.010580633, 0.010980103, 0.009699787, 0.012593954, 0.012011529, 0.011787694, 0.012854241, 0.012690379, 0.013432807, 0.01260376, 0.011207079, 0.014318906, 0.015129078, 0.010794577, 0.011023628, 0.011606376, 0.011017201, 0.012600623, 0.011564566, 0.017466161, 0.012269628, 0.012236099, 0.016374243, 0.014436924, 0.011496009, 0.010559245, 0.0122626955, 0.011325859, 0.0123330215, 0.013580228, 0.011558363, 0.012143547, 0.010736274, 0.011999709, 0.014532846, 0.010136474, 0.010668867, 0.012986298, 0.011426232, 0.01629652, 0.011194994, 0.013353339, 0.013946057, 0.011704903, 0.013454507, 0.012970262, 0.012026926, 0.012356632, 0.011409626, 0.012298619, 0.011092034, 0.013491748, 0.011646174, 0.011363099, 0.012635621, 0.011628619, 0.013311649, 0.011547843, 0.012281279, 0.011688874, 0.014046755, 0.013676512, 0.018815942, 0.017183457, 0.015233727, 0.011738233, 0.011934838, 0.011756367, 0.017360598, 0.013725691, 0.047841094, 0.0134483045]\n",
      "2022-02-23 14:33:11,542 : INFO : merging changes from 1204 documents into a model of 3204 documents\n",
      "2022-02-23 14:33:11,554 : INFO : topic #30 (0.010): 0.126*\"loop\" + 0.096*\"document\" + 0.055*\"invari\" + 0.054*\",\" + 0.043*\"access\" + 0.042*\"-\" + 0.036*\"index\" + 0.032*\"object\" + 0.030*\"establish\" + 0.028*\"10\"\n",
      "2022-02-23 14:33:11,555 : INFO : topic #63 (0.010): 0.114*\"area\" + 0.112*\"optimum\" + 0.102*\"read\" + 0.075*\"write\" + 0.064*\"sourc\" + 0.055*\"time\" + 0.034*\"number\" + 0.028*\"expect\" + 0.021*\"/\" + 0.021*\"develop\"\n",
      "2022-02-23 14:33:11,556 : INFO : topic #47 (0.017): 0.371*\"(\" + 0.336*\")\" + 0.056*\"function\" + 0.044*\";\" + 0.044*\"1\" + 0.029*\"2\" + 0.023*\"corrigendum\" + 0.021*\"gamma\" + 0.012*\"nest\" + 0.011*\"s14\"\n",
      "2022-02-23 14:33:11,557 : INFO : topic #90 (0.019): 0.607*\"method\" + 0.133*\"'\" + 0.045*\"reduct\" + 0.030*\"paramet\" + 0.027*\"effici\" + 0.017*\"improv\" + 0.016*\",\" + 0.016*\"gener\" + 0.014*\"shown\" + 0.013*\"show\"\n",
      "2022-02-23 14:33:11,558 : INFO : topic #98 (0.048): 0.357*\"algorithm\" + 0.246*\"(\" + 0.189*\")\" + 0.111*\"[\" + 0.051*\"])\" + 0.012*\"matrix\" + 0.012*\"function\" + 0.005*\"s22\" + 0.004*\"e4\" + 0.004*\"minim\"\n",
      "2022-02-23 14:33:11,560 : INFO : topic diff=0.250429, rho=0.253169\n",
      "2022-02-23 14:33:11,573 : INFO : PROGRESS: pass 14, at document #2000/3204\n",
      "2022-02-23 14:33:12,645 : INFO : optimized alpha [0.010934776, 0.013261395, 0.0115531, 0.012627044, 0.012203207, 0.010761969, 0.010854524, 0.012023082, 0.014157097, 0.011324615, 0.010351383, 0.012041747, 0.011469903, 0.012597052, 0.012082082, 0.011756173, 0.013648029, 0.01167551, 0.012109318, 0.011453089, 0.011806727, 0.013154191, 0.013844956, 0.012732214, 0.013426773, 0.012368794, 0.013290991, 0.011973591, 0.010615092, 0.010966234, 0.009702277, 0.012612659, 0.012108476, 0.011802649, 0.012942774, 0.012733975, 0.013485972, 0.012677097, 0.011203154, 0.014455645, 0.015378446, 0.010859159, 0.011011842, 0.011604802, 0.01104627, 0.012565028, 0.011668026, 0.017867358, 0.012347151, 0.012252189, 0.016649615, 0.014564154, 0.011528236, 0.010576836, 0.012358027, 0.011326581, 0.012352843, 0.013677453, 0.011617823, 0.012177993, 0.010771283, 0.012104167, 0.01457765, 0.010149928, 0.010714886, 0.013035829, 0.011505047, 0.016290175, 0.011222153, 0.013430071, 0.014177893, 0.011827624, 0.01355452, 0.012975976, 0.01208775, 0.012440073, 0.011523708, 0.012340522, 0.0110630235, 0.013525357, 0.011643549, 0.011360875, 0.012695067, 0.011615881, 0.013375538, 0.011565365, 0.012304677, 0.011753882, 0.014171753, 0.01379608, 0.019125436, 0.01736453, 0.015491378, 0.011788287, 0.011919091, 0.01176107, 0.017466964, 0.013861396, 0.05054532, 0.01344779]\n",
      "2022-02-23 14:33:12,653 : INFO : merging changes from 2000 documents into a model of 3204 documents\n",
      "2022-02-23 14:33:12,666 : INFO : topic #30 (0.010): 0.110*\"loop\" + 0.098*\"document\" + 0.056*\",\" + 0.048*\"invari\" + 0.041*\"access\" + 0.041*\"-\" + 0.040*\"index\" + 0.031*\"object\" + 0.030*\"legendr\" + 0.027*\"10\"\n",
      "2022-02-23 14:33:12,666 : INFO : topic #63 (0.010): 0.110*\"area\" + 0.104*\"read\" + 0.101*\"optimum\" + 0.076*\"write\" + 0.062*\"sourc\" + 0.052*\"time\" + 0.032*\"number\" + 0.028*\"expect\" + 0.022*\"/\" + 0.021*\",\"\n",
      "2022-02-23 14:33:12,668 : INFO : topic #47 (0.018): 0.371*\"(\" + 0.338*\")\" + 0.058*\"function\" + 0.043*\"1\" + 0.041*\";\" + 0.029*\"2\" + 0.021*\"gamma\" + 0.020*\"corrigendum\" + 0.013*\"s14\" + 0.012*\"nest\"\n",
      "2022-02-23 14:33:12,668 : INFO : topic #90 (0.019): 0.613*\"method\" + 0.129*\"'\" + 0.044*\"reduct\" + 0.028*\"paramet\" + 0.028*\"effici\" + 0.017*\"improv\" + 0.016*\",\" + 0.015*\"gener\" + 0.014*\"shown\" + 0.012*\"show\"\n",
      "2022-02-23 14:33:12,669 : INFO : topic #98 (0.051): 0.345*\"algorithm\" + 0.251*\"(\" + 0.181*\")\" + 0.112*\"[\" + 0.065*\"])\" + 0.012*\"matrix\" + 0.012*\"function\" + 0.005*\"s22\" + 0.004*\"e4\" + 0.004*\"f1\"\n",
      "2022-02-23 14:33:12,670 : INFO : topic diff=0.220773, rho=0.245426\n",
      "2022-02-23 14:33:13,853 : INFO : -6.456 per-word bound, 87.8 perplexity estimate based on a held-out corpus of 1204 documents with 49783 words\n",
      "2022-02-23 14:33:13,853 : INFO : PROGRESS: pass 14, at document #3204/3204\n",
      "2022-02-23 14:33:14,827 : INFO : optimized alpha [0.011049529, 0.0134787755, 0.011646476, 0.012763906, 0.012348912, 0.010804603, 0.0109231, 0.012139594, 0.014227604, 0.011406599, 0.0104408795, 0.0121178515, 0.011562811, 0.012775604, 0.012214357, 0.01191231, 0.013883663, 0.011799342, 0.012174433, 0.011535297, 0.0119316615, 0.01338562, 0.014006969, 0.012915822, 0.013652158, 0.012534606, 0.013359769, 0.012157746, 0.0107152285, 0.011063796, 0.009738896, 0.012760758, 0.012183081, 0.0119591905, 0.013098721, 0.012949466, 0.013663313, 0.012778576, 0.011299371, 0.014763245, 0.015588957, 0.010904738, 0.011126674, 0.011731053, 0.011174411, 0.012769942, 0.011755876, 0.01840628, 0.0124439085, 0.012476514, 0.016892506, 0.01478356, 0.01159485, 0.010639714, 0.012453241, 0.011483641, 0.012508975, 0.013839342, 0.0117085595, 0.012363006, 0.010861739, 0.012175874, 0.014834023, 0.010186768, 0.010781844, 0.0132340705, 0.0115663875, 0.016658993, 0.011351203, 0.013601344, 0.014259796, 0.011947065, 0.013759756, 0.013181703, 0.01221417, 0.012606535, 0.011589994, 0.012514557, 0.0111668315, 0.013755467, 0.011798513, 0.01148485, 0.012806338, 0.011745105, 0.01355082, 0.01167512, 0.012475214, 0.011895977, 0.014434482, 0.014060108, 0.019651163, 0.017775683, 0.015703673, 0.0118665155, 0.012051646, 0.011868717, 0.017815493, 0.013958433, 0.051151335, 0.013704392]\n",
      "2022-02-23 14:33:14,833 : INFO : merging changes from 1204 documents into a model of 3204 documents\n",
      "2022-02-23 14:33:14,845 : INFO : topic #30 (0.010): 0.127*\"loop\" + 0.098*\"document\" + 0.056*\"invari\" + 0.053*\",\" + 0.053*\"access\" + 0.039*\"-\" + 0.036*\"index\" + 0.034*\"object\" + 0.034*\"establish\" + 0.026*\"legendr\"\n",
      "2022-02-23 14:33:14,845 : INFO : topic #63 (0.010): 0.115*\"area\" + 0.113*\"optimum\" + 0.105*\"read\" + 0.076*\"write\" + 0.063*\"sourc\" + 0.057*\"time\" + 0.034*\"number\" + 0.030*\"expect\" + 0.021*\"futur\" + 0.021*\"develop\"\n",
      "2022-02-23 14:33:14,846 : INFO : topic #47 (0.018): 0.377*\"(\" + 0.341*\")\" + 0.055*\"function\" + 0.042*\";\" + 0.042*\"1\" + 0.027*\"2\" + 0.023*\"corrigendum\" + 0.021*\"gamma\" + 0.012*\"nest\" + 0.011*\"s14\"\n",
      "2022-02-23 14:33:14,847 : INFO : topic #90 (0.020): 0.614*\"method\" + 0.132*\"'\" + 0.045*\"reduct\" + 0.029*\"paramet\" + 0.027*\"effici\" + 0.017*\"improv\" + 0.015*\",\" + 0.014*\"shown\" + 0.014*\"gener\" + 0.013*\"show\"\n",
      "2022-02-23 14:33:14,848 : INFO : topic #98 (0.051): 0.356*\"algorithm\" + 0.247*\"(\" + 0.188*\")\" + 0.111*\"[\" + 0.051*\"])\" + 0.012*\"matrix\" + 0.012*\"function\" + 0.005*\"s22\" + 0.004*\"e4\" + 0.004*\"minim\"\n",
      "2022-02-23 14:33:14,849 : INFO : topic diff=0.226634, rho=0.245426\n",
      "2022-02-23 14:33:14,859 : INFO : PROGRESS: pass 15, at document #2000/3204\n",
      "2022-02-23 14:33:15,800 : INFO : optimized alpha [0.01104927, 0.013529414, 0.0116740065, 0.012841252, 0.012344439, 0.010840641, 0.010974306, 0.012160753, 0.014449515, 0.011426756, 0.010438077, 0.012171193, 0.011569623, 0.012867449, 0.012225075, 0.011921055, 0.01390279, 0.011849537, 0.012266818, 0.011598255, 0.011967432, 0.013373946, 0.014036612, 0.012942017, 0.013700287, 0.012546242, 0.013490827, 0.012208635, 0.010754059, 0.011053055, 0.009742781, 0.012780356, 0.012278186, 0.011973404, 0.013182205, 0.012996282, 0.0137133235, 0.012847352, 0.011299738, 0.014899182, 0.015826156, 0.010964123, 0.011117847, 0.011733601, 0.011206768, 0.012739134, 0.011857501, 0.018808717, 0.012521345, 0.012491485, 0.017166918, 0.014911775, 0.011620903, 0.010655815, 0.012546788, 0.011488147, 0.012528114, 0.013942713, 0.011765414, 0.012402361, 0.010899982, 0.012279763, 0.01487883, 0.010200179, 0.010832111, 0.013283758, 0.011647863, 0.01665066, 0.011381714, 0.013677873, 0.0144884745, 0.012081967, 0.013852744, 0.013186588, 0.012273616, 0.012691356, 0.0117034465, 0.012555239, 0.01114138, 0.013792509, 0.0117942095, 0.011483964, 0.012870519, 0.011736786, 0.013616271, 0.011696409, 0.012503813, 0.0119623095, 0.014553603, 0.014175556, 0.019971052, 0.017955147, 0.01595848, 0.011909851, 0.012040574, 0.011873379, 0.017911995, 0.014091615, 0.05391722, 0.01370604]\n",
      "2022-02-23 14:33:15,807 : INFO : merging changes from 2000 documents into a model of 3204 documents\n",
      "2022-02-23 14:33:15,818 : INFO : topic #30 (0.010): 0.112*\"loop\" + 0.099*\"document\" + 0.055*\",\" + 0.050*\"access\" + 0.049*\"invari\" + 0.040*\"index\" + 0.037*\"-\" + 0.034*\"object\" + 0.030*\"establish\" + 0.030*\"legendr\"\n",
      "2022-02-23 14:33:15,819 : INFO : topic #63 (0.010): 0.111*\"area\" + 0.107*\"read\" + 0.103*\"optimum\" + 0.077*\"write\" + 0.062*\"sourc\" + 0.054*\"time\" + 0.033*\"number\" + 0.030*\"expect\" + 0.021*\"futur\" + 0.021*\",\"\n",
      "2022-02-23 14:33:15,819 : INFO : topic #47 (0.019): 0.376*\"(\" + 0.343*\")\" + 0.057*\"function\" + 0.041*\"1\" + 0.040*\";\" + 0.028*\"2\" + 0.021*\"gamma\" + 0.020*\"corrigendum\" + 0.012*\"s14\" + 0.012*\"nest\"\n",
      "2022-02-23 14:33:15,820 : INFO : topic #90 (0.020): 0.621*\"method\" + 0.128*\"'\" + 0.043*\"reduct\" + 0.028*\"effici\" + 0.028*\"paramet\" + 0.018*\"improv\" + 0.015*\",\" + 0.014*\"shown\" + 0.014*\"gener\" + 0.012*\"show\"\n",
      "2022-02-23 14:33:15,821 : INFO : topic #98 (0.054): 0.344*\"algorithm\" + 0.251*\"(\" + 0.181*\")\" + 0.112*\"[\" + 0.065*\"])\" + 0.013*\"matrix\" + 0.012*\"function\" + 0.005*\"s22\" + 0.004*\"e4\" + 0.003*\"f1\"\n",
      "2022-02-23 14:33:15,822 : INFO : topic diff=0.200958, rho=0.238352\n",
      "2022-02-23 14:33:16,849 : INFO : -6.449 per-word bound, 87.4 perplexity estimate based on a held-out corpus of 1204 documents with 49783 words\n",
      "2022-02-23 14:33:16,850 : INFO : PROGRESS: pass 15, at document #3204/3204\n",
      "2022-02-23 14:33:17,727 : INFO : optimized alpha [0.011157229, 0.013748363, 0.011769951, 0.012970114, 0.0124846855, 0.010884542, 0.011039174, 0.012272317, 0.014517318, 0.011506977, 0.010531976, 0.012245526, 0.011660541, 0.013037869, 0.012354633, 0.012078835, 0.014134328, 0.011982774, 0.012330244, 0.011680883, 0.012092172, 0.013606559, 0.014192476, 0.013119604, 0.013919109, 0.0127088465, 0.013554886, 0.012392108, 0.010856358, 0.011150757, 0.009778749, 0.01292536, 0.012355748, 0.012126914, 0.013337664, 0.013210892, 0.013889795, 0.012949046, 0.011393895, 0.015212413, 0.016044859, 0.011019596, 0.011234753, 0.011859548, 0.011332421, 0.012932509, 0.011943268, 0.019367661, 0.012613352, 0.012717191, 0.017408805, 0.0151331145, 0.011688443, 0.010717377, 0.012644732, 0.011646762, 0.012686181, 0.014104038, 0.011854118, 0.012589195, 0.010988495, 0.012349615, 0.0151277585, 0.010236379, 0.010901817, 0.013475817, 0.011705392, 0.01702348, 0.011514968, 0.013845679, 0.014570306, 0.01221087, 0.014054369, 0.013383247, 0.012397401, 0.0128599545, 0.011772663, 0.012728566, 0.011245183, 0.014018669, 0.011955505, 0.011605309, 0.012984381, 0.01186097, 0.013790797, 0.011801506, 0.012678722, 0.012118409, 0.0148156425, 0.014438822, 0.020497443, 0.018365521, 0.016169598, 0.011979088, 0.012172765, 0.011978731, 0.018247759, 0.014186071, 0.0544168, 0.013977572]\n",
      "2022-02-23 14:33:17,737 : INFO : merging changes from 1204 documents into a model of 3204 documents\n",
      "2022-02-23 14:33:17,752 : INFO : topic #30 (0.010): 0.128*\"loop\" + 0.099*\"document\" + 0.062*\"access\" + 0.056*\"invari\" + 0.052*\",\" + 0.037*\"index\" + 0.036*\"establish\" + 0.036*\"object\" + 0.035*\"-\" + 0.027*\"legendr\"\n",
      "2022-02-23 14:33:17,753 : INFO : topic #63 (0.010): 0.116*\"area\" + 0.114*\"optimum\" + 0.108*\"read\" + 0.077*\"write\" + 0.063*\"sourc\" + 0.059*\"time\" + 0.034*\"number\" + 0.033*\"expect\" + 0.023*\"futur\" + 0.021*\"develop\"\n",
      "2022-02-23 14:33:17,755 : INFO : topic #47 (0.019): 0.381*\"(\" + 0.345*\")\" + 0.054*\"function\" + 0.040*\";\" + 0.040*\"1\" + 0.026*\"2\" + 0.023*\"corrigendum\" + 0.021*\"gamma\" + 0.012*\"nest\" + 0.011*\"s14\"\n",
      "2022-02-23 14:33:17,760 : INFO : topic #90 (0.020): 0.621*\"method\" + 0.130*\"'\" + 0.045*\"reduct\" + 0.028*\"paramet\" + 0.028*\"effici\" + 0.018*\"improv\" + 0.015*\",\" + 0.015*\"shown\" + 0.013*\"gener\" + 0.013*\"show\"\n",
      "2022-02-23 14:33:17,763 : INFO : topic #98 (0.054): 0.355*\"algorithm\" + 0.247*\"(\" + 0.188*\")\" + 0.112*\"[\" + 0.052*\"])\" + 0.012*\"matrix\" + 0.011*\"function\" + 0.005*\"s22\" + 0.004*\"e4\" + 0.004*\"minim\"\n",
      "2022-02-23 14:33:17,765 : INFO : topic diff=0.206698, rho=0.238352\n",
      "2022-02-23 14:33:17,777 : INFO : PROGRESS: pass 16, at document #2000/3204\n",
      "2022-02-23 14:33:18,897 : INFO : optimized alpha [0.011155636, 0.013795827, 0.011792795, 0.013054955, 0.012477252, 0.0109212585, 0.011091921, 0.012291648, 0.014741117, 0.011525495, 0.010534209, 0.012295002, 0.01166866, 0.0131296385, 0.012367918, 0.012081422, 0.014153879, 0.012036088, 0.012419494, 0.011748069, 0.012125714, 0.013592639, 0.014224684, 0.013143306, 0.013967305, 0.012718399, 0.01368369, 0.012438844, 0.010895663, 0.011140358, 0.009789662, 0.012942814, 0.012449116, 0.01214195, 0.013419464, 0.013257792, 0.013940028, 0.013021017, 0.011394349, 0.015356719, 0.01628312, 0.011081854, 0.011230007, 0.011863314, 0.011370642, 0.012910883, 0.012043094, 0.019782534, 0.012687839, 0.0127340425, 0.017692687, 0.015255432, 0.011714125, 0.010735848, 0.012736573, 0.011652148, 0.0127046285, 0.01420868, 0.01191124, 0.012625878, 0.011028519, 0.012458727, 0.015172653, 0.010249803, 0.010952402, 0.013525707, 0.011788121, 0.017018972, 0.0115460735, 0.013917207, 0.014797816, 0.012346735, 0.014148655, 0.013390686, 0.012455564, 0.0129431235, 0.011887013, 0.012757736, 0.011219126, 0.014059163, 0.011948082, 0.011601573, 0.013050316, 0.011855563, 0.013854678, 0.011822389, 0.012712353, 0.012194696, 0.014935898, 0.014555357, 0.020828439, 0.01853284, 0.016431037, 0.012022974, 0.012167522, 0.011983309, 0.01833462, 0.01431859, 0.057213344, 0.013986204]\n",
      "2022-02-23 14:33:18,904 : INFO : merging changes from 2000 documents into a model of 3204 documents\n",
      "2022-02-23 14:33:18,916 : INFO : topic #30 (0.010): 0.112*\"loop\" + 0.101*\"document\" + 0.057*\"access\" + 0.053*\",\" + 0.050*\"invari\" + 0.041*\"index\" + 0.037*\"object\" + 0.034*\"-\" + 0.033*\"establish\" + 0.030*\"legendr\"\n",
      "2022-02-23 14:33:18,916 : INFO : topic #63 (0.010): 0.112*\"area\" + 0.110*\"read\" + 0.104*\"optimum\" + 0.079*\"write\" + 0.061*\"sourc\" + 0.057*\"time\" + 0.033*\"number\" + 0.032*\"expect\" + 0.023*\"futur\" + 0.020*\"develop\"\n",
      "2022-02-23 14:33:18,917 : INFO : topic #47 (0.020): 0.380*\"(\" + 0.347*\")\" + 0.056*\"function\" + 0.039*\"1\" + 0.038*\";\" + 0.026*\"2\" + 0.021*\"gamma\" + 0.020*\"corrigendum\" + 0.012*\"s14\" + 0.011*\"nest\"\n",
      "2022-02-23 14:33:18,918 : INFO : topic #90 (0.021): 0.628*\"method\" + 0.126*\"'\" + 0.043*\"reduct\" + 0.029*\"effici\" + 0.027*\"paramet\" + 0.018*\"improv\" + 0.015*\",\" + 0.015*\"shown\" + 0.013*\"gener\" + 0.012*\"show\"\n",
      "2022-02-23 14:33:18,919 : INFO : topic #98 (0.057): 0.343*\"algorithm\" + 0.251*\"(\" + 0.181*\")\" + 0.113*\"[\" + 0.065*\"])\" + 0.013*\"matrix\" + 0.012*\"function\" + 0.005*\"s22\" + 0.004*\"e4\" + 0.003*\"f1\"\n",
      "2022-02-23 14:33:18,920 : INFO : topic diff=0.184727, rho=0.231857\n",
      "2022-02-23 14:33:20,213 : INFO : -6.443 per-word bound, 87.0 perplexity estimate based on a held-out corpus of 1204 documents with 49783 words\n",
      "2022-02-23 14:33:20,215 : INFO : PROGRESS: pass 16, at document #3204/3204\n",
      "2022-02-23 14:33:21,226 : INFO : optimized alpha [0.011265832, 0.014006021, 0.011886788, 0.013183716, 0.0126220165, 0.010962194, 0.01116394, 0.012398668, 0.014811922, 0.011601878, 0.010626298, 0.012370109, 0.011757796, 0.013299847, 0.01249977, 0.012238711, 0.014386971, 0.012164599, 0.012481387, 0.011831157, 0.012250342, 0.013824149, 0.014374662, 0.0133177545, 0.014185346, 0.012882968, 0.013743302, 0.012626594, 0.011002347, 0.011240523, 0.00982879, 0.01308494, 0.012529675, 0.012297368, 0.013571917, 0.013463991, 0.014110534, 0.013120533, 0.011488807, 0.015669903, 0.016494688, 0.01113185, 0.011340281, 0.011986802, 0.011496244, 0.013100849, 0.012133887, 0.020358173, 0.012785317, 0.012963965, 0.017937219, 0.015475905, 0.011778063, 0.010792032, 0.0128422165, 0.0118125295, 0.012862395, 0.014375141, 0.011998071, 0.012814676, 0.011119548, 0.012526847, 0.0154147055, 0.0102853775, 0.011024846, 0.013717099, 0.011853306, 0.017396245, 0.011672437, 0.014079148, 0.014868279, 0.012475674, 0.014349658, 0.013589141, 0.012574499, 0.013103888, 0.01195909, 0.012933031, 0.011320803, 0.014284486, 0.012118218, 0.011725046, 0.013156803, 0.011977315, 0.014025963, 0.011929993, 0.012881873, 0.012355389, 0.015203414, 0.014820925, 0.021367326, 0.018942658, 0.016637934, 0.012093135, 0.012299522, 0.012086564, 0.018657919, 0.014410628, 0.05761589, 0.014254048]\n",
      "2022-02-23 14:33:21,234 : INFO : merging changes from 1204 documents into a model of 3204 documents\n",
      "2022-02-23 14:33:21,246 : INFO : topic #30 (0.010): 0.128*\"loop\" + 0.100*\"document\" + 0.069*\"access\" + 0.056*\"invari\" + 0.051*\",\" + 0.038*\"object\" + 0.037*\"index\" + 0.037*\"establish\" + 0.032*\"-\" + 0.027*\"legendr\"\n",
      "2022-02-23 14:33:21,248 : INFO : topic #63 (0.010): 0.119*\"area\" + 0.114*\"optimum\" + 0.110*\"read\" + 0.079*\"write\" + 0.062*\"sourc\" + 0.062*\"time\" + 0.035*\"expect\" + 0.034*\"number\" + 0.025*\"futur\" + 0.021*\"develop\"\n",
      "2022-02-23 14:33:21,248 : INFO : topic #47 (0.020): 0.385*\"(\" + 0.349*\")\" + 0.053*\"function\" + 0.038*\";\" + 0.037*\"1\" + 0.025*\"2\" + 0.022*\"corrigendum\" + 0.020*\"gamma\" + 0.012*\"nest\" + 0.010*\"s14\"\n",
      "2022-02-23 14:33:21,250 : INFO : topic #90 (0.021): 0.628*\"method\" + 0.128*\"'\" + 0.045*\"reduct\" + 0.028*\"effici\" + 0.027*\"paramet\" + 0.018*\"improv\" + 0.015*\"shown\" + 0.015*\",\" + 0.013*\"show\" + 0.012*\"gener\"\n",
      "2022-02-23 14:33:21,250 : INFO : topic #98 (0.058): 0.354*\"algorithm\" + 0.247*\"(\" + 0.187*\")\" + 0.113*\"[\" + 0.053*\"])\" + 0.012*\"matrix\" + 0.011*\"function\" + 0.005*\"s22\" + 0.004*\"e4\" + 0.003*\"minim\"\n",
      "2022-02-23 14:33:21,251 : INFO : topic diff=0.190452, rho=0.231857\n",
      "2022-02-23 14:33:21,261 : INFO : PROGRESS: pass 17, at document #2000/3204\n",
      "2022-02-23 14:33:22,284 : INFO : optimized alpha [0.011265521, 0.01404884, 0.011911919, 0.013270041, 0.01262312, 0.0109983925, 0.0112157585, 0.012417584, 0.015037972, 0.011622759, 0.010629671, 0.012415869, 0.011764543, 0.013393085, 0.012511225, 0.012245116, 0.014403753, 0.012218295, 0.012569151, 0.011901147, 0.012285896, 0.0138096325, 0.014409371, 0.013346624, 0.014230478, 0.012899284, 0.013869993, 0.012676406, 0.011045903, 0.011234268, 0.009841941, 0.013103341, 0.012620066, 0.012307646, 0.013653601, 0.013511156, 0.01416429, 0.013192721, 0.011490643, 0.015819078, 0.01673229, 0.011187917, 0.011331759, 0.011989056, 0.011540175, 0.013079163, 0.0122348955, 0.02077178, 0.012862848, 0.012981225, 0.018220965, 0.015602989, 0.011807461, 0.010809096, 0.012933991, 0.0118174935, 0.012880225, 0.014479484, 0.012056894, 0.012851724, 0.011162618, 0.012634129, 0.015458016, 0.010299961, 0.011077041, 0.013768837, 0.011944114, 0.01739159, 0.0117015345, 0.014150695, 0.015096402, 0.012615466, 0.0144486325, 0.013597372, 0.012628678, 0.013185632, 0.01207446, 0.012961312, 0.0112967165, 0.014322017, 0.012110574, 0.0117199635, 0.013221526, 0.011969145, 0.014088388, 0.011951793, 0.01292193, 0.012440024, 0.015330109, 0.014935369, 0.021709528, 0.019117143, 0.016902484, 0.012128044, 0.012295704, 0.012091109, 0.018737676, 0.014542694, 0.06050916, 0.014256555]\n",
      "2022-02-23 14:33:22,292 : INFO : merging changes from 2000 documents into a model of 3204 documents\n",
      "2022-02-23 14:33:22,304 : INFO : topic #30 (0.010): 0.113*\"loop\" + 0.101*\"document\" + 0.063*\"access\" + 0.052*\",\" + 0.050*\"invari\" + 0.041*\"index\" + 0.038*\"object\" + 0.034*\"establish\" + 0.033*\"kind\" + 0.032*\"-\"\n",
      "2022-02-23 14:33:22,305 : INFO : topic #63 (0.010): 0.115*\"area\" + 0.112*\"read\" + 0.105*\"optimum\" + 0.081*\"write\" + 0.061*\"sourc\" + 0.059*\"time\" + 0.033*\"expect\" + 0.033*\"number\" + 0.025*\"futur\" + 0.020*\"develop\"\n",
      "2022-02-23 14:33:22,306 : INFO : topic #47 (0.021): 0.384*\"(\" + 0.350*\")\" + 0.055*\"function\" + 0.037*\"1\" + 0.036*\";\" + 0.026*\"2\" + 0.020*\"gamma\" + 0.019*\"corrigendum\" + 0.012*\"s14\" + 0.011*\"nest\"\n",
      "2022-02-23 14:33:22,307 : INFO : topic #90 (0.022): 0.633*\"method\" + 0.125*\"'\" + 0.043*\"reduct\" + 0.029*\"effici\" + 0.026*\"paramet\" + 0.019*\"improv\" + 0.015*\",\" + 0.015*\"shown\" + 0.012*\"show\" + 0.012*\"gener\"\n",
      "2022-02-23 14:33:22,309 : INFO : topic #98 (0.061): 0.343*\"algorithm\" + 0.251*\"(\" + 0.180*\")\" + 0.114*\"[\" + 0.066*\"])\" + 0.013*\"matrix\" + 0.011*\"function\" + 0.005*\"s22\" + 0.004*\"e4\" + 0.003*\"f1\"\n",
      "2022-02-23 14:33:22,311 : INFO : topic diff=0.171283, rho=0.225865\n",
      "2022-02-23 14:33:23,456 : INFO : -6.437 per-word bound, 86.6 perplexity estimate based on a held-out corpus of 1204 documents with 49783 words\n",
      "2022-02-23 14:33:23,456 : INFO : PROGRESS: pass 17, at document #3204/3204\n",
      "2022-02-23 14:33:24,424 : INFO : optimized alpha [0.011373701, 0.014258463, 0.012001842, 0.013401373, 0.012765317, 0.011040684, 0.01128216, 0.012522726, 0.015108783, 0.011699912, 0.010720104, 0.012487076, 0.011852036, 0.01356837, 0.012635927, 0.012404366, 0.014633261, 0.012349314, 0.012632039, 0.01198482, 0.012405933, 0.014032252, 0.014559378, 0.013523325, 0.014442599, 0.013058692, 0.0139357215, 0.01288052, 0.011159048, 0.011334724, 0.009880433, 0.0132477805, 0.012698904, 0.0124581205, 0.01380596, 0.013719456, 0.014331817, 0.013290247, 0.011587681, 0.016141523, 0.016940013, 0.01123909, 0.0114400545, 0.012112553, 0.011670232, 0.013263468, 0.0123238275, 0.021348607, 0.012960718, 0.013210625, 0.0184684, 0.015831811, 0.011865706, 0.010864278, 0.0130351735, 0.011975283, 0.013032835, 0.0146457, 0.01214201, 0.013042743, 0.011249873, 0.01270059, 0.015693393, 0.010336932, 0.011150138, 0.013959953, 0.012012424, 0.017760715, 0.011830098, 0.014309729, 0.0151700415, 0.012751642, 0.014635731, 0.013795292, 0.012745391, 0.013348756, 0.012144925, 0.013146067, 0.011400819, 0.014546695, 0.012280234, 0.011845601, 0.013330745, 0.012088692, 0.014256721, 0.012059633, 0.013101153, 0.01260773, 0.015603185, 0.015200643, 0.022249578, 0.019526651, 0.017111575, 0.012196808, 0.012427669, 0.012192455, 0.01905956, 0.014632496, 0.060877055, 0.014523622]\n",
      "2022-02-23 14:33:24,432 : INFO : merging changes from 1204 documents into a model of 3204 documents\n",
      "2022-02-23 14:33:24,445 : INFO : topic #30 (0.010): 0.128*\"loop\" + 0.101*\"document\" + 0.073*\"access\" + 0.056*\"invari\" + 0.050*\",\" + 0.039*\"object\" + 0.038*\"establish\" + 0.037*\"index\" + 0.030*\"-\" + 0.028*\"kind\"\n",
      "2022-02-23 14:33:24,446 : INFO : topic #63 (0.010): 0.121*\"area\" + 0.115*\"optimum\" + 0.112*\"read\" + 0.080*\"write\" + 0.063*\"time\" + 0.061*\"sourc\" + 0.037*\"expect\" + 0.034*\"number\" + 0.026*\"futur\" + 0.021*\"develop\"\n",
      "2022-02-23 14:33:24,446 : INFO : topic #47 (0.021): 0.389*\"(\" + 0.352*\")\" + 0.052*\"function\" + 0.036*\";\" + 0.036*\"1\" + 0.024*\"2\" + 0.022*\"corrigendum\" + 0.020*\"gamma\" + 0.011*\"nest\" + 0.010*\"s14\"\n",
      "2022-02-23 14:33:24,447 : INFO : topic #90 (0.022): 0.633*\"method\" + 0.126*\"'\" + 0.044*\"reduct\" + 0.028*\"effici\" + 0.027*\"paramet\" + 0.018*\"improv\" + 0.015*\"shown\" + 0.014*\",\" + 0.013*\"show\" + 0.011*\"gener\"\n",
      "2022-02-23 14:33:24,448 : INFO : topic #98 (0.061): 0.354*\"algorithm\" + 0.248*\"(\" + 0.186*\")\" + 0.114*\"[\" + 0.054*\"])\" + 0.012*\"matrix\" + 0.011*\"function\" + 0.005*\"s22\" + 0.004*\"e4\" + 0.003*\"minim\"\n",
      "2022-02-23 14:33:24,451 : INFO : topic diff=0.176671, rho=0.225865\n",
      "2022-02-23 14:33:24,460 : INFO : PROGRESS: pass 18, at document #2000/3204\n",
      "2022-02-23 14:33:25,478 : INFO : optimized alpha [0.011375898, 0.01430323, 0.012029189, 0.013484793, 0.012763403, 0.011077584, 0.0113319075, 0.012541253, 0.015333923, 0.011719224, 0.010726969, 0.012527894, 0.0118626505, 0.01366015, 0.012647037, 0.012411693, 0.014655344, 0.012406148, 0.012718415, 0.012056338, 0.012440808, 0.014018733, 0.01460126, 0.013546837, 0.014489633, 0.013070072, 0.014058942, 0.01293624, 0.011201782, 0.011329829, 0.009897901, 0.0132671, 0.01279207, 0.01247207, 0.013883121, 0.013768302, 0.014381166, 0.013359705, 0.011588245, 0.016299015, 0.017173395, 0.0112968385, 0.011432969, 0.0121132955, 0.011706837, 0.013241733, 0.012422037, 0.02176735, 0.013035497, 0.013228231, 0.018750066, 0.015956756, 0.01189209, 0.01088363, 0.013126995, 0.011981131, 0.013052982, 0.01475312, 0.012202541, 0.013086048, 0.011298466, 0.01281042, 0.015729824, 0.010354875, 0.01120394, 0.014010408, 0.01210189, 0.017756, 0.011862423, 0.014376644, 0.015399017, 0.012889881, 0.014726498, 0.013801323, 0.012798551, 0.013430634, 0.012260062, 0.013173367, 0.011378587, 0.0145892855, 0.012277736, 0.011841836, 0.013401699, 0.01208331, 0.014313106, 0.012082359, 0.01314017, 0.012693833, 0.015734868, 0.015313054, 0.022581507, 0.01969985, 0.017373905, 0.012231144, 0.012422465, 0.012196964, 0.019136598, 0.014764183, 0.0638258, 0.014529795]\n",
      "2022-02-23 14:33:25,485 : INFO : merging changes from 2000 documents into a model of 3204 documents\n",
      "2022-02-23 14:33:25,497 : INFO : topic #30 (0.010): 0.113*\"loop\" + 0.102*\"document\" + 0.067*\"access\" + 0.051*\",\" + 0.050*\"invari\" + 0.040*\"index\" + 0.040*\"object\" + 0.038*\"kind\" + 0.035*\"establish\" + 0.030*\"legendr\"\n",
      "2022-02-23 14:33:25,498 : INFO : topic #63 (0.010): 0.118*\"area\" + 0.115*\"read\" + 0.106*\"optimum\" + 0.082*\"write\" + 0.061*\"time\" + 0.060*\"sourc\" + 0.036*\"expect\" + 0.033*\"number\" + 0.026*\"futur\" + 0.020*\"develop\"\n",
      "2022-02-23 14:33:25,499 : INFO : topic #47 (0.022): 0.388*\"(\" + 0.353*\")\" + 0.054*\"function\" + 0.036*\"1\" + 0.034*\";\" + 0.025*\"2\" + 0.020*\"gamma\" + 0.019*\"corrigendum\" + 0.012*\"s14\" + 0.011*\"nest\"\n",
      "2022-02-23 14:33:25,500 : INFO : topic #90 (0.023): 0.638*\"method\" + 0.123*\"'\" + 0.043*\"reduct\" + 0.029*\"effici\" + 0.026*\"paramet\" + 0.019*\"improv\" + 0.015*\"shown\" + 0.015*\",\" + 0.012*\"show\" + 0.011*\"gener\"\n",
      "2022-02-23 14:33:25,500 : INFO : topic #98 (0.064): 0.343*\"algorithm\" + 0.251*\"(\" + 0.180*\")\" + 0.114*\"[\" + 0.066*\"])\" + 0.013*\"matrix\" + 0.011*\"function\" + 0.005*\"s22\" + 0.004*\"e4\" + 0.003*\"f1\"\n",
      "2022-02-23 14:33:25,502 : INFO : topic diff=0.159855, rho=0.220316\n",
      "2022-02-23 14:33:26,481 : INFO : -6.430 per-word bound, 86.2 perplexity estimate based on a held-out corpus of 1204 documents with 49783 words\n",
      "2022-02-23 14:33:26,482 : INFO : PROGRESS: pass 18, at document #3204/3204\n",
      "2022-02-23 14:33:27,318 : INFO : optimized alpha [0.01148646, 0.014507244, 0.012113041, 0.01361137, 0.012900843, 0.011119122, 0.011403258, 0.012644546, 0.015402202, 0.011795001, 0.010819805, 0.01260234, 0.011948596, 0.013843289, 0.012771921, 0.012572912, 0.014876124, 0.012537374, 0.012779952, 0.012142783, 0.01256101, 0.014245979, 0.01475394, 0.013720842, 0.014701417, 0.0132317385, 0.014120457, 0.013142711, 0.011315204, 0.011422263, 0.009941208, 0.013413919, 0.0128669655, 0.012624712, 0.01403041, 0.013971319, 0.014548501, 0.013460298, 0.011687861, 0.016624985, 0.017380524, 0.011349101, 0.011541481, 0.0122368345, 0.011843593, 0.013423115, 0.0125091905, 0.02234893, 0.013136356, 0.013457401, 0.019000474, 0.016170653, 0.011951526, 0.010941869, 0.013226131, 0.012143171, 0.013208081, 0.014921986, 0.012288262, 0.013276982, 0.011382105, 0.012877718, 0.015979193, 0.010393155, 0.011275693, 0.014196168, 0.0121732345, 0.018127028, 0.011995453, 0.01453296, 0.015472941, 0.013026279, 0.014918722, 0.014003906, 0.012913193, 0.013591418, 0.01232895, 0.013362694, 0.011480865, 0.014810837, 0.012451667, 0.011958749, 0.013506429, 0.012194076, 0.014478674, 0.0121838655, 0.013319321, 0.012866343, 0.01600514, 0.015578223, 0.023122106, 0.020116432, 0.017585628, 0.012296379, 0.012558936, 0.01229653, 0.019450188, 0.014854618, 0.06401248, 0.014790986]\n",
      "2022-02-23 14:33:27,326 : INFO : merging changes from 1204 documents into a model of 3204 documents\n",
      "2022-02-23 14:33:27,338 : INFO : topic #30 (0.010): 0.127*\"loop\" + 0.101*\"document\" + 0.077*\"access\" + 0.056*\"invari\" + 0.049*\",\" + 0.040*\"object\" + 0.038*\"establish\" + 0.037*\"index\" + 0.034*\"kind\" + 0.028*\"-\"\n",
      "2022-02-23 14:33:27,339 : INFO : topic #63 (0.010): 0.123*\"area\" + 0.115*\"optimum\" + 0.114*\"read\" + 0.082*\"write\" + 0.065*\"time\" + 0.060*\"sourc\" + 0.039*\"expect\" + 0.034*\"number\" + 0.026*\"futur\" + 0.021*\"develop\"\n",
      "2022-02-23 14:33:27,340 : INFO : topic #47 (0.022): 0.393*\"(\" + 0.356*\")\" + 0.051*\"function\" + 0.035*\";\" + 0.034*\"1\" + 0.024*\"2\" + 0.022*\"corrigendum\" + 0.020*\"gamma\" + 0.011*\"nest\" + 0.010*\"s14\"\n",
      "2022-02-23 14:33:27,341 : INFO : topic #90 (0.023): 0.638*\"method\" + 0.125*\"'\" + 0.044*\"reduct\" + 0.029*\"effici\" + 0.026*\"paramet\" + 0.018*\"improv\" + 0.015*\"shown\" + 0.014*\",\" + 0.013*\"show\" + 0.011*\"gener\"\n",
      "2022-02-23 14:33:27,341 : INFO : topic #98 (0.064): 0.353*\"algorithm\" + 0.248*\"(\" + 0.186*\")\" + 0.115*\"[\" + 0.054*\"])\" + 0.012*\"matrix\" + 0.011*\"function\" + 0.005*\"s22\" + 0.004*\"e4\" + 0.003*\"f1\"\n",
      "2022-02-23 14:33:27,343 : INFO : topic diff=0.164669, rho=0.220316\n",
      "2022-02-23 14:33:27,352 : INFO : PROGRESS: pass 19, at document #2000/3204\n",
      "2022-02-23 14:33:28,302 : INFO : optimized alpha [0.011489779, 0.01454916, 0.012141277, 0.0136949, 0.012900162, 0.011156735, 0.011454708, 0.012658616, 0.01563159, 0.011812796, 0.010832389, 0.012646602, 0.01195781, 0.013935202, 0.012784117, 0.012578405, 0.014897181, 0.012593287, 0.012865053, 0.012213227, 0.012596552, 0.0142287575, 0.014788526, 0.013747981, 0.014747116, 0.013245467, 0.0142464265, 0.0131971855, 0.011359602, 0.011422531, 0.009956376, 0.013429771, 0.01295878, 0.012636764, 0.014103142, 0.01401432, 0.0145998495, 0.013531513, 0.011688383, 0.01678046, 0.017613458, 0.011409653, 0.011538224, 0.012238775, 0.0118794255, 0.0133998925, 0.012608773, 0.022770345, 0.013212787, 0.013481262, 0.019280007, 0.016296996, 0.011980295, 0.010958649, 0.0133280745, 0.012147242, 0.013228945, 0.01502611, 0.012347816, 0.013322038, 0.011429969, 0.012984613, 0.016014181, 0.01041098, 0.011329865, 0.014245389, 0.012264025, 0.018130004, 0.012032197, 0.0146001475, 0.015699632, 0.013172777, 0.015012684, 0.0140092, 0.012966766, 0.01367053, 0.012449219, 0.013389052, 0.011460395, 0.014848955, 0.01244741, 0.011954946, 0.013579061, 0.0121900905, 0.014533846, 0.012206148, 0.013360209, 0.012955354, 0.016136618, 0.015687011, 0.023455597, 0.020284092, 0.017847732, 0.012336907, 0.01255772, 0.012301013, 0.019522527, 0.014989177, 0.06695319, 0.014797703]\n",
      "2022-02-23 14:33:28,310 : INFO : merging changes from 2000 documents into a model of 3204 documents\n",
      "2022-02-23 14:33:28,322 : INFO : topic #30 (0.010): 0.113*\"loop\" + 0.103*\"document\" + 0.071*\"access\" + 0.050*\"invari\" + 0.050*\",\" + 0.043*\"kind\" + 0.041*\"object\" + 0.039*\"index\" + 0.035*\"establish\" + 0.030*\"legendr\"\n",
      "2022-02-23 14:33:28,323 : INFO : topic #63 (0.010): 0.120*\"area\" + 0.116*\"read\" + 0.106*\"optimum\" + 0.084*\"write\" + 0.062*\"time\" + 0.060*\"sourc\" + 0.037*\"expect\" + 0.033*\"number\" + 0.026*\"futur\" + 0.020*\"develop\"\n",
      "2022-02-23 14:33:28,323 : INFO : topic #47 (0.023): 0.391*\"(\" + 0.357*\")\" + 0.053*\"function\" + 0.034*\"1\" + 0.033*\";\" + 0.024*\"2\" + 0.020*\"gamma\" + 0.019*\"corrigendum\" + 0.012*\"s14\" + 0.011*\"nest\"\n",
      "2022-02-23 14:33:28,325 : INFO : topic #90 (0.023): 0.643*\"method\" + 0.121*\"'\" + 0.042*\"reduct\" + 0.029*\"effici\" + 0.025*\"paramet\" + 0.019*\"improv\" + 0.015*\"shown\" + 0.014*\",\" + 0.012*\"show\" + 0.010*\"gener\"\n",
      "2022-02-23 14:33:28,326 : INFO : topic #98 (0.067): 0.342*\"algorithm\" + 0.252*\"(\" + 0.180*\")\" + 0.115*\"[\" + 0.067*\"])\" + 0.012*\"matrix\" + 0.011*\"function\" + 0.005*\"s22\" + 0.004*\"e4\" + 0.003*\"f1\"\n",
      "2022-02-23 14:33:28,328 : INFO : topic diff=0.150050, rho=0.215156\n",
      "2022-02-23 14:33:29,254 : INFO : -6.425 per-word bound, 85.9 perplexity estimate based on a held-out corpus of 1204 documents with 49783 words\n",
      "2022-02-23 14:33:29,255 : INFO : PROGRESS: pass 19, at document #3204/3204\n",
      "2022-02-23 14:33:29,942 : INFO : optimized alpha [0.011596479, 0.014750349, 0.0122214835, 0.013819341, 0.013033081, 0.011195565, 0.011522759, 0.01276245, 0.015703136, 0.011885179, 0.01092765, 0.012719782, 0.0120423, 0.014123548, 0.012911611, 0.0127373235, 0.0151255485, 0.012727196, 0.012925319, 0.012300317, 0.0127171185, 0.0144450655, 0.014938887, 0.013921885, 0.014956103, 0.01340943, 0.014306407, 0.013396691, 0.0114713805, 0.011521706, 0.010006119, 0.013569413, 0.013034492, 0.012784872, 0.014245533, 0.014214717, 0.014767183, 0.013627884, 0.011788462, 0.01710117, 0.017813873, 0.011467172, 0.011644991, 0.012360316, 0.01201424, 0.013585815, 0.012689812, 0.023351984, 0.013314249, 0.013715243, 0.019523017, 0.016513603, 0.012036557, 0.0110159805, 0.013427813, 0.012306996, 0.013376905, 0.015195041, 0.012434265, 0.013505829, 0.011522523, 0.013050403, 0.016257372, 0.010452472, 0.011398348, 0.014428588, 0.012333937, 0.01850341, 0.012169775, 0.014753916, 0.015773928, 0.013309449, 0.015199584, 0.014206495, 0.013077158, 0.013831612, 0.012516683, 0.013580709, 0.011560991, 0.015064936, 0.012618922, 0.01207212, 0.013677059, 0.012303355, 0.014696826, 0.01230596, 0.013546621, 0.013123575, 0.016404262, 0.015949419, 0.024009544, 0.020697063, 0.018059032, 0.012400973, 0.012692091, 0.012398936, 0.019828193, 0.015077593, 0.06707734, 0.01505845]\n",
      "2022-02-23 14:33:29,950 : INFO : merging changes from 1204 documents into a model of 3204 documents\n",
      "2022-02-23 14:33:29,961 : INFO : topic #30 (0.010): 0.125*\"loop\" + 0.100*\"document\" + 0.080*\"access\" + 0.055*\"invari\" + 0.048*\",\" + 0.042*\"kind\" + 0.041*\"object\" + 0.038*\"establish\" + 0.035*\"index\" + 0.026*\"content\"\n",
      "2022-02-23 14:33:29,962 : INFO : topic #63 (0.010): 0.124*\"area\" + 0.115*\"read\" + 0.115*\"optimum\" + 0.082*\"write\" + 0.067*\"time\" + 0.063*\"sourc\" + 0.040*\"expect\" + 0.034*\"number\" + 0.027*\"futur\" + 0.020*\"develop\"\n",
      "2022-02-23 14:33:29,963 : INFO : topic #47 (0.023): 0.396*\"(\" + 0.359*\")\" + 0.051*\"function\" + 0.033*\";\" + 0.032*\"1\" + 0.023*\"2\" + 0.022*\"corrigendum\" + 0.020*\"gamma\" + 0.011*\"nest\" + 0.010*\"s14\"\n",
      "2022-02-23 14:33:29,964 : INFO : topic #90 (0.024): 0.643*\"method\" + 0.123*\"'\" + 0.044*\"reduct\" + 0.029*\"effici\" + 0.026*\"paramet\" + 0.018*\"improv\" + 0.015*\"shown\" + 0.014*\",\" + 0.013*\"show\" + 0.010*\"semi\"\n",
      "2022-02-23 14:33:29,965 : INFO : topic #98 (0.067): 0.351*\"algorithm\" + 0.249*\"(\" + 0.186*\")\" + 0.116*\"[\" + 0.055*\"])\" + 0.012*\"matrix\" + 0.011*\"function\" + 0.005*\"s22\" + 0.004*\"e4\" + 0.003*\"f1\"\n",
      "2022-02-23 14:33:29,966 : INFO : topic diff=0.154541, rho=0.215156\n"
=======
      "2022-02-25 20:09:51,655 : INFO : adding document #0 to Dictionary(0 unique tokens: [])\n",
      "2022-02-25 20:09:51,759 : INFO : built Dictionary(5937 unique tokens: ['-', 'algebra', 'intern', 'languag', 'preliminari']...) from 3204 documents (total 115969 corpus positions)\n",
      "2022-02-25 20:09:51,765 : INFO : discarding 4740 tokens: [('repeat', 8), ('glossari', 7), ('inspect', 8), ('uncol', 2), ('rung', 9), ('secant', 2), ('.', 1603), ('acceler', 6), ('diverg', 3), ('induc', 9)]...\n",
      "2022-02-25 20:09:51,765 : INFO : keeping 1197 tokens which were in no less than 10 and no more than 1602 (=50.0%) documents\n",
      "2022-02-25 20:09:51,768 : INFO : resulting dictionary: Dictionary(1197 unique tokens: ['-', 'algebra', 'intern', 'languag', 'preliminari']...)\n",
      "2022-02-25 20:09:51,825 : INFO : using autotuned alpha, starting with [0.01, 0.01, 0.01, 0.01, 0.01, 0.01, 0.01, 0.01, 0.01, 0.01, 0.01, 0.01, 0.01, 0.01, 0.01, 0.01, 0.01, 0.01, 0.01, 0.01, 0.01, 0.01, 0.01, 0.01, 0.01, 0.01, 0.01, 0.01, 0.01, 0.01, 0.01, 0.01, 0.01, 0.01, 0.01, 0.01, 0.01, 0.01, 0.01, 0.01, 0.01, 0.01, 0.01, 0.01, 0.01, 0.01, 0.01, 0.01, 0.01, 0.01, 0.01, 0.01, 0.01, 0.01, 0.01, 0.01, 0.01, 0.01, 0.01, 0.01, 0.01, 0.01, 0.01, 0.01, 0.01, 0.01, 0.01, 0.01, 0.01, 0.01, 0.01, 0.01, 0.01, 0.01, 0.01, 0.01, 0.01, 0.01, 0.01, 0.01, 0.01, 0.01, 0.01, 0.01, 0.01, 0.01, 0.01, 0.01, 0.01, 0.01, 0.01, 0.01, 0.01, 0.01, 0.01, 0.01, 0.01, 0.01, 0.01, 0.01]\n",
      "2022-02-25 20:09:51,826 : INFO : using serial LDA version on this node\n",
      "2022-02-25 20:09:51,836 : INFO : running online (multi-pass) LDA training, 100 topics, 20 passes over the supplied corpus of 3204 documents, updating model once every 2000 documents, evaluating perplexity every 3204 documents, iterating 400x with a convergence threshold of 0.001000\n",
      "2022-02-25 20:09:51,836 : INFO : PROGRESS: pass 0, at document #2000/3204\n",
      "2022-02-25 20:09:53,490 : INFO : optimized alpha [0.009779, 0.009877313, 0.009784047, 0.009758278, 0.009891938, 0.009825507, 0.00983057, 0.009789341, 0.009789182, 0.009835456, 0.009794334, 0.009789188, 0.009784236, 0.009789426, 0.009846495, 0.009893166, 0.009789427, 0.009877655, 0.009923866, 0.009846342, 0.009784167, 0.009819942, 0.0097943675, 0.009898663, 0.009809986, 0.009758278, 0.009825542, 0.010008014, 0.009794398, 0.009794515, 0.009795387, 0.009773809, 0.00984124, 0.0099138515, 0.009945355, 0.00983552, 0.00978961, 0.00987685, 0.009835563, 0.009861763, 0.009836101, 0.009841451, 0.0098347785, 0.009837409, 0.009882437, 0.009804705, 0.009830389, 0.009840005, 0.009773809, 0.009799404, 0.009820034, 0.009914026, 0.0098782675, 0.009789121, 0.009846093, 0.009804973, 0.009820342, 0.009820143, 0.009840126, 0.009835769, 0.009826055, 0.009815012, 0.00979475, 0.009789262, 0.009789051, 0.009794497, 0.009814911, 0.009830636, 0.009794712, 0.009784075, 0.0098100845, 0.009794423, 0.009784139, 0.009778886, 0.009840355, 0.009991998, 0.009794558, 0.009871355, 0.009768657, 0.009897197, 0.009783959, 0.009815159, 0.009825468, 0.009881844, 0.009851073, 0.009903776, 0.00987803, 0.009826074, 0.009815085, 0.00980983, 0.009851219, 0.009819491, 0.009851, 0.00981991, 0.00982505, 0.009805057, 0.009820483, 0.009799684, 0.010002897, 0.009789205]\n",
      "2022-02-25 20:09:53,495 : INFO : merging changes from 2000 documents into a model of 3204 documents\n",
      "2022-02-25 20:09:53,505 : INFO : topic #69 (0.010): 0.057*\",\" + 0.038*\"analyz\" + 0.038*\"-\" + 0.029*\"predict\" + 0.029*\"techniqu\" + 0.019*\"point\" + 0.019*\"notat\" + 0.019*\"path\" + 0.019*\"elimin\" + 0.019*\"oper\"\n",
      "2022-02-25 20:09:53,505 : INFO : topic #78 (0.010): 0.050*\"program\" + 0.050*\"tabl\" + 0.050*\"symbol\" + 0.050*\"gener\" + 0.033*\"recurs\" + 0.033*\"organ\" + 0.033*\"compil\" + 0.033*\"featur\" + 0.033*\"dimension\" + 0.033*\"-\"\n",
      "2022-02-25 20:09:53,506 : INFO : topic #34 (0.010): 0.075*\",\" + 0.036*\"program\" + 0.035*\"comput\" + 0.018*\"system\" + 0.018*\"-\" + 0.011*\"present\" + 0.011*\"\"\" + 0.010*\"gener\" + 0.009*\"time\" + 0.009*\"method\"\n",
      "2022-02-25 20:09:53,506 : INFO : topic #75 (0.010): 0.078*\",\" + 0.034*\"-\" + 0.025*\"(\" + 0.019*\")\" + 0.014*\"number\" + 0.013*\"problem\" + 0.012*\"comput\" + 0.012*\"program\" + 0.011*\"system\" + 0.011*\"set\"\n",
      "2022-02-25 20:09:53,507 : INFO : topic #98 (0.010): 0.067*\",\" + 0.032*\"-\" + 0.029*\"comput\" + 0.026*\"system\" + 0.018*\"program\" + 0.016*\"data\" + 0.013*\"time\" + 0.013*\"gener\" + 0.011*\"process\" + 0.009*\"(\"\n",
      "2022-02-25 20:09:53,507 : INFO : topic diff=82.965858, rho=1.000000\n",
      "2022-02-25 20:09:54,528 : INFO : -7.279 per-word bound, 155.4 perplexity estimate based on a held-out corpus of 1204 documents with 49783 words\n",
      "2022-02-25 20:09:54,529 : INFO : PROGRESS: pass 0, at document #3204/3204\n",
      "2022-02-25 20:09:55,375 : INFO : optimized alpha [0.010001055, 0.010013348, 0.009772241, 0.0094969785, 0.009986458, 0.0099549405, 0.009794968, 0.010307305, 0.009888255, 0.010140198, 0.009893689, 0.009853823, 0.009825494, 0.00991869, 0.0100068655, 0.01022029, 0.010018073, 0.009941679, 0.010282473, 0.009964853, 0.009971311, 0.010001636, 0.0099457465, 0.010053294, 0.0097448155, 0.0094969785, 0.009979056, 0.010490973, 0.009811807, 0.00980725, 0.009983643, 0.009756739, 0.010178375, 0.010213294, 0.010177789, 0.009829344, 0.0099606225, 0.009982224, 0.009863949, 0.009986532, 0.01009075, 0.010173642, 0.009852201, 0.009925147, 0.009893353, 0.009892345, 0.009747302, 0.009797841, 0.009925472, 0.0099625485, 0.009772002, 0.009901352, 0.010285067, 0.009800037, 0.009886497, 0.009982386, 0.009967457, 0.009796344, 0.01000364, 0.009948076, 0.01005707, 0.0101697575, 0.010241162, 0.00986568, 0.009776248, 0.009840851, 0.00995475, 0.009859965, 0.010000824, 0.009910603, 0.0104755275, 0.0098824, 0.009859781, 0.009801975, 0.010189364, 0.0104246065, 0.010030022, 0.010071852, 0.0097795855, 0.010079679, 0.009696141, 0.009892436, 0.0098665245, 0.010120336, 0.009908409, 0.009974724, 0.010248128, 0.010097745, 0.009944231, 0.009914401, 0.009892186, 0.00993312, 0.01003244, 0.009719373, 0.009706692, 0.009870538, 0.010121945, 0.00989998, 0.010219537, 0.009840572]\n",
      "2022-02-25 20:09:55,380 : INFO : merging changes from 1204 documents into a model of 3204 documents\n",
      "2022-02-25 20:09:55,388 : INFO : topic #3 (0.009): 0.001*\"implic\" + 0.001*\"favor\" + 0.001*\"adapt\" + 0.001*\"polygon\" + 0.001*\"stage\" + 0.001*\"situat\" + 0.001*\"respons\" + 0.001*\"industri\" + 0.001*\"regress\" + 0.001*\"drive\"\n",
      "2022-02-25 20:09:55,389 : INFO : topic #25 (0.009): 0.001*\"implic\" + 0.001*\"favor\" + 0.001*\"adapt\" + 0.001*\"polygon\" + 0.001*\"stage\" + 0.001*\"situat\" + 0.001*\"respons\" + 0.001*\"industri\" + 0.001*\"regress\" + 0.001*\"drive\"\n",
      "2022-02-25 20:09:55,389 : INFO : topic #75 (0.010): 0.087*\",\" + 0.029*\"tree\" + 0.029*\"-\" + 0.021*\"averag\" + 0.020*\"(\" + 0.016*\")\" + 0.015*\"search\" + 0.015*\"set\" + 0.014*\"number\" + 0.012*\"problem\"\n",
      "2022-02-25 20:09:55,389 : INFO : topic #70 (0.010): 0.066*\"graph\" + 0.065*\",\" + 0.064*\"algorithm\" + 0.052*\"(\" + 0.043*\")\" + 0.039*\"tree\" + 0.025*\"]\" + 0.025*\"[\" + 0.022*\"bound\" + 0.021*\"2\"\n",
      "2022-02-25 20:09:55,390 : INFO : topic #27 (0.010): 0.083*\",\" + 0.033*\"-\" + 0.018*\"comput\" + 0.017*\"time\" + 0.016*\"system\" + 0.012*\"simul\" + 0.011*\"process\" + 0.011*\"order\" + 0.011*\"structur\" + 0.010*\"(\"\n",
      "2022-02-25 20:09:55,390 : INFO : topic diff=0.720331, rho=0.707107\n",
      "2022-02-25 20:09:55,398 : INFO : PROGRESS: pass 1, at document #2000/3204\n",
      "2022-02-25 20:09:56,282 : INFO : optimized alpha [0.010074238, 0.009924259, 0.009849259, 0.009349082, 0.00991467, 0.009938601, 0.009815476, 0.010243554, 0.009899312, 0.010153316, 0.009862222, 0.009810147, 0.0098194545, 0.009834405, 0.009931752, 0.010187151, 0.009974171, 0.009844137, 0.010212107, 0.0098746605, 0.009944121, 0.010124405, 0.0099288095, 0.010007225, 0.009757821, 0.009349082, 0.009952584, 0.0104111, 0.009787401, 0.009795813, 0.009911167, 0.009748568, 0.010102024, 0.010122712, 0.010143028, 0.009818262, 0.009891314, 0.009891366, 0.009860033, 0.009967855, 0.010040633, 0.010124513, 0.009798877, 0.0098888455, 0.009818088, 0.009871696, 0.009718683, 0.009781506, 0.009943805, 0.010145423, 0.009716812, 0.0098130815, 0.010299283, 0.010289793, 0.009792679, 0.010107885, 0.00993065, 0.009771882, 0.009960193, 0.009927423, 0.010034336, 0.010139247, 0.010189888, 0.009869154, 0.009762357, 0.009831514, 0.00991706, 0.009737766, 0.010024322, 0.009881171, 0.010498229, 0.009899106, 0.009957796, 0.009829623, 0.010112314, 0.010323296, 0.00998032, 0.010075865, 0.009872563, 0.010024173, 0.009648083, 0.010020822, 0.009786385, 0.0100754695, 0.009895979, 0.009972957, 0.010190041, 0.010014738, 0.009907288, 0.009859042, 0.009835262, 0.009926293, 0.010020499, 0.009950148, 0.009947622, 0.009870241, 0.010040979, 0.009877493, 0.0101459725, 0.009830806]\n"
     ]
    },
    {
     "name": "stderr",
     "output_type": "stream",
     "text": [
      "2022-02-25 20:09:56,288 : INFO : merging changes from 2000 documents into a model of 3204 documents\n",
      "2022-02-25 20:09:56,297 : INFO : topic #25 (0.009): 0.001*\"implic\" + 0.001*\"favor\" + 0.001*\"adapt\" + 0.001*\"polygon\" + 0.001*\"stage\" + 0.001*\"situat\" + 0.001*\"respons\" + 0.001*\"industri\" + 0.001*\"regress\" + 0.001*\"drive\"\n",
      "2022-02-25 20:09:56,298 : INFO : topic #3 (0.009): 0.001*\"implic\" + 0.001*\"favor\" + 0.001*\"adapt\" + 0.001*\"polygon\" + 0.001*\"stage\" + 0.001*\"situat\" + 0.001*\"respons\" + 0.001*\"industri\" + 0.001*\"regress\" + 0.001*\"drive\"\n",
      "2022-02-25 20:09:56,298 : INFO : topic #52 (0.010): 0.057*\",\" + 0.047*\"-\" + 0.047*\"system\" + 0.045*\"languag\" + 0.032*\"program\" + 0.016*\"data\" + 0.014*\"machin\" + 0.014*\"oper\" + 0.014*\"process\" + 0.014*\"interact\"\n",
      "2022-02-25 20:09:56,299 : INFO : topic #27 (0.010): 0.086*\",\" + 0.033*\"-\" + 0.019*\"comput\" + 0.017*\"time\" + 0.016*\"system\" + 0.015*\"simul\" + 0.012*\"process\" + 0.011*\"order\" + 0.010*\"structur\" + 0.010*\"gener\"\n",
      "2022-02-25 20:09:56,299 : INFO : topic #70 (0.010): 0.071*\"algorithm\" + 0.060*\",\" + 0.060*\"(\" + 0.058*\"graph\" + 0.048*\")\" + 0.032*\"tree\" + 0.026*\"2\" + 0.025*\"[\" + 0.022*\"function\" + 0.020*\"]\"\n",
      "2022-02-25 20:09:56,300 : INFO : topic diff=0.288544, rho=0.526900\n",
      "2022-02-25 20:09:57,285 : INFO : -6.899 per-word bound, 119.3 perplexity estimate based on a held-out corpus of 1204 documents with 49783 words\n",
      "2022-02-25 20:09:57,286 : INFO : PROGRESS: pass 1, at document #3204/3204\n",
      "2022-02-25 20:09:58,138 : INFO : optimized alpha [0.010325211, 0.010021763, 0.009932228, 0.009171782, 0.009946008, 0.010087901, 0.009881532, 0.010666874, 0.010069117, 0.010373721, 0.010037333, 0.010080957, 0.009964458, 0.009975165, 0.010064726, 0.010383312, 0.010230022, 0.009888923, 0.010422922, 0.009972474, 0.010234632, 0.010318046, 0.010094309, 0.010100068, 0.00972915, 0.009171782, 0.010045016, 0.010590205, 0.0099152615, 0.0099154, 0.010140381, 0.009828836, 0.010333409, 0.010342269, 0.010285169, 0.009867477, 0.010094245, 0.009961687, 0.009912878, 0.010086836, 0.010285487, 0.010301916, 0.009904666, 0.009950283, 0.009841664, 0.00991088, 0.0097808605, 0.009817511, 0.01013172, 0.01036952, 0.009744943, 0.009819998, 0.010641549, 0.010487031, 0.009819915, 0.010326023, 0.010084682, 0.00985127, 0.010095233, 0.010077963, 0.010202741, 0.010514553, 0.010533935, 0.009978983, 0.009815063, 0.009923395, 0.010042846, 0.009775263, 0.010290169, 0.010084787, 0.010960727, 0.010083024, 0.010118696, 0.009929543, 0.010434855, 0.010566785, 0.0102097355, 0.010239086, 0.009951042, 0.010155531, 0.009707028, 0.010250385, 0.009836233, 0.0102717765, 0.009970021, 0.010034739, 0.010400769, 0.010285407, 0.010074329, 0.009981212, 0.009880457, 0.010117108, 0.010133139, 0.009930961, 0.009959699, 0.01001684, 0.010307485, 0.010044822, 0.010184433, 0.009973983]\n",
      "2022-02-25 20:09:58,144 : INFO : merging changes from 1204 documents into a model of 3204 documents\n",
      "2022-02-25 20:09:58,153 : INFO : topic #25 (0.009): 0.001*\"implic\" + 0.001*\"favor\" + 0.001*\"adapt\" + 0.001*\"polygon\" + 0.001*\"stage\" + 0.001*\"situat\" + 0.001*\"respons\" + 0.001*\"industri\" + 0.001*\"regress\" + 0.001*\"drive\"\n",
      "2022-02-25 20:09:58,153 : INFO : topic #3 (0.009): 0.001*\"implic\" + 0.001*\"favor\" + 0.001*\"adapt\" + 0.001*\"polygon\" + 0.001*\"stage\" + 0.001*\"situat\" + 0.001*\"respons\" + 0.001*\"industri\" + 0.001*\"regress\" + 0.001*\"drive\"\n",
      "2022-02-25 20:09:58,154 : INFO : topic #7 (0.011): 0.107*\"tabl\" + 0.058*\"proof\" + 0.055*\",\" + 0.052*\"prove\" + 0.051*\"decis\" + 0.036*\"method\" + 0.034*\"program\" + 0.031*\"theorem\" + 0.030*\"-\" + 0.028*\"entri\"\n",
      "2022-02-25 20:09:58,155 : INFO : topic #52 (0.011): 0.063*\",\" + 0.057*\"system\" + 0.046*\"-\" + 0.045*\"languag\" + 0.034*\"program\" + 0.019*\"interact\" + 0.018*\"level\" + 0.017*\"softwar\" + 0.017*\"oper\" + 0.015*\"machin\"\n",
      "2022-02-25 20:09:58,155 : INFO : topic #70 (0.011): 0.078*\"algorithm\" + 0.071*\"graph\" + 0.063*\"(\" + 0.059*\",\" + 0.050*\")\" + 0.036*\"tree\" + 0.028*\"2\" + 0.024*\"bound\" + 0.024*\"1\" + 0.021*\"minim\"\n",
      "2022-02-25 20:09:58,156 : INFO : topic diff=0.403417, rho=0.526900\n",
      "2022-02-25 20:09:58,163 : INFO : PROGRESS: pass 2, at document #2000/3204\n",
      "2022-02-25 20:09:59,029 : INFO : optimized alpha [0.010478419, 0.009960321, 0.010061647, 0.009050904, 0.009898553, 0.010108368, 0.009969585, 0.010639749, 0.010110611, 0.010376019, 0.010027435, 0.010103506, 0.010000599, 0.009912504, 0.010015006, 0.0103549, 0.0102297645, 0.009837799, 0.010386234, 0.009907903, 0.010263297, 0.010421698, 0.0101093035, 0.0100885555, 0.009783132, 0.009050904, 0.010057466, 0.01053102, 0.009944953, 0.009942769, 0.010095828, 0.009838158, 0.0102736605, 0.010272787, 0.010273297, 0.009851202, 0.010060161, 0.0098805195, 0.009893485, 0.0100916, 0.010267965, 0.010296048, 0.009883459, 0.009916313, 0.00978658, 0.009923795, 0.009801954, 0.009831502, 0.010204008, 0.010586496, 0.009709302, 0.009754089, 0.010704247, 0.0112801, 0.009755819, 0.010546804, 0.010082375, 0.009850943, 0.010082558, 0.010087531, 0.010217622, 0.010487426, 0.010511727, 0.010033461, 0.009844551, 0.009968675, 0.010023515, 0.009688899, 0.010357402, 0.010078465, 0.010969851, 0.01014865, 0.010233834, 0.0099979695, 0.010377774, 0.010467359, 0.010178086, 0.010228948, 0.010083045, 0.010117826, 0.009683525, 0.010447059, 0.009781197, 0.01024759, 0.0099945115, 0.010092799, 0.010362461, 0.010219015, 0.010062133, 0.009943818, 0.009847953, 0.01011712, 0.010136133, 0.010316634, 0.010193063, 0.010044605, 0.0102502955, 0.010083608, 0.010113944, 0.010009163]\n",
      "2022-02-25 20:09:59,034 : INFO : merging changes from 2000 documents into a model of 3204 documents\n",
      "2022-02-25 20:09:59,043 : INFO : topic #25 (0.009): 0.001*\"implic\" + 0.001*\"favor\" + 0.001*\"adapt\" + 0.001*\"polygon\" + 0.001*\"stage\" + 0.001*\"situat\" + 0.001*\"respons\" + 0.001*\"industri\" + 0.001*\"regress\" + 0.001*\"drive\"\n",
      "2022-02-25 20:09:59,044 : INFO : topic #3 (0.009): 0.001*\"implic\" + 0.001*\"favor\" + 0.001*\"adapt\" + 0.001*\"polygon\" + 0.001*\"stage\" + 0.001*\"situat\" + 0.001*\"respons\" + 0.001*\"industri\" + 0.001*\"regress\" + 0.001*\"drive\"\n",
      "2022-02-25 20:09:59,045 : INFO : topic #52 (0.011): 0.065*\",\" + 0.058*\"system\" + 0.050*\"-\" + 0.049*\"languag\" + 0.037*\"program\" + 0.017*\"machin\" + 0.017*\"interact\" + 0.017*\"oper\" + 0.015*\"level\" + 0.014*\"process\"\n",
      "2022-02-25 20:09:59,045 : INFO : topic #70 (0.011): 0.077*\"algorithm\" + 0.067*\"graph\" + 0.063*\"(\" + 0.057*\",\" + 0.049*\")\" + 0.032*\"2\" + 0.031*\"tree\" + 0.026*\"1\" + 0.023*\"function\" + 0.022*\"bound\"\n",
      "2022-02-25 20:09:59,046 : INFO : topic #53 (0.011): 0.245*\"(\" + 0.230*\")\" + 0.185*\"algorithm\" + 0.046*\"polynomi\" + 0.025*\"squar\" + 0.024*\"root\" + 0.019*\"[\" + 0.019*\"standard\" + 0.017*\"symmetr\" + 0.017*\"interchang\"\n",
      "2022-02-25 20:09:59,047 : INFO : topic diff=0.380132, rho=0.466151\n",
      "2022-02-25 20:09:59,967 : INFO : -6.778 per-word bound, 109.7 perplexity estimate based on a held-out corpus of 1204 documents with 49783 words\n",
      "2022-02-25 20:09:59,968 : INFO : PROGRESS: pass 2, at document #3204/3204\n",
      "2022-02-25 20:10:00,767 : INFO : optimized alpha [0.010728027, 0.010090379, 0.0101852985, 0.008905148, 0.00993168, 0.0102450475, 0.010113197, 0.011043535, 0.010265489, 0.010576711, 0.010258206, 0.010382262, 0.010180661, 0.010069095, 0.010129575, 0.010497075, 0.01042291, 0.009890774, 0.010553422, 0.009999162, 0.010589326, 0.010569356, 0.010268538, 0.01015521, 0.009792881, 0.008905148, 0.010151456, 0.010652683, 0.01014459, 0.010119067, 0.010308685, 0.009936705, 0.01046793, 0.010484409, 0.010419933, 0.009891699, 0.010288666, 0.00995966, 0.009979946, 0.010237073, 0.010503045, 0.0104576, 0.010035565, 0.009971617, 0.009843965, 0.009962895, 0.009899365, 0.00991776, 0.010379729, 0.0108447885, 0.009769884, 0.009793297, 0.011034814, 0.0117694205, 0.009777934, 0.010803829, 0.010223407, 0.009960206, 0.0102142645, 0.0102296155, 0.010371474, 0.010875507, 0.0108338855, 0.010138455, 0.009933655, 0.010093102, 0.0101313805, 0.009727815, 0.010616362, 0.010279702, 0.011363607, 0.01033229, 0.010384511, 0.010093865, 0.0106963385, 0.010688548, 0.010402633, 0.010374286, 0.01022666, 0.010278481, 0.009804197, 0.010685882, 0.009880374, 0.010442846, 0.010107015, 0.010159176, 0.010545855, 0.0104771685, 0.010234647, 0.0100839455, 0.009889308, 0.010299145, 0.010251771, 0.010293891, 0.0102331, 0.0101992, 0.010528873, 0.010248402, 0.0101456195, 0.010156172]\n"
     ]
    },
    {
     "name": "stderr",
     "output_type": "stream",
     "text": [
      "2022-02-25 20:10:00,773 : INFO : merging changes from 1204 documents into a model of 3204 documents\n",
      "2022-02-25 20:10:00,781 : INFO : topic #3 (0.009): 0.001*\"implic\" + 0.001*\"favor\" + 0.001*\"adapt\" + 0.001*\"polygon\" + 0.001*\"stage\" + 0.001*\"situat\" + 0.001*\"respons\" + 0.001*\"industri\" + 0.001*\"regress\" + 0.001*\"drive\"\n",
      "2022-02-25 20:10:00,782 : INFO : topic #25 (0.009): 0.001*\"implic\" + 0.001*\"favor\" + 0.001*\"adapt\" + 0.001*\"polygon\" + 0.001*\"stage\" + 0.001*\"situat\" + 0.001*\"respons\" + 0.001*\"industri\" + 0.001*\"regress\" + 0.001*\"drive\"\n",
      "2022-02-25 20:10:00,782 : INFO : topic #7 (0.011): 0.126*\"tabl\" + 0.065*\"decis\" + 0.060*\"proof\" + 0.054*\"prove\" + 0.054*\",\" + 0.038*\"method\" + 0.038*\"program\" + 0.033*\"theorem\" + 0.030*\"entri\" + 0.027*\"-\"\n",
      "2022-02-25 20:10:00,782 : INFO : topic #70 (0.011): 0.081*\"algorithm\" + 0.080*\"graph\" + 0.062*\"(\" + 0.058*\",\" + 0.047*\")\" + 0.034*\"2\" + 0.029*\"tree\" + 0.029*\"1\" + 0.028*\"bound\" + 0.023*\"minim\"\n",
      "2022-02-25 20:10:00,783 : INFO : topic #53 (0.012): 0.275*\"(\" + 0.259*\")\" + 0.187*\"algorithm\" + 0.035*\"polynomi\" + 0.020*\"squar\" + 0.019*\"root\" + 0.016*\"[\" + 0.016*\"symmetr\" + 0.014*\"standard\" + 0.014*\"interpol\"\n",
      "2022-02-25 20:10:00,783 : INFO : topic diff=0.508344, rho=0.466151\n",
      "2022-02-25 20:10:00,790 : INFO : PROGRESS: pass 3, at document #2000/3204\n",
      "2022-02-25 20:10:01,600 : INFO : optimized alpha [0.010925647, 0.010047651, 0.010327808, 0.008802955, 0.009892324, 0.010276255, 0.010217145, 0.011052033, 0.010326616, 0.010599919, 0.010236868, 0.010431739, 0.010225832, 0.01002056, 0.010110646, 0.010495598, 0.010419533, 0.009875256, 0.010535191, 0.0099499365, 0.010658329, 0.010679144, 0.010294574, 0.010160705, 0.009853025, 0.008802955, 0.0101716025, 0.010599276, 0.010224714, 0.010164605, 0.010273542, 0.009949426, 0.010415002, 0.010420127, 0.010426605, 0.009863068, 0.010282279, 0.00988744, 0.0099605275, 0.010262767, 0.010483082, 0.0104894675, 0.01005642, 0.009948066, 0.009807784, 0.010015536, 0.009971212, 0.009947387, 0.010462976, 0.011082404, 0.009775865, 0.009739429, 0.011133168, 0.01279478, 0.009740596, 0.011073207, 0.010227523, 0.009974773, 0.010235291, 0.010242144, 0.010397831, 0.010860368, 0.010826971, 0.010211855, 0.009983775, 0.010166223, 0.010124514, 0.009651741, 0.010710492, 0.010290208, 0.011377356, 0.010424417, 0.0105138505, 0.010169002, 0.010668801, 0.010604005, 0.010392113, 0.010400067, 0.01038231, 0.010258972, 0.009782664, 0.010883863, 0.009839479, 0.0104421815, 0.010148506, 0.010244986, 0.010516879, 0.010430365, 0.010242462, 0.010079777, 0.009871492, 0.010313601, 0.010271725, 0.010726046, 0.010403963, 0.010250166, 0.010483436, 0.01030733, 0.010092504, 0.010194267]\n",
      "2022-02-25 20:10:01,605 : INFO : merging changes from 2000 documents into a model of 3204 documents\n",
      "2022-02-25 20:10:01,614 : INFO : topic #25 (0.009): 0.001*\"implic\" + 0.001*\"favor\" + 0.001*\"adapt\" + 0.001*\"polygon\" + 0.001*\"stage\" + 0.001*\"situat\" + 0.001*\"respons\" + 0.001*\"industri\" + 0.001*\"regress\" + 0.001*\"drive\"\n",
      "2022-02-25 20:10:01,615 : INFO : topic #3 (0.009): 0.001*\"implic\" + 0.001*\"favor\" + 0.001*\"adapt\" + 0.001*\"polygon\" + 0.001*\"stage\" + 0.001*\"situat\" + 0.001*\"respons\" + 0.001*\"industri\" + 0.001*\"regress\" + 0.001*\"drive\"\n",
      "2022-02-25 20:10:01,615 : INFO : topic #52 (0.011): 0.070*\",\" + 0.066*\"system\" + 0.053*\"-\" + 0.050*\"languag\" + 0.041*\"program\" + 0.019*\"machin\" + 0.019*\"interact\" + 0.018*\"oper\" + 0.017*\"level\" + 0.016*\"user\"\n",
      "2022-02-25 20:10:01,616 : INFO : topic #70 (0.011): 0.078*\"algorithm\" + 0.076*\"graph\" + 0.060*\"(\" + 0.056*\",\" + 0.044*\")\" + 0.038*\"2\" + 0.031*\"1\" + 0.026*\"tree\" + 0.026*\"bound\" + 0.023*\"gamma\"\n",
      "2022-02-25 20:10:01,617 : INFO : topic #53 (0.013): 0.289*\"(\" + 0.275*\")\" + 0.191*\"algorithm\" + 0.035*\"polynomi\" + 0.019*\"root\" + 0.019*\"squar\" + 0.016*\"standard\" + 0.013*\"interchang\" + 0.012*\"interpol\" + 0.012*\"symmetr\"\n",
      "2022-02-25 20:10:01,617 : INFO : topic diff=0.521489, rho=0.422502\n",
      "2022-02-25 20:10:02,504 : INFO : -6.698 per-word bound, 103.8 perplexity estimate based on a held-out corpus of 1204 documents with 49783 words\n",
      "2022-02-25 20:10:02,504 : INFO : PROGRESS: pass 3, at document #3204/3204\n",
      "2022-02-25 20:10:03,259 : INFO : optimized alpha [0.0111673195, 0.01017358, 0.010461925, 0.008679102, 0.009934181, 0.010408163, 0.010369672, 0.011430817, 0.010482314, 0.010824833, 0.010503269, 0.01069974, 0.010412306, 0.010170734, 0.010233363, 0.010610073, 0.010566649, 0.009938346, 0.010691403, 0.010026398, 0.011035713, 0.0107869515, 0.010450962, 0.010246892, 0.009900435, 0.008679102, 0.010260908, 0.010718036, 0.010458886, 0.010351196, 0.010461174, 0.010053364, 0.01059626, 0.010606016, 0.010590111, 0.0099289585, 0.01051372, 0.009984846, 0.01008551, 0.010402676, 0.010698435, 0.010659142, 0.010220234, 0.010009618, 0.009881707, 0.010054729, 0.01007722, 0.010054019, 0.010638495, 0.011352121, 0.0098765055, 0.009804134, 0.011455323, 0.013567911, 0.0097758295, 0.0113420645, 0.010396186, 0.010095659, 0.01036622, 0.010379152, 0.010556705, 0.011231723, 0.011120313, 0.0103216255, 0.010082367, 0.0102941645, 0.010222902, 0.009695473, 0.010952827, 0.010499749, 0.011733567, 0.010607179, 0.010676871, 0.010270518, 0.010993238, 0.01082903, 0.010616178, 0.010576928, 0.010542305, 0.010467792, 0.009896326, 0.0111112045, 0.009968859, 0.010613148, 0.01028355, 0.010315751, 0.010707214, 0.010667396, 0.010429238, 0.010250601, 0.009920469, 0.010483752, 0.010373447, 0.010683929, 0.010435221, 0.010416974, 0.010743155, 0.010435918, 0.010137086, 0.010350033]\n",
      "2022-02-25 20:10:03,265 : INFO : merging changes from 1204 documents into a model of 3204 documents\n",
      "2022-02-25 20:10:03,274 : INFO : topic #3 (0.009): 0.001*\"implic\" + 0.001*\"favor\" + 0.001*\"adapt\" + 0.001*\"polygon\" + 0.001*\"stage\" + 0.001*\"situat\" + 0.001*\"respons\" + 0.001*\"industri\" + 0.001*\"regress\" + 0.001*\"drive\"\n",
      "2022-02-25 20:10:03,274 : INFO : topic #25 (0.009): 0.001*\"implic\" + 0.001*\"favor\" + 0.001*\"adapt\" + 0.001*\"polygon\" + 0.001*\"stage\" + 0.001*\"situat\" + 0.001*\"respons\" + 0.001*\"industri\" + 0.001*\"regress\" + 0.001*\"drive\"\n",
      "2022-02-25 20:10:03,275 : INFO : topic #52 (0.011): 0.073*\",\" + 0.071*\"system\" + 0.051*\"-\" + 0.048*\"languag\" + 0.042*\"program\" + 0.022*\"interact\" + 0.020*\"level\" + 0.019*\"oper\" + 0.019*\"machin\" + 0.018*\"softwar\"\n",
      "2022-02-25 20:10:03,275 : INFO : topic #70 (0.012): 0.086*\"graph\" + 0.081*\"algorithm\" + 0.058*\",\" + 0.057*\"(\" + 0.040*\")\" + 0.040*\"2\" + 0.033*\"1\" + 0.032*\"bound\" + 0.025*\"minim\" + 0.025*\"3\"\n",
      "2022-02-25 20:10:03,276 : INFO : topic #53 (0.014): 0.312*\"(\" + 0.296*\")\" + 0.191*\"algorithm\" + 0.028*\"polynomi\" + 0.015*\"squar\" + 0.015*\"root\" + 0.012*\"standard\" + 0.010*\"interpol\" + 0.010*\"-\" + 0.010*\"deviat\"\n",
      "2022-02-25 20:10:03,277 : INFO : topic diff=0.637796, rho=0.422502\n",
      "2022-02-25 20:10:03,284 : INFO : PROGRESS: pass 4, at document #2000/3204\n",
      "2022-02-25 20:10:04,064 : INFO : optimized alpha [0.011372492, 0.010142155, 0.01060521, 0.008590669, 0.009904979, 0.01043483, 0.010484415, 0.011446773, 0.010559054, 0.010855621, 0.0104897255, 0.010760966, 0.0104637155, 0.010131666, 0.010227798, 0.0106067015, 0.010571385, 0.009944333, 0.01067834, 0.009981887, 0.011147863, 0.010914228, 0.010482768, 0.010258305, 0.009966158, 0.008590669, 0.010293856, 0.010681896, 0.010551352, 0.010407086, 0.0104299355, 0.010071171, 0.010550914, 0.010556403, 0.010610321, 0.009903268, 0.010529033, 0.009921106, 0.010077212, 0.010450671, 0.010685041, 0.010713058, 0.010256974, 0.009988639, 0.009866639, 0.010113721, 0.010161617, 0.010098901, 0.01074871, 0.011605156, 0.009907205, 0.009769032, 0.0115708485, 0.014682347, 0.009754216, 0.01163743, 0.010397422, 0.010120822, 0.010414024, 0.010398545, 0.01058049, 0.011216426, 0.011127022, 0.010403819, 0.010148421, 0.010381992, 0.010226853, 0.009630985, 0.011056652, 0.010520559, 0.011764014, 0.010709081, 0.010801374, 0.010356145, 0.010971469, 0.010745468, 0.0106278295, 0.010618657, 0.010710442, 0.010458877, 0.009884174, 0.01132774, 0.009935012, 0.010628609, 0.010355882, 0.01041588, 0.01069646, 0.0106330905, 0.010433555, 0.01026421, 0.009924427, 0.010508809, 0.010402044, 0.01112566, 0.01058822, 0.010486413, 0.01072453, 0.010508868, 0.010091477, 0.010388908]\n",
      "2022-02-25 20:10:04,069 : INFO : merging changes from 2000 documents into a model of 3204 documents\n",
      "2022-02-25 20:10:04,079 : INFO : topic #3 (0.009): 0.001*\"implic\" + 0.001*\"favor\" + 0.001*\"adapt\" + 0.001*\"polygon\" + 0.001*\"stage\" + 0.001*\"situat\" + 0.001*\"respons\" + 0.001*\"industri\" + 0.001*\"regress\" + 0.001*\"drive\"\n"
     ]
    },
    {
     "name": "stderr",
     "output_type": "stream",
     "text": [
      "2022-02-25 20:10:04,079 : INFO : topic #25 (0.009): 0.001*\"implic\" + 0.001*\"favor\" + 0.001*\"adapt\" + 0.001*\"polygon\" + 0.001*\"stage\" + 0.001*\"situat\" + 0.001*\"respons\" + 0.001*\"industri\" + 0.001*\"regress\" + 0.001*\"drive\"\n",
      "2022-02-25 20:10:04,080 : INFO : topic #49 (0.012): 0.228*\"-\" + 0.087*\"point\" + 0.062*\"arithmet\" + 0.059*\"precis\" + 0.052*\"note\" + 0.043*\"float\" + 0.043*\"multipl\" + 0.035*\"error\" + 0.033*\"coeffici\" + 0.029*\"'\"\n",
      "2022-02-25 20:10:04,080 : INFO : topic #70 (0.012): 0.082*\"graph\" + 0.078*\"algorithm\" + 0.057*\",\" + 0.055*\"(\" + 0.044*\"2\" + 0.038*\")\" + 0.035*\"1\" + 0.030*\"bound\" + 0.026*\"3\" + 0.025*\"gamma\"\n",
      "2022-02-25 20:10:04,081 : INFO : topic #53 (0.015): 0.317*\"(\" + 0.304*\")\" + 0.192*\"algorithm\" + 0.027*\"polynomi\" + 0.015*\"root\" + 0.014*\"squar\" + 0.012*\"standard\" + 0.012*\"interchang\" + 0.010*\"interpol\" + 0.009*\"-\"\n",
      "2022-02-25 20:10:04,082 : INFO : topic diff=0.619556, rho=0.389191\n",
      "2022-02-25 20:10:04,939 : INFO : -6.642 per-word bound, 99.9 perplexity estimate based on a held-out corpus of 1204 documents with 49783 words\n",
      "2022-02-25 20:10:04,939 : INFO : PROGRESS: pass 4, at document #3204/3204\n",
      "2022-02-25 20:10:05,667 : INFO : optimized alpha [0.011606135, 0.010269049, 0.0107396655, 0.008483027, 0.009951196, 0.01056392, 0.0106362635, 0.011833143, 0.010713796, 0.011118627, 0.010749247, 0.01102952, 0.0106715, 0.010277749, 0.010355153, 0.010706034, 0.010704326, 0.010009629, 0.010827018, 0.010059719, 0.011549294, 0.011041932, 0.010635001, 0.010351885, 0.010010017, 0.008483027, 0.010390212, 0.010795837, 0.010822101, 0.010597964, 0.010621478, 0.010161159, 0.010716094, 0.010742964, 0.01079037, 0.009984311, 0.01075554, 0.010012002, 0.010206514, 0.010573588, 0.010899584, 0.010891619, 0.010426017, 0.01004301, 0.009954959, 0.010169716, 0.0102760475, 0.010220654, 0.01092611, 0.011869911, 0.010026633, 0.0098297065, 0.011893446, 0.015682533, 0.009806887, 0.011890372, 0.010561349, 0.010242968, 0.01053882, 0.0105462205, 0.010738467, 0.011565579, 0.011405291, 0.010518937, 0.010256161, 0.010510726, 0.010328139, 0.009679046, 0.011301424, 0.010729547, 0.012083123, 0.010899981, 0.010956064, 0.010449897, 0.011311959, 0.010965444, 0.010860975, 0.010779534, 0.0108903395, 0.010663899, 0.010005643, 0.011551242, 0.01007481, 0.010787587, 0.010491448, 0.010491094, 0.0108907595, 0.010854172, 0.0106177535, 0.010420032, 0.009973751, 0.010663612, 0.010486345, 0.011080617, 0.010636985, 0.010655608, 0.010981046, 0.010627907, 0.010150528, 0.010533796]\n",
      "2022-02-25 20:10:05,673 : INFO : merging changes from 1204 documents into a model of 3204 documents\n",
      "2022-02-25 20:10:05,681 : INFO : topic #25 (0.008): 0.001*\"implic\" + 0.001*\"favor\" + 0.001*\"adapt\" + 0.001*\"polygon\" + 0.001*\"stage\" + 0.001*\"situat\" + 0.001*\"respons\" + 0.001*\"industri\" + 0.001*\"regress\" + 0.001*\"drive\"\n",
      "2022-02-25 20:10:05,682 : INFO : topic #3 (0.008): 0.001*\"implic\" + 0.001*\"favor\" + 0.001*\"adapt\" + 0.001*\"polygon\" + 0.001*\"stage\" + 0.001*\"situat\" + 0.001*\"respons\" + 0.001*\"industri\" + 0.001*\"regress\" + 0.001*\"drive\"\n",
      "2022-02-25 20:10:05,683 : INFO : topic #52 (0.012): 0.077*\",\" + 0.075*\"system\" + 0.053*\"-\" + 0.048*\"languag\" + 0.045*\"program\" + 0.022*\"interact\" + 0.021*\"oper\" + 0.020*\"level\" + 0.020*\"machin\" + 0.020*\"user\"\n",
      "2022-02-25 20:10:05,683 : INFO : topic #70 (0.012): 0.092*\"graph\" + 0.080*\"algorithm\" + 0.060*\",\" + 0.050*\"(\" + 0.046*\"2\" + 0.037*\"1\" + 0.037*\"bound\" + 0.033*\")\" + 0.028*\"3\" + 0.023*\"edg\"\n",
      "2022-02-25 20:10:05,684 : INFO : topic #53 (0.016): 0.337*\"(\" + 0.320*\")\" + 0.186*\"algorithm\" + 0.022*\"polynomi\" + 0.012*\"root\" + 0.010*\"squar\" + 0.010*\"-\" + 0.009*\"standard\" + 0.009*\"interpol\" + 0.008*\"interchang\"\n",
      "2022-02-25 20:10:05,684 : INFO : topic diff=0.684297, rho=0.389191\n",
      "2022-02-25 20:10:05,691 : INFO : PROGRESS: pass 5, at document #2000/3204\n",
      "2022-02-25 20:10:06,476 : INFO : optimized alpha [0.011817914, 0.010241564, 0.010886708, 0.008405172, 0.009926682, 0.010586756, 0.0107713025, 0.011849403, 0.010799204, 0.011160352, 0.010742772, 0.011100007, 0.010732595, 0.010248517, 0.010359303, 0.010716976, 0.010708593, 0.01003036, 0.010826343, 0.010026294, 0.011687685, 0.011195966, 0.010668155, 0.010364612, 0.010084737, 0.008405172, 0.010423126, 0.010774381, 0.010908557, 0.010661497, 0.01058944, 0.010181693, 0.010683213, 0.01069974, 0.010814601, 0.009968031, 0.010784504, 0.009953317, 0.010202302, 0.010639865, 0.01088994, 0.010959584, 0.010467497, 0.010029686, 0.009955744, 0.010230758, 0.010377883, 0.010262622, 0.011019836, 0.012116021, 0.010075352, 0.0098013645, 0.012023631, 0.016886095, 0.009799973, 0.012176133, 0.010579464, 0.010275743, 0.010608799, 0.0105640795, 0.010768092, 0.011541829, 0.011430717, 0.010611354, 0.010320016, 0.010608618, 0.010339484, 0.009623864, 0.011400687, 0.0107520325, 0.012109447, 0.011017342, 0.011073214, 0.010536083, 0.011305359, 0.010884298, 0.010882577, 0.010822141, 0.011053492, 0.010674053, 0.009999631, 0.011767846, 0.01005208, 0.010813437, 0.010572604, 0.010594916, 0.010889811, 0.0108249, 0.010634651, 0.010447522, 0.009983768, 0.010682762, 0.010515175, 0.011506942, 0.010785119, 0.010734104, 0.010963956, 0.010700316, 0.0101127885, 0.010571865]\n",
      "2022-02-25 20:10:06,482 : INFO : merging changes from 2000 documents into a model of 3204 documents\n",
      "2022-02-25 20:10:06,490 : INFO : topic #3 (0.008): 0.001*\"implic\" + 0.001*\"favor\" + 0.001*\"adapt\" + 0.001*\"polygon\" + 0.001*\"stage\" + 0.001*\"situat\" + 0.001*\"respons\" + 0.001*\"industri\" + 0.001*\"regress\" + 0.001*\"drive\"\n",
      "2022-02-25 20:10:06,491 : INFO : topic #25 (0.008): 0.001*\"implic\" + 0.001*\"favor\" + 0.001*\"adapt\" + 0.001*\"polygon\" + 0.001*\"stage\" + 0.001*\"situat\" + 0.001*\"respons\" + 0.001*\"industri\" + 0.001*\"regress\" + 0.001*\"drive\"\n",
      "2022-02-25 20:10:06,492 : INFO : topic #49 (0.012): 0.243*\"-\" + 0.090*\"point\" + 0.064*\"arithmet\" + 0.060*\"precis\" + 0.056*\"note\" + 0.047*\"multipl\" + 0.044*\"float\" + 0.034*\"error\" + 0.031*\"coeffici\" + 0.030*\"'\"\n",
      "2022-02-25 20:10:06,492 : INFO : topic #55 (0.012): 0.163*\"languag\" + 0.078*\"algol\" + 0.052*\",\" + 0.049*\"program\" + 0.043*\"type\" + 0.039*\"60\" + 0.035*\"syntax\" + 0.034*\"formal\" + 0.033*\"translat\" + 0.021*\"defin\"\n",
      "2022-02-25 20:10:06,493 : INFO : topic #53 (0.017): 0.338*\"(\" + 0.324*\")\" + 0.188*\"algorithm\" + 0.022*\"polynomi\" + 0.012*\"root\" + 0.011*\"interchang\" + 0.010*\"squar\" + 0.009*\"-\" + 0.009*\"standard\" + 0.009*\"interpol\"\n",
      "2022-02-25 20:10:06,494 : INFO : topic diff=0.625662, rho=0.362690\n",
      "2022-02-25 20:10:07,331 : INFO : -6.601 per-word bound, 97.1 perplexity estimate based on a held-out corpus of 1204 documents with 49783 words\n",
      "2022-02-25 20:10:07,332 : INFO : PROGRESS: pass 5, at document #3204/3204\n",
      "2022-02-25 20:10:08,041 : INFO : optimized alpha [0.012049704, 0.010363985, 0.011006117, 0.008310052, 0.009979766, 0.01070182, 0.010927086, 0.012214225, 0.010954461, 0.011423024, 0.010994962, 0.011374771, 0.010948289, 0.010395207, 0.010475851, 0.010810244, 0.010840041, 0.010125536, 0.010969473, 0.010111799, 0.012137384, 0.011318751, 0.010817625, 0.010462091, 0.010131876, 0.008310052, 0.010519974, 0.010878257, 0.0111858165, 0.010861031, 0.010753469, 0.010269339, 0.010855028, 0.010881817, 0.010987576, 0.010050554, 0.011031198, 0.010051269, 0.0103425095, 0.010758499, 0.011082381, 0.011127703, 0.010639488, 0.010084167, 0.01005999, 0.010295608, 0.010500775, 0.010389442, 0.011197041, 0.012367207, 0.010199819, 0.009858853, 0.01235331, 0.018112484, 0.00986776, 0.012427316, 0.010727296, 0.010405994, 0.01072587, 0.010722199, 0.010919982, 0.0118837925, 0.011701159, 0.010722371, 0.010430491, 0.010735814, 0.010443973, 0.0096814865, 0.0116150845, 0.010965537, 0.012419025, 0.011197375, 0.01121507, 0.010636602, 0.011667482, 0.011101299, 0.011125991, 0.0109996395, 0.01123972, 0.010903288, 0.010125961, 0.0119826645, 0.010183631, 0.010989288, 0.010716007, 0.010671451, 0.011069683, 0.011036758, 0.010834047, 0.01059422, 0.0100365225, 0.010831594, 0.010604001, 0.011448622, 0.010833408, 0.010900152, 0.011223068, 0.010805506, 0.010187511, 0.010720883]\n",
      "2022-02-25 20:10:08,047 : INFO : merging changes from 1204 documents into a model of 3204 documents\n",
      "2022-02-25 20:10:08,056 : INFO : topic #25 (0.008): 0.001*\"implic\" + 0.001*\"favor\" + 0.001*\"adapt\" + 0.001*\"polygon\" + 0.001*\"stage\" + 0.001*\"situat\" + 0.001*\"respons\" + 0.001*\"industri\" + 0.001*\"regress\" + 0.001*\"drive\"\n"
     ]
    },
    {
     "name": "stderr",
     "output_type": "stream",
     "text": [
      "2022-02-25 20:10:08,056 : INFO : topic #3 (0.008): 0.001*\"implic\" + 0.001*\"favor\" + 0.001*\"adapt\" + 0.001*\"polygon\" + 0.001*\"stage\" + 0.001*\"situat\" + 0.001*\"respons\" + 0.001*\"industri\" + 0.001*\"regress\" + 0.001*\"drive\"\n",
      "2022-02-25 20:10:08,057 : INFO : topic #49 (0.012): 0.254*\"-\" + 0.095*\"point\" + 0.055*\"precis\" + 0.055*\"arithmet\" + 0.053*\"note\" + 0.049*\"multipl\" + 0.047*\"float\" + 0.033*\"'\" + 0.032*\"error\" + 0.029*\"coeffici\"\n",
      "2022-02-25 20:10:08,058 : INFO : topic #70 (0.012): 0.097*\"graph\" + 0.077*\"algorithm\" + 0.061*\",\" + 0.050*\"2\" + 0.043*\"(\" + 0.040*\"bound\" + 0.039*\"1\" + 0.030*\"3\" + 0.026*\")\" + 0.024*\"edg\"\n",
      "2022-02-25 20:10:08,058 : INFO : topic #53 (0.018): 0.354*\"(\" + 0.337*\")\" + 0.180*\"algorithm\" + 0.018*\"polynomi\" + 0.010*\"-\" + 0.010*\"root\" + 0.008*\"squar\" + 0.008*\"interchang\" + 0.008*\"interpol\" + 0.007*\"deviat\"\n",
      "2022-02-25 20:10:08,059 : INFO : topic diff=0.649776, rho=0.362690\n",
      "2022-02-25 20:10:08,066 : INFO : PROGRESS: pass 6, at document #2000/3204\n",
      "2022-02-25 20:10:08,851 : INFO : optimized alpha [0.012257111, 0.01034346, 0.011159452, 0.008240584, 0.009957362, 0.010716076, 0.011068785, 0.012237457, 0.011044621, 0.011477057, 0.010993088, 0.011446601, 0.011015013, 0.010379923, 0.0104779, 0.010820802, 0.010849419, 0.010161028, 0.010968724, 0.010087687, 0.012302239, 0.011488528, 0.010848621, 0.0104778595, 0.010218438, 0.008240584, 0.010540258, 0.0108658895, 0.011293975, 0.010930124, 0.010730182, 0.010301176, 0.01082916, 0.0108405, 0.011008043, 0.010039048, 0.011059456, 0.010001808, 0.01034173, 0.01082321, 0.011070523, 0.011199378, 0.010689241, 0.010074043, 0.010071207, 0.010358902, 0.010617273, 0.010437835, 0.011295375, 0.0126018645, 0.010252874, 0.009841391, 0.012491971, 0.019430881, 0.00987523, 0.0127142295, 0.0107607, 0.0104492875, 0.010819841, 0.01074237, 0.010949604, 0.0118605755, 0.011727897, 0.010822986, 0.010501637, 0.010836062, 0.010460118, 0.009632307, 0.011712871, 0.010997056, 0.012442016, 0.01131845, 0.0113263335, 0.010729234, 0.011674592, 0.011027756, 0.011154738, 0.011045171, 0.011403131, 0.010913713, 0.010127075, 0.012202996, 0.010165605, 0.011018912, 0.010794747, 0.010779214, 0.011077738, 0.011008185, 0.0108362455, 0.010625346, 0.010051702, 0.010843733, 0.010636824, 0.011864304, 0.010966785, 0.010998866, 0.011207245, 0.010892854, 0.010159641, 0.010760332]\n",
      "2022-02-25 20:10:08,857 : INFO : merging changes from 2000 documents into a model of 3204 documents\n",
      "2022-02-25 20:10:08,866 : INFO : topic #3 (0.008): 0.001*\"implic\" + 0.001*\"favor\" + 0.001*\"adapt\" + 0.001*\"polygon\" + 0.001*\"stage\" + 0.001*\"situat\" + 0.001*\"respons\" + 0.001*\"industri\" + 0.001*\"regress\" + 0.001*\"drive\"\n",
      "2022-02-25 20:10:08,866 : INFO : topic #25 (0.008): 0.001*\"implic\" + 0.001*\"favor\" + 0.001*\"adapt\" + 0.001*\"polygon\" + 0.001*\"stage\" + 0.001*\"situat\" + 0.001*\"respons\" + 0.001*\"industri\" + 0.001*\"regress\" + 0.001*\"drive\"\n",
      "2022-02-25 20:10:08,867 : INFO : topic #49 (0.013): 0.252*\"-\" + 0.093*\"point\" + 0.065*\"arithmet\" + 0.060*\"precis\" + 0.059*\"note\" + 0.051*\"multipl\" + 0.044*\"float\" + 0.033*\"error\" + 0.030*\"coeffici\" + 0.030*\"'\"\n",
      "2022-02-25 20:10:08,867 : INFO : topic #55 (0.013): 0.171*\"languag\" + 0.079*\"algol\" + 0.052*\",\" + 0.051*\"program\" + 0.044*\"type\" + 0.039*\"60\" + 0.036*\"formal\" + 0.035*\"syntax\" + 0.033*\"translat\" + 0.021*\"defin\"\n",
      "2022-02-25 20:10:08,868 : INFO : topic #53 (0.019): 0.354*\"(\" + 0.340*\")\" + 0.185*\"algorithm\" + 0.017*\"polynomi\" + 0.010*\"interchang\" + 0.009*\"-\" + 0.008*\"root\" + 0.008*\"interpol\" + 0.008*\"squar\" + 0.006*\"standard\"\n",
      "2022-02-25 20:10:08,868 : INFO : topic diff=0.575077, rho=0.340958\n",
      "2022-02-25 20:10:09,716 : INFO : -6.569 per-word bound, 94.9 perplexity estimate based on a held-out corpus of 1204 documents with 49783 words\n",
      "2022-02-25 20:10:09,717 : INFO : PROGRESS: pass 6, at document #3204/3204\n",
      "2022-02-25 20:10:10,432 : INFO : optimized alpha [0.012492176, 0.01047426, 0.011278322, 0.008155424, 0.010022408, 0.010834363, 0.011222919, 0.012587697, 0.011204326, 0.011744683, 0.01124945, 0.0116965715, 0.011223874, 0.010513192, 0.010603461, 0.010909328, 0.010974075, 0.010257198, 0.011101324, 0.01017466, 0.012761098, 0.011630239, 0.010996586, 0.010570345, 0.01026862, 0.008155424, 0.01062311, 0.010970674, 0.011582683, 0.011142052, 0.010876844, 0.010390092, 0.010998522, 0.011007214, 0.011191139, 0.010137562, 0.011307566, 0.010091975, 0.010486546, 0.010941762, 0.011262892, 0.011368622, 0.010864954, 0.010128919, 0.010172908, 0.010426096, 0.0107396925, 0.010569937, 0.011457447, 0.012856244, 0.010379676, 0.0099019045, 0.012819957, 0.020824812, 0.009953701, 0.012968965, 0.010910372, 0.010575705, 0.010936799, 0.010886345, 0.011100057, 0.0121878665, 0.011989461, 0.010946233, 0.010621034, 0.010968846, 0.010574075, 0.0096929725, 0.011906935, 0.01120678, 0.012730243, 0.011495905, 0.01146368, 0.010845478, 0.012039548, 0.011237197, 0.011396487, 0.011213895, 0.011586926, 0.0111355, 0.010249802, 0.012390017, 0.010302012, 0.011195486, 0.010927852, 0.010860443, 0.0112548685, 0.011212664, 0.011035174, 0.010776807, 0.0101250755, 0.010975621, 0.010733047, 0.011803975, 0.011014912, 0.011178853, 0.011460781, 0.010991982, 0.010236725, 0.010910997]\n",
      "2022-02-25 20:10:10,438 : INFO : merging changes from 1204 documents into a model of 3204 documents\n",
      "2022-02-25 20:10:10,447 : INFO : topic #3 (0.008): 0.001*\"implic\" + 0.001*\"favor\" + 0.001*\"adapt\" + 0.001*\"polygon\" + 0.001*\"stage\" + 0.001*\"situat\" + 0.001*\"respons\" + 0.001*\"industri\" + 0.001*\"regress\" + 0.001*\"drive\"\n",
      "2022-02-25 20:10:10,448 : INFO : topic #25 (0.008): 0.001*\"implic\" + 0.001*\"favor\" + 0.001*\"adapt\" + 0.001*\"polygon\" + 0.001*\"stage\" + 0.001*\"situat\" + 0.001*\"respons\" + 0.001*\"industri\" + 0.001*\"regress\" + 0.001*\"drive\"\n",
      "2022-02-25 20:10:10,448 : INFO : topic #49 (0.013): 0.260*\"-\" + 0.097*\"point\" + 0.057*\"arithmet\" + 0.056*\"note\" + 0.055*\"precis\" + 0.052*\"multipl\" + 0.047*\"float\" + 0.033*\"'\" + 0.032*\"error\" + 0.029*\"modif\"\n",
      "2022-02-25 20:10:10,449 : INFO : topic #55 (0.013): 0.172*\"languag\" + 0.060*\"algol\" + 0.055*\"program\" + 0.053*\",\" + 0.053*\"type\" + 0.041*\"formal\" + 0.034*\"syntax\" + 0.031*\"translat\" + 0.031*\"60\" + 0.023*\"construct\"\n",
      "2022-02-25 20:10:10,449 : INFO : topic #53 (0.021): 0.367*\"(\" + 0.349*\")\" + 0.177*\"algorithm\" + 0.015*\"polynomi\" + 0.010*\"-\" + 0.008*\"root\" + 0.007*\"interchang\" + 0.007*\"deviat\" + 0.007*\"interpol\" + 0.006*\"squar\"\n",
      "2022-02-25 20:10:10,450 : INFO : topic diff=0.581268, rho=0.340958\n",
      "2022-02-25 20:10:10,457 : INFO : PROGRESS: pass 7, at document #2000/3204\n",
      "2022-02-25 20:10:11,258 : INFO : optimized alpha [0.0127004385, 0.010456427, 0.011425473, 0.008092791, 0.010006676, 0.010849634, 0.011358852, 0.012603472, 0.01128846, 0.011804586, 0.01125721, 0.011775708, 0.01128886, 0.010512135, 0.01061225, 0.0109196445, 0.010990123, 0.010292803, 0.011105949, 0.010160435, 0.012932041, 0.0118158655, 0.011027546, 0.010592446, 0.010369613, 0.008092791, 0.010637448, 0.010960992, 0.011683935, 0.011223865, 0.010851012, 0.010422286, 0.010993358, 0.0109712295, 0.011217409, 0.0101301065, 0.011335248, 0.010050577, 0.010485491, 0.011010505, 0.011247232, 0.01144952, 0.010913816, 0.010119912, 0.010190246, 0.010490002, 0.010859958, 0.010627883, 0.011549457, 0.013091375, 0.010441913, 0.0098875575, 0.012954881, 0.02230252, 0.009966003, 0.013254046, 0.0109490715, 0.010621977, 0.011031995, 0.010919381, 0.011135225, 0.012157391, 0.012027381, 0.011056608, 0.010695784, 0.0110771265, 0.010591097, 0.009647231, 0.012002024, 0.011246968, 0.012756658, 0.011620912, 0.011571802, 0.010937462, 0.012057591, 0.011166608, 0.011426487, 0.011271372, 0.011747911, 0.01115355, 0.010255701, 0.012614865, 0.010286374, 0.011217748, 0.011009989, 0.010972375, 0.011269369, 0.01119011, 0.0110292435, 0.010827137, 0.010151379, 0.010994169, 0.010764391, 0.012207473, 0.011146077, 0.011271296, 0.0114517175, 0.011086308, 0.010209152, 0.010950129]\n",
      "2022-02-25 20:10:11,264 : INFO : merging changes from 2000 documents into a model of 3204 documents\n",
      "2022-02-25 20:10:11,273 : INFO : topic #3 (0.008): 0.001*\"implic\" + 0.001*\"favor\" + 0.001*\"adapt\" + 0.001*\"polygon\" + 0.001*\"stage\" + 0.001*\"situat\" + 0.001*\"respons\" + 0.001*\"industri\" + 0.001*\"regress\" + 0.001*\"drive\"\n",
      "2022-02-25 20:10:11,273 : INFO : topic #25 (0.008): 0.001*\"implic\" + 0.001*\"favor\" + 0.001*\"adapt\" + 0.001*\"polygon\" + 0.001*\"stage\" + 0.001*\"situat\" + 0.001*\"respons\" + 0.001*\"industri\" + 0.001*\"regress\" + 0.001*\"drive\"\n"
     ]
    },
    {
     "name": "stderr",
     "output_type": "stream",
     "text": [
      "2022-02-25 20:10:11,274 : INFO : topic #49 (0.013): 0.260*\"-\" + 0.095*\"point\" + 0.066*\"arithmet\" + 0.061*\"note\" + 0.060*\"precis\" + 0.053*\"multipl\" + 0.044*\"float\" + 0.033*\"error\" + 0.030*\"'\" + 0.029*\"coeffici\"\n",
      "2022-02-25 20:10:11,275 : INFO : topic #55 (0.013): 0.179*\"languag\" + 0.080*\"algol\" + 0.052*\"program\" + 0.052*\",\" + 0.045*\"type\" + 0.039*\"60\" + 0.037*\"formal\" + 0.034*\"translat\" + 0.034*\"syntax\" + 0.021*\"defin\"\n",
      "2022-02-25 20:10:11,275 : INFO : topic #53 (0.022): 0.366*\"(\" + 0.350*\")\" + 0.181*\"algorithm\" + 0.015*\"polynomi\" + 0.010*\"-\" + 0.009*\"interchang\" + 0.007*\"interpol\" + 0.007*\"root\" + 0.006*\"g5\" + 0.006*\"deviat\"\n",
      "2022-02-25 20:10:11,276 : INFO : topic diff=0.506435, rho=0.322715\n",
      "2022-02-25 20:10:12,125 : INFO : -6.544 per-word bound, 93.3 perplexity estimate based on a held-out corpus of 1204 documents with 49783 words\n",
      "2022-02-25 20:10:12,125 : INFO : PROGRESS: pass 7, at document #3204/3204\n",
      "2022-02-25 20:10:12,847 : INFO : optimized alpha [0.012929726, 0.010595464, 0.011526172, 0.008015766, 0.010060933, 0.010971455, 0.011515261, 0.012944695, 0.011450266, 0.012078285, 0.011500603, 0.012019212, 0.011504619, 0.010636601, 0.010743698, 0.011013089, 0.011118061, 0.010395777, 0.011235583, 0.01025462, 0.013398727, 0.012001714, 0.011180717, 0.010689423, 0.010436626, 0.008015766, 0.010722218, 0.011070005, 0.011972487, 0.011427586, 0.010988137, 0.01051278, 0.0111822, 0.011145474, 0.011398935, 0.010235095, 0.011576812, 0.01013673, 0.010623946, 0.011120513, 0.01143124, 0.011620502, 0.011090983, 0.010172606, 0.010292931, 0.010559598, 0.010988267, 0.010776785, 0.011707471, 0.013360893, 0.010571516, 0.009948334, 0.013257916, 0.02381639, 0.010059631, 0.013502871, 0.011107113, 0.010748365, 0.011152357, 0.011056918, 0.011266892, 0.012475607, 0.012275342, 0.011177068, 0.010806874, 0.011224809, 0.01069992, 0.00971081, 0.012177978, 0.011466293, 0.013026572, 0.011796953, 0.011705822, 0.011045331, 0.012414118, 0.011375857, 0.011667834, 0.0114600565, 0.011923892, 0.011387637, 0.010378436, 0.012800452, 0.010408362, 0.011383677, 0.011149101, 0.01105832, 0.011442018, 0.011382804, 0.011237695, 0.010983825, 0.010218731, 0.0111260265, 0.010859087, 0.012135538, 0.011218415, 0.011462278, 0.011710678, 0.01117471, 0.010299587, 0.011097119]\n",
      "2022-02-25 20:10:12,853 : INFO : merging changes from 1204 documents into a model of 3204 documents\n",
      "2022-02-25 20:10:12,862 : INFO : topic #3 (0.008): 0.001*\"implic\" + 0.001*\"favor\" + 0.001*\"adapt\" + 0.001*\"polygon\" + 0.001*\"stage\" + 0.001*\"situat\" + 0.001*\"respons\" + 0.001*\"industri\" + 0.001*\"regress\" + 0.001*\"drive\"\n",
      "2022-02-25 20:10:12,863 : INFO : topic #25 (0.008): 0.001*\"implic\" + 0.001*\"favor\" + 0.001*\"adapt\" + 0.001*\"polygon\" + 0.001*\"stage\" + 0.001*\"situat\" + 0.001*\"respons\" + 0.001*\"industri\" + 0.001*\"regress\" + 0.001*\"drive\"\n",
      "2022-02-25 20:10:12,863 : INFO : topic #20 (0.013): 0.356*\"problem\" + 0.134*\"solut\" + 0.054*\",\" + 0.041*\"-\" + 0.027*\"paper\" + 0.022*\"known\" + 0.021*\"gener\" + 0.020*\"present\" + 0.019*\"linear\" + 0.018*\"nonlinear\"\n",
      "2022-02-25 20:10:12,864 : INFO : topic #55 (0.014): 0.181*\"languag\" + 0.062*\"algol\" + 0.056*\"program\" + 0.053*\",\" + 0.052*\"type\" + 0.042*\"formal\" + 0.034*\"syntax\" + 0.032*\"translat\" + 0.031*\"60\" + 0.024*\"construct\"\n",
      "2022-02-25 20:10:12,864 : INFO : topic #53 (0.024): 0.378*\"(\" + 0.357*\")\" + 0.174*\"algorithm\" + 0.013*\"polynomi\" + 0.010*\"-\" + 0.007*\"interchang\" + 0.007*\"deviat\" + 0.006*\"root\" + 0.006*\"interpol\" + 0.005*\"g5\"\n",
      "2022-02-25 20:10:12,865 : INFO : topic diff=0.506771, rho=0.322715\n",
      "2022-02-25 20:10:12,872 : INFO : PROGRESS: pass 8, at document #2000/3204\n",
      "2022-02-25 20:10:13,661 : INFO : optimized alpha [0.013133524, 0.01058315, 0.011671565, 0.007958817, 0.010051191, 0.01098942, 0.011658711, 0.012965627, 0.011539696, 0.012146064, 0.011510501, 0.012094719, 0.01157539, 0.010640434, 0.010756992, 0.011018071, 0.011140265, 0.0104299635, 0.011243404, 0.010241306, 0.01358461, 0.012212659, 0.011216941, 0.010712365, 0.010545032, 0.007958817, 0.010741135, 0.011067815, 0.012074968, 0.011525371, 0.010965107, 0.010550203, 0.011171392, 0.0111141, 0.011425429, 0.010229633, 0.011605948, 0.010096137, 0.010622762, 0.011191709, 0.011424514, 0.01169974, 0.011149366, 0.010164625, 0.010315926, 0.010622585, 0.011102475, 0.010835482, 0.011801238, 0.0135790985, 0.010639283, 0.009933613, 0.013400135, 0.025449539, 0.01008237, 0.01378953, 0.01115255, 0.010800911, 0.011249111, 0.011088447, 0.011300416, 0.012440375, 0.012316438, 0.0112884585, 0.010885238, 0.011335836, 0.010719561, 0.009667959, 0.012271066, 0.011505841, 0.013046384, 0.011930002, 0.011811524, 0.011137141, 0.012437048, 0.011318263, 0.011699201, 0.011516637, 0.0120812785, 0.011411069, 0.010387202, 0.013020481, 0.0103949625, 0.0114136, 0.011227938, 0.01117299, 0.011460857, 0.011362351, 0.011236371, 0.011045478, 0.0102584595, 0.011150566, 0.010889199, 0.012528469, 0.011344682, 0.011563469, 0.011700624, 0.011265364, 0.010276865, 0.011137809]\n",
      "2022-02-25 20:10:13,667 : INFO : merging changes from 2000 documents into a model of 3204 documents\n",
      "2022-02-25 20:10:13,676 : INFO : topic #25 (0.008): 0.001*\"implic\" + 0.001*\"favor\" + 0.001*\"adapt\" + 0.001*\"polygon\" + 0.001*\"stage\" + 0.001*\"situat\" + 0.001*\"respons\" + 0.001*\"industri\" + 0.001*\"regress\" + 0.001*\"drive\"\n",
      "2022-02-25 20:10:13,677 : INFO : topic #3 (0.008): 0.001*\"implic\" + 0.001*\"favor\" + 0.001*\"adapt\" + 0.001*\"polygon\" + 0.001*\"stage\" + 0.001*\"situat\" + 0.001*\"respons\" + 0.001*\"industri\" + 0.001*\"regress\" + 0.001*\"drive\"\n",
      "2022-02-25 20:10:13,677 : INFO : topic #49 (0.014): 0.267*\"-\" + 0.095*\"point\" + 0.067*\"arithmet\" + 0.062*\"note\" + 0.059*\"precis\" + 0.055*\"multipl\" + 0.044*\"float\" + 0.033*\"error\" + 0.030*\"'\" + 0.030*\"modif\"\n",
      "2022-02-25 20:10:13,677 : INFO : topic #55 (0.014): 0.188*\"languag\" + 0.080*\"algol\" + 0.054*\"program\" + 0.051*\",\" + 0.045*\"type\" + 0.038*\"formal\" + 0.038*\"60\" + 0.035*\"translat\" + 0.034*\"syntax\" + 0.021*\"defin\"\n",
      "2022-02-25 20:10:13,678 : INFO : topic #53 (0.025): 0.375*\"(\" + 0.357*\")\" + 0.178*\"algorithm\" + 0.013*\"polynomi\" + 0.010*\"-\" + 0.009*\"interchang\" + 0.007*\"interpol\" + 0.006*\"root\" + 0.006*\"g5\" + 0.006*\"deviat\"\n",
      "2022-02-25 20:10:13,679 : INFO : topic diff=0.438715, rho=0.307119\n",
      "2022-02-25 20:10:14,506 : INFO : -6.526 per-word bound, 92.2 perplexity estimate based on a held-out corpus of 1204 documents with 49783 words\n",
      "2022-02-25 20:10:14,507 : INFO : PROGRESS: pass 8, at document #3204/3204\n",
      "2022-02-25 20:10:15,211 : INFO : optimized alpha [0.0133513, 0.010722145, 0.011773639, 0.007888575, 0.010108796, 0.01111203, 0.011812065, 0.01329627, 0.011709979, 0.01243624, 0.011748551, 0.012345278, 0.0117896395, 0.010759807, 0.01089439, 0.011119347, 0.011268788, 0.010534232, 0.0113680335, 0.01033448, 0.014064544, 0.012454161, 0.011369858, 0.010799886, 0.0106143905, 0.007888575, 0.010819721, 0.011178327, 0.012367562, 0.011748674, 0.011096842, 0.010631669, 0.011356099, 0.011287309, 0.011606088, 0.010335742, 0.011851208, 0.010184155, 0.010753078, 0.011314381, 0.011598585, 0.011870227, 0.011319973, 0.010215515, 0.010419822, 0.010694655, 0.011225575, 0.010984352, 0.0119471215, 0.013843511, 0.010766549, 0.009994781, 0.01369062, 0.027114699, 0.010177625, 0.014040698, 0.01131317, 0.01092504, 0.011373113, 0.011234821, 0.011438462, 0.012751041, 0.012555904, 0.011403984, 0.011000111, 0.011480755, 0.010832328, 0.00972936, 0.012452727, 0.011720501, 0.013296384, 0.01210865, 0.011946001, 0.011243326, 0.012790224, 0.011525542, 0.011941283, 0.011710202, 0.012250612, 0.011646061, 0.010507735, 0.013208766, 0.010506802, 0.011579034, 0.01136158, 0.011257929, 0.011638749, 0.011559559, 0.011434233, 0.011202112, 0.010328443, 0.011280071, 0.010982839, 0.012445633, 0.011413451, 0.011756723, 0.011944602, 0.011346987, 0.010387707, 0.011279078]\n",
      "2022-02-25 20:10:15,218 : INFO : merging changes from 1204 documents into a model of 3204 documents\n",
      "2022-02-25 20:10:15,227 : INFO : topic #3 (0.008): 0.001*\"implic\" + 0.001*\"favor\" + 0.001*\"adapt\" + 0.001*\"polygon\" + 0.001*\"stage\" + 0.001*\"situat\" + 0.001*\"respons\" + 0.001*\"industri\" + 0.001*\"regress\" + 0.001*\"drive\"\n",
      "2022-02-25 20:10:15,227 : INFO : topic #25 (0.008): 0.001*\"implic\" + 0.001*\"favor\" + 0.001*\"adapt\" + 0.001*\"polygon\" + 0.001*\"stage\" + 0.001*\"situat\" + 0.001*\"respons\" + 0.001*\"industri\" + 0.001*\"regress\" + 0.001*\"drive\"\n"
     ]
    },
    {
     "name": "stderr",
     "output_type": "stream",
     "text": [
      "2022-02-25 20:10:15,228 : INFO : topic #55 (0.014): 0.189*\"languag\" + 0.063*\"algol\" + 0.057*\"program\" + 0.052*\"type\" + 0.052*\",\" + 0.043*\"formal\" + 0.034*\"syntax\" + 0.033*\"translat\" + 0.031*\"60\" + 0.024*\"construct\"\n",
      "2022-02-25 20:10:15,228 : INFO : topic #20 (0.014): 0.370*\"problem\" + 0.135*\"solut\" + 0.052*\",\" + 0.042*\"-\" + 0.028*\"paper\" + 0.021*\"gener\" + 0.021*\"known\" + 0.020*\"present\" + 0.020*\"linear\" + 0.019*\"nonlinear\"\n",
      "2022-02-25 20:10:15,229 : INFO : topic #53 (0.027): 0.386*\"(\" + 0.361*\")\" + 0.171*\"algorithm\" + 0.012*\"polynomi\" + 0.010*\"-\" + 0.007*\"interchang\" + 0.006*\"deviat\" + 0.006*\"interpol\" + 0.006*\"root\" + 0.005*\"normal\"\n",
      "2022-02-25 20:10:15,229 : INFO : topic diff=0.439479, rho=0.307119\n",
      "2022-02-25 20:10:15,237 : INFO : PROGRESS: pass 9, at document #2000/3204\n",
      "2022-02-25 20:10:16,016 : INFO : optimized alpha [0.013563222, 0.010714837, 0.011916089, 0.007836416, 0.010101497, 0.011130848, 0.01195977, 0.013314595, 0.011801345, 0.012500684, 0.011760535, 0.012419332, 0.011852197, 0.010763461, 0.010913417, 0.0111243045, 0.011296682, 0.01057658, 0.01137557, 0.010328013, 0.014255672, 0.012683997, 0.011402758, 0.010823735, 0.010719301, 0.007836416, 0.010834987, 0.011184682, 0.0124697415, 0.01186031, 0.011073088, 0.010671007, 0.011348523, 0.011258455, 0.011637969, 0.010335187, 0.0118800625, 0.010145734, 0.010751791, 0.0113812955, 0.011591619, 0.011956862, 0.01137267, 0.010208425, 0.010448166, 0.010758623, 0.011336042, 0.011047235, 0.012039297, 0.014066114, 0.010833493, 0.009984115, 0.013830125, 0.028854808, 0.010205565, 0.014323567, 0.01136503, 0.01097559, 0.011471559, 0.011266596, 0.011470587, 0.012713228, 0.012603934, 0.011513361, 0.01107729, 0.011591515, 0.0108560035, 0.009689061, 0.01254788, 0.01176308, 0.013318251, 0.012249935, 0.012048011, 0.011330328, 0.012819754, 0.011471286, 0.011968768, 0.011772859, 0.012408566, 0.011672979, 0.010519173, 0.013425128, 0.0104955435, 0.011619453, 0.011444225, 0.011373824, 0.011656421, 0.011546028, 0.011433975, 0.011272948, 0.010363781, 0.011306951, 0.011011892, 0.012821937, 0.011542243, 0.011859628, 0.011939118, 0.0114328945, 0.010378422, 0.011326475]\n",
      "2022-02-25 20:10:16,022 : INFO : merging changes from 2000 documents into a model of 3204 documents\n",
      "2022-02-25 20:10:16,031 : INFO : topic #25 (0.008): 0.001*\"implic\" + 0.001*\"favor\" + 0.001*\"adapt\" + 0.001*\"polygon\" + 0.001*\"stage\" + 0.001*\"situat\" + 0.001*\"respons\" + 0.001*\"industri\" + 0.001*\"regress\" + 0.001*\"drive\"\n",
      "2022-02-25 20:10:16,031 : INFO : topic #3 (0.008): 0.001*\"implic\" + 0.001*\"favor\" + 0.001*\"adapt\" + 0.001*\"polygon\" + 0.001*\"stage\" + 0.001*\"situat\" + 0.001*\"respons\" + 0.001*\"industri\" + 0.001*\"regress\" + 0.001*\"drive\"\n",
      "2022-02-25 20:10:16,032 : INFO : topic #20 (0.014): 0.372*\"problem\" + 0.137*\"solut\" + 0.052*\",\" + 0.042*\"-\" + 0.027*\"paper\" + 0.021*\"gener\" + 0.019*\"known\" + 0.019*\"nonlinear\" + 0.019*\"present\" + 0.018*\"linear\"\n",
      "2022-02-25 20:10:16,032 : INFO : topic #55 (0.014): 0.196*\"languag\" + 0.079*\"algol\" + 0.055*\"program\" + 0.050*\",\" + 0.045*\"type\" + 0.039*\"formal\" + 0.038*\"60\" + 0.036*\"translat\" + 0.034*\"syntax\" + 0.021*\"-\"\n",
      "2022-02-25 20:10:16,033 : INFO : topic #53 (0.029): 0.382*\"(\" + 0.361*\")\" + 0.176*\"algorithm\" + 0.012*\"polynomi\" + 0.010*\"-\" + 0.009*\"interchang\" + 0.007*\"interpol\" + 0.005*\"g5\" + 0.005*\"deviat\" + 0.005*\"root\"\n",
      "2022-02-25 20:10:16,033 : INFO : topic diff=0.379696, rho=0.293585\n",
      "2022-02-25 20:10:16,845 : INFO : -6.510 per-word bound, 91.1 perplexity estimate based on a held-out corpus of 1204 documents with 49783 words\n",
      "2022-02-25 20:10:16,845 : INFO : PROGRESS: pass 9, at document #3204/3204\n",
      "2022-02-25 20:10:17,530 : INFO : optimized alpha [0.013777166, 0.01085689, 0.012019802, 0.0077718995, 0.01015978, 0.011251824, 0.01211944, 0.013642643, 0.011963035, 0.012795448, 0.011999993, 0.012677779, 0.012059888, 0.010878599, 0.011059516, 0.011216582, 0.011429034, 0.010685054, 0.011487265, 0.01042296, 0.014747113, 0.012959501, 0.011550427, 0.010908142, 0.010793654, 0.0077718995, 0.010913542, 0.0113050435, 0.012758122, 0.012083138, 0.011197424, 0.010752113, 0.011532688, 0.011428534, 0.011815533, 0.01044271, 0.012135487, 0.010233204, 0.010877544, 0.011491076, 0.011759688, 0.012133371, 0.011540481, 0.010257809, 0.010543199, 0.010838527, 0.011454693, 0.011191075, 0.01217412, 0.014333134, 0.010951001, 0.010050673, 0.014126434, 0.03064901, 0.010307421, 0.014581461, 0.011528759, 0.011095298, 0.011588211, 0.011413333, 0.011603793, 0.013014621, 0.0128297815, 0.011624583, 0.0111907255, 0.011734283, 0.010972793, 0.009748589, 0.012729602, 0.0119737685, 0.013550259, 0.012428644, 0.012192252, 0.011432517, 0.013170778, 0.011677206, 0.012212341, 0.011971677, 0.012572087, 0.011909681, 0.010635482, 0.013610129, 0.010605993, 0.011782144, 0.0115787, 0.011458118, 0.011828293, 0.011739483, 0.011628107, 0.011454759, 0.010446715, 0.011434659, 0.011102141, 0.012732143, 0.0116079375, 0.012052848, 0.012184427, 0.011531066, 0.01048804, 0.011474056]\n",
      "2022-02-25 20:10:17,535 : INFO : merging changes from 1204 documents into a model of 3204 documents\n",
      "2022-02-25 20:10:17,544 : INFO : topic #3 (0.008): 0.001*\"implic\" + 0.001*\"favor\" + 0.001*\"adapt\" + 0.001*\"polygon\" + 0.001*\"stage\" + 0.001*\"situat\" + 0.001*\"respons\" + 0.001*\"industri\" + 0.001*\"regress\" + 0.001*\"drive\"\n",
      "2022-02-25 20:10:17,545 : INFO : topic #25 (0.008): 0.001*\"implic\" + 0.001*\"favor\" + 0.001*\"adapt\" + 0.001*\"polygon\" + 0.001*\"stage\" + 0.001*\"situat\" + 0.001*\"respons\" + 0.001*\"industri\" + 0.001*\"regress\" + 0.001*\"drive\"\n",
      "2022-02-25 20:10:17,546 : INFO : topic #55 (0.015): 0.196*\"languag\" + 0.063*\"algol\" + 0.059*\"program\" + 0.052*\"type\" + 0.051*\",\" + 0.044*\"formal\" + 0.034*\"translat\" + 0.034*\"syntax\" + 0.031*\"60\" + 0.024*\"construct\"\n",
      "2022-02-25 20:10:17,546 : INFO : topic #20 (0.015): 0.382*\"problem\" + 0.135*\"solut\" + 0.051*\",\" + 0.042*\"-\" + 0.029*\"paper\" + 0.022*\"gener\" + 0.022*\"known\" + 0.021*\"linear\" + 0.020*\"present\" + 0.020*\"nonlinear\"\n",
      "2022-02-25 20:10:17,546 : INFO : topic #53 (0.031): 0.392*\"(\" + 0.365*\")\" + 0.170*\"algorithm\" + 0.011*\"-\" + 0.010*\"polynomi\" + 0.007*\"interchang\" + 0.006*\"deviat\" + 0.006*\"interpol\" + 0.005*\"normal\" + 0.005*\"g5\"\n",
      "2022-02-25 20:10:17,547 : INFO : topic diff=0.382311, rho=0.293585\n",
      "2022-02-25 20:10:17,554 : INFO : PROGRESS: pass 10, at document #2000/3204\n",
      "2022-02-25 20:10:18,314 : INFO : optimized alpha [0.013982117, 0.010851226, 0.012163354, 0.0077238455, 0.010154604, 0.011274735, 0.012266661, 0.013660493, 0.012049785, 0.012858611, 0.012024157, 0.012757797, 0.012128418, 0.010885265, 0.011085607, 0.011223161, 0.011462393, 0.0107306065, 0.011496241, 0.010418375, 0.014939783, 0.013199975, 0.01158032, 0.0109313205, 0.010898535, 0.0077238455, 0.010926992, 0.011309557, 0.0128549775, 0.012193081, 0.011174603, 0.010791797, 0.0115363905, 0.011406894, 0.011849389, 0.010445196, 0.012165823, 0.010198087, 0.010879304, 0.011560711, 0.011752594, 0.012225695, 0.011599327, 0.010254419, 0.01056766, 0.01090353, 0.011565112, 0.01125023, 0.01226512, 0.014538417, 0.011018759, 0.010039385, 0.014259661, 0.032606307, 0.010334439, 0.014861314, 0.011593541, 0.011145712, 0.011691869, 0.0114422245, 0.011639619, 0.012980003, 0.012888339, 0.011740532, 0.011267027, 0.011838466, 0.010995577, 0.009714667, 0.012819795, 0.012012652, 0.013562875, 0.012572972, 0.012292757, 0.011516754, 0.013191843, 0.011622586, 0.012248305, 0.012042065, 0.012729356, 0.01193821, 0.01064648, 0.013829276, 0.010593694, 0.011825974, 0.011658774, 0.011572343, 0.011846656, 0.01173242, 0.011630554, 0.0115346, 0.010491456, 0.011458946, 0.011128743, 0.013098324, 0.011739241, 0.012159531, 0.012186687, 0.01162418, 0.010477661, 0.011526194]\n",
      "2022-02-25 20:10:18,320 : INFO : merging changes from 2000 documents into a model of 3204 documents\n",
      "2022-02-25 20:10:18,329 : INFO : topic #3 (0.008): 0.001*\"implic\" + 0.001*\"favor\" + 0.001*\"adapt\" + 0.001*\"polygon\" + 0.001*\"stage\" + 0.001*\"situat\" + 0.001*\"respons\" + 0.001*\"industri\" + 0.001*\"regress\" + 0.001*\"drive\"\n",
      "2022-02-25 20:10:18,330 : INFO : topic #25 (0.008): 0.001*\"implic\" + 0.001*\"favor\" + 0.001*\"adapt\" + 0.001*\"polygon\" + 0.001*\"stage\" + 0.001*\"situat\" + 0.001*\"respons\" + 0.001*\"industri\" + 0.001*\"regress\" + 0.001*\"drive\"\n",
      "2022-02-25 20:10:18,330 : INFO : topic #55 (0.015): 0.204*\"languag\" + 0.078*\"algol\" + 0.057*\"program\" + 0.050*\",\" + 0.045*\"type\" + 0.040*\"formal\" + 0.038*\"60\" + 0.037*\"translat\" + 0.034*\"syntax\" + 0.022*\"-\"\n"
     ]
    },
    {
     "name": "stderr",
     "output_type": "stream",
     "text": [
      "2022-02-25 20:10:18,331 : INFO : topic #20 (0.015): 0.383*\"problem\" + 0.137*\"solut\" + 0.051*\",\" + 0.042*\"-\" + 0.028*\"paper\" + 0.022*\"gener\" + 0.020*\"nonlinear\" + 0.020*\"known\" + 0.020*\"present\" + 0.019*\"linear\"\n",
      "2022-02-25 20:10:18,331 : INFO : topic #53 (0.033): 0.388*\"(\" + 0.364*\")\" + 0.175*\"algorithm\" + 0.011*\"polynomi\" + 0.010*\"-\" + 0.008*\"interchang\" + 0.006*\"interpol\" + 0.005*\"normal\" + 0.005*\"g5\" + 0.005*\"deviat\"\n",
      "2022-02-25 20:10:18,332 : INFO : topic diff=0.330165, rho=0.281696\n",
      "2022-02-25 20:10:19,144 : INFO : -6.496 per-word bound, 90.3 perplexity estimate based on a held-out corpus of 1204 documents with 49783 words\n",
      "2022-02-25 20:10:19,144 : INFO : PROGRESS: pass 10, at document #3204/3204\n",
      "2022-02-25 20:10:19,807 : INFO : optimized alpha [0.014193025, 0.01099141, 0.012260326, 0.007664238, 0.010215992, 0.011399926, 0.012427202, 0.013986943, 0.012212261, 0.013164959, 0.012257352, 0.013018772, 0.012336032, 0.0109992875, 0.011245599, 0.011317833, 0.01159596, 0.010845842, 0.011607081, 0.010510354, 0.015450592, 0.013485396, 0.011723412, 0.011023242, 0.010970218, 0.007664238, 0.010995319, 0.011423391, 0.013130905, 0.012419065, 0.011292328, 0.010867749, 0.011717939, 0.0115771275, 0.0120245265, 0.010556748, 0.012420449, 0.010278061, 0.011001072, 0.011683103, 0.011898678, 0.012394129, 0.011765002, 0.010302482, 0.010664619, 0.010988396, 0.011693293, 0.01139759, 0.012404252, 0.014795091, 0.011132488, 0.010099233, 0.014538933, 0.034570947, 0.010435464, 0.015115948, 0.0117525095, 0.011264177, 0.011807324, 0.011581815, 0.011757683, 0.013270281, 0.013098643, 0.011847955, 0.011384647, 0.011979473, 0.011108659, 0.009767934, 0.012993027, 0.012223228, 0.013784537, 0.012758222, 0.012438043, 0.011612782, 0.013538606, 0.0118357595, 0.0124883335, 0.012241024, 0.012893735, 0.012177117, 0.010764098, 0.013995219, 0.010703119, 0.011997645, 0.01180546, 0.011650857, 0.012013345, 0.011931217, 0.011816253, 0.011733432, 0.010571744, 0.011582605, 0.011223826, 0.013005039, 0.011812999, 0.012367774, 0.012422424, 0.0117161125, 0.010576297, 0.011669216]\n",
      "2022-02-25 20:10:19,813 : INFO : merging changes from 1204 documents into a model of 3204 documents\n",
      "2022-02-25 20:10:19,822 : INFO : topic #25 (0.008): 0.001*\"implic\" + 0.001*\"favor\" + 0.001*\"adapt\" + 0.001*\"polygon\" + 0.001*\"stage\" + 0.001*\"situat\" + 0.001*\"respons\" + 0.001*\"industri\" + 0.001*\"regress\" + 0.001*\"drive\"\n",
      "2022-02-25 20:10:19,822 : INFO : topic #3 (0.008): 0.001*\"implic\" + 0.001*\"favor\" + 0.001*\"adapt\" + 0.001*\"polygon\" + 0.001*\"stage\" + 0.001*\"situat\" + 0.001*\"respons\" + 0.001*\"industri\" + 0.001*\"regress\" + 0.001*\"drive\"\n",
      "2022-02-25 20:10:19,823 : INFO : topic #55 (0.015): 0.204*\"languag\" + 0.063*\"algol\" + 0.060*\"program\" + 0.051*\"type\" + 0.051*\",\" + 0.044*\"formal\" + 0.035*\"translat\" + 0.034*\"syntax\" + 0.031*\"60\" + 0.024*\"construct\"\n",
      "2022-02-25 20:10:19,823 : INFO : topic #20 (0.015): 0.392*\"problem\" + 0.135*\"solut\" + 0.050*\",\" + 0.042*\"-\" + 0.029*\"paper\" + 0.023*\"gener\" + 0.021*\"linear\" + 0.021*\"known\" + 0.020*\"present\" + 0.020*\"nonlinear\"\n",
      "2022-02-25 20:10:19,824 : INFO : topic #53 (0.035): 0.396*\"(\" + 0.367*\")\" + 0.170*\"algorithm\" + 0.011*\"-\" + 0.009*\"polynomi\" + 0.007*\"interchang\" + 0.006*\"deviat\" + 0.005*\"interpol\" + 0.005*\"normal\" + 0.005*\"g5\"\n",
      "2022-02-25 20:10:19,825 : INFO : topic diff=0.335450, rho=0.281696\n",
      "2022-02-25 20:10:19,832 : INFO : PROGRESS: pass 11, at document #2000/3204\n",
      "2022-02-25 20:10:20,578 : INFO : optimized alpha [0.014401153, 0.010988721, 0.012405265, 0.007619742, 0.010214225, 0.011428297, 0.012570911, 0.014004448, 0.012298088, 0.013230768, 0.012279986, 0.013099476, 0.012398736, 0.011008726, 0.011278336, 0.011327486, 0.0116313435, 0.010885576, 0.011617505, 0.010507544, 0.015641093, 0.0137315765, 0.011758561, 0.011051906, 0.01107385, 0.007619742, 0.011010206, 0.011437249, 0.013228144, 0.012546442, 0.011273437, 0.01090939, 0.011721079, 0.011557424, 0.012060337, 0.010562048, 0.012455657, 0.010244618, 0.010999723, 0.0117507605, 0.011894902, 0.012488845, 0.011825175, 0.010301113, 0.010694178, 0.0110500725, 0.011800761, 0.011457952, 0.012497723, 0.014999819, 0.01120284, 0.010092926, 0.014688557, 0.036678925, 0.010470234, 0.015395361, 0.011820046, 0.011308411, 0.011906514, 0.011611324, 0.01179082, 0.013235116, 0.013151381, 0.011962538, 0.011454098, 0.012092208, 0.011133753, 0.009733152, 0.013073319, 0.012265355, 0.013794074, 0.012902511, 0.012539036, 0.011699395, 0.013559174, 0.011788629, 0.012517256, 0.012315834, 0.013047283, 0.012207339, 0.010776189, 0.014209749, 0.010691344, 0.012049591, 0.011888034, 0.0117620025, 0.012029036, 0.011923728, 0.011816527, 0.011828401, 0.01061234, 0.01161086, 0.01124661, 0.013362242, 0.011944105, 0.012474945, 0.012432092, 0.011816313, 0.010578006, 0.011719723]\n",
      "2022-02-25 20:10:20,584 : INFO : merging changes from 2000 documents into a model of 3204 documents\n",
      "2022-02-25 20:10:20,593 : INFO : topic #25 (0.008): 0.001*\"implic\" + 0.001*\"favor\" + 0.001*\"adapt\" + 0.001*\"polygon\" + 0.001*\"stage\" + 0.001*\"situat\" + 0.001*\"respons\" + 0.001*\"industri\" + 0.001*\"regress\" + 0.001*\"drive\"\n",
      "2022-02-25 20:10:20,593 : INFO : topic #3 (0.008): 0.001*\"implic\" + 0.001*\"favor\" + 0.001*\"adapt\" + 0.001*\"polygon\" + 0.001*\"stage\" + 0.001*\"situat\" + 0.001*\"respons\" + 0.001*\"industri\" + 0.001*\"regress\" + 0.001*\"drive\"\n",
      "2022-02-25 20:10:20,594 : INFO : topic #55 (0.015): 0.210*\"languag\" + 0.078*\"algol\" + 0.058*\"program\" + 0.050*\",\" + 0.044*\"type\" + 0.040*\"formal\" + 0.037*\"translat\" + 0.037*\"60\" + 0.034*\"syntax\" + 0.023*\"-\"\n",
      "2022-02-25 20:10:20,594 : INFO : topic #20 (0.016): 0.392*\"problem\" + 0.137*\"solut\" + 0.049*\",\" + 0.043*\"-\" + 0.028*\"paper\" + 0.022*\"gener\" + 0.020*\"nonlinear\" + 0.020*\"linear\" + 0.020*\"present\" + 0.019*\"known\"\n",
      "2022-02-25 20:10:20,595 : INFO : topic #53 (0.037): 0.392*\"(\" + 0.365*\")\" + 0.175*\"algorithm\" + 0.011*\"-\" + 0.010*\"polynomi\" + 0.008*\"interchang\" + 0.006*\"interpol\" + 0.005*\"normal\" + 0.005*\"g5\" + 0.005*\"deviat\"\n",
      "2022-02-25 20:10:20,596 : INFO : topic diff=0.289935, rho=0.271143\n",
      "2022-02-25 20:10:21,388 : INFO : -6.485 per-word bound, 89.6 perplexity estimate based on a held-out corpus of 1204 documents with 49783 words\n",
      "2022-02-25 20:10:21,389 : INFO : PROGRESS: pass 11, at document #3204/3204\n",
      "2022-02-25 20:10:22,042 : INFO : optimized alpha [0.014609553, 0.011117407, 0.012504348, 0.0075643943, 0.010280891, 0.01154722, 0.012729855, 0.014323817, 0.012455982, 0.013546328, 0.012510415, 0.013357655, 0.012618018, 0.011124386, 0.011439243, 0.011424572, 0.011755908, 0.011005075, 0.011730366, 0.01060638, 0.016162176, 0.01402745, 0.011900219, 0.011138624, 0.011140604, 0.0075643943, 0.0110767055, 0.0115556475, 0.013498389, 0.012787387, 0.011390338, 0.01098061, 0.011897769, 0.01172034, 0.012233591, 0.010677651, 0.012704606, 0.010324678, 0.0111179855, 0.011869445, 0.012036806, 0.012658349, 0.011981097, 0.010348026, 0.010790748, 0.011132374, 0.011927891, 0.011609004, 0.012621539, 0.015243359, 0.011320847, 0.0101488875, 0.014951541, 0.038744707, 0.010575461, 0.015654314, 0.011980207, 0.011420891, 0.012021136, 0.011749579, 0.011918773, 0.013521241, 0.01336827, 0.012069304, 0.01157351, 0.012237402, 0.01124603, 0.009782917, 0.013241722, 0.012470711, 0.013993775, 0.013091641, 0.012677267, 0.011792418, 0.013902319, 0.012001471, 0.012742906, 0.012509891, 0.013215901, 0.012437961, 0.01089285, 0.014373807, 0.010795166, 0.012235996, 0.01203606, 0.011840558, 0.012191182, 0.0121200355, 0.012005262, 0.012060336, 0.010697554, 0.011741483, 0.011338911, 0.013256562, 0.01201233, 0.0127011705, 0.012673329, 0.011910547, 0.010683441, 0.01186678]\n",
      "2022-02-25 20:10:22,048 : INFO : merging changes from 1204 documents into a model of 3204 documents\n",
      "2022-02-25 20:10:22,058 : INFO : topic #25 (0.008): 0.001*\"implic\" + 0.001*\"favor\" + 0.001*\"adapt\" + 0.001*\"polygon\" + 0.001*\"stage\" + 0.001*\"situat\" + 0.001*\"respons\" + 0.001*\"industri\" + 0.001*\"regress\" + 0.001*\"drive\"\n",
      "2022-02-25 20:10:22,059 : INFO : topic #3 (0.008): 0.001*\"implic\" + 0.001*\"favor\" + 0.001*\"adapt\" + 0.001*\"polygon\" + 0.001*\"stage\" + 0.001*\"situat\" + 0.001*\"respons\" + 0.001*\"industri\" + 0.001*\"regress\" + 0.001*\"drive\"\n",
      "2022-02-25 20:10:22,059 : INFO : topic #55 (0.016): 0.210*\"languag\" + 0.063*\"algol\" + 0.061*\"program\" + 0.050*\"type\" + 0.050*\",\" + 0.045*\"formal\" + 0.036*\"translat\" + 0.033*\"syntax\" + 0.031*\"60\" + 0.024*\"construct\"\n"
     ]
    },
    {
     "name": "stderr",
     "output_type": "stream",
     "text": [
      "2022-02-25 20:10:22,060 : INFO : topic #20 (0.016): 0.401*\"problem\" + 0.136*\"solut\" + 0.048*\",\" + 0.042*\"-\" + 0.029*\"paper\" + 0.023*\"gener\" + 0.022*\"linear\" + 0.020*\"nonlinear\" + 0.020*\"known\" + 0.020*\"present\"\n",
      "2022-02-25 20:10:22,060 : INFO : topic #53 (0.039): 0.399*\"(\" + 0.368*\")\" + 0.170*\"algorithm\" + 0.011*\"-\" + 0.009*\"polynomi\" + 0.007*\"interchang\" + 0.006*\"deviat\" + 0.005*\"interpol\" + 0.005*\"normal\" + 0.005*\"g5\"\n",
      "2022-02-25 20:10:22,061 : INFO : topic diff=0.296874, rho=0.271143\n",
      "2022-02-25 20:10:22,068 : INFO : PROGRESS: pass 12, at document #2000/3204\n",
      "2022-02-25 20:10:22,791 : INFO : optimized alpha [0.014826922, 0.011114727, 0.012649106, 0.0075229853, 0.010279501, 0.011580798, 0.012870372, 0.014342966, 0.012537821, 0.013604046, 0.012533347, 0.013437431, 0.012683531, 0.011136435, 0.011473866, 0.0114386445, 0.011791793, 0.011049514, 0.011743692, 0.010605099, 0.016352555, 0.0142890075, 0.011940431, 0.011168076, 0.011243238, 0.0075229853, 0.0110972775, 0.011578342, 0.0135909375, 0.012922044, 0.011372164, 0.011019816, 0.011901942, 0.011702455, 0.012266378, 0.010688399, 0.012736298, 0.010292711, 0.011116633, 0.011941613, 0.012034616, 0.01275061, 0.012037923, 0.010345849, 0.010826598, 0.011193953, 0.012035894, 0.011669099, 0.012711079, 0.015449953, 0.011390804, 0.010141833, 0.015087559, 0.040957473, 0.010616223, 0.015927644, 0.01204743, 0.011466911, 0.012119518, 0.011778108, 0.011961959, 0.013483769, 0.013422584, 0.012181179, 0.011644126, 0.012347456, 0.011270429, 0.009752486, 0.01333363, 0.012512765, 0.014002435, 0.0132362135, 0.012779006, 0.011881456, 0.013927973, 0.011955016, 0.012766969, 0.012585762, 0.013371239, 0.012465038, 0.0109045375, 0.014584296, 0.010788132, 0.01229432, 0.012119604, 0.011950669, 0.012209381, 0.012113787, 0.012003407, 0.0121829, 0.010744243, 0.0117626665, 0.011364083, 0.013607075, 0.012138664, 0.012815737, 0.012685151, 0.012005184, 0.010686664, 0.011920446]\n",
      "2022-02-25 20:10:22,797 : INFO : merging changes from 2000 documents into a model of 3204 documents\n",
      "2022-02-25 20:10:22,806 : INFO : topic #3 (0.008): 0.001*\"implic\" + 0.001*\"favor\" + 0.001*\"adapt\" + 0.001*\"polygon\" + 0.001*\"stage\" + 0.001*\"situat\" + 0.001*\"respons\" + 0.001*\"industri\" + 0.001*\"regress\" + 0.001*\"drive\"\n",
      "2022-02-25 20:10:22,807 : INFO : topic #25 (0.008): 0.001*\"implic\" + 0.001*\"favor\" + 0.001*\"adapt\" + 0.001*\"polygon\" + 0.001*\"stage\" + 0.001*\"situat\" + 0.001*\"respons\" + 0.001*\"industri\" + 0.001*\"regress\" + 0.001*\"drive\"\n",
      "2022-02-25 20:10:22,807 : INFO : topic #55 (0.016): 0.215*\"languag\" + 0.077*\"algol\" + 0.059*\"program\" + 0.049*\",\" + 0.044*\"type\" + 0.041*\"formal\" + 0.038*\"translat\" + 0.037*\"60\" + 0.034*\"syntax\" + 0.024*\"-\"\n",
      "2022-02-25 20:10:22,808 : INFO : topic #20 (0.016): 0.402*\"problem\" + 0.138*\"solut\" + 0.048*\",\" + 0.043*\"-\" + 0.028*\"paper\" + 0.023*\"gener\" + 0.021*\"nonlinear\" + 0.020*\"linear\" + 0.020*\"present\" + 0.018*\"known\"\n",
      "2022-02-25 20:10:22,808 : INFO : topic #53 (0.041): 0.395*\"(\" + 0.367*\")\" + 0.175*\"algorithm\" + 0.011*\"-\" + 0.009*\"polynomi\" + 0.008*\"interchang\" + 0.006*\"interpol\" + 0.005*\"normal\" + 0.005*\"deviat\" + 0.005*\"g5\"\n",
      "2022-02-25 20:10:22,809 : INFO : topic diff=0.257727, rho=0.261694\n",
      "2022-02-25 20:10:23,582 : INFO : -6.474 per-word bound, 88.9 perplexity estimate based on a held-out corpus of 1204 documents with 49783 words\n",
      "2022-02-25 20:10:23,582 : INFO : PROGRESS: pass 12, at document #3204/3204\n",
      "2022-02-25 20:10:24,212 : INFO : optimized alpha [0.015029958, 0.01124738, 0.01274508, 0.007471371, 0.010342261, 0.011704248, 0.0130281355, 0.014656048, 0.012689025, 0.013932327, 0.012772434, 0.01369909, 0.012900914, 0.011256353, 0.011643428, 0.011533146, 0.011915699, 0.011163647, 0.011848388, 0.010703706, 0.016870445, 0.014608326, 0.0120784845, 0.011254931, 0.0113079185, 0.007471371, 0.011169377, 0.011696235, 0.013861935, 0.01316726, 0.011483438, 0.011093879, 0.012084805, 0.011861305, 0.012440774, 0.0108104, 0.012996766, 0.010370743, 0.011229377, 0.0120571535, 0.012175443, 0.01291603, 0.012197766, 0.010391762, 0.010927713, 0.011276395, 0.0121596465, 0.011826551, 0.012839852, 0.01569457, 0.011508238, 0.01019872, 0.0153383445, 0.043157827, 0.010721045, 0.016187789, 0.012211699, 0.011581374, 0.012230933, 0.011915374, 0.012076099, 0.013769317, 0.013625488, 0.012287535, 0.011765371, 0.012480855, 0.011377347, 0.00979908, 0.013497736, 0.01272438, 0.014203098, 0.01341521, 0.012924544, 0.011969207, 0.014265379, 0.012168043, 0.012998651, 0.012775364, 0.013538338, 0.012693429, 0.01102049, 0.014750031, 0.010882099, 0.01248192, 0.012258622, 0.012039902, 0.012372859, 0.012308047, 0.012197992, 0.012434992, 0.010843682, 0.011887372, 0.011453916, 0.013498645, 0.012201822, 0.013046145, 0.012918412, 0.012107226, 0.010796401, 0.012076786]\n",
      "2022-02-25 20:10:24,217 : INFO : merging changes from 1204 documents into a model of 3204 documents\n",
      "2022-02-25 20:10:24,226 : INFO : topic #25 (0.007): 0.001*\"implic\" + 0.001*\"favor\" + 0.001*\"adapt\" + 0.001*\"polygon\" + 0.001*\"stage\" + 0.001*\"situat\" + 0.001*\"respons\" + 0.001*\"industri\" + 0.001*\"regress\" + 0.001*\"drive\"\n",
      "2022-02-25 20:10:24,227 : INFO : topic #3 (0.007): 0.001*\"implic\" + 0.001*\"favor\" + 0.001*\"adapt\" + 0.001*\"polygon\" + 0.001*\"stage\" + 0.001*\"situat\" + 0.001*\"respons\" + 0.001*\"industri\" + 0.001*\"regress\" + 0.001*\"drive\"\n",
      "2022-02-25 20:10:24,227 : INFO : topic #55 (0.016): 0.216*\"languag\" + 0.063*\"algol\" + 0.062*\"program\" + 0.050*\"type\" + 0.049*\",\" + 0.045*\"formal\" + 0.036*\"translat\" + 0.033*\"syntax\" + 0.031*\"60\" + 0.025*\"construct\"\n",
      "2022-02-25 20:10:24,228 : INFO : topic #20 (0.017): 0.408*\"problem\" + 0.136*\"solut\" + 0.047*\",\" + 0.042*\"-\" + 0.030*\"paper\" + 0.024*\"gener\" + 0.022*\"linear\" + 0.021*\"nonlinear\" + 0.020*\"present\" + 0.020*\"known\"\n",
      "2022-02-25 20:10:24,228 : INFO : topic #53 (0.043): 0.402*\"(\" + 0.369*\")\" + 0.170*\"algorithm\" + 0.011*\"-\" + 0.008*\"polynomi\" + 0.006*\"interchang\" + 0.006*\"deviat\" + 0.005*\"interpol\" + 0.005*\"normal\" + 0.005*\"g5\"\n",
      "2022-02-25 20:10:24,229 : INFO : topic diff=0.265426, rho=0.261694\n",
      "2022-02-25 20:10:24,236 : INFO : PROGRESS: pass 13, at document #2000/3204\n",
      "2022-02-25 20:10:24,937 : INFO : optimized alpha [0.015243697, 0.011246074, 0.012891807, 0.007432704, 0.010342592, 0.01173985, 0.0131741045, 0.014678799, 0.0127720395, 0.0139981555, 0.012800464, 0.013779727, 0.012962755, 0.011268059, 0.01168438, 0.011544012, 0.011949103, 0.0112098055, 0.011868997, 0.010706708, 0.017065154, 0.014885984, 0.012119076, 0.011285212, 0.011408325, 0.007432704, 0.011183966, 0.011716827, 0.01395186, 0.013307921, 0.011465888, 0.011129391, 0.0120900115, 0.011848288, 0.012473971, 0.0108180875, 0.013030125, 0.010341435, 0.011226703, 0.012127563, 0.0121716475, 0.013007668, 0.012259178, 0.010390133, 0.010964088, 0.011337981, 0.012268357, 0.011888021, 0.01293375, 0.015905173, 0.011579437, 0.0101936, 0.015485124, 0.04547625, 0.010762142, 0.01646579, 0.012288053, 0.011626146, 0.012328693, 0.011941467, 0.012116658, 0.013738394, 0.013686815, 0.012396977, 0.011835776, 0.0125901075, 0.011404, 0.00976772, 0.013582145, 0.012763232, 0.014211049, 0.013561937, 0.01302065, 0.012059233, 0.014296107, 0.012123711, 0.013019608, 0.012850829, 0.013700966, 0.012720701, 0.011033217, 0.014958655, 0.010875402, 0.012540148, 0.012344865, 0.012150672, 0.012395051, 0.012302987, 0.01219564, 0.012571061, 0.010900438, 0.011911006, 0.011482947, 0.013838008, 0.012328462, 0.013166585, 0.012925869, 0.012212062, 0.010800925, 0.012127443]\n",
      "2022-02-25 20:10:24,943 : INFO : merging changes from 2000 documents into a model of 3204 documents\n",
      "2022-02-25 20:10:24,952 : INFO : topic #3 (0.007): 0.001*\"implic\" + 0.001*\"favor\" + 0.001*\"adapt\" + 0.001*\"polygon\" + 0.001*\"stage\" + 0.001*\"situat\" + 0.001*\"respons\" + 0.001*\"industri\" + 0.001*\"regress\" + 0.001*\"drive\"\n",
      "2022-02-25 20:10:24,952 : INFO : topic #25 (0.007): 0.001*\"implic\" + 0.001*\"favor\" + 0.001*\"adapt\" + 0.001*\"polygon\" + 0.001*\"stage\" + 0.001*\"situat\" + 0.001*\"respons\" + 0.001*\"industri\" + 0.001*\"regress\" + 0.001*\"drive\"\n",
      "2022-02-25 20:10:24,953 : INFO : topic #55 (0.016): 0.220*\"languag\" + 0.077*\"algol\" + 0.060*\"program\" + 0.048*\",\" + 0.043*\"type\" + 0.041*\"formal\" + 0.039*\"translat\" + 0.037*\"60\" + 0.033*\"syntax\" + 0.024*\"-\"\n",
      "2022-02-25 20:10:24,953 : INFO : topic #20 (0.017): 0.409*\"problem\" + 0.137*\"solut\" + 0.047*\",\" + 0.043*\"-\" + 0.028*\"paper\" + 0.023*\"gener\" + 0.022*\"nonlinear\" + 0.020*\"present\" + 0.020*\"linear\" + 0.018*\"known\"\n"
     ]
    },
    {
     "name": "stderr",
     "output_type": "stream",
     "text": [
      "2022-02-25 20:10:24,954 : INFO : topic #53 (0.045): 0.398*\"(\" + 0.368*\")\" + 0.174*\"algorithm\" + 0.011*\"-\" + 0.009*\"polynomi\" + 0.008*\"interchang\" + 0.006*\"interpol\" + 0.005*\"normal\" + 0.005*\"deviat\" + 0.005*\"g5\"\n",
      "2022-02-25 20:10:24,955 : INFO : topic diff=0.232520, rho=0.253169\n",
      "2022-02-25 20:10:25,711 : INFO : -6.465 per-word bound, 88.3 perplexity estimate based on a held-out corpus of 1204 documents with 49783 words\n",
      "2022-02-25 20:10:25,711 : INFO : PROGRESS: pass 13, at document #3204/3204\n",
      "2022-02-25 20:10:26,333 : INFO : optimized alpha [0.015442012, 0.011377829, 0.012990334, 0.007384362, 0.010406075, 0.011867768, 0.013330947, 0.0149892755, 0.012924992, 0.0143367415, 0.013035066, 0.014036733, 0.013178579, 0.011380334, 0.011855335, 0.01164607, 0.012064971, 0.011321281, 0.011968531, 0.010807453, 0.017569393, 0.015214331, 0.012253832, 0.011374732, 0.011468702, 0.007384362, 0.01124958, 0.011836894, 0.014212253, 0.013563403, 0.011572019, 0.011203972, 0.012266349, 0.012008486, 0.012647216, 0.010941841, 0.013286042, 0.010417648, 0.0113367075, 0.01224277, 0.012306505, 0.013169343, 0.01241553, 0.010435117, 0.011067454, 0.011418282, 0.012389049, 0.012039535, 0.013051086, 0.016144564, 0.011694003, 0.010251397, 0.015727587, 0.047719564, 0.010871268, 0.016720572, 0.012453928, 0.011737806, 0.012437231, 0.012070534, 0.012225423, 0.014018203, 0.013894021, 0.0125005115, 0.011954105, 0.0127281975, 0.011508281, 0.009813425, 0.013753834, 0.012975889, 0.01440098, 0.013739784, 0.0131653575, 0.012144599, 0.014634472, 0.012342432, 0.013246647, 0.013044495, 0.013866971, 0.012933826, 0.011146364, 0.015129554, 0.010967099, 0.0127319, 0.012480512, 0.012234889, 0.012557395, 0.012490365, 0.012396287, 0.012833222, 0.0109883165, 0.012040332, 0.011570555, 0.013729886, 0.012392054, 0.013398585, 0.013162685, 0.012301121, 0.010914908, 0.012285492]\n",
      "2022-02-25 20:10:26,339 : INFO : merging changes from 1204 documents into a model of 3204 documents\n",
      "2022-02-25 20:10:26,348 : INFO : topic #25 (0.007): 0.001*\"implic\" + 0.001*\"favor\" + 0.001*\"adapt\" + 0.001*\"polygon\" + 0.001*\"stage\" + 0.001*\"situat\" + 0.001*\"respons\" + 0.001*\"industri\" + 0.001*\"regress\" + 0.001*\"drive\"\n",
      "2022-02-25 20:10:26,349 : INFO : topic #3 (0.007): 0.001*\"implic\" + 0.001*\"favor\" + 0.001*\"adapt\" + 0.001*\"polygon\" + 0.001*\"stage\" + 0.001*\"situat\" + 0.001*\"respons\" + 0.001*\"industri\" + 0.001*\"regress\" + 0.001*\"drive\"\n",
      "2022-02-25 20:10:26,349 : INFO : topic #55 (0.017): 0.221*\"languag\" + 0.063*\"algol\" + 0.063*\"program\" + 0.049*\"type\" + 0.049*\",\" + 0.045*\"formal\" + 0.037*\"translat\" + 0.033*\"syntax\" + 0.031*\"60\" + 0.025*\"construct\"\n",
      "2022-02-25 20:10:26,350 : INFO : topic #20 (0.018): 0.414*\"problem\" + 0.135*\"solut\" + 0.047*\",\" + 0.042*\"-\" + 0.030*\"paper\" + 0.024*\"gener\" + 0.021*\"nonlinear\" + 0.021*\"linear\" + 0.020*\"present\" + 0.020*\"known\"\n",
      "2022-02-25 20:10:26,350 : INFO : topic #53 (0.048): 0.404*\"(\" + 0.370*\")\" + 0.170*\"algorithm\" + 0.011*\"-\" + 0.008*\"polynomi\" + 0.006*\"interchang\" + 0.005*\"deviat\" + 0.005*\"interpol\" + 0.005*\"normal\" + 0.005*\"g5\"\n",
      "2022-02-25 20:10:26,351 : INFO : topic diff=0.240047, rho=0.253169\n",
      "2022-02-25 20:10:26,358 : INFO : PROGRESS: pass 14, at document #2000/3204\n",
      "2022-02-25 20:10:27,055 : INFO : optimized alpha [0.015661957, 0.01137645, 0.013134325, 0.0073481114, 0.010407962, 0.011900927, 0.013472595, 0.015008168, 0.013002878, 0.014396442, 0.0130649125, 0.014115069, 0.013241854, 0.01139598, 0.011903829, 0.011658198, 0.012096094, 0.011367798, 0.011990142, 0.010813099, 0.017764535, 0.015497626, 0.012297831, 0.0114043765, 0.011568498, 0.0073481114, 0.011259883, 0.01185988, 0.014296227, 0.0137166185, 0.011556518, 0.011240167, 0.012275572, 0.012002975, 0.012679366, 0.010955976, 0.013314488, 0.01039081, 0.011335542, 0.012317643, 0.012304313, 0.013260507, 0.012479934, 0.010435249, 0.011100266, 0.011479923, 0.012498625, 0.012100954, 0.013138236, 0.016347747, 0.0117650805, 0.01024806, 0.015863415, 0.05012709, 0.010907357, 0.01699724, 0.01252855, 0.011781515, 0.012536022, 0.012098931, 0.012265017, 0.013986693, 0.013955269, 0.012606145, 0.012024409, 0.01283834, 0.011532888, 0.009784724, 0.013836182, 0.013018077, 0.014408267, 0.013888972, 0.013260937, 0.012231265, 0.014661082, 0.012295349, 0.013272849, 0.013119606, 0.014033564, 0.012958199, 0.011161422, 0.015333051, 0.010956678, 0.0127916215, 0.012569493, 0.012348082, 0.012578751, 0.01248647, 0.012397965, 0.012987687, 0.011042499, 0.012066331, 0.011598987, 0.01406552, 0.012516159, 0.013528284, 0.0131723955, 0.012400838, 0.010931471, 0.012333276]\n",
      "2022-02-25 20:10:27,061 : INFO : merging changes from 2000 documents into a model of 3204 documents\n",
      "2022-02-25 20:10:27,071 : INFO : topic #3 (0.007): 0.001*\"implic\" + 0.001*\"favor\" + 0.001*\"adapt\" + 0.001*\"polygon\" + 0.001*\"stage\" + 0.001*\"situat\" + 0.001*\"respons\" + 0.001*\"industri\" + 0.001*\"regress\" + 0.001*\"drive\"\n",
      "2022-02-25 20:10:27,072 : INFO : topic #25 (0.007): 0.001*\"implic\" + 0.001*\"favor\" + 0.001*\"adapt\" + 0.001*\"polygon\" + 0.001*\"stage\" + 0.001*\"situat\" + 0.001*\"respons\" + 0.001*\"industri\" + 0.001*\"regress\" + 0.001*\"drive\"\n",
      "2022-02-25 20:10:27,072 : INFO : topic #55 (0.017): 0.225*\"languag\" + 0.076*\"algol\" + 0.061*\"program\" + 0.048*\",\" + 0.043*\"type\" + 0.041*\"formal\" + 0.040*\"translat\" + 0.037*\"60\" + 0.033*\"syntax\" + 0.025*\"-\"\n",
      "2022-02-25 20:10:27,073 : INFO : topic #20 (0.018): 0.414*\"problem\" + 0.137*\"solut\" + 0.046*\",\" + 0.043*\"-\" + 0.029*\"paper\" + 0.024*\"gener\" + 0.022*\"nonlinear\" + 0.020*\"present\" + 0.020*\"linear\" + 0.018*\"known\"\n",
      "2022-02-25 20:10:27,073 : INFO : topic #53 (0.050): 0.400*\"(\" + 0.368*\")\" + 0.174*\"algorithm\" + 0.011*\"-\" + 0.009*\"polynomi\" + 0.008*\"interchang\" + 0.006*\"interpol\" + 0.005*\"normal\" + 0.005*\"deviat\" + 0.005*\"g5\"\n",
      "2022-02-25 20:10:27,074 : INFO : topic diff=0.212291, rho=0.245426\n",
      "2022-02-25 20:10:27,814 : INFO : -6.457 per-word bound, 87.8 perplexity estimate based on a held-out corpus of 1204 documents with 49783 words\n",
      "2022-02-25 20:10:27,815 : INFO : PROGRESS: pass 14, at document #3204/3204\n",
      "2022-02-25 20:10:28,414 : INFO : optimized alpha [0.015849352, 0.0115006855, 0.013235527, 0.0073026824, 0.01047427, 0.012033411, 0.013628801, 0.015313505, 0.013149868, 0.014739676, 0.013300806, 0.014373457, 0.013464616, 0.011510443, 0.012086333, 0.011758045, 0.012211795, 0.011488666, 0.012087412, 0.010913846, 0.01829095, 0.015832422, 0.01242708, 0.011489545, 0.011629577, 0.0073026824, 0.011321828, 0.011977329, 0.014558066, 0.013980063, 0.011669689, 0.011315323, 0.012445772, 0.012157286, 0.012851713, 0.011083848, 0.013563421, 0.010467515, 0.011440766, 0.012435266, 0.012431071, 0.013424251, 0.012630483, 0.010481524, 0.011201312, 0.011562942, 0.012619092, 0.012259212, 0.013250142, 0.016582232, 0.0118819, 0.010300452, 0.016124388, 0.05239297, 0.011016336, 0.017261127, 0.012691183, 0.01189063, 0.012649664, 0.012225177, 0.012376327, 0.0142613435, 0.014164296, 0.012707127, 0.012137647, 0.012981112, 0.011637205, 0.009829629, 0.014004203, 0.0132348295, 0.014591089, 0.014063189, 0.013407761, 0.0123169515, 0.014994731, 0.012512267, 0.01347644, 0.013309515, 0.0142044965, 0.0131646665, 0.011274295, 0.015487218, 0.011050833, 0.012984944, 0.012704661, 0.012435213, 0.012729947, 0.012672499, 0.012582041, 0.013265725, 0.0111375265, 0.012192806, 0.011682192, 0.013954792, 0.012577789, 0.013765195, 0.013399499, 0.012497829, 0.011047411, 0.012493215]\n",
      "2022-02-25 20:10:28,419 : INFO : merging changes from 1204 documents into a model of 3204 documents\n",
      "2022-02-25 20:10:28,428 : INFO : topic #3 (0.007): 0.001*\"implic\" + 0.001*\"favor\" + 0.001*\"adapt\" + 0.001*\"polygon\" + 0.001*\"stage\" + 0.001*\"situat\" + 0.001*\"respons\" + 0.001*\"industri\" + 0.001*\"regress\" + 0.001*\"drive\"\n",
      "2022-02-25 20:10:28,429 : INFO : topic #25 (0.007): 0.001*\"implic\" + 0.001*\"favor\" + 0.001*\"adapt\" + 0.001*\"polygon\" + 0.001*\"stage\" + 0.001*\"situat\" + 0.001*\"respons\" + 0.001*\"industri\" + 0.001*\"regress\" + 0.001*\"drive\"\n",
      "2022-02-25 20:10:28,430 : INFO : topic #55 (0.017): 0.225*\"languag\" + 0.064*\"program\" + 0.063*\"algol\" + 0.048*\"type\" + 0.048*\",\" + 0.045*\"formal\" + 0.038*\"translat\" + 0.033*\"syntax\" + 0.031*\"60\" + 0.025*\"construct\"\n",
      "2022-02-25 20:10:28,430 : INFO : topic #20 (0.018): 0.419*\"problem\" + 0.134*\"solut\" + 0.046*\",\" + 0.042*\"-\" + 0.030*\"paper\" + 0.024*\"gener\" + 0.022*\"nonlinear\" + 0.021*\"present\" + 0.020*\"linear\" + 0.019*\"known\"\n"
     ]
    },
    {
     "name": "stderr",
     "output_type": "stream",
     "text": [
      "2022-02-25 20:10:28,431 : INFO : topic #53 (0.052): 0.405*\"(\" + 0.370*\")\" + 0.170*\"algorithm\" + 0.011*\"-\" + 0.008*\"polynomi\" + 0.006*\"interchang\" + 0.005*\"deviat\" + 0.005*\"interpol\" + 0.005*\"normal\" + 0.005*\"g5\"\n",
      "2022-02-25 20:10:28,432 : INFO : topic diff=0.219372, rho=0.245426\n",
      "2022-02-25 20:10:28,439 : INFO : PROGRESS: pass 15, at document #2000/3204\n",
      "2022-02-25 20:10:29,125 : INFO : optimized alpha [0.016071688, 0.011501996, 0.013375412, 0.0072685867, 0.010477618, 0.01206577, 0.013766455, 0.015330596, 0.013222894, 0.014810896, 0.0133308815, 0.014447958, 0.01352608, 0.011528477, 0.012140886, 0.011768516, 0.012243614, 0.0115327565, 0.012111568, 0.010923322, 0.018479953, 0.016117873, 0.012470026, 0.011525577, 0.011727533, 0.0072685867, 0.0113348905, 0.012001231, 0.014641481, 0.014134572, 0.011653261, 0.011350854, 0.012457508, 0.012150179, 0.0128828315, 0.011102839, 0.013590395, 0.010440436, 0.01143832, 0.012511614, 0.01243188, 0.013515111, 0.012694999, 0.010483306, 0.011236125, 0.011623344, 0.01272665, 0.012320666, 0.0133466385, 0.01678425, 0.011957202, 0.010297547, 0.016261538, 0.0548569, 0.011056854, 0.017542992, 0.012768794, 0.011936208, 0.012751169, 0.012252882, 0.012416544, 0.01422929, 0.0142238885, 0.012812288, 0.012209401, 0.0130845355, 0.011661284, 0.009803417, 0.014083028, 0.01328032, 0.014599603, 0.0142082, 0.01350611, 0.0124048535, 0.01501924, 0.012467021, 0.013503142, 0.013384384, 0.014370171, 0.013188016, 0.011288989, 0.01568577, 0.011040815, 0.013041525, 0.012790336, 0.012543361, 0.01275525, 0.012665141, 0.0125847235, 0.013434226, 0.011192032, 0.012222576, 0.011711473, 0.014285494, 0.012702555, 0.013891186, 0.013409858, 0.012601777, 0.011068861, 0.012542742]\n",
      "2022-02-25 20:10:29,131 : INFO : merging changes from 2000 documents into a model of 3204 documents\n",
      "2022-02-25 20:10:29,142 : INFO : topic #25 (0.007): 0.001*\"implic\" + 0.001*\"favor\" + 0.001*\"adapt\" + 0.001*\"polygon\" + 0.001*\"stage\" + 0.001*\"situat\" + 0.001*\"respons\" + 0.001*\"industri\" + 0.001*\"regress\" + 0.001*\"drive\"\n",
      "2022-02-25 20:10:29,142 : INFO : topic #3 (0.007): 0.001*\"implic\" + 0.001*\"favor\" + 0.001*\"adapt\" + 0.001*\"polygon\" + 0.001*\"stage\" + 0.001*\"situat\" + 0.001*\"respons\" + 0.001*\"industri\" + 0.001*\"regress\" + 0.001*\"drive\"\n",
      "2022-02-25 20:10:29,143 : INFO : topic #55 (0.018): 0.229*\"languag\" + 0.076*\"algol\" + 0.062*\"program\" + 0.047*\",\" + 0.043*\"type\" + 0.041*\"formal\" + 0.040*\"translat\" + 0.036*\"60\" + 0.033*\"syntax\" + 0.025*\"-\"\n",
      "2022-02-25 20:10:29,143 : INFO : topic #20 (0.018): 0.420*\"problem\" + 0.136*\"solut\" + 0.046*\",\" + 0.042*\"-\" + 0.029*\"paper\" + 0.024*\"gener\" + 0.023*\"nonlinear\" + 0.020*\"present\" + 0.019*\"linear\" + 0.018*\"known\"\n",
      "2022-02-25 20:10:29,144 : INFO : topic #53 (0.055): 0.402*\"(\" + 0.368*\")\" + 0.174*\"algorithm\" + 0.011*\"-\" + 0.008*\"polynomi\" + 0.008*\"interchang\" + 0.006*\"interpol\" + 0.005*\"normal\" + 0.005*\"deviat\" + 0.005*\"g5\"\n",
      "2022-02-25 20:10:29,145 : INFO : topic diff=0.195599, rho=0.238352\n",
      "2022-02-25 20:10:29,877 : INFO : -6.448 per-word bound, 87.3 perplexity estimate based on a held-out corpus of 1204 documents with 49783 words\n",
      "2022-02-25 20:10:29,878 : INFO : PROGRESS: pass 15, at document #3204/3204\n",
      "2022-02-25 20:10:30,467 : INFO : optimized alpha [0.016267767, 0.01162142, 0.013474055, 0.007225772, 0.010538446, 0.012197948, 0.01392223, 0.015634224, 0.013358965, 0.015168363, 0.013565733, 0.014699571, 0.013745316, 0.011642904, 0.0123301335, 0.011866363, 0.012356963, 0.011651298, 0.012206802, 0.011021998, 0.019018693, 0.016465593, 0.0125991, 0.0116135515, 0.011789384, 0.007225772, 0.011391088, 0.012116376, 0.014902236, 0.014411821, 0.011761789, 0.011426678, 0.012617018, 0.012303993, 0.013051963, 0.011228228, 0.013838142, 0.010515607, 0.011543641, 0.012641579, 0.012566036, 0.013675759, 0.012845201, 0.01053087, 0.011341849, 0.011704526, 0.012847038, 0.012478456, 0.013464037, 0.017014263, 0.012073976, 0.010353084, 0.016508283, 0.057190895, 0.011159267, 0.01780218, 0.01293611, 0.012045399, 0.012862336, 0.012374128, 0.012525583, 0.014490729, 0.014434902, 0.012908403, 0.012320254, 0.0132296635, 0.011765722, 0.009847598, 0.014259062, 0.0134935025, 0.014781493, 0.014376202, 0.013652566, 0.012486076, 0.015354429, 0.012685007, 0.013702848, 0.013581526, 0.01454055, 0.013388197, 0.011401786, 0.01585185, 0.011137396, 0.013239209, 0.012922773, 0.012630912, 0.0128957685, 0.012847651, 0.012772745, 0.013731592, 0.011296372, 0.012344004, 0.011795239, 0.014177913, 0.0127623705, 0.014127718, 0.013633095, 0.012694021, 0.011187005, 0.012707224]\n",
      "2022-02-25 20:10:30,473 : INFO : merging changes from 1204 documents into a model of 3204 documents\n",
      "2022-02-25 20:10:30,482 : INFO : topic #25 (0.007): 0.001*\"implic\" + 0.001*\"favor\" + 0.001*\"adapt\" + 0.001*\"polygon\" + 0.001*\"stage\" + 0.001*\"situat\" + 0.001*\"respons\" + 0.001*\"industri\" + 0.001*\"regress\" + 0.001*\"drive\"\n",
      "2022-02-25 20:10:30,483 : INFO : topic #3 (0.007): 0.001*\"implic\" + 0.001*\"favor\" + 0.001*\"adapt\" + 0.001*\"polygon\" + 0.001*\"stage\" + 0.001*\"situat\" + 0.001*\"respons\" + 0.001*\"industri\" + 0.001*\"regress\" + 0.001*\"drive\"\n",
      "2022-02-25 20:10:30,484 : INFO : topic #55 (0.018): 0.229*\"languag\" + 0.064*\"program\" + 0.064*\"algol\" + 0.048*\"type\" + 0.047*\",\" + 0.045*\"formal\" + 0.038*\"translat\" + 0.033*\"syntax\" + 0.031*\"60\" + 0.025*\"construct\"\n",
      "2022-02-25 20:10:30,484 : INFO : topic #20 (0.019): 0.425*\"problem\" + 0.134*\"solut\" + 0.045*\",\" + 0.042*\"-\" + 0.030*\"paper\" + 0.025*\"gener\" + 0.023*\"nonlinear\" + 0.021*\"present\" + 0.020*\"known\" + 0.019*\"linear\"\n",
      "2022-02-25 20:10:30,485 : INFO : topic #53 (0.057): 0.407*\"(\" + 0.370*\")\" + 0.169*\"algorithm\" + 0.011*\"-\" + 0.008*\"polynomi\" + 0.006*\"interchang\" + 0.005*\"deviat\" + 0.005*\"normal\" + 0.005*\"interpol\" + 0.005*\"g5\"\n",
      "2022-02-25 20:10:30,486 : INFO : topic diff=0.202284, rho=0.238352\n",
      "2022-02-25 20:10:30,493 : INFO : PROGRESS: pass 16, at document #2000/3204\n",
      "2022-02-25 20:10:31,164 : INFO : optimized alpha [0.016500507, 0.011621309, 0.013613249, 0.0071936226, 0.010545667, 0.012229508, 0.014062538, 0.015649667, 0.013427391, 0.015233656, 0.013596094, 0.0147686815, 0.0138051845, 0.011663299, 0.012384821, 0.011876759, 0.012391009, 0.011698579, 0.012230585, 0.011032596, 0.019212656, 0.016764851, 0.01264547, 0.011654302, 0.011885675, 0.0071936226, 0.011402776, 0.012144129, 0.014983559, 0.0145775955, 0.011747191, 0.011462952, 0.012631128, 0.01229828, 0.013085204, 0.011250627, 0.013863779, 0.010489501, 0.011539988, 0.012716496, 0.012563838, 0.013766489, 0.012909846, 0.010532964, 0.011375972, 0.011765183, 0.012955754, 0.012538595, 0.013558808, 0.017227234, 0.01214926, 0.010350575, 0.016631171, 0.05977231, 0.011205565, 0.018083353, 0.013015196, 0.012090076, 0.012969559, 0.012402678, 0.012566511, 0.014461656, 0.01449452, 0.013013279, 0.012392077, 0.013334327, 0.011789301, 0.0098213665, 0.01434275, 0.013543814, 0.014785997, 0.014520598, 0.01374914, 0.012569511, 0.015382317, 0.012641493, 0.013726882, 0.013657927, 0.01470723, 0.013415243, 0.011420094, 0.016047549, 0.011127737, 0.013300633, 0.013009917, 0.012746162, 0.012915887, 0.012847502, 0.012768973, 0.013905045, 0.011352509, 0.012370234, 0.011826803, 0.014502537, 0.012883448, 0.014258376, 0.013644111, 0.012800727, 0.01121188, 0.012755537]\n",
      "2022-02-25 20:10:31,170 : INFO : merging changes from 2000 documents into a model of 3204 documents\n",
      "2022-02-25 20:10:31,178 : INFO : topic #25 (0.007): 0.001*\"implic\" + 0.001*\"favor\" + 0.001*\"adapt\" + 0.001*\"polygon\" + 0.001*\"stage\" + 0.001*\"situat\" + 0.001*\"respons\" + 0.001*\"industri\" + 0.001*\"regress\" + 0.001*\"drive\"\n",
      "2022-02-25 20:10:31,179 : INFO : topic #3 (0.007): 0.001*\"implic\" + 0.001*\"favor\" + 0.001*\"adapt\" + 0.001*\"polygon\" + 0.001*\"stage\" + 0.001*\"situat\" + 0.001*\"respons\" + 0.001*\"industri\" + 0.001*\"regress\" + 0.001*\"drive\"\n",
      "2022-02-25 20:10:31,180 : INFO : topic #55 (0.018): 0.233*\"languag\" + 0.076*\"algol\" + 0.062*\"program\" + 0.046*\",\" + 0.043*\"type\" + 0.042*\"formal\" + 0.041*\"translat\" + 0.036*\"60\" + 0.033*\"syntax\" + 0.026*\"-\"\n",
      "2022-02-25 20:10:31,180 : INFO : topic #20 (0.019): 0.425*\"problem\" + 0.135*\"solut\" + 0.045*\",\" + 0.042*\"-\" + 0.029*\"paper\" + 0.024*\"gener\" + 0.023*\"nonlinear\" + 0.021*\"present\" + 0.018*\"known\" + 0.018*\"linear\"\n",
      "2022-02-25 20:10:31,180 : INFO : topic #53 (0.060): 0.403*\"(\" + 0.369*\")\" + 0.174*\"algorithm\" + 0.011*\"-\" + 0.008*\"polynomi\" + 0.007*\"interchang\" + 0.005*\"interpol\" + 0.005*\"normal\" + 0.005*\"deviat\" + 0.005*\"g5\"\n"
     ]
    },
    {
     "name": "stderr",
     "output_type": "stream",
     "text": [
      "2022-02-25 20:10:31,181 : INFO : topic diff=0.181483, rho=0.231857\n",
      "2022-02-25 20:10:31,907 : INFO : -6.441 per-word bound, 86.9 perplexity estimate based on a held-out corpus of 1204 documents with 49783 words\n",
      "2022-02-25 20:10:31,908 : INFO : PROGRESS: pass 16, at document #3204/3204\n",
      "2022-02-25 20:10:32,479 : INFO : optimized alpha [0.016686205, 0.011738398, 0.013714703, 0.0071531506, 0.010607411, 0.012356819, 0.014218062, 0.015952034, 0.013563424, 0.0155881345, 0.013835406, 0.015019471, 0.014034349, 0.0117844725, 0.012573848, 0.011972699, 0.012502164, 0.011812649, 0.012323943, 0.011129363, 0.019753095, 0.01712299, 0.0127745, 0.011740548, 0.011948371, 0.0071531506, 0.011453543, 0.012254696, 0.015237782, 0.014877797, 0.0118558295, 0.011539509, 0.012785327, 0.012449338, 0.013256467, 0.011378146, 0.0141053, 0.010565285, 0.011643293, 0.012848929, 0.012690427, 0.013932229, 0.0130622815, 0.010575613, 0.011481918, 0.011842364, 0.013078687, 0.01269613, 0.013671121, 0.017456328, 0.012270795, 0.010407119, 0.016873963, 0.06209524, 0.011312542, 0.018341877, 0.013169501, 0.012201746, 0.013075883, 0.01252406, 0.012678353, 0.014724436, 0.014707725, 0.013107274, 0.012498354, 0.013476815, 0.011891718, 0.009864875, 0.014521173, 0.013758909, 0.014967269, 0.014693872, 0.013895394, 0.012651354, 0.015716672, 0.01285593, 0.013925926, 0.013859804, 0.014882745, 0.013614846, 0.01153292, 0.016210224, 0.0112246685, 0.013490305, 0.013139769, 0.0128341885, 0.013058802, 0.013026873, 0.012961169, 0.014222261, 0.011463766, 0.012489354, 0.011906633, 0.014392305, 0.012941603, 0.014497633, 0.013869132, 0.012888447, 0.011327886, 0.0129270675]\n",
      "2022-02-25 20:10:32,485 : INFO : merging changes from 1204 documents into a model of 3204 documents\n",
      "2022-02-25 20:10:32,494 : INFO : topic #25 (0.007): 0.001*\"implic\" + 0.001*\"favor\" + 0.001*\"adapt\" + 0.001*\"polygon\" + 0.001*\"stage\" + 0.001*\"situat\" + 0.001*\"respons\" + 0.001*\"industri\" + 0.001*\"regress\" + 0.001*\"drive\"\n",
      "2022-02-25 20:10:32,494 : INFO : topic #3 (0.007): 0.001*\"implic\" + 0.001*\"favor\" + 0.001*\"adapt\" + 0.001*\"polygon\" + 0.001*\"stage\" + 0.001*\"situat\" + 0.001*\"respons\" + 0.001*\"industri\" + 0.001*\"regress\" + 0.001*\"drive\"\n",
      "2022-02-25 20:10:32,495 : INFO : topic #55 (0.018): 0.233*\"languag\" + 0.065*\"program\" + 0.064*\"algol\" + 0.048*\"type\" + 0.047*\",\" + 0.045*\"formal\" + 0.039*\"translat\" + 0.032*\"syntax\" + 0.031*\"60\" + 0.025*\"-\"\n",
      "2022-02-25 20:10:32,496 : INFO : topic #20 (0.020): 0.430*\"problem\" + 0.133*\"solut\" + 0.045*\",\" + 0.042*\"-\" + 0.030*\"paper\" + 0.025*\"gener\" + 0.023*\"nonlinear\" + 0.021*\"present\" + 0.020*\"known\" + 0.018*\"linear\"\n",
      "2022-02-25 20:10:32,496 : INFO : topic #53 (0.062): 0.408*\"(\" + 0.371*\")\" + 0.170*\"algorithm\" + 0.011*\"-\" + 0.007*\"polynomi\" + 0.006*\"interchang\" + 0.005*\"deviat\" + 0.005*\"interpol\" + 0.005*\"normal\" + 0.005*\"g5\"\n",
      "2022-02-25 20:10:32,497 : INFO : topic diff=0.187480, rho=0.231857\n",
      "2022-02-25 20:10:32,504 : INFO : PROGRESS: pass 17, at document #2000/3204\n",
      "2022-02-25 20:10:33,159 : INFO : optimized alpha [0.0169164, 0.011738264, 0.013850294, 0.0071227504, 0.010614664, 0.0123862745, 0.01435797, 0.015964061, 0.01362586, 0.015654657, 0.013866098, 0.015093492, 0.014100595, 0.011809677, 0.012631649, 0.011984368, 0.012534127, 0.011867106, 0.012347352, 0.011142325, 0.019945428, 0.017430957, 0.012819952, 0.011776643, 0.012045848, 0.0071227504, 0.011461446, 0.012284749, 0.015315351, 0.015052018, 0.011843046, 0.011577749, 0.012801823, 0.012443506, 0.013293393, 0.011400075, 0.0141312955, 0.010543666, 0.011641094, 0.012922504, 0.012689667, 0.014022834, 0.013127197, 0.010576833, 0.011515385, 0.011901995, 0.013184237, 0.012756488, 0.013764299, 0.017660523, 0.012340565, 0.010406142, 0.016988643, 0.06474587, 0.0113592865, 0.01862254, 0.013253224, 0.0122469375, 0.013188978, 0.012553455, 0.012717069, 0.014694866, 0.014769154, 0.013210414, 0.012567518, 0.013584369, 0.0119189145, 0.009840836, 0.014603328, 0.013810981, 0.014971268, 0.014837831, 0.013994969, 0.012737682, 0.015742585, 0.012814113, 0.013947429, 0.01394085, 0.01504892, 0.013642371, 0.011550811, 0.0164015, 0.011217876, 0.013559635, 0.013225423, 0.012952096, 0.0130768735, 0.013021887, 0.012959877, 0.014408905, 0.011524142, 0.012516509, 0.011940391, 0.0147128, 0.013059226, 0.014629931, 0.013876095, 0.012996362, 0.011356092, 0.012974194]\n",
      "2022-02-25 20:10:33,165 : INFO : merging changes from 2000 documents into a model of 3204 documents\n",
      "2022-02-25 20:10:33,174 : INFO : topic #3 (0.007): 0.001*\"implic\" + 0.001*\"favor\" + 0.001*\"adapt\" + 0.001*\"polygon\" + 0.001*\"stage\" + 0.001*\"situat\" + 0.001*\"respons\" + 0.001*\"industri\" + 0.001*\"regress\" + 0.001*\"drive\"\n",
      "2022-02-25 20:10:33,174 : INFO : topic #25 (0.007): 0.001*\"implic\" + 0.001*\"favor\" + 0.001*\"adapt\" + 0.001*\"polygon\" + 0.001*\"stage\" + 0.001*\"situat\" + 0.001*\"respons\" + 0.001*\"industri\" + 0.001*\"regress\" + 0.001*\"drive\"\n",
      "2022-02-25 20:10:33,175 : INFO : topic #55 (0.019): 0.236*\"languag\" + 0.076*\"algol\" + 0.063*\"program\" + 0.046*\",\" + 0.043*\"type\" + 0.042*\"formal\" + 0.041*\"translat\" + 0.036*\"60\" + 0.033*\"syntax\" + 0.027*\"-\"\n",
      "2022-02-25 20:10:33,175 : INFO : topic #20 (0.020): 0.430*\"problem\" + 0.135*\"solut\" + 0.045*\",\" + 0.042*\"-\" + 0.029*\"paper\" + 0.024*\"gener\" + 0.024*\"nonlinear\" + 0.021*\"present\" + 0.018*\"known\" + 0.017*\"techniqu\"\n",
      "2022-02-25 20:10:33,176 : INFO : topic #53 (0.065): 0.404*\"(\" + 0.369*\")\" + 0.174*\"algorithm\" + 0.011*\"-\" + 0.008*\"polynomi\" + 0.007*\"interchang\" + 0.005*\"interpol\" + 0.005*\"deviat\" + 0.005*\"g5\" + 0.005*\"normal\"\n",
      "2022-02-25 20:10:33,177 : INFO : topic diff=0.169305, rho=0.225865\n",
      "2022-02-25 20:10:33,890 : INFO : -6.436 per-word bound, 86.6 perplexity estimate based on a held-out corpus of 1204 documents with 49783 words\n",
      "2022-02-25 20:10:33,891 : INFO : PROGRESS: pass 17, at document #3204/3204\n",
      "2022-02-25 20:10:34,461 : INFO : optimized alpha [0.017104646, 0.011853301, 0.013949555, 0.0070843995, 0.010675327, 0.012527679, 0.01451606, 0.01625936, 0.013751645, 0.01601515, 0.014099631, 0.015340863, 0.014332004, 0.011930981, 0.012822979, 0.01208544, 0.012645659, 0.011981496, 0.012441385, 0.011241505, 0.020487906, 0.017800078, 0.012946688, 0.011861318, 0.012109368, 0.0070843995, 0.011513616, 0.012398017, 0.015566103, 0.01536743, 0.011949767, 0.0116550205, 0.012958306, 0.0125967795, 0.013461999, 0.011523359, 0.014372238, 0.010620093, 0.011742538, 0.013052551, 0.012814094, 0.014188426, 0.013272116, 0.010618812, 0.011621639, 0.0119776875, 0.013304893, 0.012913885, 0.013879687, 0.017888745, 0.012457707, 0.010459749, 0.01721121, 0.06706185, 0.011470789, 0.018887242, 0.013412663, 0.01235425, 0.013293207, 0.0126726935, 0.012829309, 0.0149564445, 0.014979168, 0.01330246, 0.012671795, 0.013721739, 0.012023946, 0.009885577, 0.014776058, 0.01403356, 0.01514658, 0.01501095, 0.01414125, 0.012815442, 0.016082356, 0.013025187, 0.014132613, 0.014142537, 0.015227097, 0.01383891, 0.011668138, 0.016560823, 0.011315151, 0.013741422, 0.013348002, 0.013040722, 0.013217359, 0.013195839, 0.013151522, 0.014746914, 0.011635747, 0.012643009, 0.0120209735, 0.014602859, 0.013118277, 0.014871995, 0.014097801, 0.013094499, 0.011483011, 0.013140663]\n",
      "2022-02-25 20:10:34,466 : INFO : merging changes from 1204 documents into a model of 3204 documents\n",
      "2022-02-25 20:10:34,475 : INFO : topic #25 (0.007): 0.001*\"implic\" + 0.001*\"favor\" + 0.001*\"adapt\" + 0.001*\"polygon\" + 0.001*\"stage\" + 0.001*\"situat\" + 0.001*\"respons\" + 0.001*\"industri\" + 0.001*\"regress\" + 0.001*\"drive\"\n",
      "2022-02-25 20:10:34,476 : INFO : topic #3 (0.007): 0.001*\"implic\" + 0.001*\"favor\" + 0.001*\"adapt\" + 0.001*\"polygon\" + 0.001*\"stage\" + 0.001*\"situat\" + 0.001*\"respons\" + 0.001*\"industri\" + 0.001*\"regress\" + 0.001*\"drive\"\n",
      "2022-02-25 20:10:34,477 : INFO : topic #55 (0.019): 0.236*\"languag\" + 0.066*\"program\" + 0.064*\"algol\" + 0.048*\"type\" + 0.046*\",\" + 0.045*\"formal\" + 0.039*\"translat\" + 0.032*\"syntax\" + 0.031*\"60\" + 0.026*\"-\"\n",
      "2022-02-25 20:10:34,477 : INFO : topic #20 (0.020): 0.434*\"problem\" + 0.133*\"solut\" + 0.044*\",\" + 0.042*\"-\" + 0.030*\"paper\" + 0.025*\"gener\" + 0.023*\"nonlinear\" + 0.021*\"present\" + 0.020*\"known\" + 0.017*\"linear\"\n",
      "2022-02-25 20:10:34,478 : INFO : topic #53 (0.067): 0.409*\"(\" + 0.371*\")\" + 0.170*\"algorithm\" + 0.011*\"-\" + 0.007*\"polynomi\" + 0.006*\"interchang\" + 0.005*\"deviat\" + 0.005*\"interpol\" + 0.005*\"g5\" + 0.004*\"normal\"\n"
     ]
    },
    {
     "name": "stderr",
     "output_type": "stream",
     "text": [
      "2022-02-25 20:10:34,478 : INFO : topic diff=0.174620, rho=0.225865\n",
      "2022-02-25 20:10:34,485 : INFO : PROGRESS: pass 18, at document #2000/3204\n",
      "2022-02-25 20:10:35,129 : INFO : optimized alpha [0.017339772, 0.011853114, 0.014084774, 0.0070555857, 0.010683834, 0.012559216, 0.014652512, 0.016269885, 0.0138069345, 0.016090007, 0.01412912, 0.015418123, 0.014394999, 0.01196226, 0.012879616, 0.01209426, 0.012676972, 0.012037726, 0.012465807, 0.011254216, 0.02068305, 0.018107232, 0.012991245, 0.011898139, 0.012205395, 0.0070555857, 0.01152291, 0.012427482, 0.015638325, 0.01554346, 0.011938624, 0.011690048, 0.0129787335, 0.012595031, 0.013501074, 0.011548594, 0.014395411, 0.010601515, 0.011740448, 0.013129213, 0.012814771, 0.0142774945, 0.013335867, 0.010622713, 0.011654519, 0.012037683, 0.0134118125, 0.012977326, 0.013977616, 0.018082485, 0.012531775, 0.010460223, 0.01733154, 0.06970249, 0.011520549, 0.019173851, 0.013494942, 0.012398637, 0.013404697, 0.012700071, 0.012865852, 0.014926336, 0.015042428, 0.013402577, 0.012738368, 0.013823031, 0.01204928, 0.0098624835, 0.014860014, 0.014084273, 0.015146866, 0.015154541, 0.01423764, 0.012900455, 0.016111692, 0.012982079, 0.014156413, 0.014220471, 0.01539292, 0.01386399, 0.011685625, 0.016751451, 0.011306029, 0.013809436, 0.013430769, 0.013158476, 0.013239405, 0.013189063, 0.013148257, 0.014947214, 0.011693848, 0.012672348, 0.012051565, 0.01492123, 0.013232657, 0.01500907, 0.014105504, 0.013205271, 0.011509315, 0.01318818]\n",
      "2022-02-25 20:10:35,134 : INFO : merging changes from 2000 documents into a model of 3204 documents\n",
      "2022-02-25 20:10:35,143 : INFO : topic #25 (0.007): 0.001*\"implic\" + 0.001*\"favor\" + 0.001*\"adapt\" + 0.001*\"polygon\" + 0.001*\"stage\" + 0.001*\"situat\" + 0.001*\"respons\" + 0.001*\"industri\" + 0.001*\"regress\" + 0.001*\"drive\"\n",
      "2022-02-25 20:10:35,144 : INFO : topic #3 (0.007): 0.001*\"implic\" + 0.001*\"favor\" + 0.001*\"adapt\" + 0.001*\"polygon\" + 0.001*\"stage\" + 0.001*\"situat\" + 0.001*\"respons\" + 0.001*\"industri\" + 0.001*\"regress\" + 0.001*\"drive\"\n",
      "2022-02-25 20:10:35,144 : INFO : topic #55 (0.019): 0.239*\"languag\" + 0.076*\"algol\" + 0.064*\"program\" + 0.045*\",\" + 0.043*\"type\" + 0.042*\"formal\" + 0.042*\"translat\" + 0.036*\"60\" + 0.032*\"syntax\" + 0.027*\"-\"\n",
      "2022-02-25 20:10:35,145 : INFO : topic #20 (0.021): 0.434*\"problem\" + 0.135*\"solut\" + 0.044*\",\" + 0.042*\"-\" + 0.029*\"paper\" + 0.025*\"gener\" + 0.024*\"nonlinear\" + 0.021*\"present\" + 0.018*\"known\" + 0.017*\"techniqu\"\n",
      "2022-02-25 20:10:35,145 : INFO : topic #53 (0.070): 0.405*\"(\" + 0.369*\")\" + 0.174*\"algorithm\" + 0.011*\"-\" + 0.008*\"polynomi\" + 0.007*\"interchang\" + 0.005*\"interpol\" + 0.005*\"deviat\" + 0.005*\"g5\" + 0.004*\"normal\"\n",
      "2022-02-25 20:10:35,146 : INFO : topic diff=0.158698, rho=0.220316\n",
      "2022-02-25 20:10:35,861 : INFO : -6.430 per-word bound, 86.2 perplexity estimate based on a held-out corpus of 1204 documents with 49783 words\n",
      "2022-02-25 20:10:35,862 : INFO : PROGRESS: pass 18, at document #3204/3204\n",
      "2022-02-25 20:10:36,425 : INFO : optimized alpha [0.017530918, 0.011970597, 0.014181894, 0.0070191496, 0.010743498, 0.012700657, 0.014810608, 0.01656145, 0.013922796, 0.016468976, 0.014362377, 0.015662389, 0.014626218, 0.01208155, 0.013073484, 0.012200364, 0.012786588, 0.012152481, 0.01255587, 0.011355925, 0.021227289, 0.018474333, 0.013120561, 0.011983547, 0.012267592, 0.0070191496, 0.0115721, 0.012534191, 0.015885876, 0.015883062, 0.012041312, 0.011768112, 0.013130353, 0.0127412435, 0.013669714, 0.011674183, 0.01463333, 0.01067667, 0.011835839, 0.013254721, 0.012941792, 0.014443161, 0.013480964, 0.0106621105, 0.011759028, 0.012114106, 0.013527816, 0.0131300725, 0.014085727, 0.018310249, 0.012651488, 0.010516856, 0.01755057, 0.07195777, 0.01163455, 0.019434547, 0.013652063, 0.012506424, 0.013499506, 0.012819673, 0.012971449, 0.015178817, 0.015249488, 0.013492775, 0.012843041, 0.013963154, 0.0121525405, 0.009908405, 0.015035574, 0.01430668, 0.015319202, 0.015321994, 0.014381456, 0.012976661, 0.01645734, 0.013187699, 0.01433607, 0.014422079, 0.01557941, 0.014060295, 0.011801025, 0.016904488, 0.011401664, 0.014001372, 0.013556175, 0.013245268, 0.01337758, 0.013357841, 0.013346758, 0.015287747, 0.01181681, 0.012796732, 0.012132923, 0.014811408, 0.013290269, 0.015243103, 0.014321619, 0.013311279, 0.011640689, 0.01335948]\n",
      "2022-02-25 20:10:36,431 : INFO : merging changes from 1204 documents into a model of 3204 documents\n",
      "2022-02-25 20:10:36,439 : INFO : topic #3 (0.007): 0.001*\"implic\" + 0.001*\"favor\" + 0.001*\"adapt\" + 0.001*\"polygon\" + 0.001*\"stage\" + 0.001*\"situat\" + 0.001*\"respons\" + 0.001*\"industri\" + 0.001*\"regress\" + 0.001*\"drive\"\n",
      "2022-02-25 20:10:36,440 : INFO : topic #25 (0.007): 0.001*\"implic\" + 0.001*\"favor\" + 0.001*\"adapt\" + 0.001*\"polygon\" + 0.001*\"stage\" + 0.001*\"situat\" + 0.001*\"respons\" + 0.001*\"industri\" + 0.001*\"regress\" + 0.001*\"drive\"\n",
      "2022-02-25 20:10:36,441 : INFO : topic #55 (0.019): 0.239*\"languag\" + 0.066*\"program\" + 0.064*\"algol\" + 0.047*\"type\" + 0.045*\",\" + 0.045*\"formal\" + 0.040*\"translat\" + 0.032*\"syntax\" + 0.031*\"60\" + 0.026*\"-\"\n",
      "2022-02-25 20:10:36,441 : INFO : topic #20 (0.021): 0.438*\"problem\" + 0.134*\"solut\" + 0.044*\",\" + 0.042*\"-\" + 0.030*\"paper\" + 0.025*\"gener\" + 0.024*\"nonlinear\" + 0.022*\"present\" + 0.019*\"known\" + 0.017*\"techniqu\"\n",
      "2022-02-25 20:10:36,442 : INFO : topic #53 (0.072): 0.410*\"(\" + 0.371*\")\" + 0.170*\"algorithm\" + 0.011*\"-\" + 0.007*\"polynomi\" + 0.006*\"interchang\" + 0.005*\"deviat\" + 0.005*\"interpol\" + 0.004*\"g5\" + 0.004*\"normal\"\n",
      "2022-02-25 20:10:36,443 : INFO : topic diff=0.163413, rho=0.220316\n",
      "2022-02-25 20:10:36,450 : INFO : PROGRESS: pass 19, at document #2000/3204\n",
      "2022-02-25 20:10:37,090 : INFO : optimized alpha [0.017767623, 0.011972952, 0.014316855, 0.00699178, 0.010753234, 0.01273426, 0.0149437, 0.016570605, 0.013972543, 0.016552217, 0.014389137, 0.015739713, 0.01468929, 0.012116164, 0.013134606, 0.012213009, 0.01281458, 0.012205201, 0.012579971, 0.011370864, 0.021423213, 0.018786607, 0.013165701, 0.012018514, 0.012363603, 0.00699178, 0.011585274, 0.012564527, 0.015952887, 0.016069712, 0.0120291645, 0.011803902, 0.013154456, 0.0127448905, 0.013707884, 0.011702667, 0.01465534, 0.010659858, 0.0118338885, 0.013337318, 0.012938245, 0.014529181, 0.013545046, 0.010666276, 0.011792608, 0.012175801, 0.013631807, 0.013193822, 0.014189843, 0.018495549, 0.012727196, 0.010519855, 0.01766307, 0.074642524, 0.011688526, 0.019719085, 0.013736038, 0.012550052, 0.013608032, 0.012849328, 0.013008847, 0.0151482895, 0.015313115, 0.013592913, 0.012909974, 0.014056947, 0.012177457, 0.009887241, 0.015119696, 0.014362242, 0.015319249, 0.015460449, 0.014477929, 0.013061817, 0.016484492, 0.013146218, 0.014354409, 0.0145017095, 0.01574671, 0.014086047, 0.011818139, 0.017103946, 0.01139526, 0.014068045, 0.013642054, 0.013365847, 0.013399081, 0.013352316, 0.013344453, 0.015500559, 0.011882966, 0.012825514, 0.012163083, 0.01512631, 0.013405851, 0.015383521, 0.014328553, 0.013420614, 0.011667674, 0.013403016]\n",
      "2022-02-25 20:10:37,096 : INFO : merging changes from 2000 documents into a model of 3204 documents\n",
      "2022-02-25 20:10:37,105 : INFO : topic #25 (0.007): 0.001*\"implic\" + 0.001*\"favor\" + 0.001*\"adapt\" + 0.001*\"polygon\" + 0.001*\"stage\" + 0.001*\"situat\" + 0.001*\"respons\" + 0.001*\"industri\" + 0.001*\"regress\" + 0.001*\"drive\"\n",
      "2022-02-25 20:10:37,106 : INFO : topic #3 (0.007): 0.001*\"implic\" + 0.001*\"favor\" + 0.001*\"adapt\" + 0.001*\"polygon\" + 0.001*\"stage\" + 0.001*\"situat\" + 0.001*\"respons\" + 0.001*\"industri\" + 0.001*\"regress\" + 0.001*\"drive\"\n",
      "2022-02-25 20:10:37,106 : INFO : topic #55 (0.020): 0.242*\"languag\" + 0.076*\"algol\" + 0.064*\"program\" + 0.045*\",\" + 0.043*\"type\" + 0.042*\"formal\" + 0.042*\"translat\" + 0.036*\"60\" + 0.032*\"syntax\" + 0.027*\"-\"\n",
      "2022-02-25 20:10:37,107 : INFO : topic #20 (0.021): 0.438*\"problem\" + 0.135*\"solut\" + 0.044*\",\" + 0.042*\"-\" + 0.029*\"paper\" + 0.025*\"gener\" + 0.024*\"nonlinear\" + 0.021*\"present\" + 0.018*\"known\" + 0.017*\"techniqu\"\n",
      "2022-02-25 20:10:37,107 : INFO : topic #53 (0.075): 0.405*\"(\" + 0.369*\")\" + 0.174*\"algorithm\" + 0.011*\"-\" + 0.008*\"polynomi\" + 0.007*\"interchang\" + 0.005*\"interpol\" + 0.005*\"deviat\" + 0.005*\"g5\" + 0.004*\"normal\"\n",
      "2022-02-25 20:10:37,108 : INFO : topic diff=0.149121, rho=0.215156\n",
      "2022-02-25 20:10:37,808 : INFO : -6.426 per-word bound, 86.0 perplexity estimate based on a held-out corpus of 1204 documents with 49783 words\n"
     ]
    },
    {
     "name": "stderr",
     "output_type": "stream",
     "text": [
      "2022-02-25 20:10:37,809 : INFO : PROGRESS: pass 19, at document #3204/3204\n",
      "2022-02-25 20:10:38,359 : INFO : optimized alpha [0.017958615, 0.012090681, 0.014412009, 0.006957101, 0.010817726, 0.012878237, 0.015099344, 0.016858628, 0.014083945, 0.016941136, 0.014622238, 0.01599223, 0.014923161, 0.012238049, 0.013331096, 0.012313048, 0.012922466, 0.012324878, 0.012668577, 0.011473009, 0.021976996, 0.019167952, 0.013290651, 0.0121068815, 0.012426782, 0.006957101, 0.011631697, 0.012671872, 0.016191646, 0.01643739, 0.012128004, 0.011878536, 0.013315705, 0.012891277, 0.013874123, 0.011828541, 0.014887745, 0.0107357595, 0.011929882, 0.013458435, 0.013065677, 0.014692421, 0.01368798, 0.010703275, 0.011899736, 0.012250875, 0.013745833, 0.013356194, 0.014298605, 0.018726192, 0.012847322, 0.010575651, 0.017878687, 0.0768206, 0.011807196, 0.01998628, 0.0138933435, 0.012660567, 0.013705912, 0.012967074, 0.013119741, 0.015400097, 0.015511859, 0.01367899, 0.013015214, 0.014194863, 0.012279068, 0.009930772, 0.015289904, 0.014587279, 0.015488901, 0.015625274, 0.01462198, 0.013138913, 0.016830219, 0.013346504, 0.014531349, 0.014711136, 0.015933314, 0.014277149, 0.01193387, 0.017254163, 0.011489347, 0.014247439, 0.013765465, 0.013453387, 0.013540066, 0.013523407, 0.01353792, 0.015854651, 0.012002018, 0.012947981, 0.012243133, 0.015016587, 0.013462093, 0.015615289, 0.014544374, 0.013519939, 0.011801428, 0.013571974]\n",
      "2022-02-25 20:10:38,365 : INFO : merging changes from 1204 documents into a model of 3204 documents\n",
      "2022-02-25 20:10:38,374 : INFO : topic #3 (0.007): 0.001*\"implic\" + 0.001*\"favor\" + 0.001*\"adapt\" + 0.001*\"polygon\" + 0.001*\"stage\" + 0.001*\"situat\" + 0.001*\"respons\" + 0.001*\"industri\" + 0.001*\"regress\" + 0.001*\"drive\"\n",
      "2022-02-25 20:10:38,374 : INFO : topic #25 (0.007): 0.001*\"implic\" + 0.001*\"favor\" + 0.001*\"adapt\" + 0.001*\"polygon\" + 0.001*\"stage\" + 0.001*\"situat\" + 0.001*\"respons\" + 0.001*\"industri\" + 0.001*\"regress\" + 0.001*\"drive\"\n",
      "2022-02-25 20:10:38,375 : INFO : topic #55 (0.020): 0.242*\"languag\" + 0.066*\"program\" + 0.065*\"algol\" + 0.047*\"type\" + 0.045*\"formal\" + 0.045*\",\" + 0.040*\"translat\" + 0.032*\"syntax\" + 0.031*\"60\" + 0.027*\"-\"\n",
      "2022-02-25 20:10:38,375 : INFO : topic #20 (0.022): 0.441*\"problem\" + 0.134*\"solut\" + 0.043*\",\" + 0.042*\"-\" + 0.030*\"paper\" + 0.025*\"gener\" + 0.024*\"nonlinear\" + 0.022*\"present\" + 0.019*\"known\" + 0.016*\"techniqu\"\n",
      "2022-02-25 20:10:38,376 : INFO : topic #53 (0.077): 0.410*\"(\" + 0.371*\")\" + 0.170*\"algorithm\" + 0.011*\"-\" + 0.007*\"polynomi\" + 0.006*\"interchang\" + 0.005*\"deviat\" + 0.005*\"interpol\" + 0.004*\"g5\" + 0.004*\"normal\"\n",
      "2022-02-25 20:10:38,376 : INFO : topic diff=0.153301, rho=0.215156\n"
>>>>>>> f112c0d61b750a228b88f0802915dd23311d3005:assignment1/hw1_final_master.ipynb
     ]
    },
    {
     "data": {
      "text/plain": [
<<<<<<< HEAD:assignment1/hw1_master.ipynb
       "[(0, 0.004761389),\n",
       " (1, 0.006056334),\n",
       " (2, 0.005018009),\n",
       " (3, 0.0056740716),\n",
       " (4, 0.005351242),\n",
       " (5, 0.0045967777),\n",
       " (6, 0.00473112),\n",
       " (7, 0.0052401237),\n",
       " (8, 0.006447538),\n",
       " (9, 0.004879926),\n",
       " (10, 0.004486775),\n",
       " (11, 0.005222605),\n",
       " (12, 0.004944438),\n",
       " (13, 0.005798976),\n",
       " (14, 0.005301368),\n",
       " (15, 0.0052298075),\n",
       " (16, 0.0062103868),\n",
       " (17, 0.005225649),\n",
       " (18, 0.0053069964),\n",
       " (19, 0.005050377),\n",
       " (20, 0.0052215112),\n",
       " (21, 0.0059309877),\n",
       " (22, 0.0061337454),\n",
       " (23, 0.0057161753),\n",
       " (24, 0.006140814),\n",
       " (25, 0.005505767),\n",
       " (26, 0.41645762),\n",
       " (27, 0.0055005364),\n",
       " (28, 0.0047100247),\n",
       " (29, 0.004730688),\n",
       " (30, 0.0041084043),\n",
       " (31, 0.0055714543),\n",
       " (32, 0.0053518214),\n",
       " (33, 0.0052493303),\n",
       " (34, 0.005849062),\n",
       " (35, 0.005836409),\n",
       " (36, 0.0060632457),\n",
       " (37, 0.005595462),\n",
       " (38, 0.004840215),\n",
       " (39, 0.0070215557),\n",
       " (40, 0.0073141833),\n",
       " (41, 0.0047082966),\n",
       " (42, 0.004781307),\n",
       " (43, 0.005075012),\n",
       " (44, 0.004932917),\n",
       " (45, 0.0055781887),\n",
       " (46, 0.0052102995),\n",
       " (47, 0.009588072),\n",
       " (48, 0.0054666866),\n",
       " (49, 0.0056313304),\n",
       " (50, 0.00801594),\n",
       " (51, 0.006780307),\n",
       " (52, 0.00494208),\n",
       " (53, 0.0045230426),\n",
       " (54, 0.0055133146),\n",
       " (55, 0.0050531193),\n",
       " (56, 0.0054924125),\n",
       " (57, 0.0062389197),\n",
       " (58, 0.0051053744),\n",
       " (59, 0.005545347),\n",
       " (60, 0.004731023),\n",
       " (61, 0.0053583547),\n",
       " (62, 0.006675101),\n",
       " (63, 0.004291672),\n",
       " (64, 0.0046800384),\n",
       " (65, 0.005924222),\n",
       " (66, 0.005064181),\n",
       " (67, 0.0075973),\n",
       " (68, 0.004996778),\n",
       " (69, 0.0060577984),\n",
       " (70, 0.006476604),\n",
       " (71, 0.005464716),\n",
       " (72, 0.0062407847),\n",
       " (73, 0.005833033),\n",
       " (74, 0.0053693396),\n",
       " (75, 0.00567911),\n",
       " (76, 0.0051392145),\n",
       " (77, 0.0055760923),\n",
       " (78, 0.004746818),\n",
       " (79, 0.0061855),\n",
       " (80, 0.005181193),\n",
       " (81, 0.0049566817),\n",
       " (82, 0.0056156525),\n",
       " (83, 0.0050516245),\n",
       " (84, 0.006034358),\n",
       " (85, 0.005052694),\n",
       " (86, 0.0055620964),\n",
       " (87, 0.0053883977),\n",
       " (88, 0.0067354124),\n",
       " (89, 0.006548659),\n",
       " (90, 0.009858059),\n",
       " (91, 0.00849799),\n",
       " (92, 0.0074148434),\n",
       " (93, 0.0050917054),\n",
       " (94, 0.0052112355),\n",
       " (95, 0.005090869),\n",
       " (96, 0.008141242),\n",
       " (97, 0.0061906967),\n",
       " (98, 0.02754123),\n",
       " (99, 0.006182837)]"
=======
       "[(0, 0.007362842),\n",
       " (1, 0.004957051),\n",
       " (2, 0.005908771),\n",
       " (3, 0.002852338),\n",
       " (4, 0.004435153),\n",
       " (5, 0.005279941),\n",
       " (6, 0.006190571),\n",
       " (7, 0.006911859),\n",
       " (8, 0.0057742684),\n",
       " (9, 0.0069456864),\n",
       " (10, 0.005994963),\n",
       " (11, 0.006556645),\n",
       " (12, 0.006118338),\n",
       " (13, 0.0050174706),\n",
       " (14, 0.005465608),\n",
       " (15, 0.0050482196),\n",
       " (16, 0.0052980743),\n",
       " (17, 0.0050530694),\n",
       " (18, 0.0051939823),\n",
       " (19, 0.0047038123),\n",
       " (20, 0.009010335),\n",
       " (21, 0.007858657),\n",
       " (22, 0.0054490264),\n",
       " (23, 0.004963693),\n",
       " (24, 0.005094849),\n",
       " (25, 0.002852338),\n",
       " (26, 0.0047688726),\n",
       " (27, 0.005195333),\n",
       " (28, 0.0066384035),\n",
       " (29, 0.0067391563),\n",
       " (30, 0.004972353),\n",
       " (31, 0.41485444),\n",
       " (32, 0.005459298),\n",
       " (33, 0.005285287),\n",
       " (34, 0.0056882435),\n",
       " (35, 0.0048495764),\n",
       " (36, 0.006103818),\n",
       " (37, 0.004401548),\n",
       " (38, 0.004891125),\n",
       " (39, 0.005517816),\n",
       " (40, 0.005356789),\n",
       " (41, 0.006023737),\n",
       " (42, 0.005611927),\n",
       " (43, 0.0043882295),\n",
       " (44, 0.0048787654),\n",
       " (45, 0.0050227293),\n",
       " (46, 0.005635646),\n",
       " (47, 0.0054758983),\n",
       " (48, 0.0058622765),\n",
       " (49, 0.0076775406),\n",
       " (50, 0.005267266),\n",
       " (51, 0.004335905),\n",
       " (52, 0.007330072),\n",
       " (53, 0.03149563),\n",
       " (54, 0.004840825),\n",
       " (55, 0.0081941625),\n",
       " (56, 0.005696124),\n",
       " (57, 0.0051906984),\n",
       " (58, 0.0056192786),\n",
       " (59, 0.005316363),\n",
       " (60, 0.005378955),\n",
       " (61, 0.0063138767),\n",
       " (62, 0.006359698),\n",
       " (63, 0.005608241),\n",
       " (64, 0.0053361002),\n",
       " (65, 0.0058197435),\n",
       " (66, 0.005034288),\n",
       " (67, 0.0040715113),\n",
       " (68, 0.0062686987),\n",
       " (69, 0.00598063),\n",
       " (70, 0.0063502854),\n",
       " (71, 0.006406197),\n",
       " (72, 0.005994857),\n",
       " (73, 0.005386815),\n",
       " (74, 0.0069002113),\n",
       " (75, 0.0054719253),\n",
       " (76, 0.005957699),\n",
       " (77, 0.00603141),\n",
       " (78, 0.0065324903),\n",
       " (79, 0.0058534797),\n",
       " (80, 0.00489276),\n",
       " (81, 0.007074024),\n",
       " (82, 0.0047105104),\n",
       " (83, 0.005841299),\n",
       " (84, 0.0056436947),\n",
       " (85, 0.0055157463),\n",
       " (86, 0.0055512837),\n",
       " (87, 0.005544454),\n",
       " (88, 0.005550404),\n",
       " (89, 0.006500239),\n",
       " (90, 0.0049207006),\n",
       " (91, 0.0053085354),\n",
       " (92, 0.005019555),\n",
       " (93, 0.006156642),\n",
       " (94, 0.0055193156),\n",
       " (95, 0.006402103),\n",
       " (96, 0.0059630396),\n",
       " (97, 0.0055430317),\n",
       " (98, 0.0048384606),\n",
       " (99, 0.0055643655)]"
>>>>>>> f112c0d61b750a228b88f0802915dd23311d3005:assignment1/hw1_final_master.ipynb
      ]
     },
     "execution_count": 85,
     "metadata": {},
     "output_type": "execute_result"
    }
   ],
   "source": [
    "##### Function check\n",
    "lda = LdaRetrievalModel(doc_repr_2)\n",
    "lda.train_model()\n",
    "\n",
    "# you can now get an LDA vector for a given query in the following way:\n",
    "lda.vectorize_query(\"report\")\n",
    "##### "
   ]
  },
  {
   "cell_type": "markdown",
   "metadata": {
    "deletable": false,
    "editable": false,
    "nbgrader": {
     "cell_type": "markdown",
     "checksum": "32d83b6ea79ca3ddb789a7f8805a1b25",
     "grade": false,
     "grade_id": "cell-0e24b727d5908c0e",
     "locked": true,
     "points": 5,
     "schema_version": 3,
     "solution": false,
     "task": true
    }
   },
   "source": [
    "\\#### Please do not change this. This cell is used for grading."
   ]
  },
  {
   "cell_type": "markdown",
   "metadata": {
    "deletable": false,
    "editable": false,
    "nbgrader": {
     "cell_type": "markdown",
     "checksum": "114a934f0b9ce696e6cf09d3b8da6a3d",
     "grade": false,
     "grade_id": "cell-b1bffcb970b18aeb",
     "locked": true,
     "schema_version": 3,
     "solution": false,
     "task": false
    }
   },
   "source": [
    "---\n",
    "Now we can use the `DenseRetrievalModel` class to obtain an LDA search function.\n",
    "You can test your LDA model in the following cell: Try finding queries which are lexically different to documents, but semantically similar - does LDA work well for these queries?!"
   ]
  },
  {
   "cell_type": "code",
   "execution_count": 86,
   "metadata": {},
   "outputs": [
    {
     "data": {
      "application/vnd.jupyter.widget-view+json": {
<<<<<<< HEAD:assignment1/hw1_master.ipynb
       "model_id": "12f4e19c594241b39074485a8e31b305",
=======
       "model_id": "558b9e3f222b45929483728d2f12c13b",
>>>>>>> f112c0d61b750a228b88f0802915dd23311d3005:assignment1/hw1_final_master.ipynb
       "version_major": 2,
       "version_minor": 0
      },
      "text/plain": [
       "Text(value='', description='Search Bar')"
      ]
     },
     "metadata": {},
     "output_type": "display_data"
    }
   ],
   "source": [
    "drm_lda = DenseRetrievalRanker(lda, jenson_shannon_sim)\n",
    "\n",
    "# test your LDA model\n",
    "search_fn = drm_lda.search\n",
    "\n",
    "text = widgets.Text(description=\"Search Bar\", width=200)\n",
    "display(text)\n",
    "\n",
    "\n",
    "text.on_submit(handle_submit_2)"
   ]
  },
  {
   "cell_type": "markdown",
   "metadata": {
    "deletable": false,
    "editable": false,
    "nbgrader": {
     "cell_type": "markdown",
     "checksum": "9d7f15863b655119b45f4d89354e5661",
     "grade": false,
     "grade_id": "cell-190cd0854b2791cc",
     "locked": true,
     "schema_version": 3,
     "solution": false,
     "task": false
    }
   },
   "source": [
    "## Section 8: Word2Vec/Doc2Vec (20 points) <a class=\"anchor\" id=\"2vec\"></a>\n",
    "\n",
    "[Back to Part 2](#part2)\n",
    "\n",
    "We will implement two other methods here, the Word2Vec model and the Doc2Vec model, also using `gensim`. Word2Vec creates representations of words, not documents, so the word level vectors need to be aggregated to obtain a representation for the document. Here, we will simply take the mean of the vectors. \n",
    "\n",
    "\n",
    "A drawback of these models is that they need a lot of training data. Our dataset is tiny, so in addition to using a model trained on the data, we will also use a pre-trained model for Word2Vec (this will be automatically downloaded).     \n",
    "\n",
    "*Note*:\n",
    "1. The code in vectorize_documents / vectorize_query should return gensim-like vectors i.e `[(dim, val), .. (dim, val)]`. \n",
    "2. For Word2Vec: You should also handle the following two cases: (a) A word in the query is not present in the vocabulary of the model and (b) none of the words in the query are present in the model - you can return 0 scores for all documents in this case. For either of these, you can check if a `word` is present in the vocab by using `word in self.model`\n"
   ]
  },
  {
   "cell_type": "code",
   "execution_count": 87,
   "metadata": {
    "deletable": false,
    "nbgrader": {
     "cell_type": "code",
     "checksum": "83ab733608ed14c29c09b36b4e1b6daa",
     "grade": false,
     "grade_id": "cell-2b73759f9baf688f",
     "locked": false,
     "schema_version": 3,
     "solution": true,
     "task": false
    }
   },
   "outputs": [
    {
     "name": "stderr",
     "output_type": "stream",
     "text": [
<<<<<<< HEAD:assignment1/hw1_master.ipynb
      "2022-02-23 14:33:32,488 : INFO : adding document #0 to Dictionary(0 unique tokens: [])\n",
      "2022-02-23 14:33:32,629 : INFO : built Dictionary(5937 unique tokens: ['-', 'algebra', 'intern', 'languag', 'preliminari']...) from 3204 documents (total 115969 corpus positions)\n",
      "2022-02-23 14:33:32,639 : INFO : discarding 4740 tokens: [('repeat', 8), ('glossari', 7), ('inspect', 8), ('uncol', 2), ('rung', 9), ('secant', 2), ('.', 1603), ('acceler', 6), ('diverg', 3), ('induc', 9)]...\n",
      "2022-02-23 14:33:32,640 : INFO : keeping 1197 tokens which were in no less than 10 and no more than 1602 (=50.0%) documents\n",
      "2022-02-23 14:33:32,648 : INFO : resulting dictionary: Dictionary(1197 unique tokens: ['-', 'algebra', 'intern', 'languag', 'preliminari']...)\n"
     ]
=======
      "2022-02-25 20:10:40,038 : INFO : adding document #0 to Dictionary(0 unique tokens: [])\n",
      "2022-02-25 20:10:40,143 : INFO : built Dictionary(5937 unique tokens: ['-', 'algebra', 'intern', 'languag', 'preliminari']...) from 3204 documents (total 115969 corpus positions)\n",
      "2022-02-25 20:10:40,148 : INFO : discarding 4740 tokens: [('repeat', 8), ('glossari', 7), ('inspect', 8), ('uncol', 2), ('rung', 9), ('secant', 2), ('.', 1603), ('acceler', 6), ('diverg', 3), ('induc', 9)]...\n",
      "2022-02-25 20:10:40,149 : INFO : keeping 1197 tokens which were in no less than 10 and no more than 1602 (=50.0%) documents\n",
      "2022-02-25 20:10:40,151 : INFO : resulting dictionary: Dictionary(1197 unique tokens: ['-', 'algebra', 'intern', 'languag', 'preliminari']...)\n",
      "2022-02-25 20:10:40,208 : INFO : collecting all words and their counts\n",
      "2022-02-25 20:10:40,209 : INFO : PROGRESS: at sentence #0, processed 0 words, keeping 0 word types\n",
      "2022-02-25 20:10:40,222 : INFO : collected 5937 word types from a corpus of 115969 raw words and 3204 sentences\n",
      "2022-02-25 20:10:40,223 : INFO : Loading a fresh vocabulary\n",
      "2022-02-25 20:10:40,231 : INFO : effective_min_count=1 retains 5937 unique words (100% of original 5937, drops 0)\n",
      "2022-02-25 20:10:40,231 : INFO : effective_min_count=1 leaves 115969 word corpus (100% of original 115969, drops 0)\n",
      "2022-02-25 20:10:40,245 : INFO : deleting the raw counts dictionary of 5937 items\n",
      "2022-02-25 20:10:40,246 : INFO : sample=0.001 downsamples 40 most-common words\n",
      "2022-02-25 20:10:40,246 : INFO : downsampling leaves estimated 92346 word corpus (79.6% of prior 115969)\n",
      "2022-02-25 20:10:40,257 : INFO : estimated required memory for 5937 words and 100 dimensions: 7718100 bytes\n",
      "2022-02-25 20:10:40,257 : INFO : resetting layer weights\n",
      "2022-02-25 20:10:41,112 : INFO : training model with 3 workers on 5937 vocabulary and 100 features, using sg=0 hs=0 sample=0.001 negative=5 window=5\n",
      "2022-02-25 20:10:41,156 : INFO : worker thread finished; awaiting finish of 2 more threads\n",
      "2022-02-25 20:10:41,159 : INFO : worker thread finished; awaiting finish of 1 more threads\n",
      "2022-02-25 20:10:41,160 : INFO : worker thread finished; awaiting finish of 0 more threads\n",
      "2022-02-25 20:10:41,160 : INFO : EPOCH - 1 : training on 115969 raw words (92241 effective words) took 0.0s, 2072031 effective words/s\n",
      "2022-02-25 20:10:41,205 : INFO : worker thread finished; awaiting finish of 2 more threads\n",
      "2022-02-25 20:10:41,208 : INFO : worker thread finished; awaiting finish of 1 more threads\n",
      "2022-02-25 20:10:41,209 : INFO : worker thread finished; awaiting finish of 0 more threads\n",
      "2022-02-25 20:10:41,209 : INFO : EPOCH - 2 : training on 115969 raw words (92353 effective words) took 0.0s, 2054046 effective words/s\n",
      "2022-02-25 20:10:41,255 : INFO : worker thread finished; awaiting finish of 2 more threads\n",
      "2022-02-25 20:10:41,257 : INFO : worker thread finished; awaiting finish of 1 more threads\n",
      "2022-02-25 20:10:41,258 : INFO : worker thread finished; awaiting finish of 0 more threads\n",
      "2022-02-25 20:10:41,258 : INFO : EPOCH - 3 : training on 115969 raw words (92257 effective words) took 0.0s, 2050784 effective words/s\n",
      "2022-02-25 20:10:41,303 : INFO : worker thread finished; awaiting finish of 2 more threads\n",
      "2022-02-25 20:10:41,304 : INFO : worker thread finished; awaiting finish of 1 more threads\n",
      "2022-02-25 20:10:41,305 : INFO : worker thread finished; awaiting finish of 0 more threads\n",
      "2022-02-25 20:10:41,306 : INFO : EPOCH - 4 : training on 115969 raw words (92270 effective words) took 0.0s, 2088677 effective words/s\n",
      "2022-02-25 20:10:41,350 : INFO : worker thread finished; awaiting finish of 2 more threads\n",
      "2022-02-25 20:10:41,352 : INFO : worker thread finished; awaiting finish of 1 more threads\n",
      "2022-02-25 20:10:41,354 : INFO : worker thread finished; awaiting finish of 0 more threads\n",
      "2022-02-25 20:10:41,354 : INFO : EPOCH - 5 : training on 115969 raw words (92532 effective words) took 0.0s, 2069400 effective words/s\n",
      "2022-02-25 20:10:41,354 : INFO : training on a 579845 raw words (461653 effective words) took 0.2s, 1911699 effective words/s\n"
     ]
    },
    {
     "data": {
      "text/plain": [
       "[(0, -0.377863),\n",
       " (1, 0.32624206),\n",
       " (2, -0.02975655),\n",
       " (3, 0.13134612),\n",
       " (4, 0.15670095),\n",
       " (5, 0.3875441),\n",
       " (6, 0.12908158),\n",
       " (7, -0.13671492),\n",
       " (8, -0.16039233),\n",
       " (9, -0.4862418),\n",
       " (10, 0.4852493),\n",
       " (11, -0.5091375),\n",
       " (12, -0.14487118),\n",
       " (13, -0.19249344),\n",
       " (14, -0.28745574),\n",
       " (15, -0.030835157),\n",
       " (16, 0.7138056),\n",
       " (17, 0.08865174),\n",
       " (18, -0.0982585),\n",
       " (19, -0.23795234),\n",
       " (20, -0.96895397),\n",
       " (21, 0.12043256),\n",
       " (22, 0.2108139),\n",
       " (23, -0.24670851),\n",
       " (24, 0.028537413),\n",
       " (25, -0.5068326),\n",
       " (26, -0.33808184),\n",
       " (27, -0.45404693),\n",
       " (28, -0.15313877),\n",
       " (29, -0.053638905),\n",
       " (30, -0.15369716),\n",
       " (31, 0.167502),\n",
       " (32, -0.20896669),\n",
       " (33, -0.83229345),\n",
       " (34, -0.23954703),\n",
       " (35, -0.039446745),\n",
       " (36, -0.6525511),\n",
       " (37, -0.034544867),\n",
       " (38, 0.035633076),\n",
       " (39, -0.8336933),\n",
       " (40, -0.63603026),\n",
       " (41, 0.16560014),\n",
       " (42, -0.0880513),\n",
       " (43, -0.5859668),\n",
       " (44, 0.64547235),\n",
       " (45, 0.49421284),\n",
       " (46, 0.67486215),\n",
       " (47, -0.1295288),\n",
       " (48, -0.089663915),\n",
       " (49, 0.5004801),\n",
       " (50, -0.34764278),\n",
       " (51, -0.22345671),\n",
       " (52, -0.62969327),\n",
       " (53, -0.0005946389),\n",
       " (54, 0.70882344),\n",
       " (55, -0.13536383),\n",
       " (56, 0.06906802),\n",
       " (57, 0.033573803),\n",
       " (58, -0.5582125),\n",
       " (59, -0.83522147),\n",
       " (60, -0.70092666),\n",
       " (61, -0.22246529),\n",
       " (62, 0.36982587),\n",
       " (63, 0.20583263),\n",
       " (64, -0.013742849),\n",
       " (65, 0.5923078),\n",
       " (66, -0.32818273),\n",
       " (67, 0.5988087),\n",
       " (68, -0.15216193),\n",
       " (69, 0.17647168),\n",
       " (70, -0.113305695),\n",
       " (71, 0.31452686),\n",
       " (72, -0.23993422),\n",
       " (73, -0.37256423),\n",
       " (74, 0.30319503),\n",
       " (75, -0.08558796),\n",
       " (76, 0.85706854),\n",
       " (77, -0.16112077),\n",
       " (78, 0.10080114),\n",
       " (79, -0.4332994),\n",
       " (80, 0.32377923),\n",
       " (81, 0.5759545),\n",
       " (82, 0.17655647),\n",
       " (83, -0.5955508),\n",
       " (84, -0.7725746),\n",
       " (85, -0.015303266),\n",
       " (86, 0.18999231),\n",
       " (87, 0.4218835),\n",
       " (88, 1.0337212),\n",
       " (89, -0.46479607),\n",
       " (90, 0.12876105),\n",
       " (91, 0.8653165),\n",
       " (92, -0.34362856),\n",
       " (93, -0.14599097),\n",
       " (94, -0.761057),\n",
       " (95, -0.21149248),\n",
       " (96, -0.317034),\n",
       " (97, -0.7691557),\n",
       " (98, -0.42022708),\n",
       " (99, 0.89683694)]"
      ]
     },
     "execution_count": 87,
     "metadata": {},
     "output_type": "execute_result"
>>>>>>> f112c0d61b750a228b88f0802915dd23311d3005:assignment1/hw1_final_master.ipynb
    }
   ],
   "source": [
    "# TODO: Implement this! (10 points)\n",
    "class W2VRetrievalModel(VectorSpaceRetrievalModel):\n",
    "    def __init__(self, doc_repr):\n",
    "        super().__init__(doc_repr)\n",
    "        \n",
    "        # the dimensionality of the vectors\n",
    "        self.size = 100 \n",
    "        self.min_count = 1\n",
    "    \n",
    "    def train_model(self):\n",
    "        \"\"\"\n",
    "        Trains the W2V model\n",
    "        \"\"\"\n",
    "        # YOUR CODE HERE\n",
    "        self.model = Word2Vec(sentences = self.documents,\n",
    "                              size = self.size, \n",
    "                              window = 5, \n",
    "                              min_count = self.min_count)\n",
    "    \n",
    "        \n",
    "    def vectorize_documents(self):\n",
    "        \"\"\"\n",
    "            Returns a doc_id -> vector dictionary\n",
    "        \"\"\"\n",
    "        # YOUR CODE HERE\n",
    "        v = {}\n",
    "        l1 = []\n",
    "        for document_id, token in self.doc_repr:\n",
    "            for word in token:\n",
    "                if word in self.model.wv.vocab:\n",
    "                    vec = self.model.wv[word]\n",
    "                    l1.append(vec)\n",
    "                else:\n",
    "                    l1.append(np.zeros((self.size)))\n",
    "            mean_vector = np.mean(np.array(l1), axis=0)\n",
    "            v[document_id] = list(enumerate(mean_vector))\n",
    "        return v\n",
    "\n",
    "    def vectorize_query(self, query):\n",
    "        \"\"\"\n",
    "        Vectorizes the query using the W2V model\n",
    "        \"\"\"\n",
    "        query = process_text(query, **config_2)\n",
    "        \n",
    "        # YOUR CODE HERE\n",
    "        l1 = []\n",
    "        for word in query:\n",
    "            if word in self.model.wv.vocab:\n",
    "                v = self.model.wv[word]\n",
    "                l1.append(v)\n",
    "            else:\n",
    "                l1.append(np.zeros((self.size)))\n",
    "        vec_query = list(enumerate(np.mean(np.array(l1), axis=0)))\n",
    "        \n",
    "        return vec_query\n",
    "    \n",
    "    \n",
    "class W2VPretrainedRetrievalModel(W2VRetrievalModel):\n",
    "    def __init__(self, doc_repr):\n",
    "        super().__init__(doc_repr)\n",
    "        self.model_name = \"word2vec-google-news-300\"\n",
    "        self.size = 300\n",
    "    \n",
    "    def train_model(self):\n",
    "        \"\"\"\n",
    "        Loads the pretrained model\n",
    "        \"\"\"\n",
    "        self.model = g_downloader.load(self.model_name)\n",
    "\n",
    "w2v = W2VRetrievalModel(doc_repr_2)\n",
    "w2v.train_model()\n",
    "\n",
    "# you can now get a W2V vector for a given query in the following way:\n",
    "w2v.vectorize_query(\"report\")"
   ]
  },
  {
   "cell_type": "code",
   "execution_count": 88,
   "metadata": {
    "deletable": false,
    "editable": false,
    "nbgrader": {
     "cell_type": "code",
     "checksum": "f92b5c5a8c6c4b80652b94223209ab0b",
     "grade": true,
     "grade_id": "cell-b31c0f8d214b8bdf",
     "locked": true,
     "points": 0,
     "schema_version": 3,
     "solution": false,
     "task": false
    }
   },
   "outputs": [
    {
     "ename": "TypeError",
     "evalue": "object of type 'NoneType' has no len()",
     "output_type": "error",
     "traceback": [
      "\u001b[1;31m---------------------------------------------------------------------------\u001b[0m",
      "\u001b[1;31mTypeError\u001b[0m                                 Traceback (most recent call last)",
      "\u001b[1;32m<ipython-input-88-9e835c396e62>\u001b[0m in \u001b[0;36m<module>\u001b[1;34m\u001b[0m\n\u001b[1;32m----> 1\u001b[1;33m \u001b[1;32massert\u001b[0m \u001b[0mlen\u001b[0m\u001b[1;33m(\u001b[0m\u001b[0mw2v\u001b[0m\u001b[1;33m.\u001b[0m\u001b[0mvectorize_query\u001b[0m\u001b[1;33m(\u001b[0m\u001b[1;34m\"report\"\u001b[0m\u001b[1;33m)\u001b[0m\u001b[1;33m)\u001b[0m \u001b[1;33m==\u001b[0m \u001b[1;36m100\u001b[0m\u001b[1;33m\u001b[0m\u001b[0m\n\u001b[0m\u001b[0;32m      2\u001b[0m \u001b[1;32massert\u001b[0m \u001b[0mlen\u001b[0m\u001b[1;33m(\u001b[0m\u001b[0mw2v\u001b[0m\u001b[1;33m.\u001b[0m\u001b[0mvectorize_query\u001b[0m\u001b[1;33m(\u001b[0m\u001b[1;34m\"this is a sentence that is not mellifluous\"\u001b[0m\u001b[1;33m)\u001b[0m\u001b[1;33m)\u001b[0m \u001b[1;33m==\u001b[0m \u001b[1;36m100\u001b[0m\u001b[1;33m\u001b[0m\u001b[0m\n",
      "\u001b[1;31mTypeError\u001b[0m: object of type 'NoneType' has no len()"
     ]
    }
   ],
   "source": [
    "assert len(w2v.vectorize_query(\"report\")) == 100\n",
    "assert len(w2v.vectorize_query(\"this is a sentence that is not mellifluous\")) == 100\n"
   ]
  },
  {
   "cell_type": "markdown",
   "metadata": {
    "deletable": false,
    "editable": false,
    "nbgrader": {
     "cell_type": "markdown",
     "checksum": "8dfaabebcb06f308a7ca61fdc5d369e7",
     "grade": false,
     "grade_id": "cell-c2614fa067386384",
     "locked": true,
     "points": 8,
     "schema_version": 3,
     "solution": false,
     "task": true
    }
   },
   "source": [
    "\\#### Please do not change this. This cell is used for grading."
   ]
  },
  {
   "cell_type": "code",
   "execution_count": 89,
   "metadata": {},
   "outputs": [
    {
     "name": "stderr",
     "output_type": "stream",
     "text": [
      "2022-02-25 20:10:41,388 : INFO : adding document #0 to Dictionary(0 unique tokens: [])\n",
      "2022-02-25 20:10:41,494 : INFO : built Dictionary(5937 unique tokens: ['-', 'algebra', 'intern', 'languag', 'preliminari']...) from 3204 documents (total 115969 corpus positions)\n",
      "2022-02-25 20:10:41,500 : INFO : discarding 4740 tokens: [('repeat', 8), ('glossari', 7), ('inspect', 8), ('uncol', 2), ('rung', 9), ('secant', 2), ('.', 1603), ('acceler', 6), ('diverg', 3), ('induc', 9)]...\n",
      "2022-02-25 20:10:41,500 : INFO : keeping 1197 tokens which were in no less than 10 and no more than 1602 (=50.0%) documents\n",
      "2022-02-25 20:10:41,502 : INFO : resulting dictionary: Dictionary(1197 unique tokens: ['-', 'algebra', 'intern', 'languag', 'preliminari']...)\n",
      "2022-02-25 20:10:47,744 : INFO : loading projection weights from C:\\Users\\Ankit/gensim-data\\word2vec-google-news-300\\word2vec-google-news-300.gz\n",
      "2022-02-25 20:11:20,237 : INFO : loaded (3000000, 300) matrix from C:\\Users\\Ankit/gensim-data\\word2vec-google-news-300\\word2vec-google-news-300.gz\n",
      "C:\\Users\\Ankit\\anaconda3\\envs\\ir_env\\lib\\site-packages\\ipykernel_launcher.py:48: DeprecationWarning: Call to deprecated `wv` (Attribute will be removed in 4.0.0, use self instead).\n",
      "C:\\Users\\Ankit\\anaconda3\\envs\\ir_env\\lib\\site-packages\\ipykernel_launcher.py:49: DeprecationWarning: Call to deprecated `wv` (Attribute will be removed in 4.0.0, use self instead).\n"
     ]
    },
    {
     "data": {
      "text/plain": [
       "[(0, -0.14257812),\n",
       " (1, -0.1640625),\n",
       " (2, -0.09033203),\n",
       " (3, -0.11230469),\n",
       " (4, 0.100097656),\n",
       " (5, -0.041259766),\n",
       " (6, 0.048828125),\n",
       " (7, -0.13671875),\n",
       " (8, 0.19628906),\n",
       " (9, -0.13476562),\n",
       " (10, -0.017578125),\n",
       " (11, 0.032226562),\n",
       " (12, 0.095214844),\n",
       " (13, -0.10595703),\n",
       " (14, -0.16992188),\n",
       " (15, 0.041015625),\n",
       " (16, -0.26367188),\n",
       " (17, -0.0063171387),\n",
       " (18, -0.17773438),\n",
       " (19, -0.24023438),\n",
       " (20, 0.3515625),\n",
       " (21, -0.012207031),\n",
       " (22, -0.16210938),\n",
       " (23, -0.12060547),\n",
       " (24, 0.04321289),\n",
       " (25, 0.10986328),\n",
       " (26, 0.052490234),\n",
       " (27, 0.17871094),\n",
       " (28, -0.14550781),\n",
       " (29, 0.13769531),\n",
       " (30, -0.08203125),\n",
       " (31, -0.28320312),\n",
       " (32, -0.10888672),\n",
       " (33, -0.2890625),\n",
       " (34, 0.072265625),\n",
       " (35, -0.04736328),\n",
       " (36, 0.040283203),\n",
       " (37, 0.067871094),\n",
       " (38, 0.11669922),\n",
       " (39, 0.000831604),\n",
       " (40, 0.068359375),\n",
       " (41, 0.12011719),\n",
       " (42, -0.088378906),\n",
       " (43, 0.33789062),\n",
       " (44, -0.044677734),\n",
       " (45, -0.030151367),\n",
       " (46, 0.0076904297),\n",
       " (47, -0.021118164),\n",
       " (48, -0.25390625),\n",
       " (49, 0.14941406),\n",
       " (50, 0.3984375),\n",
       " (51, 0.021606445),\n",
       " (52, -0.02319336),\n",
       " (53, 0.0063476562),\n",
       " (54, 0.008239746),\n",
       " (55, -0.16894531),\n",
       " (56, 0.037353516),\n",
       " (57, -0.06347656),\n",
       " (58, 0.1171875),\n",
       " (59, -0.1484375),\n",
       " (60, -0.07861328),\n",
       " (61, 0.36914062),\n",
       " (62, -0.22460938),\n",
       " (63, 0.17382812),\n",
       " (64, 0.0138549805),\n",
       " (65, 0.1875),\n",
       " (66, -0.10107422),\n",
       " (67, 0.037841797),\n",
       " (68, 0.0021209717),\n",
       " (69, -0.05126953),\n",
       " (70, 0.096191406),\n",
       " (71, -0.057128906),\n",
       " (72, 0.10595703),\n",
       " (73, -0.020996094),\n",
       " (74, 0.16113281),\n",
       " (75, 0.09765625),\n",
       " (76, 0.038330078),\n",
       " (77, 0.21972656),\n",
       " (78, 0.10644531),\n",
       " (79, 0.0859375),\n",
       " (80, 0.1796875),\n",
       " (81, -0.08300781),\n",
       " (82, -0.033203125),\n",
       " (83, 0.041015625),\n",
       " (84, -0.064941406),\n",
       " (85, 0.019897461),\n",
       " (86, 0.13378906),\n",
       " (87, -0.09765625),\n",
       " (88, -0.19335938),\n",
       " (89, -0.23535156),\n",
       " (90, 0.19042969),\n",
       " (91, 0.0024871826),\n",
       " (92, -0.01574707),\n",
       " (93, 0.032226562),\n",
       " (94, -0.21972656),\n",
       " (95, -0.091308594),\n",
       " (96, 0.021240234),\n",
       " (97, 0.15820312),\n",
       " (98, 0.29882812),\n",
       " (99, -0.328125),\n",
       " (100, 0.057373047),\n",
       " (101, -0.04638672),\n",
       " (102, 0.11328125),\n",
       " (103, -0.1015625),\n",
       " (104, 0.18066406),\n",
       " (105, -0.025146484),\n",
       " (106, -0.16601562),\n",
       " (107, -0.096191406),\n",
       " (108, 0.018798828),\n",
       " (109, -0.19433594),\n",
       " (110, 0.14941406),\n",
       " (111, -0.056640625),\n",
       " (112, -0.106933594),\n",
       " (113, -0.15039062),\n",
       " (114, -0.17578125),\n",
       " (115, 0.11279297),\n",
       " (116, 0.049316406),\n",
       " (117, 0.21972656),\n",
       " (118, 0.31835938),\n",
       " (119, 0.15722656),\n",
       " (120, -0.29296875),\n",
       " (121, 0.10498047),\n",
       " (122, -0.296875),\n",
       " (123, -0.013427734),\n",
       " (124, 0.09082031),\n",
       " (125, 0.012573242),\n",
       " (126, -0.051513672),\n",
       " (127, -0.12890625),\n",
       " (128, 0.014465332),\n",
       " (129, 0.12060547),\n",
       " (130, -0.10107422),\n",
       " (131, -0.111328125),\n",
       " (132, 0.063964844),\n",
       " (133, -0.052978516),\n",
       " (134, -0.04321289),\n",
       " (135, -0.012939453),\n",
       " (136, -0.02758789),\n",
       " (137, -0.09716797),\n",
       " (138, -0.20214844),\n",
       " (139, 0.123046875),\n",
       " (140, -0.04248047),\n",
       " (141, 0.17382812),\n",
       " (142, -0.013671875),\n",
       " (143, 0.1015625),\n",
       " (144, -0.0009384155),\n",
       " (145, -0.03564453),\n",
       " (146, 0.30078125),\n",
       " (147, -0.068359375),\n",
       " (148, -0.056152344),\n",
       " (149, 0.037597656),\n",
       " (150, 0.06591797),\n",
       " (151, 0.040283203),\n",
       " (152, 0.0119018555),\n",
       " (153, 0.096191406),\n",
       " (154, 0.3671875),\n",
       " (155, -0.27929688),\n",
       " (156, -0.052001953),\n",
       " (157, -0.106933594),\n",
       " (158, -0.13476562),\n",
       " (159, -0.046142578),\n",
       " (160, 0.25),\n",
       " (161, 0.0056762695),\n",
       " (162, -0.014404297),\n",
       " (163, -0.03100586),\n",
       " (164, -0.060302734),\n",
       " (165, 0.10595703),\n",
       " (166, 0.37890625),\n",
       " (167, 0.05883789),\n",
       " (168, 0.123046875),\n",
       " (169, -0.115234375),\n",
       " (170, 0.14941406),\n",
       " (171, -0.1640625),\n",
       " (172, -0.23339844),\n",
       " (173, -0.07763672),\n",
       " (174, 0.026733398),\n",
       " (175, -0.021118164),\n",
       " (176, 0.19433594),\n",
       " (177, -0.056152344),\n",
       " (178, -0.006439209),\n",
       " (179, -0.16992188),\n",
       " (180, -0.118652344),\n",
       " (181, -0.06738281),\n",
       " (182, -0.068847656),\n",
       " (183, -0.08691406),\n",
       " (184, -0.1015625),\n",
       " (185, 0.014160156),\n",
       " (186, -0.20117188),\n",
       " (187, 0.09814453),\n",
       " (188, -0.010253906),\n",
       " (189, 0.1875),\n",
       " (190, 0.19628906),\n",
       " (191, -0.22070312),\n",
       " (192, -0.19628906),\n",
       " (193, -0.07373047),\n",
       " (194, 0.06640625),\n",
       " (195, -0.13378906),\n",
       " (196, 0.18359375),\n",
       " (197, -0.20019531),\n",
       " (198, 0.19824219),\n",
       " (199, 0.05029297),\n",
       " (200, 0.029907227),\n",
       " (201, 0.017700195),\n",
       " (202, -0.19335938),\n",
       " (203, -0.096191406),\n",
       " (204, -0.10253906),\n",
       " (205, 0.21289062),\n",
       " (206, -0.029907227),\n",
       " (207, 0.14355469),\n",
       " (208, 0.041015625),\n",
       " (209, -0.21191406),\n",
       " (210, 0.20800781),\n",
       " (211, 0.13769531),\n",
       " (212, -0.01965332),\n",
       " (213, 0.014953613),\n",
       " (214, -0.09765625),\n",
       " (215, 0.24316406),\n",
       " (216, 0.080078125),\n",
       " (217, 0.08251953),\n",
       " (218, 0.09863281),\n",
       " (219, 0.056884766),\n",
       " (220, 0.04248047),\n",
       " (221, 0.068847656),\n",
       " (222, -0.03540039),\n",
       " (223, -0.076171875),\n",
       " (224, -0.00016117096),\n",
       " (225, -0.07519531),\n",
       " (226, 0.22460938),\n",
       " (227, 0.15136719),\n",
       " (228, 0.10058594),\n",
       " (229, 0.10986328),\n",
       " (230, 0.023803711),\n",
       " (231, 0.088378906),\n",
       " (232, 0.061767578),\n",
       " (233, -0.107910156),\n",
       " (234, 0.06225586),\n",
       " (235, 0.0034332275),\n",
       " (236, 0.080566406),\n",
       " (237, 0.106933594),\n",
       " (238, 0.08886719),\n",
       " (239, -0.23730469),\n",
       " (240, 0.064941406),\n",
       " (241, 0.010192871),\n",
       " (242, -0.088378906),\n",
       " (243, -0.33203125),\n",
       " (244, 0.0046691895),\n",
       " (245, 0.21289062),\n",
       " (246, 0.0859375),\n",
       " (247, 0.020385742),\n",
       " (248, 0.045654297),\n",
       " (249, 0.1484375),\n",
       " (250, 0.11816406),\n",
       " (251, 0.055664062),\n",
       " (252, -0.17285156),\n",
       " (253, -0.125),\n",
       " (254, -0.025390625),\n",
       " (255, -0.31835938),\n",
       " (256, 0.03112793),\n",
       " (257, 0.0859375),\n",
       " (258, -0.041992188),\n",
       " (259, 0.15625),\n",
       " (260, 0.16113281),\n",
       " (261, 0.19824219),\n",
       " (262, -0.100097656),\n",
       " (263, 0.203125),\n",
       " (264, 0.12890625),\n",
       " (265, 0.23339844),\n",
       " (266, -0.26757812),\n",
       " (267, 0.05517578),\n",
       " (268, 0.048828125),\n",
       " (269, 0.072265625),\n",
       " (270, 0.24414062),\n",
       " (271, 0.24414062),\n",
       " (272, 0.056884766),\n",
       " (273, -0.0546875),\n",
       " (274, -0.033691406),\n",
       " (275, -0.12060547),\n",
       " (276, 0.03491211),\n",
       " (277, -0.14550781),\n",
       " (278, 0.087402344),\n",
       " (279, -0.08300781),\n",
       " (280, 0.017211914),\n",
       " (281, 0.14355469),\n",
       " (282, -0.122558594),\n",
       " (283, 0.1796875),\n",
       " (284, 0.13085938),\n",
       " (285, -0.16503906),\n",
       " (286, 0.012756348),\n",
       " (287, 0.16015625),\n",
       " (288, -0.03112793),\n",
       " (289, 0.08203125),\n",
       " (290, 0.17382812),\n",
       " (291, -0.16796875),\n",
       " (292, 0.13085938),\n",
       " (293, 0.08544922),\n",
       " (294, -0.2109375),\n",
       " (295, -0.13085938),\n",
       " (296, -0.028930664),\n",
       " (297, -0.10546875),\n",
       " (298, 0.084472656),\n",
       " (299, -0.14160156)]"
      ]
     },
     "execution_count": 89,
     "metadata": {},
     "output_type": "execute_result"
    }
   ],
   "source": [
    "w2v_pretrained = W2VPretrainedRetrievalModel(doc_repr_2)\n",
    "w2v_pretrained.train_model()\n",
    "\n",
    "# you can now get an W2V vector for a given query in the following way:\n",
    "w2v_pretrained.vectorize_query(\"report\")"
   ]
  },
  {
   "cell_type": "code",
   "execution_count": 90,
   "metadata": {
    "deletable": false,
    "editable": false,
    "nbgrader": {
     "cell_type": "code",
     "checksum": "0822845afb5eafe5ddb1ffeaa4f4942a",
     "grade": true,
     "grade_id": "cell-1b1466f8ce516f42",
     "locked": true,
     "points": 2,
     "schema_version": 3,
     "solution": false,
     "task": false
    }
   },
   "outputs": [
    {
     "name": "stdout",
     "output_type": "stream",
     "text": [
      "300\n"
     ]
    },
    {
     "name": "stderr",
     "output_type": "stream",
     "text": [
      "C:\\Users\\Ankit\\anaconda3\\envs\\ir_env\\lib\\site-packages\\ipykernel_launcher.py:48: DeprecationWarning: Call to deprecated `wv` (Attribute will be removed in 4.0.0, use self instead).\n",
      "C:\\Users\\Ankit\\anaconda3\\envs\\ir_env\\lib\\site-packages\\ipykernel_launcher.py:49: DeprecationWarning: Call to deprecated `wv` (Attribute will be removed in 4.0.0, use self instead).\n"
     ]
    }
   ],
   "source": [
    "##### Function check\n",
    "\n",
    "print(len(w2v_pretrained.vectorize_query(\"report\")))\n",
    "#####"
   ]
  },
  {
   "cell_type": "code",
   "execution_count": 91,
   "metadata": {},
   "outputs": [
    {
     "data": {
      "application/vnd.jupyter.widget-view+json": {
       "model_id": "4fc6514caf4c418a966b1d23dbb7ec47",
       "version_major": 2,
       "version_minor": 0
      },
      "text/plain": [
       "Text(value='', description='Search Bar')"
      ]
     },
     "metadata": {},
     "output_type": "display_data"
    }
   ],
   "source": [
    "drm_w2v = DenseRetrievalRanker(w2v, cosine_sim)\n",
    "\n",
    "# test your LDA model\n",
    "search_fn = drm_w2v.search\n",
    "\n",
    "text = widgets.Text(description=\"Search Bar\", width=200)\n",
    "display(text)\n",
    "\n",
    "\n",
    "text.on_submit(handle_submit_2)"
   ]
  },
  {
   "cell_type": "code",
   "execution_count": null,
   "metadata": {},
   "outputs": [
    {
     "name": "stderr",
     "output_type": "stream",
     "text": [
      "C:\\Users\\Ankit\\anaconda3\\envs\\ir_env\\lib\\site-packages\\ipykernel_launcher.py:30: DeprecationWarning: Call to deprecated `wv` (Attribute will be removed in 4.0.0, use self instead).\n",
      "C:\\Users\\Ankit\\anaconda3\\envs\\ir_env\\lib\\site-packages\\ipykernel_launcher.py:31: DeprecationWarning: Call to deprecated `wv` (Attribute will be removed in 4.0.0, use self instead).\n"
     ]
    }
   ],
   "source": [
    "drm_w2v_pretrained = DenseRetrievalRanker(w2v_pretrained, cosine_sim)\n",
    "\n",
    "# test your LDA model\n",
    "search_fn = drm_w2v_pretrained.search\n",
    "\n",
    "text = widgets.Text(description=\"Search Bar\", width=200)\n",
    "display(text)\n",
    "\n",
    "\n",
    "text.on_submit(handle_submit_2)"
   ]
  },
  {
   "cell_type": "markdown",
   "metadata": {
    "deletable": false,
    "editable": false,
    "nbgrader": {
     "cell_type": "markdown",
     "checksum": "51b778984fd60757974f51047c61eb15",
     "grade": false,
     "grade_id": "cell-b92f701cbc706108",
     "locked": true,
     "schema_version": 3,
     "solution": false,
     "task": false
    }
   },
   "source": [
    "**Implementation (10 points):**\n",
    "For Doc2Vec, you will need to create a list of `TaggedDocument` instead of using the `self.corpus` or `self.documents` variable. Use the document id as the 'tag'.\n",
    "  "
   ]
  },
  {
   "cell_type": "code",
   "execution_count": null,
   "metadata": {
    "deletable": false,
    "nbgrader": {
     "cell_type": "code",
     "checksum": "1f60fdeb97febb7f4a6fd5bf109aac20",
     "grade": false,
     "grade_id": "cell-680facdcc98a19ab",
     "locked": false,
     "schema_version": 3,
     "solution": true,
     "task": false
    }
   },
   "outputs": [],
   "source": [
    "# TODO: Implement this! (10 points)\n",
    "class D2VRetrievalModel(VectorSpaceRetrievalModel):\n",
    "    def __init__(self, doc_repr):\n",
    "        super().__init__(doc_repr)\n",
    "        \n",
    "        self.vector_size= 100\n",
    "        self.min_count = 1\n",
    "        self.epochs = 20\n",
    "        \n",
    "        # YOUR CODE HERE\n",
    "        self.tags = [TaggedDocument(doc, [i]) for i, doc in self.doc_repr]\n",
    "        \n",
    "    def train_model(self):\n",
    "        # YOUR CODE HERE\n",
    "        self.model = Doc2Vec(self.tags, vector_size=self.vector_size, min_count=self.min_count, epochs=self.epochs)\n",
    "    \n",
    "    def vectorize_documents(self):\n",
    "        \"\"\"\n",
    "            Returns a doc_id -> vector dictionary\n",
    "        \"\"\"\n",
    "        # YOUR CODE HERE\n",
    "        v = {}\n",
    "        for document_id, token in self.doc_repr:\n",
    "            v[document_id] = self.model.infer_vector(token)\n",
    "            v[document_id] = list(enumerate(v[document_id]))\n",
    "            \n",
    "        return v\n",
    "\n",
    "    def vectorize_query(self, query):\n",
    "        # YOUR CODE HERE\n",
    "        query = process_text(query, **config_2)\n",
    "        query = self.model.infer_vector(query)\n",
    "        query = list(enumerate(query))\n",
    "\n",
    "        return query\n",
    "        \n",
    "d2v = D2VRetrievalModel(doc_repr_2)\n",
    "d2v.train_model()\n",
    "\n",
    "\n",
    "# # you can now get an LSI vector for a given query in the following way:\n",
    "d2v.vectorize_query(\"report\")"
   ]
  },
  {
   "cell_type": "code",
   "execution_count": null,
   "metadata": {
    "deletable": false,
    "editable": false,
    "nbgrader": {
     "cell_type": "code",
     "checksum": "e83a363a9d4f136efbdde1426a83925e",
     "grade": true,
     "grade_id": "cell-5e2c5e0c9a2e8cb5",
     "locked": true,
     "points": 0,
     "schema_version": 3,
     "solution": false,
     "task": false
    }
   },
   "outputs": [],
   "source": [
    "#### Please do not change this. This cell is used for grading."
   ]
  },
  {
   "cell_type": "markdown",
   "metadata": {
    "deletable": false,
    "editable": false,
    "nbgrader": {
     "cell_type": "markdown",
     "checksum": "5bb46bf6b9be1e0ca66f0b0bc6260ecb",
     "grade": false,
     "grade_id": "cell-8a49d414f798a595",
     "locked": true,
     "points": 10,
     "schema_version": 3,
     "solution": false,
     "task": true
    }
   },
   "source": [
    "\\#### Please do not change this. This cell is used for grading."
   ]
  },
  {
   "cell_type": "code",
   "execution_count": null,
   "metadata": {},
   "outputs": [],
   "source": [
    "drm_d2v = DenseRetrievalRanker(d2v, cosine_sim)\n",
    "\n",
    "# test your LDA model\n",
    "search_fn = drm_d2v.search\n",
    "\n",
    "text = widgets.Text(description=\"Search Bar\", width=200)\n",
    "display(text)\n",
    "\n",
    "\n",
    "text.on_submit(handle_submit_2)"
   ]
  },
  {
   "cell_type": "markdown",
   "metadata": {
    "deletable": false,
    "editable": false,
    "nbgrader": {
     "cell_type": "markdown",
     "checksum": "363ec36c1d03d9f9e1c2045a6e193c14",
     "grade": false,
     "grade_id": "cell-3529ae29eece7b97",
     "locked": true,
     "schema_version": 3,
     "solution": false,
     "task": false
    }
   },
   "source": [
    "---\n",
    "## Section 9: Re-ranking (10 points) <a class=\"anchor\" id=\"reranking\"></a>\n",
    "\n",
    "[Back to Part 2](#part2)\n",
    "\n",
    "To motivate the re-ranking perspective (i.e retrieve with lexical method + rerank with a semantic method), let's search using semantic methods and compare it to BM25's performance, along with their runtime:\n"
   ]
  },
  {
   "cell_type": "code",
   "execution_count": null,
   "metadata": {
    "deletable": false,
    "editable": false,
    "nbgrader": {
     "cell_type": "code",
     "checksum": "5755f70e3eb28abc65d14d80125338af",
     "grade": false,
     "grade_id": "cell-f8f43bf5ae383128",
     "locked": true,
     "schema_version": 3,
     "solution": false,
     "task": false
    }
   },
   "outputs": [],
   "source": [
    "query = \"algebraic functions\"\n",
    "print(\"BM25: \")\n",
    "%timeit bm25_search(query, 2)\n",
    "print(\"LSI: \")\n",
    "%timeit drm_lsi.search(query)\n",
    "print(\"LDA: \")\n",
    "%timeit drm_lda.search(query)\n",
    "print(\"W2V: \")\n",
    "%timeit drm_w2v.search(query)\n",
    "print(\"W2V(Pretrained): \")\n",
    "%timeit drm_w2v_pretrained.search(query)\n",
    "print(\"D2V:\")\n",
    "%timeit drm_d2v.search(query)"
   ]
  },
  {
   "cell_type": "markdown",
   "metadata": {
    "deletable": false,
    "editable": false,
    "nbgrader": {
     "cell_type": "markdown",
     "checksum": "ae398da0a8c23c95bcbb0023b7ec6f34",
     "grade": false,
     "grade_id": "cell-db5ff09f97841af7",
     "locked": true,
     "schema_version": 3,
     "solution": false,
     "task": false
    }
   },
   "source": [
    "---\n",
    "\n",
    "**Implementation (10 points):**\n",
    "Re-ranking involves retrieving a small set of documents using simple but fast methods like BM25 and then re-ranking them with the aid of semantic methods such as LDA or LSI. Implement the following class, which takes in an `initial_retrieval_fn` - the initial retrieval function and `vsrm` - an instance of the `VectorSpaceRetrievalModel` class (i.e LSI/LDA) as input. The search function should first retrieve an initial list of K documents, and then these documents are re-ranked using a semantic method. This not only makes retrieval faster, but semantic methods perform poorly when used in isolation, as you will find out."
   ]
  },
  {
   "cell_type": "code",
   "execution_count": null,
   "metadata": {
    "deletable": false,
    "nbgrader": {
     "cell_type": "code",
     "checksum": "63b6b05a676a2ae3f08d8bed1bc59428",
     "grade": false,
     "grade_id": "cell-5bf47600d1a0c507",
     "locked": false,
     "schema_version": 3,
     "solution": true,
     "task": false
    }
   },
   "outputs": [],
   "source": [
    "# TODO: Implement this! (10 points)\n",
    "class DenseRerankingModel:\n",
    "    def __init__(self, initial_retrieval_fn, vsrm, similarity_fn):\n",
    "        \"\"\"\n",
    "            initial_retrieval_fn: takes in a query and returns a list of [(doc_id, score)] (sorted)\n",
    "            vsrm: instance of `VectorSpaceRetrievalModel`\n",
    "            similarity_fn: function instance that takes in two vectors \n",
    "                            and returns a similarity score e.g cosine_sim defined earlier\n",
    "        \"\"\"\n",
    "        self.ret = initial_retrieval_fn\n",
    "        self.vsrm = vsrm\n",
    "        self.similarity_fn = similarity_fn\n",
    "        self.vectorized_documents = vsrm.vectorize_documents()\n",
    "        \n",
    "        assert len(self.vectorized_documents) == len(doc_repr_2)\n",
    "    \n",
    "    def search(self, query, K=50):\n",
    "        \"\"\"\n",
    "            First, retrieve the top K results using the retrieval function\n",
    "            Then, re-rank the results using the VSRM instance\n",
    "        \"\"\"\n",
    "        # YOUR CODE HERE\n",
    "        scores = [] \n",
    "        l1 = self.ret(query)[:K]\n",
    "        query_vec = self.vsrm.vectorize_query(query)\n",
    "        \n",
    "\n",
    "        for document_id, token in l1:\n",
    "            doc_vec = self.vectorized_documents[document_id]\n",
    "            scores.append((document_id, self.similarity_fn(query_vec, doc_vec)))\n",
    "\n",
    "        scores.sort(key=lambda _:-_[1])\n",
    "        \n",
    "        return scores"
   ]
  },
  {
   "cell_type": "code",
   "execution_count": null,
   "metadata": {
    "deletable": false,
    "editable": false,
    "nbgrader": {
     "cell_type": "code",
     "checksum": "334ab5af96976265cace682ab82a7387",
     "grade": true,
     "grade_id": "cell-52c6d18a4c0b4882",
     "locked": true,
     "points": 0,
     "schema_version": 3,
     "solution": false,
     "task": false
    }
   },
   "outputs": [],
   "source": [
    "##### Function check\n",
    "bm25_search_2 = partial(bm25_search, index_set=2)\n",
    "lsi_rerank = DenseRerankingModel(bm25_search_2, lsi, cosine_sim)\n",
    "lda_rerank = DenseRerankingModel(bm25_search_2, lda, jenson_shannon_sim)\n",
    "w2v_rerank = DenseRerankingModel(bm25_search_2, w2v, cosine_sim)\n",
    "w2v_pretrained_rerank = DenseRerankingModel(bm25_search_2, w2v_pretrained, cosine_sim)\n",
    "d2v_rerank = DenseRerankingModel(bm25_search_2, d2v, cosine_sim)\n",
    "\n",
    "##### "
   ]
  },
  {
   "cell_type": "markdown",
   "metadata": {
    "deletable": false,
    "editable": false,
    "nbgrader": {
     "cell_type": "markdown",
     "checksum": "bd904253f45f84e63bab3a69729058fc",
     "grade": false,
     "grade_id": "cell-93215dfe6bcf7cff",
     "locked": true,
     "points": 10,
     "schema_version": 3,
     "solution": false,
     "task": true
    }
   },
   "source": [
    "\\#### Please do not change this. This cell is used for grading."
   ]
  },
  {
   "cell_type": "markdown",
   "metadata": {
    "deletable": false,
    "editable": false,
    "nbgrader": {
     "cell_type": "markdown",
     "checksum": "b592e60292bfe3d9ef2930a354c4077a",
     "grade": false,
     "grade_id": "cell-aa694ff55fa91e7d",
     "locked": true,
     "schema_version": 3,
     "solution": false,
     "task": false
    }
   },
   "source": [
    "---\n",
    "Now, let us time the new search functions:"
   ]
  },
  {
   "cell_type": "code",
   "execution_count": null,
   "metadata": {
    "deletable": false,
    "editable": false,
    "nbgrader": {
     "cell_type": "code",
     "checksum": "338c7e3528cba266a865a061287c0e38",
     "grade": false,
     "grade_id": "cell-5edbd481562ad91f",
     "locked": true,
     "schema_version": 3,
     "solution": false,
     "task": false
    }
   },
   "outputs": [],
   "source": [
    "query = \"algebraic functions\"\n",
    "print(\"BM25: \")\n",
    "%timeit bm25_search(query, 2)\n",
    "print(\"LSI: \")\n",
    "%timeit lsi_rerank.search(query)\n",
    "print(\"LDA: \")\n",
    "%timeit lda_rerank.search(query)\n",
    "print(\"W2V: \")\n",
    "%timeit w2v_rerank.search(query)\n",
    "print(\"W2V(Pretrained): \")\n",
    "%timeit w2v_pretrained_rerank.search(query)\n",
    "print(\"D2V:\")\n",
    "%timeit d2v_rerank.search(query)"
   ]
  },
  {
   "cell_type": "markdown",
   "metadata": {
    "deletable": false,
    "editable": false,
    "nbgrader": {
     "cell_type": "markdown",
     "checksum": "c45c5e3f015b2de89d9d39ae3766368b",
     "grade": false,
     "grade_id": "cell-85c50f2ab9eec301",
     "locked": true,
     "schema_version": 3,
     "solution": false,
     "task": false
    }
   },
   "source": [
    "---\n",
    "As you can see, it is much faster (but BM25 is still orders of magnitude faster)."
   ]
  },
  {
   "cell_type": "markdown",
   "metadata": {
    "deletable": false,
    "editable": false,
    "nbgrader": {
     "cell_type": "markdown",
     "checksum": "1e2f3388e3807659f303fe31a75a010e",
     "grade": false,
     "grade_id": "cell-5071bb99b2af61cb",
     "locked": true,
     "schema_version": 3,
     "solution": false,
     "task": false
    }
   },
   "source": [
    "---\n",
    "## Section 10: Evaluation & Analysis (30 points) <a class=\"anchor\" id=\"reranking_eval\"></a>\n",
    "\n",
    "[Back to Part 2](#part2)\n",
    "\n",
    "[Previously](#evaluation) we have implemented some evaluation metrics and used them for measuring the ranking performance of term-based IR algorithms. In this section, we will do the same for semantic methods, both with and without re-ranking.\n",
    "\n",
    "### Section 10.1: Plot (10 points)\n",
    "\n",
    "First, gather the results. The results should consider the index set, the different search functions and different metrics. Plot the results in bar charts, per metric, with clear labels.\n",
    "\n",
    "Then, gather only the re-ranking models, and plot and compare them with the results obtained in part 1 (only index set 2)."
   ]
  },
  {
   "cell_type": "code",
   "execution_count": null,
   "metadata": {
    "deletable": false,
    "editable": false,
    "nbgrader": {
     "cell_type": "code",
     "checksum": "4fe81520ac6413a803838913fd64de03",
     "grade": false,
     "grade_id": "cell-b672fe6dfae0b1ce",
     "locked": true,
     "schema_version": 3,
     "solution": false,
     "task": false
    }
   },
   "outputs": [],
   "source": [
    "list_of_sem_search_fns = [\n",
    "    (\"lda\", drm_lda.search),\n",
    "    (\"lsi\", drm_lsi.search),\n",
    "    (\"w2v\", drm_w2v.search),\n",
    "    (\"w2v_pretrained\", drm_w2v_pretrained.search),\n",
    "    (\"d2v\", drm_d2v.search),\n",
    "    (\"lsi_rr\", lsi_rerank.search),\n",
    "    (\"lda_rr\", lda_rerank.search),\n",
    "    (\"w2v_rr\", w2v_rerank.search),\n",
    "    (\"w2v_pretrained_rr\", w2v_pretrained_rerank.search),\n",
    "    (\"d2v_rr\", d2v_rerank.search),\n",
    "    \n",
    "]"
   ]
  },
  {
   "cell_type": "code",
   "execution_count": null,
   "metadata": {
    "deletable": false,
    "nbgrader": {
     "cell_type": "code",
     "checksum": "54707c4afac084299aeefa047259b4a9",
     "grade": true,
     "grade_id": "cell-7dd8273b0f5a3c22",
     "locked": false,
     "points": 10,
     "schema_version": 3,
     "solution": true,
     "task": false
    }
   },
   "outputs": [],
   "source": [
    "# YOUR CODE HERE\n",
    "#raise NotImplementedError()"
   ]
  },
  {
   "cell_type": "markdown",
   "metadata": {
    "deletable": false,
    "editable": false,
    "nbgrader": {
     "cell_type": "markdown",
     "checksum": "a8a3b6189bdde66704c694d85e38d049",
     "grade": false,
     "grade_id": "cell-deb2ef3daa306e82",
     "locked": true,
     "schema_version": 3,
     "solution": false,
     "task": false
    }
   },
   "source": [
    "### Section 10.2: Summary (20 points)\n",
    "\n",
    "Your summary should compare methods from Part 1 and Part 2 (only for index set 2). State what you expected to see in the results, followed by either supporting evidence *or* justify why the results did not support your expectations. Consider the availability of data, scalability, domain/type of data, etc."
   ]
  },
  {
   "cell_type": "markdown",
   "metadata": {
    "deletable": false,
    "nbgrader": {
     "cell_type": "markdown",
     "checksum": "ff97c43837d10bff6aaffa75e1492887",
     "grade": true,
     "grade_id": "cell-ec5dd7d9cf59dd86",
     "locked": false,
     "points": 20,
     "schema_version": 3,
     "solution": true,
     "task": false
    }
   },
   "source": [
    "YOUR ANSWER HERE"
   ]
  }
 ],
 "metadata": {
  "kernelspec": {
   "display_name": "Python 3",
   "language": "python",
   "name": "python3"
  },
  "language_info": {
   "codemirror_mode": {
    "name": "ipython",
    "version": 3
   },
   "file_extension": ".py",
   "mimetype": "text/x-python",
   "name": "python",
   "nbconvert_exporter": "python",
   "pygments_lexer": "ipython3",
   "version": "3.6.5"
  },
  "toc": {
   "base_numbering": 1,
   "nav_menu": {},
   "number_sections": true,
   "sideBar": true,
   "skip_h1_title": false,
   "title_cell": "Table of Contents",
   "title_sidebar": "Contents",
   "toc_cell": false,
   "toc_position": {},
   "toc_section_display": true,
   "toc_window_display": false
  }
 },
 "nbformat": 4,
 "nbformat_minor": 4
}
