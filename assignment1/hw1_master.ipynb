{
 "cells": [
  {
   "cell_type": "markdown",
   "metadata": {
    "deletable": false,
    "editable": false,
    "nbgrader": {
     "cell_type": "markdown",
     "checksum": "1bba455de8bc2825ca70469169bbadaa",
     "grade": false,
     "grade_id": "cell-c9cd9e550239e812",
     "locked": true,
     "schema_version": 3,
     "solution": false,
     "task": false
    }
   },
   "source": [
    "# Homework 1 (Total Points: 250) <a class=\"anchor\" id=\"top\"></a>\n",
    "\n",
    "\n",
    "**Submission instructions**:\n",
    "- The cells with the `# YOUR CODE HERE` denote that these sections are graded and you need to add your implementation.\n",
    "- For Part 1: You can use the `nltk`, `NumPy`, and `matplotlib` libraries here. Other libraries, e.g., `gensim` or `scikit-learn`, may not be used. For Part 2: `gensim` is allowed in addition to the imported libraries in the next code cell\n",
    "- Please use Python 3.6.5 and `pip install -r requirements.txt` to avoid version issues.\n",
    "- The notebook you submit has to have the student ids, separated by underscores (E.g., `12341234_12341234_12341234_hw1.ipynb`).\n",
    "- This will be parsed by a regexp, **so please double check your filename**.\n",
    "- Only one member of each group has to submit the file (**please do not compress the .ipynb file when you will submit it**) to canvas.\n",
    "- **Make sure to check that your notebook runs before submission**. A quick way to do this is to restart the kernel and run all the cells.  \n",
    "- Do not change the number of arugments in the given functions.\n",
    "- **Please do not delete/add new cells**. Removing cells **will** lead to grade deduction. \n",
    "- Note, that you are not allowed to use Google Colab.\n",
    "\n",
    "\n",
    "**Learning Goals**:\n",
    "- [Part 1, Term-based matching](#part1) (165 points):\n",
    "    - Learn how to load a dataset and process it.\n",
    "    - Learn how to implement several standard IR methods (TF-IDF, BM25, QL) and understand their weaknesses & strengths.\n",
    "    - Learn how to evaluate IR methods.\n",
    "- [Part 2, Semantic-based matching](#part2) (85 points):\n",
    "    - Learn how to implement vector-space retrieval methods (LSI, LDA).\n",
    "    - Learn how to use LSI and LDA for re-ranking.\n",
    "\n",
    "    \n",
    "**Resources**: \n",
    "- **Part 1**: Sections 2.3, 4.1, 4.2, 4.3, 5.3, 5.6, 5.7, 6.2, 7, 8 of [Search Engines: Information Retrieval in Practice](https://ciir.cs.umass.edu/downloads/SEIRiP.pdf)\n",
    "- **Part 2**: [LSI - Chapter 18](https://nlp.stanford.edu/IR-book/pdf/18lsi.pdf) from [Introduction to Information Retrieval](https://nlp.stanford.edu/IR-book/) book and the [original LDA paper](https://jmlr.org/papers/volume3/blei03a/blei03a.pdf)"
   ]
  },
  {
   "cell_type": "code",
   "execution_count": 1,
   "metadata": {
    "deletable": false,
    "editable": false,
    "nbgrader": {
     "cell_type": "code",
     "checksum": "c55bfe94ff1f564dd595547e516c4c6e",
     "grade": false,
     "grade_id": "cell-f5357fabdb9660e3",
     "locked": true,
     "schema_version": 3,
     "solution": false,
     "task": false
    }
   },
   "outputs": [],
   "source": [
    "# imports \n",
    "# TODO: Ensure that no additional library is imported in the notebook. \n",
    "# TODO: Only the standard library and the following libraries are allowed:\n",
    "# TODO: You can also use unlisted classes from these libraries or standard libraries (such as defaultdict, Counter, ...).\n",
    "\n",
    "import os\n",
    "import zipfile\n",
    "from functools import partial\n",
    "\n",
    "import nltk\n",
    "import requests\n",
    "import numpy as np\n",
    "from tqdm import tqdm\n",
    "\n",
    "import matplotlib.pyplot as plt\n",
    "from matplotlib.pyplot import cm\n",
    "\n",
    "from ipywidgets import widgets\n",
    "from IPython.display import display, HTML\n",
    "#from IPython.html import widgets\n",
    "from collections import namedtuple\n",
    "\n",
    "%matplotlib inline"
   ]
  },
  {
   "cell_type": "markdown",
   "metadata": {
    "deletable": false,
    "editable": false,
    "nbgrader": {
     "cell_type": "markdown",
     "checksum": "c8328f758ca5b69f76eee03dbbdd4715",
     "grade": false,
     "grade_id": "cell-7428e12ed184408b",
     "locked": true,
     "schema_version": 3,
     "solution": false,
     "task": false
    }
   },
   "source": [
    "\n",
    "# Part 1: Term-based Matching (165 points) <a class=\"anchor\" id=\"part1\"></a>\n",
    "\n",
    "[Back to top](#top)\n",
    "\n",
    "In the first part, we will learn the basics of IR from loading and preprocessing the material, to implementing some well known search algorithms, to evaluating the ranking performance of the implemented algorithms. We will be using the CACM dataset throughout the assignment. The CACM dataset is a collection of titles and abstracts from the journal CACM (Communication of the ACM).\n",
    "\n",
    "Table of contents:\n",
    "- [Section 1: Text Processing](#text_processing) (5 points)\n",
    "- [Section 2: Indexing](#indexing) (10 points)\n",
    "- [Section 3: Ranking](#ranking) (80 points)\n",
    "- [Section 4: Evaluation](#evaluation) (40 points)\n",
    "- [Section 5: Analysis](#analysis) (30 points)\n"
   ]
  },
  {
   "cell_type": "markdown",
   "metadata": {
    "deletable": false,
    "editable": false,
    "nbgrader": {
     "cell_type": "markdown",
     "checksum": "4e3f938065183dc743aa8254b96b4f5e",
     "grade": false,
     "grade_id": "cell-4b24825cf4ae55ec",
     "locked": true,
     "schema_version": 3,
     "solution": false,
     "task": false
    }
   },
   "source": [
    "---\n",
    "## Section 1: Text Processing (5 points)<a class=\"anchor\" id=\"text_processing\"></a>\n",
    "\n",
    "[Back to Part 1](#part1)\n",
    "\n",
    "In this section, we will load the dataset and learn how to clean up the data to make it usable for an IR system. \n",
    "First, go through the implementation of the following functions:\n",
    "- `read_cacm_docs`: Reads in the CACM documents.\n",
    "- `read_queries`: Reads in the CACM queries.\n",
    "- `load_stopwords`: Loads the stopwords.\n",
    "\n",
    "The points of this section are earned for the following implementations:\n",
    "- `tokenize` (3 points): Tokenizes the input text.\n",
    "- `stem_token` (2 points): Stems the given token. \n",
    "\n",
    "We are using the [CACM dataset](http://ir.dcs.gla.ac.uk/resources/test_collections/cacm/), which is a small, classic IR dataset, composed of a collection of titles and abstracts from the journal CACM. It comes with relevance judgements for queries, so we can evaluate our IR system. \n"
   ]
  },
  {
   "cell_type": "markdown",
   "metadata": {
    "deletable": false,
    "editable": false,
    "nbgrader": {
     "cell_type": "markdown",
     "checksum": "0155d897c7016389d73d160921947a6f",
     "grade": false,
     "grade_id": "cell-45651364e7af6d5a",
     "locked": true,
     "schema_version": 3,
     "solution": false,
     "task": false
    }
   },
   "source": [
    "---\n",
    "### 1.1 Read the CACM documents\n",
    "\n",
    "\n",
    "The following cell downloads the dataset and unzips it to a local directory."
   ]
  },
  {
   "cell_type": "code",
   "execution_count": 2,
   "metadata": {
    "deletable": false,
    "editable": false,
    "nbgrader": {
     "cell_type": "code",
     "checksum": "4d43c9ad6e77cc01ce4cef0c34824930",
     "grade": false,
     "grade_id": "cell-bbc3030bb3fe7e02",
     "locked": true,
     "schema_version": 3,
     "solution": false,
     "task": false
    }
   },
   "outputs": [],
   "source": [
    "def download_dataset():\n",
    "    folder_path = os.environ.get(\"IR1_DATA_PATH\")\n",
    "    if not folder_path:\n",
    "        folder_path = \"./datasets/\"\n",
    "    os.makedirs(folder_path, exist_ok=True)\n",
    "    \n",
    "    file_location = os.path.join(folder_path, \"cacm.zip\")\n",
    "    \n",
    "    # download file if it doesn't exist\n",
    "    if not os.path.exists(file_location):\n",
    "        \n",
    "        url = \"https://surfdrive.surf.nl/files/index.php/s/M0FGJpX2p8wDwxR/download\"\n",
    "\n",
    "        with open(file_location, \"wb\") as handle:\n",
    "            print(f\"Downloading file from {url} to {file_location}\")\n",
    "            response = requests.get(url, stream=True)\n",
    "            for data in tqdm(response.iter_content()):\n",
    "                handle.write(data)\n",
    "            print(\"Finished downloading file\")\n",
    "    \n",
    "    if not os.path.exists(os.path.join(folder_path, \"train.txt\")):\n",
    "        \n",
    "        # unzip file\n",
    "        with zipfile.ZipFile(file_location, 'r') as zip_ref:\n",
    "            zip_ref.extractall(folder_path)\n",
    "        \n",
    "download_dataset()"
   ]
  },
  {
   "cell_type": "markdown",
   "metadata": {
    "deletable": false,
    "editable": false,
    "nbgrader": {
     "cell_type": "markdown",
     "checksum": "31609b0d61d0c74cbd69bc43e47c23be",
     "grade": false,
     "grade_id": "cell-a7dd9a9bf98ede05",
     "locked": true,
     "schema_version": 3,
     "solution": false,
     "task": false
    }
   },
   "source": [
    "---\n",
    "\n",
    "You can see a brief description of each file in the dataset by looking at the README file:"
   ]
  },
  {
   "cell_type": "code",
   "execution_count": 3,
   "metadata": {
    "deletable": false,
    "editable": false,
    "nbgrader": {
     "cell_type": "code",
     "checksum": "cb3c9a2b8b2bf4fd5b7446b0c4c00f43",
     "grade": false,
     "grade_id": "cell-9b6ff1a17124711f",
     "locked": true,
     "schema_version": 3,
     "solution": false,
     "task": false
    }
   },
   "outputs": [
    {
     "name": "stdout",
     "output_type": "stream",
     "text": [
      "Files in this directory with sizes:\n",
      "          0 Jun 19 21:01 README\n",
      "\n",
      "    2187734 Jun 19 20:55 cacm.all              text of documents\n",
      "        626 Jun 19 20:58 cite.info             key to citation info\n",
      "                                                (the X sections in cacm.all)\n",
      "       2668 Jun 19 20:55 common_words           stop words used by smart\n",
      "       2194 Jun 19 20:55 make_coll*             shell script to make collection\n",
      "       1557 Jun 19 20:55 make_coll_term*        ditto (both useless without\n",
      "                                                smart system)\n",
      "       9948 Jun 19 20:55 qrels.text             relation giving\n",
      "                                                    qid did 0 0\n",
      "                                                to indicate dument did is\n",
      "                                                relevant to query qid\n",
      "      13689 Jun 19 20:55 query.text             Original text of the query\n",
      "\n"
     ]
    }
   ],
   "source": [
    "##### Read the README file \n",
    "with open (\"./datasets/README\",\"r\") as file:\n",
    "    readme = file.read()\n",
    "    print(readme)\n",
    "#####"
   ]
  },
  {
   "cell_type": "markdown",
   "metadata": {
    "deletable": false,
    "editable": false,
    "nbgrader": {
     "cell_type": "markdown",
     "checksum": "6e2712c4c4632bf7486a532f7f18074d",
     "grade": false,
     "grade_id": "cell-73351431869fda76",
     "locked": true,
     "schema_version": 3,
     "solution": false,
     "task": false
    }
   },
   "source": [
    "---\n",
    "We are interested in 4 files:\n",
    "- `cacm.all` : Contains the text for all documents. Note that some documents do not have abstracts available\n",
    "- `query.text` : The text of all queries\n",
    "- `qrels.text` : The relevance judgements\n",
    "- `common_words` : A list of common words. This may be used as a collection of stopwords"
   ]
  },
  {
   "cell_type": "code",
   "execution_count": 4,
   "metadata": {
    "deletable": false,
    "editable": false,
    "nbgrader": {
     "cell_type": "code",
     "checksum": "f1162c15177eb4ffe466531d03cff4a2",
     "grade": false,
     "grade_id": "cell-b44dd14079f278ca",
     "locked": true,
     "schema_version": 3,
     "solution": false,
     "task": false
    }
   },
   "outputs": [
    {
     "name": "stdout",
     "output_type": "stream",
     "text": [
      ".I 1\n",
      ".T\n",
      "Preliminary Report-International Algebraic Language\n",
      ".B\n",
      "CACM December, 1958\n",
      ".A\n",
      "Perlis, A. J.\n",
      "Samelson,K.\n",
      ".N\n",
      "CA581203 JB March 22, 1978  8:28 PM\n",
      ".X\n",
      "100\t5\t1\n",
      "123\t5\t1\n",
      "164\t5\t1\n",
      "1\t5\t1\n",
      "1\t5\t1\n",
      "1\t5\t1\n",
      "205\t5\t1\n",
      "210\t5\t1\n",
      "214\t5\t1\n",
      "1982\t5\t1\n",
      "398\t5\t1\n",
      "642\t5\t1\n",
      "669\t5\t1\n",
      "1\t6\t1\n",
      "1\t6\t1\n",
      "1\t6\t1\n",
      "1\t6\t1\n",
      "1\t6\t1\n",
      "1\t6\t1\n",
      "1\t6\t1\n",
      "1\t6\t1\n",
      "1\t6\t1\n",
      "1\t6\t1\n",
      "165\t6\t1\n",
      "196\t6\t1\n",
      "196\t6\t1\n",
      "1273\t6\t1\n",
      "1883\t6\t1\n",
      "324\t6\t1\n",
      "43\t6\t1\n",
      "53\t6\t1\n",
      "91\t6\t1\n",
      "410\t6\t1\n",
      "3184\t6\t1\n",
      "\n"
     ]
    }
   ],
   "source": [
    "##### The first 45 lines of the CACM dataset forms the first record\n",
    "# We are interested only in 3 fields. \n",
    "# 1. the '.I' field, which is the document id\n",
    "# 2. the '.T' field (the title) and\n",
    "# 3. the '.W' field (the abstract, which may be absent)\n",
    "with open (\"./datasets/cacm.all\",\"r\") as file:\n",
    "    cacm_all = \"\".join(file.readlines()[:45])\n",
    "    print(cacm_all)\n",
    "#####"
   ]
  },
  {
   "cell_type": "markdown",
   "metadata": {
    "deletable": false,
    "editable": false,
    "nbgrader": {
     "cell_type": "markdown",
     "checksum": "250b413baccd8efb186bb46a34ae0060",
     "grade": false,
     "grade_id": "cell-c4bf2e263ec553d8",
     "locked": true,
     "schema_version": 3,
     "solution": false,
     "task": false
    }
   },
   "source": [
    "---\n",
    "\n",
    "The following function reads the `cacm.all` file. Note that each document has a variable number of lines. The `.I` field denotes a new document:"
   ]
  },
  {
   "cell_type": "code",
   "execution_count": 5,
   "metadata": {
    "deletable": false,
    "editable": false,
    "nbgrader": {
     "cell_type": "code",
     "checksum": "57d757e6a7a6938740dc899022b4f291",
     "grade": false,
     "grade_id": "cell-b736116eb419c624",
     "locked": true,
     "schema_version": 3,
     "solution": false,
     "task": false
    }
   },
   "outputs": [],
   "source": [
    "def read_cacm_docs(root_folder = \"./datasets/\"):\n",
    "    \"\"\"\n",
    "        Reads in the CACM documents. The dataset is assumed to be in the folder \"./datasets/\" by default\n",
    "        Returns: A list of 2-tuples: (doc_id, document), where 'document' is a single string created by \n",
    "            appending the title and abstract (separated by a \"\\n\"). \n",
    "            In case the record doesn't have an abstract, the document is composed only by the title\n",
    "    \"\"\"\n",
    "    with open(os.path.join(root_folder, \"cacm.all\")) as reader:\n",
    "        lines = reader.readlines()\n",
    "    \n",
    "    doc_id, title, abstract = None, None, None\n",
    "    \n",
    "    docs = []\n",
    "    line_idx = 0\n",
    "    while line_idx < len(lines):\n",
    "        line = lines[line_idx]\n",
    "        if line.startswith(\".I\"):\n",
    "            if doc_id is not None:\n",
    "                docs.append((doc_id, title, abstract))\n",
    "                doc_id, title, abstract = None, None, None\n",
    "            \n",
    "            doc_id = line.split()[-1]\n",
    "            line_idx += 1\n",
    "        elif line.startswith(\".T\"):\n",
    "            # start at next line\n",
    "            line_idx += 1\n",
    "            temp_lines = []\n",
    "            # read till next '.'\n",
    "            while not lines[line_idx].startswith(\".\"):\n",
    "                temp_lines.append(lines[line_idx].strip(\"\\n\"))\n",
    "                line_idx += 1\n",
    "            title = \"\\n\".join(temp_lines).strip(\"\\n\")\n",
    "        elif line.startswith(\".W\"):\n",
    "            # start at next line\n",
    "            line_idx += 1\n",
    "            temp_lines = []\n",
    "            # read till next '.'\n",
    "            while not lines[line_idx].startswith(\".\"):\n",
    "                temp_lines.append(lines[line_idx].strip(\"\\n\"))\n",
    "                line_idx += 1\n",
    "            abstract = \"\\n\".join(temp_lines).strip(\"\\n\")\n",
    "        else:\n",
    "            line_idx += 1\n",
    "    \n",
    "    docs.append((doc_id, title, abstract))\n",
    "    \n",
    "    p_docs = []\n",
    "    for (did, t, a) in docs:\n",
    "        if a is None:\n",
    "            a = \"\"\n",
    "        p_docs.append((did, t + \"\\n\" + a))\n",
    "    return p_docs\n"
   ]
  },
  {
   "cell_type": "code",
   "execution_count": 6,
   "metadata": {
    "deletable": false,
    "editable": false,
    "nbgrader": {
     "cell_type": "code",
     "checksum": "2f81930fcd89670b6e20e2255e1f2369",
     "grade": false,
     "grade_id": "cell-a1c43818e0d3fd79",
     "locked": true,
     "schema_version": 3,
     "solution": false,
     "task": false
    }
   },
   "outputs": [],
   "source": [
    "##### Function check\n",
    "docs = read_cacm_docs()\n",
    "\n",
    "assert isinstance(docs, list)\n",
    "assert len(docs) == 3204, \"There should be exactly 3204 documents\"\n",
    "\n",
    "unzipped_docs = list(zip(*docs))\n",
    "assert np.sum(np.array(list(map(int,unzipped_docs[0])))) == 5134410\n",
    "\n",
    "##### "
   ]
  },
  {
   "cell_type": "markdown",
   "metadata": {
    "deletable": false,
    "editable": false,
    "nbgrader": {
     "cell_type": "markdown",
     "checksum": "25fd3cfaf2137c56002b850699b3c9d3",
     "grade": false,
     "grade_id": "cell-5ed2ddc91f73c60e",
     "locked": true,
     "schema_version": 3,
     "solution": false,
     "task": false
    }
   },
   "source": [
    "---\n",
    "### 1.2 Read the CACM queries\n",
    "\n",
    "Next, let us read the queries. They are formatted similarly:"
   ]
  },
  {
   "cell_type": "code",
   "execution_count": 7,
   "metadata": {
    "deletable": false,
    "editable": false,
    "nbgrader": {
     "cell_type": "code",
     "checksum": "5d26c0908e758acb9968b84056b1060a",
     "grade": false,
     "grade_id": "cell-5c7e8e7c4fc2757f",
     "locked": true,
     "schema_version": 3,
     "solution": false,
     "task": false
    }
   },
   "outputs": [
    {
     "name": "stdout",
     "output_type": "stream",
     "text": [
      ".I 1\n",
      ".W\n",
      " What articles exist which deal with TSS (Time Sharing System), an\n",
      "operating system for IBM computers?\n",
      ".N\n",
      " 1. Richard Alexander, Comp Serv, Langmuir Lab (TSS)\n",
      " \n",
      ".I 2\n",
      ".W\n",
      " I am interested in articles written either by Prieve or Udo Pooch\n",
      ".A\n",
      "Prieve, B.\n",
      "Pooch, U.\n",
      ".N\n",
      " 2. Richard Alexander, Comp Serv, Langmuir Lab (author = Pooch or Prieve)\n"
     ]
    }
   ],
   "source": [
    "##### The first 15 lines of 'query.text' has 2 queries\n",
    "# We are interested only in 2 fields. \n",
    "# 1. the '.I' - the query id\n",
    "# 2. the '.W' - the query\n",
    "!head -15 ./datasets/query.text\n",
    "#####"
   ]
  },
  {
   "cell_type": "markdown",
   "metadata": {
    "deletable": false,
    "editable": false,
    "nbgrader": {
     "cell_type": "markdown",
     "checksum": "8f19f311a660f30e3f86cb0f7037d54a",
     "grade": false,
     "grade_id": "cell-88e293507d2dcef6",
     "locked": true,
     "schema_version": 3,
     "solution": false,
     "task": false
    }
   },
   "source": [
    "---\n",
    "\n",
    "The following function reads the `query.text` file:"
   ]
  },
  {
   "cell_type": "code",
   "execution_count": 8,
   "metadata": {
    "deletable": false,
    "editable": false,
    "nbgrader": {
     "cell_type": "code",
     "checksum": "e3fbb193211007672849487f5cff1664",
     "grade": false,
     "grade_id": "cell-433e3ad5d0e2572a",
     "locked": true,
     "schema_version": 3,
     "solution": false,
     "task": false
    }
   },
   "outputs": [],
   "source": [
    "def read_queries(root_folder = \"./datasets/\"):\n",
    "    \"\"\"\n",
    "        Reads in the CACM queries. The dataset is assumed to be in the folder \"./datasets/\" by default\n",
    "        Returns: A list of 2-tuples: (query_id, query)\n",
    "    \"\"\"\n",
    "    with open(os.path.join(root_folder, \"query.text\")) as reader:\n",
    "        lines = reader.readlines()\n",
    "    \n",
    "    query_id, query = None, None\n",
    "    \n",
    "    queries = []\n",
    "    line_idx = 0\n",
    "    while line_idx < len(lines):\n",
    "        line = lines[line_idx]\n",
    "        if line.startswith(\".I\"):\n",
    "            if query_id is not None:\n",
    "                queries.append((query_id, query))\n",
    "                query_id, query = None, None\n",
    "    \n",
    "            query_id = line.split()[-1]\n",
    "            line_idx += 1\n",
    "        elif line.startswith(\".W\"):\n",
    "            # start at next line\n",
    "            line_idx += 1\n",
    "            temp_lines = []\n",
    "            # read till next '.'\n",
    "            while not lines[line_idx].startswith(\".\"):\n",
    "                temp_lines.append(lines[line_idx].strip(\"\\n\"))\n",
    "                line_idx += 1\n",
    "            query = \"\\n\".join(temp_lines).strip(\"\\n\")\n",
    "        else:\n",
    "            line_idx += 1\n",
    "    \n",
    "    queries.append((query_id, query))\n",
    "    return queries\n"
   ]
  },
  {
   "cell_type": "code",
   "execution_count": 9,
   "metadata": {
    "deletable": false,
    "editable": false,
    "nbgrader": {
     "cell_type": "code",
     "checksum": "a897b9771b54f447be3418d7246fc4a0",
     "grade": false,
     "grade_id": "cell-6ec540abce66c598",
     "locked": true,
     "schema_version": 3,
     "solution": false,
     "task": false
    }
   },
   "outputs": [],
   "source": [
    "##### Function check\n",
    "queries = read_queries()\n",
    "\n",
    "assert isinstance(queries, list)\n",
    "assert len(queries) == 64 and all([q[1] is not None for q in queries]), \"There should be exactly 64 queries\"\n",
    "\n",
    "unzipped_queries = list(zip(*queries))\n",
    "assert np.sum(np.array(list(map(int,unzipped_queries[0])))) == 2080\n",
    "\n",
    "##### "
   ]
  },
  {
   "cell_type": "markdown",
   "metadata": {
    "deletable": false,
    "editable": false,
    "nbgrader": {
     "cell_type": "markdown",
     "checksum": "a300c41912ac63b239070b4c15c9f5c5",
     "grade": false,
     "grade_id": "cell-1c31569491d7b782",
     "locked": true,
     "schema_version": 3,
     "solution": false,
     "task": false
    }
   },
   "source": [
    "---\n",
    "### 1.3 Read the stop words\n",
    "\n",
    "We use the common words stored in `common_words`:"
   ]
  },
  {
   "cell_type": "code",
   "execution_count": 10,
   "metadata": {
    "deletable": false,
    "editable": false,
    "nbgrader": {
     "cell_type": "code",
     "checksum": "1ad6f5bae6a792504c1c8513ae5751ad",
     "grade": false,
     "grade_id": "cell-34bdb63461418a96",
     "locked": true,
     "schema_version": 3,
     "solution": false,
     "task": false
    }
   },
   "outputs": [
    {
     "name": "stdout",
     "output_type": "stream",
     "text": [
      "a\n",
      "about\n",
      "above\n",
      "accordingly\n",
      "across\n",
      "after\n",
      "afterwards\n",
      "again\n",
      "against\n",
      "all\n"
     ]
    }
   ],
   "source": [
    "##### Read the stop words file \n",
    "!head ./datasets/common_words\n",
    "##### Read the README file "
   ]
  },
  {
   "cell_type": "markdown",
   "metadata": {
    "deletable": false,
    "editable": false,
    "nbgrader": {
     "cell_type": "markdown",
     "checksum": "6d0fe612e770213b6397c2179b07a966",
     "grade": false,
     "grade_id": "cell-4744bde0338895d8",
     "locked": true,
     "schema_version": 3,
     "solution": false,
     "task": false
    }
   },
   "source": [
    "---\n",
    "\n",
    "The following function reads the `common_words` file (For better coverage, we try to keep them in lowercase):"
   ]
  },
  {
   "cell_type": "code",
   "execution_count": 11,
   "metadata": {
    "deletable": false,
    "editable": false,
    "nbgrader": {
     "cell_type": "code",
     "checksum": "9409713fd26eb0c33587e190638997c4",
     "grade": false,
     "grade_id": "cell-7357aa40f64e5bcb",
     "locked": true,
     "schema_version": 3,
     "solution": false,
     "task": false
    }
   },
   "outputs": [],
   "source": [
    "def load_stopwords(root_folder = \"./datasets/\"):\n",
    "    \"\"\"\n",
    "        Loads the stopwords. The dataset is assumed to be in the folder \"./datasets/\" by default\n",
    "        Output: A set of stopwords\n",
    "    \"\"\"\n",
    "    with open(os.path.join(root_folder, \"common_words\")) as reader:\n",
    "        lines = reader.readlines()\n",
    "    stopwords = set([l.strip().lower() for l in lines])\n",
    "    return stopwords\n"
   ]
  },
  {
   "cell_type": "code",
   "execution_count": 12,
   "metadata": {
    "deletable": false,
    "editable": false,
    "nbgrader": {
     "cell_type": "code",
     "checksum": "f1c8153c3c38133bc2db6e7b076ad470",
     "grade": false,
     "grade_id": "cell-2ca3ac162004de97",
     "locked": true,
     "schema_version": 3,
     "solution": false,
     "task": false
    }
   },
   "outputs": [],
   "source": [
    "##### Function check\n",
    "stopwords = load_stopwords()\n",
    "\n",
    "assert isinstance(stopwords, set)\n",
    "assert len(stopwords) == 428, \"There should be exactly 428 stop words\"\n",
    "\n",
    "assert np.sum(np.array(list(map(len,stopwords)))) == 2234\n",
    "\n",
    "##### \n"
   ]
  },
  {
   "cell_type": "markdown",
   "metadata": {
    "deletable": false,
    "editable": false,
    "nbgrader": {
     "cell_type": "markdown",
     "checksum": "92c1191e9e7291dcf0d70dc67b907a65",
     "grade": false,
     "grade_id": "cell-134b72872f4300cb",
     "locked": true,
     "schema_version": 3,
     "solution": false,
     "task": false
    }
   },
   "source": [
    "---\n",
    "### 1.4 Tokenization (3 points)\n",
    "\n",
    "We can now write some basic text processing functions. \n",
    "A first step is to tokenize the text. \n",
    "\n",
    "**Note**: Use the  `WordPunctTokenizer` available in the `nltk` library:"
   ]
  },
  {
   "cell_type": "code",
   "execution_count": 13,
   "metadata": {
    "deletable": false,
    "nbgrader": {
     "cell_type": "code",
     "checksum": "3f5564d3c75bf22fbf832b3a9b938f37",
     "grade": false,
     "grade_id": "cell-322be4c9499bdc4b",
     "locked": false,
     "schema_version": 3,
     "solution": true,
     "task": false
    }
   },
   "outputs": [],
   "source": [
    "# TODO: Implement this! (4 points)\n",
    "def tokenize(text):\n",
    "    \"\"\"\n",
    "        Tokenizes the input text. Use the WordPunctTokenizer\n",
    "        Input: text - a string\n",
    "        Output: a list of tokens\n",
    "    \"\"\"\n",
    "    # YOUR CODE HERE\n",
    "    tokens = nltk.WordPunctTokenizer().tokenize(text)\n",
    "    return tokens"
   ]
  },
  {
   "cell_type": "code",
   "execution_count": 14,
   "metadata": {
    "deletable": false,
    "editable": false,
    "nbgrader": {
     "cell_type": "code",
     "checksum": "e15af22c4d8ae0a3f9dac43bef7097ec",
     "grade": true,
     "grade_id": "cell-7fbf48bf7541a622",
     "locked": true,
     "points": 3,
     "schema_version": 3,
     "solution": false,
     "task": false
    }
   },
   "outputs": [
    {
     "name": "stdout",
     "output_type": "stream",
     "text": [
      "['the', 'quick', 'brown', 'fox', 'jumps', 'over', 'the', 'lazy', 'dog']\n"
     ]
    }
   ],
   "source": [
    "##### Function check\n",
    "text = \"the quick brown fox jumps over the lazy dog\"\n",
    "tokens = tokenize(text)\n",
    "\n",
    "assert isinstance(tokens, list)\n",
    "assert len(tokens) == 9\n",
    "\n",
    "print(tokens)\n",
    "# output: ['the', 'quick', 'brown', 'fox', 'jumps', 'over', 'the', 'lazy', 'dog']\n",
    "#####"
   ]
  },
  {
   "cell_type": "markdown",
   "metadata": {
    "deletable": false,
    "editable": false,
    "nbgrader": {
     "cell_type": "markdown",
     "checksum": "34210618bff4cb47aad2f03cb4b9854c",
     "grade": false,
     "grade_id": "cell-fd1b98ae61b697ca",
     "locked": true,
     "schema_version": 3,
     "solution": false,
     "task": false
    }
   },
   "source": [
    "---\n",
    "### 1.5 Stemming (2 points)\n",
    "\n",
    "Write a function to stem tokens. \n",
    "Again, you can use the nltk library for this:"
   ]
  },
  {
   "cell_type": "code",
   "execution_count": 15,
   "metadata": {
    "deletable": false,
    "nbgrader": {
     "cell_type": "code",
     "checksum": "1c4a6aa979d66158c7b6b992af43293a",
     "grade": false,
     "grade_id": "cell-e3f6c8e3f874b28d",
     "locked": false,
     "schema_version": 3,
     "solution": true,
     "task": false
    }
   },
   "outputs": [],
   "source": [
    "# TODO: Implement this! (3 points)\n",
    "def stem_token(token):\n",
    "    \"\"\"\n",
    "        Stems the given token using the PorterStemmer from the nltk library\n",
    "        Input: a single token\n",
    "        Output: the stem of the token\n",
    "    \"\"\"\n",
    "    # YOUR CODE HERE\n",
    "    stem_token = nltk.stem.PorterStemmer().stem(token)\n",
    "    return stem_token"
   ]
  },
  {
   "cell_type": "code",
   "execution_count": 16,
   "metadata": {
    "deletable": false,
    "editable": false,
    "nbgrader": {
     "cell_type": "code",
     "checksum": "9363b4f09b556d424d9c895d4ab57b1c",
     "grade": true,
     "grade_id": "cell-cd6863e6ee6ed205",
     "locked": true,
     "points": 2,
     "schema_version": 3,
     "solution": false,
     "task": false
    }
   },
   "outputs": [],
   "source": [
    "##### Function check\n",
    "\n",
    "assert stem_token('owned') == 'own'\n",
    "assert stem_token('itemization') == 'item'\n",
    "#####"
   ]
  },
  {
   "cell_type": "markdown",
   "metadata": {
    "deletable": false,
    "editable": false,
    "nbgrader": {
     "cell_type": "markdown",
     "checksum": "0b311d014146da6afa1d39542fab9869",
     "grade": false,
     "grade_id": "cell-47c9f90498699110",
     "locked": true,
     "schema_version": 3,
     "solution": false,
     "task": false
    }
   },
   "source": [
    "---\n",
    "### 1.6 Summary\n",
    "\n",
    "The following function puts it all together. Given an input string, this functions tokenizes and processes it according to the flags that you set."
   ]
  },
  {
   "cell_type": "code",
   "execution_count": 17,
   "metadata": {
    "deletable": false,
    "editable": false,
    "nbgrader": {
     "cell_type": "code",
     "checksum": "2ff2d215ee8e0039c5a91fd3de12e6bd",
     "grade": false,
     "grade_id": "cell-dd0d3f46b30801da",
     "locked": true,
     "schema_version": 3,
     "solution": false,
     "task": false
    }
   },
   "outputs": [],
   "source": [
    "#### Putting it all together\n",
    "def process_text(text, stem=False, remove_stopwords=False, lowercase_text=False):\n",
    "    \n",
    "    tokens = []\n",
    "    for token in tokenize(text):\n",
    "        if remove_stopwords and token.lower() in stopwords:\n",
    "            continue\n",
    "        if stem:\n",
    "            token = stem_token(token)\n",
    "        if lowercase_text:\n",
    "            token = token.lower()\n",
    "        tokens.append(token)\n",
    "\n",
    "    return tokens\n",
    "#### "
   ]
  },
  {
   "cell_type": "markdown",
   "metadata": {
    "deletable": false,
    "editable": false,
    "nbgrader": {
     "cell_type": "markdown",
     "checksum": "02d433b18eb43654fa4306a7bf55b190",
     "grade": false,
     "grade_id": "cell-8d885bfd2edd43ae",
     "locked": true,
     "schema_version": 3,
     "solution": false,
     "task": false
    }
   },
   "source": [
    "---\n",
    "\n",
    "Let's create two sets of preprocessed documents.\n",
    "We can process the documents and queries according to these two configurations:"
   ]
  },
  {
   "cell_type": "code",
   "execution_count": 18,
   "metadata": {
    "deletable": false,
    "editable": false,
    "nbgrader": {
     "cell_type": "code",
     "checksum": "dbe4ca667be6842fdcf512fbcad50c7f",
     "grade": false,
     "grade_id": "cell-d427365ee0fb21d8",
     "locked": true,
     "schema_version": 3,
     "solution": false,
     "task": false
    }
   },
   "outputs": [],
   "source": [
    "# In this configuration:\n",
    "# Don't preprocess the text, except to tokenize \n",
    "config_1 = {\n",
    "  \"stem\": False,\n",
    "  \"remove_stopwords\" : False,\n",
    "  \"lowercase_text\": True\n",
    "} \n",
    "\n",
    "\n",
    "# In this configuration:\n",
    "# Preprocess the text, stem and remove stopwords\n",
    "config_2 = {\n",
    "  \"stem\": True,\n",
    "  \"remove_stopwords\" : True,\n",
    "  \"lowercase_text\": True, \n",
    "} \n",
    "\n",
    "####\n",
    "doc_repr_1 = []\n",
    "doc_repr_2 = []\n",
    "for (doc_id, document) in docs:\n",
    "    doc_repr_1.append((doc_id, process_text(document, **config_1)))\n",
    "    doc_repr_2.append((doc_id, process_text(document, **config_2)))\n",
    "\n",
    "####"
   ]
  },
  {
   "cell_type": "markdown",
   "metadata": {
    "deletable": false,
    "editable": false,
    "nbgrader": {
     "cell_type": "markdown",
     "checksum": "b60589aac19e80941d860d9b3f1e9a16",
     "grade": false,
     "grade_id": "cell-b1c102db61ae7495",
     "locked": true,
     "schema_version": 3,
     "solution": false,
     "task": false
    }
   },
   "source": [
    "--- \n",
    "\n",
    "## Section 2: Indexing (10 points)<a class=\"anchor\" id=\"indexing\"></a>\n",
    "\n",
    "[Back to Part 1](#part1)\n",
    "\n",
    "\n",
    "\n",
    "A retrieval function usually takes in a query document pair, and scores a query against a document.  Our document set is quite small - just a few thousand documents. However, consider a web-scale dataset with a few million documents. In such a scenario, it would become infeasible to score every query and document pair. In such a case, we can build an inverted index. From Wikipedia:\n",
    "\n",
    "> ... , an inverted index (also referred to as a postings file or inverted file) is a database index storing a mapping from content, such as words or numbers, to its locations in a table, .... The purpose of an inverted index is to allow fast full-text searches, at a cost of increased processing when a document is added to the database. ...\n",
    "\n",
    "\n",
    "Consider a simple inverted index, which maps from word to document. This can improve the performance of a retrieval system significantly. In this assignment, we consider a *simple* inverted index, which maps a word to a set of documents. In practice, however, more complex indices might be used.  \n"
   ]
  },
  {
   "cell_type": "markdown",
   "metadata": {
    "deletable": false,
    "editable": false,
    "nbgrader": {
     "cell_type": "markdown",
     "checksum": "710fd943f45523ac36fcb887cc0d4d39",
     "grade": false,
     "grade_id": "cell-fa373192c1b7bb95",
     "locked": true,
     "schema_version": 3,
     "solution": false,
     "task": false
    }
   },
   "source": [
    "### 2.1 Term Frequency-index (10 points)\n",
    "In this assignment, we will be using an index created in memory since our dataset is tiny. To get started, build a simple index that maps each `token` to a list of `(doc_id, count)` where `count` is the count of the `token` in `doc_id`.\n",
    "For consistency, build this index using a python dictionary.\n",
    "    \n",
    "Now, implement a function to build an index:"
   ]
  },
  {
   "cell_type": "code",
   "execution_count": 19,
   "metadata": {
    "deletable": false,
    "nbgrader": {
     "cell_type": "code",
     "checksum": "d4e8c6b658c469379d5fe511de05b536",
     "grade": false,
     "grade_id": "cell-077599b87e953209",
     "locked": false,
     "schema_version": 3,
     "solution": true,
     "task": false
    }
   },
   "outputs": [],
   "source": [
    "# TODO: Implement this! (10 points)\n",
    "\n",
    "from collections import defaultdict\n",
    "from collections import Counter\n",
    "\n",
    "def build_tf_index(documents):\n",
    "    \"\"\"\n",
    "        Build an inverted index (with counts). The output is a dictionary which takes in a token\n",
    "        and returns a list of (doc_id, count) where 'count' is the count of the 'token' in 'doc_id'\n",
    "        Input: a list of documents - (doc_id, tokens) \n",
    "        Output: An inverted index implemented within a pyhton dictionary: [token] -> [(doc_id, token_count)]\n",
    "    \"\"\"\n",
    "    # YOUR CODE HERE\n",
    "\n",
    "    tok_dict = defaultdict(lambda: [])\n",
    "    for i, toks in documents:\n",
    "        counter = Counter(toks)\n",
    "        for key in counter.keys():\n",
    "            # Add key if not present\n",
    "            if not (key in tok_dict.keys()):\n",
    "                tok_dict[key] = []\n",
    "            tok_dict[key].append((i,counter[key]))\n",
    "    return tok_dict"
   ]
  },
  {
   "cell_type": "markdown",
   "metadata": {
    "deletable": false,
    "editable": false,
    "nbgrader": {
     "cell_type": "markdown",
     "checksum": "15e7041b4323d2a290322de538ff7670",
     "grade": false,
     "grade_id": "cell-093aebfa504f96f2",
     "locked": true,
     "schema_version": 3,
     "solution": false,
     "task": false
    }
   },
   "source": [
    "---\n",
    "Now we can build indexed documents and preprocess the queries based on the two configurations:"
   ]
  },
  {
   "cell_type": "code",
   "execution_count": 20,
   "metadata": {
    "deletable": false,
    "editable": false,
    "nbgrader": {
     "cell_type": "code",
     "checksum": "e27540c1d8d77a3779a05f557f3f40c6",
     "grade": false,
     "grade_id": "cell-b2ff1676348b90a8",
     "locked": true,
     "schema_version": 3,
     "solution": false,
     "task": false
    }
   },
   "outputs": [],
   "source": [
    "#### Indexed documents based on the two configs\n",
    "\n",
    "# Create the 2 indices\n",
    "tf_index_1 = build_tf_index(doc_repr_1)\n",
    "tf_index_2 = build_tf_index(doc_repr_2)\n",
    "\n",
    "# This function returns the tf_index of the corresponding config\n",
    "def get_index(index_set):\n",
    "    assert index_set in {1, 2}\n",
    "    return {\n",
    "        1: tf_index_1,\n",
    "        2: tf_index_2\n",
    "    }[index_set]\n",
    "\n",
    "####\n",
    "#### Preprocessed query based on the two configs\n",
    "\n",
    "# This function preprocesses the text given the index set, according to the specified config\n",
    "def preprocess_query(text, index_set):\n",
    "    assert index_set in {1, 2}\n",
    "    if index_set == 1:\n",
    "        return process_text(text, **config_1)\n",
    "    elif index_set == 2:\n",
    "        return process_text(text, **config_2)\n",
    "\n",
    "#### "
   ]
  },
  {
   "cell_type": "code",
   "execution_count": 21,
   "metadata": {
    "deletable": false,
    "editable": false,
    "nbgrader": {
     "cell_type": "code",
     "checksum": "f0cbc8703e1248cd6edf03f9019b69db",
     "grade": true,
     "grade_id": "cell-fc7c7232d5d2ee46",
     "locked": true,
     "points": 5,
     "schema_version": 3,
     "solution": false,
     "task": false
    }
   },
   "outputs": [
    {
     "name": "stdout",
     "output_type": "stream",
     "text": [
      "sample tf index for computer: [('4', 1), ('7', 1), ('10', 1), ('13', 1), ('19', 1), ('22', 1), ('23', 1), ('37', 1), ('40', 3), ('41', 1)]\n",
      "sample tf index for examples: [('111', 1), ('320', 1), ('644', 1), ('691', 1), ('727', 1), ('848', 1), ('892', 1), ('893', 1), ('1049', 1), ('1051', 1)]\n"
     ]
    }
   ],
   "source": [
    "##### Function check\n",
    "\n",
    "assert isinstance(tf_index_1, dict)\n",
    "\n",
    "assert isinstance(tf_index_1['computer'], list)\n",
    "print('sample tf index for computer:', tf_index_1['computer'][:10])\n",
    "\n",
    "assert isinstance(tf_index_1['examples'], list)\n",
    "print('sample tf index for examples:', tf_index_1['examples'][:10])\n",
    "#### "
   ]
  },
  {
   "cell_type": "code",
   "execution_count": 22,
   "metadata": {
    "deletable": false,
    "editable": false,
    "nbgrader": {
     "cell_type": "code",
     "checksum": "d49b8ac36815d9a5cb4bed838ab53a50",
     "grade": true,
     "grade_id": "cell-ff06bd11204db250",
     "locked": true,
     "points": 5,
     "schema_version": 3,
     "solution": false,
     "task": false
    }
   },
   "outputs": [
    {
     "name": "stdout",
     "output_type": "stream",
     "text": [
      "sample tf index for computer: [('4', 1), ('7', 1), ('10', 1), ('13', 1), ('19', 1), ('22', 1), ('23', 1), ('37', 1), ('40', 3), ('41', 1)]\n",
      "sample tf index for examples: []\n"
     ]
    }
   ],
   "source": [
    "##### Function check\n",
    "\n",
    "assert isinstance(tf_index_2, dict)\n",
    "\n",
    "assert isinstance(tf_index_2['computer'], list)\n",
    "print('sample tf index for computer:', tf_index_1['computer'][:10])\n",
    "\n",
    "assert isinstance(tf_index_2['examples'], list)\n",
    "print('sample tf index for examples:', tf_index_2['examples'][:10])\n",
    "#### "
   ]
  },
  {
   "cell_type": "markdown",
   "metadata": {
    "deletable": false,
    "editable": false,
    "nbgrader": {
     "cell_type": "markdown",
     "checksum": "880b2ef3ca405f2af6e0667d2dc7a600",
     "grade": false,
     "grade_id": "cell-89eba71f04310291",
     "locked": true,
     "schema_version": 3,
     "solution": false,
     "task": false
    }
   },
   "source": [
    "\n",
    "---\n",
    "## Section 3: Ranking  (80 points) <a class=\"anchor\" id=\"ranking\"></a>\n",
    "\n",
    "[Back to Part 1](#part1)\n",
    "\n",
    "Now that we have cleaned and processed our dataset, we can start building simple IR systems. \n",
    "\n",
    "For now, we consider *simple* IR systems, which involve computing scores from the tokens present in the document/query. More advanced methods are covered in later assignments.\n",
    "\n",
    "We will implement the following methods in this section:\n",
    "- [Section 3.1: Bag of Words](#bow) (10 points)\n",
    "- [Section 3.2: TF-IDF](#tfidf) (15 points)\n",
    "- [Section 3.3: Query Likelihood Model](#qlm) (35 points)\n",
    "- [Section 3.4: BM25](#bm25) (20 points)\n",
    "\n",
    "*All search functions should be able to handle multiple words queries.*\n",
    "\n",
    "**Scoring policy:**\n",
    "Your implementations in this section are scored based on the expected performance of your ranking functions.\n",
    "You will get a full mark if your implementation meets the expected performance (measured by some evaluation metric).\n",
    "Otherwise, you may get partial credit.\n",
    "For example, if your *Bag of words* ranking function has 60% of expected performance, you will get 6 out of 10."
   ]
  },
  {
   "cell_type": "markdown",
   "metadata": {
    "deletable": false,
    "editable": false,
    "nbgrader": {
     "cell_type": "markdown",
     "checksum": "6c74e5061917358300c6e8085ec07864",
     "grade": false,
     "grade_id": "cell-3daf70a60e393adf",
     "locked": true,
     "schema_version": 3,
     "solution": false,
     "task": false
    }
   },
   "source": [
    "--- \n",
    "\n",
    "### Section 3.1: Bag of Words (10 points)<a class=\"anchor\" id=\"bow\"></a>\n",
    "\n",
    "Probably the simplest IR model is the Bag of Words (BOW) model.\n",
    "Implement a function that scores and ranks all the documents against a query using this model.   \n",
    "\n",
    "- For consistency, you should use the count of the token and **not** the binary indicator.\n",
    "- Use `float` type for the scores (even though the scores are integers in this case).\n",
    "- No normalization of the scores is necessary, as the ordering is what we are interested in.\n",
    "- If two documents have the same score, they can have any ordering: you are not required to disambiguate.\n"
   ]
  },
  {
   "cell_type": "code",
   "execution_count": 23,
   "metadata": {
    "deletable": false,
    "nbgrader": {
     "cell_type": "code",
     "checksum": "fee4640e22bfc4f05eb958a675ef40e7",
     "grade": false,
     "grade_id": "cell-de9cf0459c4b9324",
     "locked": false,
     "schema_version": 3,
     "solution": true,
     "task": false
    }
   },
   "outputs": [],
   "source": [
    "# TODO: Implement this! (10 points)\n",
    "def bow_search(query, index_set):\n",
    "    \"\"\"\n",
    "        Perform a search over all documents with the given query. \n",
    "        Note: You have to use the `get_index` function created in the previous cells\n",
    "        Input: \n",
    "            query - a (unprocessed) query\n",
    "            index_set - the index to use\n",
    "        Output: a list of (document_id, score), sorted in descending relevance to the given query. \n",
    "    \"\"\"\n",
    "    index = get_index(index_set)\n",
    "    processed_query = preprocess_query(query, index_set)\n",
    "    # YOUR CODE HERE\n",
    "    \n",
    "    counter = Counter()\n",
    "    for word in processed_query:\n",
    "        for ind, count in index[word]:\n",
    "            counter[ind] += float(count)\n",
    "    return counter.most_common(5)"
   ]
  },
  {
   "cell_type": "code",
   "execution_count": 24,
   "metadata": {
    "deletable": false,
    "editable": false,
    "nbgrader": {
     "cell_type": "code",
     "checksum": "613524fbbf02b1d122c6611a71fbf11b",
     "grade": true,
     "grade_id": "cell-9f6aceae6dd9125f",
     "locked": true,
     "points": 2,
     "schema_version": 3,
     "solution": false,
     "task": false
    }
   },
   "outputs": [],
   "source": [
    "#### Function check\n",
    "\n",
    "test_bow = bow_search(\"how to implement bag of words search\", index_set=1)[:5]\n",
    "assert isinstance(test_bow, list)\n",
    "assert len(test_bow[0]) == 2\n",
    "assert isinstance(test_bow[0][0], str)\n",
    "assert isinstance(test_bow[0][1], float)\n",
    "\n",
    "#### "
   ]
  },
  {
   "cell_type": "code",
   "execution_count": 25,
   "metadata": {
    "deletable": false,
    "editable": false,
    "nbgrader": {
     "cell_type": "code",
     "checksum": "9af20897659edb62fe77598483590500",
     "grade": true,
     "grade_id": "cell-4eed3abf233d9b58",
     "locked": true,
     "points": 2,
     "schema_version": 3,
     "solution": false,
     "task": false
    }
   },
   "outputs": [
    {
     "name": "stdout",
     "output_type": "stream",
     "text": [
      "BOW Results:\n",
      "Rank 0(1.3e+01): On Computing The Fast Fourier Transform\\nCooley an...\n",
      "Rank 1(1.2e+01): Variable Length Tree Structures Having Minimum Ave...\n",
      "Rank 2(1.1e+01): A Modular Computer Sharing System\\nAn alternative ...\n",
      "Rank 3(1e+01): PEEKABIT, Computer Offspring of Punched\\nCard PEEK...\n",
      "Rank 4(9.0): Computer Simulation-Discussion of the\\nTechnique a...\n"
     ]
    }
   ],
   "source": [
    "\n",
    "docs_by_id = dict(docs)\n",
    "def print_results(docs, len_limit=50):    \n",
    "    for i, (doc_id, score) in enumerate(docs):\n",
    "        doc_content = docs_by_id[doc_id].strip().replace(\"\\n\", \"\\\\n\")[:len_limit] + \"...\"\n",
    "        print(f\"Rank {i}({score:.2}): {doc_content}\")\n",
    "\n",
    "test_bow_2 = bow_search(\"computer search word\", index_set=2)[:5]\n",
    "print(f\"BOW Results:\")\n",
    "print_results(test_bow_2)\n"
   ]
  },
  {
   "cell_type": "code",
   "execution_count": 26,
   "metadata": {
    "deletable": false,
    "editable": false,
    "nbgrader": {
     "cell_type": "code",
     "checksum": "3c9c8b16c8e7d1032f101e9da8a6e845",
     "grade": true,
     "grade_id": "cell-4d65a2d7090c466c",
     "locked": true,
     "points": 3,
     "schema_version": 3,
     "solution": false,
     "task": false
    }
   },
   "outputs": [
    {
     "name": "stdout",
     "output_type": "stream",
     "text": [
      "BOW Results:\n",
      "Rank 0(9.0): CURRICULUM 68 -- Recommendations for Academic\\nPro...\n",
      "Rank 1(9.0): Variable Length Tree Structures Having Minimum Ave...\n",
      "Rank 2(7.0): Computer Formulation of the Equations of Motion Us...\n",
      "Rank 3(7.0): The Effects of Multiplexing on a Computer-Communic...\n",
      "Rank 4(6.0): Optimizing Bit-time Computer Simulation\\nA major c...\n"
     ]
    }
   ],
   "source": [
    "\n",
    "test_bow_1 = bow_search(\"computer search word\", index_set=1)[:5]\n",
    "print(f\"BOW Results:\")\n",
    "print_results(test_bow_1)\n"
   ]
  },
  {
   "cell_type": "code",
   "execution_count": 27,
   "metadata": {
    "deletable": false,
    "editable": false,
    "nbgrader": {
     "cell_type": "code",
     "checksum": "b7e593847aa4202ae45ec061fb18ad73",
     "grade": true,
     "grade_id": "cell-dedf36ab5853ce20",
     "locked": true,
     "points": 3,
     "schema_version": 3,
     "solution": false,
     "task": false
    }
   },
   "outputs": [
    {
     "name": "stdout",
     "output_type": "stream",
     "text": [
      "top-5 docs for index1: ('1771', '1936', '1543', '2535', '678')\n",
      "top-5 docs for index2: ('1525', '1936', '1844', '1700', '1366')\n"
     ]
    }
   ],
   "source": [
    "print('top-5 docs for index1:', list(zip(*test_bow_1[:5]))[0])\n",
    "print('top-5 docs for index2:', list(zip(*test_bow_2[:5]))[0])\n"
   ]
  },
  {
   "cell_type": "markdown",
   "metadata": {
    "deletable": false,
    "editable": false,
    "nbgrader": {
     "cell_type": "markdown",
     "checksum": "b04352ee0716dfdf094b8cdb6f32e984",
     "grade": false,
     "grade_id": "cell-a5c09c79ac1f2871",
     "locked": true,
     "schema_version": 3,
     "solution": false,
     "task": false
    }
   },
   "source": [
    "\n",
    "---\n",
    "\n",
    "### Section 3.2: TF-IDF (15 points) <a class=\"anchor\" id=\"tfidf\"></a>\n",
    "\n",
    "Before we implement the tf-idf scoring functions, let's first write a function to compute the document frequencies of all words.  \n",
    "\n",
    "#### 3.2.1 Document frequency (5 points)\n",
    "Compute the document frequencies of all tokens in the collection. \n",
    "Your code should return a dictionary with tokens as its keys and the number of documents containing the token as values.\n",
    "For consistency, the values should have `int` type."
   ]
  },
  {
   "cell_type": "code",
   "execution_count": 28,
   "metadata": {
    "deletable": false,
    "nbgrader": {
     "cell_type": "code",
     "checksum": "5c53263cf4c0b0ffcaae08b91fc364cc",
     "grade": false,
     "grade_id": "cell-9a2369f32e864b8a",
     "locked": false,
     "schema_version": 3,
     "solution": true,
     "task": false
    }
   },
   "outputs": [],
   "source": [
    "# TODO: Implement this! (5 points)\n",
    "def compute_df(documents):\n",
    "    \"\"\"\n",
    "        Compute the document frequency of all terms in the vocabulary\n",
    "        Input: A list of documents\n",
    "        Output: A dictionary with {token: document frequency (int)}\n",
    "    \"\"\"\n",
    "    \n",
    "    # YOUR CODE HERE\n",
    "    doc_repr = []\n",
    "    for (doc_id, document) in enumerate(documents):\n",
    "        doc_repr.append((doc_id, document))\n",
    "    index = build_tf_index(doc_repr)\n",
    "    df = defaultdict(lambda:1)\n",
    "    for tok in index.keys():\n",
    "        items = index[tok]\n",
    "        df[tok] = len(items)\n",
    "    return df"
   ]
  },
  {
   "cell_type": "code",
   "execution_count": 29,
   "metadata": {
    "deletable": false,
    "editable": false,
    "nbgrader": {
     "cell_type": "code",
     "checksum": "154985511d7925c5793a1f97dea81880",
     "grade": false,
     "grade_id": "cell-4c3bddd0b73ac90e",
     "locked": true,
     "schema_version": 3,
     "solution": false,
     "task": false
    }
   },
   "outputs": [],
   "source": [
    "#### Compute df based on the two configs\n",
    "\n",
    "# get the document frequencies of each document\n",
    "df_1 = compute_df([d[1] for d in doc_repr_1])\n",
    "df_2 = compute_df([d[1] for d in doc_repr_2])\n",
    "\n",
    "def get_df(index_set):\n",
    "    assert index_set in {1, 2}\n",
    "    return {\n",
    "        1: df_1,\n",
    "        2: df_2\n",
    "    }[index_set]\n",
    "####"
   ]
  },
  {
   "cell_type": "code",
   "execution_count": 30,
   "metadata": {
    "deletable": false,
    "editable": false,
    "nbgrader": {
     "cell_type": "code",
     "checksum": "110cc180068cf3f77c682ee3de2a117c",
     "grade": true,
     "grade_id": "cell-79e8a6db1e5fc46f",
     "locked": true,
     "points": 5,
     "schema_version": 3,
     "solution": false,
     "task": false
    }
   },
   "outputs": [
    {
     "name": "stdout",
     "output_type": "stream",
     "text": [
      "597\n",
      "11\n"
     ]
    }
   ],
   "source": [
    "#### Function check\n",
    "\n",
    "print(df_1['computer'])\n",
    "print(df_2['computer'])\n",
    "####"
   ]
  },
  {
   "cell_type": "markdown",
   "metadata": {
    "deletable": false,
    "editable": false,
    "nbgrader": {
     "cell_type": "markdown",
     "checksum": "d0d577668fa51b80aeab6e67209ae73b",
     "grade": false,
     "grade_id": "cell-52f6acc487e1b96d",
     "locked": true,
     "schema_version": 3,
     "solution": false,
     "task": false
    }
   },
   "source": [
    "---\n",
    "#### 3.2.2 TF-IDF search (10 points)\n",
    "Next, implement a function that computes a tf-idf score, given a query.\n",
    "Use the following formulas for TF and IDF:\n",
    "\n",
    "$$ TF=\\log (1 + f_{d,t}) $$\n",
    "\n",
    "$$ IDF=\\log (\\frac{N}{n_t})$$\n",
    "\n",
    "where $f_{d,t}$ is the frequency of token $t$ in document $d$, $N$ is the number of total documents and $n_t$ is the number of documents containing token $t$.\n",
    "\n",
    "**Note:** your implementation will be auto-graded assuming you have used the above formulas.\n"
   ]
  },
  {
   "cell_type": "code",
   "execution_count": 31,
   "metadata": {
    "deletable": false,
    "nbgrader": {
     "cell_type": "code",
     "checksum": "3534c44b4a3419ca1db98eebe7115dc1",
     "grade": false,
     "grade_id": "cell-2fb5ba34b2994cd9",
     "locked": false,
     "schema_version": 3,
     "solution": true,
     "task": false
    }
   },
   "outputs": [],
   "source": [
    "# TODO: Implement this! (10 points)\n",
    "def tfidf_search(query, index_set):\n",
    "    \"\"\"\n",
    "        Perform a search over all documents with the given query using tf-idf. \n",
    "        Note #1: You have to use the `get_index` (and the `get_df`) function created in the previous cells\n",
    "        Input: \n",
    "            query - a (unprocessed) query\n",
    "            index_set - the index to use\n",
    "        Output: a list of (document_id, score), sorted in descending relevance to the given query \n",
    "    \"\"\"\n",
    "    index = get_index(index_set)\n",
    "    df = get_df(index_set)\n",
    "    processed_query = preprocess_query(query, index_set)\n",
    "    N = len(docs)\n",
    "    # YOUR CODE HERE\n",
    "    \n",
    "    score = Counter()\n",
    "    for word in processed_query:\n",
    "        if df[word]:\n",
    "            idf = np.log(N/df[word])\n",
    "        for ind, count in index[word]:\n",
    "            tf = np.log(1 + float(count))\n",
    "            score[ind] += tf*idf\n",
    "    return score.most_common()"
   ]
  },
  {
   "cell_type": "code",
   "execution_count": 32,
   "metadata": {
    "deletable": false,
    "editable": false,
    "nbgrader": {
     "cell_type": "code",
     "checksum": "7b66a514663d898694b09a23a597312b",
     "grade": true,
     "grade_id": "cell-bc68aeeacf42beb3",
     "locked": true,
     "points": 2,
     "schema_version": 3,
     "solution": false,
     "task": false
    }
   },
   "outputs": [],
   "source": [
    "\n",
    "#### Function check\n",
    "test_tfidf = tfidf_search(\"how to implement tf idf search\", index_set=1)[:5]\n",
    "assert isinstance(test_tfidf, list)\n",
    "assert len(test_tfidf[0]) == 2\n",
    "assert isinstance(test_tfidf[0][0], str)\n",
    "assert isinstance(test_tfidf[0][1], float)\n",
    "\n",
    "####"
   ]
  },
  {
   "cell_type": "code",
   "execution_count": 33,
   "metadata": {
    "deletable": false,
    "editable": false,
    "nbgrader": {
     "cell_type": "code",
     "checksum": "98fb1326cf4bf7983ae237ca8a9105f9",
     "grade": true,
     "grade_id": "cell-c7702fa8179fadb9",
     "locked": true,
     "points": 2,
     "schema_version": 3,
     "solution": false,
     "task": false
    }
   },
   "outputs": [
    {
     "name": "stdout",
     "output_type": "stream",
     "text": [
      "TFIDF Results:\n",
      "Rank 0(1.3e+01): PEEKABIT, Computer Offspring of Punched\\nCard PEEK...\n",
      "Rank 1(9.8): Variable Length Tree Structures Having Minimum Ave...\n",
      "Rank 2(8.2): A Stochastic Approach to the Grammatical Coding of...\n",
      "Rank 3(8.1): Full Table Quadratic Searching for Scatter Storage...\n",
      "Rank 4(7.6): Use of Tree Structures for Processing Files\\nIn da...\n"
     ]
    }
   ],
   "source": [
    "\n",
    "test_tfidf_2 = tfidf_search(\"computer word search\", index_set=2)[:5]\n",
    "print(f\"TFIDF Results:\")\n",
    "print_results(test_tfidf_2)\n"
   ]
  },
  {
   "cell_type": "code",
   "execution_count": 34,
   "metadata": {
    "deletable": false,
    "editable": false,
    "nbgrader": {
     "cell_type": "code",
     "checksum": "733b5b67be5e53989f5b763ce5e52ee9",
     "grade": true,
     "grade_id": "cell-3284f50ac29abbaa",
     "locked": true,
     "points": 3,
     "schema_version": 3,
     "solution": false,
     "task": false
    }
   },
   "outputs": [
    {
     "name": "stdout",
     "output_type": "stream",
     "text": [
      "TFIDF Results:\n",
      "Rank 0(9.4): Variable Length Tree Structures Having Minimum Ave...\n",
      "Rank 1(7.4): On the Feasibility of Voice Input to\\nan On-line C...\n",
      "Rank 2(7.3): Median Split Trees: A Fast Lookup Technique for Fr...\n",
      "Rank 3(7.0): Execution Time Requirements for Encipherment Progr...\n",
      "Rank 4(7.0): Storage and Search Properties of a Tree-Organized ...\n"
     ]
    }
   ],
   "source": [
    "\n",
    "test_tfidf_1 = tfidf_search(\"computer word search\", index_set=1)[:5]\n",
    "print(f\"TFIDF Results:\")\n",
    "print_results(test_tfidf_1)\n"
   ]
  },
  {
   "cell_type": "code",
   "execution_count": 35,
   "metadata": {
    "deletable": false,
    "editable": false,
    "nbgrader": {
     "cell_type": "code",
     "checksum": "e0edb37a5ae807a2de85d578c87ccb78",
     "grade": true,
     "grade_id": "cell-d908c80a3155354b",
     "locked": true,
     "points": 3,
     "schema_version": 3,
     "solution": false,
     "task": false
    }
   },
   "outputs": [
    {
     "name": "stdout",
     "output_type": "stream",
     "text": [
      "top-5 docs for index1 with BOW search: ('1771', '1936', '1543', '2535', '678')\n",
      "top-5 docs for index2 with BOW search: ('1525', '1936', '1844', '1700', '1366')\n",
      "top-5 docs for index1 with TF-IDF search: ('1936', '2054', '3041', '2620', '944')\n",
      "top-5 docs for index2 with TF-IDF search: ('1700', '1936', '1235', '2018', '849')\n"
     ]
    }
   ],
   "source": [
    "\n",
    "print('top-5 docs for index1 with BOW search:', list(zip(*test_bow_1[:5]))[0])\n",
    "print('top-5 docs for index2 with BOW search:', list(zip(*test_bow_2[:5]))[0])\n",
    "print('top-5 docs for index1 with TF-IDF search:', list(zip(*test_tfidf_1[:5]))[0])\n",
    "print('top-5 docs for index2 with TF-IDF search:', list(zip(*test_tfidf_2[:5]))[0])\n",
    "\n"
   ]
  },
  {
   "cell_type": "markdown",
   "metadata": {
    "deletable": false,
    "editable": false,
    "nbgrader": {
     "cell_type": "markdown",
     "checksum": "cdffc83f0eaea937cf64a212e7e9af8d",
     "grade": false,
     "grade_id": "cell-f5d923459ba21733",
     "locked": true,
     "schema_version": 3,
     "solution": false,
     "task": false
    }
   },
   "source": [
    "--- \n",
    "\n",
    "### Section 3.3: Query Likelihood Model (35 points) <a class=\"anchor\" id=\"qlm\"></a>\n",
    "\n",
    "In this section, you will implement a simple query likelihood model. \n",
    "\n",
    "\n",
    "#### 3.3.1 Naive QL (15 points)\n",
    "\n",
    "First, let us implement a naive version of a QL model, assuming a multinomial unigram language model (with a uniform prior over the documents). \n",
    "\n"
   ]
  },
  {
   "cell_type": "code",
   "execution_count": 36,
   "metadata": {
    "deletable": false,
    "editable": false,
    "nbgrader": {
     "cell_type": "code",
     "checksum": "b7ae2b7d818b428b4638c1c9206d2aca",
     "grade": false,
     "grade_id": "cell-98505778f7b68e7f",
     "locked": true,
     "schema_version": 3,
     "solution": false,
     "task": false
    }
   },
   "outputs": [],
   "source": [
    "#### Document length for normalization\n",
    "\n",
    "def doc_lengths(documents):\n",
    "    doc_lengths = {doc_id:len(doc) for (doc_id, doc) in documents}\n",
    "    return doc_lengths\n",
    "\n",
    "doc_lengths_1 = doc_lengths(doc_repr_1)\n",
    "doc_lengths_2 = doc_lengths(doc_repr_2)\n",
    "\n",
    "def get_doc_lengths(index_set):\n",
    "    assert index_set in {1, 2}\n",
    "    return {\n",
    "        1: doc_lengths_1,\n",
    "        2: doc_lengths_2\n",
    "    }[index_set]\n",
    "####"
   ]
  },
  {
   "cell_type": "code",
   "execution_count": 37,
   "metadata": {
    "deletable": false,
    "nbgrader": {
     "cell_type": "code",
     "checksum": "cedd08303a914243fefdb6b876977ca1",
     "grade": false,
     "grade_id": "cell-8bcf2b804d636c2e",
     "locked": false,
     "schema_version": 3,
     "solution": true,
     "task": false
    }
   },
   "outputs": [],
   "source": [
    "# TODO: Implement this! (15 points)\n",
    "def naive_ql_search(query, index_set):\n",
    "    \"\"\"\n",
    "        Perform a search over all documents with the given query using a naive QL model. \n",
    "        Note #1: You have to use the `get_index` (and get_doc_lengths) function created in the previous cells\n",
    "        Input: \n",
    "            query - a (unprocessed) query\n",
    "            index_set - the index to use\n",
    "        Output: a list of (document_id, score), sorted in descending relevance to the given query \n",
    "    \"\"\"\n",
    "    index = get_index(index_set)\n",
    "    doc_lengths = get_doc_lengths(index_set)\n",
    "    processed_query = preprocess_query(query, index_set)\n",
    "    # YOUR CODE HERE\n",
    "\n",
    "    scores = []\n",
    "\n",
    "    for word in processed_query:\n",
    "        for key, value in index.items():\n",
    "            if word == key:\n",
    "                tot = [(doc_id, token_count / doc_lengths[doc_id]) for doc_id, token_count in value]\n",
    "                scores.extend(tot)\n",
    "\n",
    "                doc = [doc_id for doc_id, token_count in value]\n",
    "\n",
    "                for i in range(len(docs)):\n",
    "                    i += 1 \n",
    "                    if i not in doc:\n",
    "                        scores.append((i, 0))\n",
    "                        \n",
    "    d_query = defaultdict(lambda:[])\n",
    "\n",
    "    for (key, value) in scores:\n",
    "        if key in d_query:\n",
    "            d_query[key] *= value\n",
    "        else:\n",
    "            d_query[key] = value\n",
    "\n",
    "    scores = [(key, float(value)) for key, value in d_query.items()]\n",
    "    scores.sort(key = lambda x:x[1], reverse = True)\n",
    "\n",
    "    return scores\n",
    "    "
   ]
  },
  {
   "cell_type": "code",
   "execution_count": 38,
   "metadata": {
    "deletable": false,
    "editable": false,
    "nbgrader": {
     "cell_type": "code",
     "checksum": "b550d15bdad28354c336020a00c33d56",
     "grade": true,
     "grade_id": "cell-5a83ac12ecde8578",
     "locked": true,
     "points": 3,
     "schema_version": 3,
     "solution": false,
     "task": false
    }
   },
   "outputs": [
    {
     "name": "stdout",
     "output_type": "stream",
     "text": [
      "Naive QL Results:\n",
      "Rank 0(0.2): A Report Writer For COBOL...\n",
      "Rank 1(0.2): A CRT Report Generating System...\n",
      "Rank 2(0.17): Preliminary Report-International Algebraic Languag...\n",
      "Rank 3(0.17): Supplement to the ALGOL 60 Report...\n",
      "Rank 4(0.14): ALGOL Sub-Committee Report - Extensions...\n"
     ]
    }
   ],
   "source": [
    "#### Function check\n",
    "test_naiveql = naive_ql_search(\"report\", index_set=1)[:5]\n",
    "print(f\"Naive QL Results:\")\n",
    "print_results(test_naiveql)\n",
    "####"
   ]
  },
  {
   "cell_type": "code",
   "execution_count": 39,
   "metadata": {
    "deletable": false,
    "editable": false,
    "nbgrader": {
     "cell_type": "code",
     "checksum": "799df1d81c63fe90edbb6c218fc707fb",
     "grade": true,
     "grade_id": "cell-80f4bf2137f997bb",
     "locked": true,
     "points": 2,
     "schema_version": 3,
     "solution": false,
     "task": false
    }
   },
   "outputs": [],
   "source": [
    "#### Please do not change this. This cell is used for grading."
   ]
  },
  {
   "cell_type": "code",
   "execution_count": 40,
   "metadata": {
    "deletable": false,
    "editable": false,
    "nbgrader": {
     "cell_type": "code",
     "checksum": "875a4a517d27e20625d41783cebec118",
     "grade": true,
     "grade_id": "cell-5ce2993458a8ce51",
     "locked": true,
     "points": 3,
     "schema_version": 3,
     "solution": false,
     "task": false
    }
   },
   "outputs": [],
   "source": [
    "#### Please do not change this. This cell is used for grading."
   ]
  },
  {
   "cell_type": "code",
   "execution_count": 41,
   "metadata": {
    "deletable": false,
    "editable": false,
    "nbgrader": {
     "cell_type": "code",
     "checksum": "d5c4e1c3852e71a46f32825b122f1b71",
     "grade": true,
     "grade_id": "cell-7753bdb54e292f3d",
     "locked": true,
     "points": 3,
     "schema_version": 3,
     "solution": false,
     "task": false
    }
   },
   "outputs": [],
   "source": [
    "#### Please do not change this. This cell is used for grading."
   ]
  },
  {
   "cell_type": "code",
   "execution_count": 42,
   "metadata": {
    "deletable": false,
    "editable": false,
    "nbgrader": {
     "cell_type": "code",
     "checksum": "c4d4332d4356e89ce0240f6b80e1899a",
     "grade": true,
     "grade_id": "cell-54e476e2f96e64bb",
     "locked": true,
     "points": 4,
     "schema_version": 3,
     "solution": false,
     "task": false
    }
   },
   "outputs": [],
   "source": [
    "#### Please do not change this. This cell is used for grading."
   ]
  },
  {
   "cell_type": "markdown",
   "metadata": {
    "deletable": false,
    "editable": false,
    "nbgrader": {
     "cell_type": "markdown",
     "checksum": "8d739dc91a22bd48897f603885f95a74",
     "grade": false,
     "grade_id": "cell-5414dfd69dab8b94",
     "locked": true,
     "schema_version": 3,
     "solution": false,
     "task": false
    }
   },
   "source": [
    "---\n",
    "#### 3.3.2 QL (20 points)\n",
    "Now, let's implement a QL model that handles the issues with the naive version. In particular, you will implement a QL model with Jelinek-Mercer Smoothing. That means an interpolated score is computed per word - one term is the same as the previous naive version, and the second term comes from a unigram language model. In addition, you should accumulate the scores by summing the **log** (smoothed) probability which leads to better numerical stability."
   ]
  },
  {
   "cell_type": "code",
   "execution_count": 43,
   "metadata": {
    "deletable": false,
    "nbgrader": {
     "cell_type": "code",
     "checksum": "b8c6abf937ad333e628f1db891f2e29e",
     "grade": false,
     "grade_id": "cell-bb1f506409771257",
     "locked": false,
     "schema_version": 3,
     "solution": true,
     "task": false
    }
   },
   "outputs": [],
   "source": [
    "# TODO: Implement this! (20 points)\n",
    "\n",
    "# YOUR CODE HERE\n",
    "#raise NotImplementedError()\n",
    "\n",
    "def ql_search(query, index_set):\n",
    "    \"\"\"\n",
    "        Perform a search over all documents with the given query using a QL model \n",
    "        with Jelinek-Mercer Smoothing (set smoothing=0.1). \n",
    "        \n",
    "        \n",
    "        Note #1: You have to use the `get_index` (and get_doc_lengths) function created in the previous cells\n",
    "        Note #2: You might have to create some variables beforehand and use them in this function\n",
    "        \n",
    "        \n",
    "        Input: \n",
    "            query - a (unprocessed) query\n",
    "            index_set - the index to use\n",
    "        Output: a list of (document_id, score), sorted in descending relevance to the given query \n",
    "    \"\"\"\n",
    "    index = get_index(index_set)\n",
    "    doc_lengths = get_doc_lengths(index_set)\n",
    "    processed_query = preprocess_query(query, index_set)\n",
    "    \n",
    "    # YOUR CODE HERE\n",
    "    smoothing = 0.1\n",
    "    lengths = sum(doc_lengths.values())\n",
    "    freqs = {i: sum(count for doc_id, count in value) for i, value in index.items()}\n",
    "    scores = []\n",
    "    \n",
    "    for word in processed_query:\n",
    "        for key, value in index.items():\n",
    "            if word == key:\n",
    "                tot = [(doc_id, np.log((1 - smoothing) * (token_count / doc_lengths[doc_id]) + smoothing * (freqs[key] / lengths))) for doc_id, token_count in value]\n",
    "                scores.extend(tot)\n",
    "                \n",
    "                doc = [doc_id for doc_id, token_count in value]\n",
    "                for i in range(len(docs)):\n",
    "                    i += 1\n",
    "                    if i not in doc:\n",
    "                        scores.append((i, np.log(0 + smoothing * (freqs[key] / lengths))))\n",
    "    \n",
    "    d_query = defaultdict(lambda:[])\n",
    "    for (key, value) in scores:\n",
    "        if key in d_query:\n",
    "            d_query[key] += value\n",
    "        else:\n",
    "            d_query[key] = value\n",
    "\n",
    "    scores = [(key, float(value)) for key, value in d_query.items()]\n",
    "    scores.sort(key = lambda x:x[1], reverse = True)\n",
    "    \n",
    "    return scores\n",
    "    "
   ]
  },
  {
   "cell_type": "code",
   "execution_count": 44,
   "metadata": {
    "deletable": false,
    "editable": false,
    "nbgrader": {
     "cell_type": "code",
     "checksum": "0b12a7f3355193a257fd9f5f69a66562",
     "grade": true,
     "grade_id": "cell-850e9d6369bcec32",
     "locked": true,
     "points": 4,
     "schema_version": 3,
     "solution": false,
     "task": false
    }
   },
   "outputs": [
    {
     "name": "stdout",
     "output_type": "stream",
     "text": [
      "Rank 0(-1.7): A Report Writer For COBOL...\n",
      "Rank 1(-1.7): A CRT Report Generating System...\n",
      "Rank 2(-1.9): Preliminary Report-International Algebraic Languag...\n",
      "Rank 3(-1.9): Supplement to the ALGOL 60 Report...\n",
      "Rank 4(-2.1): ALGOL Sub-Committee Report - Extensions...\n",
      "\n",
      "Rank 0(-1.7e+01): A Report Writer For COBOL...\n",
      "Rank 1(-1.7e+01): A CRT Report Generating System...\n",
      "Rank 2(-1.9e+01): Preliminary Report-International Algebraic Languag...\n",
      "Rank 3(-1.9e+01): Supplement to the ALGOL 60 Report...\n",
      "Rank 4(-2.1e+01): ALGOL Sub-Committee Report - Extensions...\n"
     ]
    }
   ],
   "source": [
    "#### Function check\n",
    "test_ql_results = ql_search(\"report\", index_set=1)[:5]\n",
    "print_results(test_ql_results)\n",
    "print()\n",
    "test_ql_results_long = ql_search(\"report \" * 10, index_set=1)[:5]\n",
    "print_results(test_ql_results_long)\n",
    "####"
   ]
  },
  {
   "cell_type": "code",
   "execution_count": 45,
   "metadata": {
    "deletable": false,
    "editable": false,
    "nbgrader": {
     "cell_type": "code",
     "checksum": "e40be645140389c115849856145f5b59",
     "grade": true,
     "grade_id": "cell-958cdcf6fd6899b7",
     "locked": true,
     "points": 3,
     "schema_version": 3,
     "solution": false,
     "task": false
    }
   },
   "outputs": [],
   "source": [
    "#### Please do not change this. This cell is used for grading."
   ]
  },
  {
   "cell_type": "code",
   "execution_count": 46,
   "metadata": {
    "deletable": false,
    "editable": false,
    "nbgrader": {
     "cell_type": "code",
     "checksum": "41d4aff001df17e7963ba79b45810b30",
     "grade": true,
     "grade_id": "cell-384dc23a0c251f6e",
     "locked": true,
     "points": 4,
     "schema_version": 3,
     "solution": false,
     "task": false
    }
   },
   "outputs": [],
   "source": [
    "#### Please do not change this. This cell is used for grading."
   ]
  },
  {
   "cell_type": "code",
   "execution_count": 47,
   "metadata": {
    "deletable": false,
    "editable": false,
    "nbgrader": {
     "cell_type": "code",
     "checksum": "893e8c5a073abc8ebb763d267b91bc02",
     "grade": true,
     "grade_id": "cell-7218966cba5097cc",
     "locked": true,
     "points": 4,
     "schema_version": 3,
     "solution": false,
     "task": false
    }
   },
   "outputs": [],
   "source": [
    "#### Please do not change this. This cell is used for grading."
   ]
  },
  {
   "cell_type": "code",
   "execution_count": 48,
   "metadata": {
    "deletable": false,
    "editable": false,
    "nbgrader": {
     "cell_type": "code",
     "checksum": "f99cb6f8b1f5830aaed8f06712ff846e",
     "grade": true,
     "grade_id": "cell-481ab073259ae53f",
     "locked": true,
     "points": 5,
     "schema_version": 3,
     "solution": false,
     "task": false
    }
   },
   "outputs": [],
   "source": [
    "#### Please do not change this. This cell is used for grading."
   ]
  },
  {
   "cell_type": "markdown",
   "metadata": {
    "deletable": false,
    "editable": false,
    "nbgrader": {
     "cell_type": "markdown",
     "checksum": "c02f14705d679579b1aa9f78f54779d5",
     "grade": false,
     "grade_id": "cell-f44088bfdac1dc90",
     "locked": true,
     "schema_version": 3,
     "solution": false,
     "task": false
    }
   },
   "source": [
    "--- \n",
    "\n",
    "### Section 3.4: BM25 (20 points) <a class=\"anchor\" id=\"bm25\"></a>\n",
    "\n",
    "In this section, we will implement the BM25 scoring function. \n"
   ]
  },
  {
   "cell_type": "code",
   "execution_count": 49,
   "metadata": {
    "deletable": false,
    "nbgrader": {
     "cell_type": "code",
     "checksum": "e57efe06ea92af1c83784a42eb3d86e0",
     "grade": false,
     "grade_id": "cell-15640fc9b5d00a3c",
     "locked": false,
     "schema_version": 3,
     "solution": true,
     "task": false
    }
   },
   "outputs": [],
   "source": [
    "# TODO: Implement this! (20 points)\n",
    "def bm25_search(query, index_set):\n",
    "    \"\"\"\n",
    "        Perform a search over all documents with the given query using BM25. Use k_1 = 1.5 and b = 0.75\n",
    "        Note #1: You have to use the `get_index` (and `get_doc_lengths`) function created in the previous cells\n",
    "        Note #2: You might have to create some variables beforehand and use them in this function\n",
    "        \n",
    "        Input: \n",
    "            query - a (unprocessed) query\n",
    "            index_set - the index to use\n",
    "        Output: a list of (document_id, score), sorted in descending relevance to the given query \n",
    "    \"\"\"\n",
    "    \n",
    "    index = get_index(index_set)\n",
    "    df = get_df(index_set)\n",
    "    doc_lengths = get_doc_lengths(index_set)\n",
    "    processed_query = preprocess_query(query, index_set)\n",
    "    \n",
    "    # YOUR CODE HERE\n",
    "    b = 0.75\n",
    "    k1 = 1.5\n",
    "    \n",
    "    avg_doc_length = np.mean(list(doc_lengths.values()))\n",
    "    documents = len(docs)\n",
    "    idf = {key: np.log(documents / value) for (key, value) in df.items()}\n",
    "\n",
    "    scores  = []\n",
    "    for word in processed_query:\n",
    "        for key, value in index.items():\n",
    "            if word == key:\n",
    "                scores  += [(doc_id, idf[key] * (((k1 + 1)*token_count)/(k1*((1-b)+(b*doc_lengths[doc_id]/avg_doc_length))+token_count))) for doc_id, token_count in value]\n",
    "\n",
    "    d_query = defaultdict(lambda:[])\n",
    "\n",
    "    for key, value in scores:\n",
    "        if key in d_query:\n",
    "            d_query[key] += value\n",
    "        else:\n",
    "            d_query[key] = value\n",
    "\n",
    "    scores  = [(key, float(value)) for key, value in d_query.items()]\n",
    "    scores.sort(key=lambda x:x[1], reverse=True)\n",
    "\n",
    "    return scores       \n",
    "    "
   ]
  },
  {
   "cell_type": "code",
   "execution_count": 50,
   "metadata": {
    "deletable": false,
    "editable": false,
    "nbgrader": {
     "cell_type": "code",
     "checksum": "4be9de5d4e94637960d83725422bea6c",
     "grade": true,
     "grade_id": "cell-d10536bca72c74b1",
     "locked": true,
     "points": 3,
     "schema_version": 3,
     "solution": false,
     "task": false
    }
   },
   "outputs": [
    {
     "name": "stdout",
     "output_type": "stream",
     "text": [
      "Rank 0(6.7): A Report Writer For COBOL...\n",
      "Rank 1(6.7): A CRT Report Generating System...\n",
      "Rank 2(6.6): Preliminary Report-International Algebraic Languag...\n",
      "Rank 3(6.6): Supplement to the ALGOL 60 Report...\n",
      "Rank 4(6.5): ALGOL Sub-Committee Report - Extensions...\n"
     ]
    }
   ],
   "source": [
    "#### Function check\n",
    "test_bm25_results = bm25_search(\"report\", index_set=1)[:5]\n",
    "print_results(test_bm25_results)\n",
    "####"
   ]
  },
  {
   "cell_type": "code",
   "execution_count": 51,
   "metadata": {
    "deletable": false,
    "editable": false,
    "nbgrader": {
     "cell_type": "code",
     "checksum": "31b550d6a46ae4f8ede88788799ac2b9",
     "grade": true,
     "grade_id": "cell-60f6ec5052712d79",
     "locked": true,
     "points": 5,
     "schema_version": 3,
     "solution": false,
     "task": false
    }
   },
   "outputs": [],
   "source": [
    "#### Please do not change this. This cell is used for grading."
   ]
  },
  {
   "cell_type": "code",
   "execution_count": 52,
   "metadata": {
    "deletable": false,
    "editable": false,
    "nbgrader": {
     "cell_type": "code",
     "checksum": "3da2ec16bfe781916e71755d65aa2983",
     "grade": true,
     "grade_id": "cell-5d17524043a5abcc",
     "locked": true,
     "points": 5,
     "schema_version": 3,
     "solution": false,
     "task": false
    }
   },
   "outputs": [],
   "source": [
    "#### Please do not change this. This cell is used for grading."
   ]
  },
  {
   "cell_type": "code",
   "execution_count": 53,
   "metadata": {
    "deletable": false,
    "editable": false,
    "nbgrader": {
     "cell_type": "code",
     "checksum": "e7b563d54fa84c20909c0ae107010541",
     "grade": true,
     "grade_id": "cell-ff8e704eda1184e3",
     "locked": true,
     "points": 3,
     "schema_version": 3,
     "solution": false,
     "task": false
    }
   },
   "outputs": [],
   "source": [
    "#### Please do not change this. This cell is used for grading."
   ]
  },
  {
   "cell_type": "code",
   "execution_count": 54,
   "metadata": {
    "deletable": false,
    "editable": false,
    "nbgrader": {
     "cell_type": "code",
     "checksum": "b013f90974b396630a8831d6f1d7e5f7",
     "grade": true,
     "grade_id": "cell-a52310500a2543cb",
     "locked": true,
     "points": 4,
     "schema_version": 3,
     "solution": false,
     "task": false
    }
   },
   "outputs": [],
   "source": [
    "#### Please do not change this. This cell is used for grading."
   ]
  },
  {
   "cell_type": "markdown",
   "metadata": {
    "deletable": false,
    "editable": false,
    "nbgrader": {
     "cell_type": "markdown",
     "checksum": "8fcf67cb7d5e8b26cb9bf1f0aa42c847",
     "grade": false,
     "grade_id": "cell-8b2b412c81d62f2d",
     "locked": true,
     "schema_version": 3,
     "solution": false,
     "task": false
    }
   },
   "source": [
    "\n",
    "---\n",
    "\n",
    "### 3.5. Test Your Functions\n",
    "\n",
    "The widget below allows you to play with the search functions you've written so far. Use this to test your search functions and ensure that they work as expected."
   ]
  },
  {
   "cell_type": "code",
   "execution_count": 55,
   "metadata": {
    "deletable": false,
    "editable": false,
    "nbgrader": {
     "cell_type": "code",
     "checksum": "dfeb204b390acc0794dbdcac92b0cf2c",
     "grade": false,
     "grade_id": "cell-c9c2bb76354e8d97",
     "locked": true,
     "schema_version": 3,
     "solution": false,
     "task": false
    }
   },
   "outputs": [],
   "source": [
    "#### Highlighter function\n",
    "# class for results\n",
    "ResultRow = namedtuple(\"ResultRow\", [\"doc_id\", \"snippet\", \"score\"])\n",
    "# doc_id -> doc\n",
    "docs_by_id = dict((d[0], d[1]) for d in docs)\n",
    "\n",
    "def highlight_text(document, query, tol=17):\n",
    "    import re\n",
    "    tokens = tokenize(query)\n",
    "    regex = \"|\".join(f\"(\\\\b{t}\\\\b)\" for t in tokens)\n",
    "    regex = re.compile(regex, flags=re.IGNORECASE)\n",
    "    output = \"\"\n",
    "    i = 0\n",
    "    for m in regex.finditer(document):\n",
    "        start_idx = max(0, m.start() - tol)\n",
    "        end_idx = min(len(document), m.end() + tol)\n",
    "        output += \"\".join([\"...\",\n",
    "                        document[start_idx:m.start()],\n",
    "                        \"<strong>\",\n",
    "                        document[m.start():m.end()],\n",
    "                        \"</strong>\",\n",
    "                        document[m.end():end_idx],\n",
    "                        \"...\"])\n",
    "    return output.replace(\"\\n\", \" \")\n",
    "\n",
    "\n",
    "def make_results(query, search_fn, index_set):\n",
    "    results = []\n",
    "    for doc_id, score in search_fn(query, index_set):\n",
    "        highlight = highlight_text(docs_by_id[doc_id], query)\n",
    "        if len(highlight.strip()) == 0:\n",
    "            highlight = docs_by_id[doc_id]\n",
    "        results.append(ResultRow(doc_id, highlight, score))\n",
    "    return results\n",
    "####"
   ]
  },
  {
   "cell_type": "code",
   "execution_count": 56,
   "metadata": {},
   "outputs": [
    {
     "data": {
      "application/vnd.jupyter.widget-view+json": {
       "model_id": "e5fec2a8ecdb4f4e826194d5f09fb3a6",
       "version_major": 2,
       "version_minor": 0
      },
      "text/plain": [
       "Text(value='', description='Search Bar')"
      ]
     },
     "metadata": {},
     "output_type": "display_data"
    }
   ],
   "source": [
    "# TODO: Set this to the function you want to test!\n",
    "# this function should take in a query (string)\n",
    "# and return a sorted list of (doc_id, score) \n",
    "# with the most relevant document in the first position\n",
    "search_fn = bm25_search\n",
    "index_set = 1\n",
    "\n",
    "text = widgets.Text(description=\"Search Bar\", width=200)\n",
    "display(text)\n",
    "\n",
    "def handle_submit(sender):\n",
    "    print(f\"Searching for: '{sender.value}'\")\n",
    "    \n",
    "    results = make_results(sender.value, search_fn, index_set)\n",
    "    \n",
    "    # display only the top 5\n",
    "    results = results[:5]\n",
    "    \n",
    "    body = \"\"\n",
    "    for idx, r in enumerate(results):\n",
    "        body += f\"<li>Document #{r.doc_id}({r.score}): {r.snippet}</li>\"\n",
    "    display(HTML(f\"<ul>{body}</ul>\"))\n",
    "    \n",
    "\n",
    "text.on_submit(handle_submit)"
   ]
  },
  {
   "cell_type": "markdown",
   "metadata": {
    "deletable": false,
    "editable": false,
    "nbgrader": {
     "cell_type": "markdown",
     "checksum": "019b1ff878dc6339dd068e2d48d19904",
     "grade": false,
     "grade_id": "cell-8d46fe8e4f3d8cdb",
     "locked": true,
     "schema_version": 3,
     "solution": false,
     "task": false
    }
   },
   "source": [
    "---\n",
    "\n",
    "## Section 4: Evaluation (40 points) <a class=\"anchor\" id=\"evaluation\"></a>\n",
    "\n",
    "[Back to Part 1](#part1)\n",
    "\n",
    "In order to analyze the effectiveness of retrieval algorithms, we first have to learn how to evaluate such a system. In particular, we will work with offline evaluation metrics. These metrics are computed on a dataset with known relevance judgements.\n",
    "\n",
    "Implement the following evaluation metrics. \n",
    "\n",
    "1. Precision (7 points)\n",
    "2. Recall (7 points)\n",
    "3. Mean Average Precision (13 points)\n",
    "4. Expected Reciprocal Rank (13 points)"
   ]
  },
  {
   "cell_type": "markdown",
   "metadata": {
    "deletable": false,
    "editable": false,
    "nbgrader": {
     "cell_type": "markdown",
     "checksum": "e46f54c7f81d88bbc950b0fae14c4ca5",
     "grade": false,
     "grade_id": "cell-3419fd3bc663d7cc",
     "locked": true,
     "schema_version": 3,
     "solution": false,
     "task": false
    }
   },
   "source": [
    "---\n",
    "### 4.1 Read relevance labels\n",
    "\n",
    "Let's take a look at the `qrels.text` file, which contains the ground truth relevance scores. The relevance labels for CACM are binary - either 0 or 1. \n"
   ]
  },
  {
   "cell_type": "code",
   "execution_count": 57,
   "metadata": {
    "deletable": false,
    "editable": false,
    "nbgrader": {
     "cell_type": "code",
     "checksum": "6c11025f5a222796f2882c73c1634799",
     "grade": false,
     "grade_id": "cell-6b738366059dde9e",
     "locked": true,
     "schema_version": 3,
     "solution": false,
     "task": false
    }
   },
   "outputs": [
    {
     "name": "stdout",
     "output_type": "stream",
     "text": [
      "01 1410  0 0\n",
      "01 1572  0 0\n",
      "01 1605  0 0\n",
      "01 2020  0 0\n",
      "01 2358  0 0\n",
      "02 2434  0 0\n",
      "02 2863  0 0\n",
      "02 3078  0 0\n",
      "03 1134  0 0\n",
      "03 1613  0 0\n"
     ]
    }
   ],
   "source": [
    "!head ./datasets/qrels.text"
   ]
  },
  {
   "cell_type": "markdown",
   "metadata": {
    "deletable": false,
    "editable": false,
    "nbgrader": {
     "cell_type": "markdown",
     "checksum": "7ce95245c1597183320d7254afde5c8e",
     "grade": false,
     "grade_id": "cell-10e16bff2753ffbb",
     "locked": true,
     "schema_version": 3,
     "solution": false,
     "task": false
    }
   },
   "source": [
    "---\n",
    "\n",
    "The first column is the query_id and the second column is the document_id. We can safely ignore the 3rd and 4th columns."
   ]
  },
  {
   "cell_type": "code",
   "execution_count": 58,
   "metadata": {
    "deletable": false,
    "nbgrader": {
     "cell_type": "code",
     "checksum": "000c6d59dce08dba0ba1e8d691dbbc2e",
     "grade": false,
     "grade_id": "cell-ee5253a4ef602fce",
     "locked": false,
     "schema_version": 3,
     "solution": true,
     "task": false
    }
   },
   "outputs": [],
   "source": [
    "# YOUR CODE HERE\n",
    "def read_qrels(root_folder = \"./datasets/\"):\n",
    "    \"\"\"\n",
    "        Reads the qrels.text file. \n",
    "        Output: A dictionary: query_id -> [list of relevant documents]\n",
    "    \"\"\"\n",
    "    # YOUR CODE HERE\n",
    "\n",
    "    docs = {}\n",
    "    f1 = os.path.join(root_folder, \"qrels.text\")\n",
    "\n",
    "    with open(f1, \"r\") as f:\n",
    "        lines = f.readlines()\n",
    "\n",
    "    for i in range(0, len(lines)):\n",
    "        l1 = lines[i]\n",
    "        if l1[0]== '0':\n",
    "            query_id = l1[1:2]\n",
    "        else:\n",
    "            query_id = l1[0:2]\n",
    "\n",
    "        if query_id not in docs:\n",
    "            docs[query_id] = [l1[3:7]]\n",
    "        else:\n",
    "            docs[query_id].append(l1[3:7])\n",
    "    return docs"
   ]
  },
  {
   "cell_type": "code",
   "execution_count": 59,
   "metadata": {
    "deletable": false,
    "editable": false,
    "nbgrader": {
     "cell_type": "code",
     "checksum": "d60caeba85c2a97d2211184a5ae91fd1",
     "grade": false,
     "grade_id": "cell-72215605fbe24f65",
     "locked": true,
     "schema_version": 3,
     "solution": false,
     "task": false
    }
   },
   "outputs": [],
   "source": [
    "#### Function check\n",
    "qrels = read_qrels()\n",
    "\n",
    "assert len(qrels) == 52, \"There should be 52 queries with relevance judgements\"\n",
    "assert sum(len(j) for j in qrels.values()) == 796, \"There should be a total of 796 Relevance Judgements\"\n",
    "\n",
    "assert np.min(np.array([len(j) for j in qrels.values()])) == 1\n",
    "assert np.max(np.array([len(j) for j in qrels.values()])) == 51\n",
    "\n",
    "####"
   ]
  },
  {
   "cell_type": "markdown",
   "metadata": {
    "deletable": false,
    "editable": false,
    "nbgrader": {
     "cell_type": "markdown",
     "checksum": "6c9e7428a52e291a2cdf92a379730d4c",
     "grade": false,
     "grade_id": "cell-176a6fb2939d0420",
     "locked": true,
     "schema_version": 3,
     "solution": false,
     "task": false
    }
   },
   "source": [
    "---\n",
    "**Note:** For a given query `query_id`, you can assume that documents *not* in `qrels[query_id]` are not relevant to `query_id`. \n"
   ]
  },
  {
   "cell_type": "markdown",
   "metadata": {
    "deletable": false,
    "editable": false,
    "nbgrader": {
     "cell_type": "markdown",
     "checksum": "b26a818c7b4f7ad490e00b35ea0edd69",
     "grade": false,
     "grade_id": "cell-bd8341b72cdd89bb",
     "locked": true,
     "schema_version": 3,
     "solution": false,
     "task": false
    }
   },
   "source": [
    "---\n",
    "### 4.2 Precision (7 points)\n",
    "Implement the `precision@k` metric:"
   ]
  },
  {
   "cell_type": "code",
   "execution_count": 60,
   "metadata": {
    "deletable": false,
    "nbgrader": {
     "cell_type": "code",
     "checksum": "43dea1979ebdec24ffcfeff71c670433",
     "grade": false,
     "grade_id": "cell-494bd0cce108ed67",
     "locked": false,
     "schema_version": 3,
     "solution": true,
     "task": false
    }
   },
   "outputs": [],
   "source": [
    "# TODO: Implement this! (7 points)\n",
    "def precision_k(results, relevant_docs, k):\n",
    "    \"\"\"\n",
    "        Compute Precision@K\n",
    "        Input: \n",
    "            results: A sorted list of 2-tuples (document_id, score), \n",
    "                    with the most relevant document in the first position\n",
    "            relevant_docs: A set of relevant documents. \n",
    "            k: the cut-off\n",
    "        Output: Precision@K\n",
    "    \"\"\"\n",
    "    if k > len(results):\n",
    "        k = len(results)\n",
    "    # YOUR CODE HERE\n",
    "    count = 0\n",
    "    for i in range(k):\n",
    "        doc_id = results[i][0]\n",
    "        if doc_id in relevant_docs:\n",
    "            count+=1\n",
    "    return count/k"
   ]
  },
  {
   "cell_type": "code",
   "execution_count": 61,
   "metadata": {
    "deletable": false,
    "editable": false,
    "nbgrader": {
     "cell_type": "code",
     "checksum": "9222e35582b1840ffb60fd02fb0b60c3",
     "grade": true,
     "grade_id": "cell-e7ff0d91c319ca64",
     "locked": true,
     "points": 7,
     "schema_version": 3,
     "solution": false,
     "task": false
    }
   },
   "outputs": [
    {
     "name": "stdout",
     "output_type": "stream",
     "text": [
      "query: What articles exist which deal with TSS (Time Sharing System), an\n",
      "operating system for IBM computers?\n",
      "precision@10 = 0.2\n"
     ]
    }
   ],
   "source": [
    "\n",
    "#### Function check\n",
    "qid = queries[0][0]\n",
    "qtext = queries[0][1]\n",
    "print(f'query:{qtext}')\n",
    "results = bm25_search(qtext, 2)\n",
    "precision = precision_k(results, qrels[qid], 10)\n",
    "print(f'precision@10 = {precision}')\n",
    "####"
   ]
  },
  {
   "cell_type": "markdown",
   "metadata": {
    "deletable": false,
    "editable": false,
    "nbgrader": {
     "cell_type": "markdown",
     "checksum": "8fd3b3998197c7097a40348500affb68",
     "grade": false,
     "grade_id": "cell-afd95f865bc7191e",
     "locked": true,
     "schema_version": 3,
     "solution": false,
     "task": false
    }
   },
   "source": [
    "---\n",
    "### 4.3 Recall (7 points)\n",
    "Implement the `recall@k` metric:"
   ]
  },
  {
   "cell_type": "code",
   "execution_count": 62,
   "metadata": {
    "deletable": false,
    "nbgrader": {
     "cell_type": "code",
     "checksum": "b2020e5741ae03b3fe35817ed8f4ccaa",
     "grade": false,
     "grade_id": "cell-c323fc8c3f8a7cf8",
     "locked": false,
     "schema_version": 3,
     "solution": true,
     "task": false
    }
   },
   "outputs": [],
   "source": [
    "# TODO: Implement this! (7 points)\n",
    "def recall_k(results, relevant_docs, k):\n",
    "    \"\"\"\n",
    "        Compute Recall@K\n",
    "        Input: \n",
    "            results: A sorted list of 2-tuples (document_id, score), with the most relevant document in the first position\n",
    "            relevant_docs: A set of relevant documents. \n",
    "            k: the cut-off\n",
    "        Output: Recall@K\n",
    "    \"\"\"\n",
    "    # YOUR CODE HERE\n",
    "    count = 0\n",
    "    for i in range(k):\n",
    "        doc_id = results[i][0]\n",
    "        if doc_id in relevant_docs:\n",
    "            count+=1\n",
    "    return count/len(relevant_docs)"
   ]
  },
  {
   "cell_type": "code",
   "execution_count": 63,
   "metadata": {
    "deletable": false,
    "editable": false,
    "nbgrader": {
     "cell_type": "code",
     "checksum": "56b6e0b8522f8b2dffbfb3206b2efa84",
     "grade": true,
     "grade_id": "cell-b25172161aef165c",
     "locked": true,
     "points": 7,
     "schema_version": 3,
     "solution": false,
     "task": false
    }
   },
   "outputs": [
    {
     "name": "stdout",
     "output_type": "stream",
     "text": [
      "query: SETL, Very High Level Languages\n",
      "recall@10 = 0.3157894736842105\n"
     ]
    }
   ],
   "source": [
    "#### Function check\n",
    "qid = queries[10][0]\n",
    "qtext = queries[10][1]\n",
    "print(f'query:{qtext}')\n",
    "results = bm25_search(qtext, 2)\n",
    "recall = recall_k(results, qrels[qid], 10)\n",
    "print(f'recall@10 = {recall}')\n",
    "####"
   ]
  },
  {
   "cell_type": "markdown",
   "metadata": {
    "deletable": false,
    "editable": false,
    "nbgrader": {
     "cell_type": "markdown",
     "checksum": "b3d3c7bd1cd977cd07ef5df7d3fbf159",
     "grade": false,
     "grade_id": "cell-77fd2e7a39a74739",
     "locked": true,
     "schema_version": 3,
     "solution": false,
     "task": false
    }
   },
   "source": [
    "---\n",
    "### 4.4 Mean Average Precision (13 points)\n",
    "Implement the `map` metric:"
   ]
  },
  {
   "cell_type": "code",
   "execution_count": 64,
   "metadata": {
    "deletable": false,
    "nbgrader": {
     "cell_type": "code",
     "checksum": "aae2c62f2ffd76f5b6c004e9519b9f14",
     "grade": false,
     "grade_id": "cell-e50925fa9093a30d",
     "locked": false,
     "schema_version": 3,
     "solution": true,
     "task": false
    }
   },
   "outputs": [],
   "source": [
    "# TODO: Implement this! (12 points)\n",
    "def average_precision(results, relevant_docs):\n",
    "    \"\"\"\n",
    "        Compute Average Precision (for a single query - the results are \n",
    "        averaged across queries to get MAP in the next few cells)\n",
    "        Hint: You can use the recall_k and precision_k functions here!\n",
    "        Input: \n",
    "            results: A sorted list of 2-tuples (document_id, score), with the most \n",
    "                    relevant document in the first position\n",
    "            relevant_docs: A set of relevant documents. \n",
    "        Output: Average Precision\n",
    "    \"\"\"\n",
    "    # YOUR CODE HERE\n",
    "    precisions = []\n",
    "    for k in range(len(results)):\n",
    "        if results[k][0] in relevant_docs:\n",
    "            precisions.append(precision_k(results, relevant_docs, k+1))\n",
    "    return np.mean(precisions)\n"
   ]
  },
  {
   "cell_type": "code",
   "execution_count": 65,
   "metadata": {
    "deletable": false,
    "editable": false,
    "nbgrader": {
     "cell_type": "code",
     "checksum": "3b00e147c2fa146fa59f179b7c9cab75",
     "grade": true,
     "grade_id": "cell-8a1f7ec98571e58b",
     "locked": true,
     "points": 13,
     "schema_version": 3,
     "solution": false,
     "task": false
    }
   },
   "outputs": [
    {
     "name": "stdout",
     "output_type": "stream",
     "text": [
      "query: computational complexity, intractability, class-complete reductions,\n",
      "algorithms and efficiency\n",
      "MAP = 0.1724040411055945\n"
     ]
    }
   ],
   "source": [
    "#### Function check\n",
    "qid = queries[20][0]\n",
    "qtext = queries[20][1]\n",
    "print(f'query:{qtext}')\n",
    "results = bm25_search(qtext, 2)\n",
    "mean_ap = average_precision(results, qrels[qid])\n",
    "print(f'MAP = {mean_ap}')\n",
    "####"
   ]
  },
  {
   "cell_type": "markdown",
   "metadata": {
    "deletable": false,
    "editable": false,
    "nbgrader": {
     "cell_type": "markdown",
     "checksum": "36f85f45ef52d9467ba9a717d6d99ff2",
     "grade": false,
     "grade_id": "cell-1da18f0fe6f6d7be",
     "locked": true,
     "schema_version": 3,
     "solution": false,
     "task": false
    }
   },
   "source": [
    "---\n",
    "### 4.5 Expected Reciprocal Rank (13 points)\n",
    "Implement the `err` metric:"
   ]
  },
  {
   "cell_type": "code",
   "execution_count": 66,
   "metadata": {
    "deletable": false,
    "nbgrader": {
     "cell_type": "code",
     "checksum": "9ac94db728e23ea1f5dc0d509473c6fb",
     "grade": false,
     "grade_id": "cell-64262889f9b267ea",
     "locked": false,
     "schema_version": 3,
     "solution": true,
     "task": false
    }
   },
   "outputs": [],
   "source": [
    "# TODO: Implement this! (12 points)\n",
    "def err(results, relevant_docs):\n",
    "    \"\"\"\n",
    "        Compute the expected reciprocal rank.\n",
    "        Hint: https://dl.acm.org/doi/pdf/10.1145/1645953.1646033?download=true\n",
    "        Input: \n",
    "            results: A sorted list of 2-tuples (document_id, score), with the most \n",
    "                    relevant document in the first position\n",
    "            relevant_docs: A set of relevant documents. \n",
    "        Output: ERR\n",
    "        \n",
    "    \"\"\"\n",
    "    # YOUR CODE HERE\n",
    "    p = 1\n",
    "    err = 0\n",
    "    for i, (doc_id, score) in enumerate(results):\n",
    "        if doc_id in relevant_docs:\n",
    "            R = 1/2\n",
    "            err += p * (R/(i+1))\n",
    "            p*=(1-R)\n",
    "    return err"
   ]
  },
  {
   "cell_type": "code",
   "execution_count": 67,
   "metadata": {
    "deletable": false,
    "editable": false,
    "nbgrader": {
     "cell_type": "code",
     "checksum": "b7d201de0990b69d5f38704668665d87",
     "grade": true,
     "grade_id": "cell-071e3970ff1afae4",
     "locked": true,
     "points": 13,
     "schema_version": 3,
     "solution": false,
     "task": false
    }
   },
   "outputs": [
    {
     "name": "stdout",
     "output_type": "stream",
     "text": [
      "query: I'd like to find articles describing the use of singular value decomposition\n",
      "in digital image processing.  Applications include finding approximations\n",
      "to the original image and restoring images that are subject to noise. An\n",
      "article on the subject is H.C. Andrews and C.L. Patterson \"Outer product\n",
      "expansions and their uses in digital image processing\", American Mathematical\n",
      "Monthly, vol. 82.\n",
      "ERR = 0.625\n"
     ]
    }
   ],
   "source": [
    "#### Function check\n",
    "qid = queries[30][0]\n",
    "qtext = queries[30][1]\n",
    "print(f'query:{qtext}')\n",
    "results = bm25_search(qtext, 2)\n",
    "ERR = err(results, qrels[qid])\n",
    "print(f'ERR = {ERR}')\n",
    "####"
   ]
  },
  {
   "cell_type": "markdown",
   "metadata": {
    "deletable": false,
    "editable": false,
    "nbgrader": {
     "cell_type": "markdown",
     "checksum": "5bd94caf77cfa5f34675df758d91002d",
     "grade": false,
     "grade_id": "cell-43709a765f353946",
     "locked": true,
     "schema_version": 3,
     "solution": false,
     "task": false
    }
   },
   "source": [
    "---\n",
    "### 4.6 Evaluate Search Functions\n",
    "\n",
    "Let's define some metrics@k using [partial functions](https://docs.python.org/3/library/functools.html#functools.partial)"
   ]
  },
  {
   "cell_type": "code",
   "execution_count": 68,
   "metadata": {
    "deletable": false,
    "editable": false,
    "nbgrader": {
     "cell_type": "code",
     "checksum": "49ccc158e5fb7340ace55e90eeb9d62a",
     "grade": false,
     "grade_id": "cell-dab560e18e340da8",
     "locked": true,
     "schema_version": 3,
     "solution": false,
     "task": false
    }
   },
   "outputs": [],
   "source": [
    "#### metrics@k functions\n",
    "\n",
    "recall_at_1 = partial(recall_k, k=1)\n",
    "recall_at_5 = partial(recall_k, k=5)\n",
    "recall_at_10 = partial(recall_k, k=10)\n",
    "precision_at_1 = partial(precision_k, k=1)\n",
    "precision_at_5 = partial(precision_k, k=5)\n",
    "precision_at_10 = partial(precision_k, k=10)\n",
    "\n",
    "\n",
    "list_of_metrics = [\n",
    "    (\"ERR\", err),\n",
    "    (\"MAP\", average_precision),\n",
    "    (\"Recall@1\",recall_at_1),\n",
    "    (\"Recall@5\", recall_at_5),\n",
    "    (\"Recall@10\", recall_at_10),\n",
    "    (\"Precision@1\", precision_at_1),\n",
    "    (\"Precision@5\", precision_at_5),\n",
    "    (\"Precision@10\", precision_at_10)]\n",
    "####"
   ]
  },
  {
   "cell_type": "markdown",
   "metadata": {
    "deletable": false,
    "editable": false,
    "nbgrader": {
     "cell_type": "markdown",
     "checksum": "fb541002c03221b453b8936290020ea5",
     "grade": false,
     "grade_id": "cell-580a2bdc66d03b47",
     "locked": true,
     "schema_version": 3,
     "solution": false,
     "task": false
    }
   },
   "source": [
    "---\n",
    "\n",
    "The following function evaluates a `search_fn` using the `metric_fn`. Note that the final number is averaged over all the queries"
   ]
  },
  {
   "cell_type": "code",
   "execution_count": 69,
   "metadata": {},
   "outputs": [],
   "source": [
    "#### Evaluate a search function\n",
    "\n",
    "list_of_search_fns = [\n",
    "    (\"BOW\", bow_search),\n",
    "    (\"TF-IDF\", tfidf_search),\n",
    "    (\"NaiveQL\", naive_ql_search),\n",
    "    (\"QL\", ql_search),\n",
    "    (\"BM25\", bm25_search)\n",
    "]\n",
    "\n",
    "def evaluate_search_fn(search_fn, metric_fns, index_set=None):\n",
    "    # build a dict query_id -> query \n",
    "    queries_by_id = dict((q[0], q[1]) for q in queries)\n",
    "    \n",
    "    metrics = {}\n",
    "    for metric, metric_fn in metric_fns:\n",
    "        metrics[metric] = np.zeros(len(qrels), dtype=np.float32)\n",
    "    \n",
    "    for i, (query_id, relevant_docs) in enumerate(qrels.items()):\n",
    "        query = queries_by_id[query_id]\n",
    "        if index_set:\n",
    "            results = search_fn(query, index_set)\n",
    "        else:\n",
    "            results = search_fn(query)\n",
    "        \n",
    "        for metric, metric_fn in metric_fns:\n",
    "            metrics[metric][i] = metric_fn(results, relevant_docs)\n",
    "\n",
    "    \n",
    "    \n",
    "    final_dict = {}\n",
    "    for metric, metric_vals in metrics.items():\n",
    "        final_dict[metric] = metric_vals.mean()\n",
    "    \n",
    "    return final_dict\n",
    "####"
   ]
  },
  {
   "cell_type": "markdown",
   "metadata": {
    "deletable": false,
    "editable": false,
    "nbgrader": {
     "cell_type": "markdown",
     "checksum": "6ea67534f74a8f81e1f504794f641709",
     "grade": false,
     "grade_id": "cell-b156d83a0649cbb4",
     "locked": true,
     "schema_version": 3,
     "solution": false,
     "task": false
    }
   },
   "source": [
    "## Section 5: Analysis (30 points) <a class=\"anchor\" id=\"analysis\"></a>\n",
    "\n",
    "[Back to Part 1](#part1)\n",
    "\n",
    "In the final section of Part1, we will compare the different term-based IR algorithms and different preprocessing configurations and analyze their advantages and disadvantages.\n",
    "\n",
    "### Section 5.1: Plot (20 points)\n",
    "\n",
    "First, gather the results. The results should consider the index set, the different search functions and different metrics. Plot the results in bar charts, per metric, with clear labels.\n",
    "\n",
    "**Rubric:**\n",
    "- Each Metric is plotted: 7 points\n",
    "- Each Method is plotted: 7 points\n",
    "- Clear titles, x label, y labels and legends (if applicable): 6 points"
   ]
  },
  {
   "cell_type": "code",
   "execution_count": 70,
   "metadata": {
    "deletable": false,
    "nbgrader": {
     "cell_type": "code",
     "checksum": "7e2588a925d13ddf588abe8311dc9cfc",
     "grade": true,
     "grade_id": "cell-46fda42a25863a04",
     "locked": false,
     "points": 20,
     "schema_version": 3,
     "solution": true,
     "task": false
    }
   },
   "outputs": [],
   "source": [
    "# YOUR CODE HERE"
   ]
  },
  {
   "cell_type": "markdown",
   "metadata": {
    "deletable": false,
    "editable": false,
    "nbgrader": {
     "cell_type": "markdown",
     "checksum": "e88c444a0acf4e398c65e289169b75f7",
     "grade": false,
     "grade_id": "cell-8aabe3bcf265deb0",
     "locked": true,
     "points": 10,
     "schema_version": 3,
     "solution": false,
     "task": true
    }
   },
   "source": [
    "---\n",
    "### Section 5.2: Summary (10 points)\n",
    "Write a summary of what you observe in the results.\n",
    "Your summary should compare results across the 2 indices and the methods being used. State what you expected to see in the results, followed by either supporting evidence *or* justify why the results did not support your expectations.      "
   ]
  },
  {
   "cell_type": "markdown",
   "metadata": {},
   "source": [
    "Write your answer here!"
   ]
  },
  {
   "cell_type": "markdown",
   "metadata": {
    "deletable": false,
    "editable": false,
    "nbgrader": {
     "cell_type": "markdown",
     "checksum": "b3eb77be74eecca205fc7b47316d1627",
     "grade": false,
     "grade_id": "cell-bb60dd5c092d0f2e",
     "locked": true,
     "schema_version": 3,
     "solution": false,
     "task": false
    }
   },
   "source": [
    "---\n",
    "---\n",
    "# Part 2: Semantic-based Matching (85 points) <a class=\"anchor\" id=\"part2\"></a>\n",
    "\n",
    "[Back to top](#top)\n",
    "\n",
    "We will now experiment with methods that go beyond lexical methods like TF-IDF, which operate at the word level and are high dimensional and sparse, and look at methods which constructs low dimensional dense representations of queries and documents. \n",
    "\n",
    "Since these low-dimensional methods have a higher time complexity, they are typically used in conjunction with methods like BM-25. That is, instead of searching through potentially million documents to find matches using low dimensional vectors, a list of K documents are retrieved using BM25, and then **re-ranked** using the other method. This is the method that is going to be applied in the following exercises. \n",
    "\n",
    "LSI/LDA takes documents that are similar on a semantic level - for instance, if they are describing the same topic - and projects them into nearby vectors, despite having low lexical overlap.\n",
    "\n",
    "In this assignment, you will use `gensim` to create LSI/LDA models and use them in re-ranking. \n",
    "\n",
    "**Note**: The following exercises only uses `doc_repr_2` and `config_2`\n",
    "\n",
    "Table of contents:\n",
    "- [Section 6: LSI](#lsi) (15 points)\n",
    "- [Section 7: LDA](#lda) (10 points)\n",
    "- [Section 8: Word2Vec/Doc2Vec](#2vec) (20 points)\n",
    "- [Section 8: Re-ranking](#reranking) (10 points)\n",
    "- [Section 9: Re-ranking Evaluation](#reranking_eval) (30 points)"
   ]
  },
  {
   "cell_type": "markdown",
   "metadata": {
    "deletable": false,
    "editable": false,
    "nbgrader": {
     "cell_type": "markdown",
     "checksum": "f7c7b2cab82f576ed0acf836ca57171c",
     "grade": false,
     "grade_id": "cell-6b2c81e7a8abd180",
     "locked": true,
     "schema_version": 3,
     "solution": false,
     "task": false
    }
   },
   "source": [
    "---\n",
    "## Section 6: Latent Semantic Indexing (LSI) (15 points) <a class=\"anchor\" id=\"lsi\"></a>\n",
    "\n",
    "[Back to Part 2](#part2)\n",
    "\n",
    "LSI is one of the methods to embed the queries and documents into vectors. It is based on a method similar to Principal Component Analysis (PCA) for obtaining a dense concept matrix out of the sparse term-document matrix.\n",
    "\n",
    "See [wikipedia](https://en.wikipedia.org/wiki/Latent_semantic_analysis), particularly [#Mathematics_of_LSI](https://en.wikipedia.org/wiki/Latent_semantic_analysis#Mathematics_of_LSI)."
   ]
  },
  {
   "cell_type": "code",
   "execution_count": 71,
   "metadata": {
    "deletable": false,
    "editable": false,
    "nbgrader": {
     "cell_type": "code",
     "checksum": "c17ee75319cb517e2bf48ec3d9efc329",
     "grade": false,
     "grade_id": "cell-59913daee47f680d",
     "locked": true,
     "schema_version": 3,
     "solution": false,
     "task": false
    }
   },
   "outputs": [],
   "source": [
    "from gensim.corpora import Dictionary\n",
    "from gensim.models import LdaModel, LsiModel, Word2Vec\n",
    "from gensim.models.doc2vec import Doc2Vec, TaggedDocument\n",
    "from gensim import downloader as g_downloader\n",
    "# gensim uses logging, so set it up \n",
    "import logging\n",
    "logging.basicConfig(format='%(asctime)s : %(levelname)s : %(message)s', level=logging.INFO)"
   ]
  },
  {
   "cell_type": "markdown",
   "metadata": {
    "deletable": false,
    "editable": false,
    "nbgrader": {
     "cell_type": "markdown",
     "checksum": "5fce140c546759b54a9fc060901ae77c",
     "grade": false,
     "grade_id": "cell-3644faff4976598a",
     "locked": true,
     "schema_version": 3,
     "solution": false,
     "task": false
    }
   },
   "source": [
    "---\n",
    "### Section 6.1: Cosine Similarity (5 points)<a class=\"anchor\" id=\"cosing_sim\"></a>\n",
    "Before we begin, let us first define our method of similarity for the LSI model, the cosine similarity:\n",
    "\n",
    "$$\\text{similarity} = \\cos(\\theta) = {\\mathbf{A} \\cdot \\mathbf{B} \\over \\|\\mathbf{A}\\| \\|\\mathbf{B}\\|} = \\frac{ \\sum\\limits_{i=1}^{n}{A_i  B_i} }{ \\sqrt{\\sum\\limits_{i=1}^{n}{A_i^2}}  \\sqrt{\\sum\\limits_{i=1}^{n}{B_i^2}} }$$\n",
    "\n",
    "Since we are using gensim, the types of vectors returned by their classes are of the form defined below (they are not just simple vectors):"
   ]
  },
  {
   "cell_type": "code",
   "execution_count": 72,
   "metadata": {
    "deletable": false,
    "editable": false,
    "nbgrader": {
     "cell_type": "code",
     "checksum": "4e340e1a1d546f430c018fd0760e707a",
     "grade": false,
     "grade_id": "cell-3995a50f951314d5",
     "locked": true,
     "schema_version": 3,
     "solution": false,
     "task": false
    }
   },
   "outputs": [],
   "source": [
    "# 1, 2, 3 are either latent dimensions (LSI), or topics (LDA)\n",
    "# The second value in each tuple is a number (LSI) or a probability (LDA)  \n",
    "example_vec_1 = [(1, 0.2), (2, 0.3), (3, 0.4)]\n",
    "example_vec_2 = [(1, 0.2), (2, 0.7), (3, 0.4)]"
   ]
  },
  {
   "cell_type": "markdown",
   "metadata": {
    "deletable": false,
    "editable": false,
    "nbgrader": {
     "cell_type": "markdown",
     "checksum": "20832fd4f579f49ae204b0efee02edd1",
     "grade": false,
     "grade_id": "cell-5e54d581858dc8f7",
     "locked": true,
     "schema_version": 3,
     "solution": false,
     "task": false
    }
   },
   "source": [
    "---\n",
    "**Implementation (2+3 points):**\n",
    "Now, implement the `dot product` operation on these types of vectors and using this operator, implement the `cosine similarity` (don't forget: two functions to implement!):"
   ]
  },
  {
   "cell_type": "code",
   "execution_count": 73,
   "metadata": {
    "deletable": false,
    "nbgrader": {
     "cell_type": "code",
     "checksum": "06a712ee75fc213a21c5f0067fd8fe28",
     "grade": false,
     "grade_id": "cell-0e8189f5f93de33f",
     "locked": false,
     "schema_version": 3,
     "solution": true,
     "task": false
    }
   },
   "outputs": [],
   "source": [
    "# TODO: Implement this! (2 points)\n",
    "def dot(vec_1,vec_2): \n",
    "    \"\"\"\n",
    "        vec_1 and vec_2 are of the form: [(int, float), (int, float), ...]\n",
    "        Return the dot product of two such vectors, computed only on the floats\n",
    "        You can assume that the lengths of the vectors are the same, and the dimensions are aligned \n",
    "            i.e you won't get: vec_1 = [(1, 0.2)] ; vec_2 = [(2, 0.3)] \n",
    "                                (dimensions are unaligned and lengths are different)\n",
    "    \"\"\"\n",
    "    # YOUR CODE HERE\n",
    "    return sum([x[1]*y[1] for x,y in zip(vec_1,vec_2)])\n",
    "\n",
    "\n",
    "# TODO: Implement this! (3 points)\n",
    "def cosine_sim(vec_1, vec_2):\n",
    "    # YOUR CODE HERE\n",
    "    if vec_1 == [] or vec_2 == []:\n",
    "        cosine = 0\n",
    "    else: \n",
    "        denum = np.sqrt(dot(vec_1, vec_1)) * np.sqrt(dot(vec_2, vec_2)) \n",
    "        if denum==0: \n",
    "            cosine = 0\n",
    "        else:\n",
    "            num = dot(vec_1, vec_2)\n",
    "            cosine = num / denum\n",
    "    return cosine"
   ]
  },
  {
   "cell_type": "code",
   "execution_count": 74,
   "metadata": {
    "deletable": false,
    "editable": false,
    "nbgrader": {
     "cell_type": "code",
     "checksum": "d22a4a7325ba7815a808390388f534a1",
     "grade": true,
     "grade_id": "cell-b25d04ed6b79fd35",
     "locked": true,
     "points": 2,
     "schema_version": 3,
     "solution": false,
     "task": false
    }
   },
   "outputs": [
    {
     "name": "stdout",
     "output_type": "stream",
     "text": [
      "vectors: ([(1, 0.2), (2, 0.3), (3, 0.4)], [(1, 0.2), (2, 0.7), (3, 0.4)])\n",
      "dot product = 0.41000000000000003\n",
      "cosine similarity = 0.9165587597202866\n"
     ]
    }
   ],
   "source": [
    "##### Function check\n",
    "print(f'vectors: {(example_vec_1,example_vec_2)}')\n",
    "print(f'dot product = {dot(example_vec_1,example_vec_2)}')\n",
    "print(f'cosine similarity = {cosine_sim(example_vec_1,example_vec_2)}')\n",
    "##### "
   ]
  },
  {
   "cell_type": "code",
   "execution_count": 75,
   "metadata": {
    "deletable": false,
    "editable": false,
    "nbgrader": {
     "cell_type": "code",
     "checksum": "0744131724ce76b1b3f163b4bae5f700",
     "grade": true,
     "grade_id": "cell-ae3c4466866ace77",
     "locked": true,
     "points": 3,
     "schema_version": 3,
     "solution": false,
     "task": false
    }
   },
   "outputs": [],
   "source": [
    "#### Please do not change this. This cell is used for grading."
   ]
  },
  {
   "cell_type": "markdown",
   "metadata": {
    "deletable": false,
    "editable": false,
    "nbgrader": {
     "cell_type": "markdown",
     "checksum": "9b123f599f9ea372d14676e23f1c6a52",
     "grade": false,
     "grade_id": "cell-4b2534067c44fcdf",
     "locked": true,
     "schema_version": 3,
     "solution": false,
     "task": false
    }
   },
   "source": [
    "---\n",
    "### Section 6.2: LSI Retrieval (10 points)<a class=\"anchor\" id=\"lsi_retrieval\"></a>\n",
    "LSI retrieval is simply ranking the documents based on their cosine similarity to the query vector.\n",
    "First, let's write a parent class for vector-based retrieval models:"
   ]
  },
  {
   "cell_type": "code",
   "execution_count": 76,
   "metadata": {
    "deletable": false,
    "editable": false,
    "nbgrader": {
     "cell_type": "code",
     "checksum": "ecc111d58182570e2252b8ef5d6b02af",
     "grade": false,
     "grade_id": "cell-937936cea18711ee",
     "locked": true,
     "schema_version": 3,
     "solution": false,
     "task": false
    }
   },
   "outputs": [],
   "source": [
    "class VectorSpaceRetrievalModel:\n",
    "    \"\"\"\n",
    "        Parent class for Dense Vector Retrieval models\n",
    "    \"\"\"\n",
    "    def __init__(self, doc_repr):\n",
    "        \"\"\"\n",
    "            document_collection: \n",
    "                [\n",
    "                    (doc_id_1, [token 1, token 2, ...]), \n",
    "                    (doc_id_2, [token 1, token 2, ....]) \n",
    "                    ...\n",
    "                ]\n",
    "\n",
    "        \"\"\"\n",
    "        self.doc_repr = doc_repr\n",
    "        self.documents = [_[1] for _ in self.doc_repr]\n",
    "        \n",
    "        # construct a dictionary\n",
    "        self.dictionary = Dictionary(self.documents)\n",
    "        # Filter out words that occur less than 20 documents, or more than 50% of the documents.\n",
    "        self.dictionary.filter_extremes(no_below=10)\n",
    "        self.corpus = [self.dictionary.doc2bow(doc) for doc in self.documents]\n",
    "    \n",
    "        # Make a index to word dictionary.\n",
    "        temp = self.dictionary[0]  # This is only to \"load\" the dictionary.\n",
    "        self.id2word = self.dictionary.id2token\n",
    "        \n",
    "        # this is set by the train_model function\n",
    "        self.model = None\n",
    "        \n",
    "        \n",
    "    def vectorize_documents(self):\n",
    "        \"\"\"\n",
    "            Returns a doc_id -> vector dictionary\n",
    "        \"\"\"\n",
    "        vectors = {}\n",
    "        for (doc_id, _), cc in zip(self.doc_repr, self.corpus):\n",
    "            vectors[doc_id] = self.model[cc]\n",
    "        return vectors\n",
    "\n",
    "    def vectorize_query(self, query):\n",
    "        # Note the use of config_2 here!\n",
    "        query = process_text(query, **config_2)\n",
    "        query_vector = self.dictionary.doc2bow(query)\n",
    "        return self.model[query_vector]\n",
    "    \n",
    "    def train_model(self):\n",
    "        \"\"\"\n",
    "            Trains a model and sets the 'self.model' variable. \n",
    "            Make sure to use the variables created in the __init__ method.\n",
    "            e.g the variables which may be useful: {corpus, dictionary, id2word}\n",
    "        \"\"\"\n",
    "        raise NotImplementedError()"
   ]
  },
  {
   "cell_type": "markdown",
   "metadata": {
    "deletable": false,
    "editable": false,
    "nbgrader": {
     "cell_type": "markdown",
     "checksum": "ff161eefd9b81b768cd6361bc1a502b0",
     "grade": false,
     "grade_id": "cell-704a18c2f80cd60c",
     "locked": true,
     "schema_version": 3,
     "solution": false,
     "task": false
    }
   },
   "source": [
    "---\n",
    "**Implementation (5 points):**\n",
    "Implement the `train_model` method in the following class (note that this is only one line of code in `gensim`!). Ensure that the parameters defined in the `__init__` method are not changed, and are *used in the `train_method` function*. Normally, the hyperaparameter space will be searched using grid search / other methods - in this assignment we have provided the hyperparameters for you.\n",
    "\n",
    "The last two lines of code train an LSI model on the list of documents which have been stemmed, lower-cased and have stopwords removed. "
   ]
  },
  {
   "cell_type": "code",
   "execution_count": 77,
   "metadata": {
    "deletable": false,
    "nbgrader": {
     "cell_type": "code",
     "checksum": "0e90eedc27c248bc1ae050518a46a46c",
     "grade": false,
     "grade_id": "cell-307682c9089f15d6",
     "locked": false,
     "schema_version": 3,
     "solution": true,
     "task": false
    }
   },
   "outputs": [],
   "source": [
    "# TODO: Implement this! (5 points)\n",
    "class LsiRetrievalModel(VectorSpaceRetrievalModel):\n",
    "    def __init__(self, doc_repr):\n",
    "        super().__init__(doc_repr)\n",
    "        \n",
    "        self.num_topics = 100\n",
    "        self.chunksize = 2000\n",
    "    \n",
    "    def train_model(self):\n",
    "        # YOUR CODE HERE\n",
    "        self.model = LsiModel(corpus = self.corpus, id2word = self.id2word, num_topics = self.num_topics, chunksize = self.chunksize)"
   ]
  },
  {
   "cell_type": "code",
   "execution_count": 78,
   "metadata": {
    "deletable": false,
    "editable": false,
    "nbgrader": {
     "cell_type": "code",
     "checksum": "00399cfe13d60cb4beed1271e36004b0",
     "grade": true,
     "grade_id": "cell-5ce512650c1b2dfb",
     "locked": true,
     "points": 0,
     "schema_version": 3,
     "solution": false,
     "task": false
    }
   },
   "outputs": [
    {
     "name": "stderr",
     "output_type": "stream",
     "text": [
      "2022-02-25 09:05:40,289 : INFO : adding document #0 to Dictionary(0 unique tokens: [])\n",
      "2022-02-25 09:05:40,397 : INFO : built Dictionary(5937 unique tokens: ['-', 'algebra', 'intern', 'languag', 'preliminari']...) from 3204 documents (total 115969 corpus positions)\n",
      "2022-02-25 09:05:40,403 : INFO : discarding 4740 tokens: [('repeat', 8), ('glossari', 7), ('inspect', 8), ('uncol', 2), ('rung', 9), ('secant', 2), ('.', 1603), ('acceler', 6), ('diverg', 3), ('induc', 9)]...\n",
      "2022-02-25 09:05:40,404 : INFO : keeping 1197 tokens which were in no less than 10 and no more than 1602 (=50.0%) documents\n",
      "2022-02-25 09:05:40,406 : INFO : resulting dictionary: Dictionary(1197 unique tokens: ['-', 'algebra', 'intern', 'languag', 'preliminari']...)\n",
      "2022-02-25 09:05:40,465 : INFO : using serial LSI version on this node\n",
      "2022-02-25 09:05:40,465 : INFO : updating model with new documents\n",
      "2022-02-25 09:05:40,466 : INFO : preparing a new chunk of documents\n",
      "2022-02-25 09:05:40,475 : INFO : using 100 extra samples and 2 power iterations\n",
      "2022-02-25 09:05:40,476 : INFO : 1st phase: constructing (1197, 200) action matrix\n",
      "2022-02-25 09:05:40,491 : INFO : orthonormalizing (1197, 200) action matrix\n",
      "2022-02-25 09:05:40,597 : INFO : 2nd phase: running dense svd on (200, 2000) matrix\n",
      "2022-02-25 09:05:40,693 : INFO : computing the final decomposition\n",
      "2022-02-25 09:05:40,694 : INFO : keeping 100 factors (discarding 13.449% of energy spectrum)\n",
      "2022-02-25 09:05:40,697 : INFO : processed documents up to #2000\n",
      "2022-02-25 09:05:40,699 : INFO : topic #0(152.127): 0.741*\",\" + 0.342*\"-\" + 0.211*\"system\" + 0.204*\"program\" + 0.192*\"comput\" + 0.146*\"(\" + 0.127*\"languag\" + 0.108*\")\" + 0.084*\"gener\" + 0.083*\"data\"\n",
      "2022-02-25 09:05:40,699 : INFO : topic #1(60.600): -0.607*\"(\" + -0.434*\")\" + -0.366*\"algorithm\" + -0.300*\"-\" + 0.237*\",\" + 0.213*\"system\" + 0.132*\"comput\" + -0.096*\"[\" + 0.093*\"program\" + -0.084*\"])\"\n",
      "2022-02-25 09:05:40,700 : INFO : topic #2(57.438): -0.744*\"-\" + 0.452*\",\" + -0.263*\"system\" + 0.214*\"(\" + 0.166*\")\" + -0.107*\"time\" + -0.105*\"program\" + 0.094*\"algorithm\" + -0.068*\"comput\" + -0.067*\"share\"\n",
      "2022-02-25 09:05:40,700 : INFO : topic #3(48.370): 0.483*\"system\" + 0.375*\"program\" + 0.367*\"comput\" + -0.363*\"-\" + -0.308*\",\" + 0.212*\"(\" + 0.168*\")\" + 0.147*\"algorithm\" + -0.144*\"languag\" + 0.119*\"time\"\n",
      "2022-02-25 09:05:40,701 : INFO : topic #4(45.710): 0.489*\"comput\" + -0.475*\"languag\" + -0.428*\"program\" + 0.238*\"method\" + 0.141*\"problem\" + -0.121*\"system\" + -0.109*\")\" + 0.107*\"equat\" + 0.100*\"algorithm\" + -0.099*\"(\"\n",
      "2022-02-25 09:05:40,701 : INFO : preparing a new chunk of documents\n",
      "2022-02-25 09:05:40,709 : INFO : using 100 extra samples and 2 power iterations\n",
      "2022-02-25 09:05:40,709 : INFO : 1st phase: constructing (1197, 200) action matrix\n",
      "2022-02-25 09:05:40,719 : INFO : orthonormalizing (1197, 200) action matrix\n",
      "2022-02-25 09:05:40,826 : INFO : 2nd phase: running dense svd on (200, 1204) matrix\n",
      "2022-02-25 09:05:40,905 : INFO : computing the final decomposition\n",
      "2022-02-25 09:05:40,905 : INFO : keeping 100 factors (discarding 14.024% of energy spectrum)\n",
      "2022-02-25 09:05:40,907 : INFO : merging projections: (1197, 100) + (1197, 100)\n",
      "2022-02-25 09:05:40,948 : INFO : keeping 100 factors (discarding 8.169% of energy spectrum)\n",
      "2022-02-25 09:05:40,950 : INFO : processed documents up to #3204\n",
      "2022-02-25 09:05:40,951 : INFO : topic #0(225.136): 0.759*\",\" + 0.337*\"-\" + 0.196*\"system\" + 0.186*\"program\" + 0.166*\"comput\" + 0.139*\"(\" + 0.103*\")\" + 0.103*\"algorithm\" + 0.099*\"languag\" + 0.087*\"time\"\n",
      "2022-02-25 09:05:40,951 : INFO : topic #1(87.805): 0.613*\"-\" + -0.399*\",\" + 0.399*\"(\" + 0.326*\"algorithm\" + 0.293*\")\" + -0.129*\"system\" + -0.107*\"program\" + 0.085*\"method\" + 0.077*\"time\" + 0.062*\"1\"\n",
      "2022-02-25 09:05:40,952 : INFO : topic #2(81.909): 0.550*\"-\" + -0.434*\"(\" + 0.355*\"system\" + -0.321*\")\" + -0.291*\",\" + -0.266*\"algorithm\" + 0.146*\"program\" + 0.123*\"comput\" + 0.078*\"time\" + -0.064*\"[\"\n",
      "2022-02-25 09:05:40,952 : INFO : topic #3(72.433): -0.693*\"program\" + 0.339*\",\" + 0.279*\"-\" + -0.251*\"(\" + -0.221*\"system\" + -0.214*\"languag\" + -0.204*\")\" + -0.160*\"comput\" + -0.099*\"data\" + -0.056*\"execut\"\n",
      "2022-02-25 09:05:40,953 : INFO : topic #4(68.523): -0.673*\"system\" + 0.453*\"program\" + 0.254*\"languag\" + 0.212*\"-\" + -0.179*\"comput\" + -0.165*\"(\" + -0.121*\")\" + -0.115*\"model\" + 0.101*\",\" + -0.098*\"algorithm\"\n"
     ]
    },
    {
     "data": {
      "text/plain": [
       "[(0, 0.015214791209421643),\n",
       " (1, -0.01625504574834465),\n",
       " (2, -0.00019692760955167645),\n",
       " (3, -0.0018967917210286403),\n",
       " (4, -0.009424226971483384),\n",
       " (5, -0.004809259940856322),\n",
       " (6, 0.027016460004088274),\n",
       " (7, 0.016803725667594926),\n",
       " (8, -0.03178945326311108),\n",
       " (9, -0.000703471808697665),\n",
       " (10, 0.002290741559835578),\n",
       " (11, -0.017614404371139657),\n",
       " (12, 0.00018410531294140407),\n",
       " (13, 0.0016703463276596126),\n",
       " (14, 0.003934879874324514),\n",
       " (15, 0.0054490643360659285),\n",
       " (16, 0.0050931358325388395),\n",
       " (17, 0.0012286915029553584),\n",
       " (18, -0.017596756330448295),\n",
       " (19, 0.019937500921886536),\n",
       " (20, -0.009532585366373724),\n",
       " (21, -0.012906101165656188),\n",
       " (22, 0.04801375722310882),\n",
       " (23, 0.025730462783754727),\n",
       " (24, -0.010769975584569878),\n",
       " (25, -0.012444194228169614),\n",
       " (26, 0.005990418144685069),\n",
       " (27, 0.07575447452814023),\n",
       " (28, -0.06214656153736304),\n",
       " (29, 0.032250987954804265),\n",
       " (30, 0.042945151698257376),\n",
       " (31, 0.04541282178947714),\n",
       " (32, -0.07367687684969992),\n",
       " (33, 0.04521986917729199),\n",
       " (34, -0.020510315777946878),\n",
       " (35, 0.060317548127373555),\n",
       " (36, 0.04397252879031938),\n",
       " (37, -0.010167549470667376),\n",
       " (38, -0.05791627165950258),\n",
       " (39, 0.02367571533282749),\n",
       " (40, -0.04939415426715424),\n",
       " (41, -0.03394161556043497),\n",
       " (42, 0.02420091381845625),\n",
       " (43, 0.010555183583022744),\n",
       " (44, 0.021958385635509454),\n",
       " (45, 0.05818287073355008),\n",
       " (46, -0.009343431718551152),\n",
       " (47, 0.008844176564388944),\n",
       " (48, -0.014951979996028519),\n",
       " (49, 0.030406565565655953),\n",
       " (50, -0.018646776196287747),\n",
       " (51, 0.05401839695971582),\n",
       " (52, -0.004390901449140923),\n",
       " (53, -0.0020527901759974836),\n",
       " (54, 0.037859125431259355),\n",
       " (55, 0.023581622483459762),\n",
       " (56, -0.013186541062090327),\n",
       " (57, -0.01940537243632652),\n",
       " (58, -0.0009083779212133575),\n",
       " (59, 0.03637853045596345),\n",
       " (60, -0.016756128707680333),\n",
       " (61, -0.03782600930720538),\n",
       " (62, 0.024406515222869858),\n",
       " (63, 0.029665306698714883),\n",
       " (64, -0.04210380072666991),\n",
       " (65, 0.05596105082288133),\n",
       " (66, 0.02344205973533991),\n",
       " (67, -0.0032536925577613604),\n",
       " (68, -0.06782707346665941),\n",
       " (69, -0.05751742438965598),\n",
       " (70, -0.04009545128901176),\n",
       " (71, -0.009549972400514238),\n",
       " (72, 0.03227396322005864),\n",
       " (73, -0.04074527765799342),\n",
       " (74, -0.08356813216367137),\n",
       " (75, 0.022839463664425328),\n",
       " (76, 0.03668035203942855),\n",
       " (77, 0.0021645779150003524),\n",
       " (78, 0.0587612885587551),\n",
       " (79, -0.008742325619588032),\n",
       " (80, 0.01936378452578147),\n",
       " (81, -0.0073147740184973525),\n",
       " (82, 0.001985562239930705),\n",
       " (83, 0.06014596610904338),\n",
       " (84, -0.03287740544903837),\n",
       " (85, -0.017362786814044393),\n",
       " (86, -0.028535859150367618),\n",
       " (87, -0.05079269620822785),\n",
       " (88, -0.04811361772103849),\n",
       " (89, -0.06391800517521917),\n",
       " (90, -0.03676902376793402),\n",
       " (91, 0.05741835391228115),\n",
       " (92, -0.0049223447061346425),\n",
       " (93, 0.012430684892832888),\n",
       " (94, -0.0760049612076212),\n",
       " (95, 0.004889722884327305),\n",
       " (96, -0.0023587921462158677),\n",
       " (97, -0.03640500066669888),\n",
       " (98, 0.014612604947219738),\n",
       " (99, 0.0026170948384362895)]"
      ]
     },
     "execution_count": 78,
     "metadata": {},
     "output_type": "execute_result"
    }
   ],
   "source": [
    "##### Function check\n",
    "lsi = LsiRetrievalModel(doc_repr_2)\n",
    "lsi.train_model()\n",
    "\n",
    "# you can now get an LSI vector for a given query in the following way:\n",
    "lsi.vectorize_query(\"report\")\n",
    "##### "
   ]
  },
  {
   "cell_type": "markdown",
   "metadata": {
    "deletable": false,
    "editable": false,
    "nbgrader": {
     "cell_type": "markdown",
     "checksum": "7116bb9f576c5bb04934e1d59c51d729",
     "grade": false,
     "grade_id": "cell-4c5eeb557b4fca2f",
     "locked": true,
     "points": 5,
     "schema_version": 3,
     "solution": false,
     "task": true
    }
   },
   "source": [
    "\\#### Please do not change this. This cell is used for grading."
   ]
  },
  {
   "cell_type": "markdown",
   "metadata": {
    "deletable": false,
    "editable": false,
    "nbgrader": {
     "cell_type": "markdown",
     "checksum": "26e2ff3c413745e633d99f66c041d6b1",
     "grade": false,
     "grade_id": "cell-c4e50296cd17a555",
     "locked": true,
     "schema_version": 3,
     "solution": false,
     "task": false
    }
   },
   "source": [
    "---\n",
    "**Implementation (5 points):**\n",
    " Next, implement a basic ranking class for vector space retrieval (used for all semantic methods): "
   ]
  },
  {
   "cell_type": "code",
   "execution_count": 79,
   "metadata": {
    "deletable": false,
    "nbgrader": {
     "cell_type": "code",
     "checksum": "1a8389d2f0635c3405e2b0b27ed9f327",
     "grade": false,
     "grade_id": "cell-250515d288e80cdc",
     "locked": false,
     "schema_version": 3,
     "solution": true,
     "task": false
    }
   },
   "outputs": [],
   "source": [
    "# TODO: Implement this! (5 points)\n",
    "class DenseRetrievalRanker:\n",
    "    def __init__(self, vsrm, similarity_fn):\n",
    "        \"\"\"\n",
    "            vsrm: instance of `VectorSpaceRetrievalModel`\n",
    "            similarity_fn: function instance that takes in two vectors \n",
    "                            and returns a similarity score e.g cosine_sim defined earlier\n",
    "        \"\"\"\n",
    "        self.vsrm = vsrm \n",
    "        self.vectorized_documents = self.vsrm.vectorize_documents()\n",
    "        self.similarity_fn = similarity_fn\n",
    "    \n",
    "    def _compute_sim(self, query_vector):\n",
    "        \"\"\"\n",
    "            Compute the similarity of `query_vector` to documents in \n",
    "            `self.vectorized_documents` using `self.similarity_fn`\n",
    "            Returns a list of (doc_id, score) tuples\n",
    "        \"\"\"\n",
    "        # YOUR CODE HERE\n",
    "        scores = list()\n",
    "        if not query_vector:\n",
    "            return []\n",
    "        for doc_id, vec in self.vectorized_documents.items():\n",
    "            if not vec:\n",
    "                score = 0\n",
    "            else:\n",
    "                score = self.similarity_fn(query_vector, vec)\n",
    "            scores.append((doc_id, score))\n",
    "            \n",
    "        return scores\n",
    "    \n",
    "    def search(self, query):\n",
    "        scores = self._compute_sim(self.vsrm.vectorize_query(query))\n",
    "        scores.sort(key=lambda _:-_[1])\n",
    "        return scores "
   ]
  },
  {
   "cell_type": "code",
   "execution_count": 80,
   "metadata": {
    "deletable": false,
    "editable": false,
    "nbgrader": {
     "cell_type": "code",
     "checksum": "f237dd1ef6c1783c06797f4b514421f5",
     "grade": true,
     "grade_id": "cell-b73068b3e77a8e31",
     "locked": true,
     "points": 0,
     "schema_version": 3,
     "solution": false,
     "task": false
    }
   },
   "outputs": [
    {
     "data": {
      "text/plain": [
       "[('599', 0.7980859279079419),\n",
       " ('947', 0.5860675169989434),\n",
       " ('53', 0.5006291449376625),\n",
       " ('1339', 0.45238849758364635),\n",
       " ('3160', 0.446273317951322)]"
      ]
     },
     "execution_count": 80,
     "metadata": {},
     "output_type": "execute_result"
    }
   ],
   "source": [
    "##### Function check\n",
    "drm_lsi = DenseRetrievalRanker(lsi, cosine_sim)\n",
    "drm_lsi.search(\"report\")[:5]\n",
    "##### "
   ]
  },
  {
   "cell_type": "markdown",
   "metadata": {
    "deletable": false,
    "editable": false,
    "nbgrader": {
     "cell_type": "markdown",
     "checksum": "5b3f19fdcaa585d263706d5a26038799",
     "grade": false,
     "grade_id": "cell-034c755a6502b868",
     "locked": true,
     "points": 5,
     "schema_version": 3,
     "solution": false,
     "task": true
    }
   },
   "source": [
    "\\#### Please do not change this. This cell is used for grading."
   ]
  },
  {
   "cell_type": "markdown",
   "metadata": {
    "deletable": false,
    "editable": false,
    "nbgrader": {
     "cell_type": "markdown",
     "checksum": "dcafef6e037033c46304b914f7c78bdf",
     "grade": false,
     "grade_id": "cell-d1df23f497d5ed6b",
     "locked": true,
     "schema_version": 3,
     "solution": false,
     "task": false
    }
   },
   "source": [
    "---\n",
    "Now, you can test your LSI model in the following cell: try finding queries which are lexically different to documents, but semantically similar - does LSI work well for these queries?!"
   ]
  },
  {
   "cell_type": "code",
   "execution_count": 81,
   "metadata": {
    "deletable": false,
    "editable": false,
    "nbgrader": {
     "cell_type": "code",
     "checksum": "11734bc7674377b340ad51297a8e8bb5",
     "grade": false,
     "grade_id": "cell-efd1d08dfc04ec3e",
     "locked": true,
     "schema_version": 3,
     "solution": false,
     "task": false
    }
   },
   "outputs": [
    {
     "data": {
      "application/vnd.jupyter.widget-view+json": {
       "model_id": "a3cfc6bec1074e1fbf7bd8b84cfeec8f",
       "version_major": 2,
       "version_minor": 0
      },
      "text/plain": [
       "Text(value='', description='Search Bar')"
      ]
     },
     "metadata": {},
     "output_type": "display_data"
    }
   ],
   "source": [
    "# test your LSI model\n",
    "search_fn = drm_lsi.search\n",
    "\n",
    "text = widgets.Text(description=\"Search Bar\", width=200)\n",
    "display(text)\n",
    "\n",
    "def make_results_2(query, search_fn):\n",
    "    results = []\n",
    "    for doc_id, score in search_fn(query):\n",
    "        highlight = highlight_text(docs_by_id[doc_id], query)\n",
    "        if len(highlight.strip()) == 0:\n",
    "            highlight = docs_by_id[doc_id]\n",
    "        results.append(ResultRow(doc_id, highlight, score))\n",
    "    return results\n",
    "\n",
    "def handle_submit_2(sender):\n",
    "    print(f\"Searching for: '{sender.value}' (SEARCH FN: {search_fn})\")\n",
    "    \n",
    "    results = make_results_2(sender.value, search_fn)\n",
    "    \n",
    "    # display only the top 5\n",
    "    results = results[:5]\n",
    "    \n",
    "    body = \"\"\n",
    "    for idx, r in enumerate(results):\n",
    "        body += f\"<li>Document #{r.doc_id}({r.score}): {r.snippet}</li>\"\n",
    "    display(HTML(f\"<ul>{body}</ul>\"))\n",
    "    \n",
    "\n",
    "text.on_submit(handle_submit_2)"
   ]
  },
  {
   "cell_type": "markdown",
   "metadata": {
    "deletable": false,
    "editable": false,
    "nbgrader": {
     "cell_type": "markdown",
     "checksum": "d074ce1ca48384cdda78742741c938be",
     "grade": false,
     "grade_id": "cell-3a86cef264d8f6cf",
     "locked": true,
     "schema_version": 3,
     "solution": false,
     "task": false
    }
   },
   "source": [
    "---\n",
    "## Section 7: Latent Dirichlet Allocation (LDA) (10 points) <a class=\"anchor\" id=\"lda\"></a>\n",
    "\n",
    "[Back to Part 2](#part2)\n",
    "\n",
    "The specifics of LDA is out of the scope of this assignment, but we will use the `gensim` implementation to perform search using LDA over our small document collection. The key thing to remember is that LDA, unlike LSI, outputs a topic **distribution**, not a vector. With that in mind, let's first define a similarity measure.\n"
   ]
  },
  {
   "cell_type": "markdown",
   "metadata": {
    "deletable": false,
    "editable": false,
    "nbgrader": {
     "cell_type": "markdown",
     "checksum": "db01092373b18f0c9dfed1bb17db4ad9",
     "grade": false,
     "grade_id": "cell-6b78ad22c2d60ba7",
     "locked": true,
     "schema_version": 3,
     "solution": false,
     "task": false
    }
   },
   "source": [
    "---\n",
    "### Section 7.1: Jenson-Shannon divergence (5 points) <a class=\"anchor\" id=\"js_sim\"></a>\n",
    "\n",
    "The Jenson-Shannon divergence is a symmetric and finite measure on two probability distributions (unlike the KL, which is neither). For identical distributions, the JSD is equal to 0, and since our code uses 0 as irrelevant and higher scores as relevant, we use `(1 - JSD)` as the score or 'similarity' in our setup\n",
    "\n",
    "**Note**: the JSD is bounded to \\[0,1\\] only if we use log base 2. So please ensure that you're using `np.log2` instead of `np.log`"
   ]
  },
  {
   "cell_type": "code",
   "execution_count": 82,
   "metadata": {
    "deletable": false,
    "nbgrader": {
     "cell_type": "code",
     "checksum": "a579e6cd7a24a3516bc9a84528b392d3",
     "grade": false,
     "grade_id": "cell-d2376a85a4841e98",
     "locked": false,
     "schema_version": 3,
     "solution": true,
     "task": false
    }
   },
   "outputs": [],
   "source": [
    "## TODO: Implement this! (5 points)\n",
    "def jenson_shannon_divergence(vec_1, vec_2, assert_prob=False):\n",
    "    \"\"\"\n",
    "        Computes the Jensen-Shannon divergence between two probability distributions. \n",
    "        NOTE: DO NOT RETURN 1 - JSD here, that is handled by the next function which is already implemented! \n",
    "        The inputs are *gensim* vectors - same as the vectors for the cosine_sim function\n",
    "        assert_prob is a flag that checks if the inputs are proper probability distributions \n",
    "            i.e they sum to 1 and are positive - use this to check your inputs if needed. \n",
    "                (This is optional to implement, but recommended - \n",
    "                you can the default to False to save a few ms off the runtime)\n",
    "    \"\"\"\n",
    "    # YOUR CODE HERE\n",
    "    kl1 =0\n",
    "    kl2 = 0\n",
    "\n",
    "    vec_1 = list(list(zip(*vec_1))[1])\n",
    "    vec_2 = list(list(zip(*vec_2))[1])\n",
    "    \n",
    "    mean = list(0.5*(np.array(vec_1) + np.array(vec_2)))\n",
    "\n",
    "    for i in range(len(vec_1)):\n",
    "        kl1+= vec_1[i] * np.log2(vec_1[i] / mean[i])\n",
    "\n",
    "        \n",
    "    for i in range(len(vec_2)):\n",
    "        kl2+= vec_2[i] * np.log2(vec_2[i] / mean[i])\n",
    "    \n",
    "    kl_total = (0.5*kl1) + (0.5*kl2)\n",
    "\n",
    "    return kl_total\n",
    "\n",
    "\n",
    "def jenson_shannon_sim(vec_1, vec_2, assert_prob=False):\n",
    "    return 1 - jenson_shannon_divergence(vec_1, vec_2)\n",
    "\n"
   ]
  },
  {
   "cell_type": "code",
   "execution_count": 83,
   "metadata": {
    "deletable": false,
    "editable": false,
    "nbgrader": {
     "cell_type": "code",
     "checksum": "ab340aa941c9fb5c89b3fd0a9139e246",
     "grade": true,
     "grade_id": "cell-487c6d2933f38053",
     "locked": true,
     "points": 5,
     "schema_version": 3,
     "solution": false,
     "task": false
    }
   },
   "outputs": [
    {
     "data": {
      "text/plain": [
       "0.9251064410358459"
      ]
     },
     "execution_count": 83,
     "metadata": {},
     "output_type": "execute_result"
    }
   ],
   "source": [
    "##### Function check\n",
    "vec_1 = [(1, 0.3), (2, 0.4), (3, 0.3)]\n",
    "vec_2 = [(1, 0.1), (2, 0.7), (3, 0.2)]\n",
    "jenson_shannon_sim(vec_1, vec_2, assert_prob=True)\n",
    "##### "
   ]
  },
  {
   "cell_type": "markdown",
   "metadata": {
    "deletable": false,
    "editable": false,
    "nbgrader": {
     "cell_type": "markdown",
     "checksum": "0a1583a5f23e3390038331cce67f5d8e",
     "grade": false,
     "grade_id": "cell-4535cc67a50b80fa",
     "locked": true,
     "schema_version": 3,
     "solution": false,
     "task": false
    }
   },
   "source": [
    "---\n",
    "### Section 7.2: LDA retrieval (5 points) <a class=\"anchor\" id=\"lda_ret\"></a>\n",
    "\n",
    "Implement the `train_model` method in the following class (note that this is only one line of code in `gensim`!). Ensure that the parameters defined in the `__init__` method are not changed, and are *used in the `train_method` function*. You do not need to set this. Normally, the hyperaparameter space will be searched using grid search / other methods. Note that training the LDA model might take some time\n",
    "\n",
    "The last two lines of code train an LDA model on the list of documents which have been stemmed, lower-cased and have stopwords removed. "
   ]
  },
  {
   "cell_type": "code",
   "execution_count": 84,
   "metadata": {
    "deletable": false,
    "nbgrader": {
     "cell_type": "code",
     "checksum": "27de8e4fa85536bb396b73bfc51b3f50",
     "grade": false,
     "grade_id": "cell-021a48dff4a8bb91",
     "locked": false,
     "schema_version": 3,
     "solution": true,
     "task": false
    }
   },
   "outputs": [],
   "source": [
    "# TODO: Implement this! (5 points)\n",
    "class LdaRetrievalModel(VectorSpaceRetrievalModel):\n",
    "    def __init__(self, doc_repr):\n",
    "        super().__init__(doc_repr)\n",
    "        \n",
    "        # use these parameters in the train_model method\n",
    "        self.num_topics = 100\n",
    "        self.chunksize = 2000\n",
    "        self.passes = 20\n",
    "        self.iterations = 400\n",
    "        self.eval_every = 10\n",
    "        # this is need to get full vectors\n",
    "        self.minimum_probability=0.0\n",
    "        self.alpha='auto'\n",
    "        self.eta='auto'\n",
    "    \n",
    "    \n",
    "    def train_model(self):\n",
    "        # YOUR CODE HERE\n",
    "        self.model = LdaModel(corpus=self.corpus, id2word=self.id2word, num_topics=self.num_topics, chunksize=self.chunksize,\\\n",
    "                        passes=self.passes, alpha=self.alpha,eval_every=self.eval_every, minimum_probability=self.minimum_probability,\\\n",
    "                        eta=self.eta, iterations=self.iterations)\n"
   ]
  },
  {
   "cell_type": "code",
   "execution_count": 85,
   "metadata": {
    "deletable": false,
    "editable": false,
    "nbgrader": {
     "cell_type": "code",
     "checksum": "be70fcb8098d0b6ce64cd2a10e6a05b7",
     "grade": true,
     "grade_id": "cell-86750b715f0345fd",
     "locked": true,
     "points": 0,
     "schema_version": 3,
     "solution": false,
     "task": false
    }
   },
   "outputs": [
    {
     "name": "stderr",
     "output_type": "stream",
     "text": [
      "2022-02-25 09:05:41,701 : INFO : adding document #0 to Dictionary(0 unique tokens: [])\n",
      "2022-02-25 09:05:41,813 : INFO : built Dictionary(5937 unique tokens: ['-', 'algebra', 'intern', 'languag', 'preliminari']...) from 3204 documents (total 115969 corpus positions)\n",
      "2022-02-25 09:05:41,820 : INFO : discarding 4740 tokens: [('repeat', 8), ('glossari', 7), ('inspect', 8), ('uncol', 2), ('rung', 9), ('secant', 2), ('.', 1603), ('acceler', 6), ('diverg', 3), ('induc', 9)]...\n",
      "2022-02-25 09:05:41,820 : INFO : keeping 1197 tokens which were in no less than 10 and no more than 1602 (=50.0%) documents\n",
      "2022-02-25 09:05:41,823 : INFO : resulting dictionary: Dictionary(1197 unique tokens: ['-', 'algebra', 'intern', 'languag', 'preliminari']...)\n",
      "2022-02-25 09:05:41,882 : INFO : using autotuned alpha, starting with [0.01, 0.01, 0.01, 0.01, 0.01, 0.01, 0.01, 0.01, 0.01, 0.01, 0.01, 0.01, 0.01, 0.01, 0.01, 0.01, 0.01, 0.01, 0.01, 0.01, 0.01, 0.01, 0.01, 0.01, 0.01, 0.01, 0.01, 0.01, 0.01, 0.01, 0.01, 0.01, 0.01, 0.01, 0.01, 0.01, 0.01, 0.01, 0.01, 0.01, 0.01, 0.01, 0.01, 0.01, 0.01, 0.01, 0.01, 0.01, 0.01, 0.01, 0.01, 0.01, 0.01, 0.01, 0.01, 0.01, 0.01, 0.01, 0.01, 0.01, 0.01, 0.01, 0.01, 0.01, 0.01, 0.01, 0.01, 0.01, 0.01, 0.01, 0.01, 0.01, 0.01, 0.01, 0.01, 0.01, 0.01, 0.01, 0.01, 0.01, 0.01, 0.01, 0.01, 0.01, 0.01, 0.01, 0.01, 0.01, 0.01, 0.01, 0.01, 0.01, 0.01, 0.01, 0.01, 0.01, 0.01, 0.01, 0.01, 0.01]\n",
      "2022-02-25 09:05:41,883 : INFO : using serial LDA version on this node\n",
      "2022-02-25 09:05:41,894 : INFO : running online (multi-pass) LDA training, 100 topics, 20 passes over the supplied corpus of 3204 documents, updating model once every 2000 documents, evaluating perplexity every 3204 documents, iterating 400x with a convergence threshold of 0.001000\n",
      "2022-02-25 09:05:41,895 : INFO : PROGRESS: pass 0, at document #2000/3204\n",
      "2022-02-25 09:05:43,509 : INFO : optimized alpha [0.009874989, 0.009907002, 0.009797753, 0.009771538, 0.00978217, 0.009828282, 0.009818063, 0.009834243, 0.009787066, 0.009844062, 0.009808723, 0.00978695, 0.009838462, 0.009787175, 0.009932968, 0.0097718015, 0.009844028, 0.00978711, 0.009771598, 0.009771542, 0.009802272, 0.009813412, 0.009849461, 0.009797234, 0.009823602, 0.009828923, 0.009859496, 0.009798811, 0.009797528, 0.00978203, 0.009943601, 0.0098233055, 0.009823387, 0.009970415, 0.00984447, 0.009823353, 0.0097924955, 0.009859524, 0.0097768335, 0.009818257, 0.00994333, 0.0097819995, 0.009797258, 0.009802642, 0.009781845, 0.009802786, 0.009905463, 0.009859481, 0.009787185, 0.009816492, 0.00982849, 0.009812812, 0.009874294, 0.00977684, 0.009797398, 0.00984415, 0.009823726, 0.0097924685, 0.009787144, 0.009817891, 0.009771606, 0.009988814, 0.009818358, 0.009906437, 0.009848968, 0.009797636, 0.009902005, 0.009843893, 0.009794899, 0.009890937, 0.009982037, 0.009910788, 0.009839142, 0.009842856, 0.00975613, 0.009875438, 0.009787102, 0.010021642, 0.009797623, 0.009869756, 0.009792322, 0.009787077, 0.009802381, 0.009797435, 0.009833944, 0.009776772, 0.00982833, 0.009797588, 0.009776769, 0.009792297, 0.009802921, 0.009900786, 0.009839022, 0.009802766, 0.009817898, 0.009807963, 0.00983408, 0.0098544145, 0.009792242, 0.009869335]\n",
      "2022-02-25 09:05:43,514 : INFO : merging changes from 2000 documents into a model of 3204 documents\n",
      "2022-02-25 09:05:43,524 : INFO : topic #4 (0.010): 0.095*\",\" + 0.037*\"algol\" + 0.026*\"bank\" + 0.026*\"languag\" + 0.024*\"tabl\" + 0.021*\"decis\" + 0.018*\"program\" + 0.016*\"comput\" + 0.015*\"shown\" + 0.015*\"cobol\"\n",
      "2022-02-25 09:05:43,525 : INFO : topic #38 (0.010): 0.049*\",\" + 0.030*\"propos\" + 0.030*\"-\" + 0.030*\"/\" + 0.020*\"standard\" + 0.020*\"macro\" + 0.020*\"languag\" + 0.020*\"inform\" + 0.020*\"processor\" + 0.020*\"user\"\n",
      "2022-02-25 09:05:43,526 : INFO : topic #40 (0.010): 0.074*\",\" + 0.036*\"-\" + 0.024*\"program\" + 0.019*\"comput\" + 0.016*\"time\" + 0.014*\"languag\" + 0.013*\"algorithm\" + 0.011*\"system\" + 0.010*\"gener\" + 0.009*\"debug\"\n",
      "2022-02-25 09:05:43,526 : INFO : topic #61 (0.010): 0.066*\"-\" + 0.045*\",\" + 0.025*\"(\" + 0.023*\"algorithm\" + 0.017*\"comput\" + 0.017*\"languag\" + 0.014*\"[\" + 0.014*\"])\" + 0.014*\"gener\" + 0.012*\"program\"\n",
      "2022-02-25 09:05:43,527 : INFO : topic #77 (0.010): 0.071*\",\" + 0.040*\"system\" + 0.032*\"-\" + 0.026*\"program\" + 0.019*\"comput\" + 0.014*\"languag\" + 0.012*\"oper\" + 0.010*\"gener\" + 0.009*\"discuss\" + 0.008*\"storag\"\n",
      "2022-02-25 09:05:43,528 : INFO : topic diff=82.607285, rho=1.000000\n",
      "2022-02-25 09:05:44,522 : INFO : -7.287 per-word bound, 156.2 perplexity estimate based on a held-out corpus of 1204 documents with 49783 words\n",
      "2022-02-25 09:05:44,522 : INFO : PROGRESS: pass 0, at document #3204/3204\n",
      "2022-02-25 09:05:45,361 : INFO : optimized alpha [0.010175936, 0.010258852, 0.009880621, 0.009660966, 0.010070044, 0.00984609, 0.009823739, 0.010024115, 0.009903248, 0.00986768, 0.009820265, 0.009722043, 0.009919986, 0.009822495, 0.010238441, 0.009890087, 0.009861584, 0.010003078, 0.00973744, 0.0098295035, 0.009842309, 0.01034446, 0.009891679, 0.009907972, 0.009901346, 0.009995764, 0.010286384, 0.009920433, 0.010117972, 0.009904223, 0.010274049, 0.009781885, 0.009836054, 0.0102081755, 0.0100054955, 0.009899895, 0.009932532, 0.010084104, 0.009904289, 0.009883097, 0.010165673, 0.009857265, 0.009749724, 0.010060441, 0.009723024, 0.009938072, 0.010040099, 0.009887404, 0.009926645, 0.009681077, 0.009799241, 0.009819033, 0.010126588, 0.009886902, 0.009743918, 0.009980213, 0.010160713, 0.0099637825, 0.009798882, 0.009782252, 0.009799276, 0.009992231, 0.010275026, 0.01003025, 0.009919187, 0.009862773, 0.010333317, 0.010138782, 0.009864428, 0.009938084, 0.010123383, 0.010102015, 0.010052145, 0.009894546, 0.009494861, 0.010301816, 0.009827638, 0.01046893, 0.009822236, 0.009916563, 0.01005654, 0.009786378, 0.010012715, 0.009920286, 0.009951728, 0.009816817, 0.009968313, 0.010050942, 0.00994023, 0.009908797, 0.009891708, 0.010167311, 0.010146661, 0.009860867, 0.009793966, 0.010215069, 0.010125224, 0.009883913, 0.009931628, 0.009891654]\n",
      "2022-02-25 09:05:45,368 : INFO : merging changes from 1204 documents into a model of 3204 documents\n",
      "2022-02-25 09:05:45,377 : INFO : topic #74 (0.009): 0.001*\"implic\" + 0.001*\"favor\" + 0.001*\"adapt\" + 0.001*\"polygon\" + 0.001*\"stage\" + 0.001*\"situat\" + 0.001*\"respons\" + 0.001*\"industri\" + 0.001*\"regress\" + 0.001*\"drive\"\n",
      "2022-02-25 09:05:45,378 : INFO : topic #3 (0.010): 0.129*\"adapt\" + 0.119*\"(\" + 0.117*\")\" + 0.078*\"algorithm\" + 0.074*\"integr\" + 0.062*\"-\" + 0.049*\"data\" + 0.042*\"'\" + 0.038*\"simpson\" + 0.031*\"standard\"\n",
      "2022-02-25 09:05:45,379 : INFO : topic #21 (0.010): 0.087*\"tree\" + 0.069*\",\" + 0.037*\"search\" + 0.033*\"averag\" + 0.027*\"-\" + 0.023*\"structur\" + 0.021*\"program\" + 0.020*\"node\" + 0.013*\"cost\" + 0.012*\"code\"\n",
      "2022-02-25 09:05:45,379 : INFO : topic #66 (0.010): 0.061*\",\" + 0.054*\"system\" + 0.045*\"-\" + 0.036*\"model\" + 0.020*\"comput\" + 0.018*\"time\" + 0.015*\"process\" + 0.014*\"data\" + 0.013*\"design\" + 0.013*\"user\"\n",
      "2022-02-25 09:05:45,380 : INFO : topic #77 (0.010): 0.077*\",\" + 0.052*\"system\" + 0.031*\"-\" + 0.027*\"program\" + 0.018*\"comput\" + 0.015*\"oper\" + 0.014*\"/\" + 0.013*\"user\" + 0.012*\"languag\" + 0.011*\"level\"\n",
      "2022-02-25 09:05:45,381 : INFO : topic diff=0.718739, rho=0.707107\n",
      "2022-02-25 09:05:45,388 : INFO : PROGRESS: pass 1, at document #2000/3204\n",
      "2022-02-25 09:05:46,262 : INFO : optimized alpha [0.010085582, 0.010269409, 0.009797848, 0.009933063, 0.010036079, 0.009803086, 0.009791121, 0.009935307, 0.009902908, 0.009763943, 0.0099237645, 0.009792496, 0.00985421, 0.009800878, 0.010169801, 0.009833133, 0.009823779, 0.009921625, 0.009769049, 0.009843476, 0.010228106, 0.0102608465, 0.009903799, 0.00990818, 0.009841699, 0.009942086, 0.01024009, 0.010012473, 0.010163091, 0.009901823, 0.01020469, 0.009847052, 0.009756745, 0.010152584, 0.009946639, 0.009861161, 0.00995937, 0.009974526, 0.009859446, 0.00982898, 0.010104066, 0.009813327, 0.009754776, 0.010074749, 0.010158981, 0.009885364, 0.010097759, 0.0098067, 0.009950382, 0.009674885, 0.009717951, 0.009742707, 0.010279256, 0.009808307, 0.009806063, 0.0099351695, 0.010068327, 0.01001459, 0.009764466, 0.009777094, 0.009844564, 0.009911975, 0.010242734, 0.009911826, 0.009842813, 0.009864336, 0.010294693, 0.010065348, 0.009823008, 0.009864911, 0.010053989, 0.010032759, 0.009997651, 0.009795126, 0.009347012, 0.010236549, 0.009761275, 0.010485643, 0.009764222, 0.009851392, 0.010111061, 0.009884396, 0.01015302, 0.009840951, 0.009933457, 0.00980742, 0.009912093, 0.009992713, 0.010078203, 0.0098665375, 0.009855748, 0.010041867, 0.010040923, 0.009833443, 0.009809292, 0.010181149, 0.0100611495, 0.0098244995, 0.00987812, 0.009858356]\n"
     ]
    },
    {
     "name": "stderr",
     "output_type": "stream",
     "text": [
      "2022-02-25 09:05:46,268 : INFO : merging changes from 2000 documents into a model of 3204 documents\n",
      "2022-02-25 09:05:46,278 : INFO : topic #74 (0.009): 0.001*\"implic\" + 0.001*\"favor\" + 0.001*\"adapt\" + 0.001*\"polygon\" + 0.001*\"stage\" + 0.001*\"situat\" + 0.001*\"respons\" + 0.001*\"industri\" + 0.001*\"regress\" + 0.001*\"drive\"\n",
      "2022-02-25 09:05:46,278 : INFO : topic #49 (0.010): 0.092*\"(\" + 0.090*\")\" + 0.041*\"algorithm\" + 0.037*\"scheme\" + 0.035*\"oper\" + 0.031*\"analysi\" + 0.028*\"group\" + 0.028*\",\" + 0.027*\"incomplet\" + 0.027*\";\"\n",
      "2022-02-25 09:05:46,279 : INFO : topic #66 (0.010): 0.061*\",\" + 0.057*\"system\" + 0.046*\"-\" + 0.033*\"model\" + 0.021*\"time\" + 0.020*\"comput\" + 0.016*\"process\" + 0.016*\"data\" + 0.015*\"user\" + 0.015*\"share\"\n",
      "2022-02-25 09:05:46,279 : INFO : topic #21 (0.010): 0.075*\"tree\" + 0.067*\",\" + 0.038*\"search\" + 0.026*\"-\" + 0.026*\"averag\" + 0.023*\"structur\" + 0.021*\"program\" + 0.017*\"node\" + 0.014*\"code\" + 0.013*\"programm\"\n",
      "2022-02-25 09:05:46,280 : INFO : topic #77 (0.010): 0.078*\",\" + 0.060*\"system\" + 0.032*\"-\" + 0.028*\"program\" + 0.019*\"comput\" + 0.015*\"oper\" + 0.013*\"user\" + 0.013*\"/\" + 0.012*\"languag\" + 0.010*\"ibm\"\n",
      "2022-02-25 09:05:46,281 : INFO : topic diff=0.300405, rho=0.526900\n",
      "2022-02-25 09:05:47,225 : INFO : -6.890 per-word bound, 118.6 perplexity estimate based on a held-out corpus of 1204 documents with 49783 words\n",
      "2022-02-25 09:05:47,226 : INFO : PROGRESS: pass 1, at document #3204/3204\n",
      "2022-02-25 09:05:47,995 : INFO : optimized alpha [0.010329255, 0.0104563255, 0.009930656, 0.009988737, 0.010287751, 0.009900588, 0.009884201, 0.010023856, 0.0101121925, 0.009784181, 0.0100545995, 0.009810328, 0.009981102, 0.009915427, 0.010298508, 0.009983413, 0.009829514, 0.010078931, 0.009866578, 0.010162258, 0.010579848, 0.010661465, 0.009926984, 0.010033972, 0.009926697, 0.010133062, 0.010591448, 0.010186436, 0.010471918, 0.010028159, 0.010356625, 0.009895743, 0.009881483, 0.010316483, 0.010031537, 0.010076717, 0.010129943, 0.0101378625, 0.010020432, 0.009944022, 0.010197799, 0.0099616125, 0.009829171, 0.010303774, 0.01012952, 0.010100429, 0.010165523, 0.009863978, 0.010106895, 0.0096141165, 0.009794687, 0.0098238615, 0.010592377, 0.009969355, 0.009871348, 0.010050683, 0.010277226, 0.010222897, 0.009887416, 0.009839582, 0.010064755, 0.009916788, 0.010650282, 0.009973698, 0.009949054, 0.009974758, 0.010622571, 0.010246482, 0.009980001, 0.009866049, 0.010119279, 0.010166286, 0.010112666, 0.009822566, 0.009169709, 0.010509457, 0.009896724, 0.01073585, 0.00979734, 0.009905658, 0.01034931, 0.009961751, 0.010480539, 0.009959054, 0.010038825, 0.00993759, 0.010033812, 0.010236299, 0.010253156, 0.009975421, 0.009953556, 0.010205083, 0.010222469, 0.009981863, 0.009784316, 0.01049489, 0.01027094, 0.009865565, 0.010060774, 0.009902698]\n",
      "2022-02-25 09:05:48,001 : INFO : merging changes from 1204 documents into a model of 3204 documents\n",
      "2022-02-25 09:05:48,010 : INFO : topic #74 (0.009): 0.001*\"implic\" + 0.001*\"favor\" + 0.001*\"adapt\" + 0.001*\"polygon\" + 0.001*\"stage\" + 0.001*\"situat\" + 0.001*\"respons\" + 0.001*\"industri\" + 0.001*\"regress\" + 0.001*\"drive\"\n",
      "2022-02-25 09:05:48,011 : INFO : topic #49 (0.010): 0.110*\")\" + 0.107*\"(\" + 0.050*\";\" + 0.049*\"analysi\" + 0.044*\"scheme\" + 0.029*\"calculu\" + 0.028*\"group\" + 0.028*\",\" + 0.028*\"oper\" + 0.027*\"incomplet\"\n",
      "2022-02-25 09:05:48,012 : INFO : topic #62 (0.011): 0.064*\",\" + 0.048*\"system\" + 0.045*\"perform\" + 0.039*\"schedul\" + 0.028*\"page\" + 0.024*\"multiprogram\" + 0.023*\"execut\" + 0.023*\"program\" + 0.023*\"measur\" + 0.022*\"-\"\n",
      "2022-02-25 09:05:48,012 : INFO : topic #21 (0.011): 0.116*\"tree\" + 0.076*\",\" + 0.052*\"search\" + 0.038*\"averag\" + 0.026*\"-\" + 0.023*\"node\" + 0.019*\"structur\" + 0.016*\"program\" + 0.014*\"time\" + 0.013*\"cost\"\n",
      "2022-02-25 09:05:48,013 : INFO : topic #77 (0.011): 0.081*\",\" + 0.067*\"system\" + 0.033*\"-\" + 0.026*\"program\" + 0.019*\"comput\" + 0.018*\"/\" + 0.016*\"oper\" + 0.016*\"user\" + 0.014*\"level\" + 0.010*\"disk\"\n",
      "2022-02-25 09:05:48,014 : INFO : topic diff=0.415919, rho=0.526900\n",
      "2022-02-25 09:05:48,021 : INFO : PROGRESS: pass 2, at document #2000/3204\n",
      "2022-02-25 09:05:48,814 : INFO : optimized alpha [0.010247206, 0.010466531, 0.009902345, 0.010274332, 0.010257356, 0.009923398, 0.009881641, 0.009970216, 0.010167391, 0.0096933255, 0.0102458205, 0.009893672, 0.009930013, 0.00995001, 0.010247576, 0.009979832, 0.009825763, 0.010016013, 0.009938909, 0.0102503775, 0.011423019, 0.0105917575, 0.009973649, 0.010042788, 0.00986797, 0.010105689, 0.010546158, 0.010274766, 0.010509554, 0.010049233, 0.010299723, 0.010026074, 0.00984873, 0.010268941, 0.009987254, 0.010081184, 0.01020547, 0.010050295, 0.010024784, 0.009933926, 0.010134076, 0.009933857, 0.009861393, 0.010341342, 0.010582297, 0.010116179, 0.010206758, 0.009810399, 0.010186362, 0.009653835, 0.00975617, 0.009808152, 0.010667538, 0.009927427, 0.009988905, 0.0100467745, 0.010225779, 0.010310193, 0.009912608, 0.009855624, 0.01015515, 0.00986228, 0.010656968, 0.0098785935, 0.009898651, 0.010060766, 0.010623468, 0.010190405, 0.009965929, 0.009822685, 0.010066479, 0.010109697, 0.01008137, 0.009746799, 0.009048823, 0.010438774, 0.009879725, 0.010768861, 0.009768425, 0.009879535, 0.01041067, 0.010109716, 0.010653449, 0.009912702, 0.010065215, 0.010008066, 0.010005392, 0.010230749, 0.01044879, 0.009965995, 0.009924475, 0.0101018045, 0.010130742, 0.009987291, 0.00981041, 0.010493605, 0.010227371, 0.009849452, 0.010052529, 0.009927604]\n",
      "2022-02-25 09:05:48,820 : INFO : merging changes from 2000 documents into a model of 3204 documents\n",
      "2022-02-25 09:05:48,830 : INFO : topic #74 (0.009): 0.001*\"implic\" + 0.001*\"favor\" + 0.001*\"adapt\" + 0.001*\"polygon\" + 0.001*\"stage\" + 0.001*\"situat\" + 0.001*\"respons\" + 0.001*\"industri\" + 0.001*\"regress\" + 0.001*\"drive\"\n",
      "2022-02-25 09:05:48,830 : INFO : topic #49 (0.010): 0.098*\"(\" + 0.095*\")\" + 0.072*\"analysi\" + 0.046*\"scheme\" + 0.045*\";\" + 0.034*\"group\" + 0.029*\"incomplet\" + 0.028*\"oper\" + 0.026*\"varianc\" + 0.024*\",\"\n",
      "2022-02-25 09:05:48,831 : INFO : topic #82 (0.011): 0.074*\"set\" + 0.069*\"algorithm\" + 0.065*\"order\" + 0.063*\"curv\" + 0.048*\"function\" + 0.043*\"method\" + 0.040*\"(\" + 0.039*\")\" + 0.038*\"find\" + 0.034*\"fit\"\n",
      "2022-02-25 09:05:48,832 : INFO : topic #77 (0.011): 0.082*\",\" + 0.074*\"system\" + 0.035*\"-\" + 0.028*\"program\" + 0.020*\"comput\" + 0.018*\"oper\" + 0.017*\"user\" + 0.017*\"/\" + 0.015*\"ibm\" + 0.012*\"level\"\n",
      "2022-02-25 09:05:48,832 : INFO : topic #20 (0.011): 0.276*\"(\" + 0.266*\")\" + 0.248*\"algorithm\" + 0.019*\"function\" + 0.016*\"find\" + 0.016*\"minim\" + 0.015*\"interpol\" + 0.015*\",\" + 0.011*\"forward\" + 0.011*\"nonlinear\"\n",
      "2022-02-25 09:05:48,833 : INFO : topic diff=0.394663, rho=0.466151\n",
      "2022-02-25 09:05:49,688 : INFO : -6.777 per-word bound, 109.7 perplexity estimate based on a held-out corpus of 1204 documents with 49783 words\n",
      "2022-02-25 09:05:49,689 : INFO : PROGRESS: pass 2, at document #3204/3204\n",
      "2022-02-25 09:05:50,416 : INFO : optimized alpha [0.010485086, 0.010603764, 0.010016972, 0.010352505, 0.010498302, 0.010052899, 0.010030392, 0.010076714, 0.010446453, 0.0097250445, 0.010401149, 0.009920998, 0.010042922, 0.010048189, 0.010329419, 0.010172248, 0.009836115, 0.0101601835, 0.010052258, 0.010598947, 0.012082586, 0.010965247, 0.010017881, 0.010178015, 0.009955851, 0.010287924, 0.010879079, 0.010449522, 0.010766594, 0.010204699, 0.01046753, 0.01009993, 0.009982801, 0.010422987, 0.010082656, 0.010301716, 0.01037353, 0.010215397, 0.010199381, 0.010063741, 0.010229727, 0.01009332, 0.009958138, 0.010554076, 0.010532316, 0.010351806, 0.010266949, 0.009900717, 0.01034914, 0.009639809, 0.009882564, 0.009953645, 0.010937057, 0.010082573, 0.010092554, 0.01019327, 0.0104038725, 0.010479896, 0.010083854, 0.009969032, 0.010375764, 0.009872548, 0.011084783, 0.009950172, 0.010009245, 0.010186338, 0.010939644, 0.010387792, 0.010164263, 0.0098409895, 0.010149266, 0.0102323005, 0.010223536, 0.009788374, 0.008903079, 0.010666336, 0.010043001, 0.010996484, 0.009821911, 0.009974985, 0.010643804, 0.010224164, 0.01099995, 0.010025743, 0.0101943845, 0.010162353, 0.010141354, 0.01047701, 0.010620389, 0.010070638, 0.01003915, 0.010259024, 0.010324145, 0.010154363, 0.009781756, 0.010750655, 0.01041443, 0.009913923, 0.010250555, 0.009998614]\n",
      "2022-02-25 09:05:50,422 : INFO : merging changes from 1204 documents into a model of 3204 documents\n"
     ]
    },
    {
     "name": "stderr",
     "output_type": "stream",
     "text": [
      "2022-02-25 09:05:50,431 : INFO : topic #74 (0.009): 0.001*\"implic\" + 0.001*\"favor\" + 0.001*\"adapt\" + 0.001*\"polygon\" + 0.001*\"stage\" + 0.001*\"situat\" + 0.001*\"respons\" + 0.001*\"industri\" + 0.001*\"regress\" + 0.001*\"drive\"\n",
      "2022-02-25 09:05:50,432 : INFO : topic #49 (0.010): 0.111*\"(\" + 0.108*\")\" + 0.085*\"analysi\" + 0.066*\";\" + 0.058*\"scheme\" + 0.032*\"group\" + 0.028*\"incomplet\" + 0.024*\",\" + 0.023*\"oper\" + 0.021*\"machin\"\n",
      "2022-02-25 09:05:50,432 : INFO : topic #77 (0.011): 0.083*\",\" + 0.079*\"system\" + 0.037*\"-\" + 0.025*\"program\" + 0.020*\"user\" + 0.020*\"comput\" + 0.020*\"/\" + 0.019*\"oper\" + 0.015*\"level\" + 0.011*\"ibm\"\n",
      "2022-02-25 09:05:50,433 : INFO : topic #62 (0.011): 0.060*\",\" + 0.050*\"system\" + 0.047*\"perform\" + 0.044*\"schedul\" + 0.029*\"multiprogram\" + 0.027*\"page\" + 0.026*\"execut\" + 0.025*\"measur\" + 0.024*\"time\" + 0.024*\"implement\"\n",
      "2022-02-25 09:05:50,433 : INFO : topic #20 (0.012): 0.291*\"(\" + 0.276*\")\" + 0.255*\"algorithm\" + 0.018*\"function\" + 0.018*\"minim\" + 0.017*\"find\" + 0.014*\"forward\" + 0.013*\"interpol\" + 0.012*\",\" + 0.008*\"method\"\n",
      "2022-02-25 09:05:50,434 : INFO : topic diff=0.526231, rho=0.466151\n",
      "2022-02-25 09:05:50,441 : INFO : PROGRESS: pass 3, at document #2000/3204\n",
      "2022-02-25 09:05:51,219 : INFO : optimized alpha [0.010427008, 0.010612486, 0.010019111, 0.010617113, 0.01046426, 0.010103231, 0.01006813, 0.010039284, 0.01055526, 0.009659654, 0.01062848, 0.010009949, 0.010005275, 0.010103357, 0.0102884695, 0.010183043, 0.00984664, 0.010118276, 0.010139518, 0.010722757, 0.013117474, 0.010916088, 0.010073671, 0.0101984115, 0.009905442, 0.010259909, 0.010836786, 0.0105428705, 0.010799172, 0.010249325, 0.010433425, 0.010303276, 0.009969936, 0.01037056, 0.010047208, 0.010310898, 0.0104750255, 0.01013591, 0.01025027, 0.010071489, 0.010170415, 0.0100955125, 0.010004279, 0.010607372, 0.010962163, 0.010393277, 0.010272183, 0.009861098, 0.010449698, 0.00973026, 0.009866577, 0.0099707125, 0.011004116, 0.010065478, 0.010247078, 0.010202472, 0.010365386, 0.010581577, 0.010129611, 0.009987444, 0.010483706, 0.0098335575, 0.011107908, 0.009878551, 0.009974576, 0.0103105465, 0.010975484, 0.01035815, 0.010167474, 0.00981171, 0.010104403, 0.010205237, 0.0102211125, 0.009725868, 0.008800883, 0.010607483, 0.010054574, 0.011036924, 0.009811142, 0.009975121, 0.010700937, 0.010388039, 0.0111470865, 0.009990307, 0.01022683, 0.010256335, 0.010139038, 0.010510411, 0.010812227, 0.010081427, 0.010036581, 0.010178786, 0.010240194, 0.01017558, 0.009812759, 0.01074982, 0.010382978, 0.009927241, 0.010257227, 0.010062144]\n",
      "2022-02-25 09:05:51,225 : INFO : merging changes from 2000 documents into a model of 3204 documents\n",
      "2022-02-25 09:05:51,234 : INFO : topic #74 (0.009): 0.001*\"implic\" + 0.001*\"favor\" + 0.001*\"adapt\" + 0.001*\"polygon\" + 0.001*\"stage\" + 0.001*\"situat\" + 0.001*\"respons\" + 0.001*\"industri\" + 0.001*\"regress\" + 0.001*\"drive\"\n",
      "2022-02-25 09:05:51,235 : INFO : topic #9 (0.010): 0.060*\"-\" + 0.043*\"'\" + 0.033*\",\" + 0.030*\"time\" + 0.030*\"algorithm\" + 0.027*\"methodolog\" + 0.026*\"copi\" + 0.025*\"program\" + 0.025*\"modif\" + 0.023*\"problem\"\n",
      "2022-02-25 09:05:51,235 : INFO : topic #62 (0.011): 0.059*\",\" + 0.052*\"system\" + 0.048*\"schedul\" + 0.043*\"perform\" + 0.033*\"multiprogram\" + 0.027*\"execut\" + 0.026*\"page\" + 0.025*\"program\" + 0.024*\"time\" + 0.023*\"implement\"\n",
      "2022-02-25 09:05:51,235 : INFO : topic #82 (0.011): 0.081*\"set\" + 0.073*\"order\" + 0.067*\"curv\" + 0.060*\"algorithm\" + 0.049*\"function\" + 0.048*\"find\" + 0.044*\"method\" + 0.034*\"fit\" + 0.033*\"posit\" + 0.033*\"integ\"\n",
      "2022-02-25 09:05:51,236 : INFO : topic #20 (0.013): 0.307*\"(\" + 0.298*\")\" + 0.251*\"algorithm\" + 0.017*\"function\" + 0.012*\"minim\" + 0.012*\"interpol\" + 0.011*\"find\" + 0.010*\",\" + 0.009*\"forward\" + 0.008*\"differ\"\n",
      "2022-02-25 09:05:51,236 : INFO : topic diff=0.537935, rho=0.422502\n",
      "2022-02-25 09:05:52,055 : INFO : -6.697 per-word bound, 103.8 perplexity estimate based on a held-out corpus of 1204 documents with 49783 words\n",
      "2022-02-25 09:05:52,056 : INFO : PROGRESS: pass 3, at document #3204/3204\n",
      "2022-02-25 09:05:52,766 : INFO : optimized alpha [0.010656171, 0.010752827, 0.010127212, 0.010697269, 0.01069613, 0.010235711, 0.01022918, 0.010165208, 0.010906867, 0.00969346, 0.0107997265, 0.010059341, 0.010122721, 0.010207121, 0.010355932, 0.010369828, 0.009874601, 0.010260712, 0.0102641955, 0.011115489, 0.013914107, 0.011284309, 0.010139204, 0.010336031, 0.00999293, 0.01042663, 0.011147329, 0.010717457, 0.011038804, 0.01040957, 0.010624016, 0.010409188, 0.010117107, 0.010511274, 0.010148829, 0.01053481, 0.010654679, 0.010290501, 0.010455675, 0.010197176, 0.010261669, 0.010287818, 0.010110001, 0.010839764, 0.01091814, 0.010631963, 0.010334877, 0.009968432, 0.010598029, 0.009759118, 0.010024072, 0.01011414, 0.0112483185, 0.010235624, 0.010355177, 0.010347218, 0.010513418, 0.010728706, 0.010297126, 0.01011213, 0.010697288, 0.009855114, 0.011506224, 0.009976231, 0.010086306, 0.010472546, 0.011279121, 0.010542516, 0.010349112, 0.009833284, 0.010180369, 0.010324499, 0.010339895, 0.009796241, 0.008677064, 0.010842146, 0.0102109555, 0.011221528, 0.009884708, 0.010097965, 0.010941355, 0.010495412, 0.011476702, 0.010097286, 0.010362635, 0.010436883, 0.010284749, 0.010763026, 0.010941919, 0.010230154, 0.01017704, 0.010333406, 0.010423952, 0.010332055, 0.009801879, 0.010985727, 0.010539286, 0.00998974, 0.010474829, 0.010148197]\n",
      "2022-02-25 09:05:52,772 : INFO : merging changes from 1204 documents into a model of 3204 documents\n",
      "2022-02-25 09:05:52,781 : INFO : topic #74 (0.009): 0.001*\"implic\" + 0.001*\"favor\" + 0.001*\"adapt\" + 0.001*\"polygon\" + 0.001*\"stage\" + 0.001*\"situat\" + 0.001*\"respons\" + 0.001*\"industri\" + 0.001*\"regress\" + 0.001*\"drive\"\n",
      "2022-02-25 09:05:52,782 : INFO : topic #9 (0.010): 0.058*\"-\" + 0.051*\"'\" + 0.041*\"methodolog\" + 0.037*\"algorithm\" + 0.035*\"modif\" + 0.034*\"copi\" + 0.033*\",\" + 0.032*\"time\" + 0.026*\"paper\" + 0.024*\"problem\"\n",
      "2022-02-25 09:05:52,783 : INFO : topic #82 (0.011): 0.095*\"set\" + 0.085*\"order\" + 0.061*\"algorithm\" + 0.060*\"curv\" + 0.055*\"find\" + 0.048*\"function\" + 0.039*\"method\" + 0.034*\"end\" + 0.031*\"integ\" + 0.030*\"minimum\"\n",
      "2022-02-25 09:05:52,783 : INFO : topic #62 (0.012): 0.056*\",\" + 0.050*\"perform\" + 0.050*\"system\" + 0.047*\"schedul\" + 0.031*\"multiprogram\" + 0.030*\"execut\" + 0.029*\"time\" + 0.027*\"measur\" + 0.026*\"implement\" + 0.025*\"page\"\n",
      "2022-02-25 09:05:52,784 : INFO : topic #20 (0.014): 0.318*\"(\" + 0.301*\")\" + 0.250*\"algorithm\" + 0.016*\"function\" + 0.014*\"minim\" + 0.011*\"forward\" + 0.011*\"find\" + 0.010*\"interpol\" + 0.009*\",\" + 0.007*\"differ\"\n",
      "2022-02-25 09:05:52,784 : INFO : topic diff=0.650799, rho=0.422502\n",
      "2022-02-25 09:05:52,792 : INFO : PROGRESS: pass 4, at document #2000/3204\n",
      "2022-02-25 09:05:53,565 : INFO : optimized alpha [0.010609449, 0.010777625, 0.010129098, 0.010948021, 0.01065477, 0.010290103, 0.010289666, 0.010142638, 0.011052483, 0.009638775, 0.011028579, 0.010150113, 0.010102106, 0.010296143, 0.010329319, 0.0103871245, 0.009910352, 0.010227881, 0.010355155, 0.011262621, 0.015122329, 0.011243977, 0.010215217, 0.010366664, 0.00996292, 0.01039614, 0.011120942, 0.010805857, 0.011080751, 0.010464704, 0.010602108, 0.010628683, 0.010120693, 0.010471121, 0.010124558, 0.010548221, 0.01076765, 0.010223169, 0.010518464, 0.010204207, 0.010215841, 0.01030491, 0.010160518, 0.010907228, 0.011321282, 0.010679749, 0.010334166, 0.009940009, 0.010695509, 0.009852856, 0.010010747, 0.010145215, 0.01131599, 0.010233279, 0.010513689, 0.010363582, 0.010477621, 0.010833471, 0.010377286, 0.010158472, 0.0108159995, 0.009822625, 0.01153565, 0.00991092, 0.010064372, 0.010647968, 0.0113304425, 0.010524768, 0.010351312, 0.009819286, 0.010147757, 0.01030764, 0.010349818, 0.009747482, 0.008588616, 0.010792624, 0.010247121, 0.0112828, 0.009877143, 0.010113725, 0.010995269, 0.010674956, 0.011620205, 0.010068832, 0.010402613, 0.010534063, 0.0102783125, 0.010830441, 0.011130118, 0.0102517335, 0.010192289, 0.010267542, 0.010343952, 0.010363374, 0.009837138, 0.010979116, 0.010509842, 0.0100163, 0.01050426, 0.010229029]\n",
      "2022-02-25 09:05:53,571 : INFO : merging changes from 2000 documents into a model of 3204 documents\n",
      "2022-02-25 09:05:53,581 : INFO : topic #74 (0.009): 0.001*\"implic\" + 0.001*\"favor\" + 0.001*\"adapt\" + 0.001*\"polygon\" + 0.001*\"stage\" + 0.001*\"situat\" + 0.001*\"respons\" + 0.001*\"industri\" + 0.001*\"regress\" + 0.001*\"drive\"\n"
     ]
    },
    {
     "name": "stderr",
     "output_type": "stream",
     "text": [
      "2022-02-25 09:05:53,582 : INFO : topic #9 (0.010): 0.059*\"-\" + 0.049*\"'\" + 0.035*\"modif\" + 0.034*\"algorithm\" + 0.032*\"methodolog\" + 0.031*\",\" + 0.030*\"time\" + 0.027*\"copi\" + 0.026*\"techniqu\" + 0.025*\"paper\"\n",
      "2022-02-25 09:05:53,582 : INFO : topic #62 (0.012): 0.056*\",\" + 0.051*\"system\" + 0.051*\"schedul\" + 0.046*\"perform\" + 0.035*\"multiprogram\" + 0.031*\"execut\" + 0.028*\"time\" + 0.025*\"page\" + 0.025*\"measur\" + 0.024*\"implement\"\n",
      "2022-02-25 09:05:53,583 : INFO : topic #82 (0.012): 0.094*\"set\" + 0.078*\"order\" + 0.068*\"curv\" + 0.055*\"find\" + 0.055*\"algorithm\" + 0.050*\"function\" + 0.043*\"method\" + 0.034*\"integ\" + 0.033*\"fit\" + 0.032*\"posit\"\n",
      "2022-02-25 09:05:53,584 : INFO : topic #20 (0.015): 0.326*\"(\" + 0.315*\")\" + 0.245*\"algorithm\" + 0.016*\"function\" + 0.011*\"minim\" + 0.011*\"interpol\" + 0.008*\"find\" + 0.008*\"forward\" + 0.007*\",\" + 0.007*\"differ\"\n",
      "2022-02-25 09:05:53,585 : INFO : topic diff=0.629421, rho=0.389191\n",
      "2022-02-25 09:05:54,408 : INFO : -6.637 per-word bound, 99.5 perplexity estimate based on a held-out corpus of 1204 documents with 49783 words\n",
      "2022-02-25 09:05:54,409 : INFO : PROGRESS: pass 4, at document #3204/3204\n",
      "2022-02-25 09:05:55,097 : INFO : optimized alpha [0.010836578, 0.010907562, 0.010242504, 0.0110132685, 0.010884508, 0.010419628, 0.010466319, 0.010289314, 0.011450389, 0.009690164, 0.011212568, 0.010215428, 0.0102145625, 0.010409003, 0.01038561, 0.010564474, 0.009952787, 0.010370233, 0.0104738, 0.011676092, 0.016060311, 0.011597071, 0.010279, 0.010504305, 0.010051051, 0.010540908, 0.011433421, 0.010978583, 0.01129327, 0.010599777, 0.010803891, 0.010729284, 0.010263929, 0.01060531, 0.010238808, 0.010767463, 0.010931351, 0.010406853, 0.0107318675, 0.010317694, 0.010304325, 0.01054089, 0.010264905, 0.011131375, 0.011264154, 0.010906152, 0.010402912, 0.010042988, 0.010839873, 0.009921051, 0.010202706, 0.0103016505, 0.011547868, 0.010401588, 0.010619949, 0.010508413, 0.010618516, 0.010973271, 0.010539851, 0.010323617, 0.011032734, 0.009856728, 0.011915229, 0.009992125, 0.010174851, 0.010826373, 0.011645058, 0.010710092, 0.010510095, 0.009846632, 0.010248727, 0.010418289, 0.010477141, 0.009822821, 0.008480965, 0.011018225, 0.010425654, 0.011442992, 0.009945643, 0.0102540795, 0.0112340525, 0.010777173, 0.011934479, 0.010177932, 0.010518451, 0.010739732, 0.010433654, 0.011116557, 0.011263926, 0.010419711, 0.010332898, 0.010411125, 0.010521257, 0.010522194, 0.0098214885, 0.011195198, 0.010658413, 0.010077673, 0.010731093, 0.0103084715]\n",
      "2022-02-25 09:05:55,103 : INFO : merging changes from 1204 documents into a model of 3204 documents\n",
      "2022-02-25 09:05:55,112 : INFO : topic #74 (0.008): 0.001*\"implic\" + 0.001*\"favor\" + 0.001*\"adapt\" + 0.001*\"polygon\" + 0.001*\"stage\" + 0.001*\"situat\" + 0.001*\"respons\" + 0.001*\"industri\" + 0.001*\"regress\" + 0.001*\"drive\"\n",
      "2022-02-25 09:05:55,112 : INFO : topic #9 (0.010): 0.058*\"-\" + 0.053*\"'\" + 0.043*\"methodolog\" + 0.041*\"modif\" + 0.040*\"algorithm\" + 0.034*\"copi\" + 0.032*\"time\" + 0.031*\",\" + 0.029*\"paper\" + 0.028*\"techniqu\"\n",
      "2022-02-25 09:05:55,113 : INFO : topic #62 (0.012): 0.054*\",\" + 0.052*\"perform\" + 0.049*\"schedul\" + 0.048*\"system\" + 0.034*\"multiprogram\" + 0.034*\"execut\" + 0.032*\"time\" + 0.028*\"measur\" + 0.027*\"implement\" + 0.024*\"page\"\n",
      "2022-02-25 09:05:55,113 : INFO : topic #82 (0.012): 0.104*\"set\" + 0.089*\"order\" + 0.061*\"curv\" + 0.060*\"find\" + 0.055*\"algorithm\" + 0.050*\"function\" + 0.038*\"method\" + 0.034*\"end\" + 0.033*\"integ\" + 0.031*\"minimum\"\n",
      "2022-02-25 09:05:55,114 : INFO : topic #20 (0.016): 0.335*\"(\" + 0.317*\")\" + 0.242*\"algorithm\" + 0.015*\"function\" + 0.012*\"minim\" + 0.010*\"forward\" + 0.009*\"interpol\" + 0.009*\"find\" + 0.007*\"differ\" + 0.006*\",\"\n",
      "2022-02-25 09:05:55,115 : INFO : topic diff=0.691009, rho=0.389191\n",
      "2022-02-25 09:05:55,122 : INFO : PROGRESS: pass 5, at document #2000/3204\n",
      "2022-02-25 09:05:55,860 : INFO : optimized alpha [0.010803503, 0.010918522, 0.010253661, 0.011255195, 0.010848409, 0.010478019, 0.010539902, 0.01029237, 0.011621148, 0.009656269, 0.01144296, 0.010313969, 0.010204817, 0.010515747, 0.010369335, 0.01059169, 0.009999397, 0.010345046, 0.010582067, 0.011825632, 0.017404126, 0.011566697, 0.010356181, 0.010532698, 0.010021617, 0.010516064, 0.011412555, 0.011071294, 0.011350328, 0.010651227, 0.0107884295, 0.010941957, 0.010268889, 0.01057562, 0.010221912, 0.010780911, 0.011049677, 0.010347238, 0.010799998, 0.010331856, 0.010271684, 0.010576836, 0.010317807, 0.011210221, 0.011680105, 0.010963989, 0.010414193, 0.010022167, 0.010941229, 0.010009296, 0.01020055, 0.01033974, 0.011606245, 0.010404596, 0.01077559, 0.010531196, 0.010586857, 0.011085843, 0.010616884, 0.010387228, 0.011166314, 0.009831231, 0.011935717, 0.009944927, 0.010152672, 0.011026623, 0.011698019, 0.010696726, 0.010513499, 0.0098363925, 0.010229854, 0.010410254, 0.010490123, 0.009776315, 0.008403076, 0.010972701, 0.010466589, 0.011517092, 0.00995353, 0.010290992, 0.011287669, 0.010958786, 0.012078153, 0.010155241, 0.010567411, 0.010840493, 0.010438607, 0.011223443, 0.011450354, 0.010469736, 0.010358285, 0.010353485, 0.010450047, 0.010564476, 0.009860662, 0.011191945, 0.010628734, 0.010110309, 0.0107654845, 0.0103995865]\n",
      "2022-02-25 09:05:55,867 : INFO : merging changes from 2000 documents into a model of 3204 documents\n",
      "2022-02-25 09:05:55,876 : INFO : topic #74 (0.008): 0.001*\"implic\" + 0.001*\"favor\" + 0.001*\"adapt\" + 0.001*\"polygon\" + 0.001*\"stage\" + 0.001*\"situat\" + 0.001*\"respons\" + 0.001*\"industri\" + 0.001*\"regress\" + 0.001*\"drive\"\n",
      "2022-02-25 09:05:55,877 : INFO : topic #9 (0.010): 0.059*\"-\" + 0.051*\"'\" + 0.044*\"modif\" + 0.037*\"algorithm\" + 0.036*\"methodolog\" + 0.031*\"time\" + 0.030*\",\" + 0.029*\"techniqu\" + 0.028*\"copi\" + 0.027*\"paper\"\n",
      "2022-02-25 09:05:55,878 : INFO : topic #62 (0.012): 0.053*\"schedul\" + 0.053*\",\" + 0.049*\"system\" + 0.049*\"perform\" + 0.038*\"multiprogram\" + 0.034*\"execut\" + 0.031*\"time\" + 0.027*\"measur\" + 0.026*\"implement\" + 0.024*\"program\"\n",
      "2022-02-25 09:05:55,878 : INFO : topic #82 (0.012): 0.103*\"set\" + 0.084*\"order\" + 0.068*\"curv\" + 0.059*\"find\" + 0.051*\"algorithm\" + 0.051*\"function\" + 0.040*\"method\" + 0.036*\"integ\" + 0.033*\"boolean\" + 0.032*\"posit\"\n",
      "2022-02-25 09:05:55,879 : INFO : topic #20 (0.017): 0.340*\"(\" + 0.328*\")\" + 0.238*\"algorithm\" + 0.015*\"function\" + 0.010*\"interpol\" + 0.010*\"minim\" + 0.008*\"forward\" + 0.007*\"find\" + 0.007*\"differ\" + 0.005*\"e4\"\n",
      "2022-02-25 09:05:55,880 : INFO : topic diff=0.630234, rho=0.362690\n",
      "2022-02-25 09:05:56,667 : INFO : -6.595 per-word bound, 96.7 perplexity estimate based on a held-out corpus of 1204 documents with 49783 words\n",
      "2022-02-25 09:05:56,668 : INFO : PROGRESS: pass 5, at document #3204/3204\n",
      "2022-02-25 09:05:57,329 : INFO : optimized alpha [0.011017716, 0.011060551, 0.010357132, 0.01130418, 0.0110552395, 0.010609155, 0.010716127, 0.0104459105, 0.012046593, 0.009716978, 0.011633494, 0.010374998, 0.010319888, 0.010634285, 0.010425887, 0.010758541, 0.010057529, 0.010481954, 0.010715654, 0.012241382, 0.018503867, 0.011915911, 0.010425471, 0.01066206, 0.010116965, 0.010639391, 0.011712301, 0.011240636, 0.011536791, 0.010787751, 0.010978579, 0.011055165, 0.010412982, 0.010708234, 0.010351251, 0.011001021, 0.01122047, 0.010535942, 0.011034387, 0.010438452, 0.010377132, 0.010816397, 0.0104312515, 0.011438998, 0.011628246, 0.011191288, 0.01049493, 0.010140317, 0.011093262, 0.0100821955, 0.010397052, 0.010511957, 0.011828782, 0.010572641, 0.0108715, 0.010683654, 0.010716094, 0.011233965, 0.010773024, 0.010561539, 0.011367808, 0.009876103, 0.012312048, 0.010018509, 0.010238134, 0.011191548, 0.012004019, 0.010881086, 0.010659756, 0.009868834, 0.010346609, 0.010530154, 0.010609813, 0.0098446105, 0.008307918, 0.011181917, 0.010675788, 0.011663895, 0.010045276, 0.010435494, 0.011492619, 0.0110571515, 0.012406193, 0.010257931, 0.01068905, 0.011038109, 0.010591139, 0.0115297185, 0.011571803, 0.010646858, 0.010493601, 0.010497937, 0.0106166545, 0.010717065, 0.009852828, 0.0113717085, 0.010784744, 0.01017716, 0.011002599, 0.010486447]\n",
      "2022-02-25 09:05:57,336 : INFO : merging changes from 1204 documents into a model of 3204 documents\n",
      "2022-02-25 09:05:57,345 : INFO : topic #74 (0.008): 0.001*\"implic\" + 0.001*\"favor\" + 0.001*\"adapt\" + 0.001*\"polygon\" + 0.001*\"stage\" + 0.001*\"situat\" + 0.001*\"respons\" + 0.001*\"industri\" + 0.001*\"regress\" + 0.001*\"drive\"\n"
     ]
    },
    {
     "name": "stderr",
     "output_type": "stream",
     "text": [
      "2022-02-25 09:05:57,346 : INFO : topic #9 (0.010): 0.060*\"'\" + 0.058*\"-\" + 0.048*\"modif\" + 0.045*\"methodolog\" + 0.042*\"algorithm\" + 0.034*\"copi\" + 0.032*\"time\" + 0.031*\"paper\" + 0.031*\"techniqu\" + 0.029*\",\"\n",
      "2022-02-25 09:05:57,346 : INFO : topic #62 (0.012): 0.053*\"perform\" + 0.051*\",\" + 0.051*\"schedul\" + 0.046*\"system\" + 0.036*\"execut\" + 0.036*\"multiprogram\" + 0.035*\"time\" + 0.030*\"measur\" + 0.028*\"implement\" + 0.023*\"page\"\n",
      "2022-02-25 09:05:57,347 : INFO : topic #82 (0.012): 0.109*\"set\" + 0.097*\"order\" + 0.064*\"find\" + 0.061*\"curv\" + 0.053*\"function\" + 0.051*\"algorithm\" + 0.035*\"method\" + 0.034*\"integ\" + 0.033*\"end\" + 0.031*\"minimum\"\n",
      "2022-02-25 09:05:57,348 : INFO : topic #20 (0.019): 0.348*\"(\" + 0.330*\")\" + 0.231*\"algorithm\" + 0.014*\"function\" + 0.011*\"minim\" + 0.009*\"forward\" + 0.009*\"interpol\" + 0.007*\"find\" + 0.006*\"differ\" + 0.005*\"-\"\n",
      "2022-02-25 09:05:57,349 : INFO : topic diff=0.653800, rho=0.362690\n",
      "2022-02-25 09:05:57,356 : INFO : PROGRESS: pass 6, at document #2000/3204\n",
      "2022-02-25 09:05:58,097 : INFO : optimized alpha [0.010987336, 0.011072494, 0.010373015, 0.011524031, 0.011020248, 0.010666134, 0.010785564, 0.01044844, 0.012222477, 0.009692504, 0.011866824, 0.010474034, 0.010316059, 0.010755771, 0.0104185445, 0.0107856495, 0.010131173, 0.01046701, 0.010814936, 0.012398248, 0.019981517, 0.011892522, 0.010506001, 0.010694207, 0.010103512, 0.010621522, 0.011692546, 0.011328351, 0.011598146, 0.010843657, 0.010978548, 0.011266606, 0.0104226945, 0.010682121, 0.010349516, 0.011018299, 0.011334867, 0.010488082, 0.011124748, 0.010448131, 0.010348431, 0.010851259, 0.010490145, 0.011523015, 0.012029537, 0.011266398, 0.010509617, 0.010124203, 0.011187424, 0.010179824, 0.010406726, 0.010556531, 0.011885203, 0.010585905, 0.011025465, 0.010708611, 0.010691879, 0.011346776, 0.010844004, 0.010639523, 0.011510265, 0.009859732, 0.012324592, 0.009981698, 0.010226524, 0.011403077, 0.012069318, 0.010871528, 0.010669885, 0.009868591, 0.01033063, 0.01053527, 0.010632932, 0.009804967, 0.0082384385, 0.011151489, 0.010730172, 0.011736009, 0.010054628, 0.010475537, 0.011546686, 0.011238212, 0.012553039, 0.010238503, 0.010738949, 0.011150545, 0.010615444, 0.011674321, 0.011755946, 0.01071024, 0.010520983, 0.010445352, 0.010552952, 0.010765957, 0.009897336, 0.0113681, 0.010771308, 0.0102118, 0.011045415, 0.010585629]\n",
      "2022-02-25 09:05:58,102 : INFO : merging changes from 2000 documents into a model of 3204 documents\n",
      "2022-02-25 09:05:58,112 : INFO : topic #74 (0.008): 0.001*\"implic\" + 0.001*\"favor\" + 0.001*\"adapt\" + 0.001*\"polygon\" + 0.001*\"stage\" + 0.001*\"situat\" + 0.001*\"respons\" + 0.001*\"industri\" + 0.001*\"regress\" + 0.001*\"drive\"\n",
      "2022-02-25 09:05:58,112 : INFO : topic #9 (0.010): 0.059*\"-\" + 0.057*\"'\" + 0.052*\"modif\" + 0.039*\"algorithm\" + 0.038*\"methodolog\" + 0.032*\"techniqu\" + 0.031*\"time\" + 0.029*\"paper\" + 0.029*\",\" + 0.028*\"copi\"\n",
      "2022-02-25 09:05:58,113 : INFO : topic #19 (0.012): 0.361*\"structur\" + 0.329*\"data\" + 0.045*\"map\" + 0.042*\"definit\" + 0.035*\"design\" + 0.027*\"function\" + 0.027*\"storag\" + 0.022*\"review\" + 0.014*\"fact\" + 0.013*\"present\"\n",
      "2022-02-25 09:05:58,114 : INFO : topic #82 (0.013): 0.111*\"set\" + 0.091*\"order\" + 0.067*\"curv\" + 0.063*\"find\" + 0.055*\"function\" + 0.046*\"algorithm\" + 0.037*\"integ\" + 0.035*\"method\" + 0.034*\"boolean\" + 0.032*\"minimum\"\n",
      "2022-02-25 09:05:58,115 : INFO : topic #20 (0.020): 0.350*\"(\" + 0.337*\")\" + 0.229*\"algorithm\" + 0.014*\"function\" + 0.009*\"interpol\" + 0.009*\"minim\" + 0.007*\"forward\" + 0.006*\"differ\" + 0.006*\"find\" + 0.005*\"e4\"\n",
      "2022-02-25 09:05:58,115 : INFO : topic diff=0.577700, rho=0.340958\n",
      "2022-02-25 09:05:58,915 : INFO : -6.563 per-word bound, 94.6 perplexity estimate based on a held-out corpus of 1204 documents with 49783 words\n",
      "2022-02-25 09:05:58,916 : INFO : PROGRESS: pass 6, at document #3204/3204\n",
      "2022-02-25 09:05:59,597 : INFO : optimized alpha [0.011197276, 0.0112135, 0.010477013, 0.011568696, 0.01121361, 0.010787426, 0.010946956, 0.010612085, 0.01268814, 0.009761519, 0.012058224, 0.010531512, 0.010428252, 0.010898696, 0.010475564, 0.010962653, 0.010200443, 0.010608644, 0.010956915, 0.01281898, 0.02113219, 0.012230428, 0.010562284, 0.010822877, 0.010205638, 0.010738576, 0.011972119, 0.0114795165, 0.011778534, 0.010988406, 0.011178328, 0.011373054, 0.010565461, 0.010823178, 0.010478271, 0.011234197, 0.011487425, 0.010676405, 0.011361288, 0.010552164, 0.010445537, 0.0110954335, 0.010597545, 0.011751118, 0.01198946, 0.011492937, 0.010595459, 0.010244957, 0.011328321, 0.010260217, 0.010599663, 0.010726387, 0.012097117, 0.010766886, 0.011115697, 0.010856408, 0.010811412, 0.01148389, 0.010986141, 0.0108264685, 0.011698808, 0.009914118, 0.0126929125, 0.010060358, 0.010307641, 0.011579297, 0.01237636, 0.011056076, 0.010811693, 0.009905524, 0.010470937, 0.010660968, 0.01075857, 0.009872834, 0.008153243, 0.011356674, 0.010945004, 0.0118681155, 0.010158904, 0.010624641, 0.011731511, 0.011336833, 0.012871647, 0.01033594, 0.01085722, 0.011335625, 0.010769377, 0.011992502, 0.011880358, 0.010909086, 0.010664533, 0.010600286, 0.010723005, 0.010910783, 0.009901899, 0.011545208, 0.010903964, 0.010289751, 0.011290619, 0.010685728]\n",
      "2022-02-25 09:05:59,602 : INFO : merging changes from 1204 documents into a model of 3204 documents\n",
      "2022-02-25 09:05:59,612 : INFO : topic #74 (0.008): 0.001*\"implic\" + 0.001*\"favor\" + 0.001*\"adapt\" + 0.001*\"polygon\" + 0.001*\"stage\" + 0.001*\"situat\" + 0.001*\"respons\" + 0.001*\"industri\" + 0.001*\"regress\" + 0.001*\"drive\"\n",
      "2022-02-25 09:05:59,612 : INFO : topic #9 (0.010): 0.064*\"'\" + 0.058*\"-\" + 0.053*\"modif\" + 0.045*\"methodolog\" + 0.044*\"algorithm\" + 0.033*\"copi\" + 0.033*\"techniqu\" + 0.033*\"paper\" + 0.031*\"time\" + 0.028*\",\"\n",
      "2022-02-25 09:05:59,613 : INFO : topic #19 (0.013): 0.371*\"structur\" + 0.342*\"data\" + 0.042*\"definit\" + 0.041*\"map\" + 0.036*\"design\" + 0.027*\"function\" + 0.024*\"storag\" + 0.019*\"review\" + 0.013*\"fact\" + 0.012*\"present\"\n",
      "2022-02-25 09:05:59,613 : INFO : topic #82 (0.013): 0.116*\"set\" + 0.104*\"order\" + 0.067*\"find\" + 0.062*\"curv\" + 0.054*\"function\" + 0.045*\"algorithm\" + 0.035*\"integ\" + 0.033*\"end\" + 0.031*\"method\" + 0.030*\"constraint\"\n",
      "2022-02-25 09:05:59,614 : INFO : topic #20 (0.021): 0.359*\"(\" + 0.340*\")\" + 0.221*\"algorithm\" + 0.014*\"function\" + 0.010*\"minim\" + 0.009*\"forward\" + 0.008*\"interpol\" + 0.006*\"differ\" + 0.006*\"find\" + 0.005*\"-\"\n",
      "2022-02-25 09:05:59,614 : INFO : topic diff=0.585294, rho=0.340958\n",
      "2022-02-25 09:05:59,622 : INFO : PROGRESS: pass 7, at document #2000/3204\n",
      "2022-02-25 09:06:00,373 : INFO : optimized alpha [0.011169279, 0.011228266, 0.010493861, 0.011779926, 0.011190566, 0.010841753, 0.011013008, 0.010626063, 0.012878075, 0.009748398, 0.012289861, 0.010634857, 0.010424667, 0.011048716, 0.01047096, 0.011004077, 0.010287414, 0.010606349, 0.011058895, 0.012992138, 0.022757772, 0.0122076515, 0.010641043, 0.0108568445, 0.010194654, 0.010719953, 0.01196115, 0.011557496, 0.011848165, 0.011048647, 0.011184834, 0.011569606, 0.010572755, 0.010798214, 0.010479944, 0.011248026, 0.011609915, 0.010637156, 0.011458411, 0.010564929, 0.010415199, 0.0111384, 0.010653654, 0.011838461, 0.012388528, 0.01156974, 0.010613182, 0.010236264, 0.011414524, 0.010363525, 0.01061504, 0.010773737, 0.012148284, 0.010786045, 0.011265299, 0.010887039, 0.010788538, 0.011589814, 0.011062696, 0.010905904, 0.011839201, 0.009905597, 0.012714815, 0.010037584, 0.010300359, 0.011787621, 0.012435406, 0.011048196, 0.010824636, 0.009909118, 0.010467445, 0.0106778685, 0.01078926, 0.009844011, 0.008090588, 0.011323293, 0.010994539, 0.011958304, 0.010176097, 0.010667676, 0.011786291, 0.011518217, 0.013009797, 0.010317781, 0.010911829, 0.011441254, 0.010802731, 0.012156574, 0.0120650465, 0.010986724, 0.010697314, 0.0105485, 0.010672698, 0.010958966, 0.009946381, 0.011535533, 0.010894827, 0.010341279, 0.011330577, 0.010789285]\n",
      "2022-02-25 09:06:00,380 : INFO : merging changes from 2000 documents into a model of 3204 documents\n",
      "2022-02-25 09:06:00,391 : INFO : topic #74 (0.008): 0.001*\"implic\" + 0.001*\"favor\" + 0.001*\"adapt\" + 0.001*\"polygon\" + 0.001*\"stage\" + 0.001*\"situat\" + 0.001*\"respons\" + 0.001*\"industri\" + 0.001*\"regress\" + 0.001*\"drive\"\n",
      "2022-02-25 09:06:00,391 : INFO : topic #9 (0.010): 0.063*\"'\" + 0.059*\"-\" + 0.057*\"modif\" + 0.042*\"algorithm\" + 0.040*\"methodolog\" + 0.034*\"techniqu\" + 0.032*\"paper\" + 0.030*\"time\" + 0.028*\"copi\" + 0.028*\",\"\n"
     ]
    },
    {
     "name": "stderr",
     "output_type": "stream",
     "text": [
      "2022-02-25 09:06:00,392 : INFO : topic #19 (0.013): 0.364*\"structur\" + 0.350*\"data\" + 0.042*\"map\" + 0.041*\"definit\" + 0.034*\"design\" + 0.026*\"function\" + 0.024*\"storag\" + 0.020*\"review\" + 0.012*\"fact\" + 0.012*\"present\"\n",
      "2022-02-25 09:06:00,393 : INFO : topic #82 (0.013): 0.118*\"set\" + 0.098*\"order\" + 0.067*\"curv\" + 0.065*\"find\" + 0.055*\"function\" + 0.042*\"algorithm\" + 0.038*\"integ\" + 0.034*\"boolean\" + 0.031*\"constraint\" + 0.031*\"minimum\"\n",
      "2022-02-25 09:06:00,393 : INFO : topic #20 (0.023): 0.359*\"(\" + 0.345*\")\" + 0.221*\"algorithm\" + 0.014*\"function\" + 0.009*\"interpol\" + 0.008*\"minim\" + 0.007*\"forward\" + 0.006*\"differ\" + 0.005*\"e4\" + 0.005*\"-\"\n",
      "2022-02-25 09:06:00,394 : INFO : topic diff=0.510043, rho=0.322715\n",
      "2022-02-25 09:06:01,207 : INFO : -6.541 per-word bound, 93.1 perplexity estimate based on a held-out corpus of 1204 documents with 49783 words\n",
      "2022-02-25 09:06:01,207 : INFO : PROGRESS: pass 7, at document #3204/3204\n",
      "2022-02-25 09:06:01,921 : INFO : optimized alpha [0.011376443, 0.011368846, 0.010593109, 0.011824184, 0.011372533, 0.010951528, 0.011161477, 0.010782642, 0.01337284, 0.009832982, 0.012469833, 0.010695062, 0.010540311, 0.011200264, 0.010531422, 0.011179439, 0.010375465, 0.010756052, 0.011206347, 0.013430564, 0.024016846, 0.012543158, 0.0107147265, 0.010976836, 0.010300644, 0.010834705, 0.012239482, 0.011708082, 0.012023758, 0.01119284, 0.011376184, 0.011660868, 0.010717781, 0.010941856, 0.010617248, 0.011461128, 0.011758768, 0.010823084, 0.011698497, 0.010672846, 0.0105107855, 0.011388264, 0.010753139, 0.0120670935, 0.012345948, 0.011799787, 0.010695266, 0.010362656, 0.011548905, 0.010451121, 0.010808513, 0.010947978, 0.0123545695, 0.01097407, 0.011347757, 0.011028322, 0.010902717, 0.011711133, 0.011207447, 0.01109973, 0.012019643, 0.009952406, 0.013046479, 0.010120972, 0.010383421, 0.011959539, 0.012768736, 0.01122478, 0.010960113, 0.009950102, 0.010615865, 0.010809502, 0.010915066, 0.009919791, 0.008013528, 0.011535025, 0.011218519, 0.012090776, 0.01028119, 0.010816041, 0.011959728, 0.011611541, 0.013306847, 0.010408107, 0.011021729, 0.011630694, 0.010949945, 0.012504367, 0.0121734515, 0.011198207, 0.010849004, 0.010705156, 0.010846594, 0.011100373, 0.009964651, 0.011701642, 0.0110155, 0.010426719, 0.011572264, 0.010896334]\n",
      "2022-02-25 09:06:01,929 : INFO : merging changes from 1204 documents into a model of 3204 documents\n",
      "2022-02-25 09:06:01,938 : INFO : topic #74 (0.008): 0.001*\"implic\" + 0.001*\"favor\" + 0.001*\"adapt\" + 0.001*\"polygon\" + 0.001*\"stage\" + 0.001*\"situat\" + 0.001*\"respons\" + 0.001*\"industri\" + 0.001*\"regress\" + 0.001*\"drive\"\n",
      "2022-02-25 09:06:01,939 : INFO : topic #9 (0.010): 0.068*\"'\" + 0.058*\"-\" + 0.057*\"modif\" + 0.046*\"algorithm\" + 0.045*\"methodolog\" + 0.035*\"techniqu\" + 0.035*\"paper\" + 0.033*\"copi\" + 0.030*\"cover\" + 0.029*\"time\"\n",
      "2022-02-25 09:06:01,940 : INFO : topic #8 (0.013): 0.390*\"problem\" + 0.132*\"solut\" + 0.053*\"variabl\" + 0.036*\"method\" + 0.036*\"nonlinear\" + 0.035*\"-\" + 0.030*\"d1\" + 0.027*\"present\" + 0.026*\"theori\" + 0.023*\"appli\"\n",
      "2022-02-25 09:06:01,940 : INFO : topic #19 (0.013): 0.372*\"structur\" + 0.359*\"data\" + 0.041*\"definit\" + 0.039*\"map\" + 0.035*\"design\" + 0.027*\"function\" + 0.022*\"storag\" + 0.018*\"review\" + 0.012*\"fact\" + 0.011*\"present\"\n",
      "2022-02-25 09:06:01,941 : INFO : topic #20 (0.024): 0.367*\"(\" + 0.348*\")\" + 0.213*\"algorithm\" + 0.013*\"function\" + 0.010*\"minim\" + 0.008*\"forward\" + 0.008*\"interpol\" + 0.005*\"differ\" + 0.005*\"-\" + 0.005*\"find\"\n",
      "2022-02-25 09:06:01,942 : INFO : topic diff=0.513097, rho=0.322715\n",
      "2022-02-25 09:06:01,949 : INFO : PROGRESS: pass 8, at document #2000/3204\n",
      "2022-02-25 09:06:02,737 : INFO : optimized alpha [0.011355922, 0.011379158, 0.010617521, 0.012029947, 0.011348266, 0.011005226, 0.011231532, 0.010795691, 0.013567606, 0.009823727, 0.012687246, 0.010802842, 0.010538559, 0.011359326, 0.010525891, 0.011227349, 0.01048153, 0.010755211, 0.011300919, 0.01362467, 0.025765263, 0.012526635, 0.010795412, 0.011007625, 0.010295077, 0.010818687, 0.012229291, 0.01178277, 0.012095722, 0.011253828, 0.011388882, 0.011843824, 0.010727768, 0.010921251, 0.010626888, 0.011484155, 0.011893048, 0.010784962, 0.011802433, 0.010691712, 0.010487087, 0.011432085, 0.010810237, 0.01215992, 0.012729239, 0.011883942, 0.010720761, 0.010352719, 0.011631512, 0.0105553605, 0.0108241765, 0.010997969, 0.012404831, 0.011000359, 0.011491992, 0.011057509, 0.010884371, 0.01182196, 0.011285931, 0.011185949, 0.012153081, 0.009947984, 0.01306146, 0.010107429, 0.0103783915, 0.01217112, 0.01283005, 0.011227222, 0.010970603, 0.009960272, 0.010610603, 0.010828917, 0.010942617, 0.009898883, 0.00795655, 0.011507496, 0.011268754, 0.012186767, 0.010305602, 0.010858749, 0.012002616, 0.011781535, 0.013451515, 0.010391146, 0.011069013, 0.0117375245, 0.010991744, 0.012676656, 0.012350126, 0.011282847, 0.010883557, 0.0106637785, 0.010798052, 0.011149818, 0.010022946, 0.011693801, 0.011008535, 0.010479451, 0.011607899, 0.011001126]\n",
      "2022-02-25 09:06:02,743 : INFO : merging changes from 2000 documents into a model of 3204 documents\n",
      "2022-02-25 09:06:02,753 : INFO : topic #74 (0.008): 0.001*\"implic\" + 0.001*\"favor\" + 0.001*\"adapt\" + 0.001*\"polygon\" + 0.001*\"stage\" + 0.001*\"situat\" + 0.001*\"respons\" + 0.001*\"industri\" + 0.001*\"regress\" + 0.001*\"drive\"\n",
      "2022-02-25 09:06:02,753 : INFO : topic #9 (0.010): 0.065*\"'\" + 0.060*\"modif\" + 0.058*\"-\" + 0.044*\"algorithm\" + 0.041*\"methodolog\" + 0.036*\"techniqu\" + 0.034*\"paper\" + 0.028*\"time\" + 0.028*\"copi\" + 0.028*\"cover\"\n",
      "2022-02-25 09:06:02,754 : INFO : topic #8 (0.014): 0.391*\"problem\" + 0.135*\"solut\" + 0.048*\"variabl\" + 0.038*\"nonlinear\" + 0.036*\"-\" + 0.035*\"method\" + 0.032*\"d1\" + 0.027*\"present\" + 0.026*\"theori\" + 0.023*\"appli\"\n",
      "2022-02-25 09:06:02,755 : INFO : topic #19 (0.014): 0.369*\"data\" + 0.364*\"structur\" + 0.039*\"map\" + 0.039*\"definit\" + 0.034*\"design\" + 0.025*\"function\" + 0.022*\"storag\" + 0.019*\"review\" + 0.011*\"present\" + 0.011*\"fact\"\n",
      "2022-02-25 09:06:02,755 : INFO : topic #20 (0.026): 0.366*\"(\" + 0.351*\")\" + 0.214*\"algorithm\" + 0.013*\"function\" + 0.008*\"interpol\" + 0.008*\"minim\" + 0.007*\"forward\" + 0.005*\"differ\" + 0.005*\"-\" + 0.005*\"e4\"\n",
      "2022-02-25 09:06:02,756 : INFO : topic diff=0.444056, rho=0.307119\n",
      "2022-02-25 09:06:03,609 : INFO : -6.521 per-word bound, 91.8 perplexity estimate based on a held-out corpus of 1204 documents with 49783 words\n",
      "2022-02-25 09:06:03,609 : INFO : PROGRESS: pass 8, at document #3204/3204\n",
      "2022-02-25 09:06:04,306 : INFO : optimized alpha [0.011561272, 0.011519925, 0.010715469, 0.012074074, 0.011517247, 0.011099156, 0.011374141, 0.010957432, 0.014076496, 0.009907589, 0.012863402, 0.01087406, 0.010663169, 0.011519921, 0.010603267, 0.011399031, 0.010582017, 0.010896234, 0.011463, 0.014065602, 0.027071277, 0.012854814, 0.010874318, 0.011128394, 0.010412773, 0.010926097, 0.012494797, 0.011933529, 0.012270642, 0.011398087, 0.011573212, 0.011933401, 0.010875446, 0.011070453, 0.010769933, 0.011683673, 0.012032867, 0.010972122, 0.012040663, 0.010795219, 0.010573444, 0.011679633, 0.010908365, 0.012380653, 0.0126713235, 0.012118411, 0.010821707, 0.010479416, 0.011760437, 0.010649992, 0.0110161295, 0.0111714825, 0.012609767, 0.011201426, 0.011570433, 0.01120763, 0.010996679, 0.011935129, 0.011430819, 0.011384342, 0.012335859, 0.009998357, 0.01337229, 0.010198014, 0.010458143, 0.012330281, 0.01315388, 0.011394218, 0.011103522, 0.010007541, 0.010764124, 0.010955397, 0.01107457, 0.009979443, 0.007886256, 0.011717138, 0.011499534, 0.012323349, 0.010411731, 0.011006968, 0.012169284, 0.011864232, 0.013749473, 0.010477897, 0.011185771, 0.011929024, 0.011138917, 0.013042681, 0.012450255, 0.0115073025, 0.011018135, 0.0108171115, 0.010976315, 0.011294176, 0.010058593, 0.011853011, 0.011124421, 0.010561355, 0.01184447, 0.011109369]\n",
      "2022-02-25 09:06:04,314 : INFO : merging changes from 1204 documents into a model of 3204 documents\n",
      "2022-02-25 09:06:04,323 : INFO : topic #74 (0.008): 0.001*\"implic\" + 0.001*\"favor\" + 0.001*\"adapt\" + 0.001*\"polygon\" + 0.001*\"stage\" + 0.001*\"situat\" + 0.001*\"respons\" + 0.001*\"industri\" + 0.001*\"regress\" + 0.001*\"drive\"\n",
      "2022-02-25 09:06:04,324 : INFO : topic #9 (0.010): 0.066*\"'\" + 0.059*\"modif\" + 0.058*\"-\" + 0.047*\"algorithm\" + 0.045*\"methodolog\" + 0.037*\"techniqu\" + 0.036*\"paper\" + 0.033*\"cover\" + 0.033*\"copi\" + 0.028*\"time\"\n"
     ]
    },
    {
     "name": "stderr",
     "output_type": "stream",
     "text": [
      "2022-02-25 09:06:04,324 : INFO : topic #19 (0.014): 0.374*\"data\" + 0.371*\"structur\" + 0.039*\"definit\" + 0.037*\"map\" + 0.035*\"design\" + 0.025*\"function\" + 0.020*\"storag\" + 0.018*\"review\" + 0.011*\"fact\" + 0.010*\"present\"\n",
      "2022-02-25 09:06:04,325 : INFO : topic #8 (0.014): 0.411*\"problem\" + 0.133*\"solut\" + 0.049*\"variabl\" + 0.036*\"nonlinear\" + 0.034*\"-\" + 0.033*\"method\" + 0.029*\"d1\" + 0.027*\"present\" + 0.025*\"theori\" + 0.023*\"formul\"\n",
      "2022-02-25 09:06:04,325 : INFO : topic #20 (0.027): 0.374*\"(\" + 0.354*\")\" + 0.205*\"algorithm\" + 0.013*\"function\" + 0.009*\"minim\" + 0.008*\"forward\" + 0.008*\"interpol\" + 0.005*\"-\" + 0.005*\"differ\" + 0.004*\"e4\"\n",
      "2022-02-25 09:06:04,326 : INFO : topic diff=0.447541, rho=0.307119\n",
      "2022-02-25 09:06:04,333 : INFO : PROGRESS: pass 9, at document #2000/3204\n",
      "2022-02-25 09:06:05,108 : INFO : optimized alpha [0.011542462, 0.011538137, 0.010731087, 0.012277094, 0.011496982, 0.011150948, 0.011436499, 0.0109711895, 0.014274459, 0.009903377, 0.013080786, 0.010986358, 0.010667689, 0.01168993, 0.010615647, 0.011444904, 0.010695524, 0.010893607, 0.011565943, 0.014264769, 0.028922185, 0.012838707, 0.010953831, 0.011157897, 0.010412038, 0.010914199, 0.012489178, 0.012012375, 0.012348769, 0.011458397, 0.0115988655, 0.012116264, 0.010888025, 0.011053748, 0.010786997, 0.011703492, 0.012166347, 0.010934887, 0.012146193, 0.010810152, 0.010555821, 0.011727854, 0.010961782, 0.012468103, 0.013051262, 0.012197327, 0.010855938, 0.010477521, 0.011838269, 0.010752346, 0.011032183, 0.011219311, 0.012655692, 0.011246056, 0.011710122, 0.0112371985, 0.01097756, 0.012033268, 0.011506405, 0.011469016, 0.012470304, 0.009999046, 0.013386847, 0.010191201, 0.010456669, 0.012536497, 0.013223372, 0.011396173, 0.011118322, 0.010019223, 0.010760356, 0.0109787965, 0.0111041665, 0.009964252, 0.007834068, 0.011696819, 0.011548969, 0.012419595, 0.010435228, 0.011051112, 0.012210175, 0.012030809, 0.01389903, 0.0104634585, 0.011232807, 0.012035591, 0.011192081, 0.013221832, 0.012621507, 0.01160557, 0.011052758, 0.010781963, 0.010930785, 0.0113465395, 0.010129797, 0.011843321, 0.011107831, 0.010610644, 0.011879646, 0.011222122]\n",
      "2022-02-25 09:06:05,114 : INFO : merging changes from 2000 documents into a model of 3204 documents\n",
      "2022-02-25 09:06:05,124 : INFO : topic #74 (0.008): 0.001*\"implic\" + 0.001*\"favor\" + 0.001*\"adapt\" + 0.001*\"polygon\" + 0.001*\"stage\" + 0.001*\"situat\" + 0.001*\"respons\" + 0.001*\"industri\" + 0.001*\"regress\" + 0.001*\"drive\"\n",
      "2022-02-25 09:06:05,124 : INFO : topic #73 (0.010): 0.096*\"program\" + 0.078*\"comput\" + 0.071*\"graphic\" + 0.062*\"move\" + 0.048*\"-\" + 0.041*\"spline\" + 0.041*\"system\" + 0.038*\"interact\" + 0.037*\"redund\" + 0.034*\"norm\"\n",
      "2022-02-25 09:06:05,124 : INFO : topic #19 (0.014): 0.382*\"data\" + 0.364*\"structur\" + 0.038*\"definit\" + 0.037*\"map\" + 0.033*\"design\" + 0.024*\"function\" + 0.020*\"storag\" + 0.018*\"review\" + 0.010*\"present\" + 0.010*\"fact\"\n",
      "2022-02-25 09:06:05,125 : INFO : topic #8 (0.014): 0.411*\"problem\" + 0.136*\"solut\" + 0.045*\"variabl\" + 0.037*\"nonlinear\" + 0.035*\"-\" + 0.031*\"method\" + 0.031*\"d1\" + 0.027*\"present\" + 0.025*\"theori\" + 0.023*\"formul\"\n",
      "2022-02-25 09:06:05,125 : INFO : topic #20 (0.029): 0.373*\"(\" + 0.357*\")\" + 0.207*\"algorithm\" + 0.013*\"function\" + 0.008*\"interpol\" + 0.008*\"minim\" + 0.007*\"forward\" + 0.005*\"differ\" + 0.005*\"-\" + 0.004*\"e4\"\n",
      "2022-02-25 09:06:05,126 : INFO : topic diff=0.386315, rho=0.293585\n",
      "2022-02-25 09:06:05,963 : INFO : -6.503 per-word bound, 90.7 perplexity estimate based on a held-out corpus of 1204 documents with 49783 words\n",
      "2022-02-25 09:06:05,963 : INFO : PROGRESS: pass 9, at document #3204/3204\n",
      "2022-02-25 09:06:06,639 : INFO : optimized alpha [0.011746692, 0.011682405, 0.01082287, 0.012321241, 0.0116629135, 0.011246786, 0.011576846, 0.0111329155, 0.014795331, 0.009989132, 0.013250704, 0.011065522, 0.0107958745, 0.011859861, 0.01068766, 0.011624796, 0.010805291, 0.0110350475, 0.011728251, 0.014719738, 0.0302521, 0.013167021, 0.011032398, 0.011274324, 0.01053332, 0.011023237, 0.012746463, 0.012163608, 0.012517531, 0.011600366, 0.011783014, 0.0121987425, 0.011030595, 0.011200466, 0.010933139, 0.0118966, 0.012307079, 0.01112105, 0.012371561, 0.010915298, 0.0106417965, 0.0119655365, 0.011053532, 0.012678923, 0.012998055, 0.012424984, 0.010966547, 0.010599715, 0.011956625, 0.010851309, 0.011217868, 0.011395304, 0.012850853, 0.011468749, 0.011779388, 0.011387689, 0.011083078, 0.012121092, 0.011649056, 0.01166975, 0.012649872, 0.0100528095, 0.013681942, 0.010291105, 0.010533638, 0.012699175, 0.013551902, 0.011560246, 0.011243798, 0.0100674685, 0.010927271, 0.011111724, 0.011247817, 0.010042033, 0.0077694906, 0.011902572, 0.0117729725, 0.012563374, 0.010545303, 0.011205134, 0.012361979, 0.01210971, 0.014198717, 0.010544638, 0.011336985, 0.012226798, 0.011345171, 0.013610137, 0.01272957, 0.011832215, 0.0111989435, 0.010937917, 0.01110293, 0.011488665, 0.01017155, 0.0119997375, 0.011211207, 0.010686843, 0.01210323, 0.011326345]\n",
      "2022-02-25 09:06:06,645 : INFO : merging changes from 1204 documents into a model of 3204 documents\n",
      "2022-02-25 09:06:06,655 : INFO : topic #74 (0.008): 0.001*\"implic\" + 0.001*\"favor\" + 0.001*\"adapt\" + 0.001*\"polygon\" + 0.001*\"stage\" + 0.001*\"situat\" + 0.001*\"respons\" + 0.001*\"industri\" + 0.001*\"regress\" + 0.001*\"drive\"\n",
      "2022-02-25 09:06:06,655 : INFO : topic #9 (0.010): 0.063*\"'\" + 0.060*\"modif\" + 0.057*\"-\" + 0.047*\"algorithm\" + 0.045*\"methodolog\" + 0.039*\"techniqu\" + 0.039*\"paper\" + 0.035*\"cover\" + 0.032*\"copi\" + 0.027*\"comput\"\n",
      "2022-02-25 09:06:06,656 : INFO : topic #19 (0.015): 0.387*\"data\" + 0.370*\"structur\" + 0.039*\"definit\" + 0.035*\"design\" + 0.033*\"map\" + 0.025*\"function\" + 0.019*\"storag\" + 0.017*\"review\" + 0.010*\"fact\" + 0.010*\"present\"\n",
      "2022-02-25 09:06:06,656 : INFO : topic #8 (0.015): 0.428*\"problem\" + 0.133*\"solut\" + 0.045*\"variabl\" + 0.035*\"nonlinear\" + 0.033*\"-\" + 0.030*\"method\" + 0.029*\"d1\" + 0.027*\"present\" + 0.024*\"theori\" + 0.024*\"formul\"\n",
      "2022-02-25 09:06:06,657 : INFO : topic #20 (0.030): 0.380*\"(\" + 0.359*\")\" + 0.197*\"algorithm\" + 0.013*\"function\" + 0.009*\"minim\" + 0.008*\"forward\" + 0.008*\"interpol\" + 0.005*\"-\" + 0.004*\"differ\" + 0.004*\"e4\"\n",
      "2022-02-25 09:06:06,657 : INFO : topic diff=0.390796, rho=0.293585\n",
      "2022-02-25 09:06:06,665 : INFO : PROGRESS: pass 10, at document #2000/3204\n",
      "2022-02-25 09:06:07,398 : INFO : optimized alpha [0.011731171, 0.011694773, 0.01083806, 0.012520519, 0.011646345, 0.011298445, 0.011641982, 0.011153727, 0.014988494, 0.0099880975, 0.0134612, 0.011176166, 0.010797061, 0.012042608, 0.010707575, 0.011673665, 0.010920213, 0.011038604, 0.01182974, 0.014934849, 0.032208867, 0.01315123, 0.011122063, 0.011304344, 0.010538537, 0.011014966, 0.012734353, 0.012236311, 0.012596534, 0.01166507, 0.011809089, 0.012383752, 0.011047237, 0.011187314, 0.010952509, 0.011911801, 0.01244372, 0.011086088, 0.0124789225, 0.010939112, 0.010626583, 0.012019858, 0.011105201, 0.012766796, 0.013370257, 0.012506228, 0.011002741, 0.01059334, 0.012035339, 0.010953673, 0.011234418, 0.0114460215, 0.012894723, 0.011524332, 0.01191507, 0.01142246, 0.011069579, 0.012209277, 0.011723755, 0.011756489, 0.012780365, 0.010055245, 0.013692506, 0.010290497, 0.010537011, 0.012906128, 0.013608061, 0.011561788, 0.011256441, 0.01008341, 0.010934113, 0.011140562, 0.011277719, 0.010033456, 0.0077214036, 0.011887306, 0.011818478, 0.012665565, 0.010570991, 0.011245939, 0.012406458, 0.012263208, 0.0143475775, 0.0105370255, 0.011376099, 0.01233342, 0.011399615, 0.01381761, 0.012892603, 0.011939079, 0.011235422, 0.010906863, 0.011061825, 0.011540718, 0.0102506485, 0.011995191, 0.011198558, 0.010734605, 0.012143236, 0.011439008]\n",
      "2022-02-25 09:06:07,404 : INFO : merging changes from 2000 documents into a model of 3204 documents\n",
      "2022-02-25 09:06:07,414 : INFO : topic #74 (0.008): 0.001*\"implic\" + 0.001*\"favor\" + 0.001*\"adapt\" + 0.001*\"polygon\" + 0.001*\"stage\" + 0.001*\"situat\" + 0.001*\"respons\" + 0.001*\"industri\" + 0.001*\"regress\" + 0.001*\"drive\"\n",
      "2022-02-25 09:06:07,415 : INFO : topic #9 (0.010): 0.063*\"modif\" + 0.062*\"'\" + 0.057*\"-\" + 0.045*\"algorithm\" + 0.041*\"techniqu\" + 0.041*\"methodolog\" + 0.039*\"paper\" + 0.033*\"cover\" + 0.028*\"copi\" + 0.027*\"comput\"\n",
      "2022-02-25 09:06:07,415 : INFO : topic #19 (0.015): 0.397*\"data\" + 0.362*\"structur\" + 0.037*\"definit\" + 0.033*\"design\" + 0.033*\"map\" + 0.024*\"function\" + 0.019*\"storag\" + 0.018*\"review\" + 0.010*\"present\" + 0.010*\"fact\"\n"
     ]
    },
    {
     "name": "stderr",
     "output_type": "stream",
     "text": [
      "2022-02-25 09:06:07,416 : INFO : topic #8 (0.015): 0.428*\"problem\" + 0.136*\"solut\" + 0.042*\"variabl\" + 0.037*\"nonlinear\" + 0.034*\"-\" + 0.031*\"d1\" + 0.029*\"method\" + 0.027*\"present\" + 0.024*\"theori\" + 0.023*\"formul\"\n",
      "2022-02-25 09:06:07,416 : INFO : topic #20 (0.032): 0.378*\"(\" + 0.361*\")\" + 0.201*\"algorithm\" + 0.013*\"function\" + 0.008*\"interpol\" + 0.008*\"minim\" + 0.007*\"forward\" + 0.005*\"differ\" + 0.004*\"-\" + 0.004*\"e4\"\n",
      "2022-02-25 09:06:07,417 : INFO : topic diff=0.337139, rho=0.281696\n",
      "2022-02-25 09:06:08,209 : INFO : -6.490 per-word bound, 89.9 perplexity estimate based on a held-out corpus of 1204 documents with 49783 words\n",
      "2022-02-25 09:06:08,209 : INFO : PROGRESS: pass 10, at document #3204/3204\n",
      "2022-02-25 09:06:08,896 : INFO : optimized alpha [0.011934931, 0.011842615, 0.010921716, 0.012561924, 0.011801555, 0.01139636, 0.011777822, 0.011318474, 0.015508389, 0.01006644, 0.013628604, 0.0112630995, 0.010918658, 0.012233342, 0.010779808, 0.011845541, 0.011041841, 0.011183377, 0.011995485, 0.015405276, 0.033566743, 0.013468399, 0.011197852, 0.011416997, 0.010660914, 0.011120501, 0.012978448, 0.012399903, 0.012760072, 0.0118053155, 0.011988004, 0.012459787, 0.011185353, 0.011332091, 0.0111044785, 0.012107529, 0.012591397, 0.011269221, 0.012701235, 0.011038443, 0.0107098045, 0.012279599, 0.011199011, 0.0129716955, 0.013312084, 0.012724747, 0.011120183, 0.010709118, 0.012155268, 0.011056942, 0.011417309, 0.011619648, 0.01309012, 0.011771169, 0.011981493, 0.011568368, 0.011174405, 0.012290946, 0.011864714, 0.0119682895, 0.012957429, 0.010107443, 0.013973312, 0.010389616, 0.010618998, 0.013066706, 0.013932475, 0.011720889, 0.011391166, 0.010134983, 0.011096014, 0.011266726, 0.011416863, 0.01011592, 0.0076617254, 0.012092543, 0.012036485, 0.012813782, 0.010677504, 0.011403156, 0.012556349, 0.012335962, 0.01463986, 0.010620644, 0.0114714075, 0.012513391, 0.011558745, 0.014223574, 0.012999531, 0.012162942, 0.011393057, 0.011063199, 0.011233761, 0.011675614, 0.010307832, 0.012140856, 0.011293258, 0.010805692, 0.0123664215, 0.011536809]\n",
      "2022-02-25 09:06:08,902 : INFO : merging changes from 1204 documents into a model of 3204 documents\n",
      "2022-02-25 09:06:08,911 : INFO : topic #74 (0.008): 0.001*\"implic\" + 0.001*\"favor\" + 0.001*\"adapt\" + 0.001*\"polygon\" + 0.001*\"stage\" + 0.001*\"situat\" + 0.001*\"respons\" + 0.001*\"industri\" + 0.001*\"regress\" + 0.001*\"drive\"\n",
      "2022-02-25 09:06:08,912 : INFO : topic #61 (0.010): 0.143*\"-\" + 0.080*\",\" + 0.064*\"permut\" + 0.045*\"request\" + 0.044*\"algorithm\" + 0.037*\"ratio\" + 0.032*\"replac\" + 0.027*\"gener\" + 0.024*\"rotat\" + 0.018*\"addit\"\n",
      "2022-02-25 09:06:08,912 : INFO : topic #19 (0.015): 0.401*\"data\" + 0.369*\"structur\" + 0.038*\"definit\" + 0.035*\"design\" + 0.029*\"map\" + 0.023*\"function\" + 0.018*\"storag\" + 0.017*\"review\" + 0.010*\"fact\" + 0.009*\"present\"\n",
      "2022-02-25 09:06:08,913 : INFO : topic #8 (0.016): 0.444*\"problem\" + 0.134*\"solut\" + 0.043*\"variabl\" + 0.035*\"nonlinear\" + 0.032*\"-\" + 0.029*\"d1\" + 0.028*\"method\" + 0.027*\"present\" + 0.024*\"formul\" + 0.021*\"theori\"\n",
      "2022-02-25 09:06:08,913 : INFO : topic #20 (0.034): 0.385*\"(\" + 0.363*\")\" + 0.191*\"algorithm\" + 0.013*\"function\" + 0.008*\"minim\" + 0.008*\"forward\" + 0.008*\"interpol\" + 0.005*\"-\" + 0.004*\"differ\" + 0.004*\"e4\"\n",
      "2022-02-25 09:06:08,914 : INFO : topic diff=0.343607, rho=0.281696\n",
      "2022-02-25 09:06:08,921 : INFO : PROGRESS: pass 11, at document #2000/3204\n",
      "2022-02-25 09:06:09,674 : INFO : optimized alpha [0.011920802, 0.011844559, 0.010932151, 0.012756343, 0.011785319, 0.01145274, 0.01184414, 0.011342919, 0.015705347, 0.010064301, 0.013836487, 0.011372458, 0.010925726, 0.012436051, 0.010805201, 0.011895965, 0.011158393, 0.011191152, 0.012103868, 0.015628522, 0.03562489, 0.013451217, 0.011283555, 0.011447592, 0.010668763, 0.011111145, 0.012970764, 0.012478748, 0.012834791, 0.011866359, 0.01201614, 0.012631927, 0.011202792, 0.011320718, 0.011119978, 0.012130015, 0.01272463, 0.011239469, 0.012820929, 0.011069116, 0.010698343, 0.012334881, 0.011249131, 0.013054996, 0.013673915, 0.012810224, 0.011156739, 0.010704395, 0.012228361, 0.011165542, 0.01143278, 0.011671708, 0.013133888, 0.0118422685, 0.01211365, 0.0115986075, 0.011161502, 0.012376524, 0.011941994, 0.012055541, 0.013086143, 0.010110177, 0.0139802545, 0.010400512, 0.0106268395, 0.0132731525, 0.0139856255, 0.011726853, 0.011401663, 0.010153509, 0.01110529, 0.0112946, 0.011451952, 0.010111988, 0.007617175, 0.012082045, 0.012083262, 0.012922036, 0.01070382, 0.01145022, 0.012599293, 0.012488936, 0.014794338, 0.010613592, 0.011514102, 0.012618655, 0.011623995, 0.014446918, 0.013163851, 0.012263491, 0.011428181, 0.011031443, 0.011198251, 0.011729151, 0.010404295, 0.012136261, 0.011279793, 0.010844773, 0.012402873, 0.011651344]\n",
      "2022-02-25 09:06:09,681 : INFO : merging changes from 2000 documents into a model of 3204 documents\n",
      "2022-02-25 09:06:09,690 : INFO : topic #74 (0.008): 0.001*\"implic\" + 0.001*\"favor\" + 0.001*\"adapt\" + 0.001*\"polygon\" + 0.001*\"stage\" + 0.001*\"situat\" + 0.001*\"respons\" + 0.001*\"industri\" + 0.001*\"regress\" + 0.001*\"drive\"\n",
      "2022-02-25 09:06:09,691 : INFO : topic #9 (0.010): 0.065*\"modif\" + 0.061*\"'\" + 0.057*\"-\" + 0.044*\"algorithm\" + 0.042*\"techniqu\" + 0.041*\"methodolog\" + 0.040*\"paper\" + 0.035*\"cover\" + 0.028*\"copi\" + 0.027*\"comput\"\n",
      "2022-02-25 09:06:09,692 : INFO : topic #19 (0.016): 0.413*\"data\" + 0.361*\"structur\" + 0.037*\"definit\" + 0.033*\"design\" + 0.026*\"map\" + 0.023*\"function\" + 0.018*\"review\" + 0.017*\"storag\" + 0.009*\"fact\" + 0.009*\"present\"\n",
      "2022-02-25 09:06:09,692 : INFO : topic #8 (0.016): 0.443*\"problem\" + 0.136*\"solut\" + 0.040*\"variabl\" + 0.037*\"nonlinear\" + 0.033*\"-\" + 0.031*\"d1\" + 0.027*\"method\" + 0.027*\"present\" + 0.024*\"formul\" + 0.021*\"appli\"\n",
      "2022-02-25 09:06:09,693 : INFO : topic #20 (0.036): 0.383*\"(\" + 0.365*\")\" + 0.195*\"algorithm\" + 0.012*\"function\" + 0.008*\"interpol\" + 0.007*\"minim\" + 0.007*\"forward\" + 0.004*\"-\" + 0.004*\"e4\" + 0.004*\"differ\"\n",
      "2022-02-25 09:06:09,694 : INFO : topic diff=0.296974, rho=0.271143\n",
      "2022-02-25 09:06:10,496 : INFO : -6.479 per-word bound, 89.2 perplexity estimate based on a held-out corpus of 1204 documents with 49783 words\n",
      "2022-02-25 09:06:10,497 : INFO : PROGRESS: pass 11, at document #3204/3204\n",
      "2022-02-25 09:06:11,135 : INFO : optimized alpha [0.012121897, 0.011982638, 0.011013334, 0.01280669, 0.011938755, 0.01154768, 0.011978754, 0.011498134, 0.01623219, 0.010144865, 0.014005092, 0.01145669, 0.011051289, 0.012633795, 0.010880272, 0.012074119, 0.011286689, 0.011342049, 0.01227343, 0.016108463, 0.037001505, 0.013764346, 0.011362072, 0.01155691, 0.010799736, 0.01122138, 0.0132175265, 0.012663398, 0.0129965115, 0.012002579, 0.0121958265, 0.012702009, 0.011347146, 0.011466505, 0.011272758, 0.012315014, 0.012873864, 0.011415041, 0.01305237, 0.0111831175, 0.010779114, 0.012589128, 0.011340021, 0.0132575035, 0.013614223, 0.013035114, 0.011273427, 0.010809482, 0.012341808, 0.011278303, 0.01161339, 0.011840815, 0.013321026, 0.012097569, 0.012183061, 0.011745671, 0.01126584, 0.012449706, 0.012081684, 0.012265138, 0.013264091, 0.0101656355, 0.014254164, 0.010508546, 0.010706356, 0.013438079, 0.0143036265, 0.011878887, 0.011529937, 0.010217462, 0.011270461, 0.011424837, 0.011605329, 0.010192059, 0.007561746, 0.0122734755, 0.012298687, 0.013057115, 0.010819318, 0.011605787, 0.012744853, 0.012558864, 0.015089902, 0.010699666, 0.011606554, 0.012802224, 0.011789378, 0.014858685, 0.013258121, 0.012496142, 0.011579024, 0.011183389, 0.011367896, 0.011854777, 0.010473667, 0.012280371, 0.0113640465, 0.010918618, 0.012626112, 0.0117485635]\n",
      "2022-02-25 09:06:11,141 : INFO : merging changes from 1204 documents into a model of 3204 documents\n",
      "2022-02-25 09:06:11,151 : INFO : topic #74 (0.008): 0.001*\"implic\" + 0.001*\"favor\" + 0.001*\"adapt\" + 0.001*\"polygon\" + 0.001*\"stage\" + 0.001*\"situat\" + 0.001*\"respons\" + 0.001*\"industri\" + 0.001*\"regress\" + 0.001*\"drive\"\n",
      "2022-02-25 09:06:11,152 : INFO : topic #61 (0.010): 0.139*\"-\" + 0.080*\",\" + 0.065*\"permut\" + 0.047*\"request\" + 0.046*\"algorithm\" + 0.038*\"ratio\" + 0.033*\"replac\" + 0.028*\"gener\" + 0.025*\"rotat\" + 0.019*\"addit\"\n",
      "2022-02-25 09:06:11,153 : INFO : topic #19 (0.016): 0.417*\"data\" + 0.369*\"structur\" + 0.037*\"definit\" + 0.034*\"design\" + 0.022*\"map\" + 0.022*\"function\" + 0.017*\"review\" + 0.016*\"storag\" + 0.009*\"fact\" + 0.009*\"present\"\n"
     ]
    },
    {
     "name": "stderr",
     "output_type": "stream",
     "text": [
      "2022-02-25 09:06:11,153 : INFO : topic #8 (0.016): 0.456*\"problem\" + 0.134*\"solut\" + 0.041*\"variabl\" + 0.035*\"nonlinear\" + 0.031*\"-\" + 0.029*\"d1\" + 0.027*\"present\" + 0.026*\"method\" + 0.025*\"formul\" + 0.020*\"appli\"\n",
      "2022-02-25 09:06:11,154 : INFO : topic #20 (0.037): 0.389*\"(\" + 0.367*\")\" + 0.186*\"algorithm\" + 0.012*\"function\" + 0.008*\"minim\" + 0.008*\"forward\" + 0.008*\"interpol\" + 0.005*\"-\" + 0.004*\"differ\" + 0.004*\"e4\"\n",
      "2022-02-25 09:06:11,155 : INFO : topic diff=0.304394, rho=0.271143\n",
      "2022-02-25 09:06:11,162 : INFO : PROGRESS: pass 12, at document #2000/3204\n",
      "2022-02-25 09:06:11,877 : INFO : optimized alpha [0.012107517, 0.011992231, 0.011029448, 0.012998432, 0.011925914, 0.011601017, 0.012046344, 0.01152459, 0.016431138, 0.0101470025, 0.014212637, 0.011569434, 0.011060977, 0.012843628, 0.01090943, 0.012118003, 0.011402127, 0.01135233, 0.012380772, 0.01633414, 0.039137192, 0.013747701, 0.011448676, 0.011586625, 0.010807211, 0.011216823, 0.013210794, 0.012739925, 0.013065658, 0.012063366, 0.012230889, 0.012868762, 0.011366799, 0.011456813, 0.011292012, 0.012329792, 0.013007362, 0.011388696, 0.013186142, 0.011214336, 0.0107654445, 0.012650447, 0.011391745, 0.013336516, 0.01397536, 0.013124839, 0.011308894, 0.010809222, 0.012409617, 0.01138142, 0.0116355065, 0.011891197, 0.013363107, 0.012179141, 0.012312114, 0.011773398, 0.011256466, 0.01252311, 0.012159992, 0.012353143, 0.013389604, 0.010174024, 0.0142689375, 0.0105246175, 0.010718358, 0.013647917, 0.014346621, 0.0118797235, 0.011537003, 0.010237002, 0.011283553, 0.011456324, 0.011642253, 0.010191124, 0.007520294, 0.012254605, 0.012343608, 0.013173061, 0.010847647, 0.011652893, 0.01278807, 0.012704938, 0.015234611, 0.010697235, 0.011646576, 0.012899683, 0.011860501, 0.015080776, 0.01341702, 0.012597296, 0.011617488, 0.011158184, 0.011334562, 0.011906774, 0.0105856825, 0.012275736, 0.011355889, 0.010961, 0.01266249, 0.011863502]\n",
      "2022-02-25 09:06:11,884 : INFO : merging changes from 2000 documents into a model of 3204 documents\n",
      "2022-02-25 09:06:11,893 : INFO : topic #74 (0.008): 0.001*\"implic\" + 0.001*\"favor\" + 0.001*\"adapt\" + 0.001*\"polygon\" + 0.001*\"stage\" + 0.001*\"situat\" + 0.001*\"respons\" + 0.001*\"industri\" + 0.001*\"regress\" + 0.001*\"drive\"\n",
      "2022-02-25 09:06:11,893 : INFO : topic #9 (0.010): 0.065*\"modif\" + 0.058*\"'\" + 0.056*\"-\" + 0.044*\"techniqu\" + 0.043*\"algorithm\" + 0.042*\"paper\" + 0.041*\"methodolog\" + 0.036*\"cover\" + 0.028*\"copi\" + 0.027*\"comput\"\n",
      "2022-02-25 09:06:11,894 : INFO : topic #19 (0.016): 0.428*\"data\" + 0.360*\"structur\" + 0.036*\"definit\" + 0.032*\"design\" + 0.021*\"function\" + 0.020*\"map\" + 0.018*\"review\" + 0.016*\"storag\" + 0.009*\"fact\" + 0.009*\"present\"\n",
      "2022-02-25 09:06:11,894 : INFO : topic #8 (0.016): 0.455*\"problem\" + 0.136*\"solut\" + 0.038*\"variabl\" + 0.037*\"nonlinear\" + 0.031*\"-\" + 0.030*\"d1\" + 0.027*\"present\" + 0.025*\"method\" + 0.025*\"formul\" + 0.021*\"appli\"\n",
      "2022-02-25 09:06:11,895 : INFO : topic #20 (0.039): 0.387*\"(\" + 0.368*\")\" + 0.191*\"algorithm\" + 0.011*\"function\" + 0.008*\"interpol\" + 0.007*\"minim\" + 0.007*\"forward\" + 0.004*\"-\" + 0.004*\"e4\" + 0.004*\"differ\"\n",
      "2022-02-25 09:06:11,895 : INFO : topic diff=0.264397, rho=0.261694\n",
      "2022-02-25 09:06:12,684 : INFO : -6.469 per-word bound, 88.6 perplexity estimate based on a held-out corpus of 1204 documents with 49783 words\n",
      "2022-02-25 09:06:12,685 : INFO : PROGRESS: pass 12, at document #3204/3204\n",
      "2022-02-25 09:06:13,336 : INFO : optimized alpha [0.012303795, 0.012129234, 0.011106006, 0.013040552, 0.012070086, 0.011688241, 0.012177429, 0.011683512, 0.016954662, 0.0102299545, 0.014376554, 0.011666347, 0.011185773, 0.013060079, 0.010992103, 0.012289148, 0.011532091, 0.0114920195, 0.012554312, 0.01681041, 0.0405306, 0.014051424, 0.011527437, 0.011695468, 0.010927718, 0.011319119, 0.013451896, 0.012911881, 0.013225984, 0.0122012375, 0.012406344, 0.012936114, 0.011512474, 0.011598868, 0.011441004, 0.012507553, 0.013161163, 0.011567276, 0.013409986, 0.011322955, 0.010855858, 0.012905324, 0.01148007, 0.013534237, 0.013905059, 0.013359182, 0.011432371, 0.010921006, 0.012519824, 0.011501053, 0.011816953, 0.012056267, 0.013545495, 0.012443514, 0.012376406, 0.011919304, 0.011353028, 0.012596828, 0.012309278, 0.01256361, 0.0135571845, 0.010232585, 0.014552309, 0.010634419, 0.010793351, 0.013808529, 0.014648966, 0.012025221, 0.011669444, 0.010303749, 0.011444717, 0.011580698, 0.011789193, 0.010269065, 0.00746858, 0.012452122, 0.012559572, 0.01331908, 0.010957747, 0.011807178, 0.012929754, 0.012772301, 0.015547418, 0.010783363, 0.0117415255, 0.013075989, 0.012024603, 0.015499024, 0.013508117, 0.01282529, 0.011785033, 0.011316057, 0.011499891, 0.012026545, 0.010673719, 0.012410489, 0.011445481, 0.011032752, 0.01288906, 0.011978644]\n",
      "2022-02-25 09:06:13,343 : INFO : merging changes from 1204 documents into a model of 3204 documents\n",
      "2022-02-25 09:06:13,352 : INFO : topic #74 (0.007): 0.001*\"implic\" + 0.001*\"favor\" + 0.001*\"adapt\" + 0.001*\"polygon\" + 0.001*\"stage\" + 0.001*\"situat\" + 0.001*\"respons\" + 0.001*\"industri\" + 0.001*\"regress\" + 0.001*\"drive\"\n",
      "2022-02-25 09:06:13,352 : INFO : topic #9 (0.010): 0.062*\"modif\" + 0.055*\"-\" + 0.055*\"'\" + 0.045*\"paper\" + 0.045*\"algorithm\" + 0.045*\"techniqu\" + 0.044*\"methodolog\" + 0.038*\"cover\" + 0.032*\"copi\" + 0.027*\"comput\"\n",
      "2022-02-25 09:06:13,353 : INFO : topic #19 (0.017): 0.430*\"data\" + 0.367*\"structur\" + 0.036*\"definit\" + 0.033*\"design\" + 0.021*\"function\" + 0.017*\"review\" + 0.017*\"map\" + 0.015*\"storag\" + 0.009*\"fact\" + 0.008*\"present\"\n",
      "2022-02-25 09:06:13,354 : INFO : topic #8 (0.017): 0.466*\"problem\" + 0.135*\"solut\" + 0.039*\"variabl\" + 0.035*\"nonlinear\" + 0.030*\"-\" + 0.029*\"d1\" + 0.027*\"present\" + 0.026*\"formul\" + 0.024*\"method\" + 0.019*\"appli\"\n",
      "2022-02-25 09:06:13,355 : INFO : topic #20 (0.041): 0.393*\"(\" + 0.370*\")\" + 0.182*\"algorithm\" + 0.011*\"function\" + 0.008*\"forward\" + 0.008*\"interpol\" + 0.007*\"minim\" + 0.005*\"-\" + 0.004*\"e4\" + 0.003*\"differ\"\n",
      "2022-02-25 09:06:13,356 : INFO : topic diff=0.272208, rho=0.261694\n",
      "2022-02-25 09:06:13,362 : INFO : PROGRESS: pass 13, at document #2000/3204\n",
      "2022-02-25 09:06:14,060 : INFO : optimized alpha [0.012297075, 0.012141507, 0.011120487, 0.013230017, 0.012058999, 0.011744778, 0.012243179, 0.011712031, 0.017151607, 0.010230865, 0.014582247, 0.011778209, 0.011200823, 0.013279134, 0.011029144, 0.012336293, 0.011651074, 0.011503346, 0.012665597, 0.017036507, 0.042756286, 0.014031783, 0.011610555, 0.011727348, 0.010933525, 0.01131483, 0.013446073, 0.01298956, 0.013299936, 0.0122681605, 0.012443402, 0.013096093, 0.011531396, 0.01159074, 0.011456539, 0.012523104, 0.0132934945, 0.011541156, 0.013541052, 0.011353374, 0.010842786, 0.0129710045, 0.011531942, 0.013610904, 0.014266008, 0.013454908, 0.011471223, 0.010920734, 0.012590675, 0.011606319, 0.011836508, 0.01210821, 0.013586141, 0.012519788, 0.012502653, 0.011949076, 0.011344071, 0.012670009, 0.012384072, 0.012649309, 0.013679836, 0.0102436375, 0.014565487, 0.010655468, 0.010805244, 0.014009834, 0.014699089, 0.01203047, 0.011679159, 0.0103269, 0.011461472, 0.011612726, 0.011824931, 0.010268337, 0.007429851, 0.012439538, 0.012602779, 0.013432575, 0.010985298, 0.0118558565, 0.012971691, 0.012915355, 0.015688442, 0.010781185, 0.011782013, 0.013167622, 0.012101445, 0.015731836, 0.013661995, 0.01292395, 0.011819262, 0.011292738, 0.011470077, 0.012084717, 0.010790313, 0.012405859, 0.011440643, 0.011072755, 0.0129303625, 0.01209727]\n",
      "2022-02-25 09:06:14,066 : INFO : merging changes from 2000 documents into a model of 3204 documents\n",
      "2022-02-25 09:06:14,075 : INFO : topic #74 (0.007): 0.001*\"implic\" + 0.001*\"favor\" + 0.001*\"adapt\" + 0.001*\"polygon\" + 0.001*\"stage\" + 0.001*\"situat\" + 0.001*\"respons\" + 0.001*\"industri\" + 0.001*\"regress\" + 0.001*\"drive\"\n",
      "2022-02-25 09:06:14,075 : INFO : topic #61 (0.010): 0.133*\"-\" + 0.077*\",\" + 0.065*\"permut\" + 0.048*\"request\" + 0.046*\"algorithm\" + 0.038*\"ratio\" + 0.033*\"replac\" + 0.031*\"gener\" + 0.025*\"rotat\" + 0.021*\"disk\"\n",
      "2022-02-25 09:06:14,076 : INFO : topic #19 (0.017): 0.440*\"data\" + 0.358*\"structur\" + 0.035*\"definit\" + 0.032*\"design\" + 0.020*\"function\" + 0.018*\"review\" + 0.016*\"map\" + 0.015*\"storag\" + 0.009*\"fact\" + 0.008*\"present\"\n",
      "2022-02-25 09:06:14,076 : INFO : topic #8 (0.017): 0.464*\"problem\" + 0.137*\"solut\" + 0.036*\"nonlinear\" + 0.036*\"variabl\" + 0.030*\"d1\" + 0.030*\"-\" + 0.027*\"present\" + 0.026*\"formul\" + 0.024*\"method\" + 0.020*\"appli\"\n"
     ]
    },
    {
     "name": "stderr",
     "output_type": "stream",
     "text": [
      "2022-02-25 09:06:14,077 : INFO : topic #20 (0.043): 0.390*\"(\" + 0.371*\")\" + 0.187*\"algorithm\" + 0.010*\"function\" + 0.008*\"interpol\" + 0.006*\"minim\" + 0.006*\"forward\" + 0.004*\"-\" + 0.004*\"e4\" + 0.004*\"differ\"\n",
      "2022-02-25 09:06:14,078 : INFO : topic diff=0.237588, rho=0.253169\n",
      "2022-02-25 09:06:14,833 : INFO : -6.461 per-word bound, 88.1 perplexity estimate based on a held-out corpus of 1204 documents with 49783 words\n",
      "2022-02-25 09:06:14,834 : INFO : PROGRESS: pass 13, at document #3204/3204\n",
      "2022-02-25 09:06:15,451 : INFO : optimized alpha [0.012496949, 0.012288059, 0.011199845, 0.013269988, 0.012207411, 0.011834724, 0.012371088, 0.011872345, 0.017682701, 0.010311785, 0.01474807, 0.011875106, 0.01132976, 0.013500589, 0.011112088, 0.012506214, 0.01179282, 0.011644528, 0.012838119, 0.0175164, 0.04417511, 0.014329791, 0.011682265, 0.011835991, 0.011051124, 0.0114171505, 0.01368209, 0.013168711, 0.013456431, 0.012402619, 0.012636407, 0.013163655, 0.01167614, 0.011729469, 0.011604549, 0.012694175, 0.013435148, 0.011713249, 0.013757783, 0.0114593115, 0.010928739, 0.013232389, 0.011617939, 0.013807169, 0.014191217, 0.013684952, 0.011589328, 0.011029801, 0.012705851, 0.011735239, 0.0120214, 0.012274691, 0.013767244, 0.012785534, 0.01256753, 0.012089085, 0.011438285, 0.012741629, 0.0125298705, 0.0128557645, 0.013849031, 0.010300812, 0.014830869, 0.010767176, 0.010880648, 0.014172488, 0.015002602, 0.012177607, 0.011808334, 0.0103876265, 0.011636213, 0.011741505, 0.011983593, 0.010342188, 0.0073814173, 0.0126379235, 0.012817087, 0.013569221, 0.011095062, 0.012009132, 0.01310167, 0.012980397, 0.015982578, 0.010865237, 0.011877107, 0.013339949, 0.012280024, 0.016170245, 0.013753056, 0.013158488, 0.011993109, 0.011446947, 0.01163398, 0.012198969, 0.010903315, 0.012534556, 0.011532878, 0.011144993, 0.013160549, 0.012219806]\n",
      "2022-02-25 09:06:15,457 : INFO : merging changes from 1204 documents into a model of 3204 documents\n",
      "2022-02-25 09:06:15,466 : INFO : topic #74 (0.007): 0.001*\"implic\" + 0.001*\"favor\" + 0.001*\"adapt\" + 0.001*\"polygon\" + 0.001*\"stage\" + 0.001*\"situat\" + 0.001*\"respons\" + 0.001*\"industri\" + 0.001*\"regress\" + 0.001*\"drive\"\n",
      "2022-02-25 09:06:15,466 : INFO : topic #61 (0.010): 0.131*\"-\" + 0.081*\",\" + 0.066*\"permut\" + 0.049*\"algorithm\" + 0.049*\"request\" + 0.038*\"ratio\" + 0.033*\"replac\" + 0.028*\"gener\" + 0.026*\"rotat\" + 0.023*\"disk\"\n",
      "2022-02-25 09:06:15,467 : INFO : topic #19 (0.018): 0.441*\"data\" + 0.366*\"structur\" + 0.035*\"definit\" + 0.032*\"design\" + 0.020*\"function\" + 0.017*\"review\" + 0.014*\"storag\" + 0.014*\"map\" + 0.009*\"fact\" + 0.008*\"present\"\n",
      "2022-02-25 09:06:15,467 : INFO : topic #8 (0.018): 0.475*\"problem\" + 0.135*\"solut\" + 0.037*\"variabl\" + 0.035*\"nonlinear\" + 0.029*\"d1\" + 0.029*\"-\" + 0.028*\"present\" + 0.026*\"formul\" + 0.023*\"method\" + 0.019*\"appli\"\n",
      "2022-02-25 09:06:15,468 : INFO : topic #20 (0.044): 0.396*\"(\" + 0.373*\")\" + 0.180*\"algorithm\" + 0.010*\"function\" + 0.008*\"forward\" + 0.007*\"interpol\" + 0.007*\"minim\" + 0.005*\"-\" + 0.004*\"e4\" + 0.003*\"differ\"\n",
      "2022-02-25 09:06:15,469 : INFO : topic diff=0.245222, rho=0.253169\n",
      "2022-02-25 09:06:15,475 : INFO : PROGRESS: pass 14, at document #2000/3204\n",
      "2022-02-25 09:06:16,134 : INFO : optimized alpha [0.012489748, 0.012296748, 0.011212677, 0.013457506, 0.012199436, 0.011891478, 0.0124353515, 0.011901339, 0.017875487, 0.010316671, 0.014955879, 0.011992123, 0.011345707, 0.013727512, 0.011146985, 0.012556619, 0.011909705, 0.011649655, 0.012945607, 0.017751629, 0.046481248, 0.014309069, 0.011763645, 0.011868533, 0.011060831, 0.011414514, 0.013675507, 0.013241167, 0.0135319205, 0.01246793, 0.012680169, 0.013317366, 0.011695812, 0.011721405, 0.011620969, 0.012710576, 0.013566616, 0.011685892, 0.013893061, 0.01149182, 0.010913499, 0.0132976, 0.0116686495, 0.01388691, 0.0145489015, 0.013776702, 0.011622917, 0.011028134, 0.012778193, 0.0118384715, 0.0120399995, 0.012326658, 0.013806537, 0.01286291, 0.012692825, 0.012121018, 0.0114339795, 0.012819577, 0.012604435, 0.012936204, 0.013969077, 0.010313095, 0.014842607, 0.010788992, 0.010896428, 0.014379456, 0.01505599, 0.01218399, 0.011817668, 0.0104142325, 0.011655059, 0.011771197, 0.012024198, 0.010340383, 0.007345089, 0.012625008, 0.0128602395, 0.0136854425, 0.011119166, 0.012059426, 0.013144159, 0.013119009, 0.016126022, 0.010863308, 0.011918226, 0.013417961, 0.012362586, 0.016412396, 0.013904043, 0.013264487, 0.012037991, 0.011422533, 0.011608869, 0.012257277, 0.011033917, 0.012528412, 0.011522648, 0.011182804, 0.0132067, 0.012340709]\n",
      "2022-02-25 09:06:16,141 : INFO : merging changes from 2000 documents into a model of 3204 documents\n",
      "2022-02-25 09:06:16,151 : INFO : topic #74 (0.007): 0.001*\"implic\" + 0.001*\"favor\" + 0.001*\"adapt\" + 0.001*\"polygon\" + 0.001*\"stage\" + 0.001*\"situat\" + 0.001*\"respons\" + 0.001*\"industri\" + 0.001*\"regress\" + 0.001*\"drive\"\n",
      "2022-02-25 09:06:16,152 : INFO : topic #9 (0.010): 0.065*\"modif\" + 0.054*\"-\" + 0.054*\"'\" + 0.049*\"techniqu\" + 0.046*\"paper\" + 0.043*\"algorithm\" + 0.041*\"methodolog\" + 0.037*\"cover\" + 0.028*\"copi\" + 0.027*\"automat\"\n",
      "2022-02-25 09:06:16,153 : INFO : topic #19 (0.018): 0.452*\"data\" + 0.357*\"structur\" + 0.034*\"definit\" + 0.031*\"design\" + 0.019*\"function\" + 0.018*\"review\" + 0.014*\"storag\" + 0.013*\"map\" + 0.009*\"fact\" + 0.008*\"present\"\n",
      "2022-02-25 09:06:16,153 : INFO : topic #8 (0.018): 0.473*\"problem\" + 0.137*\"solut\" + 0.036*\"nonlinear\" + 0.035*\"variabl\" + 0.030*\"d1\" + 0.029*\"-\" + 0.028*\"present\" + 0.026*\"formul\" + 0.022*\"method\" + 0.019*\"variat\"\n",
      "2022-02-25 09:06:16,153 : INFO : topic #20 (0.046): 0.392*\"(\" + 0.373*\")\" + 0.184*\"algorithm\" + 0.009*\"function\" + 0.008*\"interpol\" + 0.006*\"forward\" + 0.006*\"minim\" + 0.004*\"-\" + 0.004*\"e4\" + 0.004*\"differ\"\n",
      "2022-02-25 09:06:16,154 : INFO : topic diff=0.215476, rho=0.245426\n",
      "2022-02-25 09:06:16,882 : INFO : -6.452 per-word bound, 87.6 perplexity estimate based on a held-out corpus of 1204 documents with 49783 words\n",
      "2022-02-25 09:06:16,883 : INFO : PROGRESS: pass 14, at document #3204/3204\n",
      "2022-02-25 09:06:17,479 : INFO : optimized alpha [0.012690801, 0.012435002, 0.0112901805, 0.01349551, 0.012347133, 0.011988981, 0.012562919, 0.012068116, 0.018414719, 0.010393634, 0.015120707, 0.0120989615, 0.011481161, 0.013959822, 0.01123033, 0.012715322, 0.012051033, 0.011790252, 0.01311735, 0.018228196, 0.04787157, 0.014601919, 0.011833462, 0.011974638, 0.011178147, 0.011514519, 0.013904081, 0.013424857, 0.013690482, 0.012601953, 0.012874823, 0.013382612, 0.011839858, 0.01185949, 0.011770694, 0.012875362, 0.01371332, 0.011854371, 0.014125676, 0.011597689, 0.01099752, 0.013552354, 0.011754912, 0.014082069, 0.014463995, 0.014002745, 0.011745534, 0.011136989, 0.012903592, 0.011967113, 0.012221363, 0.012489781, 0.01398377, 0.013130489, 0.012750621, 0.012265593, 0.011521321, 0.012886539, 0.01275486, 0.013141533, 0.014134465, 0.010371156, 0.015108967, 0.010900455, 0.010976838, 0.014544333, 0.015348417, 0.012325451, 0.011943992, 0.010473572, 0.011824008, 0.0118923, 0.012177132, 0.010414672, 0.007299563, 0.012829753, 0.013070609, 0.013827494, 0.011231025, 0.012214431, 0.013271166, 0.01318466, 0.016424935, 0.010947695, 0.012013529, 0.013589308, 0.012547992, 0.016855378, 0.013998155, 0.013506132, 0.012215841, 0.011575757, 0.011771607, 0.012373892, 0.011158134, 0.012648891, 0.011608008, 0.011253375, 0.013432855, 0.01246816]\n",
      "2022-02-25 09:06:17,485 : INFO : merging changes from 1204 documents into a model of 3204 documents\n",
      "2022-02-25 09:06:17,495 : INFO : topic #74 (0.007): 0.001*\"implic\" + 0.001*\"favor\" + 0.001*\"adapt\" + 0.001*\"polygon\" + 0.001*\"stage\" + 0.001*\"situat\" + 0.001*\"respons\" + 0.001*\"industri\" + 0.001*\"regress\" + 0.001*\"drive\"\n",
      "2022-02-25 09:06:17,495 : INFO : topic #9 (0.010): 0.063*\"modif\" + 0.053*\"-\" + 0.052*\"'\" + 0.049*\"techniqu\" + 0.049*\"paper\" + 0.045*\"algorithm\" + 0.044*\"methodolog\" + 0.039*\"cover\" + 0.032*\"copi\" + 0.028*\"automat\"\n",
      "2022-02-25 09:06:17,496 : INFO : topic #19 (0.018): 0.451*\"data\" + 0.365*\"structur\" + 0.034*\"definit\" + 0.031*\"design\" + 0.018*\"function\" + 0.017*\"review\" + 0.013*\"storag\" + 0.011*\"map\" + 0.008*\"fact\" + 0.008*\"present\"\n",
      "2022-02-25 09:06:17,497 : INFO : topic #8 (0.018): 0.482*\"problem\" + 0.136*\"solut\" + 0.037*\"variabl\" + 0.035*\"nonlinear\" + 0.029*\"d1\" + 0.028*\"present\" + 0.027*\"-\" + 0.027*\"formul\" + 0.022*\"method\" + 0.019*\"combinatori\"\n"
     ]
    },
    {
     "name": "stderr",
     "output_type": "stream",
     "text": [
      "2022-02-25 09:06:17,497 : INFO : topic #20 (0.048): 0.398*\"(\" + 0.375*\")\" + 0.177*\"algorithm\" + 0.008*\"function\" + 0.007*\"forward\" + 0.007*\"interpol\" + 0.007*\"minim\" + 0.005*\"-\" + 0.004*\"e4\" + 0.003*\"differ\"\n",
      "2022-02-25 09:06:17,498 : INFO : topic diff=0.222764, rho=0.245426\n",
      "2022-02-25 09:06:17,505 : INFO : PROGRESS: pass 15, at document #2000/3204\n",
      "2022-02-25 09:06:18,197 : INFO : optimized alpha [0.012680136, 0.012447824, 0.011306955, 0.013682952, 0.012340656, 0.012044528, 0.0126271965, 0.012099107, 0.01860335, 0.010396046, 0.01532373, 0.012211047, 0.011496655, 0.01418659, 0.011269927, 0.0127582885, 0.01217168, 0.011797877, 0.013219585, 0.01847067, 0.05022245, 0.014580174, 0.011916111, 0.012006468, 0.011188946, 0.011510629, 0.013898524, 0.013500252, 0.013765878, 0.012664271, 0.012918854, 0.013535261, 0.011861655, 0.011852883, 0.011789325, 0.012892616, 0.013842424, 0.011831553, 0.014270219, 0.011628079, 0.010988166, 0.013618843, 0.011801733, 0.014158194, 0.014813506, 0.014099025, 0.01178253, 0.011136671, 0.01298053, 0.012072737, 0.012239069, 0.012538899, 0.014020183, 0.013210616, 0.012873638, 0.012306926, 0.01151728, 0.012965946, 0.012827754, 0.013218436, 0.014252102, 0.0103834, 0.01511937, 0.010924338, 0.010989731, 0.014746834, 0.015401453, 0.012328504, 0.01195438, 0.010499748, 0.011844902, 0.011922691, 0.012213675, 0.010414336, 0.0072653983, 0.012816463, 0.013115426, 0.0139448345, 0.0112586105, 0.012261934, 0.013312624, 0.013322357, 0.016565187, 0.010947261, 0.012058074, 0.013665406, 0.012637837, 0.017097123, 0.014151485, 0.013610024, 0.012259486, 0.01155439, 0.011749564, 0.012438316, 0.011298945, 0.012642919, 0.011605251, 0.011291796, 0.013474241, 0.012600525]\n",
      "2022-02-25 09:06:18,203 : INFO : merging changes from 2000 documents into a model of 3204 documents\n",
      "2022-02-25 09:06:18,213 : INFO : topic #74 (0.007): 0.001*\"implic\" + 0.001*\"favor\" + 0.001*\"adapt\" + 0.001*\"polygon\" + 0.001*\"stage\" + 0.001*\"situat\" + 0.001*\"respons\" + 0.001*\"industri\" + 0.001*\"regress\" + 0.001*\"drive\"\n",
      "2022-02-25 09:06:18,213 : INFO : topic #9 (0.010): 0.065*\"modif\" + 0.053*\"-\" + 0.053*\"'\" + 0.051*\"techniqu\" + 0.048*\"paper\" + 0.043*\"algorithm\" + 0.041*\"methodolog\" + 0.037*\"cover\" + 0.028*\"copi\" + 0.028*\"automat\"\n",
      "2022-02-25 09:06:18,214 : INFO : topic #19 (0.018): 0.462*\"data\" + 0.356*\"structur\" + 0.033*\"definit\" + 0.030*\"design\" + 0.018*\"review\" + 0.017*\"function\" + 0.013*\"storag\" + 0.010*\"map\" + 0.008*\"fact\" + 0.008*\"present\"\n",
      "2022-02-25 09:06:18,214 : INFO : topic #8 (0.019): 0.479*\"problem\" + 0.138*\"solut\" + 0.036*\"nonlinear\" + 0.035*\"variabl\" + 0.030*\"d1\" + 0.028*\"present\" + 0.028*\"-\" + 0.027*\"formul\" + 0.021*\"method\" + 0.019*\"combinatori\"\n",
      "2022-02-25 09:06:18,215 : INFO : topic #20 (0.050): 0.394*\"(\" + 0.375*\")\" + 0.183*\"algorithm\" + 0.008*\"function\" + 0.008*\"interpol\" + 0.006*\"forward\" + 0.006*\"minim\" + 0.004*\"-\" + 0.004*\"e4\" + 0.003*\"differ\"\n",
      "2022-02-25 09:06:18,216 : INFO : topic diff=0.197049, rho=0.238352\n",
      "2022-02-25 09:06:18,957 : INFO : -6.445 per-word bound, 87.1 perplexity estimate based on a held-out corpus of 1204 documents with 49783 words\n",
      "2022-02-25 09:06:18,958 : INFO : PROGRESS: pass 15, at document #3204/3204\n",
      "2022-02-25 09:06:19,525 : INFO : optimized alpha [0.012874999, 0.012588223, 0.011378299, 0.013719087, 0.012490324, 0.012137511, 0.012752065, 0.012272491, 0.019140156, 0.010481764, 0.015493848, 0.01230826, 0.0116316425, 0.014433031, 0.011355922, 0.012918949, 0.012312729, 0.01193102, 0.0134013, 0.018955018, 0.051590245, 0.014871054, 0.011984211, 0.012112703, 0.011310602, 0.011610878, 0.014120195, 0.013693859, 0.013926708, 0.0127929365, 0.013107631, 0.013598352, 0.0120076, 0.011985811, 0.0119433375, 0.013056717, 0.013983231, 0.0119967, 0.014502132, 0.011731707, 0.011072638, 0.013880801, 0.011886087, 0.014349712, 0.014724821, 0.014332555, 0.011907407, 0.01124768, 0.013103226, 0.012201151, 0.012421926, 0.012696424, 0.014191117, 0.013472428, 0.012927166, 0.012441135, 0.011602805, 0.01303377, 0.012972786, 0.0134229185, 0.014419624, 0.010444424, 0.015387225, 0.011040051, 0.011070625, 0.014908077, 0.015695706, 0.01246706, 0.012080472, 0.010562036, 0.012015578, 0.012048462, 0.012368551, 0.010487001, 0.0072224764, 0.013012368, 0.013324794, 0.014086656, 0.01137039, 0.012421281, 0.013436886, 0.0133834, 0.016865844, 0.011027702, 0.012153597, 0.013833373, 0.012825203, 0.017544866, 0.014251358, 0.013848191, 0.012434333, 0.011704566, 0.0119066825, 0.012542586, 0.011436492, 0.01276337, 0.011686457, 0.011365322, 0.013699297, 0.012727895]\n",
      "2022-02-25 09:06:19,531 : INFO : merging changes from 1204 documents into a model of 3204 documents\n",
      "2022-02-25 09:06:19,541 : INFO : topic #74 (0.007): 0.001*\"implic\" + 0.001*\"favor\" + 0.001*\"adapt\" + 0.001*\"polygon\" + 0.001*\"stage\" + 0.001*\"situat\" + 0.001*\"respons\" + 0.001*\"industri\" + 0.001*\"regress\" + 0.001*\"drive\"\n",
      "2022-02-25 09:06:19,541 : INFO : topic #9 (0.010): 0.063*\"modif\" + 0.053*\"-\" + 0.052*\"paper\" + 0.052*\"'\" + 0.051*\"techniqu\" + 0.045*\"algorithm\" + 0.044*\"methodolog\" + 0.039*\"cover\" + 0.032*\"copi\" + 0.029*\"automat\"\n",
      "2022-02-25 09:06:19,542 : INFO : topic #19 (0.019): 0.461*\"data\" + 0.363*\"structur\" + 0.034*\"definit\" + 0.031*\"design\" + 0.017*\"review\" + 0.017*\"function\" + 0.012*\"storag\" + 0.009*\"map\" + 0.008*\"fact\" + 0.008*\"due\"\n",
      "2022-02-25 09:06:19,542 : INFO : topic #8 (0.019): 0.487*\"problem\" + 0.137*\"solut\" + 0.035*\"variabl\" + 0.035*\"nonlinear\" + 0.029*\"d1\" + 0.028*\"present\" + 0.027*\"formul\" + 0.026*\"-\" + 0.021*\"method\" + 0.019*\"combinatori\"\n",
      "2022-02-25 09:06:19,543 : INFO : topic #20 (0.052): 0.400*\"(\" + 0.377*\")\" + 0.175*\"algorithm\" + 0.007*\"forward\" + 0.007*\"interpol\" + 0.007*\"function\" + 0.007*\"minim\" + 0.005*\"-\" + 0.004*\"e4\" + 0.003*\"differ\"\n",
      "2022-02-25 09:06:19,544 : INFO : topic diff=0.203721, rho=0.238352\n",
      "2022-02-25 09:06:19,551 : INFO : PROGRESS: pass 16, at document #2000/3204\n",
      "2022-02-25 09:06:20,211 : INFO : optimized alpha [0.01286701, 0.012600619, 0.011396229, 0.01390672, 0.0124837905, 0.012193306, 0.012815017, 0.012299632, 0.019337786, 0.010485416, 0.015699582, 0.012424236, 0.011649374, 0.014668449, 0.011398746, 0.012960826, 0.012438648, 0.01194524, 0.013503236, 0.019196283, 0.053975116, 0.014848335, 0.012073813, 0.012143824, 0.011318412, 0.0116112605, 0.014113977, 0.013769197, 0.014008563, 0.012853976, 0.0131535465, 0.013745402, 0.012028699, 0.011979244, 0.011957076, 0.013073316, 0.014113424, 0.011974014, 0.01463946, 0.01176418, 0.011062399, 0.013946985, 0.011934781, 0.0144207105, 0.015063078, 0.014431769, 0.011946344, 0.011248661, 0.013183206, 0.012312069, 0.012434428, 0.012745775, 0.014233102, 0.01354753, 0.013046546, 0.0124785425, 0.011604425, 0.013111703, 0.013044184, 0.013501175, 0.014533382, 0.010456593, 0.015398131, 0.011067221, 0.011084679, 0.015109844, 0.015733479, 0.012468486, 0.012091923, 0.0105878115, 0.0120398635, 0.012082348, 0.0124098845, 0.010489269, 0.007190245, 0.012998805, 0.013366661, 0.014210328, 0.011402578, 0.012470464, 0.013477414, 0.013517227, 0.017003039, 0.01102875, 0.012199989, 0.013899731, 0.012923785, 0.01779237, 0.014403902, 0.013949968, 0.012479722, 0.01168483, 0.011884892, 0.012605789, 0.011607438, 0.012756028, 0.011684028, 0.011405712, 0.013745547, 0.012870158]\n",
      "2022-02-25 09:06:20,217 : INFO : merging changes from 2000 documents into a model of 3204 documents\n",
      "2022-02-25 09:06:20,226 : INFO : topic #74 (0.007): 0.001*\"implic\" + 0.001*\"favor\" + 0.001*\"adapt\" + 0.001*\"polygon\" + 0.001*\"stage\" + 0.001*\"situat\" + 0.001*\"respons\" + 0.001*\"industri\" + 0.001*\"regress\" + 0.001*\"drive\"\n",
      "2022-02-25 09:06:20,227 : INFO : topic #61 (0.010): 0.122*\"-\" + 0.079*\",\" + 0.065*\"permut\" + 0.052*\"request\" + 0.050*\"algorithm\" + 0.038*\"ratio\" + 0.035*\"disk\" + 0.032*\"replac\" + 0.031*\"gener\" + 0.026*\"rotat\"\n",
      "2022-02-25 09:06:20,228 : INFO : topic #19 (0.019): 0.471*\"data\" + 0.354*\"structur\" + 0.033*\"definit\" + 0.029*\"design\" + 0.018*\"review\" + 0.016*\"function\" + 0.012*\"storag\" + 0.009*\"map\" + 0.008*\"fact\" + 0.008*\"due\"\n",
      "2022-02-25 09:06:20,228 : INFO : topic #8 (0.019): 0.485*\"problem\" + 0.138*\"solut\" + 0.036*\"nonlinear\" + 0.034*\"variabl\" + 0.030*\"d1\" + 0.028*\"present\" + 0.027*\"formul\" + 0.027*\"-\" + 0.020*\"method\" + 0.019*\"combinatori\"\n",
      "2022-02-25 09:06:20,228 : INFO : topic #20 (0.054): 0.397*\"(\" + 0.377*\")\" + 0.181*\"algorithm\" + 0.008*\"interpol\" + 0.007*\"function\" + 0.006*\"forward\" + 0.006*\"minim\" + 0.005*\"-\" + 0.004*\"e4\" + 0.003*\"differ\"\n"
     ]
    },
    {
     "name": "stderr",
     "output_type": "stream",
     "text": [
      "2022-02-25 09:06:20,229 : INFO : topic diff=0.181291, rho=0.231857\n",
      "2022-02-25 09:06:20,930 : INFO : -6.438 per-word bound, 86.7 perplexity estimate based on a held-out corpus of 1204 documents with 49783 words\n",
      "2022-02-25 09:06:20,930 : INFO : PROGRESS: pass 16, at document #3204/3204\n",
      "2022-02-25 09:06:21,490 : INFO : optimized alpha [0.013061015, 0.0127383, 0.01146836, 0.013941113, 0.01263059, 0.012279616, 0.012944852, 0.012467797, 0.019879583, 0.010565442, 0.015875228, 0.01252664, 0.01178643, 0.014920851, 0.011491869, 0.013116021, 0.012582048, 0.012075828, 0.013682088, 0.01969265, 0.055303186, 0.015134904, 0.012142731, 0.012245567, 0.011428977, 0.011720931, 0.014334651, 0.013959804, 0.014163505, 0.012977643, 0.01334196, 0.013806636, 0.012169622, 0.012116596, 0.012103706, 0.013236932, 0.014259546, 0.012147789, 0.014868076, 0.011870331, 0.011145226, 0.014205635, 0.012017377, 0.014608827, 0.014976604, 0.0146619, 0.012064234, 0.011364058, 0.01330853, 0.012449956, 0.012609441, 0.012898017, 0.014392487, 0.013811568, 0.013106177, 0.012622474, 0.011690564, 0.0131779015, 0.013191525, 0.013705057, 0.014697651, 0.010514367, 0.015664583, 0.011182957, 0.011163946, 0.015276736, 0.016032765, 0.012604421, 0.012215662, 0.010646802, 0.012207737, 0.012210439, 0.012566951, 0.010560497, 0.007149663, 0.013183631, 0.013570106, 0.014343707, 0.0115121985, 0.0126270875, 0.013596598, 0.013579128, 0.017292771, 0.011109745, 0.012295979, 0.014077971, 0.013110852, 0.018258959, 0.014506838, 0.014195708, 0.012658941, 0.011836827, 0.012032208, 0.012720087, 0.011749741, 0.012879018, 0.011768188, 0.011475521, 0.013972504, 0.01300769]\n",
      "2022-02-25 09:06:21,495 : INFO : merging changes from 1204 documents into a model of 3204 documents\n",
      "2022-02-25 09:06:21,505 : INFO : topic #74 (0.007): 0.001*\"implic\" + 0.001*\"favor\" + 0.001*\"adapt\" + 0.001*\"polygon\" + 0.001*\"stage\" + 0.001*\"situat\" + 0.001*\"respons\" + 0.001*\"industri\" + 0.001*\"regress\" + 0.001*\"drive\"\n",
      "2022-02-25 09:06:21,505 : INFO : topic #9 (0.011): 0.063*\"modif\" + 0.054*\"techniqu\" + 0.053*\"paper\" + 0.052*\"-\" + 0.051*\"'\" + 0.046*\"algorithm\" + 0.044*\"methodolog\" + 0.039*\"cover\" + 0.031*\"copi\" + 0.030*\"automat\"\n",
      "2022-02-25 09:06:21,506 : INFO : topic #19 (0.020): 0.468*\"data\" + 0.362*\"structur\" + 0.034*\"definit\" + 0.030*\"design\" + 0.017*\"review\" + 0.015*\"function\" + 0.012*\"storag\" + 0.008*\"map\" + 0.007*\"due\" + 0.007*\"fact\"\n",
      "2022-02-25 09:06:21,506 : INFO : topic #8 (0.020): 0.492*\"problem\" + 0.136*\"solut\" + 0.035*\"nonlinear\" + 0.035*\"variabl\" + 0.029*\"d1\" + 0.028*\"present\" + 0.028*\"formul\" + 0.026*\"-\" + 0.019*\"combinatori\" + 0.019*\"method\"\n",
      "2022-02-25 09:06:21,506 : INFO : topic #20 (0.055): 0.402*\"(\" + 0.378*\")\" + 0.174*\"algorithm\" + 0.007*\"forward\" + 0.007*\"interpol\" + 0.007*\"minim\" + 0.006*\"function\" + 0.005*\"-\" + 0.004*\"e4\" + 0.003*\"differ\"\n",
      "2022-02-25 09:06:21,507 : INFO : topic diff=0.187472, rho=0.231857\n",
      "2022-02-25 09:06:21,514 : INFO : PROGRESS: pass 17, at document #2000/3204\n",
      "2022-02-25 09:06:22,138 : INFO : optimized alpha [0.013057068, 0.012753183, 0.01148868, 0.014124521, 0.012625422, 0.012344118, 0.013006595, 0.012505461, 0.020075452, 0.010570351, 0.016087407, 0.012643719, 0.011803637, 0.015161711, 0.011531284, 0.013159865, 0.012706332, 0.01208558, 0.013782219, 0.019934984, 0.05773173, 0.015111278, 0.0122252945, 0.012276097, 0.011435292, 0.011719991, 0.014331128, 0.014043015, 0.014240565, 0.013038964, 0.013389749, 0.013954573, 0.012191523, 0.012110017, 0.01211831, 0.0132544255, 0.014386014, 0.012125135, 0.015016675, 0.01190756, 0.011137945, 0.014273186, 0.012066558, 0.01467488, 0.015310829, 0.014755709, 0.012102352, 0.011368828, 0.01339756, 0.012562106, 0.012622702, 0.012944794, 0.014426818, 0.013891148, 0.013226639, 0.012659074, 0.0116869975, 0.013258967, 0.013261544, 0.013781623, 0.014809369, 0.010527692, 0.015679445, 0.011210813, 0.011180339, 0.015477973, 0.01606868, 0.012607119, 0.0122240465, 0.01067341, 0.012235426, 0.012242146, 0.012605834, 0.010564077, 0.0071191704, 0.013169847, 0.013610691, 0.014468875, 0.011546411, 0.012676623, 0.013634756, 0.013713939, 0.017425172, 0.011112188, 0.012335996, 0.014141171, 0.013215239, 0.018510355, 0.014657188, 0.0142987445, 0.0127089, 0.0118199205, 0.012012061, 0.012779103, 0.011930126, 0.012870346, 0.011772719, 0.011516535, 0.014014134, 0.013149669]\n",
      "2022-02-25 09:06:22,145 : INFO : merging changes from 2000 documents into a model of 3204 documents\n",
      "2022-02-25 09:06:22,154 : INFO : topic #74 (0.007): 0.001*\"implic\" + 0.001*\"favor\" + 0.001*\"adapt\" + 0.001*\"polygon\" + 0.001*\"stage\" + 0.001*\"situat\" + 0.001*\"respons\" + 0.001*\"industri\" + 0.001*\"regress\" + 0.001*\"drive\"\n",
      "2022-02-25 09:06:22,155 : INFO : topic #61 (0.011): 0.117*\"-\" + 0.079*\",\" + 0.066*\"permut\" + 0.053*\"request\" + 0.050*\"algorithm\" + 0.040*\"disk\" + 0.039*\"ratio\" + 0.032*\"replac\" + 0.031*\"gener\" + 0.027*\"rotat\"\n",
      "2022-02-25 09:06:22,156 : INFO : topic #19 (0.020): 0.479*\"data\" + 0.353*\"structur\" + 0.033*\"definit\" + 0.029*\"design\" + 0.018*\"review\" + 0.014*\"function\" + 0.012*\"storag\" + 0.007*\"due\" + 0.007*\"map\" + 0.007*\"present\"\n",
      "2022-02-25 09:06:22,156 : INFO : topic #8 (0.020): 0.490*\"problem\" + 0.138*\"solut\" + 0.036*\"nonlinear\" + 0.033*\"variabl\" + 0.030*\"d1\" + 0.028*\"present\" + 0.028*\"formul\" + 0.026*\"-\" + 0.020*\"combinatori\" + 0.018*\"method\"\n",
      "2022-02-25 09:06:22,157 : INFO : topic #20 (0.058): 0.398*\"(\" + 0.378*\")\" + 0.179*\"algorithm\" + 0.008*\"interpol\" + 0.006*\"forward\" + 0.006*\"minim\" + 0.005*\"function\" + 0.005*\"-\" + 0.004*\"e4\" + 0.003*\"differ\"\n",
      "2022-02-25 09:06:22,158 : INFO : topic diff=0.168093, rho=0.225865\n",
      "2022-02-25 09:06:22,844 : INFO : -6.432 per-word bound, 86.4 perplexity estimate based on a held-out corpus of 1204 documents with 49783 words\n",
      "2022-02-25 09:06:22,845 : INFO : PROGRESS: pass 17, at document #3204/3204\n",
      "2022-02-25 09:06:23,387 : INFO : optimized alpha [0.01325539, 0.012888329, 0.0115594445, 0.014157311, 0.012769718, 0.012438007, 0.0131292, 0.012670984, 0.0206149, 0.010652851, 0.016256649, 0.012748865, 0.011940542, 0.015426137, 0.011627064, 0.013312421, 0.01285218, 0.012216102, 0.013960816, 0.020439876, 0.058997996, 0.015393767, 0.012292737, 0.012375904, 0.011550345, 0.011841056, 0.014551044, 0.014230705, 0.014395386, 0.013172536, 0.013580655, 0.01401134, 0.012332304, 0.0122426655, 0.012262451, 0.013410238, 0.014531983, 0.0122960685, 0.015250624, 0.0120095, 0.011221381, 0.014531444, 0.01214751, 0.014854289, 0.0152208945, 0.014985375, 0.01222735, 0.0114864595, 0.013515403, 0.012704761, 0.012794895, 0.01309446, 0.014580581, 0.01415509, 0.01328222, 0.012795651, 0.011771567, 0.013326183, 0.013406385, 0.01398771, 0.014967794, 0.010582389, 0.01595086, 0.011328731, 0.011258145, 0.01564455, 0.016364003, 0.0127382055, 0.012345577, 0.010731334, 0.012407677, 0.012365613, 0.012760371, 0.010637965, 0.0070807002, 0.013349076, 0.013811045, 0.014610838, 0.011656229, 0.012830716, 0.01375168, 0.013774174, 0.017723925, 0.011191691, 0.012432474, 0.0143110575, 0.013407172, 0.01897926, 0.014760449, 0.014536156, 0.01289031, 0.0119761, 0.012154514, 0.012886427, 0.0120841, 0.012988599, 0.011850851, 0.011582858, 0.014240487, 0.013287478]\n",
      "2022-02-25 09:06:23,393 : INFO : merging changes from 1204 documents into a model of 3204 documents\n",
      "2022-02-25 09:06:23,401 : INFO : topic #74 (0.007): 0.001*\"implic\" + 0.001*\"favor\" + 0.001*\"adapt\" + 0.001*\"polygon\" + 0.001*\"stage\" + 0.001*\"situat\" + 0.001*\"respons\" + 0.001*\"industri\" + 0.001*\"regress\" + 0.001*\"drive\"\n",
      "2022-02-25 09:06:23,402 : INFO : topic #61 (0.011): 0.113*\"-\" + 0.082*\",\" + 0.068*\"permut\" + 0.053*\"request\" + 0.053*\"algorithm\" + 0.040*\"disk\" + 0.039*\"ratio\" + 0.034*\"replac\" + 0.028*\"gener\" + 0.027*\"rotat\"\n",
      "2022-02-25 09:06:23,402 : INFO : topic #19 (0.020): 0.476*\"data\" + 0.360*\"structur\" + 0.034*\"definit\" + 0.030*\"design\" + 0.017*\"review\" + 0.014*\"function\" + 0.011*\"storag\" + 0.007*\"due\" + 0.007*\"fact\" + 0.007*\"present\"\n",
      "2022-02-25 09:06:23,403 : INFO : topic #8 (0.021): 0.497*\"problem\" + 0.137*\"solut\" + 0.035*\"nonlinear\" + 0.034*\"variabl\" + 0.029*\"d1\" + 0.029*\"present\" + 0.028*\"formul\" + 0.025*\"-\" + 0.019*\"combinatori\" + 0.018*\"method\"\n",
      "2022-02-25 09:06:23,403 : INFO : topic #20 (0.059): 0.403*\"(\" + 0.380*\")\" + 0.173*\"algorithm\" + 0.007*\"interpol\" + 0.007*\"forward\" + 0.007*\"minim\" + 0.005*\"function\" + 0.005*\"-\" + 0.004*\"e4\" + 0.003*\"differ\"\n"
     ]
    },
    {
     "name": "stderr",
     "output_type": "stream",
     "text": [
      "2022-02-25 09:06:23,404 : INFO : topic diff=0.173729, rho=0.225865\n",
      "2022-02-25 09:06:23,411 : INFO : PROGRESS: pass 18, at document #2000/3204\n",
      "2022-02-25 09:06:24,025 : INFO : optimized alpha [0.013252446, 0.012904194, 0.011580819, 0.014338239, 0.012768745, 0.012504146, 0.013188352, 0.0127034625, 0.020817889, 0.010658952, 0.016468361, 0.012865797, 0.011959931, 0.015682952, 0.011667046, 0.013361181, 0.012974871, 0.0122295795, 0.014063929, 0.020672191, 0.06144344, 0.015369262, 0.012369881, 0.012407236, 0.011555153, 0.011842684, 0.014543634, 0.01430759, 0.014475646, 0.0132341385, 0.013630323, 0.014155567, 0.012357701, 0.012238809, 0.012276578, 0.013424172, 0.014663103, 0.012273429, 0.015398957, 0.012042016, 0.01121312, 0.0145956725, 0.012194506, 0.014930375, 0.015546352, 0.015087442, 0.01227012, 0.011491061, 0.013614847, 0.012820968, 0.0128075285, 0.01314167, 0.014612463, 0.014234493, 0.013399422, 0.0128356945, 0.011773505, 0.013413345, 0.013482411, 0.014062646, 0.015079254, 0.010596817, 0.015968008, 0.011361003, 0.011274331, 0.015843708, 0.016392436, 0.012739311, 0.012352335, 0.010758774, 0.012433164, 0.012396622, 0.012796941, 0.010642746, 0.007051803, 0.01333368, 0.013851946, 0.014737624, 0.011684619, 0.012879222, 0.013790617, 0.013905476, 0.01784963, 0.011194221, 0.0124717085, 0.0143744275, 0.013517373, 0.019232642, 0.01490873, 0.014635765, 0.012940587, 0.011961847, 0.012135939, 0.0129544195, 0.012280892, 0.012981561, 0.011852817, 0.0116257835, 0.014280783, 0.013427825]\n",
      "2022-02-25 09:06:24,031 : INFO : merging changes from 2000 documents into a model of 3204 documents\n",
      "2022-02-25 09:06:24,041 : INFO : topic #74 (0.007): 0.001*\"implic\" + 0.001*\"favor\" + 0.001*\"adapt\" + 0.001*\"polygon\" + 0.001*\"stage\" + 0.001*\"situat\" + 0.001*\"respons\" + 0.001*\"industri\" + 0.001*\"regress\" + 0.001*\"drive\"\n",
      "2022-02-25 09:06:24,041 : INFO : topic #61 (0.011): 0.113*\"-\" + 0.079*\",\" + 0.067*\"permut\" + 0.054*\"request\" + 0.051*\"algorithm\" + 0.044*\"disk\" + 0.039*\"ratio\" + 0.033*\"replac\" + 0.031*\"gener\" + 0.028*\"rotat\"\n",
      "2022-02-25 09:06:24,042 : INFO : topic #19 (0.021): 0.486*\"data\" + 0.352*\"structur\" + 0.033*\"definit\" + 0.028*\"design\" + 0.017*\"review\" + 0.013*\"function\" + 0.011*\"storag\" + 0.007*\"due\" + 0.007*\"present\" + 0.007*\"fact\"\n",
      "2022-02-25 09:06:24,042 : INFO : topic #8 (0.021): 0.496*\"problem\" + 0.138*\"solut\" + 0.036*\"nonlinear\" + 0.032*\"variabl\" + 0.030*\"d1\" + 0.029*\"present\" + 0.028*\"formul\" + 0.025*\"-\" + 0.020*\"combinatori\" + 0.017*\"method\"\n",
      "2022-02-25 09:06:24,042 : INFO : topic #20 (0.061): 0.400*\"(\" + 0.379*\")\" + 0.178*\"algorithm\" + 0.008*\"interpol\" + 0.006*\"forward\" + 0.006*\"minim\" + 0.005*\"-\" + 0.004*\"function\" + 0.004*\"e4\" + 0.003*\"differ\"\n",
      "2022-02-25 09:06:24,043 : INFO : topic diff=0.156585, rho=0.220316\n",
      "2022-02-25 09:06:24,724 : INFO : -6.428 per-word bound, 86.1 perplexity estimate based on a held-out corpus of 1204 documents with 49783 words\n",
      "2022-02-25 09:06:24,724 : INFO : PROGRESS: pass 18, at document #3204/3204\n",
      "2022-02-25 09:06:25,254 : INFO : optimized alpha [0.0134479385, 0.013041857, 0.011656727, 0.014369533, 0.012917687, 0.012596344, 0.013313649, 0.012866521, 0.021354714, 0.01074007, 0.016637351, 0.012971366, 0.012107884, 0.015953947, 0.011761209, 0.013511282, 0.013118566, 0.012360262, 0.014234814, 0.021178251, 0.06266458, 0.015650809, 0.012438306, 0.012502984, 0.011661872, 0.011966168, 0.014757606, 0.0144925825, 0.014627683, 0.013365497, 0.013816082, 0.014213334, 0.012500777, 0.0123738, 0.012422984, 0.013574904, 0.014819949, 0.012441737, 0.01563001, 0.012139977, 0.011297172, 0.014851104, 0.012273936, 0.015109688, 0.015455855, 0.015319801, 0.012393008, 0.011613, 0.013737924, 0.012970908, 0.012977144, 0.0132889515, 0.01476905, 0.014495952, 0.01345609, 0.012972466, 0.011854419, 0.0134741785, 0.013624904, 0.014263461, 0.015229328, 0.010650564, 0.016229898, 0.011477015, 0.011350755, 0.016007293, 0.016678037, 0.012865863, 0.012474051, 0.010821574, 0.012607668, 0.012515723, 0.012953797, 0.010715353, 0.0070152483, 0.013510048, 0.014049437, 0.01487434, 0.011794739, 0.013028577, 0.013907972, 0.0139641175, 0.018137904, 0.011272347, 0.012564155, 0.014546867, 0.013714431, 0.019707302, 0.015009718, 0.014875765, 0.0131218955, 0.012113389, 0.012282682, 0.013062163, 0.012446688, 0.013090611, 0.011929591, 0.011693036, 0.014504174, 0.013573317]\n",
      "2022-02-25 09:06:25,261 : INFO : merging changes from 1204 documents into a model of 3204 documents\n",
      "2022-02-25 09:06:25,270 : INFO : topic #74 (0.007): 0.001*\"implic\" + 0.001*\"favor\" + 0.001*\"adapt\" + 0.001*\"polygon\" + 0.001*\"stage\" + 0.001*\"situat\" + 0.001*\"respons\" + 0.001*\"industri\" + 0.001*\"regress\" + 0.001*\"drive\"\n",
      "2022-02-25 09:06:25,271 : INFO : topic #61 (0.011): 0.111*\"-\" + 0.081*\",\" + 0.069*\"permut\" + 0.054*\"algorithm\" + 0.054*\"request\" + 0.044*\"disk\" + 0.040*\"ratio\" + 0.034*\"replac\" + 0.028*\"rotat\" + 0.028*\"gener\"\n",
      "2022-02-25 09:06:25,271 : INFO : topic #19 (0.021): 0.483*\"data\" + 0.358*\"structur\" + 0.034*\"definit\" + 0.029*\"design\" + 0.017*\"review\" + 0.012*\"function\" + 0.010*\"storag\" + 0.007*\"due\" + 0.007*\"fact\" + 0.007*\"present\"\n",
      "2022-02-25 09:06:25,272 : INFO : topic #8 (0.021): 0.503*\"problem\" + 0.137*\"solut\" + 0.035*\"nonlinear\" + 0.032*\"variabl\" + 0.029*\"present\" + 0.029*\"d1\" + 0.028*\"formul\" + 0.024*\"-\" + 0.020*\"combinatori\" + 0.016*\"appli\"\n",
      "2022-02-25 09:06:25,273 : INFO : topic #20 (0.063): 0.405*\"(\" + 0.381*\")\" + 0.171*\"algorithm\" + 0.007*\"interpol\" + 0.007*\"forward\" + 0.007*\"minim\" + 0.005*\"-\" + 0.004*\"function\" + 0.004*\"e4\" + 0.003*\"64\"\n",
      "2022-02-25 09:06:25,273 : INFO : topic diff=0.161687, rho=0.220316\n",
      "2022-02-25 09:06:25,280 : INFO : PROGRESS: pass 19, at document #2000/3204\n",
      "2022-02-25 09:06:25,885 : INFO : optimized alpha [0.013447423, 0.013057225, 0.011679081, 0.01454813, 0.012919338, 0.012664223, 0.013371743, 0.012895378, 0.021549199, 0.010747264, 0.0168433, 0.013089652, 0.012126689, 0.01621541, 0.011801796, 0.013556089, 0.013242652, 0.012377324, 0.014331743, 0.021411518, 0.065118626, 0.015623694, 0.012518458, 0.012533811, 0.011667782, 0.011966344, 0.01474966, 0.014572675, 0.014706591, 0.01342599, 0.013869228, 0.014352607, 0.012525503, 0.012369876, 0.012435252, 0.013588328, 0.014942942, 0.012417739, 0.015776442, 0.01217329, 0.011289194, 0.014913629, 0.01232148, 0.015180978, 0.015769547, 0.015418311, 0.012434993, 0.011618647, 0.013837451, 0.013092594, 0.012990544, 0.013335158, 0.014800078, 0.014572127, 0.013574573, 0.0130074, 0.0118552055, 0.013561475, 0.013699657, 0.014333809, 0.0153389955, 0.010664874, 0.016245693, 0.011511153, 0.011367994, 0.016206233, 0.016710479, 0.012872459, 0.012481939, 0.010849792, 0.012633726, 0.012548824, 0.012990921, 0.010721339, 0.0069877803, 0.013503368, 0.014090687, 0.015004222, 0.011826414, 0.013077498, 0.0139461765, 0.014095144, 0.018266832, 0.011277385, 0.012597329, 0.014608873, 0.013824617, 0.019958423, 0.015157703, 0.014981538, 0.013171099, 0.012099094, 0.012262877, 0.01312758, 0.012658955, 0.013086568, 0.011930466, 0.011736558, 0.0145447375, 0.013716443]\n",
      "2022-02-25 09:06:25,891 : INFO : merging changes from 2000 documents into a model of 3204 documents\n",
      "2022-02-25 09:06:25,901 : INFO : topic #74 (0.007): 0.001*\"implic\" + 0.001*\"favor\" + 0.001*\"adapt\" + 0.001*\"polygon\" + 0.001*\"stage\" + 0.001*\"situat\" + 0.001*\"respons\" + 0.001*\"industri\" + 0.001*\"regress\" + 0.001*\"drive\"\n",
      "2022-02-25 09:06:25,902 : INFO : topic #61 (0.011): 0.111*\"-\" + 0.078*\",\" + 0.068*\"permut\" + 0.056*\"request\" + 0.052*\"algorithm\" + 0.047*\"disk\" + 0.039*\"ratio\" + 0.033*\"replac\" + 0.031*\"gener\" + 0.028*\"rotat\"\n",
      "2022-02-25 09:06:25,902 : INFO : topic #19 (0.021): 0.492*\"data\" + 0.350*\"structur\" + 0.033*\"definit\" + 0.028*\"design\" + 0.017*\"review\" + 0.011*\"function\" + 0.010*\"storag\" + 0.007*\"due\" + 0.007*\"present\" + 0.007*\"fact\"\n",
      "2022-02-25 09:06:25,903 : INFO : topic #8 (0.022): 0.502*\"problem\" + 0.139*\"solut\" + 0.036*\"nonlinear\" + 0.031*\"variabl\" + 0.030*\"d1\" + 0.029*\"present\" + 0.028*\"formul\" + 0.024*\"-\" + 0.020*\"combinatori\" + 0.016*\"appli\"\n",
      "2022-02-25 09:06:25,904 : INFO : topic #20 (0.065): 0.401*\"(\" + 0.380*\")\" + 0.177*\"algorithm\" + 0.008*\"interpol\" + 0.006*\"forward\" + 0.006*\"minim\" + 0.005*\"-\" + 0.004*\"e4\" + 0.004*\"function\" + 0.003*\"differ\"\n",
      "2022-02-25 09:06:25,904 : INFO : topic diff=0.146605, rho=0.215156\n"
     ]
    },
    {
     "name": "stderr",
     "output_type": "stream",
     "text": [
      "2022-02-25 09:06:26,559 : INFO : -6.422 per-word bound, 85.7 perplexity estimate based on a held-out corpus of 1204 documents with 49783 words\n",
      "2022-02-25 09:06:26,560 : INFO : PROGRESS: pass 19, at document #3204/3204\n",
      "2022-02-25 09:06:27,075 : INFO : optimized alpha [0.013637877, 0.013192724, 0.011751595, 0.014580542, 0.013063718, 0.0127616, 0.0134902075, 0.013053875, 0.022090824, 0.010828965, 0.017012134, 0.013195759, 0.012279142, 0.016493462, 0.011896584, 0.013708799, 0.013386634, 0.012508184, 0.014502743, 0.021926373, 0.06622916, 0.015901787, 0.012585592, 0.012627927, 0.011772733, 0.012087969, 0.014957941, 0.0147681665, 0.014858781, 0.013552807, 0.014062728, 0.014406317, 0.0126664415, 0.012509451, 0.012581804, 0.013734262, 0.015091953, 0.012585806, 0.016004723, 0.0122718355, 0.011371836, 0.015166333, 0.012399498, 0.0153574925, 0.015681487, 0.01565899, 0.012562753, 0.011740808, 0.013958419, 0.013245237, 0.013157761, 0.01348018, 0.014951385, 0.014838994, 0.013629886, 0.013144333, 0.01193267, 0.013623439, 0.013839964, 0.014534528, 0.015486429, 0.010723499, 0.016507069, 0.011627485, 0.0114452215, 0.016378725, 0.016996015, 0.0129946405, 0.012606217, 0.010907677, 0.012810505, 0.0126637565, 0.013147867, 0.01079275, 0.0069529708, 0.013677191, 0.014285496, 0.015141325, 0.011932711, 0.013224648, 0.014061576, 0.01415228, 0.01853842, 0.011354222, 0.012694974, 0.014783851, 0.014024341, 0.020442547, 0.015256579, 0.015221597, 0.013352494, 0.012250555, 0.012405158, 0.013235798, 0.012832454, 0.0131961005, 0.012008086, 0.011802618, 0.014767958, 0.013864784]\n",
      "2022-02-25 09:06:27,081 : INFO : merging changes from 1204 documents into a model of 3204 documents\n",
      "2022-02-25 09:06:27,090 : INFO : topic #74 (0.007): 0.001*\"implic\" + 0.001*\"favor\" + 0.001*\"adapt\" + 0.001*\"polygon\" + 0.001*\"stage\" + 0.001*\"situat\" + 0.001*\"respons\" + 0.001*\"industri\" + 0.001*\"regress\" + 0.001*\"drive\"\n",
      "2022-02-25 09:06:27,090 : INFO : topic #61 (0.011): 0.108*\"-\" + 0.081*\",\" + 0.070*\"permut\" + 0.055*\"request\" + 0.055*\"algorithm\" + 0.047*\"disk\" + 0.040*\"ratio\" + 0.035*\"replac\" + 0.029*\"rotat\" + 0.028*\"gener\"\n",
      "2022-02-25 09:06:27,091 : INFO : topic #19 (0.022): 0.489*\"data\" + 0.357*\"structur\" + 0.033*\"definit\" + 0.029*\"design\" + 0.017*\"review\" + 0.011*\"function\" + 0.010*\"storag\" + 0.007*\"due\" + 0.007*\"fact\" + 0.006*\"present\"\n",
      "2022-02-25 09:06:27,091 : INFO : topic #8 (0.022): 0.509*\"problem\" + 0.137*\"solut\" + 0.035*\"nonlinear\" + 0.030*\"variabl\" + 0.029*\"present\" + 0.029*\"d1\" + 0.029*\"formul\" + 0.023*\"-\" + 0.020*\"combinatori\" + 0.016*\"appli\"\n",
      "2022-02-25 09:06:27,092 : INFO : topic #20 (0.066): 0.405*\"(\" + 0.382*\")\" + 0.171*\"algorithm\" + 0.007*\"interpol\" + 0.007*\"forward\" + 0.007*\"minim\" + 0.005*\"-\" + 0.004*\"e4\" + 0.003*\"function\" + 0.003*\"64\"\n",
      "2022-02-25 09:06:27,093 : INFO : topic diff=0.151045, rho=0.215156\n"
     ]
    },
    {
     "data": {
      "text/plain": [
       "[(0, 0.005622855),\n",
       " (1, 0.0054393196),\n",
       " (2, 0.0048451466),\n",
       " (3, 0.0060115126),\n",
       " (4, 0.0053861304),\n",
       " (5, 0.0052615684),\n",
       " (6, 0.005561971),\n",
       " (7, 0.0053820726),\n",
       " (8, 0.009107979),\n",
       " (9, 0.0044647492),\n",
       " (10, 0.0070140506),\n",
       " (11, 0.005440571),\n",
       " (12, 0.0050626523),\n",
       " (13, 0.0068002036),\n",
       " (14, 0.004904925),\n",
       " (15, 0.0056520957),\n",
       " (16, 0.005519268),\n",
       " (17, 0.0051570856),\n",
       " (18, 0.0059794364),\n",
       " (19, 0.009040176),\n",
       " (20, 0.027306078),\n",
       " (21, 0.006556258),\n",
       " (22, 0.005189001),\n",
       " (23, 0.0052064555),\n",
       " (24, 0.004853862),\n",
       " (25, 0.0049838326),\n",
       " (26, 0.006167113),\n",
       " (27, 0.0060888696),\n",
       " (28, 0.0061262297),\n",
       " (29, 0.005587781),\n",
       " (30, 0.0057980195),\n",
       " (31, 0.00593968),\n",
       " (32, 0.005222335),\n",
       " (33, 0.005157608),\n",
       " (34, 0.005187439),\n",
       " (35, 0.005662594),\n",
       " (36, 0.006222366),\n",
       " (37, 0.005189089),\n",
       " (38, 0.006598698),\n",
       " (39, 0.00505964),\n",
       " (40, 0.004688573),\n",
       " (41, 0.0062530325),\n",
       " (42, 0.005112275),\n",
       " (43, 0.006331847),\n",
       " (44, 0.0064654285),\n",
       " (45, 0.006456153),\n",
       " (46, 0.0051795845),\n",
       " (47, 0.004840699),\n",
       " (48, 0.005755013),\n",
       " (49, 0.0054609706),\n",
       " (50, 0.005424904),\n",
       " (51, 0.0055578365),\n",
       " (52, 0.0061644097),\n",
       " (53, 0.0061180713),\n",
       " (54, 0.0056195604),\n",
       " (55, 0.005419368),\n",
       " (56, 0.0049198032),\n",
       " (57, 0.005616902),\n",
       " (58, 0.0057061743),\n",
       " (59, 0.005992541),\n",
       " (60, 0.0063850074),\n",
       " (61, 0.0044212653),\n",
       " (62, 0.0068058134),\n",
       " (63, 0.0047939764),\n",
       " (64, 0.0047188294),\n",
       " (65, 0.006752898),\n",
       " (66, 0.0070074047),\n",
       " (67, 0.00535765),\n",
       " (68, 0.005197504),\n",
       " (69, 0.0044972016),\n",
       " (70, 0.005281732),\n",
       " (71, 0.0052212276),\n",
       " (72, 0.005420825),\n",
       " (73, 0.0044498174),\n",
       " (74, 0.0028666884),\n",
       " (75, 0.0056390637),\n",
       " (76, 0.005889866),\n",
       " (77, 0.006242722),\n",
       " (78, 0.00491982),\n",
       " (79, 0.0054524816),\n",
       " (80, 0.0057975445),\n",
       " (81, 0.41812858),\n",
       " (82, 0.007643333),\n",
       " (83, 0.0046813106),\n",
       " (84, 0.005234099),\n",
       " (85, 0.0060953363),\n",
       " (86, 0.0057821926),\n",
       " (87, 0.008428399),\n",
       " (88, 0.0062902407),\n",
       " (89, 0.0062758173),\n",
       " (90, 0.005505192),\n",
       " (91, 0.005050866),\n",
       " (92, 0.0051146084),\n",
       " (93, 0.005457079),\n",
       " (94, 0.0052907816),\n",
       " (95, 0.0054407115),\n",
       " (96, 0.004950897),\n",
       " (97, 0.0048661833),\n",
       " (98, 0.0060887835),\n",
       " (99, 0.0057164077)]"
      ]
     },
     "execution_count": 85,
     "metadata": {},
     "output_type": "execute_result"
    }
   ],
   "source": [
    "##### Function check\n",
    "lda = LdaRetrievalModel(doc_repr_2)\n",
    "lda.train_model()\n",
    "\n",
    "# you can now get an LDA vector for a given query in the following way:\n",
    "lda.vectorize_query(\"report\")\n",
    "##### "
   ]
  },
  {
   "cell_type": "markdown",
   "metadata": {
    "deletable": false,
    "editable": false,
    "nbgrader": {
     "cell_type": "markdown",
     "checksum": "32d83b6ea79ca3ddb789a7f8805a1b25",
     "grade": false,
     "grade_id": "cell-0e24b727d5908c0e",
     "locked": true,
     "points": 5,
     "schema_version": 3,
     "solution": false,
     "task": true
    }
   },
   "source": [
    "\\#### Please do not change this. This cell is used for grading."
   ]
  },
  {
   "cell_type": "markdown",
   "metadata": {
    "deletable": false,
    "editable": false,
    "nbgrader": {
     "cell_type": "markdown",
     "checksum": "114a934f0b9ce696e6cf09d3b8da6a3d",
     "grade": false,
     "grade_id": "cell-b1bffcb970b18aeb",
     "locked": true,
     "schema_version": 3,
     "solution": false,
     "task": false
    }
   },
   "source": [
    "---\n",
    "Now we can use the `DenseRetrievalModel` class to obtain an LDA search function.\n",
    "You can test your LDA model in the following cell: Try finding queries which are lexically different to documents, but semantically similar - does LDA work well for these queries?!"
   ]
  },
  {
   "cell_type": "code",
   "execution_count": 86,
   "metadata": {},
   "outputs": [
    {
     "data": {
      "application/vnd.jupyter.widget-view+json": {
       "model_id": "401bde40245e4ad1bbd88b4fec2464d5",
       "version_major": 2,
       "version_minor": 0
      },
      "text/plain": [
       "Text(value='', description='Search Bar')"
      ]
     },
     "metadata": {},
     "output_type": "display_data"
    }
   ],
   "source": [
    "drm_lda = DenseRetrievalRanker(lda, jenson_shannon_sim)\n",
    "\n",
    "# test your LDA model\n",
    "search_fn = drm_lda.search\n",
    "\n",
    "text = widgets.Text(description=\"Search Bar\", width=200)\n",
    "display(text)\n",
    "\n",
    "\n",
    "text.on_submit(handle_submit_2)"
   ]
  },
  {
   "cell_type": "markdown",
   "metadata": {
    "deletable": false,
    "editable": false,
    "nbgrader": {
     "cell_type": "markdown",
     "checksum": "9d7f15863b655119b45f4d89354e5661",
     "grade": false,
     "grade_id": "cell-190cd0854b2791cc",
     "locked": true,
     "schema_version": 3,
     "solution": false,
     "task": false
    }
   },
   "source": [
    "## Section 8: Word2Vec/Doc2Vec (20 points) <a class=\"anchor\" id=\"2vec\"></a>\n",
    "\n",
    "[Back to Part 2](#part2)\n",
    "\n",
    "We will implement two other methods here, the Word2Vec model and the Doc2Vec model, also using `gensim`. Word2Vec creates representations of words, not documents, so the word level vectors need to be aggregated to obtain a representation for the document. Here, we will simply take the mean of the vectors. \n",
    "\n",
    "\n",
    "A drawback of these models is that they need a lot of training data. Our dataset is tiny, so in addition to using a model trained on the data, we will also use a pre-trained model for Word2Vec (this will be automatically downloaded).     \n",
    "\n",
    "*Note*:\n",
    "1. The code in vectorize_documents / vectorize_query should return gensim-like vectors i.e `[(dim, val), .. (dim, val)]`. \n",
    "2. For Word2Vec: You should also handle the following two cases: (a) A word in the query is not present in the vocabulary of the model and (b) none of the words in the query are present in the model - you can return 0 scores for all documents in this case. For either of these, you can check if a `word` is present in the vocab by using `word in self.model`\n"
   ]
  },
  {
   "cell_type": "code",
   "execution_count": 87,
   "metadata": {
    "deletable": false,
    "nbgrader": {
     "cell_type": "code",
     "checksum": "83ab733608ed14c29c09b36b4e1b6daa",
     "grade": false,
     "grade_id": "cell-2b73759f9baf688f",
     "locked": false,
     "schema_version": 3,
     "solution": true,
     "task": false
    }
   },
   "outputs": [
    {
     "name": "stderr",
     "output_type": "stream",
     "text": [
      "2022-02-25 09:06:28,694 : INFO : adding document #0 to Dictionary(0 unique tokens: [])\n",
      "2022-02-25 09:06:28,798 : INFO : built Dictionary(5937 unique tokens: ['-', 'algebra', 'intern', 'languag', 'preliminari']...) from 3204 documents (total 115969 corpus positions)\n",
      "2022-02-25 09:06:28,803 : INFO : discarding 4740 tokens: [('repeat', 8), ('glossari', 7), ('inspect', 8), ('uncol', 2), ('rung', 9), ('secant', 2), ('.', 1603), ('acceler', 6), ('diverg', 3), ('induc', 9)]...\n",
      "2022-02-25 09:06:28,804 : INFO : keeping 1197 tokens which were in no less than 10 and no more than 1602 (=50.0%) documents\n",
      "2022-02-25 09:06:28,805 : INFO : resulting dictionary: Dictionary(1197 unique tokens: ['-', 'algebra', 'intern', 'languag', 'preliminari']...)\n",
      "2022-02-25 09:06:28,863 : INFO : collecting all words and their counts\n",
      "2022-02-25 09:06:28,863 : INFO : PROGRESS: at sentence #0, processed 0 words, keeping 0 word types\n",
      "2022-02-25 09:06:28,877 : INFO : collected 5937 word types from a corpus of 115969 raw words and 3204 sentences\n",
      "2022-02-25 09:06:28,877 : INFO : Loading a fresh vocabulary\n",
      "2022-02-25 09:06:28,885 : INFO : effective_min_count=1 retains 5937 unique words (100% of original 5937, drops 0)\n",
      "2022-02-25 09:06:28,886 : INFO : effective_min_count=1 leaves 115969 word corpus (100% of original 115969, drops 0)\n",
      "2022-02-25 09:06:28,899 : INFO : deleting the raw counts dictionary of 5937 items\n",
      "2022-02-25 09:06:28,900 : INFO : sample=0.001 downsamples 40 most-common words\n",
      "2022-02-25 09:06:28,900 : INFO : downsampling leaves estimated 92346 word corpus (79.6% of prior 115969)\n",
      "2022-02-25 09:06:28,910 : INFO : estimated required memory for 5937 words and 100 dimensions: 7718100 bytes\n",
      "2022-02-25 09:06:28,910 : INFO : resetting layer weights\n",
      "2022-02-25 09:06:29,787 : INFO : training model with 3 workers on 5937 vocabulary and 100 features, using sg=0 hs=0 sample=0.001 negative=5 window=5\n",
      "2022-02-25 09:06:29,837 : INFO : worker thread finished; awaiting finish of 2 more threads\n",
      "2022-02-25 09:06:29,839 : INFO : worker thread finished; awaiting finish of 1 more threads\n",
      "2022-02-25 09:06:29,840 : INFO : worker thread finished; awaiting finish of 0 more threads\n",
      "2022-02-25 09:06:29,840 : INFO : EPOCH - 1 : training on 115969 raw words (92241 effective words) took 0.0s, 2072659 effective words/s\n",
      "2022-02-25 09:06:29,885 : INFO : worker thread finished; awaiting finish of 2 more threads\n",
      "2022-02-25 09:06:29,888 : INFO : worker thread finished; awaiting finish of 1 more threads\n",
      "2022-02-25 09:06:29,888 : INFO : worker thread finished; awaiting finish of 0 more threads\n",
      "2022-02-25 09:06:29,889 : INFO : EPOCH - 2 : training on 115969 raw words (92353 effective words) took 0.0s, 2076123 effective words/s\n",
      "2022-02-25 09:06:29,935 : INFO : worker thread finished; awaiting finish of 2 more threads\n",
      "2022-02-25 09:06:29,939 : INFO : worker thread finished; awaiting finish of 1 more threads\n",
      "2022-02-25 09:06:29,940 : INFO : worker thread finished; awaiting finish of 0 more threads\n",
      "2022-02-25 09:06:29,940 : INFO : EPOCH - 3 : training on 115969 raw words (92323 effective words) took 0.0s, 1933243 effective words/s\n",
      "2022-02-25 09:06:29,986 : INFO : worker thread finished; awaiting finish of 2 more threads\n",
      "2022-02-25 09:06:29,987 : INFO : worker thread finished; awaiting finish of 1 more threads\n",
      "2022-02-25 09:06:29,990 : INFO : worker thread finished; awaiting finish of 0 more threads\n",
      "2022-02-25 09:06:29,991 : INFO : EPOCH - 4 : training on 115969 raw words (92273 effective words) took 0.0s, 2000330 effective words/s\n",
      "2022-02-25 09:06:30,036 : INFO : worker thread finished; awaiting finish of 2 more threads\n",
      "2022-02-25 09:06:30,040 : INFO : worker thread finished; awaiting finish of 1 more threads\n",
      "2022-02-25 09:06:30,041 : INFO : worker thread finished; awaiting finish of 0 more threads\n",
      "2022-02-25 09:06:30,042 : INFO : EPOCH - 5 : training on 115969 raw words (92286 effective words) took 0.0s, 1962926 effective words/s\n",
      "2022-02-25 09:06:30,042 : INFO : training on a 579845 raw words (461476 effective words) took 0.3s, 1811415 effective words/s\n"
     ]
    },
    {
     "data": {
      "text/plain": [
       "[(0, 0.63048977),\n",
       " (1, 0.16533303),\n",
       " (2, 0.03318138),\n",
       " (3, -0.16642505),\n",
       " (4, -0.025858305),\n",
       " (5, 0.7555631),\n",
       " (6, -0.5347868),\n",
       " (7, 0.45631835),\n",
       " (8, -0.43968707),\n",
       " (9, -0.12270099),\n",
       " (10, 0.014981892),\n",
       " (11, 0.32277477),\n",
       " (12, 0.5522438),\n",
       " (13, 0.2887752),\n",
       " (14, -0.46022484),\n",
       " (15, 0.26629084),\n",
       " (16, -0.24742065),\n",
       " (17, 0.38755858),\n",
       " (18, -0.14759472),\n",
       " (19, 0.01480957),\n",
       " (20, 0.5373673),\n",
       " (21, 0.07840139),\n",
       " (22, 0.34280372),\n",
       " (23, -0.29035538),\n",
       " (24, -0.19319412),\n",
       " (25, -0.36707228),\n",
       " (26, 0.06434454),\n",
       " (27, -0.32154557),\n",
       " (28, -0.0069327946),\n",
       " (29, -0.31809494),\n",
       " (30, -0.434445),\n",
       " (31, -0.01654736),\n",
       " (32, 0.26178792),\n",
       " (33, 0.02573272),\n",
       " (34, -0.068308696),\n",
       " (35, -0.24832718),\n",
       " (36, -0.119248375),\n",
       " (37, 0.042822924),\n",
       " (38, -0.28301752),\n",
       " (39, -0.15959607),\n",
       " (40, -0.057353765),\n",
       " (41, 0.14670584),\n",
       " (42, -0.02312547),\n",
       " (43, -0.9548486),\n",
       " (44, 0.1803427),\n",
       " (45, -0.12716681),\n",
       " (46, 0.3976476),\n",
       " (47, -1.7752372),\n",
       " (48, -0.24302553),\n",
       " (49, -0.19245839),\n",
       " (50, -0.010756293),\n",
       " (51, -0.0032287175),\n",
       " (52, 0.46207535),\n",
       " (53, 0.86294377),\n",
       " (54, 0.5507254),\n",
       " (55, 0.15886131),\n",
       " (56, -1.0150597),\n",
       " (57, -0.859786),\n",
       " (58, -0.12944797),\n",
       " (59, -0.1400918),\n",
       " (60, 0.22824404),\n",
       " (61, 0.23314446),\n",
       " (62, -0.36641458),\n",
       " (63, -0.18000011),\n",
       " (64, 0.36583382),\n",
       " (65, 0.012995405),\n",
       " (66, -0.49587703),\n",
       " (67, -0.29283336),\n",
       " (68, -0.47288147),\n",
       " (69, 0.17425098),\n",
       " (70, -0.8517608),\n",
       " (71, -0.2728785),\n",
       " (72, 0.034570638),\n",
       " (73, 0.7374736),\n",
       " (74, -0.050711803),\n",
       " (75, 0.020995965),\n",
       " (76, 0.28005126),\n",
       " (77, 0.36233118),\n",
       " (78, -0.086527966),\n",
       " (79, -0.46084082),\n",
       " (80, 0.21046792),\n",
       " (81, 0.28742504),\n",
       " (82, -0.41045716),\n",
       " (83, 0.19313703),\n",
       " (84, 0.67205167),\n",
       " (85, 0.12845524),\n",
       " (86, -1.003826),\n",
       " (87, -0.4258454),\n",
       " (88, -0.41709566),\n",
       " (89, 0.36876848),\n",
       " (90, 0.38861117),\n",
       " (91, -0.2510374),\n",
       " (92, -1.0045432),\n",
       " (93, 0.19756456),\n",
       " (94, -0.17648284),\n",
       " (95, -0.5472945),\n",
       " (96, 0.420331),\n",
       " (97, 0.6410494),\n",
       " (98, 0.52779853),\n",
       " (99, -0.3557849)]"
      ]
     },
     "execution_count": 87,
     "metadata": {},
     "output_type": "execute_result"
    }
   ],
   "source": [
    "# TODO: Implement this! (10 points)\n",
    "class W2VRetrievalModel(VectorSpaceRetrievalModel):\n",
    "    def __init__(self, doc_repr):\n",
    "        super().__init__(doc_repr)\n",
    "        \n",
    "        # the dimensionality of the vectors\n",
    "        self.size = 100 \n",
    "        self.min_count = 1\n",
    "    \n",
    "    def train_model(self):\n",
    "        \"\"\"\n",
    "        Trains the W2V model\n",
    "        \"\"\"\n",
    "        # YOUR CODE HERE\n",
    "        self.model = Word2Vec(sentences = self.documents,\n",
    "                              size = self.size, \n",
    "                              window = 5, \n",
    "                              min_count = self.min_count)\n",
    "    \n",
    "        \n",
    "    def vectorize_documents(self):\n",
    "        \"\"\"\n",
    "            Returns a doc_id -> vector dictionary\n",
    "        \"\"\"\n",
    "        # YOUR CODE HERE\n",
    "        v = {}\n",
    "        l1 = []\n",
    "        for document_id, token in self.doc_repr:\n",
    "            for word in token:\n",
    "                if word in self.model.wv.vocab:\n",
    "                    vec = self.model.wv[word]\n",
    "                    l1.append(vec)\n",
    "                else:\n",
    "                    l1.append(np.zeros((self.size)))\n",
    "            mean_vector = np.mean(np.array(l1), axis=0)\n",
    "            v[document_id] = list(enumerate(mean_vector))\n",
    "        return v\n",
    "\n",
    "    def vectorize_query(self, query):\n",
    "        \"\"\"\n",
    "        Vectorizes the query using the W2V model\n",
    "        \"\"\"\n",
    "        query = process_text(query, **config_2)\n",
    "        \n",
    "        # YOUR CODE HERE\n",
    "        l1 = []\n",
    "        for word in query:\n",
    "            if word in self.model.wv.vocab:\n",
    "                v = self.model.wv[word]\n",
    "                l1.append(v)\n",
    "            else:\n",
    "                l1.append(np.zeros((self.size)))\n",
    "        vec_query = list(enumerate(np.mean(np.array(l1), axis=0)))\n",
    "        \n",
    "        return vec_query\n",
    "    \n",
    "    \n",
    "class W2VPretrainedRetrievalModel(W2VRetrievalModel):\n",
    "    def __init__(self, doc_repr):\n",
    "        super().__init__(doc_repr)\n",
    "        self.model_name = \"word2vec-google-news-300\"\n",
    "        self.size = 300\n",
    "    \n",
    "    def train_model(self):\n",
    "        \"\"\"\n",
    "        Loads the pretrained model\n",
    "        \"\"\"\n",
    "        self.model = g_downloader.load(self.model_name)\n",
    "\n",
    "w2v = W2VRetrievalModel(doc_repr_2)\n",
    "w2v.train_model()\n",
    "\n",
    "# you can now get a W2V vector for a given query in the following way:\n",
    "w2v.vectorize_query(\"report\")"
   ]
  },
  {
   "cell_type": "code",
   "execution_count": 88,
   "metadata": {
    "deletable": false,
    "editable": false,
    "nbgrader": {
     "cell_type": "code",
     "checksum": "f92b5c5a8c6c4b80652b94223209ab0b",
     "grade": true,
     "grade_id": "cell-b31c0f8d214b8bdf",
     "locked": true,
     "points": 0,
     "schema_version": 3,
     "solution": false,
     "task": false
    }
   },
   "outputs": [],
   "source": [
    "assert len(w2v.vectorize_query(\"report\")) == 100\n",
    "assert len(w2v.vectorize_query(\"this is a sentence that is not mellifluous\")) == 100\n"
   ]
  },
  {
   "cell_type": "markdown",
   "metadata": {
    "deletable": false,
    "editable": false,
    "nbgrader": {
     "cell_type": "markdown",
     "checksum": "8dfaabebcb06f308a7ca61fdc5d369e7",
     "grade": false,
     "grade_id": "cell-c2614fa067386384",
     "locked": true,
     "points": 8,
     "schema_version": 3,
     "solution": false,
     "task": true
    }
   },
   "source": [
    "\\#### Please do not change this. This cell is used for grading."
   ]
  },
  {
   "cell_type": "code",
   "execution_count": 89,
   "metadata": {},
   "outputs": [
    {
     "name": "stderr",
     "output_type": "stream",
     "text": [
      "2022-02-25 09:06:30,077 : INFO : adding document #0 to Dictionary(0 unique tokens: [])\n",
      "2022-02-25 09:06:30,181 : INFO : built Dictionary(5937 unique tokens: ['-', 'algebra', 'intern', 'languag', 'preliminari']...) from 3204 documents (total 115969 corpus positions)\n",
      "2022-02-25 09:06:30,186 : INFO : discarding 4740 tokens: [('repeat', 8), ('glossari', 7), ('inspect', 8), ('uncol', 2), ('rung', 9), ('secant', 2), ('.', 1603), ('acceler', 6), ('diverg', 3), ('induc', 9)]...\n",
      "2022-02-25 09:06:30,187 : INFO : keeping 1197 tokens which were in no less than 10 and no more than 1602 (=50.0%) documents\n",
      "2022-02-25 09:06:30,188 : INFO : resulting dictionary: Dictionary(1197 unique tokens: ['-', 'algebra', 'intern', 'languag', 'preliminari']...)\n",
      "2022-02-25 09:06:36,116 : INFO : loading projection weights from C:\\Users\\Ankit/gensim-data\\word2vec-google-news-300\\word2vec-google-news-300.gz\n",
      "2022-02-25 09:07:07,826 : INFO : loaded (3000000, 300) matrix from C:\\Users\\Ankit/gensim-data\\word2vec-google-news-300\\word2vec-google-news-300.gz\n",
      "C:\\Users\\Ankit\\anaconda3\\envs\\ir_env\\lib\\site-packages\\ipykernel_launcher.py:48: DeprecationWarning: Call to deprecated `wv` (Attribute will be removed in 4.0.0, use self instead).\n",
      "C:\\Users\\Ankit\\anaconda3\\envs\\ir_env\\lib\\site-packages\\ipykernel_launcher.py:49: DeprecationWarning: Call to deprecated `wv` (Attribute will be removed in 4.0.0, use self instead).\n"
     ]
    },
    {
     "data": {
      "text/plain": [
       "[(0, -0.14257812),\n",
       " (1, -0.1640625),\n",
       " (2, -0.09033203),\n",
       " (3, -0.11230469),\n",
       " (4, 0.100097656),\n",
       " (5, -0.041259766),\n",
       " (6, 0.048828125),\n",
       " (7, -0.13671875),\n",
       " (8, 0.19628906),\n",
       " (9, -0.13476562),\n",
       " (10, -0.017578125),\n",
       " (11, 0.032226562),\n",
       " (12, 0.095214844),\n",
       " (13, -0.10595703),\n",
       " (14, -0.16992188),\n",
       " (15, 0.041015625),\n",
       " (16, -0.26367188),\n",
       " (17, -0.0063171387),\n",
       " (18, -0.17773438),\n",
       " (19, -0.24023438),\n",
       " (20, 0.3515625),\n",
       " (21, -0.012207031),\n",
       " (22, -0.16210938),\n",
       " (23, -0.12060547),\n",
       " (24, 0.04321289),\n",
       " (25, 0.10986328),\n",
       " (26, 0.052490234),\n",
       " (27, 0.17871094),\n",
       " (28, -0.14550781),\n",
       " (29, 0.13769531),\n",
       " (30, -0.08203125),\n",
       " (31, -0.28320312),\n",
       " (32, -0.10888672),\n",
       " (33, -0.2890625),\n",
       " (34, 0.072265625),\n",
       " (35, -0.04736328),\n",
       " (36, 0.040283203),\n",
       " (37, 0.067871094),\n",
       " (38, 0.11669922),\n",
       " (39, 0.000831604),\n",
       " (40, 0.068359375),\n",
       " (41, 0.12011719),\n",
       " (42, -0.088378906),\n",
       " (43, 0.33789062),\n",
       " (44, -0.044677734),\n",
       " (45, -0.030151367),\n",
       " (46, 0.0076904297),\n",
       " (47, -0.021118164),\n",
       " (48, -0.25390625),\n",
       " (49, 0.14941406),\n",
       " (50, 0.3984375),\n",
       " (51, 0.021606445),\n",
       " (52, -0.02319336),\n",
       " (53, 0.0063476562),\n",
       " (54, 0.008239746),\n",
       " (55, -0.16894531),\n",
       " (56, 0.037353516),\n",
       " (57, -0.06347656),\n",
       " (58, 0.1171875),\n",
       " (59, -0.1484375),\n",
       " (60, -0.07861328),\n",
       " (61, 0.36914062),\n",
       " (62, -0.22460938),\n",
       " (63, 0.17382812),\n",
       " (64, 0.0138549805),\n",
       " (65, 0.1875),\n",
       " (66, -0.10107422),\n",
       " (67, 0.037841797),\n",
       " (68, 0.0021209717),\n",
       " (69, -0.05126953),\n",
       " (70, 0.096191406),\n",
       " (71, -0.057128906),\n",
       " (72, 0.10595703),\n",
       " (73, -0.020996094),\n",
       " (74, 0.16113281),\n",
       " (75, 0.09765625),\n",
       " (76, 0.038330078),\n",
       " (77, 0.21972656),\n",
       " (78, 0.10644531),\n",
       " (79, 0.0859375),\n",
       " (80, 0.1796875),\n",
       " (81, -0.08300781),\n",
       " (82, -0.033203125),\n",
       " (83, 0.041015625),\n",
       " (84, -0.064941406),\n",
       " (85, 0.019897461),\n",
       " (86, 0.13378906),\n",
       " (87, -0.09765625),\n",
       " (88, -0.19335938),\n",
       " (89, -0.23535156),\n",
       " (90, 0.19042969),\n",
       " (91, 0.0024871826),\n",
       " (92, -0.01574707),\n",
       " (93, 0.032226562),\n",
       " (94, -0.21972656),\n",
       " (95, -0.091308594),\n",
       " (96, 0.021240234),\n",
       " (97, 0.15820312),\n",
       " (98, 0.29882812),\n",
       " (99, -0.328125),\n",
       " (100, 0.057373047),\n",
       " (101, -0.04638672),\n",
       " (102, 0.11328125),\n",
       " (103, -0.1015625),\n",
       " (104, 0.18066406),\n",
       " (105, -0.025146484),\n",
       " (106, -0.16601562),\n",
       " (107, -0.096191406),\n",
       " (108, 0.018798828),\n",
       " (109, -0.19433594),\n",
       " (110, 0.14941406),\n",
       " (111, -0.056640625),\n",
       " (112, -0.106933594),\n",
       " (113, -0.15039062),\n",
       " (114, -0.17578125),\n",
       " (115, 0.11279297),\n",
       " (116, 0.049316406),\n",
       " (117, 0.21972656),\n",
       " (118, 0.31835938),\n",
       " (119, 0.15722656),\n",
       " (120, -0.29296875),\n",
       " (121, 0.10498047),\n",
       " (122, -0.296875),\n",
       " (123, -0.013427734),\n",
       " (124, 0.09082031),\n",
       " (125, 0.012573242),\n",
       " (126, -0.051513672),\n",
       " (127, -0.12890625),\n",
       " (128, 0.014465332),\n",
       " (129, 0.12060547),\n",
       " (130, -0.10107422),\n",
       " (131, -0.111328125),\n",
       " (132, 0.063964844),\n",
       " (133, -0.052978516),\n",
       " (134, -0.04321289),\n",
       " (135, -0.012939453),\n",
       " (136, -0.02758789),\n",
       " (137, -0.09716797),\n",
       " (138, -0.20214844),\n",
       " (139, 0.123046875),\n",
       " (140, -0.04248047),\n",
       " (141, 0.17382812),\n",
       " (142, -0.013671875),\n",
       " (143, 0.1015625),\n",
       " (144, -0.0009384155),\n",
       " (145, -0.03564453),\n",
       " (146, 0.30078125),\n",
       " (147, -0.068359375),\n",
       " (148, -0.056152344),\n",
       " (149, 0.037597656),\n",
       " (150, 0.06591797),\n",
       " (151, 0.040283203),\n",
       " (152, 0.0119018555),\n",
       " (153, 0.096191406),\n",
       " (154, 0.3671875),\n",
       " (155, -0.27929688),\n",
       " (156, -0.052001953),\n",
       " (157, -0.106933594),\n",
       " (158, -0.13476562),\n",
       " (159, -0.046142578),\n",
       " (160, 0.25),\n",
       " (161, 0.0056762695),\n",
       " (162, -0.014404297),\n",
       " (163, -0.03100586),\n",
       " (164, -0.060302734),\n",
       " (165, 0.10595703),\n",
       " (166, 0.37890625),\n",
       " (167, 0.05883789),\n",
       " (168, 0.123046875),\n",
       " (169, -0.115234375),\n",
       " (170, 0.14941406),\n",
       " (171, -0.1640625),\n",
       " (172, -0.23339844),\n",
       " (173, -0.07763672),\n",
       " (174, 0.026733398),\n",
       " (175, -0.021118164),\n",
       " (176, 0.19433594),\n",
       " (177, -0.056152344),\n",
       " (178, -0.006439209),\n",
       " (179, -0.16992188),\n",
       " (180, -0.118652344),\n",
       " (181, -0.06738281),\n",
       " (182, -0.068847656),\n",
       " (183, -0.08691406),\n",
       " (184, -0.1015625),\n",
       " (185, 0.014160156),\n",
       " (186, -0.20117188),\n",
       " (187, 0.09814453),\n",
       " (188, -0.010253906),\n",
       " (189, 0.1875),\n",
       " (190, 0.19628906),\n",
       " (191, -0.22070312),\n",
       " (192, -0.19628906),\n",
       " (193, -0.07373047),\n",
       " (194, 0.06640625),\n",
       " (195, -0.13378906),\n",
       " (196, 0.18359375),\n",
       " (197, -0.20019531),\n",
       " (198, 0.19824219),\n",
       " (199, 0.05029297),\n",
       " (200, 0.029907227),\n",
       " (201, 0.017700195),\n",
       " (202, -0.19335938),\n",
       " (203, -0.096191406),\n",
       " (204, -0.10253906),\n",
       " (205, 0.21289062),\n",
       " (206, -0.029907227),\n",
       " (207, 0.14355469),\n",
       " (208, 0.041015625),\n",
       " (209, -0.21191406),\n",
       " (210, 0.20800781),\n",
       " (211, 0.13769531),\n",
       " (212, -0.01965332),\n",
       " (213, 0.014953613),\n",
       " (214, -0.09765625),\n",
       " (215, 0.24316406),\n",
       " (216, 0.080078125),\n",
       " (217, 0.08251953),\n",
       " (218, 0.09863281),\n",
       " (219, 0.056884766),\n",
       " (220, 0.04248047),\n",
       " (221, 0.068847656),\n",
       " (222, -0.03540039),\n",
       " (223, -0.076171875),\n",
       " (224, -0.00016117096),\n",
       " (225, -0.07519531),\n",
       " (226, 0.22460938),\n",
       " (227, 0.15136719),\n",
       " (228, 0.10058594),\n",
       " (229, 0.10986328),\n",
       " (230, 0.023803711),\n",
       " (231, 0.088378906),\n",
       " (232, 0.061767578),\n",
       " (233, -0.107910156),\n",
       " (234, 0.06225586),\n",
       " (235, 0.0034332275),\n",
       " (236, 0.080566406),\n",
       " (237, 0.106933594),\n",
       " (238, 0.08886719),\n",
       " (239, -0.23730469),\n",
       " (240, 0.064941406),\n",
       " (241, 0.010192871),\n",
       " (242, -0.088378906),\n",
       " (243, -0.33203125),\n",
       " (244, 0.0046691895),\n",
       " (245, 0.21289062),\n",
       " (246, 0.0859375),\n",
       " (247, 0.020385742),\n",
       " (248, 0.045654297),\n",
       " (249, 0.1484375),\n",
       " (250, 0.11816406),\n",
       " (251, 0.055664062),\n",
       " (252, -0.17285156),\n",
       " (253, -0.125),\n",
       " (254, -0.025390625),\n",
       " (255, -0.31835938),\n",
       " (256, 0.03112793),\n",
       " (257, 0.0859375),\n",
       " (258, -0.041992188),\n",
       " (259, 0.15625),\n",
       " (260, 0.16113281),\n",
       " (261, 0.19824219),\n",
       " (262, -0.100097656),\n",
       " (263, 0.203125),\n",
       " (264, 0.12890625),\n",
       " (265, 0.23339844),\n",
       " (266, -0.26757812),\n",
       " (267, 0.05517578),\n",
       " (268, 0.048828125),\n",
       " (269, 0.072265625),\n",
       " (270, 0.24414062),\n",
       " (271, 0.24414062),\n",
       " (272, 0.056884766),\n",
       " (273, -0.0546875),\n",
       " (274, -0.033691406),\n",
       " (275, -0.12060547),\n",
       " (276, 0.03491211),\n",
       " (277, -0.14550781),\n",
       " (278, 0.087402344),\n",
       " (279, -0.08300781),\n",
       " (280, 0.017211914),\n",
       " (281, 0.14355469),\n",
       " (282, -0.122558594),\n",
       " (283, 0.1796875),\n",
       " (284, 0.13085938),\n",
       " (285, -0.16503906),\n",
       " (286, 0.012756348),\n",
       " (287, 0.16015625),\n",
       " (288, -0.03112793),\n",
       " (289, 0.08203125),\n",
       " (290, 0.17382812),\n",
       " (291, -0.16796875),\n",
       " (292, 0.13085938),\n",
       " (293, 0.08544922),\n",
       " (294, -0.2109375),\n",
       " (295, -0.13085938),\n",
       " (296, -0.028930664),\n",
       " (297, -0.10546875),\n",
       " (298, 0.084472656),\n",
       " (299, -0.14160156)]"
      ]
     },
     "execution_count": 89,
     "metadata": {},
     "output_type": "execute_result"
    }
   ],
   "source": [
    "w2v_pretrained = W2VPretrainedRetrievalModel(doc_repr_2)\n",
    "w2v_pretrained.train_model()\n",
    "\n",
    "# you can now get an W2V vector for a given query in the following way:\n",
    "w2v_pretrained.vectorize_query(\"report\")"
   ]
  },
  {
   "cell_type": "code",
   "execution_count": 90,
   "metadata": {
    "deletable": false,
    "editable": false,
    "nbgrader": {
     "cell_type": "code",
     "checksum": "0822845afb5eafe5ddb1ffeaa4f4942a",
     "grade": true,
     "grade_id": "cell-1b1466f8ce516f42",
     "locked": true,
     "points": 2,
     "schema_version": 3,
     "solution": false,
     "task": false
    }
   },
   "outputs": [
    {
     "name": "stdout",
     "output_type": "stream",
     "text": [
      "300\n"
     ]
    },
    {
     "name": "stderr",
     "output_type": "stream",
     "text": [
      "C:\\Users\\Ankit\\anaconda3\\envs\\ir_env\\lib\\site-packages\\ipykernel_launcher.py:48: DeprecationWarning: Call to deprecated `wv` (Attribute will be removed in 4.0.0, use self instead).\n",
      "C:\\Users\\Ankit\\anaconda3\\envs\\ir_env\\lib\\site-packages\\ipykernel_launcher.py:49: DeprecationWarning: Call to deprecated `wv` (Attribute will be removed in 4.0.0, use self instead).\n"
     ]
    }
   ],
   "source": [
    "##### Function check\n",
    "\n",
    "print(len(w2v_pretrained.vectorize_query(\"report\")))\n",
    "#####"
   ]
  },
  {
   "cell_type": "code",
   "execution_count": 91,
   "metadata": {},
   "outputs": [
    {
     "data": {
      "application/vnd.jupyter.widget-view+json": {
       "model_id": "e18ea2088bb447d69f2b18e66bb7c8b7",
       "version_major": 2,
       "version_minor": 0
      },
      "text/plain": [
       "Text(value='', description='Search Bar')"
      ]
     },
     "metadata": {},
     "output_type": "display_data"
    }
   ],
   "source": [
    "drm_w2v = DenseRetrievalRanker(w2v, cosine_sim)\n",
    "\n",
    "# test your LDA model\n",
    "search_fn = drm_w2v.search\n",
    "\n",
    "text = widgets.Text(description=\"Search Bar\", width=200)\n",
    "display(text)\n",
    "\n",
    "\n",
    "text.on_submit(handle_submit_2)"
   ]
  },
  {
   "cell_type": "code",
   "execution_count": 92,
   "metadata": {},
   "outputs": [
    {
     "name": "stderr",
     "output_type": "stream",
     "text": [
      "C:\\Users\\Ankit\\anaconda3\\envs\\ir_env\\lib\\site-packages\\ipykernel_launcher.py:30: DeprecationWarning: Call to deprecated `wv` (Attribute will be removed in 4.0.0, use self instead).\n",
      "C:\\Users\\Ankit\\anaconda3\\envs\\ir_env\\lib\\site-packages\\ipykernel_launcher.py:31: DeprecationWarning: Call to deprecated `wv` (Attribute will be removed in 4.0.0, use self instead).\n"
     ]
    },
    {
     "data": {
      "application/vnd.jupyter.widget-view+json": {
       "model_id": "137f4a60b5a04c46b428b3528141a70f",
       "version_major": 2,
       "version_minor": 0
      },
      "text/plain": [
       "Text(value='', description='Search Bar')"
      ]
     },
     "metadata": {},
     "output_type": "display_data"
    }
   ],
   "source": [
    "drm_w2v_pretrained = DenseRetrievalRanker(w2v_pretrained, cosine_sim)\n",
    "\n",
    "# test your LDA model\n",
    "search_fn = drm_w2v_pretrained.search\n",
    "\n",
    "text = widgets.Text(description=\"Search Bar\", width=200)\n",
    "display(text)\n",
    "\n",
    "\n",
    "text.on_submit(handle_submit_2)"
   ]
  },
  {
   "cell_type": "markdown",
   "metadata": {
    "deletable": false,
    "editable": false,
    "nbgrader": {
     "cell_type": "markdown",
     "checksum": "51b778984fd60757974f51047c61eb15",
     "grade": false,
     "grade_id": "cell-b92f701cbc706108",
     "locked": true,
     "schema_version": 3,
     "solution": false,
     "task": false
    }
   },
   "source": [
    "**Implementation (10 points):**\n",
    "For Doc2Vec, you will need to create a list of `TaggedDocument` instead of using the `self.corpus` or `self.documents` variable. Use the document id as the 'tag'.\n",
    "  "
   ]
  },
  {
   "cell_type": "code",
   "execution_count": 93,
   "metadata": {
    "deletable": false,
    "nbgrader": {
     "cell_type": "code",
     "checksum": "1f60fdeb97febb7f4a6fd5bf109aac20",
     "grade": false,
     "grade_id": "cell-680facdcc98a19ab",
     "locked": false,
     "schema_version": 3,
     "solution": true,
     "task": false
    }
   },
   "outputs": [
    {
     "name": "stderr",
     "output_type": "stream",
     "text": [
      "2022-02-25 09:10:16,680 : INFO : adding document #0 to Dictionary(0 unique tokens: [])\n",
      "2022-02-25 09:10:16,789 : INFO : built Dictionary(5937 unique tokens: ['-', 'algebra', 'intern', 'languag', 'preliminari']...) from 3204 documents (total 115969 corpus positions)\n",
      "2022-02-25 09:10:16,794 : INFO : discarding 4740 tokens: [('repeat', 8), ('glossari', 7), ('inspect', 8), ('uncol', 2), ('rung', 9), ('secant', 2), ('.', 1603), ('acceler', 6), ('diverg', 3), ('induc', 9)]...\n",
      "2022-02-25 09:10:16,795 : INFO : keeping 1197 tokens which were in no less than 10 and no more than 1602 (=50.0%) documents\n",
      "2022-02-25 09:10:16,797 : INFO : resulting dictionary: Dictionary(1197 unique tokens: ['-', 'algebra', 'intern', 'languag', 'preliminari']...)\n",
      "2022-02-25 09:10:16,858 : INFO : collecting all words and their counts\n",
      "2022-02-25 09:10:16,859 : INFO : PROGRESS: at example #0, processed 0 words (0/s), 0 word types, 0 tags\n",
      "2022-02-25 09:10:16,879 : INFO : collected 5937 word types and 3204 unique tags from a corpus of 3204 examples and 115969 words\n",
      "2022-02-25 09:10:16,880 : INFO : Loading a fresh vocabulary\n",
      "2022-02-25 09:10:16,888 : INFO : effective_min_count=1 retains 5937 unique words (100% of original 5937, drops 0)\n",
      "2022-02-25 09:10:16,889 : INFO : effective_min_count=1 leaves 115969 word corpus (100% of original 115969, drops 0)\n",
      "2022-02-25 09:10:16,902 : INFO : deleting the raw counts dictionary of 5937 items\n",
      "2022-02-25 09:10:16,903 : INFO : sample=0.001 downsamples 40 most-common words\n",
      "2022-02-25 09:10:16,904 : INFO : downsampling leaves estimated 92346 word corpus (79.6% of prior 115969)\n",
      "2022-02-25 09:10:16,915 : INFO : estimated required memory for 5937 words and 100 dimensions: 9640500 bytes\n",
      "2022-02-25 09:10:16,916 : INFO : resetting layer weights\n",
      "2022-02-25 09:10:18,294 : INFO : training model with 3 workers on 5937 vocabulary and 100 features, using sg=0 hs=0 sample=0.001 negative=5 window=5\n",
      "2022-02-25 09:10:18,500 : INFO : worker thread finished; awaiting finish of 2 more threads\n",
      "2022-02-25 09:10:18,508 : INFO : worker thread finished; awaiting finish of 1 more threads\n",
      "2022-02-25 09:10:18,509 : INFO : worker thread finished; awaiting finish of 0 more threads\n",
      "2022-02-25 09:10:18,509 : INFO : EPOCH - 1 : training on 115969 raw words (95476 effective words) took 0.2s, 454648 effective words/s\n",
      "2022-02-25 09:10:18,719 : INFO : worker thread finished; awaiting finish of 2 more threads\n",
      "2022-02-25 09:10:18,732 : INFO : worker thread finished; awaiting finish of 1 more threads\n",
      "2022-02-25 09:10:18,733 : INFO : worker thread finished; awaiting finish of 0 more threads\n",
      "2022-02-25 09:10:18,734 : INFO : EPOCH - 2 : training on 115969 raw words (95450 effective words) took 0.2s, 431727 effective words/s\n",
      "2022-02-25 09:10:18,955 : INFO : worker thread finished; awaiting finish of 2 more threads\n",
      "2022-02-25 09:10:18,966 : INFO : worker thread finished; awaiting finish of 1 more threads\n",
      "2022-02-25 09:10:18,970 : INFO : worker thread finished; awaiting finish of 0 more threads\n",
      "2022-02-25 09:10:18,970 : INFO : EPOCH - 3 : training on 115969 raw words (95444 effective words) took 0.2s, 410217 effective words/s\n",
      "2022-02-25 09:10:19,185 : INFO : worker thread finished; awaiting finish of 2 more threads\n",
      "2022-02-25 09:10:19,186 : INFO : worker thread finished; awaiting finish of 1 more threads\n",
      "2022-02-25 09:10:19,195 : INFO : worker thread finished; awaiting finish of 0 more threads\n",
      "2022-02-25 09:10:19,195 : INFO : EPOCH - 4 : training on 115969 raw words (95586 effective words) took 0.2s, 431997 effective words/s\n",
      "2022-02-25 09:10:19,405 : INFO : worker thread finished; awaiting finish of 2 more threads\n",
      "2022-02-25 09:10:19,414 : INFO : worker thread finished; awaiting finish of 1 more threads\n",
      "2022-02-25 09:10:19,417 : INFO : worker thread finished; awaiting finish of 0 more threads\n",
      "2022-02-25 09:10:19,418 : INFO : EPOCH - 5 : training on 115969 raw words (95594 effective words) took 0.2s, 438440 effective words/s\n",
      "2022-02-25 09:10:19,657 : INFO : worker thread finished; awaiting finish of 2 more threads\n",
      "2022-02-25 09:10:19,658 : INFO : worker thread finished; awaiting finish of 1 more threads\n",
      "2022-02-25 09:10:19,662 : INFO : worker thread finished; awaiting finish of 0 more threads\n",
      "2022-02-25 09:10:19,663 : INFO : EPOCH - 6 : training on 115969 raw words (95539 effective words) took 0.2s, 395687 effective words/s\n",
      "2022-02-25 09:10:19,892 : INFO : worker thread finished; awaiting finish of 2 more threads\n",
      "2022-02-25 09:10:19,898 : INFO : worker thread finished; awaiting finish of 1 more threads\n",
      "2022-02-25 09:10:19,900 : INFO : worker thread finished; awaiting finish of 0 more threads\n",
      "2022-02-25 09:10:19,901 : INFO : EPOCH - 7 : training on 115969 raw words (95632 effective words) took 0.2s, 408381 effective words/s\n",
      "2022-02-25 09:10:20,120 : INFO : worker thread finished; awaiting finish of 2 more threads\n",
      "2022-02-25 09:10:20,128 : INFO : worker thread finished; awaiting finish of 1 more threads\n",
      "2022-02-25 09:10:20,129 : INFO : worker thread finished; awaiting finish of 0 more threads\n",
      "2022-02-25 09:10:20,130 : INFO : EPOCH - 8 : training on 115969 raw words (95510 effective words) took 0.2s, 422066 effective words/s\n",
      "2022-02-25 09:10:20,348 : INFO : worker thread finished; awaiting finish of 2 more threads\n",
      "2022-02-25 09:10:20,352 : INFO : worker thread finished; awaiting finish of 1 more threads\n",
      "2022-02-25 09:10:20,356 : INFO : worker thread finished; awaiting finish of 0 more threads\n",
      "2022-02-25 09:10:20,356 : INFO : EPOCH - 9 : training on 115969 raw words (95376 effective words) took 0.2s, 429146 effective words/s\n",
      "2022-02-25 09:10:20,578 : INFO : worker thread finished; awaiting finish of 2 more threads\n",
      "2022-02-25 09:10:20,583 : INFO : worker thread finished; awaiting finish of 1 more threads\n",
      "2022-02-25 09:10:20,586 : INFO : worker thread finished; awaiting finish of 0 more threads\n",
      "2022-02-25 09:10:20,587 : INFO : EPOCH - 10 : training on 115969 raw words (95556 effective words) took 0.2s, 422313 effective words/s\n",
      "2022-02-25 09:10:20,803 : INFO : worker thread finished; awaiting finish of 2 more threads\n",
      "2022-02-25 09:10:20,807 : INFO : worker thread finished; awaiting finish of 1 more threads\n",
      "2022-02-25 09:10:20,808 : INFO : worker thread finished; awaiting finish of 0 more threads\n",
      "2022-02-25 09:10:20,808 : INFO : EPOCH - 11 : training on 115969 raw words (95640 effective words) took 0.2s, 438448 effective words/s\n",
      "2022-02-25 09:10:21,033 : INFO : worker thread finished; awaiting finish of 2 more threads\n",
      "2022-02-25 09:10:21,035 : INFO : worker thread finished; awaiting finish of 1 more threads\n",
      "2022-02-25 09:10:21,039 : INFO : worker thread finished; awaiting finish of 0 more threads\n",
      "2022-02-25 09:10:21,039 : INFO : EPOCH - 12 : training on 115969 raw words (95479 effective words) took 0.2s, 419406 effective words/s\n",
      "2022-02-25 09:10:21,252 : INFO : worker thread finished; awaiting finish of 2 more threads\n",
      "2022-02-25 09:10:21,256 : INFO : worker thread finished; awaiting finish of 1 more threads\n",
      "2022-02-25 09:10:21,261 : INFO : worker thread finished; awaiting finish of 0 more threads\n",
      "2022-02-25 09:10:21,261 : INFO : EPOCH - 13 : training on 115969 raw words (95524 effective words) took 0.2s, 437069 effective words/s\n",
      "2022-02-25 09:10:21,477 : INFO : worker thread finished; awaiting finish of 2 more threads\n",
      "2022-02-25 09:10:21,479 : INFO : worker thread finished; awaiting finish of 1 more threads\n",
      "2022-02-25 09:10:21,488 : INFO : worker thread finished; awaiting finish of 0 more threads\n",
      "2022-02-25 09:10:21,489 : INFO : EPOCH - 14 : training on 115969 raw words (95676 effective words) took 0.2s, 428244 effective words/s\n",
      "2022-02-25 09:10:21,705 : INFO : worker thread finished; awaiting finish of 2 more threads\n",
      "2022-02-25 09:10:21,711 : INFO : worker thread finished; awaiting finish of 1 more threads\n",
      "2022-02-25 09:10:21,716 : INFO : worker thread finished; awaiting finish of 0 more threads\n",
      "2022-02-25 09:10:21,716 : INFO : EPOCH - 15 : training on 115969 raw words (95539 effective words) took 0.2s, 426297 effective words/s\n",
      "2022-02-25 09:10:21,963 : INFO : worker thread finished; awaiting finish of 2 more threads\n",
      "2022-02-25 09:10:21,971 : INFO : worker thread finished; awaiting finish of 1 more threads\n"
     ]
    },
    {
     "name": "stderr",
     "output_type": "stream",
     "text": [
      "2022-02-25 09:10:21,971 : INFO : worker thread finished; awaiting finish of 0 more threads\n",
      "2022-02-25 09:10:21,972 : INFO : EPOCH - 16 : training on 115969 raw words (95475 effective words) took 0.3s, 379290 effective words/s\n",
      "2022-02-25 09:10:22,190 : INFO : worker thread finished; awaiting finish of 2 more threads\n",
      "2022-02-25 09:10:22,198 : INFO : worker thread finished; awaiting finish of 1 more threads\n",
      "2022-02-25 09:10:22,206 : INFO : worker thread finished; awaiting finish of 0 more threads\n",
      "2022-02-25 09:10:22,207 : INFO : EPOCH - 17 : training on 115969 raw words (95540 effective words) took 0.2s, 413799 effective words/s\n",
      "2022-02-25 09:10:22,437 : INFO : worker thread finished; awaiting finish of 2 more threads\n",
      "2022-02-25 09:10:22,442 : INFO : worker thread finished; awaiting finish of 1 more threads\n",
      "2022-02-25 09:10:22,444 : INFO : worker thread finished; awaiting finish of 0 more threads\n",
      "2022-02-25 09:10:22,444 : INFO : EPOCH - 18 : training on 115969 raw words (95676 effective words) took 0.2s, 410515 effective words/s\n",
      "2022-02-25 09:10:22,657 : INFO : worker thread finished; awaiting finish of 2 more threads\n",
      "2022-02-25 09:10:22,668 : INFO : worker thread finished; awaiting finish of 1 more threads\n",
      "2022-02-25 09:10:22,671 : INFO : worker thread finished; awaiting finish of 0 more threads\n",
      "2022-02-25 09:10:22,671 : INFO : EPOCH - 19 : training on 115969 raw words (95538 effective words) took 0.2s, 426796 effective words/s\n",
      "2022-02-25 09:10:22,889 : INFO : worker thread finished; awaiting finish of 2 more threads\n",
      "2022-02-25 09:10:22,905 : INFO : worker thread finished; awaiting finish of 1 more threads\n",
      "2022-02-25 09:10:22,908 : INFO : worker thread finished; awaiting finish of 0 more threads\n",
      "2022-02-25 09:10:22,908 : INFO : EPOCH - 20 : training on 115969 raw words (95544 effective words) took 0.2s, 409976 effective words/s\n",
      "2022-02-25 09:10:22,909 : INFO : training on a 2319380 raw words (1910794 effective words) took 4.6s, 414212 effective words/s\n"
     ]
    },
    {
     "data": {
      "text/plain": [
       "[(0, 0.038270168),\n",
       " (1, 0.051851407),\n",
       " (2, 0.056690376),\n",
       " (3, 0.018441394),\n",
       " (4, 0.015861433),\n",
       " (5, 0.035652306),\n",
       " (6, -0.12861358),\n",
       " (7, 0.078681715),\n",
       " (8, -0.00781824),\n",
       " (9, -0.02016808),\n",
       " (10, 0.035641704),\n",
       " (11, -0.020004557),\n",
       " (12, 0.035147827),\n",
       " (13, 0.04371704),\n",
       " (14, -0.042726524),\n",
       " (15, 0.08563751),\n",
       " (16, 0.02977611),\n",
       " (17, 0.029952573),\n",
       " (18, 0.032686513),\n",
       " (19, 0.06300848),\n",
       " (20, 0.043363385),\n",
       " (21, 0.0010796783),\n",
       " (22, 0.01746228),\n",
       " (23, -0.042500805),\n",
       " (24, -0.06725001),\n",
       " (25, -0.07679893),\n",
       " (26, -0.041478567),\n",
       " (27, -0.020105124),\n",
       " (28, 0.013418047),\n",
       " (29, -0.014783397),\n",
       " (30, -0.00893717),\n",
       " (31, -0.033835135),\n",
       " (32, 0.010175608),\n",
       " (33, 0.009772796),\n",
       " (34, -0.008516855),\n",
       " (35, -0.0033391286),\n",
       " (36, -0.04773337),\n",
       " (37, 0.04892546),\n",
       " (38, -0.023307137),\n",
       " (39, -0.012842924),\n",
       " (40, -0.036240652),\n",
       " (41, -0.02851362),\n",
       " (42, 0.067890085),\n",
       " (43, -0.05226961),\n",
       " (44, -0.01250178),\n",
       " (45, 0.010055013),\n",
       " (46, 0.073482275),\n",
       " (47, -0.14553434),\n",
       " (48, 0.0014197567),\n",
       " (49, -0.024082823),\n",
       " (50, -0.00029895286),\n",
       " (51, 0.014664078),\n",
       " (52, 0.11104769),\n",
       " (53, 0.11596182),\n",
       " (54, -0.037179034),\n",
       " (55, -0.03837082),\n",
       " (56, -0.07079973),\n",
       " (57, -0.023241883),\n",
       " (58, -0.0918368),\n",
       " (59, 0.0057554347),\n",
       " (60, -0.015988594),\n",
       " (61, 0.019859064),\n",
       " (62, -0.006810003),\n",
       " (63, -0.05325754),\n",
       " (64, 0.12251147),\n",
       " (65, -0.054058373),\n",
       " (66, -0.05133378),\n",
       " (67, -0.072568946),\n",
       " (68, 0.014642213),\n",
       " (69, -0.014645768),\n",
       " (70, -0.054936618),\n",
       " (71, -0.0051875925),\n",
       " (72, 0.041708354),\n",
       " (73, 0.0028810017),\n",
       " (74, 0.013969748),\n",
       " (75, 0.0006391261),\n",
       " (76, 0.05960151),\n",
       " (77, 0.021870013),\n",
       " (78, -0.03914323),\n",
       " (79, -0.07606375),\n",
       " (80, 0.036643557),\n",
       " (81, -0.0017352883),\n",
       " (82, -0.051768538),\n",
       " (83, 0.04935012),\n",
       " (84, 0.043017253),\n",
       " (85, -0.018316181),\n",
       " (86, -0.067318045),\n",
       " (87, -0.08652659),\n",
       " (88, -0.011538904),\n",
       " (89, 0.02316141),\n",
       " (90, 0.014555085),\n",
       " (91, -0.014418444),\n",
       " (92, -0.16386938),\n",
       " (93, 0.051246285),\n",
       " (94, -0.045182493),\n",
       " (95, -0.058040626),\n",
       " (96, 0.047432687),\n",
       " (97, 0.04379728),\n",
       " (98, 0.1065767),\n",
       " (99, 0.011588996)]"
      ]
     },
     "execution_count": 93,
     "metadata": {},
     "output_type": "execute_result"
    }
   ],
   "source": [
    "# TODO: Implement this! (10 points)\n",
    "class D2VRetrievalModel(VectorSpaceRetrievalModel):\n",
    "    def __init__(self, doc_repr):\n",
    "        super().__init__(doc_repr)\n",
    "        \n",
    "        self.vector_size= 100\n",
    "        self.min_count = 1\n",
    "        self.epochs = 20\n",
    "        \n",
    "        # YOUR CODE HERE\n",
    "        self.tags = [TaggedDocument(doc, [i]) for i, doc in self.doc_repr]\n",
    "        \n",
    "    def train_model(self):\n",
    "        # YOUR CODE HERE\n",
    "        self.model = Doc2Vec(self.tags, vector_size=self.vector_size, min_count=self.min_count, epochs=self.epochs)\n",
    "    \n",
    "    def vectorize_documents(self):\n",
    "        \"\"\"\n",
    "            Returns a doc_id -> vector dictionary\n",
    "        \"\"\"\n",
    "        # YOUR CODE HERE\n",
    "        v = {}\n",
    "        for document_id, token in self.doc_repr:\n",
    "            v[document_id] = self.model.infer_vector(token)\n",
    "            v[document_id] = list(enumerate(v[document_id]))\n",
    "            \n",
    "        return v\n",
    "\n",
    "    def vectorize_query(self, query):\n",
    "        # YOUR CODE HERE\n",
    "        query = process_text(query, **config_2)\n",
    "        query = self.model.infer_vector(query)\n",
    "        query = list(enumerate(query))\n",
    "\n",
    "        return query\n",
    "        \n",
    "d2v = D2VRetrievalModel(doc_repr_2)\n",
    "d2v.train_model()\n",
    "\n",
    "\n",
    "# # you can now get an LSI vector for a given query in the following way:\n",
    "d2v.vectorize_query(\"report\")"
   ]
  },
  {
   "cell_type": "code",
   "execution_count": 94,
   "metadata": {
    "deletable": false,
    "editable": false,
    "nbgrader": {
     "cell_type": "code",
     "checksum": "e83a363a9d4f136efbdde1426a83925e",
     "grade": true,
     "grade_id": "cell-5e2c5e0c9a2e8cb5",
     "locked": true,
     "points": 0,
     "schema_version": 3,
     "solution": false,
     "task": false
    }
   },
   "outputs": [],
   "source": [
    "#### Please do not change this. This cell is used for grading."
   ]
  },
  {
   "cell_type": "markdown",
   "metadata": {
    "deletable": false,
    "editable": false,
    "nbgrader": {
     "cell_type": "markdown",
     "checksum": "5bb46bf6b9be1e0ca66f0b0bc6260ecb",
     "grade": false,
     "grade_id": "cell-8a49d414f798a595",
     "locked": true,
     "points": 10,
     "schema_version": 3,
     "solution": false,
     "task": true
    }
   },
   "source": [
    "\\#### Please do not change this. This cell is used for grading."
   ]
  },
  {
   "cell_type": "code",
   "execution_count": 95,
   "metadata": {},
   "outputs": [
    {
     "data": {
      "application/vnd.jupyter.widget-view+json": {
       "model_id": "aa1b225ae9f24675983930a63573a9df",
       "version_major": 2,
       "version_minor": 0
      },
      "text/plain": [
       "Text(value='', description='Search Bar')"
      ]
     },
     "metadata": {},
     "output_type": "display_data"
    }
   ],
   "source": [
    "drm_d2v = DenseRetrievalRanker(d2v, cosine_sim)\n",
    "\n",
    "# test your LDA model\n",
    "search_fn = drm_d2v.search\n",
    "\n",
    "text = widgets.Text(description=\"Search Bar\", width=200)\n",
    "display(text)\n",
    "\n",
    "\n",
    "text.on_submit(handle_submit_2)"
   ]
  },
  {
   "cell_type": "markdown",
   "metadata": {
    "deletable": false,
    "editable": false,
    "nbgrader": {
     "cell_type": "markdown",
     "checksum": "363ec36c1d03d9f9e1c2045a6e193c14",
     "grade": false,
     "grade_id": "cell-3529ae29eece7b97",
     "locked": true,
     "schema_version": 3,
     "solution": false,
     "task": false
    }
   },
   "source": [
    "---\n",
    "## Section 9: Re-ranking (10 points) <a class=\"anchor\" id=\"reranking\"></a>\n",
    "\n",
    "[Back to Part 2](#part2)\n",
    "\n",
    "To motivate the re-ranking perspective (i.e retrieve with lexical method + rerank with a semantic method), let's search using semantic methods and compare it to BM25's performance, along with their runtime:\n"
   ]
  },
  {
   "cell_type": "code",
   "execution_count": 96,
   "metadata": {
    "deletable": false,
    "editable": false,
    "nbgrader": {
     "cell_type": "code",
     "checksum": "5755f70e3eb28abc65d14d80125338af",
     "grade": false,
     "grade_id": "cell-f8f43bf5ae383128",
     "locked": true,
     "schema_version": 3,
     "solution": false,
     "task": false
    }
   },
   "outputs": [
    {
     "name": "stdout",
     "output_type": "stream",
     "text": [
      "BM25: \n",
      "5.77 ms ± 276 µs per loop (mean ± std. dev. of 7 runs, 100 loops each)\n",
      "LSI: \n",
      "229 ms ± 1.65 ms per loop (mean ± std. dev. of 7 runs, 1 loop each)\n",
      "LDA: \n",
      "1.04 s ± 7.4 ms per loop (mean ± std. dev. of 7 runs, 1 loop each)\n",
      "W2V: \n",
      "272 ms ± 3.25 ms per loop (mean ± std. dev. of 7 runs, 1 loop each)\n",
      "W2V(Pretrained): \n"
     ]
    },
    {
     "name": "stderr",
     "output_type": "stream",
     "text": [
      "C:\\Users\\Ankit\\anaconda3\\envs\\ir_env\\lib\\site-packages\\ipykernel_launcher.py:48: DeprecationWarning: Call to deprecated `wv` (Attribute will be removed in 4.0.0, use self instead).\n",
      "C:\\Users\\Ankit\\anaconda3\\envs\\ir_env\\lib\\site-packages\\ipykernel_launcher.py:49: DeprecationWarning: Call to deprecated `wv` (Attribute will be removed in 4.0.0, use self instead).\n"
     ]
    },
    {
     "name": "stdout",
     "output_type": "stream",
     "text": [
      "2.36 s ± 16.5 ms per loop (mean ± std. dev. of 7 runs, 1 loop each)\n",
      "D2V:\n",
      "281 ms ± 8.26 ms per loop (mean ± std. dev. of 7 runs, 1 loop each)\n"
     ]
    }
   ],
   "source": [
    "query = \"algebraic functions\"\n",
    "print(\"BM25: \")\n",
    "%timeit bm25_search(query, 2)\n",
    "print(\"LSI: \")\n",
    "%timeit drm_lsi.search(query)\n",
    "print(\"LDA: \")\n",
    "%timeit drm_lda.search(query)\n",
    "print(\"W2V: \")\n",
    "%timeit drm_w2v.search(query)\n",
    "print(\"W2V(Pretrained): \")\n",
    "%timeit drm_w2v_pretrained.search(query)\n",
    "print(\"D2V:\")\n",
    "%timeit drm_d2v.search(query)"
   ]
  },
  {
   "cell_type": "markdown",
   "metadata": {
    "deletable": false,
    "editable": false,
    "nbgrader": {
     "cell_type": "markdown",
     "checksum": "ae398da0a8c23c95bcbb0023b7ec6f34",
     "grade": false,
     "grade_id": "cell-db5ff09f97841af7",
     "locked": true,
     "schema_version": 3,
     "solution": false,
     "task": false
    }
   },
   "source": [
    "---\n",
    "\n",
    "**Implementation (10 points):**\n",
    "Re-ranking involves retrieving a small set of documents using simple but fast methods like BM25 and then re-ranking them with the aid of semantic methods such as LDA or LSI. Implement the following class, which takes in an `initial_retrieval_fn` - the initial retrieval function and `vsrm` - an instance of the `VectorSpaceRetrievalModel` class (i.e LSI/LDA) as input. The search function should first retrieve an initial list of K documents, and then these documents are re-ranked using a semantic method. This not only makes retrieval faster, but semantic methods perform poorly when used in isolation, as you will find out."
   ]
  },
  {
   "cell_type": "code",
   "execution_count": 97,
   "metadata": {
    "deletable": false,
    "nbgrader": {
     "cell_type": "code",
     "checksum": "63b6b05a676a2ae3f08d8bed1bc59428",
     "grade": false,
     "grade_id": "cell-5bf47600d1a0c507",
     "locked": false,
     "schema_version": 3,
     "solution": true,
     "task": false
    }
   },
   "outputs": [],
   "source": [
    "# TODO: Implement this! (10 points)\n",
    "class DenseRerankingModel:\n",
    "    def __init__(self, initial_retrieval_fn, vsrm, similarity_fn):\n",
    "        \"\"\"\n",
    "            initial_retrieval_fn: takes in a query and returns a list of [(doc_id, score)] (sorted)\n",
    "            vsrm: instance of `VectorSpaceRetrievalModel`\n",
    "            similarity_fn: function instance that takes in two vectors \n",
    "                            and returns a similarity score e.g cosine_sim defined earlier\n",
    "        \"\"\"\n",
    "        self.ret = initial_retrieval_fn\n",
    "        self.vsrm = vsrm\n",
    "        self.similarity_fn = similarity_fn\n",
    "        self.vectorized_documents = vsrm.vectorize_documents()\n",
    "        \n",
    "        assert len(self.vectorized_documents) == len(doc_repr_2)\n",
    "    \n",
    "    def search(self, query, K=50):\n",
    "        \"\"\"\n",
    "            First, retrieve the top K results using the retrieval function\n",
    "            Then, re-rank the results using the VSRM instance\n",
    "        \"\"\"\n",
    "        # YOUR CODE HERE\n",
    "        scores = [] \n",
    "        l1 = self.ret(query)[:K]\n",
    "        query_vec = self.vsrm.vectorize_query(query)\n",
    "        \n",
    "\n",
    "        for document_id, token in l1:\n",
    "            doc_vec = self.vectorized_documents[document_id]\n",
    "            scores.append((document_id, self.similarity_fn(query_vec, doc_vec)))\n",
    "\n",
    "        scores.sort(key=lambda _:-_[1])\n",
    "        \n",
    "        return scores"
   ]
  },
  {
   "cell_type": "code",
   "execution_count": 98,
   "metadata": {
    "deletable": false,
    "editable": false,
    "nbgrader": {
     "cell_type": "code",
     "checksum": "334ab5af96976265cace682ab82a7387",
     "grade": true,
     "grade_id": "cell-52c6d18a4c0b4882",
     "locked": true,
     "points": 0,
     "schema_version": 3,
     "solution": false,
     "task": false
    }
   },
   "outputs": [
    {
     "name": "stderr",
     "output_type": "stream",
     "text": [
      "C:\\Users\\Ankit\\anaconda3\\envs\\ir_env\\lib\\site-packages\\ipykernel_launcher.py:30: DeprecationWarning: Call to deprecated `wv` (Attribute will be removed in 4.0.0, use self instead).\n",
      "C:\\Users\\Ankit\\anaconda3\\envs\\ir_env\\lib\\site-packages\\ipykernel_launcher.py:31: DeprecationWarning: Call to deprecated `wv` (Attribute will be removed in 4.0.0, use self instead).\n"
     ]
    }
   ],
   "source": [
    "##### Function check\n",
    "bm25_search_2 = partial(bm25_search, index_set=2)\n",
    "lsi_rerank = DenseRerankingModel(bm25_search_2, lsi, cosine_sim)\n",
    "lda_rerank = DenseRerankingModel(bm25_search_2, lda, jenson_shannon_sim)\n",
    "w2v_rerank = DenseRerankingModel(bm25_search_2, w2v, cosine_sim)\n",
    "w2v_pretrained_rerank = DenseRerankingModel(bm25_search_2, w2v_pretrained, cosine_sim)\n",
    "d2v_rerank = DenseRerankingModel(bm25_search_2, d2v, cosine_sim)\n",
    "\n",
    "##### "
   ]
  },
  {
   "cell_type": "markdown",
   "metadata": {
    "deletable": false,
    "editable": false,
    "nbgrader": {
     "cell_type": "markdown",
     "checksum": "bd904253f45f84e63bab3a69729058fc",
     "grade": false,
     "grade_id": "cell-93215dfe6bcf7cff",
     "locked": true,
     "points": 10,
     "schema_version": 3,
     "solution": false,
     "task": true
    }
   },
   "source": [
    "\\#### Please do not change this. This cell is used for grading."
   ]
  },
  {
   "cell_type": "markdown",
   "metadata": {
    "deletable": false,
    "editable": false,
    "nbgrader": {
     "cell_type": "markdown",
     "checksum": "b592e60292bfe3d9ef2930a354c4077a",
     "grade": false,
     "grade_id": "cell-aa694ff55fa91e7d",
     "locked": true,
     "schema_version": 3,
     "solution": false,
     "task": false
    }
   },
   "source": [
    "---\n",
    "Now, let us time the new search functions:"
   ]
  },
  {
   "cell_type": "code",
   "execution_count": 99,
   "metadata": {
    "deletable": false,
    "editable": false,
    "nbgrader": {
     "cell_type": "code",
     "checksum": "338c7e3528cba266a865a061287c0e38",
     "grade": false,
     "grade_id": "cell-5edbd481562ad91f",
     "locked": true,
     "schema_version": 3,
     "solution": false,
     "task": false
    }
   },
   "outputs": [
    {
     "name": "stdout",
     "output_type": "stream",
     "text": [
      "BM25: \n",
      "5.76 ms ± 78.8 µs per loop (mean ± std. dev. of 7 runs, 100 loops each)\n",
      "LSI: \n",
      "10 ms ± 300 µs per loop (mean ± std. dev. of 7 runs, 100 loops each)\n",
      "LDA: \n",
      "23.6 ms ± 553 µs per loop (mean ± std. dev. of 7 runs, 10 loops each)\n",
      "W2V: \n",
      "10.4 ms ± 157 µs per loop (mean ± std. dev. of 7 runs, 100 loops each)\n",
      "W2V(Pretrained): \n"
     ]
    },
    {
     "name": "stderr",
     "output_type": "stream",
     "text": [
      "C:\\Users\\Ankit\\anaconda3\\envs\\ir_env\\lib\\site-packages\\ipykernel_launcher.py:48: DeprecationWarning: Call to deprecated `wv` (Attribute will be removed in 4.0.0, use self instead).\n",
      "C:\\Users\\Ankit\\anaconda3\\envs\\ir_env\\lib\\site-packages\\ipykernel_launcher.py:49: DeprecationWarning: Call to deprecated `wv` (Attribute will be removed in 4.0.0, use self instead).\n"
     ]
    },
    {
     "name": "stdout",
     "output_type": "stream",
     "text": [
      "44 ms ± 698 µs per loop (mean ± std. dev. of 7 runs, 10 loops each)\n",
      "D2V:\n",
      "11.9 ms ± 633 µs per loop (mean ± std. dev. of 7 runs, 100 loops each)\n"
     ]
    }
   ],
   "source": [
    "query = \"algebraic functions\"\n",
    "print(\"BM25: \")\n",
    "%timeit bm25_search(query, 2)\n",
    "print(\"LSI: \")\n",
    "%timeit lsi_rerank.search(query)\n",
    "print(\"LDA: \")\n",
    "%timeit lda_rerank.search(query)\n",
    "print(\"W2V: \")\n",
    "%timeit w2v_rerank.search(query)\n",
    "print(\"W2V(Pretrained): \")\n",
    "%timeit w2v_pretrained_rerank.search(query)\n",
    "print(\"D2V:\")\n",
    "%timeit d2v_rerank.search(query)"
   ]
  },
  {
   "cell_type": "markdown",
   "metadata": {
    "deletable": false,
    "editable": false,
    "nbgrader": {
     "cell_type": "markdown",
     "checksum": "c45c5e3f015b2de89d9d39ae3766368b",
     "grade": false,
     "grade_id": "cell-85c50f2ab9eec301",
     "locked": true,
     "schema_version": 3,
     "solution": false,
     "task": false
    }
   },
   "source": [
    "---\n",
    "As you can see, it is much faster (but BM25 is still orders of magnitude faster)."
   ]
  },
  {
   "cell_type": "markdown",
   "metadata": {
    "deletable": false,
    "editable": false,
    "nbgrader": {
     "cell_type": "markdown",
     "checksum": "1e2f3388e3807659f303fe31a75a010e",
     "grade": false,
     "grade_id": "cell-5071bb99b2af61cb",
     "locked": true,
     "schema_version": 3,
     "solution": false,
     "task": false
    }
   },
   "source": [
    "---\n",
    "## Section 10: Evaluation & Analysis (30 points) <a class=\"anchor\" id=\"reranking_eval\"></a>\n",
    "\n",
    "[Back to Part 2](#part2)\n",
    "\n",
    "[Previously](#evaluation) we have implemented some evaluation metrics and used them for measuring the ranking performance of term-based IR algorithms. In this section, we will do the same for semantic methods, both with and without re-ranking.\n",
    "\n",
    "### Section 10.1: Plot (10 points)\n",
    "\n",
    "First, gather the results. The results should consider the index set, the different search functions and different metrics. Plot the results in bar charts, per metric, with clear labels.\n",
    "\n",
    "Then, gather only the re-ranking models, and plot and compare them with the results obtained in part 1 (only index set 2)."
   ]
  },
  {
   "cell_type": "code",
   "execution_count": 100,
   "metadata": {
    "deletable": false,
    "editable": false,
    "nbgrader": {
     "cell_type": "code",
     "checksum": "4fe81520ac6413a803838913fd64de03",
     "grade": false,
     "grade_id": "cell-b672fe6dfae0b1ce",
     "locked": true,
     "schema_version": 3,
     "solution": false,
     "task": false
    }
   },
   "outputs": [],
   "source": [
    "list_of_sem_search_fns = [\n",
    "    (\"lda\", drm_lda.search),\n",
    "    (\"lsi\", drm_lsi.search),\n",
    "    (\"w2v\", drm_w2v.search),\n",
    "    (\"w2v_pretrained\", drm_w2v_pretrained.search),\n",
    "    (\"d2v\", drm_d2v.search),\n",
    "    (\"lsi_rr\", lsi_rerank.search),\n",
    "    (\"lda_rr\", lda_rerank.search),\n",
    "    (\"w2v_rr\", w2v_rerank.search),\n",
    "    (\"w2v_pretrained_rr\", w2v_pretrained_rerank.search),\n",
    "    (\"d2v_rr\", d2v_rerank.search),\n",
    "    \n",
    "]"
   ]
  },
  {
   "cell_type": "code",
   "execution_count": 101,
   "metadata": {
    "deletable": false,
    "nbgrader": {
     "cell_type": "code",
     "checksum": "54707c4afac084299aeefa047259b4a9",
     "grade": true,
     "grade_id": "cell-7dd8273b0f5a3c22",
     "locked": false,
     "points": 10,
     "schema_version": 3,
     "solution": true,
     "task": false
    }
   },
   "outputs": [],
   "source": [
    "# YOUR CODE HERE\n",
    "#raise NotImplementedError()"
   ]
  },
  {
   "cell_type": "markdown",
   "metadata": {
    "deletable": false,
    "editable": false,
    "nbgrader": {
     "cell_type": "markdown",
     "checksum": "a8a3b6189bdde66704c694d85e38d049",
     "grade": false,
     "grade_id": "cell-deb2ef3daa306e82",
     "locked": true,
     "schema_version": 3,
     "solution": false,
     "task": false
    }
   },
   "source": [
    "### Section 10.2: Summary (20 points)\n",
    "\n",
    "Your summary should compare methods from Part 1 and Part 2 (only for index set 2). State what you expected to see in the results, followed by either supporting evidence *or* justify why the results did not support your expectations. Consider the availability of data, scalability, domain/type of data, etc."
   ]
  },
  {
   "cell_type": "markdown",
   "metadata": {
    "deletable": false,
    "nbgrader": {
     "cell_type": "markdown",
     "checksum": "ff97c43837d10bff6aaffa75e1492887",
     "grade": true,
     "grade_id": "cell-ec5dd7d9cf59dd86",
     "locked": false,
     "points": 20,
     "schema_version": 3,
     "solution": true,
     "task": false
    }
   },
   "source": [
    "YOUR ANSWER HERE"
   ]
  }
 ],
 "metadata": {
  "kernelspec": {
   "display_name": "Python 3",
   "language": "python",
   "name": "python3"
  },
  "language_info": {
   "codemirror_mode": {
    "name": "ipython",
    "version": 3
   },
   "file_extension": ".py",
   "mimetype": "text/x-python",
   "name": "python",
   "nbconvert_exporter": "python",
   "pygments_lexer": "ipython3",
   "version": "3.6.5"
  },
  "toc": {
   "base_numbering": 1,
   "nav_menu": {},
   "number_sections": true,
   "sideBar": true,
   "skip_h1_title": false,
   "title_cell": "Table of Contents",
   "title_sidebar": "Contents",
   "toc_cell": false,
   "toc_position": {},
   "toc_section_display": true,
   "toc_window_display": false
  }
 },
 "nbformat": 4,
 "nbformat_minor": 4
}
