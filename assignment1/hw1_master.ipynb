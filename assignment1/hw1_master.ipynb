{
 "cells": [
  {
   "cell_type": "markdown",
   "metadata": {
    "deletable": false,
    "editable": false,
    "nbgrader": {
     "cell_type": "markdown",
     "checksum": "1bba455de8bc2825ca70469169bbadaa",
     "grade": false,
     "grade_id": "cell-c9cd9e550239e812",
     "locked": true,
     "schema_version": 3,
     "solution": false,
     "task": false
    }
   },
   "source": [
    "# Homework 1 (Total Points: 250) <a class=\"anchor\" id=\"top\"></a>\n",
    "\n",
    "\n",
    "**Submission instructions**:\n",
    "- The cells with the `# YOUR CODE HERE` denote that these sections are graded and you need to add your implementation.\n",
    "- For Part 1: You can use the `nltk`, `NumPy`, and `matplotlib` libraries here. Other libraries, e.g., `gensim` or `scikit-learn`, may not be used. For Part 2: `gensim` is allowed in addition to the imported libraries in the next code cell\n",
    "- Please use Python 3.6.5 and `pip install -r requirements.txt` to avoid version issues.\n",
    "- The notebook you submit has to have the student ids, separated by underscores (E.g., `12341234_12341234_12341234_hw1.ipynb`).\n",
    "- This will be parsed by a regexp, **so please double check your filename**.\n",
    "- Only one member of each group has to submit the file (**please do not compress the .ipynb file when you will submit it**) to canvas.\n",
    "- **Make sure to check that your notebook runs before submission**. A quick way to do this is to restart the kernel and run all the cells.  \n",
    "- Do not change the number of arugments in the given functions.\n",
    "- **Please do not delete/add new cells**. Removing cells **will** lead to grade deduction. \n",
    "- Note, that you are not allowed to use Google Colab.\n",
    "\n",
    "\n",
    "**Learning Goals**:\n",
    "- [Part 1, Term-based matching](#part1) (165 points):\n",
    "    - Learn how to load a dataset and process it.\n",
    "    - Learn how to implement several standard IR methods (TF-IDF, BM25, QL) and understand their weaknesses & strengths.\n",
    "    - Learn how to evaluate IR methods.\n",
    "- [Part 2, Semantic-based matching](#part2) (85 points):\n",
    "    - Learn how to implement vector-space retrieval methods (LSI, LDA).\n",
    "    - Learn how to use LSI and LDA for re-ranking.\n",
    "\n",
    "    \n",
    "**Resources**: \n",
    "- **Part 1**: Sections 2.3, 4.1, 4.2, 4.3, 5.3, 5.6, 5.7, 6.2, 7, 8 of [Search Engines: Information Retrieval in Practice](https://ciir.cs.umass.edu/downloads/SEIRiP.pdf)\n",
    "- **Part 2**: [LSI - Chapter 18](https://nlp.stanford.edu/IR-book/pdf/18lsi.pdf) from [Introduction to Information Retrieval](https://nlp.stanford.edu/IR-book/) book and the [original LDA paper](https://jmlr.org/papers/volume3/blei03a/blei03a.pdf)"
   ]
  },
  {
   "cell_type": "code",
   "execution_count": 1,
   "metadata": {
    "deletable": false,
    "editable": false,
    "nbgrader": {
     "cell_type": "code",
     "checksum": "c55bfe94ff1f564dd595547e516c4c6e",
     "grade": false,
     "grade_id": "cell-f5357fabdb9660e3",
     "locked": true,
     "schema_version": 3,
     "solution": false,
     "task": false
    }
   },
   "outputs": [],
   "source": [
    "# imports \n",
    "# TODO: Ensure that no additional library is imported in the notebook. \n",
    "# TODO: Only the standard library and the following libraries are allowed:\n",
    "# TODO: You can also use unlisted classes from these libraries or standard libraries (such as defaultdict, Counter, ...).\n",
    "\n",
    "import os\n",
    "import zipfile\n",
    "from functools import partial\n",
    "\n",
    "import nltk\n",
    "import requests\n",
    "import numpy as np\n",
    "from tqdm import tqdm\n",
    "\n",
    "import matplotlib.pyplot as plt\n",
    "from matplotlib.pyplot import cm\n",
    "\n",
    "from ipywidgets import widgets\n",
    "from IPython.display import display, HTML\n",
    "#from IPython.html import widgets\n",
    "from collections import namedtuple\n",
    "\n",
    "%matplotlib inline"
   ]
  },
  {
   "cell_type": "markdown",
   "metadata": {
    "deletable": false,
    "editable": false,
    "nbgrader": {
     "cell_type": "markdown",
     "checksum": "c8328f758ca5b69f76eee03dbbdd4715",
     "grade": false,
     "grade_id": "cell-7428e12ed184408b",
     "locked": true,
     "schema_version": 3,
     "solution": false,
     "task": false
    }
   },
   "source": [
    "\n",
    "# Part 1: Term-based Matching (165 points) <a class=\"anchor\" id=\"part1\"></a>\n",
    "\n",
    "[Back to top](#top)\n",
    "\n",
    "In the first part, we will learn the basics of IR from loading and preprocessing the material, to implementing some well known search algorithms, to evaluating the ranking performance of the implemented algorithms. We will be using the CACM dataset throughout the assignment. The CACM dataset is a collection of titles and abstracts from the journal CACM (Communication of the ACM).\n",
    "\n",
    "Table of contents:\n",
    "- [Section 1: Text Processing](#text_processing) (5 points)\n",
    "- [Section 2: Indexing](#indexing) (10 points)\n",
    "- [Section 3: Ranking](#ranking) (80 points)\n",
    "- [Section 4: Evaluation](#evaluation) (40 points)\n",
    "- [Section 5: Analysis](#analysis) (30 points)\n"
   ]
  },
  {
   "cell_type": "markdown",
   "metadata": {
    "deletable": false,
    "editable": false,
    "nbgrader": {
     "cell_type": "markdown",
     "checksum": "4e3f938065183dc743aa8254b96b4f5e",
     "grade": false,
     "grade_id": "cell-4b24825cf4ae55ec",
     "locked": true,
     "schema_version": 3,
     "solution": false,
     "task": false
    }
   },
   "source": [
    "---\n",
    "## Section 1: Text Processing (5 points)<a class=\"anchor\" id=\"text_processing\"></a>\n",
    "\n",
    "[Back to Part 1](#part1)\n",
    "\n",
    "In this section, we will load the dataset and learn how to clean up the data to make it usable for an IR system. \n",
    "First, go through the implementation of the following functions:\n",
    "- `read_cacm_docs`: Reads in the CACM documents.\n",
    "- `read_queries`: Reads in the CACM queries.\n",
    "- `load_stopwords`: Loads the stopwords.\n",
    "\n",
    "The points of this section are earned for the following implementations:\n",
    "- `tokenize` (3 points): Tokenizes the input text.\n",
    "- `stem_token` (2 points): Stems the given token. \n",
    "\n",
    "We are using the [CACM dataset](http://ir.dcs.gla.ac.uk/resources/test_collections/cacm/), which is a small, classic IR dataset, composed of a collection of titles and abstracts from the journal CACM. It comes with relevance judgements for queries, so we can evaluate our IR system. \n"
   ]
  },
  {
   "cell_type": "markdown",
   "metadata": {
    "deletable": false,
    "editable": false,
    "nbgrader": {
     "cell_type": "markdown",
     "checksum": "0155d897c7016389d73d160921947a6f",
     "grade": false,
     "grade_id": "cell-45651364e7af6d5a",
     "locked": true,
     "schema_version": 3,
     "solution": false,
     "task": false
    }
   },
   "source": [
    "---\n",
    "### 1.1 Read the CACM documents\n",
    "\n",
    "\n",
    "The following cell downloads the dataset and unzips it to a local directory."
   ]
  },
  {
   "cell_type": "code",
   "execution_count": 2,
   "metadata": {
    "deletable": false,
    "editable": false,
    "nbgrader": {
     "cell_type": "code",
     "checksum": "4d43c9ad6e77cc01ce4cef0c34824930",
     "grade": false,
     "grade_id": "cell-bbc3030bb3fe7e02",
     "locked": true,
     "schema_version": 3,
     "solution": false,
     "task": false
    }
   },
   "outputs": [],
   "source": [
    "def download_dataset():\n",
    "    folder_path = os.environ.get(\"IR1_DATA_PATH\")\n",
    "    if not folder_path:\n",
    "        folder_path = \"./datasets/\"\n",
    "    os.makedirs(folder_path, exist_ok=True)\n",
    "    \n",
    "    file_location = os.path.join(folder_path, \"cacm.zip\")\n",
    "    \n",
    "    # download file if it doesn't exist\n",
    "    if not os.path.exists(file_location):\n",
    "        \n",
    "        url = \"https://surfdrive.surf.nl/files/index.php/s/M0FGJpX2p8wDwxR/download\"\n",
    "\n",
    "        with open(file_location, \"wb\") as handle:\n",
    "            print(f\"Downloading file from {url} to {file_location}\")\n",
    "            response = requests.get(url, stream=True)\n",
    "            for data in tqdm(response.iter_content()):\n",
    "                handle.write(data)\n",
    "            print(\"Finished downloading file\")\n",
    "    \n",
    "    if not os.path.exists(os.path.join(folder_path, \"train.txt\")):\n",
    "        \n",
    "        # unzip file\n",
    "        with zipfile.ZipFile(file_location, 'r') as zip_ref:\n",
    "            zip_ref.extractall(folder_path)\n",
    "        \n",
    "download_dataset()"
   ]
  },
  {
   "cell_type": "markdown",
   "metadata": {
    "deletable": false,
    "editable": false,
    "nbgrader": {
     "cell_type": "markdown",
     "checksum": "31609b0d61d0c74cbd69bc43e47c23be",
     "grade": false,
     "grade_id": "cell-a7dd9a9bf98ede05",
     "locked": true,
     "schema_version": 3,
     "solution": false,
     "task": false
    }
   },
   "source": [
    "---\n",
    "\n",
    "You can see a brief description of each file in the dataset by looking at the README file:"
   ]
  },
  {
   "cell_type": "code",
   "execution_count": 3,
   "metadata": {
    "deletable": false,
    "editable": false,
    "nbgrader": {
     "cell_type": "code",
     "checksum": "cb3c9a2b8b2bf4fd5b7446b0c4c00f43",
     "grade": false,
     "grade_id": "cell-9b6ff1a17124711f",
     "locked": true,
     "schema_version": 3,
     "solution": false,
     "task": false
    }
   },
   "outputs": [
    {
     "name": "stdout",
     "output_type": "stream",
     "text": [
      "Files in this directory with sizes:\n",
      "          0 Jun 19 21:01 README\n",
      "\n",
      "    2187734 Jun 19 20:55 cacm.all              text of documents\n",
      "        626 Jun 19 20:58 cite.info             key to citation info\n",
      "                                                (the X sections in cacm.all)\n",
      "       2668 Jun 19 20:55 common_words           stop words used by smart\n",
      "       2194 Jun 19 20:55 make_coll*             shell script to make collection\n",
      "       1557 Jun 19 20:55 make_coll_term*        ditto (both useless without\n",
      "                                                smart system)\n",
      "       9948 Jun 19 20:55 qrels.text             relation giving\n",
      "                                                    qid did 0 0\n",
      "                                                to indicate dument did is\n",
      "                                                relevant to query qid\n",
      "      13689 Jun 19 20:55 query.text             Original text of the query\n",
      "\n"
     ]
    }
   ],
   "source": [
    "##### Read the README file \n",
    "with open (\"./datasets/README\",\"r\") as file:\n",
    "    readme = file.read()\n",
    "    print(readme)\n",
    "#####"
   ]
  },
  {
   "cell_type": "markdown",
   "metadata": {
    "deletable": false,
    "editable": false,
    "nbgrader": {
     "cell_type": "markdown",
     "checksum": "6e2712c4c4632bf7486a532f7f18074d",
     "grade": false,
     "grade_id": "cell-73351431869fda76",
     "locked": true,
     "schema_version": 3,
     "solution": false,
     "task": false
    }
   },
   "source": [
    "---\n",
    "We are interested in 4 files:\n",
    "- `cacm.all` : Contains the text for all documents. Note that some documents do not have abstracts available\n",
    "- `query.text` : The text of all queries\n",
    "- `qrels.text` : The relevance judgements\n",
    "- `common_words` : A list of common words. This may be used as a collection of stopwords"
   ]
  },
  {
   "cell_type": "code",
   "execution_count": 4,
   "metadata": {
    "deletable": false,
    "editable": false,
    "nbgrader": {
     "cell_type": "code",
     "checksum": "f1162c15177eb4ffe466531d03cff4a2",
     "grade": false,
     "grade_id": "cell-b44dd14079f278ca",
     "locked": true,
     "schema_version": 3,
     "solution": false,
     "task": false
    }
   },
   "outputs": [
    {
     "name": "stdout",
     "output_type": "stream",
     "text": [
      ".I 1\n",
      ".T\n",
      "Preliminary Report-International Algebraic Language\n",
      ".B\n",
      "CACM December, 1958\n",
      ".A\n",
      "Perlis, A. J.\n",
      "Samelson,K.\n",
      ".N\n",
      "CA581203 JB March 22, 1978  8:28 PM\n",
      ".X\n",
      "100\t5\t1\n",
      "123\t5\t1\n",
      "164\t5\t1\n",
      "1\t5\t1\n",
      "1\t5\t1\n",
      "1\t5\t1\n",
      "205\t5\t1\n",
      "210\t5\t1\n",
      "214\t5\t1\n",
      "1982\t5\t1\n",
      "398\t5\t1\n",
      "642\t5\t1\n",
      "669\t5\t1\n",
      "1\t6\t1\n",
      "1\t6\t1\n",
      "1\t6\t1\n",
      "1\t6\t1\n",
      "1\t6\t1\n",
      "1\t6\t1\n",
      "1\t6\t1\n",
      "1\t6\t1\n",
      "1\t6\t1\n",
      "1\t6\t1\n",
      "165\t6\t1\n",
      "196\t6\t1\n",
      "196\t6\t1\n",
      "1273\t6\t1\n",
      "1883\t6\t1\n",
      "324\t6\t1\n",
      "43\t6\t1\n",
      "53\t6\t1\n",
      "91\t6\t1\n",
      "410\t6\t1\n",
      "3184\t6\t1\n",
      "\n"
     ]
    }
   ],
   "source": [
    "##### The first 45 lines of the CACM dataset forms the first record\n",
    "# We are interested only in 3 fields. \n",
    "# 1. the '.I' field, which is the document id\n",
    "# 2. the '.T' field (the title) and\n",
    "# 3. the '.W' field (the abstract, which may be absent)\n",
    "with open (\"./datasets/cacm.all\",\"r\") as file:\n",
    "    cacm_all = \"\".join(file.readlines()[:45])\n",
    "    print(cacm_all)\n",
    "#####"
   ]
  },
  {
   "cell_type": "markdown",
   "metadata": {
    "deletable": false,
    "editable": false,
    "nbgrader": {
     "cell_type": "markdown",
     "checksum": "250b413baccd8efb186bb46a34ae0060",
     "grade": false,
     "grade_id": "cell-c4bf2e263ec553d8",
     "locked": true,
     "schema_version": 3,
     "solution": false,
     "task": false
    }
   },
   "source": [
    "---\n",
    "\n",
    "The following function reads the `cacm.all` file. Note that each document has a variable number of lines. The `.I` field denotes a new document:"
   ]
  },
  {
   "cell_type": "code",
   "execution_count": 5,
   "metadata": {
    "deletable": false,
    "editable": false,
    "nbgrader": {
     "cell_type": "code",
     "checksum": "57d757e6a7a6938740dc899022b4f291",
     "grade": false,
     "grade_id": "cell-b736116eb419c624",
     "locked": true,
     "schema_version": 3,
     "solution": false,
     "task": false
    }
   },
   "outputs": [],
   "source": [
    "def read_cacm_docs(root_folder = \"./datasets/\"):\n",
    "    \"\"\"\n",
    "        Reads in the CACM documents. The dataset is assumed to be in the folder \"./datasets/\" by default\n",
    "        Returns: A list of 2-tuples: (doc_id, document), where 'document' is a single string created by \n",
    "            appending the title and abstract (separated by a \"\\n\"). \n",
    "            In case the record doesn't have an abstract, the document is composed only by the title\n",
    "    \"\"\"\n",
    "    with open(os.path.join(root_folder, \"cacm.all\")) as reader:\n",
    "        lines = reader.readlines()\n",
    "    \n",
    "    doc_id, title, abstract = None, None, None\n",
    "    \n",
    "    docs = []\n",
    "    line_idx = 0\n",
    "    while line_idx < len(lines):\n",
    "        line = lines[line_idx]\n",
    "        if line.startswith(\".I\"):\n",
    "            if doc_id is not None:\n",
    "                docs.append((doc_id, title, abstract))\n",
    "                doc_id, title, abstract = None, None, None\n",
    "            \n",
    "            doc_id = line.split()[-1]\n",
    "            line_idx += 1\n",
    "        elif line.startswith(\".T\"):\n",
    "            # start at next line\n",
    "            line_idx += 1\n",
    "            temp_lines = []\n",
    "            # read till next '.'\n",
    "            while not lines[line_idx].startswith(\".\"):\n",
    "                temp_lines.append(lines[line_idx].strip(\"\\n\"))\n",
    "                line_idx += 1\n",
    "            title = \"\\n\".join(temp_lines).strip(\"\\n\")\n",
    "        elif line.startswith(\".W\"):\n",
    "            # start at next line\n",
    "            line_idx += 1\n",
    "            temp_lines = []\n",
    "            # read till next '.'\n",
    "            while not lines[line_idx].startswith(\".\"):\n",
    "                temp_lines.append(lines[line_idx].strip(\"\\n\"))\n",
    "                line_idx += 1\n",
    "            abstract = \"\\n\".join(temp_lines).strip(\"\\n\")\n",
    "        else:\n",
    "            line_idx += 1\n",
    "    \n",
    "    docs.append((doc_id, title, abstract))\n",
    "    \n",
    "    p_docs = []\n",
    "    for (did, t, a) in docs:\n",
    "        if a is None:\n",
    "            a = \"\"\n",
    "        p_docs.append((did, t + \"\\n\" + a))\n",
    "    return p_docs\n"
   ]
  },
  {
   "cell_type": "code",
   "execution_count": 6,
   "metadata": {
    "deletable": false,
    "editable": false,
    "nbgrader": {
     "cell_type": "code",
     "checksum": "2f81930fcd89670b6e20e2255e1f2369",
     "grade": false,
     "grade_id": "cell-a1c43818e0d3fd79",
     "locked": true,
     "schema_version": 3,
     "solution": false,
     "task": false
    }
   },
   "outputs": [],
   "source": [
    "##### Function check\n",
    "docs = read_cacm_docs()\n",
    "\n",
    "assert isinstance(docs, list)\n",
    "assert len(docs) == 3204, \"There should be exactly 3204 documents\"\n",
    "\n",
    "unzipped_docs = list(zip(*docs))\n",
    "assert np.sum(np.array(list(map(int,unzipped_docs[0])))) == 5134410\n",
    "\n",
    "##### "
   ]
  },
  {
   "cell_type": "markdown",
   "metadata": {
    "deletable": false,
    "editable": false,
    "nbgrader": {
     "cell_type": "markdown",
     "checksum": "25fd3cfaf2137c56002b850699b3c9d3",
     "grade": false,
     "grade_id": "cell-5ed2ddc91f73c60e",
     "locked": true,
     "schema_version": 3,
     "solution": false,
     "task": false
    }
   },
   "source": [
    "---\n",
    "### 1.2 Read the CACM queries\n",
    "\n",
    "Next, let us read the queries. They are formatted similarly:"
   ]
  },
  {
   "cell_type": "code",
   "execution_count": 7,
   "metadata": {
    "deletable": false,
    "editable": false,
    "nbgrader": {
     "cell_type": "code",
     "checksum": "5d26c0908e758acb9968b84056b1060a",
     "grade": false,
     "grade_id": "cell-5c7e8e7c4fc2757f",
     "locked": true,
     "schema_version": 3,
     "solution": false,
     "task": false
    }
   },
   "outputs": [
    {
     "name": "stdout",
     "output_type": "stream",
     "text": [
      ".I 1\n",
      ".W\n",
      " What articles exist which deal with TSS (Time Sharing System), an\n",
      "operating system for IBM computers?\n",
      ".N\n",
      " 1. Richard Alexander, Comp Serv, Langmuir Lab (TSS)\n",
      " \n",
      ".I 2\n",
      ".W\n",
      " I am interested in articles written either by Prieve or Udo Pooch\n",
      ".A\n",
      "Prieve, B.\n",
      "Pooch, U.\n",
      ".N\n",
      " 2. Richard Alexander, Comp Serv, Langmuir Lab (author = Pooch or Prieve)\n"
     ]
    }
   ],
   "source": [
    "##### The first 15 lines of 'query.text' has 2 queries\n",
    "# We are interested only in 2 fields. \n",
    "# 1. the '.I' - the query id\n",
    "# 2. the '.W' - the query\n",
    "!head -15 ./datasets/query.text\n",
    "#####"
   ]
  },
  {
   "cell_type": "markdown",
   "metadata": {
    "deletable": false,
    "editable": false,
    "nbgrader": {
     "cell_type": "markdown",
     "checksum": "8f19f311a660f30e3f86cb0f7037d54a",
     "grade": false,
     "grade_id": "cell-88e293507d2dcef6",
     "locked": true,
     "schema_version": 3,
     "solution": false,
     "task": false
    }
   },
   "source": [
    "---\n",
    "\n",
    "The following function reads the `query.text` file:"
   ]
  },
  {
   "cell_type": "code",
   "execution_count": 8,
   "metadata": {
    "deletable": false,
    "editable": false,
    "nbgrader": {
     "cell_type": "code",
     "checksum": "e3fbb193211007672849487f5cff1664",
     "grade": false,
     "grade_id": "cell-433e3ad5d0e2572a",
     "locked": true,
     "schema_version": 3,
     "solution": false,
     "task": false
    }
   },
   "outputs": [],
   "source": [
    "def read_queries(root_folder = \"./datasets/\"):\n",
    "    \"\"\"\n",
    "        Reads in the CACM queries. The dataset is assumed to be in the folder \"./datasets/\" by default\n",
    "        Returns: A list of 2-tuples: (query_id, query)\n",
    "    \"\"\"\n",
    "    with open(os.path.join(root_folder, \"query.text\")) as reader:\n",
    "        lines = reader.readlines()\n",
    "    \n",
    "    query_id, query = None, None\n",
    "    \n",
    "    queries = []\n",
    "    line_idx = 0\n",
    "    while line_idx < len(lines):\n",
    "        line = lines[line_idx]\n",
    "        if line.startswith(\".I\"):\n",
    "            if query_id is not None:\n",
    "                queries.append((query_id, query))\n",
    "                query_id, query = None, None\n",
    "    \n",
    "            query_id = line.split()[-1]\n",
    "            line_idx += 1\n",
    "        elif line.startswith(\".W\"):\n",
    "            # start at next line\n",
    "            line_idx += 1\n",
    "            temp_lines = []\n",
    "            # read till next '.'\n",
    "            while not lines[line_idx].startswith(\".\"):\n",
    "                temp_lines.append(lines[line_idx].strip(\"\\n\"))\n",
    "                line_idx += 1\n",
    "            query = \"\\n\".join(temp_lines).strip(\"\\n\")\n",
    "        else:\n",
    "            line_idx += 1\n",
    "    \n",
    "    queries.append((query_id, query))\n",
    "    return queries\n"
   ]
  },
  {
   "cell_type": "code",
   "execution_count": 9,
   "metadata": {
    "deletable": false,
    "editable": false,
    "nbgrader": {
     "cell_type": "code",
     "checksum": "a897b9771b54f447be3418d7246fc4a0",
     "grade": false,
     "grade_id": "cell-6ec540abce66c598",
     "locked": true,
     "schema_version": 3,
     "solution": false,
     "task": false
    }
   },
   "outputs": [],
   "source": [
    "##### Function check\n",
    "queries = read_queries()\n",
    "\n",
    "assert isinstance(queries, list)\n",
    "assert len(queries) == 64 and all([q[1] is not None for q in queries]), \"There should be exactly 64 queries\"\n",
    "\n",
    "unzipped_queries = list(zip(*queries))\n",
    "assert np.sum(np.array(list(map(int,unzipped_queries[0])))) == 2080\n",
    "\n",
    "##### "
   ]
  },
  {
   "cell_type": "markdown",
   "metadata": {
    "deletable": false,
    "editable": false,
    "nbgrader": {
     "cell_type": "markdown",
     "checksum": "a300c41912ac63b239070b4c15c9f5c5",
     "grade": false,
     "grade_id": "cell-1c31569491d7b782",
     "locked": true,
     "schema_version": 3,
     "solution": false,
     "task": false
    }
   },
   "source": [
    "---\n",
    "### 1.3 Read the stop words\n",
    "\n",
    "We use the common words stored in `common_words`:"
   ]
  },
  {
   "cell_type": "code",
   "execution_count": 10,
   "metadata": {
    "deletable": false,
    "editable": false,
    "nbgrader": {
     "cell_type": "code",
     "checksum": "1ad6f5bae6a792504c1c8513ae5751ad",
     "grade": false,
     "grade_id": "cell-34bdb63461418a96",
     "locked": true,
     "schema_version": 3,
     "solution": false,
     "task": false
    }
   },
   "outputs": [
    {
     "name": "stdout",
     "output_type": "stream",
     "text": [
      "a\n",
      "about\n",
      "above\n",
      "accordingly\n",
      "across\n",
      "after\n",
      "afterwards\n",
      "again\n",
      "against\n",
      "all\n"
     ]
    }
   ],
   "source": [
    "##### Read the stop words file \n",
    "!head ./datasets/common_words\n",
    "##### Read the README file "
   ]
  },
  {
   "cell_type": "markdown",
   "metadata": {
    "deletable": false,
    "editable": false,
    "nbgrader": {
     "cell_type": "markdown",
     "checksum": "6d0fe612e770213b6397c2179b07a966",
     "grade": false,
     "grade_id": "cell-4744bde0338895d8",
     "locked": true,
     "schema_version": 3,
     "solution": false,
     "task": false
    }
   },
   "source": [
    "---\n",
    "\n",
    "The following function reads the `common_words` file (For better coverage, we try to keep them in lowercase):"
   ]
  },
  {
   "cell_type": "code",
   "execution_count": 11,
   "metadata": {
    "deletable": false,
    "editable": false,
    "nbgrader": {
     "cell_type": "code",
     "checksum": "9409713fd26eb0c33587e190638997c4",
     "grade": false,
     "grade_id": "cell-7357aa40f64e5bcb",
     "locked": true,
     "schema_version": 3,
     "solution": false,
     "task": false
    }
   },
   "outputs": [],
   "source": [
    "def load_stopwords(root_folder = \"./datasets/\"):\n",
    "    \"\"\"\n",
    "        Loads the stopwords. The dataset is assumed to be in the folder \"./datasets/\" by default\n",
    "        Output: A set of stopwords\n",
    "    \"\"\"\n",
    "    with open(os.path.join(root_folder, \"common_words\")) as reader:\n",
    "        lines = reader.readlines()\n",
    "    stopwords = set([l.strip().lower() for l in lines])\n",
    "    return stopwords\n"
   ]
  },
  {
   "cell_type": "code",
   "execution_count": 12,
   "metadata": {
    "deletable": false,
    "editable": false,
    "nbgrader": {
     "cell_type": "code",
     "checksum": "f1c8153c3c38133bc2db6e7b076ad470",
     "grade": false,
     "grade_id": "cell-2ca3ac162004de97",
     "locked": true,
     "schema_version": 3,
     "solution": false,
     "task": false
    }
   },
   "outputs": [],
   "source": [
    "##### Function check\n",
    "stopwords = load_stopwords()\n",
    "\n",
    "assert isinstance(stopwords, set)\n",
    "assert len(stopwords) == 428, \"There should be exactly 428 stop words\"\n",
    "\n",
    "assert np.sum(np.array(list(map(len,stopwords)))) == 2234\n",
    "\n",
    "##### \n"
   ]
  },
  {
   "cell_type": "markdown",
   "metadata": {
    "deletable": false,
    "editable": false,
    "nbgrader": {
     "cell_type": "markdown",
     "checksum": "92c1191e9e7291dcf0d70dc67b907a65",
     "grade": false,
     "grade_id": "cell-134b72872f4300cb",
     "locked": true,
     "schema_version": 3,
     "solution": false,
     "task": false
    }
   },
   "source": [
    "---\n",
    "### 1.4 Tokenization (3 points)\n",
    "\n",
    "We can now write some basic text processing functions. \n",
    "A first step is to tokenize the text. \n",
    "\n",
    "**Note**: Use the  `WordPunctTokenizer` available in the `nltk` library:"
   ]
  },
  {
   "cell_type": "code",
   "execution_count": 13,
   "metadata": {
    "deletable": false,
    "nbgrader": {
     "cell_type": "code",
     "checksum": "3f5564d3c75bf22fbf832b3a9b938f37",
     "grade": false,
     "grade_id": "cell-322be4c9499bdc4b",
     "locked": false,
     "schema_version": 3,
     "solution": true,
     "task": false
    }
   },
   "outputs": [],
   "source": [
    "# TODO: Implement this! (4 points)\n",
    "def tokenize(text):\n",
    "    \"\"\"\n",
    "        Tokenizes the input text. Use the WordPunctTokenizer\n",
    "        Input: text - a string\n",
    "        Output: a list of tokens\n",
    "    \"\"\"\n",
    "    # YOUR CODE HERE\n",
    "    tokens = nltk.WordPunctTokenizer().tokenize(text)\n",
    "    return tokens"
   ]
  },
  {
   "cell_type": "code",
   "execution_count": 14,
   "metadata": {
    "deletable": false,
    "editable": false,
    "nbgrader": {
     "cell_type": "code",
     "checksum": "e15af22c4d8ae0a3f9dac43bef7097ec",
     "grade": true,
     "grade_id": "cell-7fbf48bf7541a622",
     "locked": true,
     "points": 3,
     "schema_version": 3,
     "solution": false,
     "task": false
    }
   },
   "outputs": [
    {
     "name": "stdout",
     "output_type": "stream",
     "text": [
      "['the', 'quick', 'brown', 'fox', 'jumps', 'over', 'the', 'lazy', 'dog']\n"
     ]
    }
   ],
   "source": [
    "##### Function check\n",
    "text = \"the quick brown fox jumps over the lazy dog\"\n",
    "tokens = tokenize(text)\n",
    "\n",
    "assert isinstance(tokens, list)\n",
    "assert len(tokens) == 9\n",
    "\n",
    "print(tokens)\n",
    "# output: ['the', 'quick', 'brown', 'fox', 'jumps', 'over', 'the', 'lazy', 'dog']\n",
    "#####"
   ]
  },
  {
   "cell_type": "markdown",
   "metadata": {
    "deletable": false,
    "editable": false,
    "nbgrader": {
     "cell_type": "markdown",
     "checksum": "34210618bff4cb47aad2f03cb4b9854c",
     "grade": false,
     "grade_id": "cell-fd1b98ae61b697ca",
     "locked": true,
     "schema_version": 3,
     "solution": false,
     "task": false
    }
   },
   "source": [
    "---\n",
    "### 1.5 Stemming (2 points)\n",
    "\n",
    "Write a function to stem tokens. \n",
    "Again, you can use the nltk library for this:"
   ]
  },
  {
   "cell_type": "code",
   "execution_count": 15,
   "metadata": {
    "deletable": false,
    "nbgrader": {
     "cell_type": "code",
     "checksum": "1c4a6aa979d66158c7b6b992af43293a",
     "grade": false,
     "grade_id": "cell-e3f6c8e3f874b28d",
     "locked": false,
     "schema_version": 3,
     "solution": true,
     "task": false
    }
   },
   "outputs": [],
   "source": [
    "# TODO: Implement this! (3 points)\n",
    "def stem_token(token):\n",
    "    \"\"\"\n",
    "        Stems the given token using the PorterStemmer from the nltk library\n",
    "        Input: a single token\n",
    "        Output: the stem of the token\n",
    "    \"\"\"\n",
    "    # YOUR CODE HERE\n",
    "    stem_token = nltk.stem.PorterStemmer().stem(token)\n",
    "    return stem_token"
   ]
  },
  {
   "cell_type": "code",
   "execution_count": 16,
   "metadata": {
    "deletable": false,
    "editable": false,
    "nbgrader": {
     "cell_type": "code",
     "checksum": "9363b4f09b556d424d9c895d4ab57b1c",
     "grade": true,
     "grade_id": "cell-cd6863e6ee6ed205",
     "locked": true,
     "points": 2,
     "schema_version": 3,
     "solution": false,
     "task": false
    }
   },
   "outputs": [],
   "source": [
    "##### Function check\n",
    "\n",
    "assert stem_token('owned') == 'own'\n",
    "assert stem_token('itemization') == 'item'\n",
    "#####"
   ]
  },
  {
   "cell_type": "markdown",
   "metadata": {
    "deletable": false,
    "editable": false,
    "nbgrader": {
     "cell_type": "markdown",
     "checksum": "0b311d014146da6afa1d39542fab9869",
     "grade": false,
     "grade_id": "cell-47c9f90498699110",
     "locked": true,
     "schema_version": 3,
     "solution": false,
     "task": false
    }
   },
   "source": [
    "---\n",
    "### 1.6 Summary\n",
    "\n",
    "The following function puts it all together. Given an input string, this functions tokenizes and processes it according to the flags that you set."
   ]
  },
  {
   "cell_type": "code",
   "execution_count": 17,
   "metadata": {
    "deletable": false,
    "editable": false,
    "nbgrader": {
     "cell_type": "code",
     "checksum": "2ff2d215ee8e0039c5a91fd3de12e6bd",
     "grade": false,
     "grade_id": "cell-dd0d3f46b30801da",
     "locked": true,
     "schema_version": 3,
     "solution": false,
     "task": false
    }
   },
   "outputs": [],
   "source": [
    "#### Putting it all together\n",
    "def process_text(text, stem=False, remove_stopwords=False, lowercase_text=False):\n",
    "    \n",
    "    tokens = []\n",
    "    for token in tokenize(text):\n",
    "        if remove_stopwords and token.lower() in stopwords:\n",
    "            continue\n",
    "        if stem:\n",
    "            token = stem_token(token)\n",
    "        if lowercase_text:\n",
    "            token = token.lower()\n",
    "        tokens.append(token)\n",
    "\n",
    "    return tokens\n",
    "#### "
   ]
  },
  {
   "cell_type": "markdown",
   "metadata": {
    "deletable": false,
    "editable": false,
    "nbgrader": {
     "cell_type": "markdown",
     "checksum": "02d433b18eb43654fa4306a7bf55b190",
     "grade": false,
     "grade_id": "cell-8d885bfd2edd43ae",
     "locked": true,
     "schema_version": 3,
     "solution": false,
     "task": false
    }
   },
   "source": [
    "---\n",
    "\n",
    "Let's create two sets of preprocessed documents.\n",
    "We can process the documents and queries according to these two configurations:"
   ]
  },
  {
   "cell_type": "code",
   "execution_count": 18,
   "metadata": {
    "deletable": false,
    "editable": false,
    "nbgrader": {
     "cell_type": "code",
     "checksum": "dbe4ca667be6842fdcf512fbcad50c7f",
     "grade": false,
     "grade_id": "cell-d427365ee0fb21d8",
     "locked": true,
     "schema_version": 3,
     "solution": false,
     "task": false
    }
   },
   "outputs": [],
   "source": [
    "# In this configuration:\n",
    "# Don't preprocess the text, except to tokenize \n",
    "config_1 = {\n",
    "  \"stem\": False,\n",
    "  \"remove_stopwords\" : False,\n",
    "  \"lowercase_text\": True\n",
    "} \n",
    "\n",
    "\n",
    "# In this configuration:\n",
    "# Preprocess the text, stem and remove stopwords\n",
    "config_2 = {\n",
    "  \"stem\": True,\n",
    "  \"remove_stopwords\" : True,\n",
    "  \"lowercase_text\": True, \n",
    "} \n",
    "\n",
    "####\n",
    "doc_repr_1 = []\n",
    "doc_repr_2 = []\n",
    "for (doc_id, document) in docs:\n",
    "    doc_repr_1.append((doc_id, process_text(document, **config_1)))\n",
    "    doc_repr_2.append((doc_id, process_text(document, **config_2)))\n",
    "\n",
    "####"
   ]
  },
  {
   "cell_type": "markdown",
   "metadata": {
    "deletable": false,
    "editable": false,
    "nbgrader": {
     "cell_type": "markdown",
     "checksum": "b60589aac19e80941d860d9b3f1e9a16",
     "grade": false,
     "grade_id": "cell-b1c102db61ae7495",
     "locked": true,
     "schema_version": 3,
     "solution": false,
     "task": false
    }
   },
   "source": [
    "--- \n",
    "\n",
    "## Section 2: Indexing (10 points)<a class=\"anchor\" id=\"indexing\"></a>\n",
    "\n",
    "[Back to Part 1](#part1)\n",
    "\n",
    "\n",
    "\n",
    "A retrieval function usually takes in a query document pair, and scores a query against a document.  Our document set is quite small - just a few thousand documents. However, consider a web-scale dataset with a few million documents. In such a scenario, it would become infeasible to score every query and document pair. In such a case, we can build an inverted index. From Wikipedia:\n",
    "\n",
    "> ... , an inverted index (also referred to as a postings file or inverted file) is a database index storing a mapping from content, such as words or numbers, to its locations in a table, .... The purpose of an inverted index is to allow fast full-text searches, at a cost of increased processing when a document is added to the database. ...\n",
    "\n",
    "\n",
    "Consider a simple inverted index, which maps from word to document. This can improve the performance of a retrieval system significantly. In this assignment, we consider a *simple* inverted index, which maps a word to a set of documents. In practice, however, more complex indices might be used.  \n"
   ]
  },
  {
   "cell_type": "markdown",
   "metadata": {
    "deletable": false,
    "editable": false,
    "nbgrader": {
     "cell_type": "markdown",
     "checksum": "710fd943f45523ac36fcb887cc0d4d39",
     "grade": false,
     "grade_id": "cell-fa373192c1b7bb95",
     "locked": true,
     "schema_version": 3,
     "solution": false,
     "task": false
    }
   },
   "source": [
    "### 2.1 Term Frequency-index (10 points)\n",
    "In this assignment, we will be using an index created in memory since our dataset is tiny. To get started, build a simple index that maps each `token` to a list of `(doc_id, count)` where `count` is the count of the `token` in `doc_id`.\n",
    "For consistency, build this index using a python dictionary.\n",
    "    \n",
    "Now, implement a function to build an index:"
   ]
  },
  {
   "cell_type": "code",
   "execution_count": 19,
   "metadata": {
    "deletable": false,
    "nbgrader": {
     "cell_type": "code",
     "checksum": "d4e8c6b658c469379d5fe511de05b536",
     "grade": false,
     "grade_id": "cell-077599b87e953209",
     "locked": false,
     "schema_version": 3,
     "solution": true,
     "task": false
    }
   },
   "outputs": [],
   "source": [
    "# TODO: Implement this! (10 points)\n",
    "\n",
    "from collections import defaultdict\n",
    "from collections import Counter\n",
    "\n",
    "def build_tf_index(documents):\n",
    "    \"\"\"\n",
    "        Build an inverted index (with counts). The output is a dictionary which takes in a token\n",
    "        and returns a list of (doc_id, count) where 'count' is the count of the 'token' in 'doc_id'\n",
    "        Input: a list of documents - (doc_id, tokens) \n",
    "        Output: An inverted index implemented within a pyhton dictionary: [token] -> [(doc_id, token_count)]\n",
    "    \"\"\"\n",
    "    # YOUR CODE HERE\n",
    "#     inverted_index = defaultdict(lambda: [])\n",
    "#     for (doc_id, tokens) in documents:\n",
    "#         for token in tokens:\n",
    "#             if token not in inverted_index:\n",
    "#                 inverted_index[token] = [(doc_id, tokens.count(token))]\n",
    "#             else:\n",
    "#                 inverted_index[token].append((doc_id, tokens.count(token)))\n",
    "#     return inverted_index\n",
    "\n",
    "    tok_dict = defaultdict(lambda: [])\n",
    "    for i, toks in documents:\n",
    "        counter = Counter(toks)\n",
    "        for key in counter.keys():\n",
    "            # Add key if not present\n",
    "            if not (key in tok_dict.keys()):\n",
    "                tok_dict[key] = []\n",
    "            tok_dict[key].append((i,counter[key]))\n",
    "    return tok_dict"
   ]
  },
  {
   "cell_type": "markdown",
   "metadata": {
    "deletable": false,
    "editable": false,
    "nbgrader": {
     "cell_type": "markdown",
     "checksum": "15e7041b4323d2a290322de538ff7670",
     "grade": false,
     "grade_id": "cell-093aebfa504f96f2",
     "locked": true,
     "schema_version": 3,
     "solution": false,
     "task": false
    }
   },
   "source": [
    "---\n",
    "Now we can build indexed documents and preprocess the queries based on the two configurations:"
   ]
  },
  {
   "cell_type": "code",
   "execution_count": 20,
   "metadata": {
    "deletable": false,
    "editable": false,
    "nbgrader": {
     "cell_type": "code",
     "checksum": "e27540c1d8d77a3779a05f557f3f40c6",
     "grade": false,
     "grade_id": "cell-b2ff1676348b90a8",
     "locked": true,
     "schema_version": 3,
     "solution": false,
     "task": false
    }
   },
   "outputs": [],
   "source": [
    "#### Indexed documents based on the two configs\n",
    "\n",
    "# Create the 2 indices\n",
    "tf_index_1 = build_tf_index(doc_repr_1)\n",
    "tf_index_2 = build_tf_index(doc_repr_2)\n",
    "\n",
    "# This function returns the tf_index of the corresponding config\n",
    "def get_index(index_set):\n",
    "    assert index_set in {1, 2}\n",
    "    return {\n",
    "        1: tf_index_1,\n",
    "        2: tf_index_2\n",
    "    }[index_set]\n",
    "\n",
    "####\n",
    "#### Preprocessed query based on the two configs\n",
    "\n",
    "# This function preprocesses the text given the index set, according to the specified config\n",
    "def preprocess_query(text, index_set):\n",
    "    assert index_set in {1, 2}\n",
    "    if index_set == 1:\n",
    "        return process_text(text, **config_1)\n",
    "    elif index_set == 2:\n",
    "        return process_text(text, **config_2)\n",
    "\n",
    "#### "
   ]
  },
  {
   "cell_type": "code",
   "execution_count": 21,
   "metadata": {
    "deletable": false,
    "editable": false,
    "nbgrader": {
     "cell_type": "code",
     "checksum": "f0cbc8703e1248cd6edf03f9019b69db",
     "grade": true,
     "grade_id": "cell-fc7c7232d5d2ee46",
     "locked": true,
     "points": 5,
     "schema_version": 3,
     "solution": false,
     "task": false
    }
   },
   "outputs": [
    {
     "name": "stdout",
     "output_type": "stream",
     "text": [
      "sample tf index for computer: [('4', 1), ('7', 1), ('10', 1), ('13', 1), ('19', 1), ('22', 1), ('23', 1), ('37', 1), ('40', 3), ('41', 1)]\n",
      "sample tf index for examples: [('111', 1), ('320', 1), ('644', 1), ('691', 1), ('727', 1), ('848', 1), ('892', 1), ('893', 1), ('1049', 1), ('1051', 1)]\n"
     ]
    }
   ],
   "source": [
    "##### Function check\n",
    "\n",
    "assert isinstance(tf_index_1, dict)\n",
    "\n",
    "assert isinstance(tf_index_1['computer'], list)\n",
    "print('sample tf index for computer:', tf_index_1['computer'][:10])\n",
    "\n",
    "assert isinstance(tf_index_1['examples'], list)\n",
    "print('sample tf index for examples:', tf_index_1['examples'][:10])\n",
    "#### "
   ]
  },
  {
   "cell_type": "code",
   "execution_count": 22,
   "metadata": {
    "deletable": false,
    "editable": false,
    "nbgrader": {
     "cell_type": "code",
     "checksum": "d49b8ac36815d9a5cb4bed838ab53a50",
     "grade": true,
     "grade_id": "cell-ff06bd11204db250",
     "locked": true,
     "points": 5,
     "schema_version": 3,
     "solution": false,
     "task": false
    }
   },
   "outputs": [
    {
     "name": "stdout",
     "output_type": "stream",
     "text": [
      "sample tf index for computer: [('4', 1), ('7', 1), ('10', 1), ('13', 1), ('19', 1), ('22', 1), ('23', 1), ('37', 1), ('40', 3), ('41', 1)]\n",
      "sample tf index for examples: []\n"
     ]
    }
   ],
   "source": [
    "##### Function check\n",
    "\n",
    "assert isinstance(tf_index_2, dict)\n",
    "\n",
    "assert isinstance(tf_index_2['computer'], list)\n",
    "print('sample tf index for computer:', tf_index_1['computer'][:10])\n",
    "\n",
    "assert isinstance(tf_index_2['examples'], list)\n",
    "print('sample tf index for examples:', tf_index_2['examples'][:10])\n",
    "#### "
   ]
  },
  {
   "cell_type": "markdown",
   "metadata": {
    "deletable": false,
    "editable": false,
    "nbgrader": {
     "cell_type": "markdown",
     "checksum": "880b2ef3ca405f2af6e0667d2dc7a600",
     "grade": false,
     "grade_id": "cell-89eba71f04310291",
     "locked": true,
     "schema_version": 3,
     "solution": false,
     "task": false
    }
   },
   "source": [
    "\n",
    "---\n",
    "## Section 3: Ranking  (80 points) <a class=\"anchor\" id=\"ranking\"></a>\n",
    "\n",
    "[Back to Part 1](#part1)\n",
    "\n",
    "Now that we have cleaned and processed our dataset, we can start building simple IR systems. \n",
    "\n",
    "For now, we consider *simple* IR systems, which involve computing scores from the tokens present in the document/query. More advanced methods are covered in later assignments.\n",
    "\n",
    "We will implement the following methods in this section:\n",
    "- [Section 3.1: Bag of Words](#bow) (10 points)\n",
    "- [Section 3.2: TF-IDF](#tfidf) (15 points)\n",
    "- [Section 3.3: Query Likelihood Model](#qlm) (35 points)\n",
    "- [Section 3.4: BM25](#bm25) (20 points)\n",
    "\n",
    "*All search functions should be able to handle multiple words queries.*\n",
    "\n",
    "**Scoring policy:**\n",
    "Your implementations in this section are scored based on the expected performance of your ranking functions.\n",
    "You will get a full mark if your implementation meets the expected performance (measured by some evaluation metric).\n",
    "Otherwise, you may get partial credit.\n",
    "For example, if your *Bag of words* ranking function has 60% of expected performance, you will get 6 out of 10."
   ]
  },
  {
   "cell_type": "markdown",
   "metadata": {
    "deletable": false,
    "editable": false,
    "nbgrader": {
     "cell_type": "markdown",
     "checksum": "6c74e5061917358300c6e8085ec07864",
     "grade": false,
     "grade_id": "cell-3daf70a60e393adf",
     "locked": true,
     "schema_version": 3,
     "solution": false,
     "task": false
    }
   },
   "source": [
    "--- \n",
    "\n",
    "### Section 3.1: Bag of Words (10 points)<a class=\"anchor\" id=\"bow\"></a>\n",
    "\n",
    "Probably the simplest IR model is the Bag of Words (BOW) model.\n",
    "Implement a function that scores and ranks all the documents against a query using this model.   \n",
    "\n",
    "- For consistency, you should use the count of the token and **not** the binary indicator.\n",
    "- Use `float` type for the scores (even though the scores are integers in this case).\n",
    "- No normalization of the scores is necessary, as the ordering is what we are interested in.\n",
    "- If two documents have the same score, they can have any ordering: you are not required to disambiguate.\n"
   ]
  },
  {
   "cell_type": "code",
   "execution_count": 23,
   "metadata": {
    "deletable": false,
    "nbgrader": {
     "cell_type": "code",
     "checksum": "fee4640e22bfc4f05eb958a675ef40e7",
     "grade": false,
     "grade_id": "cell-de9cf0459c4b9324",
     "locked": false,
     "schema_version": 3,
     "solution": true,
     "task": false
    }
   },
   "outputs": [],
   "source": [
    "# TODO: Implement this! (10 points)\n",
    "def bow_search(query, index_set):\n",
    "    \"\"\"\n",
    "        Perform a search over all documents with the given query. \n",
    "        Note: You have to use the `get_index` function created in the previous cells\n",
    "        Input: \n",
    "            query - a (unprocessed) query\n",
    "            index_set - the index to use\n",
    "        Output: a list of (document_id, score), sorted in descending relevance to the given query. \n",
    "    \"\"\"\n",
    "    index = get_index(index_set)\n",
    "    processed_query = preprocess_query(query, index_set)\n",
    "    # YOUR CODE HERE\n",
    "    \n",
    "    counter = Counter()\n",
    "    for word in processed_query:\n",
    "        for ind, count in index[word]:\n",
    "            counter[ind] += float(count)\n",
    "    return counter.most_common(5)"
   ]
  },
  {
   "cell_type": "code",
   "execution_count": 24,
   "metadata": {
    "deletable": false,
    "editable": false,
    "nbgrader": {
     "cell_type": "code",
     "checksum": "613524fbbf02b1d122c6611a71fbf11b",
     "grade": true,
     "grade_id": "cell-9f6aceae6dd9125f",
     "locked": true,
     "points": 2,
     "schema_version": 3,
     "solution": false,
     "task": false
    }
   },
   "outputs": [],
   "source": [
    "#### Function check\n",
    "\n",
    "test_bow = bow_search(\"how to implement bag of words search\", index_set=1)[:5]\n",
    "assert isinstance(test_bow, list)\n",
    "assert len(test_bow[0]) == 2\n",
    "assert isinstance(test_bow[0][0], str)\n",
    "assert isinstance(test_bow[0][1], float)\n",
    "\n",
    "#### "
   ]
  },
  {
   "cell_type": "code",
   "execution_count": 25,
   "metadata": {
    "deletable": false,
    "editable": false,
    "nbgrader": {
     "cell_type": "code",
     "checksum": "9af20897659edb62fe77598483590500",
     "grade": true,
     "grade_id": "cell-4eed3abf233d9b58",
     "locked": true,
     "points": 2,
     "schema_version": 3,
     "solution": false,
     "task": false
    }
   },
   "outputs": [
    {
     "name": "stdout",
     "output_type": "stream",
     "text": [
      "BOW Results:\n",
      "Rank 0(1.3e+01): On Computing The Fast Fourier Transform\\nCooley an...\n",
      "Rank 1(1.2e+01): Variable Length Tree Structures Having Minimum Ave...\n",
      "Rank 2(1.1e+01): A Modular Computer Sharing System\\nAn alternative ...\n",
      "Rank 3(1e+01): PEEKABIT, Computer Offspring of Punched\\nCard PEEK...\n",
      "Rank 4(9.0): Computer Simulation-Discussion of the\\nTechnique a...\n"
     ]
    }
   ],
   "source": [
    "\n",
    "docs_by_id = dict(docs)\n",
    "def print_results(docs, len_limit=50):    \n",
    "    for i, (doc_id, score) in enumerate(docs):\n",
    "        doc_content = docs_by_id[doc_id].strip().replace(\"\\n\", \"\\\\n\")[:len_limit] + \"...\"\n",
    "        print(f\"Rank {i}({score:.2}): {doc_content}\")\n",
    "\n",
    "test_bow_2 = bow_search(\"computer search word\", index_set=2)[:5]\n",
    "print(f\"BOW Results:\")\n",
    "print_results(test_bow_2)\n"
   ]
  },
  {
   "cell_type": "code",
   "execution_count": 26,
   "metadata": {
    "deletable": false,
    "editable": false,
    "nbgrader": {
     "cell_type": "code",
     "checksum": "3c9c8b16c8e7d1032f101e9da8a6e845",
     "grade": true,
     "grade_id": "cell-4d65a2d7090c466c",
     "locked": true,
     "points": 3,
     "schema_version": 3,
     "solution": false,
     "task": false
    }
   },
   "outputs": [
    {
     "name": "stdout",
     "output_type": "stream",
     "text": [
      "BOW Results:\n",
      "Rank 0(9.0): CURRICULUM 68 -- Recommendations for Academic\\nPro...\n",
      "Rank 1(9.0): Variable Length Tree Structures Having Minimum Ave...\n",
      "Rank 2(7.0): Computer Formulation of the Equations of Motion Us...\n",
      "Rank 3(7.0): The Effects of Multiplexing on a Computer-Communic...\n",
      "Rank 4(6.0): Optimizing Bit-time Computer Simulation\\nA major c...\n"
     ]
    }
   ],
   "source": [
    "\n",
    "test_bow_1 = bow_search(\"computer search word\", index_set=1)[:5]\n",
    "print(f\"BOW Results:\")\n",
    "print_results(test_bow_1)\n"
   ]
  },
  {
   "cell_type": "code",
   "execution_count": 27,
   "metadata": {
    "deletable": false,
    "editable": false,
    "nbgrader": {
     "cell_type": "code",
     "checksum": "b7e593847aa4202ae45ec061fb18ad73",
     "grade": true,
     "grade_id": "cell-dedf36ab5853ce20",
     "locked": true,
     "points": 3,
     "schema_version": 3,
     "solution": false,
     "task": false
    }
   },
   "outputs": [
    {
     "name": "stdout",
     "output_type": "stream",
     "text": [
      "top-5 docs for index1: ('1771', '1936', '1543', '2535', '678')\n",
      "top-5 docs for index2: ('1525', '1936', '1844', '1700', '1366')\n"
     ]
    }
   ],
   "source": [
    "print('top-5 docs for index1:', list(zip(*test_bow_1[:5]))[0])\n",
    "print('top-5 docs for index2:', list(zip(*test_bow_2[:5]))[0])\n"
   ]
  },
  {
   "cell_type": "markdown",
   "metadata": {
    "deletable": false,
    "editable": false,
    "nbgrader": {
     "cell_type": "markdown",
     "checksum": "b04352ee0716dfdf094b8cdb6f32e984",
     "grade": false,
     "grade_id": "cell-a5c09c79ac1f2871",
     "locked": true,
     "schema_version": 3,
     "solution": false,
     "task": false
    }
   },
   "source": [
    "\n",
    "---\n",
    "\n",
    "### Section 3.2: TF-IDF (15 points) <a class=\"anchor\" id=\"tfidf\"></a>\n",
    "\n",
    "Before we implement the tf-idf scoring functions, let's first write a function to compute the document frequencies of all words.  \n",
    "\n",
    "#### 3.2.1 Document frequency (5 points)\n",
    "Compute the document frequencies of all tokens in the collection. \n",
    "Your code should return a dictionary with tokens as its keys and the number of documents containing the token as values.\n",
    "For consistency, the values should have `int` type."
   ]
  },
  {
   "cell_type": "code",
   "execution_count": 28,
   "metadata": {
    "deletable": false,
    "nbgrader": {
     "cell_type": "code",
     "checksum": "5c53263cf4c0b0ffcaae08b91fc364cc",
     "grade": false,
     "grade_id": "cell-9a2369f32e864b8a",
     "locked": false,
     "schema_version": 3,
     "solution": true,
     "task": false
    }
   },
   "outputs": [],
   "source": [
    "# TODO: Implement this! (5 points)\n",
    "def compute_df(documents):\n",
    "    \"\"\"\n",
    "        Compute the document frequency of all terms in the vocabulary\n",
    "        Input: A list of documents\n",
    "        Output: A dictionary with {token: document frequency (int)}\n",
    "    \"\"\"\n",
    "    \n",
    "    # YOUR CODE HERE\n",
    "    doc_repr = []\n",
    "    for (doc_id, document) in enumerate(documents):\n",
    "        doc_repr.append((doc_id, document))\n",
    "    index = build_tf_index(doc_repr)\n",
    "    df = defaultdict(lambda:1)\n",
    "    for tok in index.keys():\n",
    "        items = index[tok]\n",
    "        df[tok] = len(items)\n",
    "    return df"
   ]
  },
  {
   "cell_type": "code",
   "execution_count": 29,
   "metadata": {
    "deletable": false,
    "editable": false,
    "nbgrader": {
     "cell_type": "code",
     "checksum": "154985511d7925c5793a1f97dea81880",
     "grade": false,
     "grade_id": "cell-4c3bddd0b73ac90e",
     "locked": true,
     "schema_version": 3,
     "solution": false,
     "task": false
    }
   },
   "outputs": [],
   "source": [
    "#### Compute df based on the two configs\n",
    "\n",
    "# get the document frequencies of each document\n",
    "df_1 = compute_df([d[1] for d in doc_repr_1])\n",
    "df_2 = compute_df([d[1] for d in doc_repr_2])\n",
    "\n",
    "def get_df(index_set):\n",
    "    assert index_set in {1, 2}\n",
    "    return {\n",
    "        1: df_1,\n",
    "        2: df_2\n",
    "    }[index_set]\n",
    "####"
   ]
  },
  {
   "cell_type": "code",
   "execution_count": 30,
   "metadata": {
    "deletable": false,
    "editable": false,
    "nbgrader": {
     "cell_type": "code",
     "checksum": "110cc180068cf3f77c682ee3de2a117c",
     "grade": true,
     "grade_id": "cell-79e8a6db1e5fc46f",
     "locked": true,
     "points": 5,
     "schema_version": 3,
     "solution": false,
     "task": false
    }
   },
   "outputs": [
    {
     "name": "stdout",
     "output_type": "stream",
     "text": [
      "597\n",
      "11\n"
     ]
    }
   ],
   "source": [
    "#### Function check\n",
    "\n",
    "print(df_1['computer'])\n",
    "print(df_2['computer'])\n",
    "####"
   ]
  },
  {
   "cell_type": "markdown",
   "metadata": {
    "deletable": false,
    "editable": false,
    "nbgrader": {
     "cell_type": "markdown",
     "checksum": "d0d577668fa51b80aeab6e67209ae73b",
     "grade": false,
     "grade_id": "cell-52f6acc487e1b96d",
     "locked": true,
     "schema_version": 3,
     "solution": false,
     "task": false
    }
   },
   "source": [
    "---\n",
    "#### 3.2.2 TF-IDF search (10 points)\n",
    "Next, implement a function that computes a tf-idf score, given a query.\n",
    "Use the following formulas for TF and IDF:\n",
    "\n",
    "$$ TF=\\log (1 + f_{d,t}) $$\n",
    "\n",
    "$$ IDF=\\log (\\frac{N}{n_t})$$\n",
    "\n",
    "where $f_{d,t}$ is the frequency of token $t$ in document $d$, $N$ is the number of total documents and $n_t$ is the number of documents containing token $t$.\n",
    "\n",
    "**Note:** your implementation will be auto-graded assuming you have used the above formulas.\n"
   ]
  },
  {
   "cell_type": "code",
   "execution_count": 31,
   "metadata": {
    "deletable": false,
    "nbgrader": {
     "cell_type": "code",
     "checksum": "3534c44b4a3419ca1db98eebe7115dc1",
     "grade": false,
     "grade_id": "cell-2fb5ba34b2994cd9",
     "locked": false,
     "schema_version": 3,
     "solution": true,
     "task": false
    }
   },
   "outputs": [],
   "source": [
    "# TODO: Implement this! (10 points)\n",
    "def tfidf_search(query, index_set):\n",
    "    \"\"\"\n",
    "        Perform a search over all documents with the given query using tf-idf. \n",
    "        Note #1: You have to use the `get_index` (and the `get_df`) function created in the previous cells\n",
    "        Input: \n",
    "            query - a (unprocessed) query\n",
    "            index_set - the index to use\n",
    "        Output: a list of (document_id, score), sorted in descending relevance to the given query \n",
    "    \"\"\"\n",
    "    index = get_index(index_set)\n",
    "    df = get_df(index_set)\n",
    "    processed_query = preprocess_query(query, index_set)\n",
    "    N = len(docs)\n",
    "    # YOUR CODE HERE\n",
    "    \n",
    "    score = Counter()\n",
    "    for word in processed_query:\n",
    "        if df[word]:\n",
    "            idf = np.log(N/df[word])\n",
    "        for ind, count in index[word]:\n",
    "            tf = np.log(1 + float(count))\n",
    "            score[ind] += tf*idf\n",
    "    return score.most_common()"
   ]
  },
  {
   "cell_type": "code",
   "execution_count": 32,
   "metadata": {
    "deletable": false,
    "editable": false,
    "nbgrader": {
     "cell_type": "code",
     "checksum": "7b66a514663d898694b09a23a597312b",
     "grade": true,
     "grade_id": "cell-bc68aeeacf42beb3",
     "locked": true,
     "points": 2,
     "schema_version": 3,
     "solution": false,
     "task": false
    }
   },
   "outputs": [],
   "source": [
    "\n",
    "#### Function check\n",
    "test_tfidf = tfidf_search(\"how to implement tf idf search\", index_set=1)[:5]\n",
    "assert isinstance(test_tfidf, list)\n",
    "assert len(test_tfidf[0]) == 2\n",
    "assert isinstance(test_tfidf[0][0], str)\n",
    "assert isinstance(test_tfidf[0][1], float)\n",
    "\n",
    "####"
   ]
  },
  {
   "cell_type": "code",
   "execution_count": 33,
   "metadata": {
    "deletable": false,
    "editable": false,
    "nbgrader": {
     "cell_type": "code",
     "checksum": "98fb1326cf4bf7983ae237ca8a9105f9",
     "grade": true,
     "grade_id": "cell-c7702fa8179fadb9",
     "locked": true,
     "points": 2,
     "schema_version": 3,
     "solution": false,
     "task": false
    }
   },
   "outputs": [
    {
     "name": "stdout",
     "output_type": "stream",
     "text": [
      "TFIDF Results:\n",
      "Rank 0(1.3e+01): PEEKABIT, Computer Offspring of Punched\\nCard PEEK...\n",
      "Rank 1(9.8): Variable Length Tree Structures Having Minimum Ave...\n",
      "Rank 2(8.2): A Stochastic Approach to the Grammatical Coding of...\n",
      "Rank 3(8.1): Full Table Quadratic Searching for Scatter Storage...\n",
      "Rank 4(7.6): Use of Tree Structures for Processing Files\\nIn da...\n"
     ]
    }
   ],
   "source": [
    "\n",
    "test_tfidf_2 = tfidf_search(\"computer word search\", index_set=2)[:5]\n",
    "print(f\"TFIDF Results:\")\n",
    "print_results(test_tfidf_2)\n"
   ]
  },
  {
   "cell_type": "code",
   "execution_count": 34,
   "metadata": {
    "deletable": false,
    "editable": false,
    "nbgrader": {
     "cell_type": "code",
     "checksum": "733b5b67be5e53989f5b763ce5e52ee9",
     "grade": true,
     "grade_id": "cell-3284f50ac29abbaa",
     "locked": true,
     "points": 3,
     "schema_version": 3,
     "solution": false,
     "task": false
    }
   },
   "outputs": [
    {
     "name": "stdout",
     "output_type": "stream",
     "text": [
      "TFIDF Results:\n",
      "Rank 0(9.4): Variable Length Tree Structures Having Minimum Ave...\n",
      "Rank 1(7.4): On the Feasibility of Voice Input to\\nan On-line C...\n",
      "Rank 2(7.3): Median Split Trees: A Fast Lookup Technique for Fr...\n",
      "Rank 3(7.0): Execution Time Requirements for Encipherment Progr...\n",
      "Rank 4(7.0): Storage and Search Properties of a Tree-Organized ...\n"
     ]
    }
   ],
   "source": [
    "\n",
    "test_tfidf_1 = tfidf_search(\"computer word search\", index_set=1)[:5]\n",
    "print(f\"TFIDF Results:\")\n",
    "print_results(test_tfidf_1)\n"
   ]
  },
  {
   "cell_type": "code",
   "execution_count": 35,
   "metadata": {
    "deletable": false,
    "editable": false,
    "nbgrader": {
     "cell_type": "code",
     "checksum": "e0edb37a5ae807a2de85d578c87ccb78",
     "grade": true,
     "grade_id": "cell-d908c80a3155354b",
     "locked": true,
     "points": 3,
     "schema_version": 3,
     "solution": false,
     "task": false
    }
   },
   "outputs": [
    {
     "name": "stdout",
     "output_type": "stream",
     "text": [
      "top-5 docs for index1 with BOW search: ('1771', '1936', '1543', '2535', '678')\n",
      "top-5 docs for index2 with BOW search: ('1525', '1936', '1844', '1700', '1366')\n",
      "top-5 docs for index1 with TF-IDF search: ('1936', '2054', '3041', '2620', '944')\n",
      "top-5 docs for index2 with TF-IDF search: ('1700', '1936', '1235', '2018', '849')\n"
     ]
    }
   ],
   "source": [
    "\n",
    "print('top-5 docs for index1 with BOW search:', list(zip(*test_bow_1[:5]))[0])\n",
    "print('top-5 docs for index2 with BOW search:', list(zip(*test_bow_2[:5]))[0])\n",
    "print('top-5 docs for index1 with TF-IDF search:', list(zip(*test_tfidf_1[:5]))[0])\n",
    "print('top-5 docs for index2 with TF-IDF search:', list(zip(*test_tfidf_2[:5]))[0])\n",
    "\n"
   ]
  },
  {
   "cell_type": "markdown",
   "metadata": {
    "deletable": false,
    "editable": false,
    "nbgrader": {
     "cell_type": "markdown",
     "checksum": "cdffc83f0eaea937cf64a212e7e9af8d",
     "grade": false,
     "grade_id": "cell-f5d923459ba21733",
     "locked": true,
     "schema_version": 3,
     "solution": false,
     "task": false
    }
   },
   "source": [
    "--- \n",
    "\n",
    "### Section 3.3: Query Likelihood Model (35 points) <a class=\"anchor\" id=\"qlm\"></a>\n",
    "\n",
    "In this section, you will implement a simple query likelihood model. \n",
    "\n",
    "\n",
    "#### 3.3.1 Naive QL (15 points)\n",
    "\n",
    "First, let us implement a naive version of a QL model, assuming a multinomial unigram language model (with a uniform prior over the documents). \n",
    "\n"
   ]
  },
  {
   "cell_type": "code",
   "execution_count": 36,
   "metadata": {
    "deletable": false,
    "editable": false,
    "nbgrader": {
     "cell_type": "code",
     "checksum": "b7ae2b7d818b428b4638c1c9206d2aca",
     "grade": false,
     "grade_id": "cell-98505778f7b68e7f",
     "locked": true,
     "schema_version": 3,
     "solution": false,
     "task": false
    }
   },
   "outputs": [],
   "source": [
    "#### Document length for normalization\n",
    "\n",
    "def doc_lengths(documents):\n",
    "    doc_lengths = {doc_id:len(doc) for (doc_id, doc) in documents}\n",
    "    return doc_lengths\n",
    "\n",
    "doc_lengths_1 = doc_lengths(doc_repr_1)\n",
    "doc_lengths_2 = doc_lengths(doc_repr_2)\n",
    "\n",
    "def get_doc_lengths(index_set):\n",
    "    assert index_set in {1, 2}\n",
    "    return {\n",
    "        1: doc_lengths_1,\n",
    "        2: doc_lengths_2\n",
    "    }[index_set]\n",
    "####"
   ]
  },
  {
   "cell_type": "code",
   "execution_count": 37,
   "metadata": {
    "deletable": false,
    "nbgrader": {
     "cell_type": "code",
     "checksum": "cedd08303a914243fefdb6b876977ca1",
     "grade": false,
     "grade_id": "cell-8bcf2b804d636c2e",
     "locked": false,
     "schema_version": 3,
     "solution": true,
     "task": false
    }
   },
   "outputs": [],
   "source": [
    "# TODO: Implement this! (15 points)\n",
    "def naive_ql_search(query, index_set):\n",
    "    \"\"\"\n",
    "        Perform a search over all documents with the given query using a naive QL model. \n",
    "        Note #1: You have to use the `get_index` (and get_doc_lengths) function created in the previous cells\n",
    "        Input: \n",
    "            query - a (unprocessed) query\n",
    "            index_set - the index to use\n",
    "        Output: a list of (document_id, score), sorted in descending relevance to the given query \n",
    "    \"\"\"\n",
    "    index = get_index(index_set)\n",
    "    doc_lengths = get_doc_lengths(index_set)\n",
    "    processed_query = preprocess_query(query, index_set)\n",
    "    # YOUR CODE HERE\n",
    "\n",
    "    scores = []\n",
    "\n",
    "    for word in processed_query:\n",
    "        for key, value in index.items():\n",
    "            if word == key:\n",
    "                tot = [(doc_id, token_count / doc_lengths[doc_id]) for doc_id, token_count in value]\n",
    "                scores.extend(tot)\n",
    "\n",
    "                doc = [doc_id for doc_id, token_count in value]\n",
    "\n",
    "                for i in range(len(docs)):\n",
    "                    i += 1 \n",
    "                    if i not in doc:\n",
    "                        scores.append((i, 0))\n",
    "                        \n",
    "    d_query = defaultdict(lambda:[])\n",
    "\n",
    "    for (key, value) in scores:\n",
    "        if key in d_query:\n",
    "            d_query[key] *= value\n",
    "        else:\n",
    "            d_query[key] = value\n",
    "\n",
    "    scores = [(key, float(value)) for key, value in d_query.items()]\n",
    "    scores.sort(key = lambda x:x[1], reverse = True)\n",
    "\n",
    "    return scores\n",
    "    "
   ]
  },
  {
   "cell_type": "code",
   "execution_count": 38,
   "metadata": {
    "deletable": false,
    "editable": false,
    "nbgrader": {
     "cell_type": "code",
     "checksum": "b550d15bdad28354c336020a00c33d56",
     "grade": true,
     "grade_id": "cell-5a83ac12ecde8578",
     "locked": true,
     "points": 3,
     "schema_version": 3,
     "solution": false,
     "task": false
    }
   },
   "outputs": [
    {
     "name": "stdout",
     "output_type": "stream",
     "text": [
      "Naive QL Results:\n",
      "Rank 0(0.2): A Report Writer For COBOL...\n",
      "Rank 1(0.2): A CRT Report Generating System...\n",
      "Rank 2(0.17): Preliminary Report-International Algebraic Languag...\n",
      "Rank 3(0.17): Supplement to the ALGOL 60 Report...\n",
      "Rank 4(0.14): ALGOL Sub-Committee Report - Extensions...\n"
     ]
    }
   ],
   "source": [
    "#### Function check\n",
    "test_naiveql = naive_ql_search(\"report\", index_set=1)[:5]\n",
    "print(f\"Naive QL Results:\")\n",
    "print_results(test_naiveql)\n",
    "####"
   ]
  },
  {
   "cell_type": "code",
   "execution_count": 39,
   "metadata": {
    "deletable": false,
    "editable": false,
    "nbgrader": {
     "cell_type": "code",
     "checksum": "799df1d81c63fe90edbb6c218fc707fb",
     "grade": true,
     "grade_id": "cell-80f4bf2137f997bb",
     "locked": true,
     "points": 2,
     "schema_version": 3,
     "solution": false,
     "task": false
    }
   },
   "outputs": [],
   "source": [
    "#### Please do not change this. This cell is used for grading."
   ]
  },
  {
   "cell_type": "code",
   "execution_count": 40,
   "metadata": {
    "deletable": false,
    "editable": false,
    "nbgrader": {
     "cell_type": "code",
     "checksum": "875a4a517d27e20625d41783cebec118",
     "grade": true,
     "grade_id": "cell-5ce2993458a8ce51",
     "locked": true,
     "points": 3,
     "schema_version": 3,
     "solution": false,
     "task": false
    }
   },
   "outputs": [],
   "source": [
    "#### Please do not change this. This cell is used for grading."
   ]
  },
  {
   "cell_type": "code",
   "execution_count": 41,
   "metadata": {
    "deletable": false,
    "editable": false,
    "nbgrader": {
     "cell_type": "code",
     "checksum": "d5c4e1c3852e71a46f32825b122f1b71",
     "grade": true,
     "grade_id": "cell-7753bdb54e292f3d",
     "locked": true,
     "points": 3,
     "schema_version": 3,
     "solution": false,
     "task": false
    }
   },
   "outputs": [],
   "source": [
    "#### Please do not change this. This cell is used for grading."
   ]
  },
  {
   "cell_type": "code",
   "execution_count": 42,
   "metadata": {
    "deletable": false,
    "editable": false,
    "nbgrader": {
     "cell_type": "code",
     "checksum": "c4d4332d4356e89ce0240f6b80e1899a",
     "grade": true,
     "grade_id": "cell-54e476e2f96e64bb",
     "locked": true,
     "points": 4,
     "schema_version": 3,
     "solution": false,
     "task": false
    }
   },
   "outputs": [],
   "source": [
    "#### Please do not change this. This cell is used for grading."
   ]
  },
  {
   "cell_type": "markdown",
   "metadata": {
    "deletable": false,
    "editable": false,
    "nbgrader": {
     "cell_type": "markdown",
     "checksum": "8d739dc91a22bd48897f603885f95a74",
     "grade": false,
     "grade_id": "cell-5414dfd69dab8b94",
     "locked": true,
     "schema_version": 3,
     "solution": false,
     "task": false
    }
   },
   "source": [
    "---\n",
    "#### 3.3.2 QL (20 points)\n",
    "Now, let's implement a QL model that handles the issues with the naive version. In particular, you will implement a QL model with Jelinek-Mercer Smoothing. That means an interpolated score is computed per word - one term is the same as the previous naive version, and the second term comes from a unigram language model. In addition, you should accumulate the scores by summing the **log** (smoothed) probability which leads to better numerical stability."
   ]
  },
  {
   "cell_type": "code",
   "execution_count": 43,
   "metadata": {
    "deletable": false,
    "nbgrader": {
     "cell_type": "code",
     "checksum": "b8c6abf937ad333e628f1db891f2e29e",
     "grade": false,
     "grade_id": "cell-bb1f506409771257",
     "locked": false,
     "schema_version": 3,
     "solution": true,
     "task": false
    }
   },
   "outputs": [],
   "source": [
    "# TODO: Implement this! (20 points)\n",
    "\n",
    "# YOUR CODE HERE\n",
    "#raise NotImplementedError()\n",
    "\n",
    "def ql_search(query, index_set):\n",
    "    \"\"\"\n",
    "        Perform a search over all documents with the given query using a QL model \n",
    "        with Jelinek-Mercer Smoothing (set smoothing=0.1). \n",
    "        \n",
    "        \n",
    "        Note #1: You have to use the `get_index` (and get_doc_lengths) function created in the previous cells\n",
    "        Note #2: You might have to create some variables beforehand and use them in this function\n",
    "        \n",
    "        \n",
    "        Input: \n",
    "            query - a (unprocessed) query\n",
    "            index_set - the index to use\n",
    "        Output: a list of (document_id, score), sorted in descending relevance to the given query \n",
    "    \"\"\"\n",
    "    index = get_index(index_set)\n",
    "    doc_lengths = get_doc_lengths(index_set)\n",
    "    processed_query = preprocess_query(query, index_set)\n",
    "    \n",
    "    # YOUR CODE HERE\n",
    "    smoothing = 0.1\n",
    "    lengths = sum(doc_lengths.values())\n",
    "    freqs = {i: sum(count for doc_id, count in value) for i, value in index.items()}\n",
    "    scores = []\n",
    "    \n",
    "    for word in processed_query:\n",
    "        for key, value in index.items():\n",
    "            if word == key:\n",
    "                tot = [(doc_id, np.log((1 - smoothing) * (token_count / doc_lengths[doc_id]) + smoothing * (freqs[key] / lengths))) for doc_id, token_count in value]\n",
    "                scores.extend(tot)\n",
    "                \n",
    "                doc = [doc_id for doc_id, token_count in value]\n",
    "                for i in range(len(docs)):\n",
    "                    i += 1\n",
    "                    if i not in doc:\n",
    "                        scores.append((i, np.log(0 + smoothing * (freqs[key] / lengths))))\n",
    "    \n",
    "    d_query = defaultdict(lambda:[])\n",
    "    for (key, value) in scores:\n",
    "        if key in d_query:\n",
    "            d_query[key] += value\n",
    "        else:\n",
    "            d_query[key] = value\n",
    "\n",
    "    scores = [(key, float(value)) for key, value in d_query.items()]\n",
    "    scores.sort(key = lambda x:x[1], reverse = True)\n",
    "    \n",
    "    return scores\n",
    "    "
   ]
  },
  {
   "cell_type": "code",
   "execution_count": 44,
   "metadata": {
    "deletable": false,
    "editable": false,
    "nbgrader": {
     "cell_type": "code",
     "checksum": "0b12a7f3355193a257fd9f5f69a66562",
     "grade": true,
     "grade_id": "cell-850e9d6369bcec32",
     "locked": true,
     "points": 4,
     "schema_version": 3,
     "solution": false,
     "task": false
    }
   },
   "outputs": [
    {
     "name": "stdout",
     "output_type": "stream",
     "text": [
      "Rank 0(-1.7): A Report Writer For COBOL...\n",
      "Rank 1(-1.7): A CRT Report Generating System...\n",
      "Rank 2(-1.9): Preliminary Report-International Algebraic Languag...\n",
      "Rank 3(-1.9): Supplement to the ALGOL 60 Report...\n",
      "Rank 4(-2.1): ALGOL Sub-Committee Report - Extensions...\n",
      "\n",
      "Rank 0(-1.7e+01): A Report Writer For COBOL...\n",
      "Rank 1(-1.7e+01): A CRT Report Generating System...\n",
      "Rank 2(-1.9e+01): Preliminary Report-International Algebraic Languag...\n",
      "Rank 3(-1.9e+01): Supplement to the ALGOL 60 Report...\n",
      "Rank 4(-2.1e+01): ALGOL Sub-Committee Report - Extensions...\n"
     ]
    }
   ],
   "source": [
    "#### Function check\n",
    "test_ql_results = ql_search(\"report\", index_set=1)[:5]\n",
    "print_results(test_ql_results)\n",
    "print()\n",
    "test_ql_results_long = ql_search(\"report \" * 10, index_set=1)[:5]\n",
    "print_results(test_ql_results_long)\n",
    "####"
   ]
  },
  {
   "cell_type": "code",
   "execution_count": 45,
   "metadata": {
    "deletable": false,
    "editable": false,
    "nbgrader": {
     "cell_type": "code",
     "checksum": "e40be645140389c115849856145f5b59",
     "grade": true,
     "grade_id": "cell-958cdcf6fd6899b7",
     "locked": true,
     "points": 3,
     "schema_version": 3,
     "solution": false,
     "task": false
    }
   },
   "outputs": [],
   "source": [
    "#### Please do not change this. This cell is used for grading."
   ]
  },
  {
   "cell_type": "code",
   "execution_count": 46,
   "metadata": {
    "deletable": false,
    "editable": false,
    "nbgrader": {
     "cell_type": "code",
     "checksum": "41d4aff001df17e7963ba79b45810b30",
     "grade": true,
     "grade_id": "cell-384dc23a0c251f6e",
     "locked": true,
     "points": 4,
     "schema_version": 3,
     "solution": false,
     "task": false
    }
   },
   "outputs": [],
   "source": [
    "#### Please do not change this. This cell is used for grading."
   ]
  },
  {
   "cell_type": "code",
   "execution_count": 47,
   "metadata": {
    "deletable": false,
    "editable": false,
    "nbgrader": {
     "cell_type": "code",
     "checksum": "893e8c5a073abc8ebb763d267b91bc02",
     "grade": true,
     "grade_id": "cell-7218966cba5097cc",
     "locked": true,
     "points": 4,
     "schema_version": 3,
     "solution": false,
     "task": false
    }
   },
   "outputs": [],
   "source": [
    "#### Please do not change this. This cell is used for grading."
   ]
  },
  {
   "cell_type": "code",
   "execution_count": 48,
   "metadata": {
    "deletable": false,
    "editable": false,
    "nbgrader": {
     "cell_type": "code",
     "checksum": "f99cb6f8b1f5830aaed8f06712ff846e",
     "grade": true,
     "grade_id": "cell-481ab073259ae53f",
     "locked": true,
     "points": 5,
     "schema_version": 3,
     "solution": false,
     "task": false
    }
   },
   "outputs": [],
   "source": [
    "#### Please do not change this. This cell is used for grading."
   ]
  },
  {
   "cell_type": "markdown",
   "metadata": {
    "deletable": false,
    "editable": false,
    "nbgrader": {
     "cell_type": "markdown",
     "checksum": "c02f14705d679579b1aa9f78f54779d5",
     "grade": false,
     "grade_id": "cell-f44088bfdac1dc90",
     "locked": true,
     "schema_version": 3,
     "solution": false,
     "task": false
    }
   },
   "source": [
    "--- \n",
    "\n",
    "### Section 3.4: BM25 (20 points) <a class=\"anchor\" id=\"bm25\"></a>\n",
    "\n",
    "In this section, we will implement the BM25 scoring function. \n"
   ]
  },
  {
   "cell_type": "code",
   "execution_count": 49,
   "metadata": {
    "deletable": false,
    "nbgrader": {
     "cell_type": "code",
     "checksum": "e57efe06ea92af1c83784a42eb3d86e0",
     "grade": false,
     "grade_id": "cell-15640fc9b5d00a3c",
     "locked": false,
     "schema_version": 3,
     "solution": true,
     "task": false
    }
   },
   "outputs": [],
   "source": [
    "# TODO: Implement this! (20 points)\n",
    "def bm25_search(query, index_set):\n",
    "    \"\"\"\n",
    "        Perform a search over all documents with the given query using BM25. Use k_1 = 1.5 and b = 0.75\n",
    "        Note #1: You have to use the `get_index` (and `get_doc_lengths`) function created in the previous cells\n",
    "        Note #2: You might have to create some variables beforehand and use them in this function\n",
    "        \n",
    "        Input: \n",
    "            query - a (unprocessed) query\n",
    "            index_set - the index to use\n",
    "        Output: a list of (document_id, score), sorted in descending relevance to the given query \n",
    "    \"\"\"\n",
    "    \n",
    "    index = get_index(index_set)\n",
    "    df = get_df(index_set)\n",
    "    doc_lengths = get_doc_lengths(index_set)\n",
    "    processed_query = preprocess_query(query, index_set)\n",
    "    \n",
    "    # YOUR CODE HERE\n",
    "    b = 0.75\n",
    "    k1 = 1.5\n",
    "    \n",
    "    avg_doc_length = np.mean(list(doc_lengths.values()))\n",
    "    documents = len(docs)\n",
    "    idf = {key: np.log(documents / value) for (key, value) in df.items()}\n",
    "\n",
    "    scores  = []\n",
    "    for word in processed_query:\n",
    "        for key, value in index.items():\n",
    "            if word == key:\n",
    "                scores  += [(doc_id, idf[key] * (((k1 + 1)*token_count)/(k1*((1-b)+(b*doc_lengths[doc_id]/avg_doc_length))+token_count))) for doc_id, token_count in value]\n",
    "\n",
    "    d_query = defaultdict()\n",
    "\n",
    "    for key, value in scores:\n",
    "        if key in d_query:\n",
    "            d_query[key] *= value\n",
    "        else:\n",
    "            d_query[key] = value\n",
    "\n",
    "    scores  = [(key, float(value)) for key, value in d_query.items()]\n",
    "    scores .sort(key=lambda x:x[1], reverse=True)\n",
    "\n",
    "    return scores       \n",
    "    "
   ]
  },
  {
   "cell_type": "code",
   "execution_count": 50,
   "metadata": {
    "deletable": false,
    "editable": false,
    "nbgrader": {
     "cell_type": "code",
     "checksum": "4be9de5d4e94637960d83725422bea6c",
     "grade": true,
     "grade_id": "cell-d10536bca72c74b1",
     "locked": true,
     "points": 3,
     "schema_version": 3,
     "solution": false,
     "task": false
    }
   },
   "outputs": [
    {
     "name": "stdout",
     "output_type": "stream",
     "text": [
      "Rank 0(6.7): A Report Writer For COBOL...\n",
      "Rank 1(6.7): A CRT Report Generating System...\n",
      "Rank 2(6.6): Preliminary Report-International Algebraic Languag...\n",
      "Rank 3(6.6): Supplement to the ALGOL 60 Report...\n",
      "Rank 4(6.5): ALGOL Sub-Committee Report - Extensions...\n"
     ]
    }
   ],
   "source": [
    "#### Function check\n",
    "test_bm25_results = bm25_search(\"report\", index_set=1)[:5]\n",
    "print_results(test_bm25_results)\n",
    "####"
   ]
  },
  {
   "cell_type": "code",
   "execution_count": 51,
   "metadata": {
    "deletable": false,
    "editable": false,
    "nbgrader": {
     "cell_type": "code",
     "checksum": "31b550d6a46ae4f8ede88788799ac2b9",
     "grade": true,
     "grade_id": "cell-60f6ec5052712d79",
     "locked": true,
     "points": 5,
     "schema_version": 3,
     "solution": false,
     "task": false
    }
   },
   "outputs": [],
   "source": [
    "#### Please do not change this. This cell is used for grading."
   ]
  },
  {
   "cell_type": "code",
   "execution_count": 52,
   "metadata": {
    "deletable": false,
    "editable": false,
    "nbgrader": {
     "cell_type": "code",
     "checksum": "3da2ec16bfe781916e71755d65aa2983",
     "grade": true,
     "grade_id": "cell-5d17524043a5abcc",
     "locked": true,
     "points": 5,
     "schema_version": 3,
     "solution": false,
     "task": false
    }
   },
   "outputs": [],
   "source": [
    "#### Please do not change this. This cell is used for grading."
   ]
  },
  {
   "cell_type": "code",
   "execution_count": 53,
   "metadata": {
    "deletable": false,
    "editable": false,
    "nbgrader": {
     "cell_type": "code",
     "checksum": "e7b563d54fa84c20909c0ae107010541",
     "grade": true,
     "grade_id": "cell-ff8e704eda1184e3",
     "locked": true,
     "points": 3,
     "schema_version": 3,
     "solution": false,
     "task": false
    }
   },
   "outputs": [],
   "source": [
    "#### Please do not change this. This cell is used for grading."
   ]
  },
  {
   "cell_type": "code",
   "execution_count": 54,
   "metadata": {
    "deletable": false,
    "editable": false,
    "nbgrader": {
     "cell_type": "code",
     "checksum": "b013f90974b396630a8831d6f1d7e5f7",
     "grade": true,
     "grade_id": "cell-a52310500a2543cb",
     "locked": true,
     "points": 4,
     "schema_version": 3,
     "solution": false,
     "task": false
    }
   },
   "outputs": [],
   "source": [
    "#### Please do not change this. This cell is used for grading."
   ]
  },
  {
   "cell_type": "markdown",
   "metadata": {
    "deletable": false,
    "editable": false,
    "nbgrader": {
     "cell_type": "markdown",
     "checksum": "8fcf67cb7d5e8b26cb9bf1f0aa42c847",
     "grade": false,
     "grade_id": "cell-8b2b412c81d62f2d",
     "locked": true,
     "schema_version": 3,
     "solution": false,
     "task": false
    }
   },
   "source": [
    "\n",
    "---\n",
    "\n",
    "### 3.5. Test Your Functions\n",
    "\n",
    "The widget below allows you to play with the search functions you've written so far. Use this to test your search functions and ensure that they work as expected."
   ]
  },
  {
   "cell_type": "code",
   "execution_count": 55,
   "metadata": {
    "deletable": false,
    "editable": false,
    "nbgrader": {
     "cell_type": "code",
     "checksum": "dfeb204b390acc0794dbdcac92b0cf2c",
     "grade": false,
     "grade_id": "cell-c9c2bb76354e8d97",
     "locked": true,
     "schema_version": 3,
     "solution": false,
     "task": false
    }
   },
   "outputs": [],
   "source": [
    "#### Highlighter function\n",
    "# class for results\n",
    "ResultRow = namedtuple(\"ResultRow\", [\"doc_id\", \"snippet\", \"score\"])\n",
    "# doc_id -> doc\n",
    "docs_by_id = dict((d[0], d[1]) for d in docs)\n",
    "\n",
    "def highlight_text(document, query, tol=17):\n",
    "    import re\n",
    "    tokens = tokenize(query)\n",
    "    regex = \"|\".join(f\"(\\\\b{t}\\\\b)\" for t in tokens)\n",
    "    regex = re.compile(regex, flags=re.IGNORECASE)\n",
    "    output = \"\"\n",
    "    i = 0\n",
    "    for m in regex.finditer(document):\n",
    "        start_idx = max(0, m.start() - tol)\n",
    "        end_idx = min(len(document), m.end() + tol)\n",
    "        output += \"\".join([\"...\",\n",
    "                        document[start_idx:m.start()],\n",
    "                        \"<strong>\",\n",
    "                        document[m.start():m.end()],\n",
    "                        \"</strong>\",\n",
    "                        document[m.end():end_idx],\n",
    "                        \"...\"])\n",
    "    return output.replace(\"\\n\", \" \")\n",
    "\n",
    "\n",
    "def make_results(query, search_fn, index_set):\n",
    "    results = []\n",
    "    for doc_id, score in search_fn(query, index_set):\n",
    "        highlight = highlight_text(docs_by_id[doc_id], query)\n",
    "        if len(highlight.strip()) == 0:\n",
    "            highlight = docs_by_id[doc_id]\n",
    "        results.append(ResultRow(doc_id, highlight, score))\n",
    "    return results\n",
    "####"
   ]
  },
  {
   "cell_type": "code",
   "execution_count": 56,
   "metadata": {},
   "outputs": [
    {
     "data": {
      "application/vnd.jupyter.widget-view+json": {
       "model_id": "24c75d405662444fa64d178f274774f3",
       "version_major": 2,
       "version_minor": 0
      },
      "text/plain": [
       "Text(value='', description='Search Bar')"
      ]
     },
     "metadata": {},
     "output_type": "display_data"
    }
   ],
   "source": [
    "# TODO: Set this to the function you want to test!\n",
    "# this function should take in a query (string)\n",
    "# and return a sorted list of (doc_id, score) \n",
    "# with the most relevant document in the first position\n",
    "search_fn = bm25_search\n",
    "index_set = 1\n",
    "\n",
    "text = widgets.Text(description=\"Search Bar\", width=200)\n",
    "display(text)\n",
    "\n",
    "def handle_submit(sender):\n",
    "    print(f\"Searching for: '{sender.value}'\")\n",
    "    \n",
    "    results = make_results(sender.value, search_fn, index_set)\n",
    "    \n",
    "    # display only the top 5\n",
    "    results = results[:5]\n",
    "    \n",
    "    body = \"\"\n",
    "    for idx, r in enumerate(results):\n",
    "        body += f\"<li>Document #{r.doc_id}({r.score}): {r.snippet}</li>\"\n",
    "    display(HTML(f\"<ul>{body}</ul>\"))\n",
    "    \n",
    "\n",
    "text.on_submit(handle_submit)"
   ]
  },
  {
   "cell_type": "markdown",
   "metadata": {
    "deletable": false,
    "editable": false,
    "nbgrader": {
     "cell_type": "markdown",
     "checksum": "019b1ff878dc6339dd068e2d48d19904",
     "grade": false,
     "grade_id": "cell-8d46fe8e4f3d8cdb",
     "locked": true,
     "schema_version": 3,
     "solution": false,
     "task": false
    }
   },
   "source": [
    "---\n",
    "\n",
    "## Section 4: Evaluation (40 points) <a class=\"anchor\" id=\"evaluation\"></a>\n",
    "\n",
    "[Back to Part 1](#part1)\n",
    "\n",
    "In order to analyze the effectiveness of retrieval algorithms, we first have to learn how to evaluate such a system. In particular, we will work with offline evaluation metrics. These metrics are computed on a dataset with known relevance judgements.\n",
    "\n",
    "Implement the following evaluation metrics. \n",
    "\n",
    "1. Precision (7 points)\n",
    "2. Recall (7 points)\n",
    "3. Mean Average Precision (13 points)\n",
    "4. Expected Reciprocal Rank (13 points)"
   ]
  },
  {
   "cell_type": "markdown",
   "metadata": {
    "deletable": false,
    "editable": false,
    "nbgrader": {
     "cell_type": "markdown",
     "checksum": "e46f54c7f81d88bbc950b0fae14c4ca5",
     "grade": false,
     "grade_id": "cell-3419fd3bc663d7cc",
     "locked": true,
     "schema_version": 3,
     "solution": false,
     "task": false
    }
   },
   "source": [
    "---\n",
    "### 4.1 Read relevance labels\n",
    "\n",
    "Let's take a look at the `qrels.text` file, which contains the ground truth relevance scores. The relevance labels for CACM are binary - either 0 or 1. \n"
   ]
  },
  {
   "cell_type": "code",
   "execution_count": 57,
   "metadata": {
    "deletable": false,
    "editable": false,
    "nbgrader": {
     "cell_type": "code",
     "checksum": "6c11025f5a222796f2882c73c1634799",
     "grade": false,
     "grade_id": "cell-6b738366059dde9e",
     "locked": true,
     "schema_version": 3,
     "solution": false,
     "task": false
    }
   },
   "outputs": [
    {
     "name": "stdout",
     "output_type": "stream",
     "text": [
      "01 1410  0 0\n",
      "01 1572  0 0\n",
      "01 1605  0 0\n",
      "01 2020  0 0\n",
      "01 2358  0 0\n",
      "02 2434  0 0\n",
      "02 2863  0 0\n",
      "02 3078  0 0\n",
      "03 1134  0 0\n",
      "03 1613  0 0\n"
     ]
    }
   ],
   "source": [
    "!head ./datasets/qrels.text"
   ]
  },
  {
   "cell_type": "markdown",
   "metadata": {
    "deletable": false,
    "editable": false,
    "nbgrader": {
     "cell_type": "markdown",
     "checksum": "7ce95245c1597183320d7254afde5c8e",
     "grade": false,
     "grade_id": "cell-10e16bff2753ffbb",
     "locked": true,
     "schema_version": 3,
     "solution": false,
     "task": false
    }
   },
   "source": [
    "---\n",
    "\n",
    "The first column is the query_id and the second column is the document_id. We can safely ignore the 3rd and 4th columns."
   ]
  },
  {
   "cell_type": "code",
   "execution_count": 58,
   "metadata": {
    "deletable": false,
    "nbgrader": {
     "cell_type": "code",
     "checksum": "000c6d59dce08dba0ba1e8d691dbbc2e",
     "grade": false,
     "grade_id": "cell-ee5253a4ef602fce",
     "locked": false,
     "schema_version": 3,
     "solution": true,
     "task": false
    }
   },
   "outputs": [],
   "source": [
    "# YOUR CODE HERE\n",
    "def read_qrels(root_folder = \"./datasets/\"):\n",
    "    \"\"\"\n",
    "        Reads the qrels.text file. \n",
    "        Output: A dictionary: query_id -> [list of relevant documents]\n",
    "    \"\"\"\n",
    "    # YOUR CODE HERE\n",
    "\n",
    "    docs = {}\n",
    "    f1 = os.path.join(root_folder, \"qrels.text\")\n",
    "\n",
    "    with open(f1, \"r\") as f:\n",
    "        lines = f.readlines()\n",
    "\n",
    "    for i in range(0, len(lines)):\n",
    "        l1 = lines[i]\n",
    "        if l1[0]== '0':\n",
    "            query_id = l1[1:2]\n",
    "        else:\n",
    "            query_id = l1[0:2]\n",
    "\n",
    "        if query_id not in docs:\n",
    "            docs[query_id] = [l1[3:7]]\n",
    "        else:\n",
    "            docs[query_id].append(l1[3:7])\n",
    "    return docs"
   ]
  },
  {
   "cell_type": "code",
   "execution_count": 59,
   "metadata": {
    "deletable": false,
    "editable": false,
    "nbgrader": {
     "cell_type": "code",
     "checksum": "d60caeba85c2a97d2211184a5ae91fd1",
     "grade": false,
     "grade_id": "cell-72215605fbe24f65",
     "locked": true,
     "schema_version": 3,
     "solution": false,
     "task": false
    }
   },
   "outputs": [],
   "source": [
    "#### Function check\n",
    "qrels = read_qrels()\n",
    "\n",
    "assert len(qrels) == 52, \"There should be 52 queries with relevance judgements\"\n",
    "assert sum(len(j) for j in qrels.values()) == 796, \"There should be a total of 796 Relevance Judgements\"\n",
    "\n",
    "assert np.min(np.array([len(j) for j in qrels.values()])) == 1\n",
    "assert np.max(np.array([len(j) for j in qrels.values()])) == 51\n",
    "\n",
    "####"
   ]
  },
  {
   "cell_type": "markdown",
   "metadata": {
    "deletable": false,
    "editable": false,
    "nbgrader": {
     "cell_type": "markdown",
     "checksum": "6c9e7428a52e291a2cdf92a379730d4c",
     "grade": false,
     "grade_id": "cell-176a6fb2939d0420",
     "locked": true,
     "schema_version": 3,
     "solution": false,
     "task": false
    }
   },
   "source": [
    "---\n",
    "**Note:** For a given query `query_id`, you can assume that documents *not* in `qrels[query_id]` are not relevant to `query_id`. \n"
   ]
  },
  {
   "cell_type": "markdown",
   "metadata": {
    "deletable": false,
    "editable": false,
    "nbgrader": {
     "cell_type": "markdown",
     "checksum": "b26a818c7b4f7ad490e00b35ea0edd69",
     "grade": false,
     "grade_id": "cell-bd8341b72cdd89bb",
     "locked": true,
     "schema_version": 3,
     "solution": false,
     "task": false
    }
   },
   "source": [
    "---\n",
    "### 4.2 Precision (7 points)\n",
    "Implement the `precision@k` metric:"
   ]
  },
  {
   "cell_type": "code",
   "execution_count": 60,
   "metadata": {
    "deletable": false,
    "nbgrader": {
     "cell_type": "code",
     "checksum": "43dea1979ebdec24ffcfeff71c670433",
     "grade": false,
     "grade_id": "cell-494bd0cce108ed67",
     "locked": false,
     "schema_version": 3,
     "solution": true,
     "task": false
    }
   },
   "outputs": [],
   "source": [
    "# TODO: Implement this! (7 points)\n",
    "def precision_k(results, relevant_docs, k):\n",
    "    \"\"\"\n",
    "        Compute Precision@K\n",
    "        Input: \n",
    "            results: A sorted list of 2-tuples (document_id, score), \n",
    "                    with the most relevant document in the first position\n",
    "            relevant_docs: A set of relevant documents. \n",
    "            k: the cut-off\n",
    "        Output: Precision@K\n",
    "    \"\"\"\n",
    "    if k > len(results):\n",
    "        k = len(results)\n",
    "    # YOUR CODE HERE\n",
    "    count = 0\n",
    "    for i in range(k):\n",
    "        doc_id = results[i][0]\n",
    "        if doc_id in relevant_docs:\n",
    "            count+=1\n",
    "    return count/k"
   ]
  },
  {
   "cell_type": "code",
   "execution_count": 61,
   "metadata": {
    "deletable": false,
    "editable": false,
    "nbgrader": {
     "cell_type": "code",
     "checksum": "9222e35582b1840ffb60fd02fb0b60c3",
     "grade": true,
     "grade_id": "cell-e7ff0d91c319ca64",
     "locked": true,
     "points": 7,
     "schema_version": 3,
     "solution": false,
     "task": false
    }
   },
   "outputs": [
    {
     "name": "stdout",
     "output_type": "stream",
     "text": [
      "query: What articles exist which deal with TSS (Time Sharing System), an\n",
      "operating system for IBM computers?\n",
      "precision@10 = 0.2\n"
     ]
    }
   ],
   "source": [
    "\n",
    "#### Function check\n",
    "qid = queries[0][0]\n",
    "qtext = queries[0][1]\n",
    "print(f'query:{qtext}')\n",
    "results = bm25_search(qtext, 2)\n",
    "precision = precision_k(results, qrels[qid], 10)\n",
    "print(f'precision@10 = {precision}')\n",
    "####"
   ]
  },
  {
   "cell_type": "markdown",
   "metadata": {
    "deletable": false,
    "editable": false,
    "nbgrader": {
     "cell_type": "markdown",
     "checksum": "8fd3b3998197c7097a40348500affb68",
     "grade": false,
     "grade_id": "cell-afd95f865bc7191e",
     "locked": true,
     "schema_version": 3,
     "solution": false,
     "task": false
    }
   },
   "source": [
    "---\n",
    "### 4.3 Recall (7 points)\n",
    "Implement the `recall@k` metric:"
   ]
  },
  {
   "cell_type": "code",
   "execution_count": 62,
   "metadata": {
    "deletable": false,
    "nbgrader": {
     "cell_type": "code",
     "checksum": "b2020e5741ae03b3fe35817ed8f4ccaa",
     "grade": false,
     "grade_id": "cell-c323fc8c3f8a7cf8",
     "locked": false,
     "schema_version": 3,
     "solution": true,
     "task": false
    }
   },
   "outputs": [],
   "source": [
    "# TODO: Implement this! (7 points)\n",
    "def recall_k(results, relevant_docs, k):\n",
    "    \"\"\"\n",
    "        Compute Recall@K\n",
    "        Input: \n",
    "            results: A sorted list of 2-tuples (document_id, score), with the most relevant document in the first position\n",
    "            relevant_docs: A set of relevant documents. \n",
    "            k: the cut-off\n",
    "        Output: Recall@K\n",
    "    \"\"\"\n",
    "    # YOUR CODE HERE\n",
    "    count = 0\n",
    "    for i in range(k):\n",
    "        doc_id = results[i][0]\n",
    "        if doc_id in relevant_docs:\n",
    "            count+=1\n",
    "    return count/len(relevant_docs)"
   ]
  },
  {
   "cell_type": "code",
   "execution_count": 63,
   "metadata": {
    "deletable": false,
    "editable": false,
    "nbgrader": {
     "cell_type": "code",
     "checksum": "56b6e0b8522f8b2dffbfb3206b2efa84",
     "grade": true,
     "grade_id": "cell-b25172161aef165c",
     "locked": true,
     "points": 7,
     "schema_version": 3,
     "solution": false,
     "task": false
    }
   },
   "outputs": [
    {
     "name": "stdout",
     "output_type": "stream",
     "text": [
      "query: SETL, Very High Level Languages\n",
      "recall@10 = 0.3157894736842105\n"
     ]
    }
   ],
   "source": [
    "#### Function check\n",
    "qid = queries[10][0]\n",
    "qtext = queries[10][1]\n",
    "print(f'query:{qtext}')\n",
    "results = bm25_search(qtext, 2)\n",
    "recall = recall_k(results, qrels[qid], 10)\n",
    "print(f'recall@10 = {recall}')\n",
    "####"
   ]
  },
  {
   "cell_type": "markdown",
   "metadata": {
    "deletable": false,
    "editable": false,
    "nbgrader": {
     "cell_type": "markdown",
     "checksum": "b3d3c7bd1cd977cd07ef5df7d3fbf159",
     "grade": false,
     "grade_id": "cell-77fd2e7a39a74739",
     "locked": true,
     "schema_version": 3,
     "solution": false,
     "task": false
    }
   },
   "source": [
    "---\n",
    "### 4.4 Mean Average Precision (13 points)\n",
    "Implement the `map` metric:"
   ]
  },
  {
   "cell_type": "code",
   "execution_count": 64,
   "metadata": {
    "deletable": false,
    "nbgrader": {
     "cell_type": "code",
     "checksum": "aae2c62f2ffd76f5b6c004e9519b9f14",
     "grade": false,
     "grade_id": "cell-e50925fa9093a30d",
     "locked": false,
     "schema_version": 3,
     "solution": true,
     "task": false
    }
   },
   "outputs": [],
   "source": [
    "# TODO: Implement this! (12 points)\n",
    "def average_precision(results, relevant_docs):\n",
    "    \"\"\"\n",
    "        Compute Average Precision (for a single query - the results are \n",
    "        averaged across queries to get MAP in the next few cells)\n",
    "        Hint: You can use the recall_k and precision_k functions here!\n",
    "        Input: \n",
    "            results: A sorted list of 2-tuples (document_id, score), with the most \n",
    "                    relevant document in the first position\n",
    "            relevant_docs: A set of relevant documents. \n",
    "        Output: Average Precision\n",
    "    \"\"\"\n",
    "    # YOUR CODE HERE\n",
    "    precisions = []\n",
    "    for k in range(len(results)):\n",
    "        if results[k][0] in relevant_docs:\n",
    "            precisions.append(precision_k(results, relevant_docs, k+1))\n",
    "    return np.mean(precisions)\n"
   ]
  },
  {
   "cell_type": "code",
   "execution_count": 65,
   "metadata": {
    "deletable": false,
    "editable": false,
    "nbgrader": {
     "cell_type": "code",
     "checksum": "3b00e147c2fa146fa59f179b7c9cab75",
     "grade": true,
     "grade_id": "cell-8a1f7ec98571e58b",
     "locked": true,
     "points": 13,
     "schema_version": 3,
     "solution": false,
     "task": false
    }
   },
   "outputs": [
    {
     "name": "stdout",
     "output_type": "stream",
     "text": [
      "query: computational complexity, intractability, class-complete reductions,\n",
      "algorithms and efficiency\n",
      "MAP = 0.10025730228807445\n"
     ]
    }
   ],
   "source": [
    "#### Function check\n",
    "qid = queries[20][0]\n",
    "qtext = queries[20][1]\n",
    "print(f'query:{qtext}')\n",
    "results = bm25_search(qtext, 2)\n",
    "mean_ap = average_precision(results, qrels[qid])\n",
    "print(f'MAP = {mean_ap}')\n",
    "####"
   ]
  },
  {
   "cell_type": "markdown",
   "metadata": {
    "deletable": false,
    "editable": false,
    "nbgrader": {
     "cell_type": "markdown",
     "checksum": "36f85f45ef52d9467ba9a717d6d99ff2",
     "grade": false,
     "grade_id": "cell-1da18f0fe6f6d7be",
     "locked": true,
     "schema_version": 3,
     "solution": false,
     "task": false
    }
   },
   "source": [
    "---\n",
    "### 4.5 Expected Reciprocal Rank (13 points)\n",
    "Implement the `err` metric:"
   ]
  },
  {
   "cell_type": "code",
   "execution_count": 66,
   "metadata": {
    "deletable": false,
    "nbgrader": {
     "cell_type": "code",
     "checksum": "9ac94db728e23ea1f5dc0d509473c6fb",
     "grade": false,
     "grade_id": "cell-64262889f9b267ea",
     "locked": false,
     "schema_version": 3,
     "solution": true,
     "task": false
    }
   },
   "outputs": [],
   "source": [
    "# TODO: Implement this! (12 points)\n",
    "def err(results, relevant_docs):\n",
    "    \"\"\"\n",
    "        Compute the expected reciprocal rank.\n",
    "        Hint: https://dl.acm.org/doi/pdf/10.1145/1645953.1646033?download=true\n",
    "        Input: \n",
    "            results: A sorted list of 2-tuples (document_id, score), with the most \n",
    "                    relevant document in the first position\n",
    "            relevant_docs: A set of relevant documents. \n",
    "        Output: ERR\n",
    "        \n",
    "    \"\"\"\n",
    "    # YOUR CODE HERE\n",
    "    p = 0\n",
    "    err = 0\n",
    "    for i, (doc_id, score) in enumerate(results):\n",
    "        if doc_id in relevant_docs:\n",
    "            p = 1 / (i + 1)\n",
    "            err += p * (1 / (i + 1))\n",
    "    return err"
   ]
  },
  {
   "cell_type": "code",
   "execution_count": 67,
   "metadata": {
    "deletable": false,
    "editable": false,
    "nbgrader": {
     "cell_type": "code",
     "checksum": "b7d201de0990b69d5f38704668665d87",
     "grade": true,
     "grade_id": "cell-071e3970ff1afae4",
     "locked": true,
     "points": 13,
     "schema_version": 3,
     "solution": false,
     "task": false
    }
   },
   "outputs": [
    {
     "name": "stdout",
     "output_type": "stream",
     "text": [
      "query: I'd like to find articles describing the use of singular value decomposition\n",
      "in digital image processing.  Applications include finding approximations\n",
      "to the original image and restoring images that are subject to noise. An\n",
      "article on the subject is H.C. Andrews and C.L. Patterson \"Outer product\n",
      "expansions and their uses in digital image processing\", American Mathematical\n",
      "Monthly, vol. 82.\n",
      "ERR = 0.3611111111111111\n"
     ]
    }
   ],
   "source": [
    "#### Function check\n",
    "qid = queries[30][0]\n",
    "qtext = queries[30][1]\n",
    "print(f'query:{qtext}')\n",
    "results = bm25_search(qtext, 2)\n",
    "ERR = err(results, qrels[qid])\n",
    "print(f'ERR = {ERR}')\n",
    "####"
   ]
  },
  {
   "cell_type": "markdown",
   "metadata": {
    "deletable": false,
    "editable": false,
    "nbgrader": {
     "cell_type": "markdown",
     "checksum": "5bd94caf77cfa5f34675df758d91002d",
     "grade": false,
     "grade_id": "cell-43709a765f353946",
     "locked": true,
     "schema_version": 3,
     "solution": false,
     "task": false
    }
   },
   "source": [
    "---\n",
    "### 4.6 Evaluate Search Functions\n",
    "\n",
    "Let's define some metrics@k using [partial functions](https://docs.python.org/3/library/functools.html#functools.partial)"
   ]
  },
  {
   "cell_type": "code",
   "execution_count": 68,
   "metadata": {
    "deletable": false,
    "editable": false,
    "nbgrader": {
     "cell_type": "code",
     "checksum": "49ccc158e5fb7340ace55e90eeb9d62a",
     "grade": false,
     "grade_id": "cell-dab560e18e340da8",
     "locked": true,
     "schema_version": 3,
     "solution": false,
     "task": false
    }
   },
   "outputs": [],
   "source": [
    "#### metrics@k functions\n",
    "\n",
    "recall_at_1 = partial(recall_k, k=1)\n",
    "recall_at_5 = partial(recall_k, k=5)\n",
    "recall_at_10 = partial(recall_k, k=10)\n",
    "precision_at_1 = partial(precision_k, k=1)\n",
    "precision_at_5 = partial(precision_k, k=5)\n",
    "precision_at_10 = partial(precision_k, k=10)\n",
    "\n",
    "\n",
    "list_of_metrics = [\n",
    "    (\"ERR\", err),\n",
    "    (\"MAP\", average_precision),\n",
    "    (\"Recall@1\",recall_at_1),\n",
    "    (\"Recall@5\", recall_at_5),\n",
    "    (\"Recall@10\", recall_at_10),\n",
    "    (\"Precision@1\", precision_at_1),\n",
    "    (\"Precision@5\", precision_at_5),\n",
    "    (\"Precision@10\", precision_at_10)]\n",
    "####"
   ]
  },
  {
   "cell_type": "markdown",
   "metadata": {
    "deletable": false,
    "editable": false,
    "nbgrader": {
     "cell_type": "markdown",
     "checksum": "fb541002c03221b453b8936290020ea5",
     "grade": false,
     "grade_id": "cell-580a2bdc66d03b47",
     "locked": true,
     "schema_version": 3,
     "solution": false,
     "task": false
    }
   },
   "source": [
    "---\n",
    "\n",
    "The following function evaluates a `search_fn` using the `metric_fn`. Note that the final number is averaged over all the queries"
   ]
  },
  {
   "cell_type": "code",
   "execution_count": 69,
   "metadata": {},
   "outputs": [],
   "source": [
    "#### Evaluate a search function\n",
    "\n",
    "list_of_search_fns = [\n",
    "    (\"BOW\", bow_search),\n",
    "    (\"TF-IDF\", tfidf_search),\n",
    "    (\"NaiveQL\", naive_ql_search),\n",
    "    (\"QL\", ql_search),\n",
    "    (\"BM25\", bm25_search)\n",
    "]\n",
    "\n",
    "def evaluate_search_fn(search_fn, metric_fns, index_set=None):\n",
    "    # build a dict query_id -> query \n",
    "    queries_by_id = dict((q[0], q[1]) for q in queries)\n",
    "    \n",
    "    metrics = {}\n",
    "    for metric, metric_fn in metric_fns:\n",
    "        metrics[metric] = np.zeros(len(qrels), dtype=np.float32)\n",
    "    \n",
    "    for i, (query_id, relevant_docs) in enumerate(qrels.items()):\n",
    "        query = queries_by_id[query_id]\n",
    "        if index_set:\n",
    "            results = search_fn(query, index_set)\n",
    "        else:\n",
    "            results = search_fn(query)\n",
    "        \n",
    "        for metric, metric_fn in metric_fns:\n",
    "            metrics[metric][i] = metric_fn(results, relevant_docs)\n",
    "\n",
    "    \n",
    "    \n",
    "    final_dict = {}\n",
    "    for metric, metric_vals in metrics.items():\n",
    "        final_dict[metric] = metric_vals.mean()\n",
    "    \n",
    "    return final_dict\n",
    "####"
   ]
  },
  {
   "cell_type": "markdown",
   "metadata": {
    "deletable": false,
    "editable": false,
    "nbgrader": {
     "cell_type": "markdown",
     "checksum": "6ea67534f74a8f81e1f504794f641709",
     "grade": false,
     "grade_id": "cell-b156d83a0649cbb4",
     "locked": true,
     "schema_version": 3,
     "solution": false,
     "task": false
    }
   },
   "source": [
    "## Section 5: Analysis (30 points) <a class=\"anchor\" id=\"analysis\"></a>\n",
    "\n",
    "[Back to Part 1](#part1)\n",
    "\n",
    "In the final section of Part1, we will compare the different term-based IR algorithms and different preprocessing configurations and analyze their advantages and disadvantages.\n",
    "\n",
    "### Section 5.1: Plot (20 points)\n",
    "\n",
    "First, gather the results. The results should consider the index set, the different search functions and different metrics. Plot the results in bar charts, per metric, with clear labels.\n",
    "\n",
    "**Rubric:**\n",
    "- Each Metric is plotted: 7 points\n",
    "- Each Method is plotted: 7 points\n",
    "- Clear titles, x label, y labels and legends (if applicable): 6 points"
   ]
  },
  {
   "cell_type": "code",
   "execution_count": 70,
   "metadata": {
    "deletable": false,
    "nbgrader": {
     "cell_type": "code",
     "checksum": "7e2588a925d13ddf588abe8311dc9cfc",
     "grade": true,
     "grade_id": "cell-46fda42a25863a04",
     "locked": false,
     "points": 20,
     "schema_version": 3,
     "solution": true,
     "task": false
    }
   },
   "outputs": [],
   "source": [
    "# YOUR CODE HERE\n",
    "#raise NotImplementedError()"
   ]
  },
  {
   "cell_type": "markdown",
   "metadata": {
    "deletable": false,
    "editable": false,
    "nbgrader": {
     "cell_type": "markdown",
     "checksum": "e88c444a0acf4e398c65e289169b75f7",
     "grade": false,
     "grade_id": "cell-8aabe3bcf265deb0",
     "locked": true,
     "points": 10,
     "schema_version": 3,
     "solution": false,
     "task": true
    }
   },
   "source": [
    "---\n",
    "### Section 5.2: Summary (10 points)\n",
    "Write a summary of what you observe in the results.\n",
    "Your summary should compare results across the 2 indices and the methods being used. State what you expected to see in the results, followed by either supporting evidence *or* justify why the results did not support your expectations.      "
   ]
  },
  {
   "cell_type": "markdown",
   "metadata": {},
   "source": [
    "Write your answer here!"
   ]
  },
  {
   "cell_type": "markdown",
   "metadata": {
    "deletable": false,
    "editable": false,
    "nbgrader": {
     "cell_type": "markdown",
     "checksum": "b3eb77be74eecca205fc7b47316d1627",
     "grade": false,
     "grade_id": "cell-bb60dd5c092d0f2e",
     "locked": true,
     "schema_version": 3,
     "solution": false,
     "task": false
    }
   },
   "source": [
    "---\n",
    "---\n",
    "# Part 2: Semantic-based Matching (85 points) <a class=\"anchor\" id=\"part2\"></a>\n",
    "\n",
    "[Back to top](#top)\n",
    "\n",
    "We will now experiment with methods that go beyond lexical methods like TF-IDF, which operate at the word level and are high dimensional and sparse, and look at methods which constructs low dimensional dense representations of queries and documents. \n",
    "\n",
    "Since these low-dimensional methods have a higher time complexity, they are typically used in conjunction with methods like BM-25. That is, instead of searching through potentially million documents to find matches using low dimensional vectors, a list of K documents are retrieved using BM25, and then **re-ranked** using the other method. This is the method that is going to be applied in the following exercises. \n",
    "\n",
    "LSI/LDA takes documents that are similar on a semantic level - for instance, if they are describing the same topic - and projects them into nearby vectors, despite having low lexical overlap.\n",
    "\n",
    "In this assignment, you will use `gensim` to create LSI/LDA models and use them in re-ranking. \n",
    "\n",
    "**Note**: The following exercises only uses `doc_repr_2` and `config_2`\n",
    "\n",
    "Table of contents:\n",
    "- [Section 6: LSI](#lsi) (15 points)\n",
    "- [Section 7: LDA](#lda) (10 points)\n",
    "- [Section 8: Word2Vec/Doc2Vec](#2vec) (20 points)\n",
    "- [Section 8: Re-ranking](#reranking) (10 points)\n",
    "- [Section 9: Re-ranking Evaluation](#reranking_eval) (30 points)"
   ]
  },
  {
   "cell_type": "markdown",
   "metadata": {
    "deletable": false,
    "editable": false,
    "nbgrader": {
     "cell_type": "markdown",
     "checksum": "f7c7b2cab82f576ed0acf836ca57171c",
     "grade": false,
     "grade_id": "cell-6b2c81e7a8abd180",
     "locked": true,
     "schema_version": 3,
     "solution": false,
     "task": false
    }
   },
   "source": [
    "---\n",
    "## Section 6: Latent Semantic Indexing (LSI) (15 points) <a class=\"anchor\" id=\"lsi\"></a>\n",
    "\n",
    "[Back to Part 2](#part2)\n",
    "\n",
    "LSI is one of the methods to embed the queries and documents into vectors. It is based on a method similar to Principal Component Analysis (PCA) for obtaining a dense concept matrix out of the sparse term-document matrix.\n",
    "\n",
    "See [wikipedia](https://en.wikipedia.org/wiki/Latent_semantic_analysis), particularly [#Mathematics_of_LSI](https://en.wikipedia.org/wiki/Latent_semantic_analysis#Mathematics_of_LSI)."
   ]
  },
  {
   "cell_type": "code",
   "execution_count": 71,
   "metadata": {
    "deletable": false,
    "editable": false,
    "nbgrader": {
     "cell_type": "code",
     "checksum": "c17ee75319cb517e2bf48ec3d9efc329",
     "grade": false,
     "grade_id": "cell-59913daee47f680d",
     "locked": true,
     "schema_version": 3,
     "solution": false,
     "task": false
    }
   },
   "outputs": [],
   "source": [
    "from gensim.corpora import Dictionary\n",
    "from gensim.models import LdaModel, LsiModel, Word2Vec\n",
    "from gensim.models.doc2vec import Doc2Vec, TaggedDocument\n",
    "from gensim import downloader as g_downloader\n",
    "# gensim uses logging, so set it up \n",
    "import logging\n",
    "logging.basicConfig(format='%(asctime)s : %(levelname)s : %(message)s', level=logging.INFO)"
   ]
  },
  {
   "cell_type": "markdown",
   "metadata": {
    "deletable": false,
    "editable": false,
    "nbgrader": {
     "cell_type": "markdown",
     "checksum": "5fce140c546759b54a9fc060901ae77c",
     "grade": false,
     "grade_id": "cell-3644faff4976598a",
     "locked": true,
     "schema_version": 3,
     "solution": false,
     "task": false
    }
   },
   "source": [
    "---\n",
    "### Section 6.1: Cosine Similarity (5 points)<a class=\"anchor\" id=\"cosing_sim\"></a>\n",
    "Before we begin, let us first define our method of similarity for the LSI model, the cosine similarity:\n",
    "\n",
    "$$\\text{similarity} = \\cos(\\theta) = {\\mathbf{A} \\cdot \\mathbf{B} \\over \\|\\mathbf{A}\\| \\|\\mathbf{B}\\|} = \\frac{ \\sum\\limits_{i=1}^{n}{A_i  B_i} }{ \\sqrt{\\sum\\limits_{i=1}^{n}{A_i^2}}  \\sqrt{\\sum\\limits_{i=1}^{n}{B_i^2}} }$$\n",
    "\n",
    "Since we are using gensim, the types of vectors returned by their classes are of the form defined below (they are not just simple vectors):"
   ]
  },
  {
   "cell_type": "code",
   "execution_count": 72,
   "metadata": {
    "deletable": false,
    "editable": false,
    "nbgrader": {
     "cell_type": "code",
     "checksum": "4e340e1a1d546f430c018fd0760e707a",
     "grade": false,
     "grade_id": "cell-3995a50f951314d5",
     "locked": true,
     "schema_version": 3,
     "solution": false,
     "task": false
    }
   },
   "outputs": [],
   "source": [
    "# 1, 2, 3 are either latent dimensions (LSI), or topics (LDA)\n",
    "# The second value in each tuple is a number (LSI) or a probability (LDA)  \n",
    "example_vec_1 = [(1, 0.2), (2, 0.3), (3, 0.4)]\n",
    "example_vec_2 = [(1, 0.2), (2, 0.7), (3, 0.4)]"
   ]
  },
  {
   "cell_type": "markdown",
   "metadata": {
    "deletable": false,
    "editable": false,
    "nbgrader": {
     "cell_type": "markdown",
     "checksum": "20832fd4f579f49ae204b0efee02edd1",
     "grade": false,
     "grade_id": "cell-5e54d581858dc8f7",
     "locked": true,
     "schema_version": 3,
     "solution": false,
     "task": false
    }
   },
   "source": [
    "---\n",
    "**Implementation (2+3 points):**\n",
    "Now, implement the `dot product` operation on these types of vectors and using this operator, implement the `cosine similarity` (don't forget: two functions to implement!):"
   ]
  },
  {
   "cell_type": "code",
   "execution_count": 73,
   "metadata": {
    "deletable": false,
    "nbgrader": {
     "cell_type": "code",
     "checksum": "06a712ee75fc213a21c5f0067fd8fe28",
     "grade": false,
     "grade_id": "cell-0e8189f5f93de33f",
     "locked": false,
     "schema_version": 3,
     "solution": true,
     "task": false
    }
   },
   "outputs": [],
   "source": [
    "# TODO: Implement this! (2 points)\n",
    "def dot(vec_1,vec_2): \n",
    "    \"\"\"\n",
    "        vec_1 and vec_2 are of the form: [(int, float), (int, float), ...]\n",
    "        Return the dot product of two such vectors, computed only on the floats\n",
    "        You can assume that the lengths of the vectors are the same, and the dimensions are aligned \n",
    "            i.e you won't get: vec_1 = [(1, 0.2)] ; vec_2 = [(2, 0.3)] \n",
    "                                (dimensions are unaligned and lengths are different)\n",
    "    \"\"\"\n",
    "    # YOUR CODE HERE\n",
    "    return sum([x[1]*y[1] for x,y in zip(vec_1,vec_2)])\n",
    "\n",
    "\n",
    "# TODO: Implement this! (3 points)\n",
    "def cosine_sim(vec_1, vec_2):\n",
    "    # YOUR CODE HERE\n",
    "    if vec_1 == [] or vec_2 == []:\n",
    "        cosine = 0\n",
    "    else: \n",
    "        denum = np.sqrt(dot(vec_1, vec_1)) * np.sqrt(dot(vec_2, vec_2)) \n",
    "        if denum==0: \n",
    "            cosine = 0\n",
    "        else:\n",
    "            num = dot(vec_1, vec_2)\n",
    "            cosine = num / denum\n",
    "    return cosine"
   ]
  },
  {
   "cell_type": "code",
   "execution_count": 74,
   "metadata": {
    "deletable": false,
    "editable": false,
    "nbgrader": {
     "cell_type": "code",
     "checksum": "d22a4a7325ba7815a808390388f534a1",
     "grade": true,
     "grade_id": "cell-b25d04ed6b79fd35",
     "locked": true,
     "points": 2,
     "schema_version": 3,
     "solution": false,
     "task": false
    }
   },
   "outputs": [
    {
     "name": "stdout",
     "output_type": "stream",
     "text": [
      "vectors: ([(1, 0.2), (2, 0.3), (3, 0.4)], [(1, 0.2), (2, 0.7), (3, 0.4)])\n",
      "dot product = 0.41000000000000003\n",
      "cosine similarity = 0.9165587597202866\n"
     ]
    }
   ],
   "source": [
    "##### Function check\n",
    "print(f'vectors: {(example_vec_1,example_vec_2)}')\n",
    "print(f'dot product = {dot(example_vec_1,example_vec_2)}')\n",
    "print(f'cosine similarity = {cosine_sim(example_vec_1,example_vec_2)}')\n",
    "##### "
   ]
  },
  {
   "cell_type": "code",
   "execution_count": 75,
   "metadata": {
    "deletable": false,
    "editable": false,
    "nbgrader": {
     "cell_type": "code",
     "checksum": "0744131724ce76b1b3f163b4bae5f700",
     "grade": true,
     "grade_id": "cell-ae3c4466866ace77",
     "locked": true,
     "points": 3,
     "schema_version": 3,
     "solution": false,
     "task": false
    }
   },
   "outputs": [],
   "source": [
    "#### Please do not change this. This cell is used for grading."
   ]
  },
  {
   "cell_type": "markdown",
   "metadata": {
    "deletable": false,
    "editable": false,
    "nbgrader": {
     "cell_type": "markdown",
     "checksum": "9b123f599f9ea372d14676e23f1c6a52",
     "grade": false,
     "grade_id": "cell-4b2534067c44fcdf",
     "locked": true,
     "schema_version": 3,
     "solution": false,
     "task": false
    }
   },
   "source": [
    "---\n",
    "### Section 6.2: LSI Retrieval (10 points)<a class=\"anchor\" id=\"lsi_retrieval\"></a>\n",
    "LSI retrieval is simply ranking the documents based on their cosine similarity to the query vector.\n",
    "First, let's write a parent class for vector-based retrieval models:"
   ]
  },
  {
   "cell_type": "code",
   "execution_count": 76,
   "metadata": {
    "deletable": false,
    "editable": false,
    "nbgrader": {
     "cell_type": "code",
     "checksum": "ecc111d58182570e2252b8ef5d6b02af",
     "grade": false,
     "grade_id": "cell-937936cea18711ee",
     "locked": true,
     "schema_version": 3,
     "solution": false,
     "task": false
    }
   },
   "outputs": [],
   "source": [
    "class VectorSpaceRetrievalModel:\n",
    "    \"\"\"\n",
    "        Parent class for Dense Vector Retrieval models\n",
    "    \"\"\"\n",
    "    def __init__(self, doc_repr):\n",
    "        \"\"\"\n",
    "            document_collection: \n",
    "                [\n",
    "                    (doc_id_1, [token 1, token 2, ...]), \n",
    "                    (doc_id_2, [token 1, token 2, ....]) \n",
    "                    ...\n",
    "                ]\n",
    "\n",
    "        \"\"\"\n",
    "        self.doc_repr = doc_repr\n",
    "        self.documents = [_[1] for _ in self.doc_repr]\n",
    "        \n",
    "        # construct a dictionary\n",
    "        self.dictionary = Dictionary(self.documents)\n",
    "        # Filter out words that occur less than 20 documents, or more than 50% of the documents.\n",
    "        self.dictionary.filter_extremes(no_below=10)\n",
    "        self.corpus = [self.dictionary.doc2bow(doc) for doc in self.documents]\n",
    "    \n",
    "        # Make a index to word dictionary.\n",
    "        temp = self.dictionary[0]  # This is only to \"load\" the dictionary.\n",
    "        self.id2word = self.dictionary.id2token\n",
    "        \n",
    "        # this is set by the train_model function\n",
    "        self.model = None\n",
    "        \n",
    "        \n",
    "    def vectorize_documents(self):\n",
    "        \"\"\"\n",
    "            Returns a doc_id -> vector dictionary\n",
    "        \"\"\"\n",
    "        vectors = {}\n",
    "        for (doc_id, _), cc in zip(self.doc_repr, self.corpus):\n",
    "            vectors[doc_id] = self.model[cc]\n",
    "        return vectors\n",
    "\n",
    "    def vectorize_query(self, query):\n",
    "        # Note the use of config_2 here!\n",
    "        query = process_text(query, **config_2)\n",
    "        query_vector = self.dictionary.doc2bow(query)\n",
    "        return self.model[query_vector]\n",
    "    \n",
    "    def train_model(self):\n",
    "        \"\"\"\n",
    "            Trains a model and sets the 'self.model' variable. \n",
    "            Make sure to use the variables created in the __init__ method.\n",
    "            e.g the variables which may be useful: {corpus, dictionary, id2word}\n",
    "        \"\"\"\n",
    "        raise NotImplementedError()"
   ]
  },
  {
   "cell_type": "markdown",
   "metadata": {
    "deletable": false,
    "editable": false,
    "nbgrader": {
     "cell_type": "markdown",
     "checksum": "ff161eefd9b81b768cd6361bc1a502b0",
     "grade": false,
     "grade_id": "cell-704a18c2f80cd60c",
     "locked": true,
     "schema_version": 3,
     "solution": false,
     "task": false
    }
   },
   "source": [
    "---\n",
    "**Implementation (5 points):**\n",
    "Implement the `train_model` method in the following class (note that this is only one line of code in `gensim`!). Ensure that the parameters defined in the `__init__` method are not changed, and are *used in the `train_method` function*. Normally, the hyperaparameter space will be searched using grid search / other methods - in this assignment we have provided the hyperparameters for you.\n",
    "\n",
    "The last two lines of code train an LSI model on the list of documents which have been stemmed, lower-cased and have stopwords removed. "
   ]
  },
  {
   "cell_type": "code",
   "execution_count": 77,
   "metadata": {
    "deletable": false,
    "nbgrader": {
     "cell_type": "code",
     "checksum": "0e90eedc27c248bc1ae050518a46a46c",
     "grade": false,
     "grade_id": "cell-307682c9089f15d6",
     "locked": false,
     "schema_version": 3,
     "solution": true,
     "task": false
    }
   },
   "outputs": [],
   "source": [
    "# TODO: Implement this! (5 points)\n",
    "class LsiRetrievalModel(VectorSpaceRetrievalModel):\n",
    "    def __init__(self, doc_repr):\n",
    "        super().__init__(doc_repr)\n",
    "        \n",
    "        self.num_topics = 100\n",
    "        self.chunksize = 2000\n",
    "    \n",
    "    def train_model(self):\n",
    "        # YOUR CODE HERE\n",
    "        self.model = LsiModel(corpus = self.corpus, id2word = self.id2word, num_topics = self.num_topics, chunksize = self.chunksize)"
   ]
  },
  {
   "cell_type": "code",
   "execution_count": 78,
   "metadata": {
    "deletable": false,
    "editable": false,
    "nbgrader": {
     "cell_type": "code",
     "checksum": "00399cfe13d60cb4beed1271e36004b0",
     "grade": true,
     "grade_id": "cell-5ce512650c1b2dfb",
     "locked": true,
     "points": 0,
     "schema_version": 3,
     "solution": false,
     "task": false
    }
   },
   "outputs": [
    {
     "name": "stderr",
     "output_type": "stream",
     "text": [
      "2022-02-23 14:32:17,430 : INFO : adding document #0 to Dictionary(0 unique tokens: [])\n",
      "2022-02-23 14:32:17,562 : INFO : built Dictionary(5937 unique tokens: ['-', 'algebra', 'intern', 'languag', 'preliminari']...) from 3204 documents (total 115969 corpus positions)\n",
      "2022-02-23 14:32:17,573 : INFO : discarding 4740 tokens: [('repeat', 8), ('glossari', 7), ('inspect', 8), ('uncol', 2), ('rung', 9), ('secant', 2), ('.', 1603), ('acceler', 6), ('diverg', 3), ('induc', 9)]...\n",
      "2022-02-23 14:32:17,574 : INFO : keeping 1197 tokens which were in no less than 10 and no more than 1602 (=50.0%) documents\n",
      "2022-02-23 14:32:17,578 : INFO : resulting dictionary: Dictionary(1197 unique tokens: ['-', 'algebra', 'intern', 'languag', 'preliminari']...)\n",
      "2022-02-23 14:32:17,649 : INFO : using serial LSI version on this node\n",
      "2022-02-23 14:32:17,650 : INFO : updating model with new documents\n",
      "2022-02-23 14:32:17,651 : INFO : preparing a new chunk of documents\n",
      "2022-02-23 14:32:17,664 : INFO : using 100 extra samples and 2 power iterations\n",
      "2022-02-23 14:32:17,664 : INFO : 1st phase: constructing (1197, 200) action matrix\n",
      "2022-02-23 14:32:17,685 : INFO : orthonormalizing (1197, 200) action matrix\n",
      "2022-02-23 14:32:17,854 : INFO : 2nd phase: running dense svd on (200, 2000) matrix\n",
      "2022-02-23 14:32:17,974 : INFO : computing the final decomposition\n",
      "2022-02-23 14:32:17,976 : INFO : keeping 100 factors (discarding 13.459% of energy spectrum)\n",
      "2022-02-23 14:32:17,981 : INFO : processed documents up to #2000\n",
      "2022-02-23 14:32:17,984 : INFO : topic #0(152.127): 0.741*\",\" + 0.342*\"-\" + 0.211*\"system\" + 0.204*\"program\" + 0.192*\"comput\" + 0.146*\"(\" + 0.127*\"languag\" + 0.108*\")\" + 0.084*\"gener\" + 0.083*\"data\"\n",
      "2022-02-23 14:32:17,985 : INFO : topic #1(60.600): -0.607*\"(\" + -0.434*\")\" + -0.366*\"algorithm\" + -0.300*\"-\" + 0.237*\",\" + 0.213*\"system\" + 0.132*\"comput\" + -0.096*\"[\" + 0.093*\"program\" + -0.084*\"])\"\n",
      "2022-02-23 14:32:17,985 : INFO : topic #2(57.438): -0.744*\"-\" + 0.452*\",\" + -0.263*\"system\" + 0.214*\"(\" + 0.166*\")\" + -0.107*\"time\" + -0.105*\"program\" + 0.094*\"algorithm\" + -0.068*\"comput\" + -0.067*\"share\"\n",
      "2022-02-23 14:32:17,986 : INFO : topic #3(48.370): -0.483*\"system\" + -0.375*\"program\" + -0.367*\"comput\" + 0.363*\"-\" + 0.308*\",\" + -0.212*\"(\" + -0.168*\")\" + -0.147*\"algorithm\" + 0.144*\"languag\" + -0.119*\"time\"\n",
      "2022-02-23 14:32:17,987 : INFO : topic #4(45.710): 0.489*\"comput\" + -0.475*\"languag\" + -0.428*\"program\" + 0.238*\"method\" + 0.141*\"problem\" + -0.121*\"system\" + -0.109*\")\" + 0.107*\"equat\" + 0.100*\"algorithm\" + -0.099*\"(\"\n",
      "2022-02-23 14:32:17,988 : INFO : preparing a new chunk of documents\n",
      "2022-02-23 14:32:17,996 : INFO : using 100 extra samples and 2 power iterations\n",
      "2022-02-23 14:32:17,997 : INFO : 1st phase: constructing (1197, 200) action matrix\n",
      "2022-02-23 14:32:18,009 : INFO : orthonormalizing (1197, 200) action matrix\n",
      "2022-02-23 14:32:18,167 : INFO : 2nd phase: running dense svd on (200, 1204) matrix\n",
      "2022-02-23 14:32:18,262 : INFO : computing the final decomposition\n",
      "2022-02-23 14:32:18,263 : INFO : keeping 100 factors (discarding 14.021% of energy spectrum)\n",
      "2022-02-23 14:32:18,265 : INFO : merging projections: (1197, 100) + (1197, 100)\n",
      "2022-02-23 14:32:18,317 : INFO : keeping 100 factors (discarding 8.167% of energy spectrum)\n",
      "2022-02-23 14:32:18,321 : INFO : processed documents up to #3204\n",
      "2022-02-23 14:32:18,322 : INFO : topic #0(225.136): 0.759*\",\" + 0.337*\"-\" + 0.196*\"system\" + 0.186*\"program\" + 0.166*\"comput\" + 0.139*\"(\" + 0.103*\")\" + 0.103*\"algorithm\" + 0.099*\"languag\" + 0.087*\"time\"\n",
      "2022-02-23 14:32:18,323 : INFO : topic #1(87.805): 0.613*\"-\" + -0.399*\",\" + 0.399*\"(\" + 0.326*\"algorithm\" + 0.293*\")\" + -0.129*\"system\" + -0.107*\"program\" + 0.085*\"method\" + 0.077*\"time\" + 0.062*\"1\"\n",
      "2022-02-23 14:32:18,323 : INFO : topic #2(81.909): 0.550*\"-\" + -0.434*\"(\" + 0.355*\"system\" + -0.321*\")\" + -0.291*\",\" + -0.266*\"algorithm\" + 0.146*\"program\" + 0.123*\"comput\" + 0.078*\"time\" + -0.064*\"[\"\n",
      "2022-02-23 14:32:18,324 : INFO : topic #3(72.433): -0.693*\"program\" + 0.339*\",\" + 0.279*\"-\" + -0.251*\"(\" + -0.221*\"system\" + -0.214*\"languag\" + -0.204*\")\" + -0.160*\"comput\" + -0.099*\"data\" + -0.056*\"execut\"\n",
      "2022-02-23 14:32:18,325 : INFO : topic #4(68.523): -0.673*\"system\" + 0.453*\"program\" + 0.254*\"languag\" + 0.212*\"-\" + -0.179*\"comput\" + -0.165*\"(\" + -0.121*\")\" + -0.115*\"model\" + 0.101*\",\" + -0.098*\"algorithm\"\n"
     ]
    },
    {
     "data": {
      "text/plain": [
       "[(0, 0.01521542736475832),\n",
       " (1, -0.016265099510585867),\n",
       " (2, -0.00017936766179646327),\n",
       " (3, -0.0018240488155040193),\n",
       " (4, -0.009462100317599526),\n",
       " (5, -0.004742111731314542),\n",
       " (6, 0.027099110674096163),\n",
       " (7, 0.016794770154880276),\n",
       " (8, -0.03188945733817087),\n",
       " (9, -0.0005888301713510742),\n",
       " (10, 0.0021987612113577816),\n",
       " (11, -0.01717060976926706),\n",
       " (12, -3.367483843112577e-05),\n",
       " (13, 0.0014407376287788659),\n",
       " (14, 0.00440702170696906),\n",
       " (15, 0.0052789894634404306),\n",
       " (16, 0.005814702454701674),\n",
       " (17, 0.0025368201476520594),\n",
       " (18, -0.016897933595480943),\n",
       " (19, 0.01932650178906358),\n",
       " (20, -0.011873946872374776),\n",
       " (21, -0.013285417028028611),\n",
       " (22, 0.04828242945349906),\n",
       " (23, 0.02619917756642768),\n",
       " (24, -0.012184084649096585),\n",
       " (25, -0.00979895001397621),\n",
       " (26, 0.004063480765970698),\n",
       " (27, 0.0765762625813539),\n",
       " (28, -0.06507942482775086),\n",
       " (29, 0.029186374690681482),\n",
       " (30, 0.04318907588329485),\n",
       " (31, 0.04689549140404469),\n",
       " (32, -0.06952301365429225),\n",
       " (33, 0.05089986817422101),\n",
       " (34, -0.027146634403030903),\n",
       " (35, 0.06004989858637706),\n",
       " (36, 0.04311726237192436),\n",
       " (37, -0.01074975691663163),\n",
       " (38, -0.062193258461915576),\n",
       " (39, 0.02848628880619182),\n",
       " (40, -0.04220695918001534),\n",
       " (41, -0.03172756840413861),\n",
       " (42, 0.026524705017399924),\n",
       " (43, 0.017009387637270085),\n",
       " (44, 0.012336345862004466),\n",
       " (45, 0.06034232966966081),\n",
       " (46, -0.004068562282565094),\n",
       " (47, 0.004182791996073533),\n",
       " (48, 0.012923708424674161),\n",
       " (49, 0.02456744485303983),\n",
       " (50, 0.014353553067803636),\n",
       " (51, 0.048660528109542356),\n",
       " (52, -0.0017944413754385144),\n",
       " (53, 0.0030801882728632634),\n",
       " (54, 0.03906157486865246),\n",
       " (55, -0.013843633341524919),\n",
       " (56, 0.018812935790829717),\n",
       " (57, -0.0167952957051768),\n",
       " (58, -0.013941188839497205),\n",
       " (59, 0.042172480642831627),\n",
       " (60, 0.007608969791480711),\n",
       " (61, 0.055617982056003115),\n",
       " (62, 0.015436869460449991),\n",
       " (63, -0.024974561897552358),\n",
       " (64, 0.05632449983060016),\n",
       " (65, 0.03298455536197885),\n",
       " (66, 0.011780237939155162),\n",
       " (67, 0.06734435554059033),\n",
       " (68, -0.02222055786686565),\n",
       " (69, -0.05279370959969431),\n",
       " (70, -0.03436221621084858),\n",
       " (71, -0.019774545834780152),\n",
       " (72, 0.019636464256749017),\n",
       " (73, 0.07585952007203224),\n",
       " (74, -0.06766863168943608),\n",
       " (75, 0.037110164576342385),\n",
       " (76, 0.011179575163391617),\n",
       " (77, -0.024016307969283286),\n",
       " (78, 0.041800428371726),\n",
       " (79, 0.03277007839314844),\n",
       " (80, -0.0226954059722401),\n",
       " (81, -0.000930416439687165),\n",
       " (82, 0.0332676862160926),\n",
       " (83, 0.013038967996864718),\n",
       " (84, -0.05579172944871886),\n",
       " (85, -0.016270406517275113),\n",
       " (86, -0.020506586071208678),\n",
       " (87, -0.0277617466509466),\n",
       " (88, -0.050303775371426385),\n",
       " (89, 0.07303207157622726),\n",
       " (90, -0.08351532781796528),\n",
       " (91, 0.0244354998936973),\n",
       " (92, 0.02633735508912623),\n",
       " (93, -0.06462165699635654),\n",
       " (94, 0.015662963068943478),\n",
       " (95, 0.018803637558372298),\n",
       " (96, 0.002764569846617798),\n",
       " (97, 0.030544623500115935),\n",
       " (98, -0.0172136089230025),\n",
       " (99, 0.031020527384723974)]"
      ]
     },
     "execution_count": 78,
     "metadata": {},
     "output_type": "execute_result"
    }
   ],
   "source": [
    "##### Function check\n",
    "lsi = LsiRetrievalModel(doc_repr_2)\n",
    "lsi.train_model()\n",
    "\n",
    "# you can now get an LSI vector for a given query in the following way:\n",
    "lsi.vectorize_query(\"report\")\n",
    "##### "
   ]
  },
  {
   "cell_type": "markdown",
   "metadata": {
    "deletable": false,
    "editable": false,
    "nbgrader": {
     "cell_type": "markdown",
     "checksum": "7116bb9f576c5bb04934e1d59c51d729",
     "grade": false,
     "grade_id": "cell-4c5eeb557b4fca2f",
     "locked": true,
     "points": 5,
     "schema_version": 3,
     "solution": false,
     "task": true
    }
   },
   "source": [
    "\\#### Please do not change this. This cell is used for grading."
   ]
  },
  {
   "cell_type": "markdown",
   "metadata": {
    "deletable": false,
    "editable": false,
    "nbgrader": {
     "cell_type": "markdown",
     "checksum": "26e2ff3c413745e633d99f66c041d6b1",
     "grade": false,
     "grade_id": "cell-c4e50296cd17a555",
     "locked": true,
     "schema_version": 3,
     "solution": false,
     "task": false
    }
   },
   "source": [
    "---\n",
    "**Implementation (5 points):**\n",
    " Next, implement a basic ranking class for vector space retrieval (used for all semantic methods): "
   ]
  },
  {
   "cell_type": "code",
   "execution_count": 79,
   "metadata": {
    "deletable": false,
    "nbgrader": {
     "cell_type": "code",
     "checksum": "1a8389d2f0635c3405e2b0b27ed9f327",
     "grade": false,
     "grade_id": "cell-250515d288e80cdc",
     "locked": false,
     "schema_version": 3,
     "solution": true,
     "task": false
    }
   },
   "outputs": [],
   "source": [
    "# TODO: Implement this! (5 points)\n",
    "class DenseRetrievalRanker:\n",
    "    def __init__(self, vsrm, similarity_fn):\n",
    "        \"\"\"\n",
    "            vsrm: instance of `VectorSpaceRetrievalModel`\n",
    "            similarity_fn: function instance that takes in two vectors \n",
    "                            and returns a similarity score e.g cosine_sim defined earlier\n",
    "        \"\"\"\n",
    "        self.vsrm = vsrm \n",
    "        self.vectorized_documents = self.vsrm.vectorize_documents()\n",
    "        self.similarity_fn = similarity_fn\n",
    "    \n",
    "    def _compute_sim(self, query_vector):\n",
    "        \"\"\"\n",
    "            Compute the similarity of `query_vector` to documents in \n",
    "            `self.vectorized_documents` using `self.similarity_fn`\n",
    "            Returns a list of (doc_id, score) tuples\n",
    "        \"\"\"\n",
    "        # YOUR CODE HERE\n",
    "        list_scores = list()\n",
    "        if not query_vector:\n",
    "            return []\n",
    "        for doc_id, vec in self.vectorized_documents.items():\n",
    "            if not vec:\n",
    "                score = 0\n",
    "            else:\n",
    "                score = self.similarity_fn(query_vector, vec)\n",
    "            list_scores.append((doc_id, score))\n",
    "            \n",
    "        return list_scores\n",
    "    \n",
    "    def search(self, query):\n",
    "        scores = self._compute_sim(self.vsrm.vectorize_query(query))\n",
    "        scores.sort(key=lambda _:-_[1])\n",
    "        return scores "
   ]
  },
  {
   "cell_type": "code",
   "execution_count": 80,
   "metadata": {
    "deletable": false,
    "editable": false,
    "nbgrader": {
     "cell_type": "code",
     "checksum": "f237dd1ef6c1783c06797f4b514421f5",
     "grade": true,
     "grade_id": "cell-b73068b3e77a8e31",
     "locked": true,
     "points": 0,
     "schema_version": 3,
     "solution": false,
     "task": false
    }
   },
   "outputs": [
    {
     "data": {
      "text/plain": [
       "[('599', 0.8124950666609826),\n",
       " ('947', 0.5832454861644824),\n",
       " ('53', 0.4902172594538895),\n",
       " ('1339', 0.45144188921094375),\n",
       " ('3160', 0.44182090727386536)]"
      ]
     },
     "execution_count": 80,
     "metadata": {},
     "output_type": "execute_result"
    }
   ],
   "source": [
    "##### Function check\n",
    "drm_lsi = DenseRetrievalRanker(lsi, cosine_sim)\n",
    "drm_lsi.search(\"report\")[:5]\n",
    "##### "
   ]
  },
  {
   "cell_type": "markdown",
   "metadata": {
    "deletable": false,
    "editable": false,
    "nbgrader": {
     "cell_type": "markdown",
     "checksum": "5b3f19fdcaa585d263706d5a26038799",
     "grade": false,
     "grade_id": "cell-034c755a6502b868",
     "locked": true,
     "points": 5,
     "schema_version": 3,
     "solution": false,
     "task": true
    }
   },
   "source": [
    "\\#### Please do not change this. This cell is used for grading."
   ]
  },
  {
   "cell_type": "markdown",
   "metadata": {
    "deletable": false,
    "editable": false,
    "nbgrader": {
     "cell_type": "markdown",
     "checksum": "dcafef6e037033c46304b914f7c78bdf",
     "grade": false,
     "grade_id": "cell-d1df23f497d5ed6b",
     "locked": true,
     "schema_version": 3,
     "solution": false,
     "task": false
    }
   },
   "source": [
    "---\n",
    "Now, you can test your LSI model in the following cell: try finding queries which are lexically different to documents, but semantically similar - does LSI work well for these queries?!"
   ]
  },
  {
   "cell_type": "code",
   "execution_count": 81,
   "metadata": {
    "deletable": false,
    "editable": false,
    "nbgrader": {
     "cell_type": "code",
     "checksum": "11734bc7674377b340ad51297a8e8bb5",
     "grade": false,
     "grade_id": "cell-efd1d08dfc04ec3e",
     "locked": true,
     "schema_version": 3,
     "solution": false,
     "task": false
    }
   },
   "outputs": [
    {
     "data": {
      "application/vnd.jupyter.widget-view+json": {
       "model_id": "dbe82e88d4074073a2b332b68f6d6878",
       "version_major": 2,
       "version_minor": 0
      },
      "text/plain": [
       "Text(value='', description='Search Bar')"
      ]
     },
     "metadata": {},
     "output_type": "display_data"
    }
   ],
   "source": [
    "# test your LSI model\n",
    "search_fn = drm_lsi.search\n",
    "\n",
    "text = widgets.Text(description=\"Search Bar\", width=200)\n",
    "display(text)\n",
    "\n",
    "def make_results_2(query, search_fn):\n",
    "    results = []\n",
    "    for doc_id, score in search_fn(query):\n",
    "        highlight = highlight_text(docs_by_id[doc_id], query)\n",
    "        if len(highlight.strip()) == 0:\n",
    "            highlight = docs_by_id[doc_id]\n",
    "        results.append(ResultRow(doc_id, highlight, score))\n",
    "    return results\n",
    "\n",
    "def handle_submit_2(sender):\n",
    "    print(f\"Searching for: '{sender.value}' (SEARCH FN: {search_fn})\")\n",
    "    \n",
    "    results = make_results_2(sender.value, search_fn)\n",
    "    \n",
    "    # display only the top 5\n",
    "    results = results[:5]\n",
    "    \n",
    "    body = \"\"\n",
    "    for idx, r in enumerate(results):\n",
    "        body += f\"<li>Document #{r.doc_id}({r.score}): {r.snippet}</li>\"\n",
    "    display(HTML(f\"<ul>{body}</ul>\"))\n",
    "    \n",
    "\n",
    "text.on_submit(handle_submit_2)"
   ]
  },
  {
   "cell_type": "markdown",
   "metadata": {
    "deletable": false,
    "editable": false,
    "nbgrader": {
     "cell_type": "markdown",
     "checksum": "d074ce1ca48384cdda78742741c938be",
     "grade": false,
     "grade_id": "cell-3a86cef264d8f6cf",
     "locked": true,
     "schema_version": 3,
     "solution": false,
     "task": false
    }
   },
   "source": [
    "---\n",
    "## Section 7: Latent Dirichlet Allocation (LDA) (10 points) <a class=\"anchor\" id=\"lda\"></a>\n",
    "\n",
    "[Back to Part 2](#part2)\n",
    "\n",
    "The specifics of LDA is out of the scope of this assignment, but we will use the `gensim` implementation to perform search using LDA over our small document collection. The key thing to remember is that LDA, unlike LSI, outputs a topic **distribution**, not a vector. With that in mind, let's first define a similarity measure.\n"
   ]
  },
  {
   "cell_type": "markdown",
   "metadata": {
    "deletable": false,
    "editable": false,
    "nbgrader": {
     "cell_type": "markdown",
     "checksum": "db01092373b18f0c9dfed1bb17db4ad9",
     "grade": false,
     "grade_id": "cell-6b78ad22c2d60ba7",
     "locked": true,
     "schema_version": 3,
     "solution": false,
     "task": false
    }
   },
   "source": [
    "---\n",
    "### Section 7.1: Jenson-Shannon divergence (5 points) <a class=\"anchor\" id=\"js_sim\"></a>\n",
    "\n",
    "The Jenson-Shannon divergence is a symmetric and finite measure on two probability distributions (unlike the KL, which is neither). For identical distributions, the JSD is equal to 0, and since our code uses 0 as irrelevant and higher scores as relevant, we use `(1 - JSD)` as the score or 'similarity' in our setup\n",
    "\n",
    "**Note**: the JSD is bounded to \\[0,1\\] only if we use log base 2. So please ensure that you're using `np.log2` instead of `np.log`"
   ]
  },
  {
   "cell_type": "code",
   "execution_count": 82,
   "metadata": {
    "deletable": false,
    "nbgrader": {
     "cell_type": "code",
     "checksum": "a579e6cd7a24a3516bc9a84528b392d3",
     "grade": false,
     "grade_id": "cell-d2376a85a4841e98",
     "locked": false,
     "schema_version": 3,
     "solution": true,
     "task": false
    }
   },
   "outputs": [],
   "source": [
    "## TODO: Implement this! (5 points)\n",
    "def jenson_shannon_divergence(vec_1, vec_2, assert_prob=False):\n",
    "    \"\"\"\n",
    "        Computes the Jensen-Shannon divergence between two probability distributions. \n",
    "        NOTE: DO NOT RETURN 1 - JSD here, that is handled by the next function which is already implemented! \n",
    "        The inputs are *gensim* vectors - same as the vectors for the cosine_sim function\n",
    "        assert_prob is a flag that checks if the inputs are proper probability distributions \n",
    "            i.e they sum to 1 and are positive - use this to check your inputs if needed. \n",
    "                (This is optional to implement, but recommended - \n",
    "                you can the default to False to save a few ms off the runtime)\n",
    "    \"\"\"\n",
    "    # YOUR CODE HERE\n",
    "    kl1 =0\n",
    "    kl2 = 0\n",
    "\n",
    "    vec_1 = list(list(zip(*vec_1))[1])\n",
    "    vec_2 = list(list(zip(*vec_2))[1])\n",
    "    \n",
    "    mean = list(0.5*(np.array(vec_1) + np.array(vec_2)))\n",
    "\n",
    "    for i in range(len(vec_1)):\n",
    "        kl1+= vec_1[i] * np.log2(vec_1[i] / mean[i])\n",
    "\n",
    "        \n",
    "    for i in range(len(vec_2)):\n",
    "        kl2+= vec_2[i] * np.log2(vec_2[i] / mean[i])\n",
    "    \n",
    "    kl_total = (0.5*kl1) + (0.5*kl2)\n",
    "\n",
    "    return kl_total\n",
    "\n",
    "\n",
    "def jenson_shannon_sim(vec_1, vec_2, assert_prob=False):\n",
    "    return 1 - jenson_shannon_divergence(vec_1, vec_2)\n",
    "\n"
   ]
  },
  {
   "cell_type": "code",
   "execution_count": 83,
   "metadata": {
    "deletable": false,
    "editable": false,
    "nbgrader": {
     "cell_type": "code",
     "checksum": "ab340aa941c9fb5c89b3fd0a9139e246",
     "grade": true,
     "grade_id": "cell-487c6d2933f38053",
     "locked": true,
     "points": 5,
     "schema_version": 3,
     "solution": false,
     "task": false
    }
   },
   "outputs": [
    {
     "data": {
      "text/plain": [
       "0.9251064410358459"
      ]
     },
     "execution_count": 83,
     "metadata": {},
     "output_type": "execute_result"
    }
   ],
   "source": [
    "##### Function check\n",
    "vec_1 = [(1, 0.3), (2, 0.4), (3, 0.3)]\n",
    "vec_2 = [(1, 0.1), (2, 0.7), (3, 0.2)]\n",
    "jenson_shannon_sim(vec_1, vec_2, assert_prob=True)\n",
    "##### "
   ]
  },
  {
   "cell_type": "markdown",
   "metadata": {
    "deletable": false,
    "editable": false,
    "nbgrader": {
     "cell_type": "markdown",
     "checksum": "0a1583a5f23e3390038331cce67f5d8e",
     "grade": false,
     "grade_id": "cell-4535cc67a50b80fa",
     "locked": true,
     "schema_version": 3,
     "solution": false,
     "task": false
    }
   },
   "source": [
    "---\n",
    "### Section 7.2: LDA retrieval (5 points) <a class=\"anchor\" id=\"lda_ret\"></a>\n",
    "\n",
    "Implement the `train_model` method in the following class (note that this is only one line of code in `gensim`!). Ensure that the parameters defined in the `__init__` method are not changed, and are *used in the `train_method` function*. You do not need to set this. Normally, the hyperaparameter space will be searched using grid search / other methods. Note that training the LDA model might take some time\n",
    "\n",
    "The last two lines of code train an LDA model on the list of documents which have been stemmed, lower-cased and have stopwords removed. "
   ]
  },
  {
   "cell_type": "code",
   "execution_count": 84,
   "metadata": {
    "deletable": false,
    "nbgrader": {
     "cell_type": "code",
     "checksum": "27de8e4fa85536bb396b73bfc51b3f50",
     "grade": false,
     "grade_id": "cell-021a48dff4a8bb91",
     "locked": false,
     "schema_version": 3,
     "solution": true,
     "task": false
    }
   },
   "outputs": [],
   "source": [
    "# TODO: Implement this! (5 points)\n",
    "class LdaRetrievalModel(VectorSpaceRetrievalModel):\n",
    "    def __init__(self, doc_repr):\n",
    "        super().__init__(doc_repr)\n",
    "        \n",
    "        # use these parameters in the train_model method\n",
    "        self.num_topics = 100\n",
    "        self.chunksize = 2000\n",
    "        self.passes = 20\n",
    "        self.iterations = 400\n",
    "        self.eval_every = 10\n",
    "        # this is need to get full vectors\n",
    "        self.minimum_probability=0.0\n",
    "        self.alpha='auto'\n",
    "        self.eta='auto'\n",
    "    \n",
    "    \n",
    "    def train_model(self):\n",
    "        # YOUR CODE HERE\n",
    "        self.model = LdaModel(corpus=self.corpus, id2word=self.id2word, num_topics=self.num_topics, chunksize=self.chunksize,\\\n",
    "                        passes=self.passes, alpha=self.alpha,eval_every=self.eval_every, minimum_probability=self.minimum_probability,\\\n",
    "                        eta=self.eta, iterations=self.iterations)\n"
   ]
  },
  {
   "cell_type": "code",
   "execution_count": 85,
   "metadata": {
    "deletable": false,
    "editable": false,
    "nbgrader": {
     "cell_type": "code",
     "checksum": "be70fcb8098d0b6ce64cd2a10e6a05b7",
     "grade": true,
     "grade_id": "cell-86750b715f0345fd",
     "locked": true,
     "points": 0,
     "schema_version": 3,
     "solution": false,
     "task": false
    }
   },
   "outputs": [
    {
     "name": "stderr",
     "output_type": "stream",
     "text": [
      "2022-02-23 14:32:20,453 : INFO : adding document #0 to Dictionary(0 unique tokens: [])\n",
      "2022-02-23 14:32:20,580 : INFO : built Dictionary(5937 unique tokens: ['-', 'algebra', 'intern', 'languag', 'preliminari']...) from 3204 documents (total 115969 corpus positions)\n",
      "2022-02-23 14:32:20,587 : INFO : discarding 4740 tokens: [('repeat', 8), ('glossari', 7), ('inspect', 8), ('uncol', 2), ('rung', 9), ('secant', 2), ('.', 1603), ('acceler', 6), ('diverg', 3), ('induc', 9)]...\n",
      "2022-02-23 14:32:20,588 : INFO : keeping 1197 tokens which were in no less than 10 and no more than 1602 (=50.0%) documents\n",
      "2022-02-23 14:32:20,591 : INFO : resulting dictionary: Dictionary(1197 unique tokens: ['-', 'algebra', 'intern', 'languag', 'preliminari']...)\n",
      "2022-02-23 14:32:20,666 : INFO : using autotuned alpha, starting with [0.01, 0.01, 0.01, 0.01, 0.01, 0.01, 0.01, 0.01, 0.01, 0.01, 0.01, 0.01, 0.01, 0.01, 0.01, 0.01, 0.01, 0.01, 0.01, 0.01, 0.01, 0.01, 0.01, 0.01, 0.01, 0.01, 0.01, 0.01, 0.01, 0.01, 0.01, 0.01, 0.01, 0.01, 0.01, 0.01, 0.01, 0.01, 0.01, 0.01, 0.01, 0.01, 0.01, 0.01, 0.01, 0.01, 0.01, 0.01, 0.01, 0.01, 0.01, 0.01, 0.01, 0.01, 0.01, 0.01, 0.01, 0.01, 0.01, 0.01, 0.01, 0.01, 0.01, 0.01, 0.01, 0.01, 0.01, 0.01, 0.01, 0.01, 0.01, 0.01, 0.01, 0.01, 0.01, 0.01, 0.01, 0.01, 0.01, 0.01, 0.01, 0.01, 0.01, 0.01, 0.01, 0.01, 0.01, 0.01, 0.01, 0.01, 0.01, 0.01, 0.01, 0.01, 0.01, 0.01, 0.01, 0.01, 0.01, 0.01]\n",
      "2022-02-23 14:32:20,666 : INFO : using serial LDA version on this node\n",
      "2022-02-23 14:32:20,678 : INFO : running online (multi-pass) LDA training, 100 topics, 20 passes over the supplied corpus of 3204 documents, updating model once every 2000 documents, evaluating perplexity every 3204 documents, iterating 400x with a convergence threshold of 0.001000\n",
      "2022-02-23 14:32:20,679 : INFO : PROGRESS: pass 0, at document #2000/3204\n",
      "2022-02-23 14:32:23,127 : INFO : optimized alpha [0.009917405, 0.009826968, 0.009808053, 0.009797657, 0.009853622, 0.009854733, 0.009823453, 0.009881115, 0.00980185, 0.009797832, 0.009818558, 0.009875316, 0.0098394165, 0.009803514, 0.009939212, 0.009818288, 0.009803111, 0.009947637, 0.009834261, 0.009776959, 0.0098344, 0.0098654125, 0.009875669, 0.009839128, 0.009808302, 0.009797536, 0.00980286, 0.009854781, 0.00983417, 0.009927942, 0.009934454, 0.0097876545, 0.00980291, 0.009802958, 0.009782347, 0.009803133, 0.009766766, 0.009777222, 0.009829008, 0.009828795, 0.00979752, 0.009813697, 0.0098755425, 0.0098391995, 0.009808232, 0.0098085785, 0.009849143, 0.009787351, 0.009838963, 0.009890661, 0.009824099, 0.009797672, 0.00990213, 0.009964473, 0.009855011, 0.00983946, 0.009850017, 0.009772017, 0.009875221, 0.009818572, 0.009844005, 0.009885096, 0.009813477, 0.009792701, 0.009864939, 0.009896929, 0.009833857, 0.009787652, 0.009829288, 0.009797552, 0.009792438, 0.009817675, 0.009787614, 0.009849204, 0.0097926585, 0.009880746, 0.009792574, 0.009839046, 0.009834538, 0.009787439, 0.009855085, 0.009849487, 0.009803178, 0.009833992, 0.009792861, 0.009787513, 0.009875802, 0.009813284, 0.009864895, 0.009777059, 0.009777104, 0.009808088, 0.009787335, 0.009823549, 0.0098596765, 0.00977709, 0.00976683, 0.009802685, 0.009782088, 0.009839434]\n",
      "2022-02-23 14:32:23,135 : INFO : merging changes from 2000 documents into a model of 3204 documents\n",
      "2022-02-23 14:32:23,148 : INFO : topic #37 (0.010): 0.048*\"-\" + 0.041*\"processor\" + 0.037*\",\" + 0.033*\"compil\" + 0.032*\"parallel\" + 0.029*\"present\" + 0.025*\"process\" + 0.025*\"express\" + 0.025*\"techniqu\" + 0.025*\"arithmet\"\n",
      "2022-02-23 14:32:23,149 : INFO : topic #95 (0.010): 0.060*\",\" + 0.050*\"tabl\" + 0.040*\"cobol\" + 0.040*\"decis\" + 0.040*\"program\" + 0.030*\"condit\" + 0.030*\"fortran\" + 0.030*\"shown\" + 0.030*\"algorithm\" + 0.020*\"method\"\n",
      "2022-02-23 14:32:23,150 : INFO : topic #0 (0.010): 0.086*\",\" + 0.039*\"(\" + 0.038*\"-\" + 0.024*\"system\" + 0.024*\")\" + 0.021*\"program\" + 0.014*\"problem\" + 0.013*\"comput\" + 0.012*\"algorithm\" + 0.010*\"pass\"\n",
      "2022-02-23 14:32:23,151 : INFO : topic #17 (0.010): 0.061*\",\" + 0.053*\"-\" + 0.041*\"(\" + 0.027*\")\" + 0.023*\"algorithm\" + 0.018*\"comput\" + 0.013*\"point\" + 0.013*\"gener\" + 0.012*\"[\" + 0.010*\"\"\"\n",
      "2022-02-23 14:32:23,152 : INFO : topic #14 (0.010): 0.109*\",\" + 0.022*\"-\" + 0.016*\"program\" + 0.015*\"(\" + 0.014*\"languag\" + 0.013*\"comput\" + 0.013*\"data\" + 0.011*\"\"\" + 0.011*\")\" + 0.010*\"process\"\n",
      "2022-02-23 14:32:23,153 : INFO : topic diff=82.118439, rho=1.000000\n",
      "2022-02-23 14:32:24,248 : INFO : -7.314 per-word bound, 159.1 perplexity estimate based on a held-out corpus of 1204 documents with 49783 words\n",
      "2022-02-23 14:32:24,249 : INFO : PROGRESS: pass 0, at document #3204/3204\n",
      "2022-02-23 14:32:25,187 : INFO : optimized alpha [0.010053598, 0.009920284, 0.009885181, 0.009891243, 0.010172954, 0.009990181, 0.009757964, 0.010207272, 0.0099300025, 0.009845817, 0.009825002, 0.009916192, 0.0101991, 0.009976272, 0.010389374, 0.0098946355, 0.010108019, 0.010203766, 0.009876234, 0.009677023, 0.010041799, 0.010257531, 0.01051244, 0.010098363, 0.010021746, 0.010036613, 0.00987286, 0.009907757, 0.009793279, 0.0102268495, 0.009872516, 0.00999931, 0.00976164, 0.010014641, 0.0097531695, 0.0099443, 0.009881984, 0.009836466, 0.010047842, 0.009959252, 0.009697479, 0.009867462, 0.0100768125, 0.01006238, 0.009844162, 0.01024553, 0.009783724, 0.0097692115, 0.009950433, 0.009949686, 0.009961838, 0.009873288, 0.010123691, 0.01004818, 0.010074809, 0.009899107, 0.010135063, 0.009876295, 0.009844659, 0.009812946, 0.009880225, 0.009871821, 0.010216543, 0.00978175, 0.009887581, 0.010190074, 0.009786172, 0.010400188, 0.009937274, 0.009796494, 0.009820473, 0.00985229, 0.009805536, 0.0100210775, 0.00988092, 0.009892267, 0.009663781, 0.009844642, 0.010207782, 0.0098817395, 0.010057241, 0.010008392, 0.009968453, 0.00993997, 0.009815923, 0.009927868, 0.010125241, 0.00987334, 0.01004242, 0.009754491, 0.009957198, 0.00997906, 0.0098561775, 0.009829917, 0.010301867, 0.009894707, 0.010060148, 0.009866959, 0.009874952, 0.010229308]\n",
      "2022-02-23 14:32:25,195 : INFO : merging changes from 1204 documents into a model of 3204 documents\n",
      "2022-02-23 14:32:25,206 : INFO : topic #76 (0.010): 0.108*\"hierarch\" + 0.061*\"flow\" + 0.054*\"program\" + 0.048*\"method\" + 0.033*\"analysi\" + 0.032*\"squar\" + 0.030*\"facil\" + 0.029*\"level\" + 0.027*\"sum\" + 0.023*\"command\"\n",
      "2022-02-23 14:32:25,207 : INFO : topic #19 (0.010): 0.323*\"array\" + 0.077*\"logic\" + 0.070*\"summat\" + 0.050*\"seri\" + 0.038*\"fourier\" + 0.032*\"algorithm\" + 0.031*\"arithmet\" + 0.027*\"address\" + 0.027*\"-\" + 0.027*\"structur\"\n",
      "2022-02-23 14:32:25,207 : INFO : topic #67 (0.010): 0.064*\"]\" + 0.062*\"-\" + 0.060*\"tree\" + 0.047*\"properti\" + 0.038*\",\" + 0.037*\"distribut\" + 0.030*\"time\" + 0.029*\"method\" + 0.021*\"search\" + 0.021*\"end\"\n",
      "2022-02-23 14:32:25,209 : INFO : topic #14 (0.010): 0.133*\",\" + 0.020*\"-\" + 0.015*\"structur\" + 0.015*\"data\" + 0.013*\"program\" + 0.012*\"languag\" + 0.012*\"(\" + 0.012*\";\" + 0.011*\"comput\" + 0.011*\"tree\"\n",
      "2022-02-23 14:32:25,209 : INFO : topic #22 (0.011): 0.078*\",\" + 0.078*\"program\" + 0.032*\"comput\" + 0.019*\"languag\" + 0.019*\"scienc\" + 0.015*\"cours\" + 0.014*\"structur\" + 0.013*\"inform\" + 0.013*\"-\" + 0.013*\"present\"\n",
      "2022-02-23 14:32:25,210 : INFO : topic diff=0.741560, rho=0.707107\n",
      "2022-02-23 14:32:25,218 : INFO : PROGRESS: pass 1, at document #2000/3204\n",
      "2022-02-23 14:32:26,335 : INFO : optimized alpha [0.009942755, 0.009883568, 0.009883903, 0.0099019855, 0.0100804, 0.009979224, 0.009708797, 0.010166124, 0.01015898, 0.009860313, 0.009743364, 0.009917485, 0.010179266, 0.009913229, 0.010334469, 0.009816173, 0.010145071, 0.010157161, 0.009854226, 0.00968023, 0.009965735, 0.010168339, 0.010490477, 0.010071456, 0.009980789, 0.010018766, 0.009931675, 0.009811165, 0.009730513, 0.010142081, 0.009818724, 0.009964013, 0.009805677, 0.009904203, 0.009758097, 0.0098599065, 0.009923937, 0.00986449, 0.0099823335, 0.009919863, 0.009819109, 0.009843147, 0.00997878, 0.009953316, 0.009767078, 0.01013728, 0.009763291, 0.009821575, 0.009977343, 0.009872789, 0.0100489715, 0.009944713, 0.010060684, 0.009978484, 0.010074468, 0.009799893, 0.01006532, 0.009960821, 0.009796803, 0.009728972, 0.009805885, 0.009971753, 0.010155867, 0.009708571, 0.009841362, 0.010168792, 0.009806759, 0.010334503, 0.009861348, 0.00980326, 0.009845038, 0.009816885, 0.009818289, 0.009958717, 0.0098552555, 0.00981221, 0.009644439, 0.009762394, 0.010103443, 0.009827119, 0.0099544395, 0.009922503, 0.009973604, 0.0098637305, 0.009849096, 0.00988292, 0.010042148, 0.009814228, 0.010056146, 0.00975446, 0.010038676, 0.01010693, 0.009943696, 0.009855346, 0.010222384, 0.009879292, 0.01011408, 0.010019645, 0.010956375, 0.010140768]\n",
      "2022-02-23 14:32:26,344 : INFO : merging changes from 2000 documents into a model of 3204 documents\n",
      "2022-02-23 14:32:26,355 : INFO : topic #19 (0.010): 0.198*\"array\" + 0.124*\"seri\" + 0.113*\"logic\" + 0.071*\"fourier\" + 0.061*\"arithmet\" + 0.049*\"summat\" + 0.036*\"c6\" + 0.030*\"engin\" + 0.027*\"-\" + 0.026*\"algorithm\"\n",
      "2022-02-23 14:32:26,356 : INFO : topic #76 (0.010): 0.079*\"squar\" + 0.063*\"program\" + 0.062*\"flow\" + 0.053*\"method\" + 0.046*\"hierarch\" + 0.035*\"analysi\" + 0.027*\"facil\" + 0.026*\"ibm\" + 0.024*\"command\" + 0.024*\"sum\"\n",
      "2022-02-23 14:32:26,357 : INFO : topic #67 (0.010): 0.066*\"-\" + 0.050*\"tree\" + 0.047*\"properti\" + 0.047*\"]\" + 0.037*\",\" + 0.030*\"distribut\" + 0.030*\"time\" + 0.030*\"method\" + 0.026*\"charact\" + 0.022*\"search\"\n",
      "2022-02-23 14:32:26,358 : INFO : topic #22 (0.010): 0.082*\"program\" + 0.077*\",\" + 0.036*\"comput\" + 0.020*\"languag\" + 0.019*\"scienc\" + 0.015*\"cours\" + 0.013*\"present\" + 0.013*\"-\" + 0.012*\"inform\" + 0.012*\"structur\"\n",
      "2022-02-23 14:32:26,358 : INFO : topic #98 (0.011): 0.253*\"(\" + 0.249*\"algorithm\" + 0.156*\")\" + 0.121*\"[\" + 0.086*\"])\" + 0.035*\"function\" + 0.018*\"matrix\" + 0.010*\"minim\" + 0.010*\"integ\" + 0.009*\"s22\"\n",
      "2022-02-23 14:32:26,360 : INFO : topic diff=0.307305, rho=0.526900\n",
      "2022-02-23 14:32:27,692 : INFO : -6.921 per-word bound, 121.2 perplexity estimate based on a held-out corpus of 1204 documents with 49783 words\n",
      "2022-02-23 14:32:27,692 : INFO : PROGRESS: pass 1, at document #3204/3204\n",
      "2022-02-23 14:32:28,743 : INFO : optimized alpha [0.009999995, 0.0100458395, 0.00999877, 0.010054719, 0.010302595, 0.01002206, 0.009715654, 0.010366283, 0.010288345, 0.009957651, 0.009798195, 0.009997105, 0.010377865, 0.010069394, 0.010564182, 0.009948017, 0.0104644345, 0.010262757, 0.009930594, 0.009690957, 0.010125199, 0.01045081, 0.010899324, 0.01029218, 0.010229057, 0.010246624, 0.010089457, 0.009891693, 0.00974242, 0.010261265, 0.009750311, 0.010202161, 0.009854472, 0.010084967, 0.009815753, 0.009979589, 0.010140673, 0.010079207, 0.0101276655, 0.010088342, 0.009884574, 0.009849168, 0.010070888, 0.010115062, 0.009821743, 0.0104228845, 0.0097612925, 0.009914023, 0.010095134, 0.00998799, 0.010282217, 0.01011943, 0.010181227, 0.010014536, 0.010197966, 0.009906907, 0.010261871, 0.010112492, 0.009833516, 0.009792875, 0.009865018, 0.009987683, 0.01051216, 0.009737577, 0.0098464, 0.010352182, 0.00985496, 0.010997242, 0.009959788, 0.009890163, 0.009992703, 0.009856905, 0.009976755, 0.010127209, 0.009947626, 0.009836761, 0.0096564125, 0.009834317, 0.010326187, 0.010072572, 0.010083087, 0.010023783, 0.010171637, 0.010018364, 0.010014905, 0.01003136, 0.010241865, 0.0098777, 0.010233345, 0.009830511, 0.010310308, 0.0103550255, 0.010089825, 0.009922231, 0.010444111, 0.010032766, 0.010522551, 0.010181194, 0.011636079, 0.010444167]\n",
      "2022-02-23 14:32:28,749 : INFO : merging changes from 1204 documents into a model of 3204 documents\n",
      "2022-02-23 14:32:28,760 : INFO : topic #76 (0.010): 0.084*\"hierarch\" + 0.084*\"squar\" + 0.079*\"flow\" + 0.063*\"program\" + 0.058*\"method\" + 0.050*\"analysi\" + 0.046*\"facil\" + 0.042*\"command\" + 0.030*\"level\" + 0.022*\"interfac\"\n",
      "2022-02-23 14:32:28,760 : INFO : topic #30 (0.010): 0.064*\"(\" + 0.063*\")\" + 0.049*\"-\" + 0.045*\",\" + 0.041*\"loop\" + 0.038*\"document\" + 0.026*\"1\" + 0.026*\"algorithm\" + 0.024*\"10\" + 0.022*\"access\"\n",
      "2022-02-23 14:32:28,761 : INFO : topic #22 (0.011): 0.099*\"program\" + 0.082*\",\" + 0.039*\"comput\" + 0.024*\"scienc\" + 0.019*\"cours\" + 0.016*\"languag\" + 0.016*\"inform\" + 0.013*\"game\" + 0.013*\"present\" + 0.013*\"structur\"\n",
      "2022-02-23 14:32:28,762 : INFO : topic #67 (0.011): 0.097*\"]\" + 0.067*\"-\" + 0.067*\"tree\" + 0.059*\"properti\" + 0.040*\",\" + 0.030*\"time\" + 0.029*\"search\" + 0.027*\"distribut\" + 0.023*\"method\" + 0.019*\"charact\"\n",
      "2022-02-23 14:32:28,762 : INFO : topic #98 (0.012): 0.279*\"algorithm\" + 0.265*\"(\" + 0.203*\")\" + 0.113*\"[\" + 0.035*\"])\" + 0.024*\"function\" + 0.015*\"matrix\" + 0.012*\"minim\" + 0.009*\"integ\" + 0.007*\"arithmet\"\n",
      "2022-02-23 14:32:28,763 : INFO : topic diff=0.426854, rho=0.526900\n",
      "2022-02-23 14:32:28,773 : INFO : PROGRESS: pass 2, at document #2000/3204\n",
      "2022-02-23 14:32:29,914 : INFO : optimized alpha [0.0099162115, 0.010041078, 0.010030588, 0.010070648, 0.010238614, 0.010017944, 0.009687931, 0.010338279, 0.010484557, 0.009996118, 0.0097439075, 0.010024418, 0.010346521, 0.01003252, 0.010513469, 0.009890608, 0.010516753, 0.010231584, 0.010002824, 0.009737993, 0.010083678, 0.010388817, 0.010903523, 0.010283535, 0.010207353, 0.0102359345, 0.01023111, 0.009842846, 0.009703031, 0.010182045, 0.0097085275, 0.010185685, 0.009933436, 0.0100202905, 0.009857741, 0.009936037, 0.010202712, 0.010157317, 0.010088478, 0.010112272, 0.010065021, 0.009861877, 0.0099975085, 0.010032972, 0.0097854715, 0.0103391735, 0.009765416, 0.010002685, 0.010149578, 0.009948521, 0.010430035, 0.010234581, 0.010149831, 0.009971403, 0.010209435, 0.009825056, 0.010203684, 0.01020405, 0.009825244, 0.009754872, 0.009812613, 0.010064616, 0.010501401, 0.009688848, 0.009828365, 0.010344396, 0.009912824, 0.010961652, 0.009903011, 0.009949626, 0.010145068, 0.009856995, 0.010029868, 0.010083543, 0.009965129, 0.009803263, 0.009724445, 0.009809424, 0.010227641, 0.010043471, 0.010004774, 0.009972567, 0.010208301, 0.009967337, 0.010092762, 0.010007466, 0.01017949, 0.009868495, 0.010271292, 0.009865206, 0.010444197, 0.010493129, 0.010230895, 0.009987011, 0.010371985, 0.010027787, 0.01064163, 0.010362955, 0.013023716, 0.010377282]\n",
      "2022-02-23 14:32:29,920 : INFO : merging changes from 2000 documents into a model of 3204 documents\n",
      "2022-02-23 14:32:29,930 : INFO : topic #28 (0.010): 0.069*\"-\" + 0.054*\"permut\" + 0.045*\",\" + 0.042*\"gener\" + 0.029*\"digit\" + 0.023*\"system\" + 0.023*\"circular\" + 0.022*\"applic\" + 0.020*\"order\" + 0.018*\"element\"\n",
      "2022-02-23 14:32:29,930 : INFO : topic #63 (0.010): 0.068*\"sourc\" + 0.062*\"area\" + 0.052*\"optimum\" + 0.037*\"write\" + 0.037*\"program\" + 0.030*\"-\" + 0.030*\"procedur\" + 0.028*\",\" + 0.026*\"logic\" + 0.021*\"pl\"\n",
      "2022-02-23 14:32:29,931 : INFO : topic #22 (0.011): 0.102*\"program\" + 0.081*\",\" + 0.044*\"comput\" + 0.024*\"scienc\" + 0.019*\"cours\" + 0.016*\"languag\" + 0.015*\"inform\" + 0.014*\"present\" + 0.012*\"recommend\" + 0.012*\"organ\"\n",
      "2022-02-23 14:32:29,932 : INFO : topic #67 (0.011): 0.075*\"]\" + 0.069*\"-\" + 0.059*\"properti\" + 0.057*\"tree\" + 0.039*\",\" + 0.032*\"charact\" + 0.031*\"time\" + 0.030*\"search\" + 0.025*\"method\" + 0.023*\"sequenc\"\n",
      "2022-02-23 14:32:29,932 : INFO : topic #98 (0.013): 0.274*\"(\" + 0.267*\"algorithm\" + 0.188*\")\" + 0.110*\"[\" + 0.075*\"])\" + 0.022*\"function\" + 0.015*\"matrix\" + 0.006*\"minim\" + 0.006*\"s22\" + 0.006*\"e4\"\n",
      "2022-02-23 14:32:29,933 : INFO : topic diff=0.399176, rho=0.466151\n",
      "2022-02-23 14:32:31,104 : INFO : -6.798 per-word bound, 111.3 perplexity estimate based on a held-out corpus of 1204 documents with 49783 words\n",
      "2022-02-23 14:32:31,105 : INFO : PROGRESS: pass 2, at document #3204/3204\n",
      "2022-02-23 14:32:32,213 : INFO : optimized alpha [0.009980229, 0.010221246, 0.010159875, 0.010206703, 0.010476879, 0.010029217, 0.009741282, 0.01051265, 0.0105941165, 0.010093974, 0.009805171, 0.010142316, 0.010490783, 0.010187894, 0.010680747, 0.010031807, 0.010821111, 0.010301529, 0.010077988, 0.009785739, 0.010221573, 0.010682725, 0.011226062, 0.010472697, 0.01044553, 0.01044772, 0.010383255, 0.009942285, 0.009741984, 0.010264469, 0.009667115, 0.010418576, 0.010019109, 0.010177555, 0.009982172, 0.010097703, 0.01044407, 0.010337507, 0.010229459, 0.010322329, 0.010184392, 0.009860693, 0.010088092, 0.010188959, 0.009846331, 0.010598785, 0.009795624, 0.010155705, 0.01028179, 0.010101876, 0.01068502, 0.010430346, 0.010265368, 0.010020562, 0.010311086, 0.009955512, 0.010411293, 0.010402213, 0.009885745, 0.00987384, 0.009850879, 0.01009455, 0.010860385, 0.009723869, 0.009849838, 0.0105238585, 0.009990333, 0.01155531, 0.009979404, 0.010111672, 0.010271678, 0.009908594, 0.010214097, 0.010273692, 0.010062791, 0.0098809255, 0.009754337, 0.009916422, 0.010389651, 0.0103456, 0.010143268, 0.010090446, 0.010396804, 0.010144398, 0.010287712, 0.010147583, 0.010369598, 0.009937142, 0.010437448, 0.009982968, 0.010790758, 0.010785686, 0.010411961, 0.010081106, 0.010585724, 0.010211483, 0.011080268, 0.010550556, 0.013886365, 0.010690043]\n",
      "2022-02-23 14:32:32,220 : INFO : merging changes from 1204 documents into a model of 3204 documents\n",
      "2022-02-23 14:32:32,231 : INFO : topic #6 (0.010): 0.063*\"special\" + 0.056*\"tridiagon\" + 0.046*\"algorithm\" + 0.046*\"linear\" + 0.043*\"transform\" + 0.041*\"updat\" + 0.034*\"arbitrari\" + 0.033*\"form\" + 0.030*\"solv\" + 0.028*\"fast\"\n",
      "2022-02-23 14:32:32,232 : INFO : topic #30 (0.010): 0.061*\"-\" + 0.060*\")\" + 0.060*\"(\" + 0.055*\"loop\" + 0.050*\"document\" + 0.049*\",\" + 0.030*\"10\" + 0.028*\"1\" + 0.026*\"access\" + 0.023*\"precis\"\n",
      "2022-02-23 14:32:32,233 : INFO : topic #22 (0.011): 0.113*\"program\" + 0.084*\",\" + 0.048*\"comput\" + 0.029*\"scienc\" + 0.022*\"cours\" + 0.017*\"inform\" + 0.015*\"game\" + 0.014*\"present\" + 0.013*\"curriculum\" + 0.012*\"discuss\"\n",
      "2022-02-23 14:32:32,234 : INFO : topic #67 (0.012): 0.116*\"]\" + 0.073*\"tree\" + 0.070*\"properti\" + 0.067*\"-\" + 0.039*\",\" + 0.033*\"search\" + 0.028*\"time\" + 0.025*\"charact\" + 0.023*\"sequenc\" + 0.021*\"distribut\"\n",
      "2022-02-23 14:32:32,234 : INFO : topic #98 (0.014): 0.292*\"algorithm\" + 0.273*\"(\" + 0.210*\")\" + 0.106*\"[\" + 0.041*\"])\" + 0.018*\"function\" + 0.013*\"matrix\" + 0.007*\"minim\" + 0.006*\"s22\" + 0.006*\"integ\"\n",
      "2022-02-23 14:32:32,236 : INFO : topic diff=0.540975, rho=0.466151\n",
      "2022-02-23 14:32:32,243 : INFO : PROGRESS: pass 3, at document #2000/3204\n",
      "2022-02-23 14:32:33,435 : INFO : optimized alpha [0.0099103125, 0.010246618, 0.010188574, 0.010236005, 0.010437298, 0.010043887, 0.0097316, 0.010486454, 0.01079486, 0.010111893, 0.009765552, 0.010195086, 0.010461892, 0.010182473, 0.010645479, 0.009986124, 0.010857672, 0.010280686, 0.010174083, 0.009853756, 0.010183698, 0.010625947, 0.011231906, 0.010481637, 0.010439698, 0.01044111, 0.010539608, 0.00991972, 0.009717816, 0.010204945, 0.009637998, 0.010424242, 0.010106258, 0.010127323, 0.010068834, 0.010077128, 0.010508221, 0.010430316, 0.010209001, 0.010367256, 0.010406401, 0.009890272, 0.010018302, 0.010120983, 0.009818634, 0.010532119, 0.0098168235, 0.010301503, 0.010353115, 0.010076411, 0.010893874, 0.010575298, 0.010263485, 0.0099784285, 0.010345814, 0.00989641, 0.010377539, 0.010518362, 0.009908499, 0.0098649375, 0.009826118, 0.0101716, 0.010886868, 0.009685354, 0.009840952, 0.010522584, 0.010062281, 0.011539401, 0.009946074, 0.010201878, 0.010464076, 0.009930566, 0.010288062, 0.010261676, 0.010098118, 0.009878782, 0.0098394295, 0.009936143, 0.010302508, 0.010340664, 0.010083269, 0.010052839, 0.010451575, 0.010112594, 0.010373503, 0.010134189, 0.010341097, 0.009948505, 0.010520318, 0.010037582, 0.010970157, 0.010964816, 0.01056748, 0.0101572685, 0.010528131, 0.010216939, 0.011230275, 0.010737883, 0.015456482, 0.010646711]\n",
      "2022-02-23 14:32:33,442 : INFO : merging changes from 2000 documents into a model of 3204 documents\n",
      "2022-02-23 14:32:33,452 : INFO : topic #30 (0.010): 0.063*\"-\" + 0.056*\")\" + 0.055*\"(\" + 0.053*\"document\" + 0.052*\",\" + 0.040*\"loop\" + 0.029*\"10\" + 0.024*\"access\" + 0.024*\"1\" + 0.022*\"legendr\"\n",
      "2022-02-23 14:32:33,453 : INFO : topic #63 (0.010): 0.073*\"sourc\" + 0.069*\"area\" + 0.061*\"optimum\" + 0.046*\"write\" + 0.032*\"program\" + 0.028*\",\" + 0.028*\"-\" + 0.028*\"logic\" + 0.027*\"procedur\" + 0.023*\"pl\"\n",
      "2022-02-23 14:32:33,454 : INFO : topic #22 (0.011): 0.114*\"program\" + 0.084*\",\" + 0.053*\"comput\" + 0.029*\"scienc\" + 0.022*\"cours\" + 0.016*\"inform\" + 0.015*\"present\" + 0.013*\"recommend\" + 0.013*\"discuss\" + 0.012*\"organ\"\n",
      "2022-02-23 14:32:33,455 : INFO : topic #67 (0.012): 0.095*\"]\" + 0.071*\"properti\" + 0.068*\"-\" + 0.066*\"tree\" + 0.038*\",\" + 0.037*\"charact\" + 0.035*\"search\" + 0.029*\"time\" + 0.028*\"sequenc\" + 0.025*\"length\"\n",
      "2022-02-23 14:32:33,456 : INFO : topic #98 (0.015): 0.279*\"algorithm\" + 0.278*\"(\" + 0.196*\")\" + 0.107*\"[\" + 0.070*\"])\" + 0.017*\"function\" + 0.014*\"matrix\" + 0.006*\"s22\" + 0.005*\"minim\" + 0.005*\"e4\"\n",
      "2022-02-23 14:32:33,457 : INFO : topic diff=0.552837, rho=0.422502\n",
      "2022-02-23 14:32:34,697 : INFO : -6.715 per-word bound, 105.1 perplexity estimate based on a held-out corpus of 1204 documents with 49783 words\n",
      "2022-02-23 14:32:34,697 : INFO : PROGRESS: pass 3, at document #3204/3204\n",
      "2022-02-23 14:32:35,799 : INFO : optimized alpha [0.010004916, 0.010454938, 0.010310177, 0.010378353, 0.010663001, 0.010072967, 0.009798173, 0.010642058, 0.01088948, 0.010186777, 0.009829099, 0.010324502, 0.010582027, 0.010339282, 0.010779086, 0.0101402, 0.0111379735, 0.010366851, 0.010256434, 0.0099318605, 0.010305892, 0.010911485, 0.011517059, 0.010665818, 0.010691547, 0.010638825, 0.0106705995, 0.010056492, 0.009757755, 0.010277169, 0.009613403, 0.010634236, 0.010194972, 0.010278255, 0.010214524, 0.010285806, 0.010752205, 0.010595029, 0.010330549, 0.01059684, 0.01055832, 0.009900748, 0.010108799, 0.010285145, 0.0098990975, 0.010781378, 0.009869221, 0.010507579, 0.010476951, 0.010245314, 0.01116076, 0.010799442, 0.01036527, 0.01003508, 0.010438389, 0.010019372, 0.010571318, 0.010737205, 0.009991961, 0.010019429, 0.009869166, 0.010231175, 0.011238883, 0.009742401, 0.009872107, 0.010701609, 0.010125357, 0.012104828, 0.010026774, 0.010396621, 0.010575124, 0.0099850325, 0.010478699, 0.010483494, 0.010201431, 0.010006167, 0.009880518, 0.010072638, 0.010439448, 0.010645041, 0.010227972, 0.010192802, 0.010642227, 0.01028165, 0.010585268, 0.010269359, 0.0105150305, 0.010032508, 0.010694772, 0.010187592, 0.011351036, 0.011317615, 0.010751628, 0.010257391, 0.010727392, 0.010410285, 0.011697143, 0.010909402, 0.016394226, 0.010923155]\n",
      "2022-02-23 14:32:35,807 : INFO : merging changes from 1204 documents into a model of 3204 documents\n",
      "2022-02-23 14:32:35,819 : INFO : topic #30 (0.010): 0.066*\"-\" + 0.065*\"loop\" + 0.057*\"document\" + 0.057*\")\" + 0.057*\"(\" + 0.052*\",\" + 0.033*\"10\" + 0.029*\"access\" + 0.028*\"invari\" + 0.026*\"1\"\n",
      "2022-02-23 14:32:35,820 : INFO : topic #63 (0.010): 0.081*\"area\" + 0.080*\"optimum\" + 0.071*\"sourc\" + 0.049*\"write\" + 0.029*\"read\" + 0.029*\"pl\" + 0.028*\",\" + 0.027*\"program\" + 0.027*\"-\" + 0.024*\"time\"\n",
      "2022-02-23 14:32:35,821 : INFO : topic #96 (0.012): 0.370*\"\"\" + 0.126*\"set\" + 0.078*\"work\" + 0.042*\"behavior\" + 0.041*\"page\" + 0.036*\",\" + 0.035*\"model\" + 0.029*\",\"\" + 0.027*\"balanc\" + 0.023*\"memori\"\n",
      "2022-02-23 14:32:35,822 : INFO : topic #67 (0.012): 0.133*\"]\" + 0.080*\"properti\" + 0.079*\"tree\" + 0.064*\"-\" + 0.038*\",\" + 0.036*\"search\" + 0.029*\"charact\" + 0.027*\"sequenc\" + 0.026*\"time\" + 0.024*\"length\"\n",
      "2022-02-23 14:32:35,823 : INFO : topic #98 (0.016): 0.304*\"algorithm\" + 0.272*\"(\" + 0.212*\")\" + 0.104*\"[\" + 0.042*\"])\" + 0.015*\"function\" + 0.013*\"matrix\" + 0.006*\"minim\" + 0.005*\"s22\" + 0.004*\"integ\"\n",
      "2022-02-23 14:32:35,825 : INFO : topic diff=0.674594, rho=0.422502\n",
      "2022-02-23 14:32:35,834 : INFO : PROGRESS: pass 4, at document #2000/3204\n",
      "2022-02-23 14:32:37,054 : INFO : optimized alpha [0.009955192, 0.010495947, 0.0103324475, 0.010421445, 0.0106271515, 0.010093215, 0.009793694, 0.010630066, 0.011119802, 0.010207734, 0.009778149, 0.010397821, 0.0105638495, 0.010340119, 0.010750804, 0.010107719, 0.011130937, 0.010352243, 0.010353905, 0.010002845, 0.010283246, 0.010867426, 0.01152732, 0.0106857885, 0.010701344, 0.010629652, 0.010825013, 0.010047277, 0.0097461445, 0.010221336, 0.009592287, 0.010646826, 0.010287967, 0.010249813, 0.01029903, 0.01027782, 0.010814888, 0.010676832, 0.010317617, 0.010652087, 0.0107981535, 0.009954367, 0.010051383, 0.010234205, 0.009881873, 0.010724607, 0.009902866, 0.010687375, 0.010553348, 0.010235198, 0.011399256, 0.010949379, 0.010377996, 0.0099993795, 0.01049544, 0.009971065, 0.010551842, 0.010853536, 0.010032879, 0.01002077, 0.009855134, 0.010325058, 0.01127433, 0.009719308, 0.0098745655, 0.010729164, 0.0101961065, 0.012102434, 0.010010454, 0.010498369, 0.010786198, 0.010015714, 0.010559238, 0.010483532, 0.010256118, 0.010041594, 0.009969529, 0.010112351, 0.010361705, 0.0106653, 0.010188669, 0.010163934, 0.010694477, 0.010249741, 0.010666462, 0.010262818, 0.010492298, 0.010055153, 0.010782037, 0.010259765, 0.011541275, 0.011514514, 0.010947224, 0.010321974, 0.010679697, 0.010410298, 0.011852632, 0.011084849, 0.01812148, 0.0108937295]\n",
      "2022-02-23 14:32:37,061 : INFO : merging changes from 2000 documents into a model of 3204 documents\n",
      "2022-02-23 14:32:37,072 : INFO : topic #30 (0.010): 0.066*\"-\" + 0.062*\"document\" + 0.055*\",\" + 0.053*\")\" + 0.053*\"(\" + 0.050*\"loop\" + 0.032*\"10\" + 0.027*\"access\" + 0.024*\"legendr\" + 0.024*\"index\"\n",
      "2022-02-23 14:32:37,072 : INFO : topic #63 (0.010): 0.075*\"area\" + 0.071*\"sourc\" + 0.068*\"optimum\" + 0.051*\"write\" + 0.029*\"read\" + 0.028*\",\" + 0.027*\"program\" + 0.027*\"logic\" + 0.026*\"-\" + 0.025*\"pl\"\n",
      "2022-02-23 14:32:37,073 : INFO : topic #96 (0.012): 0.395*\"\"\" + 0.122*\"set\" + 0.072*\"work\" + 0.039*\"behavior\" + 0.035*\",\" + 0.034*\"page\" + 0.033*\"model\" + 0.028*\",\"\" + 0.023*\"balanc\" + 0.021*\"demand\"\n",
      "2022-02-23 14:32:37,075 : INFO : topic #67 (0.012): 0.113*\"]\" + 0.081*\"properti\" + 0.073*\"tree\" + 0.064*\"-\" + 0.041*\"charact\" + 0.038*\"search\" + 0.038*\",\" + 0.032*\"sequenc\" + 0.028*\"length\" + 0.027*\"time\"\n",
      "2022-02-23 14:32:37,076 : INFO : topic #98 (0.018): 0.291*\"algorithm\" + 0.276*\"(\" + 0.198*\")\" + 0.106*\"[\" + 0.068*\"])\" + 0.015*\"function\" + 0.013*\"matrix\" + 0.005*\"s22\" + 0.005*\"e4\" + 0.004*\"minim\"\n",
      "2022-02-23 14:32:37,077 : INFO : topic diff=0.653585, rho=0.389191\n",
      "2022-02-23 14:32:38,285 : INFO : -6.657 per-word bound, 100.9 perplexity estimate based on a held-out corpus of 1204 documents with 49783 words\n",
      "2022-02-23 14:32:38,286 : INFO : PROGRESS: pass 4, at document #3204/3204\n",
      "2022-02-23 14:32:39,311 : INFO : optimized alpha [0.01005663, 0.010714258, 0.010438523, 0.0105671175, 0.010840954, 0.010133972, 0.00986543, 0.010771086, 0.011198649, 0.0102972975, 0.009850653, 0.010511319, 0.010658082, 0.0104961805, 0.010889178, 0.010270833, 0.011400178, 0.010442664, 0.010433177, 0.010088113, 0.010403358, 0.011134348, 0.011771142, 0.010860767, 0.01093681, 0.01082419, 0.010953164, 0.010200764, 0.009796717, 0.0102992235, 0.009587218, 0.010863246, 0.010373306, 0.010400013, 0.010454533, 0.01049592, 0.011057094, 0.010826425, 0.010427189, 0.010887713, 0.010974132, 0.009980836, 0.010152171, 0.010396801, 0.009963203, 0.010960618, 0.009961303, 0.010929478, 0.010647465, 0.010405783, 0.011672807, 0.011187524, 0.010475936, 0.0100559, 0.0106085725, 0.010095198, 0.010728871, 0.011054535, 0.010123533, 0.010181053, 0.009908853, 0.010406841, 0.0115984855, 0.0097791795, 0.009907435, 0.010899408, 0.010254424, 0.012624482, 0.010108657, 0.010707341, 0.01090565, 0.010079661, 0.010774899, 0.010714728, 0.010371764, 0.0101996325, 0.01001711, 0.010269067, 0.010495656, 0.010975401, 0.010343333, 0.010300736, 0.01087186, 0.010437026, 0.010878014, 0.010398474, 0.010671326, 0.01016266, 0.010986424, 0.0104523515, 0.01193677, 0.011890719, 0.011125634, 0.010421467, 0.010861558, 0.010580194, 0.012336808, 0.0112475585, 0.01910351, 0.011169853]\n",
      "2022-02-23 14:32:39,319 : INFO : merging changes from 1204 documents into a model of 3204 documents\n",
      "2022-02-23 14:32:39,330 : INFO : topic #30 (0.010): 0.076*\"loop\" + 0.068*\"-\" + 0.064*\"document\" + 0.055*\"(\" + 0.054*\")\" + 0.054*\",\" + 0.034*\"10\" + 0.032*\"invari\" + 0.031*\"access\" + 0.024*\"1\"\n",
      "2022-02-23 14:32:39,331 : INFO : topic #28 (0.010): 0.104*\"permut\" + 0.075*\"-\" + 0.056*\"gener\" + 0.050*\",\" + 0.031*\"order\" + 0.030*\"circular\" + 0.029*\"growth\" + 0.027*\"applic\" + 0.026*\"frequent\" + 0.025*\"digit\"\n",
      "2022-02-23 14:32:39,331 : INFO : topic #96 (0.012): 0.410*\"\"\" + 0.126*\"set\" + 0.077*\"work\" + 0.041*\"behavior\" + 0.036*\"page\" + 0.035*\",\" + 0.029*\",\"\" + 0.029*\"model\" + 0.026*\"balanc\" + 0.020*\"demand\"\n",
      "2022-02-23 14:32:39,332 : INFO : topic #67 (0.013): 0.150*\"]\" + 0.089*\"properti\" + 0.085*\"tree\" + 0.059*\"-\" + 0.038*\"search\" + 0.037*\",\" + 0.034*\"charact\" + 0.032*\"sequenc\" + 0.028*\"length\" + 0.023*\"time\"\n",
      "2022-02-23 14:32:39,334 : INFO : topic #98 (0.019): 0.314*\"algorithm\" + 0.269*\"(\" + 0.209*\")\" + 0.104*\"[\" + 0.044*\"])\" + 0.014*\"function\" + 0.012*\"matrix\" + 0.005*\"s22\" + 0.005*\"minim\" + 0.004*\"e4\"\n",
      "2022-02-23 14:32:39,335 : INFO : topic diff=0.717822, rho=0.389191\n",
      "2022-02-23 14:32:39,342 : INFO : PROGRESS: pass 5, at document #2000/3204\n",
      "2022-02-23 14:32:40,576 : INFO : optimized alpha [0.010021749, 0.010759802, 0.010461281, 0.010626575, 0.010810331, 0.010160832, 0.009870678, 0.010761752, 0.011429396, 0.010322695, 0.0098094195, 0.010587867, 0.010641509, 0.010513952, 0.010866747, 0.010245711, 0.011389734, 0.010440922, 0.010534397, 0.010160345, 0.010393686, 0.011099536, 0.011790292, 0.010892861, 0.010962721, 0.010816779, 0.011105068, 0.010204784, 0.009800851, 0.010257514, 0.009570775, 0.010881977, 0.010466668, 0.0103770215, 0.010539676, 0.010489312, 0.011125004, 0.010916862, 0.01041535, 0.010948675, 0.011219177, 0.010031764, 0.01010849, 0.0103659555, 0.009954833, 0.010910184, 0.010004022, 0.011160631, 0.010732861, 0.0103958035, 0.011932921, 0.011337479, 0.010495618, 0.010040167, 0.010667868, 0.010050353, 0.010729792, 0.011169906, 0.010176884, 0.010202382, 0.009903796, 0.010508416, 0.011638511, 0.00976555, 0.009916031, 0.010928771, 0.010319163, 0.012628571, 0.010099271, 0.010810611, 0.011120134, 0.010130788, 0.010858146, 0.010735163, 0.010432536, 0.010245812, 0.010119247, 0.010315353, 0.010433071, 0.010996553, 0.010310154, 0.01027745, 0.010918504, 0.010406377, 0.010971481, 0.0104016885, 0.010657411, 0.010189611, 0.011088093, 0.0105445, 0.012154387, 0.012091291, 0.011345872, 0.010491667, 0.010816426, 0.010579664, 0.012496746, 0.011421868, 0.020987257, 0.011136348]\n",
      "2022-02-23 14:32:40,582 : INFO : merging changes from 2000 documents into a model of 3204 documents\n",
      "2022-02-23 14:32:40,594 : INFO : topic #30 (0.010): 0.068*\"document\" + 0.067*\"-\" + 0.059*\"loop\" + 0.056*\",\" + 0.051*\"(\" + 0.051*\")\" + 0.034*\"10\" + 0.029*\"access\" + 0.025*\"index\" + 0.025*\"legendr\"\n",
      "2022-02-23 14:32:40,594 : INFO : topic #28 (0.010): 0.107*\"permut\" + 0.074*\"-\" + 0.061*\"gener\" + 0.046*\",\" + 0.036*\"order\" + 0.029*\"circular\" + 0.028*\"digit\" + 0.025*\"applic\" + 0.023*\"growth\" + 0.022*\"signific\"\n",
      "2022-02-23 14:32:40,595 : INFO : topic #96 (0.012): 0.430*\"\"\" + 0.120*\"set\" + 0.071*\"work\" + 0.038*\"behavior\" + 0.034*\",\" + 0.031*\"page\" + 0.029*\",\"\" + 0.028*\"model\" + 0.023*\"balanc\" + 0.019*\"demand\"\n",
      "2022-02-23 14:32:40,596 : INFO : topic #67 (0.013): 0.127*\"]\" + 0.091*\"properti\" + 0.078*\"tree\" + 0.060*\"-\" + 0.047*\"charact\" + 0.039*\"search\" + 0.037*\"sequenc\" + 0.036*\",\" + 0.031*\"length\" + 0.025*\"time\"\n",
      "2022-02-23 14:32:40,596 : INFO : topic #98 (0.021): 0.301*\"algorithm\" + 0.272*\"(\" + 0.197*\")\" + 0.107*\"[\" + 0.067*\"])\" + 0.014*\"function\" + 0.013*\"matrix\" + 0.005*\"s22\" + 0.005*\"e4\" + 0.004*\"minim\"\n",
      "2022-02-23 14:32:40,597 : INFO : topic diff=0.654777, rho=0.362690\n",
      "2022-02-23 14:32:41,821 : INFO : -6.613 per-word bound, 97.9 perplexity estimate based on a held-out corpus of 1204 documents with 49783 words\n",
      "2022-02-23 14:32:41,822 : INFO : PROGRESS: pass 5, at document #3204/3204\n",
      "2022-02-23 14:32:42,875 : INFO : optimized alpha [0.01013569, 0.010985753, 0.01056726, 0.010785825, 0.011011725, 0.010202486, 0.009953267, 0.010900839, 0.011505191, 0.010425576, 0.009889816, 0.010700778, 0.010733348, 0.010670623, 0.010993396, 0.010420924, 0.011640578, 0.0105354795, 0.010605118, 0.010243399, 0.010519197, 0.011348426, 0.0120167015, 0.011077361, 0.011205266, 0.0110033285, 0.011231542, 0.010364813, 0.009857578, 0.010340614, 0.009576112, 0.011086084, 0.01055613, 0.010524613, 0.01071166, 0.01070797, 0.011354221, 0.011057489, 0.010515234, 0.01119177, 0.011411993, 0.010053821, 0.010225087, 0.010528387, 0.010043536, 0.01114281, 0.010080143, 0.011442355, 0.01083391, 0.010559521, 0.012200885, 0.011573542, 0.010597258, 0.010087754, 0.010780584, 0.010191557, 0.01090297, 0.011369613, 0.010283619, 0.010372097, 0.009954716, 0.010591033, 0.011960783, 0.009816273, 0.009956465, 0.011095799, 0.010367451, 0.013129004, 0.010197746, 0.011034019, 0.011238292, 0.010190955, 0.0110753365, 0.01097026, 0.010544221, 0.010413613, 0.010166658, 0.010481791, 0.010555954, 0.011291305, 0.010468351, 0.010412232, 0.011085415, 0.010589074, 0.011184695, 0.010526184, 0.010835782, 0.010303151, 0.011298071, 0.01074881, 0.012586101, 0.012474945, 0.011524145, 0.0105881505, 0.011000692, 0.010736314, 0.012960572, 0.011578119, 0.022010198, 0.011410937]\n",
      "2022-02-23 14:32:42,885 : INFO : merging changes from 1204 documents into a model of 3204 documents\n",
      "2022-02-23 14:32:42,901 : INFO : topic #30 (0.010): 0.087*\"loop\" + 0.070*\"-\" + 0.070*\"document\" + 0.055*\",\" + 0.052*\"(\" + 0.051*\")\" + 0.035*\"10\" + 0.034*\"invari\" + 0.031*\"access\" + 0.022*\"1\"\n",
      "2022-02-23 14:32:42,904 : INFO : topic #63 (0.010): 0.093*\"optimum\" + 0.092*\"area\" + 0.070*\"sourc\" + 0.056*\"read\" + 0.053*\"write\" + 0.030*\"time\" + 0.027*\"number\" + 0.026*\"pl\" + 0.026*\",\" + 0.024*\"-\"\n",
      "2022-02-23 14:32:42,905 : INFO : topic #96 (0.013): 0.438*\"\"\" + 0.124*\"set\" + 0.077*\"work\" + 0.040*\"behavior\" + 0.034*\",\" + 0.034*\"page\" + 0.030*\",\"\" + 0.026*\"balanc\" + 0.025*\"model\" + 0.018*\"demand\"\n",
      "2022-02-23 14:32:42,906 : INFO : topic #67 (0.013): 0.162*\"]\" + 0.099*\"properti\" + 0.086*\"tree\" + 0.055*\"-\" + 0.039*\"charact\" + 0.039*\"search\" + 0.036*\"sequenc\" + 0.035*\",\" + 0.031*\"length\" + 0.023*\"applic\"\n",
      "2022-02-23 14:32:42,907 : INFO : topic #98 (0.022): 0.325*\"algorithm\" + 0.263*\"(\" + 0.205*\")\" + 0.105*\"[\" + 0.045*\"])\" + 0.013*\"function\" + 0.012*\"matrix\" + 0.005*\"s22\" + 0.005*\"minim\" + 0.004*\"e4\"\n",
      "2022-02-23 14:32:42,910 : INFO : topic diff=0.676901, rho=0.362690\n",
      "2022-02-23 14:32:42,925 : INFO : PROGRESS: pass 6, at document #2000/3204\n",
      "2022-02-23 14:32:44,116 : INFO : optimized alpha [0.010110088, 0.0110375425, 0.010590604, 0.0108511485, 0.010991344, 0.01022658, 0.009967059, 0.010899377, 0.011735956, 0.010451414, 0.00985674, 0.01077709, 0.01072185, 0.010705694, 0.010974235, 0.010405627, 0.0116331605, 0.010543174, 0.010717738, 0.010308537, 0.01052264, 0.011308285, 0.012044268, 0.011107173, 0.011234561, 0.011001338, 0.011387738, 0.010377005, 0.00986202, 0.01030555, 0.009556863, 0.011101086, 0.010648459, 0.0105099315, 0.010808807, 0.010713587, 0.011421866, 0.011143216, 0.01051156, 0.0112798, 0.011669647, 0.010112936, 0.010192979, 0.010497134, 0.0100411475, 0.011095948, 0.010144948, 0.011713196, 0.010922329, 0.010547889, 0.012464714, 0.011714595, 0.010617701, 0.010075448, 0.010859135, 0.010154359, 0.01091277, 0.0114811845, 0.010343044, 0.010397267, 0.00996094, 0.010691156, 0.012005262, 0.009804216, 0.009972007, 0.011140402, 0.0104379235, 0.013123795, 0.010194384, 0.0111356955, 0.011470711, 0.010248449, 0.01115958, 0.010992432, 0.01060537, 0.01047858, 0.01026556, 0.010543296, 0.010499217, 0.011319315, 0.0104457885, 0.010388427, 0.011132944, 0.010557615, 0.011278814, 0.0105310185, 0.010829561, 0.010339227, 0.011398237, 0.010848958, 0.012827883, 0.012671725, 0.011755601, 0.010652932, 0.01095946, 0.010735519, 0.013114796, 0.01174461, 0.023993215, 0.0113834]\n",
      "2022-02-23 14:32:44,122 : INFO : merging changes from 2000 documents into a model of 3204 documents\n",
      "2022-02-23 14:32:44,134 : INFO : topic #30 (0.010): 0.073*\"document\" + 0.069*\"loop\" + 0.066*\"-\" + 0.057*\",\" + 0.050*\"(\" + 0.049*\")\" + 0.035*\"10\" + 0.030*\"access\" + 0.027*\"invari\" + 0.026*\"index\"\n",
      "2022-02-23 14:32:44,136 : INFO : topic #63 (0.010): 0.085*\"area\" + 0.081*\"optimum\" + 0.067*\"sourc\" + 0.058*\"read\" + 0.053*\"write\" + 0.029*\"time\" + 0.026*\",\" + 0.026*\"number\" + 0.025*\"logic\" + 0.024*\"pl\"\n",
      "2022-02-23 14:32:44,137 : INFO : topic #67 (0.013): 0.139*\"]\" + 0.101*\"properti\" + 0.080*\"tree\" + 0.055*\"-\" + 0.054*\"charact\" + 0.041*\"search\" + 0.040*\"sequenc\" + 0.034*\"length\" + 0.034*\",\" + 0.023*\"applic\"\n",
      "2022-02-23 14:32:44,137 : INFO : topic #96 (0.013): 0.457*\"\"\" + 0.117*\"set\" + 0.071*\"work\" + 0.038*\"behavior\" + 0.033*\",\" + 0.029*\",\"\" + 0.029*\"page\" + 0.026*\"model\" + 0.023*\"balanc\" + 0.017*\"demand\"\n",
      "2022-02-23 14:32:44,138 : INFO : topic #98 (0.024): 0.314*\"algorithm\" + 0.265*\"(\" + 0.192*\")\" + 0.108*\"[\" + 0.066*\"])\" + 0.013*\"function\" + 0.013*\"matrix\" + 0.005*\"s22\" + 0.005*\"e4\" + 0.004*\"f1\"\n",
      "2022-02-23 14:32:44,139 : INFO : topic diff=0.598717, rho=0.340958\n",
      "2022-02-23 14:32:45,314 : INFO : -6.578 per-word bound, 95.6 perplexity estimate based on a held-out corpus of 1204 documents with 49783 words\n",
      "2022-02-23 14:32:45,314 : INFO : PROGRESS: pass 6, at document #3204/3204\n",
      "2022-02-23 14:32:46,335 : INFO : optimized alpha [0.010221117, 0.011268867, 0.010694089, 0.011014801, 0.011173245, 0.010263374, 0.010048217, 0.011031417, 0.0118093975, 0.010537011, 0.009933272, 0.010896419, 0.010815197, 0.01086082, 0.0111103365, 0.010578099, 0.011875355, 0.01066006, 0.010790319, 0.010390078, 0.010653692, 0.011548649, 0.012270075, 0.011298535, 0.011475662, 0.01118184, 0.011516908, 0.01053497, 0.009916099, 0.0103935115, 0.0095658675, 0.011288901, 0.010748065, 0.0106560495, 0.010987998, 0.010943363, 0.011643705, 0.011273232, 0.010609387, 0.011522057, 0.011846832, 0.01013116, 0.010312391, 0.01065733, 0.010131136, 0.011330067, 0.010228651, 0.01203898, 0.011027295, 0.010709434, 0.012729095, 0.011950035, 0.010729189, 0.010123985, 0.010959632, 0.010311552, 0.011083708, 0.011664799, 0.0104559595, 0.0105707785, 0.010023901, 0.0107689975, 0.012324612, 0.009847171, 0.0100163445, 0.011311784, 0.010489465, 0.013595017, 0.010290685, 0.011355471, 0.01157838, 0.010329013, 0.011376304, 0.011254749, 0.0107201645, 0.010650317, 0.010310139, 0.0107197445, 0.010612888, 0.011598405, 0.010613914, 0.010522256, 0.011284894, 0.010731036, 0.011485316, 0.010655088, 0.010999018, 0.010458752, 0.011595298, 0.011071664, 0.013273646, 0.013053707, 0.01194514, 0.010750289, 0.011134345, 0.010881212, 0.013557288, 0.011892696, 0.025016543, 0.011648701]\n",
      "2022-02-23 14:32:46,343 : INFO : merging changes from 1204 documents into a model of 3204 documents\n",
      "2022-02-23 14:32:46,355 : INFO : topic #30 (0.010): 0.096*\"loop\" + 0.072*\"document\" + 0.068*\"-\" + 0.056*\",\" + 0.051*\"(\" + 0.049*\")\" + 0.036*\"invari\" + 0.035*\"10\" + 0.031*\"access\" + 0.022*\"legendr\"\n",
      "2022-02-23 14:32:46,356 : INFO : topic #63 (0.010): 0.096*\"optimum\" + 0.096*\"area\" + 0.069*\"sourc\" + 0.068*\"read\" + 0.054*\"write\" + 0.034*\"time\" + 0.029*\"number\" + 0.025*\",\" + 0.024*\"pl\" + 0.023*\"-\"\n",
      "2022-02-23 14:32:46,357 : INFO : topic #96 (0.014): 0.460*\"\"\" + 0.121*\"set\" + 0.078*\"work\" + 0.040*\"behavior\" + 0.033*\",\" + 0.031*\"page\" + 0.030*\",\"\" + 0.026*\"balanc\" + 0.024*\"model\" + 0.016*\"demand\"\n",
      "2022-02-23 14:32:46,357 : INFO : topic #67 (0.014): 0.174*\"]\" + 0.109*\"properti\" + 0.085*\"tree\" + 0.050*\"-\" + 0.045*\"charact\" + 0.039*\"sequenc\" + 0.038*\"search\" + 0.034*\"length\" + 0.033*\",\" + 0.023*\"applic\"\n",
      "2022-02-23 14:32:46,359 : INFO : topic #98 (0.025): 0.336*\"algorithm\" + 0.257*\"(\" + 0.200*\")\" + 0.107*\"[\" + 0.046*\"])\" + 0.013*\"function\" + 0.012*\"matrix\" + 0.005*\"s22\" + 0.004*\"minim\" + 0.004*\"e4\"\n",
      "2022-02-23 14:32:46,360 : INFO : topic diff=0.603286, rho=0.340958\n",
      "2022-02-23 14:32:46,369 : INFO : PROGRESS: pass 7, at document #2000/3204\n",
      "2022-02-23 14:32:47,550 : INFO : optimized alpha [0.010196947, 0.011324849, 0.0107181175, 0.011080432, 0.011158814, 0.01028509, 0.010066445, 0.011033618, 0.012039117, 0.010558352, 0.009904037, 0.010965675, 0.010811598, 0.010910014, 0.0110938875, 0.010566484, 0.011880459, 0.010679591, 0.010898143, 0.010452297, 0.010660341, 0.011509219, 0.012295546, 0.011320892, 0.011508095, 0.011183017, 0.01167234, 0.010549534, 0.009922372, 0.010367599, 0.009553356, 0.011308004, 0.010843336, 0.010653961, 0.011091515, 0.010952992, 0.011707658, 0.011353099, 0.0105991755, 0.01160968, 0.012098618, 0.010191193, 0.010281992, 0.010634167, 0.0101307845, 0.01128618, 0.01030715, 0.0123176975, 0.011113631, 0.010699673, 0.01300203, 0.01208131, 0.010752234, 0.010121347, 0.011040004, 0.010280966, 0.011098042, 0.011777033, 0.010515925, 0.010599557, 0.0100318985, 0.0108700385, 0.012367362, 0.009842777, 0.010036554, 0.011355651, 0.010556902, 0.013590231, 0.010292721, 0.0114560705, 0.011814062, 0.010394076, 0.011463779, 0.011276541, 0.010778402, 0.010710529, 0.010406528, 0.010771214, 0.010561262, 0.0116274785, 0.010597129, 0.010504659, 0.01133354, 0.010705839, 0.01157678, 0.0106631, 0.010998129, 0.010489681, 0.011702141, 0.0111834, 0.01353624, 0.01324337, 0.012180657, 0.010817368, 0.011096529, 0.010883739, 0.013708855, 0.012060311, 0.027108746, 0.01162471]\n",
      "2022-02-23 14:32:47,556 : INFO : merging changes from 2000 documents into a model of 3204 documents\n",
      "2022-02-23 14:32:47,566 : INFO : topic #30 (0.010): 0.077*\"loop\" + 0.075*\"document\" + 0.065*\"-\" + 0.058*\",\" + 0.049*\"(\" + 0.047*\")\" + 0.035*\"10\" + 0.030*\"access\" + 0.029*\"invari\" + 0.027*\"index\"\n",
      "2022-02-23 14:32:47,567 : INFO : topic #63 (0.010): 0.089*\"area\" + 0.084*\"optimum\" + 0.072*\"read\" + 0.065*\"sourc\" + 0.055*\"write\" + 0.032*\"time\" + 0.028*\"number\" + 0.025*\",\" + 0.023*\"/\" + 0.023*\"logic\"\n",
      "2022-02-23 14:32:47,567 : INFO : topic #67 (0.014): 0.150*\"]\" + 0.110*\"properti\" + 0.079*\"tree\" + 0.060*\"charact\" + 0.050*\"-\" + 0.043*\"sequenc\" + 0.040*\"search\" + 0.038*\"length\" + 0.032*\",\" + 0.023*\"applic\"\n",
      "2022-02-23 14:32:47,569 : INFO : topic #96 (0.014): 0.476*\"\"\" + 0.114*\"set\" + 0.072*\"work\" + 0.038*\"behavior\" + 0.032*\",\" + 0.030*\",\"\" + 0.027*\"page\" + 0.024*\"model\" + 0.023*\"balanc\" + 0.015*\"demand\"\n",
      "2022-02-23 14:32:47,569 : INFO : topic #98 (0.027): 0.323*\"algorithm\" + 0.260*\"(\" + 0.189*\")\" + 0.109*\"[\" + 0.066*\"])\" + 0.013*\"function\" + 0.012*\"matrix\" + 0.005*\"s22\" + 0.005*\"e4\" + 0.004*\"f1\"\n",
      "2022-02-23 14:32:47,570 : INFO : topic diff=0.528223, rho=0.322715\n",
      "2022-02-23 14:32:48,725 : INFO : -6.554 per-word bound, 94.0 perplexity estimate based on a held-out corpus of 1204 documents with 49783 words\n",
      "2022-02-23 14:32:48,726 : INFO : PROGRESS: pass 7, at document #3204/3204\n",
      "2022-02-23 14:32:49,755 : INFO : optimized alpha [0.010314109, 0.011556311, 0.010813959, 0.011239867, 0.011335651, 0.010326034, 0.010141065, 0.011171667, 0.012114208, 0.010645867, 0.009972007, 0.011079629, 0.010903671, 0.011073358, 0.011232931, 0.0107400725, 0.012122197, 0.010788418, 0.01097286, 0.01053279, 0.010805696, 0.011745897, 0.012521768, 0.011510318, 0.011742814, 0.011355715, 0.011788833, 0.010706271, 0.0099821985, 0.010468641, 0.009570654, 0.011490714, 0.010935355, 0.010793641, 0.011263346, 0.011179652, 0.011920556, 0.011483277, 0.010698373, 0.011858537, 0.012290625, 0.010214437, 0.010401581, 0.010787289, 0.010233129, 0.011513595, 0.010395076, 0.012671995, 0.011219512, 0.010877302, 0.013257205, 0.0123171965, 0.0108412225, 0.010173617, 0.011132752, 0.010445156, 0.011264603, 0.011952744, 0.010623696, 0.010788969, 0.010105815, 0.010935143, 0.012668567, 0.009884183, 0.010089934, 0.0115382215, 0.010617227, 0.014038933, 0.010404324, 0.0116764065, 0.011928302, 0.010476449, 0.011678141, 0.011535266, 0.010899552, 0.0108868, 0.0104571935, 0.010943195, 0.010672871, 0.01188345, 0.010772288, 0.010638181, 0.011475658, 0.010868742, 0.011784131, 0.01077878, 0.011166217, 0.010618007, 0.011916472, 0.01141279, 0.014016268, 0.013632418, 0.0123785315, 0.010904232, 0.01126673, 0.011017066, 0.0141431615, 0.012198182, 0.02813478, 0.011891825]\n",
      "2022-02-23 14:32:49,763 : INFO : merging changes from 1204 documents into a model of 3204 documents\n",
      "2022-02-23 14:32:49,774 : INFO : topic #30 (0.010): 0.101*\"loop\" + 0.075*\"document\" + 0.066*\"-\" + 0.056*\",\" + 0.049*\"(\" + 0.047*\")\" + 0.040*\"invari\" + 0.034*\"10\" + 0.030*\"access\" + 0.024*\"index\"\n",
      "2022-02-23 14:32:49,774 : INFO : topic #63 (0.010): 0.099*\"area\" + 0.099*\"optimum\" + 0.079*\"read\" + 0.068*\"sourc\" + 0.060*\"write\" + 0.036*\"time\" + 0.031*\"number\" + 0.025*\"/\" + 0.025*\",\" + 0.022*\"-\"\n",
      "2022-02-23 14:32:49,775 : INFO : topic #67 (0.014): 0.187*\"]\" + 0.118*\"properti\" + 0.082*\"tree\" + 0.052*\"charact\" + 0.045*\"-\" + 0.042*\"sequenc\" + 0.038*\"length\" + 0.037*\"search\" + 0.031*\",\" + 0.023*\"applic\"\n",
      "2022-02-23 14:32:49,776 : INFO : topic #96 (0.014): 0.476*\"\"\" + 0.117*\"set\" + 0.078*\"work\" + 0.040*\"behavior\" + 0.032*\",\" + 0.031*\",\"\" + 0.028*\"page\" + 0.026*\"balanc\" + 0.022*\"model\" + 0.016*\"demand\"\n",
      "2022-02-23 14:32:49,777 : INFO : topic #98 (0.028): 0.344*\"algorithm\" + 0.253*\"(\" + 0.197*\")\" + 0.108*\"[\" + 0.047*\"])\" + 0.012*\"function\" + 0.012*\"matrix\" + 0.005*\"s22\" + 0.004*\"minim\" + 0.004*\"e4\"\n",
      "2022-02-23 14:32:49,779 : INFO : topic diff=0.527846, rho=0.322715\n",
      "2022-02-23 14:32:49,786 : INFO : PROGRESS: pass 8, at document #2000/3204\n",
      "2022-02-23 14:32:50,856 : INFO : optimized alpha [0.010295871, 0.011605854, 0.010838751, 0.011306077, 0.011323084, 0.01035372, 0.010164987, 0.011180485, 0.0123459175, 0.010673013, 0.009947792, 0.011139272, 0.010902244, 0.011129073, 0.011231088, 0.010731798, 0.012129663, 0.010810527, 0.011080028, 0.010600637, 0.010825114, 0.011719722, 0.012553184, 0.011534678, 0.01177488, 0.01135815, 0.011940674, 0.010721518, 0.009990139, 0.010450668, 0.009562568, 0.0115102185, 0.01103034, 0.0107981935, 0.011368112, 0.011203522, 0.011981325, 0.011563377, 0.010692141, 0.011964306, 0.01254912, 0.0102676535, 0.010379081, 0.010766555, 0.01023602, 0.01147599, 0.010486615, 0.012971863, 0.011302471, 0.01087411, 0.013538117, 0.012447274, 0.0108635165, 0.010176399, 0.011211711, 0.010425169, 0.011281418, 0.012060614, 0.0106795775, 0.010822662, 0.010120063, 0.0110357525, 0.012710177, 0.009882145, 0.010115821, 0.011576281, 0.010691832, 0.0140263, 0.010414353, 0.011774741, 0.01216084, 0.010555262, 0.011763686, 0.011558515, 0.010960406, 0.010947744, 0.010558032, 0.0109922495, 0.010628915, 0.011913925, 0.010754087, 0.010624536, 0.011530895, 0.010847674, 0.011866163, 0.010784816, 0.011177141, 0.010649124, 0.012030208, 0.011525522, 0.014296553, 0.013830561, 0.012619168, 0.010960266, 0.011228548, 0.011019401, 0.014299269, 0.012361888, 0.03031198, 0.011872877]\n",
      "2022-02-23 14:32:50,863 : INFO : merging changes from 2000 documents into a model of 3204 documents\n",
      "2022-02-23 14:32:50,874 : INFO : topic #30 (0.010): 0.082*\"loop\" + 0.078*\"document\" + 0.063*\"-\" + 0.058*\",\" + 0.046*\"(\" + 0.044*\")\" + 0.035*\"10\" + 0.033*\"invari\" + 0.030*\"access\" + 0.029*\"index\"\n",
      "2022-02-23 14:32:50,876 : INFO : topic #63 (0.010): 0.094*\"area\" + 0.087*\"optimum\" + 0.083*\"read\" + 0.064*\"sourc\" + 0.059*\"write\" + 0.034*\"time\" + 0.029*\"number\" + 0.025*\"/\" + 0.025*\",\" + 0.021*\"-\"\n",
      "2022-02-23 14:32:50,876 : INFO : topic #96 (0.014): 0.489*\"\"\" + 0.112*\"set\" + 0.073*\"work\" + 0.038*\"behavior\" + 0.031*\",\" + 0.030*\",\"\" + 0.025*\"page\" + 0.023*\"balanc\" + 0.023*\"model\" + 0.015*\"demand\"\n",
      "2022-02-23 14:32:50,877 : INFO : topic #90 (0.014): 0.527*\"method\" + 0.144*\"'\" + 0.046*\"reduct\" + 0.040*\"paramet\" + 0.030*\"effici\" + 0.023*\"integr\" + 0.022*\"gener\" + 0.018*\",\" + 0.014*\"shown\" + 0.012*\"improv\"\n",
      "2022-02-23 14:32:50,878 : INFO : topic #98 (0.030): 0.330*\"algorithm\" + 0.257*\"(\" + 0.187*\")\" + 0.109*\"[\" + 0.065*\"])\" + 0.013*\"function\" + 0.012*\"matrix\" + 0.005*\"s22\" + 0.004*\"e4\" + 0.004*\"f1\"\n",
      "2022-02-23 14:32:50,880 : INFO : topic diff=0.460998, rho=0.307119\n",
      "2022-02-23 14:32:51,984 : INFO : -6.533 per-word bound, 92.6 perplexity estimate based on a held-out corpus of 1204 documents with 49783 words\n",
      "2022-02-23 14:32:51,984 : INFO : PROGRESS: pass 8, at document #3204/3204\n",
      "2022-02-23 14:32:53,004 : INFO : optimized alpha [0.010408438, 0.011838389, 0.010930668, 0.011462279, 0.011490125, 0.010393248, 0.010236615, 0.011313124, 0.01242279, 0.010759774, 0.0100209005, 0.011245674, 0.010990575, 0.011289368, 0.011370378, 0.010909796, 0.012368845, 0.010920594, 0.011154172, 0.010680419, 0.01096204, 0.0119811725, 0.0127482535, 0.011711046, 0.012010439, 0.0115270885, 0.012045881, 0.01088328, 0.010057934, 0.010550351, 0.009584739, 0.01168592, 0.0111211995, 0.010935145, 0.011536526, 0.011433986, 0.012186461, 0.011691179, 0.01079016, 0.012224086, 0.012743722, 0.010303357, 0.010496709, 0.010921913, 0.01034494, 0.011706817, 0.010589651, 0.013353521, 0.011409688, 0.011067545, 0.013785232, 0.012675137, 0.010951649, 0.010232135, 0.011309175, 0.010585763, 0.011438812, 0.012238916, 0.010788405, 0.011011007, 0.010196319, 0.0111062685, 0.0129983565, 0.009924755, 0.010182757, 0.011763948, 0.010752326, 0.014432706, 0.010518777, 0.0119845765, 0.012275722, 0.010653172, 0.011973667, 0.011814707, 0.0110822525, 0.011120589, 0.010606226, 0.011166385, 0.010736076, 0.012164228, 0.010919828, 0.01075552, 0.011673203, 0.011006971, 0.0120598655, 0.010906887, 0.011341752, 0.01078335, 0.012258949, 0.01177402, 0.014773261, 0.014228397, 0.012832251, 0.011051776, 0.011386305, 0.011150286, 0.0147234835, 0.012490545, 0.03134563, 0.012143029]\n",
      "2022-02-23 14:32:53,012 : INFO : merging changes from 1204 documents into a model of 3204 documents\n",
      "2022-02-23 14:32:53,024 : INFO : topic #30 (0.010): 0.106*\"loop\" + 0.077*\"document\" + 0.064*\"-\" + 0.056*\",\" + 0.046*\"(\" + 0.043*\"invari\" + 0.043*\")\" + 0.034*\"10\" + 0.030*\"access\" + 0.027*\"index\"\n",
      "2022-02-23 14:32:53,025 : INFO : topic #63 (0.010): 0.102*\"area\" + 0.102*\"optimum\" + 0.086*\"read\" + 0.067*\"sourc\" + 0.064*\"write\" + 0.039*\"time\" + 0.031*\"number\" + 0.026*\"/\" + 0.024*\",\" + 0.022*\"-\"\n",
      "2022-02-23 14:32:53,025 : INFO : topic #96 (0.015): 0.487*\"\"\" + 0.115*\"set\" + 0.079*\"work\" + 0.040*\"behavior\" + 0.031*\",\"\" + 0.031*\",\" + 0.026*\"page\" + 0.026*\"balanc\" + 0.022*\"model\" + 0.015*\"demand\"\n",
      "2022-02-23 14:32:53,026 : INFO : topic #90 (0.015): 0.537*\"method\" + 0.147*\"'\" + 0.048*\"reduct\" + 0.040*\"paramet\" + 0.028*\"effici\" + 0.021*\"gener\" + 0.020*\"integr\" + 0.018*\",\" + 0.014*\"shown\" + 0.012*\"show\"\n",
      "2022-02-23 14:32:53,027 : INFO : topic #98 (0.031): 0.349*\"algorithm\" + 0.251*\"(\" + 0.194*\")\" + 0.108*\"[\" + 0.048*\"])\" + 0.012*\"function\" + 0.012*\"matrix\" + 0.005*\"s22\" + 0.004*\"minim\" + 0.004*\"e4\"\n",
      "2022-02-23 14:32:53,029 : INFO : topic diff=0.461225, rho=0.307119\n",
      "2022-02-23 14:32:53,038 : INFO : PROGRESS: pass 9, at document #2000/3204\n",
      "2022-02-23 14:32:54,171 : INFO : optimized alpha [0.010394124, 0.011885468, 0.01095468, 0.011536002, 0.011477665, 0.010418717, 0.010267381, 0.01132499, 0.012655321, 0.01078451, 0.00999665, 0.011308112, 0.01098951, 0.011353104, 0.011363456, 0.010906179, 0.012374921, 0.010950001, 0.01126106, 0.010745941, 0.010988679, 0.011963472, 0.012783669, 0.011735793, 0.01204754, 0.011532462, 0.012192985, 0.010907205, 0.010070328, 0.01053178, 0.009577715, 0.011704176, 0.011217921, 0.010945824, 0.0116309505, 0.011462961, 0.012246317, 0.011773486, 0.01078281, 0.012349686, 0.013011617, 0.010359518, 0.010479851, 0.010908157, 0.010353853, 0.011669651, 0.010682838, 0.013664066, 0.011486294, 0.011067018, 0.014068692, 0.012804545, 0.01098145, 0.010233814, 0.011392129, 0.010566186, 0.01146151, 0.012342984, 0.010847032, 0.011051197, 0.010210282, 0.011206777, 0.013046946, 0.009924825, 0.010207945, 0.011807116, 0.010824399, 0.014425862, 0.010528465, 0.012079266, 0.012520408, 0.010740361, 0.012061252, 0.011835995, 0.011144162, 0.011180857, 0.010703739, 0.011218235, 0.010695913, 0.012190727, 0.010903524, 0.0107486695, 0.011733201, 0.010986388, 0.012138613, 0.01091743, 0.011353574, 0.010822723, 0.012374143, 0.011889876, 0.015063737, 0.014416692, 0.013088171, 0.011109097, 0.011352815, 0.011152456, 0.014875968, 0.012649254, 0.03360638, 0.012130578]\n",
      "2022-02-23 14:32:54,178 : INFO : merging changes from 2000 documents into a model of 3204 documents\n",
      "2022-02-23 14:32:54,188 : INFO : topic #30 (0.010): 0.088*\"loop\" + 0.080*\"document\" + 0.061*\"-\" + 0.059*\",\" + 0.043*\"(\" + 0.040*\")\" + 0.037*\"invari\" + 0.035*\"10\" + 0.032*\"index\" + 0.030*\"access\"\n",
      "2022-02-23 14:32:54,188 : INFO : topic #63 (0.010): 0.099*\"area\" + 0.091*\"optimum\" + 0.089*\"read\" + 0.064*\"sourc\" + 0.064*\"write\" + 0.037*\"time\" + 0.030*\"number\" + 0.026*\"/\" + 0.024*\",\" + 0.020*\"develop\"\n",
      "2022-02-23 14:32:54,189 : INFO : topic #96 (0.015): 0.500*\"\"\" + 0.111*\"set\" + 0.074*\"work\" + 0.038*\"behavior\" + 0.030*\",\"\" + 0.030*\",\" + 0.023*\"page\" + 0.023*\"balanc\" + 0.022*\"model\" + 0.014*\"demand\"\n",
      "2022-02-23 14:32:54,190 : INFO : topic #90 (0.015): 0.548*\"method\" + 0.140*\"'\" + 0.045*\"reduct\" + 0.038*\"paramet\" + 0.029*\"effici\" + 0.021*\"gener\" + 0.018*\"integr\" + 0.018*\",\" + 0.014*\"shown\" + 0.013*\"improv\"\n",
      "2022-02-23 14:32:54,190 : INFO : topic #98 (0.034): 0.336*\"algorithm\" + 0.254*\"(\" + 0.186*\")\" + 0.109*\"[\" + 0.065*\"])\" + 0.013*\"function\" + 0.012*\"matrix\" + 0.005*\"s22\" + 0.004*\"e4\" + 0.004*\"f1\"\n",
      "2022-02-23 14:32:54,191 : INFO : topic diff=0.402305, rho=0.293585\n",
      "2022-02-23 14:32:55,441 : INFO : -6.515 per-word bound, 91.4 perplexity estimate based on a held-out corpus of 1204 documents with 49783 words\n",
      "2022-02-23 14:32:55,442 : INFO : PROGRESS: pass 9, at document #3204/3204\n",
      "2022-02-23 14:32:56,594 : INFO : optimized alpha [0.010512885, 0.012119775, 0.011051279, 0.011692472, 0.011644518, 0.010457024, 0.010333917, 0.0114501575, 0.012731109, 0.010873435, 0.010064844, 0.011405063, 0.011082787, 0.011525056, 0.011503508, 0.011083667, 0.012615529, 0.011058856, 0.011334942, 0.01082527, 0.011131619, 0.012231666, 0.012972201, 0.011906228, 0.012284847, 0.0116984425, 0.012281598, 0.01107144, 0.010145624, 0.010635777, 0.009599567, 0.011879441, 0.01130796, 0.011094133, 0.0117995655, 0.011689343, 0.012447713, 0.011887936, 0.010861475, 0.012636248, 0.013225303, 0.010399102, 0.010601081, 0.011060753, 0.010464057, 0.011887271, 0.010784656, 0.01407121, 0.011581049, 0.011275916, 0.014319136, 0.013038076, 0.011069093, 0.010292808, 0.011497053, 0.010729036, 0.011616259, 0.012506188, 0.010949162, 0.011236476, 0.010291452, 0.011277168, 0.01331392, 0.009963772, 0.010275055, 0.012006131, 0.010882572, 0.014814029, 0.010642113, 0.012279636, 0.012633311, 0.010832067, 0.012267662, 0.012078925, 0.011272395, 0.0113593275, 0.010760337, 0.011397763, 0.010807247, 0.012430445, 0.011063631, 0.010874998, 0.011878965, 0.011137441, 0.0123228915, 0.011037911, 0.011526711, 0.010960209, 0.01259325, 0.012146419, 0.015549044, 0.014806681, 0.0133171175, 0.011199843, 0.01149935, 0.0112760095, 0.015287682, 0.012763499, 0.0346132, 0.012398668]\n",
      "2022-02-23 14:32:56,605 : INFO : merging changes from 1204 documents into a model of 3204 documents\n",
      "2022-02-23 14:32:56,618 : INFO : topic #30 (0.010): 0.112*\"loop\" + 0.081*\"document\" + 0.060*\"-\" + 0.056*\",\" + 0.047*\"invari\" + 0.042*\"(\" + 0.038*\")\" + 0.035*\"10\" + 0.030*\"access\" + 0.030*\"index\"\n",
      "2022-02-23 14:32:56,620 : INFO : topic #63 (0.010): 0.107*\"area\" + 0.105*\"optimum\" + 0.091*\"read\" + 0.067*\"write\" + 0.066*\"sourc\" + 0.043*\"time\" + 0.032*\"number\" + 0.026*\"/\" + 0.023*\",\" + 0.022*\"expect\"\n",
      "2022-02-23 14:32:56,622 : INFO : topic #96 (0.015): 0.497*\"\"\" + 0.114*\"set\" + 0.079*\"work\" + 0.040*\"behavior\" + 0.031*\",\"\" + 0.030*\",\" + 0.026*\"balanc\" + 0.024*\"page\" + 0.021*\"model\" + 0.015*\"demand\"\n",
      "2022-02-23 14:32:56,625 : INFO : topic #90 (0.016): 0.555*\"method\" + 0.144*\"'\" + 0.047*\"reduct\" + 0.037*\"paramet\" + 0.027*\"effici\" + 0.020*\"gener\" + 0.017*\",\" + 0.017*\"integr\" + 0.014*\"shown\" + 0.013*\"improv\"\n",
      "2022-02-23 14:32:56,626 : INFO : topic #98 (0.035): 0.353*\"algorithm\" + 0.248*\"(\" + 0.193*\")\" + 0.109*\"[\" + 0.048*\"])\" + 0.012*\"function\" + 0.011*\"matrix\" + 0.005*\"s22\" + 0.004*\"e4\" + 0.004*\"minim\"\n",
      "2022-02-23 14:32:56,629 : INFO : topic diff=0.403509, rho=0.293585\n",
      "2022-02-23 14:32:56,639 : INFO : PROGRESS: pass 10, at document #2000/3204\n",
      "2022-02-23 14:32:57,916 : INFO : optimized alpha [0.010503555, 0.012169747, 0.011074522, 0.011762021, 0.01163051, 0.010483446, 0.010372604, 0.011467983, 0.012963386, 0.010894385, 0.010046298, 0.01146548, 0.011083529, 0.011586583, 0.011501571, 0.0110843275, 0.012625733, 0.011087269, 0.011438665, 0.010888733, 0.011160275, 0.012211517, 0.013007756, 0.011933155, 0.012323388, 0.01170488, 0.012429786, 0.011106794, 0.01016211, 0.010621081, 0.009594833, 0.011894951, 0.011401744, 0.011108974, 0.0118926745, 0.011719931, 0.01250509, 0.011965861, 0.01085318, 0.012761836, 0.013488654, 0.010462517, 0.010586346, 0.011048757, 0.010481656, 0.011852294, 0.010885748, 0.014397382, 0.011656883, 0.011288983, 0.0145895695, 0.01316716, 0.01109796, 0.010296396, 0.011580701, 0.010708221, 0.011637932, 0.012610485, 0.011005863, 0.011271754, 0.010309516, 0.011377865, 0.013361844, 0.009968614, 0.010300961, 0.012050763, 0.010954031, 0.014802538, 0.010654501, 0.012364229, 0.012874552, 0.010925781, 0.0123574445, 0.012090129, 0.011338584, 0.01142222, 0.010862579, 0.011444357, 0.010770389, 0.012462125, 0.011049127, 0.010869813, 0.011935228, 0.011118923, 0.012402273, 0.011051212, 0.011536097, 0.011009005, 0.012717506, 0.012263964, 0.015854755, 0.014994066, 0.013579736, 0.011255292, 0.011468591, 0.011281241, 0.015432827, 0.012912324, 0.036982015, 0.012392348]\n",
      "2022-02-23 14:32:57,928 : INFO : merging changes from 2000 documents into a model of 3204 documents\n",
      "2022-02-23 14:32:57,940 : INFO : topic #30 (0.010): 0.094*\"loop\" + 0.084*\"document\" + 0.059*\",\" + 0.057*\"-\" + 0.040*\"invari\" + 0.039*\"(\" + 0.036*\")\" + 0.035*\"10\" + 0.035*\"index\" + 0.030*\"access\"\n",
      "2022-02-23 14:32:57,944 : INFO : topic #63 (0.010): 0.103*\"area\" + 0.094*\"read\" + 0.093*\"optimum\" + 0.067*\"write\" + 0.064*\"sourc\" + 0.041*\"time\" + 0.031*\"number\" + 0.026*\"/\" + 0.023*\",\" + 0.021*\"expect\"\n",
      "2022-02-23 14:32:57,946 : INFO : topic #96 (0.015): 0.508*\"\"\" + 0.110*\"set\" + 0.074*\"work\" + 0.038*\"behavior\" + 0.031*\",\"\" + 0.030*\",\" + 0.023*\"balanc\" + 0.021*\"model\" + 0.021*\"page\" + 0.014*\"process\"\n",
      "2022-02-23 14:32:57,947 : INFO : topic #90 (0.016): 0.564*\"method\" + 0.138*\"'\" + 0.045*\"reduct\" + 0.035*\"paramet\" + 0.029*\"effici\" + 0.020*\"gener\" + 0.017*\",\" + 0.015*\"integr\" + 0.014*\"improv\" + 0.014*\"shown\"\n",
      "2022-02-23 14:32:57,947 : INFO : topic #98 (0.037): 0.340*\"algorithm\" + 0.252*\"(\" + 0.184*\")\" + 0.110*\"[\" + 0.064*\"])\" + 0.013*\"function\" + 0.012*\"matrix\" + 0.005*\"s22\" + 0.004*\"e4\" + 0.004*\"f1\"\n",
      "2022-02-23 14:32:57,948 : INFO : topic diff=0.351725, rho=0.281696\n",
      "2022-02-23 14:32:59,501 : INFO : -6.499 per-word bound, 90.4 perplexity estimate based on a held-out corpus of 1204 documents with 49783 words\n",
      "2022-02-23 14:32:59,501 : INFO : PROGRESS: pass 10, at document #3204/3204\n",
      "2022-02-23 14:33:00,597 : INFO : optimized alpha [0.010623448, 0.012397789, 0.011170574, 0.011910841, 0.011786617, 0.010520692, 0.010444258, 0.0115918275, 0.013041186, 0.01098038, 0.010121865, 0.011559096, 0.011179056, 0.0117536355, 0.011637162, 0.011261664, 0.012874312, 0.011195273, 0.011509712, 0.010965332, 0.01129616, 0.0124755, 0.013190295, 0.012106852, 0.012562931, 0.011865724, 0.012514756, 0.011274037, 0.010244521, 0.010719224, 0.0096164225, 0.012059134, 0.011488647, 0.01125271, 0.012070103, 0.011940274, 0.012703468, 0.012073597, 0.0109396055, 0.013039544, 0.01370291, 0.010493414, 0.010708659, 0.011196547, 0.010593282, 0.0120718675, 0.010984183, 0.014848672, 0.011756658, 0.011513475, 0.014833356, 0.013391104, 0.011185327, 0.010348836, 0.011684703, 0.010868628, 0.011785138, 0.0127744805, 0.011107178, 0.011457197, 0.010392943, 0.011453595, 0.013628054, 0.01000654, 0.010370736, 0.01225005, 0.011012709, 0.015180783, 0.010769523, 0.012561678, 0.01296775, 0.011032207, 0.012563848, 0.012315254, 0.011462703, 0.011593023, 0.010916996, 0.011621431, 0.0108806575, 0.012698147, 0.011212136, 0.0109997075, 0.012070772, 0.0112651335, 0.01257805, 0.01116782, 0.011698569, 0.0111396825, 0.012951786, 0.012520403, 0.016350027, 0.015398434, 0.01379636, 0.0113403, 0.011607664, 0.0114008095, 0.015829235, 0.01300714, 0.037906263, 0.01266216]\n",
      "2022-02-23 14:33:00,605 : INFO : merging changes from 1204 documents into a model of 3204 documents\n",
      "2022-02-23 14:33:00,617 : INFO : topic #30 (0.010): 0.117*\"loop\" + 0.085*\"document\" + 0.056*\",\" + 0.055*\"-\" + 0.050*\"invari\" + 0.037*\"(\" + 0.036*\"10\" + 0.034*\")\" + 0.033*\"index\" + 0.031*\"access\"\n",
      "2022-02-23 14:33:00,618 : INFO : topic #63 (0.010): 0.110*\"area\" + 0.107*\"optimum\" + 0.094*\"read\" + 0.069*\"write\" + 0.066*\"sourc\" + 0.047*\"time\" + 0.032*\"number\" + 0.025*\"/\" + 0.023*\"expect\" + 0.023*\",\"\n",
      "2022-02-23 14:33:00,618 : INFO : topic #96 (0.016): 0.505*\"\"\" + 0.113*\"set\" + 0.080*\"work\" + 0.040*\"behavior\" + 0.032*\",\"\" + 0.029*\",\" + 0.026*\"balanc\" + 0.022*\"page\" + 0.021*\"model\" + 0.014*\"demand\"\n",
      "2022-02-23 14:33:00,620 : INFO : topic #90 (0.016): 0.569*\"method\" + 0.141*\"'\" + 0.047*\"reduct\" + 0.035*\"paramet\" + 0.027*\"effici\" + 0.019*\"gener\" + 0.017*\",\" + 0.014*\"shown\" + 0.014*\"improv\" + 0.013*\"integr\"\n",
      "2022-02-23 14:33:00,621 : INFO : topic #98 (0.038): 0.356*\"algorithm\" + 0.247*\"(\" + 0.191*\")\" + 0.109*\"[\" + 0.049*\"])\" + 0.012*\"function\" + 0.012*\"matrix\" + 0.005*\"s22\" + 0.004*\"e4\" + 0.004*\"minim\"\n",
      "2022-02-23 14:33:00,621 : INFO : topic diff=0.355199, rho=0.281696\n",
      "2022-02-23 14:33:00,629 : INFO : PROGRESS: pass 11, at document #2000/3204\n",
      "2022-02-23 14:33:02,008 : INFO : optimized alpha [0.010615852, 0.012447316, 0.011196156, 0.01197818, 0.011776003, 0.010548073, 0.010491774, 0.011615393, 0.0132736955, 0.011006802, 0.010109826, 0.011613002, 0.0111799305, 0.011824454, 0.011638357, 0.011261849, 0.012886629, 0.0112289805, 0.011612195, 0.011029921, 0.011322209, 0.012459779, 0.013222633, 0.012130892, 0.012601246, 0.011871697, 0.012657388, 0.011311055, 0.010261968, 0.010703725, 0.009611142, 0.012080316, 0.011578324, 0.011271425, 0.012165398, 0.011972511, 0.012760396, 0.012147653, 0.010931823, 0.013170733, 0.013960319, 0.0105495285, 0.010692931, 0.011190796, 0.010610335, 0.012040402, 0.011081196, 0.015197937, 0.0118335085, 0.011528464, 0.015101318, 0.01352385, 0.011211953, 0.010355602, 0.011773981, 0.010854042, 0.011805898, 0.012880951, 0.011162184, 0.011497281, 0.010414818, 0.011559296, 0.013675482, 0.010013068, 0.010401629, 0.01229453, 0.011091184, 0.015173238, 0.010779985, 0.012641842, 0.013204226, 0.011132506, 0.012655996, 0.012320235, 0.01152693, 0.011668263, 0.011019472, 0.011669432, 0.010848228, 0.012729779, 0.0111992955, 0.010996049, 0.012128485, 0.01124703, 0.012653145, 0.011179147, 0.011713721, 0.01118083, 0.013071006, 0.012646568, 0.016651921, 0.015587531, 0.014058549, 0.011392607, 0.011582637, 0.011405866, 0.015975997, 0.013155663, 0.0403229, 0.012658115]\n",
      "2022-02-23 14:33:02,019 : INFO : merging changes from 2000 documents into a model of 3204 documents\n",
      "2022-02-23 14:33:02,035 : INFO : topic #30 (0.010): 0.099*\"loop\" + 0.088*\"document\" + 0.058*\",\" + 0.053*\"-\" + 0.043*\"invari\" + 0.037*\"index\" + 0.036*\"10\" + 0.035*\"(\" + 0.032*\")\" + 0.031*\"access\"\n",
      "2022-02-23 14:33:02,037 : INFO : topic #63 (0.010): 0.106*\"area\" + 0.097*\"read\" + 0.097*\"optimum\" + 0.068*\"write\" + 0.064*\"sourc\" + 0.044*\"time\" + 0.031*\"number\" + 0.025*\"/\" + 0.023*\"expect\" + 0.023*\",\"\n",
      "2022-02-23 14:33:02,039 : INFO : topic #96 (0.016): 0.515*\"\"\" + 0.110*\"set\" + 0.075*\"work\" + 0.038*\"behavior\" + 0.031*\",\"\" + 0.029*\",\" + 0.023*\"balanc\" + 0.021*\"model\" + 0.019*\"page\" + 0.015*\"process\"\n",
      "2022-02-23 14:33:02,040 : INFO : topic #90 (0.017): 0.579*\"method\" + 0.136*\"'\" + 0.044*\"reduct\" + 0.033*\"paramet\" + 0.028*\"effici\" + 0.018*\"gener\" + 0.017*\",\" + 0.015*\"improv\" + 0.014*\"shown\" + 0.011*\"show\"\n",
      "2022-02-23 14:33:02,040 : INFO : topic #98 (0.040): 0.343*\"algorithm\" + 0.251*\"(\" + 0.183*\")\" + 0.110*\"[\" + 0.064*\"])\" + 0.012*\"function\" + 0.012*\"matrix\" + 0.005*\"s22\" + 0.004*\"e4\" + 0.004*\"f1\"\n",
      "2022-02-23 14:33:02,041 : INFO : topic diff=0.309311, rho=0.271143\n",
      "2022-02-23 14:33:03,414 : INFO : -6.486 per-word bound, 89.7 perplexity estimate based on a held-out corpus of 1204 documents with 49783 words\n",
      "2022-02-23 14:33:03,415 : INFO : PROGRESS: pass 11, at document #3204/3204\n",
      "2022-02-23 14:33:04,446 : INFO : optimized alpha [0.010727439, 0.012667154, 0.011289313, 0.012128153, 0.0119329365, 0.010589177, 0.010565986, 0.011738322, 0.013347837, 0.01109278, 0.010192449, 0.011709006, 0.011272586, 0.0119979875, 0.011778014, 0.011426767, 0.013129063, 0.011333849, 0.011683459, 0.01110905, 0.011459313, 0.012714743, 0.013400179, 0.012305275, 0.012840783, 0.012030732, 0.012744999, 0.011486616, 0.010348962, 0.0108039575, 0.009636924, 0.012242587, 0.011662378, 0.011426328, 0.012338099, 0.012190353, 0.012950618, 0.012254841, 0.01102573, 0.013461072, 0.0141755035, 0.010591559, 0.010806884, 0.011334359, 0.010726081, 0.012248722, 0.011174131, 0.015664723, 0.011927513, 0.011755518, 0.015346167, 0.013739192, 0.011289009, 0.010413784, 0.011880112, 0.011012455, 0.011970365, 0.013046137, 0.011257912, 0.011685991, 0.010493416, 0.011635095, 0.013935441, 0.010047832, 0.010469305, 0.012486039, 0.011152927, 0.015556389, 0.010894174, 0.0128313, 0.013302442, 0.011243348, 0.012857277, 0.012542464, 0.0116500035, 0.0118454145, 0.011074441, 0.011844522, 0.010952803, 0.012959973, 0.011355292, 0.011122188, 0.012265563, 0.011388865, 0.01282972, 0.011292391, 0.01188253, 0.011312863, 0.013320801, 0.012903611, 0.017168876, 0.015999762, 0.014282238, 0.011474911, 0.011714973, 0.011521957, 0.016365105, 0.013250003, 0.041235752, 0.012930229]\n",
      "2022-02-23 14:33:04,453 : INFO : merging changes from 1204 documents into a model of 3204 documents\n",
      "2022-02-23 14:33:04,465 : INFO : topic #30 (0.010): 0.120*\"loop\" + 0.090*\"document\" + 0.055*\",\" + 0.052*\"invari\" + 0.051*\"-\" + 0.035*\"10\" + 0.034*\"index\" + 0.033*\"(\" + 0.033*\"access\" + 0.029*\")\"\n",
      "2022-02-23 14:33:04,466 : INFO : topic #63 (0.010): 0.112*\"area\" + 0.110*\"optimum\" + 0.097*\"read\" + 0.071*\"write\" + 0.065*\"sourc\" + 0.050*\"time\" + 0.033*\"number\" + 0.026*\"expect\" + 0.023*\"/\" + 0.022*\",\"\n",
      "2022-02-23 14:33:04,467 : INFO : topic #96 (0.016): 0.512*\"\"\" + 0.113*\"set\" + 0.080*\"work\" + 0.040*\"behavior\" + 0.032*\",\"\" + 0.029*\",\" + 0.026*\"balanc\" + 0.020*\"model\" + 0.019*\"page\" + 0.014*\"demand\"\n",
      "2022-02-23 14:33:04,468 : INFO : topic #90 (0.017): 0.583*\"method\" + 0.139*\"'\" + 0.046*\"reduct\" + 0.033*\"paramet\" + 0.027*\"effici\" + 0.018*\"gener\" + 0.017*\",\" + 0.015*\"improv\" + 0.014*\"shown\" + 0.013*\"show\"\n",
      "2022-02-23 14:33:04,469 : INFO : topic #98 (0.041): 0.358*\"algorithm\" + 0.246*\"(\" + 0.190*\")\" + 0.110*\"[\" + 0.049*\"])\" + 0.012*\"function\" + 0.012*\"matrix\" + 0.005*\"s22\" + 0.004*\"e4\" + 0.004*\"minim\"\n",
      "2022-02-23 14:33:04,470 : INFO : topic diff=0.313566, rho=0.271143\n",
      "2022-02-23 14:33:04,479 : INFO : PROGRESS: pass 12, at document #2000/3204\n",
      "2022-02-23 14:33:05,684 : INFO : optimized alpha [0.010721482, 0.01271643, 0.01131873, 0.012196696, 0.011923985, 0.010616076, 0.010613664, 0.0117596015, 0.013574077, 0.011114164, 0.0101850135, 0.011762986, 0.011275067, 0.012070043, 0.011783751, 0.011428074, 0.013140081, 0.0113696465, 0.011783444, 0.011173421, 0.011488947, 0.012701629, 0.013429501, 0.012331444, 0.012878958, 0.012039392, 0.012882665, 0.011525291, 0.0103714885, 0.010790505, 0.009636142, 0.012261245, 0.011755895, 0.011447257, 0.0124341715, 0.012222699, 0.013005599, 0.012325307, 0.011018384, 0.013594553, 0.014436588, 0.010654756, 0.010793093, 0.011333048, 0.01074684, 0.012217501, 0.01127903, 0.016036259, 0.012005523, 0.011770819, 0.015624292, 0.013866835, 0.01131955, 0.0104234405, 0.011967104, 0.011008065, 0.011995022, 0.013148106, 0.011312904, 0.01172153, 0.0105244955, 0.011742779, 0.013982479, 0.010057291, 0.0104981335, 0.012538807, 0.011227999, 0.01554856, 0.010912931, 0.012910712, 0.013541626, 0.011356049, 0.012950249, 0.012546533, 0.011709387, 0.011921759, 0.011178818, 0.011893983, 0.010920192, 0.012991608, 0.011348511, 0.01111707, 0.012326366, 0.011375585, 0.012897446, 0.011309305, 0.011904719, 0.01136019, 0.013437108, 0.013025128, 0.01747166, 0.01619085, 0.014540742, 0.011524373, 0.011690761, 0.011528382, 0.0164987, 0.013393296, 0.04373472, 0.012925127]\n",
      "2022-02-23 14:33:05,691 : INFO : merging changes from 2000 documents into a model of 3204 documents\n",
      "2022-02-23 14:33:05,706 : INFO : topic #30 (0.010): 0.102*\"loop\" + 0.092*\"document\" + 0.058*\",\" + 0.048*\"-\" + 0.045*\"invari\" + 0.038*\"index\" + 0.035*\"10\" + 0.033*\"access\" + 0.031*\"(\" + 0.029*\"legendr\"\n",
      "2022-02-23 14:33:05,708 : INFO : topic #63 (0.010): 0.108*\"area\" + 0.100*\"read\" + 0.099*\"optimum\" + 0.072*\"write\" + 0.062*\"sourc\" + 0.047*\"time\" + 0.032*\"number\" + 0.026*\"expect\" + 0.024*\"/\" + 0.022*\",\"\n",
      "2022-02-23 14:33:05,710 : INFO : topic #96 (0.016): 0.522*\"\"\" + 0.108*\"set\" + 0.076*\"work\" + 0.038*\"behavior\" + 0.031*\",\"\" + 0.028*\",\" + 0.023*\"balanc\" + 0.020*\"model\" + 0.017*\"page\" + 0.015*\"process\"\n",
      "2022-02-23 14:33:05,711 : INFO : topic #90 (0.017): 0.592*\"method\" + 0.134*\"'\" + 0.044*\"reduct\" + 0.031*\"paramet\" + 0.028*\"effici\" + 0.017*\"gener\" + 0.017*\",\" + 0.016*\"improv\" + 0.014*\"shown\" + 0.012*\"show\"\n",
      "2022-02-23 14:33:05,711 : INFO : topic #98 (0.044): 0.344*\"algorithm\" + 0.250*\"(\" + 0.183*\")\" + 0.110*\"[\" + 0.064*\"])\" + 0.012*\"function\" + 0.012*\"matrix\" + 0.005*\"s22\" + 0.004*\"e4\" + 0.004*\"f1\"\n",
      "2022-02-23 14:33:05,712 : INFO : topic diff=0.274024, rho=0.261694\n",
      "2022-02-23 14:33:06,942 : INFO : -6.475 per-word bound, 88.9 perplexity estimate based on a held-out corpus of 1204 documents with 49783 words\n",
      "2022-02-23 14:33:06,942 : INFO : PROGRESS: pass 12, at document #3204/3204\n",
      "2022-02-23 14:33:07,829 : INFO : optimized alpha [0.01083714, 0.0129369255, 0.0114118, 0.012342781, 0.012074168, 0.010656107, 0.010685825, 0.011874046, 0.013641958, 0.011200234, 0.01026988, 0.011845873, 0.011367704, 0.012247645, 0.011925017, 0.0115888575, 0.0133769065, 0.011479275, 0.011852424, 0.011250259, 0.011614907, 0.012948136, 0.013602324, 0.012506846, 0.013113382, 0.012197011, 0.012956113, 0.011704289, 0.010460628, 0.010890442, 0.009663611, 0.0124166105, 0.011837406, 0.011608265, 0.01260272, 0.012443869, 0.013193931, 0.012429462, 0.011114608, 0.013892264, 0.014656201, 0.010695686, 0.010915832, 0.011472869, 0.010866677, 0.0124207605, 0.011374133, 0.016547874, 0.012096855, 0.011995708, 0.015860058, 0.014086189, 0.011392012, 0.010487051, 0.01207019, 0.011169695, 0.012155535, 0.013311885, 0.011408361, 0.011911222, 0.010612455, 0.011818787, 0.014233501, 0.010093518, 0.010563953, 0.01273687, 0.01129036, 0.015934104, 0.011043167, 0.013095533, 0.013633141, 0.011471413, 0.013155333, 0.012758167, 0.011836807, 0.0121027315, 0.011239301, 0.012075312, 0.01102195, 0.013222221, 0.0115006305, 0.011242256, 0.012457033, 0.011511228, 0.01307236, 0.011417058, 0.012074673, 0.011493765, 0.013685061, 0.013288757, 0.017988794, 0.016597671, 0.01475614, 0.011606795, 0.011822171, 0.011641359, 0.016877392, 0.0134902755, 0.044540003, 0.013191577]\n",
      "2022-02-23 14:33:07,836 : INFO : merging changes from 1204 documents into a model of 3204 documents\n",
      "2022-02-23 14:33:07,848 : INFO : topic #30 (0.010): 0.124*\"loop\" + 0.094*\"document\" + 0.055*\",\" + 0.054*\"invari\" + 0.046*\"-\" + 0.036*\"access\" + 0.036*\"index\" + 0.032*\"10\" + 0.029*\"(\" + 0.029*\"object\"\n",
      "2022-02-23 14:33:07,848 : INFO : topic #63 (0.010): 0.113*\"area\" + 0.111*\"optimum\" + 0.100*\"read\" + 0.073*\"write\" + 0.065*\"sourc\" + 0.052*\"time\" + 0.033*\"number\" + 0.027*\"expect\" + 0.022*\"/\" + 0.021*\",\"\n",
      "2022-02-23 14:33:07,849 : INFO : topic #96 (0.017): 0.518*\"\"\" + 0.111*\"set\" + 0.081*\"work\" + 0.040*\"behavior\" + 0.032*\",\"\" + 0.028*\",\" + 0.026*\"balanc\" + 0.020*\"model\" + 0.017*\"page\" + 0.013*\"process\"\n",
      "2022-02-23 14:33:07,850 : INFO : topic #90 (0.018): 0.596*\"method\" + 0.136*\"'\" + 0.046*\"reduct\" + 0.031*\"paramet\" + 0.027*\"effici\" + 0.017*\"gener\" + 0.016*\",\" + 0.016*\"improv\" + 0.014*\"shown\" + 0.013*\"show\"\n",
      "2022-02-23 14:33:07,850 : INFO : topic #98 (0.045): 0.358*\"algorithm\" + 0.246*\"(\" + 0.189*\")\" + 0.110*\"[\" + 0.050*\"])\" + 0.012*\"function\" + 0.012*\"matrix\" + 0.005*\"s22\" + 0.004*\"e4\" + 0.004*\"minim\"\n",
      "2022-02-23 14:33:07,851 : INFO : topic diff=0.279033, rho=0.261694\n",
      "2022-02-23 14:33:07,859 : INFO : PROGRESS: pass 13, at document #2000/3204\n",
      "2022-02-23 14:33:09,068 : INFO : optimized alpha [0.0108299265, 0.012987661, 0.0114361625, 0.012415765, 0.012065208, 0.010686612, 0.010736521, 0.011891721, 0.0138658155, 0.011222564, 0.010264127, 0.011903072, 0.0113716945, 0.012333636, 0.011931998, 0.01159424, 0.01339185, 0.0115170805, 0.011947104, 0.011314522, 0.011646625, 0.012932704, 0.013639339, 0.012531983, 0.01315827, 0.012203621, 0.013090775, 0.011743075, 0.010489235, 0.010880308, 0.009664531, 0.012434534, 0.011934872, 0.011625405, 0.012694873, 0.012476325, 0.013248801, 0.0124997385, 0.011113285, 0.014019376, 0.014914131, 0.0107547175, 0.0109038055, 0.01146997, 0.010890959, 0.01239142, 0.011476826, 0.016939213, 0.012173041, 0.012012933, 0.01613678, 0.014216234, 0.011420467, 0.010499398, 0.012159814, 0.011167897, 0.012176135, 0.013414754, 0.011467788, 0.011950004, 0.010648256, 0.011928461, 0.014283931, 0.0101031, 0.010600241, 0.012789571, 0.011368042, 0.01592797, 0.0110654775, 0.013172737, 0.013866808, 0.0115876235, 0.013250933, 0.0127631, 0.0118976105, 0.012181842, 0.011341442, 0.01211859, 0.010990524, 0.01325738, 0.01149521, 0.011238614, 0.012516247, 0.011501205, 0.013138092, 0.011437954, 0.012102133, 0.011541226, 0.013800335, 0.013414204, 0.018294772, 0.016778337, 0.015016883, 0.011658013, 0.011801648, 0.011646186, 0.017002562, 0.013628785, 0.047165915, 0.0131870685]\n",
      "2022-02-23 14:33:09,077 : INFO : merging changes from 2000 documents into a model of 3204 documents\n",
      "2022-02-23 14:33:09,090 : INFO : topic #30 (0.010): 0.107*\"loop\" + 0.096*\"document\" + 0.057*\",\" + 0.047*\"invari\" + 0.044*\"-\" + 0.039*\"index\" + 0.035*\"access\" + 0.031*\"10\" + 0.030*\"legendr\" + 0.029*\"object\"\n",
      "2022-02-23 14:33:09,092 : INFO : topic #63 (0.010): 0.109*\"area\" + 0.102*\"read\" + 0.100*\"optimum\" + 0.074*\"write\" + 0.062*\"sourc\" + 0.050*\"time\" + 0.032*\"number\" + 0.027*\"expect\" + 0.023*\"/\" + 0.022*\",\"\n",
      "2022-02-23 14:33:09,093 : INFO : topic #96 (0.017): 0.527*\"\"\" + 0.107*\"set\" + 0.076*\"work\" + 0.038*\"behavior\" + 0.031*\",\"\" + 0.028*\",\" + 0.023*\"balanc\" + 0.020*\"model\" + 0.016*\"page\" + 0.015*\"process\"\n",
      "2022-02-23 14:33:09,094 : INFO : topic #90 (0.018): 0.604*\"method\" + 0.132*\"'\" + 0.044*\"reduct\" + 0.030*\"paramet\" + 0.028*\"effici\" + 0.017*\"improv\" + 0.016*\"gener\" + 0.016*\",\" + 0.014*\"shown\" + 0.012*\"show\"\n",
      "2022-02-23 14:33:09,094 : INFO : topic #98 (0.047): 0.345*\"algorithm\" + 0.250*\"(\" + 0.182*\")\" + 0.111*\"[\" + 0.065*\"])\" + 0.012*\"matrix\" + 0.012*\"function\" + 0.005*\"s22\" + 0.004*\"e4\" + 0.004*\"f1\"\n",
      "2022-02-23 14:33:09,095 : INFO : topic diff=0.244568, rho=0.253169\n",
      "2022-02-23 14:33:10,440 : INFO : -6.465 per-word bound, 88.3 perplexity estimate based on a held-out corpus of 1204 documents with 49783 words\n",
      "2022-02-23 14:33:10,441 : INFO : PROGRESS: pass 13, at document #3204/3204\n",
      "2022-02-23 14:33:11,532 : INFO : optimized alpha [0.01094045, 0.013209094, 0.0115292845, 0.012555771, 0.012209135, 0.010727977, 0.010802265, 0.012005886, 0.013933527, 0.011304117, 0.010349173, 0.011988799, 0.011464434, 0.012512915, 0.012072418, 0.0117513165, 0.013629307, 0.0116313705, 0.012016611, 0.011391633, 0.011774403, 0.013168545, 0.01381087, 0.012703412, 0.01338521, 0.012362681, 0.013159031, 0.0119257895, 0.010580633, 0.010980103, 0.009699787, 0.012593954, 0.012011529, 0.011787694, 0.012854241, 0.012690379, 0.013432807, 0.01260376, 0.011207079, 0.014318906, 0.015129078, 0.010794577, 0.011023628, 0.011606376, 0.011017201, 0.012600623, 0.011564566, 0.017466161, 0.012269628, 0.012236099, 0.016374243, 0.014436924, 0.011496009, 0.010559245, 0.0122626955, 0.011325859, 0.0123330215, 0.013580228, 0.011558363, 0.012143547, 0.010736274, 0.011999709, 0.014532846, 0.010136474, 0.010668867, 0.012986298, 0.011426232, 0.01629652, 0.011194994, 0.013353339, 0.013946057, 0.011704903, 0.013454507, 0.012970262, 0.012026926, 0.012356632, 0.011409626, 0.012298619, 0.011092034, 0.013491748, 0.011646174, 0.011363099, 0.012635621, 0.011628619, 0.013311649, 0.011547843, 0.012281279, 0.011688874, 0.014046755, 0.013676512, 0.018815942, 0.017183457, 0.015233727, 0.011738233, 0.011934838, 0.011756367, 0.017360598, 0.013725691, 0.047841094, 0.0134483045]\n",
      "2022-02-23 14:33:11,542 : INFO : merging changes from 1204 documents into a model of 3204 documents\n",
      "2022-02-23 14:33:11,554 : INFO : topic #30 (0.010): 0.126*\"loop\" + 0.096*\"document\" + 0.055*\"invari\" + 0.054*\",\" + 0.043*\"access\" + 0.042*\"-\" + 0.036*\"index\" + 0.032*\"object\" + 0.030*\"establish\" + 0.028*\"10\"\n",
      "2022-02-23 14:33:11,555 : INFO : topic #63 (0.010): 0.114*\"area\" + 0.112*\"optimum\" + 0.102*\"read\" + 0.075*\"write\" + 0.064*\"sourc\" + 0.055*\"time\" + 0.034*\"number\" + 0.028*\"expect\" + 0.021*\"/\" + 0.021*\"develop\"\n",
      "2022-02-23 14:33:11,556 : INFO : topic #47 (0.017): 0.371*\"(\" + 0.336*\")\" + 0.056*\"function\" + 0.044*\";\" + 0.044*\"1\" + 0.029*\"2\" + 0.023*\"corrigendum\" + 0.021*\"gamma\" + 0.012*\"nest\" + 0.011*\"s14\"\n",
      "2022-02-23 14:33:11,557 : INFO : topic #90 (0.019): 0.607*\"method\" + 0.133*\"'\" + 0.045*\"reduct\" + 0.030*\"paramet\" + 0.027*\"effici\" + 0.017*\"improv\" + 0.016*\",\" + 0.016*\"gener\" + 0.014*\"shown\" + 0.013*\"show\"\n",
      "2022-02-23 14:33:11,558 : INFO : topic #98 (0.048): 0.357*\"algorithm\" + 0.246*\"(\" + 0.189*\")\" + 0.111*\"[\" + 0.051*\"])\" + 0.012*\"matrix\" + 0.012*\"function\" + 0.005*\"s22\" + 0.004*\"e4\" + 0.004*\"minim\"\n",
      "2022-02-23 14:33:11,560 : INFO : topic diff=0.250429, rho=0.253169\n",
      "2022-02-23 14:33:11,573 : INFO : PROGRESS: pass 14, at document #2000/3204\n",
      "2022-02-23 14:33:12,645 : INFO : optimized alpha [0.010934776, 0.013261395, 0.0115531, 0.012627044, 0.012203207, 0.010761969, 0.010854524, 0.012023082, 0.014157097, 0.011324615, 0.010351383, 0.012041747, 0.011469903, 0.012597052, 0.012082082, 0.011756173, 0.013648029, 0.01167551, 0.012109318, 0.011453089, 0.011806727, 0.013154191, 0.013844956, 0.012732214, 0.013426773, 0.012368794, 0.013290991, 0.011973591, 0.010615092, 0.010966234, 0.009702277, 0.012612659, 0.012108476, 0.011802649, 0.012942774, 0.012733975, 0.013485972, 0.012677097, 0.011203154, 0.014455645, 0.015378446, 0.010859159, 0.011011842, 0.011604802, 0.01104627, 0.012565028, 0.011668026, 0.017867358, 0.012347151, 0.012252189, 0.016649615, 0.014564154, 0.011528236, 0.010576836, 0.012358027, 0.011326581, 0.012352843, 0.013677453, 0.011617823, 0.012177993, 0.010771283, 0.012104167, 0.01457765, 0.010149928, 0.010714886, 0.013035829, 0.011505047, 0.016290175, 0.011222153, 0.013430071, 0.014177893, 0.011827624, 0.01355452, 0.012975976, 0.01208775, 0.012440073, 0.011523708, 0.012340522, 0.0110630235, 0.013525357, 0.011643549, 0.011360875, 0.012695067, 0.011615881, 0.013375538, 0.011565365, 0.012304677, 0.011753882, 0.014171753, 0.01379608, 0.019125436, 0.01736453, 0.015491378, 0.011788287, 0.011919091, 0.01176107, 0.017466964, 0.013861396, 0.05054532, 0.01344779]\n",
      "2022-02-23 14:33:12,653 : INFO : merging changes from 2000 documents into a model of 3204 documents\n",
      "2022-02-23 14:33:12,666 : INFO : topic #30 (0.010): 0.110*\"loop\" + 0.098*\"document\" + 0.056*\",\" + 0.048*\"invari\" + 0.041*\"access\" + 0.041*\"-\" + 0.040*\"index\" + 0.031*\"object\" + 0.030*\"legendr\" + 0.027*\"10\"\n",
      "2022-02-23 14:33:12,666 : INFO : topic #63 (0.010): 0.110*\"area\" + 0.104*\"read\" + 0.101*\"optimum\" + 0.076*\"write\" + 0.062*\"sourc\" + 0.052*\"time\" + 0.032*\"number\" + 0.028*\"expect\" + 0.022*\"/\" + 0.021*\",\"\n",
      "2022-02-23 14:33:12,668 : INFO : topic #47 (0.018): 0.371*\"(\" + 0.338*\")\" + 0.058*\"function\" + 0.043*\"1\" + 0.041*\";\" + 0.029*\"2\" + 0.021*\"gamma\" + 0.020*\"corrigendum\" + 0.013*\"s14\" + 0.012*\"nest\"\n",
      "2022-02-23 14:33:12,668 : INFO : topic #90 (0.019): 0.613*\"method\" + 0.129*\"'\" + 0.044*\"reduct\" + 0.028*\"paramet\" + 0.028*\"effici\" + 0.017*\"improv\" + 0.016*\",\" + 0.015*\"gener\" + 0.014*\"shown\" + 0.012*\"show\"\n",
      "2022-02-23 14:33:12,669 : INFO : topic #98 (0.051): 0.345*\"algorithm\" + 0.251*\"(\" + 0.181*\")\" + 0.112*\"[\" + 0.065*\"])\" + 0.012*\"matrix\" + 0.012*\"function\" + 0.005*\"s22\" + 0.004*\"e4\" + 0.004*\"f1\"\n",
      "2022-02-23 14:33:12,670 : INFO : topic diff=0.220773, rho=0.245426\n",
      "2022-02-23 14:33:13,853 : INFO : -6.456 per-word bound, 87.8 perplexity estimate based on a held-out corpus of 1204 documents with 49783 words\n",
      "2022-02-23 14:33:13,853 : INFO : PROGRESS: pass 14, at document #3204/3204\n",
      "2022-02-23 14:33:14,827 : INFO : optimized alpha [0.011049529, 0.0134787755, 0.011646476, 0.012763906, 0.012348912, 0.010804603, 0.0109231, 0.012139594, 0.014227604, 0.011406599, 0.0104408795, 0.0121178515, 0.011562811, 0.012775604, 0.012214357, 0.01191231, 0.013883663, 0.011799342, 0.012174433, 0.011535297, 0.0119316615, 0.01338562, 0.014006969, 0.012915822, 0.013652158, 0.012534606, 0.013359769, 0.012157746, 0.0107152285, 0.011063796, 0.009738896, 0.012760758, 0.012183081, 0.0119591905, 0.013098721, 0.012949466, 0.013663313, 0.012778576, 0.011299371, 0.014763245, 0.015588957, 0.010904738, 0.011126674, 0.011731053, 0.011174411, 0.012769942, 0.011755876, 0.01840628, 0.0124439085, 0.012476514, 0.016892506, 0.01478356, 0.01159485, 0.010639714, 0.012453241, 0.011483641, 0.012508975, 0.013839342, 0.0117085595, 0.012363006, 0.010861739, 0.012175874, 0.014834023, 0.010186768, 0.010781844, 0.0132340705, 0.0115663875, 0.016658993, 0.011351203, 0.013601344, 0.014259796, 0.011947065, 0.013759756, 0.013181703, 0.01221417, 0.012606535, 0.011589994, 0.012514557, 0.0111668315, 0.013755467, 0.011798513, 0.01148485, 0.012806338, 0.011745105, 0.01355082, 0.01167512, 0.012475214, 0.011895977, 0.014434482, 0.014060108, 0.019651163, 0.017775683, 0.015703673, 0.0118665155, 0.012051646, 0.011868717, 0.017815493, 0.013958433, 0.051151335, 0.013704392]\n",
      "2022-02-23 14:33:14,833 : INFO : merging changes from 1204 documents into a model of 3204 documents\n",
      "2022-02-23 14:33:14,845 : INFO : topic #30 (0.010): 0.127*\"loop\" + 0.098*\"document\" + 0.056*\"invari\" + 0.053*\",\" + 0.053*\"access\" + 0.039*\"-\" + 0.036*\"index\" + 0.034*\"object\" + 0.034*\"establish\" + 0.026*\"legendr\"\n",
      "2022-02-23 14:33:14,845 : INFO : topic #63 (0.010): 0.115*\"area\" + 0.113*\"optimum\" + 0.105*\"read\" + 0.076*\"write\" + 0.063*\"sourc\" + 0.057*\"time\" + 0.034*\"number\" + 0.030*\"expect\" + 0.021*\"futur\" + 0.021*\"develop\"\n",
      "2022-02-23 14:33:14,846 : INFO : topic #47 (0.018): 0.377*\"(\" + 0.341*\")\" + 0.055*\"function\" + 0.042*\";\" + 0.042*\"1\" + 0.027*\"2\" + 0.023*\"corrigendum\" + 0.021*\"gamma\" + 0.012*\"nest\" + 0.011*\"s14\"\n",
      "2022-02-23 14:33:14,847 : INFO : topic #90 (0.020): 0.614*\"method\" + 0.132*\"'\" + 0.045*\"reduct\" + 0.029*\"paramet\" + 0.027*\"effici\" + 0.017*\"improv\" + 0.015*\",\" + 0.014*\"shown\" + 0.014*\"gener\" + 0.013*\"show\"\n",
      "2022-02-23 14:33:14,848 : INFO : topic #98 (0.051): 0.356*\"algorithm\" + 0.247*\"(\" + 0.188*\")\" + 0.111*\"[\" + 0.051*\"])\" + 0.012*\"matrix\" + 0.012*\"function\" + 0.005*\"s22\" + 0.004*\"e4\" + 0.004*\"minim\"\n",
      "2022-02-23 14:33:14,849 : INFO : topic diff=0.226634, rho=0.245426\n",
      "2022-02-23 14:33:14,859 : INFO : PROGRESS: pass 15, at document #2000/3204\n",
      "2022-02-23 14:33:15,800 : INFO : optimized alpha [0.01104927, 0.013529414, 0.0116740065, 0.012841252, 0.012344439, 0.010840641, 0.010974306, 0.012160753, 0.014449515, 0.011426756, 0.010438077, 0.012171193, 0.011569623, 0.012867449, 0.012225075, 0.011921055, 0.01390279, 0.011849537, 0.012266818, 0.011598255, 0.011967432, 0.013373946, 0.014036612, 0.012942017, 0.013700287, 0.012546242, 0.013490827, 0.012208635, 0.010754059, 0.011053055, 0.009742781, 0.012780356, 0.012278186, 0.011973404, 0.013182205, 0.012996282, 0.0137133235, 0.012847352, 0.011299738, 0.014899182, 0.015826156, 0.010964123, 0.011117847, 0.011733601, 0.011206768, 0.012739134, 0.011857501, 0.018808717, 0.012521345, 0.012491485, 0.017166918, 0.014911775, 0.011620903, 0.010655815, 0.012546788, 0.011488147, 0.012528114, 0.013942713, 0.011765414, 0.012402361, 0.010899982, 0.012279763, 0.01487883, 0.010200179, 0.010832111, 0.013283758, 0.011647863, 0.01665066, 0.011381714, 0.013677873, 0.0144884745, 0.012081967, 0.013852744, 0.013186588, 0.012273616, 0.012691356, 0.0117034465, 0.012555239, 0.01114138, 0.013792509, 0.0117942095, 0.011483964, 0.012870519, 0.011736786, 0.013616271, 0.011696409, 0.012503813, 0.0119623095, 0.014553603, 0.014175556, 0.019971052, 0.017955147, 0.01595848, 0.011909851, 0.012040574, 0.011873379, 0.017911995, 0.014091615, 0.05391722, 0.01370604]\n",
      "2022-02-23 14:33:15,807 : INFO : merging changes from 2000 documents into a model of 3204 documents\n",
      "2022-02-23 14:33:15,818 : INFO : topic #30 (0.010): 0.112*\"loop\" + 0.099*\"document\" + 0.055*\",\" + 0.050*\"access\" + 0.049*\"invari\" + 0.040*\"index\" + 0.037*\"-\" + 0.034*\"object\" + 0.030*\"establish\" + 0.030*\"legendr\"\n",
      "2022-02-23 14:33:15,819 : INFO : topic #63 (0.010): 0.111*\"area\" + 0.107*\"read\" + 0.103*\"optimum\" + 0.077*\"write\" + 0.062*\"sourc\" + 0.054*\"time\" + 0.033*\"number\" + 0.030*\"expect\" + 0.021*\"futur\" + 0.021*\",\"\n",
      "2022-02-23 14:33:15,819 : INFO : topic #47 (0.019): 0.376*\"(\" + 0.343*\")\" + 0.057*\"function\" + 0.041*\"1\" + 0.040*\";\" + 0.028*\"2\" + 0.021*\"gamma\" + 0.020*\"corrigendum\" + 0.012*\"s14\" + 0.012*\"nest\"\n",
      "2022-02-23 14:33:15,820 : INFO : topic #90 (0.020): 0.621*\"method\" + 0.128*\"'\" + 0.043*\"reduct\" + 0.028*\"effici\" + 0.028*\"paramet\" + 0.018*\"improv\" + 0.015*\",\" + 0.014*\"shown\" + 0.014*\"gener\" + 0.012*\"show\"\n",
      "2022-02-23 14:33:15,821 : INFO : topic #98 (0.054): 0.344*\"algorithm\" + 0.251*\"(\" + 0.181*\")\" + 0.112*\"[\" + 0.065*\"])\" + 0.013*\"matrix\" + 0.012*\"function\" + 0.005*\"s22\" + 0.004*\"e4\" + 0.003*\"f1\"\n",
      "2022-02-23 14:33:15,822 : INFO : topic diff=0.200958, rho=0.238352\n",
      "2022-02-23 14:33:16,849 : INFO : -6.449 per-word bound, 87.4 perplexity estimate based on a held-out corpus of 1204 documents with 49783 words\n",
      "2022-02-23 14:33:16,850 : INFO : PROGRESS: pass 15, at document #3204/3204\n",
      "2022-02-23 14:33:17,727 : INFO : optimized alpha [0.011157229, 0.013748363, 0.011769951, 0.012970114, 0.0124846855, 0.010884542, 0.011039174, 0.012272317, 0.014517318, 0.011506977, 0.010531976, 0.012245526, 0.011660541, 0.013037869, 0.012354633, 0.012078835, 0.014134328, 0.011982774, 0.012330244, 0.011680883, 0.012092172, 0.013606559, 0.014192476, 0.013119604, 0.013919109, 0.0127088465, 0.013554886, 0.012392108, 0.010856358, 0.011150757, 0.009778749, 0.01292536, 0.012355748, 0.012126914, 0.013337664, 0.013210892, 0.013889795, 0.012949046, 0.011393895, 0.015212413, 0.016044859, 0.011019596, 0.011234753, 0.011859548, 0.011332421, 0.012932509, 0.011943268, 0.019367661, 0.012613352, 0.012717191, 0.017408805, 0.0151331145, 0.011688443, 0.010717377, 0.012644732, 0.011646762, 0.012686181, 0.014104038, 0.011854118, 0.012589195, 0.010988495, 0.012349615, 0.0151277585, 0.010236379, 0.010901817, 0.013475817, 0.011705392, 0.01702348, 0.011514968, 0.013845679, 0.014570306, 0.01221087, 0.014054369, 0.013383247, 0.012397401, 0.0128599545, 0.011772663, 0.012728566, 0.011245183, 0.014018669, 0.011955505, 0.011605309, 0.012984381, 0.01186097, 0.013790797, 0.011801506, 0.012678722, 0.012118409, 0.0148156425, 0.014438822, 0.020497443, 0.018365521, 0.016169598, 0.011979088, 0.012172765, 0.011978731, 0.018247759, 0.014186071, 0.0544168, 0.013977572]\n",
      "2022-02-23 14:33:17,737 : INFO : merging changes from 1204 documents into a model of 3204 documents\n",
      "2022-02-23 14:33:17,752 : INFO : topic #30 (0.010): 0.128*\"loop\" + 0.099*\"document\" + 0.062*\"access\" + 0.056*\"invari\" + 0.052*\",\" + 0.037*\"index\" + 0.036*\"establish\" + 0.036*\"object\" + 0.035*\"-\" + 0.027*\"legendr\"\n",
      "2022-02-23 14:33:17,753 : INFO : topic #63 (0.010): 0.116*\"area\" + 0.114*\"optimum\" + 0.108*\"read\" + 0.077*\"write\" + 0.063*\"sourc\" + 0.059*\"time\" + 0.034*\"number\" + 0.033*\"expect\" + 0.023*\"futur\" + 0.021*\"develop\"\n",
      "2022-02-23 14:33:17,755 : INFO : topic #47 (0.019): 0.381*\"(\" + 0.345*\")\" + 0.054*\"function\" + 0.040*\";\" + 0.040*\"1\" + 0.026*\"2\" + 0.023*\"corrigendum\" + 0.021*\"gamma\" + 0.012*\"nest\" + 0.011*\"s14\"\n",
      "2022-02-23 14:33:17,760 : INFO : topic #90 (0.020): 0.621*\"method\" + 0.130*\"'\" + 0.045*\"reduct\" + 0.028*\"paramet\" + 0.028*\"effici\" + 0.018*\"improv\" + 0.015*\",\" + 0.015*\"shown\" + 0.013*\"gener\" + 0.013*\"show\"\n",
      "2022-02-23 14:33:17,763 : INFO : topic #98 (0.054): 0.355*\"algorithm\" + 0.247*\"(\" + 0.188*\")\" + 0.112*\"[\" + 0.052*\"])\" + 0.012*\"matrix\" + 0.011*\"function\" + 0.005*\"s22\" + 0.004*\"e4\" + 0.004*\"minim\"\n",
      "2022-02-23 14:33:17,765 : INFO : topic diff=0.206698, rho=0.238352\n",
      "2022-02-23 14:33:17,777 : INFO : PROGRESS: pass 16, at document #2000/3204\n",
      "2022-02-23 14:33:18,897 : INFO : optimized alpha [0.011155636, 0.013795827, 0.011792795, 0.013054955, 0.012477252, 0.0109212585, 0.011091921, 0.012291648, 0.014741117, 0.011525495, 0.010534209, 0.012295002, 0.01166866, 0.0131296385, 0.012367918, 0.012081422, 0.014153879, 0.012036088, 0.012419494, 0.011748069, 0.012125714, 0.013592639, 0.014224684, 0.013143306, 0.013967305, 0.012718399, 0.01368369, 0.012438844, 0.010895663, 0.011140358, 0.009789662, 0.012942814, 0.012449116, 0.01214195, 0.013419464, 0.013257792, 0.013940028, 0.013021017, 0.011394349, 0.015356719, 0.01628312, 0.011081854, 0.011230007, 0.011863314, 0.011370642, 0.012910883, 0.012043094, 0.019782534, 0.012687839, 0.0127340425, 0.017692687, 0.015255432, 0.011714125, 0.010735848, 0.012736573, 0.011652148, 0.0127046285, 0.01420868, 0.01191124, 0.012625878, 0.011028519, 0.012458727, 0.015172653, 0.010249803, 0.010952402, 0.013525707, 0.011788121, 0.017018972, 0.0115460735, 0.013917207, 0.014797816, 0.012346735, 0.014148655, 0.013390686, 0.012455564, 0.0129431235, 0.011887013, 0.012757736, 0.011219126, 0.014059163, 0.011948082, 0.011601573, 0.013050316, 0.011855563, 0.013854678, 0.011822389, 0.012712353, 0.012194696, 0.014935898, 0.014555357, 0.020828439, 0.01853284, 0.016431037, 0.012022974, 0.012167522, 0.011983309, 0.01833462, 0.01431859, 0.057213344, 0.013986204]\n",
      "2022-02-23 14:33:18,904 : INFO : merging changes from 2000 documents into a model of 3204 documents\n",
      "2022-02-23 14:33:18,916 : INFO : topic #30 (0.010): 0.112*\"loop\" + 0.101*\"document\" + 0.057*\"access\" + 0.053*\",\" + 0.050*\"invari\" + 0.041*\"index\" + 0.037*\"object\" + 0.034*\"-\" + 0.033*\"establish\" + 0.030*\"legendr\"\n",
      "2022-02-23 14:33:18,916 : INFO : topic #63 (0.010): 0.112*\"area\" + 0.110*\"read\" + 0.104*\"optimum\" + 0.079*\"write\" + 0.061*\"sourc\" + 0.057*\"time\" + 0.033*\"number\" + 0.032*\"expect\" + 0.023*\"futur\" + 0.020*\"develop\"\n",
      "2022-02-23 14:33:18,917 : INFO : topic #47 (0.020): 0.380*\"(\" + 0.347*\")\" + 0.056*\"function\" + 0.039*\"1\" + 0.038*\";\" + 0.026*\"2\" + 0.021*\"gamma\" + 0.020*\"corrigendum\" + 0.012*\"s14\" + 0.011*\"nest\"\n",
      "2022-02-23 14:33:18,918 : INFO : topic #90 (0.021): 0.628*\"method\" + 0.126*\"'\" + 0.043*\"reduct\" + 0.029*\"effici\" + 0.027*\"paramet\" + 0.018*\"improv\" + 0.015*\",\" + 0.015*\"shown\" + 0.013*\"gener\" + 0.012*\"show\"\n",
      "2022-02-23 14:33:18,919 : INFO : topic #98 (0.057): 0.343*\"algorithm\" + 0.251*\"(\" + 0.181*\")\" + 0.113*\"[\" + 0.065*\"])\" + 0.013*\"matrix\" + 0.012*\"function\" + 0.005*\"s22\" + 0.004*\"e4\" + 0.003*\"f1\"\n",
      "2022-02-23 14:33:18,920 : INFO : topic diff=0.184727, rho=0.231857\n",
      "2022-02-23 14:33:20,213 : INFO : -6.443 per-word bound, 87.0 perplexity estimate based on a held-out corpus of 1204 documents with 49783 words\n",
      "2022-02-23 14:33:20,215 : INFO : PROGRESS: pass 16, at document #3204/3204\n",
      "2022-02-23 14:33:21,226 : INFO : optimized alpha [0.011265832, 0.014006021, 0.011886788, 0.013183716, 0.0126220165, 0.010962194, 0.01116394, 0.012398668, 0.014811922, 0.011601878, 0.010626298, 0.012370109, 0.011757796, 0.013299847, 0.01249977, 0.012238711, 0.014386971, 0.012164599, 0.012481387, 0.011831157, 0.012250342, 0.013824149, 0.014374662, 0.0133177545, 0.014185346, 0.012882968, 0.013743302, 0.012626594, 0.011002347, 0.011240523, 0.00982879, 0.01308494, 0.012529675, 0.012297368, 0.013571917, 0.013463991, 0.014110534, 0.013120533, 0.011488807, 0.015669903, 0.016494688, 0.01113185, 0.011340281, 0.011986802, 0.011496244, 0.013100849, 0.012133887, 0.020358173, 0.012785317, 0.012963965, 0.017937219, 0.015475905, 0.011778063, 0.010792032, 0.0128422165, 0.0118125295, 0.012862395, 0.014375141, 0.011998071, 0.012814676, 0.011119548, 0.012526847, 0.0154147055, 0.0102853775, 0.011024846, 0.013717099, 0.011853306, 0.017396245, 0.011672437, 0.014079148, 0.014868279, 0.012475674, 0.014349658, 0.013589141, 0.012574499, 0.013103888, 0.01195909, 0.012933031, 0.011320803, 0.014284486, 0.012118218, 0.011725046, 0.013156803, 0.011977315, 0.014025963, 0.011929993, 0.012881873, 0.012355389, 0.015203414, 0.014820925, 0.021367326, 0.018942658, 0.016637934, 0.012093135, 0.012299522, 0.012086564, 0.018657919, 0.014410628, 0.05761589, 0.014254048]\n",
      "2022-02-23 14:33:21,234 : INFO : merging changes from 1204 documents into a model of 3204 documents\n",
      "2022-02-23 14:33:21,246 : INFO : topic #30 (0.010): 0.128*\"loop\" + 0.100*\"document\" + 0.069*\"access\" + 0.056*\"invari\" + 0.051*\",\" + 0.038*\"object\" + 0.037*\"index\" + 0.037*\"establish\" + 0.032*\"-\" + 0.027*\"legendr\"\n",
      "2022-02-23 14:33:21,248 : INFO : topic #63 (0.010): 0.119*\"area\" + 0.114*\"optimum\" + 0.110*\"read\" + 0.079*\"write\" + 0.062*\"sourc\" + 0.062*\"time\" + 0.035*\"expect\" + 0.034*\"number\" + 0.025*\"futur\" + 0.021*\"develop\"\n",
      "2022-02-23 14:33:21,248 : INFO : topic #47 (0.020): 0.385*\"(\" + 0.349*\")\" + 0.053*\"function\" + 0.038*\";\" + 0.037*\"1\" + 0.025*\"2\" + 0.022*\"corrigendum\" + 0.020*\"gamma\" + 0.012*\"nest\" + 0.010*\"s14\"\n",
      "2022-02-23 14:33:21,250 : INFO : topic #90 (0.021): 0.628*\"method\" + 0.128*\"'\" + 0.045*\"reduct\" + 0.028*\"effici\" + 0.027*\"paramet\" + 0.018*\"improv\" + 0.015*\"shown\" + 0.015*\",\" + 0.013*\"show\" + 0.012*\"gener\"\n",
      "2022-02-23 14:33:21,250 : INFO : topic #98 (0.058): 0.354*\"algorithm\" + 0.247*\"(\" + 0.187*\")\" + 0.113*\"[\" + 0.053*\"])\" + 0.012*\"matrix\" + 0.011*\"function\" + 0.005*\"s22\" + 0.004*\"e4\" + 0.003*\"minim\"\n",
      "2022-02-23 14:33:21,251 : INFO : topic diff=0.190452, rho=0.231857\n",
      "2022-02-23 14:33:21,261 : INFO : PROGRESS: pass 17, at document #2000/3204\n",
      "2022-02-23 14:33:22,284 : INFO : optimized alpha [0.011265521, 0.01404884, 0.011911919, 0.013270041, 0.01262312, 0.0109983925, 0.0112157585, 0.012417584, 0.015037972, 0.011622759, 0.010629671, 0.012415869, 0.011764543, 0.013393085, 0.012511225, 0.012245116, 0.014403753, 0.012218295, 0.012569151, 0.011901147, 0.012285896, 0.0138096325, 0.014409371, 0.013346624, 0.014230478, 0.012899284, 0.013869993, 0.012676406, 0.011045903, 0.011234268, 0.009841941, 0.013103341, 0.012620066, 0.012307646, 0.013653601, 0.013511156, 0.01416429, 0.013192721, 0.011490643, 0.015819078, 0.01673229, 0.011187917, 0.011331759, 0.011989056, 0.011540175, 0.013079163, 0.0122348955, 0.02077178, 0.012862848, 0.012981225, 0.018220965, 0.015602989, 0.011807461, 0.010809096, 0.012933991, 0.0118174935, 0.012880225, 0.014479484, 0.012056894, 0.012851724, 0.011162618, 0.012634129, 0.015458016, 0.010299961, 0.011077041, 0.013768837, 0.011944114, 0.01739159, 0.0117015345, 0.014150695, 0.015096402, 0.012615466, 0.0144486325, 0.013597372, 0.012628678, 0.013185632, 0.01207446, 0.012961312, 0.0112967165, 0.014322017, 0.012110574, 0.0117199635, 0.013221526, 0.011969145, 0.014088388, 0.011951793, 0.01292193, 0.012440024, 0.015330109, 0.014935369, 0.021709528, 0.019117143, 0.016902484, 0.012128044, 0.012295704, 0.012091109, 0.018737676, 0.014542694, 0.06050916, 0.014256555]\n",
      "2022-02-23 14:33:22,292 : INFO : merging changes from 2000 documents into a model of 3204 documents\n",
      "2022-02-23 14:33:22,304 : INFO : topic #30 (0.010): 0.113*\"loop\" + 0.101*\"document\" + 0.063*\"access\" + 0.052*\",\" + 0.050*\"invari\" + 0.041*\"index\" + 0.038*\"object\" + 0.034*\"establish\" + 0.033*\"kind\" + 0.032*\"-\"\n",
      "2022-02-23 14:33:22,305 : INFO : topic #63 (0.010): 0.115*\"area\" + 0.112*\"read\" + 0.105*\"optimum\" + 0.081*\"write\" + 0.061*\"sourc\" + 0.059*\"time\" + 0.033*\"expect\" + 0.033*\"number\" + 0.025*\"futur\" + 0.020*\"develop\"\n",
      "2022-02-23 14:33:22,306 : INFO : topic #47 (0.021): 0.384*\"(\" + 0.350*\")\" + 0.055*\"function\" + 0.037*\"1\" + 0.036*\";\" + 0.026*\"2\" + 0.020*\"gamma\" + 0.019*\"corrigendum\" + 0.012*\"s14\" + 0.011*\"nest\"\n",
      "2022-02-23 14:33:22,307 : INFO : topic #90 (0.022): 0.633*\"method\" + 0.125*\"'\" + 0.043*\"reduct\" + 0.029*\"effici\" + 0.026*\"paramet\" + 0.019*\"improv\" + 0.015*\",\" + 0.015*\"shown\" + 0.012*\"show\" + 0.012*\"gener\"\n",
      "2022-02-23 14:33:22,309 : INFO : topic #98 (0.061): 0.343*\"algorithm\" + 0.251*\"(\" + 0.180*\")\" + 0.114*\"[\" + 0.066*\"])\" + 0.013*\"matrix\" + 0.011*\"function\" + 0.005*\"s22\" + 0.004*\"e4\" + 0.003*\"f1\"\n",
      "2022-02-23 14:33:22,311 : INFO : topic diff=0.171283, rho=0.225865\n",
      "2022-02-23 14:33:23,456 : INFO : -6.437 per-word bound, 86.6 perplexity estimate based on a held-out corpus of 1204 documents with 49783 words\n",
      "2022-02-23 14:33:23,456 : INFO : PROGRESS: pass 17, at document #3204/3204\n",
      "2022-02-23 14:33:24,424 : INFO : optimized alpha [0.011373701, 0.014258463, 0.012001842, 0.013401373, 0.012765317, 0.011040684, 0.01128216, 0.012522726, 0.015108783, 0.011699912, 0.010720104, 0.012487076, 0.011852036, 0.01356837, 0.012635927, 0.012404366, 0.014633261, 0.012349314, 0.012632039, 0.01198482, 0.012405933, 0.014032252, 0.014559378, 0.013523325, 0.014442599, 0.013058692, 0.0139357215, 0.01288052, 0.011159048, 0.011334724, 0.009880433, 0.0132477805, 0.012698904, 0.0124581205, 0.01380596, 0.013719456, 0.014331817, 0.013290247, 0.011587681, 0.016141523, 0.016940013, 0.01123909, 0.0114400545, 0.012112553, 0.011670232, 0.013263468, 0.0123238275, 0.021348607, 0.012960718, 0.013210625, 0.0184684, 0.015831811, 0.011865706, 0.010864278, 0.0130351735, 0.011975283, 0.013032835, 0.0146457, 0.01214201, 0.013042743, 0.011249873, 0.01270059, 0.015693393, 0.010336932, 0.011150138, 0.013959953, 0.012012424, 0.017760715, 0.011830098, 0.014309729, 0.0151700415, 0.012751642, 0.014635731, 0.013795292, 0.012745391, 0.013348756, 0.012144925, 0.013146067, 0.011400819, 0.014546695, 0.012280234, 0.011845601, 0.013330745, 0.012088692, 0.014256721, 0.012059633, 0.013101153, 0.01260773, 0.015603185, 0.015200643, 0.022249578, 0.019526651, 0.017111575, 0.012196808, 0.012427669, 0.012192455, 0.01905956, 0.014632496, 0.060877055, 0.014523622]\n",
      "2022-02-23 14:33:24,432 : INFO : merging changes from 1204 documents into a model of 3204 documents\n",
      "2022-02-23 14:33:24,445 : INFO : topic #30 (0.010): 0.128*\"loop\" + 0.101*\"document\" + 0.073*\"access\" + 0.056*\"invari\" + 0.050*\",\" + 0.039*\"object\" + 0.038*\"establish\" + 0.037*\"index\" + 0.030*\"-\" + 0.028*\"kind\"\n",
      "2022-02-23 14:33:24,446 : INFO : topic #63 (0.010): 0.121*\"area\" + 0.115*\"optimum\" + 0.112*\"read\" + 0.080*\"write\" + 0.063*\"time\" + 0.061*\"sourc\" + 0.037*\"expect\" + 0.034*\"number\" + 0.026*\"futur\" + 0.021*\"develop\"\n",
      "2022-02-23 14:33:24,446 : INFO : topic #47 (0.021): 0.389*\"(\" + 0.352*\")\" + 0.052*\"function\" + 0.036*\";\" + 0.036*\"1\" + 0.024*\"2\" + 0.022*\"corrigendum\" + 0.020*\"gamma\" + 0.011*\"nest\" + 0.010*\"s14\"\n",
      "2022-02-23 14:33:24,447 : INFO : topic #90 (0.022): 0.633*\"method\" + 0.126*\"'\" + 0.044*\"reduct\" + 0.028*\"effici\" + 0.027*\"paramet\" + 0.018*\"improv\" + 0.015*\"shown\" + 0.014*\",\" + 0.013*\"show\" + 0.011*\"gener\"\n",
      "2022-02-23 14:33:24,448 : INFO : topic #98 (0.061): 0.354*\"algorithm\" + 0.248*\"(\" + 0.186*\")\" + 0.114*\"[\" + 0.054*\"])\" + 0.012*\"matrix\" + 0.011*\"function\" + 0.005*\"s22\" + 0.004*\"e4\" + 0.003*\"minim\"\n",
      "2022-02-23 14:33:24,451 : INFO : topic diff=0.176671, rho=0.225865\n",
      "2022-02-23 14:33:24,460 : INFO : PROGRESS: pass 18, at document #2000/3204\n",
      "2022-02-23 14:33:25,478 : INFO : optimized alpha [0.011375898, 0.01430323, 0.012029189, 0.013484793, 0.012763403, 0.011077584, 0.0113319075, 0.012541253, 0.015333923, 0.011719224, 0.010726969, 0.012527894, 0.0118626505, 0.01366015, 0.012647037, 0.012411693, 0.014655344, 0.012406148, 0.012718415, 0.012056338, 0.012440808, 0.014018733, 0.01460126, 0.013546837, 0.014489633, 0.013070072, 0.014058942, 0.01293624, 0.011201782, 0.011329829, 0.009897901, 0.0132671, 0.01279207, 0.01247207, 0.013883121, 0.013768302, 0.014381166, 0.013359705, 0.011588245, 0.016299015, 0.017173395, 0.0112968385, 0.011432969, 0.0121132955, 0.011706837, 0.013241733, 0.012422037, 0.02176735, 0.013035497, 0.013228231, 0.018750066, 0.015956756, 0.01189209, 0.01088363, 0.013126995, 0.011981131, 0.013052982, 0.01475312, 0.012202541, 0.013086048, 0.011298466, 0.01281042, 0.015729824, 0.010354875, 0.01120394, 0.014010408, 0.01210189, 0.017756, 0.011862423, 0.014376644, 0.015399017, 0.012889881, 0.014726498, 0.013801323, 0.012798551, 0.013430634, 0.012260062, 0.013173367, 0.011378587, 0.0145892855, 0.012277736, 0.011841836, 0.013401699, 0.01208331, 0.014313106, 0.012082359, 0.01314017, 0.012693833, 0.015734868, 0.015313054, 0.022581507, 0.01969985, 0.017373905, 0.012231144, 0.012422465, 0.012196964, 0.019136598, 0.014764183, 0.0638258, 0.014529795]\n",
      "2022-02-23 14:33:25,485 : INFO : merging changes from 2000 documents into a model of 3204 documents\n",
      "2022-02-23 14:33:25,497 : INFO : topic #30 (0.010): 0.113*\"loop\" + 0.102*\"document\" + 0.067*\"access\" + 0.051*\",\" + 0.050*\"invari\" + 0.040*\"index\" + 0.040*\"object\" + 0.038*\"kind\" + 0.035*\"establish\" + 0.030*\"legendr\"\n",
      "2022-02-23 14:33:25,498 : INFO : topic #63 (0.010): 0.118*\"area\" + 0.115*\"read\" + 0.106*\"optimum\" + 0.082*\"write\" + 0.061*\"time\" + 0.060*\"sourc\" + 0.036*\"expect\" + 0.033*\"number\" + 0.026*\"futur\" + 0.020*\"develop\"\n",
      "2022-02-23 14:33:25,499 : INFO : topic #47 (0.022): 0.388*\"(\" + 0.353*\")\" + 0.054*\"function\" + 0.036*\"1\" + 0.034*\";\" + 0.025*\"2\" + 0.020*\"gamma\" + 0.019*\"corrigendum\" + 0.012*\"s14\" + 0.011*\"nest\"\n",
      "2022-02-23 14:33:25,500 : INFO : topic #90 (0.023): 0.638*\"method\" + 0.123*\"'\" + 0.043*\"reduct\" + 0.029*\"effici\" + 0.026*\"paramet\" + 0.019*\"improv\" + 0.015*\"shown\" + 0.015*\",\" + 0.012*\"show\" + 0.011*\"gener\"\n",
      "2022-02-23 14:33:25,500 : INFO : topic #98 (0.064): 0.343*\"algorithm\" + 0.251*\"(\" + 0.180*\")\" + 0.114*\"[\" + 0.066*\"])\" + 0.013*\"matrix\" + 0.011*\"function\" + 0.005*\"s22\" + 0.004*\"e4\" + 0.003*\"f1\"\n",
      "2022-02-23 14:33:25,502 : INFO : topic diff=0.159855, rho=0.220316\n",
      "2022-02-23 14:33:26,481 : INFO : -6.430 per-word bound, 86.2 perplexity estimate based on a held-out corpus of 1204 documents with 49783 words\n",
      "2022-02-23 14:33:26,482 : INFO : PROGRESS: pass 18, at document #3204/3204\n",
      "2022-02-23 14:33:27,318 : INFO : optimized alpha [0.01148646, 0.014507244, 0.012113041, 0.01361137, 0.012900843, 0.011119122, 0.011403258, 0.012644546, 0.015402202, 0.011795001, 0.010819805, 0.01260234, 0.011948596, 0.013843289, 0.012771921, 0.012572912, 0.014876124, 0.012537374, 0.012779952, 0.012142783, 0.01256101, 0.014245979, 0.01475394, 0.013720842, 0.014701417, 0.0132317385, 0.014120457, 0.013142711, 0.011315204, 0.011422263, 0.009941208, 0.013413919, 0.0128669655, 0.012624712, 0.01403041, 0.013971319, 0.014548501, 0.013460298, 0.011687861, 0.016624985, 0.017380524, 0.011349101, 0.011541481, 0.0122368345, 0.011843593, 0.013423115, 0.0125091905, 0.02234893, 0.013136356, 0.013457401, 0.019000474, 0.016170653, 0.011951526, 0.010941869, 0.013226131, 0.012143171, 0.013208081, 0.014921986, 0.012288262, 0.013276982, 0.011382105, 0.012877718, 0.015979193, 0.010393155, 0.011275693, 0.014196168, 0.0121732345, 0.018127028, 0.011995453, 0.01453296, 0.015472941, 0.013026279, 0.014918722, 0.014003906, 0.012913193, 0.013591418, 0.01232895, 0.013362694, 0.011480865, 0.014810837, 0.012451667, 0.011958749, 0.013506429, 0.012194076, 0.014478674, 0.0121838655, 0.013319321, 0.012866343, 0.01600514, 0.015578223, 0.023122106, 0.020116432, 0.017585628, 0.012296379, 0.012558936, 0.01229653, 0.019450188, 0.014854618, 0.06401248, 0.014790986]\n",
      "2022-02-23 14:33:27,326 : INFO : merging changes from 1204 documents into a model of 3204 documents\n",
      "2022-02-23 14:33:27,338 : INFO : topic #30 (0.010): 0.127*\"loop\" + 0.101*\"document\" + 0.077*\"access\" + 0.056*\"invari\" + 0.049*\",\" + 0.040*\"object\" + 0.038*\"establish\" + 0.037*\"index\" + 0.034*\"kind\" + 0.028*\"-\"\n",
      "2022-02-23 14:33:27,339 : INFO : topic #63 (0.010): 0.123*\"area\" + 0.115*\"optimum\" + 0.114*\"read\" + 0.082*\"write\" + 0.065*\"time\" + 0.060*\"sourc\" + 0.039*\"expect\" + 0.034*\"number\" + 0.026*\"futur\" + 0.021*\"develop\"\n",
      "2022-02-23 14:33:27,340 : INFO : topic #47 (0.022): 0.393*\"(\" + 0.356*\")\" + 0.051*\"function\" + 0.035*\";\" + 0.034*\"1\" + 0.024*\"2\" + 0.022*\"corrigendum\" + 0.020*\"gamma\" + 0.011*\"nest\" + 0.010*\"s14\"\n",
      "2022-02-23 14:33:27,341 : INFO : topic #90 (0.023): 0.638*\"method\" + 0.125*\"'\" + 0.044*\"reduct\" + 0.029*\"effici\" + 0.026*\"paramet\" + 0.018*\"improv\" + 0.015*\"shown\" + 0.014*\",\" + 0.013*\"show\" + 0.011*\"gener\"\n",
      "2022-02-23 14:33:27,341 : INFO : topic #98 (0.064): 0.353*\"algorithm\" + 0.248*\"(\" + 0.186*\")\" + 0.115*\"[\" + 0.054*\"])\" + 0.012*\"matrix\" + 0.011*\"function\" + 0.005*\"s22\" + 0.004*\"e4\" + 0.003*\"f1\"\n",
      "2022-02-23 14:33:27,343 : INFO : topic diff=0.164669, rho=0.220316\n",
      "2022-02-23 14:33:27,352 : INFO : PROGRESS: pass 19, at document #2000/3204\n",
      "2022-02-23 14:33:28,302 : INFO : optimized alpha [0.011489779, 0.01454916, 0.012141277, 0.0136949, 0.012900162, 0.011156735, 0.011454708, 0.012658616, 0.01563159, 0.011812796, 0.010832389, 0.012646602, 0.01195781, 0.013935202, 0.012784117, 0.012578405, 0.014897181, 0.012593287, 0.012865053, 0.012213227, 0.012596552, 0.0142287575, 0.014788526, 0.013747981, 0.014747116, 0.013245467, 0.0142464265, 0.0131971855, 0.011359602, 0.011422531, 0.009956376, 0.013429771, 0.01295878, 0.012636764, 0.014103142, 0.01401432, 0.0145998495, 0.013531513, 0.011688383, 0.01678046, 0.017613458, 0.011409653, 0.011538224, 0.012238775, 0.0118794255, 0.0133998925, 0.012608773, 0.022770345, 0.013212787, 0.013481262, 0.019280007, 0.016296996, 0.011980295, 0.010958649, 0.0133280745, 0.012147242, 0.013228945, 0.01502611, 0.012347816, 0.013322038, 0.011429969, 0.012984613, 0.016014181, 0.01041098, 0.011329865, 0.014245389, 0.012264025, 0.018130004, 0.012032197, 0.0146001475, 0.015699632, 0.013172777, 0.015012684, 0.0140092, 0.012966766, 0.01367053, 0.012449219, 0.013389052, 0.011460395, 0.014848955, 0.01244741, 0.011954946, 0.013579061, 0.0121900905, 0.014533846, 0.012206148, 0.013360209, 0.012955354, 0.016136618, 0.015687011, 0.023455597, 0.020284092, 0.017847732, 0.012336907, 0.01255772, 0.012301013, 0.019522527, 0.014989177, 0.06695319, 0.014797703]\n",
      "2022-02-23 14:33:28,310 : INFO : merging changes from 2000 documents into a model of 3204 documents\n",
      "2022-02-23 14:33:28,322 : INFO : topic #30 (0.010): 0.113*\"loop\" + 0.103*\"document\" + 0.071*\"access\" + 0.050*\"invari\" + 0.050*\",\" + 0.043*\"kind\" + 0.041*\"object\" + 0.039*\"index\" + 0.035*\"establish\" + 0.030*\"legendr\"\n",
      "2022-02-23 14:33:28,323 : INFO : topic #63 (0.010): 0.120*\"area\" + 0.116*\"read\" + 0.106*\"optimum\" + 0.084*\"write\" + 0.062*\"time\" + 0.060*\"sourc\" + 0.037*\"expect\" + 0.033*\"number\" + 0.026*\"futur\" + 0.020*\"develop\"\n",
      "2022-02-23 14:33:28,323 : INFO : topic #47 (0.023): 0.391*\"(\" + 0.357*\")\" + 0.053*\"function\" + 0.034*\"1\" + 0.033*\";\" + 0.024*\"2\" + 0.020*\"gamma\" + 0.019*\"corrigendum\" + 0.012*\"s14\" + 0.011*\"nest\"\n",
      "2022-02-23 14:33:28,325 : INFO : topic #90 (0.023): 0.643*\"method\" + 0.121*\"'\" + 0.042*\"reduct\" + 0.029*\"effici\" + 0.025*\"paramet\" + 0.019*\"improv\" + 0.015*\"shown\" + 0.014*\",\" + 0.012*\"show\" + 0.010*\"gener\"\n",
      "2022-02-23 14:33:28,326 : INFO : topic #98 (0.067): 0.342*\"algorithm\" + 0.252*\"(\" + 0.180*\")\" + 0.115*\"[\" + 0.067*\"])\" + 0.012*\"matrix\" + 0.011*\"function\" + 0.005*\"s22\" + 0.004*\"e4\" + 0.003*\"f1\"\n",
      "2022-02-23 14:33:28,328 : INFO : topic diff=0.150050, rho=0.215156\n",
      "2022-02-23 14:33:29,254 : INFO : -6.425 per-word bound, 85.9 perplexity estimate based on a held-out corpus of 1204 documents with 49783 words\n",
      "2022-02-23 14:33:29,255 : INFO : PROGRESS: pass 19, at document #3204/3204\n",
      "2022-02-23 14:33:29,942 : INFO : optimized alpha [0.011596479, 0.014750349, 0.0122214835, 0.013819341, 0.013033081, 0.011195565, 0.011522759, 0.01276245, 0.015703136, 0.011885179, 0.01092765, 0.012719782, 0.0120423, 0.014123548, 0.012911611, 0.0127373235, 0.0151255485, 0.012727196, 0.012925319, 0.012300317, 0.0127171185, 0.0144450655, 0.014938887, 0.013921885, 0.014956103, 0.01340943, 0.014306407, 0.013396691, 0.0114713805, 0.011521706, 0.010006119, 0.013569413, 0.013034492, 0.012784872, 0.014245533, 0.014214717, 0.014767183, 0.013627884, 0.011788462, 0.01710117, 0.017813873, 0.011467172, 0.011644991, 0.012360316, 0.01201424, 0.013585815, 0.012689812, 0.023351984, 0.013314249, 0.013715243, 0.019523017, 0.016513603, 0.012036557, 0.0110159805, 0.013427813, 0.012306996, 0.013376905, 0.015195041, 0.012434265, 0.013505829, 0.011522523, 0.013050403, 0.016257372, 0.010452472, 0.011398348, 0.014428588, 0.012333937, 0.01850341, 0.012169775, 0.014753916, 0.015773928, 0.013309449, 0.015199584, 0.014206495, 0.013077158, 0.013831612, 0.012516683, 0.013580709, 0.011560991, 0.015064936, 0.012618922, 0.01207212, 0.013677059, 0.012303355, 0.014696826, 0.01230596, 0.013546621, 0.013123575, 0.016404262, 0.015949419, 0.024009544, 0.020697063, 0.018059032, 0.012400973, 0.012692091, 0.012398936, 0.019828193, 0.015077593, 0.06707734, 0.01505845]\n",
      "2022-02-23 14:33:29,950 : INFO : merging changes from 1204 documents into a model of 3204 documents\n",
      "2022-02-23 14:33:29,961 : INFO : topic #30 (0.010): 0.125*\"loop\" + 0.100*\"document\" + 0.080*\"access\" + 0.055*\"invari\" + 0.048*\",\" + 0.042*\"kind\" + 0.041*\"object\" + 0.038*\"establish\" + 0.035*\"index\" + 0.026*\"content\"\n",
      "2022-02-23 14:33:29,962 : INFO : topic #63 (0.010): 0.124*\"area\" + 0.115*\"read\" + 0.115*\"optimum\" + 0.082*\"write\" + 0.067*\"time\" + 0.063*\"sourc\" + 0.040*\"expect\" + 0.034*\"number\" + 0.027*\"futur\" + 0.020*\"develop\"\n",
      "2022-02-23 14:33:29,963 : INFO : topic #47 (0.023): 0.396*\"(\" + 0.359*\")\" + 0.051*\"function\" + 0.033*\";\" + 0.032*\"1\" + 0.023*\"2\" + 0.022*\"corrigendum\" + 0.020*\"gamma\" + 0.011*\"nest\" + 0.010*\"s14\"\n",
      "2022-02-23 14:33:29,964 : INFO : topic #90 (0.024): 0.643*\"method\" + 0.123*\"'\" + 0.044*\"reduct\" + 0.029*\"effici\" + 0.026*\"paramet\" + 0.018*\"improv\" + 0.015*\"shown\" + 0.014*\",\" + 0.013*\"show\" + 0.010*\"semi\"\n",
      "2022-02-23 14:33:29,965 : INFO : topic #98 (0.067): 0.351*\"algorithm\" + 0.249*\"(\" + 0.186*\")\" + 0.116*\"[\" + 0.055*\"])\" + 0.012*\"matrix\" + 0.011*\"function\" + 0.005*\"s22\" + 0.004*\"e4\" + 0.003*\"f1\"\n",
      "2022-02-23 14:33:29,966 : INFO : topic diff=0.154541, rho=0.215156\n"
     ]
    },
    {
     "data": {
      "text/plain": [
       "[(0, 0.004761389),\n",
       " (1, 0.006056334),\n",
       " (2, 0.005018009),\n",
       " (3, 0.0056740716),\n",
       " (4, 0.005351242),\n",
       " (5, 0.0045967777),\n",
       " (6, 0.00473112),\n",
       " (7, 0.0052401237),\n",
       " (8, 0.006447538),\n",
       " (9, 0.004879926),\n",
       " (10, 0.004486775),\n",
       " (11, 0.005222605),\n",
       " (12, 0.004944438),\n",
       " (13, 0.005798976),\n",
       " (14, 0.005301368),\n",
       " (15, 0.0052298075),\n",
       " (16, 0.0062103868),\n",
       " (17, 0.005225649),\n",
       " (18, 0.0053069964),\n",
       " (19, 0.005050377),\n",
       " (20, 0.0052215112),\n",
       " (21, 0.0059309877),\n",
       " (22, 0.0061337454),\n",
       " (23, 0.0057161753),\n",
       " (24, 0.006140814),\n",
       " (25, 0.005505767),\n",
       " (26, 0.41645762),\n",
       " (27, 0.0055005364),\n",
       " (28, 0.0047100247),\n",
       " (29, 0.004730688),\n",
       " (30, 0.0041084043),\n",
       " (31, 0.0055714543),\n",
       " (32, 0.0053518214),\n",
       " (33, 0.0052493303),\n",
       " (34, 0.005849062),\n",
       " (35, 0.005836409),\n",
       " (36, 0.0060632457),\n",
       " (37, 0.005595462),\n",
       " (38, 0.004840215),\n",
       " (39, 0.0070215557),\n",
       " (40, 0.0073141833),\n",
       " (41, 0.0047082966),\n",
       " (42, 0.004781307),\n",
       " (43, 0.005075012),\n",
       " (44, 0.004932917),\n",
       " (45, 0.0055781887),\n",
       " (46, 0.0052102995),\n",
       " (47, 0.009588072),\n",
       " (48, 0.0054666866),\n",
       " (49, 0.0056313304),\n",
       " (50, 0.00801594),\n",
       " (51, 0.006780307),\n",
       " (52, 0.00494208),\n",
       " (53, 0.0045230426),\n",
       " (54, 0.0055133146),\n",
       " (55, 0.0050531193),\n",
       " (56, 0.0054924125),\n",
       " (57, 0.0062389197),\n",
       " (58, 0.0051053744),\n",
       " (59, 0.005545347),\n",
       " (60, 0.004731023),\n",
       " (61, 0.0053583547),\n",
       " (62, 0.006675101),\n",
       " (63, 0.004291672),\n",
       " (64, 0.0046800384),\n",
       " (65, 0.005924222),\n",
       " (66, 0.005064181),\n",
       " (67, 0.0075973),\n",
       " (68, 0.004996778),\n",
       " (69, 0.0060577984),\n",
       " (70, 0.006476604),\n",
       " (71, 0.005464716),\n",
       " (72, 0.0062407847),\n",
       " (73, 0.005833033),\n",
       " (74, 0.0053693396),\n",
       " (75, 0.00567911),\n",
       " (76, 0.0051392145),\n",
       " (77, 0.0055760923),\n",
       " (78, 0.004746818),\n",
       " (79, 0.0061855),\n",
       " (80, 0.005181193),\n",
       " (81, 0.0049566817),\n",
       " (82, 0.0056156525),\n",
       " (83, 0.0050516245),\n",
       " (84, 0.006034358),\n",
       " (85, 0.005052694),\n",
       " (86, 0.0055620964),\n",
       " (87, 0.0053883977),\n",
       " (88, 0.0067354124),\n",
       " (89, 0.006548659),\n",
       " (90, 0.009858059),\n",
       " (91, 0.00849799),\n",
       " (92, 0.0074148434),\n",
       " (93, 0.0050917054),\n",
       " (94, 0.0052112355),\n",
       " (95, 0.005090869),\n",
       " (96, 0.008141242),\n",
       " (97, 0.0061906967),\n",
       " (98, 0.02754123),\n",
       " (99, 0.006182837)]"
      ]
     },
     "execution_count": 85,
     "metadata": {},
     "output_type": "execute_result"
    }
   ],
   "source": [
    "##### Function check\n",
    "lda = LdaRetrievalModel(doc_repr_2)\n",
    "lda.train_model()\n",
    "\n",
    "# you can now get an LDA vector for a given query in the following way:\n",
    "lda.vectorize_query(\"report\")\n",
    "##### "
   ]
  },
  {
   "cell_type": "markdown",
   "metadata": {
    "deletable": false,
    "editable": false,
    "nbgrader": {
     "cell_type": "markdown",
     "checksum": "32d83b6ea79ca3ddb789a7f8805a1b25",
     "grade": false,
     "grade_id": "cell-0e24b727d5908c0e",
     "locked": true,
     "points": 5,
     "schema_version": 3,
     "solution": false,
     "task": true
    }
   },
   "source": [
    "\\#### Please do not change this. This cell is used for grading."
   ]
  },
  {
   "cell_type": "markdown",
   "metadata": {
    "deletable": false,
    "editable": false,
    "nbgrader": {
     "cell_type": "markdown",
     "checksum": "114a934f0b9ce696e6cf09d3b8da6a3d",
     "grade": false,
     "grade_id": "cell-b1bffcb970b18aeb",
     "locked": true,
     "schema_version": 3,
     "solution": false,
     "task": false
    }
   },
   "source": [
    "---\n",
    "Now we can use the `DenseRetrievalModel` class to obtain an LDA search function.\n",
    "You can test your LDA model in the following cell: Try finding queries which are lexically different to documents, but semantically similar - does LDA work well for these queries?!"
   ]
  },
  {
   "cell_type": "code",
   "execution_count": 86,
   "metadata": {},
   "outputs": [
    {
     "data": {
      "application/vnd.jupyter.widget-view+json": {
       "model_id": "12f4e19c594241b39074485a8e31b305",
       "version_major": 2,
       "version_minor": 0
      },
      "text/plain": [
       "Text(value='', description='Search Bar')"
      ]
     },
     "metadata": {},
     "output_type": "display_data"
    }
   ],
   "source": [
    "drm_lda = DenseRetrievalRanker(lda, jenson_shannon_sim)\n",
    "\n",
    "# test your LDA model\n",
    "search_fn = drm_lda.search\n",
    "\n",
    "text = widgets.Text(description=\"Search Bar\", width=200)\n",
    "display(text)\n",
    "\n",
    "\n",
    "text.on_submit(handle_submit_2)"
   ]
  },
  {
   "cell_type": "markdown",
   "metadata": {
    "deletable": false,
    "editable": false,
    "nbgrader": {
     "cell_type": "markdown",
     "checksum": "9d7f15863b655119b45f4d89354e5661",
     "grade": false,
     "grade_id": "cell-190cd0854b2791cc",
     "locked": true,
     "schema_version": 3,
     "solution": false,
     "task": false
    }
   },
   "source": [
    "## Section 8: Word2Vec/Doc2Vec (20 points) <a class=\"anchor\" id=\"2vec\"></a>\n",
    "\n",
    "[Back to Part 2](#part2)\n",
    "\n",
    "We will implement two other methods here, the Word2Vec model and the Doc2Vec model, also using `gensim`. Word2Vec creates representations of words, not documents, so the word level vectors need to be aggregated to obtain a representation for the document. Here, we will simply take the mean of the vectors. \n",
    "\n",
    "\n",
    "A drawback of these models is that they need a lot of training data. Our dataset is tiny, so in addition to using a model trained on the data, we will also use a pre-trained model for Word2Vec (this will be automatically downloaded).     \n",
    "\n",
    "*Note*:\n",
    "1. The code in vectorize_documents / vectorize_query should return gensim-like vectors i.e `[(dim, val), .. (dim, val)]`. \n",
    "2. For Word2Vec: You should also handle the following two cases: (a) A word in the query is not present in the vocabulary of the model and (b) none of the words in the query are present in the model - you can return 0 scores for all documents in this case. For either of these, you can check if a `word` is present in the vocab by using `word in self.model`\n"
   ]
  },
  {
   "cell_type": "code",
   "execution_count": 87,
   "metadata": {
    "deletable": false,
    "nbgrader": {
     "cell_type": "code",
     "checksum": "83ab733608ed14c29c09b36b4e1b6daa",
     "grade": false,
     "grade_id": "cell-2b73759f9baf688f",
     "locked": false,
     "schema_version": 3,
     "solution": true,
     "task": false
    }
   },
   "outputs": [
    {
     "name": "stderr",
     "output_type": "stream",
     "text": [
      "2022-02-23 14:33:32,488 : INFO : adding document #0 to Dictionary(0 unique tokens: [])\n",
      "2022-02-23 14:33:32,629 : INFO : built Dictionary(5937 unique tokens: ['-', 'algebra', 'intern', 'languag', 'preliminari']...) from 3204 documents (total 115969 corpus positions)\n",
      "2022-02-23 14:33:32,639 : INFO : discarding 4740 tokens: [('repeat', 8), ('glossari', 7), ('inspect', 8), ('uncol', 2), ('rung', 9), ('secant', 2), ('.', 1603), ('acceler', 6), ('diverg', 3), ('induc', 9)]...\n",
      "2022-02-23 14:33:32,640 : INFO : keeping 1197 tokens which were in no less than 10 and no more than 1602 (=50.0%) documents\n",
      "2022-02-23 14:33:32,648 : INFO : resulting dictionary: Dictionary(1197 unique tokens: ['-', 'algebra', 'intern', 'languag', 'preliminari']...)\n"
     ]
    }
   ],
   "source": [
    "# TODO: Implement this! (10 points)\n",
    "class W2VRetrievalModel(VectorSpaceRetrievalModel):\n",
    "    def __init__(self, doc_repr):\n",
    "        super().__init__(doc_repr)\n",
    "        \n",
    "        # the dimensionality of the vectors\n",
    "        self.size = 100 \n",
    "        self.min_count = 1\n",
    "    \n",
    "    def train_model(self):\n",
    "        \"\"\"\n",
    "        Trains the W2V model\n",
    "        \"\"\"\n",
    "        # YOUR CODE HERE\n",
    "    \n",
    "        \n",
    "    def vectorize_documents(self):\n",
    "        \"\"\"\n",
    "            Returns a doc_id -> vector dictionary\n",
    "        \"\"\"\n",
    "        # YOUR CODE HERE\n",
    "\n",
    "    def vectorize_query(self, query):\n",
    "        \"\"\"\n",
    "        Vectorizes the query using the W2V model\n",
    "        \"\"\"\n",
    "        query = process_text(query, **config_2)\n",
    "        \n",
    "        # YOUR CODE HERE\n",
    "    \n",
    "    \n",
    "class W2VPretrainedRetrievalModel(W2VRetrievalModel):\n",
    "    def __init__(self, doc_repr):\n",
    "        super().__init__(doc_repr)\n",
    "        self.model_name = \"word2vec-google-news-300\"\n",
    "        self.size = 300\n",
    "    \n",
    "    def train_model(self):\n",
    "        \"\"\"\n",
    "        Loads the pretrained model\n",
    "        \"\"\"\n",
    "        self.model = g_downloader.load(self.model_name)\n",
    "\n",
    "w2v = W2VRetrievalModel(doc_repr_2)\n",
    "w2v.train_model()\n",
    "\n",
    "# you can now get a W2V vector for a given query in the following way:\n",
    "w2v.vectorize_query(\"report\")"
   ]
  },
  {
   "cell_type": "code",
   "execution_count": 88,
   "metadata": {
    "deletable": false,
    "editable": false,
    "nbgrader": {
     "cell_type": "code",
     "checksum": "f92b5c5a8c6c4b80652b94223209ab0b",
     "grade": true,
     "grade_id": "cell-b31c0f8d214b8bdf",
     "locked": true,
     "points": 0,
     "schema_version": 3,
     "solution": false,
     "task": false
    }
   },
   "outputs": [
    {
     "ename": "TypeError",
     "evalue": "object of type 'NoneType' has no len()",
     "output_type": "error",
     "traceback": [
      "\u001b[1;31m---------------------------------------------------------------------------\u001b[0m",
      "\u001b[1;31mTypeError\u001b[0m                                 Traceback (most recent call last)",
      "\u001b[1;32m<ipython-input-88-9e835c396e62>\u001b[0m in \u001b[0;36m<module>\u001b[1;34m\u001b[0m\n\u001b[1;32m----> 1\u001b[1;33m \u001b[1;32massert\u001b[0m \u001b[0mlen\u001b[0m\u001b[1;33m(\u001b[0m\u001b[0mw2v\u001b[0m\u001b[1;33m.\u001b[0m\u001b[0mvectorize_query\u001b[0m\u001b[1;33m(\u001b[0m\u001b[1;34m\"report\"\u001b[0m\u001b[1;33m)\u001b[0m\u001b[1;33m)\u001b[0m \u001b[1;33m==\u001b[0m \u001b[1;36m100\u001b[0m\u001b[1;33m\u001b[0m\u001b[0m\n\u001b[0m\u001b[0;32m      2\u001b[0m \u001b[1;32massert\u001b[0m \u001b[0mlen\u001b[0m\u001b[1;33m(\u001b[0m\u001b[0mw2v\u001b[0m\u001b[1;33m.\u001b[0m\u001b[0mvectorize_query\u001b[0m\u001b[1;33m(\u001b[0m\u001b[1;34m\"this is a sentence that is not mellifluous\"\u001b[0m\u001b[1;33m)\u001b[0m\u001b[1;33m)\u001b[0m \u001b[1;33m==\u001b[0m \u001b[1;36m100\u001b[0m\u001b[1;33m\u001b[0m\u001b[0m\n",
      "\u001b[1;31mTypeError\u001b[0m: object of type 'NoneType' has no len()"
     ]
    }
   ],
   "source": [
    "assert len(w2v.vectorize_query(\"report\")) == 100\n",
    "assert len(w2v.vectorize_query(\"this is a sentence that is not mellifluous\")) == 100\n"
   ]
  },
  {
   "cell_type": "markdown",
   "metadata": {
    "deletable": false,
    "editable": false,
    "nbgrader": {
     "cell_type": "markdown",
     "checksum": "8dfaabebcb06f308a7ca61fdc5d369e7",
     "grade": false,
     "grade_id": "cell-c2614fa067386384",
     "locked": true,
     "points": 8,
     "schema_version": 3,
     "solution": false,
     "task": true
    }
   },
   "source": [
    "\\#### Please do not change this. This cell is used for grading."
   ]
  },
  {
   "cell_type": "code",
   "execution_count": null,
   "metadata": {},
   "outputs": [],
   "source": [
    "w2v_pretrained = W2VPretrainedRetrievalModel(doc_repr_2)\n",
    "w2v_pretrained.train_model()\n",
    "\n",
    "# you can now get an W2V vector for a given query in the following way:\n",
    "w2v_pretrained.vectorize_query(\"report\")"
   ]
  },
  {
   "cell_type": "code",
   "execution_count": null,
   "metadata": {
    "deletable": false,
    "editable": false,
    "nbgrader": {
     "cell_type": "code",
     "checksum": "0822845afb5eafe5ddb1ffeaa4f4942a",
     "grade": true,
     "grade_id": "cell-1b1466f8ce516f42",
     "locked": true,
     "points": 2,
     "schema_version": 3,
     "solution": false,
     "task": false
    }
   },
   "outputs": [],
   "source": [
    "##### Function check\n",
    "\n",
    "print(len(w2v_pretrained.vectorize_query(\"report\")))\n",
    "#####"
   ]
  },
  {
   "cell_type": "code",
   "execution_count": null,
   "metadata": {},
   "outputs": [],
   "source": [
    "drm_w2v = DenseRetrievalRanker(w2v, cosine_sim)\n",
    "\n",
    "# test your LDA model\n",
    "search_fn = drm_w2v.search\n",
    "\n",
    "text = widgets.Text(description=\"Search Bar\", width=200)\n",
    "display(text)\n",
    "\n",
    "\n",
    "text.on_submit(handle_submit_2)"
   ]
  },
  {
   "cell_type": "code",
   "execution_count": null,
   "metadata": {},
   "outputs": [],
   "source": [
    "drm_w2v_pretrained = DenseRetrievalRanker(w2v_pretrained, cosine_sim)\n",
    "\n",
    "# test your LDA model\n",
    "search_fn = drm_w2v_pretrained.search\n",
    "\n",
    "text = widgets.Text(description=\"Search Bar\", width=200)\n",
    "display(text)\n",
    "\n",
    "\n",
    "text.on_submit(handle_submit_2)"
   ]
  },
  {
   "cell_type": "markdown",
   "metadata": {
    "deletable": false,
    "editable": false,
    "nbgrader": {
     "cell_type": "markdown",
     "checksum": "51b778984fd60757974f51047c61eb15",
     "grade": false,
     "grade_id": "cell-b92f701cbc706108",
     "locked": true,
     "schema_version": 3,
     "solution": false,
     "task": false
    }
   },
   "source": [
    "**Implementation (10 points):**\n",
    "For Doc2Vec, you will need to create a list of `TaggedDocument` instead of using the `self.corpus` or `self.documents` variable. Use the document id as the 'tag'.\n",
    "  "
   ]
  },
  {
   "cell_type": "code",
   "execution_count": null,
   "metadata": {
    "deletable": false,
    "nbgrader": {
     "cell_type": "code",
     "checksum": "1f60fdeb97febb7f4a6fd5bf109aac20",
     "grade": false,
     "grade_id": "cell-680facdcc98a19ab",
     "locked": false,
     "schema_version": 3,
     "solution": true,
     "task": false
    }
   },
   "outputs": [],
   "source": [
    "# TODO: Implement this! (10 points)\n",
    "class D2VRetrievalModel(VectorSpaceRetrievalModel):\n",
    "    def __init__(self, doc_repr):\n",
    "        super().__init__(doc_repr)\n",
    "        \n",
    "        self.vector_size= 100\n",
    "        self.min_count = 1\n",
    "        self.epochs = 20\n",
    "        \n",
    "        # YOUR CODE HERE\n",
    "        \n",
    "    def train_model(self):\n",
    "        # YOUR CODE HERE\n",
    "    \n",
    "    def vectorize_documents(self):\n",
    "        \"\"\"\n",
    "            Returns a doc_id -> vector dictionary\n",
    "        \"\"\"\n",
    "        # YOUR CODE HERE\n",
    "\n",
    "    def vectorize_query(self, query):\n",
    "        # YOUR CODE HERE\n",
    "        raise NotImplementedError()\n",
    "        \n",
    "d2v = D2VRetrievalModel(doc_repr_2)\n",
    "d2v.train_model()\n",
    "\n",
    "\n",
    "# # you can now get an LSI vector for a given query in the following way:\n",
    "d2v.vectorize_query(\"report\")"
   ]
  },
  {
   "cell_type": "code",
   "execution_count": null,
   "metadata": {
    "deletable": false,
    "editable": false,
    "nbgrader": {
     "cell_type": "code",
     "checksum": "e83a363a9d4f136efbdde1426a83925e",
     "grade": true,
     "grade_id": "cell-5e2c5e0c9a2e8cb5",
     "locked": true,
     "points": 0,
     "schema_version": 3,
     "solution": false,
     "task": false
    }
   },
   "outputs": [],
   "source": [
    "#### Please do not change this. This cell is used for grading."
   ]
  },
  {
   "cell_type": "markdown",
   "metadata": {
    "deletable": false,
    "editable": false,
    "nbgrader": {
     "cell_type": "markdown",
     "checksum": "5bb46bf6b9be1e0ca66f0b0bc6260ecb",
     "grade": false,
     "grade_id": "cell-8a49d414f798a595",
     "locked": true,
     "points": 10,
     "schema_version": 3,
     "solution": false,
     "task": true
    }
   },
   "source": [
    "\\#### Please do not change this. This cell is used for grading."
   ]
  },
  {
   "cell_type": "code",
   "execution_count": null,
   "metadata": {},
   "outputs": [],
   "source": [
    "drm_d2v = DenseRetrievalRanker(d2v, cosine_sim)\n",
    "\n",
    "# test your LDA model\n",
    "search_fn = drm_d2v.search\n",
    "\n",
    "text = widgets.Text(description=\"Search Bar\", width=200)\n",
    "display(text)\n",
    "\n",
    "\n",
    "text.on_submit(handle_submit_2)"
   ]
  },
  {
   "cell_type": "markdown",
   "metadata": {
    "deletable": false,
    "editable": false,
    "nbgrader": {
     "cell_type": "markdown",
     "checksum": "363ec36c1d03d9f9e1c2045a6e193c14",
     "grade": false,
     "grade_id": "cell-3529ae29eece7b97",
     "locked": true,
     "schema_version": 3,
     "solution": false,
     "task": false
    }
   },
   "source": [
    "---\n",
    "## Section 9: Re-ranking (10 points) <a class=\"anchor\" id=\"reranking\"></a>\n",
    "\n",
    "[Back to Part 2](#part2)\n",
    "\n",
    "To motivate the re-ranking perspective (i.e retrieve with lexical method + rerank with a semantic method), let's search using semantic methods and compare it to BM25's performance, along with their runtime:\n"
   ]
  },
  {
   "cell_type": "code",
   "execution_count": null,
   "metadata": {
    "deletable": false,
    "editable": false,
    "nbgrader": {
     "cell_type": "code",
     "checksum": "5755f70e3eb28abc65d14d80125338af",
     "grade": false,
     "grade_id": "cell-f8f43bf5ae383128",
     "locked": true,
     "schema_version": 3,
     "solution": false,
     "task": false
    }
   },
   "outputs": [],
   "source": [
    "query = \"algebraic functions\"\n",
    "print(\"BM25: \")\n",
    "%timeit bm25_search(query, 2)\n",
    "print(\"LSI: \")\n",
    "%timeit drm_lsi.search(query)\n",
    "print(\"LDA: \")\n",
    "%timeit drm_lda.search(query)\n",
    "print(\"W2V: \")\n",
    "%timeit drm_w2v.search(query)\n",
    "print(\"W2V(Pretrained): \")\n",
    "%timeit drm_w2v_pretrained.search(query)\n",
    "print(\"D2V:\")\n",
    "%timeit drm_d2v.search(query)"
   ]
  },
  {
   "cell_type": "markdown",
   "metadata": {
    "deletable": false,
    "editable": false,
    "nbgrader": {
     "cell_type": "markdown",
     "checksum": "ae398da0a8c23c95bcbb0023b7ec6f34",
     "grade": false,
     "grade_id": "cell-db5ff09f97841af7",
     "locked": true,
     "schema_version": 3,
     "solution": false,
     "task": false
    }
   },
   "source": [
    "---\n",
    "\n",
    "**Implementation (10 points):**\n",
    "Re-ranking involves retrieving a small set of documents using simple but fast methods like BM25 and then re-ranking them with the aid of semantic methods such as LDA or LSI. Implement the following class, which takes in an `initial_retrieval_fn` - the initial retrieval function and `vsrm` - an instance of the `VectorSpaceRetrievalModel` class (i.e LSI/LDA) as input. The search function should first retrieve an initial list of K documents, and then these documents are re-ranked using a semantic method. This not only makes retrieval faster, but semantic methods perform poorly when used in isolation, as you will find out."
   ]
  },
  {
   "cell_type": "code",
   "execution_count": null,
   "metadata": {
    "deletable": false,
    "nbgrader": {
     "cell_type": "code",
     "checksum": "63b6b05a676a2ae3f08d8bed1bc59428",
     "grade": false,
     "grade_id": "cell-5bf47600d1a0c507",
     "locked": false,
     "schema_version": 3,
     "solution": true,
     "task": false
    }
   },
   "outputs": [],
   "source": [
    "# TODO: Implement this! (10 points)\n",
    "class DenseRerankingModel:\n",
    "    def __init__(self, initial_retrieval_fn, vsrm, similarity_fn):\n",
    "        \"\"\"\n",
    "            initial_retrieval_fn: takes in a query and returns a list of [(doc_id, score)] (sorted)\n",
    "            vsrm: instance of `VectorSpaceRetrievalModel`\n",
    "            similarity_fn: function instance that takes in two vectors \n",
    "                            and returns a similarity score e.g cosine_sim defined earlier\n",
    "        \"\"\"\n",
    "        self.ret = initial_retrieval_fn\n",
    "        self.vsrm = vsrm\n",
    "        self.similarity_fn = similarity_fn\n",
    "        self.vectorized_documents = vsrm.vectorize_documents()\n",
    "        \n",
    "        assert len(self.vectorized_documents) == len(doc_repr_2)\n",
    "    \n",
    "    def search(self, query, K=50):\n",
    "        \"\"\"\n",
    "            First, retrieve the top K results using the retrieval function\n",
    "            Then, re-rank the results using the VSRM instance\n",
    "        \"\"\"\n",
    "        # YOUR CODE HERE"
   ]
  },
  {
   "cell_type": "code",
   "execution_count": null,
   "metadata": {
    "deletable": false,
    "editable": false,
    "nbgrader": {
     "cell_type": "code",
     "checksum": "334ab5af96976265cace682ab82a7387",
     "grade": true,
     "grade_id": "cell-52c6d18a4c0b4882",
     "locked": true,
     "points": 0,
     "schema_version": 3,
     "solution": false,
     "task": false
    }
   },
   "outputs": [],
   "source": [
    "##### Function check\n",
    "bm25_search_2 = partial(bm25_search, index_set=2)\n",
    "lsi_rerank = DenseRerankingModel(bm25_search_2, lsi, cosine_sim)\n",
    "lda_rerank = DenseRerankingModel(bm25_search_2, lda, jenson_shannon_sim)\n",
    "w2v_rerank = DenseRerankingModel(bm25_search_2, w2v, cosine_sim)\n",
    "w2v_pretrained_rerank = DenseRerankingModel(bm25_search_2, w2v_pretrained, cosine_sim)\n",
    "d2v_rerank = DenseRerankingModel(bm25_search_2, d2v, cosine_sim)\n",
    "\n",
    "##### "
   ]
  },
  {
   "cell_type": "markdown",
   "metadata": {
    "deletable": false,
    "editable": false,
    "nbgrader": {
     "cell_type": "markdown",
     "checksum": "bd904253f45f84e63bab3a69729058fc",
     "grade": false,
     "grade_id": "cell-93215dfe6bcf7cff",
     "locked": true,
     "points": 10,
     "schema_version": 3,
     "solution": false,
     "task": true
    }
   },
   "source": [
    "\\#### Please do not change this. This cell is used for grading."
   ]
  },
  {
   "cell_type": "markdown",
   "metadata": {
    "deletable": false,
    "editable": false,
    "nbgrader": {
     "cell_type": "markdown",
     "checksum": "b592e60292bfe3d9ef2930a354c4077a",
     "grade": false,
     "grade_id": "cell-aa694ff55fa91e7d",
     "locked": true,
     "schema_version": 3,
     "solution": false,
     "task": false
    }
   },
   "source": [
    "---\n",
    "Now, let us time the new search functions:"
   ]
  },
  {
   "cell_type": "code",
   "execution_count": null,
   "metadata": {
    "deletable": false,
    "editable": false,
    "nbgrader": {
     "cell_type": "code",
     "checksum": "338c7e3528cba266a865a061287c0e38",
     "grade": false,
     "grade_id": "cell-5edbd481562ad91f",
     "locked": true,
     "schema_version": 3,
     "solution": false,
     "task": false
    }
   },
   "outputs": [],
   "source": [
    "query = \"algebraic functions\"\n",
    "print(\"BM25: \")\n",
    "%timeit bm25_search(query, 2)\n",
    "print(\"LSI: \")\n",
    "%timeit lsi_rerank.search(query)\n",
    "print(\"LDA: \")\n",
    "%timeit lda_rerank.search(query)\n",
    "print(\"W2V: \")\n",
    "%timeit w2v_rerank.search(query)\n",
    "print(\"W2V(Pretrained): \")\n",
    "%timeit w2v_pretrained_rerank.search(query)\n",
    "print(\"D2V:\")\n",
    "%timeit d2v_rerank.search(query)"
   ]
  },
  {
   "cell_type": "markdown",
   "metadata": {
    "deletable": false,
    "editable": false,
    "nbgrader": {
     "cell_type": "markdown",
     "checksum": "c45c5e3f015b2de89d9d39ae3766368b",
     "grade": false,
     "grade_id": "cell-85c50f2ab9eec301",
     "locked": true,
     "schema_version": 3,
     "solution": false,
     "task": false
    }
   },
   "source": [
    "---\n",
    "As you can see, it is much faster (but BM25 is still orders of magnitude faster)."
   ]
  },
  {
   "cell_type": "markdown",
   "metadata": {
    "deletable": false,
    "editable": false,
    "nbgrader": {
     "cell_type": "markdown",
     "checksum": "1e2f3388e3807659f303fe31a75a010e",
     "grade": false,
     "grade_id": "cell-5071bb99b2af61cb",
     "locked": true,
     "schema_version": 3,
     "solution": false,
     "task": false
    }
   },
   "source": [
    "---\n",
    "## Section 10: Evaluation & Analysis (30 points) <a class=\"anchor\" id=\"reranking_eval\"></a>\n",
    "\n",
    "[Back to Part 2](#part2)\n",
    "\n",
    "[Previously](#evaluation) we have implemented some evaluation metrics and used them for measuring the ranking performance of term-based IR algorithms. In this section, we will do the same for semantic methods, both with and without re-ranking.\n",
    "\n",
    "### Section 10.1: Plot (10 points)\n",
    "\n",
    "First, gather the results. The results should consider the index set, the different search functions and different metrics. Plot the results in bar charts, per metric, with clear labels.\n",
    "\n",
    "Then, gather only the re-ranking models, and plot and compare them with the results obtained in part 1 (only index set 2)."
   ]
  },
  {
   "cell_type": "code",
   "execution_count": null,
   "metadata": {
    "deletable": false,
    "editable": false,
    "nbgrader": {
     "cell_type": "code",
     "checksum": "4fe81520ac6413a803838913fd64de03",
     "grade": false,
     "grade_id": "cell-b672fe6dfae0b1ce",
     "locked": true,
     "schema_version": 3,
     "solution": false,
     "task": false
    }
   },
   "outputs": [],
   "source": [
    "list_of_sem_search_fns = [\n",
    "    (\"lda\", drm_lda.search),\n",
    "    (\"lsi\", drm_lsi.search),\n",
    "    (\"w2v\", drm_w2v.search),\n",
    "    (\"w2v_pretrained\", drm_w2v_pretrained.search),\n",
    "    (\"d2v\", drm_d2v.search),\n",
    "    (\"lsi_rr\", lsi_rerank.search),\n",
    "    (\"lda_rr\", lda_rerank.search),\n",
    "    (\"w2v_rr\", w2v_rerank.search),\n",
    "    (\"w2v_pretrained_rr\", w2v_pretrained_rerank.search),\n",
    "    (\"d2v_rr\", d2v_rerank.search),\n",
    "    \n",
    "]"
   ]
  },
  {
   "cell_type": "code",
   "execution_count": null,
   "metadata": {
    "deletable": false,
    "nbgrader": {
     "cell_type": "code",
     "checksum": "54707c4afac084299aeefa047259b4a9",
     "grade": true,
     "grade_id": "cell-7dd8273b0f5a3c22",
     "locked": false,
     "points": 10,
     "schema_version": 3,
     "solution": true,
     "task": false
    }
   },
   "outputs": [],
   "source": [
    "# YOUR CODE HERE\n",
    "raise NotImplementedError()"
   ]
  },
  {
   "cell_type": "markdown",
   "metadata": {
    "deletable": false,
    "editable": false,
    "nbgrader": {
     "cell_type": "markdown",
     "checksum": "a8a3b6189bdde66704c694d85e38d049",
     "grade": false,
     "grade_id": "cell-deb2ef3daa306e82",
     "locked": true,
     "schema_version": 3,
     "solution": false,
     "task": false
    }
   },
   "source": [
    "### Section 10.2: Summary (20 points)\n",
    "\n",
    "Your summary should compare methods from Part 1 and Part 2 (only for index set 2). State what you expected to see in the results, followed by either supporting evidence *or* justify why the results did not support your expectations. Consider the availability of data, scalability, domain/type of data, etc."
   ]
  },
  {
   "cell_type": "markdown",
   "metadata": {
    "deletable": false,
    "nbgrader": {
     "cell_type": "markdown",
     "checksum": "ff97c43837d10bff6aaffa75e1492887",
     "grade": true,
     "grade_id": "cell-ec5dd7d9cf59dd86",
     "locked": false,
     "points": 20,
     "schema_version": 3,
     "solution": true,
     "task": false
    }
   },
   "source": [
    "YOUR ANSWER HERE"
   ]
  }
 ],
 "metadata": {
  "kernelspec": {
   "display_name": "Python 3",
   "language": "python",
   "name": "python3"
  },
  "language_info": {
   "codemirror_mode": {
    "name": "ipython",
    "version": 3
   },
   "file_extension": ".py",
   "mimetype": "text/x-python",
   "name": "python",
   "nbconvert_exporter": "python",
   "pygments_lexer": "ipython3",
   "version": "3.6.5"
  },
  "toc": {
   "base_numbering": 1,
   "nav_menu": {},
   "number_sections": true,
   "sideBar": true,
   "skip_h1_title": false,
   "title_cell": "Table of Contents",
   "title_sidebar": "Contents",
   "toc_cell": false,
   "toc_position": {},
   "toc_section_display": true,
   "toc_window_display": false
  }
 },
 "nbformat": 4,
 "nbformat_minor": 4
}
