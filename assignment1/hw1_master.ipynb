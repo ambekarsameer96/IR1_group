{
 "cells": [
  {
   "cell_type": "markdown",
   "metadata": {
    "deletable": false,
    "editable": false,
    "nbgrader": {
     "cell_type": "markdown",
     "checksum": "1bba455de8bc2825ca70469169bbadaa",
     "grade": false,
     "grade_id": "cell-c9cd9e550239e812",
     "locked": true,
     "schema_version": 3,
     "solution": false,
     "task": false
    }
   },
   "source": [
    "# Homework 1 (Total Points: 250) <a class=\"anchor\" id=\"top\"></a>\n",
    "\n",
    "\n",
    "**Submission instructions**:\n",
    "- The cells with the `# YOUR CODE HERE` denote that these sections are graded and you need to add your implementation.\n",
    "- For Part 1: You can use the `nltk`, `NumPy`, and `matplotlib` libraries here. Other libraries, e.g., `gensim` or `scikit-learn`, may not be used. For Part 2: `gensim` is allowed in addition to the imported libraries in the next code cell\n",
    "- Please use Python 3.6.5 and `pip install -r requirements.txt` to avoid version issues.\n",
    "- The notebook you submit has to have the student ids, separated by underscores (E.g., `12341234_12341234_12341234_hw1.ipynb`).\n",
    "- This will be parsed by a regexp, **so please double check your filename**.\n",
    "- Only one member of each group has to submit the file (**please do not compress the .ipynb file when you will submit it**) to canvas.\n",
    "- **Make sure to check that your notebook runs before submission**. A quick way to do this is to restart the kernel and run all the cells.  \n",
    "- Do not change the number of arugments in the given functions.\n",
    "- **Please do not delete/add new cells**. Removing cells **will** lead to grade deduction. \n",
    "- Note, that you are not allowed to use Google Colab.\n",
    "\n",
    "\n",
    "**Learning Goals**:\n",
    "- [Part 1, Term-based matching](#part1) (165 points):\n",
    "    - Learn how to load a dataset and process it.\n",
    "    - Learn how to implement several standard IR methods (TF-IDF, BM25, QL) and understand their weaknesses & strengths.\n",
    "    - Learn how to evaluate IR methods.\n",
    "- [Part 2, Semantic-based matching](#part2) (85 points):\n",
    "    - Learn how to implement vector-space retrieval methods (LSI, LDA).\n",
    "    - Learn how to use LSI and LDA for re-ranking.\n",
    "\n",
    "    \n",
    "**Resources**: \n",
    "- **Part 1**: Sections 2.3, 4.1, 4.2, 4.3, 5.3, 5.6, 5.7, 6.2, 7, 8 of [Search Engines: Information Retrieval in Practice](https://ciir.cs.umass.edu/downloads/SEIRiP.pdf)\n",
    "- **Part 2**: [LSI - Chapter 18](https://nlp.stanford.edu/IR-book/pdf/18lsi.pdf) from [Introduction to Information Retrieval](https://nlp.stanford.edu/IR-book/) book and the [original LDA paper](https://jmlr.org/papers/volume3/blei03a/blei03a.pdf)"
   ]
  },
  {
   "cell_type": "code",
   "execution_count": 1,
   "metadata": {
    "deletable": false,
    "editable": false,
    "nbgrader": {
     "cell_type": "code",
     "checksum": "c55bfe94ff1f564dd595547e516c4c6e",
     "grade": false,
     "grade_id": "cell-f5357fabdb9660e3",
     "locked": true,
     "schema_version": 3,
     "solution": false,
     "task": false
    }
   },
   "outputs": [],
   "source": [
    "# imports \n",
    "# TODO: Ensure that no additional library is imported in the notebook. \n",
    "# TODO: Only the standard library and the following libraries are allowed:\n",
    "# TODO: You can also use unlisted classes from these libraries or standard libraries (such as defaultdict, Counter, ...).\n",
    "\n",
    "import os\n",
    "import zipfile\n",
    "from functools import partial\n",
    "\n",
    "import nltk\n",
    "import requests\n",
    "import numpy as np\n",
    "from tqdm import tqdm\n",
    "\n",
    "import matplotlib.pyplot as plt\n",
    "from matplotlib.pyplot import cm\n",
    "\n",
    "from ipywidgets import widgets\n",
    "from IPython.display import display, HTML\n",
    "#from IPython.html import widgets\n",
    "from collections import namedtuple\n",
    "\n",
    "%matplotlib inline"
   ]
  },
  {
   "cell_type": "markdown",
   "metadata": {
    "deletable": false,
    "editable": false,
    "nbgrader": {
     "cell_type": "markdown",
     "checksum": "c8328f758ca5b69f76eee03dbbdd4715",
     "grade": false,
     "grade_id": "cell-7428e12ed184408b",
     "locked": true,
     "schema_version": 3,
     "solution": false,
     "task": false
    }
   },
   "source": [
    "\n",
    "# Part 1: Term-based Matching (165 points) <a class=\"anchor\" id=\"part1\"></a>\n",
    "\n",
    "[Back to top](#top)\n",
    "\n",
    "In the first part, we will learn the basics of IR from loading and preprocessing the material, to implementing some well known search algorithms, to evaluating the ranking performance of the implemented algorithms. We will be using the CACM dataset throughout the assignment. The CACM dataset is a collection of titles and abstracts from the journal CACM (Communication of the ACM).\n",
    "\n",
    "Table of contents:\n",
    "- [Section 1: Text Processing](#text_processing) (5 points)\n",
    "- [Section 2: Indexing](#indexing) (10 points)\n",
    "- [Section 3: Ranking](#ranking) (80 points)\n",
    "- [Section 4: Evaluation](#evaluation) (40 points)\n",
    "- [Section 5: Analysis](#analysis) (30 points)\n"
   ]
  },
  {
   "cell_type": "markdown",
   "metadata": {
    "deletable": false,
    "editable": false,
    "nbgrader": {
     "cell_type": "markdown",
     "checksum": "4e3f938065183dc743aa8254b96b4f5e",
     "grade": false,
     "grade_id": "cell-4b24825cf4ae55ec",
     "locked": true,
     "schema_version": 3,
     "solution": false,
     "task": false
    }
   },
   "source": [
    "---\n",
    "## Section 1: Text Processing (5 points)<a class=\"anchor\" id=\"text_processing\"></a>\n",
    "\n",
    "[Back to Part 1](#part1)\n",
    "\n",
    "In this section, we will load the dataset and learn how to clean up the data to make it usable for an IR system. \n",
    "First, go through the implementation of the following functions:\n",
    "- `read_cacm_docs`: Reads in the CACM documents.\n",
    "- `read_queries`: Reads in the CACM queries.\n",
    "- `load_stopwords`: Loads the stopwords.\n",
    "\n",
    "The points of this section are earned for the following implementations:\n",
    "- `tokenize` (3 points): Tokenizes the input text.\n",
    "- `stem_token` (2 points): Stems the given token. \n",
    "\n",
    "We are using the [CACM dataset](http://ir.dcs.gla.ac.uk/resources/test_collections/cacm/), which is a small, classic IR dataset, composed of a collection of titles and abstracts from the journal CACM. It comes with relevance judgements for queries, so we can evaluate our IR system. \n"
   ]
  },
  {
   "cell_type": "markdown",
   "metadata": {
    "deletable": false,
    "editable": false,
    "nbgrader": {
     "cell_type": "markdown",
     "checksum": "0155d897c7016389d73d160921947a6f",
     "grade": false,
     "grade_id": "cell-45651364e7af6d5a",
     "locked": true,
     "schema_version": 3,
     "solution": false,
     "task": false
    }
   },
   "source": [
    "---\n",
    "### 1.1 Read the CACM documents\n",
    "\n",
    "\n",
    "The following cell downloads the dataset and unzips it to a local directory."
   ]
  },
  {
   "cell_type": "code",
   "execution_count": 2,
   "metadata": {
    "deletable": false,
    "editable": false,
    "nbgrader": {
     "cell_type": "code",
     "checksum": "4d43c9ad6e77cc01ce4cef0c34824930",
     "grade": false,
     "grade_id": "cell-bbc3030bb3fe7e02",
     "locked": true,
     "schema_version": 3,
     "solution": false,
     "task": false
    }
   },
   "outputs": [],
   "source": [
    "def download_dataset():\n",
    "    folder_path = os.environ.get(\"IR1_DATA_PATH\")\n",
    "    if not folder_path:\n",
    "        folder_path = \"./datasets/\"\n",
    "    os.makedirs(folder_path, exist_ok=True)\n",
    "    \n",
    "    file_location = os.path.join(folder_path, \"cacm.zip\")\n",
    "    \n",
    "    # download file if it doesn't exist\n",
    "    if not os.path.exists(file_location):\n",
    "        \n",
    "        url = \"https://surfdrive.surf.nl/files/index.php/s/M0FGJpX2p8wDwxR/download\"\n",
    "\n",
    "        with open(file_location, \"wb\") as handle:\n",
    "            print(f\"Downloading file from {url} to {file_location}\")\n",
    "            response = requests.get(url, stream=True)\n",
    "            for data in tqdm(response.iter_content()):\n",
    "                handle.write(data)\n",
    "            print(\"Finished downloading file\")\n",
    "    \n",
    "    if not os.path.exists(os.path.join(folder_path, \"train.txt\")):\n",
    "        \n",
    "        # unzip file\n",
    "        with zipfile.ZipFile(file_location, 'r') as zip_ref:\n",
    "            zip_ref.extractall(folder_path)\n",
    "        \n",
    "download_dataset()"
   ]
  },
  {
   "cell_type": "markdown",
   "metadata": {
    "deletable": false,
    "editable": false,
    "nbgrader": {
     "cell_type": "markdown",
     "checksum": "31609b0d61d0c74cbd69bc43e47c23be",
     "grade": false,
     "grade_id": "cell-a7dd9a9bf98ede05",
     "locked": true,
     "schema_version": 3,
     "solution": false,
     "task": false
    }
   },
   "source": [
    "---\n",
    "\n",
    "You can see a brief description of each file in the dataset by looking at the README file:"
   ]
  },
  {
   "cell_type": "code",
   "execution_count": 3,
   "metadata": {
    "deletable": false,
    "editable": false,
    "nbgrader": {
     "cell_type": "code",
     "checksum": "cb3c9a2b8b2bf4fd5b7446b0c4c00f43",
     "grade": false,
     "grade_id": "cell-9b6ff1a17124711f",
     "locked": true,
     "schema_version": 3,
     "solution": false,
     "task": false
    }
   },
   "outputs": [
    {
     "name": "stdout",
     "output_type": "stream",
     "text": [
      "Files in this directory with sizes:\n",
      "          0 Jun 19 21:01 README\n",
      "\n",
      "    2187734 Jun 19 20:55 cacm.all              text of documents\n",
      "        626 Jun 19 20:58 cite.info             key to citation info\n",
      "                                                (the X sections in cacm.all)\n",
      "       2668 Jun 19 20:55 common_words           stop words used by smart\n",
      "       2194 Jun 19 20:55 make_coll*             shell script to make collection\n",
      "       1557 Jun 19 20:55 make_coll_term*        ditto (both useless without\n",
      "                                                smart system)\n",
      "       9948 Jun 19 20:55 qrels.text             relation giving\n",
      "                                                    qid did 0 0\n",
      "                                                to indicate dument did is\n",
      "                                                relevant to query qid\n",
      "      13689 Jun 19 20:55 query.text             Original text of the query\n",
      "\n"
     ]
    }
   ],
   "source": [
    "##### Read the README file \n",
    "with open (\"./datasets/README\",\"r\") as file:\n",
    "    readme = file.read()\n",
    "    print(readme)\n",
    "#####"
   ]
  },
  {
   "cell_type": "markdown",
   "metadata": {
    "deletable": false,
    "editable": false,
    "nbgrader": {
     "cell_type": "markdown",
     "checksum": "6e2712c4c4632bf7486a532f7f18074d",
     "grade": false,
     "grade_id": "cell-73351431869fda76",
     "locked": true,
     "schema_version": 3,
     "solution": false,
     "task": false
    }
   },
   "source": [
    "---\n",
    "We are interested in 4 files:\n",
    "- `cacm.all` : Contains the text for all documents. Note that some documents do not have abstracts available\n",
    "- `query.text` : The text of all queries\n",
    "- `qrels.text` : The relevance judgements\n",
    "- `common_words` : A list of common words. This may be used as a collection of stopwords"
   ]
  },
  {
   "cell_type": "code",
   "execution_count": 4,
   "metadata": {
    "deletable": false,
    "editable": false,
    "nbgrader": {
     "cell_type": "code",
     "checksum": "f1162c15177eb4ffe466531d03cff4a2",
     "grade": false,
     "grade_id": "cell-b44dd14079f278ca",
     "locked": true,
     "schema_version": 3,
     "solution": false,
     "task": false
    }
   },
   "outputs": [
    {
     "name": "stdout",
     "output_type": "stream",
     "text": [
      ".I 1\n",
      ".T\n",
      "Preliminary Report-International Algebraic Language\n",
      ".B\n",
      "CACM December, 1958\n",
      ".A\n",
      "Perlis, A. J.\n",
      "Samelson,K.\n",
      ".N\n",
      "CA581203 JB March 22, 1978  8:28 PM\n",
      ".X\n",
      "100\t5\t1\n",
      "123\t5\t1\n",
      "164\t5\t1\n",
      "1\t5\t1\n",
      "1\t5\t1\n",
      "1\t5\t1\n",
      "205\t5\t1\n",
      "210\t5\t1\n",
      "214\t5\t1\n",
      "1982\t5\t1\n",
      "398\t5\t1\n",
      "642\t5\t1\n",
      "669\t5\t1\n",
      "1\t6\t1\n",
      "1\t6\t1\n",
      "1\t6\t1\n",
      "1\t6\t1\n",
      "1\t6\t1\n",
      "1\t6\t1\n",
      "1\t6\t1\n",
      "1\t6\t1\n",
      "1\t6\t1\n",
      "1\t6\t1\n",
      "165\t6\t1\n",
      "196\t6\t1\n",
      "196\t6\t1\n",
      "1273\t6\t1\n",
      "1883\t6\t1\n",
      "324\t6\t1\n",
      "43\t6\t1\n",
      "53\t6\t1\n",
      "91\t6\t1\n",
      "410\t6\t1\n",
      "3184\t6\t1\n",
      "\n"
     ]
    }
   ],
   "source": [
    "##### The first 45 lines of the CACM dataset forms the first record\n",
    "# We are interested only in 3 fields. \n",
    "# 1. the '.I' field, which is the document id\n",
    "# 2. the '.T' field (the title) and\n",
    "# 3. the '.W' field (the abstract, which may be absent)\n",
    "with open (\"./datasets/cacm.all\",\"r\") as file:\n",
    "    cacm_all = \"\".join(file.readlines()[:45])\n",
    "    print(cacm_all)\n",
    "#####"
   ]
  },
  {
   "cell_type": "markdown",
   "metadata": {
    "deletable": false,
    "editable": false,
    "nbgrader": {
     "cell_type": "markdown",
     "checksum": "250b413baccd8efb186bb46a34ae0060",
     "grade": false,
     "grade_id": "cell-c4bf2e263ec553d8",
     "locked": true,
     "schema_version": 3,
     "solution": false,
     "task": false
    }
   },
   "source": [
    "---\n",
    "\n",
    "The following function reads the `cacm.all` file. Note that each document has a variable number of lines. The `.I` field denotes a new document:"
   ]
  },
  {
   "cell_type": "code",
   "execution_count": 5,
   "metadata": {
    "deletable": false,
    "editable": false,
    "nbgrader": {
     "cell_type": "code",
     "checksum": "57d757e6a7a6938740dc899022b4f291",
     "grade": false,
     "grade_id": "cell-b736116eb419c624",
     "locked": true,
     "schema_version": 3,
     "solution": false,
     "task": false
    }
   },
   "outputs": [],
   "source": [
    "def read_cacm_docs(root_folder = \"./datasets/\"):\n",
    "    \"\"\"\n",
    "        Reads in the CACM documents. The dataset is assumed to be in the folder \"./datasets/\" by default\n",
    "        Returns: A list of 2-tuples: (doc_id, document), where 'document' is a single string created by \n",
    "            appending the title and abstract (separated by a \"\\n\"). \n",
    "            In case the record doesn't have an abstract, the document is composed only by the title\n",
    "    \"\"\"\n",
    "    with open(os.path.join(root_folder, \"cacm.all\")) as reader:\n",
    "        lines = reader.readlines()\n",
    "    \n",
    "    doc_id, title, abstract = None, None, None\n",
    "    \n",
    "    docs = []\n",
    "    line_idx = 0\n",
    "    while line_idx < len(lines):\n",
    "        line = lines[line_idx]\n",
    "        if line.startswith(\".I\"):\n",
    "            if doc_id is not None:\n",
    "                docs.append((doc_id, title, abstract))\n",
    "                doc_id, title, abstract = None, None, None\n",
    "            \n",
    "            doc_id = line.split()[-1]\n",
    "            line_idx += 1\n",
    "        elif line.startswith(\".T\"):\n",
    "            # start at next line\n",
    "            line_idx += 1\n",
    "            temp_lines = []\n",
    "            # read till next '.'\n",
    "            while not lines[line_idx].startswith(\".\"):\n",
    "                temp_lines.append(lines[line_idx].strip(\"\\n\"))\n",
    "                line_idx += 1\n",
    "            title = \"\\n\".join(temp_lines).strip(\"\\n\")\n",
    "        elif line.startswith(\".W\"):\n",
    "            # start at next line\n",
    "            line_idx += 1\n",
    "            temp_lines = []\n",
    "            # read till next '.'\n",
    "            while not lines[line_idx].startswith(\".\"):\n",
    "                temp_lines.append(lines[line_idx].strip(\"\\n\"))\n",
    "                line_idx += 1\n",
    "            abstract = \"\\n\".join(temp_lines).strip(\"\\n\")\n",
    "        else:\n",
    "            line_idx += 1\n",
    "    \n",
    "    docs.append((doc_id, title, abstract))\n",
    "    \n",
    "    p_docs = []\n",
    "    for (did, t, a) in docs:\n",
    "        if a is None:\n",
    "            a = \"\"\n",
    "        p_docs.append((did, t + \"\\n\" + a))\n",
    "    return p_docs\n"
   ]
  },
  {
   "cell_type": "code",
   "execution_count": 6,
   "metadata": {
    "deletable": false,
    "editable": false,
    "nbgrader": {
     "cell_type": "code",
     "checksum": "2f81930fcd89670b6e20e2255e1f2369",
     "grade": false,
     "grade_id": "cell-a1c43818e0d3fd79",
     "locked": true,
     "schema_version": 3,
     "solution": false,
     "task": false
    }
   },
   "outputs": [],
   "source": [
    "##### Function check\n",
    "docs = read_cacm_docs()\n",
    "\n",
    "assert isinstance(docs, list)\n",
    "assert len(docs) == 3204, \"There should be exactly 3204 documents\"\n",
    "\n",
    "unzipped_docs = list(zip(*docs))\n",
    "assert np.sum(np.array(list(map(int,unzipped_docs[0])))) == 5134410\n",
    "\n",
    "##### "
   ]
  },
  {
   "cell_type": "markdown",
   "metadata": {
    "deletable": false,
    "editable": false,
    "nbgrader": {
     "cell_type": "markdown",
     "checksum": "25fd3cfaf2137c56002b850699b3c9d3",
     "grade": false,
     "grade_id": "cell-5ed2ddc91f73c60e",
     "locked": true,
     "schema_version": 3,
     "solution": false,
     "task": false
    }
   },
   "source": [
    "---\n",
    "### 1.2 Read the CACM queries\n",
    "\n",
    "Next, let us read the queries. They are formatted similarly:"
   ]
  },
  {
   "cell_type": "code",
   "execution_count": 7,
   "metadata": {
    "deletable": false,
    "editable": false,
    "nbgrader": {
     "cell_type": "code",
     "checksum": "5d26c0908e758acb9968b84056b1060a",
     "grade": false,
     "grade_id": "cell-5c7e8e7c4fc2757f",
     "locked": true,
     "schema_version": 3,
     "solution": false,
     "task": false
    }
   },
   "outputs": [
    {
     "name": "stdout",
     "output_type": "stream",
     "text": [
      ".I 1\n",
      ".W\n",
      " What articles exist which deal with TSS (Time Sharing System), an\n",
      "operating system for IBM computers?\n",
      ".N\n",
      " 1. Richard Alexander, Comp Serv, Langmuir Lab (TSS)\n",
      " \n",
      ".I 2\n",
      ".W\n",
      " I am interested in articles written either by Prieve or Udo Pooch\n",
      ".A\n",
      "Prieve, B.\n",
      "Pooch, U.\n",
      ".N\n",
      " 2. Richard Alexander, Comp Serv, Langmuir Lab (author = Pooch or Prieve)\n"
     ]
    }
   ],
   "source": [
    "##### The first 15 lines of 'query.text' has 2 queries\n",
    "# We are interested only in 2 fields. \n",
    "# 1. the '.I' - the query id\n",
    "# 2. the '.W' - the query\n",
    "!head -15 ./datasets/query.text\n",
    "#####"
   ]
  },
  {
   "cell_type": "markdown",
   "metadata": {
    "deletable": false,
    "editable": false,
    "nbgrader": {
     "cell_type": "markdown",
     "checksum": "8f19f311a660f30e3f86cb0f7037d54a",
     "grade": false,
     "grade_id": "cell-88e293507d2dcef6",
     "locked": true,
     "schema_version": 3,
     "solution": false,
     "task": false
    }
   },
   "source": [
    "---\n",
    "\n",
    "The following function reads the `query.text` file:"
   ]
  },
  {
   "cell_type": "code",
   "execution_count": 8,
   "metadata": {
    "deletable": false,
    "editable": false,
    "nbgrader": {
     "cell_type": "code",
     "checksum": "e3fbb193211007672849487f5cff1664",
     "grade": false,
     "grade_id": "cell-433e3ad5d0e2572a",
     "locked": true,
     "schema_version": 3,
     "solution": false,
     "task": false
    }
   },
   "outputs": [],
   "source": [
    "def read_queries(root_folder = \"./datasets/\"):\n",
    "    \"\"\"\n",
    "        Reads in the CACM queries. The dataset is assumed to be in the folder \"./datasets/\" by default\n",
    "        Returns: A list of 2-tuples: (query_id, query)\n",
    "    \"\"\"\n",
    "    with open(os.path.join(root_folder, \"query.text\")) as reader:\n",
    "        lines = reader.readlines()\n",
    "    \n",
    "    query_id, query = None, None\n",
    "    \n",
    "    queries = []\n",
    "    line_idx = 0\n",
    "    while line_idx < len(lines):\n",
    "        line = lines[line_idx]\n",
    "        if line.startswith(\".I\"):\n",
    "            if query_id is not None:\n",
    "                queries.append((query_id, query))\n",
    "                query_id, query = None, None\n",
    "    \n",
    "            query_id = line.split()[-1]\n",
    "            line_idx += 1\n",
    "        elif line.startswith(\".W\"):\n",
    "            # start at next line\n",
    "            line_idx += 1\n",
    "            temp_lines = []\n",
    "            # read till next '.'\n",
    "            while not lines[line_idx].startswith(\".\"):\n",
    "                temp_lines.append(lines[line_idx].strip(\"\\n\"))\n",
    "                line_idx += 1\n",
    "            query = \"\\n\".join(temp_lines).strip(\"\\n\")\n",
    "        else:\n",
    "            line_idx += 1\n",
    "    \n",
    "    queries.append((query_id, query))\n",
    "    return queries\n"
   ]
  },
  {
   "cell_type": "code",
   "execution_count": 9,
   "metadata": {
    "deletable": false,
    "editable": false,
    "nbgrader": {
     "cell_type": "code",
     "checksum": "a897b9771b54f447be3418d7246fc4a0",
     "grade": false,
     "grade_id": "cell-6ec540abce66c598",
     "locked": true,
     "schema_version": 3,
     "solution": false,
     "task": false
    }
   },
   "outputs": [],
   "source": [
    "##### Function check\n",
    "queries = read_queries()\n",
    "\n",
    "assert isinstance(queries, list)\n",
    "assert len(queries) == 64 and all([q[1] is not None for q in queries]), \"There should be exactly 64 queries\"\n",
    "\n",
    "unzipped_queries = list(zip(*queries))\n",
    "assert np.sum(np.array(list(map(int,unzipped_queries[0])))) == 2080\n",
    "\n",
    "##### "
   ]
  },
  {
   "cell_type": "markdown",
   "metadata": {
    "deletable": false,
    "editable": false,
    "nbgrader": {
     "cell_type": "markdown",
     "checksum": "a300c41912ac63b239070b4c15c9f5c5",
     "grade": false,
     "grade_id": "cell-1c31569491d7b782",
     "locked": true,
     "schema_version": 3,
     "solution": false,
     "task": false
    }
   },
   "source": [
    "---\n",
    "### 1.3 Read the stop words\n",
    "\n",
    "We use the common words stored in `common_words`:"
   ]
  },
  {
   "cell_type": "code",
   "execution_count": 10,
   "metadata": {
    "deletable": false,
    "editable": false,
    "nbgrader": {
     "cell_type": "code",
     "checksum": "1ad6f5bae6a792504c1c8513ae5751ad",
     "grade": false,
     "grade_id": "cell-34bdb63461418a96",
     "locked": true,
     "schema_version": 3,
     "solution": false,
     "task": false
    }
   },
   "outputs": [
    {
     "name": "stdout",
     "output_type": "stream",
     "text": [
      "a\n",
      "about\n",
      "above\n",
      "accordingly\n",
      "across\n",
      "after\n",
      "afterwards\n",
      "again\n",
      "against\n",
      "all\n"
     ]
    }
   ],
   "source": [
    "##### Read the stop words file \n",
    "!head ./datasets/common_words\n",
    "##### Read the README file "
   ]
  },
  {
   "cell_type": "markdown",
   "metadata": {
    "deletable": false,
    "editable": false,
    "nbgrader": {
     "cell_type": "markdown",
     "checksum": "6d0fe612e770213b6397c2179b07a966",
     "grade": false,
     "grade_id": "cell-4744bde0338895d8",
     "locked": true,
     "schema_version": 3,
     "solution": false,
     "task": false
    }
   },
   "source": [
    "---\n",
    "\n",
    "The following function reads the `common_words` file (For better coverage, we try to keep them in lowercase):"
   ]
  },
  {
   "cell_type": "code",
   "execution_count": 11,
   "metadata": {
    "deletable": false,
    "editable": false,
    "nbgrader": {
     "cell_type": "code",
     "checksum": "9409713fd26eb0c33587e190638997c4",
     "grade": false,
     "grade_id": "cell-7357aa40f64e5bcb",
     "locked": true,
     "schema_version": 3,
     "solution": false,
     "task": false
    }
   },
   "outputs": [],
   "source": [
    "def load_stopwords(root_folder = \"./datasets/\"):\n",
    "    \"\"\"\n",
    "        Loads the stopwords. The dataset is assumed to be in the folder \"./datasets/\" by default\n",
    "        Output: A set of stopwords\n",
    "    \"\"\"\n",
    "    with open(os.path.join(root_folder, \"common_words\")) as reader:\n",
    "        lines = reader.readlines()\n",
    "    stopwords = set([l.strip().lower() for l in lines])\n",
    "    return stopwords\n"
   ]
  },
  {
   "cell_type": "code",
   "execution_count": 12,
   "metadata": {
    "deletable": false,
    "editable": false,
    "nbgrader": {
     "cell_type": "code",
     "checksum": "f1c8153c3c38133bc2db6e7b076ad470",
     "grade": false,
     "grade_id": "cell-2ca3ac162004de97",
     "locked": true,
     "schema_version": 3,
     "solution": false,
     "task": false
    }
   },
   "outputs": [],
   "source": [
    "##### Function check\n",
    "stopwords = load_stopwords()\n",
    "\n",
    "assert isinstance(stopwords, set)\n",
    "assert len(stopwords) == 428, \"There should be exactly 428 stop words\"\n",
    "\n",
    "assert np.sum(np.array(list(map(len,stopwords)))) == 2234\n",
    "\n",
    "##### \n"
   ]
  },
  {
   "cell_type": "markdown",
   "metadata": {
    "deletable": false,
    "editable": false,
    "nbgrader": {
     "cell_type": "markdown",
     "checksum": "92c1191e9e7291dcf0d70dc67b907a65",
     "grade": false,
     "grade_id": "cell-134b72872f4300cb",
     "locked": true,
     "schema_version": 3,
     "solution": false,
     "task": false
    }
   },
   "source": [
    "---\n",
    "### 1.4 Tokenization (3 points)\n",
    "\n",
    "We can now write some basic text processing functions. \n",
    "A first step is to tokenize the text. \n",
    "\n",
    "**Note**: Use the  `WordPunctTokenizer` available in the `nltk` library:"
   ]
  },
  {
   "cell_type": "code",
   "execution_count": 13,
   "metadata": {
    "deletable": false,
    "nbgrader": {
     "cell_type": "code",
     "checksum": "3f5564d3c75bf22fbf832b3a9b938f37",
     "grade": false,
     "grade_id": "cell-322be4c9499bdc4b",
     "locked": false,
     "schema_version": 3,
     "solution": true,
     "task": false
    }
   },
   "outputs": [],
   "source": [
    "# TODO: Implement this! (4 points)\n",
    "def tokenize(text):\n",
    "    \"\"\"\n",
    "        Tokenizes the input text. Use the WordPunctTokenizer\n",
    "        Input: text - a string\n",
    "        Output: a list of tokens\n",
    "    \"\"\"\n",
    "    # YOUR CODE HERE\n",
    "    tokens = nltk.WordPunctTokenizer().tokenize(text)\n",
    "    return tokens"
   ]
  },
  {
   "cell_type": "code",
   "execution_count": 14,
   "metadata": {
    "deletable": false,
    "editable": false,
    "nbgrader": {
     "cell_type": "code",
     "checksum": "e15af22c4d8ae0a3f9dac43bef7097ec",
     "grade": true,
     "grade_id": "cell-7fbf48bf7541a622",
     "locked": true,
     "points": 3,
     "schema_version": 3,
     "solution": false,
     "task": false
    }
   },
   "outputs": [
    {
     "name": "stdout",
     "output_type": "stream",
     "text": [
      "['the', 'quick', 'brown', 'fox', 'jumps', 'over', 'the', 'lazy', 'dog']\n"
     ]
    }
   ],
   "source": [
    "##### Function check\n",
    "text = \"the quick brown fox jumps over the lazy dog\"\n",
    "tokens = tokenize(text)\n",
    "\n",
    "assert isinstance(tokens, list)\n",
    "assert len(tokens) == 9\n",
    "\n",
    "print(tokens)\n",
    "# output: ['the', 'quick', 'brown', 'fox', 'jumps', 'over', 'the', 'lazy', 'dog']\n",
    "#####"
   ]
  },
  {
   "cell_type": "markdown",
   "metadata": {
    "deletable": false,
    "editable": false,
    "nbgrader": {
     "cell_type": "markdown",
     "checksum": "34210618bff4cb47aad2f03cb4b9854c",
     "grade": false,
     "grade_id": "cell-fd1b98ae61b697ca",
     "locked": true,
     "schema_version": 3,
     "solution": false,
     "task": false
    }
   },
   "source": [
    "---\n",
    "### 1.5 Stemming (2 points)\n",
    "\n",
    "Write a function to stem tokens. \n",
    "Again, you can use the nltk library for this:"
   ]
  },
  {
   "cell_type": "code",
   "execution_count": 15,
   "metadata": {
    "deletable": false,
    "nbgrader": {
     "cell_type": "code",
     "checksum": "1c4a6aa979d66158c7b6b992af43293a",
     "grade": false,
     "grade_id": "cell-e3f6c8e3f874b28d",
     "locked": false,
     "schema_version": 3,
     "solution": true,
     "task": false
    }
   },
   "outputs": [],
   "source": [
    "# TODO: Implement this! (3 points)\n",
    "def stem_token(token):\n",
    "    \"\"\"\n",
    "        Stems the given token using the PorterStemmer from the nltk library\n",
    "        Input: a single token\n",
    "        Output: the stem of the token\n",
    "    \"\"\"\n",
    "    # YOUR CODE HERE\n",
    "    stem_token = nltk.stem.PorterStemmer().stem(token)\n",
    "    return stem_token"
   ]
  },
  {
   "cell_type": "code",
   "execution_count": 16,
   "metadata": {
    "deletable": false,
    "editable": false,
    "nbgrader": {
     "cell_type": "code",
     "checksum": "9363b4f09b556d424d9c895d4ab57b1c",
     "grade": true,
     "grade_id": "cell-cd6863e6ee6ed205",
     "locked": true,
     "points": 2,
     "schema_version": 3,
     "solution": false,
     "task": false
    }
   },
   "outputs": [],
   "source": [
    "##### Function check\n",
    "\n",
    "assert stem_token('owned') == 'own'\n",
    "assert stem_token('itemization') == 'item'\n",
    "#####"
   ]
  },
  {
   "cell_type": "markdown",
   "metadata": {
    "deletable": false,
    "editable": false,
    "nbgrader": {
     "cell_type": "markdown",
     "checksum": "0b311d014146da6afa1d39542fab9869",
     "grade": false,
     "grade_id": "cell-47c9f90498699110",
     "locked": true,
     "schema_version": 3,
     "solution": false,
     "task": false
    }
   },
   "source": [
    "---\n",
    "### 1.6 Summary\n",
    "\n",
    "The following function puts it all together. Given an input string, this functions tokenizes and processes it according to the flags that you set."
   ]
  },
  {
   "cell_type": "code",
   "execution_count": 17,
   "metadata": {
    "deletable": false,
    "editable": false,
    "nbgrader": {
     "cell_type": "code",
     "checksum": "2ff2d215ee8e0039c5a91fd3de12e6bd",
     "grade": false,
     "grade_id": "cell-dd0d3f46b30801da",
     "locked": true,
     "schema_version": 3,
     "solution": false,
     "task": false
    }
   },
   "outputs": [],
   "source": [
    "#### Putting it all together\n",
    "def process_text(text, stem=False, remove_stopwords=False, lowercase_text=False):\n",
    "    \n",
    "    tokens = []\n",
    "    for token in tokenize(text):\n",
    "        if remove_stopwords and token.lower() in stopwords:\n",
    "            continue\n",
    "        if stem:\n",
    "            token = stem_token(token)\n",
    "        if lowercase_text:\n",
    "            token = token.lower()\n",
    "        tokens.append(token)\n",
    "\n",
    "    return tokens\n",
    "#### "
   ]
  },
  {
   "cell_type": "markdown",
   "metadata": {
    "deletable": false,
    "editable": false,
    "nbgrader": {
     "cell_type": "markdown",
     "checksum": "02d433b18eb43654fa4306a7bf55b190",
     "grade": false,
     "grade_id": "cell-8d885bfd2edd43ae",
     "locked": true,
     "schema_version": 3,
     "solution": false,
     "task": false
    }
   },
   "source": [
    "---\n",
    "\n",
    "Let's create two sets of preprocessed documents.\n",
    "We can process the documents and queries according to these two configurations:"
   ]
  },
  {
   "cell_type": "code",
   "execution_count": 18,
   "metadata": {
    "deletable": false,
    "editable": false,
    "nbgrader": {
     "cell_type": "code",
     "checksum": "dbe4ca667be6842fdcf512fbcad50c7f",
     "grade": false,
     "grade_id": "cell-d427365ee0fb21d8",
     "locked": true,
     "schema_version": 3,
     "solution": false,
     "task": false
    }
   },
   "outputs": [],
   "source": [
    "# In this configuration:\n",
    "# Don't preprocess the text, except to tokenize \n",
    "config_1 = {\n",
    "  \"stem\": False,\n",
    "  \"remove_stopwords\" : False,\n",
    "  \"lowercase_text\": True\n",
    "} \n",
    "\n",
    "\n",
    "# In this configuration:\n",
    "# Preprocess the text, stem and remove stopwords\n",
    "config_2 = {\n",
    "  \"stem\": True,\n",
    "  \"remove_stopwords\" : True,\n",
    "  \"lowercase_text\": True, \n",
    "} \n",
    "\n",
    "####\n",
    "doc_repr_1 = []\n",
    "doc_repr_2 = []\n",
    "for (doc_id, document) in docs:\n",
    "    doc_repr_1.append((doc_id, process_text(document, **config_1)))\n",
    "    doc_repr_2.append((doc_id, process_text(document, **config_2)))\n",
    "\n",
    "####"
   ]
  },
  {
   "cell_type": "markdown",
   "metadata": {
    "deletable": false,
    "editable": false,
    "nbgrader": {
     "cell_type": "markdown",
     "checksum": "b60589aac19e80941d860d9b3f1e9a16",
     "grade": false,
     "grade_id": "cell-b1c102db61ae7495",
     "locked": true,
     "schema_version": 3,
     "solution": false,
     "task": false
    }
   },
   "source": [
    "--- \n",
    "\n",
    "## Section 2: Indexing (10 points)<a class=\"anchor\" id=\"indexing\"></a>\n",
    "\n",
    "[Back to Part 1](#part1)\n",
    "\n",
    "\n",
    "\n",
    "A retrieval function usually takes in a query document pair, and scores a query against a document.  Our document set is quite small - just a few thousand documents. However, consider a web-scale dataset with a few million documents. In such a scenario, it would become infeasible to score every query and document pair. In such a case, we can build an inverted index. From Wikipedia:\n",
    "\n",
    "> ... , an inverted index (also referred to as a postings file or inverted file) is a database index storing a mapping from content, such as words or numbers, to its locations in a table, .... The purpose of an inverted index is to allow fast full-text searches, at a cost of increased processing when a document is added to the database. ...\n",
    "\n",
    "\n",
    "Consider a simple inverted index, which maps from word to document. This can improve the performance of a retrieval system significantly. In this assignment, we consider a *simple* inverted index, which maps a word to a set of documents. In practice, however, more complex indices might be used.  \n"
   ]
  },
  {
   "cell_type": "markdown",
   "metadata": {
    "deletable": false,
    "editable": false,
    "nbgrader": {
     "cell_type": "markdown",
     "checksum": "710fd943f45523ac36fcb887cc0d4d39",
     "grade": false,
     "grade_id": "cell-fa373192c1b7bb95",
     "locked": true,
     "schema_version": 3,
     "solution": false,
     "task": false
    }
   },
   "source": [
    "### 2.1 Term Frequency-index (10 points)\n",
    "In this assignment, we will be using an index created in memory since our dataset is tiny. To get started, build a simple index that maps each `token` to a list of `(doc_id, count)` where `count` is the count of the `token` in `doc_id`.\n",
    "For consistency, build this index using a python dictionary.\n",
    "    \n",
    "Now, implement a function to build an index:"
   ]
  },
  {
   "cell_type": "code",
   "execution_count": 19,
   "metadata": {
    "deletable": false,
    "nbgrader": {
     "cell_type": "code",
     "checksum": "d4e8c6b658c469379d5fe511de05b536",
     "grade": false,
     "grade_id": "cell-077599b87e953209",
     "locked": false,
     "schema_version": 3,
     "solution": true,
     "task": false
    }
   },
   "outputs": [],
   "source": [
    "# TODO: Implement this! (10 points)\n",
    "\n",
    "from collections import defaultdict\n",
    "from collections import Counter\n",
    "\n",
    "def build_tf_index(documents):\n",
    "    \"\"\"\n",
    "        Build an inverted index (with counts). The output is a dictionary which takes in a token\n",
    "        and returns a list of (doc_id, count) where 'count' is the count of the 'token' in 'doc_id'\n",
    "        Input: a list of documents - (doc_id, tokens) \n",
    "        Output: An inverted index implemented within a pyhton dictionary: [token] -> [(doc_id, token_count)]\n",
    "    \"\"\"\n",
    "    # YOUR CODE HERE\n",
    "#     inverted_index = defaultdict(lambda: [])\n",
    "#     for (doc_id, tokens) in documents:\n",
    "#         for token in tokens:\n",
    "#             if token not in inverted_index:\n",
    "#                 inverted_index[token] = [(doc_id, tokens.count(token))]\n",
    "#             else:\n",
    "#                 inverted_index[token].append((doc_id, tokens.count(token)))\n",
    "#     return inverted_index\n",
    "\n",
    "    tok_dict = defaultdict(lambda: [])\n",
    "    for i, toks in documents:\n",
    "        counter = Counter(toks)\n",
    "        for key in counter.keys():\n",
    "            # Add key if not present\n",
    "            if not (key in tok_dict.keys()):\n",
    "                tok_dict[key] = []\n",
    "            tok_dict[key].append((i,counter[key]))\n",
    "    return tok_dict"
   ]
  },
  {
   "cell_type": "markdown",
   "metadata": {
    "deletable": false,
    "editable": false,
    "nbgrader": {
     "cell_type": "markdown",
     "checksum": "15e7041b4323d2a290322de538ff7670",
     "grade": false,
     "grade_id": "cell-093aebfa504f96f2",
     "locked": true,
     "schema_version": 3,
     "solution": false,
     "task": false
    }
   },
   "source": [
    "---\n",
    "Now we can build indexed documents and preprocess the queries based on the two configurations:"
   ]
  },
  {
   "cell_type": "code",
   "execution_count": 20,
   "metadata": {
    "deletable": false,
    "editable": false,
    "nbgrader": {
     "cell_type": "code",
     "checksum": "e27540c1d8d77a3779a05f557f3f40c6",
     "grade": false,
     "grade_id": "cell-b2ff1676348b90a8",
     "locked": true,
     "schema_version": 3,
     "solution": false,
     "task": false
    }
   },
   "outputs": [],
   "source": [
    "#### Indexed documents based on the two configs\n",
    "\n",
    "# Create the 2 indices\n",
    "tf_index_1 = build_tf_index(doc_repr_1)\n",
    "tf_index_2 = build_tf_index(doc_repr_2)\n",
    "\n",
    "# This function returns the tf_index of the corresponding config\n",
    "def get_index(index_set):\n",
    "    assert index_set in {1, 2}\n",
    "    return {\n",
    "        1: tf_index_1,\n",
    "        2: tf_index_2\n",
    "    }[index_set]\n",
    "\n",
    "####\n",
    "#### Preprocessed query based on the two configs\n",
    "\n",
    "# This function preprocesses the text given the index set, according to the specified config\n",
    "def preprocess_query(text, index_set):\n",
    "    assert index_set in {1, 2}\n",
    "    if index_set == 1:\n",
    "        return process_text(text, **config_1)\n",
    "    elif index_set == 2:\n",
    "        return process_text(text, **config_2)\n",
    "\n",
    "#### "
   ]
  },
  {
   "cell_type": "code",
   "execution_count": 21,
   "metadata": {
    "deletable": false,
    "editable": false,
    "nbgrader": {
     "cell_type": "code",
     "checksum": "f0cbc8703e1248cd6edf03f9019b69db",
     "grade": true,
     "grade_id": "cell-fc7c7232d5d2ee46",
     "locked": true,
     "points": 5,
     "schema_version": 3,
     "solution": false,
     "task": false
    }
   },
   "outputs": [
    {
     "name": "stdout",
     "output_type": "stream",
     "text": [
      "sample tf index for computer: [('4', 1), ('7', 1), ('10', 1), ('13', 1), ('19', 1), ('22', 1), ('23', 1), ('37', 1), ('40', 3), ('41', 1)]\n",
      "sample tf index for examples: [('111', 1), ('320', 1), ('644', 1), ('691', 1), ('727', 1), ('848', 1), ('892', 1), ('893', 1), ('1049', 1), ('1051', 1)]\n"
     ]
    }
   ],
   "source": [
    "##### Function check\n",
    "\n",
    "assert isinstance(tf_index_1, dict)\n",
    "\n",
    "assert isinstance(tf_index_1['computer'], list)\n",
    "print('sample tf index for computer:', tf_index_1['computer'][:10])\n",
    "\n",
    "assert isinstance(tf_index_1['examples'], list)\n",
    "print('sample tf index for examples:', tf_index_1['examples'][:10])\n",
    "#### "
   ]
  },
  {
   "cell_type": "code",
   "execution_count": 22,
   "metadata": {
    "deletable": false,
    "editable": false,
    "nbgrader": {
     "cell_type": "code",
     "checksum": "d49b8ac36815d9a5cb4bed838ab53a50",
     "grade": true,
     "grade_id": "cell-ff06bd11204db250",
     "locked": true,
     "points": 5,
     "schema_version": 3,
     "solution": false,
     "task": false
    }
   },
   "outputs": [
    {
     "name": "stdout",
     "output_type": "stream",
     "text": [
      "sample tf index for computer: [('4', 1), ('7', 1), ('10', 1), ('13', 1), ('19', 1), ('22', 1), ('23', 1), ('37', 1), ('40', 3), ('41', 1)]\n",
      "sample tf index for examples: []\n"
     ]
    }
   ],
   "source": [
    "##### Function check\n",
    "\n",
    "assert isinstance(tf_index_2, dict)\n",
    "\n",
    "assert isinstance(tf_index_2['computer'], list)\n",
    "print('sample tf index for computer:', tf_index_1['computer'][:10])\n",
    "\n",
    "assert isinstance(tf_index_2['examples'], list)\n",
    "print('sample tf index for examples:', tf_index_2['examples'][:10])\n",
    "#### "
   ]
  },
  {
   "cell_type": "markdown",
   "metadata": {
    "deletable": false,
    "editable": false,
    "nbgrader": {
     "cell_type": "markdown",
     "checksum": "880b2ef3ca405f2af6e0667d2dc7a600",
     "grade": false,
     "grade_id": "cell-89eba71f04310291",
     "locked": true,
     "schema_version": 3,
     "solution": false,
     "task": false
    }
   },
   "source": [
    "\n",
    "---\n",
    "## Section 3: Ranking  (80 points) <a class=\"anchor\" id=\"ranking\"></a>\n",
    "\n",
    "[Back to Part 1](#part1)\n",
    "\n",
    "Now that we have cleaned and processed our dataset, we can start building simple IR systems. \n",
    "\n",
    "For now, we consider *simple* IR systems, which involve computing scores from the tokens present in the document/query. More advanced methods are covered in later assignments.\n",
    "\n",
    "We will implement the following methods in this section:\n",
    "- [Section 3.1: Bag of Words](#bow) (10 points)\n",
    "- [Section 3.2: TF-IDF](#tfidf) (15 points)\n",
    "- [Section 3.3: Query Likelihood Model](#qlm) (35 points)\n",
    "- [Section 3.4: BM25](#bm25) (20 points)\n",
    "\n",
    "*All search functions should be able to handle multiple words queries.*\n",
    "\n",
    "**Scoring policy:**\n",
    "Your implementations in this section are scored based on the expected performance of your ranking functions.\n",
    "You will get a full mark if your implementation meets the expected performance (measured by some evaluation metric).\n",
    "Otherwise, you may get partial credit.\n",
    "For example, if your *Bag of words* ranking function has 60% of expected performance, you will get 6 out of 10."
   ]
  },
  {
   "cell_type": "markdown",
   "metadata": {
    "deletable": false,
    "editable": false,
    "nbgrader": {
     "cell_type": "markdown",
     "checksum": "6c74e5061917358300c6e8085ec07864",
     "grade": false,
     "grade_id": "cell-3daf70a60e393adf",
     "locked": true,
     "schema_version": 3,
     "solution": false,
     "task": false
    }
   },
   "source": [
    "--- \n",
    "\n",
    "### Section 3.1: Bag of Words (10 points)<a class=\"anchor\" id=\"bow\"></a>\n",
    "\n",
    "Probably the simplest IR model is the Bag of Words (BOW) model.\n",
    "Implement a function that scores and ranks all the documents against a query using this model.   \n",
    "\n",
    "- For consistency, you should use the count of the token and **not** the binary indicator.\n",
    "- Use `float` type for the scores (even though the scores are integers in this case).\n",
    "- No normalization of the scores is necessary, as the ordering is what we are interested in.\n",
    "- If two documents have the same score, they can have any ordering: you are not required to disambiguate.\n"
   ]
  },
  {
   "cell_type": "code",
   "execution_count": 23,
   "metadata": {
    "deletable": false,
    "nbgrader": {
     "cell_type": "code",
     "checksum": "fee4640e22bfc4f05eb958a675ef40e7",
     "grade": false,
     "grade_id": "cell-de9cf0459c4b9324",
     "locked": false,
     "schema_version": 3,
     "solution": true,
     "task": false
    }
   },
   "outputs": [],
   "source": [
    "# TODO: Implement this! (10 points)\n",
    "def bow_search(query, index_set):\n",
    "    \"\"\"\n",
    "        Perform a search over all documents with the given query. \n",
    "        Note: You have to use the `get_index` function created in the previous cells\n",
    "        Input: \n",
    "            query - a (unprocessed) query\n",
    "            index_set - the index to use\n",
    "        Output: a list of (document_id, score), sorted in descending relevance to the given query. \n",
    "    \"\"\"\n",
    "    index = get_index(index_set)\n",
    "    processed_query = preprocess_query(query, index_set)\n",
    "    # YOUR CODE HERE\n",
    "    \n",
    "    counter = Counter()\n",
    "    for word in processed_query:\n",
    "        for ind, count in index[word]:\n",
    "            counter[ind] += float(count)\n",
    "    return counter.most_common(5)"
   ]
  },
  {
   "cell_type": "code",
   "execution_count": 24,
   "metadata": {
    "deletable": false,
    "editable": false,
    "nbgrader": {
     "cell_type": "code",
     "checksum": "613524fbbf02b1d122c6611a71fbf11b",
     "grade": true,
     "grade_id": "cell-9f6aceae6dd9125f",
     "locked": true,
     "points": 2,
     "schema_version": 3,
     "solution": false,
     "task": false
    }
   },
   "outputs": [],
   "source": [
    "#### Function check\n",
    "\n",
    "test_bow = bow_search(\"how to implement bag of words search\", index_set=1)[:5]\n",
    "assert isinstance(test_bow, list)\n",
    "assert len(test_bow[0]) == 2\n",
    "assert isinstance(test_bow[0][0], str)\n",
    "assert isinstance(test_bow[0][1], float)\n",
    "\n",
    "#### "
   ]
  },
  {
   "cell_type": "code",
   "execution_count": 25,
   "metadata": {
    "deletable": false,
    "editable": false,
    "nbgrader": {
     "cell_type": "code",
     "checksum": "9af20897659edb62fe77598483590500",
     "grade": true,
     "grade_id": "cell-4eed3abf233d9b58",
     "locked": true,
     "points": 2,
     "schema_version": 3,
     "solution": false,
     "task": false
    }
   },
   "outputs": [
    {
     "name": "stdout",
     "output_type": "stream",
     "text": [
      "BOW Results:\n",
      "Rank 0(1.3e+01): On Computing The Fast Fourier Transform\\nCooley an...\n",
      "Rank 1(1.2e+01): Variable Length Tree Structures Having Minimum Ave...\n",
      "Rank 2(1.1e+01): A Modular Computer Sharing System\\nAn alternative ...\n",
      "Rank 3(1e+01): PEEKABIT, Computer Offspring of Punched\\nCard PEEK...\n",
      "Rank 4(9.0): Computer Simulation-Discussion of the\\nTechnique a...\n"
     ]
    }
   ],
   "source": [
    "\n",
    "docs_by_id = dict(docs)\n",
    "def print_results(docs, len_limit=50):    \n",
    "    for i, (doc_id, score) in enumerate(docs):\n",
    "        doc_content = docs_by_id[doc_id].strip().replace(\"\\n\", \"\\\\n\")[:len_limit] + \"...\"\n",
    "        print(f\"Rank {i}({score:.2}): {doc_content}\")\n",
    "\n",
    "test_bow_2 = bow_search(\"computer search word\", index_set=2)[:5]\n",
    "print(f\"BOW Results:\")\n",
    "print_results(test_bow_2)\n"
   ]
  },
  {
   "cell_type": "code",
   "execution_count": 26,
   "metadata": {
    "deletable": false,
    "editable": false,
    "nbgrader": {
     "cell_type": "code",
     "checksum": "3c9c8b16c8e7d1032f101e9da8a6e845",
     "grade": true,
     "grade_id": "cell-4d65a2d7090c466c",
     "locked": true,
     "points": 3,
     "schema_version": 3,
     "solution": false,
     "task": false
    }
   },
   "outputs": [
    {
     "name": "stdout",
     "output_type": "stream",
     "text": [
      "BOW Results:\n",
      "Rank 0(9.0): CURRICULUM 68 -- Recommendations for Academic\\nPro...\n",
      "Rank 1(9.0): Variable Length Tree Structures Having Minimum Ave...\n",
      "Rank 2(7.0): Computer Formulation of the Equations of Motion Us...\n",
      "Rank 3(7.0): The Effects of Multiplexing on a Computer-Communic...\n",
      "Rank 4(6.0): Optimizing Bit-time Computer Simulation\\nA major c...\n"
     ]
    }
   ],
   "source": [
    "\n",
    "test_bow_1 = bow_search(\"computer search word\", index_set=1)[:5]\n",
    "print(f\"BOW Results:\")\n",
    "print_results(test_bow_1)\n"
   ]
  },
  {
   "cell_type": "code",
   "execution_count": 27,
   "metadata": {
    "deletable": false,
    "editable": false,
    "nbgrader": {
     "cell_type": "code",
     "checksum": "b7e593847aa4202ae45ec061fb18ad73",
     "grade": true,
     "grade_id": "cell-dedf36ab5853ce20",
     "locked": true,
     "points": 3,
     "schema_version": 3,
     "solution": false,
     "task": false
    }
   },
   "outputs": [
    {
     "name": "stdout",
     "output_type": "stream",
     "text": [
      "top-5 docs for index1: ('1771', '1936', '1543', '2535', '678')\n",
      "top-5 docs for index2: ('1525', '1936', '1844', '1700', '1366')\n"
     ]
    }
   ],
   "source": [
    "print('top-5 docs for index1:', list(zip(*test_bow_1[:5]))[0])\n",
    "print('top-5 docs for index2:', list(zip(*test_bow_2[:5]))[0])\n"
   ]
  },
  {
   "cell_type": "markdown",
   "metadata": {
    "deletable": false,
    "editable": false,
    "nbgrader": {
     "cell_type": "markdown",
     "checksum": "b04352ee0716dfdf094b8cdb6f32e984",
     "grade": false,
     "grade_id": "cell-a5c09c79ac1f2871",
     "locked": true,
     "schema_version": 3,
     "solution": false,
     "task": false
    }
   },
   "source": [
    "\n",
    "---\n",
    "\n",
    "### Section 3.2: TF-IDF (15 points) <a class=\"anchor\" id=\"tfidf\"></a>\n",
    "\n",
    "Before we implement the tf-idf scoring functions, let's first write a function to compute the document frequencies of all words.  \n",
    "\n",
    "#### 3.2.1 Document frequency (5 points)\n",
    "Compute the document frequencies of all tokens in the collection. \n",
    "Your code should return a dictionary with tokens as its keys and the number of documents containing the token as values.\n",
    "For consistency, the values should have `int` type."
   ]
  },
  {
   "cell_type": "code",
   "execution_count": 28,
   "metadata": {
    "deletable": false,
    "nbgrader": {
     "cell_type": "code",
     "checksum": "5c53263cf4c0b0ffcaae08b91fc364cc",
     "grade": false,
     "grade_id": "cell-9a2369f32e864b8a",
     "locked": false,
     "schema_version": 3,
     "solution": true,
     "task": false
    }
   },
   "outputs": [],
   "source": [
    "# TODO: Implement this! (5 points)\n",
    "def compute_df(documents):\n",
    "    \"\"\"\n",
    "        Compute the document frequency of all terms in the vocabulary\n",
    "        Input: A list of documents\n",
    "        Output: A dictionary with {token: document frequency (int)}\n",
    "    \"\"\"\n",
    "    \n",
    "    # YOUR CODE HERE\n",
    "    doc_repr = []\n",
    "    for (doc_id, document) in enumerate(documents):\n",
    "        doc_repr.append((doc_id, document))\n",
    "    index = build_tf_index(doc_repr)\n",
    "    df = defaultdict(lambda:1)\n",
    "    for tok in index.keys():\n",
    "        items = index[tok]\n",
    "        df[tok] = len(items)\n",
    "    return df"
   ]
  },
  {
   "cell_type": "code",
   "execution_count": 29,
   "metadata": {
    "deletable": false,
    "editable": false,
    "nbgrader": {
     "cell_type": "code",
     "checksum": "154985511d7925c5793a1f97dea81880",
     "grade": false,
     "grade_id": "cell-4c3bddd0b73ac90e",
     "locked": true,
     "schema_version": 3,
     "solution": false,
     "task": false
    }
   },
   "outputs": [],
   "source": [
    "#### Compute df based on the two configs\n",
    "\n",
    "# get the document frequencies of each document\n",
    "df_1 = compute_df([d[1] for d in doc_repr_1])\n",
    "df_2 = compute_df([d[1] for d in doc_repr_2])\n",
    "\n",
    "def get_df(index_set):\n",
    "    assert index_set in {1, 2}\n",
    "    return {\n",
    "        1: df_1,\n",
    "        2: df_2\n",
    "    }[index_set]\n",
    "####"
   ]
  },
  {
   "cell_type": "code",
   "execution_count": 30,
   "metadata": {
    "deletable": false,
    "editable": false,
    "nbgrader": {
     "cell_type": "code",
     "checksum": "110cc180068cf3f77c682ee3de2a117c",
     "grade": true,
     "grade_id": "cell-79e8a6db1e5fc46f",
     "locked": true,
     "points": 5,
     "schema_version": 3,
     "solution": false,
     "task": false
    }
   },
   "outputs": [
    {
     "name": "stdout",
     "output_type": "stream",
     "text": [
      "597\n",
      "11\n"
     ]
    }
   ],
   "source": [
    "#### Function check\n",
    "\n",
    "print(df_1['computer'])\n",
    "print(df_2['computer'])\n",
    "####"
   ]
  },
  {
   "cell_type": "markdown",
   "metadata": {
    "deletable": false,
    "editable": false,
    "nbgrader": {
     "cell_type": "markdown",
     "checksum": "d0d577668fa51b80aeab6e67209ae73b",
     "grade": false,
     "grade_id": "cell-52f6acc487e1b96d",
     "locked": true,
     "schema_version": 3,
     "solution": false,
     "task": false
    }
   },
   "source": [
    "---\n",
    "#### 3.2.2 TF-IDF search (10 points)\n",
    "Next, implement a function that computes a tf-idf score, given a query.\n",
    "Use the following formulas for TF and IDF:\n",
    "\n",
    "$$ TF=\\log (1 + f_{d,t}) $$\n",
    "\n",
    "$$ IDF=\\log (\\frac{N}{n_t})$$\n",
    "\n",
    "where $f_{d,t}$ is the frequency of token $t$ in document $d$, $N$ is the number of total documents and $n_t$ is the number of documents containing token $t$.\n",
    "\n",
    "**Note:** your implementation will be auto-graded assuming you have used the above formulas.\n"
   ]
  },
  {
   "cell_type": "code",
   "execution_count": 31,
   "metadata": {
    "deletable": false,
    "nbgrader": {
     "cell_type": "code",
     "checksum": "3534c44b4a3419ca1db98eebe7115dc1",
     "grade": false,
     "grade_id": "cell-2fb5ba34b2994cd9",
     "locked": false,
     "schema_version": 3,
     "solution": true,
     "task": false
    }
   },
   "outputs": [],
   "source": [
    "# TODO: Implement this! (10 points)\n",
    "def tfidf_search(query, index_set):\n",
    "    \"\"\"\n",
    "        Perform a search over all documents with the given query using tf-idf. \n",
    "        Note #1: You have to use the `get_index` (and the `get_df`) function created in the previous cells\n",
    "        Input: \n",
    "            query - a (unprocessed) query\n",
    "            index_set - the index to use\n",
    "        Output: a list of (document_id, score), sorted in descending relevance to the given query \n",
    "    \"\"\"\n",
    "    index = get_index(index_set)\n",
    "    df = get_df(index_set)\n",
    "    processed_query = preprocess_query(query, index_set)\n",
    "    N = len(docs)\n",
    "    # YOUR CODE HERE\n",
    "    \n",
    "    score = Counter()\n",
    "    for word in processed_query:\n",
    "        if df[word]:\n",
    "            idf = np.log(N/df[word])\n",
    "        for ind, count in index[word]:\n",
    "            tf = np.log(1 + float(count))\n",
    "            score[ind] += tf*idf\n",
    "    return score.most_common()"
   ]
  },
  {
   "cell_type": "code",
   "execution_count": 32,
   "metadata": {
    "deletable": false,
    "editable": false,
    "nbgrader": {
     "cell_type": "code",
     "checksum": "7b66a514663d898694b09a23a597312b",
     "grade": true,
     "grade_id": "cell-bc68aeeacf42beb3",
     "locked": true,
     "points": 2,
     "schema_version": 3,
     "solution": false,
     "task": false
    }
   },
   "outputs": [],
   "source": [
    "\n",
    "#### Function check\n",
    "test_tfidf = tfidf_search(\"how to implement tf idf search\", index_set=1)[:5]\n",
    "assert isinstance(test_tfidf, list)\n",
    "assert len(test_tfidf[0]) == 2\n",
    "assert isinstance(test_tfidf[0][0], str)\n",
    "assert isinstance(test_tfidf[0][1], float)\n",
    "\n",
    "####"
   ]
  },
  {
   "cell_type": "code",
   "execution_count": 33,
   "metadata": {
    "deletable": false,
    "editable": false,
    "nbgrader": {
     "cell_type": "code",
     "checksum": "98fb1326cf4bf7983ae237ca8a9105f9",
     "grade": true,
     "grade_id": "cell-c7702fa8179fadb9",
     "locked": true,
     "points": 2,
     "schema_version": 3,
     "solution": false,
     "task": false
    }
   },
   "outputs": [
    {
     "name": "stdout",
     "output_type": "stream",
     "text": [
      "TFIDF Results:\n",
      "Rank 0(1.3e+01): PEEKABIT, Computer Offspring of Punched\\nCard PEEK...\n",
      "Rank 1(9.8): Variable Length Tree Structures Having Minimum Ave...\n",
      "Rank 2(8.2): A Stochastic Approach to the Grammatical Coding of...\n",
      "Rank 3(8.1): Full Table Quadratic Searching for Scatter Storage...\n",
      "Rank 4(7.6): Use of Tree Structures for Processing Files\\nIn da...\n"
     ]
    }
   ],
   "source": [
    "\n",
    "test_tfidf_2 = tfidf_search(\"computer word search\", index_set=2)[:5]\n",
    "print(f\"TFIDF Results:\")\n",
    "print_results(test_tfidf_2)\n"
   ]
  },
  {
   "cell_type": "code",
   "execution_count": 34,
   "metadata": {
    "deletable": false,
    "editable": false,
    "nbgrader": {
     "cell_type": "code",
     "checksum": "733b5b67be5e53989f5b763ce5e52ee9",
     "grade": true,
     "grade_id": "cell-3284f50ac29abbaa",
     "locked": true,
     "points": 3,
     "schema_version": 3,
     "solution": false,
     "task": false
    }
   },
   "outputs": [
    {
     "name": "stdout",
     "output_type": "stream",
     "text": [
      "TFIDF Results:\n",
      "Rank 0(9.4): Variable Length Tree Structures Having Minimum Ave...\n",
      "Rank 1(7.4): On the Feasibility of Voice Input to\\nan On-line C...\n",
      "Rank 2(7.3): Median Split Trees: A Fast Lookup Technique for Fr...\n",
      "Rank 3(7.0): Execution Time Requirements for Encipherment Progr...\n",
      "Rank 4(7.0): Storage and Search Properties of a Tree-Organized ...\n"
     ]
    }
   ],
   "source": [
    "\n",
    "test_tfidf_1 = tfidf_search(\"computer word search\", index_set=1)[:5]\n",
    "print(f\"TFIDF Results:\")\n",
    "print_results(test_tfidf_1)\n"
   ]
  },
  {
   "cell_type": "code",
   "execution_count": 35,
   "metadata": {
    "deletable": false,
    "editable": false,
    "nbgrader": {
     "cell_type": "code",
     "checksum": "e0edb37a5ae807a2de85d578c87ccb78",
     "grade": true,
     "grade_id": "cell-d908c80a3155354b",
     "locked": true,
     "points": 3,
     "schema_version": 3,
     "solution": false,
     "task": false
    }
   },
   "outputs": [
    {
     "name": "stdout",
     "output_type": "stream",
     "text": [
      "top-5 docs for index1 with BOW search: ('1771', '1936', '1543', '2535', '678')\n",
      "top-5 docs for index2 with BOW search: ('1525', '1936', '1844', '1700', '1366')\n",
      "top-5 docs for index1 with TF-IDF search: ('1936', '2054', '3041', '2620', '944')\n",
      "top-5 docs for index2 with TF-IDF search: ('1700', '1936', '1235', '2018', '849')\n"
     ]
    }
   ],
   "source": [
    "\n",
    "print('top-5 docs for index1 with BOW search:', list(zip(*test_bow_1[:5]))[0])\n",
    "print('top-5 docs for index2 with BOW search:', list(zip(*test_bow_2[:5]))[0])\n",
    "print('top-5 docs for index1 with TF-IDF search:', list(zip(*test_tfidf_1[:5]))[0])\n",
    "print('top-5 docs for index2 with TF-IDF search:', list(zip(*test_tfidf_2[:5]))[0])\n",
    "\n"
   ]
  },
  {
   "cell_type": "markdown",
   "metadata": {
    "deletable": false,
    "editable": false,
    "nbgrader": {
     "cell_type": "markdown",
     "checksum": "cdffc83f0eaea937cf64a212e7e9af8d",
     "grade": false,
     "grade_id": "cell-f5d923459ba21733",
     "locked": true,
     "schema_version": 3,
     "solution": false,
     "task": false
    }
   },
   "source": [
    "--- \n",
    "\n",
    "### Section 3.3: Query Likelihood Model (35 points) <a class=\"anchor\" id=\"qlm\"></a>\n",
    "\n",
    "In this section, you will implement a simple query likelihood model. \n",
    "\n",
    "\n",
    "#### 3.3.1 Naive QL (15 points)\n",
    "\n",
    "First, let us implement a naive version of a QL model, assuming a multinomial unigram language model (with a uniform prior over the documents). \n",
    "\n"
   ]
  },
  {
   "cell_type": "code",
   "execution_count": 36,
   "metadata": {
    "deletable": false,
    "editable": false,
    "nbgrader": {
     "cell_type": "code",
     "checksum": "b7ae2b7d818b428b4638c1c9206d2aca",
     "grade": false,
     "grade_id": "cell-98505778f7b68e7f",
     "locked": true,
     "schema_version": 3,
     "solution": false,
     "task": false
    }
   },
   "outputs": [],
   "source": [
    "#### Document length for normalization\n",
    "\n",
    "def doc_lengths(documents):\n",
    "    doc_lengths = {doc_id:len(doc) for (doc_id, doc) in documents}\n",
    "    return doc_lengths\n",
    "\n",
    "doc_lengths_1 = doc_lengths(doc_repr_1)\n",
    "doc_lengths_2 = doc_lengths(doc_repr_2)\n",
    "\n",
    "def get_doc_lengths(index_set):\n",
    "    assert index_set in {1, 2}\n",
    "    return {\n",
    "        1: doc_lengths_1,\n",
    "        2: doc_lengths_2\n",
    "    }[index_set]\n",
    "####"
   ]
  },
  {
   "cell_type": "code",
   "execution_count": 37,
   "metadata": {
    "deletable": false,
    "nbgrader": {
     "cell_type": "code",
     "checksum": "cedd08303a914243fefdb6b876977ca1",
     "grade": false,
     "grade_id": "cell-8bcf2b804d636c2e",
     "locked": false,
     "schema_version": 3,
     "solution": true,
     "task": false
    }
   },
   "outputs": [],
   "source": [
    "# TODO: Implement this! (15 points)\n",
    "def naive_ql_search(query, index_set):\n",
    "    \"\"\"\n",
    "        Perform a search over all documents with the given query using a naive QL model. \n",
    "        Note #1: You have to use the `get_index` (and get_doc_lengths) function created in the previous cells\n",
    "        Input: \n",
    "            query - a (unprocessed) query\n",
    "            index_set - the index to use\n",
    "        Output: a list of (document_id, score), sorted in descending relevance to the given query \n",
    "    \"\"\"\n",
    "    index = get_index(index_set)\n",
    "    doc_lengths = get_doc_lengths(index_set)\n",
    "    processed_query = preprocess_query(query, index_set)\n",
    "    # YOUR CODE HERE\n",
    "\n",
    "    scores = []\n",
    "\n",
    "    for word in processed_query:\n",
    "        for key, value in index.items():\n",
    "            if word == key:\n",
    "                tot = [(doc_id, token_count / doc_lengths[doc_id]) for doc_id, token_count in value]\n",
    "                scores.extend(tot)\n",
    "\n",
    "                doc = [doc_id for doc_id, token_count in value]\n",
    "\n",
    "                for i in range(len(docs)):\n",
    "                    i += 1 \n",
    "                    if i not in doc:\n",
    "                        scores.append((i, 0))\n",
    "                        \n",
    "    d_query = defaultdict(lambda:[])\n",
    "\n",
    "    for (key, value) in scores:\n",
    "        if key in d_query:\n",
    "            d_query[key] *= value\n",
    "        else:\n",
    "            d_query[key] = value\n",
    "\n",
    "    scores = [(key, float(value)) for key, value in d_query.items()]\n",
    "    scores.sort(key = lambda x:x[1], reverse = True)\n",
    "\n",
    "    return scores\n",
    "    "
   ]
  },
  {
   "cell_type": "code",
   "execution_count": 38,
   "metadata": {
    "deletable": false,
    "editable": false,
    "nbgrader": {
     "cell_type": "code",
     "checksum": "b550d15bdad28354c336020a00c33d56",
     "grade": true,
     "grade_id": "cell-5a83ac12ecde8578",
     "locked": true,
     "points": 3,
     "schema_version": 3,
     "solution": false,
     "task": false
    }
   },
   "outputs": [
    {
     "name": "stdout",
     "output_type": "stream",
     "text": [
      "Naive QL Results:\n",
      "Rank 0(0.2): A Report Writer For COBOL...\n",
      "Rank 1(0.2): A CRT Report Generating System...\n",
      "Rank 2(0.17): Preliminary Report-International Algebraic Languag...\n",
      "Rank 3(0.17): Supplement to the ALGOL 60 Report...\n",
      "Rank 4(0.14): ALGOL Sub-Committee Report - Extensions...\n"
     ]
    }
   ],
   "source": [
    "#### Function check\n",
    "test_naiveql = naive_ql_search(\"report\", index_set=1)[:5]\n",
    "print(f\"Naive QL Results:\")\n",
    "print_results(test_naiveql)\n",
    "####"
   ]
  },
  {
   "cell_type": "code",
   "execution_count": 39,
   "metadata": {
    "deletable": false,
    "editable": false,
    "nbgrader": {
     "cell_type": "code",
     "checksum": "799df1d81c63fe90edbb6c218fc707fb",
     "grade": true,
     "grade_id": "cell-80f4bf2137f997bb",
     "locked": true,
     "points": 2,
     "schema_version": 3,
     "solution": false,
     "task": false
    }
   },
   "outputs": [],
   "source": [
    "#### Please do not change this. This cell is used for grading."
   ]
  },
  {
   "cell_type": "code",
   "execution_count": 40,
   "metadata": {
    "deletable": false,
    "editable": false,
    "nbgrader": {
     "cell_type": "code",
     "checksum": "875a4a517d27e20625d41783cebec118",
     "grade": true,
     "grade_id": "cell-5ce2993458a8ce51",
     "locked": true,
     "points": 3,
     "schema_version": 3,
     "solution": false,
     "task": false
    }
   },
   "outputs": [],
   "source": [
    "#### Please do not change this. This cell is used for grading."
   ]
  },
  {
   "cell_type": "code",
   "execution_count": 41,
   "metadata": {
    "deletable": false,
    "editable": false,
    "nbgrader": {
     "cell_type": "code",
     "checksum": "d5c4e1c3852e71a46f32825b122f1b71",
     "grade": true,
     "grade_id": "cell-7753bdb54e292f3d",
     "locked": true,
     "points": 3,
     "schema_version": 3,
     "solution": false,
     "task": false
    }
   },
   "outputs": [],
   "source": [
    "#### Please do not change this. This cell is used for grading."
   ]
  },
  {
   "cell_type": "code",
   "execution_count": 42,
   "metadata": {
    "deletable": false,
    "editable": false,
    "nbgrader": {
     "cell_type": "code",
     "checksum": "c4d4332d4356e89ce0240f6b80e1899a",
     "grade": true,
     "grade_id": "cell-54e476e2f96e64bb",
     "locked": true,
     "points": 4,
     "schema_version": 3,
     "solution": false,
     "task": false
    }
   },
   "outputs": [],
   "source": [
    "#### Please do not change this. This cell is used for grading."
   ]
  },
  {
   "cell_type": "markdown",
   "metadata": {
    "deletable": false,
    "editable": false,
    "nbgrader": {
     "cell_type": "markdown",
     "checksum": "8d739dc91a22bd48897f603885f95a74",
     "grade": false,
     "grade_id": "cell-5414dfd69dab8b94",
     "locked": true,
     "schema_version": 3,
     "solution": false,
     "task": false
    }
   },
   "source": [
    "---\n",
    "#### 3.3.2 QL (20 points)\n",
    "Now, let's implement a QL model that handles the issues with the naive version. In particular, you will implement a QL model with Jelinek-Mercer Smoothing. That means an interpolated score is computed per word - one term is the same as the previous naive version, and the second term comes from a unigram language model. In addition, you should accumulate the scores by summing the **log** (smoothed) probability which leads to better numerical stability."
   ]
  },
  {
   "cell_type": "code",
   "execution_count": 43,
   "metadata": {
    "deletable": false,
    "nbgrader": {
     "cell_type": "code",
     "checksum": "b8c6abf937ad333e628f1db891f2e29e",
     "grade": false,
     "grade_id": "cell-bb1f506409771257",
     "locked": false,
     "schema_version": 3,
     "solution": true,
     "task": false
    }
   },
   "outputs": [],
   "source": [
    "# TODO: Implement this! (20 points)\n",
    "\n",
    "# YOUR CODE HERE\n",
    "#raise NotImplementedError()\n",
    "\n",
    "def ql_search(query, index_set):\n",
    "    \"\"\"\n",
    "        Perform a search over all documents with the given query using a QL model \n",
    "        with Jelinek-Mercer Smoothing (set smoothing=0.1). \n",
    "        \n",
    "        \n",
    "        Note #1: You have to use the `get_index` (and get_doc_lengths) function created in the previous cells\n",
    "        Note #2: You might have to create some variables beforehand and use them in this function\n",
    "        \n",
    "        \n",
    "        Input: \n",
    "            query - a (unprocessed) query\n",
    "            index_set - the index to use\n",
    "        Output: a list of (document_id, score), sorted in descending relevance to the given query \n",
    "    \"\"\"\n",
    "    index = get_index(index_set)\n",
    "    doc_lengths = get_doc_lengths(index_set)\n",
    "    processed_query = preprocess_query(query, index_set)\n",
    "    \n",
    "    # YOUR CODE HERE\n",
    "    smoothing = 0.1\n",
    "    lengths = sum(doc_lengths.values())\n",
    "    freqs = {i: sum(count for doc_id, count in value) for i, value in index.items()}\n",
    "    scores = []\n",
    "    \n",
    "    for word in processed_query:\n",
    "        for key, value in index.items():\n",
    "            if word == key:\n",
    "                tot = [(doc_id, np.log((1 - smoothing) * (token_count / doc_lengths[doc_id]) + smoothing * (freqs[key] / lengths))) for doc_id, token_count in value]\n",
    "                scores.extend(tot)\n",
    "                \n",
    "                doc = [doc_id for doc_id, token_count in value]\n",
    "                for i in range(len(docs)):\n",
    "                    i += 1\n",
    "                    if i not in doc:\n",
    "                        scores.append((i, np.log(0 + smoothing * (freqs[key] / lengths))))\n",
    "    \n",
    "    d_query = defaultdict(lambda:[])\n",
    "    for (key, value) in scores:\n",
    "        if key in d_query:\n",
    "            d_query[key] += value\n",
    "        else:\n",
    "            d_query[key] = value\n",
    "\n",
    "    scores = [(key, float(value)) for key, value in d_query.items()]\n",
    "    scores.sort(key = lambda x:x[1], reverse = True)\n",
    "    \n",
    "    return scores\n",
    "    "
   ]
  },
  {
   "cell_type": "code",
   "execution_count": 44,
   "metadata": {
    "deletable": false,
    "editable": false,
    "nbgrader": {
     "cell_type": "code",
     "checksum": "0b12a7f3355193a257fd9f5f69a66562",
     "grade": true,
     "grade_id": "cell-850e9d6369bcec32",
     "locked": true,
     "points": 4,
     "schema_version": 3,
     "solution": false,
     "task": false
    }
   },
   "outputs": [
    {
     "name": "stdout",
     "output_type": "stream",
     "text": [
      "Rank 0(-1.7): A Report Writer For COBOL...\n",
      "Rank 1(-1.7): A CRT Report Generating System...\n",
      "Rank 2(-1.9): Preliminary Report-International Algebraic Languag...\n",
      "Rank 3(-1.9): Supplement to the ALGOL 60 Report...\n",
      "Rank 4(-2.1): ALGOL Sub-Committee Report - Extensions...\n",
      "\n",
      "Rank 0(-1.7e+01): A Report Writer For COBOL...\n",
      "Rank 1(-1.7e+01): A CRT Report Generating System...\n",
      "Rank 2(-1.9e+01): Preliminary Report-International Algebraic Languag...\n",
      "Rank 3(-1.9e+01): Supplement to the ALGOL 60 Report...\n",
      "Rank 4(-2.1e+01): ALGOL Sub-Committee Report - Extensions...\n"
     ]
    }
   ],
   "source": [
    "#### Function check\n",
    "test_ql_results = ql_search(\"report\", index_set=1)[:5]\n",
    "print_results(test_ql_results)\n",
    "print()\n",
    "test_ql_results_long = ql_search(\"report \" * 10, index_set=1)[:5]\n",
    "print_results(test_ql_results_long)\n",
    "####"
   ]
  },
  {
   "cell_type": "code",
   "execution_count": 45,
   "metadata": {
    "deletable": false,
    "editable": false,
    "nbgrader": {
     "cell_type": "code",
     "checksum": "e40be645140389c115849856145f5b59",
     "grade": true,
     "grade_id": "cell-958cdcf6fd6899b7",
     "locked": true,
     "points": 3,
     "schema_version": 3,
     "solution": false,
     "task": false
    }
   },
   "outputs": [],
   "source": [
    "#### Please do not change this. This cell is used for grading."
   ]
  },
  {
   "cell_type": "code",
   "execution_count": 46,
   "metadata": {
    "deletable": false,
    "editable": false,
    "nbgrader": {
     "cell_type": "code",
     "checksum": "41d4aff001df17e7963ba79b45810b30",
     "grade": true,
     "grade_id": "cell-384dc23a0c251f6e",
     "locked": true,
     "points": 4,
     "schema_version": 3,
     "solution": false,
     "task": false
    }
   },
   "outputs": [],
   "source": [
    "#### Please do not change this. This cell is used for grading."
   ]
  },
  {
   "cell_type": "code",
   "execution_count": 47,
   "metadata": {
    "deletable": false,
    "editable": false,
    "nbgrader": {
     "cell_type": "code",
     "checksum": "893e8c5a073abc8ebb763d267b91bc02",
     "grade": true,
     "grade_id": "cell-7218966cba5097cc",
     "locked": true,
     "points": 4,
     "schema_version": 3,
     "solution": false,
     "task": false
    }
   },
   "outputs": [],
   "source": [
    "#### Please do not change this. This cell is used for grading."
   ]
  },
  {
   "cell_type": "code",
   "execution_count": 48,
   "metadata": {
    "deletable": false,
    "editable": false,
    "nbgrader": {
     "cell_type": "code",
     "checksum": "f99cb6f8b1f5830aaed8f06712ff846e",
     "grade": true,
     "grade_id": "cell-481ab073259ae53f",
     "locked": true,
     "points": 5,
     "schema_version": 3,
     "solution": false,
     "task": false
    }
   },
   "outputs": [],
   "source": [
    "#### Please do not change this. This cell is used for grading."
   ]
  },
  {
   "cell_type": "markdown",
   "metadata": {
    "deletable": false,
    "editable": false,
    "nbgrader": {
     "cell_type": "markdown",
     "checksum": "c02f14705d679579b1aa9f78f54779d5",
     "grade": false,
     "grade_id": "cell-f44088bfdac1dc90",
     "locked": true,
     "schema_version": 3,
     "solution": false,
     "task": false
    }
   },
   "source": [
    "--- \n",
    "\n",
    "### Section 3.4: BM25 (20 points) <a class=\"anchor\" id=\"bm25\"></a>\n",
    "\n",
    "In this section, we will implement the BM25 scoring function. \n"
   ]
  },
  {
   "cell_type": "code",
   "execution_count": 49,
   "metadata": {
    "deletable": false,
    "nbgrader": {
     "cell_type": "code",
     "checksum": "e57efe06ea92af1c83784a42eb3d86e0",
     "grade": false,
     "grade_id": "cell-15640fc9b5d00a3c",
     "locked": false,
     "schema_version": 3,
     "solution": true,
     "task": false
    }
   },
   "outputs": [],
   "source": [
    "# TODO: Implement this! (20 points)\n",
    "def bm25_search(query, index_set):\n",
    "    \"\"\"\n",
    "        Perform a search over all documents with the given query using BM25. Use k_1 = 1.5 and b = 0.75\n",
    "        Note #1: You have to use the `get_index` (and `get_doc_lengths`) function created in the previous cells\n",
    "        Note #2: You might have to create some variables beforehand and use them in this function\n",
    "        \n",
    "        Input: \n",
    "            query - a (unprocessed) query\n",
    "            index_set - the index to use\n",
    "        Output: a list of (document_id, score), sorted in descending relevance to the given query \n",
    "    \"\"\"\n",
    "    \n",
    "    index = get_index(index_set)\n",
    "    df = get_df(index_set)\n",
    "    doc_lengths = get_doc_lengths(index_set)\n",
    "    processed_query = preprocess_query(query, index_set)\n",
    "    \n",
    "    # YOUR CODE HERE\n",
    "    b = 0.75\n",
    "    k1 = 1.5\n",
    "    \n",
    "    avg_doc_length = np.mean(list(doc_lengths.values()))\n",
    "    documents = len(docs)\n",
    "    idf = {key: np.log(documents / value) for (key, value) in df.items()}\n",
    "\n",
    "    scores  = []\n",
    "    for word in processed_query:\n",
    "        for key, value in index.items():\n",
    "            if word == key:\n",
    "                scores  += [(doc_id, idf[key] * (((k1 + 1)*token_count)/(k1*((1-b)+(b*doc_lengths[doc_id]/avg_doc_length))+token_count))) for doc_id, token_count in value]\n",
    "\n",
    "    d_query = defaultdict()\n",
    "\n",
    "    for key, value in scores:\n",
    "        if key in d_query:\n",
    "            d_query[key] *= value\n",
    "        else:\n",
    "            d_query[key] = value\n",
    "\n",
    "    scores  = [(key, float(value)) for key, value in d_query.items()]\n",
    "    scores .sort(key=lambda x:x[1], reverse=True)\n",
    "\n",
    "    return scores       \n",
    "    "
   ]
  },
  {
   "cell_type": "code",
   "execution_count": 50,
   "metadata": {
    "deletable": false,
    "editable": false,
    "nbgrader": {
     "cell_type": "code",
     "checksum": "4be9de5d4e94637960d83725422bea6c",
     "grade": true,
     "grade_id": "cell-d10536bca72c74b1",
     "locked": true,
     "points": 3,
     "schema_version": 3,
     "solution": false,
     "task": false
    }
   },
   "outputs": [
    {
     "name": "stdout",
     "output_type": "stream",
     "text": [
      "Rank 0(6.7): A Report Writer For COBOL...\n",
      "Rank 1(6.7): A CRT Report Generating System...\n",
      "Rank 2(6.6): Preliminary Report-International Algebraic Languag...\n",
      "Rank 3(6.6): Supplement to the ALGOL 60 Report...\n",
      "Rank 4(6.5): ALGOL Sub-Committee Report - Extensions...\n"
     ]
    }
   ],
   "source": [
    "#### Function check\n",
    "test_bm25_results = bm25_search(\"report\", index_set=1)[:5]\n",
    "print_results(test_bm25_results)\n",
    "####"
   ]
  },
  {
   "cell_type": "code",
   "execution_count": 51,
   "metadata": {
    "deletable": false,
    "editable": false,
    "nbgrader": {
     "cell_type": "code",
     "checksum": "31b550d6a46ae4f8ede88788799ac2b9",
     "grade": true,
     "grade_id": "cell-60f6ec5052712d79",
     "locked": true,
     "points": 5,
     "schema_version": 3,
     "solution": false,
     "task": false
    }
   },
   "outputs": [],
   "source": [
    "#### Please do not change this. This cell is used for grading."
   ]
  },
  {
   "cell_type": "code",
   "execution_count": 52,
   "metadata": {
    "deletable": false,
    "editable": false,
    "nbgrader": {
     "cell_type": "code",
     "checksum": "3da2ec16bfe781916e71755d65aa2983",
     "grade": true,
     "grade_id": "cell-5d17524043a5abcc",
     "locked": true,
     "points": 5,
     "schema_version": 3,
     "solution": false,
     "task": false
    }
   },
   "outputs": [],
   "source": [
    "#### Please do not change this. This cell is used for grading."
   ]
  },
  {
   "cell_type": "code",
   "execution_count": 53,
   "metadata": {
    "deletable": false,
    "editable": false,
    "nbgrader": {
     "cell_type": "code",
     "checksum": "e7b563d54fa84c20909c0ae107010541",
     "grade": true,
     "grade_id": "cell-ff8e704eda1184e3",
     "locked": true,
     "points": 3,
     "schema_version": 3,
     "solution": false,
     "task": false
    }
   },
   "outputs": [],
   "source": [
    "#### Please do not change this. This cell is used for grading."
   ]
  },
  {
   "cell_type": "code",
   "execution_count": 54,
   "metadata": {
    "deletable": false,
    "editable": false,
    "nbgrader": {
     "cell_type": "code",
     "checksum": "b013f90974b396630a8831d6f1d7e5f7",
     "grade": true,
     "grade_id": "cell-a52310500a2543cb",
     "locked": true,
     "points": 4,
     "schema_version": 3,
     "solution": false,
     "task": false
    }
   },
   "outputs": [],
   "source": [
    "#### Please do not change this. This cell is used for grading."
   ]
  },
  {
   "cell_type": "markdown",
   "metadata": {
    "deletable": false,
    "editable": false,
    "nbgrader": {
     "cell_type": "markdown",
     "checksum": "8fcf67cb7d5e8b26cb9bf1f0aa42c847",
     "grade": false,
     "grade_id": "cell-8b2b412c81d62f2d",
     "locked": true,
     "schema_version": 3,
     "solution": false,
     "task": false
    }
   },
   "source": [
    "\n",
    "---\n",
    "\n",
    "### 3.5. Test Your Functions\n",
    "\n",
    "The widget below allows you to play with the search functions you've written so far. Use this to test your search functions and ensure that they work as expected."
   ]
  },
  {
   "cell_type": "code",
   "execution_count": 55,
   "metadata": {
    "deletable": false,
    "editable": false,
    "nbgrader": {
     "cell_type": "code",
     "checksum": "dfeb204b390acc0794dbdcac92b0cf2c",
     "grade": false,
     "grade_id": "cell-c9c2bb76354e8d97",
     "locked": true,
     "schema_version": 3,
     "solution": false,
     "task": false
    }
   },
   "outputs": [],
   "source": [
    "#### Highlighter function\n",
    "# class for results\n",
    "ResultRow = namedtuple(\"ResultRow\", [\"doc_id\", \"snippet\", \"score\"])\n",
    "# doc_id -> doc\n",
    "docs_by_id = dict((d[0], d[1]) for d in docs)\n",
    "\n",
    "def highlight_text(document, query, tol=17):\n",
    "    import re\n",
    "    tokens = tokenize(query)\n",
    "    regex = \"|\".join(f\"(\\\\b{t}\\\\b)\" for t in tokens)\n",
    "    regex = re.compile(regex, flags=re.IGNORECASE)\n",
    "    output = \"\"\n",
    "    i = 0\n",
    "    for m in regex.finditer(document):\n",
    "        start_idx = max(0, m.start() - tol)\n",
    "        end_idx = min(len(document), m.end() + tol)\n",
    "        output += \"\".join([\"...\",\n",
    "                        document[start_idx:m.start()],\n",
    "                        \"<strong>\",\n",
    "                        document[m.start():m.end()],\n",
    "                        \"</strong>\",\n",
    "                        document[m.end():end_idx],\n",
    "                        \"...\"])\n",
    "    return output.replace(\"\\n\", \" \")\n",
    "\n",
    "\n",
    "def make_results(query, search_fn, index_set):\n",
    "    results = []\n",
    "    for doc_id, score in search_fn(query, index_set):\n",
    "        highlight = highlight_text(docs_by_id[doc_id], query)\n",
    "        if len(highlight.strip()) == 0:\n",
    "            highlight = docs_by_id[doc_id]\n",
    "        results.append(ResultRow(doc_id, highlight, score))\n",
    "    return results\n",
    "####"
   ]
  },
  {
   "cell_type": "code",
   "execution_count": 56,
   "metadata": {},
   "outputs": [
    {
     "data": {
      "application/vnd.jupyter.widget-view+json": {
       "model_id": "6faa947339b2470aa941f4847b64efc1",
       "version_major": 2,
       "version_minor": 0
      },
      "text/plain": [
       "Text(value='', description='Search Bar')"
      ]
     },
     "metadata": {},
     "output_type": "display_data"
    },
    {
     "name": "stdout",
     "output_type": "stream",
     "text": [
      "Searching for: 'computer'\n"
     ]
    },
    {
     "data": {
      "text/html": [
       "<ul><li>Document #93(3.2722602625112653): ...From Formulas to <strong>Computer</strong> Oriented Languag......n for enabling a <strong>computer</strong> to translate sim......a  three address <strong>computer</strong> code....</li><li>Document #678(3.1630638910263835): ...imizing Bit-time <strong>Computer</strong> Simulation A maj......nt of a bit-time <strong>computer</strong> simulation progr......ng the simulated <strong>computer</strong>'s digital circui......ed on the \"host\" <strong>computer</strong>.  Techniques are......ptimize bit-time <strong>computer</strong>  simulation.  Th...... general-purpose <strong>computer</strong>....</li><li>Document #1735(3.0291333365575674): ...utures Market in <strong>Computer</strong> time An auction ......d for allocating <strong>computer</strong> time that allows......ows the price of <strong>computer</strong>  time to fluctua......c fluctuation in <strong>computer</strong> use often associ...</li><li>Document #1654(3.014166298761771): ...ional Program in <strong>Computer</strong> Science After a ......orary computers, <strong>computer</strong> science is defin......he objectives of <strong>computer</strong> science educatio......d only through a <strong>computer</strong> science departme......  for Stanford's <strong>Computer</strong> Science Departme...</li><li>Document #2899(2.9984073365759927): ...A Survey of <strong>Computer</strong> Science Offering......r development in <strong>computer</strong> science together......suing  topics in <strong>computer</strong> science beyond t......ine the type  of <strong>computer</strong> science programs......s either have no <strong>computer</strong> science program ...</li></ul>"
      ],
      "text/plain": [
       "<IPython.core.display.HTML object>"
      ]
     },
     "metadata": {},
     "output_type": "display_data"
    }
   ],
   "source": [
    "# TODO: Set this to the function you want to test!\n",
    "# this function should take in a query (string)\n",
    "# and return a sorted list of (doc_id, score) \n",
    "# with the most relevant document in the first position\n",
    "search_fn = bm25_search\n",
    "index_set = 1\n",
    "\n",
    "text = widgets.Text(description=\"Search Bar\", width=200)\n",
    "display(text)\n",
    "\n",
    "def handle_submit(sender):\n",
    "    print(f\"Searching for: '{sender.value}'\")\n",
    "    \n",
    "    results = make_results(sender.value, search_fn, index_set)\n",
    "    \n",
    "    # display only the top 5\n",
    "    results = results[:5]\n",
    "    \n",
    "    body = \"\"\n",
    "    for idx, r in enumerate(results):\n",
    "        body += f\"<li>Document #{r.doc_id}({r.score}): {r.snippet}</li>\"\n",
    "    display(HTML(f\"<ul>{body}</ul>\"))\n",
    "    \n",
    "\n",
    "text.on_submit(handle_submit)"
   ]
  },
  {
   "cell_type": "markdown",
   "metadata": {
    "deletable": false,
    "editable": false,
    "nbgrader": {
     "cell_type": "markdown",
     "checksum": "019b1ff878dc6339dd068e2d48d19904",
     "grade": false,
     "grade_id": "cell-8d46fe8e4f3d8cdb",
     "locked": true,
     "schema_version": 3,
     "solution": false,
     "task": false
    }
   },
   "source": [
    "---\n",
    "\n",
    "## Section 4: Evaluation (40 points) <a class=\"anchor\" id=\"evaluation\"></a>\n",
    "\n",
    "[Back to Part 1](#part1)\n",
    "\n",
    "In order to analyze the effectiveness of retrieval algorithms, we first have to learn how to evaluate such a system. In particular, we will work with offline evaluation metrics. These metrics are computed on a dataset with known relevance judgements.\n",
    "\n",
    "Implement the following evaluation metrics. \n",
    "\n",
    "1. Precision (7 points)\n",
    "2. Recall (7 points)\n",
    "3. Mean Average Precision (13 points)\n",
    "4. Expected Reciprocal Rank (13 points)"
   ]
  },
  {
   "cell_type": "markdown",
   "metadata": {
    "deletable": false,
    "editable": false,
    "nbgrader": {
     "cell_type": "markdown",
     "checksum": "e46f54c7f81d88bbc950b0fae14c4ca5",
     "grade": false,
     "grade_id": "cell-3419fd3bc663d7cc",
     "locked": true,
     "schema_version": 3,
     "solution": false,
     "task": false
    }
   },
   "source": [
    "---\n",
    "### 4.1 Read relevance labels\n",
    "\n",
    "Let's take a look at the `qrels.text` file, which contains the ground truth relevance scores. The relevance labels for CACM are binary - either 0 or 1. \n"
   ]
  },
  {
   "cell_type": "code",
   "execution_count": 57,
   "metadata": {
    "deletable": false,
    "editable": false,
    "nbgrader": {
     "cell_type": "code",
     "checksum": "6c11025f5a222796f2882c73c1634799",
     "grade": false,
     "grade_id": "cell-6b738366059dde9e",
     "locked": true,
     "schema_version": 3,
     "solution": false,
     "task": false
    }
   },
   "outputs": [
    {
     "name": "stdout",
     "output_type": "stream",
     "text": [
      "01 1410  0 0\n",
      "01 1572  0 0\n",
      "01 1605  0 0\n",
      "01 2020  0 0\n",
      "01 2358  0 0\n",
      "02 2434  0 0\n",
      "02 2863  0 0\n",
      "02 3078  0 0\n",
      "03 1134  0 0\n",
      "03 1613  0 0\n"
     ]
    }
   ],
   "source": [
    "!head ./datasets/qrels.text"
   ]
  },
  {
   "cell_type": "markdown",
   "metadata": {
    "deletable": false,
    "editable": false,
    "nbgrader": {
     "cell_type": "markdown",
     "checksum": "7ce95245c1597183320d7254afde5c8e",
     "grade": false,
     "grade_id": "cell-10e16bff2753ffbb",
     "locked": true,
     "schema_version": 3,
     "solution": false,
     "task": false
    }
   },
   "source": [
    "---\n",
    "\n",
    "The first column is the query_id and the second column is the document_id. We can safely ignore the 3rd and 4th columns."
   ]
  },
  {
   "cell_type": "code",
   "execution_count": 58,
   "metadata": {
    "deletable": false,
    "nbgrader": {
     "cell_type": "code",
     "checksum": "000c6d59dce08dba0ba1e8d691dbbc2e",
     "grade": false,
     "grade_id": "cell-ee5253a4ef602fce",
     "locked": false,
     "schema_version": 3,
     "solution": true,
     "task": false
    }
   },
   "outputs": [],
   "source": [
    "# YOUR CODE HERE\n",
    "def read_qrels(root_folder = \"./datasets/\"):\n",
    "    \"\"\"\n",
    "        Reads the qrels.text file. \n",
    "        Output: A dictionary: query_id -> [list of relevant documents]\n",
    "    \"\"\"\n",
    "    # YOUR CODE HERE\n",
    "\n",
    "    docs = {}\n",
    "    f1 = os.path.join(root_folder, \"qrels.text\")\n",
    "\n",
    "    with open(f1, \"r\") as f:\n",
    "        lines = f.readlines()\n",
    "\n",
    "    for i in range(0, len(lines)):\n",
    "        l1 = lines[i]\n",
    "        if l1[0]== '0':\n",
    "            query_id = l1[1:2]\n",
    "        else:\n",
    "            query_id = l1[0:2]\n",
    "\n",
    "        if query_id not in docs:\n",
    "            docs[query_id] = [l1[3:7]]\n",
    "        else:\n",
    "            docs[query_id].append(l1[3:7])\n",
    "    return docs"
   ]
  },
  {
   "cell_type": "code",
   "execution_count": 59,
   "metadata": {
    "deletable": false,
    "editable": false,
    "nbgrader": {
     "cell_type": "code",
     "checksum": "d60caeba85c2a97d2211184a5ae91fd1",
     "grade": false,
     "grade_id": "cell-72215605fbe24f65",
     "locked": true,
     "schema_version": 3,
     "solution": false,
     "task": false
    }
   },
   "outputs": [],
   "source": [
    "#### Function check\n",
    "qrels = read_qrels()\n",
    "\n",
    "assert len(qrels) == 52, \"There should be 52 queries with relevance judgements\"\n",
    "assert sum(len(j) for j in qrels.values()) == 796, \"There should be a total of 796 Relevance Judgements\"\n",
    "\n",
    "assert np.min(np.array([len(j) for j in qrels.values()])) == 1\n",
    "assert np.max(np.array([len(j) for j in qrels.values()])) == 51\n",
    "\n",
    "####"
   ]
  },
  {
   "cell_type": "markdown",
   "metadata": {
    "deletable": false,
    "editable": false,
    "nbgrader": {
     "cell_type": "markdown",
     "checksum": "6c9e7428a52e291a2cdf92a379730d4c",
     "grade": false,
     "grade_id": "cell-176a6fb2939d0420",
     "locked": true,
     "schema_version": 3,
     "solution": false,
     "task": false
    }
   },
   "source": [
    "---\n",
    "**Note:** For a given query `query_id`, you can assume that documents *not* in `qrels[query_id]` are not relevant to `query_id`. \n"
   ]
  },
  {
   "cell_type": "markdown",
   "metadata": {
    "deletable": false,
    "editable": false,
    "nbgrader": {
     "cell_type": "markdown",
     "checksum": "b26a818c7b4f7ad490e00b35ea0edd69",
     "grade": false,
     "grade_id": "cell-bd8341b72cdd89bb",
     "locked": true,
     "schema_version": 3,
     "solution": false,
     "task": false
    }
   },
   "source": [
    "---\n",
    "### 4.2 Precision (7 points)\n",
    "Implement the `precision@k` metric:"
   ]
  },
  {
   "cell_type": "code",
   "execution_count": 60,
   "metadata": {
    "deletable": false,
    "nbgrader": {
     "cell_type": "code",
     "checksum": "43dea1979ebdec24ffcfeff71c670433",
     "grade": false,
     "grade_id": "cell-494bd0cce108ed67",
     "locked": false,
     "schema_version": 3,
     "solution": true,
     "task": false
    }
   },
   "outputs": [],
   "source": [
    "# TODO: Implement this! (7 points)\n",
    "def precision_k(results, relevant_docs, k):\n",
    "    \"\"\"\n",
    "        Compute Precision@K\n",
    "        Input: \n",
    "            results: A sorted list of 2-tuples (document_id, score), \n",
    "                    with the most relevant document in the first position\n",
    "            relevant_docs: A set of relevant documents. \n",
    "            k: the cut-off\n",
    "        Output: Precision@K\n",
    "    \"\"\"\n",
    "    if k > len(results):\n",
    "        k = len(results)\n",
    "    # YOUR CODE HERE\n",
    "    count = 0\n",
    "    for i in range(k):\n",
    "        doc_id = results[i][0]\n",
    "        if doc_id in relevant_docs:\n",
    "            count+=1\n",
    "    return count/k"
   ]
  },
  {
   "cell_type": "code",
   "execution_count": 61,
   "metadata": {
    "deletable": false,
    "editable": false,
    "nbgrader": {
     "cell_type": "code",
     "checksum": "9222e35582b1840ffb60fd02fb0b60c3",
     "grade": true,
     "grade_id": "cell-e7ff0d91c319ca64",
     "locked": true,
     "points": 7,
     "schema_version": 3,
     "solution": false,
     "task": false
    }
   },
   "outputs": [
    {
     "name": "stdout",
     "output_type": "stream",
     "text": [
      "query: What articles exist which deal with TSS (Time Sharing System), an\n",
      "operating system for IBM computers?\n",
      "precision@10 = 0.2\n"
     ]
    }
   ],
   "source": [
    "\n",
    "#### Function check\n",
    "qid = queries[0][0]\n",
    "qtext = queries[0][1]\n",
    "print(f'query:{qtext}')\n",
    "results = bm25_search(qtext, 2)\n",
    "precision = precision_k(results, qrels[qid], 10)\n",
    "print(f'precision@10 = {precision}')\n",
    "####"
   ]
  },
  {
   "cell_type": "markdown",
   "metadata": {
    "deletable": false,
    "editable": false,
    "nbgrader": {
     "cell_type": "markdown",
     "checksum": "8fd3b3998197c7097a40348500affb68",
     "grade": false,
     "grade_id": "cell-afd95f865bc7191e",
     "locked": true,
     "schema_version": 3,
     "solution": false,
     "task": false
    }
   },
   "source": [
    "---\n",
    "### 4.3 Recall (7 points)\n",
    "Implement the `recall@k` metric:"
   ]
  },
  {
   "cell_type": "code",
   "execution_count": 62,
   "metadata": {
    "deletable": false,
    "nbgrader": {
     "cell_type": "code",
     "checksum": "b2020e5741ae03b3fe35817ed8f4ccaa",
     "grade": false,
     "grade_id": "cell-c323fc8c3f8a7cf8",
     "locked": false,
     "schema_version": 3,
     "solution": true,
     "task": false
    }
   },
   "outputs": [],
   "source": [
    "# TODO: Implement this! (7 points)\n",
    "def recall_k(results, relevant_docs, k):\n",
    "    \"\"\"\n",
    "        Compute Recall@K\n",
    "        Input: \n",
    "            results: A sorted list of 2-tuples (document_id, score), with the most relevant document in the first position\n",
    "            relevant_docs: A set of relevant documents. \n",
    "            k: the cut-off\n",
    "        Output: Recall@K\n",
    "    \"\"\"\n",
    "    # YOUR CODE HERE\n",
    "    count = 0\n",
    "    for i in range(k):\n",
    "        doc_id = results[i][0]\n",
    "        if doc_id in relevant_docs:\n",
    "            count+=1\n",
    "    return count/len(relevant_docs)"
   ]
  },
  {
   "cell_type": "code",
   "execution_count": 63,
   "metadata": {
    "deletable": false,
    "editable": false,
    "nbgrader": {
     "cell_type": "code",
     "checksum": "56b6e0b8522f8b2dffbfb3206b2efa84",
     "grade": true,
     "grade_id": "cell-b25172161aef165c",
     "locked": true,
     "points": 7,
     "schema_version": 3,
     "solution": false,
     "task": false
    }
   },
   "outputs": [
    {
     "name": "stdout",
     "output_type": "stream",
     "text": [
      "query: SETL, Very High Level Languages\n",
      "recall@10 = 0.3157894736842105\n"
     ]
    }
   ],
   "source": [
    "#### Function check\n",
    "qid = queries[10][0]\n",
    "qtext = queries[10][1]\n",
    "print(f'query:{qtext}')\n",
    "results = bm25_search(qtext, 2)\n",
    "recall = recall_k(results, qrels[qid], 10)\n",
    "print(f'recall@10 = {recall}')\n",
    "####"
   ]
  },
  {
   "cell_type": "markdown",
   "metadata": {
    "deletable": false,
    "editable": false,
    "nbgrader": {
     "cell_type": "markdown",
     "checksum": "b3d3c7bd1cd977cd07ef5df7d3fbf159",
     "grade": false,
     "grade_id": "cell-77fd2e7a39a74739",
     "locked": true,
     "schema_version": 3,
     "solution": false,
     "task": false
    }
   },
   "source": [
    "---\n",
    "### 4.4 Mean Average Precision (13 points)\n",
    "Implement the `map` metric:"
   ]
  },
  {
   "cell_type": "code",
   "execution_count": 64,
   "metadata": {
    "deletable": false,
    "nbgrader": {
     "cell_type": "code",
     "checksum": "aae2c62f2ffd76f5b6c004e9519b9f14",
     "grade": false,
     "grade_id": "cell-e50925fa9093a30d",
     "locked": false,
     "schema_version": 3,
     "solution": true,
     "task": false
    }
   },
   "outputs": [],
   "source": [
    "# TODO: Implement this! (12 points)\n",
    "def average_precision(results, relevant_docs):\n",
    "    \"\"\"\n",
    "        Compute Average Precision (for a single query - the results are \n",
    "        averaged across queries to get MAP in the next few cells)\n",
    "        Hint: You can use the recall_k and precision_k functions here!\n",
    "        Input: \n",
    "            results: A sorted list of 2-tuples (document_id, score), with the most \n",
    "                    relevant document in the first position\n",
    "            relevant_docs: A set of relevant documents. \n",
    "        Output: Average Precision\n",
    "    \"\"\"\n",
    "    # YOUR CODE HERE\n",
    "    precisions = []\n",
    "    for k in range(len(results)):\n",
    "        if results[k][0] in relevant_docs:\n",
    "            precisions.append(precision_k(results, relevant_docs, k+1))\n",
    "    return np.mean(precisions)\n"
   ]
  },
  {
   "cell_type": "code",
   "execution_count": 65,
   "metadata": {
    "deletable": false,
    "editable": false,
    "nbgrader": {
     "cell_type": "code",
     "checksum": "3b00e147c2fa146fa59f179b7c9cab75",
     "grade": true,
     "grade_id": "cell-8a1f7ec98571e58b",
     "locked": true,
     "points": 13,
     "schema_version": 3,
     "solution": false,
     "task": false
    }
   },
   "outputs": [
    {
     "name": "stdout",
     "output_type": "stream",
     "text": [
      "query: computational complexity, intractability, class-complete reductions,\n",
      "algorithms and efficiency\n",
      "MAP = 0.10025730228807445\n"
     ]
    }
   ],
   "source": [
    "#### Function check\n",
    "qid = queries[20][0]\n",
    "qtext = queries[20][1]\n",
    "print(f'query:{qtext}')\n",
    "results = bm25_search(qtext, 2)\n",
    "mean_ap = average_precision(results, qrels[qid])\n",
    "print(f'MAP = {mean_ap}')\n",
    "####"
   ]
  },
  {
   "cell_type": "markdown",
   "metadata": {
    "deletable": false,
    "editable": false,
    "nbgrader": {
     "cell_type": "markdown",
     "checksum": "36f85f45ef52d9467ba9a717d6d99ff2",
     "grade": false,
     "grade_id": "cell-1da18f0fe6f6d7be",
     "locked": true,
     "schema_version": 3,
     "solution": false,
     "task": false
    }
   },
   "source": [
    "---\n",
    "### 4.5 Expected Reciprocal Rank (13 points)\n",
    "Implement the `err` metric:"
   ]
  },
  {
   "cell_type": "code",
   "execution_count": 66,
   "metadata": {
    "deletable": false,
    "nbgrader": {
     "cell_type": "code",
     "checksum": "9ac94db728e23ea1f5dc0d509473c6fb",
     "grade": false,
     "grade_id": "cell-64262889f9b267ea",
     "locked": false,
     "schema_version": 3,
     "solution": true,
     "task": false
    }
   },
   "outputs": [],
   "source": [
    "# TODO: Implement this! (12 points)\n",
    "def err(results, relevant_docs):\n",
    "    \"\"\"\n",
    "        Compute the expected reciprocal rank.\n",
    "        Hint: https://dl.acm.org/doi/pdf/10.1145/1645953.1646033?download=true\n",
    "        Input: \n",
    "            results: A sorted list of 2-tuples (document_id, score), with the most \n",
    "                    relevant document in the first position\n",
    "            relevant_docs: A set of relevant documents. \n",
    "        Output: ERR\n",
    "        \n",
    "    \"\"\"\n",
    "    # YOUR CODE HERE\n",
    "    p = 0\n",
    "    err = 0\n",
    "    for i, (doc_id, score) in enumerate(results):\n",
    "        if doc_id in relevant_docs:\n",
    "            p = 1 / (i + 1)\n",
    "            err += p * (1 / (i + 1))\n",
    "    return err"
   ]
  },
  {
   "cell_type": "code",
   "execution_count": 67,
   "metadata": {
    "deletable": false,
    "editable": false,
    "nbgrader": {
     "cell_type": "code",
     "checksum": "b7d201de0990b69d5f38704668665d87",
     "grade": true,
     "grade_id": "cell-071e3970ff1afae4",
     "locked": true,
     "points": 13,
     "schema_version": 3,
     "solution": false,
     "task": false
    }
   },
   "outputs": [
    {
     "name": "stdout",
     "output_type": "stream",
     "text": [
      "query: I'd like to find articles describing the use of singular value decomposition\n",
      "in digital image processing.  Applications include finding approximations\n",
      "to the original image and restoring images that are subject to noise. An\n",
      "article on the subject is H.C. Andrews and C.L. Patterson \"Outer product\n",
      "expansions and their uses in digital image processing\", American Mathematical\n",
      "Monthly, vol. 82.\n",
      "ERR = 0.3611111111111111\n"
     ]
    }
   ],
   "source": [
    "#### Function check\n",
    "qid = queries[30][0]\n",
    "qtext = queries[30][1]\n",
    "print(f'query:{qtext}')\n",
    "results = bm25_search(qtext, 2)\n",
    "ERR = err(results, qrels[qid])\n",
    "print(f'ERR = {ERR}')\n",
    "####"
   ]
  },
  {
   "cell_type": "markdown",
   "metadata": {
    "deletable": false,
    "editable": false,
    "nbgrader": {
     "cell_type": "markdown",
     "checksum": "5bd94caf77cfa5f34675df758d91002d",
     "grade": false,
     "grade_id": "cell-43709a765f353946",
     "locked": true,
     "schema_version": 3,
     "solution": false,
     "task": false
    }
   },
   "source": [
    "---\n",
    "### 4.6 Evaluate Search Functions\n",
    "\n",
    "Let's define some metrics@k using [partial functions](https://docs.python.org/3/library/functools.html#functools.partial)"
   ]
  },
  {
   "cell_type": "code",
   "execution_count": 68,
   "metadata": {
    "deletable": false,
    "editable": false,
    "nbgrader": {
     "cell_type": "code",
     "checksum": "49ccc158e5fb7340ace55e90eeb9d62a",
     "grade": false,
     "grade_id": "cell-dab560e18e340da8",
     "locked": true,
     "schema_version": 3,
     "solution": false,
     "task": false
    }
   },
   "outputs": [],
   "source": [
    "#### metrics@k functions\n",
    "\n",
    "recall_at_1 = partial(recall_k, k=1)\n",
    "recall_at_5 = partial(recall_k, k=5)\n",
    "recall_at_10 = partial(recall_k, k=10)\n",
    "precision_at_1 = partial(precision_k, k=1)\n",
    "precision_at_5 = partial(precision_k, k=5)\n",
    "precision_at_10 = partial(precision_k, k=10)\n",
    "\n",
    "\n",
    "list_of_metrics = [\n",
    "    (\"ERR\", err),\n",
    "    (\"MAP\", average_precision),\n",
    "    (\"Recall@1\",recall_at_1),\n",
    "    (\"Recall@5\", recall_at_5),\n",
    "    (\"Recall@10\", recall_at_10),\n",
    "    (\"Precision@1\", precision_at_1),\n",
    "    (\"Precision@5\", precision_at_5),\n",
    "    (\"Precision@10\", precision_at_10)]\n",
    "####"
   ]
  },
  {
   "cell_type": "markdown",
   "metadata": {
    "deletable": false,
    "editable": false,
    "nbgrader": {
     "cell_type": "markdown",
     "checksum": "fb541002c03221b453b8936290020ea5",
     "grade": false,
     "grade_id": "cell-580a2bdc66d03b47",
     "locked": true,
     "schema_version": 3,
     "solution": false,
     "task": false
    }
   },
   "source": [
    "---\n",
    "\n",
    "The following function evaluates a `search_fn` using the `metric_fn`. Note that the final number is averaged over all the queries"
   ]
  },
  {
   "cell_type": "code",
   "execution_count": 69,
   "metadata": {},
   "outputs": [],
   "source": [
    "#### Evaluate a search function\n",
    "\n",
    "list_of_search_fns = [\n",
    "    (\"BOW\", bow_search),\n",
    "    (\"TF-IDF\", tfidf_search),\n",
    "    (\"NaiveQL\", naive_ql_search),\n",
    "    (\"QL\", ql_search),\n",
    "    (\"BM25\", bm25_search)\n",
    "]\n",
    "\n",
    "def evaluate_search_fn(search_fn, metric_fns, index_set=None):\n",
    "    # build a dict query_id -> query \n",
    "    queries_by_id = dict((q[0], q[1]) for q in queries)\n",
    "    \n",
    "    metrics = {}\n",
    "    for metric, metric_fn in metric_fns:\n",
    "        metrics[metric] = np.zeros(len(qrels), dtype=np.float32)\n",
    "    \n",
    "    for i, (query_id, relevant_docs) in enumerate(qrels.items()):\n",
    "        query = queries_by_id[query_id]\n",
    "        if index_set:\n",
    "            results = search_fn(query, index_set)\n",
    "        else:\n",
    "            results = search_fn(query)\n",
    "        \n",
    "        for metric, metric_fn in metric_fns:\n",
    "            metrics[metric][i] = metric_fn(results, relevant_docs)\n",
    "\n",
    "    \n",
    "    \n",
    "    final_dict = {}\n",
    "    for metric, metric_vals in metrics.items():\n",
    "        final_dict[metric] = metric_vals.mean()\n",
    "    \n",
    "    return final_dict\n",
    "####"
   ]
  },
  {
   "cell_type": "markdown",
   "metadata": {
    "deletable": false,
    "editable": false,
    "nbgrader": {
     "cell_type": "markdown",
     "checksum": "6ea67534f74a8f81e1f504794f641709",
     "grade": false,
     "grade_id": "cell-b156d83a0649cbb4",
     "locked": true,
     "schema_version": 3,
     "solution": false,
     "task": false
    }
   },
   "source": [
    "## Section 5: Analysis (30 points) <a class=\"anchor\" id=\"analysis\"></a>\n",
    "\n",
    "[Back to Part 1](#part1)\n",
    "\n",
    "In the final section of Part1, we will compare the different term-based IR algorithms and different preprocessing configurations and analyze their advantages and disadvantages.\n",
    "\n",
    "### Section 5.1: Plot (20 points)\n",
    "\n",
    "First, gather the results. The results should consider the index set, the different search functions and different metrics. Plot the results in bar charts, per metric, with clear labels.\n",
    "\n",
    "**Rubric:**\n",
    "- Each Metric is plotted: 7 points\n",
    "- Each Method is plotted: 7 points\n",
    "- Clear titles, x label, y labels and legends (if applicable): 6 points"
   ]
  },
  {
   "cell_type": "code",
   "execution_count": null,
   "metadata": {
    "deletable": false,
    "nbgrader": {
     "cell_type": "code",
     "checksum": "7e2588a925d13ddf588abe8311dc9cfc",
     "grade": true,
     "grade_id": "cell-46fda42a25863a04",
     "locked": false,
     "points": 20,
     "schema_version": 3,
     "solution": true,
     "task": false
    }
   },
   "outputs": [],
   "source": [
    "# YOUR CODE HERE\n",
    "raise NotImplementedError()"
   ]
  },
  {
   "cell_type": "markdown",
   "metadata": {
    "deletable": false,
    "editable": false,
    "nbgrader": {
     "cell_type": "markdown",
     "checksum": "e88c444a0acf4e398c65e289169b75f7",
     "grade": false,
     "grade_id": "cell-8aabe3bcf265deb0",
     "locked": true,
     "points": 10,
     "schema_version": 3,
     "solution": false,
     "task": true
    }
   },
   "source": [
    "---\n",
    "### Section 5.2: Summary (10 points)\n",
    "Write a summary of what you observe in the results.\n",
    "Your summary should compare results across the 2 indices and the methods being used. State what you expected to see in the results, followed by either supporting evidence *or* justify why the results did not support your expectations.      "
   ]
  },
  {
   "cell_type": "markdown",
   "metadata": {},
   "source": [
    "Write your answer here!"
   ]
  },
  {
   "cell_type": "markdown",
   "metadata": {
    "deletable": false,
    "editable": false,
    "nbgrader": {
     "cell_type": "markdown",
     "checksum": "b3eb77be74eecca205fc7b47316d1627",
     "grade": false,
     "grade_id": "cell-bb60dd5c092d0f2e",
     "locked": true,
     "schema_version": 3,
     "solution": false,
     "task": false
    }
   },
   "source": [
    "---\n",
    "---\n",
    "# Part 2: Semantic-based Matching (85 points) <a class=\"anchor\" id=\"part2\"></a>\n",
    "\n",
    "[Back to top](#top)\n",
    "\n",
    "We will now experiment with methods that go beyond lexical methods like TF-IDF, which operate at the word level and are high dimensional and sparse, and look at methods which constructs low dimensional dense representations of queries and documents. \n",
    "\n",
    "Since these low-dimensional methods have a higher time complexity, they are typically used in conjunction with methods like BM-25. That is, instead of searching through potentially million documents to find matches using low dimensional vectors, a list of K documents are retrieved using BM25, and then **re-ranked** using the other method. This is the method that is going to be applied in the following exercises. \n",
    "\n",
    "LSI/LDA takes documents that are similar on a semantic level - for instance, if they are describing the same topic - and projects them into nearby vectors, despite having low lexical overlap.\n",
    "\n",
    "In this assignment, you will use `gensim` to create LSI/LDA models and use them in re-ranking. \n",
    "\n",
    "**Note**: The following exercises only uses `doc_repr_2` and `config_2`\n",
    "\n",
    "Table of contents:\n",
    "- [Section 6: LSI](#lsi) (15 points)\n",
    "- [Section 7: LDA](#lda) (10 points)\n",
    "- [Section 8: Word2Vec/Doc2Vec](#2vec) (20 points)\n",
    "- [Section 8: Re-ranking](#reranking) (10 points)\n",
    "- [Section 9: Re-ranking Evaluation](#reranking_eval) (30 points)"
   ]
  },
  {
   "cell_type": "markdown",
   "metadata": {
    "deletable": false,
    "editable": false,
    "nbgrader": {
     "cell_type": "markdown",
     "checksum": "f7c7b2cab82f576ed0acf836ca57171c",
     "grade": false,
     "grade_id": "cell-6b2c81e7a8abd180",
     "locked": true,
     "schema_version": 3,
     "solution": false,
     "task": false
    }
   },
   "source": [
    "---\n",
    "## Section 6: Latent Semantic Indexing (LSI) (15 points) <a class=\"anchor\" id=\"lsi\"></a>\n",
    "\n",
    "[Back to Part 2](#part2)\n",
    "\n",
    "LSI is one of the methods to embed the queries and documents into vectors. It is based on a method similar to Principal Component Analysis (PCA) for obtaining a dense concept matrix out of the sparse term-document matrix.\n",
    "\n",
    "See [wikipedia](https://en.wikipedia.org/wiki/Latent_semantic_analysis), particularly [#Mathematics_of_LSI](https://en.wikipedia.org/wiki/Latent_semantic_analysis#Mathematics_of_LSI)."
   ]
  },
  {
   "cell_type": "code",
   "execution_count": 70,
   "metadata": {
    "deletable": false,
    "editable": false,
    "nbgrader": {
     "cell_type": "code",
     "checksum": "c17ee75319cb517e2bf48ec3d9efc329",
     "grade": false,
     "grade_id": "cell-59913daee47f680d",
     "locked": true,
     "schema_version": 3,
     "solution": false,
     "task": false
    }
   },
   "outputs": [],
   "source": [
    "from gensim.corpora import Dictionary\n",
    "from gensim.models import LdaModel, LsiModel, Word2Vec\n",
    "from gensim.models.doc2vec import Doc2Vec, TaggedDocument\n",
    "from gensim import downloader as g_downloader\n",
    "# gensim uses logging, so set it up \n",
    "import logging\n",
    "logging.basicConfig(format='%(asctime)s : %(levelname)s : %(message)s', level=logging.INFO)"
   ]
  },
  {
   "cell_type": "markdown",
   "metadata": {
    "deletable": false,
    "editable": false,
    "nbgrader": {
     "cell_type": "markdown",
     "checksum": "5fce140c546759b54a9fc060901ae77c",
     "grade": false,
     "grade_id": "cell-3644faff4976598a",
     "locked": true,
     "schema_version": 3,
     "solution": false,
     "task": false
    }
   },
   "source": [
    "---\n",
    "### Section 6.1: Cosine Similarity (5 points)<a class=\"anchor\" id=\"cosing_sim\"></a>\n",
    "Before we begin, let us first define our method of similarity for the LSI model, the cosine similarity:\n",
    "\n",
    "$$\\text{similarity} = \\cos(\\theta) = {\\mathbf{A} \\cdot \\mathbf{B} \\over \\|\\mathbf{A}\\| \\|\\mathbf{B}\\|} = \\frac{ \\sum\\limits_{i=1}^{n}{A_i  B_i} }{ \\sqrt{\\sum\\limits_{i=1}^{n}{A_i^2}}  \\sqrt{\\sum\\limits_{i=1}^{n}{B_i^2}} }$$\n",
    "\n",
    "Since we are using gensim, the types of vectors returned by their classes are of the form defined below (they are not just simple vectors):"
   ]
  },
  {
   "cell_type": "code",
   "execution_count": 71,
   "metadata": {
    "deletable": false,
    "editable": false,
    "nbgrader": {
     "cell_type": "code",
     "checksum": "4e340e1a1d546f430c018fd0760e707a",
     "grade": false,
     "grade_id": "cell-3995a50f951314d5",
     "locked": true,
     "schema_version": 3,
     "solution": false,
     "task": false
    }
   },
   "outputs": [],
   "source": [
    "# 1, 2, 3 are either latent dimensions (LSI), or topics (LDA)\n",
    "# The second value in each tuple is a number (LSI) or a probability (LDA)  \n",
    "example_vec_1 = [(1, 0.2), (2, 0.3), (3, 0.4)]\n",
    "example_vec_2 = [(1, 0.2), (2, 0.7), (3, 0.4)]"
   ]
  },
  {
   "cell_type": "markdown",
   "metadata": {
    "deletable": false,
    "editable": false,
    "nbgrader": {
     "cell_type": "markdown",
     "checksum": "20832fd4f579f49ae204b0efee02edd1",
     "grade": false,
     "grade_id": "cell-5e54d581858dc8f7",
     "locked": true,
     "schema_version": 3,
     "solution": false,
     "task": false
    }
   },
   "source": [
    "---\n",
    "**Implementation (2+3 points):**\n",
    "Now, implement the `dot product` operation on these types of vectors and using this operator, implement the `cosine similarity` (don't forget: two functions to implement!):"
   ]
  },
  {
   "cell_type": "code",
   "execution_count": 110,
   "metadata": {
    "deletable": false,
    "nbgrader": {
     "cell_type": "code",
     "checksum": "06a712ee75fc213a21c5f0067fd8fe28",
     "grade": false,
     "grade_id": "cell-0e8189f5f93de33f",
     "locked": false,
     "schema_version": 3,
     "solution": true,
     "task": false
    }
   },
   "outputs": [],
   "source": [
    "# TODO: Implement this! (2 points)\n",
    "def dot(vec_1,vec_2): \n",
    "    \"\"\"\n",
    "        vec_1 and vec_2 are of the form: [(int, float), (int, float), ...]\n",
    "        Return the dot product of two such vectors, computed only on the floats\n",
    "        You can assume that the lengths of the vectors are the same, and the dimensions are aligned \n",
    "            i.e you won't get: vec_1 = [(1, 0.2)] ; vec_2 = [(2, 0.3)] \n",
    "                                (dimensions are unaligned and lengths are different)\n",
    "    \"\"\"\n",
    "    # YOUR CODE HERE\n",
    "    return sum([x[1]*y[1] for x,y in zip(vec_1,vec_2)])\n",
    "\n",
    "\n",
    "# TODO: Implement this! (3 points)\n",
    "def cosine_sim(vec_1, vec_2):\n",
    "    # YOUR CODE HERE\n",
    "    if vec_1 == [] or vec_2 == []:\n",
    "        cosine = 0\n",
    "    else: \n",
    "        denum = np.sqrt(dot(vec_1, vec_1)) * np.sqrt(dot(vec_2, vec_2)) \n",
    "        if denum==0: \n",
    "            cosine = 0\n",
    "        else:\n",
    "            num = dot(vec_1, vec_2)\n",
    "            cosine = num / denum\n",
    "    return cosine"
   ]
  },
  {
   "cell_type": "code",
   "execution_count": 111,
   "metadata": {
    "deletable": false,
    "editable": false,
    "nbgrader": {
     "cell_type": "code",
     "checksum": "d22a4a7325ba7815a808390388f534a1",
     "grade": true,
     "grade_id": "cell-b25d04ed6b79fd35",
     "locked": true,
     "points": 2,
     "schema_version": 3,
     "solution": false,
     "task": false
    }
   },
   "outputs": [
    {
     "name": "stdout",
     "output_type": "stream",
     "text": [
      "vectors: ([(1, 0.2), (2, 0.3), (3, 0.4)], [(1, 0.2), (2, 0.7), (3, 0.4)])\n",
      "dot product = 0.41000000000000003\n",
      "cosine similarity = 0.9165587597202866\n"
     ]
    }
   ],
   "source": [
    "##### Function check\n",
    "print(f'vectors: {(example_vec_1,example_vec_2)}')\n",
    "print(f'dot product = {dot(example_vec_1,example_vec_2)}')\n",
    "print(f'cosine similarity = {cosine_sim(example_vec_1,example_vec_2)}')\n",
    "##### "
   ]
  },
  {
   "cell_type": "code",
   "execution_count": 112,
   "metadata": {
    "deletable": false,
    "editable": false,
    "nbgrader": {
     "cell_type": "code",
     "checksum": "0744131724ce76b1b3f163b4bae5f700",
     "grade": true,
     "grade_id": "cell-ae3c4466866ace77",
     "locked": true,
     "points": 3,
     "schema_version": 3,
     "solution": false,
     "task": false
    }
   },
   "outputs": [],
   "source": [
    "#### Please do not change this. This cell is used for grading."
   ]
  },
  {
   "cell_type": "markdown",
   "metadata": {
    "deletable": false,
    "editable": false,
    "nbgrader": {
     "cell_type": "markdown",
     "checksum": "9b123f599f9ea372d14676e23f1c6a52",
     "grade": false,
     "grade_id": "cell-4b2534067c44fcdf",
     "locked": true,
     "schema_version": 3,
     "solution": false,
     "task": false
    }
   },
   "source": [
    "---\n",
    "### Section 6.2: LSI Retrieval (10 points)<a class=\"anchor\" id=\"lsi_retrieval\"></a>\n",
    "LSI retrieval is simply ranking the documents based on their cosine similarity to the query vector.\n",
    "First, let's write a parent class for vector-based retrieval models:"
   ]
  },
  {
   "cell_type": "code",
   "execution_count": 113,
   "metadata": {
    "deletable": false,
    "editable": false,
    "nbgrader": {
     "cell_type": "code",
     "checksum": "ecc111d58182570e2252b8ef5d6b02af",
     "grade": false,
     "grade_id": "cell-937936cea18711ee",
     "locked": true,
     "schema_version": 3,
     "solution": false,
     "task": false
    }
   },
   "outputs": [],
   "source": [
    "class VectorSpaceRetrievalModel:\n",
    "    \"\"\"\n",
    "        Parent class for Dense Vector Retrieval models\n",
    "    \"\"\"\n",
    "    def __init__(self, doc_repr):\n",
    "        \"\"\"\n",
    "            document_collection: \n",
    "                [\n",
    "                    (doc_id_1, [token 1, token 2, ...]), \n",
    "                    (doc_id_2, [token 1, token 2, ....]) \n",
    "                    ...\n",
    "                ]\n",
    "\n",
    "        \"\"\"\n",
    "        self.doc_repr = doc_repr\n",
    "        self.documents = [_[1] for _ in self.doc_repr]\n",
    "        \n",
    "        # construct a dictionary\n",
    "        self.dictionary = Dictionary(self.documents)\n",
    "        # Filter out words that occur less than 20 documents, or more than 50% of the documents.\n",
    "        self.dictionary.filter_extremes(no_below=10)\n",
    "        self.corpus = [self.dictionary.doc2bow(doc) for doc in self.documents]\n",
    "    \n",
    "        # Make a index to word dictionary.\n",
    "        temp = self.dictionary[0]  # This is only to \"load\" the dictionary.\n",
    "        self.id2word = self.dictionary.id2token\n",
    "        \n",
    "        # this is set by the train_model function\n",
    "        self.model = None\n",
    "        \n",
    "        \n",
    "    def vectorize_documents(self):\n",
    "        \"\"\"\n",
    "            Returns a doc_id -> vector dictionary\n",
    "        \"\"\"\n",
    "        vectors = {}\n",
    "        for (doc_id, _), cc in zip(self.doc_repr, self.corpus):\n",
    "            vectors[doc_id] = self.model[cc]\n",
    "        return vectors\n",
    "\n",
    "    def vectorize_query(self, query):\n",
    "        # Note the use of config_2 here!\n",
    "        query = process_text(query, **config_2)\n",
    "        query_vector = self.dictionary.doc2bow(query)\n",
    "        return self.model[query_vector]\n",
    "    \n",
    "    def train_model(self):\n",
    "        \"\"\"\n",
    "            Trains a model and sets the 'self.model' variable. \n",
    "            Make sure to use the variables created in the __init__ method.\n",
    "            e.g the variables which may be useful: {corpus, dictionary, id2word}\n",
    "        \"\"\"\n",
    "        raise NotImplementedError()"
   ]
  },
  {
   "cell_type": "markdown",
   "metadata": {
    "deletable": false,
    "editable": false,
    "nbgrader": {
     "cell_type": "markdown",
     "checksum": "ff161eefd9b81b768cd6361bc1a502b0",
     "grade": false,
     "grade_id": "cell-704a18c2f80cd60c",
     "locked": true,
     "schema_version": 3,
     "solution": false,
     "task": false
    }
   },
   "source": [
    "---\n",
    "**Implementation (5 points):**\n",
    "Implement the `train_model` method in the following class (note that this is only one line of code in `gensim`!). Ensure that the parameters defined in the `__init__` method are not changed, and are *used in the `train_method` function*. Normally, the hyperaparameter space will be searched using grid search / other methods - in this assignment we have provided the hyperparameters for you.\n",
    "\n",
    "The last two lines of code train an LSI model on the list of documents which have been stemmed, lower-cased and have stopwords removed. "
   ]
  },
  {
   "cell_type": "code",
   "execution_count": 114,
   "metadata": {
    "deletable": false,
    "nbgrader": {
     "cell_type": "code",
     "checksum": "0e90eedc27c248bc1ae050518a46a46c",
     "grade": false,
     "grade_id": "cell-307682c9089f15d6",
     "locked": false,
     "schema_version": 3,
     "solution": true,
     "task": false
    }
   },
   "outputs": [],
   "source": [
    "# TODO: Implement this! (5 points)\n",
    "class LsiRetrievalModel(VectorSpaceRetrievalModel):\n",
    "    def __init__(self, doc_repr):\n",
    "        super().__init__(doc_repr)\n",
    "        \n",
    "        self.num_topics = 100\n",
    "        self.chunksize = 2000\n",
    "    \n",
    "    def train_model(self):\n",
    "        # YOUR CODE HERE\n",
    "        self.model = LsiModel(corpus = self.corpus, id2word = self.id2word, num_topics = self.num_topics, chunksize = self.chunksize)"
   ]
  },
  {
   "cell_type": "code",
   "execution_count": 115,
   "metadata": {
    "deletable": false,
    "editable": false,
    "nbgrader": {
     "cell_type": "code",
     "checksum": "00399cfe13d60cb4beed1271e36004b0",
     "grade": true,
     "grade_id": "cell-5ce512650c1b2dfb",
     "locked": true,
     "points": 0,
     "schema_version": 3,
     "solution": false,
     "task": false
    }
   },
   "outputs": [
    {
     "name": "stderr",
     "output_type": "stream",
     "text": [
      "2022-02-20 12:59:49,716 : INFO : adding document #0 to Dictionary(0 unique tokens: [])\n",
      "2022-02-20 12:59:49,826 : INFO : built Dictionary(5937 unique tokens: ['-', 'algebra', 'intern', 'languag', 'preliminari']...) from 3204 documents (total 115969 corpus positions)\n",
      "2022-02-20 12:59:49,832 : INFO : discarding 4740 tokens: [('repeat', 8), ('glossari', 7), ('inspect', 8), ('uncol', 2), ('rung', 9), ('secant', 2), ('.', 1603), ('acceler', 6), ('diverg', 3), ('induc', 9)]...\n",
      "2022-02-20 12:59:49,832 : INFO : keeping 1197 tokens which were in no less than 10 and no more than 1602 (=50.0%) documents\n",
      "2022-02-20 12:59:49,834 : INFO : resulting dictionary: Dictionary(1197 unique tokens: ['-', 'algebra', 'intern', 'languag', 'preliminari']...)\n",
      "2022-02-20 12:59:49,891 : INFO : using serial LSI version on this node\n",
      "2022-02-20 12:59:49,892 : INFO : updating model with new documents\n",
      "2022-02-20 12:59:49,892 : INFO : preparing a new chunk of documents\n",
      "2022-02-20 12:59:49,902 : INFO : using 100 extra samples and 2 power iterations\n",
      "2022-02-20 12:59:49,902 : INFO : 1st phase: constructing (1197, 200) action matrix\n",
      "2022-02-20 12:59:49,914 : INFO : orthonormalizing (1197, 200) action matrix\n",
      "2022-02-20 12:59:50,021 : INFO : 2nd phase: running dense svd on (200, 2000) matrix\n",
      "2022-02-20 12:59:50,110 : INFO : computing the final decomposition\n",
      "2022-02-20 12:59:50,110 : INFO : keeping 100 factors (discarding 13.467% of energy spectrum)\n",
      "2022-02-20 12:59:50,112 : INFO : processed documents up to #2000\n",
      "2022-02-20 12:59:50,112 : INFO : topic #0(152.127): 0.741*\",\" + 0.342*\"-\" + 0.211*\"system\" + 0.204*\"program\" + 0.192*\"comput\" + 0.146*\"(\" + 0.127*\"languag\" + 0.108*\")\" + 0.084*\"gener\" + 0.083*\"data\"\n",
      "2022-02-20 12:59:50,113 : INFO : topic #1(60.600): -0.607*\"(\" + -0.434*\")\" + -0.366*\"algorithm\" + -0.300*\"-\" + 0.237*\",\" + 0.213*\"system\" + 0.132*\"comput\" + -0.096*\"[\" + 0.093*\"program\" + -0.084*\"])\"\n",
      "2022-02-20 12:59:50,113 : INFO : topic #2(57.438): 0.744*\"-\" + -0.452*\",\" + 0.263*\"system\" + -0.214*\"(\" + -0.166*\")\" + 0.107*\"time\" + 0.105*\"program\" + -0.094*\"algorithm\" + 0.068*\"comput\" + 0.067*\"share\"\n",
      "2022-02-20 12:59:50,114 : INFO : topic #3(48.370): -0.483*\"system\" + -0.375*\"program\" + -0.367*\"comput\" + 0.363*\"-\" + 0.308*\",\" + -0.212*\"(\" + -0.168*\")\" + -0.147*\"algorithm\" + 0.144*\"languag\" + -0.119*\"time\"\n",
      "2022-02-20 12:59:50,114 : INFO : topic #4(45.710): -0.489*\"comput\" + 0.475*\"languag\" + 0.428*\"program\" + -0.238*\"method\" + -0.141*\"problem\" + 0.121*\"system\" + 0.109*\")\" + -0.107*\"equat\" + -0.100*\"algorithm\" + 0.099*\"(\"\n",
      "2022-02-20 12:59:50,114 : INFO : preparing a new chunk of documents\n",
      "2022-02-20 12:59:50,121 : INFO : using 100 extra samples and 2 power iterations\n",
      "2022-02-20 12:59:50,122 : INFO : 1st phase: constructing (1197, 200) action matrix\n",
      "2022-02-20 12:59:50,131 : INFO : orthonormalizing (1197, 200) action matrix\n",
      "2022-02-20 12:59:50,234 : INFO : 2nd phase: running dense svd on (200, 1204) matrix\n",
      "2022-02-20 12:59:50,310 : INFO : computing the final decomposition\n",
      "2022-02-20 12:59:50,310 : INFO : keeping 100 factors (discarding 14.012% of energy spectrum)\n",
      "2022-02-20 12:59:50,312 : INFO : merging projections: (1197, 100) + (1197, 100)\n",
      "2022-02-20 12:59:50,353 : INFO : keeping 100 factors (discarding 8.148% of energy spectrum)\n",
      "2022-02-20 12:59:50,354 : INFO : processed documents up to #3204\n",
      "2022-02-20 12:59:50,355 : INFO : topic #0(225.136): 0.759*\",\" + 0.337*\"-\" + 0.196*\"system\" + 0.186*\"program\" + 0.166*\"comput\" + 0.139*\"(\" + 0.103*\")\" + 0.103*\"algorithm\" + 0.099*\"languag\" + 0.087*\"time\"\n",
      "2022-02-20 12:59:50,355 : INFO : topic #1(87.805): 0.613*\"-\" + -0.399*\",\" + 0.399*\"(\" + 0.326*\"algorithm\" + 0.293*\")\" + -0.129*\"system\" + -0.107*\"program\" + 0.085*\"method\" + 0.077*\"time\" + 0.062*\"1\"\n",
      "2022-02-20 12:59:50,355 : INFO : topic #2(81.909): 0.550*\"-\" + -0.434*\"(\" + 0.355*\"system\" + -0.321*\")\" + -0.291*\",\" + -0.266*\"algorithm\" + 0.146*\"program\" + 0.123*\"comput\" + 0.078*\"time\" + -0.064*\"[\"\n",
      "2022-02-20 12:59:50,356 : INFO : topic #3(72.433): -0.693*\"program\" + 0.339*\",\" + 0.279*\"-\" + -0.251*\"(\" + -0.221*\"system\" + -0.214*\"languag\" + -0.204*\")\" + -0.160*\"comput\" + -0.099*\"data\" + -0.056*\"execut\"\n",
      "2022-02-20 12:59:50,356 : INFO : topic #4(68.523): -0.673*\"system\" + 0.453*\"program\" + 0.254*\"languag\" + 0.212*\"-\" + -0.179*\"comput\" + -0.165*\"(\" + -0.121*\")\" + -0.115*\"model\" + 0.101*\",\" + -0.098*\"algorithm\"\n"
     ]
    },
    {
     "data": {
      "text/plain": [
       "[(0, 0.015214923743062369),\n",
       " (1, -0.016283935095698122),\n",
       " (2, -0.00019185245011125486),\n",
       " (3, -0.0018233385810856064),\n",
       " (4, -0.009438310054288588),\n",
       " (5, -0.004789685889590481),\n",
       " (6, 0.027121141303041666),\n",
       " (7, 0.016615763609923888),\n",
       " (8, -0.031720343147004386),\n",
       " (9, -0.0007166178646644053),\n",
       " (10, 0.0021252391351619963),\n",
       " (11, -0.017568357552530032),\n",
       " (12, -6.901903937801476e-06),\n",
       " (13, 0.0014963102664018735),\n",
       " (14, 0.004660959212480059),\n",
       " (15, 0.005131907126524692),\n",
       " (16, 0.005124828558655332),\n",
       " (17, 0.003139652086071679),\n",
       " (18, -0.01743816600999201),\n",
       " (19, 0.02046915638817735),\n",
       " (20, -0.010159908620875714),\n",
       " (21, -0.013786968474679182),\n",
       " (22, 0.048794731494942414),\n",
       " (23, 0.02521676717890396),\n",
       " (24, -0.009096386709643545),\n",
       " (25, -0.012661330092578608),\n",
       " (26, 0.00643462642958521),\n",
       " (27, 0.07483787541595949),\n",
       " (28, -0.06263606470105267),\n",
       " (29, 0.030001910081996715),\n",
       " (30, 0.040932268126355434),\n",
       " (31, 0.04381324060665558),\n",
       " (32, -0.07795569170485755),\n",
       " (33, 0.0406717109320889),\n",
       " (34, -0.025887517741324216),\n",
       " (35, 0.06104172806547663),\n",
       " (36, 0.03860265975032412),\n",
       " (37, -0.008327038357682181),\n",
       " (38, -0.06562818228104322),\n",
       " (39, 0.025588143834435605),\n",
       " (40, -0.037859275964544706),\n",
       " (41, -0.03856430322680855),\n",
       " (42, 0.022665578554484554),\n",
       " (43, 0.018862148296590997),\n",
       " (44, 0.01691169144948146),\n",
       " (45, 0.057412356299934464),\n",
       " (46, -0.010091728687981975),\n",
       " (47, 0.010978434582848964),\n",
       " (48, 0.019761638193484296),\n",
       " (49, 0.02975474745275581),\n",
       " (50, 0.015163247801022071),\n",
       " (51, 0.049924211749743264),\n",
       " (52, -0.008585022408080121),\n",
       " (53, 0.005121360433412122),\n",
       " (54, 0.043255495379997476),\n",
       " (55, 0.03180750093428604),\n",
       " (56, 0.001558530423994637),\n",
       " (57, -0.01076384416889742),\n",
       " (58, -0.0159672453100905),\n",
       " (59, 0.04864806831151542),\n",
       " (60, -0.008540272000863098),\n",
       " (61, 0.045115022383152514),\n",
       " (62, -0.0008002978970550944),\n",
       " (63, 0.038287447447820006),\n",
       " (64, -0.038554317315983314),\n",
       " (65, 0.05625643620776341),\n",
       " (66, 0.009028626743244606),\n",
       " (67, -0.04565180608494345),\n",
       " (68, 0.03410626111940897),\n",
       " (69, -0.039852795037779054),\n",
       " (70, 0.04278935696551891),\n",
       " (71, -0.034206345916213826),\n",
       " (72, -0.004731058354175654),\n",
       " (73, 0.08262905164866192),\n",
       " (74, -0.05524626171442133),\n",
       " (75, -0.005570184411708369),\n",
       " (76, 0.013390413739866965),\n",
       " (77, -0.03767106093314309),\n",
       " (78, 0.05135321240548251),\n",
       " (79, 0.02377993968486633),\n",
       " (80, -0.023088888757567268),\n",
       " (81, -0.009096707377874096),\n",
       " (82, 0.08097247777996078),\n",
       " (83, 0.03174937618370011),\n",
       " (84, -0.019939303705021637),\n",
       " (85, -0.028086046725362985),\n",
       " (86, 0.00917780468516595),\n",
       " (87, -0.03026296276202738),\n",
       " (88, -0.04735767294466196),\n",
       " (89, 0.0804989171042573),\n",
       " (90, -0.05385743157910771),\n",
       " (91, 0.023365275158342504),\n",
       " (92, -0.009001668177294964),\n",
       " (93, 0.018911548486647625),\n",
       " (94, -0.061966477672421666),\n",
       " (95, -0.018172599353970927),\n",
       " (96, -0.029459719141845503),\n",
       " (97, -0.027195314654928505),\n",
       " (98, 0.0011686574951290385),\n",
       " (99, 0.012616684095245195)]"
      ]
     },
     "execution_count": 115,
     "metadata": {},
     "output_type": "execute_result"
    }
   ],
   "source": [
    "##### Function check\n",
    "lsi = LsiRetrievalModel(doc_repr_2)\n",
    "lsi.train_model()\n",
    "\n",
    "# you can now get an LSI vector for a given query in the following way:\n",
    "lsi.vectorize_query(\"report\")\n",
    "##### "
   ]
  },
  {
   "cell_type": "markdown",
   "metadata": {
    "deletable": false,
    "editable": false,
    "nbgrader": {
     "cell_type": "markdown",
     "checksum": "7116bb9f576c5bb04934e1d59c51d729",
     "grade": false,
     "grade_id": "cell-4c5eeb557b4fca2f",
     "locked": true,
     "points": 5,
     "schema_version": 3,
     "solution": false,
     "task": true
    }
   },
   "source": [
    "\\#### Please do not change this. This cell is used for grading."
   ]
  },
  {
   "cell_type": "markdown",
   "metadata": {
    "deletable": false,
    "editable": false,
    "nbgrader": {
     "cell_type": "markdown",
     "checksum": "26e2ff3c413745e633d99f66c041d6b1",
     "grade": false,
     "grade_id": "cell-c4e50296cd17a555",
     "locked": true,
     "schema_version": 3,
     "solution": false,
     "task": false
    }
   },
   "source": [
    "---\n",
    "**Implementation (5 points):**\n",
    " Next, implement a basic ranking class for vector space retrieval (used for all semantic methods): "
   ]
  },
  {
   "cell_type": "code",
   "execution_count": 116,
   "metadata": {
    "deletable": false,
    "nbgrader": {
     "cell_type": "code",
     "checksum": "1a8389d2f0635c3405e2b0b27ed9f327",
     "grade": false,
     "grade_id": "cell-250515d288e80cdc",
     "locked": false,
     "schema_version": 3,
     "solution": true,
     "task": false
    }
   },
   "outputs": [],
   "source": [
    "# TODO: Implement this! (5 points)\n",
    "class DenseRetrievalRanker:\n",
    "    def __init__(self, vsrm, similarity_fn):\n",
    "        \"\"\"\n",
    "            vsrm: instance of `VectorSpaceRetrievalModel`\n",
    "            similarity_fn: function instance that takes in two vectors \n",
    "                            and returns a similarity score e.g cosine_sim defined earlier\n",
    "        \"\"\"\n",
    "        self.vsrm = vsrm \n",
    "        self.vectorized_documents = self.vsrm.vectorize_documents()\n",
    "        self.similarity_fn = similarity_fn\n",
    "    \n",
    "    def _compute_sim(self, query_vector):\n",
    "        \"\"\"\n",
    "            Compute the similarity of `query_vector` to documents in \n",
    "            `self.vectorized_documents` using `self.similarity_fn`\n",
    "            Returns a list of (doc_id, score) tuples\n",
    "        \"\"\"\n",
    "        # YOUR CODE HERE\n",
    "        list_scores = list()\n",
    "        if not query_vector:\n",
    "            return []\n",
    "        for doc_id, vec in self.vectorized_documents.items():\n",
    "            if not vec:\n",
    "                score = 0\n",
    "            else:\n",
    "                score = self.similarity_fn(query_vector, vec)\n",
    "            list_scores.append((doc_id, score))\n",
    "            \n",
    "        return list_scores\n",
    "    \n",
    "    def search(self, query):\n",
    "        scores = self._compute_sim(self.vsrm.vectorize_query(query))\n",
    "        scores.sort(key=lambda _:-_[1])\n",
    "        return scores "
   ]
  },
  {
   "cell_type": "code",
   "execution_count": 117,
   "metadata": {
    "deletable": false,
    "editable": false,
    "nbgrader": {
     "cell_type": "code",
     "checksum": "f237dd1ef6c1783c06797f4b514421f5",
     "grade": true,
     "grade_id": "cell-b73068b3e77a8e31",
     "locked": true,
     "points": 0,
     "schema_version": 3,
     "solution": false,
     "task": false
    }
   },
   "outputs": [
    {
     "data": {
      "text/plain": [
       "[('599', 0.7979266865276171),\n",
       " ('947', 0.5810834800890193),\n",
       " ('53', 0.49370054987002715),\n",
       " ('1339', 0.45831069332052593),\n",
       " ('3160', 0.4408748806546437)]"
      ]
     },
     "execution_count": 117,
     "metadata": {},
     "output_type": "execute_result"
    }
   ],
   "source": [
    "##### Function check\n",
    "drm_lsi = DenseRetrievalRanker(lsi, cosine_sim)\n",
    "drm_lsi.search(\"report\")[:5]\n",
    "##### "
   ]
  },
  {
   "cell_type": "markdown",
   "metadata": {
    "deletable": false,
    "editable": false,
    "nbgrader": {
     "cell_type": "markdown",
     "checksum": "5b3f19fdcaa585d263706d5a26038799",
     "grade": false,
     "grade_id": "cell-034c755a6502b868",
     "locked": true,
     "points": 5,
     "schema_version": 3,
     "solution": false,
     "task": true
    }
   },
   "source": [
    "\\#### Please do not change this. This cell is used for grading."
   ]
  },
  {
   "cell_type": "markdown",
   "metadata": {
    "deletable": false,
    "editable": false,
    "nbgrader": {
     "cell_type": "markdown",
     "checksum": "dcafef6e037033c46304b914f7c78bdf",
     "grade": false,
     "grade_id": "cell-d1df23f497d5ed6b",
     "locked": true,
     "schema_version": 3,
     "solution": false,
     "task": false
    }
   },
   "source": [
    "---\n",
    "Now, you can test your LSI model in the following cell: try finding queries which are lexically different to documents, but semantically similar - does LSI work well for these queries?!"
   ]
  },
  {
   "cell_type": "code",
   "execution_count": 118,
   "metadata": {
    "deletable": false,
    "editable": false,
    "nbgrader": {
     "cell_type": "code",
     "checksum": "11734bc7674377b340ad51297a8e8bb5",
     "grade": false,
     "grade_id": "cell-efd1d08dfc04ec3e",
     "locked": true,
     "schema_version": 3,
     "solution": false,
     "task": false
    }
   },
   "outputs": [
    {
     "data": {
      "application/vnd.jupyter.widget-view+json": {
       "model_id": "6dc985683fe04bee935d4a86d86d8521",
       "version_major": 2,
       "version_minor": 0
      },
      "text/plain": [
       "Text(value='', description='Search Bar')"
      ]
     },
     "metadata": {},
     "output_type": "display_data"
    },
    {
     "name": "stdout",
     "output_type": "stream",
     "text": [
      "Searching for: 'lead' (SEARCH FN: <bound method DenseRetrievalRanker.search of <__main__.DenseRetrievalRanker object at 0x0000027BEBF9FD68>>)\n"
     ]
    },
    {
     "data": {
      "text/html": [
       "<ul><li>Document #2424(0.32925050875305867): ... multiple faults <strong>lead</strong> to unreliable op...</li><li>Document #3049(0.3181682267715082): A Simply Extended and Modified Batch\n",
       "Environment Graphical System (SEMBEGS)\n",
       "SEMBEGS is a complete batch environment graphical\n",
       "system containing components for handling \n",
       "graphical data files, for displaying the contents of\n",
       "these files on a variety of graphical hardware, \n",
       "and for performing graphical batch input operations.\n",
       " SEMBEGS is easy to extend and modify to meet the \n",
       "growing needs of a large batch environment, and is even\n",
       "extendable to a fully interactive system.  The \n",
       "paper presents the conceptual view of graphics leading\n",
       "to the design of SEMBEGS and outlines the major \n",
       "components of the system.  The design of SEMBEGS is founded\n",
       "upon the basic assumption that the true aim \n",
       "of computer graphics is to describe graphical entities,\n",
       "rather than, as commonly held, to provide graphical \n",
       "input and output functional capabilities.  SEMBEGS\n",
       "is built around a Basic Graphical Data Management \n",
       "System (BAGDAMS) which provides a common means of communicating\n",
       "the descriptions of graphical entities \n",
       " between the various components of SEMBEGS.  BAGDAMS\n",
       "provides facilities for storing, retrieving, and \n",
       "manipulating the descriptions of graphical entities\n",
       "provided by, and received by application programs,\n",
       "graphics packages, and graphical devices. </li><li>Document #1497(0.30548702648227266): On the Normalization Requirement of\n",
       "Divisor in Divide- and- Correct Methods\n",
       "This paper presents an analysis on the normalization\n",
       "requirement of the divisor in a divide-and-correct \n",
       "method.  This analysis is made subject to the condition\n",
       "that not more than one correction is required \n",
       "to obtain the true quotient character, from the trial\n",
       "estimate got from the division of a two-precision \n",
       "segment of every partial remainder by a suitably rounded\n",
       "single-precision divisor.  (This segmented division \n",
       "is denoted here as a (2, 1) precision basic division.)\n",
       " It is found that the normalization requirement \n",
       "could be narrowed down to a smaller range of divisors,\n",
       "provided the magnitude of the character next to \n",
       "the leading character of the divisor is known.  If,\n",
       "however, the normalization is to be eliminated one \n",
       "has to choose proper higher precision segments of operands\n",
       "for the basic division.  Also considered is \n",
       "the possibility of eliminating the normalization by an\n",
       "increase on the number of corrections on the quotient \n",
       "estimate got from a (2, 1) precision basic division.\n",
       " It is shown that such a scheme is economical only \n",
       "for small radices.</li><li>Document #2574(0.2803491704691169): Multiple Exists from a Loop Using Neither GO TO nor Labels\n",
       "</li><li>Document #3125(0.2787971677329249): Global Optimization by Suppression of Partial Redundancies\n",
       "The elimination of redundant computations and the moving of invariant\n",
       "computations out of loops are often done separately, with invariants \n",
       "moved outward loop by loop.  We propose to do both at once and\n",
       "to move each expression directly to the entrance of the outermost\n",
       "loop in which it is invariant.  This is done by solving a more\n",
       "general problem, i.e. the elimination of computations performed\n",
       "twice on a given execution path.  Such computations are termed partially\n",
       "redundant.  Moreover, the algorithm does not require any graphical\n",
       "information or restrictions on the shape of the program graph.\n",
       "Testing this algorithm has shown that its execution cost is nearly\n",
       "linear with the size of the program, and that it leads\n",
       "to a smaller optimizer that requires less execution time.</li></ul>"
      ],
      "text/plain": [
       "<IPython.core.display.HTML object>"
      ]
     },
     "metadata": {},
     "output_type": "display_data"
    },
    {
     "name": "stdout",
     "output_type": "stream",
     "text": [
      "Searching for: 'lead' (SEARCH FN: <bound method DenseRetrievalRanker.search of <__main__.DenseRetrievalRanker object at 0x0000027BEBF9FD68>>)\n"
     ]
    },
    {
     "data": {
      "text/html": [
       "<ul><li>Document #2424(0.32925050875305867): ... multiple faults <strong>lead</strong> to unreliable op...</li><li>Document #3049(0.3181682267715082): A Simply Extended and Modified Batch\n",
       "Environment Graphical System (SEMBEGS)\n",
       "SEMBEGS is a complete batch environment graphical\n",
       "system containing components for handling \n",
       "graphical data files, for displaying the contents of\n",
       "these files on a variety of graphical hardware, \n",
       "and for performing graphical batch input operations.\n",
       " SEMBEGS is easy to extend and modify to meet the \n",
       "growing needs of a large batch environment, and is even\n",
       "extendable to a fully interactive system.  The \n",
       "paper presents the conceptual view of graphics leading\n",
       "to the design of SEMBEGS and outlines the major \n",
       "components of the system.  The design of SEMBEGS is founded\n",
       "upon the basic assumption that the true aim \n",
       "of computer graphics is to describe graphical entities,\n",
       "rather than, as commonly held, to provide graphical \n",
       "input and output functional capabilities.  SEMBEGS\n",
       "is built around a Basic Graphical Data Management \n",
       "System (BAGDAMS) which provides a common means of communicating\n",
       "the descriptions of graphical entities \n",
       " between the various components of SEMBEGS.  BAGDAMS\n",
       "provides facilities for storing, retrieving, and \n",
       "manipulating the descriptions of graphical entities\n",
       "provided by, and received by application programs,\n",
       "graphics packages, and graphical devices. </li><li>Document #1497(0.30548702648227266): On the Normalization Requirement of\n",
       "Divisor in Divide- and- Correct Methods\n",
       "This paper presents an analysis on the normalization\n",
       "requirement of the divisor in a divide-and-correct \n",
       "method.  This analysis is made subject to the condition\n",
       "that not more than one correction is required \n",
       "to obtain the true quotient character, from the trial\n",
       "estimate got from the division of a two-precision \n",
       "segment of every partial remainder by a suitably rounded\n",
       "single-precision divisor.  (This segmented division \n",
       "is denoted here as a (2, 1) precision basic division.)\n",
       " It is found that the normalization requirement \n",
       "could be narrowed down to a smaller range of divisors,\n",
       "provided the magnitude of the character next to \n",
       "the leading character of the divisor is known.  If,\n",
       "however, the normalization is to be eliminated one \n",
       "has to choose proper higher precision segments of operands\n",
       "for the basic division.  Also considered is \n",
       "the possibility of eliminating the normalization by an\n",
       "increase on the number of corrections on the quotient \n",
       "estimate got from a (2, 1) precision basic division.\n",
       " It is shown that such a scheme is economical only \n",
       "for small radices.</li><li>Document #2574(0.2803491704691169): Multiple Exists from a Loop Using Neither GO TO nor Labels\n",
       "</li><li>Document #3125(0.2787971677329249): Global Optimization by Suppression of Partial Redundancies\n",
       "The elimination of redundant computations and the moving of invariant\n",
       "computations out of loops are often done separately, with invariants \n",
       "moved outward loop by loop.  We propose to do both at once and\n",
       "to move each expression directly to the entrance of the outermost\n",
       "loop in which it is invariant.  This is done by solving a more\n",
       "general problem, i.e. the elimination of computations performed\n",
       "twice on a given execution path.  Such computations are termed partially\n",
       "redundant.  Moreover, the algorithm does not require any graphical\n",
       "information or restrictions on the shape of the program graph.\n",
       "Testing this algorithm has shown that its execution cost is nearly\n",
       "linear with the size of the program, and that it leads\n",
       "to a smaller optimizer that requires less execution time.</li></ul>"
      ],
      "text/plain": [
       "<IPython.core.display.HTML object>"
      ]
     },
     "metadata": {},
     "output_type": "display_data"
    },
    {
     "name": "stdout",
     "output_type": "stream",
     "text": [
      "Searching for: 'lead' (SEARCH FN: <bound method DenseRetrievalRanker.search of <__main__.DenseRetrievalRanker object at 0x0000027BEBF9FD68>>)\n"
     ]
    },
    {
     "data": {
      "text/html": [
       "<ul><li>Document #2424(0.32925050875305867): ... multiple faults <strong>lead</strong> to unreliable op...</li><li>Document #3049(0.3181682267715082): A Simply Extended and Modified Batch\n",
       "Environment Graphical System (SEMBEGS)\n",
       "SEMBEGS is a complete batch environment graphical\n",
       "system containing components for handling \n",
       "graphical data files, for displaying the contents of\n",
       "these files on a variety of graphical hardware, \n",
       "and for performing graphical batch input operations.\n",
       " SEMBEGS is easy to extend and modify to meet the \n",
       "growing needs of a large batch environment, and is even\n",
       "extendable to a fully interactive system.  The \n",
       "paper presents the conceptual view of graphics leading\n",
       "to the design of SEMBEGS and outlines the major \n",
       "components of the system.  The design of SEMBEGS is founded\n",
       "upon the basic assumption that the true aim \n",
       "of computer graphics is to describe graphical entities,\n",
       "rather than, as commonly held, to provide graphical \n",
       "input and output functional capabilities.  SEMBEGS\n",
       "is built around a Basic Graphical Data Management \n",
       "System (BAGDAMS) which provides a common means of communicating\n",
       "the descriptions of graphical entities \n",
       " between the various components of SEMBEGS.  BAGDAMS\n",
       "provides facilities for storing, retrieving, and \n",
       "manipulating the descriptions of graphical entities\n",
       "provided by, and received by application programs,\n",
       "graphics packages, and graphical devices. </li><li>Document #1497(0.30548702648227266): On the Normalization Requirement of\n",
       "Divisor in Divide- and- Correct Methods\n",
       "This paper presents an analysis on the normalization\n",
       "requirement of the divisor in a divide-and-correct \n",
       "method.  This analysis is made subject to the condition\n",
       "that not more than one correction is required \n",
       "to obtain the true quotient character, from the trial\n",
       "estimate got from the division of a two-precision \n",
       "segment of every partial remainder by a suitably rounded\n",
       "single-precision divisor.  (This segmented division \n",
       "is denoted here as a (2, 1) precision basic division.)\n",
       " It is found that the normalization requirement \n",
       "could be narrowed down to a smaller range of divisors,\n",
       "provided the magnitude of the character next to \n",
       "the leading character of the divisor is known.  If,\n",
       "however, the normalization is to be eliminated one \n",
       "has to choose proper higher precision segments of operands\n",
       "for the basic division.  Also considered is \n",
       "the possibility of eliminating the normalization by an\n",
       "increase on the number of corrections on the quotient \n",
       "estimate got from a (2, 1) precision basic division.\n",
       " It is shown that such a scheme is economical only \n",
       "for small radices.</li><li>Document #2574(0.2803491704691169): Multiple Exists from a Loop Using Neither GO TO nor Labels\n",
       "</li><li>Document #3125(0.2787971677329249): Global Optimization by Suppression of Partial Redundancies\n",
       "The elimination of redundant computations and the moving of invariant\n",
       "computations out of loops are often done separately, with invariants \n",
       "moved outward loop by loop.  We propose to do both at once and\n",
       "to move each expression directly to the entrance of the outermost\n",
       "loop in which it is invariant.  This is done by solving a more\n",
       "general problem, i.e. the elimination of computations performed\n",
       "twice on a given execution path.  Such computations are termed partially\n",
       "redundant.  Moreover, the algorithm does not require any graphical\n",
       "information or restrictions on the shape of the program graph.\n",
       "Testing this algorithm has shown that its execution cost is nearly\n",
       "linear with the size of the program, and that it leads\n",
       "to a smaller optimizer that requires less execution time.</li></ul>"
      ],
      "text/plain": [
       "<IPython.core.display.HTML object>"
      ]
     },
     "metadata": {},
     "output_type": "display_data"
    }
   ],
   "source": [
    "# test your LSI model\n",
    "search_fn = drm_lsi.search\n",
    "\n",
    "text = widgets.Text(description=\"Search Bar\", width=200)\n",
    "display(text)\n",
    "\n",
    "def make_results_2(query, search_fn):\n",
    "    results = []\n",
    "    for doc_id, score in search_fn(query):\n",
    "        highlight = highlight_text(docs_by_id[doc_id], query)\n",
    "        if len(highlight.strip()) == 0:\n",
    "            highlight = docs_by_id[doc_id]\n",
    "        results.append(ResultRow(doc_id, highlight, score))\n",
    "    return results\n",
    "\n",
    "def handle_submit_2(sender):\n",
    "    print(f\"Searching for: '{sender.value}' (SEARCH FN: {search_fn})\")\n",
    "    \n",
    "    results = make_results_2(sender.value, search_fn)\n",
    "    \n",
    "    # display only the top 5\n",
    "    results = results[:5]\n",
    "    \n",
    "    body = \"\"\n",
    "    for idx, r in enumerate(results):\n",
    "        body += f\"<li>Document #{r.doc_id}({r.score}): {r.snippet}</li>\"\n",
    "    display(HTML(f\"<ul>{body}</ul>\"))\n",
    "    \n",
    "\n",
    "text.on_submit(handle_submit_2)"
   ]
  },
  {
   "cell_type": "markdown",
   "metadata": {
    "deletable": false,
    "editable": false,
    "nbgrader": {
     "cell_type": "markdown",
     "checksum": "d074ce1ca48384cdda78742741c938be",
     "grade": false,
     "grade_id": "cell-3a86cef264d8f6cf",
     "locked": true,
     "schema_version": 3,
     "solution": false,
     "task": false
    }
   },
   "source": [
    "---\n",
    "## Section 7: Latent Dirichlet Allocation (LDA) (10 points) <a class=\"anchor\" id=\"lda\"></a>\n",
    "\n",
    "[Back to Part 2](#part2)\n",
    "\n",
    "The specifics of LDA is out of the scope of this assignment, but we will use the `gensim` implementation to perform search using LDA over our small document collection. The key thing to remember is that LDA, unlike LSI, outputs a topic **distribution**, not a vector. With that in mind, let's first define a similarity measure.\n"
   ]
  },
  {
   "cell_type": "markdown",
   "metadata": {
    "deletable": false,
    "editable": false,
    "nbgrader": {
     "cell_type": "markdown",
     "checksum": "db01092373b18f0c9dfed1bb17db4ad9",
     "grade": false,
     "grade_id": "cell-6b78ad22c2d60ba7",
     "locked": true,
     "schema_version": 3,
     "solution": false,
     "task": false
    }
   },
   "source": [
    "---\n",
    "### Section 7.1: Jenson-Shannon divergence (5 points) <a class=\"anchor\" id=\"js_sim\"></a>\n",
    "\n",
    "The Jenson-Shannon divergence is a symmetric and finite measure on two probability distributions (unlike the KL, which is neither). For identical distributions, the JSD is equal to 0, and since our code uses 0 as irrelevant and higher scores as relevant, we use `(1 - JSD)` as the score or 'similarity' in our setup\n",
    "\n",
    "**Note**: the JSD is bounded to \\[0,1\\] only if we use log base 2. So please ensure that you're using `np.log2` instead of `np.log`"
   ]
  },
  {
   "cell_type": "code",
   "execution_count": 126,
   "metadata": {
    "deletable": false,
    "nbgrader": {
     "cell_type": "code",
     "checksum": "a579e6cd7a24a3516bc9a84528b392d3",
     "grade": false,
     "grade_id": "cell-d2376a85a4841e98",
     "locked": false,
     "schema_version": 3,
     "solution": true,
     "task": false
    }
   },
   "outputs": [],
   "source": [
    "## TODO: Implement this! (5 points)\n",
    "def jenson_shannon_divergence(vec_1, vec_2, assert_prob=False):\n",
    "    \"\"\"\n",
    "        Computes the Jensen-Shannon divergence between two probability distributions. \n",
    "        NOTE: DO NOT RETURN 1 - JSD here, that is handled by the next function which is already implemented! \n",
    "        The inputs are *gensim* vectors - same as the vectors for the cosine_sim function\n",
    "        assert_prob is a flag that checks if the inputs are proper probability distributions \n",
    "            i.e they sum to 1 and are positive - use this to check your inputs if needed. \n",
    "                (This is optional to implement, but recommended - \n",
    "                you can the default to False to save a few ms off the runtime)\n",
    "    \"\"\"\n",
    "    # YOUR CODE HERE\n",
    "    kl1 =0\n",
    "    kl2 = 0\n",
    "\n",
    "    vec_1 = list(list(zip(*vec_1))[1])\n",
    "    vec_2 = list(list(zip(*vec_2))[1])\n",
    "    \n",
    "    mean = list(0.5*(np.array(vec_1) + np.array(vec_2)))\n",
    "\n",
    "    for i in range(len(vec_1)):\n",
    "        kl1+= vec_1[i] * np.log2(vec_1[i] / mean[i])\n",
    "\n",
    "        \n",
    "    for i in range(len(vec_2)):\n",
    "        kl2+= vec_2[i] * np.log2(vec_2[i] / mean[i])\n",
    "    \n",
    "    kl_total = (0.5*kl1) + (0.5*kl2)\n",
    "\n",
    "    return kl_total\n",
    "\n",
    "\n",
    "def jenson_shannon_sim(vec_1, vec_2, assert_prob=False):\n",
    "    return 1 - jenson_shannon_divergence(vec_1, vec_2)\n",
    "\n"
   ]
  },
  {
   "cell_type": "code",
   "execution_count": 127,
   "metadata": {
    "deletable": false,
    "editable": false,
    "nbgrader": {
     "cell_type": "code",
     "checksum": "ab340aa941c9fb5c89b3fd0a9139e246",
     "grade": true,
     "grade_id": "cell-487c6d2933f38053",
     "locked": true,
     "points": 5,
     "schema_version": 3,
     "solution": false,
     "task": false
    }
   },
   "outputs": [
    {
     "data": {
      "text/plain": [
       "0.9251064410358459"
      ]
     },
     "execution_count": 127,
     "metadata": {},
     "output_type": "execute_result"
    }
   ],
   "source": [
    "##### Function check\n",
    "vec_1 = [(1, 0.3), (2, 0.4), (3, 0.3)]\n",
    "vec_2 = [(1, 0.1), (2, 0.7), (3, 0.2)]\n",
    "jenson_shannon_sim(vec_1, vec_2, assert_prob=True)\n",
    "##### "
   ]
  },
  {
   "cell_type": "markdown",
   "metadata": {
    "deletable": false,
    "editable": false,
    "nbgrader": {
     "cell_type": "markdown",
     "checksum": "0a1583a5f23e3390038331cce67f5d8e",
     "grade": false,
     "grade_id": "cell-4535cc67a50b80fa",
     "locked": true,
     "schema_version": 3,
     "solution": false,
     "task": false
    }
   },
   "source": [
    "---\n",
    "### Section 7.2: LDA retrieval (5 points) <a class=\"anchor\" id=\"lda_ret\"></a>\n",
    "\n",
    "Implement the `train_model` method in the following class (note that this is only one line of code in `gensim`!). Ensure that the parameters defined in the `__init__` method are not changed, and are *used in the `train_method` function*. You do not need to set this. Normally, the hyperaparameter space will be searched using grid search / other methods. Note that training the LDA model might take some time\n",
    "\n",
    "The last two lines of code train an LDA model on the list of documents which have been stemmed, lower-cased and have stopwords removed. "
   ]
  },
  {
   "cell_type": "code",
   "execution_count": 128,
   "metadata": {
    "deletable": false,
    "nbgrader": {
     "cell_type": "code",
     "checksum": "27de8e4fa85536bb396b73bfc51b3f50",
     "grade": false,
     "grade_id": "cell-021a48dff4a8bb91",
     "locked": false,
     "schema_version": 3,
     "solution": true,
     "task": false
    }
   },
   "outputs": [],
   "source": [
    "# TODO: Implement this! (5 points)\n",
    "class LdaRetrievalModel(VectorSpaceRetrievalModel):\n",
    "    def __init__(self, doc_repr):\n",
    "        super().__init__(doc_repr)\n",
    "        \n",
    "        # use these parameters in the train_model method\n",
    "        self.num_topics = 100\n",
    "        self.chunksize = 2000\n",
    "        self.passes = 20\n",
    "        self.iterations = 400\n",
    "        self.eval_every = 10\n",
    "        # this is need to get full vectors\n",
    "        self.minimum_probability=0.0\n",
    "        self.alpha='auto'\n",
    "        self.eta='auto'\n",
    "    \n",
    "    \n",
    "    def train_model(self):\n",
    "        # YOUR CODE HERE\n",
    "        self.model = LdaModel(corpus=self.corpus, id2word=self.id2word, num_topics=self.num_topics, chunksize=self.chunksize,\\\n",
    "                        passes=self.passes, alpha=self.alpha,eval_every=self.eval_every, minimum_probability=self.minimum_probability,\\\n",
    "                        eta=self.eta, iterations=self.iterations)\n"
   ]
  },
  {
   "cell_type": "code",
   "execution_count": 129,
   "metadata": {
    "deletable": false,
    "editable": false,
    "nbgrader": {
     "cell_type": "code",
     "checksum": "be70fcb8098d0b6ce64cd2a10e6a05b7",
     "grade": true,
     "grade_id": "cell-86750b715f0345fd",
     "locked": true,
     "points": 0,
     "schema_version": 3,
     "solution": false,
     "task": false
    }
   },
   "outputs": [
    {
     "name": "stderr",
     "output_type": "stream",
     "text": [
      "2022-02-20 13:07:07,019 : INFO : adding document #0 to Dictionary(0 unique tokens: [])\n",
      "2022-02-20 13:07:07,128 : INFO : built Dictionary(5937 unique tokens: ['-', 'algebra', 'intern', 'languag', 'preliminari']...) from 3204 documents (total 115969 corpus positions)\n",
      "2022-02-20 13:07:07,133 : INFO : discarding 4740 tokens: [('repeat', 8), ('glossari', 7), ('inspect', 8), ('uncol', 2), ('rung', 9), ('secant', 2), ('.', 1603), ('acceler', 6), ('diverg', 3), ('induc', 9)]...\n",
      "2022-02-20 13:07:07,134 : INFO : keeping 1197 tokens which were in no less than 10 and no more than 1602 (=50.0%) documents\n",
      "2022-02-20 13:07:07,136 : INFO : resulting dictionary: Dictionary(1197 unique tokens: ['-', 'algebra', 'intern', 'languag', 'preliminari']...)\n",
      "2022-02-20 13:07:07,196 : INFO : using autotuned alpha, starting with [0.01, 0.01, 0.01, 0.01, 0.01, 0.01, 0.01, 0.01, 0.01, 0.01, 0.01, 0.01, 0.01, 0.01, 0.01, 0.01, 0.01, 0.01, 0.01, 0.01, 0.01, 0.01, 0.01, 0.01, 0.01, 0.01, 0.01, 0.01, 0.01, 0.01, 0.01, 0.01, 0.01, 0.01, 0.01, 0.01, 0.01, 0.01, 0.01, 0.01, 0.01, 0.01, 0.01, 0.01, 0.01, 0.01, 0.01, 0.01, 0.01, 0.01, 0.01, 0.01, 0.01, 0.01, 0.01, 0.01, 0.01, 0.01, 0.01, 0.01, 0.01, 0.01, 0.01, 0.01, 0.01, 0.01, 0.01, 0.01, 0.01, 0.01, 0.01, 0.01, 0.01, 0.01, 0.01, 0.01, 0.01, 0.01, 0.01, 0.01, 0.01, 0.01, 0.01, 0.01, 0.01, 0.01, 0.01, 0.01, 0.01, 0.01, 0.01, 0.01, 0.01, 0.01, 0.01, 0.01, 0.01, 0.01, 0.01, 0.01]\n",
      "2022-02-20 13:07:07,196 : INFO : using serial LDA version on this node\n",
      "2022-02-20 13:07:07,207 : INFO : running online (multi-pass) LDA training, 100 topics, 20 passes over the supplied corpus of 3204 documents, updating model once every 2000 documents, evaluating perplexity every 3204 documents, iterating 400x with a convergence threshold of 0.001000\n",
      "2022-02-20 13:07:07,207 : INFO : PROGRESS: pass 0, at document #2000/3204\n",
      "2022-02-20 13:07:08,778 : INFO : optimized alpha [0.009802825, 0.009813799, 0.009802456, 0.00980806, 0.009880015, 0.0097873, 0.009797634, 0.009787031, 0.00987533, 0.009766536, 0.009807613, 0.009792321, 0.0097924955, 0.009869495, 0.009894511, 0.009849127, 0.0098337475, 0.009817995, 0.009823141, 0.009964232, 0.0098338, 0.009807552, 0.009771628, 0.009844208, 0.009797154, 0.009838771, 0.009853968, 0.009818432, 0.009771687, 0.009771722, 0.009761275, 0.009787051, 0.009838525, 0.009822335, 0.009865844, 0.009818077, 0.009934526, 0.0097819595, 0.009802513, 0.009813166, 0.009766414, 0.009818415, 0.009807655, 0.009838558, 0.009781831, 0.009776794, 0.009896119, 0.009797311, 0.009932145, 0.009823651, 0.009926092, 0.00981266, 0.009890259, 0.009786923, 0.00983906, 0.009921417, 0.0098131085, 0.009844477, 0.009797372, 0.009797679, 0.009786977, 0.009797478, 0.009891299, 0.009854521, 0.00982362, 0.009910577, 0.009856166, 0.009828627, 0.0098071825, 0.009792549, 0.009776781, 0.009781955, 0.009782034, 0.009766373, 0.009828917, 0.009807845, 0.010089875, 0.00981319, 0.00982308, 0.009787102, 0.009786982, 0.009781806, 0.009771593, 0.009807546, 0.009782019, 0.009797399, 0.009865096, 0.009911385, 0.009833497, 0.009875877, 0.009855064, 0.009802678, 0.009782186, 0.0099445535, 0.009864818, 0.009869897, 0.009828521, 0.009948601, 0.009822878, 0.009797689]\n",
      "2022-02-20 13:07:08,783 : INFO : merging changes from 2000 documents into a model of 3204 documents\n",
      "2022-02-20 13:07:08,795 : INFO : topic #9 (0.010): 0.063*\"techniqu\" + 0.050*\"structur\" + 0.050*\"compil\" + 0.050*\"processor\" + 0.038*\"present\" + 0.038*\"parallel\" + 0.038*\"express\" + 0.038*\"arithmet\" + 0.038*\"-\" + 0.025*\"pass\"\n",
      "2022-02-20 13:07:08,795 : INFO : topic #70 (0.010): 0.043*\"diagnost\" + 0.043*\"compil\" + 0.033*\"cobol\" + 0.033*\"program\" + 0.033*\"-\" + 0.033*\"(\" + 0.033*\")\" + 0.033*\"object\" + 0.022*\"fortran\" + 0.022*\"effici\"\n",
      "2022-02-20 13:07:08,796 : INFO : topic #93 (0.010): 0.065*\",\" + 0.044*\"comput\" + 0.026*\"-\" + 0.023*\"program\" + 0.023*\"system\" + 0.015*\"languag\" + 0.010*\"discuss\" + 0.009*\"develop\" + 0.009*\"simul\" + 0.009*\"approxim\"\n",
      "2022-02-20 13:07:08,797 : INFO : topic #19 (0.010): 0.058*\",\" + 0.052*\"-\" + 0.035*\"program\" + 0.025*\"system\" + 0.020*\"comput\" + 0.016*\"languag\" + 0.012*\"machin\" + 0.011*\"model\" + 0.011*\"problem\" + 0.010*\"time\"\n",
      "2022-02-20 13:07:08,797 : INFO : topic #76 (0.010): 0.089*\",\" + 0.034*\"-\" + 0.029*\"system\" + 0.028*\"program\" + 0.016*\"comput\" + 0.013*\"(\" + 0.012*\"process\" + 0.011*\")\" + 0.011*\"languag\" + 0.010*\"oper\"\n",
      "2022-02-20 13:07:08,798 : INFO : topic diff=82.920059, rho=1.000000\n",
      "2022-02-20 13:07:09,836 : INFO : -7.283 per-word bound, 155.7 perplexity estimate based on a held-out corpus of 1204 documents with 49783 words\n",
      "2022-02-20 13:07:09,836 : INFO : PROGRESS: pass 0, at document #3204/3204\n",
      "2022-02-20 13:07:10,725 : INFO : optimized alpha [0.009902886, 0.009813636, 0.009736988, 0.010025646, 0.009879482, 0.010134001, 0.009880352, 0.010002793, 0.010011849, 0.009924402, 0.009952836, 0.009956145, 0.0097758705, 0.010022971, 0.009990706, 0.010169458, 0.00996943, 0.009877123, 0.010046551, 0.010379973, 0.009969953, 0.009876904, 0.00979352, 0.009921359, 0.009826136, 0.010021855, 0.009794062, 0.009877707, 0.010022487, 0.010177825, 0.009610392, 0.010352512, 0.009813947, 0.009756616, 0.010247166, 0.009830077, 0.010128868, 0.0098472815, 0.009878046, 0.00981849, 0.00980519, 0.009765919, 0.009906179, 0.00996212, 0.009751693, 0.009724657, 0.010063831, 0.0097556785, 0.010032657, 0.010024404, 0.010042979, 0.009876727, 0.009894675, 0.009862216, 0.010152831, 0.010318668, 0.009866273, 0.0102409385, 0.010078498, 0.009904172, 0.009839737, 0.009879455, 0.009998843, 0.009854826, 0.009937244, 0.009932498, 0.009991426, 0.009852375, 0.0099770175, 0.009974684, 0.00981717, 0.009805548, 0.009987222, 0.009556721, 0.00997177, 0.009826081, 0.010927761, 0.010012838, 0.009939809, 0.009892913, 0.009873117, 0.009635682, 0.0099165505, 0.009847692, 0.0098406235, 0.009825985, 0.010133104, 0.009999844, 0.010063401, 0.010179603, 0.009985955, 0.009932982, 0.009835242, 0.010178497, 0.010528895, 0.00995222, 0.009964044, 0.010152633, 0.009804911, 0.010067677]\n",
      "2022-02-20 13:07:10,732 : INFO : merging changes from 1204 documents into a model of 3204 documents\n",
      "2022-02-20 13:07:10,741 : INFO : topic #73 (0.010): 0.246*\"collect\" + 0.105*\"summar\" + 0.092*\"investig\" + 0.064*\"environ\" + 0.038*\"pseudo\" + 0.038*\"tabul\" + 0.035*\"center\" + 0.023*\"determin\" + 0.020*\"comput\" + 0.018*\"data\"\n",
      "2022-02-20 13:07:10,741 : INFO : topic #30 (0.010): 0.288*\")\" + 0.147*\"integ\" + 0.142*\"algorithm\" + 0.132*\"(\" + 0.095*\"$\" + 0.077*\"program\" + 0.046*\"problem\" + 0.000*\"stage\" + 0.000*\"adapt\" + 0.000*\"polygon\"\n",
      "2022-02-20 13:07:10,742 : INFO : topic #19 (0.010): 0.065*\",\" + 0.046*\"-\" + 0.036*\"program\" + 0.033*\"model\" + 0.033*\"system\" + 0.022*\"comput\" + 0.019*\"distribut\" + 0.014*\"implement\" + 0.012*\"time\" + 0.012*\"present\"\n",
      "2022-02-20 13:07:10,742 : INFO : topic #94 (0.011): 0.053*\",\" + 0.028*\"tree\" + 0.026*\"key\" + 0.025*\"averag\" + 0.024*\"structur\" + 0.024*\"queri\" + 0.022*\"-\" + 0.021*\"search\" + 0.020*\"node\" + 0.017*\"(\"\n",
      "2022-02-20 13:07:10,743 : INFO : topic #76 (0.011): 0.103*\",\" + 0.035*\"system\" + 0.029*\"-\" + 0.029*\"program\" + 0.014*\"oper\" + 0.013*\"comput\" + 0.009*\"process\" + 0.009*\"memori\" + 0.008*\"time\" + 0.008*\"(\"\n",
      "2022-02-20 13:07:10,744 : INFO : topic diff=0.760955, rho=0.707107\n",
      "2022-02-20 13:07:10,750 : INFO : PROGRESS: pass 1, at document #2000/3204\n",
      "2022-02-20 13:07:11,585 : INFO : optimized alpha [0.009887883, 0.009859803, 0.0098637715, 0.009960573, 0.009838808, 0.010098365, 0.009849924, 0.0099558765, 0.009979581, 0.010069798, 0.009949086, 0.010016843, 0.009873176, 0.009934068, 0.00989227, 0.010150755, 0.009964243, 0.009865323, 0.010142899, 0.010330878, 0.009871663, 0.00989355, 0.009865261, 0.009859053, 0.0104204295, 0.010052737, 0.009713032, 0.009818413, 0.01000477, 0.01017294, 0.010181517, 0.0103507545, 0.009795469, 0.009779888, 0.010189007, 0.009805839, 0.010034641, 0.009843531, 0.009887039, 0.009737064, 0.009816216, 0.009777009, 0.00990132, 0.009860892, 0.009790719, 0.009722956, 0.009996341, 0.00971916, 0.00996278, 0.009948617, 0.0100099165, 0.009925312, 0.009821768, 0.009886416, 0.010128409, 0.010211421, 0.009810086, 0.01014402, 0.0100680245, 0.009836142, 0.009830665, 0.009838567, 0.009922032, 0.009854838, 0.009906941, 0.009850733, 0.009903451, 0.009799297, 0.00992057, 0.009918709, 0.009855213, 0.009815689, 0.009914883, 0.009460146, 0.009940613, 0.009812199, 0.010909175, 0.009963775, 0.009904924, 0.009883138, 0.010054478, 0.009573458, 0.009884719, 0.009859539, 0.009842019, 0.0098592, 0.0101696, 0.009938786, 0.009986558, 0.010101068, 0.0099010905, 0.009883307, 0.009842604, 0.0101957545, 0.010429532, 0.009899819, 0.009953285, 0.010058611, 0.010125175, 0.010041721]\n"
     ]
    },
    {
     "name": "stderr",
     "output_type": "stream",
     "text": [
      "2022-02-20 13:07:11,591 : INFO : merging changes from 2000 documents into a model of 3204 documents\n",
      "2022-02-20 13:07:11,600 : INFO : topic #73 (0.009): 0.213*\"collect\" + 0.133*\"center\" + 0.069*\"environ\" + 0.063*\"summar\" + 0.059*\"tabul\" + 0.056*\"comput\" + 0.053*\"investig\" + 0.039*\"pseudo\" + 0.022*\"determin\" + 0.022*\"data\"\n",
      "2022-02-20 13:07:11,601 : INFO : topic #81 (0.010): 0.121*\"busi\" + 0.083*\"comput\" + 0.073*\"manag\" + 0.067*\"govern\" + 0.059*\"constant\" + 0.054*\"applic\" + 0.039*\"sort\" + 0.038*\"devic\" + 0.030*\"access\" + 0.028*\"techniqu\"\n",
      "2022-02-20 13:07:11,601 : INFO : topic #24 (0.010): 0.189*\"algorithm\" + 0.181*\"[\" + 0.177*\"(\" + 0.146*\"])\" + 0.041*\"integr\" + 0.020*\"equat\" + 0.019*\"linear\" + 0.018*\"a1\" + 0.016*\"d1\" + 0.013*\"s15\"\n",
      "2022-02-20 13:07:11,602 : INFO : topic #94 (0.010): 0.053*\",\" + 0.025*\"tree\" + 0.022*\"-\" + 0.022*\"key\" + 0.022*\"structur\" + 0.021*\"averag\" + 0.020*\"search\" + 0.020*\"queri\" + 0.019*\"node\" + 0.017*\"time\"\n",
      "2022-02-20 13:07:11,602 : INFO : topic #76 (0.011): 0.105*\",\" + 0.037*\"system\" + 0.032*\"program\" + 0.029*\"-\" + 0.014*\"oper\" + 0.014*\"comput\" + 0.010*\"process\" + 0.010*\"time\" + 0.008*\"(\" + 0.008*\"memori\"\n",
      "2022-02-20 13:07:11,603 : INFO : topic diff=0.305230, rho=0.526900\n",
      "2022-02-20 13:07:12,482 : INFO : -6.906 per-word bound, 119.9 perplexity estimate based on a held-out corpus of 1204 documents with 49783 words\n",
      "2022-02-20 13:07:12,482 : INFO : PROGRESS: pass 1, at document #3204/3204\n",
      "2022-02-20 13:07:13,223 : INFO : optimized alpha [0.0100153955, 0.009943372, 0.009963213, 0.010101241, 0.009941189, 0.010454749, 0.0099300295, 0.010161615, 0.0100595085, 0.010316361, 0.010207108, 0.010240781, 0.009934804, 0.010080082, 0.010000571, 0.0104927365, 0.010078734, 0.010024018, 0.010409351, 0.010655549, 0.009964991, 0.010019898, 0.0099946335, 0.009952769, 0.010500874, 0.010252012, 0.0097205695, 0.009894204, 0.010307934, 0.010588772, 0.010961283, 0.010818408, 0.009805424, 0.009815235, 0.010362699, 0.009838252, 0.01016144, 0.009988834, 0.010053026, 0.009739473, 0.009971527, 0.009766395, 0.010057682, 0.009953568, 0.009869741, 0.00979481, 0.010117241, 0.009845587, 0.010047084, 0.010072565, 0.010092189, 0.010082403, 0.009836147, 0.009964767, 0.010296705, 0.010520421, 0.009886486, 0.01044757, 0.010350676, 0.009959705, 0.009953956, 0.009987394, 0.009967619, 0.009909086, 0.010032068, 0.0099658305, 0.010102067, 0.009849418, 0.010060812, 0.010090592, 0.009938492, 0.009943206, 0.010143791, 0.009424326, 0.010100914, 0.009857481, 0.011335778, 0.010148858, 0.01001436, 0.010177157, 0.010157262, 0.009527465, 0.010172968, 0.00998216, 0.009942947, 0.0099425735, 0.010343251, 0.010028413, 0.010137012, 0.01029719, 0.010003503, 0.0100779245, 0.009931278, 0.010311606, 0.010830127, 0.009962131, 0.010076192, 0.010120508, 0.0101205, 0.010244322]\n",
      "2022-02-20 13:07:13,229 : INFO : merging changes from 1204 documents into a model of 3204 documents\n",
      "2022-02-20 13:07:13,238 : INFO : topic #73 (0.009): 0.261*\"collect\" + 0.131*\"investig\" + 0.106*\"summar\" + 0.092*\"center\" + 0.091*\"environ\" + 0.056*\"tabul\" + 0.056*\"comput\" + 0.033*\"determin\" + 0.022*\"pseudo\" + 0.017*\"data\"\n",
      "2022-02-20 13:07:13,239 : INFO : topic #81 (0.010): 0.145*\"busi\" + 0.143*\"manag\" + 0.122*\"comput\" + 0.084*\"govern\" + 0.072*\"applic\" + 0.062*\"constant\" + 0.040*\"devic\" + 0.030*\"access\" + 0.027*\"develop\" + 0.022*\"control\"\n",
      "2022-02-20 13:07:13,240 : INFO : topic #94 (0.011): 0.062*\",\" + 0.038*\"key\" + 0.029*\"queri\" + 0.028*\"averag\" + 0.025*\"tree\" + 0.025*\"structur\" + 0.024*\"node\" + 0.023*\"-\" + 0.019*\"index\" + 0.019*\"search\"\n",
      "2022-02-20 13:07:13,240 : INFO : topic #30 (0.011): 0.354*\")\" + 0.321*\"(\" + 0.251*\"algorithm\" + 0.027*\"integ\" + 0.015*\"program\" + 0.013*\"$\" + 0.010*\"problem\" + 0.000*\"stage\" + 0.000*\"adapt\" + 0.000*\"polygon\"\n",
      "2022-02-20 13:07:13,241 : INFO : topic #76 (0.011): 0.111*\",\" + 0.042*\"system\" + 0.030*\"program\" + 0.026*\"-\" + 0.016*\"oper\" + 0.012*\"comput\" + 0.010*\"process\" + 0.008*\"memori\" + 0.008*\"design\" + 0.008*\"time\"\n",
      "2022-02-20 13:07:13,241 : INFO : topic diff=0.419486, rho=0.526900\n",
      "2022-02-20 13:07:13,248 : INFO : PROGRESS: pass 2, at document #2000/3204\n",
      "2022-02-20 13:07:14,009 : INFO : optimized alpha [0.010023182, 0.010002974, 0.01012935, 0.010074434, 0.009961803, 0.010453375, 0.009938466, 0.010128126, 0.010036112, 0.010516166, 0.010247036, 0.010346567, 0.010096674, 0.010023115, 0.009926375, 0.0105298, 0.010135472, 0.01002925, 0.010585228, 0.0106107835, 0.009891192, 0.010055088, 0.010069887, 0.009931274, 0.011067782, 0.0102995355, 0.009681519, 0.009847295, 0.010330235, 0.010624203, 0.011968859, 0.010818635, 0.009845973, 0.009862058, 0.010317735, 0.00983636, 0.010088291, 0.010015478, 0.010105171, 0.009677335, 0.010029634, 0.009802909, 0.010099688, 0.009907682, 0.009999325, 0.009842253, 0.010081971, 0.009852452, 0.009981514, 0.010031785, 0.010082175, 0.010145787, 0.009778547, 0.00997452, 0.010281322, 0.010431922, 0.00987964, 0.010356143, 0.010350856, 0.009923187, 0.009938752, 0.0099767735, 0.00990631, 0.0099518215, 0.01005753, 0.009906119, 0.010039874, 0.009831766, 0.010017695, 0.010047356, 0.010028285, 0.009980322, 0.010099587, 0.009400505, 0.010144405, 0.009869352, 0.011313685, 0.010135433, 0.0099835, 0.01021135, 0.010335929, 0.009498177, 0.010204365, 0.010086273, 0.009955996, 0.010042595, 0.010447838, 0.010003886, 0.010076053, 0.01023141, 0.009924481, 0.010073037, 0.010020025, 0.010368246, 0.010739195, 0.009940604, 0.010078014, 0.010046338, 0.010403945, 0.010229656]\n",
      "2022-02-20 13:07:14,015 : INFO : merging changes from 2000 documents into a model of 3204 documents\n",
      "2022-02-20 13:07:14,023 : INFO : topic #73 (0.009): 0.204*\"collect\" + 0.173*\"center\" + 0.095*\"environ\" + 0.084*\"investig\" + 0.068*\"summar\" + 0.067*\"comput\" + 0.065*\"determin\" + 0.059*\"tabul\" + 0.034*\"pseudo\" + 0.017*\"data\"\n",
      "2022-02-20 13:07:14,024 : INFO : topic #81 (0.009): 0.147*\"comput\" + 0.135*\"busi\" + 0.108*\"manag\" + 0.077*\"applic\" + 0.069*\"govern\" + 0.057*\"constant\" + 0.045*\"devic\" + 0.027*\"develop\" + 0.027*\"control\" + 0.024*\"access\"\n",
      "2022-02-20 13:07:14,025 : INFO : topic #24 (0.011): 0.208*\"[\" + 0.191*\"algorithm\" + 0.182*\"(\" + 0.168*\"])\" + 0.039*\"integr\" + 0.019*\"a1\" + 0.018*\"linear\" + 0.015*\"d1\" + 0.013*\"s15\" + 0.012*\"equat\"\n",
      "2022-02-20 13:07:14,025 : INFO : topic #76 (0.011): 0.113*\",\" + 0.043*\"system\" + 0.033*\"program\" + 0.027*\"-\" + 0.016*\"oper\" + 0.012*\"comput\" + 0.011*\"process\" + 0.009*\"time\" + 0.008*\"control\" + 0.008*\"memori\"\n",
      "2022-02-20 13:07:14,026 : INFO : topic #30 (0.012): 0.361*\")\" + 0.340*\"(\" + 0.254*\"algorithm\" + 0.016*\"integ\" + 0.009*\"program\" + 0.008*\"$\" + 0.006*\"problem\" + 0.000*\"stage\" + 0.000*\"adapt\" + 0.000*\"polygon\"\n",
      "2022-02-20 13:07:14,026 : INFO : topic diff=0.380011, rho=0.466151\n",
      "2022-02-20 13:07:14,916 : INFO : -6.793 per-word bound, 110.9 perplexity estimate based on a held-out corpus of 1204 documents with 49783 words\n",
      "2022-02-20 13:07:14,916 : INFO : PROGRESS: pass 2, at document #3204/3204\n",
      "2022-02-20 13:07:15,633 : INFO : optimized alpha [0.010144373, 0.010143629, 0.010271725, 0.010199526, 0.0101271225, 0.0107995225, 0.010029488, 0.010303654, 0.010143009, 0.010794952, 0.0105026085, 0.010587596, 0.010169807, 0.010153565, 0.010054551, 0.01092164, 0.010300218, 0.010213888, 0.0108253425, 0.010885855, 0.009971275, 0.010206652, 0.010220064, 0.010057711, 0.011089594, 0.010529867, 0.009739558, 0.009938901, 0.010635239, 0.0110267075, 0.013123547, 0.011214305, 0.009847873, 0.009940113, 0.010480581, 0.009862225, 0.010229009, 0.010191573, 0.01030064, 0.009712294, 0.010245982, 0.009828939, 0.01029004, 0.010029405, 0.010115489, 0.009956423, 0.010213871, 0.010011423, 0.010061236, 0.0101814605, 0.010187276, 0.010340865, 0.009820305, 0.0100829955, 0.010483546, 0.010708841, 0.009978915, 0.010636049, 0.010636609, 0.010091713, 0.010091678, 0.010156004, 0.009940397, 0.010011826, 0.010161183, 0.010028772, 0.010264693, 0.009892538, 0.01015851, 0.010204611, 0.010144904, 0.010113277, 0.010316157, 0.009415323, 0.010319383, 0.00994471, 0.011594641, 0.01034054, 0.010096723, 0.010515961, 0.010453956, 0.009516417, 0.010579853, 0.010238866, 0.010069302, 0.010139971, 0.010581443, 0.0101238685, 0.010238063, 0.010402694, 0.010055514, 0.010325471, 0.010137762, 0.010474877, 0.011078784, 0.010043825, 0.010203097, 0.010102532, 0.010424394, 0.010422158]\n"
     ]
    },
    {
     "name": "stderr",
     "output_type": "stream",
     "text": [
      "2022-02-20 13:07:15,639 : INFO : merging changes from 1204 documents into a model of 3204 documents\n",
      "2022-02-20 13:07:15,648 : INFO : topic #73 (0.009): 0.222*\"collect\" + 0.142*\"investig\" + 0.135*\"environ\" + 0.126*\"center\" + 0.085*\"summar\" + 0.054*\"determin\" + 0.053*\"comput\" + 0.052*\"tabul\" + 0.021*\"pseudo\" + 0.014*\"data\"\n",
      "2022-02-20 13:07:15,649 : INFO : topic #81 (0.010): 0.183*\"comput\" + 0.177*\"manag\" + 0.127*\"busi\" + 0.090*\"applic\" + 0.068*\"govern\" + 0.050*\"constant\" + 0.034*\"devic\" + 0.031*\"develop\" + 0.023*\"method\" + 0.022*\"control\"\n",
      "2022-02-20 13:07:15,649 : INFO : topic #31 (0.011): 0.178*\"]\" + 0.122*\"algorithm\" + 0.111*\"[\" + 0.101*\"function\" + 0.044*\")\" + 0.036*\"class\" + 0.031*\"(\" + 0.028*\"equival\" + 0.023*\"structur\" + 0.020*\",\"\n",
      "2022-02-20 13:07:15,650 : INFO : topic #76 (0.012): 0.117*\",\" + 0.045*\"system\" + 0.031*\"program\" + 0.024*\"-\" + 0.017*\"oper\" + 0.011*\"comput\" + 0.010*\"process\" + 0.009*\"design\" + 0.009*\"provid\" + 0.008*\"delet\"\n",
      "2022-02-20 13:07:15,650 : INFO : topic #30 (0.013): 0.362*\")\" + 0.362*\"(\" + 0.236*\"algorithm\" + 0.014*\"integ\" + 0.009*\"program\" + 0.007*\"problem\" + 0.006*\"$\" + 0.000*\"stage\" + 0.000*\"adapt\" + 0.000*\"polygon\"\n",
      "2022-02-20 13:07:15,651 : INFO : topic diff=0.523214, rho=0.466151\n",
      "2022-02-20 13:07:15,659 : INFO : PROGRESS: pass 3, at document #2000/3204\n",
      "2022-02-20 13:07:16,394 : INFO : optimized alpha [0.010159947, 0.010219286, 0.010461466, 0.010177496, 0.010179723, 0.0107998075, 0.010044008, 0.0102857, 0.010130597, 0.0110302325, 0.010550877, 0.0107265245, 0.0103772525, 0.010119662, 0.01000074, 0.011001577, 0.010355841, 0.010241745, 0.0110337725, 0.01084501, 0.009901381, 0.010257699, 0.010303677, 0.010053286, 0.011619226, 0.01059002, 0.009734309, 0.009916072, 0.010660231, 0.011083913, 0.014366938, 0.011294097, 0.009904672, 0.010018909, 0.010448337, 0.009870037, 0.010169451, 0.0102347825, 0.010391346, 0.00967031, 0.010332936, 0.00989009, 0.010345096, 0.010005127, 0.010270766, 0.010016669, 0.010184165, 0.010038508, 0.010015982, 0.010161633, 0.010204606, 0.010411123, 0.009786503, 0.010096139, 0.01047949, 0.010628572, 0.010017646, 0.010552978, 0.010652653, 0.01007102, 0.010083892, 0.010154206, 0.009893198, 0.010072633, 0.010195545, 0.010017837, 0.010222201, 0.009892249, 0.01012152, 0.010169394, 0.010261291, 0.01015987, 0.010296832, 0.009421202, 0.010380882, 0.009966408, 0.011569616, 0.010364823, 0.010056193, 0.010572085, 0.010646977, 0.009527789, 0.010651028, 0.010395142, 0.010091949, 0.010263848, 0.01070845, 0.010106293, 0.010202215, 0.0103493, 0.009995013, 0.010345822, 0.010285879, 0.0105422195, 0.011013955, 0.010046234, 0.010208928, 0.010045897, 0.010692848, 0.010410081]\n",
      "2022-02-20 13:07:16,401 : INFO : merging changes from 2000 documents into a model of 3204 documents\n",
      "2022-02-20 13:07:16,410 : INFO : topic #73 (0.009): 0.180*\"collect\" + 0.174*\"center\" + 0.133*\"environ\" + 0.105*\"investig\" + 0.087*\"determin\" + 0.063*\"summar\" + 0.060*\"comput\" + 0.053*\"tabul\" + 0.028*\"pseudo\" + 0.015*\"data\"\n",
      "2022-02-20 13:07:16,411 : INFO : topic #81 (0.010): 0.204*\"comput\" + 0.131*\"manag\" + 0.117*\"busi\" + 0.093*\"applic\" + 0.059*\"govern\" + 0.046*\"constant\" + 0.042*\"devic\" + 0.032*\"develop\" + 0.030*\"survey\" + 0.028*\"control\"\n",
      "2022-02-20 13:07:16,412 : INFO : topic #24 (0.012): 0.213*\"[\" + 0.195*\"algorithm\" + 0.187*\"(\" + 0.176*\"])\" + 0.039*\"integr\" + 0.020*\"a1\" + 0.016*\"linear\" + 0.016*\"d1\" + 0.014*\"s15\" + 0.011*\"gener\"\n",
      "2022-02-20 13:07:16,412 : INFO : topic #76 (0.012): 0.120*\",\" + 0.046*\"system\" + 0.033*\"program\" + 0.026*\"-\" + 0.017*\"oper\" + 0.011*\"process\" + 0.011*\"comput\" + 0.009*\"time\" + 0.009*\"control\" + 0.008*\"debug\"\n",
      "2022-02-20 13:07:16,413 : INFO : topic #30 (0.014): 0.368*\")\" + 0.367*\"(\" + 0.235*\"algorithm\" + 0.010*\"integ\" + 0.006*\"program\" + 0.005*\"problem\" + 0.004*\"$\" + 0.000*\"stage\" + 0.000*\"adapt\" + 0.000*\"polygon\"\n",
      "2022-02-20 13:07:16,414 : INFO : topic diff=0.524205, rho=0.422502\n",
      "2022-02-20 13:07:17,277 : INFO : -6.713 per-word bound, 104.9 perplexity estimate based on a held-out corpus of 1204 documents with 49783 words\n",
      "2022-02-20 13:07:17,278 : INFO : PROGRESS: pass 3, at document #3204/3204\n",
      "2022-02-20 13:07:17,957 : INFO : optimized alpha [0.010277795, 0.010391088, 0.010620509, 0.010280984, 0.010338335, 0.011108171, 0.010162919, 0.010428103, 0.010242839, 0.011292233, 0.010801022, 0.010967454, 0.010457238, 0.010246473, 0.010150199, 0.011402413, 0.0105102165, 0.010443938, 0.011294409, 0.011097404, 0.009979095, 0.010410659, 0.010480753, 0.0102368565, 0.011607225, 0.010820406, 0.009853511, 0.010021376, 0.010941818, 0.011446817, 0.015751606, 0.011697759, 0.009910457, 0.010104148, 0.01059354, 0.009901488, 0.010305427, 0.010406847, 0.010607514, 0.009713861, 0.010579043, 0.009928126, 0.010534148, 0.0101378765, 0.010419526, 0.010156369, 0.01031599, 0.010215958, 0.010100148, 0.010323693, 0.010333398, 0.010622937, 0.009863847, 0.010195577, 0.010683254, 0.0109055005, 0.0101333065, 0.010787164, 0.01094257, 0.010257439, 0.010270559, 0.010328999, 0.009946801, 0.010152508, 0.010319317, 0.010172936, 0.010482922, 0.00996908, 0.010253799, 0.0103022065, 0.010381915, 0.010292028, 0.010539317, 0.009462312, 0.010570854, 0.010031812, 0.011801722, 0.010593698, 0.010177816, 0.010861242, 0.010791139, 0.009569229, 0.011042525, 0.010553022, 0.010220338, 0.010395754, 0.010806999, 0.010223635, 0.010382928, 0.010520966, 0.010143399, 0.010611399, 0.010425709, 0.010635362, 0.011306939, 0.010165841, 0.010316061, 0.010105566, 0.010727335, 0.010601]\n",
      "2022-02-20 13:07:17,963 : INFO : merging changes from 1204 documents into a model of 3204 documents\n",
      "2022-02-20 13:07:17,972 : INFO : topic #73 (0.009): 0.186*\"collect\" + 0.156*\"investig\" + 0.154*\"environ\" + 0.132*\"center\" + 0.086*\"summar\" + 0.078*\"determin\" + 0.048*\"comput\" + 0.048*\"tabul\" + 0.019*\"pseudo\" + 0.013*\"result\"\n",
      "2022-02-20 13:07:17,973 : INFO : topic #81 (0.010): 0.231*\"comput\" + 0.180*\"manag\" + 0.110*\"busi\" + 0.097*\"applic\" + 0.058*\"govern\" + 0.039*\"constant\" + 0.035*\"develop\" + 0.031*\"devic\" + 0.026*\"survey\" + 0.024*\"method\"\n",
      "2022-02-20 13:07:17,973 : INFO : topic #31 (0.012): 0.185*\"]\" + 0.143*\"function\" + 0.137*\"[\" + 0.110*\"algorithm\" + 0.036*\"class\" + 0.033*\")\" + 0.028*\"equival\" + 0.026*\"(\" + 0.022*\"gamma\" + 0.017*\"s14\"\n",
      "2022-02-20 13:07:17,973 : INFO : topic #76 (0.012): 0.119*\",\" + 0.048*\"system\" + 0.030*\"program\" + 0.024*\"-\" + 0.019*\"oper\" + 0.011*\"provid\" + 0.010*\"delet\" + 0.010*\"comput\" + 0.009*\"design\" + 0.009*\"process\"\n",
      "2022-02-20 13:07:17,974 : INFO : topic #30 (0.016): 0.385*\"(\" + 0.371*\")\" + 0.215*\"algorithm\" + 0.010*\"integ\" + 0.006*\"program\" + 0.006*\"problem\" + 0.002*\"$\" + 0.000*\"stage\" + 0.000*\"adapt\" + 0.000*\"polygon\"\n",
      "2022-02-20 13:07:17,975 : INFO : topic diff=0.649277, rho=0.422502\n",
      "2022-02-20 13:07:17,982 : INFO : PROGRESS: pass 4, at document #2000/3204\n",
      "2022-02-20 13:07:18,723 : INFO : optimized alpha [0.010306214, 0.010479358, 0.01081095, 0.010279083, 0.010419116, 0.011108282, 0.010182395, 0.01040128, 0.010241754, 0.011521027, 0.010850938, 0.011109815, 0.0106768245, 0.010219495, 0.010112449, 0.011499745, 0.01057779, 0.010489499, 0.0114929015, 0.011064646, 0.009921869, 0.010473817, 0.0105683785, 0.010254244, 0.01211793, 0.010869019, 0.009873959, 0.010016306, 0.010963342, 0.011511138, 0.017180609, 0.011815615, 0.00997161, 0.010193276, 0.0105825765, 0.009913519, 0.010256695, 0.010462728, 0.010716516, 0.009684141, 0.0106778, 0.009991114, 0.01060324, 0.0101194475, 0.010574732, 0.010232154, 0.010304996, 0.010248449, 0.01006126, 0.010313054, 0.010363616, 0.010714506, 0.009848729, 0.010207921, 0.010688952, 0.010829315, 0.010207004, 0.010715664, 0.010968435, 0.0102416165, 0.010280778, 0.01033078, 0.009904539, 0.010215164, 0.010369494, 0.010184621, 0.010448079, 0.00998118, 0.010227846, 0.010269835, 0.010502558, 0.010331094, 0.010530368, 0.009474141, 0.010636174, 0.010066191, 0.011779592, 0.010646413, 0.010146667, 0.010926845, 0.010978262, 0.009599376, 0.011145903, 0.010732357, 0.010257192, 0.010541618, 0.01091891, 0.010233801, 0.010365708, 0.010475489, 0.010093545, 0.010649594, 0.010590896, 0.010708433, 0.011262593, 0.010172177, 0.010331704, 0.010062778, 0.010985707, 0.0105890315]\n",
      "2022-02-20 13:07:18,729 : INFO : merging changes from 2000 documents into a model of 3204 documents\n",
      "2022-02-20 13:07:18,738 : INFO : topic #73 (0.009): 0.173*\"center\" + 0.158*\"collect\" + 0.152*\"environ\" + 0.122*\"investig\" + 0.105*\"determin\" + 0.067*\"summar\" + 0.055*\"comput\" + 0.049*\"tabul\" + 0.019*\"pseudo\" + 0.013*\"result\"\n"
     ]
    },
    {
     "name": "stderr",
     "output_type": "stream",
     "text": [
      "2022-02-20 13:07:18,738 : INFO : topic #81 (0.010): 0.256*\"comput\" + 0.136*\"manag\" + 0.103*\"busi\" + 0.100*\"applic\" + 0.050*\"govern\" + 0.039*\"devic\" + 0.037*\"develop\" + 0.036*\"constant\" + 0.033*\"survey\" + 0.025*\"control\"\n",
      "2022-02-20 13:07:18,739 : INFO : topic #76 (0.012): 0.123*\",\" + 0.048*\"system\" + 0.032*\"program\" + 0.025*\"-\" + 0.019*\"oper\" + 0.010*\"debug\" + 0.010*\"process\" + 0.010*\"provid\" + 0.010*\"comput\" + 0.009*\"control\"\n",
      "2022-02-20 13:07:18,740 : INFO : topic #24 (0.012): 0.214*\"[\" + 0.199*\"algorithm\" + 0.191*\"(\" + 0.180*\"])\" + 0.039*\"integr\" + 0.021*\"a1\" + 0.017*\"d1\" + 0.015*\"linear\" + 0.014*\"s15\" + 0.012*\"normal\"\n",
      "2022-02-20 13:07:18,740 : INFO : topic #30 (0.017): 0.385*\"(\" + 0.376*\")\" + 0.217*\"algorithm\" + 0.007*\"integ\" + 0.005*\"program\" + 0.004*\"problem\" + 0.001*\"$\" + 0.000*\"stage\" + 0.000*\"adapt\" + 0.000*\"polygon\"\n",
      "2022-02-20 13:07:18,741 : INFO : topic diff=0.622582, rho=0.389191\n",
      "2022-02-20 13:07:19,532 : INFO : -6.658 per-word bound, 101.0 perplexity estimate based on a held-out corpus of 1204 documents with 49783 words\n",
      "2022-02-20 13:07:19,533 : INFO : PROGRESS: pass 4, at document #3204/3204\n",
      "2022-02-20 13:07:20,210 : INFO : optimized alpha [0.010449298, 0.0106669245, 0.0109728, 0.0103853205, 0.010580212, 0.011397267, 0.010316283, 0.010503133, 0.01035275, 0.011774519, 0.011092028, 0.01136079, 0.010767208, 0.0103275, 0.010251659, 0.011958988, 0.010738506, 0.010712403, 0.011767821, 0.011307424, 0.010007771, 0.010622975, 0.010729883, 0.010432322, 0.012091978, 0.01110899, 0.0100204805, 0.010133908, 0.011234231, 0.0118569555, 0.018833835, 0.012201699, 0.009974233, 0.010288621, 0.010707059, 0.009943477, 0.010393199, 0.010616009, 0.010932824, 0.0097444635, 0.010946559, 0.010045882, 0.010803526, 0.010249496, 0.010740258, 0.010388834, 0.010461677, 0.010437032, 0.010153062, 0.010490695, 0.010500229, 0.010929944, 0.00995947, 0.010313688, 0.010892695, 0.011116214, 0.0103410985, 0.0109407585, 0.011254645, 0.01042862, 0.010481835, 0.010486701, 0.009964864, 0.01028918, 0.010487925, 0.010365875, 0.010712219, 0.010069058, 0.01034768, 0.0103932, 0.010645108, 0.010453961, 0.0107605215, 0.009528271, 0.010844942, 0.010136831, 0.011995645, 0.010881585, 0.010250079, 0.011216208, 0.011108119, 0.009669653, 0.011590002, 0.010900259, 0.010390053, 0.010688254, 0.0110097695, 0.010359808, 0.010541092, 0.010649124, 0.010241458, 0.010912401, 0.010727621, 0.010808585, 0.011536136, 0.010283577, 0.0104345, 0.010142283, 0.011025984, 0.010773647]\n",
      "2022-02-20 13:07:20,217 : INFO : merging changes from 1204 documents into a model of 3204 documents\n",
      "2022-02-20 13:07:20,226 : INFO : topic #73 (0.010): 0.172*\"investig\" + 0.165*\"environ\" + 0.160*\"collect\" + 0.134*\"center\" + 0.096*\"determin\" + 0.088*\"summar\" + 0.045*\"comput\" + 0.045*\"tabul\" + 0.012*\"result\" + 0.010*\"pseudo\"\n",
      "2022-02-20 13:07:20,227 : INFO : topic #81 (0.010): 0.281*\"comput\" + 0.172*\"manag\" + 0.102*\"applic\" + 0.098*\"busi\" + 0.050*\"govern\" + 0.038*\"develop\" + 0.030*\"constant\" + 0.030*\"survey\" + 0.030*\"devic\" + 0.021*\"process\"\n",
      "2022-02-20 13:07:20,227 : INFO : topic #24 (0.012): 0.216*\"[\" + 0.197*\"algorithm\" + 0.185*\"(\" + 0.152*\"])\" + 0.046*\"integr\" + 0.027*\"a1\" + 0.023*\"d1\" + 0.022*\"linear\" + 0.014*\"f4\" + 0.013*\"normal\"\n",
      "2022-02-20 13:07:20,228 : INFO : topic #31 (0.012): 0.187*\"]\" + 0.184*\"function\" + 0.152*\"[\" + 0.101*\"algorithm\" + 0.032*\"class\" + 0.028*\"equival\" + 0.025*\")\" + 0.023*\"gamma\" + 0.021*\"(\" + 0.019*\"s14\"\n",
      "2022-02-20 13:07:20,228 : INFO : topic #30 (0.019): 0.399*\"(\" + 0.379*\")\" + 0.199*\"algorithm\" + 0.008*\"integ\" + 0.005*\"problem\" + 0.005*\"program\" + 0.001*\"$\" + 0.000*\"stage\" + 0.000*\"adapt\" + 0.000*\"polygon\"\n",
      "2022-02-20 13:07:20,229 : INFO : topic diff=0.693362, rho=0.389191\n",
      "2022-02-20 13:07:20,236 : INFO : PROGRESS: pass 5, at document #2000/3204\n",
      "2022-02-20 13:07:20,957 : INFO : optimized alpha [0.010489163, 0.010757591, 0.011157628, 0.010387597, 0.010665831, 0.011410145, 0.010340016, 0.010482407, 0.010374628, 0.011990588, 0.011140027, 0.011495287, 0.010985969, 0.010313946, 0.010216424, 0.012090784, 0.010813494, 0.010770121, 0.011989021, 0.011283841, 0.009958997, 0.010689985, 0.010818032, 0.010463475, 0.012575069, 0.011165977, 0.010055838, 0.010149673, 0.011259128, 0.011928589, 0.020435479, 0.012333924, 0.010035981, 0.010380063, 0.010700847, 0.00996106, 0.010355499, 0.010674153, 0.011053396, 0.009735474, 0.011045085, 0.010109029, 0.010887767, 0.0102378605, 0.010883311, 0.010463744, 0.01046654, 0.010482187, 0.010126758, 0.010485997, 0.010540013, 0.01102188, 0.0099528525, 0.010325452, 0.0108951945, 0.011059239, 0.010440389, 0.010874899, 0.011281491, 0.010416908, 0.010506023, 0.010486201, 0.009935702, 0.010361507, 0.010538995, 0.010387791, 0.010695535, 0.010084393, 0.010329272, 0.010370814, 0.010782427, 0.010486617, 0.010751088, 0.009543384, 0.010921881, 0.01017317, 0.011982935, 0.0109661035, 0.010228962, 0.011280835, 0.011285526, 0.00972299, 0.011703212, 0.011090391, 0.010420841, 0.010853691, 0.011123204, 0.01038085, 0.010547626, 0.010606139, 0.010200452, 0.010961213, 0.010897972, 0.010887202, 0.011497159, 0.010291524, 0.010455084, 0.010110722, 0.01128342, 0.0107716145]\n",
      "2022-02-20 13:07:20,962 : INFO : merging changes from 2000 documents into a model of 3204 documents\n",
      "2022-02-20 13:07:20,971 : INFO : topic #73 (0.010): 0.169*\"center\" + 0.161*\"environ\" + 0.142*\"collect\" + 0.139*\"investig\" + 0.118*\"determin\" + 0.070*\"summar\" + 0.052*\"comput\" + 0.047*\"tabul\" + 0.013*\"result\" + 0.010*\"data\"\n",
      "2022-02-20 13:07:20,972 : INFO : topic #81 (0.010): 0.308*\"comput\" + 0.132*\"manag\" + 0.105*\"applic\" + 0.091*\"busi\" + 0.044*\"govern\" + 0.038*\"develop\" + 0.036*\"devic\" + 0.036*\"survey\" + 0.028*\"constant\" + 0.023*\"process\"\n",
      "2022-02-20 13:07:20,972 : INFO : topic #31 (0.012): 0.228*\"function\" + 0.150*\"]\" + 0.133*\"[\" + 0.093*\"algorithm\" + 0.032*\"gamma\" + 0.030*\"equival\" + 0.027*\"class\" + 0.027*\"s14\" + 0.020*\"(\" + 0.020*\")\"\n",
      "2022-02-20 13:07:20,973 : INFO : topic #24 (0.013): 0.214*\"[\" + 0.202*\"algorithm\" + 0.195*\"(\" + 0.182*\"])\" + 0.040*\"integr\" + 0.021*\"a1\" + 0.017*\"d1\" + 0.014*\"s15\" + 0.013*\"linear\" + 0.012*\"normal\"\n",
      "2022-02-20 13:07:20,973 : INFO : topic #30 (0.020): 0.396*\"(\" + 0.381*\")\" + 0.204*\"algorithm\" + 0.006*\"integ\" + 0.004*\"program\" + 0.004*\"problem\" + 0.001*\"$\" + 0.000*\"stage\" + 0.000*\"adapt\" + 0.000*\"polygon\"\n",
      "2022-02-20 13:07:20,974 : INFO : topic diff=0.629485, rho=0.362690\n",
      "2022-02-20 13:07:21,799 : INFO : -6.614 per-word bound, 98.0 perplexity estimate based on a held-out corpus of 1204 documents with 49783 words\n",
      "2022-02-20 13:07:21,800 : INFO : PROGRESS: pass 5, at document #3204/3204\n",
      "2022-02-20 13:07:22,500 : INFO : optimized alpha [0.010614296, 0.010967151, 0.011323317, 0.010493807, 0.010830441, 0.011683964, 0.010488085, 0.010584773, 0.010479013, 0.012227278, 0.01136819, 0.011740536, 0.011079869, 0.010421964, 0.010356826, 0.012548522, 0.010984343, 0.011010577, 0.012257848, 0.011516501, 0.010052326, 0.01083996, 0.010983133, 0.010660029, 0.012536841, 0.011400029, 0.010233728, 0.0102880495, 0.011512244, 0.012257911, 0.022302067, 0.012706705, 0.010038977, 0.010472507, 0.010827752, 0.009995933, 0.010483953, 0.010811992, 0.011258069, 0.009804434, 0.011330483, 0.010169755, 0.011086865, 0.0103788385, 0.011055636, 0.0105987, 0.010636793, 0.01067284, 0.01021646, 0.0106724845, 0.01067826, 0.011242222, 0.010069205, 0.01041572, 0.01110699, 0.01132396, 0.01058559, 0.011080408, 0.011549515, 0.010615262, 0.010737486, 0.010642496, 0.010008198, 0.010434143, 0.010653549, 0.010577889, 0.010945736, 0.010182532, 0.010448246, 0.01047747, 0.010916457, 0.0106148515, 0.0109685175, 0.009594684, 0.011112909, 0.010233586, 0.012190249, 0.011195728, 0.0103171235, 0.01156281, 0.011417237, 0.009792142, 0.012131693, 0.011262084, 0.010555437, 0.011014821, 0.01120792, 0.0105122905, 0.010722545, 0.01079573, 0.010358178, 0.011213867, 0.011026288, 0.010997626, 0.011762707, 0.010405802, 0.010548476, 0.010204367, 0.011329365, 0.01095861]\n",
      "2022-02-20 13:07:22,506 : INFO : merging changes from 1204 documents into a model of 3204 documents\n",
      "2022-02-20 13:07:22,516 : INFO : topic #73 (0.010): 0.182*\"investig\" + 0.169*\"environ\" + 0.144*\"collect\" + 0.135*\"center\" + 0.106*\"determin\" + 0.089*\"summar\" + 0.046*\"comput\" + 0.043*\"tabul\" + 0.012*\"result\" + 0.007*\"data\"\n"
     ]
    },
    {
     "name": "stderr",
     "output_type": "stream",
     "text": [
      "2022-02-20 13:07:22,516 : INFO : topic #81 (0.010): 0.322*\"comput\" + 0.164*\"manag\" + 0.105*\"applic\" + 0.090*\"busi\" + 0.046*\"govern\" + 0.039*\"develop\" + 0.032*\"survey\" + 0.027*\"devic\" + 0.022*\"constant\" + 0.021*\"process\"\n",
      "2022-02-20 13:07:22,517 : INFO : topic #24 (0.013): 0.216*\"[\" + 0.201*\"algorithm\" + 0.189*\"(\" + 0.157*\"])\" + 0.046*\"integr\" + 0.027*\"a1\" + 0.023*\"d1\" + 0.019*\"linear\" + 0.014*\"f4\" + 0.013*\"s15\"\n",
      "2022-02-20 13:07:22,518 : INFO : topic #31 (0.013): 0.222*\"function\" + 0.191*\"]\" + 0.161*\"[\" + 0.093*\"algorithm\" + 0.026*\"equival\" + 0.025*\"gamma\" + 0.024*\"class\" + 0.020*\"s14\" + 0.018*\"(\" + 0.018*\")\"\n",
      "2022-02-20 13:07:22,518 : INFO : topic #30 (0.022): 0.407*\"(\" + 0.384*\")\" + 0.189*\"algorithm\" + 0.007*\"integ\" + 0.005*\"problem\" + 0.004*\"program\" + 0.000*\"$\" + 0.000*\"stage\" + 0.000*\"adapt\" + 0.000*\"polygon\"\n",
      "2022-02-20 13:07:22,519 : INFO : topic diff=0.656811, rho=0.362690\n",
      "2022-02-20 13:07:22,526 : INFO : PROGRESS: pass 6, at document #2000/3204\n",
      "2022-02-20 13:07:23,293 : INFO : optimized alpha [0.010646489, 0.011056706, 0.011506009, 0.010497924, 0.010920866, 0.011698728, 0.010524642, 0.010565678, 0.010501604, 0.012440942, 0.011412863, 0.01187465, 0.01129931, 0.010422046, 0.010327261, 0.0126819, 0.011059099, 0.011091021, 0.012472678, 0.011499065, 0.010012288, 0.010912491, 0.011072286, 0.010703586, 0.013004433, 0.011455308, 0.010289701, 0.010309895, 0.011536571, 0.012326553, 0.024070451, 0.012866514, 0.010099695, 0.010562989, 0.01082202, 0.010021856, 0.010455879, 0.0108669475, 0.011386391, 0.009801625, 0.011437165, 0.010238555, 0.011172337, 0.010369542, 0.011190203, 0.010686078, 0.010653902, 0.010727976, 0.010195739, 0.010678372, 0.01072137, 0.011340795, 0.01006476, 0.01042896, 0.011117978, 0.01127055, 0.010683686, 0.011017598, 0.011583578, 0.010610747, 0.010763199, 0.010643594, 0.009986591, 0.010510246, 0.010720507, 0.010620011, 0.010928672, 0.010207663, 0.010432869, 0.010467509, 0.011054818, 0.01064384, 0.010962458, 0.009614465, 0.011197346, 0.010271896, 0.012179701, 0.011294821, 0.010306607, 0.011638854, 0.011582904, 0.00987644, 0.012267679, 0.011454037, 0.010597102, 0.011203418, 0.011327515, 0.010523151, 0.010737519, 0.010756361, 0.010321137, 0.011255284, 0.011191087, 0.011081743, 0.01173451, 0.010416987, 0.010569951, 0.010180403, 0.011574206, 0.010956078]\n",
      "2022-02-20 13:07:23,299 : INFO : merging changes from 2000 documents into a model of 3204 documents\n",
      "2022-02-20 13:07:23,308 : INFO : topic #73 (0.010): 0.168*\"environ\" + 0.165*\"center\" + 0.152*\"investig\" + 0.130*\"collect\" + 0.123*\"determin\" + 0.072*\"summar\" + 0.053*\"comput\" + 0.045*\"tabul\" + 0.012*\"result\" + 0.009*\"data\"\n",
      "2022-02-20 13:07:23,308 : INFO : topic #39 (0.010): 0.102*\",\" + 0.068*\"experiment\" + 0.055*\"comput\" + 0.045*\"emphasi\" + 0.038*\"merit\" + 0.033*\"unit\" + 0.032*\"alphabet\" + 0.030*\"techniqu\" + 0.029*\"draw\" + 0.027*\"meet\"\n",
      "2022-02-20 13:07:23,309 : INFO : topic #31 (0.013): 0.268*\"function\" + 0.153*\"]\" + 0.140*\"[\" + 0.085*\"algorithm\" + 0.032*\"gamma\" + 0.028*\"equival\" + 0.028*\"s14\" + 0.021*\"class\" + 0.017*\"(\" + 0.016*\"'\"\n",
      "2022-02-20 13:07:23,309 : INFO : topic #24 (0.013): 0.215*\"[\" + 0.204*\"algorithm\" + 0.199*\"(\" + 0.184*\"])\" + 0.040*\"integr\" + 0.021*\"a1\" + 0.017*\"d1\" + 0.014*\"s15\" + 0.012*\"gener\" + 0.012*\"linear\"\n",
      "2022-02-20 13:07:23,310 : INFO : topic #30 (0.024): 0.403*\"(\" + 0.385*\")\" + 0.195*\"algorithm\" + 0.005*\"integ\" + 0.004*\"problem\" + 0.004*\"program\" + 0.000*\"$\" + 0.000*\"stage\" + 0.000*\"adapt\" + 0.000*\"polygon\"\n",
      "2022-02-20 13:07:23,311 : INFO : topic diff=0.578732, rho=0.340958\n",
      "2022-02-20 13:07:24,118 : INFO : -6.582 per-word bound, 95.8 perplexity estimate based on a held-out corpus of 1204 documents with 49783 words\n",
      "2022-02-20 13:07:24,118 : INFO : PROGRESS: pass 6, at document #3204/3204\n",
      "2022-02-20 13:07:24,791 : INFO : optimized alpha [0.010762288, 0.01127247, 0.011669867, 0.010598835, 0.011086832, 0.011963539, 0.010701346, 0.010650936, 0.010603701, 0.012666784, 0.011630509, 0.012112712, 0.011397181, 0.010530562, 0.010481442, 0.013119329, 0.011224676, 0.011337145, 0.0127589805, 0.0117203565, 0.010106843, 0.011061117, 0.011235586, 0.010912404, 0.012962469, 0.011701714, 0.010471134, 0.010467734, 0.0117683215, 0.012659743, 0.026132604, 0.0132477665, 0.010105929, 0.010659463, 0.010964235, 0.010052474, 0.010574917, 0.011006921, 0.011607364, 0.009872952, 0.011740348, 0.010307712, 0.011371572, 0.0105005745, 0.011357373, 0.0108294245, 0.010849677, 0.010906571, 0.010287004, 0.010867869, 0.010861914, 0.011554414, 0.010181111, 0.010511831, 0.011325825, 0.0115326345, 0.010852239, 0.011219175, 0.01184958, 0.010802561, 0.010999904, 0.010801114, 0.010058601, 0.01060007, 0.010826195, 0.010813604, 0.011186236, 0.010326929, 0.010548983, 0.010568905, 0.011188274, 0.010777858, 0.011166446, 0.009674284, 0.011398844, 0.010349882, 0.012380377, 0.0115530435, 0.010396419, 0.011915639, 0.011710819, 0.009978545, 0.012662805, 0.011620506, 0.010727999, 0.011385365, 0.0114139775, 0.010663245, 0.010934592, 0.0109490855, 0.010473915, 0.011503227, 0.011328545, 0.011179844, 0.011987601, 0.010540356, 0.01065251, 0.010272397, 0.011619249, 0.011127608]\n",
      "2022-02-20 13:07:24,797 : INFO : merging changes from 1204 documents into a model of 3204 documents\n",
      "2022-02-20 13:07:24,805 : INFO : topic #73 (0.010): 0.191*\"investig\" + 0.180*\"environ\" + 0.134*\"center\" + 0.133*\"collect\" + 0.108*\"determin\" + 0.088*\"summar\" + 0.046*\"comput\" + 0.042*\"tabul\" + 0.012*\"result\" + 0.006*\"data\"\n",
      "2022-02-20 13:07:24,806 : INFO : topic #39 (0.010): 0.108*\",\" + 0.075*\"experiment\" + 0.051*\"comput\" + 0.048*\"merit\" + 0.047*\"emphasi\" + 0.035*\"draw\" + 0.034*\"unit\" + 0.032*\"alphabet\" + 0.027*\"applic\" + 0.027*\"techniqu\"\n",
      "2022-02-20 13:07:24,807 : INFO : topic #15 (0.013): 0.213*\"data\" + 0.070*\"system\" + 0.054*\"structur\" + 0.038*\",\" + 0.034*\"base\" + 0.028*\"implement\" + 0.027*\"organ\" + 0.024*\"process\" + 0.021*\"inform\" + 0.020*\"design\"\n",
      "2022-02-20 13:07:24,807 : INFO : topic #31 (0.013): 0.259*\"function\" + 0.191*\"]\" + 0.166*\"[\" + 0.086*\"algorithm\" + 0.025*\"gamma\" + 0.025*\"equival\" + 0.021*\"s14\" + 0.018*\"class\" + 0.018*\"'\" + 0.016*\"(\"\n",
      "2022-02-20 13:07:24,808 : INFO : topic #30 (0.026): 0.413*\"(\" + 0.387*\")\" + 0.182*\"algorithm\" + 0.006*\"integ\" + 0.004*\"problem\" + 0.004*\"program\" + 0.000*\"$\" + 0.000*\"stage\" + 0.000*\"adapt\" + 0.000*\"polygon\"\n",
      "2022-02-20 13:07:24,808 : INFO : topic diff=0.587377, rho=0.340958\n",
      "2022-02-20 13:07:24,816 : INFO : PROGRESS: pass 7, at document #2000/3204\n",
      "2022-02-20 13:07:25,568 : INFO : optimized alpha [0.010794788, 0.011348746, 0.0118421465, 0.010603018, 0.011185828, 0.011984043, 0.010742888, 0.010643718, 0.010632149, 0.012875009, 0.011674293, 0.012247223, 0.011622126, 0.010532671, 0.010460017, 0.013272337, 0.011299647, 0.011417474, 0.012971032, 0.011706892, 0.010071058, 0.01113928, 0.011324401, 0.010965738, 0.013421476, 0.011759478, 0.010537916, 0.010496768, 0.011788748, 0.012721888, 0.028067669, 0.013426601, 0.010172596, 0.010746031, 0.010965922, 0.010082766, 0.010548512, 0.011068246, 0.01174366, 0.009883575, 0.011855331, 0.010380268, 0.0114585385, 0.010491728, 0.011484671, 0.010909531, 0.0108743645, 0.010960581, 0.010271212, 0.010876407, 0.010908243, 0.011648468, 0.010178683, 0.010524829, 0.011335569, 0.011478532, 0.010960328, 0.011162646, 0.011879117, 0.010799491, 0.011037854, 0.010807141, 0.010045277, 0.010681518, 0.010900999, 0.010869432, 0.011176029, 0.010357615, 0.010537945, 0.010558129, 0.011337569, 0.0108070765, 0.01116542, 0.009698214, 0.011488776, 0.010388425, 0.012371882, 0.011679445, 0.010388593, 0.0119935, 0.011868141, 0.010089997, 0.012813329, 0.01181899, 0.010778158, 0.011580424, 0.01153981, 0.01067527, 0.010973054, 0.010920075, 0.010441996, 0.0115512805, 0.01150204, 0.011267728, 0.0119654415, 0.010561311, 0.010673242, 0.010250163, 0.011864617, 0.011126606]\n",
      "2022-02-20 13:07:25,574 : INFO : merging changes from 2000 documents into a model of 3204 documents\n",
      "2022-02-20 13:07:25,583 : INFO : topic #73 (0.010): 0.177*\"environ\" + 0.162*\"investig\" + 0.161*\"center\" + 0.123*\"determin\" + 0.122*\"collect\" + 0.073*\"summar\" + 0.053*\"comput\" + 0.043*\"tabul\" + 0.012*\"result\" + 0.008*\"data\"\n",
      "2022-02-20 13:07:25,583 : INFO : topic #39 (0.010): 0.103*\",\" + 0.081*\"experiment\" + 0.052*\"comput\" + 0.047*\"emphasi\" + 0.038*\"merit\" + 0.035*\"unit\" + 0.032*\"alphabet\" + 0.029*\"techniqu\" + 0.029*\"draw\" + 0.027*\"meet\"\n"
     ]
    },
    {
     "name": "stderr",
     "output_type": "stream",
     "text": [
      "2022-02-20 13:07:25,584 : INFO : topic #24 (0.013): 0.215*\"[\" + 0.206*\"algorithm\" + 0.201*\"(\" + 0.184*\"])\" + 0.041*\"integr\" + 0.022*\"a1\" + 0.018*\"d1\" + 0.014*\"s15\" + 0.012*\"gener\" + 0.011*\"linear\"\n",
      "2022-02-20 13:07:25,584 : INFO : topic #31 (0.013): 0.305*\"function\" + 0.154*\"]\" + 0.144*\"[\" + 0.080*\"algorithm\" + 0.032*\"gamma\" + 0.027*\"s14\" + 0.027*\"equival\" + 0.017*\"'\" + 0.017*\"class\" + 0.015*\"(\"\n",
      "2022-02-20 13:07:25,585 : INFO : topic #30 (0.028): 0.408*\"(\" + 0.388*\")\" + 0.189*\"algorithm\" + 0.005*\"integ\" + 0.003*\"problem\" + 0.003*\"program\" + 0.000*\"$\" + 0.000*\"stage\" + 0.000*\"adapt\" + 0.000*\"polygon\"\n",
      "2022-02-20 13:07:25,586 : INFO : topic diff=0.510946, rho=0.322715\n",
      "2022-02-20 13:07:26,400 : INFO : -6.558 per-word bound, 94.2 perplexity estimate based on a held-out corpus of 1204 documents with 49783 words\n",
      "2022-02-20 13:07:26,401 : INFO : PROGRESS: pass 7, at document #3204/3204\n",
      "2022-02-20 13:07:27,077 : INFO : optimized alpha [0.010914231, 0.011556135, 0.012005154, 0.010696635, 0.011368885, 0.012248247, 0.01094139, 0.010722402, 0.010735459, 0.013088102, 0.011879946, 0.012473054, 0.0117210625, 0.010639336, 0.010616144, 0.013727933, 0.011461179, 0.011670178, 0.013275678, 0.011918906, 0.010167049, 0.011290437, 0.011486704, 0.011190146, 0.013383443, 0.012002882, 0.010737822, 0.010656498, 0.012001513, 0.013043431, 0.030307245, 0.013825573, 0.0101980595, 0.010832244, 0.011107834, 0.0101178475, 0.010665183, 0.011208091, 0.011943631, 0.009965255, 0.012158281, 0.01044335, 0.011659141, 0.010619765, 0.011647794, 0.011046585, 0.0110743055, 0.011137648, 0.010358678, 0.011060976, 0.011066254, 0.011881679, 0.010292682, 0.010604164, 0.011534667, 0.011733162, 0.0111308, 0.011364544, 0.012135078, 0.010992119, 0.011286686, 0.010954991, 0.010125252, 0.010781832, 0.0110019, 0.011078872, 0.011420713, 0.010477379, 0.010651889, 0.010646531, 0.011468067, 0.010935264, 0.01137307, 0.009771094, 0.011679278, 0.010463018, 0.012570721, 0.011944598, 0.010477344, 0.012260285, 0.011989976, 0.010222945, 0.013208322, 0.011975224, 0.010914964, 0.011773822, 0.011625084, 0.010794852, 0.011185905, 0.011110626, 0.010596685, 0.011789923, 0.0116363615, 0.011361215, 0.01220171, 0.010681991, 0.010755045, 0.01033552, 0.01191866, 0.011296699]\n",
      "2022-02-20 13:07:27,083 : INFO : merging changes from 1204 documents into a model of 3204 documents\n",
      "2022-02-20 13:07:27,093 : INFO : topic #73 (0.010): 0.201*\"investig\" + 0.189*\"environ\" + 0.131*\"center\" + 0.122*\"collect\" + 0.108*\"determin\" + 0.086*\"summar\" + 0.046*\"comput\" + 0.040*\"tabul\" + 0.011*\"result\" + 0.006*\"descript\"\n",
      "2022-02-20 13:07:27,093 : INFO : topic #39 (0.010): 0.108*\",\" + 0.085*\"experiment\" + 0.049*\"emphasi\" + 0.047*\"comput\" + 0.047*\"merit\" + 0.035*\"unit\" + 0.035*\"draw\" + 0.031*\"alphabet\" + 0.030*\"special\" + 0.027*\"techniqu\"\n",
      "2022-02-20 13:07:27,094 : INFO : topic #15 (0.014): 0.224*\"data\" + 0.070*\"system\" + 0.055*\"structur\" + 0.039*\",\" + 0.035*\"base\" + 0.028*\"organ\" + 0.026*\"implement\" + 0.025*\"process\" + 0.021*\"design\" + 0.021*\"inform\"\n",
      "2022-02-20 13:07:27,094 : INFO : topic #31 (0.014): 0.291*\"function\" + 0.189*\"]\" + 0.166*\"[\" + 0.081*\"algorithm\" + 0.026*\"gamma\" + 0.025*\"equival\" + 0.021*\"s14\" + 0.019*\"'\" + 0.015*\"class\" + 0.015*\"certif\"\n",
      "2022-02-20 13:07:27,095 : INFO : topic #30 (0.030): 0.417*\"(\" + 0.390*\")\" + 0.177*\"algorithm\" + 0.005*\"integ\" + 0.004*\"problem\" + 0.003*\"program\" + 0.000*\"$\" + 0.000*\"stage\" + 0.000*\"adapt\" + 0.000*\"polygon\"\n",
      "2022-02-20 13:07:27,096 : INFO : topic diff=0.513367, rho=0.322715\n",
      "2022-02-20 13:07:27,103 : INFO : PROGRESS: pass 8, at document #2000/3204\n",
      "2022-02-20 13:07:27,834 : INFO : optimized alpha [0.010940361, 0.011627293, 0.012170012, 0.010702658, 0.011467611, 0.0122668315, 0.010984205, 0.010719377, 0.010766145, 0.013295885, 0.0119232945, 0.012606542, 0.011944964, 0.010648137, 0.010595442, 0.013892177, 0.011533038, 0.011750638, 0.013492128, 0.011907079, 0.010134948, 0.011367249, 0.011573762, 0.011249601, 0.013829788, 0.012063306, 0.010805219, 0.010685737, 0.012022251, 0.013107805, 0.032379642, 0.014015343, 0.010262426, 0.010918887, 0.011107581, 0.0101473415, 0.010643535, 0.011263427, 0.012077033, 0.0099818725, 0.012289171, 0.010518096, 0.011758841, 0.010613016, 0.011768752, 0.011132129, 0.011107873, 0.011194375, 0.0103521, 0.011084032, 0.011120807, 0.011973814, 0.010293679, 0.010618628, 0.011552226, 0.01168017, 0.011248663, 0.0113135, 0.012166253, 0.010990331, 0.011322304, 0.010967365, 0.010117757, 0.0108703505, 0.01107906, 0.01114585, 0.011420481, 0.01051495, 0.010643176, 0.010638337, 0.011615918, 0.010968307, 0.011373179, 0.009794299, 0.011767585, 0.010500237, 0.012562145, 0.01208666, 0.010475146, 0.012340195, 0.012149264, 0.010360808, 0.013357647, 0.012173365, 0.010971458, 0.011981368, 0.011748151, 0.0108114295, 0.011239685, 0.011080624, 0.010567637, 0.01184637, 0.011820508, 0.011449367, 0.012183354, 0.010702145, 0.010775196, 0.010318045, 0.012162055, 0.011304166]\n",
      "2022-02-20 13:07:27,839 : INFO : merging changes from 2000 documents into a model of 3204 documents\n",
      "2022-02-20 13:07:27,848 : INFO : topic #73 (0.010): 0.185*\"environ\" + 0.172*\"investig\" + 0.155*\"center\" + 0.122*\"determin\" + 0.114*\"collect\" + 0.073*\"summar\" + 0.053*\"comput\" + 0.042*\"tabul\" + 0.012*\"result\" + 0.007*\"descript\"\n",
      "2022-02-20 13:07:27,849 : INFO : topic #39 (0.010): 0.103*\",\" + 0.089*\"experiment\" + 0.049*\"comput\" + 0.049*\"emphasi\" + 0.037*\"merit\" + 0.036*\"unit\" + 0.031*\"special\" + 0.031*\"alphabet\" + 0.030*\"techniqu\" + 0.029*\"draw\"\n",
      "2022-02-20 13:07:27,849 : INFO : topic #15 (0.014): 0.230*\"data\" + 0.071*\"system\" + 0.051*\"structur\" + 0.039*\",\" + 0.032*\"base\" + 0.029*\"organ\" + 0.028*\"process\" + 0.024*\"implement\" + 0.021*\"inform\" + 0.020*\"design\"\n",
      "2022-02-20 13:07:27,850 : INFO : topic #31 (0.014): 0.334*\"function\" + 0.155*\"]\" + 0.145*\"[\" + 0.076*\"algorithm\" + 0.032*\"gamma\" + 0.027*\"s14\" + 0.027*\"equival\" + 0.018*\"'\" + 0.014*\"class\" + 0.014*\"certif\"\n",
      "2022-02-20 13:07:27,850 : INFO : topic #30 (0.032): 0.412*\"(\" + 0.390*\")\" + 0.184*\"algorithm\" + 0.005*\"integ\" + 0.003*\"problem\" + 0.003*\"program\" + 0.000*\"$\" + 0.000*\"stage\" + 0.000*\"adapt\" + 0.000*\"polygon\"\n",
      "2022-02-20 13:07:27,851 : INFO : topic diff=0.443845, rho=0.307119\n",
      "2022-02-20 13:07:28,682 : INFO : -6.535 per-word bound, 92.7 perplexity estimate based on a held-out corpus of 1204 documents with 49783 words\n",
      "2022-02-20 13:07:28,682 : INFO : PROGRESS: pass 8, at document #3204/3204\n",
      "2022-02-20 13:07:29,358 : INFO : optimized alpha [0.0110636065, 0.011839445, 0.0123330215, 0.0107871825, 0.011652935, 0.012525308, 0.0111927865, 0.010808828, 0.010868199, 0.013477108, 0.012118549, 0.012834311, 0.0120514985, 0.010756154, 0.010751175, 0.014328466, 0.011691371, 0.011998505, 0.013802339, 0.012108374, 0.010235072, 0.011524157, 0.011735852, 0.0114725195, 0.013774151, 0.01230803, 0.011001353, 0.010855998, 0.012224244, 0.013422745, 0.03477478, 0.01441211, 0.010300255, 0.011007037, 0.011243942, 0.010181321, 0.0107583385, 0.011386317, 0.012269875, 0.010060428, 0.012611992, 0.010578536, 0.011958592, 0.010738848, 0.011931661, 0.011263861, 0.011329792, 0.011367824, 0.010449589, 0.011264662, 0.011273134, 0.012214582, 0.010398014, 0.010694983, 0.011744, 0.011931901, 0.011418948, 0.011499077, 0.012410536, 0.011170307, 0.011580954, 0.011115142, 0.010202582, 0.010966669, 0.011178674, 0.011368546, 0.011654014, 0.010643627, 0.010752753, 0.010734337, 0.011753133, 0.0110887075, 0.011564734, 0.009864424, 0.0119787995, 0.010569193, 0.012763353, 0.012375295, 0.01056327, 0.012595429, 0.012268847, 0.010520791, 0.01374369, 0.012329584, 0.011097374, 0.012171375, 0.011832702, 0.010943365, 0.011454197, 0.0112669505, 0.010716347, 0.012080254, 0.011940273, 0.011538955, 0.012411103, 0.01081541, 0.010859381, 0.010402857, 0.012212387, 0.0114736855]\n",
      "2022-02-20 13:07:29,364 : INFO : merging changes from 1204 documents into a model of 3204 documents\n",
      "2022-02-20 13:07:29,373 : INFO : topic #73 (0.010): 0.207*\"investig\" + 0.197*\"environ\" + 0.128*\"center\" + 0.116*\"collect\" + 0.105*\"determin\" + 0.085*\"summar\" + 0.047*\"comput\" + 0.039*\"tabul\" + 0.011*\"result\" + 0.007*\"descript\"\n",
      "2022-02-20 13:07:29,373 : INFO : topic #39 (0.010): 0.108*\",\" + 0.092*\"experiment\" + 0.051*\"emphasi\" + 0.046*\"merit\" + 0.045*\"comput\" + 0.036*\"unit\" + 0.035*\"draw\" + 0.033*\"special\" + 0.031*\"alphabet\" + 0.027*\"techniqu\"\n"
     ]
    },
    {
     "name": "stderr",
     "output_type": "stream",
     "text": [
      "2022-02-20 13:07:29,374 : INFO : topic #15 (0.014): 0.233*\"data\" + 0.069*\"system\" + 0.053*\"structur\" + 0.039*\",\" + 0.036*\"base\" + 0.028*\"organ\" + 0.026*\"process\" + 0.024*\"implement\" + 0.022*\"design\" + 0.021*\"inform\"\n",
      "2022-02-20 13:07:29,375 : INFO : topic #31 (0.014): 0.315*\"function\" + 0.188*\"]\" + 0.167*\"[\" + 0.077*\"algorithm\" + 0.026*\"gamma\" + 0.024*\"equival\" + 0.021*\"s14\" + 0.020*\"'\" + 0.015*\"certif\" + 0.014*\"class\"\n",
      "2022-02-20 13:07:29,375 : INFO : topic #30 (0.035): 0.421*\"(\" + 0.390*\")\" + 0.174*\"algorithm\" + 0.005*\"integ\" + 0.003*\"problem\" + 0.002*\"program\" + 0.000*\"$\" + 0.000*\"stage\" + 0.000*\"adapt\" + 0.000*\"polygon\"\n",
      "2022-02-20 13:07:29,376 : INFO : topic diff=0.445753, rho=0.307119\n",
      "2022-02-20 13:07:29,383 : INFO : PROGRESS: pass 9, at document #2000/3204\n",
      "2022-02-20 13:07:30,133 : INFO : optimized alpha [0.011093678, 0.01193029, 0.012494925, 0.010791752, 0.011758598, 0.012543941, 0.011241781, 0.010804722, 0.010904303, 0.013678999, 0.012159876, 0.012973041, 0.0122769885, 0.010769589, 0.010745488, 0.014493879, 0.011765757, 0.0120793255, 0.014025755, 0.012098249, 0.0102046775, 0.011594819, 0.0118215745, 0.01153625, 0.014213089, 0.012374852, 0.011075912, 0.0108870715, 0.012245426, 0.013481639, 0.036973953, 0.014602793, 0.010368659, 0.011095557, 0.01124873, 0.01021024, 0.010744105, 0.011436325, 0.012404489, 0.010079696, 0.012755328, 0.010646103, 0.012061874, 0.010735525, 0.0120487055, 0.01134651, 0.011373389, 0.011434017, 0.0104466565, 0.011283058, 0.0113339815, 0.012312203, 0.010400681, 0.01070927, 0.011763934, 0.011879841, 0.011541605, 0.011451434, 0.01244339, 0.011168133, 0.011626372, 0.011130181, 0.010195754, 0.011045796, 0.011253302, 0.011446397, 0.011652969, 0.010686079, 0.010746222, 0.010726807, 0.011896693, 0.011120557, 0.011567782, 0.00988706, 0.012074713, 0.010610035, 0.012758472, 0.012540518, 0.010558427, 0.012675809, 0.012428855, 0.010676558, 0.013886185, 0.012528004, 0.01115351, 0.012384739, 0.0119537255, 0.010965902, 0.011515835, 0.011234365, 0.010686805, 0.012134146, 0.01211947, 0.011625903, 0.012396293, 0.010836505, 0.010877437, 0.010383434, 0.012447537, 0.011483957]\n",
      "2022-02-20 13:07:30,139 : INFO : merging changes from 2000 documents into a model of 3204 documents\n",
      "2022-02-20 13:07:30,149 : INFO : topic #73 (0.010): 0.192*\"environ\" + 0.180*\"investig\" + 0.152*\"center\" + 0.118*\"determin\" + 0.110*\"collect\" + 0.073*\"summar\" + 0.052*\"comput\" + 0.041*\"tabul\" + 0.012*\"result\" + 0.008*\"descript\"\n",
      "2022-02-20 13:07:30,149 : INFO : topic #39 (0.010): 0.103*\",\" + 0.095*\"experiment\" + 0.050*\"emphasi\" + 0.047*\"comput\" + 0.037*\"merit\" + 0.035*\"unit\" + 0.035*\"special\" + 0.031*\"techniqu\" + 0.031*\"alphabet\" + 0.029*\"draw\"\n",
      "2022-02-20 13:07:30,150 : INFO : topic #15 (0.014): 0.240*\"data\" + 0.070*\"system\" + 0.049*\"structur\" + 0.039*\",\" + 0.033*\"base\" + 0.029*\"organ\" + 0.029*\"process\" + 0.023*\"implement\" + 0.021*\"inform\" + 0.021*\"design\"\n",
      "2022-02-20 13:07:30,151 : INFO : topic #31 (0.015): 0.354*\"function\" + 0.155*\"]\" + 0.147*\"[\" + 0.072*\"algorithm\" + 0.032*\"gamma\" + 0.027*\"s14\" + 0.025*\"equival\" + 0.019*\"'\" + 0.014*\"certif\" + 0.013*\"class\"\n",
      "2022-02-20 13:07:30,151 : INFO : topic #30 (0.037): 0.416*\"(\" + 0.390*\")\" + 0.181*\"algorithm\" + 0.005*\"integ\" + 0.003*\"problem\" + 0.002*\"program\" + 0.000*\"$\" + 0.000*\"stage\" + 0.000*\"adapt\" + 0.000*\"polygon\"\n",
      "2022-02-20 13:07:30,152 : INFO : topic diff=0.385466, rho=0.293585\n",
      "2022-02-20 13:07:30,959 : INFO : -6.519 per-word bound, 91.7 perplexity estimate based on a held-out corpus of 1204 documents with 49783 words\n",
      "2022-02-20 13:07:30,960 : INFO : PROGRESS: pass 9, at document #3204/3204\n",
      "2022-02-20 13:07:31,624 : INFO : optimized alpha [0.011218108, 0.012144968, 0.012652397, 0.010870796, 0.011943962, 0.012803912, 0.011466202, 0.010904304, 0.011005427, 0.013853707, 0.012348743, 0.013196967, 0.012382118, 0.010876529, 0.010898728, 0.014929506, 0.011924519, 0.0123234885, 0.014349587, 0.012298895, 0.010301457, 0.011740855, 0.011984086, 0.011747199, 0.014158264, 0.012621735, 0.011282596, 0.011065161, 0.012437792, 0.013791161, 0.039476335, 0.015002161, 0.010417979, 0.011180378, 0.0113832345, 0.010250738, 0.010860172, 0.011557702, 0.012600326, 0.010153091, 0.013089862, 0.010704342, 0.012261428, 0.010859603, 0.012214906, 0.011470922, 0.011605907, 0.011596256, 0.010546016, 0.011463303, 0.011484084, 0.012546204, 0.010506475, 0.010783013, 0.01195231, 0.012117842, 0.011712256, 0.011636328, 0.012680384, 0.011342202, 0.011892615, 0.011273013, 0.010290184, 0.011144176, 0.011363273, 0.011671468, 0.011879458, 0.010807801, 0.01085468, 0.010816832, 0.0120379105, 0.011236739, 0.0117588, 0.009957208, 0.012276885, 0.0106766205, 0.012956178, 0.01284758, 0.010640989, 0.012917623, 0.012543756, 0.010863295, 0.014270936, 0.012681947, 0.011280444, 0.012587101, 0.012046686, 0.011087945, 0.011718478, 0.0114256395, 0.010822604, 0.012367018, 0.012234634, 0.011726523, 0.012610577, 0.010953801, 0.010964035, 0.010473096, 0.012497713, 0.011647801]\n",
      "2022-02-20 13:07:31,630 : INFO : merging changes from 1204 documents into a model of 3204 documents\n",
      "2022-02-20 13:07:31,639 : INFO : topic #73 (0.010): 0.213*\"investig\" + 0.203*\"environ\" + 0.127*\"center\" + 0.112*\"collect\" + 0.102*\"determin\" + 0.084*\"summar\" + 0.045*\"comput\" + 0.039*\"tabul\" + 0.011*\"result\" + 0.007*\"descript\"\n",
      "2022-02-20 13:07:31,640 : INFO : topic #39 (0.010): 0.108*\",\" + 0.096*\"experiment\" + 0.051*\"emphasi\" + 0.046*\"merit\" + 0.044*\"comput\" + 0.036*\"special\" + 0.035*\"unit\" + 0.035*\"draw\" + 0.030*\"alphabet\" + 0.028*\"techniqu\"\n",
      "2022-02-20 13:07:31,641 : INFO : topic #15 (0.015): 0.243*\"data\" + 0.068*\"system\" + 0.051*\"structur\" + 0.039*\",\" + 0.037*\"base\" + 0.029*\"organ\" + 0.026*\"process\" + 0.022*\"implement\" + 0.022*\"design\" + 0.021*\"inform\"\n",
      "2022-02-20 13:07:31,641 : INFO : topic #31 (0.015): 0.334*\"function\" + 0.187*\"]\" + 0.168*\"[\" + 0.072*\"algorithm\" + 0.026*\"gamma\" + 0.023*\"equival\" + 0.021*\"'\" + 0.021*\"s14\" + 0.015*\"certif\" + 0.013*\"class\"\n",
      "2022-02-20 13:07:31,642 : INFO : topic #30 (0.039): 0.424*\"(\" + 0.390*\")\" + 0.172*\"algorithm\" + 0.005*\"integ\" + 0.003*\"problem\" + 0.002*\"program\" + 0.000*\"$\" + 0.000*\"stage\" + 0.000*\"adapt\" + 0.000*\"polygon\"\n",
      "2022-02-20 13:07:31,642 : INFO : topic diff=0.388639, rho=0.293585\n",
      "2022-02-20 13:07:31,650 : INFO : PROGRESS: pass 10, at document #2000/3204\n",
      "2022-02-20 13:07:32,348 : INFO : optimized alpha [0.011244033, 0.012232816, 0.012811891, 0.010881791, 0.012049917, 0.0128191, 0.011524501, 0.010903669, 0.011043588, 0.01405247, 0.012393536, 0.013328005, 0.012609815, 0.010889603, 0.010891518, 0.015098637, 0.011993038, 0.012408457, 0.014570565, 0.012285057, 0.01027691, 0.011814196, 0.012072096, 0.011808637, 0.014595051, 0.012676912, 0.011359563, 0.011098029, 0.012454308, 0.013850849, 0.041804668, 0.015200431, 0.0104873665, 0.011263143, 0.011392692, 0.010280544, 0.010849703, 0.011610985, 0.012734797, 0.010171982, 0.013234898, 0.010772965, 0.012370309, 0.010857975, 0.0123285465, 0.011557518, 0.011659138, 0.011661859, 0.010544956, 0.011480715, 0.01154133, 0.012642434, 0.010503228, 0.010797141, 0.011969461, 0.012070147, 0.011839864, 0.011596724, 0.012713201, 0.011346189, 0.011947675, 0.011287479, 0.010285321, 0.011236851, 0.011434119, 0.011758428, 0.011881066, 0.010854992, 0.010851656, 0.010812957, 0.012182826, 0.0112692, 0.011764638, 0.009980719, 0.012368065, 0.01071635, 0.0129547855, 0.013021789, 0.010641218, 0.012995051, 0.012697696, 0.011048128, 0.0144050205, 0.012872252, 0.011329963, 0.012801618, 0.012174508, 0.011104973, 0.011789517, 0.011403503, 0.0107972035, 0.012420417, 0.012414681, 0.011819343, 0.012593857, 0.010975833, 0.010984874, 0.010457766, 0.012743212, 0.011654111]\n",
      "2022-02-20 13:07:32,354 : INFO : merging changes from 2000 documents into a model of 3204 documents\n",
      "2022-02-20 13:07:32,364 : INFO : topic #73 (0.010): 0.198*\"environ\" + 0.188*\"investig\" + 0.150*\"center\" + 0.115*\"determin\" + 0.107*\"collect\" + 0.073*\"summar\" + 0.049*\"comput\" + 0.040*\"tabul\" + 0.012*\"result\" + 0.009*\"descript\"\n",
      "2022-02-20 13:07:32,364 : INFO : topic #39 (0.010): 0.103*\",\" + 0.099*\"experiment\" + 0.051*\"emphasi\" + 0.045*\"comput\" + 0.037*\"merit\" + 0.037*\"special\" + 0.035*\"unit\" + 0.031*\"alphabet\" + 0.030*\"techniqu\" + 0.030*\"draw\"\n",
      "2022-02-20 13:07:32,365 : INFO : topic #15 (0.015): 0.248*\"data\" + 0.069*\"system\" + 0.047*\"structur\" + 0.039*\",\" + 0.034*\"base\" + 0.030*\"organ\" + 0.029*\"process\" + 0.021*\"design\" + 0.021*\"implement\" + 0.021*\"inform\"\n"
     ]
    },
    {
     "name": "stderr",
     "output_type": "stream",
     "text": [
      "2022-02-20 13:07:32,365 : INFO : topic #31 (0.015): 0.372*\"function\" + 0.155*\"]\" + 0.148*\"[\" + 0.068*\"algorithm\" + 0.032*\"gamma\" + 0.027*\"s14\" + 0.025*\"equival\" + 0.020*\"'\" + 0.014*\"certif\" + 0.013*\"class\"\n",
      "2022-02-20 13:07:32,366 : INFO : topic #30 (0.042): 0.419*\"(\" + 0.390*\")\" + 0.179*\"algorithm\" + 0.004*\"integ\" + 0.002*\"problem\" + 0.002*\"program\" + 0.000*\"$\" + 0.000*\"stage\" + 0.000*\"adapt\" + 0.000*\"polygon\"\n",
      "2022-02-20 13:07:32,367 : INFO : topic diff=0.336859, rho=0.281696\n",
      "2022-02-20 13:07:33,160 : INFO : -6.505 per-word bound, 90.8 perplexity estimate based on a held-out corpus of 1204 documents with 49783 words\n",
      "2022-02-20 13:07:33,161 : INFO : PROGRESS: pass 10, at document #3204/3204\n",
      "2022-02-20 13:07:33,812 : INFO : optimized alpha [0.011364566, 0.0124504985, 0.012961394, 0.010960999, 0.012230046, 0.013072194, 0.011754243, 0.011000222, 0.011138932, 0.014214793, 0.012579799, 0.013549189, 0.012716807, 0.010995859, 0.011040198, 0.015538098, 0.012158281, 0.0126583325, 0.014894812, 0.012488566, 0.010370703, 0.011958532, 0.012235378, 0.012016809, 0.01453767, 0.012917341, 0.011571823, 0.011278953, 0.012641017, 0.014146186, 0.044401877, 0.015599883, 0.0105449, 0.011347723, 0.011520416, 0.01032, 0.010962113, 0.011725749, 0.01293722, 0.010247923, 0.01357281, 0.010831704, 0.012561487, 0.010973096, 0.012495586, 0.01168348, 0.011897154, 0.011824707, 0.010641185, 0.011663792, 0.011689724, 0.012882276, 0.010608239, 0.010868673, 0.012157921, 0.012307113, 0.012014074, 0.011781537, 0.012943711, 0.0115178395, 0.012216407, 0.011431285, 0.010386619, 0.011332031, 0.011537882, 0.01199752, 0.012109888, 0.010980679, 0.010966975, 0.010900235, 0.012328228, 0.011384441, 0.011953024, 0.010055678, 0.012573689, 0.010783379, 0.013146483, 0.013332748, 0.01072876, 0.013236763, 0.012811366, 0.011261958, 0.01477261, 0.013012218, 0.011460991, 0.01299879, 0.012267, 0.011236368, 0.011995157, 0.011600056, 0.010928836, 0.012650189, 0.012534472, 0.011919514, 0.0128018195, 0.011092103, 0.011068772, 0.010537337, 0.012784356, 0.011812965]\n",
      "2022-02-20 13:07:33,818 : INFO : merging changes from 1204 documents into a model of 3204 documents\n",
      "2022-02-20 13:07:33,827 : INFO : topic #73 (0.010): 0.218*\"investig\" + 0.210*\"environ\" + 0.126*\"center\" + 0.109*\"collect\" + 0.100*\"determin\" + 0.083*\"summar\" + 0.042*\"comput\" + 0.038*\"tabul\" + 0.011*\"result\" + 0.008*\"descript\"\n",
      "2022-02-20 13:07:33,828 : INFO : topic #39 (0.010): 0.108*\",\" + 0.099*\"experiment\" + 0.052*\"emphasi\" + 0.046*\"merit\" + 0.042*\"comput\" + 0.038*\"special\" + 0.036*\"draw\" + 0.035*\"unit\" + 0.030*\"alphabet\" + 0.027*\"techniqu\"\n",
      "2022-02-20 13:07:33,828 : INFO : topic #15 (0.016): 0.251*\"data\" + 0.067*\"system\" + 0.049*\"structur\" + 0.039*\",\" + 0.038*\"base\" + 0.029*\"organ\" + 0.026*\"process\" + 0.023*\"design\" + 0.021*\"implement\" + 0.021*\"inform\"\n",
      "2022-02-20 13:07:33,828 : INFO : topic #31 (0.016): 0.351*\"function\" + 0.186*\"]\" + 0.168*\"[\" + 0.068*\"algorithm\" + 0.026*\"gamma\" + 0.023*\"equival\" + 0.023*\"'\" + 0.021*\"s14\" + 0.015*\"certif\" + 0.012*\"class\"\n",
      "2022-02-20 13:07:33,829 : INFO : topic #30 (0.044): 0.427*\"(\" + 0.390*\")\" + 0.171*\"algorithm\" + 0.005*\"integ\" + 0.003*\"problem\" + 0.002*\"program\" + 0.000*\"$\" + 0.000*\"stage\" + 0.000*\"adapt\" + 0.000*\"polygon\"\n",
      "2022-02-20 13:07:33,829 : INFO : topic diff=0.342198, rho=0.281696\n",
      "2022-02-20 13:07:33,837 : INFO : PROGRESS: pass 11, at document #2000/3204\n",
      "2022-02-20 13:07:34,555 : INFO : optimized alpha [0.011395871, 0.012537402, 0.013113641, 0.010970454, 0.01233155, 0.01308776, 0.011812093, 0.011002781, 0.011180693, 0.014412839, 0.012622876, 0.013684183, 0.012943754, 0.011010202, 0.011034547, 0.015706949, 0.012226325, 0.012738901, 0.015113824, 0.012481617, 0.010348711, 0.012033025, 0.012320805, 0.012077803, 0.014975313, 0.012975675, 0.011652817, 0.011310489, 0.01265491, 0.014203066, 0.04681615, 0.015795685, 0.010613871, 0.011431288, 0.011524874, 0.010347875, 0.010955102, 0.011772675, 0.013073646, 0.0102720205, 0.013717985, 0.010901501, 0.012676012, 0.010970123, 0.012606227, 0.011758276, 0.011955046, 0.011888277, 0.0106404135, 0.011683438, 0.011746821, 0.012982631, 0.010605242, 0.010881226, 0.012184, 0.012261695, 0.012146802, 0.011739649, 0.012974865, 0.0115229655, 0.012265932, 0.011445219, 0.010380624, 0.011416169, 0.011616327, 0.012096714, 0.0121123595, 0.011030989, 0.010968653, 0.01089684, 0.012479817, 0.011419063, 0.011954995, 0.010080021, 0.012660576, 0.0108206635, 0.013148387, 0.0135127, 0.0107322335, 0.013316983, 0.012963321, 0.011453596, 0.014904624, 0.013205532, 0.011512066, 0.013206042, 0.0123933405, 0.011266639, 0.012068911, 0.011586086, 0.010905786, 0.012703262, 0.012714142, 0.012016442, 0.012790312, 0.011114997, 0.011093696, 0.010521471, 0.013026572, 0.011823758]\n",
      "2022-02-20 13:07:34,561 : INFO : merging changes from 2000 documents into a model of 3204 documents\n",
      "2022-02-20 13:07:34,571 : INFO : topic #73 (0.010): 0.205*\"environ\" + 0.194*\"investig\" + 0.148*\"center\" + 0.113*\"determin\" + 0.106*\"collect\" + 0.073*\"summar\" + 0.044*\"comput\" + 0.040*\"tabul\" + 0.012*\"result\" + 0.009*\"descript\"\n",
      "2022-02-20 13:07:34,572 : INFO : topic #39 (0.010): 0.104*\",\" + 0.101*\"experiment\" + 0.052*\"emphasi\" + 0.043*\"comput\" + 0.040*\"special\" + 0.037*\"merit\" + 0.035*\"unit\" + 0.031*\"draw\" + 0.031*\"alphabet\" + 0.030*\"techniqu\"\n",
      "2022-02-20 13:07:34,572 : INFO : topic #15 (0.016): 0.256*\"data\" + 0.067*\"system\" + 0.046*\"structur\" + 0.040*\",\" + 0.035*\"base\" + 0.031*\"organ\" + 0.029*\"process\" + 0.022*\"design\" + 0.021*\"inform\" + 0.020*\"larg\"\n",
      "2022-02-20 13:07:34,573 : INFO : topic #31 (0.016): 0.386*\"function\" + 0.156*\"]\" + 0.148*\"[\" + 0.064*\"algorithm\" + 0.031*\"gamma\" + 0.027*\"s14\" + 0.024*\"equival\" + 0.021*\"'\" + 0.014*\"certif\" + 0.012*\"declar\"\n",
      "2022-02-20 13:07:34,573 : INFO : topic #30 (0.047): 0.422*\"(\" + 0.390*\")\" + 0.177*\"algorithm\" + 0.004*\"integ\" + 0.002*\"problem\" + 0.001*\"program\" + 0.000*\"$\" + 0.000*\"stage\" + 0.000*\"adapt\" + 0.000*\"polygon\"\n",
      "2022-02-20 13:07:34,574 : INFO : topic diff=0.297635, rho=0.271143\n",
      "2022-02-20 13:07:35,384 : INFO : -6.493 per-word bound, 90.1 perplexity estimate based on a held-out corpus of 1204 documents with 49783 words\n",
      "2022-02-20 13:07:35,384 : INFO : PROGRESS: pass 11, at document #3204/3204\n",
      "2022-02-20 13:07:36,023 : INFO : optimized alpha [0.011515702, 0.01274717, 0.013252889, 0.011052422, 0.012512678, 0.0133318035, 0.01203964, 0.0111016175, 0.01128597, 0.014573384, 0.01280705, 0.013918547, 0.013047113, 0.011125947, 0.011181708, 0.016148088, 0.012384442, 0.012992183, 0.01544603, 0.012682758, 0.0104398765, 0.012176043, 0.012479692, 0.012283829, 0.014911787, 0.013216535, 0.011865874, 0.011492114, 0.012833717, 0.014501378, 0.049474485, 0.016199518, 0.010676844, 0.011515824, 0.011646307, 0.010388766, 0.011069284, 0.011876072, 0.01328293, 0.010350468, 0.014056821, 0.010965863, 0.012871056, 0.011082023, 0.012774416, 0.011878058, 0.012199134, 0.012046736, 0.01073644, 0.011867062, 0.011899175, 0.013225769, 0.010702401, 0.010953243, 0.012367497, 0.0125065725, 0.012330465, 0.011919466, 0.013208625, 0.011690018, 0.01254037, 0.0115824435, 0.0104790665, 0.011518931, 0.011722466, 0.012353048, 0.01234112, 0.0111632915, 0.011083244, 0.010981607, 0.012626783, 0.011531045, 0.012138381, 0.010155142, 0.012875794, 0.01088335, 0.013328942, 0.013843256, 0.010814923, 0.013552976, 0.01307324, 0.011689697, 0.015255746, 0.013344125, 0.011642114, 0.01339856, 0.012485658, 0.011397032, 0.012272539, 0.01177763, 0.011028797, 0.012930522, 0.012833135, 0.0121136345, 0.01299567, 0.011235542, 0.011175191, 0.010608505, 0.013067979, 0.011986356]\n",
      "2022-02-20 13:07:36,029 : INFO : merging changes from 1204 documents into a model of 3204 documents\n",
      "2022-02-20 13:07:36,038 : INFO : topic #73 (0.010): 0.223*\"investig\" + 0.215*\"environ\" + 0.125*\"center\" + 0.107*\"collect\" + 0.098*\"determin\" + 0.082*\"summar\" + 0.039*\"comput\" + 0.038*\"tabul\" + 0.011*\"result\" + 0.008*\"descript\"\n",
      "2022-02-20 13:07:36,038 : INFO : topic #39 (0.010): 0.108*\",\" + 0.103*\"experiment\" + 0.052*\"emphasi\" + 0.045*\"merit\" + 0.040*\"special\" + 0.040*\"comput\" + 0.036*\"draw\" + 0.035*\"unit\" + 0.030*\"alphabet\" + 0.028*\"techniqu\"\n",
      "2022-02-20 13:07:36,039 : INFO : topic #31 (0.016): 0.364*\"function\" + 0.185*\"]\" + 0.167*\"[\" + 0.065*\"algorithm\" + 0.026*\"gamma\" + 0.023*\"'\" + 0.023*\"equival\" + 0.021*\"s14\" + 0.015*\"certif\" + 0.012*\"class\"\n"
     ]
    },
    {
     "name": "stderr",
     "output_type": "stream",
     "text": [
      "2022-02-20 13:07:36,040 : INFO : topic #15 (0.016): 0.257*\"data\" + 0.066*\"system\" + 0.047*\"structur\" + 0.040*\",\" + 0.039*\"base\" + 0.030*\"organ\" + 0.028*\"process\" + 0.023*\"design\" + 0.021*\"inform\" + 0.020*\"larg\"\n",
      "2022-02-20 13:07:36,040 : INFO : topic #30 (0.049): 0.430*\"(\" + 0.389*\")\" + 0.170*\"algorithm\" + 0.005*\"integ\" + 0.002*\"problem\" + 0.001*\"program\" + 0.000*\"$\" + 0.000*\"stage\" + 0.000*\"adapt\" + 0.000*\"polygon\"\n",
      "2022-02-20 13:07:36,041 : INFO : topic diff=0.303812, rho=0.271143\n",
      "2022-02-20 13:07:36,048 : INFO : PROGRESS: pass 12, at document #2000/3204\n",
      "2022-02-20 13:07:36,728 : INFO : optimized alpha [0.011547725, 0.012829932, 0.013403544, 0.0110633625, 0.012610009, 0.013346087, 0.012098712, 0.011107235, 0.011331129, 0.014769329, 0.012850378, 0.014046788, 0.013282226, 0.011139954, 0.01117759, 0.016327735, 0.01245056, 0.01307375, 0.015665459, 0.012682075, 0.010420255, 0.01225176, 0.012566178, 0.012347749, 0.015339353, 0.013278035, 0.011949406, 0.011529981, 0.0128502445, 0.014557583, 0.05197453, 0.01640999, 0.010752591, 0.011597386, 0.011656845, 0.010416222, 0.011065521, 0.011917073, 0.013418023, 0.01037411, 0.014198687, 0.011035439, 0.0129946135, 0.0110807195, 0.012887327, 0.011952519, 0.012258222, 0.012106888, 0.010744379, 0.011885785, 0.011959369, 0.013337248, 0.010699693, 0.010965756, 0.012398981, 0.012461546, 0.012460456, 0.01189577, 0.013236498, 0.011699323, 0.012599352, 0.011597452, 0.010480356, 0.011599517, 0.011799077, 0.012459575, 0.01235087, 0.011218144, 0.0110893, 0.010980053, 0.01277205, 0.011564759, 0.012141548, 0.010180323, 0.012965554, 0.010919892, 0.013332324, 0.014038439, 0.010818596, 0.013630712, 0.013221845, 0.011891551, 0.015376067, 0.013532045, 0.011693362, 0.013606029, 0.012610765, 0.011435586, 0.012344231, 0.011763593, 0.011007938, 0.012978307, 0.013011008, 0.012209863, 0.012985726, 0.01125928, 0.011201113, 0.010593474, 0.013302301, 0.011999768]\n",
      "2022-02-20 13:07:36,734 : INFO : merging changes from 2000 documents into a model of 3204 documents\n",
      "2022-02-20 13:07:36,743 : INFO : topic #73 (0.010): 0.209*\"environ\" + 0.199*\"investig\" + 0.146*\"center\" + 0.112*\"determin\" + 0.104*\"collect\" + 0.072*\"summar\" + 0.041*\"comput\" + 0.039*\"tabul\" + 0.012*\"result\" + 0.009*\"descript\"\n",
      "2022-02-20 13:07:36,744 : INFO : topic #39 (0.010): 0.105*\"experiment\" + 0.104*\",\" + 0.052*\"emphasi\" + 0.041*\"comput\" + 0.041*\"special\" + 0.037*\"merit\" + 0.035*\"unit\" + 0.031*\"draw\" + 0.030*\"alphabet\" + 0.030*\"techniqu\"\n",
      "2022-02-20 13:07:36,745 : INFO : topic #15 (0.016): 0.261*\"data\" + 0.067*\"system\" + 0.044*\"structur\" + 0.040*\",\" + 0.036*\"base\" + 0.032*\"organ\" + 0.030*\"process\" + 0.022*\"design\" + 0.021*\"inform\" + 0.020*\"larg\"\n",
      "2022-02-20 13:07:36,745 : INFO : topic #31 (0.016): 0.398*\"function\" + 0.156*\"]\" + 0.148*\"[\" + 0.061*\"algorithm\" + 0.031*\"gamma\" + 0.027*\"s14\" + 0.024*\"equival\" + 0.022*\"'\" + 0.014*\"certif\" + 0.012*\"declar\"\n",
      "2022-02-20 13:07:36,746 : INFO : topic #30 (0.052): 0.425*\"(\" + 0.389*\")\" + 0.176*\"algorithm\" + 0.004*\"integ\" + 0.002*\"problem\" + 0.001*\"program\" + 0.000*\"$\" + 0.000*\"stage\" + 0.000*\"adapt\" + 0.000*\"polygon\"\n",
      "2022-02-20 13:07:36,746 : INFO : topic diff=0.265544, rho=0.261694\n",
      "2022-02-20 13:07:37,506 : INFO : -6.483 per-word bound, 89.5 perplexity estimate based on a held-out corpus of 1204 documents with 49783 words\n",
      "2022-02-20 13:07:37,508 : INFO : PROGRESS: pass 12, at document #3204/3204\n",
      "2022-02-20 13:07:38,111 : INFO : optimized alpha [0.011664509, 0.013032312, 0.013544812, 0.011145672, 0.012789774, 0.013590534, 0.0123296995, 0.011203452, 0.011433719, 0.014922062, 0.013035689, 0.01427944, 0.013387929, 0.011257655, 0.011323482, 0.016756497, 0.012610149, 0.013322279, 0.015992314, 0.012878547, 0.010509045, 0.012396411, 0.01272661, 0.0125547955, 0.015280277, 0.013525623, 0.012168884, 0.011715178, 0.013024642, 0.014859358, 0.0546569, 0.016825983, 0.010818383, 0.011679507, 0.01178545, 0.010460734, 0.011179182, 0.012015074, 0.013619539, 0.010452811, 0.0145511655, 0.01109562, 0.013199485, 0.01119218, 0.013059799, 0.012074303, 0.012506104, 0.012256213, 0.01084029, 0.012067695, 0.01211337, 0.013581406, 0.010796694, 0.011035993, 0.012586152, 0.012711885, 0.012642904, 0.01207905, 0.013467956, 0.011859744, 0.012880456, 0.011731287, 0.010580873, 0.011697018, 0.011902486, 0.012717401, 0.012572073, 0.011354576, 0.011193705, 0.01106504, 0.0129264165, 0.011673864, 0.012328665, 0.010262327, 0.013167829, 0.010980944, 0.013520287, 0.014380714, 0.0109015545, 0.013867621, 0.013337156, 0.012143148, 0.01571112, 0.013666787, 0.011832886, 0.013797187, 0.012697564, 0.011570433, 0.012540845, 0.011958459, 0.011127808, 0.013200746, 0.013135096, 0.012307038, 0.01318609, 0.011386606, 0.011280428, 0.010676016, 0.013341325, 0.012158331]\n",
      "2022-02-20 13:07:38,118 : INFO : merging changes from 1204 documents into a model of 3204 documents\n",
      "2022-02-20 13:07:38,127 : INFO : topic #73 (0.010): 0.225*\"investig\" + 0.221*\"environ\" + 0.123*\"center\" + 0.107*\"collect\" + 0.098*\"determin\" + 0.081*\"summar\" + 0.037*\"tabul\" + 0.037*\"comput\" + 0.011*\"result\" + 0.009*\"descript\"\n",
      "2022-02-20 13:07:38,128 : INFO : topic #35 (0.010): 0.126*\"word\" + 0.082*\"item\" + 0.077*\",\" + 0.061*\"nonlinear\" + 0.044*\"boundari\" + 0.034*\"-\" + 0.029*\"sens\" + 0.026*\"wave\" + 0.026*\"problem\" + 0.023*\"method\"\n",
      "2022-02-20 13:07:38,128 : INFO : topic #15 (0.017): 0.263*\"data\" + 0.066*\"system\" + 0.045*\"structur\" + 0.040*\",\" + 0.039*\"base\" + 0.031*\"organ\" + 0.028*\"process\" + 0.023*\"design\" + 0.020*\"larg\" + 0.020*\"inform\"\n",
      "2022-02-20 13:07:38,129 : INFO : topic #31 (0.017): 0.378*\"function\" + 0.184*\"]\" + 0.166*\"[\" + 0.061*\"algorithm\" + 0.026*\"gamma\" + 0.024*\"'\" + 0.022*\"equival\" + 0.022*\"s14\" + 0.015*\"certif\" + 0.012*\"class\"\n",
      "2022-02-20 13:07:38,129 : INFO : topic #30 (0.055): 0.432*\"(\" + 0.388*\")\" + 0.169*\"algorithm\" + 0.005*\"integ\" + 0.002*\"problem\" + 0.001*\"program\" + 0.000*\"$\" + 0.000*\"stage\" + 0.000*\"adapt\" + 0.000*\"polygon\"\n",
      "2022-02-20 13:07:38,130 : INFO : topic diff=0.272276, rho=0.261694\n",
      "2022-02-20 13:07:38,137 : INFO : PROGRESS: pass 13, at document #2000/3204\n",
      "2022-02-20 13:07:38,801 : INFO : optimized alpha [0.011697234, 0.013112918, 0.013692503, 0.011162248, 0.012888105, 0.013603579, 0.012388525, 0.011207681, 0.011479294, 0.015118036, 0.0130792605, 0.014408489, 0.013619754, 0.011272741, 0.011323673, 0.016927952, 0.012676122, 0.013408324, 0.016194163, 0.012875832, 0.010492952, 0.012470279, 0.012812667, 0.012618544, 0.015714023, 0.013590252, 0.012250409, 0.011756293, 0.013040451, 0.014914986, 0.057204105, 0.017045353, 0.010891086, 0.011759189, 0.011794133, 0.010494426, 0.011175647, 0.012056638, 0.013757027, 0.010479992, 0.0146918725, 0.011165086, 0.013333977, 0.011191016, 0.013170223, 0.012147055, 0.012565096, 0.012313254, 0.010852403, 0.012085568, 0.012176762, 0.013692062, 0.010795628, 0.011048489, 0.012627642, 0.0126702795, 0.012776806, 0.012057154, 0.01349276, 0.011868593, 0.012947247, 0.01174585, 0.010583626, 0.011786388, 0.011981974, 0.012829938, 0.012585786, 0.011403746, 0.0112111615, 0.01106664, 0.01307725, 0.011708331, 0.012328213, 0.010286981, 0.0132537605, 0.011019626, 0.013519725, 0.014578792, 0.010908148, 0.013944916, 0.013482783, 0.012360398, 0.01582806, 0.013849691, 0.011882744, 0.014005035, 0.01282501, 0.011610895, 0.012618554, 0.0119474325, 0.011104811, 0.013248521, 0.013306513, 0.012402859, 0.013174276, 0.011409712, 0.011307332, 0.010667194, 0.013573381, 0.012172723]\n",
      "2022-02-20 13:07:38,807 : INFO : merging changes from 2000 documents into a model of 3204 documents\n",
      "2022-02-20 13:07:38,816 : INFO : topic #73 (0.010): 0.216*\"environ\" + 0.201*\"investig\" + 0.143*\"center\" + 0.110*\"determin\" + 0.104*\"collect\" + 0.072*\"summar\" + 0.039*\"tabul\" + 0.039*\"comput\" + 0.012*\"result\" + 0.009*\"descript\"\n",
      "2022-02-20 13:07:38,816 : INFO : topic #20 (0.010): 0.160*\"page\" + 0.069*\"preced\" + 0.062*\"algorithm\" + 0.047*\",\" + 0.046*\"relat\" + 0.025*\"typic\" + 0.021*\"oper\" + 0.021*\"exact\" + 0.020*\"shown\" + 0.018*\"method\"\n",
      "2022-02-20 13:07:38,817 : INFO : topic #15 (0.017): 0.268*\"data\" + 0.066*\"system\" + 0.043*\"structur\" + 0.040*\",\" + 0.037*\"base\" + 0.033*\"organ\" + 0.031*\"process\" + 0.022*\"design\" + 0.021*\"larg\" + 0.020*\"inform\"\n",
      "2022-02-20 13:07:38,818 : INFO : topic #31 (0.017): 0.410*\"function\" + 0.155*\"]\" + 0.147*\"[\" + 0.058*\"algorithm\" + 0.031*\"gamma\" + 0.027*\"s14\" + 0.023*\"'\" + 0.023*\"equival\" + 0.014*\"certif\" + 0.012*\"declar\"\n"
     ]
    },
    {
     "name": "stderr",
     "output_type": "stream",
     "text": [
      "2022-02-20 13:07:38,818 : INFO : topic #30 (0.057): 0.427*\"(\" + 0.388*\")\" + 0.174*\"algorithm\" + 0.004*\"integ\" + 0.002*\"problem\" + 0.001*\"program\" + 0.000*\"$\" + 0.000*\"stage\" + 0.000*\"adapt\" + 0.000*\"polygon\"\n",
      "2022-02-20 13:07:38,819 : INFO : topic diff=0.239091, rho=0.253169\n",
      "2022-02-20 13:07:39,579 : INFO : -6.475 per-word bound, 88.9 perplexity estimate based on a held-out corpus of 1204 documents with 49783 words\n",
      "2022-02-20 13:07:39,580 : INFO : PROGRESS: pass 13, at document #3204/3204\n",
      "2022-02-20 13:07:40,164 : INFO : optimized alpha [0.011821209, 0.013319439, 0.013824411, 0.011249727, 0.013072226, 0.013840255, 0.012618215, 0.011303866, 0.011584234, 0.015263171, 0.013260566, 0.0146426605, 0.013736581, 0.011385288, 0.011461495, 0.017359028, 0.012832144, 0.01365252, 0.016529739, 0.013065259, 0.010577453, 0.012614269, 0.01296953, 0.012826986, 0.015645614, 0.01383919, 0.012468824, 0.011942715, 0.013208127, 0.015208158, 0.05986193, 0.017456615, 0.010964356, 0.011834194, 0.011922201, 0.010544629, 0.011291355, 0.012149677, 0.013954525, 0.010559031, 0.0150463665, 0.011228389, 0.013535063, 0.011297475, 0.013341716, 0.012271023, 0.012825211, 0.012461766, 0.010957538, 0.012263595, 0.012329953, 0.0139374845, 0.0108903395, 0.01111712, 0.012810785, 0.012921031, 0.012955626, 0.01224137, 0.0137137845, 0.0120304655, 0.013243766, 0.011876587, 0.010688471, 0.01189152, 0.012093115, 0.013097784, 0.012805356, 0.01154929, 0.01132497, 0.011149663, 0.013228127, 0.011814814, 0.0125113595, 0.010369225, 0.013457777, 0.011081546, 0.013706178, 0.014923853, 0.010993736, 0.014180354, 0.013592069, 0.012620219, 0.01615766, 0.01397201, 0.012021625, 0.014203954, 0.012906683, 0.0117526725, 0.012819333, 0.012140767, 0.011224161, 0.013469358, 0.013416116, 0.012500167, 0.013370145, 0.011534119, 0.0113847535, 0.010747806, 0.01361012, 0.012327693]\n",
      "2022-02-20 13:07:40,170 : INFO : merging changes from 1204 documents into a model of 3204 documents\n",
      "2022-02-20 13:07:40,179 : INFO : topic #73 (0.010): 0.228*\"environ\" + 0.225*\"investig\" + 0.122*\"center\" + 0.107*\"collect\" + 0.097*\"determin\" + 0.079*\"summar\" + 0.037*\"tabul\" + 0.035*\"comput\" + 0.011*\"result\" + 0.009*\"descript\"\n",
      "2022-02-20 13:07:40,180 : INFO : topic #35 (0.011): 0.131*\"word\" + 0.085*\"item\" + 0.077*\",\" + 0.061*\"nonlinear\" + 0.044*\"boundari\" + 0.033*\"-\" + 0.029*\"sens\" + 0.026*\"wave\" + 0.024*\"problem\" + 0.022*\"explor\"\n",
      "2022-02-20 13:07:40,180 : INFO : topic #15 (0.017): 0.269*\"data\" + 0.065*\"system\" + 0.043*\"structur\" + 0.040*\"base\" + 0.040*\",\" + 0.032*\"organ\" + 0.029*\"process\" + 0.024*\"design\" + 0.021*\"larg\" + 0.020*\"inform\"\n",
      "2022-02-20 13:07:40,181 : INFO : topic #31 (0.017): 0.388*\"function\" + 0.182*\"]\" + 0.165*\"[\" + 0.059*\"algorithm\" + 0.026*\"gamma\" + 0.025*\"'\" + 0.022*\"s14\" + 0.021*\"equival\" + 0.014*\"certif\" + 0.012*\"class\"\n",
      "2022-02-20 13:07:40,181 : INFO : topic #30 (0.060): 0.434*\"(\" + 0.388*\")\" + 0.167*\"algorithm\" + 0.004*\"integ\" + 0.002*\"problem\" + 0.001*\"program\" + 0.000*\"$\" + 0.000*\"stage\" + 0.000*\"adapt\" + 0.000*\"polygon\"\n",
      "2022-02-20 13:07:40,182 : INFO : topic diff=0.246152, rho=0.253169\n",
      "2022-02-20 13:07:40,190 : INFO : PROGRESS: pass 14, at document #2000/3204\n",
      "2022-02-20 13:07:40,845 : INFO : optimized alpha [0.011851756, 0.013398093, 0.013966009, 0.011268889, 0.013170093, 0.0138522405, 0.012673821, 0.011310932, 0.011628802, 0.015459363, 0.013302819, 0.014778044, 0.013963835, 0.011398705, 0.011467257, 0.017528849, 0.012901337, 0.013736459, 0.016738428, 0.0130654685, 0.010564681, 0.01268803, 0.013055268, 0.012885861, 0.016076436, 0.0138984695, 0.012548526, 0.011991444, 0.013221705, 0.015263432, 0.062459018, 0.01767222, 0.01104234, 0.011915181, 0.011932142, 0.010581703, 0.011292181, 0.012185875, 0.014089445, 0.010584454, 0.015189635, 0.01129917, 0.013678854, 0.01129788, 0.013448215, 0.01234366, 0.0128903985, 0.01252196, 0.010966717, 0.0122836875, 0.012394948, 0.01404397, 0.010889492, 0.011129597, 0.012855756, 0.012877866, 0.013090445, 0.0122332405, 0.013735665, 0.012040335, 0.013315094, 0.011892244, 0.010692555, 0.011985025, 0.012175519, 0.013237247, 0.012819715, 0.011600084, 0.01133786, 0.0111501, 0.013383034, 0.011847072, 0.012512061, 0.010397208, 0.013538463, 0.0111181475, 0.01371057, 0.0151341455, 0.011003134, 0.01425907, 0.013733326, 0.012858068, 0.01626555, 0.014153713, 0.012073251, 0.014412628, 0.013033204, 0.011796628, 0.01289524, 0.012128015, 0.01120465, 0.013513971, 0.0135896485, 0.012591028, 0.013358211, 0.0115566645, 0.011414078, 0.010742127, 0.01383684, 0.01234609]\n",
      "2022-02-20 13:07:40,851 : INFO : merging changes from 2000 documents into a model of 3204 documents\n",
      "2022-02-20 13:07:40,860 : INFO : topic #73 (0.010): 0.223*\"environ\" + 0.202*\"investig\" + 0.141*\"center\" + 0.109*\"determin\" + 0.104*\"collect\" + 0.071*\"summar\" + 0.038*\"tabul\" + 0.037*\"comput\" + 0.012*\"result\" + 0.010*\"descript\"\n",
      "2022-02-20 13:07:40,860 : INFO : topic #20 (0.011): 0.163*\"page\" + 0.070*\"preced\" + 0.062*\"algorithm\" + 0.047*\",\" + 0.046*\"relat\" + 0.025*\"typic\" + 0.022*\"oper\" + 0.021*\"exact\" + 0.020*\"shown\" + 0.019*\"size\"\n",
      "2022-02-20 13:07:40,860 : INFO : topic #15 (0.018): 0.274*\"data\" + 0.066*\"system\" + 0.041*\"structur\" + 0.040*\",\" + 0.038*\"base\" + 0.033*\"organ\" + 0.032*\"process\" + 0.022*\"design\" + 0.021*\"larg\" + 0.020*\"inform\"\n",
      "2022-02-20 13:07:40,860 : INFO : topic #31 (0.018): 0.420*\"function\" + 0.156*\"]\" + 0.147*\"[\" + 0.055*\"algorithm\" + 0.031*\"gamma\" + 0.028*\"s14\" + 0.024*\"'\" + 0.021*\"equival\" + 0.014*\"certif\" + 0.012*\"declar\"\n",
      "2022-02-20 13:07:40,861 : INFO : topic #30 (0.062): 0.429*\"(\" + 0.388*\")\" + 0.173*\"algorithm\" + 0.004*\"integ\" + 0.001*\"problem\" + 0.001*\"program\" + 0.000*\"$\" + 0.000*\"stage\" + 0.000*\"adapt\" + 0.000*\"polygon\"\n",
      "2022-02-20 13:07:40,861 : INFO : topic diff=0.217089, rho=0.245426\n",
      "2022-02-20 13:07:41,591 : INFO : -6.466 per-word bound, 88.4 perplexity estimate based on a held-out corpus of 1204 documents with 49783 words\n",
      "2022-02-20 13:07:41,592 : INFO : PROGRESS: pass 14, at document #3204/3204\n",
      "2022-02-20 13:07:42,170 : INFO : optimized alpha [0.01196827, 0.0136143705, 0.014094733, 0.011356752, 0.013345426, 0.014090179, 0.012907575, 0.011409609, 0.011733835, 0.015603786, 0.0134722525, 0.015020233, 0.014074696, 0.011511177, 0.011604502, 0.017966388, 0.01305414, 0.01397682, 0.017083583, 0.013251079, 0.010656007, 0.012826365, 0.013211532, 0.013093347, 0.01600566, 0.014143376, 0.012766145, 0.012181904, 0.013388542, 0.015551692, 0.06508901, 0.018093094, 0.011120738, 0.011990675, 0.012059926, 0.010630845, 0.01140771, 0.012276769, 0.014280214, 0.010661759, 0.015561961, 0.011365579, 0.013884825, 0.011402007, 0.013616242, 0.012454818, 0.0131549835, 0.01266734, 0.011067377, 0.012460759, 0.012545078, 0.014273831, 0.010982123, 0.011196776, 0.01304058, 0.013121384, 0.013271285, 0.012418766, 0.0139496075, 0.012196481, 0.013621916, 0.012027531, 0.010792946, 0.012087739, 0.012304444, 0.013518663, 0.01303794, 0.011740405, 0.011446811, 0.011231346, 0.013530749, 0.011948764, 0.0126864, 0.0104818605, 0.013735811, 0.011178711, 0.013884711, 0.01550109, 0.011082442, 0.0145021435, 0.013839841, 0.013124091, 0.016586784, 0.014281571, 0.012216681, 0.014610816, 0.013112716, 0.011933147, 0.013092594, 0.012320075, 0.01132142, 0.013725293, 0.013701948, 0.012686063, 0.013552823, 0.0116831325, 0.011489744, 0.010827646, 0.013874345, 0.012502861]\n",
      "2022-02-20 13:07:42,176 : INFO : merging changes from 1204 documents into a model of 3204 documents\n",
      "2022-02-20 13:07:42,186 : INFO : topic #73 (0.010): 0.236*\"environ\" + 0.224*\"investig\" + 0.121*\"center\" + 0.106*\"collect\" + 0.097*\"determin\" + 0.078*\"summar\" + 0.036*\"tabul\" + 0.034*\"comput\" + 0.011*\"result\" + 0.009*\"descript\"\n",
      "2022-02-20 13:07:42,187 : INFO : topic #35 (0.011): 0.134*\"word\" + 0.087*\"item\" + 0.077*\",\" + 0.060*\"nonlinear\" + 0.044*\"boundari\" + 0.033*\"-\" + 0.029*\"sens\" + 0.026*\"wave\" + 0.023*\"problem\" + 0.022*\"explor\"\n",
      "2022-02-20 13:07:42,187 : INFO : topic #15 (0.018): 0.274*\"data\" + 0.065*\"system\" + 0.042*\"structur\" + 0.041*\"base\" + 0.040*\",\" + 0.033*\"organ\" + 0.030*\"process\" + 0.024*\"design\" + 0.021*\"larg\" + 0.020*\"inform\"\n",
      "2022-02-20 13:07:42,188 : INFO : topic #31 (0.018): 0.398*\"function\" + 0.182*\"]\" + 0.165*\"[\" + 0.056*\"algorithm\" + 0.026*\"gamma\" + 0.025*\"'\" + 0.022*\"s14\" + 0.020*\"equival\" + 0.014*\"certif\" + 0.011*\"class\"\n"
     ]
    },
    {
     "name": "stderr",
     "output_type": "stream",
     "text": [
      "2022-02-20 13:07:42,189 : INFO : topic #30 (0.065): 0.436*\"(\" + 0.388*\")\" + 0.167*\"algorithm\" + 0.004*\"integ\" + 0.001*\"problem\" + 0.001*\"program\" + 0.000*\"$\" + 0.000*\"stage\" + 0.000*\"adapt\" + 0.000*\"polygon\"\n",
      "2022-02-20 13:07:42,189 : INFO : topic diff=0.223463, rho=0.245426\n",
      "2022-02-20 13:07:42,197 : INFO : PROGRESS: pass 15, at document #2000/3204\n",
      "2022-02-20 13:07:42,824 : INFO : optimized alpha [0.012002458, 0.013691124, 0.014238935, 0.011378323, 0.013442959, 0.014099427, 0.012960068, 0.0114153, 0.0117761055, 0.015798783, 0.0135117825, 0.015153188, 0.014297659, 0.011528427, 0.011615594, 0.018136939, 0.013121756, 0.014060431, 0.017295483, 0.013257339, 0.010645034, 0.01290167, 0.013298683, 0.01315065, 0.01643396, 0.014207675, 0.012848752, 0.012230772, 0.013403205, 0.015604895, 0.06772223, 0.018315949, 0.011202683, 0.012068696, 0.012075411, 0.010668592, 0.0114085395, 0.012312302, 0.014416086, 0.010686776, 0.015702546, 0.011435097, 0.014033068, 0.011403901, 0.013722334, 0.012524617, 0.0132199265, 0.012726203, 0.011080488, 0.012481564, 0.012610216, 0.014383159, 0.010982768, 0.011209251, 0.0130827315, 0.013081433, 0.01340554, 0.012414927, 0.0139721, 0.012207399, 0.013697815, 0.012042788, 0.010798318, 0.01217955, 0.012389851, 0.013674174, 0.013054591, 0.011799965, 0.011464972, 0.011236086, 0.013684954, 0.011983268, 0.012689835, 0.010508106, 0.013822936, 0.011216084, 0.013890444, 0.01570562, 0.011089179, 0.014582299, 0.013978695, 0.013372388, 0.01669569, 0.01446574, 0.012267153, 0.014818749, 0.013235498, 0.011978986, 0.013169952, 0.012308594, 0.011303847, 0.013768549, 0.013877779, 0.012778313, 0.013544013, 0.0117107695, 0.0115186, 0.010822416, 0.014099494, 0.01251919]\n",
      "2022-02-20 13:07:42,829 : INFO : merging changes from 2000 documents into a model of 3204 documents\n",
      "2022-02-20 13:07:42,839 : INFO : topic #73 (0.011): 0.230*\"environ\" + 0.203*\"investig\" + 0.139*\"center\" + 0.107*\"determin\" + 0.103*\"collect\" + 0.070*\"summar\" + 0.038*\"tabul\" + 0.035*\"comput\" + 0.012*\"result\" + 0.010*\"descript\"\n",
      "2022-02-20 13:07:42,839 : INFO : topic #20 (0.011): 0.164*\"page\" + 0.070*\"preced\" + 0.061*\"algorithm\" + 0.048*\",\" + 0.047*\"relat\" + 0.026*\"typic\" + 0.022*\"oper\" + 0.021*\"exact\" + 0.021*\"modif\" + 0.021*\"shown\"\n",
      "2022-02-20 13:07:42,840 : INFO : topic #15 (0.018): 0.278*\"data\" + 0.065*\"system\" + 0.040*\",\" + 0.040*\"structur\" + 0.038*\"base\" + 0.034*\"organ\" + 0.033*\"process\" + 0.023*\"design\" + 0.021*\"larg\" + 0.020*\"inform\"\n",
      "2022-02-20 13:07:42,841 : INFO : topic #31 (0.018): 0.429*\"function\" + 0.155*\"]\" + 0.148*\"[\" + 0.053*\"algorithm\" + 0.031*\"gamma\" + 0.028*\"s14\" + 0.024*\"'\" + 0.020*\"equival\" + 0.014*\"certif\" + 0.012*\"declar\"\n",
      "2022-02-20 13:07:42,841 : INFO : topic #30 (0.068): 0.431*\"(\" + 0.388*\")\" + 0.172*\"algorithm\" + 0.004*\"integ\" + 0.001*\"problem\" + 0.000*\"program\" + 0.000*\"$\" + 0.000*\"stage\" + 0.000*\"adapt\" + 0.000*\"polygon\"\n",
      "2022-02-20 13:07:42,842 : INFO : topic diff=0.198628, rho=0.238352\n",
      "2022-02-20 13:07:43,540 : INFO : -6.459 per-word bound, 88.0 perplexity estimate based on a held-out corpus of 1204 documents with 49783 words\n",
      "2022-02-20 13:07:43,541 : INFO : PROGRESS: pass 15, at document #3204/3204\n",
      "2022-02-20 13:07:44,093 : INFO : optimized alpha [0.0121142315, 0.013898478, 0.01436475, 0.011471177, 0.013615132, 0.01434437, 0.013203307, 0.011514249, 0.011883717, 0.015945895, 0.013680633, 0.015394773, 0.014399885, 0.011640967, 0.01175483, 0.01858146, 0.013274217, 0.01429724, 0.017636495, 0.013439315, 0.010736635, 0.01304235, 0.013451938, 0.013352191, 0.01636411, 0.014446065, 0.013063266, 0.012415801, 0.013564097, 0.015891673, 0.07027712, 0.018739946, 0.01128609, 0.012147219, 0.012205494, 0.010716739, 0.011519471, 0.012401284, 0.0146120405, 0.010764597, 0.01608102, 0.011502217, 0.014244084, 0.011510453, 0.013887174, 0.012630983, 0.013505438, 0.01287116, 0.011183593, 0.012655381, 0.0127575705, 0.014612203, 0.011075692, 0.011275112, 0.013269475, 0.013320809, 0.013583337, 0.012597158, 0.014179389, 0.0123605905, 0.014015368, 0.012168248, 0.010896713, 0.012289913, 0.012518856, 0.013955902, 0.013277198, 0.011937723, 0.011578572, 0.011313456, 0.013835103, 0.01208527, 0.01286856, 0.0105910525, 0.0140142, 0.011279866, 0.014063982, 0.016088903, 0.011171198, 0.014827471, 0.014085399, 0.013647643, 0.017012175, 0.014584853, 0.012415179, 0.015016498, 0.013313016, 0.012112937, 0.0133666275, 0.012499781, 0.011418253, 0.0139763085, 0.013987342, 0.012873846, 0.013734992, 0.0118441535, 0.011594947, 0.01090619, 0.014137806, 0.012675435]\n",
      "2022-02-20 13:07:44,100 : INFO : merging changes from 1204 documents into a model of 3204 documents\n",
      "2022-02-20 13:07:44,110 : INFO : topic #73 (0.011): 0.242*\"environ\" + 0.224*\"investig\" + 0.120*\"center\" + 0.106*\"collect\" + 0.096*\"determin\" + 0.077*\"summar\" + 0.036*\"tabul\" + 0.032*\"comput\" + 0.011*\"result\" + 0.009*\"descript\"\n",
      "2022-02-20 13:07:44,111 : INFO : topic #20 (0.011): 0.168*\"page\" + 0.070*\"preced\" + 0.062*\"algorithm\" + 0.050*\",\" + 0.048*\"relat\" + 0.027*\"typic\" + 0.023*\"size\" + 0.022*\"exact\" + 0.022*\"shown\" + 0.021*\"modif\"\n",
      "2022-02-20 13:07:44,111 : INFO : topic #15 (0.019): 0.279*\"data\" + 0.064*\"system\" + 0.042*\"base\" + 0.040*\"structur\" + 0.040*\",\" + 0.034*\"organ\" + 0.031*\"process\" + 0.024*\"design\" + 0.022*\"larg\" + 0.020*\"inform\"\n",
      "2022-02-20 13:07:44,112 : INFO : topic #31 (0.019): 0.408*\"function\" + 0.181*\"]\" + 0.164*\"[\" + 0.054*\"algorithm\" + 0.026*\"gamma\" + 0.025*\"'\" + 0.023*\"s14\" + 0.018*\"equival\" + 0.014*\"certif\" + 0.011*\"class\"\n",
      "2022-02-20 13:07:44,112 : INFO : topic #30 (0.070): 0.437*\"(\" + 0.388*\")\" + 0.166*\"algorithm\" + 0.004*\"integ\" + 0.001*\"problem\" + 0.000*\"program\" + 0.000*\"$\" + 0.000*\"stage\" + 0.000*\"adapt\" + 0.000*\"polygon\"\n",
      "2022-02-20 13:07:44,113 : INFO : topic diff=0.204376, rho=0.238352\n",
      "2022-02-20 13:07:44,120 : INFO : PROGRESS: pass 16, at document #2000/3204\n",
      "2022-02-20 13:07:44,742 : INFO : optimized alpha [0.012154859, 0.01397353, 0.0145033775, 0.011493746, 0.013707709, 0.014354291, 0.013260395, 0.011519915, 0.011929389, 0.016136209, 0.013725507, 0.015523461, 0.014622009, 0.011656573, 0.011768295, 0.018746229, 0.013345026, 0.014378982, 0.017847788, 0.013446737, 0.010729835, 0.013119244, 0.013535892, 0.013414328, 0.016780924, 0.0144985095, 0.0131487595, 0.012466373, 0.013578219, 0.015948428, 0.07291745, 0.01896166, 0.011371946, 0.012226674, 0.012217759, 0.010753906, 0.011523047, 0.012437645, 0.014747344, 0.01079175, 0.01622079, 0.011573209, 0.014398479, 0.011511002, 0.013991336, 0.012696507, 0.0135766165, 0.01293027, 0.01119515, 0.012675466, 0.012825893, 0.014721116, 0.011076478, 0.011287579, 0.013310481, 0.013280876, 0.013715683, 0.012598868, 0.014202581, 0.012372532, 0.014092552, 0.012187436, 0.01089823, 0.012378802, 0.012616084, 0.014114595, 0.013292931, 0.011998945, 0.0115977, 0.01131831, 0.013980824, 0.012120481, 0.012873063, 0.010616869, 0.014093158, 0.011317991, 0.014067689, 0.016295133, 0.011184504, 0.014905699, 0.014223657, 0.0139115965, 0.017116321, 0.014757971, 0.012470284, 0.015225705, 0.013438541, 0.012166267, 0.013439324, 0.012491092, 0.011403829, 0.014019946, 0.01415916, 0.0129646, 0.013726031, 0.011868372, 0.011619294, 0.010903841, 0.014364811, 0.012691211]\n",
      "2022-02-20 13:07:44,748 : INFO : merging changes from 2000 documents into a model of 3204 documents\n",
      "2022-02-20 13:07:44,757 : INFO : topic #73 (0.011): 0.236*\"environ\" + 0.203*\"investig\" + 0.137*\"center\" + 0.106*\"determin\" + 0.103*\"collect\" + 0.069*\"summar\" + 0.037*\"tabul\" + 0.033*\"comput\" + 0.012*\"result\" + 0.010*\"descript\"\n",
      "2022-02-20 13:07:44,757 : INFO : topic #35 (0.011): 0.144*\"word\" + 0.092*\"item\" + 0.078*\",\" + 0.057*\"nonlinear\" + 0.041*\"boundari\" + 0.032*\"-\" + 0.027*\"sens\" + 0.027*\"wave\" + 0.020*\"problem\" + 0.019*\"method\"\n",
      "2022-02-20 13:07:44,758 : INFO : topic #15 (0.019): 0.283*\"data\" + 0.064*\"system\" + 0.040*\",\" + 0.039*\"base\" + 0.039*\"structur\" + 0.035*\"organ\" + 0.033*\"process\" + 0.023*\"design\" + 0.022*\"larg\" + 0.020*\"inform\"\n",
      "2022-02-20 13:07:44,758 : INFO : topic #31 (0.019): 0.437*\"function\" + 0.155*\"]\" + 0.147*\"[\" + 0.050*\"algorithm\" + 0.031*\"gamma\" + 0.028*\"s14\" + 0.024*\"'\" + 0.019*\"equival\" + 0.014*\"certif\" + 0.012*\"declar\"\n",
      "2022-02-20 13:07:44,759 : INFO : topic #30 (0.073): 0.433*\"(\" + 0.387*\")\" + 0.172*\"algorithm\" + 0.004*\"integ\" + 0.001*\"problem\" + 0.000*\"program\" + 0.000*\"$\" + 0.000*\"stage\" + 0.000*\"adapt\" + 0.000*\"polygon\"\n"
     ]
    },
    {
     "name": "stderr",
     "output_type": "stream",
     "text": [
      "2022-02-20 13:07:44,760 : INFO : topic diff=0.182947, rho=0.231857\n",
      "2022-02-20 13:07:45,465 : INFO : -6.453 per-word bound, 87.6 perplexity estimate based on a held-out corpus of 1204 documents with 49783 words\n",
      "2022-02-20 13:07:45,466 : INFO : PROGRESS: pass 16, at document #3204/3204\n",
      "2022-02-20 13:07:46,014 : INFO : optimized alpha [0.012276326, 0.014177698, 0.014626468, 0.011582604, 0.013876948, 0.014595466, 0.013508319, 0.011623618, 0.012037278, 0.01627681, 0.013893987, 0.015767619, 0.014721439, 0.011769322, 0.011907371, 0.019194499, 0.013497296, 0.01461253, 0.018201977, 0.013625538, 0.010821837, 0.0132548185, 0.013686372, 0.013610235, 0.016705604, 0.014738919, 0.013360517, 0.012648652, 0.013738757, 0.016227953, 0.07541537, 0.01938902, 0.011460242, 0.012308249, 0.012343061, 0.010805328, 0.011638596, 0.012524866, 0.014945773, 0.010872242, 0.016605731, 0.011636683, 0.014606363, 0.011615535, 0.014153198, 0.012803239, 0.013854241, 0.013067479, 0.011294171, 0.012853704, 0.012975681, 0.014938155, 0.011167589, 0.01135224, 0.013501955, 0.013519091, 0.013890695, 0.012785435, 0.014411869, 0.012527831, 0.014416034, 0.0123246685, 0.010996892, 0.012487091, 0.012742805, 0.014410727, 0.013509635, 0.012148285, 0.011718089, 0.011392049, 0.014117383, 0.012225182, 0.01304874, 0.010706384, 0.014289568, 0.011382736, 0.014232635, 0.016689368, 0.011264982, 0.015158936, 0.014325142, 0.014199303, 0.017431777, 0.014877145, 0.012623056, 0.015420186, 0.01350894, 0.012295573, 0.013630506, 0.012686467, 0.011518278, 0.014224391, 0.014266203, 0.01305823, 0.013908314, 0.012001679, 0.011694172, 0.0109861, 0.014403935, 0.012849593]\n",
      "2022-02-20 13:07:46,021 : INFO : merging changes from 1204 documents into a model of 3204 documents\n",
      "2022-02-20 13:07:46,030 : INFO : topic #73 (0.011): 0.249*\"environ\" + 0.222*\"investig\" + 0.118*\"center\" + 0.104*\"collect\" + 0.097*\"determin\" + 0.076*\"summar\" + 0.035*\"tabul\" + 0.030*\"comput\" + 0.011*\"result\" + 0.009*\"descript\"\n",
      "2022-02-20 13:07:46,031 : INFO : topic #35 (0.011): 0.139*\"word\" + 0.092*\"item\" + 0.077*\",\" + 0.060*\"nonlinear\" + 0.043*\"boundari\" + 0.031*\"-\" + 0.029*\"sens\" + 0.026*\"wave\" + 0.022*\"explor\" + 0.020*\"problem\"\n",
      "2022-02-20 13:07:46,031 : INFO : topic #15 (0.019): 0.283*\"data\" + 0.063*\"system\" + 0.043*\"base\" + 0.040*\",\" + 0.040*\"structur\" + 0.035*\"organ\" + 0.031*\"process\" + 0.024*\"design\" + 0.022*\"larg\" + 0.019*\"inform\"\n",
      "2022-02-20 13:07:46,032 : INFO : topic #31 (0.019): 0.416*\"function\" + 0.180*\"]\" + 0.164*\"[\" + 0.051*\"algorithm\" + 0.026*\"gamma\" + 0.025*\"'\" + 0.023*\"s14\" + 0.017*\"equival\" + 0.014*\"certif\" + 0.011*\"class\"\n",
      "2022-02-20 13:07:46,033 : INFO : topic #30 (0.075): 0.439*\"(\" + 0.387*\")\" + 0.166*\"algorithm\" + 0.004*\"integ\" + 0.001*\"problem\" + 0.000*\"program\" + 0.000*\"$\" + 0.000*\"stage\" + 0.000*\"adapt\" + 0.000*\"polygon\"\n",
      "2022-02-20 13:07:46,033 : INFO : topic diff=0.188503, rho=0.231857\n",
      "2022-02-20 13:07:46,041 : INFO : PROGRESS: pass 17, at document #2000/3204\n",
      "2022-02-20 13:07:46,651 : INFO : optimized alpha [0.012317532, 0.014254343, 0.014763034, 0.0116061885, 0.013967918, 0.014607731, 0.013563908, 0.011629243, 0.01208076, 0.016462639, 0.013929883, 0.015897641, 0.01494463, 0.011788619, 0.011928585, 0.019357927, 0.0135683045, 0.014692512, 0.018414754, 0.013632521, 0.010817715, 0.013333337, 0.013771906, 0.01367564, 0.01712634, 0.014789765, 0.013449028, 0.012698136, 0.0137524195, 0.01628283, 0.078049436, 0.019616026, 0.011547375, 0.012385045, 0.0123578645, 0.010843199, 0.011642124, 0.012560685, 0.015077283, 0.010899007, 0.016742893, 0.011709176, 0.014770435, 0.01161614, 0.014255587, 0.012867633, 0.01392697, 0.013128402, 0.011305608, 0.012874535, 0.013041337, 0.015043414, 0.011168493, 0.011364726, 0.013541818, 0.013480605, 0.014025901, 0.012785276, 0.014434149, 0.012542195, 0.014499601, 0.012344768, 0.011000953, 0.0125745535, 0.012842926, 0.014584278, 0.013527581, 0.012213896, 0.011743417, 0.011395758, 0.014267526, 0.012261241, 0.013055884, 0.010731747, 0.014370301, 0.011422895, 0.014237794, 0.016904788, 0.011278166, 0.015233632, 0.014461355, 0.014471704, 0.017529344, 0.015046352, 0.012678485, 0.015627358, 0.013631022, 0.012355044, 0.013706371, 0.012677437, 0.011501598, 0.0142684085, 0.01443423, 0.013147534, 0.013897618, 0.012028041, 0.01171822, 0.010982771, 0.014628327, 0.0128677655]\n",
      "2022-02-20 13:07:46,657 : INFO : merging changes from 2000 documents into a model of 3204 documents\n",
      "2022-02-20 13:07:46,666 : INFO : topic #73 (0.011): 0.243*\"environ\" + 0.203*\"investig\" + 0.135*\"center\" + 0.107*\"determin\" + 0.102*\"collect\" + 0.069*\"summar\" + 0.037*\"tabul\" + 0.031*\"comput\" + 0.012*\"result\" + 0.010*\"descript\"\n",
      "2022-02-20 13:07:46,666 : INFO : topic #35 (0.011): 0.146*\"word\" + 0.093*\"item\" + 0.078*\",\" + 0.056*\"nonlinear\" + 0.042*\"boundari\" + 0.031*\"-\" + 0.027*\"sens\" + 0.027*\"wave\" + 0.019*\"problem\" + 0.018*\"store\"\n",
      "2022-02-20 13:07:46,667 : INFO : topic #15 (0.019): 0.288*\"data\" + 0.063*\"system\" + 0.040*\"base\" + 0.040*\",\" + 0.038*\"structur\" + 0.036*\"organ\" + 0.033*\"process\" + 0.023*\"design\" + 0.022*\"larg\" + 0.019*\"inform\"\n",
      "2022-02-20 13:07:46,667 : INFO : topic #31 (0.020): 0.445*\"function\" + 0.155*\"]\" + 0.147*\"[\" + 0.048*\"algorithm\" + 0.030*\"gamma\" + 0.028*\"s14\" + 0.024*\"'\" + 0.018*\"equival\" + 0.014*\"certif\" + 0.012*\"declar\"\n",
      "2022-02-20 13:07:46,668 : INFO : topic #30 (0.078): 0.434*\"(\" + 0.387*\")\" + 0.171*\"algorithm\" + 0.004*\"integ\" + 0.001*\"problem\" + 0.000*\"program\" + 0.000*\"$\" + 0.000*\"stage\" + 0.000*\"adapt\" + 0.000*\"polygon\"\n",
      "2022-02-20 13:07:46,668 : INFO : topic diff=0.169612, rho=0.225865\n",
      "2022-02-20 13:07:47,376 : INFO : -6.447 per-word bound, 87.2 perplexity estimate based on a held-out corpus of 1204 documents with 49783 words\n",
      "2022-02-20 13:07:47,377 : INFO : PROGRESS: pass 17, at document #3204/3204\n",
      "2022-02-20 13:07:47,923 : INFO : optimized alpha [0.012432261, 0.014455487, 0.014883593, 0.0117000425, 0.014134522, 0.01484815, 0.013811667, 0.011731135, 0.0121890195, 0.016606208, 0.014095549, 0.016141545, 0.015047046, 0.011901663, 0.012067631, 0.019802649, 0.013723134, 0.014922983, 0.018762058, 0.013805785, 0.010906065, 0.013464041, 0.013919809, 0.013866109, 0.017058603, 0.015029827, 0.013660721, 0.012882653, 0.01391018, 0.016555399, 0.080462635, 0.02004341, 0.0116449045, 0.012462705, 0.012480974, 0.010891624, 0.011760066, 0.01264628, 0.015275527, 0.010980123, 0.017134616, 0.011771405, 0.014978408, 0.011723133, 0.014414693, 0.012977225, 0.014212908, 0.013258267, 0.011400754, 0.013047615, 0.013196187, 0.01526293, 0.011255876, 0.011428289, 0.013727858, 0.013715336, 0.0142008895, 0.012971417, 0.014642911, 0.012697307, 0.014845561, 0.012479684, 0.011097928, 0.012676077, 0.0129725095, 0.014889916, 0.013746376, 0.012370099, 0.011859522, 0.011470317, 0.014404208, 0.012361738, 0.013236229, 0.010821699, 0.014563823, 0.011482156, 0.014399852, 0.01730715, 0.011359332, 0.015483678, 0.0145632755, 0.01477245, 0.017837329, 0.0151629, 0.012840811, 0.015821693, 0.013699714, 0.012496401, 0.013894689, 0.012872371, 0.011618392, 0.014469825, 0.014538898, 0.01323938, 0.014082118, 0.012159149, 0.011791736, 0.0110635655, 0.01466281, 0.01302596]\n",
      "2022-02-20 13:07:47,929 : INFO : merging changes from 1204 documents into a model of 3204 documents\n",
      "2022-02-20 13:07:47,938 : INFO : topic #73 (0.011): 0.255*\"environ\" + 0.220*\"investig\" + 0.117*\"center\" + 0.103*\"collect\" + 0.098*\"determin\" + 0.075*\"summar\" + 0.035*\"tabul\" + 0.028*\"comput\" + 0.011*\"result\" + 0.009*\"descript\"\n",
      "2022-02-20 13:07:47,939 : INFO : topic #20 (0.011): 0.170*\"page\" + 0.070*\"preced\" + 0.059*\"algorithm\" + 0.050*\"relat\" + 0.050*\",\" + 0.027*\"typic\" + 0.025*\"modif\" + 0.024*\"size\" + 0.024*\"exact\" + 0.023*\"shown\"\n",
      "2022-02-20 13:07:47,940 : INFO : topic #15 (0.020): 0.288*\"data\" + 0.062*\"system\" + 0.044*\"base\" + 0.040*\",\" + 0.038*\"structur\" + 0.036*\"organ\" + 0.031*\"process\" + 0.024*\"design\" + 0.022*\"larg\" + 0.019*\"relat\"\n",
      "2022-02-20 13:07:47,941 : INFO : topic #31 (0.020): 0.424*\"function\" + 0.180*\"]\" + 0.162*\"[\" + 0.048*\"algorithm\" + 0.026*\"gamma\" + 0.025*\"'\" + 0.023*\"s14\" + 0.017*\"equival\" + 0.014*\"certif\" + 0.010*\"class\"\n",
      "2022-02-20 13:07:47,941 : INFO : topic #30 (0.080): 0.440*\"(\" + 0.386*\")\" + 0.166*\"algorithm\" + 0.004*\"integ\" + 0.001*\"problem\" + 0.000*\"program\" + 0.000*\"$\" + 0.000*\"stage\" + 0.000*\"adapt\" + 0.000*\"polygon\"\n"
     ]
    },
    {
     "name": "stderr",
     "output_type": "stream",
     "text": [
      "2022-02-20 13:07:47,942 : INFO : topic diff=0.174487, rho=0.225865\n",
      "2022-02-20 13:07:47,949 : INFO : PROGRESS: pass 18, at document #2000/3204\n",
      "2022-02-20 13:07:48,543 : INFO : optimized alpha [0.01247138, 0.0145306, 0.015018251, 0.011723273, 0.014223957, 0.014859461, 0.01386578, 0.011735424, 0.012233091, 0.0167896, 0.014136775, 0.01627501, 0.015269846, 0.01192066, 0.0120883435, 0.019967098, 0.013789779, 0.015007944, 0.018968236, 0.013809277, 0.010902206, 0.013542739, 0.014003922, 0.013934838, 0.017472336, 0.015082626, 0.013749281, 0.012932457, 0.013923396, 0.016612113, 0.083097145, 0.020269467, 0.011737296, 0.0125397, 0.012498245, 0.010930201, 0.011766127, 0.012680177, 0.015405157, 0.011007702, 0.017271092, 0.0118467165, 0.015140765, 0.011727651, 0.014515427, 0.013040563, 0.014284112, 0.013319549, 0.011414585, 0.013066299, 0.013263585, 0.0153679475, 0.011256902, 0.011440776, 0.013769724, 0.013679856, 0.01433283, 0.012972247, 0.014665893, 0.0127097815, 0.0149272, 0.012499333, 0.011102, 0.012762271, 0.0130742835, 0.015065515, 0.013761896, 0.012437379, 0.011885691, 0.01147419, 0.014560486, 0.012395817, 0.013248789, 0.010847818, 0.014641477, 0.011521786, 0.014403074, 0.017524725, 0.01137368, 0.015558364, 0.014697594, 0.015053656, 0.017934453, 0.015333352, 0.012900821, 0.01602693, 0.013823092, 0.012556272, 0.013972202, 0.012863015, 0.011603353, 0.014514308, 0.014706464, 0.013330361, 0.014071303, 0.0121917175, 0.011816791, 0.011065439, 0.01488627, 0.01304357]\n",
      "2022-02-20 13:07:48,549 : INFO : merging changes from 2000 documents into a model of 3204 documents\n",
      "2022-02-20 13:07:48,558 : INFO : topic #20 (0.011): 0.168*\"page\" + 0.071*\"preced\" + 0.057*\"algorithm\" + 0.052*\"relat\" + 0.049*\",\" + 0.026*\"modif\" + 0.026*\"typic\" + 0.024*\"exact\" + 0.022*\"size\" + 0.022*\"shown\"\n",
      "2022-02-20 13:07:48,559 : INFO : topic #73 (0.011): 0.249*\"environ\" + 0.202*\"investig\" + 0.134*\"center\" + 0.108*\"determin\" + 0.101*\"collect\" + 0.068*\"summar\" + 0.037*\"tabul\" + 0.028*\"comput\" + 0.012*\"result\" + 0.010*\"descript\"\n",
      "2022-02-20 13:07:48,559 : INFO : topic #15 (0.020): 0.292*\"data\" + 0.062*\"system\" + 0.041*\"base\" + 0.040*\",\" + 0.037*\"organ\" + 0.037*\"structur\" + 0.034*\"process\" + 0.023*\"design\" + 0.022*\"larg\" + 0.019*\"inform\"\n",
      "2022-02-20 13:07:48,560 : INFO : topic #31 (0.020): 0.451*\"function\" + 0.156*\"]\" + 0.146*\"[\" + 0.045*\"algorithm\" + 0.030*\"gamma\" + 0.028*\"s14\" + 0.024*\"'\" + 0.017*\"equival\" + 0.014*\"certif\" + 0.012*\"declar\"\n",
      "2022-02-20 13:07:48,561 : INFO : topic #30 (0.083): 0.435*\"(\" + 0.386*\")\" + 0.171*\"algorithm\" + 0.004*\"integ\" + 0.000*\"problem\" + 0.000*\"program\" + 0.000*\"$\" + 0.000*\"stage\" + 0.000*\"adapt\" + 0.000*\"polygon\"\n",
      "2022-02-20 13:07:48,561 : INFO : topic diff=0.158029, rho=0.220316\n",
      "2022-02-20 13:07:49,261 : INFO : -6.442 per-word bound, 86.9 perplexity estimate based on a held-out corpus of 1204 documents with 49783 words\n",
      "2022-02-20 13:07:49,261 : INFO : PROGRESS: pass 18, at document #3204/3204\n",
      "2022-02-20 13:07:49,790 : INFO : optimized alpha [0.012586491, 0.014729019, 0.015133718, 0.011817656, 0.014388035, 0.015099391, 0.014116134, 0.011835578, 0.012339579, 0.016930029, 0.014294612, 0.016521683, 0.0153669445, 0.012031909, 0.012223066, 0.020404713, 0.013937158, 0.015246692, 0.019322738, 0.013977301, 0.01099109, 0.013673761, 0.01415195, 0.014122756, 0.017399073, 0.015319638, 0.013956152, 0.013116901, 0.01407607, 0.016887147, 0.0853827, 0.020707889, 0.0118331555, 0.012618176, 0.012616972, 0.01097984, 0.011882108, 0.012766592, 0.015609099, 0.011087441, 0.017654432, 0.011907752, 0.015351744, 0.011835046, 0.014671951, 0.013155497, 0.014578665, 0.0134471385, 0.011512331, 0.013246462, 0.013418656, 0.015589996, 0.011342826, 0.011503311, 0.013950582, 0.013916496, 0.014507847, 0.013165284, 0.014871703, 0.01286253, 0.015277208, 0.012632073, 0.011197345, 0.012869206, 0.013218845, 0.0153726665, 0.0139727155, 0.0126029365, 0.011997752, 0.011549649, 0.014689335, 0.012496944, 0.01342658, 0.010936293, 0.014829632, 0.0115842335, 0.014570608, 0.017929202, 0.011455569, 0.015808297, 0.014800067, 0.015359533, 0.018238455, 0.015450124, 0.013061003, 0.01621543, 0.013885134, 0.012702582, 0.014158015, 0.0130576575, 0.011718215, 0.014712794, 0.014811541, 0.013417975, 0.014250255, 0.01232534, 0.011893361, 0.011148976, 0.014921717, 0.013199319]\n",
      "2022-02-20 13:07:49,797 : INFO : merging changes from 1204 documents into a model of 3204 documents\n",
      "2022-02-20 13:07:49,806 : INFO : topic #73 (0.011): 0.261*\"environ\" + 0.219*\"investig\" + 0.116*\"center\" + 0.103*\"collect\" + 0.099*\"determin\" + 0.074*\"summar\" + 0.035*\"tabul\" + 0.025*\"comput\" + 0.011*\"result\" + 0.010*\"descript\"\n",
      "2022-02-20 13:07:49,807 : INFO : topic #35 (0.011): 0.143*\"word\" + 0.095*\"item\" + 0.077*\",\" + 0.060*\"nonlinear\" + 0.044*\"boundari\" + 0.030*\"-\" + 0.029*\"sens\" + 0.026*\"wave\" + 0.021*\"explor\" + 0.019*\"longer\"\n",
      "2022-02-20 13:07:49,807 : INFO : topic #15 (0.020): 0.292*\"data\" + 0.061*\"system\" + 0.045*\"base\" + 0.040*\",\" + 0.037*\"structur\" + 0.037*\"organ\" + 0.031*\"process\" + 0.024*\"design\" + 0.022*\"larg\" + 0.019*\"relat\"\n",
      "2022-02-20 13:07:49,808 : INFO : topic #31 (0.021): 0.431*\"function\" + 0.179*\"]\" + 0.161*\"[\" + 0.046*\"algorithm\" + 0.026*\"gamma\" + 0.024*\"'\" + 0.023*\"s14\" + 0.016*\"equival\" + 0.014*\"certif\" + 0.010*\"class\"\n",
      "2022-02-20 13:07:49,808 : INFO : topic #30 (0.085): 0.441*\"(\" + 0.386*\")\" + 0.166*\"algorithm\" + 0.004*\"integ\" + 0.000*\"problem\" + 0.000*\"program\" + 0.000*\"$\" + 0.000*\"stage\" + 0.000*\"adapt\" + 0.000*\"polygon\"\n",
      "2022-02-20 13:07:49,809 : INFO : topic diff=0.162563, rho=0.220316\n",
      "2022-02-20 13:07:49,816 : INFO : PROGRESS: pass 19, at document #2000/3204\n",
      "2022-02-20 13:07:50,411 : INFO : optimized alpha [0.012623599, 0.0148042, 0.0152665945, 0.01184438, 0.0144775845, 0.015111342, 0.0141703505, 0.011839842, 0.012378953, 0.01711113, 0.014334888, 0.016654922, 0.0155895315, 0.012051892, 0.012244629, 0.02057236, 0.013999674, 0.015328442, 0.019526353, 0.01398205, 0.010986221, 0.013754146, 0.014236238, 0.014190252, 0.017813653, 0.015372733, 0.0140433265, 0.0131684905, 0.014090353, 0.016945658, 0.08795697, 0.020930797, 0.011925656, 0.012694064, 0.012635265, 0.011016729, 0.011890615, 0.012801386, 0.015740296, 0.011114627, 0.017790304, 0.011979433, 0.015512548, 0.011839493, 0.014771139, 0.013219257, 0.0146530345, 0.013511751, 0.011528468, 0.013265883, 0.01349074, 0.015693258, 0.011343963, 0.011515804, 0.013989934, 0.013879345, 0.014638202, 0.013174229, 0.014893823, 0.0128773935, 0.015356901, 0.012651271, 0.011202631, 0.012957033, 0.013327858, 0.015562148, 0.013993623, 0.012670506, 0.012026089, 0.011556132, 0.014847115, 0.012529171, 0.013435709, 0.010963205, 0.014907506, 0.011623354, 0.014578455, 0.018152725, 0.011472265, 0.015888158, 0.014935755, 0.01565144, 0.018333068, 0.015618521, 0.013118544, 0.01641879, 0.014003849, 0.01276562, 0.01423572, 0.013050799, 0.011703481, 0.014757806, 0.014978726, 0.013507698, 0.014239339, 0.012355939, 0.011916831, 0.0111448895, 0.015138124, 0.01321928]\n",
      "2022-02-20 13:07:50,417 : INFO : merging changes from 2000 documents into a model of 3204 documents\n",
      "2022-02-20 13:07:50,427 : INFO : topic #20 (0.011): 0.169*\"page\" + 0.071*\"preced\" + 0.056*\"algorithm\" + 0.052*\"relat\" + 0.049*\",\" + 0.028*\"modif\" + 0.026*\"typic\" + 0.025*\"exact\" + 0.023*\"size\" + 0.022*\"shown\"\n",
      "2022-02-20 13:07:50,428 : INFO : topic #73 (0.011): 0.254*\"environ\" + 0.201*\"investig\" + 0.133*\"center\" + 0.109*\"determin\" + 0.101*\"collect\" + 0.068*\"summar\" + 0.036*\"tabul\" + 0.025*\"comput\" + 0.012*\"result\" + 0.010*\"descript\"\n",
      "2022-02-20 13:07:50,428 : INFO : topic #15 (0.021): 0.296*\"data\" + 0.061*\"system\" + 0.042*\"base\" + 0.040*\",\" + 0.038*\"organ\" + 0.036*\"structur\" + 0.034*\"process\" + 0.023*\"design\" + 0.023*\"larg\" + 0.018*\"relat\"\n",
      "2022-02-20 13:07:50,429 : INFO : topic #31 (0.021): 0.457*\"function\" + 0.156*\"]\" + 0.146*\"[\" + 0.043*\"algorithm\" + 0.030*\"gamma\" + 0.028*\"s14\" + 0.023*\"'\" + 0.017*\"equival\" + 0.014*\"certif\" + 0.012*\"declar\"\n",
      "2022-02-20 13:07:50,430 : INFO : topic #30 (0.088): 0.436*\"(\" + 0.385*\")\" + 0.171*\"algorithm\" + 0.004*\"integ\" + 0.000*\"problem\" + 0.000*\"program\" + 0.000*\"$\" + 0.000*\"stage\" + 0.000*\"adapt\" + 0.000*\"polygon\"\n",
      "2022-02-20 13:07:50,430 : INFO : topic diff=0.148002, rho=0.215156\n",
      "2022-02-20 13:07:51,098 : INFO : -6.437 per-word bound, 86.6 perplexity estimate based on a held-out corpus of 1204 documents with 49783 words\n"
     ]
    },
    {
     "name": "stderr",
     "output_type": "stream",
     "text": [
      "2022-02-20 13:07:51,098 : INFO : PROGRESS: pass 19, at document #3204/3204\n",
      "2022-02-20 13:07:51,614 : INFO : optimized alpha [0.012730083, 0.014999927, 0.015379855, 0.011941503, 0.014639257, 0.015345519, 0.014423445, 0.011936264, 0.012486019, 0.017245563, 0.0144929085, 0.016910966, 0.01568151, 0.012161451, 0.0123729855, 0.021006642, 0.014144797, 0.015572928, 0.019884508, 0.0141501175, 0.011071723, 0.0138855735, 0.014387053, 0.014383432, 0.017738212, 0.015612526, 0.014250397, 0.01336014, 0.014240665, 0.017217312, 0.090089194, 0.021366067, 0.012026473, 0.012768884, 0.012754451, 0.011065546, 0.012011285, 0.012886375, 0.015947044, 0.011195133, 0.01818387, 0.01203933, 0.015726663, 0.01194733, 0.014925214, 0.01332989, 0.014943171, 0.013637272, 0.011622646, 0.013443668, 0.013650935, 0.015915267, 0.011428526, 0.011577385, 0.014170819, 0.01411307, 0.0148161575, 0.0133648915, 0.015096821, 0.0130325435, 0.01571947, 0.012779712, 0.011296442, 0.013062209, 0.013480144, 0.015870934, 0.014201809, 0.012836415, 0.012138537, 0.0116283335, 0.014973633, 0.012624172, 0.0136182895, 0.011048315, 0.015101302, 0.011682703, 0.014746132, 0.018556152, 0.011561028, 0.016135307, 0.015038672, 0.015951551, 0.018633356, 0.015732862, 0.013278963, 0.016613163, 0.01406698, 0.012919324, 0.0144191235, 0.013247669, 0.011820796, 0.014956371, 0.015081661, 0.013591388, 0.014418306, 0.012485387, 0.011992151, 0.011225114, 0.015169204, 0.013372815]\n",
      "2022-02-20 13:07:51,620 : INFO : merging changes from 1204 documents into a model of 3204 documents\n",
      "2022-02-20 13:07:51,629 : INFO : topic #35 (0.011): 0.145*\"word\" + 0.096*\"item\" + 0.077*\",\" + 0.061*\"nonlinear\" + 0.045*\"boundari\" + 0.029*\"sens\" + 0.029*\"-\" + 0.026*\"wave\" + 0.021*\"explor\" + 0.019*\"longer\"\n",
      "2022-02-20 13:07:51,630 : INFO : topic #20 (0.011): 0.171*\"page\" + 0.071*\"preced\" + 0.057*\"algorithm\" + 0.052*\"relat\" + 0.051*\",\" + 0.028*\"modif\" + 0.027*\"typic\" + 0.025*\"size\" + 0.025*\"exact\" + 0.024*\"shown\"\n",
      "2022-02-20 13:07:51,630 : INFO : topic #15 (0.021): 0.296*\"data\" + 0.061*\"system\" + 0.046*\"base\" + 0.040*\",\" + 0.038*\"organ\" + 0.037*\"structur\" + 0.031*\"process\" + 0.023*\"design\" + 0.023*\"larg\" + 0.019*\"relat\"\n",
      "2022-02-20 13:07:51,630 : INFO : topic #31 (0.021): 0.437*\"function\" + 0.179*\"]\" + 0.160*\"[\" + 0.044*\"algorithm\" + 0.026*\"gamma\" + 0.024*\"'\" + 0.023*\"s14\" + 0.016*\"equival\" + 0.014*\"certif\" + 0.010*\"class\"\n",
      "2022-02-20 13:07:51,632 : INFO : topic #30 (0.090): 0.441*\"(\" + 0.385*\")\" + 0.166*\"algorithm\" + 0.004*\"integ\" + 0.000*\"problem\" + 0.000*\"program\" + 0.000*\"$\" + 0.000*\"stage\" + 0.000*\"adapt\" + 0.000*\"polygon\"\n",
      "2022-02-20 13:07:51,633 : INFO : topic diff=0.151948, rho=0.215156\n"
     ]
    },
    {
     "data": {
      "text/plain": [
       "[(0, 0.0051129223),\n",
       " (1, 0.40765792),\n",
       " (2, 0.006177179),\n",
       " (3, 0.0047961962),\n",
       " (4, 0.005879725),\n",
       " (5, 0.0061633885),\n",
       " (6, 0.0057930457),\n",
       " (7, 0.004794092),\n",
       " (8, 0.0050148964),\n",
       " (9, 0.0069265235),\n",
       " (10, 0.005820945),\n",
       " (11, 0.006792136),\n",
       " (12, 0.006298336),\n",
       " (13, 0.0048845364),\n",
       " (14, 0.004969497),\n",
       " (15, 0.008437127),\n",
       " (16, 0.005681129),\n",
       " (17, 0.006254725),\n",
       " (18, 0.007986432),\n",
       " (19, 0.005683266),\n",
       " (20, 0.004446857),\n",
       " (21, 0.0055770143),\n",
       " (22, 0.0057784296),\n",
       " (23, 0.005776975),\n",
       " (24, 0.007124392),\n",
       " (25, 0.0062706294),\n",
       " (26, 0.0057235425),\n",
       " (27, 0.005365979),\n",
       " (28, 0.005719634),\n",
       " (29, 0.006915177),\n",
       " (30, 0.036183506),\n",
       " (31, 0.0085814865),\n",
       " (32, 0.0048303236),\n",
       " (33, 0.0051285066),\n",
       " (34, 0.005122709),\n",
       " (35, 0.004444376),\n",
       " (36, 0.0048242235),\n",
       " (37, 0.0051756958),\n",
       " (38, 0.006404985),\n",
       " (39, 0.0044964235),\n",
       " (40, 0.0073033865),\n",
       " (41, 0.0048354873),\n",
       " (42, 0.0063164714),\n",
       " (43, 0.0047985367),\n",
       " (44, 0.005994577),\n",
       " (45, 0.0053538294),\n",
       " (46, 0.006001789),\n",
       " (47, 0.0054772864),\n",
       " (48, 0.00466813),\n",
       " (49, 0.0053995275),\n",
       " (50, 0.005482774),\n",
       " (51, 0.0063922224),\n",
       " (52, 0.0045901635),\n",
       " (53, 0.0046499516),\n",
       " (54, 0.005691581),\n",
       " (55, 0.005668387),\n",
       " (56, 0.005950775),\n",
       " (57, 0.005367887),\n",
       " (58, 0.006063501),\n",
       " (59, 0.0052344026),\n",
       " (60, 0.0063135824),\n",
       " (61, 0.0051328554),\n",
       " (62, 0.0045371135),\n",
       " (63, 0.0052463175),\n",
       " (64, 0.005414177),\n",
       " (65, 0.006374417),\n",
       " (66, 0.0057040276),\n",
       " (67, 0.0051556295),\n",
       " (68, 0.004875333),\n",
       " (69, 0.0046704146),\n",
       " (70, 0.006014024),\n",
       " (71, 0.0050703837),\n",
       " (72, 0.005469662),\n",
       " (73, 0.0044374554),\n",
       " (74, 0.006065301),\n",
       " (75, 0.004692252),\n",
       " (76, 0.00592265),\n",
       " (77, 0.00745291),\n",
       " (78, 0.004643382),\n",
       " (79, 0.0064805998),\n",
       " (80, 0.006040146),\n",
       " (81, 0.0064067957),\n",
       " (82, 0.007483918),\n",
       " (83, 0.0063189613),\n",
       " (84, 0.0053333747),\n",
       " (85, 0.0066725262),\n",
       " (86, 0.005649875),\n",
       " (87, 0.0051889294),\n",
       " (88, 0.00579131),\n",
       " (89, 0.005320806),\n",
       " (90, 0.0047477153),\n",
       " (91, 0.0060070907),\n",
       " (92, 0.0060574124),\n",
       " (93, 0.005458858),\n",
       " (94, 0.0057909815),\n",
       " (95, 0.005014642),\n",
       " (96, 0.0048165387),\n",
       " (97, 0.004508465),\n",
       " (98, 0.006092573),\n",
       " (99, 0.00537107)]"
      ]
     },
     "execution_count": 129,
     "metadata": {},
     "output_type": "execute_result"
    }
   ],
   "source": [
    "##### Function check\n",
    "lda = LdaRetrievalModel(doc_repr_2)\n",
    "lda.train_model()\n",
    "\n",
    "# you can now get an LDA vector for a given query in the following way:\n",
    "lda.vectorize_query(\"report\")\n",
    "##### "
   ]
  },
  {
   "cell_type": "markdown",
   "metadata": {
    "deletable": false,
    "editable": false,
    "nbgrader": {
     "cell_type": "markdown",
     "checksum": "32d83b6ea79ca3ddb789a7f8805a1b25",
     "grade": false,
     "grade_id": "cell-0e24b727d5908c0e",
     "locked": true,
     "points": 5,
     "schema_version": 3,
     "solution": false,
     "task": true
    }
   },
   "source": [
    "\\#### Please do not change this. This cell is used for grading."
   ]
  },
  {
   "cell_type": "markdown",
   "metadata": {
    "deletable": false,
    "editable": false,
    "nbgrader": {
     "cell_type": "markdown",
     "checksum": "114a934f0b9ce696e6cf09d3b8da6a3d",
     "grade": false,
     "grade_id": "cell-b1bffcb970b18aeb",
     "locked": true,
     "schema_version": 3,
     "solution": false,
     "task": false
    }
   },
   "source": [
    "---\n",
    "Now we can use the `DenseRetrievalModel` class to obtain an LDA search function.\n",
    "You can test your LDA model in the following cell: Try finding queries which are lexically different to documents, but semantically similar - does LDA work well for these queries?!"
   ]
  },
  {
   "cell_type": "code",
   "execution_count": 130,
   "metadata": {},
   "outputs": [
    {
     "data": {
      "application/vnd.jupyter.widget-view+json": {
       "model_id": "1e8624cc979f4e488ff7f5b53e44f732",
       "version_major": 2,
       "version_minor": 0
      },
      "text/plain": [
       "Text(value='', description='Search Bar')"
      ]
     },
     "metadata": {},
     "output_type": "display_data"
    },
    {
     "name": "stdout",
     "output_type": "stream",
     "text": [
      "Searching for: 'lead' (SEARCH FN: <bound method DenseRetrievalRanker.search of <__main__.DenseRetrievalRanker object at 0x0000027BE23D4AC8>>)\n"
     ]
    },
    {
     "data": {
      "text/html": [
       "<ul><li>Document #2671(0.876631514634937): A Note on a Combinatorial Problem of Burnett and Coffman\n",
       "</li><li>Document #749(0.8558439119660761): Note onStochastic Matrices\n",
       "</li><li>Document #948(0.8553958278498612): Note on the Use of Procedures \n",
       "</li><li>Document #2022(0.8522579252894502): Note on an Anomaly in Paging\n",
       "</li><li>Document #235(0.7917538155452348): Two Think Pieces\n",
       "</li></ul>"
      ],
      "text/plain": [
       "<IPython.core.display.HTML object>"
      ]
     },
     "metadata": {},
     "output_type": "display_data"
    }
   ],
   "source": [
    "drm_lda = DenseRetrievalRanker(lda, jenson_shannon_sim)\n",
    "\n",
    "# test your LDA model\n",
    "search_fn = drm_lda.search\n",
    "\n",
    "text = widgets.Text(description=\"Search Bar\", width=200)\n",
    "display(text)\n",
    "\n",
    "\n",
    "text.on_submit(handle_submit_2)"
   ]
  },
  {
   "cell_type": "markdown",
   "metadata": {
    "deletable": false,
    "editable": false,
    "nbgrader": {
     "cell_type": "markdown",
     "checksum": "9d7f15863b655119b45f4d89354e5661",
     "grade": false,
     "grade_id": "cell-190cd0854b2791cc",
     "locked": true,
     "schema_version": 3,
     "solution": false,
     "task": false
    }
   },
   "source": [
    "## Section 8: Word2Vec/Doc2Vec (20 points) <a class=\"anchor\" id=\"2vec\"></a>\n",
    "\n",
    "[Back to Part 2](#part2)\n",
    "\n",
    "We will implement two other methods here, the Word2Vec model and the Doc2Vec model, also using `gensim`. Word2Vec creates representations of words, not documents, so the word level vectors need to be aggregated to obtain a representation for the document. Here, we will simply take the mean of the vectors. \n",
    "\n",
    "\n",
    "A drawback of these models is that they need a lot of training data. Our dataset is tiny, so in addition to using a model trained on the data, we will also use a pre-trained model for Word2Vec (this will be automatically downloaded).     \n",
    "\n",
    "*Note*:\n",
    "1. The code in vectorize_documents / vectorize_query should return gensim-like vectors i.e `[(dim, val), .. (dim, val)]`. \n",
    "2. For Word2Vec: You should also handle the following two cases: (a) A word in the query is not present in the vocabulary of the model and (b) none of the words in the query are present in the model - you can return 0 scores for all documents in this case. For either of these, you can check if a `word` is present in the vocab by using `word in self.model`\n"
   ]
  },
  {
   "cell_type": "code",
   "execution_count": null,
   "metadata": {
    "deletable": false,
    "nbgrader": {
     "cell_type": "code",
     "checksum": "83ab733608ed14c29c09b36b4e1b6daa",
     "grade": false,
     "grade_id": "cell-2b73759f9baf688f",
     "locked": false,
     "schema_version": 3,
     "solution": true,
     "task": false
    }
   },
   "outputs": [],
   "source": [
    "# TODO: Implement this! (10 points)\n",
    "class W2VRetrievalModel(VectorSpaceRetrievalModel):\n",
    "    def __init__(self, doc_repr):\n",
    "        super().__init__(doc_repr)\n",
    "        \n",
    "        # the dimensionality of the vectors\n",
    "        self.size = 100 \n",
    "        self.min_count = 1\n",
    "    \n",
    "    def train_model(self):\n",
    "        \"\"\"\n",
    "        Trains the W2V model\n",
    "        \"\"\"\n",
    "        # YOUR CODE HERE\n",
    "    \n",
    "        \n",
    "    def vectorize_documents(self):\n",
    "        \"\"\"\n",
    "            Returns a doc_id -> vector dictionary\n",
    "        \"\"\"\n",
    "        # YOUR CODE HERE\n",
    "\n",
    "    def vectorize_query(self, query):\n",
    "        \"\"\"\n",
    "        Vectorizes the query using the W2V model\n",
    "        \"\"\"\n",
    "        query = process_text(query, **config_2)\n",
    "        \n",
    "        # YOUR CODE HERE\n",
    "    \n",
    "    \n",
    "class W2VPretrainedRetrievalModel(W2VRetrievalModel):\n",
    "    def __init__(self, doc_repr):\n",
    "        super().__init__(doc_repr)\n",
    "        self.model_name = \"word2vec-google-news-300\"\n",
    "        self.size = 300\n",
    "    \n",
    "    def train_model(self):\n",
    "        \"\"\"\n",
    "        Loads the pretrained model\n",
    "        \"\"\"\n",
    "        self.model = g_downloader.load(self.model_name)\n",
    "\n",
    "w2v = W2VRetrievalModel(doc_repr_2)\n",
    "w2v.train_model()\n",
    "\n",
    "# you can now get a W2V vector for a given query in the following way:\n",
    "w2v.vectorize_query(\"report\")"
   ]
  },
  {
   "cell_type": "code",
   "execution_count": null,
   "metadata": {
    "deletable": false,
    "editable": false,
    "nbgrader": {
     "cell_type": "code",
     "checksum": "f92b5c5a8c6c4b80652b94223209ab0b",
     "grade": true,
     "grade_id": "cell-b31c0f8d214b8bdf",
     "locked": true,
     "points": 0,
     "schema_version": 3,
     "solution": false,
     "task": false
    }
   },
   "outputs": [],
   "source": [
    "assert len(w2v.vectorize_query(\"report\")) == 100\n",
    "assert len(w2v.vectorize_query(\"this is a sentence that is not mellifluous\")) == 100\n"
   ]
  },
  {
   "cell_type": "markdown",
   "metadata": {
    "deletable": false,
    "editable": false,
    "nbgrader": {
     "cell_type": "markdown",
     "checksum": "8dfaabebcb06f308a7ca61fdc5d369e7",
     "grade": false,
     "grade_id": "cell-c2614fa067386384",
     "locked": true,
     "points": 8,
     "schema_version": 3,
     "solution": false,
     "task": true
    }
   },
   "source": [
    "\\#### Please do not change this. This cell is used for grading."
   ]
  },
  {
   "cell_type": "code",
   "execution_count": null,
   "metadata": {},
   "outputs": [],
   "source": [
    "w2v_pretrained = W2VPretrainedRetrievalModel(doc_repr_2)\n",
    "w2v_pretrained.train_model()\n",
    "\n",
    "# you can now get an W2V vector for a given query in the following way:\n",
    "w2v_pretrained.vectorize_query(\"report\")"
   ]
  },
  {
   "cell_type": "code",
   "execution_count": null,
   "metadata": {
    "deletable": false,
    "editable": false,
    "nbgrader": {
     "cell_type": "code",
     "checksum": "0822845afb5eafe5ddb1ffeaa4f4942a",
     "grade": true,
     "grade_id": "cell-1b1466f8ce516f42",
     "locked": true,
     "points": 2,
     "schema_version": 3,
     "solution": false,
     "task": false
    }
   },
   "outputs": [],
   "source": [
    "##### Function check\n",
    "\n",
    "print(len(w2v_pretrained.vectorize_query(\"report\")))\n",
    "#####"
   ]
  },
  {
   "cell_type": "code",
   "execution_count": null,
   "metadata": {},
   "outputs": [],
   "source": [
    "drm_w2v = DenseRetrievalRanker(w2v, cosine_sim)\n",
    "\n",
    "# test your LDA model\n",
    "search_fn = drm_w2v.search\n",
    "\n",
    "text = widgets.Text(description=\"Search Bar\", width=200)\n",
    "display(text)\n",
    "\n",
    "\n",
    "text.on_submit(handle_submit_2)"
   ]
  },
  {
   "cell_type": "code",
   "execution_count": null,
   "metadata": {},
   "outputs": [],
   "source": [
    "drm_w2v_pretrained = DenseRetrievalRanker(w2v_pretrained, cosine_sim)\n",
    "\n",
    "# test your LDA model\n",
    "search_fn = drm_w2v_pretrained.search\n",
    "\n",
    "text = widgets.Text(description=\"Search Bar\", width=200)\n",
    "display(text)\n",
    "\n",
    "\n",
    "text.on_submit(handle_submit_2)"
   ]
  },
  {
   "cell_type": "markdown",
   "metadata": {
    "deletable": false,
    "editable": false,
    "nbgrader": {
     "cell_type": "markdown",
     "checksum": "51b778984fd60757974f51047c61eb15",
     "grade": false,
     "grade_id": "cell-b92f701cbc706108",
     "locked": true,
     "schema_version": 3,
     "solution": false,
     "task": false
    }
   },
   "source": [
    "**Implementation (10 points):**\n",
    "For Doc2Vec, you will need to create a list of `TaggedDocument` instead of using the `self.corpus` or `self.documents` variable. Use the document id as the 'tag'.\n",
    "  "
   ]
  },
  {
   "cell_type": "code",
   "execution_count": null,
   "metadata": {
    "deletable": false,
    "nbgrader": {
     "cell_type": "code",
     "checksum": "1f60fdeb97febb7f4a6fd5bf109aac20",
     "grade": false,
     "grade_id": "cell-680facdcc98a19ab",
     "locked": false,
     "schema_version": 3,
     "solution": true,
     "task": false
    }
   },
   "outputs": [],
   "source": [
    "# TODO: Implement this! (10 points)\n",
    "class D2VRetrievalModel(VectorSpaceRetrievalModel):\n",
    "    def __init__(self, doc_repr):\n",
    "        super().__init__(doc_repr)\n",
    "        \n",
    "        self.vector_size= 100\n",
    "        self.min_count = 1\n",
    "        self.epochs = 20\n",
    "        \n",
    "        # YOUR CODE HERE\n",
    "        \n",
    "    def train_model(self):\n",
    "        # YOUR CODE HERE\n",
    "    \n",
    "    def vectorize_documents(self):\n",
    "        \"\"\"\n",
    "            Returns a doc_id -> vector dictionary\n",
    "        \"\"\"\n",
    "        # YOUR CODE HERE\n",
    "\n",
    "    def vectorize_query(self, query):\n",
    "        # YOUR CODE HERE\n",
    "        raise NotImplementedError()\n",
    "        \n",
    "d2v = D2VRetrievalModel(doc_repr_2)\n",
    "d2v.train_model()\n",
    "\n",
    "\n",
    "# # you can now get an LSI vector for a given query in the following way:\n",
    "d2v.vectorize_query(\"report\")"
   ]
  },
  {
   "cell_type": "code",
   "execution_count": null,
   "metadata": {
    "deletable": false,
    "editable": false,
    "nbgrader": {
     "cell_type": "code",
     "checksum": "e83a363a9d4f136efbdde1426a83925e",
     "grade": true,
     "grade_id": "cell-5e2c5e0c9a2e8cb5",
     "locked": true,
     "points": 0,
     "schema_version": 3,
     "solution": false,
     "task": false
    }
   },
   "outputs": [],
   "source": [
    "#### Please do not change this. This cell is used for grading."
   ]
  },
  {
   "cell_type": "markdown",
   "metadata": {
    "deletable": false,
    "editable": false,
    "nbgrader": {
     "cell_type": "markdown",
     "checksum": "5bb46bf6b9be1e0ca66f0b0bc6260ecb",
     "grade": false,
     "grade_id": "cell-8a49d414f798a595",
     "locked": true,
     "points": 10,
     "schema_version": 3,
     "solution": false,
     "task": true
    }
   },
   "source": [
    "\\#### Please do not change this. This cell is used for grading."
   ]
  },
  {
   "cell_type": "code",
   "execution_count": null,
   "metadata": {},
   "outputs": [],
   "source": [
    "drm_d2v = DenseRetrievalRanker(d2v, cosine_sim)\n",
    "\n",
    "# test your LDA model\n",
    "search_fn = drm_d2v.search\n",
    "\n",
    "text = widgets.Text(description=\"Search Bar\", width=200)\n",
    "display(text)\n",
    "\n",
    "\n",
    "text.on_submit(handle_submit_2)"
   ]
  },
  {
   "cell_type": "markdown",
   "metadata": {
    "deletable": false,
    "editable": false,
    "nbgrader": {
     "cell_type": "markdown",
     "checksum": "363ec36c1d03d9f9e1c2045a6e193c14",
     "grade": false,
     "grade_id": "cell-3529ae29eece7b97",
     "locked": true,
     "schema_version": 3,
     "solution": false,
     "task": false
    }
   },
   "source": [
    "---\n",
    "## Section 9: Re-ranking (10 points) <a class=\"anchor\" id=\"reranking\"></a>\n",
    "\n",
    "[Back to Part 2](#part2)\n",
    "\n",
    "To motivate the re-ranking perspective (i.e retrieve with lexical method + rerank with a semantic method), let's search using semantic methods and compare it to BM25's performance, along with their runtime:\n"
   ]
  },
  {
   "cell_type": "code",
   "execution_count": null,
   "metadata": {
    "deletable": false,
    "editable": false,
    "nbgrader": {
     "cell_type": "code",
     "checksum": "5755f70e3eb28abc65d14d80125338af",
     "grade": false,
     "grade_id": "cell-f8f43bf5ae383128",
     "locked": true,
     "schema_version": 3,
     "solution": false,
     "task": false
    }
   },
   "outputs": [],
   "source": [
    "query = \"algebraic functions\"\n",
    "print(\"BM25: \")\n",
    "%timeit bm25_search(query, 2)\n",
    "print(\"LSI: \")\n",
    "%timeit drm_lsi.search(query)\n",
    "print(\"LDA: \")\n",
    "%timeit drm_lda.search(query)\n",
    "print(\"W2V: \")\n",
    "%timeit drm_w2v.search(query)\n",
    "print(\"W2V(Pretrained): \")\n",
    "%timeit drm_w2v_pretrained.search(query)\n",
    "print(\"D2V:\")\n",
    "%timeit drm_d2v.search(query)"
   ]
  },
  {
   "cell_type": "markdown",
   "metadata": {
    "deletable": false,
    "editable": false,
    "nbgrader": {
     "cell_type": "markdown",
     "checksum": "ae398da0a8c23c95bcbb0023b7ec6f34",
     "grade": false,
     "grade_id": "cell-db5ff09f97841af7",
     "locked": true,
     "schema_version": 3,
     "solution": false,
     "task": false
    }
   },
   "source": [
    "---\n",
    "\n",
    "**Implementation (10 points):**\n",
    "Re-ranking involves retrieving a small set of documents using simple but fast methods like BM25 and then re-ranking them with the aid of semantic methods such as LDA or LSI. Implement the following class, which takes in an `initial_retrieval_fn` - the initial retrieval function and `vsrm` - an instance of the `VectorSpaceRetrievalModel` class (i.e LSI/LDA) as input. The search function should first retrieve an initial list of K documents, and then these documents are re-ranked using a semantic method. This not only makes retrieval faster, but semantic methods perform poorly when used in isolation, as you will find out."
   ]
  },
  {
   "cell_type": "code",
   "execution_count": null,
   "metadata": {
    "deletable": false,
    "nbgrader": {
     "cell_type": "code",
     "checksum": "63b6b05a676a2ae3f08d8bed1bc59428",
     "grade": false,
     "grade_id": "cell-5bf47600d1a0c507",
     "locked": false,
     "schema_version": 3,
     "solution": true,
     "task": false
    }
   },
   "outputs": [],
   "source": [
    "# TODO: Implement this! (10 points)\n",
    "class DenseRerankingModel:\n",
    "    def __init__(self, initial_retrieval_fn, vsrm, similarity_fn):\n",
    "        \"\"\"\n",
    "            initial_retrieval_fn: takes in a query and returns a list of [(doc_id, score)] (sorted)\n",
    "            vsrm: instance of `VectorSpaceRetrievalModel`\n",
    "            similarity_fn: function instance that takes in two vectors \n",
    "                            and returns a similarity score e.g cosine_sim defined earlier\n",
    "        \"\"\"\n",
    "        self.ret = initial_retrieval_fn\n",
    "        self.vsrm = vsrm\n",
    "        self.similarity_fn = similarity_fn\n",
    "        self.vectorized_documents = vsrm.vectorize_documents()\n",
    "        \n",
    "        assert len(self.vectorized_documents) == len(doc_repr_2)\n",
    "    \n",
    "    def search(self, query, K=50):\n",
    "        \"\"\"\n",
    "            First, retrieve the top K results using the retrieval function\n",
    "            Then, re-rank the results using the VSRM instance\n",
    "        \"\"\"\n",
    "        # YOUR CODE HERE"
   ]
  },
  {
   "cell_type": "code",
   "execution_count": null,
   "metadata": {
    "deletable": false,
    "editable": false,
    "nbgrader": {
     "cell_type": "code",
     "checksum": "334ab5af96976265cace682ab82a7387",
     "grade": true,
     "grade_id": "cell-52c6d18a4c0b4882",
     "locked": true,
     "points": 0,
     "schema_version": 3,
     "solution": false,
     "task": false
    }
   },
   "outputs": [],
   "source": [
    "##### Function check\n",
    "bm25_search_2 = partial(bm25_search, index_set=2)\n",
    "lsi_rerank = DenseRerankingModel(bm25_search_2, lsi, cosine_sim)\n",
    "lda_rerank = DenseRerankingModel(bm25_search_2, lda, jenson_shannon_sim)\n",
    "w2v_rerank = DenseRerankingModel(bm25_search_2, w2v, cosine_sim)\n",
    "w2v_pretrained_rerank = DenseRerankingModel(bm25_search_2, w2v_pretrained, cosine_sim)\n",
    "d2v_rerank = DenseRerankingModel(bm25_search_2, d2v, cosine_sim)\n",
    "\n",
    "##### "
   ]
  },
  {
   "cell_type": "markdown",
   "metadata": {
    "deletable": false,
    "editable": false,
    "nbgrader": {
     "cell_type": "markdown",
     "checksum": "bd904253f45f84e63bab3a69729058fc",
     "grade": false,
     "grade_id": "cell-93215dfe6bcf7cff",
     "locked": true,
     "points": 10,
     "schema_version": 3,
     "solution": false,
     "task": true
    }
   },
   "source": [
    "\\#### Please do not change this. This cell is used for grading."
   ]
  },
  {
   "cell_type": "markdown",
   "metadata": {
    "deletable": false,
    "editable": false,
    "nbgrader": {
     "cell_type": "markdown",
     "checksum": "b592e60292bfe3d9ef2930a354c4077a",
     "grade": false,
     "grade_id": "cell-aa694ff55fa91e7d",
     "locked": true,
     "schema_version": 3,
     "solution": false,
     "task": false
    }
   },
   "source": [
    "---\n",
    "Now, let us time the new search functions:"
   ]
  },
  {
   "cell_type": "code",
   "execution_count": null,
   "metadata": {
    "deletable": false,
    "editable": false,
    "nbgrader": {
     "cell_type": "code",
     "checksum": "338c7e3528cba266a865a061287c0e38",
     "grade": false,
     "grade_id": "cell-5edbd481562ad91f",
     "locked": true,
     "schema_version": 3,
     "solution": false,
     "task": false
    }
   },
   "outputs": [],
   "source": [
    "query = \"algebraic functions\"\n",
    "print(\"BM25: \")\n",
    "%timeit bm25_search(query, 2)\n",
    "print(\"LSI: \")\n",
    "%timeit lsi_rerank.search(query)\n",
    "print(\"LDA: \")\n",
    "%timeit lda_rerank.search(query)\n",
    "print(\"W2V: \")\n",
    "%timeit w2v_rerank.search(query)\n",
    "print(\"W2V(Pretrained): \")\n",
    "%timeit w2v_pretrained_rerank.search(query)\n",
    "print(\"D2V:\")\n",
    "%timeit d2v_rerank.search(query)"
   ]
  },
  {
   "cell_type": "markdown",
   "metadata": {
    "deletable": false,
    "editable": false,
    "nbgrader": {
     "cell_type": "markdown",
     "checksum": "c45c5e3f015b2de89d9d39ae3766368b",
     "grade": false,
     "grade_id": "cell-85c50f2ab9eec301",
     "locked": true,
     "schema_version": 3,
     "solution": false,
     "task": false
    }
   },
   "source": [
    "---\n",
    "As you can see, it is much faster (but BM25 is still orders of magnitude faster)."
   ]
  },
  {
   "cell_type": "markdown",
   "metadata": {
    "deletable": false,
    "editable": false,
    "nbgrader": {
     "cell_type": "markdown",
     "checksum": "1e2f3388e3807659f303fe31a75a010e",
     "grade": false,
     "grade_id": "cell-5071bb99b2af61cb",
     "locked": true,
     "schema_version": 3,
     "solution": false,
     "task": false
    }
   },
   "source": [
    "---\n",
    "## Section 10: Evaluation & Analysis (30 points) <a class=\"anchor\" id=\"reranking_eval\"></a>\n",
    "\n",
    "[Back to Part 2](#part2)\n",
    "\n",
    "[Previously](#evaluation) we have implemented some evaluation metrics and used them for measuring the ranking performance of term-based IR algorithms. In this section, we will do the same for semantic methods, both with and without re-ranking.\n",
    "\n",
    "### Section 10.1: Plot (10 points)\n",
    "\n",
    "First, gather the results. The results should consider the index set, the different search functions and different metrics. Plot the results in bar charts, per metric, with clear labels.\n",
    "\n",
    "Then, gather only the re-ranking models, and plot and compare them with the results obtained in part 1 (only index set 2)."
   ]
  },
  {
   "cell_type": "code",
   "execution_count": null,
   "metadata": {
    "deletable": false,
    "editable": false,
    "nbgrader": {
     "cell_type": "code",
     "checksum": "4fe81520ac6413a803838913fd64de03",
     "grade": false,
     "grade_id": "cell-b672fe6dfae0b1ce",
     "locked": true,
     "schema_version": 3,
     "solution": false,
     "task": false
    }
   },
   "outputs": [],
   "source": [
    "list_of_sem_search_fns = [\n",
    "    (\"lda\", drm_lda.search),\n",
    "    (\"lsi\", drm_lsi.search),\n",
    "    (\"w2v\", drm_w2v.search),\n",
    "    (\"w2v_pretrained\", drm_w2v_pretrained.search),\n",
    "    (\"d2v\", drm_d2v.search),\n",
    "    (\"lsi_rr\", lsi_rerank.search),\n",
    "    (\"lda_rr\", lda_rerank.search),\n",
    "    (\"w2v_rr\", w2v_rerank.search),\n",
    "    (\"w2v_pretrained_rr\", w2v_pretrained_rerank.search),\n",
    "    (\"d2v_rr\", d2v_rerank.search),\n",
    "    \n",
    "]"
   ]
  },
  {
   "cell_type": "code",
   "execution_count": null,
   "metadata": {
    "deletable": false,
    "nbgrader": {
     "cell_type": "code",
     "checksum": "54707c4afac084299aeefa047259b4a9",
     "grade": true,
     "grade_id": "cell-7dd8273b0f5a3c22",
     "locked": false,
     "points": 10,
     "schema_version": 3,
     "solution": true,
     "task": false
    }
   },
   "outputs": [],
   "source": [
    "# YOUR CODE HERE\n",
    "raise NotImplementedError()"
   ]
  },
  {
   "cell_type": "markdown",
   "metadata": {
    "deletable": false,
    "editable": false,
    "nbgrader": {
     "cell_type": "markdown",
     "checksum": "a8a3b6189bdde66704c694d85e38d049",
     "grade": false,
     "grade_id": "cell-deb2ef3daa306e82",
     "locked": true,
     "schema_version": 3,
     "solution": false,
     "task": false
    }
   },
   "source": [
    "### Section 10.2: Summary (20 points)\n",
    "\n",
    "Your summary should compare methods from Part 1 and Part 2 (only for index set 2). State what you expected to see in the results, followed by either supporting evidence *or* justify why the results did not support your expectations. Consider the availability of data, scalability, domain/type of data, etc."
   ]
  },
  {
   "cell_type": "markdown",
   "metadata": {
    "deletable": false,
    "nbgrader": {
     "cell_type": "markdown",
     "checksum": "ff97c43837d10bff6aaffa75e1492887",
     "grade": true,
     "grade_id": "cell-ec5dd7d9cf59dd86",
     "locked": false,
     "points": 20,
     "schema_version": 3,
     "solution": true,
     "task": false
    }
   },
   "source": [
    "YOUR ANSWER HERE"
   ]
  }
 ],
 "metadata": {
  "kernelspec": {
   "display_name": "Python 3",
   "language": "python",
   "name": "python3"
  },
  "language_info": {
   "codemirror_mode": {
    "name": "ipython",
    "version": 3
   },
   "file_extension": ".py",
   "mimetype": "text/x-python",
   "name": "python",
   "nbconvert_exporter": "python",
   "pygments_lexer": "ipython3",
   "version": "3.6.5"
  },
  "toc": {
   "base_numbering": 1,
   "nav_menu": {},
   "number_sections": true,
   "sideBar": true,
   "skip_h1_title": false,
   "title_cell": "Table of Contents",
   "title_sidebar": "Contents",
   "toc_cell": false,
   "toc_position": {},
   "toc_section_display": true,
   "toc_window_display": false
  }
 },
 "nbformat": 4,
 "nbformat_minor": 4
}
